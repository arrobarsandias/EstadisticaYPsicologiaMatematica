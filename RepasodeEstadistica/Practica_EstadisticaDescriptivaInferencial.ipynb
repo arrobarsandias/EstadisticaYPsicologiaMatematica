{
 "cells": [
  {
   "cell_type": "markdown",
   "metadata": {},
   "source": [
    "# Práctica: Estadística descriptiva e inferencial\n",
    "\n",
    ">Este práctica es una adaptación del material desarrollado por el profesor Álex Dávila en el semestre 2019-1. \n",
    "\n",
    "Eres un asistente de investigación en el Laboratorio de Psicología de la PUCP. Se te ha asignado analizar los datos de un experimento piloto que consiste en medir los tiempos de reacción frente a un grupo de estímulos de figuras geométricas (triángulo, cuadrado y pentágono), los cuales son mostrados en dos niveles de contraste (opaco y brillante). A continuación se presentan los datos recolectados:"
   ]
  },
  {
   "cell_type": "code",
   "execution_count": 1,
   "metadata": {},
   "outputs": [
    {
     "data": {
      "text/html": [
       "<div>\n",
       "<style scoped>\n",
       "    .dataframe tbody tr th:only-of-type {\n",
       "        vertical-align: middle;\n",
       "    }\n",
       "\n",
       "    .dataframe tbody tr th {\n",
       "        vertical-align: top;\n",
       "    }\n",
       "\n",
       "    .dataframe thead th {\n",
       "        text-align: right;\n",
       "    }\n",
       "</style>\n",
       "<table border=\"1\" class=\"dataframe\">\n",
       "  <thead>\n",
       "    <tr style=\"text-align: right;\">\n",
       "      <th></th>\n",
       "      <th>TrianguloBrillante</th>\n",
       "      <th>TrianguloOpaco</th>\n",
       "      <th>CuadradoBrillante</th>\n",
       "      <th>CuadradoOpaco</th>\n",
       "      <th>PentagonoBrillante</th>\n",
       "      <th>PentagonoOpaco</th>\n",
       "    </tr>\n",
       "  </thead>\n",
       "  <tbody>\n",
       "    <tr>\n",
       "      <th>0</th>\n",
       "      <td>258</td>\n",
       "      <td>290</td>\n",
       "      <td>242</td>\n",
       "      <td>295</td>\n",
       "      <td>250</td>\n",
       "      <td>310</td>\n",
       "    </tr>\n",
       "    <tr>\n",
       "      <th>1</th>\n",
       "      <td>241</td>\n",
       "      <td>283</td>\n",
       "      <td>242</td>\n",
       "      <td>297</td>\n",
       "      <td>259</td>\n",
       "      <td>313</td>\n",
       "    </tr>\n",
       "    <tr>\n",
       "      <th>2</th>\n",
       "      <td>260</td>\n",
       "      <td>300</td>\n",
       "      <td>240</td>\n",
       "      <td>297</td>\n",
       "      <td>250</td>\n",
       "      <td>313</td>\n",
       "    </tr>\n",
       "    <tr>\n",
       "      <th>3</th>\n",
       "      <td>251</td>\n",
       "      <td>291</td>\n",
       "      <td>244</td>\n",
       "      <td>292</td>\n",
       "      <td>252</td>\n",
       "      <td>308</td>\n",
       "    </tr>\n",
       "    <tr>\n",
       "      <th>4</th>\n",
       "      <td>259</td>\n",
       "      <td>291</td>\n",
       "      <td>240</td>\n",
       "      <td>287</td>\n",
       "      <td>270</td>\n",
       "      <td>307</td>\n",
       "    </tr>\n",
       "  </tbody>\n",
       "</table>\n",
       "</div>"
      ],
      "text/plain": [
       "   TrianguloBrillante  TrianguloOpaco  CuadradoBrillante  CuadradoOpaco  \\\n",
       "0                 258             290                242            295   \n",
       "1                 241             283                242            297   \n",
       "2                 260             300                240            297   \n",
       "3                 251             291                244            292   \n",
       "4                 259             291                240            287   \n",
       "\n",
       "   PentagonoBrillante  PentagonoOpaco  \n",
       "0                 250             310  \n",
       "1                 259             313  \n",
       "2                 250             313  \n",
       "3                 252             308  \n",
       "4                 270             307  "
      ]
     },
     "execution_count": 1,
     "metadata": {},
     "output_type": "execute_result"
    }
   ],
   "source": [
    "# Cargamos los datos del experimento\n",
    "import pandas as pd\n",
    "\n",
    "exp = pd.read_csv(\n",
    "    \"https://raw.githubusercontent.com/renatoparedes/EstadisticaYPsicologiaMatematica/main/RepasodeEstadistica/ExpA.csv\"\n",
    ")\n",
    "exp.drop(columns=[\"Participante\"], inplace=True)\n",
    "exp.head()"
   ]
  },
  {
   "cell_type": "markdown",
   "metadata": {},
   "source": [
    "## Ejercicio 1\n",
    "\n",
    "- Crea una visualización de los datos que permita comparar las diferentes condiciones experimentales. \n",
    ">Sugerencia: Utiliza la función `swarmplot()` disponible en el paquete seaborn."
   ]
  },
  {
   "cell_type": "code",
   "execution_count": 2,
   "metadata": {},
   "outputs": [],
   "source": [
    "# Cargamos el paquete seaborn\n",
    "import seaborn as sns\n",
    "import matplotlib.pyplot as plt\n",
    "\n",
    "# Escribe tu respuesta aquí"
   ]
  },
  {
   "cell_type": "markdown",
   "metadata": {},
   "source": [
    "Calcula estadísticos descriptivos de cada una de las condiciones experimentales. Reporta la media, la desviación estándar y el coeficiente de asimetría de cada una.\n",
    "\n",
    "> Sugerencia: Utiliza el método `.describe()` para obtener un vistazo general de tus datos. Para calcular la asimetría puedes usar la función `skew()` disponible en el paquete `scipy.stats`."
   ]
  },
  {
   "cell_type": "code",
   "execution_count": 3,
   "metadata": {},
   "outputs": [],
   "source": [
    "# Escribe tu respuesta aquí"
   ]
  },
  {
   "cell_type": "code",
   "execution_count": 4,
   "metadata": {},
   "outputs": [],
   "source": [
    "# Cargamos la función skew\n",
    "from scipy.stats import skew\n",
    "\n",
    "# Escribe tu respuesta aquí"
   ]
  },
  {
   "cell_type": "markdown",
   "metadata": {},
   "source": [
    "¿Qué puedes comentar en relación a tus resultados?"
   ]
  },
  {
   "cell_type": "code",
   "execution_count": 5,
   "metadata": {},
   "outputs": [],
   "source": [
    "# Escribe tu respuesta aquí"
   ]
  },
  {
   "cell_type": "markdown",
   "metadata": {},
   "source": [
    "## Ejercicio 2\n",
    "Compara las condiciones `TrianguloBrillante` y `TrianguloOpaco` utilizando una prueba t de student para muestras relacionadas. \n",
    "\n",
    "> Sugerencia: Utiliza la función `ttest_rel` disponible en el paquete `scipy.stats`."
   ]
  },
  {
   "cell_type": "code",
   "execution_count": 6,
   "metadata": {},
   "outputs": [],
   "source": [
    "# Cargamos la función ttest_rel\n",
    "from scipy.stats import ttest_rel\n",
    "\n",
    "# Escribe tu respuesta aquí"
   ]
  },
  {
   "cell_type": "markdown",
   "metadata": {},
   "source": [
    "¿Qué puedes comentar a partir de tus resultados?"
   ]
  },
  {
   "cell_type": "code",
   "execution_count": 7,
   "metadata": {},
   "outputs": [],
   "source": [
    "# Escribe tu respuesta aquí"
   ]
  }
 ],
 "metadata": {
  "kernelspec": {
   "display_name": "Python 3.10.5 64-bit",
   "language": "python",
   "name": "python3"
  },
  "language_info": {
   "codemirror_mode": {
    "name": "ipython",
    "version": 3
   },
   "file_extension": ".py",
   "mimetype": "text/x-python",
   "name": "python",
   "nbconvert_exporter": "python",
   "pygments_lexer": "ipython3",
   "version": "3.10.5"
  },
  "orig_nbformat": 4,
  "vscode": {
   "interpreter": {
    "hash": "e7370f93d1d0cde622a1f8e1c04877d8463912d04d973331ad4851f04de6915a"
   }
  }
 },
 "nbformat": 4,
 "nbformat_minor": 2
}
