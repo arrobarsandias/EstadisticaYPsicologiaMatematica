{
 "cells": [
  {
   "cell_type": "markdown",
   "source": [
    "# Verificación de supuestos para el análisis multivariante\n",
    "\n",
    ">Este tutorial es una selección y adaptación al español de los libros [Multivariate Data Analysis](https://www.cengage.co.uk/books/9781473756540/) de Joseph F. Hair et al. y [A Matrix Algebra Companion for Statistical Learning](http://www.gastonsanchez.com/matrix4sl/index.html) de Gaston Sanchez. "
   ],
   "metadata": {}
  },
  {
   "cell_type": "markdown",
   "source": [
    "Los supuestos estadísticos de las técnicas multivariantes son la base sobre la cual dichas técnicas producen inferencias y resultados estadísticos. Algunas técnicas se ven menos afectadas por la violación de ciertos supuestos, lo que se denomina **robustez**, pero en todos los casos el cumplimiento de algunos de los supuestos será fundamental para un análisis exitoso. \n",
    "\n",
    "\n",
    "En el caso de los modelos multivariantes, la violación de los supuestos puede tener un impacto mayor debido a la complejidad de las relaciones entre las múltiples variables lo cual puede acrecentar los sesgos y distorsiones potenciales, así como enmascarar las violaciones de supuestos de cada variable. Por lo tanto, es necesario comprender el papel que juega cada supuesto para cada técnica multivariante."
   ],
   "metadata": {}
  },
  {
   "cell_type": "markdown",
   "source": [
    "## Cuatro supuestos estadísticos importantes\n",
    "\n",
    "Las técnicas multivariadas y sus contrapartes univariadas se basan todas en un conjunto fundamental de supuestos que representan los requisitos de la teoría estadística subyacente. Aunque muchas suposiciones o requisitos entran en juego en una o más de las técnicas multivariadas que revisaremos durante el curso, cuatro de ellas afectan potencialmente a todas las técnicas estadísticas univariadas y multivariadas."
   ],
   "metadata": {}
  },
  {
   "cell_type": "markdown",
   "source": [
    "### Normalidad\n",
    "\n",
    "El supuesto más fundamental en el análisis multivariado es la normalidad, que se refiere a la forma de la distribución de datos para una variable cuantitativa individual y su correspondencia con la distribución normal, el punto de referencia para los métodos estadísticos. \n",
    "\n",
    "Si la variación de la distribución normal es suficientemente grande, todas las pruebas estadísticas resultantes no son válidas. Por ejemplo, se requiere normalidad para usar las estadísticas F propias del ANOVA. \n",
    "\n",
    "Tanto los métodos estadísticos univariados como los multivariados discutidos en este texto se basan en el supuesto de normalidad univariante para las variables cuantitativas, y los métodos multivariados también suponen normalidad multivariante."
   ],
   "metadata": {}
  },
  {
   "cell_type": "markdown",
   "source": [
    "La severidad de la no normalidad se basa en dos dimensiones: la forma de la distribución y el tamaño de la muestra. Por tanto, el investigador no solo debe juzgar hasta qué punto la distribución de la variable no es normal, sino también los tamaños de muestra involucrados.\n",
    "\n",
    "#### La forma de la distribución\n",
    "\n",
    "La forma de cualquier distribución se puede describir mediante dos medidas: curtosis y asimetría. \n",
    "\n",
    "La curtosis se refiere a la \"punta\" o \"planitud\" de la distribución en comparación con la distribución normal. Las distribuciones que son más altas o más puntiagudas que la distribución normal se denominan leptocúrticas, mientras que una distribución más plana se denomina platicúrtica. \n",
    "\n",
    "La asimetría se utiliza para describir el equilibrio de la distribución; es decir, ¿está desequilibrado y desplazado hacia un lado (derecho o izquierdo) o está centrado y simétrico con aproximadamente la misma forma en ambos lados? Si una distribución está desequilibrada, está sesgada. Un sesgo positivo denota una distribución desplazada hacia la izquierda, mientras que un sesgo negativo refleja un desplazamiento hacia la derecha.\n",
    "\n",
    "#### El tamaño de muestra\n",
    "\n",
    "Los tamaños de muestra más grandes reducen los efectos perjudiciales de la no normalidad. En muestras pequeñas de 50 observaciones o menos, y especialmente si el tamaño de la muestra es menor de 30 aproximadamente, las desviaciones significativas de la normalidad pueden tener un impacto sustancial en los resultados. Sin embargo, para tamaños de muestra de 200 o más, estos mismos efectos pueden ser insignificantes.\n",
    "\n",
    "Por lo tanto, en la mayoría de los casos, a medida que el tamaño de la muestra aumenta, el investigador puede estar menos preocupado por las variables anormales, salvo que puedan dar lugar a otras violaciones de supuestos que sí tienen un impacto de otras formas.\n",
    "\n",
    ">Nota: Esto no quiere decir que las muestras grandes siempre van a dar lugar a distribuciones normales. Esto finalmente depende del proceso subyacente a la recolección de datos. Pensemos, por ejemplo, en datos provenientes de un proceso aproximadamente exponencial como el aumento de casos de COVID-19.   \n",
    "\n",
    "### Pruebas de normalidad\n",
    "\n",
    "Los investigadores tienen varios enfoques diferentes para evaluar la normalidad, pero principalmente se pueden clasificar como gráficos o estadísticos.\n",
    "\n",
    "La gráfica de probabilidad normal (también llamada QQ-Plot), que compara la distribución acumulada de valores de datos reales con la distribución acumulada de una distribución normal. La distribución normal forma una línea diagonal recta y los valores de los datos trazados se comparan con la diagonal. Si una distribución es normal, la línea que representa la distribución de datos real sigue de cerca la diagonal. "
   ],
   "metadata": {}
  },
  {
   "cell_type": "markdown",
   "source": [
    "Para ilustrar, veamos esta imagen tomada de Hair et al. (2019):\n",
    "\n",
    "<p align=\"center\">\n",
    "  <img width=\"750\" src=\"normalityplot.png\" alt=\"Variable Types\">\n",
    "</p>"
   ],
   "metadata": {}
  },
  {
   "cell_type": "markdown",
   "source": [
    "En Python podemos generar la gráfica de probabilidad normal con la función `qqplot` disponible en el paquete `pingouin`:"
   ],
   "metadata": {}
  },
  {
   "cell_type": "code",
   "execution_count": 3,
   "source": [
    "!pip install pingouin"
   ],
   "outputs": [
    {
     "output_type": "stream",
     "name": "stdout",
     "text": [
      "Requirement already satisfied: pingouin in /home/renato/anaconda3/lib/python3.8/site-packages (0.4.0)\n",
      "Requirement already satisfied: statsmodels>=0.12.0 in /home/renato/anaconda3/lib/python3.8/site-packages (from pingouin) (0.12.2)\n",
      "Requirement already satisfied: pandas-flavor>=0.2.0 in /home/renato/anaconda3/lib/python3.8/site-packages (from pingouin) (0.2.0)\n",
      "Requirement already satisfied: numpy>=1.19 in /home/renato/anaconda3/lib/python3.8/site-packages (from pingouin) (1.20.1)\n",
      "Requirement already satisfied: outdated in /home/renato/anaconda3/lib/python3.8/site-packages (from pingouin) (0.2.1)\n",
      "Requirement already satisfied: seaborn>=0.9.0 in /home/renato/anaconda3/lib/python3.8/site-packages (from pingouin) (0.11.1)\n",
      "Requirement already satisfied: pandas>=1.0 in /home/renato/anaconda3/lib/python3.8/site-packages (from pingouin) (1.2.4)\n",
      "Requirement already satisfied: tabulate in /home/renato/anaconda3/lib/python3.8/site-packages (from pingouin) (0.8.9)\n",
      "Requirement already satisfied: scikit-learn in /home/renato/anaconda3/lib/python3.8/site-packages (from pingouin) (0.24.1)\n",
      "Requirement already satisfied: scipy>=1.7 in /home/renato/anaconda3/lib/python3.8/site-packages (from pingouin) (1.7.1)\n",
      "Requirement already satisfied: matplotlib>=3.0.2 in /home/renato/anaconda3/lib/python3.8/site-packages (from pingouin) (3.3.4)\n",
      "Requirement already satisfied: cycler>=0.10 in /home/renato/anaconda3/lib/python3.8/site-packages (from matplotlib>=3.0.2->pingouin) (0.10.0)\n",
      "Requirement already satisfied: kiwisolver>=1.0.1 in /home/renato/anaconda3/lib/python3.8/site-packages (from matplotlib>=3.0.2->pingouin) (1.3.1)\n",
      "Requirement already satisfied: python-dateutil>=2.1 in /home/renato/anaconda3/lib/python3.8/site-packages (from matplotlib>=3.0.2->pingouin) (2.8.1)\n",
      "Requirement already satisfied: pyparsing!=2.0.4,!=2.1.2,!=2.1.6,>=2.0.3 in /home/renato/anaconda3/lib/python3.8/site-packages (from matplotlib>=3.0.2->pingouin) (2.4.7)\n",
      "Requirement already satisfied: pillow>=6.2.0 in /home/renato/anaconda3/lib/python3.8/site-packages (from matplotlib>=3.0.2->pingouin) (8.2.0)\n",
      "Requirement already satisfied: six in /home/renato/anaconda3/lib/python3.8/site-packages (from cycler>=0.10->matplotlib>=3.0.2->pingouin) (1.15.0)\n",
      "Requirement already satisfied: pytz>=2017.3 in /home/renato/anaconda3/lib/python3.8/site-packages (from pandas>=1.0->pingouin) (2021.1)\n",
      "Requirement already satisfied: xarray in /home/renato/anaconda3/lib/python3.8/site-packages (from pandas-flavor>=0.2.0->pingouin) (0.19.0)\n",
      "Requirement already satisfied: patsy>=0.5 in /home/renato/anaconda3/lib/python3.8/site-packages (from statsmodels>=0.12.0->pingouin) (0.5.1)\n",
      "Requirement already satisfied: requests in /home/renato/anaconda3/lib/python3.8/site-packages (from outdated->pingouin) (2.25.1)\n",
      "Requirement already satisfied: littleutils in /home/renato/anaconda3/lib/python3.8/site-packages (from outdated->pingouin) (0.2.2)\n",
      "Requirement already satisfied: urllib3<1.27,>=1.21.1 in /home/renato/anaconda3/lib/python3.8/site-packages (from requests->outdated->pingouin) (1.26.4)\n",
      "Requirement already satisfied: chardet<5,>=3.0.2 in /home/renato/anaconda3/lib/python3.8/site-packages (from requests->outdated->pingouin) (4.0.0)\n",
      "Requirement already satisfied: idna<3,>=2.5 in /home/renato/anaconda3/lib/python3.8/site-packages (from requests->outdated->pingouin) (2.10)\n",
      "Requirement already satisfied: certifi>=2017.4.17 in /home/renato/anaconda3/lib/python3.8/site-packages (from requests->outdated->pingouin) (2020.12.5)\n",
      "Requirement already satisfied: threadpoolctl>=2.0.0 in /home/renato/anaconda3/lib/python3.8/site-packages (from scikit-learn->pingouin) (2.1.0)\n",
      "Requirement already satisfied: joblib>=0.11 in /home/renato/anaconda3/lib/python3.8/site-packages (from scikit-learn->pingouin) (1.0.1)\n",
      "Requirement already satisfied: setuptools>=40.4 in /home/renato/anaconda3/lib/python3.8/site-packages (from xarray->pandas-flavor>=0.2.0->pingouin) (52.0.0.post20210125)\n"
     ]
    }
   ],
   "metadata": {}
  },
  {
   "cell_type": "code",
   "execution_count": 6,
   "source": [
    "import pingouin as pg\n",
    "import pandas as pd\n",
    "\n",
    "df_subsdis=pd.read_csv('https://raw.githubusercontent.com/renatoparedes/IntroPythonInvestigacionPsicologia/master/AnalisisdeDatosCuantitativos/depression-data-subsdis.csv')\n",
    "ax = pg.qqplot(df_subsdis['schizophrenia'], dist='norm')"
   ],
   "outputs": [
    {
     "output_type": "display_data",
     "data": {
      "image/png": "[encoded data removed]",
      "text/plain": [
       "<Figure size 360x288 with 1 Axes>"
      ]
     },
     "metadata": {
      "needs_background": "light"
     }
    }
   ],
   "metadata": {}
  },
  {
   "cell_type": "code",
   "execution_count": 7,
   "source": [
    "pg.normality(df_subsdis['schizophrenia'],method='normaltest')"
   ],
   "outputs": [
    {
     "output_type": "execute_result",
     "data": {
      "text/html": [
       "<div>\n",
       "<style scoped>\n",
       "    .dataframe tbody tr th:only-of-type {\n",
       "        vertical-align: middle;\n",
       "    }\n",
       "\n",
       "    .dataframe tbody tr th {\n",
       "        vertical-align: top;\n",
       "    }\n",
       "\n",
       "    .dataframe thead th {\n",
       "        text-align: right;\n",
       "    }\n",
       "</style>\n",
       "<table border=\"1\" class=\"dataframe\">\n",
       "  <thead>\n",
       "    <tr style=\"text-align: right;\">\n",
       "      <th></th>\n",
       "      <th>W</th>\n",
       "      <th>pval</th>\n",
       "      <th>normal</th>\n",
       "    </tr>\n",
       "  </thead>\n",
       "  <tbody>\n",
       "    <tr>\n",
       "      <th>schizophrenia</th>\n",
       "      <td>44.672307</td>\n",
       "      <td>1.993113e-10</td>\n",
       "      <td>False</td>\n",
       "    </tr>\n",
       "  </tbody>\n",
       "</table>\n",
       "</div>"
      ],
      "text/plain": [
       "                       W          pval  normal\n",
       "schizophrenia  44.672307  1.993113e-10   False"
      ]
     },
     "metadata": {},
     "execution_count": 7
    }
   ],
   "metadata": {}
  },
  {
   "cell_type": "markdown",
   "source": [
    " Multivariate normality: https://www.statology.org/multivariate-normality-test-python/"
   ],
   "metadata": {}
  },
  {
   "cell_type": "markdown",
   "source": [
    "Supuestos de los modelos multivariantes\n",
    "- Normalidad\n",
    "- Igualdad de varianzas\n",
    "- Linealidad\n",
    "- Ausencia de errores correlacionados\n",
    "\n",
    "Transformación de los datos\n",
    "https://scikit-learn.org/stable/modules/preprocessing.html\n",
    "https://scikit-learn.org/stable/modules/generated/sklearn.preprocessing.RobustScaler.html#sklearn.preprocessing.RobustScaler\n",
    "\n",
    "\n"
   ],
   "metadata": {}
  }
 ],
 "metadata": {
  "orig_nbformat": 4,
  "language_info": {
   "name": "python",
   "version": "3.8.8",
   "mimetype": "text/x-python",
   "codemirror_mode": {
    "name": "ipython",
    "version": 3
   },
   "pygments_lexer": "ipython3",
   "nbconvert_exporter": "python",
   "file_extension": ".py"
  },
  "kernelspec": {
   "name": "python3",
   "display_name": "Python 3.8.8 64-bit ('base': conda)"
  },
  "interpreter": {
   "hash": "1d151a68831448000e09cfc499a6de9a24b6912dae8debe2df70808284a908ce"
  }
 },
 "nbformat": 4,
 "nbformat_minor": 2
}