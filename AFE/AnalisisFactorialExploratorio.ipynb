{
 "cells": [
  {
   "cell_type": "markdown",
   "metadata": {
    "slideshow": {
     "slide_type": "slide"
    }
   },
   "source": [
    "# Análisis Factorial Exploratorio (AFE)\n",
    "\n",
    ">Este tutorial es una selección y adaptación al español del libro [Multivariate Data Analysis](https://www.cengage.co.uk/books/9781473756540/) de Joseph F. Hair et al.\n",
    "\n",
    "> Requiere cargar el archivo [\"euthan.sav\"](https://github.com/renatoparedes/EstadisticaYPsicologiaMatematica/raw/main/AFE/euthan.sav) en el repositorio local. \n"
   ]
  },
  {
   "cell_type": "code",
   "execution_count": null,
   "metadata": {},
   "outputs": [],
   "source": []
  },
  {
   "cell_type": "code",
   "execution_count": null,
   "metadata": {
    "slideshow": {
     "slide_type": "skip"
    }
   },
   "outputs": [],
   "source": [
    "!pip install pyreadstat\n",
    "!pip install factor_analyzer\n",
    "!wget https://github.com/renatoparedes/EstadisticaYPsicologiaMatematica/raw/main/AFE/euthan.sav"
   ]
  },
  {
   "cell_type": "markdown",
   "metadata": {
    "slideshow": {
     "slide_type": "slide"
    }
   },
   "source": [
    "## Diseño de un AFE\n",
    "\n",
    "El análisis factorial exploratorio se realiza con mayor frecuencia sólo en variables métricas (cuantitativas), aunque existen métodos especializados para el uso de variables ficticias. \n",
    "\n",
    "Pueden incluirse un número limitado de “variables ficticias” en un conjunto de variables métricas que se analizan factorialmente siempre que representen atributos binarios."
   ]
  },
  {
   "cell_type": "markdown",
   "metadata": {
    "slideshow": {
     "slide_type": "subslide"
    }
   },
   "source": [
    "### Tamaño de muestra\n",
    "\n",
    "Regla de dedo: Si se está diseñando un estudio para revelar la estructura de los factores, trate de tener **al menos cinco casos por cada variable**."
   ]
  },
  {
   "cell_type": "markdown",
   "metadata": {
    "slideshow": {
     "slide_type": "subslide"
    }
   },
   "source": [
    "- La muestra debe tener más observaciones que variables.\n",
    "- El tamaño mínimo absoluto de la muestra debe ser de 50 observaciones, siendo **100 observaciones el mínimo preferido**.\n",
    "- Aumente la muestra a medida que aumenta la complejidad del análisis factorial (es decir, el número de variables y / o factores retenidos).\n",
    "- Esfuércese por **maximizar el número de observaciones por variable, con una proporción deseada de al menos 5 observaciones por variable**.\n",
    "- Las comunalidades más altas entre las variables brindan soporte para tamaños de muestra más pequeños, en igualdad de condiciones."
   ]
  },
  {
   "cell_type": "markdown",
   "metadata": {
    "slideshow": {
     "slide_type": "slide"
    }
   },
   "source": [
    "## Supuestos de un AFE\n",
    "\n",
    "Un supuesto básico del análisis factorial es que **existe alguna estructura subyacente en el conjunto de variables seleccionadas**. La presencia de variables correlacionadas y la posterior definición de factores no garantizan la relevancia, incluso si cumplen con los requisitos estadísticos. \n",
    "\n",
    "Es responsabilidad del investigador asegurarse de que los patrones observados sean conceptualmente válidos y apropiados para estudiar con análisis factorial exploratorio, porque la técnica no tiene ningún medio para determinar la idoneidad más que las correlaciones entre variables. \n",
    "\n",
    "Por ejemplo, no es apropiado mezclar variables dependientes e independientes en un análisis de un solo factor y luego usar los factores derivados para respaldar las relaciones de dependencia."
   ]
  },
  {
   "cell_type": "markdown",
   "metadata": {
    "slideshow": {
     "slide_type": "subslide"
    }
   },
   "source": [
    "### Supuestos estadísticos\n",
    "\n",
    "El investigador debe asegurarse de que la matriz de datos tenga correlaciones suficientes para justificar la aplicación del AFE. \n",
    "\n",
    "Si se encuentra que todas las correlaciones son bajas, o que todas las correlaciones son iguales (lo que denota que no existe una estructura para agrupar las variables), entonces el investigador debe cuestionar la aplicación del AFE. Para ello, se encuentran disponibles varios enfoques:"
   ]
  },
  {
   "cell_type": "markdown",
   "metadata": {
    "slideshow": {
     "slide_type": "slide"
    }
   },
   "source": [
    "#### Inspección visual\n",
    "\n",
    "Si la inspección visual revela un **pequeño número de variables con correlaciones mayores de .30**, entonces el AFE probablemente sea inapropiado.\n",
    "\n",
    "Veamos un ejemplo:\n"
   ]
  },
  {
   "cell_type": "code",
   "execution_count": 6,
   "metadata": {
    "hideCode": true,
    "hidePrompt": true,
    "slideshow": {
     "slide_type": "fragment"
    }
   },
   "outputs": [
    {
     "data": {
      "text/html": [
       "<div>\n",
       "<style scoped>\n",
       "    .dataframe tbody tr th:only-of-type {\n",
       "        vertical-align: middle;\n",
       "    }\n",
       "\n",
       "    .dataframe tbody tr th {\n",
       "        vertical-align: top;\n",
       "    }\n",
       "\n",
       "    .dataframe thead th {\n",
       "        text-align: right;\n",
       "    }\n",
       "</style>\n",
       "<table border=\"1\" class=\"dataframe\">\n",
       "  <thead>\n",
       "    <tr style=\"text-align: right;\">\n",
       "      <th></th>\n",
       "      <th>e1</th>\n",
       "      <th>e2</th>\n",
       "      <th>e3</th>\n",
       "      <th>e4</th>\n",
       "      <th>e5</th>\n",
       "      <th>e6</th>\n",
       "      <th>e7</th>\n",
       "      <th>e8</th>\n",
       "      <th>e9</th>\n",
       "      <th>e10</th>\n",
       "      <th>e11</th>\n",
       "      <th>e12</th>\n",
       "    </tr>\n",
       "  </thead>\n",
       "  <tbody>\n",
       "    <tr>\n",
       "      <th>0</th>\n",
       "      <td>0.857588</td>\n",
       "      <td>0.785601</td>\n",
       "      <td>0.119556</td>\n",
       "      <td>0.154735</td>\n",
       "      <td>0.686161</td>\n",
       "      <td>0.865330</td>\n",
       "      <td>0.272019</td>\n",
       "      <td>0.041718</td>\n",
       "      <td>0.881063</td>\n",
       "      <td>0.916052</td>\n",
       "      <td>0.039223</td>\n",
       "      <td>0.011506</td>\n",
       "    </tr>\n",
       "    <tr>\n",
       "      <th>1</th>\n",
       "      <td>-0.867251</td>\n",
       "      <td>-0.472065</td>\n",
       "      <td>-0.717338</td>\n",
       "      <td>-0.781541</td>\n",
       "      <td>-0.402548</td>\n",
       "      <td>-0.270416</td>\n",
       "      <td>-0.595042</td>\n",
       "      <td>-1.022102</td>\n",
       "      <td>-0.072087</td>\n",
       "      <td>-1.728400</td>\n",
       "      <td>-0.784465</td>\n",
       "      <td>0.011506</td>\n",
       "    </tr>\n",
       "    <tr>\n",
       "      <th>2</th>\n",
       "      <td>0.857588</td>\n",
       "      <td>0.785601</td>\n",
       "      <td>-1.554233</td>\n",
       "      <td>0.154735</td>\n",
       "      <td>0.686161</td>\n",
       "      <td>0.865330</td>\n",
       "      <td>0.272019</td>\n",
       "      <td>0.041718</td>\n",
       "      <td>0.881063</td>\n",
       "      <td>0.916052</td>\n",
       "      <td>1.686599</td>\n",
       "      <td>0.833058</td>\n",
       "    </tr>\n",
       "    <tr>\n",
       "      <th>3</th>\n",
       "      <td>-0.004831</td>\n",
       "      <td>0.785601</td>\n",
       "      <td>-1.554233</td>\n",
       "      <td>0.154735</td>\n",
       "      <td>0.686161</td>\n",
       "      <td>0.865330</td>\n",
       "      <td>1.139081</td>\n",
       "      <td>1.105538</td>\n",
       "      <td>-1.025236</td>\n",
       "      <td>0.916052</td>\n",
       "      <td>0.039223</td>\n",
       "      <td>0.011506</td>\n",
       "    </tr>\n",
       "    <tr>\n",
       "      <th>4</th>\n",
       "      <td>-0.867251</td>\n",
       "      <td>-0.472065</td>\n",
       "      <td>0.956451</td>\n",
       "      <td>-0.781541</td>\n",
       "      <td>-1.491256</td>\n",
       "      <td>-0.270416</td>\n",
       "      <td>0.272019</td>\n",
       "      <td>0.041718</td>\n",
       "      <td>-1.025236</td>\n",
       "      <td>0.034568</td>\n",
       "      <td>0.039223</td>\n",
       "      <td>0.833058</td>\n",
       "    </tr>\n",
       "    <tr>\n",
       "      <th>...</th>\n",
       "      <td>...</td>\n",
       "      <td>...</td>\n",
       "      <td>...</td>\n",
       "      <td>...</td>\n",
       "      <td>...</td>\n",
       "      <td>...</td>\n",
       "      <td>...</td>\n",
       "      <td>...</td>\n",
       "      <td>...</td>\n",
       "      <td>...</td>\n",
       "      <td>...</td>\n",
       "      <td>...</td>\n",
       "    </tr>\n",
       "    <tr>\n",
       "      <th>352</th>\n",
       "      <td>0.857588</td>\n",
       "      <td>-0.472065</td>\n",
       "      <td>-1.554233</td>\n",
       "      <td>0.154735</td>\n",
       "      <td>0.686161</td>\n",
       "      <td>-0.270416</td>\n",
       "      <td>-0.595042</td>\n",
       "      <td>0.041718</td>\n",
       "      <td>-0.072087</td>\n",
       "      <td>0.916052</td>\n",
       "      <td>0.039223</td>\n",
       "      <td>0.011506</td>\n",
       "    </tr>\n",
       "    <tr>\n",
       "      <th>353</th>\n",
       "      <td>0.857588</td>\n",
       "      <td>0.785601</td>\n",
       "      <td>-0.717338</td>\n",
       "      <td>-0.781541</td>\n",
       "      <td>0.686161</td>\n",
       "      <td>0.865330</td>\n",
       "      <td>-0.595042</td>\n",
       "      <td>-1.022102</td>\n",
       "      <td>0.881063</td>\n",
       "      <td>0.916052</td>\n",
       "      <td>-0.784465</td>\n",
       "      <td>-0.810046</td>\n",
       "    </tr>\n",
       "    <tr>\n",
       "      <th>354</th>\n",
       "      <td>0.857588</td>\n",
       "      <td>0.785601</td>\n",
       "      <td>-0.717338</td>\n",
       "      <td>1.091011</td>\n",
       "      <td>0.686161</td>\n",
       "      <td>0.865330</td>\n",
       "      <td>1.139081</td>\n",
       "      <td>0.041718</td>\n",
       "      <td>0.881063</td>\n",
       "      <td>0.916052</td>\n",
       "      <td>1.686599</td>\n",
       "      <td>0.833058</td>\n",
       "    </tr>\n",
       "    <tr>\n",
       "      <th>355</th>\n",
       "      <td>-0.004831</td>\n",
       "      <td>-0.472065</td>\n",
       "      <td>-0.717338</td>\n",
       "      <td>0.154735</td>\n",
       "      <td>0.686161</td>\n",
       "      <td>-0.270416</td>\n",
       "      <td>0.272019</td>\n",
       "      <td>0.041718</td>\n",
       "      <td>-0.072087</td>\n",
       "      <td>0.034568</td>\n",
       "      <td>0.862911</td>\n",
       "      <td>0.011506</td>\n",
       "    </tr>\n",
       "    <tr>\n",
       "      <th>356</th>\n",
       "      <td>0.857588</td>\n",
       "      <td>0.785601</td>\n",
       "      <td>0.119556</td>\n",
       "      <td>1.091011</td>\n",
       "      <td>0.686161</td>\n",
       "      <td>0.865330</td>\n",
       "      <td>1.139081</td>\n",
       "      <td>1.105538</td>\n",
       "      <td>0.881063</td>\n",
       "      <td>0.916052</td>\n",
       "      <td>0.039223</td>\n",
       "      <td>0.011506</td>\n",
       "    </tr>\n",
       "  </tbody>\n",
       "</table>\n",
       "<p>357 rows × 12 columns</p>\n",
       "</div>"
      ],
      "text/plain": [
       "           e1        e2        e3        e4        e5        e6        e7  \\\n",
       "0    0.857588  0.785601  0.119556  0.154735  0.686161  0.865330  0.272019   \n",
       "1   -0.867251 -0.472065 -0.717338 -0.781541 -0.402548 -0.270416 -0.595042   \n",
       "2    0.857588  0.785601 -1.554233  0.154735  0.686161  0.865330  0.272019   \n",
       "3   -0.004831  0.785601 -1.554233  0.154735  0.686161  0.865330  1.139081   \n",
       "4   -0.867251 -0.472065  0.956451 -0.781541 -1.491256 -0.270416  0.272019   \n",
       "..        ...       ...       ...       ...       ...       ...       ...   \n",
       "352  0.857588 -0.472065 -1.554233  0.154735  0.686161 -0.270416 -0.595042   \n",
       "353  0.857588  0.785601 -0.717338 -0.781541  0.686161  0.865330 -0.595042   \n",
       "354  0.857588  0.785601 -0.717338  1.091011  0.686161  0.865330  1.139081   \n",
       "355 -0.004831 -0.472065 -0.717338  0.154735  0.686161 -0.270416  0.272019   \n",
       "356  0.857588  0.785601  0.119556  1.091011  0.686161  0.865330  1.139081   \n",
       "\n",
       "           e8        e9       e10       e11       e12  \n",
       "0    0.041718  0.881063  0.916052  0.039223  0.011506  \n",
       "1   -1.022102 -0.072087 -1.728400 -0.784465  0.011506  \n",
       "2    0.041718  0.881063  0.916052  1.686599  0.833058  \n",
       "3    1.105538 -1.025236  0.916052  0.039223  0.011506  \n",
       "4    0.041718 -1.025236  0.034568  0.039223  0.833058  \n",
       "..        ...       ...       ...       ...       ...  \n",
       "352  0.041718 -0.072087  0.916052  0.039223  0.011506  \n",
       "353 -1.022102  0.881063  0.916052 -0.784465 -0.810046  \n",
       "354  0.041718  0.881063  0.916052  1.686599  0.833058  \n",
       "355  0.041718 -0.072087  0.034568  0.862911  0.011506  \n",
       "356  1.105538  0.881063  0.916052  0.039223  0.011506  \n",
       "\n",
       "[357 rows x 12 columns]"
      ]
     },
     "execution_count": 6,
     "metadata": {},
     "output_type": "execute_result"
    }
   ],
   "source": [
    "import pandas as pd\n",
    "from sklearn.preprocessing import StandardScaler\n",
    "\n",
    "df = pd.read_spss(\"euthan.sav\")\n",
    "scaler = StandardScaler()\n",
    "scaled_data = scaler.fit_transform(df)\n",
    "scaled_df = pd.DataFrame(scaled_data, columns=df.columns)\n",
    "scaled_df"
   ]
  },
  {
   "cell_type": "code",
   "execution_count": 7,
   "metadata": {
    "hideCode": true,
    "hidePrompt": true,
    "slideshow": {
     "slide_type": "subslide"
    }
   },
   "outputs": [
    {
     "data": {
      "image/png": "[encoded data removed]",
      "text/plain": [
       "<Figure size 540x360 with 2 Axes>"
      ]
     },
     "metadata": {
      "needs_background": "light"
     },
     "output_type": "display_data"
    }
   ],
   "source": [
    "import seaborn as sns\n",
    "import matplotlib.pyplot as plt\n",
    "\n",
    "plt.figure(figsize=(7.5, 5))\n",
    "sns.heatmap(scaled_df.corr())\n",
    "plt.show()"
   ]
  },
  {
   "cell_type": "markdown",
   "metadata": {
    "slideshow": {
     "slide_type": "subslide"
    }
   },
   "source": [
    "Las correlaciones entre variables también se pueden analizar calculando las **correlaciones parciales entre variables**. Una correlación parcial es la correlación que no se explica cuando se tienen en cuenta los efectos de otras variables. \n",
    "\n",
    "Si existen factores “verdaderos” en los datos, la correlación parcial debe ser pequeña, porque la variable puede explicarse por la carga de las variables sobre los factores. **Si las correlaciones parciales son altas, lo que indica es que no hay factores subyacentes, entonces el análisis factorial exploratorio no es apropiado**.\n",
    "\n",
    "Una regla general sería considerar las correlaciones parciales superiores a 0,7 como altas."
   ]
  },
  {
   "cell_type": "markdown",
   "metadata": {
    "slideshow": {
     "slide_type": "subslide"
    }
   },
   "source": [
    "Veamos las correlaciones parciales en nuestro ejemplo:"
   ]
  },
  {
   "cell_type": "code",
   "execution_count": 8,
   "metadata": {
    "hideCode": true,
    "hidePrompt": true,
    "slideshow": {
     "slide_type": "fragment"
    }
   },
   "outputs": [
    {
     "data": {
      "image/png": "[encoded data removed]",
      "text/plain": [
       "<Figure size 540x360 with 2 Axes>"
      ]
     },
     "metadata": {
      "needs_background": "light"
     },
     "output_type": "display_data"
    }
   ],
   "source": [
    "import pingouin as pg\n",
    "\n",
    "plt.figure(figsize=(7.5, 5))\n",
    "sns.heatmap(scaled_df.pcorr())\n",
    "plt.show()"
   ]
  },
  {
   "cell_type": "markdown",
   "metadata": {
    "slideshow": {
     "slide_type": "fragment"
    }
   },
   "source": [
    "Podemos apreciar que son pocas las variables que presentan correlaciones parciales por encima de 0.7."
   ]
  },
  {
   "cell_type": "markdown",
   "metadata": {
    "slideshow": {
     "slide_type": "slide"
    }
   },
   "source": [
    "#### Prueba de Bartlett\n",
    "\n",
    "La prueba de esfericidad de Bartlett es una **prueba estadística de la presencia de correlaciones entre las variables**. Proporciona la significancia estadística que indica que la matriz de correlación tiene correlaciones significativas entre al menos algunas de las variables. \n",
    "\n",
    "El investigador debe tener en cuenta, sin embargo, que al aumentar el tamaño de la muestra, la prueba de Bartlett se vuelve más sensible para detectar correlaciones entre las variables."
   ]
  },
  {
   "cell_type": "markdown",
   "metadata": {
    "slideshow": {
     "slide_type": "subslide"
    }
   },
   "source": [
    "Apliquemos la prueba de Bartlett en nuestro ejemplo:"
   ]
  },
  {
   "cell_type": "code",
   "execution_count": 9,
   "metadata": {
    "hideCode": true,
    "hidePrompt": true,
    "slideshow": {
     "slide_type": "fragment"
    }
   },
   "outputs": [
    {
     "name": "stdout",
     "output_type": "stream",
     "text": [
      "Chi-squared:  2047.1262764312712\n",
      "p-value:  0.0\n"
     ]
    }
   ],
   "source": [
    "from factor_analyzer.factor_analyzer import calculate_bartlett_sphericity\n",
    "\n",
    "statistic, p_value = calculate_bartlett_sphericity(scaled_df)\n",
    "print(\"Chi-squared: \", statistic)\n",
    "print(\"p-value: \", p_value)"
   ]
  },
  {
   "cell_type": "markdown",
   "metadata": {
    "slideshow": {
     "slide_type": "fragment"
    }
   },
   "source": [
    "Una prueba de esfericidad de Bartlett estadísticamente significativa ($p < 0.05$) indica que existen suficientes correlaciones entre las variables para proceder a un análisis factorial."
   ]
  },
  {
   "cell_type": "markdown",
   "metadata": {
    "slideshow": {
     "slide_type": "slide"
    }
   },
   "source": [
    "#### Medida de adecuación del muestreo (MSA)\n",
    "\n",
    "Este índice va de 0 a 1, llegando a 1 cuando cada variable puede ser perfectamente predicha sin error por las demás variables.\n",
    "\n",
    "La MSA se puede interpretar con las siguientes pautas:\n",
    "- $> .80$: meritorio\n",
    "- $> .70$: medio\n",
    "- $> .60$: mediocre\n",
    "- $> .50$: miserable\n",
    "- $< .50$: inaceptable."
   ]
  },
  {
   "cell_type": "markdown",
   "metadata": {
    "slideshow": {
     "slide_type": "subslide"
    }
   },
   "source": [
    "El MSA aumenta a medida que (1) aumenta el tamaño de la muestra, (2) aumentan las correlaciones promedio, (3) aumenta el número de variables o (4) disminuye el número de factores.\n",
    "\n",
    "En general, **los valores de MSA deben exceder .50 tanto para la prueba general como para cada variable individual**. \n",
    "\n",
    "Las variables con valores inferiores a .50 deben omitirse del análisis factorial una a la vez, omitiendo la más pequeña cada vez."
   ]
  },
  {
   "cell_type": "markdown",
   "metadata": {
    "slideshow": {
     "slide_type": "subslide"
    }
   },
   "source": [
    "Apliquemos esta medida en nuestro ejemplo:"
   ]
  },
  {
   "cell_type": "code",
   "execution_count": 10,
   "metadata": {
    "hideCode": true,
    "hidePrompt": true,
    "slideshow": {
     "slide_type": "fragment"
    }
   },
   "outputs": [
    {
     "name": "stdout",
     "output_type": "stream",
     "text": [
      "General MSA:  0.8645475574059576\n"
     ]
    },
    {
     "data": {
      "text/html": [
       "<div>\n",
       "<style scoped>\n",
       "    .dataframe tbody tr th:only-of-type {\n",
       "        vertical-align: middle;\n",
       "    }\n",
       "\n",
       "    .dataframe tbody tr th {\n",
       "        vertical-align: top;\n",
       "    }\n",
       "\n",
       "    .dataframe thead th {\n",
       "        text-align: right;\n",
       "    }\n",
       "</style>\n",
       "<table border=\"1\" class=\"dataframe\">\n",
       "  <thead>\n",
       "    <tr style=\"text-align: right;\">\n",
       "      <th></th>\n",
       "      <th>Individual MSA</th>\n",
       "    </tr>\n",
       "  </thead>\n",
       "  <tbody>\n",
       "    <tr>\n",
       "      <th>e1</th>\n",
       "      <td>0.881099</td>\n",
       "    </tr>\n",
       "    <tr>\n",
       "      <th>e2</th>\n",
       "      <td>0.866680</td>\n",
       "    </tr>\n",
       "    <tr>\n",
       "      <th>e3</th>\n",
       "      <td>0.805751</td>\n",
       "    </tr>\n",
       "    <tr>\n",
       "      <th>e4</th>\n",
       "      <td>0.868400</td>\n",
       "    </tr>\n",
       "    <tr>\n",
       "      <th>e5</th>\n",
       "      <td>0.911213</td>\n",
       "    </tr>\n",
       "    <tr>\n",
       "      <th>e6</th>\n",
       "      <td>0.882760</td>\n",
       "    </tr>\n",
       "    <tr>\n",
       "      <th>e7</th>\n",
       "      <td>0.800743</td>\n",
       "    </tr>\n",
       "    <tr>\n",
       "      <th>e8</th>\n",
       "      <td>0.869044</td>\n",
       "    </tr>\n",
       "    <tr>\n",
       "      <th>e9</th>\n",
       "      <td>0.919635</td>\n",
       "    </tr>\n",
       "    <tr>\n",
       "      <th>e10</th>\n",
       "      <td>0.888761</td>\n",
       "    </tr>\n",
       "    <tr>\n",
       "      <th>e11</th>\n",
       "      <td>0.876697</td>\n",
       "    </tr>\n",
       "    <tr>\n",
       "      <th>e12</th>\n",
       "      <td>0.750808</td>\n",
       "    </tr>\n",
       "  </tbody>\n",
       "</table>\n",
       "</div>"
      ],
      "text/plain": [
       "     Individual MSA\n",
       "e1         0.881099\n",
       "e2         0.866680\n",
       "e3         0.805751\n",
       "e4         0.868400\n",
       "e5         0.911213\n",
       "e6         0.882760\n",
       "e7         0.800743\n",
       "e8         0.869044\n",
       "e9         0.919635\n",
       "e10        0.888761\n",
       "e11        0.876697\n",
       "e12        0.750808"
      ]
     },
     "execution_count": 10,
     "metadata": {},
     "output_type": "execute_result"
    }
   ],
   "source": [
    "from factor_analyzer.factor_analyzer import calculate_kmo\n",
    "\n",
    "kmo_per_variable, kmo_total = calculate_kmo(scaled_df)\n",
    "\n",
    "print(\"General MSA: \", kmo_total)\n",
    "df_kmo_per_variable = pd.DataFrame(\n",
    "    kmo_per_variable,\n",
    "    index=scaled_df.columns.values,\n",
    "    columns=[\"Individual MSA\"],\n",
    ")\n",
    "df_kmo_per_variable"
   ]
  },
  {
   "cell_type": "markdown",
   "metadata": {
    "slideshow": {
     "slide_type": "fragment"
    }
   },
   "source": [
    "Nuestro ejemplo cumple con medidas de MSA adecuadas tanto a nivel individual como a nivel general."
   ]
  },
  {
   "cell_type": "markdown",
   "metadata": {
    "slideshow": {
     "slide_type": "slide"
    }
   },
   "source": [
    "## Determinar el número de factores a extraer\n",
    "\n",
    "Al momento de extraer factores, **el primer factor puede verse como el mejor resumen individual de las relaciones lineales exhibidas en los datos**. El segundo factor se define como la segunda mejor combinación lineal de las variables, sujeta a la restricción de que es ortogonal al primer factor.\n",
    "\n",
    "Para ser ortogonal al primer factor, el segundo factor debe derivarse solo de la varianza restante después de que se haya extraído el primer factor. Por lo tanto, **el segundo factor puede definirse como la combinación lineal de variables que explica la mayor varianza que aún no se explica después de que el efecto del primer factor se ha eliminado de los datos**.\n",
    "\n",
    "El proceso continúa extrayendo factores que representan cantidades cada vez más pequeñas de variación hasta que se explica toda la varianza."
   ]
  },
  {
   "cell_type": "markdown",
   "metadata": {
    "slideshow": {
     "slide_type": "subslide"
    }
   },
   "source": [
    "La pregunta clave es: **¿cuántos factores extraer o retener?**\n",
    "\n",
    "Al decidir cuándo dejar de factorizar (es decir, cuántos factores extraer), el investigador debe **combinar una base conceptual** (¿cuántos factores deberían estar en la estructura?) **con alguna evidencia empírica** (¿cuántos factores pueden ser razonablemente respaldados?).\n",
    "\n",
    "No se ha desarrollado una base cuantitativa definitiva para decidir el número de factores a extraer. Sin embargo, actualmente se utilizan algunas reglas para definir para la cantidad de factores a extraer. Las revisamos a continuación:"
   ]
  },
  {
   "cell_type": "markdown",
   "metadata": {
    "slideshow": {
     "slide_type": "slide"
    }
   },
   "source": [
    "#### Criterio de Kaiser\n",
    "\n",
    "**Retener factores con autovalores superiores a 1**. \n",
    "\n",
    "Esta técnica es sencilla de aplicar, y el fundamento es que cualquier factor individual debe tener en cuenta la varianza de al menos una sola variable si se quiere conservar para la interpretación. **Se recomienda para el Análisis de Componentes Principales, y no para el análisis factorial común**. "
   ]
  },
  {
   "cell_type": "markdown",
   "metadata": {
    "slideshow": {
     "slide_type": "subslide"
    }
   },
   "source": [
    "Apliquemos este criterio a nuestro ejemplo:"
   ]
  },
  {
   "cell_type": "code",
   "execution_count": 11,
   "metadata": {
    "hideCode": true,
    "hidePrompt": true,
    "slideshow": {
     "slide_type": "fragment"
    }
   },
   "outputs": [
    {
     "data": {
      "text/html": [
       "<div>\n",
       "<style scoped>\n",
       "    .dataframe tbody tr th:only-of-type {\n",
       "        vertical-align: middle;\n",
       "    }\n",
       "\n",
       "    .dataframe tbody tr th {\n",
       "        vertical-align: top;\n",
       "    }\n",
       "\n",
       "    .dataframe thead th {\n",
       "        text-align: right;\n",
       "    }\n",
       "</style>\n",
       "<table border=\"1\" class=\"dataframe\">\n",
       "  <thead>\n",
       "    <tr style=\"text-align: right;\">\n",
       "      <th></th>\n",
       "      <th>F1</th>\n",
       "      <th>F2</th>\n",
       "      <th>F3</th>\n",
       "      <th>F4</th>\n",
       "      <th>F5</th>\n",
       "      <th>F6</th>\n",
       "      <th>F7</th>\n",
       "      <th>F8</th>\n",
       "      <th>F9</th>\n",
       "      <th>F10</th>\n",
       "      <th>F11</th>\n",
       "      <th>F12</th>\n",
       "    </tr>\n",
       "  </thead>\n",
       "  <tbody>\n",
       "    <tr>\n",
       "      <th>PCA Eigenvalues</th>\n",
       "      <td>5.323219</td>\n",
       "      <td>1.535566</td>\n",
       "      <td>1.063282</td>\n",
       "      <td>0.941109</td>\n",
       "      <td>0.634769</td>\n",
       "      <td>0.549586</td>\n",
       "      <td>0.412997</td>\n",
       "      <td>0.371781</td>\n",
       "      <td>0.339182</td>\n",
       "      <td>0.306357</td>\n",
       "      <td>0.29829</td>\n",
       "      <td>0.223864</td>\n",
       "    </tr>\n",
       "    <tr>\n",
       "      <th>CF Eigenvalues</th>\n",
       "      <td>5.043896</td>\n",
       "      <td>1.248941</td>\n",
       "      <td>0.774931</td>\n",
       "      <td>0.626468</td>\n",
       "      <td>0.272607</td>\n",
       "      <td>0.213525</td>\n",
       "      <td>0.109535</td>\n",
       "      <td>0.078919</td>\n",
       "      <td>0.046924</td>\n",
       "      <td>0.032179</td>\n",
       "      <td>0.00941</td>\n",
       "      <td>-0.000002</td>\n",
       "    </tr>\n",
       "  </tbody>\n",
       "</table>\n",
       "</div>"
      ],
      "text/plain": [
       "                       F1        F2        F3        F4        F5        F6  \\\n",
       "PCA Eigenvalues  5.323219  1.535566  1.063282  0.941109  0.634769  0.549586   \n",
       "CF Eigenvalues   5.043896  1.248941  0.774931  0.626468  0.272607  0.213525   \n",
       "\n",
       "                       F7        F8        F9       F10      F11       F12  \n",
       "PCA Eigenvalues  0.412997  0.371781  0.339182  0.306357  0.29829  0.223864  \n",
       "CF Eigenvalues   0.109535  0.078919  0.046924  0.032179  0.00941 -0.000002  "
      ]
     },
     "execution_count": 11,
     "metadata": {},
     "output_type": "execute_result"
    }
   ],
   "source": [
    "from factor_analyzer import FactorAnalyzer\n",
    "\n",
    "fa = FactorAnalyzer(n_factors=12, rotation=None)\n",
    "fa.fit(scaled_df)\n",
    "original_eigen_values, common_factor_eigen_values = fa.get_eigenvalues()\n",
    "\n",
    "df_eigen = pd.DataFrame(\n",
    "    [original_eigen_values, common_factor_eigen_values],\n",
    "    index=[\"PCA Eigenvalues\", \"CF Eigenvalues\"],\n",
    ")\n",
    "df_eigen.columns += 1\n",
    "df_eigen = df_eigen.add_prefix(\"F\")\n",
    "df_eigen"
   ]
  },
  {
   "cell_type": "markdown",
   "metadata": {
    "slideshow": {
     "slide_type": "fragment"
    }
   },
   "source": [
    "Según este criterio deberíamos preservar solo los tres primeros factores. La recomendación es observar el resultado de `PCA Eigenvalues`."
   ]
  },
  {
   "cell_type": "markdown",
   "metadata": {
    "slideshow": {
     "slide_type": "slide"
    }
   },
   "source": [
    "#### Criterio de la varianza explicada\n",
    "\n",
    "**Retener suficientes factores para cumplir con un porcentaje específico de varianza explicada, generalmente 60 por ciento o más**.\n",
    "\n",
    "El propósito es asegurar la importancia práctica de los factores derivados, asegurándose de que expliquen al menos una cantidad específica de varianza."
   ]
  },
  {
   "cell_type": "markdown",
   "metadata": {
    "slideshow": {
     "slide_type": "subslide"
    }
   },
   "source": [
    "Apliquemos este criterio a nuestro ejemplo:"
   ]
  },
  {
   "cell_type": "code",
   "execution_count": 12,
   "metadata": {
    "hideCode": true,
    "hidePrompt": true,
    "slideshow": {
     "slide_type": "fragment"
    }
   },
   "outputs": [
    {
     "data": {
      "text/html": [
       "<div>\n",
       "<style scoped>\n",
       "    .dataframe tbody tr th:only-of-type {\n",
       "        vertical-align: middle;\n",
       "    }\n",
       "\n",
       "    .dataframe tbody tr th {\n",
       "        vertical-align: top;\n",
       "    }\n",
       "\n",
       "    .dataframe thead th {\n",
       "        text-align: right;\n",
       "    }\n",
       "</style>\n",
       "<table border=\"1\" class=\"dataframe\">\n",
       "  <thead>\n",
       "    <tr style=\"text-align: right;\">\n",
       "      <th></th>\n",
       "      <th>F1</th>\n",
       "      <th>F2</th>\n",
       "      <th>F3</th>\n",
       "      <th>F4</th>\n",
       "      <th>F5</th>\n",
       "      <th>F6</th>\n",
       "      <th>F7</th>\n",
       "      <th>F8</th>\n",
       "      <th>F9</th>\n",
       "      <th>F10</th>\n",
       "      <th>F11</th>\n",
       "      <th>F12</th>\n",
       "    </tr>\n",
       "  </thead>\n",
       "  <tbody>\n",
       "    <tr>\n",
       "      <th>SS Loadings</th>\n",
       "      <td>5.043896</td>\n",
       "      <td>1.248941</td>\n",
       "      <td>0.774931</td>\n",
       "      <td>0.626468</td>\n",
       "      <td>0.272607</td>\n",
       "      <td>0.213525</td>\n",
       "      <td>0.109535</td>\n",
       "      <td>0.078918</td>\n",
       "      <td>0.046924</td>\n",
       "      <td>0.032179</td>\n",
       "      <td>0.009410</td>\n",
       "      <td>0.000000</td>\n",
       "    </tr>\n",
       "    <tr>\n",
       "      <th>Proportional variance</th>\n",
       "      <td>0.420325</td>\n",
       "      <td>0.104078</td>\n",
       "      <td>0.064578</td>\n",
       "      <td>0.052206</td>\n",
       "      <td>0.022717</td>\n",
       "      <td>0.017794</td>\n",
       "      <td>0.009128</td>\n",
       "      <td>0.006577</td>\n",
       "      <td>0.003910</td>\n",
       "      <td>0.002682</td>\n",
       "      <td>0.000784</td>\n",
       "      <td>0.000000</td>\n",
       "    </tr>\n",
       "    <tr>\n",
       "      <th>Cumulative variance</th>\n",
       "      <td>0.420325</td>\n",
       "      <td>0.524403</td>\n",
       "      <td>0.588981</td>\n",
       "      <td>0.641186</td>\n",
       "      <td>0.663904</td>\n",
       "      <td>0.681697</td>\n",
       "      <td>0.690825</td>\n",
       "      <td>0.697402</td>\n",
       "      <td>0.701312</td>\n",
       "      <td>0.703994</td>\n",
       "      <td>0.704778</td>\n",
       "      <td>0.704778</td>\n",
       "    </tr>\n",
       "  </tbody>\n",
       "</table>\n",
       "</div>"
      ],
      "text/plain": [
       "                             F1        F2        F3        F4        F5  \\\n",
       "SS Loadings            5.043896  1.248941  0.774931  0.626468  0.272607   \n",
       "Proportional variance  0.420325  0.104078  0.064578  0.052206  0.022717   \n",
       "Cumulative variance    0.420325  0.524403  0.588981  0.641186  0.663904   \n",
       "\n",
       "                             F6        F7        F8        F9       F10  \\\n",
       "SS Loadings            0.213525  0.109535  0.078918  0.046924  0.032179   \n",
       "Proportional variance  0.017794  0.009128  0.006577  0.003910  0.002682   \n",
       "Cumulative variance    0.681697  0.690825  0.697402  0.701312  0.703994   \n",
       "\n",
       "                            F11       F12  \n",
       "SS Loadings            0.009410  0.000000  \n",
       "Proportional variance  0.000784  0.000000  \n",
       "Cumulative variance    0.704778  0.704778  "
      ]
     },
     "execution_count": 12,
     "metadata": {},
     "output_type": "execute_result"
    }
   ],
   "source": [
    "variance, proportional_variance, cumulative_variance = fa.get_factor_variance()\n",
    "\n",
    "df_var = pd.DataFrame(\n",
    "    [variance, proportional_variance, cumulative_variance],\n",
    "    index=[\"SS Loadings\", \"Proportional variance\", \"Cumulative variance\"],\n",
    ")\n",
    "df_var.columns += 1\n",
    "df_var = df_var.add_prefix(\"F\")\n",
    "df_var"
   ]
  },
  {
   "cell_type": "markdown",
   "metadata": {
    "slideshow": {
     "slide_type": "fragment"
    }
   },
   "source": [
    "Según este criterio, deberíamos preservar 4 factores para explicar al menos el 60% de la varianza. La recomendación es observar el resultado de `Cumulative variance`."
   ]
  },
  {
   "cell_type": "markdown",
   "metadata": {
    "slideshow": {
     "slide_type": "slide"
    }
   },
   "source": [
    "#### Criterio de Cattell\n",
    "\n",
    "Recuerda que los factores extraídos contienen varianza común y única. Aunque todos los factores contienen al menos alguna varianza única, la proporción de varianza única es sustancialmente mayor en los factores posteriores. \n",
    "\n",
    "El criterio de Cattell se utiliza para **identificar el número óptimo de factores que se pueden extraer antes de que la cantidad de varianza única comience a dominar la estructura de varianza común**.\n",
    "\n",
    "La prueba de criba se obtiene graficando los autovalores contra el número de factores en su orden de extracción, y la forma de la curva resultante se usa para evaluar el punto de corte."
   ]
  },
  {
   "cell_type": "markdown",
   "metadata": {
    "slideshow": {
     "slide_type": "subslide"
    }
   },
   "source": [
    "Comenzando con el primer factor, la pendiente se inclina abruptamente hacia abajo inicialmente y luego se convierte lentamente en una línea aproximadamente horizontal en un **punto de inflexión** denominado por muchos como el \"codo\". \n",
    "\n",
    "Se considera que este punto en el que la curva comienza a enderezarse **representa los factores que contienen una varianza más única que común y, por lo tanto, son menos adecuados para la retención**."
   ]
  },
  {
   "cell_type": "markdown",
   "metadata": {
    "slideshow": {
     "slide_type": "subslide"
    }
   },
   "source": [
    "Apliquemos este criterio a nuestro ejemplo:"
   ]
  },
  {
   "cell_type": "code",
   "execution_count": 13,
   "metadata": {
    "hideCode": true,
    "hidePrompt": true,
    "scrolled": true,
    "slideshow": {
     "slide_type": "fragment"
    }
   },
   "outputs": [
    {
     "data": {
      "image/png": "[encoded data removed]",
      "text/plain": [
       "<Figure size 720x360 with 1 Axes>"
      ]
     },
     "metadata": {
      "needs_background": "light"
     },
     "output_type": "display_data"
    }
   ],
   "source": [
    "import matplotlib.pyplot as plt\n",
    "import numpy as np\n",
    "\n",
    "plt.figure(figsize=(10, 5))\n",
    "plt.scatter(np.arange(original_eigen_values.size) + 1, original_eigen_values)\n",
    "plt.plot(np.arange(original_eigen_values.size) + 1, original_eigen_values)\n",
    "plt.xlabel(\"Factors\", size=14)\n",
    "plt.ylabel(\"Eigenvalue\", size=14)\n",
    "plt.show()"
   ]
  },
  {
   "cell_type": "markdown",
   "metadata": {
    "slideshow": {
     "slide_type": "fragment"
    }
   },
   "source": [
    "En nuestro caso, el codo estaría en el factor 5, de modo que optaríamos por tener solo 4 factores. Nota que con este criterio incluimos un factor más que con el criterio de Kaiser. "
   ]
  },
  {
   "cell_type": "markdown",
   "metadata": {
    "slideshow": {
     "slide_type": "subslide"
    }
   },
   "source": [
    "Identificar el codo es muchas veces difícil y, por lo tanto, este método se considera más subjetivo que los demás."
   ]
  },
  {
   "cell_type": "markdown",
   "metadata": {
    "slideshow": {
     "slide_type": "slide"
    }
   },
   "source": [
    "#### Análisis paralelo de Horn\n",
    "\n",
    "Este procedimiento **genera un gran número (por ejemplo, 500 o 1000) de conjuntos de datos simulados con valores aleatorios** para el mismo número de variables y tamaño de muestra que nuestros datos. \n",
    "\n",
    "Luego, cada uno de estos conjuntos de datos simulados se analiza factorialmente, ya sea con componentes principales o métodos de factor común, y **los autovalores se promedian para cada factor en todos los conjuntos de datos**. \n",
    "\n",
    "A continuación, estos valores se comparan con los autovalores extraídos de los datos originales y **se conservan todos los factores con autovalores superiores a los de los conjuntos de datos simulados**."
   ]
  },
  {
   "cell_type": "markdown",
   "metadata": {
    "slideshow": {
     "slide_type": "subslide"
    }
   },
   "source": [
    "Apliquemos este método a nuestro ejemplo:"
   ]
  },
  {
   "cell_type": "code",
   "execution_count": 14,
   "metadata": {
    "slideshow": {
     "slide_type": "skip"
    }
   },
   "outputs": [
    {
     "name": "stdout",
     "output_type": "stream",
     "text": [
      "The rpy2.ipython extension is already loaded. To reload it, use:\n",
      "  %reload_ext rpy2.ipython\n"
     ]
    }
   ],
   "source": [
    "%load_ext rpy2.ipython"
   ]
  },
  {
   "cell_type": "code",
   "execution_count": 1,
   "metadata": {
    "slideshow": {
     "slide_type": "skip"
    }
   },
   "outputs": [
    {
     "name": "stderr",
     "output_type": "stream",
     "text": [
      "UsageError: Cell magic `%%R` not found.\n"
     ]
    }
   ],
   "source": [
    "%%R\n",
    "## Instalación completa. Tarda algunos minutos, pero vale la pena.\n",
    "install.packages(c(\"psych\",\"GPArotation\"), dependencies=TRUE)\n",
    "\n",
    "## Instalación rápida, sin incluir rotación oblimin\n",
    "#install.packages(\"psych\")"
   ]
  },
  {
   "cell_type": "code",
   "execution_count": 15,
   "metadata": {
    "hideCode": true,
    "hidePrompt": true,
    "slideshow": {
     "slide_type": "fragment"
    }
   },
   "outputs": [
    {
     "name": "stdout",
     "output_type": "stream",
     "text": [
      "Parallel analysis suggests that the number of factors =  4  and the number of components =  NA \n"
     ]
    },
    {
     "data": {
      "image/png": "[encoded data removed]"
     },
     "metadata": {},
     "output_type": "display_data"
    }
   ],
   "source": [
    "%%R -i scaled_df\n",
    "library(foreign)\n",
    "library(psych)\n",
    "\n",
    "# Parallel Analysis with Psych package\n",
    "parallel <- fa.parallel(scaled_df, n.iter=1000, fa=\"fa\")"
   ]
  },
  {
   "cell_type": "markdown",
   "metadata": {
    "slideshow": {
     "slide_type": "fragment"
    }
   },
   "source": [
    "El método de análisis paralelo sugiere retener 4 factores. "
   ]
  },
  {
   "cell_type": "markdown",
   "metadata": {
    "slideshow": {
     "slide_type": "slide"
    }
   },
   "source": [
    "### Extracción de factores\n",
    "\n",
    "Veamos ahora el resultado de extraer 4 factores:"
   ]
  },
  {
   "cell_type": "code",
   "execution_count": 16,
   "metadata": {
    "hideCode": true,
    "hidePrompt": true,
    "slideshow": {
     "slide_type": "subslide"
    }
   },
   "outputs": [
    {
     "name": "stdout",
     "output_type": "stream",
     "text": [
      "Cargas Factoriales:\n"
     ]
    },
    {
     "data": {
      "text/html": [
       "<div>\n",
       "<style scoped>\n",
       "    .dataframe tbody tr th:only-of-type {\n",
       "        vertical-align: middle;\n",
       "    }\n",
       "\n",
       "    .dataframe tbody tr th {\n",
       "        vertical-align: top;\n",
       "    }\n",
       "\n",
       "    .dataframe thead th {\n",
       "        text-align: right;\n",
       "    }\n",
       "</style>\n",
       "<table border=\"1\" class=\"dataframe\">\n",
       "  <thead>\n",
       "    <tr style=\"text-align: right;\">\n",
       "      <th></th>\n",
       "      <th>F1</th>\n",
       "      <th>F2</th>\n",
       "      <th>F3</th>\n",
       "      <th>F4</th>\n",
       "    </tr>\n",
       "  </thead>\n",
       "  <tbody>\n",
       "    <tr>\n",
       "      <th>e1</th>\n",
       "      <td>0.746731</td>\n",
       "      <td>-0.259467</td>\n",
       "      <td>-0.016012</td>\n",
       "      <td>-0.302649</td>\n",
       "    </tr>\n",
       "    <tr>\n",
       "      <th>e2</th>\n",
       "      <td>0.769004</td>\n",
       "      <td>-0.364312</td>\n",
       "      <td>-0.000957</td>\n",
       "      <td>0.281676</td>\n",
       "    </tr>\n",
       "    <tr>\n",
       "      <th>e3</th>\n",
       "      <td>0.582640</td>\n",
       "      <td>0.402019</td>\n",
       "      <td>0.476606</td>\n",
       "      <td>-0.135526</td>\n",
       "    </tr>\n",
       "    <tr>\n",
       "      <th>e4</th>\n",
       "      <td>0.563172</td>\n",
       "      <td>0.291738</td>\n",
       "      <td>-0.274500</td>\n",
       "      <td>0.200396</td>\n",
       "    </tr>\n",
       "    <tr>\n",
       "      <th>e5</th>\n",
       "      <td>0.695196</td>\n",
       "      <td>-0.335919</td>\n",
       "      <td>0.061153</td>\n",
       "      <td>-0.179471</td>\n",
       "    </tr>\n",
       "    <tr>\n",
       "      <th>e6</th>\n",
       "      <td>0.722729</td>\n",
       "      <td>-0.310767</td>\n",
       "      <td>-0.009162</td>\n",
       "      <td>0.167908</td>\n",
       "    </tr>\n",
       "    <tr>\n",
       "      <th>e7</th>\n",
       "      <td>0.675575</td>\n",
       "      <td>0.398699</td>\n",
       "      <td>-0.465296</td>\n",
       "      <td>-0.188224</td>\n",
       "    </tr>\n",
       "    <tr>\n",
       "      <th>e8</th>\n",
       "      <td>0.577266</td>\n",
       "      <td>0.249788</td>\n",
       "      <td>-0.073649</td>\n",
       "      <td>0.274039</td>\n",
       "    </tr>\n",
       "    <tr>\n",
       "      <th>e9</th>\n",
       "      <td>0.717223</td>\n",
       "      <td>-0.183525</td>\n",
       "      <td>0.067337</td>\n",
       "      <td>-0.242321</td>\n",
       "    </tr>\n",
       "    <tr>\n",
       "      <th>e10</th>\n",
       "      <td>0.519157</td>\n",
       "      <td>-0.191664</td>\n",
       "      <td>0.062131</td>\n",
       "      <td>0.233505</td>\n",
       "    </tr>\n",
       "    <tr>\n",
       "      <th>e11</th>\n",
       "      <td>0.607306</td>\n",
       "      <td>0.294343</td>\n",
       "      <td>-0.110923</td>\n",
       "      <td>-0.090014</td>\n",
       "    </tr>\n",
       "    <tr>\n",
       "      <th>e12</th>\n",
       "      <td>0.457525</td>\n",
       "      <td>0.376678</td>\n",
       "      <td>0.431391</td>\n",
       "      <td>0.120460</td>\n",
       "    </tr>\n",
       "  </tbody>\n",
       "</table>\n",
       "</div>"
      ],
      "text/plain": [
       "           F1        F2        F3        F4\n",
       "e1   0.746731 -0.259467 -0.016012 -0.302649\n",
       "e2   0.769004 -0.364312 -0.000957  0.281676\n",
       "e3   0.582640  0.402019  0.476606 -0.135526\n",
       "e4   0.563172  0.291738 -0.274500  0.200396\n",
       "e5   0.695196 -0.335919  0.061153 -0.179471\n",
       "e6   0.722729 -0.310767 -0.009162  0.167908\n",
       "e7   0.675575  0.398699 -0.465296 -0.188224\n",
       "e8   0.577266  0.249788 -0.073649  0.274039\n",
       "e9   0.717223 -0.183525  0.067337 -0.242321\n",
       "e10  0.519157 -0.191664  0.062131  0.233505\n",
       "e11  0.607306  0.294343 -0.110923 -0.090014\n",
       "e12  0.457525  0.376678  0.431391  0.120460"
      ]
     },
     "execution_count": 16,
     "metadata": {},
     "output_type": "execute_result"
    }
   ],
   "source": [
    "fa = FactorAnalyzer(n_factors=4, rotation=None)\n",
    "fa.fit(scaled_df)\n",
    "\n",
    "loadings = pd.DataFrame(fa.loadings_, index=scaled_df.columns)\n",
    "print(\"Cargas Factoriales:\")\n",
    "loadings.columns += 1\n",
    "loadings = loadings.add_prefix(\"F\")\n",
    "loadings"
   ]
  },
  {
   "cell_type": "markdown",
   "metadata": {
    "slideshow": {
     "slide_type": "subslide"
    }
   },
   "source": [
    "Podemos apreciar que **los factores se extraen en el orden de su varianza extraída**. El primer factor tiende a ser un factor general con casi todas las variables cargadas de manera significativa, y representa la mayor cantidad de varianza. El segundo factor y los siguientes se basan entonces en la cantidad residual de varianza. \n",
    "\n",
    "Cada uno explica porciones de variación sucesivamente más pequeñas. Debemos tener en cuenta que **el primer factor** no es necesariamente más \"importante\" que los factores subsiguientes para cualquier otro propósito (por ejemplo, predicción), pero solo que **representa la mayor varianza contabilizada en el conjunto de variables**."
   ]
  },
  {
   "cell_type": "code",
   "execution_count": 17,
   "metadata": {
    "hideCode": true,
    "hidePrompt": true,
    "slideshow": {
     "slide_type": "subslide"
    }
   },
   "outputs": [
    {
     "data": {
      "text/html": [
       "<div>\n",
       "<style scoped>\n",
       "    .dataframe tbody tr th:only-of-type {\n",
       "        vertical-align: middle;\n",
       "    }\n",
       "\n",
       "    .dataframe tbody tr th {\n",
       "        vertical-align: top;\n",
       "    }\n",
       "\n",
       "    .dataframe thead th {\n",
       "        text-align: right;\n",
       "    }\n",
       "</style>\n",
       "<table border=\"1\" class=\"dataframe\">\n",
       "  <thead>\n",
       "    <tr style=\"text-align: right;\">\n",
       "      <th></th>\n",
       "      <th>Communalities</th>\n",
       "    </tr>\n",
       "  </thead>\n",
       "  <tbody>\n",
       "    <tr>\n",
       "      <th>e1</th>\n",
       "      <td>0.716783</td>\n",
       "    </tr>\n",
       "    <tr>\n",
       "      <th>e2</th>\n",
       "      <td>0.803432</td>\n",
       "    </tr>\n",
       "    <tr>\n",
       "      <th>e3</th>\n",
       "      <td>0.746609</td>\n",
       "    </tr>\n",
       "    <tr>\n",
       "      <th>e4</th>\n",
       "      <td>0.517782</td>\n",
       "    </tr>\n",
       "    <tr>\n",
       "      <th>e5</th>\n",
       "      <td>0.632088</td>\n",
       "    </tr>\n",
       "    <tr>\n",
       "      <th>e6</th>\n",
       "      <td>0.647191</td>\n",
       "    </tr>\n",
       "    <tr>\n",
       "      <th>e7</th>\n",
       "      <td>0.867293</td>\n",
       "    </tr>\n",
       "    <tr>\n",
       "      <th>e8</th>\n",
       "      <td>0.476151</td>\n",
       "    </tr>\n",
       "    <tr>\n",
       "      <th>e9</th>\n",
       "      <td>0.611344</td>\n",
       "    </tr>\n",
       "    <tr>\n",
       "      <th>e10</th>\n",
       "      <td>0.364644</td>\n",
       "    </tr>\n",
       "    <tr>\n",
       "      <th>e11</th>\n",
       "      <td>0.475865</td>\n",
       "    </tr>\n",
       "    <tr>\n",
       "      <th>e12</th>\n",
       "      <td>0.551824</td>\n",
       "    </tr>\n",
       "  </tbody>\n",
       "</table>\n",
       "</div>"
      ],
      "text/plain": [
       "     Communalities\n",
       "e1        0.716783\n",
       "e2        0.803432\n",
       "e3        0.746609\n",
       "e4        0.517782\n",
       "e5        0.632088\n",
       "e6        0.647191\n",
       "e7        0.867293\n",
       "e8        0.476151\n",
       "e9        0.611344\n",
       "e10       0.364644\n",
       "e11       0.475865\n",
       "e12       0.551824"
      ]
     },
     "execution_count": 17,
     "metadata": {},
     "output_type": "execute_result"
    }
   ],
   "source": [
    "communalities = pd.DataFrame(\n",
    "    fa.get_communalities(), index=df.columns.values, columns=[\"Communalities\"]\n",
    ")\n",
    "communalities"
   ]
  },
  {
   "cell_type": "markdown",
   "metadata": {
    "slideshow": {
     "slide_type": "slide"
    }
   },
   "source": [
    "## Rotación de factores\n",
    "\n",
    "El término rotación significa exactamente lo que implica. Específicamente, los ejes de referencia de los factores giran alrededor del origen hasta que se alcanza alguna otra posición.\n",
    "\n",
    "El efecto final de rotar la matriz de factores es **redistribuir la varianza de los primeros factores a los últimos para lograr un patrón de factores más simple y teóricamente más significativo**."
   ]
  },
  {
   "cell_type": "markdown",
   "metadata": {
    "slideshow": {
     "slide_type": "slide"
    }
   },
   "source": [
    "### Tipos de rotación\n",
    "\n",
    "El caso más simple de rotación es una **rotación de factor ortogonal**, en la que los ejes se mantienen a 90 grados. \n",
    "\n",
    "También es posible rotar los ejes y no retener el ángulo de 90 grados entre los ejes de referencia. Cuando no está limitado a ser ortogonal, el procedimiento de rotación se denomina **rotación de factor oblicua**."
   ]
  },
  {
   "cell_type": "markdown",
   "metadata": {
    "slideshow": {
     "slide_type": "subslide"
    }
   },
   "source": [
    "Los dos tipos rotaciones se ilustran en las siguientes imágenes tomada de Hair et al. (2019):\n",
    "\n",
    "<p align=\"center\">\n",
    "  <img width=\"500\" src=\"https://github.com/renatoparedes/EstadisticaYPsicologiaMatematica/raw/main/AFE/ortogonal.png\" alt=\"Variable Types\">\n",
    "</p>"
   ]
  },
  {
   "cell_type": "markdown",
   "metadata": {
    "slideshow": {
     "slide_type": "subslide"
    }
   },
   "source": [
    "Al girar los ejes originales en el sentido de las agujas del reloj, como se indica en la figura, **los ejes se mantienen a 90 grados**. Este procedimiento significa que **los factores son matemáticamente independientes y que la rotación ha sido ortogonal**. Las cargas rotadas representan un patrón de carga de factores mucho más simplificado con variables que se cargan mucho solo en un solo factor.\n",
    "\n",
    "La agrupación de estas variables en dos grupos es más obvia después de la rotación que antes, a pesar de que la posición o configuración relativa de las variables permanece sin cambios."
   ]
  },
  {
   "cell_type": "markdown",
   "metadata": {
    "slideshow": {
     "slide_type": "slide"
    }
   },
   "source": [
    "<p align=\"center\">\n",
    "  <img width=\"500\" src=\"https://github.com/renatoparedes/EstadisticaYPsicologiaMatematica/raw/main/AFE/oblique.png\" alt=\"Variable Types\">\n",
    "</p>"
   ]
  },
  {
   "cell_type": "markdown",
   "metadata": {
    "slideshow": {
     "slide_type": "subslide"
    }
   },
   "source": [
    "Sin embargo, el método de **rotación oblicua es más flexible** porque los ejes de los factores no necesitan ser ortogonales. También es **más realista** porque no se supone que las dimensiones subyacentes teóricamente importantes no estén correlacionadas entre sí.\n",
    "\n",
    "Ten en cuenta que la rotación oblicua **representa la agrupación de variables con mayor precisión**. Esta precisión es el resultado del hecho de que cada eje factorial rotado ahora está más cerca del grupo respectivo de variables. Además, la solución oblicua **proporciona información sobre la medida en que los factores están realmente correlacionados entre sí**."
   ]
  },
  {
   "cell_type": "markdown",
   "metadata": {
    "slideshow": {
     "slide_type": "subslide"
    }
   },
   "source": [
    "Los enfoques **rotacionales ortogonales se utilizan más ampliamente** porque todos los paquetes informáticos con análisis factorial contienen opciones de rotación ortogonal y conservan la ortogonalidad entre los factores. \n",
    "\n",
    "Esto es **particularmente útil si se utilizan métodos de reducción de datos para crear puntuaciones para cada factor**, ya que estas puntuaciones también son ortogonales (es decir, **sin multicolinealidad**), lo que puede ser beneficioso en otras técnicas multivariadas."
   ]
  },
  {
   "cell_type": "markdown",
   "metadata": {
    "slideshow": {
     "slide_type": "slide"
    }
   },
   "source": [
    "#### Métodos de extracción ortogonal\n",
    "\n",
    "En la práctica, el objetivo de todos los métodos de rotación es **simplificar las filas y columnas de la matriz de cargas factoriales para facilitar la interpretación**. \n",
    "\n",
    "Al simplificar las filas, nos referimos a hacer tantos valores en cada fila lo más cerca posible de cero (es decir, maximizar la carga de una variable en un solo factor). \n",
    "\n",
    "Al simplificar las columnas, nos referimos a hacer tantos valores en cada columna tan cerca de cero como sea posible (es decir, hacer que el número de cargas altas sea lo menos posible)."
   ]
  },
  {
   "cell_type": "markdown",
   "metadata": {
    "slideshow": {
     "slide_type": "slide"
    }
   },
   "source": [
    "Se han desarrollado **tres enfoques ortogonales principales**:\n",
    "\n",
    "- Varimax: Se centra en simplificar las columnas de la matriz de factores.\n",
    "- Quartimax: Se centra en simplificar las filas de la matriz de factores.\n",
    "- Equimax: En lugar de concentrarse en la simplificación de las filas o de las columnas, intenta lograr un poco de ambas."
   ]
  },
  {
   "cell_type": "markdown",
   "metadata": {
    "slideshow": {
     "slide_type": "subslide"
    }
   },
   "source": [
    "En general, el patrón factorial obtenido por la rotación VARIMAX tiende a ser más invariante que el obtenido por el método QUARTIMAX cuando se analizan diferentes subconjuntos de variables. \n",
    "\n",
    "**El método VARIMAX ha demostrado su eficacia como método analítico para obtener una rotación ortogonal de factores y es el método de rotación ortogonal más utilizado**. \n",
    "\n",
    "En contraste, EQUIMAX no ha ganado una aceptación generalizada y se usa con poca frecuencia."
   ]
  },
  {
   "cell_type": "markdown",
   "metadata": {
    "slideshow": {
     "slide_type": "subslide"
    }
   },
   "source": [
    "Apliquemos la rotación ortogonal a nuestro ejemplo:"
   ]
  },
  {
   "cell_type": "code",
   "execution_count": 18,
   "metadata": {
    "hideCode": true,
    "hidePrompt": true,
    "slideshow": {
     "slide_type": "fragment"
    }
   },
   "outputs": [
    {
     "name": "stdout",
     "output_type": "stream",
     "text": [
      "Cargas Factoriales:\n"
     ]
    },
    {
     "data": {
      "text/html": [
       "<div>\n",
       "<style scoped>\n",
       "    .dataframe tbody tr th:only-of-type {\n",
       "        vertical-align: middle;\n",
       "    }\n",
       "\n",
       "    .dataframe tbody tr th {\n",
       "        vertical-align: top;\n",
       "    }\n",
       "\n",
       "    .dataframe thead th {\n",
       "        text-align: right;\n",
       "    }\n",
       "</style>\n",
       "<table border=\"1\" class=\"dataframe\">\n",
       "  <thead>\n",
       "    <tr style=\"text-align: right;\">\n",
       "      <th></th>\n",
       "      <th>F1</th>\n",
       "      <th>F2</th>\n",
       "      <th>F3</th>\n",
       "      <th>F4</th>\n",
       "    </tr>\n",
       "  </thead>\n",
       "  <tbody>\n",
       "    <tr>\n",
       "      <th>e1</th>\n",
       "      <td>0.759255</td>\n",
       "      <td>0.234900</td>\n",
       "      <td>0.268340</td>\n",
       "      <td>0.114587</td>\n",
       "    </tr>\n",
       "    <tr>\n",
       "      <th>e2</th>\n",
       "      <td>0.428575</td>\n",
       "      <td>0.188419</td>\n",
       "      <td>0.759220</td>\n",
       "      <td>0.088539</td>\n",
       "    </tr>\n",
       "    <tr>\n",
       "      <th>e3</th>\n",
       "      <td>0.278379</td>\n",
       "      <td>0.216322</td>\n",
       "      <td>0.043672</td>\n",
       "      <td>0.787662</td>\n",
       "    </tr>\n",
       "    <tr>\n",
       "      <th>e4</th>\n",
       "      <td>0.055105</td>\n",
       "      <td>0.633675</td>\n",
       "      <td>0.298707</td>\n",
       "      <td>0.154838</td>\n",
       "    </tr>\n",
       "    <tr>\n",
       "      <th>e5</th>\n",
       "      <td>0.684145</td>\n",
       "      <td>0.117821</td>\n",
       "      <td>0.369717</td>\n",
       "      <td>0.116022</td>\n",
       "    </tr>\n",
       "    <tr>\n",
       "      <th>e6</th>\n",
       "      <td>0.453114</td>\n",
       "      <td>0.198522</td>\n",
       "      <td>0.627683</td>\n",
       "      <td>0.092095</td>\n",
       "    </tr>\n",
       "    <tr>\n",
       "      <th>e7</th>\n",
       "      <td>0.324917</td>\n",
       "      <td>0.866867</td>\n",
       "      <td>0.013462</td>\n",
       "      <td>0.100408</td>\n",
       "    </tr>\n",
       "    <tr>\n",
       "      <th>e8</th>\n",
       "      <td>0.042483</td>\n",
       "      <td>0.489038</td>\n",
       "      <td>0.387208</td>\n",
       "      <td>0.291991</td>\n",
       "    </tr>\n",
       "    <tr>\n",
       "      <th>e9</th>\n",
       "      <td>0.671468</td>\n",
       "      <td>0.210938</td>\n",
       "      <td>0.268763</td>\n",
       "      <td>0.209157</td>\n",
       "    </tr>\n",
       "    <tr>\n",
       "      <th>e10</th>\n",
       "      <td>0.239053</td>\n",
       "      <td>0.118731</td>\n",
       "      <td>0.523929</td>\n",
       "      <td>0.137473</td>\n",
       "    </tr>\n",
       "    <tr>\n",
       "      <th>e11</th>\n",
       "      <td>0.282406</td>\n",
       "      <td>0.546373</td>\n",
       "      <td>0.111597</td>\n",
       "      <td>0.291778</td>\n",
       "    </tr>\n",
       "    <tr>\n",
       "      <th>e12</th>\n",
       "      <td>0.042111</td>\n",
       "      <td>0.172602</td>\n",
       "      <td>0.178721</td>\n",
       "      <td>0.698798</td>\n",
       "    </tr>\n",
       "  </tbody>\n",
       "</table>\n",
       "</div>"
      ],
      "text/plain": [
       "           F1        F2        F3        F4\n",
       "e1   0.759255  0.234900  0.268340  0.114587\n",
       "e2   0.428575  0.188419  0.759220  0.088539\n",
       "e3   0.278379  0.216322  0.043672  0.787662\n",
       "e4   0.055105  0.633675  0.298707  0.154838\n",
       "e5   0.684145  0.117821  0.369717  0.116022\n",
       "e6   0.453114  0.198522  0.627683  0.092095\n",
       "e7   0.324917  0.866867  0.013462  0.100408\n",
       "e8   0.042483  0.489038  0.387208  0.291991\n",
       "e9   0.671468  0.210938  0.268763  0.209157\n",
       "e10  0.239053  0.118731  0.523929  0.137473\n",
       "e11  0.282406  0.546373  0.111597  0.291778\n",
       "e12  0.042111  0.172602  0.178721  0.698798"
      ]
     },
     "execution_count": 18,
     "metadata": {},
     "output_type": "execute_result"
    }
   ],
   "source": [
    "fa = FactorAnalyzer(n_factors=4, rotation=\"varimax\")\n",
    "fa.fit(scaled_df)\n",
    "\n",
    "loadings = pd.DataFrame(fa.loadings_, index=scaled_df.columns)\n",
    "print(\"Cargas Factoriales:\")\n",
    "loadings.columns += 1\n",
    "loadings = loadings.add_prefix(\"F\")\n",
    "loadings"
   ]
  },
  {
   "cell_type": "markdown",
   "metadata": {
    "slideshow": {
     "slide_type": "fragment"
    }
   },
   "source": [
    "Podemos apreciar cómo la rotación forzó las cargas factoriales a valores cercanos a cero para las variables no relacionadas a cada factor. "
   ]
  },
  {
   "cell_type": "markdown",
   "metadata": {
    "slideshow": {
     "slide_type": "subslide"
    }
   },
   "source": [
    "Ahora veamos la estructura factorial gráficamente:"
   ]
  },
  {
   "cell_type": "code",
   "execution_count": 19,
   "metadata": {
    "hideCode": true,
    "hidePrompt": true,
    "slideshow": {
     "slide_type": "fragment"
    }
   },
   "outputs": [
    {
     "data": {
      "image/png": "[encoded data removed]"
     },
     "metadata": {},
     "output_type": "display_data"
    }
   ],
   "source": [
    "%%R -i scaled_df\n",
    "# Extrae los factores\n",
    "fit <- fa(scaled_df, nfactors=4,rotate=\"varimax\")\n",
    "\n",
    "# Genera gráfico de la estructura factorial\n",
    "structure <- fa.diagram(fit, digits=2, cut=.3)"
   ]
  },
  {
   "cell_type": "markdown",
   "metadata": {
    "slideshow": {
     "slide_type": "slide"
    }
   },
   "source": [
    "#### Métodos de extracción oblicua\n",
    "\n",
    "Las rotaciones oblicuas son similares a las rotaciones ortogonales, excepto que las rotaciones oblicuas **permiten factores correlacionados en lugar de mantener la independencia entre los factores rotados**.\n",
    "\n",
    "Con la posibilidad de factores correlacionados, el investigador de factores debe tener un cuidado adicional para validar los factores rotados oblicuamente, porque **tienen una forma adicional (no ortogonalidad) de volverse específicos de la muestra y no generalizables, particularmente con muestras pequeñas**."
   ]
  },
  {
   "cell_type": "markdown",
   "metadata": {
    "slideshow": {
     "slide_type": "subslide"
    }
   },
   "source": [
    "Se cuentan con algunas alternativas:\n",
    "\n",
    "- Oblimin: Es la más común. \n",
    "- Promax: Se puede calcular más rápidamente que una rotación oblimin directa, por lo que es útil para grandes conjuntos de datos. "
   ]
  },
  {
   "cell_type": "markdown",
   "metadata": {
    "slideshow": {
     "slide_type": "subslide"
    }
   },
   "source": [
    "Apliquemos la rotación oblicua a nuestro ejemplo:"
   ]
  },
  {
   "cell_type": "code",
   "execution_count": 20,
   "metadata": {
    "hideCode": true,
    "hidePrompt": true,
    "slideshow": {
     "slide_type": "fragment"
    }
   },
   "outputs": [
    {
     "name": "stdout",
     "output_type": "stream",
     "text": [
      "Cargas Factoriales:\n"
     ]
    },
    {
     "data": {
      "text/html": [
       "<div>\n",
       "<style scoped>\n",
       "    .dataframe tbody tr th:only-of-type {\n",
       "        vertical-align: middle;\n",
       "    }\n",
       "\n",
       "    .dataframe tbody tr th {\n",
       "        vertical-align: top;\n",
       "    }\n",
       "\n",
       "    .dataframe thead th {\n",
       "        text-align: right;\n",
       "    }\n",
       "</style>\n",
       "<table border=\"1\" class=\"dataframe\">\n",
       "  <thead>\n",
       "    <tr style=\"text-align: right;\">\n",
       "      <th></th>\n",
       "      <th>F1</th>\n",
       "      <th>F2</th>\n",
       "      <th>F3</th>\n",
       "      <th>F4</th>\n",
       "    </tr>\n",
       "  </thead>\n",
       "  <tbody>\n",
       "    <tr>\n",
       "      <th>e1</th>\n",
       "      <td>0.397107</td>\n",
       "      <td>0.201834</td>\n",
       "      <td>0.069122</td>\n",
       "      <td>0.492619</td>\n",
       "    </tr>\n",
       "    <tr>\n",
       "      <th>e2</th>\n",
       "      <td>0.918961</td>\n",
       "      <td>-0.017542</td>\n",
       "      <td>-0.022722</td>\n",
       "      <td>-0.019491</td>\n",
       "    </tr>\n",
       "    <tr>\n",
       "      <th>e3</th>\n",
       "      <td>-0.076456</td>\n",
       "      <td>0.028047</td>\n",
       "      <td>0.862679</td>\n",
       "      <td>0.101513</td>\n",
       "    </tr>\n",
       "    <tr>\n",
       "      <th>e4</th>\n",
       "      <td>0.232403</td>\n",
       "      <td>0.578918</td>\n",
       "      <td>0.034724</td>\n",
       "      <td>-0.260607</td>\n",
       "    </tr>\n",
       "    <tr>\n",
       "      <th>e5</th>\n",
       "      <td>0.518799</td>\n",
       "      <td>0.033631</td>\n",
       "      <td>0.075419</td>\n",
       "      <td>0.406685</td>\n",
       "    </tr>\n",
       "    <tr>\n",
       "      <th>e6</th>\n",
       "      <td>0.768151</td>\n",
       "      <td>0.035069</td>\n",
       "      <td>-0.002647</td>\n",
       "      <td>0.060743</td>\n",
       "    </tr>\n",
       "    <tr>\n",
       "      <th>e7</th>\n",
       "      <td>-0.074991</td>\n",
       "      <td>0.962508</td>\n",
       "      <td>-0.023864</td>\n",
       "      <td>0.062771</td>\n",
       "    </tr>\n",
       "    <tr>\n",
       "      <th>e8</th>\n",
       "      <td>0.329802</td>\n",
       "      <td>0.350162</td>\n",
       "      <td>0.203184</td>\n",
       "      <td>-0.290404</td>\n",
       "    </tr>\n",
       "    <tr>\n",
       "      <th>e9</th>\n",
       "      <td>0.367315</td>\n",
       "      <td>0.142194</td>\n",
       "      <td>0.179593</td>\n",
       "      <td>0.409873</td>\n",
       "    </tr>\n",
       "    <tr>\n",
       "      <th>e10</th>\n",
       "      <td>0.611126</td>\n",
       "      <td>-0.050136</td>\n",
       "      <td>0.072485</td>\n",
       "      <td>-0.069287</td>\n",
       "    </tr>\n",
       "    <tr>\n",
       "      <th>e11</th>\n",
       "      <td>0.044906</td>\n",
       "      <td>0.516322</td>\n",
       "      <td>0.233552</td>\n",
       "      <td>0.039855</td>\n",
       "    </tr>\n",
       "    <tr>\n",
       "      <th>e12</th>\n",
       "      <td>0.059873</td>\n",
       "      <td>-0.054307</td>\n",
       "      <td>0.746892</td>\n",
       "      <td>-0.155114</td>\n",
       "    </tr>\n",
       "  </tbody>\n",
       "</table>\n",
       "</div>"
      ],
      "text/plain": [
       "           F1        F2        F3        F4\n",
       "e1   0.397107  0.201834  0.069122  0.492619\n",
       "e2   0.918961 -0.017542 -0.022722 -0.019491\n",
       "e3  -0.076456  0.028047  0.862679  0.101513\n",
       "e4   0.232403  0.578918  0.034724 -0.260607\n",
       "e5   0.518799  0.033631  0.075419  0.406685\n",
       "e6   0.768151  0.035069 -0.002647  0.060743\n",
       "e7  -0.074991  0.962508 -0.023864  0.062771\n",
       "e8   0.329802  0.350162  0.203184 -0.290404\n",
       "e9   0.367315  0.142194  0.179593  0.409873\n",
       "e10  0.611126 -0.050136  0.072485 -0.069287\n",
       "e11  0.044906  0.516322  0.233552  0.039855\n",
       "e12  0.059873 -0.054307  0.746892 -0.155114"
      ]
     },
     "execution_count": 20,
     "metadata": {},
     "output_type": "execute_result"
    }
   ],
   "source": [
    "fa = FactorAnalyzer(n_factors=4, rotation=\"oblimin\")\n",
    "fa.fit(scaled_df)\n",
    "\n",
    "loadings = pd.DataFrame(fa.loadings_, index=scaled_df.columns)\n",
    "print(\"Cargas Factoriales:\")\n",
    "loadings.columns += 1\n",
    "loadings = loadings.add_prefix(\"F\")\n",
    "loadings"
   ]
  },
  {
   "cell_type": "markdown",
   "metadata": {
    "slideshow": {
     "slide_type": "subslide"
    }
   },
   "source": [
    "Dado que los factores no son necesariamente ortogonales, podemos explorar la correlación entre estos:"
   ]
  },
  {
   "cell_type": "code",
   "execution_count": 21,
   "metadata": {
    "hideCode": true,
    "hidePrompt": true,
    "slideshow": {
     "slide_type": "fragment"
    }
   },
   "outputs": [
    {
     "name": "stdout",
     "output_type": "stream",
     "text": [
      "Correalación entre factores:\n"
     ]
    },
    {
     "data": {
      "text/html": [
       "<div>\n",
       "<style scoped>\n",
       "    .dataframe tbody tr th:only-of-type {\n",
       "        vertical-align: middle;\n",
       "    }\n",
       "\n",
       "    .dataframe tbody tr th {\n",
       "        vertical-align: top;\n",
       "    }\n",
       "\n",
       "    .dataframe thead th {\n",
       "        text-align: right;\n",
       "    }\n",
       "</style>\n",
       "<table border=\"1\" class=\"dataframe\">\n",
       "  <thead>\n",
       "    <tr style=\"text-align: right;\">\n",
       "      <th></th>\n",
       "      <th>F1</th>\n",
       "      <th>F2</th>\n",
       "      <th>F3</th>\n",
       "      <th>F4</th>\n",
       "    </tr>\n",
       "  </thead>\n",
       "  <tbody>\n",
       "    <tr>\n",
       "      <th>F1</th>\n",
       "      <td>1.000000</td>\n",
       "      <td>0.464985</td>\n",
       "      <td>0.407983</td>\n",
       "      <td>0.302323</td>\n",
       "    </tr>\n",
       "    <tr>\n",
       "      <th>F2</th>\n",
       "      <td>0.464985</td>\n",
       "      <td>1.000000</td>\n",
       "      <td>0.457979</td>\n",
       "      <td>0.171127</td>\n",
       "    </tr>\n",
       "    <tr>\n",
       "      <th>F3</th>\n",
       "      <td>0.407983</td>\n",
       "      <td>0.457979</td>\n",
       "      <td>1.000000</td>\n",
       "      <td>0.130324</td>\n",
       "    </tr>\n",
       "    <tr>\n",
       "      <th>F4</th>\n",
       "      <td>0.302323</td>\n",
       "      <td>0.171127</td>\n",
       "      <td>0.130324</td>\n",
       "      <td>1.000000</td>\n",
       "    </tr>\n",
       "  </tbody>\n",
       "</table>\n",
       "</div>"
      ],
      "text/plain": [
       "          F1        F2        F3        F4\n",
       "F1  1.000000  0.464985  0.407983  0.302323\n",
       "F2  0.464985  1.000000  0.457979  0.171127\n",
       "F3  0.407983  0.457979  1.000000  0.130324\n",
       "F4  0.302323  0.171127  0.130324  1.000000"
      ]
     },
     "execution_count": 21,
     "metadata": {},
     "output_type": "execute_result"
    }
   ],
   "source": [
    "factor_corr = pd.DataFrame(fa.phi_)\n",
    "print(\"Correalación entre factores:\")\n",
    "factor_corr.columns += 1\n",
    "factor_corr.index += 1\n",
    "factor_corr.set_index(\"F\" + factor_corr.index.astype(str), inplace=True)\n",
    "factor_corr = factor_corr.add_prefix(\"F\")\n",
    "factor_corr"
   ]
  },
  {
   "cell_type": "markdown",
   "metadata": {
    "hidePrompt": false,
    "slideshow": {
     "slide_type": "subslide"
    }
   },
   "source": [
    "Además, podemos examinar la matriz de estructura, la cual muestra las correlaciones entre las variables observadas y los factores. \n",
    "\n",
    "> Nota: La matriz de estructura se puede obtener multiplicando la matriz de cargas factoriales por la matriz de correlación entre factores."
   ]
  },
  {
   "cell_type": "code",
   "execution_count": 22,
   "metadata": {
    "hideCode": true,
    "hidePrompt": true,
    "slideshow": {
     "slide_type": "fragment"
    }
   },
   "outputs": [
    {
     "name": "stdout",
     "output_type": "stream",
     "text": [
      "Matriz de estructura:\n"
     ]
    },
    {
     "data": {
      "text/html": [
       "<div>\n",
       "<style scoped>\n",
       "    .dataframe tbody tr th:only-of-type {\n",
       "        vertical-align: middle;\n",
       "    }\n",
       "\n",
       "    .dataframe tbody tr th {\n",
       "        vertical-align: top;\n",
       "    }\n",
       "\n",
       "    .dataframe thead th {\n",
       "        text-align: right;\n",
       "    }\n",
       "</style>\n",
       "<table border=\"1\" class=\"dataframe\">\n",
       "  <thead>\n",
       "    <tr style=\"text-align: right;\">\n",
       "      <th></th>\n",
       "      <th>F1</th>\n",
       "      <th>F2</th>\n",
       "      <th>F3</th>\n",
       "      <th>F4</th>\n",
       "    </tr>\n",
       "  </thead>\n",
       "  <tbody>\n",
       "    <tr>\n",
       "      <th>e1</th>\n",
       "      <td>0.668088</td>\n",
       "      <td>0.502440</td>\n",
       "      <td>0.387771</td>\n",
       "      <td>0.656221</td>\n",
       "    </tr>\n",
       "    <tr>\n",
       "      <th>e2</th>\n",
       "      <td>0.895642</td>\n",
       "      <td>0.396020</td>\n",
       "      <td>0.341624</td>\n",
       "      <td>0.252369</td>\n",
       "    </tr>\n",
       "    <tr>\n",
       "      <th>e3</th>\n",
       "      <td>0.319233</td>\n",
       "      <td>0.404956</td>\n",
       "      <td>0.857561</td>\n",
       "      <td>0.195626</td>\n",
       "    </tr>\n",
       "    <tr>\n",
       "      <th>e4</th>\n",
       "      <td>0.436971</td>\n",
       "      <td>0.658288</td>\n",
       "      <td>0.360709</td>\n",
       "      <td>-0.086752</td>\n",
       "    </tr>\n",
       "    <tr>\n",
       "      <th>e5</th>\n",
       "      <td>0.688157</td>\n",
       "      <td>0.379000</td>\n",
       "      <td>0.355483</td>\n",
       "      <td>0.579114</td>\n",
       "    </tr>\n",
       "    <tr>\n",
       "      <th>e6</th>\n",
       "      <td>0.801742</td>\n",
       "      <td>0.401431</td>\n",
       "      <td>0.334723</td>\n",
       "      <td>0.298629</td>\n",
       "    </tr>\n",
       "    <tr>\n",
       "      <th>e7</th>\n",
       "      <td>0.381802</td>\n",
       "      <td>0.927451</td>\n",
       "      <td>0.394529</td>\n",
       "      <td>0.201700</td>\n",
       "    </tr>\n",
       "    <tr>\n",
       "      <th>e8</th>\n",
       "      <td>0.487722</td>\n",
       "      <td>0.546874</td>\n",
       "      <td>0.460258</td>\n",
       "      <td>-0.104296</td>\n",
       "    </tr>\n",
       "    <tr>\n",
       "      <th>e9</th>\n",
       "      <td>0.630618</td>\n",
       "      <td>0.465381</td>\n",
       "      <td>0.447990</td>\n",
       "      <td>0.568659</td>\n",
       "    </tr>\n",
       "    <tr>\n",
       "      <th>e10</th>\n",
       "      <td>0.596440</td>\n",
       "      <td>0.255369</td>\n",
       "      <td>0.289823</td>\n",
       "      <td>0.116338</td>\n",
       "    </tr>\n",
       "    <tr>\n",
       "      <th>e11</th>\n",
       "      <td>0.392323</td>\n",
       "      <td>0.650985</td>\n",
       "      <td>0.493531</td>\n",
       "      <td>0.172225</td>\n",
       "    </tr>\n",
       "    <tr>\n",
       "      <th>e12</th>\n",
       "      <td>0.292445</td>\n",
       "      <td>0.289049</td>\n",
       "      <td>0.726232</td>\n",
       "      <td>-0.048968</td>\n",
       "    </tr>\n",
       "  </tbody>\n",
       "</table>\n",
       "</div>"
      ],
      "text/plain": [
       "           F1        F2        F3        F4\n",
       "e1   0.668088  0.502440  0.387771  0.656221\n",
       "e2   0.895642  0.396020  0.341624  0.252369\n",
       "e3   0.319233  0.404956  0.857561  0.195626\n",
       "e4   0.436971  0.658288  0.360709 -0.086752\n",
       "e5   0.688157  0.379000  0.355483  0.579114\n",
       "e6   0.801742  0.401431  0.334723  0.298629\n",
       "e7   0.381802  0.927451  0.394529  0.201700\n",
       "e8   0.487722  0.546874  0.460258 -0.104296\n",
       "e9   0.630618  0.465381  0.447990  0.568659\n",
       "e10  0.596440  0.255369  0.289823  0.116338\n",
       "e11  0.392323  0.650985  0.493531  0.172225\n",
       "e12  0.292445  0.289049  0.726232 -0.048968"
      ]
     },
     "execution_count": 22,
     "metadata": {},
     "output_type": "execute_result"
    }
   ],
   "source": [
    "structure = pd.DataFrame(fa.structure_, index=scaled_df.columns)\n",
    "print(\"Matriz de estructura:\")\n",
    "structure.columns += 1\n",
    "structure = structure.add_prefix(\"F\")\n",
    "structure"
   ]
  },
  {
   "cell_type": "markdown",
   "metadata": {
    "slideshow": {
     "slide_type": "subslide"
    }
   },
   "source": [
    "Podemos sintetizar esta información gráficamente: "
   ]
  },
  {
   "cell_type": "code",
   "execution_count": 23,
   "metadata": {
    "hideCode": true,
    "hidePrompt": true,
    "slideshow": {
     "slide_type": "fragment"
    }
   },
   "outputs": [
    {
     "name": "stderr",
     "output_type": "stream",
     "text": [
      "R[write to console]: Loading required namespace: GPArotation\n",
      "\n"
     ]
    },
    {
     "data": {
      "image/png": "[encoded data removed]"
     },
     "metadata": {},
     "output_type": "display_data"
    }
   ],
   "source": [
    "%%R -i scaled_df\n",
    "# Extrae los factores\n",
    "fit <- fa(scaled_df, nfactors=4,rotate=\"oblimin\")\n",
    "\n",
    "# Genera gráfico de la estructura factorial\n",
    "structure <- fa.diagram(fit, digits=2, cut=.3)"
   ]
  },
  {
   "cell_type": "markdown",
   "metadata": {
    "slideshow": {
     "slide_type": "slide"
    }
   },
   "source": [
    "## Interpretación de Factores\n",
    "\n"
   ]
  },
  {
   "cell_type": "markdown",
   "metadata": {
    "slideshow": {
     "slide_type": "slide"
    }
   },
   "source": [
    "### Examinar las Cargas Factoriales\n",
    "\n",
    "#### Signifcancia práctica\n",
    "\n",
    "Utilizando la importancia práctica como criterio, podemos evaluar las cargas de la siguiente manera:\n",
    "- Las cargas factoriales inferiores a .10 pueden considerarse equivalentes a cero con el fin de evaluar la estructura simple.\n",
    "- Se considera que las cargas factoriales en el rango de .30 a .40 cumplen con el nivel mínimo para la interpretación de la estructura.\n",
    "- Las cargas de .50 o más se consideran significativas practicamente.\n",
    "- Las cargas superiores a .70 se consideran indicativas de una estructura bien definida y son el objetivo de cualquier análisis factorial."
   ]
  },
  {
   "cell_type": "markdown",
   "metadata": {
    "slideshow": {
     "slide_type": "subslide"
    }
   },
   "source": [
    "En síntesis, aunque las cargas factoriales de .30 a .40 son mínimamente aceptables, **los valores superiores a .6 generalmente se consideran necesarios para la importancia práctica**."
   ]
  },
  {
   "cell_type": "markdown",
   "metadata": {
    "slideshow": {
     "slide_type": "subslide"
    }
   },
   "source": [
    "En nuestro ejemplo de modelo simple de 4 factores extraidos rotados ortogonalmente, consideremos un punto de corte de .5 para evaluar la significancia práctica de las cargas factoriales:"
   ]
  },
  {
   "cell_type": "code",
   "execution_count": 24,
   "metadata": {
    "hideCode": true,
    "hidePrompt": true,
    "slideshow": {
     "slide_type": "fragment"
    }
   },
   "outputs": [
    {
     "data": {
      "image/png": "[encoded data removed]"
     },
     "metadata": {},
     "output_type": "display_data"
    }
   ],
   "source": [
    "%%R\n",
    "# Extrae los factores\n",
    "fit <- fa(scaled_df, nfactors=4,rotate=\"varimax\")\n",
    "\n",
    "# Genera gráfico de la estructura factorial\n",
    "structure <- fa.diagram(fit, digits=2, cut=.5)"
   ]
  },
  {
   "cell_type": "markdown",
   "metadata": {
    "slideshow": {
     "slide_type": "fragment"
    }
   },
   "source": [
    "Podemos observar que la variable `e8` no alcanza el mínimo para ser asociado a uno de los factores latentes. "
   ]
  },
  {
   "cell_type": "markdown",
   "metadata": {
    "slideshow": {
     "slide_type": "slide"
    }
   },
   "source": [
    "#### Significancia estadística\n",
    "\n",
    "Para ser consideradas estadísticamente significativas:\n",
    "- Se necesita una carga menor dado un tamaño de muestra mayor o un menor número de variables analizadas.\n",
    "- Se necesita una carga mayor dada una solución factorial con un mayor número de factores, especialmente al evaluar las cargas en factores posteriores."
   ]
  },
  {
   "cell_type": "markdown",
   "metadata": {
    "slideshow": {
     "slide_type": "subslide"
    }
   },
   "source": [
    "Veamos los criterios para evaluar la significancia estadística de las cargas factoriales según el tamaño de muestra (Hair et al. 2019):\n",
    "\n",
    "<p align=\"center\">\n",
    "  <img width=\"400\" src=\"https://github.com/renatoparedes/EstadisticaYPsicologiaMatematica/raw/main/AFE/sig.png\" alt=\"Variable Types\">\n",
    "</p>\n",
    "\n",
    "Las pruebas estadísticas de significancia para las cargas factoriales **son generalmente conservadoras y deben considerarse solo como puntos de partida necesarios para incluir una variable para una consideración adicional**."
   ]
  },
  {
   "cell_type": "markdown",
   "metadata": {
    "slideshow": {
     "slide_type": "subslide"
    }
   },
   "source": [
    "En nuestro ejemplo, contamos con una muestra de 357 casos, por lo que podemos esperar significancia estadística de las cargas factoriales a partir de .3:"
   ]
  },
  {
   "cell_type": "code",
   "execution_count": 25,
   "metadata": {
    "hideCode": true,
    "hidePrompt": true,
    "slideshow": {
     "slide_type": "fragment"
    }
   },
   "outputs": [
    {
     "data": {
      "image/png": "[encoded data removed]"
     },
     "metadata": {},
     "output_type": "display_data"
    }
   ],
   "source": [
    "%%R\n",
    "# Genera gráfico de la estructura factorial\n",
    "structure <- fa.diagram(fit, digits=2, cut=.3)"
   ]
  },
  {
   "cell_type": "markdown",
   "metadata": {
    "slideshow": {
     "slide_type": "fragment"
    }
   },
   "source": [
    "Podemos observar que todas las variables tienen cargas factoriales estadísticamente significativas en al menos un factor.  "
   ]
  },
  {
   "cell_type": "markdown",
   "metadata": {
    "slideshow": {
     "slide_type": "slide"
    }
   },
   "source": [
    "#### Cargas cruzadas\n",
    "\n",
    "Una **estructura de factores óptima**, denominada estructura simple, **existe cuando todas las variables tienen cargas altas solo en un factor y cargas muy bajas en todos los demás factores**.\n",
    "\n",
    "Las cargas cruzadas de una variable (cargas en dos factores) pueden evaluarse por la **razón de sus cargas al cuadrado** y clasificarse como problemáticas (razón entre 1.0 y 1.5), potenciales (razón entre 1.5 y 2.0) o ignorables (razón mayor que 2.0). \n",
    "\n",
    "Las cargas cruzadas problemáticas, y quizás incluso las potenciales, se eliminan a menos que estén justificadas teóricamente o el objetivo sea estrictamente la reducción de datos."
   ]
  },
  {
   "cell_type": "markdown",
   "metadata": {
    "slideshow": {
     "slide_type": "subslide"
    }
   },
   "source": [
    "Evaluemos las cargas cruzadas en nuestro ejemplo:"
   ]
  },
  {
   "cell_type": "code",
   "execution_count": 26,
   "metadata": {
    "hideCode": true,
    "hidePrompt": true,
    "slideshow": {
     "slide_type": "fragment"
    }
   },
   "outputs": [
    {
     "data": {
      "text/html": [
       "<div>\n",
       "<style scoped>\n",
       "    .dataframe tbody tr th:only-of-type {\n",
       "        vertical-align: middle;\n",
       "    }\n",
       "\n",
       "    .dataframe tbody tr th {\n",
       "        vertical-align: top;\n",
       "    }\n",
       "\n",
       "    .dataframe thead th {\n",
       "        text-align: right;\n",
       "    }\n",
       "</style>\n",
       "<table border=\"1\" class=\"dataframe\">\n",
       "  <thead>\n",
       "    <tr style=\"text-align: right;\">\n",
       "      <th></th>\n",
       "      <th>F1</th>\n",
       "      <th>F2</th>\n",
       "      <th>F3</th>\n",
       "      <th>F4</th>\n",
       "    </tr>\n",
       "  </thead>\n",
       "  <tbody>\n",
       "    <tr>\n",
       "      <th>e1</th>\n",
       "      <td>0.759255</td>\n",
       "      <td>NaN</td>\n",
       "      <td>NaN</td>\n",
       "      <td>NaN</td>\n",
       "    </tr>\n",
       "    <tr>\n",
       "      <th>e2</th>\n",
       "      <td>0.428575</td>\n",
       "      <td>NaN</td>\n",
       "      <td>0.759220</td>\n",
       "      <td>NaN</td>\n",
       "    </tr>\n",
       "    <tr>\n",
       "      <th>e3</th>\n",
       "      <td>NaN</td>\n",
       "      <td>NaN</td>\n",
       "      <td>NaN</td>\n",
       "      <td>0.787662</td>\n",
       "    </tr>\n",
       "    <tr>\n",
       "      <th>e4</th>\n",
       "      <td>NaN</td>\n",
       "      <td>0.633675</td>\n",
       "      <td>NaN</td>\n",
       "      <td>NaN</td>\n",
       "    </tr>\n",
       "    <tr>\n",
       "      <th>e5</th>\n",
       "      <td>0.684145</td>\n",
       "      <td>NaN</td>\n",
       "      <td>0.369717</td>\n",
       "      <td>NaN</td>\n",
       "    </tr>\n",
       "    <tr>\n",
       "      <th>e6</th>\n",
       "      <td>0.453114</td>\n",
       "      <td>NaN</td>\n",
       "      <td>0.627683</td>\n",
       "      <td>NaN</td>\n",
       "    </tr>\n",
       "    <tr>\n",
       "      <th>e7</th>\n",
       "      <td>0.324917</td>\n",
       "      <td>0.866867</td>\n",
       "      <td>NaN</td>\n",
       "      <td>NaN</td>\n",
       "    </tr>\n",
       "    <tr>\n",
       "      <th>e8</th>\n",
       "      <td>NaN</td>\n",
       "      <td>0.489038</td>\n",
       "      <td>0.387208</td>\n",
       "      <td>NaN</td>\n",
       "    </tr>\n",
       "    <tr>\n",
       "      <th>e9</th>\n",
       "      <td>0.671468</td>\n",
       "      <td>NaN</td>\n",
       "      <td>NaN</td>\n",
       "      <td>NaN</td>\n",
       "    </tr>\n",
       "    <tr>\n",
       "      <th>e10</th>\n",
       "      <td>NaN</td>\n",
       "      <td>NaN</td>\n",
       "      <td>0.523929</td>\n",
       "      <td>NaN</td>\n",
       "    </tr>\n",
       "    <tr>\n",
       "      <th>e11</th>\n",
       "      <td>NaN</td>\n",
       "      <td>0.546373</td>\n",
       "      <td>NaN</td>\n",
       "      <td>NaN</td>\n",
       "    </tr>\n",
       "    <tr>\n",
       "      <th>e12</th>\n",
       "      <td>NaN</td>\n",
       "      <td>NaN</td>\n",
       "      <td>NaN</td>\n",
       "      <td>0.698798</td>\n",
       "    </tr>\n",
       "  </tbody>\n",
       "</table>\n",
       "</div>"
      ],
      "text/plain": [
       "           F1        F2        F3        F4\n",
       "e1   0.759255       NaN       NaN       NaN\n",
       "e2   0.428575       NaN  0.759220       NaN\n",
       "e3        NaN       NaN       NaN  0.787662\n",
       "e4        NaN  0.633675       NaN       NaN\n",
       "e5   0.684145       NaN  0.369717       NaN\n",
       "e6   0.453114       NaN  0.627683       NaN\n",
       "e7   0.324917  0.866867       NaN       NaN\n",
       "e8        NaN  0.489038  0.387208       NaN\n",
       "e9   0.671468       NaN       NaN       NaN\n",
       "e10       NaN       NaN  0.523929       NaN\n",
       "e11       NaN  0.546373       NaN       NaN\n",
       "e12       NaN       NaN       NaN  0.698798"
      ]
     },
     "execution_count": 26,
     "metadata": {},
     "output_type": "execute_result"
    }
   ],
   "source": [
    "fa_int = FactorAnalyzer(n_factors=4, rotation=\"varimax\")\n",
    "fa_int.fit(scaled_df)\n",
    "\n",
    "sig_loadings = pd.DataFrame(fa_int.loadings_, index=scaled_df.columns)\n",
    "sig_loadings[sig_loadings < 0.3] = None\n",
    "sig_loadings.columns += 1\n",
    "sig_loadings = sig_loadings.add_prefix(\"F\")\n",
    "sig_loadings"
   ]
  },
  {
   "cell_type": "markdown",
   "metadata": {
    "slideshow": {
     "slide_type": "fragment"
    }
   },
   "source": [
    "Aquí se muestran las cargas factoriales con significancia estadística. Podemos observar más de una variable con cargas cruzadas. "
   ]
  },
  {
   "cell_type": "markdown",
   "metadata": {
    "slideshow": {
     "slide_type": "subslide"
    }
   },
   "source": [
    "Ahora examinemos la razón de sus cargas al cuadrado:"
   ]
  },
  {
   "cell_type": "code",
   "execution_count": 27,
   "metadata": {
    "hideCode": true,
    "hidePrompt": true,
    "slideshow": {
     "slide_type": "fragment"
    }
   },
   "outputs": [
    {
     "name": "stdout",
     "output_type": "stream",
     "text": [
      "Cargas Factoriales al cuadrado:\n"
     ]
    },
    {
     "data": {
      "text/html": [
       "<div>\n",
       "<style scoped>\n",
       "    .dataframe tbody tr th:only-of-type {\n",
       "        vertical-align: middle;\n",
       "    }\n",
       "\n",
       "    .dataframe tbody tr th {\n",
       "        vertical-align: top;\n",
       "    }\n",
       "\n",
       "    .dataframe thead th {\n",
       "        text-align: right;\n",
       "    }\n",
       "</style>\n",
       "<table border=\"1\" class=\"dataframe\">\n",
       "  <thead>\n",
       "    <tr style=\"text-align: right;\">\n",
       "      <th></th>\n",
       "      <th>F1</th>\n",
       "      <th>F2</th>\n",
       "      <th>F3</th>\n",
       "      <th>F4</th>\n",
       "      <th>Ratio</th>\n",
       "      <th>Classification</th>\n",
       "    </tr>\n",
       "  </thead>\n",
       "  <tbody>\n",
       "    <tr>\n",
       "      <th>e1</th>\n",
       "      <td>0.576468</td>\n",
       "      <td>0.055178</td>\n",
       "      <td>0.072006</td>\n",
       "      <td>0.013130</td>\n",
       "      <td>8.005785</td>\n",
       "      <td>Ignorable</td>\n",
       "    </tr>\n",
       "    <tr>\n",
       "      <th>e2</th>\n",
       "      <td>0.183677</td>\n",
       "      <td>0.035502</td>\n",
       "      <td>0.576415</td>\n",
       "      <td>0.007839</td>\n",
       "      <td>3.138204</td>\n",
       "      <td>Ignorable</td>\n",
       "    </tr>\n",
       "    <tr>\n",
       "      <th>e3</th>\n",
       "      <td>0.077495</td>\n",
       "      <td>0.046795</td>\n",
       "      <td>0.001907</td>\n",
       "      <td>0.620411</td>\n",
       "      <td>8.005811</td>\n",
       "      <td>Ignorable</td>\n",
       "    </tr>\n",
       "    <tr>\n",
       "      <th>e4</th>\n",
       "      <td>0.003037</td>\n",
       "      <td>0.401544</td>\n",
       "      <td>0.089226</td>\n",
       "      <td>0.023975</td>\n",
       "      <td>4.500301</td>\n",
       "      <td>Ignorable</td>\n",
       "    </tr>\n",
       "    <tr>\n",
       "      <th>e5</th>\n",
       "      <td>0.468054</td>\n",
       "      <td>0.013882</td>\n",
       "      <td>0.136691</td>\n",
       "      <td>0.013461</td>\n",
       "      <td>3.424181</td>\n",
       "      <td>Ignorable</td>\n",
       "    </tr>\n",
       "    <tr>\n",
       "      <th>e6</th>\n",
       "      <td>0.205312</td>\n",
       "      <td>0.039411</td>\n",
       "      <td>0.393986</td>\n",
       "      <td>0.008481</td>\n",
       "      <td>1.918960</td>\n",
       "      <td>Potential</td>\n",
       "    </tr>\n",
       "    <tr>\n",
       "      <th>e7</th>\n",
       "      <td>0.105571</td>\n",
       "      <td>0.751458</td>\n",
       "      <td>0.000181</td>\n",
       "      <td>0.010082</td>\n",
       "      <td>7.118011</td>\n",
       "      <td>Ignorable</td>\n",
       "    </tr>\n",
       "    <tr>\n",
       "      <th>e8</th>\n",
       "      <td>0.001805</td>\n",
       "      <td>0.239158</td>\n",
       "      <td>0.149930</td>\n",
       "      <td>0.085259</td>\n",
       "      <td>1.595129</td>\n",
       "      <td>Potential</td>\n",
       "    </tr>\n",
       "    <tr>\n",
       "      <th>e9</th>\n",
       "      <td>0.450869</td>\n",
       "      <td>0.044495</td>\n",
       "      <td>0.072233</td>\n",
       "      <td>0.043747</td>\n",
       "      <td>6.241851</td>\n",
       "      <td>Ignorable</td>\n",
       "    </tr>\n",
       "    <tr>\n",
       "      <th>e10</th>\n",
       "      <td>0.057146</td>\n",
       "      <td>0.014097</td>\n",
       "      <td>0.274502</td>\n",
       "      <td>0.018899</td>\n",
       "      <td>4.803476</td>\n",
       "      <td>Ignorable</td>\n",
       "    </tr>\n",
       "    <tr>\n",
       "      <th>e11</th>\n",
       "      <td>0.079753</td>\n",
       "      <td>0.298523</td>\n",
       "      <td>0.012454</td>\n",
       "      <td>0.085135</td>\n",
       "      <td>3.506484</td>\n",
       "      <td>Ignorable</td>\n",
       "    </tr>\n",
       "    <tr>\n",
       "      <th>e12</th>\n",
       "      <td>0.001773</td>\n",
       "      <td>0.029791</td>\n",
       "      <td>0.031941</td>\n",
       "      <td>0.488318</td>\n",
       "      <td>15.288116</td>\n",
       "      <td>Ignorable</td>\n",
       "    </tr>\n",
       "  </tbody>\n",
       "</table>\n",
       "</div>"
      ],
      "text/plain": [
       "           F1        F2        F3        F4      Ratio Classification\n",
       "e1   0.576468  0.055178  0.072006  0.013130   8.005785      Ignorable\n",
       "e2   0.183677  0.035502  0.576415  0.007839   3.138204      Ignorable\n",
       "e3   0.077495  0.046795  0.001907  0.620411   8.005811      Ignorable\n",
       "e4   0.003037  0.401544  0.089226  0.023975   4.500301      Ignorable\n",
       "e5   0.468054  0.013882  0.136691  0.013461   3.424181      Ignorable\n",
       "e6   0.205312  0.039411  0.393986  0.008481   1.918960      Potential\n",
       "e7   0.105571  0.751458  0.000181  0.010082   7.118011      Ignorable\n",
       "e8   0.001805  0.239158  0.149930  0.085259   1.595129      Potential\n",
       "e9   0.450869  0.044495  0.072233  0.043747   6.241851      Ignorable\n",
       "e10  0.057146  0.014097  0.274502  0.018899   4.803476      Ignorable\n",
       "e11  0.079753  0.298523  0.012454  0.085135   3.506484      Ignorable\n",
       "e12  0.001773  0.029791  0.031941  0.488318  15.288116      Ignorable"
      ]
     },
     "execution_count": 27,
     "metadata": {},
     "output_type": "execute_result"
    }
   ],
   "source": [
    "fa_int = FactorAnalyzer(n_factors=4, rotation=\"varimax\")\n",
    "fa_int.fit(scaled_df)\n",
    "\n",
    "\n",
    "def cross_loading_eval(ratio):\n",
    "    if ratio < 1.5:\n",
    "        return \"Problematic\"\n",
    "    elif ratio < 2:\n",
    "        return \"Potential\"\n",
    "    else:\n",
    "        return \"Ignorable\"\n",
    "\n",
    "\n",
    "squared_loadings = pd.DataFrame(fa_int.loadings_**2, index=scaled_df.columns)\n",
    "squared_loadings.columns += 1\n",
    "squared_loadings = squared_loadings.add_prefix(\"F\")\n",
    "squared_loadings[\"Ratio\"] = squared_loadings.apply(\n",
    "    lambda x: x.nlargest(2).values[0] / x.nlargest(2).values[1], axis=1\n",
    ")\n",
    "squared_loadings[\"Classification\"] = squared_loadings[\"Ratio\"].apply(\n",
    "    cross_loading_eval\n",
    ")\n",
    "print(\"Cargas Factoriales al cuadrado:\")\n",
    "squared_loadings"
   ]
  },
  {
   "cell_type": "markdown",
   "metadata": {
    "slideshow": {
     "slide_type": "fragment"
    }
   },
   "source": [
    "Las variables `e6` y `e8` presentan cargas cruzadas que pueden ser clasificadas como potencialmente problemáticas.  "
   ]
  },
  {
   "cell_type": "markdown",
   "metadata": {
    "slideshow": {
     "slide_type": "slide"
    }
   },
   "source": [
    "### Evaluar las comunalidades\n",
    "\n",
    "El investigador debe buscar cualquier variable que no esté adecuadamente considerada por la solución factorial. El investigador debe ver las comunalidades para evaluar si las variables cumplen con niveles aceptables de explicación. \n",
    "\n",
    "Por lo general, **las variables deben tener comunalidades superiores a .50 para ser retenidas en el análisis**."
   ]
  },
  {
   "cell_type": "markdown",
   "metadata": {
    "slideshow": {
     "slide_type": "subslide"
    }
   },
   "source": [
    "Evaluemos las comunalidades en nuestro ejemplo.  "
   ]
  },
  {
   "cell_type": "code",
   "execution_count": 28,
   "metadata": {
    "hideCode": true,
    "hidePrompt": true,
    "slideshow": {
     "slide_type": "fragment"
    }
   },
   "outputs": [
    {
     "data": {
      "text/html": [
       "<div>\n",
       "<style scoped>\n",
       "    .dataframe tbody tr th:only-of-type {\n",
       "        vertical-align: middle;\n",
       "    }\n",
       "\n",
       "    .dataframe tbody tr th {\n",
       "        vertical-align: top;\n",
       "    }\n",
       "\n",
       "    .dataframe thead th {\n",
       "        text-align: right;\n",
       "    }\n",
       "</style>\n",
       "<table border=\"1\" class=\"dataframe\">\n",
       "  <thead>\n",
       "    <tr style=\"text-align: right;\">\n",
       "      <th></th>\n",
       "      <th>Communalities</th>\n",
       "    </tr>\n",
       "  </thead>\n",
       "  <tbody>\n",
       "    <tr>\n",
       "      <th>e1</th>\n",
       "      <td>0.716783</td>\n",
       "    </tr>\n",
       "    <tr>\n",
       "      <th>e2</th>\n",
       "      <td>0.803432</td>\n",
       "    </tr>\n",
       "    <tr>\n",
       "      <th>e3</th>\n",
       "      <td>0.746609</td>\n",
       "    </tr>\n",
       "    <tr>\n",
       "      <th>e4</th>\n",
       "      <td>0.517782</td>\n",
       "    </tr>\n",
       "    <tr>\n",
       "      <th>e5</th>\n",
       "      <td>0.632088</td>\n",
       "    </tr>\n",
       "    <tr>\n",
       "      <th>e6</th>\n",
       "      <td>0.647191</td>\n",
       "    </tr>\n",
       "    <tr>\n",
       "      <th>e7</th>\n",
       "      <td>0.867293</td>\n",
       "    </tr>\n",
       "    <tr>\n",
       "      <th>e8</th>\n",
       "      <td>0.476151</td>\n",
       "    </tr>\n",
       "    <tr>\n",
       "      <th>e9</th>\n",
       "      <td>0.611344</td>\n",
       "    </tr>\n",
       "    <tr>\n",
       "      <th>e10</th>\n",
       "      <td>0.364644</td>\n",
       "    </tr>\n",
       "    <tr>\n",
       "      <th>e11</th>\n",
       "      <td>0.475865</td>\n",
       "    </tr>\n",
       "    <tr>\n",
       "      <th>e12</th>\n",
       "      <td>0.551824</td>\n",
       "    </tr>\n",
       "  </tbody>\n",
       "</table>\n",
       "</div>"
      ],
      "text/plain": [
       "     Communalities\n",
       "e1        0.716783\n",
       "e2        0.803432\n",
       "e3        0.746609\n",
       "e4        0.517782\n",
       "e5        0.632088\n",
       "e6        0.647191\n",
       "e7        0.867293\n",
       "e8        0.476151\n",
       "e9        0.611344\n",
       "e10       0.364644\n",
       "e11       0.475865\n",
       "e12       0.551824"
      ]
     },
     "execution_count": 28,
     "metadata": {},
     "output_type": "execute_result"
    }
   ],
   "source": [
    "communalities = pd.DataFrame(\n",
    "    fa_int.get_communalities(),\n",
    "    index=df.columns.values,\n",
    "    columns=[\"Communalities\"],\n",
    ")\n",
    "communalities"
   ]
  },
  {
   "cell_type": "markdown",
   "metadata": {
    "slideshow": {
     "slide_type": "fragment"
    }
   },
   "source": [
    "Las comunalidades sugieren que la variables `e8`, `e10` y `e11` no se explican adecuadamente por nuestra solución factorial."
   ]
  },
  {
   "cell_type": "markdown",
   "metadata": {
    "slideshow": {
     "slide_type": "slide"
    }
   },
   "source": [
    "### Re-especificar el modelo \n",
    "\n",
    "Llegados a este punto, el investigador puede encontrar cualquiera de **varios problemas**: (a) una variable no tiene cargas significativas; (b) incluso con una carga significativa, la comunalidad de una variable se considera demasiado baja; o (c) una variable tiene una carga cruzada. "
   ]
  },
  {
   "cell_type": "markdown",
   "metadata": {
    "slideshow": {
     "slide_type": "subslide"
    }
   },
   "source": [
    "En esta situación, el investigador puede tomar **cualquier combinación de los siguientes remedios**, ordenados según qué tan extremos son:\n",
    "- **Ignorar** esas variables problemáticas e interpretar la solución tal cual, lo cual es apropiado si el objetivo es únicamente la reducción de datos, pero el investigador aún debe notar que las variables en cuestión están pobremente representadas en la solución factorial.\n",
    "- Evaluar cada una de esas variables para una posible eliminación, dependiendo de la contribución general de la variable a la investigación, así como su índice de comunalidad. **Si la variable es de menor importancia para el objetivo del estudio o tiene un valor de comunalidad inaceptable, se puede eliminar** y luego se vuelve a especificar el modelo factorial derivando una nueva solución factorial sin esas variables eliminadas.\n"
   ]
  },
  {
   "cell_type": "markdown",
   "metadata": {
    "slideshow": {
     "slide_type": "subslide"
    }
   },
   "source": [
    "- Emplear un **método de rotación alternativo**, particularmente un método oblicuo si solo se han utilizado métodos ortogonales.\n",
    "- **Disminuir/aumentar el número de factores retenidos** para ver si una estructura de factores más pequeña/más grande representará esas variables problemáticas.\n",
    "- **Modificar el tipo de modelo factorial utilizado** (componente principal versus factor común) para evaluar si la variación del tipo de varianza considerada afecta la estructura factorial."
   ]
  },
  {
   "cell_type": "markdown",
   "metadata": {
    "slideshow": {
     "slide_type": "subslide"
    }
   },
   "source": [
    "En nuestro ejemplo, la variable `e8` cuenta con comunalidad inaceptable y carga factorial cruzada potencialmente problemática. Podemos optar por eliminarla y re-especificar el modelo:"
   ]
  },
  {
   "cell_type": "code",
   "execution_count": 29,
   "metadata": {
    "hideCode": true,
    "hidePrompt": true,
    "slideshow": {
     "slide_type": "fragment"
    }
   },
   "outputs": [
    {
     "name": "stdout",
     "output_type": "stream",
     "text": [
      "Cargas Factoriales al cuadrado:\n"
     ]
    },
    {
     "data": {
      "text/html": [
       "<div>\n",
       "<style scoped>\n",
       "    .dataframe tbody tr th:only-of-type {\n",
       "        vertical-align: middle;\n",
       "    }\n",
       "\n",
       "    .dataframe tbody tr th {\n",
       "        vertical-align: top;\n",
       "    }\n",
       "\n",
       "    .dataframe thead th {\n",
       "        text-align: right;\n",
       "    }\n",
       "</style>\n",
       "<table border=\"1\" class=\"dataframe\">\n",
       "  <thead>\n",
       "    <tr style=\"text-align: right;\">\n",
       "      <th></th>\n",
       "      <th>F1</th>\n",
       "      <th>F2</th>\n",
       "      <th>F3</th>\n",
       "      <th>Ratio</th>\n",
       "      <th>Classification</th>\n",
       "    </tr>\n",
       "  </thead>\n",
       "  <tbody>\n",
       "    <tr>\n",
       "      <th>e1</th>\n",
       "      <td>0.488115</td>\n",
       "      <td>0.100950</td>\n",
       "      <td>0.015933</td>\n",
       "      <td>4.835231</td>\n",
       "      <td>Ignorable</td>\n",
       "    </tr>\n",
       "    <tr>\n",
       "      <th>e2</th>\n",
       "      <td>0.650134</td>\n",
       "      <td>0.029601</td>\n",
       "      <td>0.014518</td>\n",
       "      <td>21.963551</td>\n",
       "      <td>Ignorable</td>\n",
       "    </tr>\n",
       "    <tr>\n",
       "      <th>e3</th>\n",
       "      <td>0.048557</td>\n",
       "      <td>0.068242</td>\n",
       "      <td>0.483694</td>\n",
       "      <td>7.087963</td>\n",
       "      <td>Ignorable</td>\n",
       "    </tr>\n",
       "    <tr>\n",
       "      <th>e4</th>\n",
       "      <td>0.057253</td>\n",
       "      <td>0.284782</td>\n",
       "      <td>0.034500</td>\n",
       "      <td>4.974097</td>\n",
       "      <td>Ignorable</td>\n",
       "    </tr>\n",
       "    <tr>\n",
       "      <th>e5</th>\n",
       "      <td>0.542662</td>\n",
       "      <td>0.036204</td>\n",
       "      <td>0.015683</td>\n",
       "      <td>14.988820</td>\n",
       "      <td>Ignorable</td>\n",
       "    </tr>\n",
       "    <tr>\n",
       "      <th>e6</th>\n",
       "      <td>0.575415</td>\n",
       "      <td>0.038471</td>\n",
       "      <td>0.013632</td>\n",
       "      <td>14.957030</td>\n",
       "      <td>Ignorable</td>\n",
       "    </tr>\n",
       "    <tr>\n",
       "      <th>e7</th>\n",
       "      <td>0.041060</td>\n",
       "      <td>0.860765</td>\n",
       "      <td>0.009594</td>\n",
       "      <td>20.963781</td>\n",
       "      <td>Ignorable</td>\n",
       "    </tr>\n",
       "    <tr>\n",
       "      <th>e9</th>\n",
       "      <td>0.421306</td>\n",
       "      <td>0.078995</td>\n",
       "      <td>0.043552</td>\n",
       "      <td>5.333322</td>\n",
       "      <td>Ignorable</td>\n",
       "    </tr>\n",
       "    <tr>\n",
       "      <th>e10</th>\n",
       "      <td>0.280539</td>\n",
       "      <td>0.007644</td>\n",
       "      <td>0.020899</td>\n",
       "      <td>13.423353</td>\n",
       "      <td>Ignorable</td>\n",
       "    </tr>\n",
       "    <tr>\n",
       "      <th>e11</th>\n",
       "      <td>0.064220</td>\n",
       "      <td>0.334705</td>\n",
       "      <td>0.098271</td>\n",
       "      <td>3.405930</td>\n",
       "      <td>Ignorable</td>\n",
       "    </tr>\n",
       "    <tr>\n",
       "      <th>e12</th>\n",
       "      <td>0.016459</td>\n",
       "      <td>0.018209</td>\n",
       "      <td>0.606639</td>\n",
       "      <td>33.314820</td>\n",
       "      <td>Ignorable</td>\n",
       "    </tr>\n",
       "  </tbody>\n",
       "</table>\n",
       "</div>"
      ],
      "text/plain": [
       "           F1        F2        F3      Ratio Classification\n",
       "e1   0.488115  0.100950  0.015933   4.835231      Ignorable\n",
       "e2   0.650134  0.029601  0.014518  21.963551      Ignorable\n",
       "e3   0.048557  0.068242  0.483694   7.087963      Ignorable\n",
       "e4   0.057253  0.284782  0.034500   4.974097      Ignorable\n",
       "e5   0.542662  0.036204  0.015683  14.988820      Ignorable\n",
       "e6   0.575415  0.038471  0.013632  14.957030      Ignorable\n",
       "e7   0.041060  0.860765  0.009594  20.963781      Ignorable\n",
       "e9   0.421306  0.078995  0.043552   5.333322      Ignorable\n",
       "e10  0.280539  0.007644  0.020899  13.423353      Ignorable\n",
       "e11  0.064220  0.334705  0.098271   3.405930      Ignorable\n",
       "e12  0.016459  0.018209  0.606639  33.314820      Ignorable"
      ]
     },
     "execution_count": 29,
     "metadata": {},
     "output_type": "execute_result"
    }
   ],
   "source": [
    "new_df = scaled_df.drop(columns=[\"e8\"])\n",
    "re_fa = FactorAnalyzer(n_factors=3, rotation=\"varimax\")\n",
    "re_fa.fit(new_df)\n",
    "\n",
    "squared_loadings = pd.DataFrame(re_fa.loadings_**2, index=new_df.columns)\n",
    "squared_loadings.columns += 1\n",
    "squared_loadings = squared_loadings.add_prefix(\"F\")\n",
    "squared_loadings[\"Ratio\"] = squared_loadings.apply(\n",
    "    lambda x: x.nlargest(2).values[0] / x.nlargest(2).values[1], axis=1\n",
    ")\n",
    "squared_loadings[\"Classification\"] = squared_loadings[\"Ratio\"].apply(\n",
    "    cross_loading_eval\n",
    ")\n",
    "print(\"Cargas Factoriales al cuadrado:\")\n",
    "squared_loadings"
   ]
  },
  {
   "cell_type": "code",
   "execution_count": 30,
   "metadata": {
    "hideCode": true,
    "hidePrompt": true,
    "slideshow": {
     "slide_type": "subslide"
    }
   },
   "outputs": [
    {
     "data": {
      "image/png": "[encoded data removed]"
     },
     "metadata": {},
     "output_type": "display_data"
    }
   ],
   "source": [
    "%%R -i new_df\n",
    "# Extrae los factores\n",
    "fit <- fa(new_df, nfactors=3,rotate=\"varimax\")\n",
    "\n",
    "# Genera gráfico de la estructura factorial\n",
    "structure <- fa.diagram(fit, digits=2, cut=.3)"
   ]
  },
  {
   "cell_type": "code",
   "execution_count": 31,
   "metadata": {
    "hideCode": true,
    "hidePrompt": true,
    "slideshow": {
     "slide_type": "subslide"
    }
   },
   "outputs": [
    {
     "data": {
      "text/html": [
       "<div>\n",
       "<style scoped>\n",
       "    .dataframe tbody tr th:only-of-type {\n",
       "        vertical-align: middle;\n",
       "    }\n",
       "\n",
       "    .dataframe tbody tr th {\n",
       "        vertical-align: top;\n",
       "    }\n",
       "\n",
       "    .dataframe thead th {\n",
       "        text-align: right;\n",
       "    }\n",
       "</style>\n",
       "<table border=\"1\" class=\"dataframe\">\n",
       "  <thead>\n",
       "    <tr style=\"text-align: right;\">\n",
       "      <th></th>\n",
       "      <th>Communalities</th>\n",
       "    </tr>\n",
       "  </thead>\n",
       "  <tbody>\n",
       "    <tr>\n",
       "      <th>e1</th>\n",
       "      <td>0.604998</td>\n",
       "    </tr>\n",
       "    <tr>\n",
       "      <th>e2</th>\n",
       "      <td>0.694253</td>\n",
       "    </tr>\n",
       "    <tr>\n",
       "      <th>e3</th>\n",
       "      <td>0.600492</td>\n",
       "    </tr>\n",
       "    <tr>\n",
       "      <th>e4</th>\n",
       "      <td>0.376535</td>\n",
       "    </tr>\n",
       "    <tr>\n",
       "      <th>e5</th>\n",
       "      <td>0.594550</td>\n",
       "    </tr>\n",
       "    <tr>\n",
       "      <th>e6</th>\n",
       "      <td>0.627518</td>\n",
       "    </tr>\n",
       "    <tr>\n",
       "      <th>e7</th>\n",
       "      <td>0.911419</td>\n",
       "    </tr>\n",
       "    <tr>\n",
       "      <th>e9</th>\n",
       "      <td>0.543852</td>\n",
       "    </tr>\n",
       "    <tr>\n",
       "      <th>e10</th>\n",
       "      <td>0.309083</td>\n",
       "    </tr>\n",
       "    <tr>\n",
       "      <th>e11</th>\n",
       "      <td>0.497196</td>\n",
       "    </tr>\n",
       "    <tr>\n",
       "      <th>e12</th>\n",
       "      <td>0.641307</td>\n",
       "    </tr>\n",
       "  </tbody>\n",
       "</table>\n",
       "</div>"
      ],
      "text/plain": [
       "     Communalities\n",
       "e1        0.604998\n",
       "e2        0.694253\n",
       "e3        0.600492\n",
       "e4        0.376535\n",
       "e5        0.594550\n",
       "e6        0.627518\n",
       "e7        0.911419\n",
       "e9        0.543852\n",
       "e10       0.309083\n",
       "e11       0.497196\n",
       "e12       0.641307"
      ]
     },
     "execution_count": 31,
     "metadata": {},
     "output_type": "execute_result"
    }
   ],
   "source": [
    "communalities = pd.DataFrame(\n",
    "    re_fa.get_communalities(),\n",
    "    index=new_df.columns.values,\n",
    "    columns=[\"Communalities\"],\n",
    ")\n",
    "communalities"
   ]
  },
  {
   "cell_type": "markdown",
   "metadata": {
    "slideshow": {
     "slide_type": "slide"
    }
   },
   "source": [
    "Independientemente de lo que elijamos, **el objetivo final siempre debe ser obtener una estructura factorial con apoyo tanto empírico como conceptual**. Como hemos visto, se pueden utilizar muchos \"trucos\" para mejorar la estructura, pero la responsabilidad última recae en el investigador y en la base conceptual que subyace al análisis."
   ]
  },
  {
   "cell_type": "markdown",
   "metadata": {
    "slideshow": {
     "slide_type": "slide"
    }
   },
   "source": [
    "## Uso de resultados del AF en análisis subsecuentes"
   ]
  },
  {
   "cell_type": "markdown",
   "metadata": {
    "slideshow": {
     "slide_type": "slide"
    }
   },
   "source": [
    "En este caso, el propósito es generalmente ampliar los resultados de los factores mediante la creación de variables de \"sustitución\" apropiadas que representen a cada factor para su posterior aplicación en otras técnicas estadísticas. Las dos opciones incluyen lo siguiente:\n",
    "\n",
    "- Seleccionar la variable con la carga factorial más alta como **representante surrogada** para una dimensión de factor particular.\n",
    "- Reemplazo del conjunto original de variables con un **conjunto de variables más pequeño** y completamente nuevo **creado a partir de escalas sumadas o puntajes de factores**.\n"
   ]
  },
  {
   "cell_type": "markdown",
   "metadata": {
    "slideshow": {
     "slide_type": "slide"
    }
   },
   "source": [
    "### Escalas sumadas\n",
    "\n",
    "En términos simples, **todas las variables que cargan mucho en un factor se combinan** y el total, o más comúnmente el puntaje promedio de las variables, **se usa como una variable de reemplazo**.\n",
    "\n",
    "El cálculo de una escala sumada es un proceso sencillo mediante el cual los elementos que componen la escala sumada (es decir, los elementos con cargas altas del análisis factorial) se suman o promedian. **El enfoque más común es tomar el promedio de los ítems de la escala**, lo que proporciona al investigador un control completo sobre el cálculo y facilita su uso en análisis posteriores."
   ]
  },
  {
   "cell_type": "markdown",
   "metadata": {
    "slideshow": {
     "slide_type": "subslide"
    }
   },
   "source": [
    "Calculemos una escala sumada a partir de nuestro ejemplo:"
   ]
  },
  {
   "cell_type": "code",
   "execution_count": 32,
   "metadata": {
    "hideCode": true,
    "hidePrompt": true,
    "slideshow": {
     "slide_type": "fragment"
    }
   },
   "outputs": [
    {
     "name": "stdout",
     "output_type": "stream",
     "text": [
      "Escala sumada:\n"
     ]
    },
    {
     "data": {
      "text/html": [
       "<div>\n",
       "<style scoped>\n",
       "    .dataframe tbody tr th:only-of-type {\n",
       "        vertical-align: middle;\n",
       "    }\n",
       "\n",
       "    .dataframe tbody tr th {\n",
       "        vertical-align: top;\n",
       "    }\n",
       "\n",
       "    .dataframe thead th {\n",
       "        text-align: right;\n",
       "    }\n",
       "</style>\n",
       "<table border=\"1\" class=\"dataframe\">\n",
       "  <thead>\n",
       "    <tr style=\"text-align: right;\">\n",
       "      <th></th>\n",
       "      <th>F1</th>\n",
       "      <th>F2</th>\n",
       "      <th>F3</th>\n",
       "    </tr>\n",
       "  </thead>\n",
       "  <tbody>\n",
       "    <tr>\n",
       "      <th>0</th>\n",
       "      <td>0.831966</td>\n",
       "      <td>0.155326</td>\n",
       "      <td>0.065531</td>\n",
       "    </tr>\n",
       "    <tr>\n",
       "      <th>1</th>\n",
       "      <td>-0.635461</td>\n",
       "      <td>-0.720349</td>\n",
       "      <td>-0.352916</td>\n",
       "    </tr>\n",
       "    <tr>\n",
       "      <th>2</th>\n",
       "      <td>0.831966</td>\n",
       "      <td>0.704451</td>\n",
       "      <td>-0.360587</td>\n",
       "    </tr>\n",
       "    <tr>\n",
       "      <th>3</th>\n",
       "      <td>0.370513</td>\n",
       "      <td>0.444346</td>\n",
       "      <td>-0.771363</td>\n",
       "    </tr>\n",
       "    <tr>\n",
       "      <th>4</th>\n",
       "      <td>-0.681943</td>\n",
       "      <td>-0.156766</td>\n",
       "      <td>0.894755</td>\n",
       "    </tr>\n",
       "    <tr>\n",
       "      <th>...</th>\n",
       "      <td>...</td>\n",
       "      <td>...</td>\n",
       "      <td>...</td>\n",
       "    </tr>\n",
       "    <tr>\n",
       "      <th>352</th>\n",
       "      <td>0.274206</td>\n",
       "      <td>-0.133695</td>\n",
       "      <td>-0.771363</td>\n",
       "    </tr>\n",
       "    <tr>\n",
       "      <th>353</th>\n",
       "      <td>0.831966</td>\n",
       "      <td>-0.720349</td>\n",
       "      <td>-0.763692</td>\n",
       "    </tr>\n",
       "    <tr>\n",
       "      <th>354</th>\n",
       "      <td>0.831966</td>\n",
       "      <td>1.305564</td>\n",
       "      <td>0.057860</td>\n",
       "    </tr>\n",
       "    <tr>\n",
       "      <th>355</th>\n",
       "      <td>-0.016445</td>\n",
       "      <td>0.429888</td>\n",
       "      <td>-0.352916</td>\n",
       "    </tr>\n",
       "    <tr>\n",
       "      <th>356</th>\n",
       "      <td>0.831966</td>\n",
       "      <td>0.756438</td>\n",
       "      <td>0.065531</td>\n",
       "    </tr>\n",
       "  </tbody>\n",
       "</table>\n",
       "<p>357 rows × 3 columns</p>\n",
       "</div>"
      ],
      "text/plain": [
       "           F1        F2        F3\n",
       "0    0.831966  0.155326  0.065531\n",
       "1   -0.635461 -0.720349 -0.352916\n",
       "2    0.831966  0.704451 -0.360587\n",
       "3    0.370513  0.444346 -0.771363\n",
       "4   -0.681943 -0.156766  0.894755\n",
       "..        ...       ...       ...\n",
       "352  0.274206 -0.133695 -0.771363\n",
       "353  0.831966 -0.720349 -0.763692\n",
       "354  0.831966  1.305564  0.057860\n",
       "355 -0.016445  0.429888 -0.352916\n",
       "356  0.831966  0.756438  0.065531\n",
       "\n",
       "[357 rows x 3 columns]"
      ]
     },
     "execution_count": 32,
     "metadata": {},
     "output_type": "execute_result"
    }
   ],
   "source": [
    "# Creamos una variable que mapee cada factor a las variables con las que presenta una mayor carga.\n",
    "factor_index = {\n",
    "    \"F1\": [\"e1\", \"e2\", \"e5\", \"e6\", \"e9\", \"e10\"],\n",
    "    \"F2\": [\"e4\", \"e7\", \"e11\"],\n",
    "    \"F3\": [\"e12\", \"e3\"],\n",
    "}\n",
    "\n",
    "print(\"Escala sumada:\")\n",
    "summated_scale = pd.DataFrame()\n",
    "for i in factor_index:\n",
    "    summated_scale[i] = new_df[factor_index[i]].mean(axis=1)\n",
    "summated_scale"
   ]
  },
  {
   "cell_type": "markdown",
   "metadata": {
    "slideshow": {
     "slide_type": "subslide"
    }
   },
   "source": [
    "Este es el **procedimiento comunmente utilizado en el desarrollo de escalas psicométricas**. Recuerda que deben tomarse en cuenta cuatro aspectos básicos para la construcción de cualquier escala sumada: definición conceptual, dimensionalidad, confiabilidad y validez de constructo."
   ]
  },
  {
   "cell_type": "markdown",
   "metadata": {
    "slideshow": {
     "slide_type": "fragment"
    }
   },
   "source": [
    "Calculemos la medida de confiabilidad Alfa de Cronbach en nuestro ejemplo:"
   ]
  },
  {
   "cell_type": "code",
   "execution_count": 33,
   "metadata": {
    "hideCode": true,
    "hidePrompt": true,
    "slideshow": {
     "slide_type": "fragment"
    }
   },
   "outputs": [
    {
     "data": {
      "text/html": [
       "<div>\n",
       "<style scoped>\n",
       "    .dataframe tbody tr th:only-of-type {\n",
       "        vertical-align: middle;\n",
       "    }\n",
       "\n",
       "    .dataframe tbody tr th {\n",
       "        vertical-align: top;\n",
       "    }\n",
       "\n",
       "    .dataframe thead th {\n",
       "        text-align: right;\n",
       "    }\n",
       "</style>\n",
       "<table border=\"1\" class=\"dataframe\">\n",
       "  <thead>\n",
       "    <tr style=\"text-align: right;\">\n",
       "      <th></th>\n",
       "      <th>F1</th>\n",
       "      <th>F2</th>\n",
       "      <th>F3</th>\n",
       "    </tr>\n",
       "  </thead>\n",
       "  <tbody>\n",
       "    <tr>\n",
       "      <th>Cronbach’s α</th>\n",
       "      <td>0.877724</td>\n",
       "      <td>0.782615</td>\n",
       "      <td>0.755611</td>\n",
       "    </tr>\n",
       "    <tr>\n",
       "      <th>C.I. - 95%</th>\n",
       "      <td>[0.857, 0.896]</td>\n",
       "      <td>[0.74, 0.819]</td>\n",
       "      <td>[0.699, 0.802]</td>\n",
       "    </tr>\n",
       "  </tbody>\n",
       "</table>\n",
       "</div>"
      ],
      "text/plain": [
       "                          F1             F2              F3\n",
       "Cronbach’s α        0.877724       0.782615        0.755611\n",
       "C.I. - 95%    [0.857, 0.896]  [0.74, 0.819]  [0.699, 0.802]"
      ]
     },
     "execution_count": 33,
     "metadata": {},
     "output_type": "execute_result"
    }
   ],
   "source": [
    "cronbach = pd.DataFrame()\n",
    "for i in factor_index:\n",
    "    cronbach[i] = pg.cronbach_alpha(data=new_df[factor_index[i]])\n",
    "cronbach.index = [\"Cronbach’s α\", \"C.I. - 95%\"]\n",
    "cronbach"
   ]
  },
  {
   "cell_type": "markdown",
   "metadata": {
    "slideshow": {
     "slide_type": "slide"
    }
   },
   "source": [
    "### Puntuaciones factoriales\n",
    "\n",
    "La puntuación del factor representa **el grado en que cada individuo puntúa alto en el grupo de elementos con cargas altas en un factor**. Por lo tanto, valores más altos en las variables con cargas altas en un factor darán como resultado una puntuación de factor más alta. \n",
    "\n",
    "La única característica clave que diferencia una puntuación de factor de una escala sumada es que **la puntuación de factor se calcula en función de las cargas factoriales de todas las variables** en el factor, mientras que la escala sumada se calcula combinando solo las variables seleccionadas."
   ]
  },
  {
   "cell_type": "markdown",
   "metadata": {
    "slideshow": {
     "slide_type": "subslide"
    }
   },
   "source": [
    "Calculemos las puntuaciones factoriales en nuestro ejemplo:"
   ]
  },
  {
   "cell_type": "code",
   "execution_count": 34,
   "metadata": {
    "hideCode": true,
    "hidePrompt": true,
    "slideshow": {
     "slide_type": "fragment"
    }
   },
   "outputs": [
    {
     "name": "stdout",
     "output_type": "stream",
     "text": [
      "Puntuaciones factoriales:\n"
     ]
    },
    {
     "data": {
      "text/html": [
       "<div>\n",
       "<style scoped>\n",
       "    .dataframe tbody tr th:only-of-type {\n",
       "        vertical-align: middle;\n",
       "    }\n",
       "\n",
       "    .dataframe tbody tr th {\n",
       "        vertical-align: top;\n",
       "    }\n",
       "\n",
       "    .dataframe thead th {\n",
       "        text-align: right;\n",
       "    }\n",
       "</style>\n",
       "<table border=\"1\" class=\"dataframe\">\n",
       "  <thead>\n",
       "    <tr style=\"text-align: right;\">\n",
       "      <th></th>\n",
       "      <th>F1</th>\n",
       "      <th>F2</th>\n",
       "      <th>F3</th>\n",
       "    </tr>\n",
       "  </thead>\n",
       "  <tbody>\n",
       "    <tr>\n",
       "      <th>0</th>\n",
       "      <td>0.963360</td>\n",
       "      <td>0.085404</td>\n",
       "      <td>-0.089420</td>\n",
       "    </tr>\n",
       "    <tr>\n",
       "      <th>1</th>\n",
       "      <td>-0.490430</td>\n",
       "      <td>-0.556707</td>\n",
       "      <td>-0.210745</td>\n",
       "    </tr>\n",
       "    <tr>\n",
       "      <th>2</th>\n",
       "      <td>0.917636</td>\n",
       "      <td>0.308989</td>\n",
       "      <td>-0.179940</td>\n",
       "    </tr>\n",
       "    <tr>\n",
       "      <th>3</th>\n",
       "      <td>0.347586</td>\n",
       "      <td>1.062813</td>\n",
       "      <td>-0.999135</td>\n",
       "    </tr>\n",
       "    <tr>\n",
       "      <th>4</th>\n",
       "      <td>-1.061491</td>\n",
       "      <td>0.316602</td>\n",
       "      <td>0.871437</td>\n",
       "    </tr>\n",
       "    <tr>\n",
       "      <th>...</th>\n",
       "      <td>...</td>\n",
       "      <td>...</td>\n",
       "      <td>...</td>\n",
       "    </tr>\n",
       "    <tr>\n",
       "      <th>352</th>\n",
       "      <td>0.328774</td>\n",
       "      <td>-0.491383</td>\n",
       "      <td>-0.514065</td>\n",
       "    </tr>\n",
       "    <tr>\n",
       "      <th>353</th>\n",
       "      <td>1.256588</td>\n",
       "      <td>-0.786060</td>\n",
       "      <td>-0.825545</td>\n",
       "    </tr>\n",
       "    <tr>\n",
       "      <th>354</th>\n",
       "      <td>0.707604</td>\n",
       "      <td>1.130455</td>\n",
       "      <td>0.020333</td>\n",
       "    </tr>\n",
       "    <tr>\n",
       "      <th>355</th>\n",
       "      <td>-0.137276</td>\n",
       "      <td>0.403859</td>\n",
       "      <td>-0.249477</td>\n",
       "    </tr>\n",
       "    <tr>\n",
       "      <th>356</th>\n",
       "      <td>0.775335</td>\n",
       "      <td>0.952513</td>\n",
       "      <td>-0.241817</td>\n",
       "    </tr>\n",
       "  </tbody>\n",
       "</table>\n",
       "<p>357 rows × 3 columns</p>\n",
       "</div>"
      ],
      "text/plain": [
       "           F1        F2        F3\n",
       "0    0.963360  0.085404 -0.089420\n",
       "1   -0.490430 -0.556707 -0.210745\n",
       "2    0.917636  0.308989 -0.179940\n",
       "3    0.347586  1.062813 -0.999135\n",
       "4   -1.061491  0.316602  0.871437\n",
       "..        ...       ...       ...\n",
       "352  0.328774 -0.491383 -0.514065\n",
       "353  1.256588 -0.786060 -0.825545\n",
       "354  0.707604  1.130455  0.020333\n",
       "355 -0.137276  0.403859 -0.249477\n",
       "356  0.775335  0.952513 -0.241817\n",
       "\n",
       "[357 rows x 3 columns]"
      ]
     },
     "execution_count": 34,
     "metadata": {},
     "output_type": "execute_result"
    }
   ],
   "source": [
    "scores = re_fa.transform(new_df)\n",
    "scores_df = pd.DataFrame(scores)\n",
    "print(\"Puntuaciones factoriales:\")\n",
    "scores_df.columns += 1\n",
    "scores_df = scores_df.add_prefix(\"F\")\n",
    "scores_df"
   ]
  }
 ],
 "metadata": {
  "celltoolbar": "Slideshow",
  "kernelspec": {
   "display_name": "Python 3 (ipykernel)",
   "language": "python",
   "name": "python3"
  },
  "language_info": {
   "codemirror_mode": {
    "name": "ipython",
    "version": 3
   },
   "file_extension": ".py",
   "mimetype": "text/x-python",
   "name": "python",
   "nbconvert_exporter": "python",
   "pygments_lexer": "ipython3",
   "version": "3.7.14"
  },
  "vscode": {
   "interpreter": {
    "hash": "8df12303a5084d795bcef355ea103bbaab8787933417cf27c2f95a588cdf8ee7"
   }
  }
 },
 "nbformat": 4,
 "nbformat_minor": 2
}
