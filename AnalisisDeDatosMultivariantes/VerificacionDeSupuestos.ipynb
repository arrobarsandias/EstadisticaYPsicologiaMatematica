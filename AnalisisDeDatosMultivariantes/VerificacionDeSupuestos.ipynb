{
 "cells": [
  {
   "cell_type": "code",
   "execution_count": null,
   "source": [],
   "outputs": [],
   "metadata": {}
  },
  {
   "cell_type": "markdown",
   "source": [
    "- Normalidad\n",
    "- Igualdad de varianzas\n",
    "- Linealidad\n",
    "- Ausencia de errores correlacionados"
   ],
   "metadata": {}
  }
 ],
 "metadata": {
  "orig_nbformat": 4,
  "language_info": {
   "name": "python"
  }
 },
 "nbformat": 4,
 "nbformat_minor": 2
}