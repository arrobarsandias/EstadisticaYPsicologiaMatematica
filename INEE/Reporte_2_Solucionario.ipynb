{
 "cells": [
  {
   "cell_type": "markdown",
   "metadata": {},
   "source": [
    "# Reporte escrito 2"
   ]
  },
  {
   "cell_type": "code",
   "execution_count": null,
   "metadata": {},
   "outputs": [],
   "source": [
    "# Instala dependencias\n",
    "!wget https://github.com/renatoparedes/EstadisticaYPsicologiaMatematica/raw/main/INEE/BaseReporte2.sav\n",
    "!pip install pingouin\n",
    "!pip install pyreadstat"
   ]
  },
  {
   "cell_type": "markdown",
   "metadata": {},
   "source": [
    "En las respuestas deben indicar:\n",
    "\n",
    "- Hipótesis de trabajo e hipótesis estadísticas, de manera correspondiente.\n",
    "- Resultados de prueba de normalidad para las distribuciones de las variables de estudio.\n",
    "- Indicadores estadísticos utilizados (SW, F, r, R2 B, ß) así como el valor p correspondiente, y la magnitud según criterios de Cohen, de ser pertinente.\n",
    "- Redacción de las conclusiones."
   ]
  },
  {
   "cell_type": "markdown",
   "metadata": {},
   "source": [
    "## Pregunta 1\n",
    "\n",
    "La literatura sobre el desarrollo humano temprano indica que la **autoeficacia parental** y la **insatisfacción marital** constituyen factores que predicen el **compromiso paterno** en la crianza en la niñez. Un grupo de investigación llevó a cabo un estudio para conocer si ambos factores estiman el compromiso reportado por papás en la región Loreto (10 pts).\n",
    "\n",
    "a) Escribe la hipótesis de trabajo (HT) así como las hipótesis estadísticas (H0 y H1) correspondientes a cada variable predictora del modelo a analizar.\n",
    "\n",
    "b) Plantea la ecuación del modelo para la HT. \n",
    "\n",
    "c) Evalúa los supuestos necesarios para continuar con el análisis de regresión.\n",
    "- Linealidad\n",
    "- Normalidad de residuos\n",
    "- Multicolinealidad\n",
    "\n",
    "d) Evalúa el ajuste del modelo planteado y presenta el coeficiente de determinación de acuerdo con la variabilidad explicada del compromiso paterno y a su magnitud.\n",
    "\n",
    "e) Indica si se cumplen las hipótesis para cada una de las variables consideradas por el grupo de investigación y redacta tu conclusión.\n",
    "\n",
    "f) Finalmente, identifica cuál es la variable más importante en el modelo, de ser pertinente.\n",
    "\n"
   ]
  },
  {
   "cell_type": "code",
   "execution_count": 1,
   "metadata": {},
   "outputs": [
    {
     "data": {
      "text/html": [
       "<div>\n",
       "<style scoped>\n",
       "    .dataframe tbody tr th:only-of-type {\n",
       "        vertical-align: middle;\n",
       "    }\n",
       "\n",
       "    .dataframe tbody tr th {\n",
       "        vertical-align: top;\n",
       "    }\n",
       "\n",
       "    .dataframe thead th {\n",
       "        text-align: right;\n",
       "    }\n",
       "</style>\n",
       "<table border=\"1\" class=\"dataframe\">\n",
       "  <thead>\n",
       "    <tr style=\"text-align: right;\">\n",
       "      <th></th>\n",
       "      <th>Código</th>\n",
       "      <th>Edad</th>\n",
       "      <th>AutoeficaciaP</th>\n",
       "      <th>Insatisfacción</th>\n",
       "      <th>Conservadurismo</th>\n",
       "      <th>CompromisoP</th>\n",
       "    </tr>\n",
       "  </thead>\n",
       "  <tbody>\n",
       "    <tr>\n",
       "      <th>0</th>\n",
       "      <td>001</td>\n",
       "      <td>25.0</td>\n",
       "      <td>16.0</td>\n",
       "      <td>25.0</td>\n",
       "      <td>9.0</td>\n",
       "      <td>37.0</td>\n",
       "    </tr>\n",
       "    <tr>\n",
       "      <th>1</th>\n",
       "      <td>002</td>\n",
       "      <td>38.0</td>\n",
       "      <td>18.0</td>\n",
       "      <td>17.0</td>\n",
       "      <td>6.0</td>\n",
       "      <td>42.0</td>\n",
       "    </tr>\n",
       "    <tr>\n",
       "      <th>2</th>\n",
       "      <td>003</td>\n",
       "      <td>28.0</td>\n",
       "      <td>19.0</td>\n",
       "      <td>16.0</td>\n",
       "      <td>10.0</td>\n",
       "      <td>35.0</td>\n",
       "    </tr>\n",
       "    <tr>\n",
       "      <th>3</th>\n",
       "      <td>004</td>\n",
       "      <td>32.0</td>\n",
       "      <td>24.0</td>\n",
       "      <td>23.0</td>\n",
       "      <td>10.0</td>\n",
       "      <td>76.0</td>\n",
       "    </tr>\n",
       "    <tr>\n",
       "      <th>4</th>\n",
       "      <td>005</td>\n",
       "      <td>26.0</td>\n",
       "      <td>22.0</td>\n",
       "      <td>21.0</td>\n",
       "      <td>11.0</td>\n",
       "      <td>39.0</td>\n",
       "    </tr>\n",
       "    <tr>\n",
       "      <th>...</th>\n",
       "      <td>...</td>\n",
       "      <td>...</td>\n",
       "      <td>...</td>\n",
       "      <td>...</td>\n",
       "      <td>...</td>\n",
       "      <td>...</td>\n",
       "    </tr>\n",
       "    <tr>\n",
       "      <th>95</th>\n",
       "      <td>096</td>\n",
       "      <td>37.0</td>\n",
       "      <td>18.0</td>\n",
       "      <td>19.0</td>\n",
       "      <td>8.0</td>\n",
       "      <td>43.0</td>\n",
       "    </tr>\n",
       "    <tr>\n",
       "      <th>96</th>\n",
       "      <td>097</td>\n",
       "      <td>48.0</td>\n",
       "      <td>26.0</td>\n",
       "      <td>21.0</td>\n",
       "      <td>10.0</td>\n",
       "      <td>65.0</td>\n",
       "    </tr>\n",
       "    <tr>\n",
       "      <th>97</th>\n",
       "      <td>098</td>\n",
       "      <td>35.0</td>\n",
       "      <td>19.0</td>\n",
       "      <td>26.0</td>\n",
       "      <td>12.0</td>\n",
       "      <td>50.0</td>\n",
       "    </tr>\n",
       "    <tr>\n",
       "      <th>98</th>\n",
       "      <td>099</td>\n",
       "      <td>30.0</td>\n",
       "      <td>17.0</td>\n",
       "      <td>27.0</td>\n",
       "      <td>14.0</td>\n",
       "      <td>30.0</td>\n",
       "    </tr>\n",
       "    <tr>\n",
       "      <th>99</th>\n",
       "      <td>100</td>\n",
       "      <td>31.0</td>\n",
       "      <td>21.0</td>\n",
       "      <td>25.0</td>\n",
       "      <td>11.0</td>\n",
       "      <td>48.0</td>\n",
       "    </tr>\n",
       "  </tbody>\n",
       "</table>\n",
       "<p>100 rows × 6 columns</p>\n",
       "</div>"
      ],
      "text/plain": [
       "   Código  Edad  AutoeficaciaP  Insatisfacción  Conservadurismo  CompromisoP\n",
       "0     001  25.0           16.0            25.0              9.0         37.0\n",
       "1     002  38.0           18.0            17.0              6.0         42.0\n",
       "2     003  28.0           19.0            16.0             10.0         35.0\n",
       "3     004  32.0           24.0            23.0             10.0         76.0\n",
       "4     005  26.0           22.0            21.0             11.0         39.0\n",
       "..    ...   ...            ...             ...              ...          ...\n",
       "95    096  37.0           18.0            19.0              8.0         43.0\n",
       "96    097  48.0           26.0            21.0             10.0         65.0\n",
       "97    098  35.0           19.0            26.0             12.0         50.0\n",
       "98    099  30.0           17.0            27.0             14.0         30.0\n",
       "99    100  31.0           21.0            25.0             11.0         48.0\n",
       "\n",
       "[100 rows x 6 columns]"
      ]
     },
     "execution_count": 1,
     "metadata": {},
     "output_type": "execute_result"
    }
   ],
   "source": [
    "import pandas as pd\n",
    "\n",
    "df = pd.read_spss(\"BaseReporte2.sav\")\n",
    "df"
   ]
  },
  {
   "cell_type": "markdown",
   "metadata": {},
   "source": [
    "### Solución"
   ]
  },
  {
   "cell_type": "markdown",
   "metadata": {},
   "source": [
    "HT: La autoeficacia parental y la insatisfacción marital predicen el compromiso paterno en la crianza en papás de Loreto.\n",
    "\n",
    "$H_{0}$: $β_{autoeficacia} = 0$, $β_{insatisfacción} = 0$, autoeficacia e insatisfacción no predicen el compromiso paterno.\n",
    "\n",
    "$H_{1}$: $β_{autoeficacia} \\neq 0$, $β_{insatisfacción} ≠ 0$, autoeficacia e insatisfacción predicen el compromiso paterno."
   ]
  },
  {
   "cell_type": "markdown",
   "metadata": {},
   "source": [
    "$Compromiso \\ paterno = β_{0} + β_{1}(autoeficacia \\ parental) + β_{2}(insatisfacción \\ marital) \\pm \\epsilon$, con $β_{1} \\neq 0$, $β_{2} \\neq 0$"
   ]
  },
  {
   "cell_type": "markdown",
   "metadata": {},
   "source": [
    "- Linealidad"
   ]
  },
  {
   "cell_type": "code",
   "execution_count": 2,
   "metadata": {},
   "outputs": [
    {
     "data": {
      "text/html": [
       "<div>\n",
       "<style scoped>\n",
       "    .dataframe tbody tr th:only-of-type {\n",
       "        vertical-align: middle;\n",
       "    }\n",
       "\n",
       "    .dataframe tbody tr th {\n",
       "        vertical-align: top;\n",
       "    }\n",
       "\n",
       "    .dataframe thead th {\n",
       "        text-align: right;\n",
       "    }\n",
       "</style>\n",
       "<table border=\"1\" class=\"dataframe\">\n",
       "  <thead>\n",
       "    <tr style=\"text-align: right;\">\n",
       "      <th></th>\n",
       "      <th>W</th>\n",
       "      <th>pval</th>\n",
       "      <th>normal</th>\n",
       "    </tr>\n",
       "  </thead>\n",
       "  <tbody>\n",
       "    <tr>\n",
       "      <th>AutoeficaciaP</th>\n",
       "      <td>0.980055</td>\n",
       "      <td>0.134252</td>\n",
       "      <td>True</td>\n",
       "    </tr>\n",
       "    <tr>\n",
       "      <th>Insatisfacción</th>\n",
       "      <td>0.976582</td>\n",
       "      <td>0.071790</td>\n",
       "      <td>True</td>\n",
       "    </tr>\n",
       "    <tr>\n",
       "      <th>CompromisoP</th>\n",
       "      <td>0.983924</td>\n",
       "      <td>0.264967</td>\n",
       "      <td>True</td>\n",
       "    </tr>\n",
       "  </tbody>\n",
       "</table>\n",
       "</div>"
      ],
      "text/plain": [
       "                       W      pval  normal\n",
       "AutoeficaciaP   0.980055  0.134252    True\n",
       "Insatisfacción  0.976582  0.071790    True\n",
       "CompromisoP     0.983924  0.264967    True"
      ]
     },
     "execution_count": 2,
     "metadata": {},
     "output_type": "execute_result"
    }
   ],
   "source": [
    "import pingouin as pg\n",
    "\n",
    "pg.normality(df[[\"AutoeficaciaP\", \"Insatisfacción\", \"CompromisoP\"]])"
   ]
  },
  {
   "cell_type": "markdown",
   "metadata": {},
   "source": [
    "De acuerdo con los resultados de la prueba Shapiro-Wilk, todas las variables presentaron distribución normal: autoeficacia parental, SW =.98, p =.13, insatisfacción marital, SW =.98, p =.07, y compromiso paterno, SW =.98, p=.27. Por ello, se utilizó el análisis de correlación de Pearson."
   ]
  },
  {
   "cell_type": "code",
   "execution_count": 7,
   "metadata": {},
   "outputs": [
    {
     "data": {
      "text/html": [
       "<div>\n",
       "<style scoped>\n",
       "    .dataframe tbody tr th:only-of-type {\n",
       "        vertical-align: middle;\n",
       "    }\n",
       "\n",
       "    .dataframe tbody tr th {\n",
       "        vertical-align: top;\n",
       "    }\n",
       "\n",
       "    .dataframe thead th {\n",
       "        text-align: right;\n",
       "    }\n",
       "</style>\n",
       "<table border=\"1\" class=\"dataframe\">\n",
       "  <thead>\n",
       "    <tr style=\"text-align: right;\">\n",
       "      <th></th>\n",
       "      <th>X</th>\n",
       "      <th>Y</th>\n",
       "      <th>method</th>\n",
       "      <th>alternative</th>\n",
       "      <th>n</th>\n",
       "      <th>r</th>\n",
       "      <th>CI95%</th>\n",
       "      <th>p-unc</th>\n",
       "      <th>BF10</th>\n",
       "      <th>power</th>\n",
       "    </tr>\n",
       "  </thead>\n",
       "  <tbody>\n",
       "    <tr>\n",
       "      <th>0</th>\n",
       "      <td>AutoeficaciaP</td>\n",
       "      <td>Insatisfacción</td>\n",
       "      <td>pearson</td>\n",
       "      <td>two-sided</td>\n",
       "      <td>100</td>\n",
       "      <td>-0.451152</td>\n",
       "      <td>[-0.59, -0.28]</td>\n",
       "      <td>2.468186e-06</td>\n",
       "      <td>6998.055</td>\n",
       "      <td>0.997808</td>\n",
       "    </tr>\n",
       "    <tr>\n",
       "      <th>1</th>\n",
       "      <td>AutoeficaciaP</td>\n",
       "      <td>CompromisoP</td>\n",
       "      <td>pearson</td>\n",
       "      <td>two-sided</td>\n",
       "      <td>100</td>\n",
       "      <td>0.698190</td>\n",
       "      <td>[0.58, 0.79]</td>\n",
       "      <td>6.808635e-16</td>\n",
       "      <td>1.096e+13</td>\n",
       "      <td>1.000000</td>\n",
       "    </tr>\n",
       "    <tr>\n",
       "      <th>2</th>\n",
       "      <td>Insatisfacción</td>\n",
       "      <td>CompromisoP</td>\n",
       "      <td>pearson</td>\n",
       "      <td>two-sided</td>\n",
       "      <td>100</td>\n",
       "      <td>-0.641368</td>\n",
       "      <td>[-0.74, -0.51]</td>\n",
       "      <td>6.530957e-13</td>\n",
       "      <td>1.419e+10</td>\n",
       "      <td>1.000000</td>\n",
       "    </tr>\n",
       "  </tbody>\n",
       "</table>\n",
       "</div>"
      ],
      "text/plain": [
       "                X               Y   method alternative    n         r  \\\n",
       "0   AutoeficaciaP  Insatisfacción  pearson   two-sided  100 -0.451152   \n",
       "1   AutoeficaciaP     CompromisoP  pearson   two-sided  100  0.698190   \n",
       "2  Insatisfacción     CompromisoP  pearson   two-sided  100 -0.641368   \n",
       "\n",
       "            CI95%         p-unc       BF10     power  \n",
       "0  [-0.59, -0.28]  2.468186e-06   6998.055  0.997808  \n",
       "1    [0.58, 0.79]  6.808635e-16  1.096e+13  1.000000  \n",
       "2  [-0.74, -0.51]  6.530957e-13  1.419e+10  1.000000  "
      ]
     },
     "execution_count": 7,
     "metadata": {},
     "output_type": "execute_result"
    }
   ],
   "source": [
    "pg.pairwise_corr(\n",
    "    columns=[\"AutoeficaciaP\", \"Insatisfacción\", \"CompromisoP\"],\n",
    "    method=\"pearson\",\n",
    "    data=df,\n",
    "    alternative=\"two-sided\",\n",
    ")"
   ]
  },
  {
   "cell_type": "markdown",
   "metadata": {},
   "source": [
    "Se encontró una asociación directa significativa entre autoeficacia parental y compromiso paterno r(98) = .70, p<.001, con una magnitud grande, según los criterios de Cohen. Por otro lado, existe una asociación inversa y grande entre insatisfacción marital y compromiso paterno, r(98) = -.64, p<.001. \n",
    "\n",
    "Así, se cumple con el supuesto de linealidad y se continuará con los siguientes supuestos y el análisis de regresión múltiple."
   ]
  },
  {
   "cell_type": "markdown",
   "metadata": {},
   "source": [
    "- Multicolinealidad"
   ]
  },
  {
   "cell_type": "code",
   "execution_count": 8,
   "metadata": {},
   "outputs": [],
   "source": [
    "import statsmodels.formula.api as smf\n",
    "import statsmodels.stats.api as sms\n",
    "import statsmodels.api as sm\n",
    "\n",
    "# Fit regression model\n",
    "model = smf.ols(\"CompromisoP ~ AutoeficaciaP + Insatisfacción\", data=df).fit()"
   ]
  },
  {
   "cell_type": "code",
   "execution_count": 9,
   "metadata": {},
   "outputs": [
    {
     "data": {
      "text/html": [
       "<div>\n",
       "<style scoped>\n",
       "    .dataframe tbody tr th:only-of-type {\n",
       "        vertical-align: middle;\n",
       "    }\n",
       "\n",
       "    .dataframe tbody tr th {\n",
       "        vertical-align: top;\n",
       "    }\n",
       "\n",
       "    .dataframe thead th {\n",
       "        text-align: right;\n",
       "    }\n",
       "</style>\n",
       "<table border=\"1\" class=\"dataframe\">\n",
       "  <thead>\n",
       "    <tr style=\"text-align: right;\">\n",
       "      <th></th>\n",
       "      <th>feature</th>\n",
       "      <th>VIF</th>\n",
       "    </tr>\n",
       "  </thead>\n",
       "  <tbody>\n",
       "    <tr>\n",
       "      <th>0</th>\n",
       "      <td>Intercept</td>\n",
       "      <td>125.865924</td>\n",
       "    </tr>\n",
       "    <tr>\n",
       "      <th>1</th>\n",
       "      <td>AutoeficaciaP</td>\n",
       "      <td>1.255552</td>\n",
       "    </tr>\n",
       "    <tr>\n",
       "      <th>2</th>\n",
       "      <td>Insatisfacción</td>\n",
       "      <td>1.255552</td>\n",
       "    </tr>\n",
       "  </tbody>\n",
       "</table>\n",
       "</div>"
      ],
      "text/plain": [
       "          feature         VIF\n",
       "0       Intercept  125.865924\n",
       "1   AutoeficaciaP    1.255552\n",
       "2  Insatisfacción    1.255552"
      ]
     },
     "execution_count": 9,
     "metadata": {},
     "output_type": "execute_result"
    }
   ],
   "source": [
    "from statsmodels.stats.outliers_influence import variance_inflation_factor\n",
    "\n",
    "# the independent variables set\n",
    "X = model.model.exog\n",
    "\n",
    "# VIF dataframe\n",
    "vif_data = pd.DataFrame()\n",
    "vif_data[\"feature\"] = model.params.index\n",
    "\n",
    "# calculating VIF for each feature\n",
    "vif_data[\"VIF\"] = [\n",
    "    variance_inflation_factor(X, i) for i in range(model.model.exog.shape[1])\n",
    "]\n",
    "vif_data"
   ]
  },
  {
   "cell_type": "markdown",
   "metadata": {},
   "source": [
    "Autoeficacia parental:        Tolerancia = .80 > .20, VIF = 1.26 < 3\n",
    "\n",
    "Insatisfacción marital:        Tolerancia = .80 > .20, VIF = 1.26 < 3\n",
    "\n",
    "Los resultados sugieren que las variables predictoras de autoeficacia parental e insatisfacción marital no tienen una relación lineal entre sí, por lo que se cumple con el supuesto de independencia de variables."
   ]
  },
  {
   "cell_type": "markdown",
   "metadata": {},
   "source": [
    "- Normalidad de los residuos"
   ]
  },
  {
   "cell_type": "code",
   "execution_count": 11,
   "metadata": {},
   "outputs": [
    {
     "data": {
      "text/plain": [
       "<AxesSubplot:title={'center':'Q-Q Plot'}, xlabel='Theoretical quantiles', ylabel='Ordered quantiles'>"
      ]
     },
     "execution_count": 11,
     "metadata": {},
     "output_type": "execute_result"
    },
    {
     "data": {
      "image/png": "[encoded data removed]",
      "text/plain": [
       "<Figure size 500x400 with 1 Axes>"
      ]
     },
     "metadata": {},
     "output_type": "display_data"
    }
   ],
   "source": [
    "pg.qqplot(model.resid)"
   ]
  },
  {
   "cell_type": "code",
   "execution_count": 10,
   "metadata": {},
   "outputs": [
    {
     "data": {
      "text/html": [
       "<div>\n",
       "<style scoped>\n",
       "    .dataframe tbody tr th:only-of-type {\n",
       "        vertical-align: middle;\n",
       "    }\n",
       "\n",
       "    .dataframe tbody tr th {\n",
       "        vertical-align: top;\n",
       "    }\n",
       "\n",
       "    .dataframe thead th {\n",
       "        text-align: right;\n",
       "    }\n",
       "</style>\n",
       "<table border=\"1\" class=\"dataframe\">\n",
       "  <thead>\n",
       "    <tr style=\"text-align: right;\">\n",
       "      <th></th>\n",
       "      <th>W</th>\n",
       "      <th>pval</th>\n",
       "      <th>normal</th>\n",
       "    </tr>\n",
       "  </thead>\n",
       "  <tbody>\n",
       "    <tr>\n",
       "      <th>0</th>\n",
       "      <td>0.991742</td>\n",
       "      <td>0.802206</td>\n",
       "      <td>True</td>\n",
       "    </tr>\n",
       "  </tbody>\n",
       "</table>\n",
       "</div>"
      ],
      "text/plain": [
       "          W      pval  normal\n",
       "0  0.991742  0.802206    True"
      ]
     },
     "execution_count": 10,
     "metadata": {},
     "output_type": "execute_result"
    }
   ],
   "source": [
    "pg.normality(model.resid)"
   ]
  },
  {
   "cell_type": "markdown",
   "metadata": {},
   "source": [
    "La prueba de Shapiro-Wilk fue de SW =.99, p =.80, por lo que los residuos presentan distribución normal.\n",
    "\n",
    "En función a los supuestos evaluados, se realizará un análisis de regresión lineal múltiple con dos variables predictoras, autoeficacia parental e insatisfacción marital, para estimar el compromiso paterno de papás de Loreto."
   ]
  },
  {
   "cell_type": "code",
   "execution_count": 12,
   "metadata": {},
   "outputs": [
    {
     "data": {
      "text/html": [
       "<table class=\"simpletable\">\n",
       "<caption>OLS Regression Results</caption>\n",
       "<tr>\n",
       "  <th>Dep. Variable:</th>       <td>CompromisoP</td>   <th>  R-squared:         </th> <td>   0.621</td>\n",
       "</tr>\n",
       "<tr>\n",
       "  <th>Model:</th>                   <td>OLS</td>       <th>  Adj. R-squared:    </th> <td>   0.613</td>\n",
       "</tr>\n",
       "<tr>\n",
       "  <th>Method:</th>             <td>Least Squares</td>  <th>  F-statistic:       </th> <td>   79.54</td>\n",
       "</tr>\n",
       "<tr>\n",
       "  <th>Date:</th>             <td>Wed, 05 Oct 2022</td> <th>  Prob (F-statistic):</th> <td>3.57e-21</td>\n",
       "</tr>\n",
       "<tr>\n",
       "  <th>Time:</th>                 <td>20:24:45</td>     <th>  Log-Likelihood:    </th> <td> -356.35</td>\n",
       "</tr>\n",
       "<tr>\n",
       "  <th>No. Observations:</th>      <td>   100</td>      <th>  AIC:               </th> <td>   718.7</td>\n",
       "</tr>\n",
       "<tr>\n",
       "  <th>Df Residuals:</th>          <td>    97</td>      <th>  BIC:               </th> <td>   726.5</td>\n",
       "</tr>\n",
       "<tr>\n",
       "  <th>Df Model:</th>              <td>     2</td>      <th>                     </th>     <td> </td>   \n",
       "</tr>\n",
       "<tr>\n",
       "  <th>Covariance Type:</th>      <td>nonrobust</td>    <th>                     </th>     <td> </td>   \n",
       "</tr>\n",
       "</table>\n",
       "<table class=\"simpletable\">\n",
       "<tr>\n",
       "         <td></td>           <th>coef</th>     <th>std err</th>      <th>t</th>      <th>P>|t|</th>  <th>[0.025</th>    <th>0.975]</th>  \n",
       "</tr>\n",
       "<tr>\n",
       "  <th>Intercept</th>      <td>   41.2657</td> <td>    9.726</td> <td>    4.243</td> <td> 0.000</td> <td>   21.962</td> <td>   60.570</td>\n",
       "</tr>\n",
       "<tr>\n",
       "  <th>AutoeficaciaP</th>  <td>    1.9092</td> <td>    0.260</td> <td>    7.331</td> <td> 0.000</td> <td>    1.392</td> <td>    2.426</td>\n",
       "</tr>\n",
       "<tr>\n",
       "  <th>Insatisfacción</th> <td>   -1.5142</td> <td>    0.259</td> <td>   -5.852</td> <td> 0.000</td> <td>   -2.028</td> <td>   -1.001</td>\n",
       "</tr>\n",
       "</table>\n",
       "<table class=\"simpletable\">\n",
       "<tr>\n",
       "  <th>Omnibus:</th>       <td> 0.137</td> <th>  Durbin-Watson:     </th> <td>   1.951</td>\n",
       "</tr>\n",
       "<tr>\n",
       "  <th>Prob(Omnibus):</th> <td> 0.934</td> <th>  Jarque-Bera (JB):  </th> <td>   0.245</td>\n",
       "</tr>\n",
       "<tr>\n",
       "  <th>Skew:</th>          <td> 0.082</td> <th>  Prob(JB):          </th> <td>   0.885</td>\n",
       "</tr>\n",
       "<tr>\n",
       "  <th>Kurtosis:</th>      <td> 2.821</td> <th>  Cond. No.          </th> <td>    349.</td>\n",
       "</tr>\n",
       "</table><br/><br/>Notes:<br/>[1] Standard Errors assume that the covariance matrix of the errors is correctly specified."
      ],
      "text/plain": [
       "<class 'statsmodels.iolib.summary.Summary'>\n",
       "\"\"\"\n",
       "                            OLS Regression Results                            \n",
       "==============================================================================\n",
       "Dep. Variable:            CompromisoP   R-squared:                       0.621\n",
       "Model:                            OLS   Adj. R-squared:                  0.613\n",
       "Method:                 Least Squares   F-statistic:                     79.54\n",
       "Date:                Wed, 05 Oct 2022   Prob (F-statistic):           3.57e-21\n",
       "Time:                        20:24:45   Log-Likelihood:                -356.35\n",
       "No. Observations:                 100   AIC:                             718.7\n",
       "Df Residuals:                      97   BIC:                             726.5\n",
       "Df Model:                           2                                         \n",
       "Covariance Type:            nonrobust                                         \n",
       "==================================================================================\n",
       "                     coef    std err          t      P>|t|      [0.025      0.975]\n",
       "----------------------------------------------------------------------------------\n",
       "Intercept         41.2657      9.726      4.243      0.000      21.962      60.570\n",
       "AutoeficaciaP      1.9092      0.260      7.331      0.000       1.392       2.426\n",
       "Insatisfacción    -1.5142      0.259     -5.852      0.000      -2.028      -1.001\n",
       "==============================================================================\n",
       "Omnibus:                        0.137   Durbin-Watson:                   1.951\n",
       "Prob(Omnibus):                  0.934   Jarque-Bera (JB):                0.245\n",
       "Skew:                           0.082   Prob(JB):                        0.885\n",
       "Kurtosis:                       2.821   Cond. No.                         349.\n",
       "==============================================================================\n",
       "\n",
       "Notes:\n",
       "[1] Standard Errors assume that the covariance matrix of the errors is correctly specified.\n",
       "\"\"\""
      ]
     },
     "execution_count": 12,
     "metadata": {},
     "output_type": "execute_result"
    }
   ],
   "source": [
    "model.summary()"
   ]
  },
  {
   "cell_type": "markdown",
   "metadata": {},
   "source": [
    "El resultado de la prueba de ANOVA fue de F(2, 97)=79.54, p<.001, por lo que el modelo es adecuado para estimar el compromiso paterno. \n",
    "\n",
    "Además, el R2 ajustado fue .613 por lo que se puede decir que el 61.3% de la variación que se observa en el compromiso paterno se explica por la autoeficacia parental y la insatisfacción marital. Según el criterio de Cohen (1988) el coeficiente de determinación es grande."
   ]
  },
  {
   "cell_type": "markdown",
   "metadata": {},
   "source": [
    "El análisis de regresión lineal múltiple indica que el $β_{0}=41.27$, $β_{autoeficacia}= 1.91$, $p<.001$ y $β_{insatisfacción}= -1.51$, $p<.001$. \n",
    "\n",
    "En el caso de la autoeficacia parental se encontró que predice el compromiso paterno de manera directa y significativa, es decir, a cada incremento de una unidad en autoeficacia se observa un aumento de 1.91 en compromiso paterno. \n",
    "\n",
    "Por su parte, la insatisfacción marital predice el compromiso de manera inversa y significativa; por cada unidad de insatisfacción se estima una disminución del compromiso en 1.51. \n",
    "\n",
    "Por todo ello se concluye que la HT se cumple y que ambas variables son factores que predicen significativamente el compromiso paterno en papás de Loreto.\n",
    "\n",
    "$Compromiso \\ paterno = 41.27 + 1.91 (autoeficacia) – 1.51 (insatisfacción) \\pm 8.67$"
   ]
  },
  {
   "cell_type": "code",
   "execution_count": 14,
   "metadata": {},
   "outputs": [
    {
     "data": {
      "text/html": [
       "<table class=\"simpletable\">\n",
       "<caption>OLS Regression Results</caption>\n",
       "<tr>\n",
       "  <th>Dep. Variable:</th>       <td>CompromisoP</td>   <th>  R-squared:         </th> <td>   0.621</td>\n",
       "</tr>\n",
       "<tr>\n",
       "  <th>Model:</th>                   <td>OLS</td>       <th>  Adj. R-squared:    </th> <td>   0.613</td>\n",
       "</tr>\n",
       "<tr>\n",
       "  <th>Method:</th>             <td>Least Squares</td>  <th>  F-statistic:       </th> <td>   79.54</td>\n",
       "</tr>\n",
       "<tr>\n",
       "  <th>Date:</th>             <td>Wed, 05 Oct 2022</td> <th>  Prob (F-statistic):</th> <td>3.57e-21</td>\n",
       "</tr>\n",
       "<tr>\n",
       "  <th>Time:</th>                 <td>20:29:38</td>     <th>  Log-Likelihood:    </th> <td> -93.355</td>\n",
       "</tr>\n",
       "<tr>\n",
       "  <th>No. Observations:</th>      <td>   100</td>      <th>  AIC:               </th> <td>   192.7</td>\n",
       "</tr>\n",
       "<tr>\n",
       "  <th>Df Residuals:</th>          <td>    97</td>      <th>  BIC:               </th> <td>   200.5</td>\n",
       "</tr>\n",
       "<tr>\n",
       "  <th>Df Model:</th>              <td>     2</td>      <th>                     </th>     <td> </td>   \n",
       "</tr>\n",
       "<tr>\n",
       "  <th>Covariance Type:</th>      <td>nonrobust</td>    <th>                     </th>     <td> </td>   \n",
       "</tr>\n",
       "</table>\n",
       "<table class=\"simpletable\">\n",
       "<tr>\n",
       "         <td></td>           <th>coef</th>     <th>std err</th>      <th>t</th>      <th>P>|t|</th>  <th>[0.025</th>    <th>0.975]</th>  \n",
       "</tr>\n",
       "<tr>\n",
       "  <th>Intercept</th>      <td> 1.492e-16</td> <td>    0.062</td> <td> 2.39e-15</td> <td> 1.000</td> <td>   -0.124</td> <td>    0.124</td>\n",
       "</tr>\n",
       "<tr>\n",
       "  <th>AutoeficaciaP</th>  <td>    0.5133</td> <td>    0.070</td> <td>    7.331</td> <td> 0.000</td> <td>    0.374</td> <td>    0.652</td>\n",
       "</tr>\n",
       "<tr>\n",
       "  <th>Insatisfacción</th> <td>   -0.4098</td> <td>    0.070</td> <td>   -5.852</td> <td> 0.000</td> <td>   -0.549</td> <td>   -0.271</td>\n",
       "</tr>\n",
       "</table>\n",
       "<table class=\"simpletable\">\n",
       "<tr>\n",
       "  <th>Omnibus:</th>       <td> 0.137</td> <th>  Durbin-Watson:     </th> <td>   1.951</td>\n",
       "</tr>\n",
       "<tr>\n",
       "  <th>Prob(Omnibus):</th> <td> 0.934</td> <th>  Jarque-Bera (JB):  </th> <td>   0.245</td>\n",
       "</tr>\n",
       "<tr>\n",
       "  <th>Skew:</th>          <td> 0.082</td> <th>  Prob(JB):          </th> <td>   0.885</td>\n",
       "</tr>\n",
       "<tr>\n",
       "  <th>Kurtosis:</th>      <td> 2.821</td> <th>  Cond. No.          </th> <td>    1.63</td>\n",
       "</tr>\n",
       "</table><br/><br/>Notes:<br/>[1] Standard Errors assume that the covariance matrix of the errors is correctly specified."
      ],
      "text/plain": [
       "<class 'statsmodels.iolib.summary.Summary'>\n",
       "\"\"\"\n",
       "                            OLS Regression Results                            \n",
       "==============================================================================\n",
       "Dep. Variable:            CompromisoP   R-squared:                       0.621\n",
       "Model:                            OLS   Adj. R-squared:                  0.613\n",
       "Method:                 Least Squares   F-statistic:                     79.54\n",
       "Date:                Wed, 05 Oct 2022   Prob (F-statistic):           3.57e-21\n",
       "Time:                        20:29:38   Log-Likelihood:                -93.355\n",
       "No. Observations:                 100   AIC:                             192.7\n",
       "Df Residuals:                      97   BIC:                             200.5\n",
       "Df Model:                           2                                         \n",
       "Covariance Type:            nonrobust                                         \n",
       "==================================================================================\n",
       "                     coef    std err          t      P>|t|      [0.025      0.975]\n",
       "----------------------------------------------------------------------------------\n",
       "Intercept       1.492e-16      0.062   2.39e-15      1.000      -0.124       0.124\n",
       "AutoeficaciaP      0.5133      0.070      7.331      0.000       0.374       0.652\n",
       "Insatisfacción    -0.4098      0.070     -5.852      0.000      -0.549      -0.271\n",
       "==============================================================================\n",
       "Omnibus:                        0.137   Durbin-Watson:                   1.951\n",
       "Prob(Omnibus):                  0.934   Jarque-Bera (JB):                0.245\n",
       "Skew:                           0.082   Prob(JB):                        0.885\n",
       "Kurtosis:                       2.821   Cond. No.                         1.63\n",
       "==============================================================================\n",
       "\n",
       "Notes:\n",
       "[1] Standard Errors assume that the covariance matrix of the errors is correctly specified.\n",
       "\"\"\""
      ]
     },
     "execution_count": 14,
     "metadata": {},
     "output_type": "execute_result"
    }
   ],
   "source": [
    "import numpy as np\n",
    "from scipy import stats\n",
    "\n",
    "model = smf.ols(\n",
    "    \"CompromisoP ~ AutoeficaciaP + Insatisfacción\",\n",
    "    data=df.select_dtypes(include=[np.number]).dropna().apply(stats.zscore),\n",
    ").fit()\n",
    "model.summary()"
   ]
  },
  {
   "cell_type": "markdown",
   "metadata": {},
   "source": [
    "En el modelo se observa que la autoeficacia parental es la variable predictora más importante en el modelo que la insatisfacción marital, $B_{autoeficacia} = .51 > B_{insatisfacción} = -.41$."
   ]
  },
  {
   "cell_type": "markdown",
   "metadata": {},
   "source": [
    "## Pregunta 2\n",
    "\n",
    "De acuerdo con los resultados del modelo analizado previamente, si se cuenta con un participante que puntúa 27 en autoeficacia parental y 22 en insatisfacción, ¿cuánto sería el puntaje de compromiso paterno estimado? (2 pts)                 "
   ]
  },
  {
   "cell_type": "markdown",
   "metadata": {},
   "source": [
    "### Solución"
   ]
  },
  {
   "cell_type": "markdown",
   "metadata": {},
   "source": [
    "$Compromiso \\ paterno = 41.27 + 1.91 (autoeficacia) – 1.51 (insatisfacción) \\pm 8.67$\n",
    "\n",
    "$Compromiso paterno = 59.62 \\pm 8.67$\n",
    "\n",
    "$Compromiso paterno = [50.95, 68.29]$"
   ]
  },
  {
   "cell_type": "markdown",
   "metadata": {},
   "source": [
    "## Pregunta 3\n",
    "\n",
    "En el mismo estudio, se evaluó si el conservadurismo era un factor de riesgo en el compromiso paterno en papás de preescolares. Para ello, se planteó conocer si el **conservadurismo** del padre contribuye a un menor **compromiso** en la crianza (8 pts).\n",
    "\n",
    "a) Redacta la hipótesis de trabajo (HT) y las hipótesis estadísticas respectivas.\n",
    "\n",
    "b) Plantea la ecuación del modelo para la HT. \n",
    "\n",
    "c) Analiza si existe evidencia de la asociación entre las variables con un gráfico de dispersión y reporta los resultados de la prueba de correlación pertinente.\n",
    "\n",
    "d) Indica si el modelo presenta un buen ajuste, así como el coeficiente de determinación considerando su variabilidad y magnitud de acuerdo con los criterios de Cohen.\n",
    "\n",
    "e) Reporta los resultados de los coeficientes del modelo e indica si se cumple la hipótesis del estudio, elaborando tu conclusión."
   ]
  },
  {
   "cell_type": "markdown",
   "metadata": {},
   "source": [
    "### Solución"
   ]
  },
  {
   "cell_type": "markdown",
   "metadata": {},
   "source": [
    "HT: El conservadurismo predice un menor compromiso paterno en papás de preescolares en Loreto.\n",
    "\n",
    "$H_{0}$: $β = 0$, el conservadurismo no predice el compromiso paterno.\n",
    "\n",
    "$H_{1}$: $β < 0$, el conservadurismo predice un menor compromiso paterno.\n"
   ]
  },
  {
   "cell_type": "markdown",
   "metadata": {},
   "source": [
    "$Compromiso \\ paterno = β_{0} – β_{1} (conservadurismo) ± \\epsilon$, $β < 0$"
   ]
  },
  {
   "cell_type": "code",
   "execution_count": 15,
   "metadata": {},
   "outputs": [
    {
     "data": {
      "image/png": "[encoded data removed]",
      "text/plain": [
       "<Figure size 640x480 with 1 Axes>"
      ]
     },
     "metadata": {},
     "output_type": "display_data"
    }
   ],
   "source": [
    "import seaborn as sns\n",
    "import matplotlib.pyplot as plt\n",
    "\n",
    "ax = sns.regplot(x=\"Conservadurismo\", y=\"CompromisoP\", data=df)\n",
    "ax.set_xlabel(\"Conservadurismo\", size=14)\n",
    "ax.set_ylabel(\"Compromiso paterno\", size=14)\n",
    "plt.show()"
   ]
  },
  {
   "cell_type": "markdown",
   "metadata": {},
   "source": [
    "En primer lugar, el diagrama de dispersión sugiere una ligera relación lineal inversa entre las variables debido a que la nube de puntos muestra que altos valores de conservadurismo corresponden con bajos valores de compromiso paterno, y viceversa."
   ]
  },
  {
   "cell_type": "code",
   "execution_count": 17,
   "metadata": {},
   "outputs": [
    {
     "data": {
      "text/html": [
       "<div>\n",
       "<style scoped>\n",
       "    .dataframe tbody tr th:only-of-type {\n",
       "        vertical-align: middle;\n",
       "    }\n",
       "\n",
       "    .dataframe tbody tr th {\n",
       "        vertical-align: top;\n",
       "    }\n",
       "\n",
       "    .dataframe thead th {\n",
       "        text-align: right;\n",
       "    }\n",
       "</style>\n",
       "<table border=\"1\" class=\"dataframe\">\n",
       "  <thead>\n",
       "    <tr style=\"text-align: right;\">\n",
       "      <th></th>\n",
       "      <th>W</th>\n",
       "      <th>pval</th>\n",
       "      <th>normal</th>\n",
       "    </tr>\n",
       "  </thead>\n",
       "  <tbody>\n",
       "    <tr>\n",
       "      <th>Conservadurismo</th>\n",
       "      <td>0.976677</td>\n",
       "      <td>0.073023</td>\n",
       "      <td>True</td>\n",
       "    </tr>\n",
       "    <tr>\n",
       "      <th>CompromisoP</th>\n",
       "      <td>0.983924</td>\n",
       "      <td>0.264967</td>\n",
       "      <td>True</td>\n",
       "    </tr>\n",
       "  </tbody>\n",
       "</table>\n",
       "</div>"
      ],
      "text/plain": [
       "                        W      pval  normal\n",
       "Conservadurismo  0.976677  0.073023    True\n",
       "CompromisoP      0.983924  0.264967    True"
      ]
     },
     "execution_count": 17,
     "metadata": {},
     "output_type": "execute_result"
    }
   ],
   "source": [
    "pg.normality(df[[\"Conservadurismo\", \"CompromisoP\"]])"
   ]
  },
  {
   "cell_type": "markdown",
   "metadata": {},
   "source": [
    "Tanto conservadurismo, SW =.98, p=.07, como compromiso paterno, SW =.98, p=.27, cuentan con una distribución normal por lo que se utilizará el análsis de correlación de Pearson para corroborar la tendencia del gráfico de dispersión."
   ]
  },
  {
   "cell_type": "code",
   "execution_count": 18,
   "metadata": {},
   "outputs": [
    {
     "data": {
      "text/html": [
       "<div>\n",
       "<style scoped>\n",
       "    .dataframe tbody tr th:only-of-type {\n",
       "        vertical-align: middle;\n",
       "    }\n",
       "\n",
       "    .dataframe tbody tr th {\n",
       "        vertical-align: top;\n",
       "    }\n",
       "\n",
       "    .dataframe thead th {\n",
       "        text-align: right;\n",
       "    }\n",
       "</style>\n",
       "<table border=\"1\" class=\"dataframe\">\n",
       "  <thead>\n",
       "    <tr style=\"text-align: right;\">\n",
       "      <th></th>\n",
       "      <th>X</th>\n",
       "      <th>Y</th>\n",
       "      <th>method</th>\n",
       "      <th>alternative</th>\n",
       "      <th>n</th>\n",
       "      <th>r</th>\n",
       "      <th>CI95%</th>\n",
       "      <th>p-unc</th>\n",
       "      <th>BF10</th>\n",
       "      <th>power</th>\n",
       "    </tr>\n",
       "  </thead>\n",
       "  <tbody>\n",
       "    <tr>\n",
       "      <th>0</th>\n",
       "      <td>Conservadurismo</td>\n",
       "      <td>CompromisoP</td>\n",
       "      <td>pearson</td>\n",
       "      <td>less</td>\n",
       "      <td>100</td>\n",
       "      <td>-0.339069</td>\n",
       "      <td>[-1.0, -0.18]</td>\n",
       "      <td>0.000279</td>\n",
       "      <td>88.318</td>\n",
       "      <td>0.967808</td>\n",
       "    </tr>\n",
       "  </tbody>\n",
       "</table>\n",
       "</div>"
      ],
      "text/plain": [
       "                 X            Y   method alternative    n         r  \\\n",
       "0  Conservadurismo  CompromisoP  pearson        less  100 -0.339069   \n",
       "\n",
       "           CI95%     p-unc    BF10     power  \n",
       "0  [-1.0, -0.18]  0.000279  88.318  0.967808  "
      ]
     },
     "execution_count": 18,
     "metadata": {},
     "output_type": "execute_result"
    }
   ],
   "source": [
    "pg.pairwise_corr(\n",
    "    columns=[\"Conservadurismo\", \"CompromisoP\"],\n",
    "    method=\"pearson\",\n",
    "    data=df,\n",
    "    alternative=\"less\",\n",
    ")"
   ]
  },
  {
   "cell_type": "markdown",
   "metadata": {},
   "source": [
    "Existe una asociación lineal inversa significativa y de magnitud mediana entre el conservadurismo y el compromiso paterno, r(98) = –.34, p < .001 (unilateral)."
   ]
  },
  {
   "cell_type": "code",
   "execution_count": 20,
   "metadata": {},
   "outputs": [
    {
     "data": {
      "text/html": [
       "<table class=\"simpletable\">\n",
       "<caption>OLS Regression Results</caption>\n",
       "<tr>\n",
       "  <th>Dep. Variable:</th>       <td>CompromisoP</td>   <th>  R-squared:         </th> <td>   0.115</td>\n",
       "</tr>\n",
       "<tr>\n",
       "  <th>Model:</th>                   <td>OLS</td>       <th>  Adj. R-squared:    </th> <td>   0.106</td>\n",
       "</tr>\n",
       "<tr>\n",
       "  <th>Method:</th>             <td>Least Squares</td>  <th>  F-statistic:       </th> <td>   12.73</td>\n",
       "</tr>\n",
       "<tr>\n",
       "  <th>Date:</th>             <td>Wed, 05 Oct 2022</td> <th>  Prob (F-statistic):</th> <td>0.000559</td>\n",
       "</tr>\n",
       "<tr>\n",
       "  <th>Time:</th>                 <td>20:38:48</td>     <th>  Log-Likelihood:    </th> <td> -398.79</td>\n",
       "</tr>\n",
       "<tr>\n",
       "  <th>No. Observations:</th>      <td>   100</td>      <th>  AIC:               </th> <td>   801.6</td>\n",
       "</tr>\n",
       "<tr>\n",
       "  <th>Df Residuals:</th>          <td>    98</td>      <th>  BIC:               </th> <td>   806.8</td>\n",
       "</tr>\n",
       "<tr>\n",
       "  <th>Df Model:</th>              <td>     1</td>      <th>                     </th>     <td> </td>   \n",
       "</tr>\n",
       "<tr>\n",
       "  <th>Covariance Type:</th>      <td>nonrobust</td>    <th>                     </th>     <td> </td>   \n",
       "</tr>\n",
       "</table>\n",
       "<table class=\"simpletable\">\n",
       "<tr>\n",
       "         <td></td>            <th>coef</th>     <th>std err</th>      <th>t</th>      <th>P>|t|</th>  <th>[0.025</th>    <th>0.975]</th>  \n",
       "</tr>\n",
       "<tr>\n",
       "  <th>Intercept</th>       <td>   72.5371</td> <td>    6.263</td> <td>   11.581</td> <td> 0.000</td> <td>   60.108</td> <td>   84.967</td>\n",
       "</tr>\n",
       "<tr>\n",
       "  <th>Conservadurismo</th> <td>   -2.2112</td> <td>    0.620</td> <td>   -3.568</td> <td> 0.001</td> <td>   -3.441</td> <td>   -0.981</td>\n",
       "</tr>\n",
       "</table>\n",
       "<table class=\"simpletable\">\n",
       "<tr>\n",
       "  <th>Omnibus:</th>       <td> 1.268</td> <th>  Durbin-Watson:     </th> <td>   2.150</td>\n",
       "</tr>\n",
       "<tr>\n",
       "  <th>Prob(Omnibus):</th> <td> 0.530</td> <th>  Jarque-Bera (JB):  </th> <td>   1.349</td>\n",
       "</tr>\n",
       "<tr>\n",
       "  <th>Skew:</th>          <td> 0.240</td> <th>  Prob(JB):          </th> <td>   0.510</td>\n",
       "</tr>\n",
       "<tr>\n",
       "  <th>Kurtosis:</th>      <td> 2.696</td> <th>  Cond. No.          </th> <td>    48.5</td>\n",
       "</tr>\n",
       "</table><br/><br/>Notes:<br/>[1] Standard Errors assume that the covariance matrix of the errors is correctly specified."
      ],
      "text/plain": [
       "<class 'statsmodels.iolib.summary.Summary'>\n",
       "\"\"\"\n",
       "                            OLS Regression Results                            \n",
       "==============================================================================\n",
       "Dep. Variable:            CompromisoP   R-squared:                       0.115\n",
       "Model:                            OLS   Adj. R-squared:                  0.106\n",
       "Method:                 Least Squares   F-statistic:                     12.73\n",
       "Date:                Wed, 05 Oct 2022   Prob (F-statistic):           0.000559\n",
       "Time:                        20:38:48   Log-Likelihood:                -398.79\n",
       "No. Observations:                 100   AIC:                             801.6\n",
       "Df Residuals:                      98   BIC:                             806.8\n",
       "Df Model:                           1                                         \n",
       "Covariance Type:            nonrobust                                         \n",
       "===================================================================================\n",
       "                      coef    std err          t      P>|t|      [0.025      0.975]\n",
       "-----------------------------------------------------------------------------------\n",
       "Intercept          72.5371      6.263     11.581      0.000      60.108      84.967\n",
       "Conservadurismo    -2.2112      0.620     -3.568      0.001      -3.441      -0.981\n",
       "==============================================================================\n",
       "Omnibus:                        1.268   Durbin-Watson:                   2.150\n",
       "Prob(Omnibus):                  0.530   Jarque-Bera (JB):                1.349\n",
       "Skew:                           0.240   Prob(JB):                        0.510\n",
       "Kurtosis:                       2.696   Cond. No.                         48.5\n",
       "==============================================================================\n",
       "\n",
       "Notes:\n",
       "[1] Standard Errors assume that the covariance matrix of the errors is correctly specified.\n",
       "\"\"\""
      ]
     },
     "execution_count": 20,
     "metadata": {},
     "output_type": "execute_result"
    }
   ],
   "source": [
    "model = smf.ols(\"CompromisoP ~ Conservadurismo\", data=df).fit()\n",
    "model.summary()"
   ]
  },
  {
   "cell_type": "markdown",
   "metadata": {},
   "source": [
    "En cuanto al ajuste del modelo, el ANOVA sugiere que el modelo propuesto es pertinente para predecir cambios en el compromiso paterno, F(1, 98) = 12.73, p = .001.\n",
    "\n",
    "Asimismo, se obtuvo un R2 de .115, de modo que el 11.5% de la variabilidad de compromiso paterno se explica por el conservadurismo. Según los criterios de Cohen (1988), el coeficiente de determinación es de magnitud mediana."
   ]
  },
  {
   "cell_type": "markdown",
   "metadata": {},
   "source": [
    "El análisis de regresión lineal simple muestra que $β_{0} = 72.54$, $β_{conservadurismo} = –2.21$, $p < .001$ (unilateral). \n",
    "\n",
    "El conservadurismo predice significativamente un menor compromiso paterno, $β = –2.21$, $EE_{β}=0.62$, $t(98) = –3.57$, $p <.001$, existiendo entre ambos una asociación inversa significativa con un tamaño del efecto mediano, $R^{2} = .115$, $F(1, 98)=12.73$, $p = .001$. \n",
    "\n",
    "Así, por cada unidad de conservadurismo, el compromiso paterno disminuye en 2.21. En conclusión, la evidencia estadística sugiere que el conservadurismo reduce el compromiso paterno en papás de preescolares en Loreto.\n",
    "\n",
    "$Compromiso \\ paterno = 72.54 – 2.21 (conservadurismo) \\pm 13.18$"
   ]
  }
 ],
 "metadata": {
  "kernelspec": {
   "display_name": "Python 3.7.13 ('stats')",
   "language": "python",
   "name": "python3"
  },
  "language_info": {
   "codemirror_mode": {
    "name": "ipython",
    "version": 3
   },
   "file_extension": ".py",
   "mimetype": "text/x-python",
   "name": "python",
   "nbconvert_exporter": "python",
   "pygments_lexer": "ipython3",
   "version": "3.7.14"
  },
  "orig_nbformat": 4,
  "vscode": {
   "interpreter": {
    "hash": "8df12303a5084d795bcef355ea103bbaab8787933417cf27c2f95a588cdf8ee7"
   }
  }
 },
 "nbformat": 4,
 "nbformat_minor": 2
}
