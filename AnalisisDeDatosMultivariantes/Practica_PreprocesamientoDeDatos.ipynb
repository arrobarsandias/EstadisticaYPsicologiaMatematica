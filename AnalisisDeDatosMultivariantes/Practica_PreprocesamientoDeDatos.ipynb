{
 "cells": [
  {
   "cell_type": "markdown",
   "source": [
    "# Práctica: Preprocesamiento de datos\n",
    "\n",
    "> Requiere cargar el archivo [\"HATCO.sav\"](https://github.com/renatoparedes/EstadisticaYPsicologiaMatematica/raw/main/AnalisisDeDatosMultivariantes/HATCO.sav) en el repositorio local. \n",
    "\n",
    "Eres un asistente de investigación en una consulta de investigación de mercado. Se te ha asignado analizar los datos de una encuesta sobre la percepción de una compañía tecnológica. Esta cuenta con 9 variables cuantitativas (X1 a X9) relacionadas a la percepción del desempeño de la compañía."
   ],
   "metadata": {}
  },
  {
   "cell_type": "code",
   "execution_count": 1,
   "source": [
    "!pip install pyreadstat"
   ],
   "outputs": [
    {
     "output_type": "stream",
     "name": "stdout",
     "text": [
      "Requirement already satisfied: pyreadstat in /home/renato/anaconda3/lib/python3.8/site-packages (1.1.2)\n",
      "Requirement already satisfied: pandas>0.24.0 in /home/renato/anaconda3/lib/python3.8/site-packages (from pyreadstat) (1.2.4)\n",
      "Requirement already satisfied: python-dateutil>=2.7.3 in /home/renato/anaconda3/lib/python3.8/site-packages (from pandas>0.24.0->pyreadstat) (2.8.1)\n",
      "Requirement already satisfied: pytz>=2017.3 in /home/renato/anaconda3/lib/python3.8/site-packages (from pandas>0.24.0->pyreadstat) (2021.1)\n",
      "Requirement already satisfied: numpy>=1.16.5 in /home/renato/anaconda3/lib/python3.8/site-packages (from pandas>0.24.0->pyreadstat) (1.20.1)\n",
      "Requirement already satisfied: six>=1.5 in /home/renato/anaconda3/lib/python3.8/site-packages (from python-dateutil>=2.7.3->pandas>0.24.0->pyreadstat) (1.15.0)\n"
     ]
    }
   ],
   "metadata": {}
  },
  {
   "cell_type": "code",
   "execution_count": 2,
   "source": [
    "import pandas as pd\n",
    "import numpy as np\n",
    "\n",
    "np.random.seed(25)\n",
    "# random=np.random.default_rng(25)\n",
    "\n",
    "df = pd.read_spss('HATCO.sav') \n",
    "df.drop(columns=['Caso','X8','X10','X11','X12','X13','X14'],inplace=True)\n",
    "for col in df:\n",
    "    ori_rat = df[col].isna().mean()\n",
    "    if ori_rat >= 0.2: continue\n",
    "    add_miss_rat = (0.2 - ori_rat) / (1 - ori_rat)\n",
    "    vals_to_nan = df[col].dropna().sample(frac=add_miss_rat).index\n",
    "    df.loc[vals_to_nan, col] = np.NaN\n",
    "df"
   ],
   "outputs": [
    {
     "output_type": "execute_result",
     "data": {
      "text/html": [
       "<div>\n",
       "<style scoped>\n",
       "    .dataframe tbody tr th:only-of-type {\n",
       "        vertical-align: middle;\n",
       "    }\n",
       "\n",
       "    .dataframe tbody tr th {\n",
       "        vertical-align: top;\n",
       "    }\n",
       "\n",
       "    .dataframe thead th {\n",
       "        text-align: right;\n",
       "    }\n",
       "</style>\n",
       "<table border=\"1\" class=\"dataframe\">\n",
       "  <thead>\n",
       "    <tr style=\"text-align: right;\">\n",
       "      <th></th>\n",
       "      <th>X1</th>\n",
       "      <th>X2</th>\n",
       "      <th>X3</th>\n",
       "      <th>X4</th>\n",
       "      <th>X5</th>\n",
       "      <th>X6</th>\n",
       "      <th>X7</th>\n",
       "      <th>X9</th>\n",
       "    </tr>\n",
       "  </thead>\n",
       "  <tbody>\n",
       "    <tr>\n",
       "      <th>0</th>\n",
       "      <td>NaN</td>\n",
       "      <td>6.0</td>\n",
       "      <td>69.0</td>\n",
       "      <td>NaN</td>\n",
       "      <td>24.0</td>\n",
       "      <td>23.0</td>\n",
       "      <td>52.0</td>\n",
       "      <td>320.0</td>\n",
       "    </tr>\n",
       "    <tr>\n",
       "      <th>1</th>\n",
       "      <td>18.0</td>\n",
       "      <td>30.0</td>\n",
       "      <td>63.0</td>\n",
       "      <td>66.0</td>\n",
       "      <td>NaN</td>\n",
       "      <td>40.0</td>\n",
       "      <td>84.0</td>\n",
       "      <td>430.0</td>\n",
       "    </tr>\n",
       "    <tr>\n",
       "      <th>2</th>\n",
       "      <td>34.0</td>\n",
       "      <td>52.0</td>\n",
       "      <td>57.0</td>\n",
       "      <td>NaN</td>\n",
       "      <td>43.0</td>\n",
       "      <td>27.0</td>\n",
       "      <td>82.0</td>\n",
       "      <td>NaN</td>\n",
       "    </tr>\n",
       "    <tr>\n",
       "      <th>3</th>\n",
       "      <td>27.0</td>\n",
       "      <td>10.0</td>\n",
       "      <td>71.0</td>\n",
       "      <td>59.0</td>\n",
       "      <td>18.0</td>\n",
       "      <td>23.0</td>\n",
       "      <td>78.0</td>\n",
       "      <td>320.0</td>\n",
       "    </tr>\n",
       "    <tr>\n",
       "      <th>4</th>\n",
       "      <td>60.0</td>\n",
       "      <td>9.0</td>\n",
       "      <td>NaN</td>\n",
       "      <td>78.0</td>\n",
       "      <td>34.0</td>\n",
       "      <td>NaN</td>\n",
       "      <td>45.0</td>\n",
       "      <td>580.0</td>\n",
       "    </tr>\n",
       "    <tr>\n",
       "      <th>...</th>\n",
       "      <td>...</td>\n",
       "      <td>...</td>\n",
       "      <td>...</td>\n",
       "      <td>...</td>\n",
       "      <td>...</td>\n",
       "      <td>...</td>\n",
       "      <td>...</td>\n",
       "      <td>...</td>\n",
       "    </tr>\n",
       "    <tr>\n",
       "      <th>95</th>\n",
       "      <td>NaN</td>\n",
       "      <td>NaN</td>\n",
       "      <td>NaN</td>\n",
       "      <td>50.0</td>\n",
       "      <td>7.0</td>\n",
       "      <td>21.0</td>\n",
       "      <td>84.0</td>\n",
       "      <td>250.0</td>\n",
       "    </tr>\n",
       "    <tr>\n",
       "      <th>96</th>\n",
       "      <td>61.0</td>\n",
       "      <td>5.0</td>\n",
       "      <td>NaN</td>\n",
       "      <td>48.0</td>\n",
       "      <td>33.0</td>\n",
       "      <td>28.0</td>\n",
       "      <td>NaN</td>\n",
       "      <td>NaN</td>\n",
       "    </tr>\n",
       "    <tr>\n",
       "      <th>97</th>\n",
       "      <td>20.0</td>\n",
       "      <td>28.0</td>\n",
       "      <td>52.0</td>\n",
       "      <td>NaN</td>\n",
       "      <td>24.0</td>\n",
       "      <td>27.0</td>\n",
       "      <td>84.0</td>\n",
       "      <td>380.0</td>\n",
       "    </tr>\n",
       "    <tr>\n",
       "      <th>98</th>\n",
       "      <td>NaN</td>\n",
       "      <td>22.0</td>\n",
       "      <td>67.0</td>\n",
       "      <td>68.0</td>\n",
       "      <td>26.0</td>\n",
       "      <td>29.0</td>\n",
       "      <td>NaN</td>\n",
       "      <td>420.0</td>\n",
       "    </tr>\n",
       "    <tr>\n",
       "      <th>99</th>\n",
       "      <td>25.0</td>\n",
       "      <td>18.0</td>\n",
       "      <td>90.0</td>\n",
       "      <td>NaN</td>\n",
       "      <td>22.0</td>\n",
       "      <td>NaN</td>\n",
       "      <td>60.0</td>\n",
       "      <td>330.0</td>\n",
       "    </tr>\n",
       "  </tbody>\n",
       "</table>\n",
       "<p>100 rows × 8 columns</p>\n",
       "</div>"
      ],
      "text/plain": [
       "      X1    X2    X3    X4    X5    X6    X7     X9\n",
       "0    NaN   6.0  69.0   NaN  24.0  23.0  52.0  320.0\n",
       "1   18.0  30.0  63.0  66.0   NaN  40.0  84.0  430.0\n",
       "2   34.0  52.0  57.0   NaN  43.0  27.0  82.0    NaN\n",
       "3   27.0  10.0  71.0  59.0  18.0  23.0  78.0  320.0\n",
       "4   60.0   9.0   NaN  78.0  34.0   NaN  45.0  580.0\n",
       "..   ...   ...   ...   ...   ...   ...   ...    ...\n",
       "95   NaN   NaN   NaN  50.0   7.0  21.0  84.0  250.0\n",
       "96  61.0   5.0   NaN  48.0  33.0  28.0   NaN    NaN\n",
       "97  20.0  28.0  52.0   NaN  24.0  27.0  84.0  380.0\n",
       "98   NaN  22.0  67.0  68.0  26.0  29.0   NaN  420.0\n",
       "99  25.0  18.0  90.0   NaN  22.0   NaN  60.0  330.0\n",
       "\n",
       "[100 rows x 8 columns]"
      ]
     },
     "metadata": {},
     "execution_count": 2
    }
   ],
   "metadata": {}
  },
  {
   "cell_type": "markdown",
   "source": [
    "## Parte 1: Manejo de datos faltantes\n",
    "\n",
    "Visualiza los casos perdidos de todas las variables a la vez\n",
    ">Sugerencia: Utiliza la función `matrix` disponible en el paquete `missingno`."
   ],
   "metadata": {}
  },
  {
   "cell_type": "code",
   "execution_count": 3,
   "source": [
    "import missingno as msno\n",
    "# Escribe tu respuesta aquí"
   ],
   "outputs": [],
   "metadata": {}
  },
  {
   "cell_type": "markdown",
   "source": [
    "Explora si existen co-ocurrencias de valores perdidos entre las variables disponibles. ¿Qué puedes concluir? \n",
    ">Sugerencia: Utiliza la función `heatmap` disponible en el paquete `missingno`."
   ],
   "metadata": {}
  },
  {
   "cell_type": "code",
   "execution_count": 4,
   "source": [
    "# Escribe tu respuesta aquí"
   ],
   "outputs": [],
   "metadata": {}
  },
  {
   "cell_type": "markdown",
   "source": [
    "Los valores faltantes no co-ocurren en las diferentes variables con demasiada frecuencia. Esto indica que puede que se trate de un proceso MCAR. "
   ],
   "metadata": {}
  },
  {
   "cell_type": "markdown",
   "source": [
    "Imputa los datos reemplazando los valores faltantes con el promedio de la variable a la que están asociados. "
   ],
   "metadata": {}
  },
  {
   "cell_type": "code",
   "execution_count": 5,
   "source": [
    "# Escribe tu respuesta aquí"
   ],
   "outputs": [],
   "metadata": {}
  },
  {
   "cell_type": "markdown",
   "source": [
    "Ahora imputa los datos con el método MICE."
   ],
   "metadata": {}
  },
  {
   "cell_type": "code",
   "execution_count": 6,
   "source": [
    "import numpy as np\n",
    "from sklearn.experimental import enable_iterative_imputer\n",
    "from sklearn.impute import IterativeImputer\n",
    "from sklearn.linear_model import LinearRegression\n",
    "\n",
    "# Escribe tu respuesta aquí\n",
    "df_mice_imput = ..."
   ],
   "outputs": [],
   "metadata": {}
  },
  {
   "cell_type": "markdown",
   "source": [
    "## Parte 2: Detección de valores extremos\n",
    "\n",
    "Explora si existen outliers en cada una de las variables del dataset `df_mice_imput`. Para ello, considera como potenciales valores extremos a aquellos casos que presenten valores fuera del rango de 2.5 desviaciones estándares alrededor de la media. Reporta los índices de los casos potenciales que hayas identificado.  "
   ],
   "metadata": {}
  },
  {
   "cell_type": "code",
   "execution_count": 7,
   "source": [
    "# Los datos con los que trabajamos\n",
    "data = df_mice_imput \n",
    "\n",
    "# Escribe tu respuesta aquí\n"
   ],
   "outputs": [],
   "metadata": {}
  },
  {
   "cell_type": "markdown",
   "source": [
    "Los índices de los potenciales valores extremos detectados con este método univariado son 21,6,41,95,81,2,70,38."
   ],
   "metadata": {}
  },
  {
   "cell_type": "markdown",
   "source": [
    "Emplea la distancia de Mahalanobis para identificar potenciales valores extremos. Reporta los índices de los casos potenciales que hayas identificado.  "
   ],
   "metadata": {}
  },
  {
   "cell_type": "code",
   "execution_count": 8,
   "source": [
    "from sklearn.covariance import MinCovDet\n",
    "\n",
    "# Los datos con los que trabajamos\n",
    "data = df_mice_imput \n",
    "\n",
    "# Escribe tu respuesta aquí"
   ],
   "outputs": [],
   "metadata": {}
  },
  {
   "cell_type": "markdown",
   "source": [
    "Comparando ambos métodos, ¿encuentras casos que hayan sido identificados con ambos métodos? De ser así, repórtalos y comenta si estos deben ser eliminados o no."
   ],
   "metadata": {}
  },
  {
   "cell_type": "code",
   "execution_count": 9,
   "source": [
    "# Escribe tu respuesta aquí"
   ],
   "outputs": [],
   "metadata": {}
  }
 ],
 "metadata": {
  "orig_nbformat": 4,
  "language_info": {
   "name": "python",
   "version": "3.8.8",
   "mimetype": "text/x-python",
   "codemirror_mode": {
    "name": "ipython",
    "version": 3
   },
   "pygments_lexer": "ipython3",
   "nbconvert_exporter": "python",
   "file_extension": ".py"
  },
  "kernelspec": {
   "name": "python3",
   "display_name": "Python 3.8.8 64-bit ('base': conda)"
  },
  "interpreter": {
   "hash": "1d151a68831448000e09cfc499a6de9a24b6912dae8debe2df70808284a908ce"
  }
 },
 "nbformat": 4,
 "nbformat_minor": 2
}