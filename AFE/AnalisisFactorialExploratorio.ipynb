{
 "cells": [
  {
   "cell_type": "markdown",
   "source": [
    "https://www.datasklr.com/principal-component-analysis-and-factor-analysis/factor-analysis\n",
    "\n",
    "\n",
    "-------------------------\n",
    "\n",
    "- KMO\n",
    "- Barlet"
   ],
   "metadata": {}
  }
 ],
 "metadata": {
  "orig_nbformat": 4,
  "language_info": {
   "name": "python",
   "version": "3.8.10"
  },
  "kernelspec": {
   "name": "python3",
   "display_name": "Python 3.8.10 64-bit ('statspsych': virtualenv)"
  },
  "interpreter": {
   "hash": "b25efa0878479caaac2d225245dccd11848f16278f5ed3e8dcef24d18156548f"
  }
 },
 "nbformat": 4,
 "nbformat_minor": 2
}