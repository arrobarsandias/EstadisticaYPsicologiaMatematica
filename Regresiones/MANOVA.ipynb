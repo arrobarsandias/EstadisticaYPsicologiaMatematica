{
 "cells": [
  {
   "cell_type": "markdown",
   "metadata": {},
   "source": [
    "# Regresión Logística y MANOVA\n",
    "\n",
    ">Este tutorial es una selección y adaptación al español de los libros [Multivariate Data Analysis](https://www.cengage.co.uk/books/9781473756540/) de Joseph F. Hair et al. y [Applied Regression Analysis & Generalized Linear Models](https://socialsciences.mcmaster.ca/jfox/Books/Applied-Regression-3E/index.html) de John Fox.\n"
   ]
  },
  {
   "cell_type": "markdown",
   "metadata": {},
   "source": [
    "## Regresión Logística\n",
    "\n",
    "La regresión logística es el modelo de regresión apropiado cuando la variable dependiente es una variable categórica (nominal o no métrica) y las variables independientes son métricas o no métricas. \n",
    "\n",
    "Es particularmente útil para tareas de clasificación. "
   ]
  },
  {
   "cell_type": "markdown",
   "metadata": {},
   "source": [
    "## **MATH**"
   ]
  },
  {
   "cell_type": "markdown",
   "metadata": {},
   "source": [
    "### Diseño\n",
    "\n",
    "#### Codificación de la variable dependiente binaria\n",
    "\n",
    "Los dos grupos de interés en la regresión logística se representan como variables binarias con valores de 0 y 1. No importa a qué grupo se le asigna el valor de 1 versus 0, pero esta asignación (codificación) debe tenerse en cuenta para la interpretación de los coeficientes.\n",
    "\n",
    "- Si los grupos representan características (por ejemplo, género), entonces a cualquiera de los grupos se le puede asignar el valor de 1 (por ejemplo, mujeres) y al otro grupo el valor de 0 (por ejemplo, hombres). En tal situación, los coeficientes reflejarían el impacto de la(s) variable(s) independiente(s) en la probabilidad de que la persona sea mujer (es decir, el grupo codificado como 1).\n",
    "- Si los grupos representan resultados o eventos (por ejemplo, éxito o fracaso, compra o no compra), la asignación de los códigos de grupo también afecta la interpretación. Suponga que el grupo con éxito se codifica como 1, con el fracaso codificado como 0. Entonces, los coeficientes representan los impactos sobre la probabilidad de éxito.\n",
    "\n",
    "#### Tamaño de muestra\n",
    "\n",
    "Uso de máxima verosimilitud (MLE) como técnica de estimación. MLE requiere muestras más grandes de modo que, en igualdad de condiciones, la regresión logística requerirá un tamaño de muestra mayor que la regresión múltiple. Por ejemplo, Hosmer y Lemeshow recomiendan tamaños de muestra superiores a 400.\n",
    "\n",
    "El tamaño de muestra recomendado para cada grupo es de al menos 10 observaciones por parámetro estimado. Esto es mucho mayor que la regresión múltiple, que tuvo un mínimo de cinco observaciones por parámetro, y eso fue para la muestra general, no el tamaño de la muestra para cada grupo, como se ve con la regresión logística.\n",
    "\n",
    "Una última consideración entra en juego con el uso de variables independientes no métricas. Cuando se incluyen en el modelo, subdividen aún más la muestra en celdas creadas por la combinación de variables independientes dependientes y no métricas. \n",
    "\n",
    "Todas las frecuencias de celda deben ser mayores que 1 y una gran mayoría (75% o más) debe tener frecuencias mayores que 5. La presencia de celdas pequeñas o vacías puede hacer que el modelo logístico se vuelva inestable, reportando coeficientes logísticos y razones de probabilidad increíblemente grandes para variables independientes."
   ]
  },
  {
   "cell_type": "markdown",
   "metadata": {},
   "source": [
    "### Supuestos\n",
    "\n",
    "Las ventajas de la regresión logística en comparación con la regresión múltiple se derivan en gran medida de la falta general de supuestos requeridos en un análisis de regresión logística. No requiere ninguna forma de distribución específica de las variables independientes ni heterocedasticidad. Asimismo, no requiere relaciones lineales entre las variables independientes y las variables dependientes como lo hace la regresión múltiple. \n",
    "\n",
    "Sí requiere independencia de las observaciones y, si está presente, debe abordarse mediante algún tipo de enfoque jerárquico o de muestra agrupada."
   ]
  },
  {
   "cell_type": "markdown",
   "metadata": {},
   "source": [
    "Un supuesto inherente que debe abordarse con la prueba de Box-Tidwell es la linealidad de las variables independientes, especialmente las continuas, con el resultado (binario)."
   ]
  },
  {
   "cell_type": "code",
   "execution_count": 97,
   "metadata": {},
   "outputs": [
    {
     "data": {
      "text/html": [
       "<div>\n",
       "<style scoped>\n",
       "    .dataframe tbody tr th:only-of-type {\n",
       "        vertical-align: middle;\n",
       "    }\n",
       "\n",
       "    .dataframe tbody tr th {\n",
       "        vertical-align: top;\n",
       "    }\n",
       "\n",
       "    .dataframe thead th {\n",
       "        text-align: right;\n",
       "    }\n",
       "</style>\n",
       "<table border=\"1\" class=\"dataframe\">\n",
       "  <thead>\n",
       "    <tr style=\"text-align: right;\">\n",
       "      <th></th>\n",
       "      <th>neuroticism</th>\n",
       "      <th>extraversion</th>\n",
       "      <th>sex_male</th>\n",
       "      <th>volunteer_yes</th>\n",
       "    </tr>\n",
       "  </thead>\n",
       "  <tbody>\n",
       "    <tr>\n",
       "      <th>1</th>\n",
       "      <td>17.0</td>\n",
       "      <td>13.0</td>\n",
       "      <td>0</td>\n",
       "      <td>0</td>\n",
       "    </tr>\n",
       "    <tr>\n",
       "      <th>2</th>\n",
       "      <td>9.0</td>\n",
       "      <td>14.0</td>\n",
       "      <td>1</td>\n",
       "      <td>0</td>\n",
       "    </tr>\n",
       "    <tr>\n",
       "      <th>3</th>\n",
       "      <td>6.0</td>\n",
       "      <td>16.0</td>\n",
       "      <td>1</td>\n",
       "      <td>0</td>\n",
       "    </tr>\n",
       "    <tr>\n",
       "      <th>4</th>\n",
       "      <td>9.0</td>\n",
       "      <td>20.0</td>\n",
       "      <td>0</td>\n",
       "      <td>0</td>\n",
       "    </tr>\n",
       "    <tr>\n",
       "      <th>5</th>\n",
       "      <td>10.0</td>\n",
       "      <td>19.0</td>\n",
       "      <td>1</td>\n",
       "      <td>0</td>\n",
       "    </tr>\n",
       "    <tr>\n",
       "      <th>...</th>\n",
       "      <td>...</td>\n",
       "      <td>...</td>\n",
       "      <td>...</td>\n",
       "      <td>...</td>\n",
       "    </tr>\n",
       "    <tr>\n",
       "      <th>1417</th>\n",
       "      <td>6.0</td>\n",
       "      <td>10.0</td>\n",
       "      <td>1</td>\n",
       "      <td>1</td>\n",
       "    </tr>\n",
       "    <tr>\n",
       "      <th>1418</th>\n",
       "      <td>9.0</td>\n",
       "      <td>4.0</td>\n",
       "      <td>0</td>\n",
       "      <td>1</td>\n",
       "    </tr>\n",
       "    <tr>\n",
       "      <th>1419</th>\n",
       "      <td>9.0</td>\n",
       "      <td>8.0</td>\n",
       "      <td>1</td>\n",
       "      <td>1</td>\n",
       "    </tr>\n",
       "    <tr>\n",
       "      <th>1420</th>\n",
       "      <td>20.0</td>\n",
       "      <td>20.0</td>\n",
       "      <td>0</td>\n",
       "      <td>1</td>\n",
       "    </tr>\n",
       "    <tr>\n",
       "      <th>1421</th>\n",
       "      <td>16.0</td>\n",
       "      <td>20.0</td>\n",
       "      <td>1</td>\n",
       "      <td>1</td>\n",
       "    </tr>\n",
       "  </tbody>\n",
       "</table>\n",
       "<p>1421 rows × 4 columns</p>\n",
       "</div>"
      ],
      "text/plain": [
       "      neuroticism  extraversion  sex_male  volunteer_yes\n",
       "1            17.0          13.0         0              0\n",
       "2             9.0          14.0         1              0\n",
       "3             6.0          16.0         1              0\n",
       "4             9.0          20.0         0              0\n",
       "5            10.0          19.0         1              0\n",
       "...           ...           ...       ...            ...\n",
       "1417          6.0          10.0         1              1\n",
       "1418          9.0           4.0         0              1\n",
       "1419          9.0           8.0         1              1\n",
       "1420         20.0          20.0         0              1\n",
       "1421         16.0          20.0         1              1\n",
       "\n",
       "[1421 rows x 4 columns]"
      ]
     },
     "execution_count": 97,
     "metadata": {},
     "output_type": "execute_result"
    }
   ],
   "source": [
    "import pandas as pd\n",
    "from sklearn.preprocessing import StandardScaler\n",
    "\n",
    "df = pd.read_csv(\"https://socialsciences.mcmaster.ca/jfox/Books/Applied-Regression-3E/datasets/Cowles.txt\", sep=r'\\s{1,}', engine='python')\n",
    "df.dropna(inplace=True)\n",
    "cowles_data = pd.get_dummies(df, drop_first = True)\n",
    "cowles_data[\"neuroticism\"] = cowles_data[\"neuroticism\"] + 1\n",
    "cowles_data"
   ]
  },
  {
   "cell_type": "code",
   "execution_count": 32,
   "metadata": {},
   "outputs": [
    {
     "name": "stdout",
     "output_type": "stream",
     "text": [
      "The rpy2.ipython extension is already loaded. To reload it, use:\n",
      "  %reload_ext rpy2.ipython\n"
     ]
    }
   ],
   "source": [
    "%load_ext rpy2.ipython"
   ]
  },
  {
   "cell_type": "code",
   "execution_count": 5,
   "metadata": {},
   "outputs": [
    {
     "name": "stdout",
     "output_type": "stream",
     "text": [
      "NULL\n"
     ]
    }
   ],
   "source": [
    "%%R \n",
    "# install.packages(\"car\")"
   ]
  },
  {
   "cell_type": "code",
   "execution_count": 95,
   "metadata": {},
   "outputs": [
    {
     "name": "stdout",
     "output_type": "stream",
     "text": [
      "             MLE of lambda Score Statistic (z) Pr(>|z|)  \n",
      "neuroticism         24.554              1.4151  0.15705  \n",
      "extraversion         1.936              1.7238  0.08474 .\n",
      "---\n",
      "Signif. codes:  0 ‘***’ 0.001 ‘**’ 0.01 ‘*’ 0.05 ‘.’ 0.1 ‘ ’ 1\n",
      "\n",
      "iterations =  26 \n"
     ]
    }
   ],
   "source": [
    "%%R -i bw_data\n",
    "\n",
    "library(\"car\")\n",
    "boxTidwell(formula = volunteer_yes ~ neuroticism + extraversion, \n",
    "           other.x = ~ sex_male,\n",
    "           data = cowles_data)"
   ]
  },
  {
   "cell_type": "markdown",
   "metadata": {},
   "source": [
    "La prueba de Box-Tidwell se utiliza para verificar esta suposición probando si la transformada logit es una función lineal del predictor, efectivamente agregando la transformada no lineal del predictor original como un término de interacción para probar si esta adición no hizo una mejor predicción.\n",
    "\n",
    "Un valor p significativo en la transformación de Box-Tidwell significa que se viola el supuesto de linealidad."
   ]
  },
  {
   "cell_type": "markdown",
   "metadata": {},
   "source": [
    "### Estimación y evaluación del modelo\n",
    "\n",
    "Ajuste de la estimación del modelo: grado en el que las medidas de resultado coinciden con las probabilidades predichas:\n",
    "- Las pruebas de significación del modelo se pueden realizar con una prueba de chi-cuadrado sobre las diferencias en los valores de probabilidad logarítmica ($-2LL$) entre dos modelos (por ejemplo, modelo estimado y modelo nulo).\n",
    "- Las medidas de pseudo $R^{2}$ son comparables a las que se encuentran en la regresión múltiple, pero generalmente tienen valores más bajos.\n",
    "\n",
    "Diagnósticos por casos: el impacto de cada observación en el ajuste y los coeficientes del modelo:\n",
    "- Ambos residuos (Pearson y desviación) reflejan diferencias estandarizadas entre probabilidades predichas\n",
    "empates y valor de resultado (0 y 1). Los valores superiores a 62 merecen mayor atención.\n",
    "- Las medidas de influencia reflejan el impacto en el ajuste del modelo y los coeficientes estimados si se elimina una observación\n",
    "del análisis."
   ]
  },
  {
   "cell_type": "code",
   "execution_count": 98,
   "metadata": {},
   "outputs": [
    {
     "name": "stdout",
     "output_type": "stream",
     "text": [
      "Optimization terminated successfully.\n",
      "         Current function value: 0.670676\n",
      "         Iterations 4\n"
     ]
    },
    {
     "data": {
      "text/html": [
       "<table class=\"simpletable\">\n",
       "<caption>Logit Regression Results</caption>\n",
       "<tr>\n",
       "  <th>Dep. Variable:</th>     <td>volunteer_yes</td>  <th>  No. Observations:  </th>  <td>  1421</td>  \n",
       "</tr>\n",
       "<tr>\n",
       "  <th>Model:</th>                 <td>Logit</td>      <th>  Df Residuals:      </th>  <td>  1417</td>  \n",
       "</tr>\n",
       "<tr>\n",
       "  <th>Method:</th>                 <td>MLE</td>       <th>  Df Model:          </th>  <td>     3</td>  \n",
       "</tr>\n",
       "<tr>\n",
       "  <th>Date:</th>            <td>Sun, 07 Nov 2021</td> <th>  Pseudo R-squ.:     </th>  <td>0.01419</td> \n",
       "</tr>\n",
       "<tr>\n",
       "  <th>Time:</th>                <td>18:24:45</td>     <th>  Log-Likelihood:    </th> <td> -953.03</td> \n",
       "</tr>\n",
       "<tr>\n",
       "  <th>converged:</th>             <td>True</td>       <th>  LL-Null:           </th> <td> -966.75</td> \n",
       "</tr>\n",
       "<tr>\n",
       "  <th>Covariance Type:</th>     <td>nonrobust</td>    <th>  LLR p-value:       </th> <td>4.750e-06</td>\n",
       "</tr>\n",
       "</table>\n",
       "<table class=\"simpletable\">\n",
       "<tr>\n",
       "        <td></td>          <th>coef</th>     <th>std err</th>      <th>z</th>      <th>P>|z|</th>  <th>[0.025</th>    <th>0.975]</th>  \n",
       "</tr>\n",
       "<tr>\n",
       "  <th>Intercept</th>    <td>   -1.1229</td> <td>    0.256</td> <td>   -4.378</td> <td> 0.000</td> <td>   -1.625</td> <td>   -0.620</td>\n",
       "</tr>\n",
       "<tr>\n",
       "  <th>extraversion</th> <td>    0.0663</td> <td>    0.014</td> <td>    4.651</td> <td> 0.000</td> <td>    0.038</td> <td>    0.094</td>\n",
       "</tr>\n",
       "<tr>\n",
       "  <th>neuroticism</th>  <td>    0.0064</td> <td>    0.011</td> <td>    0.560</td> <td> 0.575</td> <td>   -0.016</td> <td>    0.029</td>\n",
       "</tr>\n",
       "<tr>\n",
       "  <th>sex_male</th>     <td>   -0.2352</td> <td>    0.111</td> <td>   -2.115</td> <td> 0.034</td> <td>   -0.453</td> <td>   -0.017</td>\n",
       "</tr>\n",
       "</table>"
      ],
      "text/plain": [
       "<class 'statsmodels.iolib.summary.Summary'>\n",
       "\"\"\"\n",
       "                           Logit Regression Results                           \n",
       "==============================================================================\n",
       "Dep. Variable:          volunteer_yes   No. Observations:                 1421\n",
       "Model:                          Logit   Df Residuals:                     1417\n",
       "Method:                           MLE   Df Model:                            3\n",
       "Date:                Sun, 07 Nov 2021   Pseudo R-squ.:                 0.01419\n",
       "Time:                        18:24:45   Log-Likelihood:                -953.03\n",
       "converged:                       True   LL-Null:                       -966.75\n",
       "Covariance Type:            nonrobust   LLR p-value:                 4.750e-06\n",
       "================================================================================\n",
       "                   coef    std err          z      P>|z|      [0.025      0.975]\n",
       "--------------------------------------------------------------------------------\n",
       "Intercept       -1.1229      0.256     -4.378      0.000      -1.625      -0.620\n",
       "extraversion     0.0663      0.014      4.651      0.000       0.038       0.094\n",
       "neuroticism      0.0064      0.011      0.560      0.575      -0.016       0.029\n",
       "sex_male        -0.2352      0.111     -2.115      0.034      -0.453      -0.017\n",
       "================================================================================\n",
       "\"\"\""
      ]
     },
     "execution_count": 98,
     "metadata": {},
     "output_type": "execute_result"
    }
   ],
   "source": [
    "import statsmodels.formula.api as smf\n",
    "\n",
    "model = smf.logit(\"volunteer_yes ~ extraversion + neuroticism + sex_male\", data = cowles_data).fit()\n",
    "model.summary()"
   ]
  },
  {
   "cell_type": "markdown",
   "metadata": {},
   "source": [
    "### Interpretación\n",
    "\n",
    "#### Significancia de los coeficientes\n",
    "\n",
    "Los valores altos de los coeficientes logísticos originales y / o los errores estándar asociados pueden indicar problemas de separación casi completos.\n",
    "\n",
    "#### Interpretación de los coeficientes\n",
    "\n",
    "Los coeficientes se expresan de dos formas: original y exponencial para ayudar en la interpretación. La interpretación de los coeficientes de dirección y magnitud es la siguiente:\n",
    "\n",
    "La dirección se puede evaluar directamente en los coeficientes originales (signos positivos o negativos) o indirectamente en los coeficientes exponenciados (menos de 1 son negativos, más de 1 son positivos).\n",
    "\n",
    "La magnitud se evalúa mejor mediante el coeficiente exponencial, con el cambio porcentual en la variable dependiente mostrado por:\n",
    "\n",
    "Cambio porcentual = (Coeficiente exponencial - 1.0) x 100"
   ]
  },
  {
   "cell_type": "markdown",
   "metadata": {},
   "source": [
    "## MANOVA\n",
    "\n",
    "MANOVA es una extensión de ANOVA que examina el efecto de una o más variables independientes no métricas sobre dos o más variables dependientes métricas.\n",
    "\n",
    "El enfoque de MANOVA y ANOVA se encuentra típicamente en una única o muy pequeña cantidad de variables independientes (es decir, una relación de resultado de tratamiento específico) con todas las otras variables que impactan la relación de alguna manera."
   ]
  },
  {
   "cell_type": "markdown",
   "metadata": {},
   "source": [
    "Además de la capacidad de analizar múltiples variables dependientes, MANOVA también tiene las ventajas de:\n",
    "- Controlar la tasa de error de todo el experimento cuando existe algún grado de intercorrelación entre las variables dependientes.\n",
    "- Proporciona más poder estadístico que ANOVA cuando el número de variables dependientes es cinco o menos.\n",
    "- Las variables independientes no métricas crean grupos entre los que se comparan las variables dependientes; muchas veces los grupos representan variables experimentales o \"efectos del tratamiento\".\n",
    "- Los investigadores deben incluir solo variables dependientes que tengan un fuerte apoyo teórico."
   ]
  },
  {
   "cell_type": "markdown",
   "metadata": {},
   "source": [
    "#### MATH"
   ]
  },
  {
   "cell_type": "markdown",
   "metadata": {},
   "source": [
    "### Diseño\n",
    "\n",
    "Varios enfoques de investigación son aplicables al análisis ANOVA / MANOVA:\n",
    "- Los diseños aleatorios, como los experimentos controlados y los experimentos de campo, están más estrechamente asociados con estas técnicas.\n",
    "- Incluso los estudios observacionales proporcionan datos que pueden analizarse con técnicas especializadas para permitir inferencias válidas de efectos específicos.\n",
    "- Los diseños no aleatorios, como los experimentos naturales y los cuasiexperimentos, aplican algunos de los principios del diseño experimental para centrarse en efectos específicos."
   ]
  },
  {
   "cell_type": "markdown",
   "metadata": {},
   "source": [
    "Si bien el enfoque principal está en el efecto principal (es decir, la relación entre el tratamiento / variable independiente y la variable dependiente / resultado), también se consideran variables y relaciones adicionales:\n",
    "- Efectos explicativos adicionales como moderación y mediación.\n",
    "- Control de influencias externas mediante covariables y factores de bloqueo.\n",
    "- Variables externas como factores de confusión y variables instrumentales."
   ]
  },
  {
   "cell_type": "markdown",
   "metadata": {},
   "source": [
    "Las celdas (grupos) están formadas por la combinación de variables independientes; por ejemplo, una variable no métrica de tres categorías (por ejemplo, baja, media, alta) combinada con una variable no métrica de dos categorías (por ejemplo, género de hombre versus mujer) dará como resultado un diseño 3 3 2 con seis celdas (grupos)."
   ]
  },
  {
   "cell_type": "markdown",
   "metadata": {},
   "source": [
    "El tamaño de la muestra por grupo es un problema de diseño crítico:\n",
    "- El tamaño mínimo de la muestra por grupo debe ser mayor que el número de variables dependientes.\n",
    "- El tamaño de celda mínimo recomendado es de 20 observaciones por celda (grupo).\n",
    "- Los investigadores deben intentar tener diseños equilibrados (tamaños de muestra iguales por celda, es decir, grupo)."
   ]
  },
  {
   "cell_type": "markdown",
   "metadata": {},
   "source": [
    "Los controles de manipulación proporcionan al investigador medidas objetivas del \"éxito\" de la manipulación y la percepción del tratamiento y también el grado en el que los encuestados siguen las instrucciones y mantienen el compromiso.\n",
    "\n",
    "Las covariables y las variables de bloqueo son formas efectivas de controlar las influencias externas sobre las variables dependientes que no están directamente representadas en las variables independientes.\n",
    "- Una covariable efectiva es aquella que está altamente correlacionada con la (s) variable (s) dependiente (s) pero no está correlacionada con las variables independientes.\n",
    "- El número máximo de covariables en un modelo debe ser (.10 x tamaño de la muestra) - (Número de grupos - 1).\n",
    "\n"
   ]
  },
  {
   "cell_type": "markdown",
   "metadata": {},
   "source": [
    "La mediación proporciona una explicación complementaria de \"Por qué\" podría ocurrir un efecto principal:\n",
    "- Requiere un fuerte apoyo conceptual antes de cualquier prueba empírica\n",
    "- El tipo de mediación (completa o parcial) se basa en la medida en que el efecto indirecto (es decir, la ruta causal a través del mediador) representa o es igual al efecto principal original.\n",
    "\n",
    "La moderación aborda la validez externa en términos de si el efecto principal se generaliza a la población o debe verse como moderado (es decir, el efecto principal varía en fuerza y ​​/ o dirección según una tercera variable). Un ejemplo de moderación sería si el efecto principal variara según el género."
   ]
  },
  {
   "cell_type": "markdown",
   "metadata": {},
   "source": [
    "### Supuestos\n",
    "\n",
    "Para que los procedimientos de prueba multivariados utilizados con MANOVA sean válidos:\n",
    "- Las observaciones deben ser independientes.\n",
    "- Las matrices de varianza-covarianza deben ser iguales (o comparables) para todos los grupos de tratamiento.\n",
    "- Las variables dependientes deben tener una distribución normal multivariante.\n",
    "- Se asume normalidad multivariante, pero muchas veces es difícil de evaluar; La normalidad univariada no garantiza la normalidad multivariada, pero si todas las variables cumplen con el requisito de normalidad univariante, las desviaciones de la normalidad multivariante son intrascendentes."
   ]
  },
  {
   "cell_type": "markdown",
   "metadata": {},
   "source": [
    "- Multivariate normality: data or residuals should have a multivariate normal distribution for each combination of independent and dependent variables (checked by Shapiro-Wilk test for univariate normality and Mardia’s skewness and kurtosis for multivariate normality)\n",
    "- Homogeneity of the variance-covariance matrices: data should have equal variance-covariance matrices for each combination formed by each group in the independent variable. This is a multivariate version of the Homogeneity of variances that is checked in univariate ANOVA. It can be tested using Box’s M test. Box’s M-test has little power and uses a lower alpha level such as 0.001 to assess the p value for significance.\n",
    "- Multicollinearity: There should be no multicollinearity (very high correlations i.e., > 0.9) among dependent variables"
   ]
  },
  {
   "cell_type": "markdown",
   "metadata": {},
   "source": [
    "Las pruebas F son generalmente sólidas si las violaciones de estos supuestos son modestas.\n",
    "\n",
    "Los valores atípicos pueden tener una influencia sustancial en los resultados y deben identificarse y potencialmente eliminarse."
   ]
  },
  {
   "cell_type": "code",
   "execution_count": 163,
   "metadata": {},
   "outputs": [
    {
     "data": {
      "text/html": [
       "<div>\n",
       "<style scoped>\n",
       "    .dataframe tbody tr th:only-of-type {\n",
       "        vertical-align: middle;\n",
       "    }\n",
       "\n",
       "    .dataframe tbody tr th {\n",
       "        vertical-align: top;\n",
       "    }\n",
       "\n",
       "    .dataframe thead th {\n",
       "        text-align: right;\n",
       "    }\n",
       "</style>\n",
       "<table border=\"1\" class=\"dataframe\">\n",
       "  <thead>\n",
       "    <tr style=\"text-align: right;\">\n",
       "      <th></th>\n",
       "      <th>x5</th>\n",
       "      <th>x19</th>\n",
       "      <th>x20</th>\n",
       "      <th>x21</th>\n",
       "    </tr>\n",
       "  </thead>\n",
       "  <tbody>\n",
       "    <tr>\n",
       "      <th>0</th>\n",
       "      <td>0.0</td>\n",
       "      <td>8.2</td>\n",
       "      <td>8.0</td>\n",
       "      <td>8.4</td>\n",
       "    </tr>\n",
       "    <tr>\n",
       "      <th>1</th>\n",
       "      <td>1.0</td>\n",
       "      <td>5.7</td>\n",
       "      <td>6.5</td>\n",
       "      <td>7.5</td>\n",
       "    </tr>\n",
       "    <tr>\n",
       "      <th>2</th>\n",
       "      <td>0.0</td>\n",
       "      <td>8.9</td>\n",
       "      <td>8.4</td>\n",
       "      <td>9.0</td>\n",
       "    </tr>\n",
       "    <tr>\n",
       "      <th>3</th>\n",
       "      <td>1.0</td>\n",
       "      <td>4.8</td>\n",
       "      <td>6.0</td>\n",
       "      <td>7.2</td>\n",
       "    </tr>\n",
       "    <tr>\n",
       "      <th>4</th>\n",
       "      <td>0.0</td>\n",
       "      <td>7.1</td>\n",
       "      <td>6.6</td>\n",
       "      <td>9.0</td>\n",
       "    </tr>\n",
       "    <tr>\n",
       "      <th>...</th>\n",
       "      <td>...</td>\n",
       "      <td>...</td>\n",
       "      <td>...</td>\n",
       "      <td>...</td>\n",
       "    </tr>\n",
       "    <tr>\n",
       "      <th>95</th>\n",
       "      <td>0.0</td>\n",
       "      <td>7.3</td>\n",
       "      <td>8.1</td>\n",
       "      <td>8.1</td>\n",
       "    </tr>\n",
       "    <tr>\n",
       "      <th>96</th>\n",
       "      <td>0.0</td>\n",
       "      <td>6.3</td>\n",
       "      <td>5.5</td>\n",
       "      <td>7.2</td>\n",
       "    </tr>\n",
       "    <tr>\n",
       "      <th>97</th>\n",
       "      <td>0.0</td>\n",
       "      <td>5.4</td>\n",
       "      <td>7.0</td>\n",
       "      <td>7.7</td>\n",
       "    </tr>\n",
       "    <tr>\n",
       "      <th>98</th>\n",
       "      <td>0.0</td>\n",
       "      <td>6.4</td>\n",
       "      <td>7.1</td>\n",
       "      <td>7.4</td>\n",
       "    </tr>\n",
       "    <tr>\n",
       "      <th>99</th>\n",
       "      <td>1.0</td>\n",
       "      <td>6.4</td>\n",
       "      <td>7.3</td>\n",
       "      <td>7.0</td>\n",
       "    </tr>\n",
       "  </tbody>\n",
       "</table>\n",
       "<p>100 rows × 4 columns</p>\n",
       "</div>"
      ],
      "text/plain": [
       "     x5  x19  x20  x21\n",
       "0   0.0  8.2  8.0  8.4\n",
       "1   1.0  5.7  6.5  7.5\n",
       "2   0.0  8.9  8.4  9.0\n",
       "3   1.0  4.8  6.0  7.2\n",
       "4   0.0  7.1  6.6  9.0\n",
       "..  ...  ...  ...  ...\n",
       "95  0.0  7.3  8.1  8.1\n",
       "96  0.0  6.3  5.5  7.2\n",
       "97  0.0  5.4  7.0  7.7\n",
       "98  0.0  6.4  7.1  7.4\n",
       "99  1.0  6.4  7.3  7.0\n",
       "\n",
       "[100 rows x 4 columns]"
      ]
     },
     "execution_count": 163,
     "metadata": {},
     "output_type": "execute_result"
    }
   ],
   "source": [
    "df = pd.read_spss(\"HBAT.sav\")\n",
    "df = df[[\"x5\",\"x19\",\"x20\",\"x21\"]]\n",
    "df['x5'] = df.x5.cat.codes\n",
    "df.dropna(inplace=True)\n",
    "df = df.astype('float')\n",
    "df"
   ]
  },
  {
   "cell_type": "code",
   "execution_count": 164,
   "metadata": {},
   "outputs": [
    {
     "data": {
      "text/plain": [
       "HZResults(hz=0.7414672119539445, pval=0.40794545422166156, normal=True)"
      ]
     },
     "execution_count": 164,
     "metadata": {},
     "output_type": "execute_result"
    }
   ],
   "source": [
    "import pingouin as pg\n",
    "pg.multivariate_normality(df[['x19','x20','x21']])"
   ]
  },
  {
   "cell_type": "code",
   "execution_count": 165,
   "metadata": {},
   "outputs": [
    {
     "data": {
      "text/html": [
       "<div>\n",
       "<style scoped>\n",
       "    .dataframe tbody tr th:only-of-type {\n",
       "        vertical-align: middle;\n",
       "    }\n",
       "\n",
       "    .dataframe tbody tr th {\n",
       "        vertical-align: top;\n",
       "    }\n",
       "\n",
       "    .dataframe thead th {\n",
       "        text-align: right;\n",
       "    }\n",
       "</style>\n",
       "<table border=\"1\" class=\"dataframe\">\n",
       "  <thead>\n",
       "    <tr style=\"text-align: right;\">\n",
       "      <th></th>\n",
       "      <th>Chi2</th>\n",
       "      <th>df</th>\n",
       "      <th>pval</th>\n",
       "      <th>equal_cov</th>\n",
       "    </tr>\n",
       "  </thead>\n",
       "  <tbody>\n",
       "    <tr>\n",
       "      <th>box</th>\n",
       "      <td>3.95595</td>\n",
       "      <td>6.0</td>\n",
       "      <td>0.682638</td>\n",
       "      <td>True</td>\n",
       "    </tr>\n",
       "  </tbody>\n",
       "</table>\n",
       "</div>"
      ],
      "text/plain": [
       "        Chi2   df      pval  equal_cov\n",
       "box  3.95595  6.0  0.682638       True"
      ]
     },
     "execution_count": 165,
     "metadata": {},
     "output_type": "execute_result"
    }
   ],
   "source": [
    "pg.box_m(data = df, dvs=['x19','x20','x21'], group='x5')"
   ]
  },
  {
   "cell_type": "code",
   "execution_count": 166,
   "metadata": {},
   "outputs": [
    {
     "data": {
      "text/html": [
       "<div>\n",
       "<style scoped>\n",
       "    .dataframe tbody tr th:only-of-type {\n",
       "        vertical-align: middle;\n",
       "    }\n",
       "\n",
       "    .dataframe tbody tr th {\n",
       "        vertical-align: top;\n",
       "    }\n",
       "\n",
       "    .dataframe thead th {\n",
       "        text-align: right;\n",
       "    }\n",
       "</style>\n",
       "<table border=\"1\" class=\"dataframe\">\n",
       "  <thead>\n",
       "    <tr style=\"text-align: right;\">\n",
       "      <th></th>\n",
       "      <th>x19</th>\n",
       "      <th>x20</th>\n",
       "      <th>x21</th>\n",
       "    </tr>\n",
       "  </thead>\n",
       "  <tbody>\n",
       "    <tr>\n",
       "      <th>x19</th>\n",
       "      <td>1.000000</td>\n",
       "      <td>0.764279</td>\n",
       "      <td>0.731049</td>\n",
       "    </tr>\n",
       "    <tr>\n",
       "      <th>x20</th>\n",
       "      <td>0.764279</td>\n",
       "      <td>1.000000</td>\n",
       "      <td>0.699923</td>\n",
       "    </tr>\n",
       "    <tr>\n",
       "      <th>x21</th>\n",
       "      <td>0.731049</td>\n",
       "      <td>0.699923</td>\n",
       "      <td>1.000000</td>\n",
       "    </tr>\n",
       "  </tbody>\n",
       "</table>\n",
       "</div>"
      ],
      "text/plain": [
       "          x19       x20       x21\n",
       "x19  1.000000  0.764279  0.731049\n",
       "x20  0.764279  1.000000  0.699923\n",
       "x21  0.731049  0.699923  1.000000"
      ]
     },
     "execution_count": 166,
     "metadata": {},
     "output_type": "execute_result"
    }
   ],
   "source": [
    "df[['x19','x20','x21']].corr()"
   ]
  },
  {
   "cell_type": "code",
   "execution_count": 170,
   "metadata": {},
   "outputs": [
    {
     "name": "stdout",
     "output_type": "stream",
     "text": [
      "Chi-squared:  173.02255896079998\n",
      "p-value:  1.4079593963240545e-37\n"
     ]
    }
   ],
   "source": [
    "from factor_analyzer.factor_analyzer import calculate_bartlett_sphericity\n",
    "\n",
    "statistic, p_value = calculate_bartlett_sphericity(df[['x19','x20','x21']])\n",
    "print(\"Chi-squared: \", statistic)\n",
    "print(\"p-value: \", p_value)"
   ]
  },
  {
   "cell_type": "markdown",
   "metadata": {},
   "source": [
    "### Estimación y evaluación\n",
    "\n",
    "#### Selección de una medida estadística\n",
    "La medida preferida es la que es más inmune a las violaciones de los supuestos subyacentes a MANOVA y, sin embargo, mantiene el mayor poder. Cada medida se prefiere en diferentes situaciones:\n",
    "- El criterio de Pillai o la lambda de Wilks es la medida preferida cuando se cumplen las consideraciones de diseño básicas (tamaño de muestra adecuado, sin violaciones de supuestos, tamaños de celda aproximadamente iguales).\n",
    "- El criterio de Pillai se considera más sólido y debe usarse si el tamaño de la muestra disminuye, aparecen tamaños de celda desiguales o se viola la homogeneidad de las covarianzas.\n",
    "- El gcr de Roy es una estadística de prueba más poderosa si el investigador está seguro de que todos los supuestos se cumplen estrictamente y las medidas dependientes son representativas de una sola dimensión de efectos.\n",
    "\n",
    "En la gran mayoría de las situaciones, todas las medidas estadísticas proporcionan conclusiones similares.\n",
    "\n",
    "Sin embargo, cuando se enfrentan a condiciones conflictivas, se pueden seleccionar medidas estadísticas que se ajusten a la situación que enfrenta el investigador."
   ]
  },
  {
   "cell_type": "markdown",
   "metadata": {},
   "source": [
    "#### Estimación MANOVA\n",
    "\n",
    "Las cuatro medidas más utilizadas para evaluar la significancia estadística entre grupos en las variables independientes son:\n",
    "- La raíz característica más grande de Roy\n",
    "- Lambda de Wilks\n",
    "- Criterio de Pillai\n",
    "- T 2 de Hotelling.\n",
    "\n",
    "En la mayoría de las situaciones, los resultados / conclusiones serán los mismos en las cuatro medidas, pero en algunos casos únicos los resultados diferirán entre las medidas.\n",
    "\n",
    "Mantener un poder estadístico adecuado es fundamental:\n",
    "- La potencia en el rango de .80 para el nivel alfa seleccionado es aceptable. El efecto indirecto debe calcularse y probarse con la prueba de Sobel o mediante procedimientos de arranque.\n",
    "- Cuando el tamaño del efecto es pequeño, el investigador debe usar tamaños de muestra más grandes por grupo para mantener niveles aceptables de poder estadístico.\n",
    "\n",
    "Si las medidas dependientes están muy correlacionadas (> .60), considere eliminar una o más medidas dependientes para reducir la colinealidad o utilice alguna forma de medida de resumen.\n",
    "\n",
    "La mediación se estima ingresando al mediador como un efecto adicional al efecto principal.\n",
    "\n",
    "La moderación se prueba como un efecto de interacción convencional del tratamiento con el moderador."
   ]
  },
  {
   "cell_type": "code",
   "execution_count": 169,
   "metadata": {},
   "outputs": [
    {
     "name": "stdout",
     "output_type": "stream",
     "text": [
      "                   Multivariate linear model\n",
      "===============================================================\n",
      "                                                               \n",
      "---------------------------------------------------------------\n",
      "       Intercept         Value  Num DF  Den DF  F Value  Pr > F\n",
      "---------------------------------------------------------------\n",
      "          Wilks' lambda  0.0227 3.0000 96.0000 1375.4664 0.0000\n",
      "         Pillai's trace  0.9773 3.0000 96.0000 1375.4664 0.0000\n",
      " Hotelling-Lawley trace 42.9833 3.0000 96.0000 1375.4664 0.0000\n",
      "    Roy's greatest root 42.9833 3.0000 96.0000 1375.4664 0.0000\n",
      "---------------------------------------------------------------\n",
      "                                                               \n",
      "---------------------------------------------------------------\n",
      "              x5           Value  Num DF  Den DF F Value Pr > F\n",
      "---------------------------------------------------------------\n",
      "             Wilks' lambda 0.7227 3.0000 96.0000 12.2769 0.0000\n",
      "            Pillai's trace 0.2773 3.0000 96.0000 12.2769 0.0000\n",
      "    Hotelling-Lawley trace 0.3837 3.0000 96.0000 12.2769 0.0000\n",
      "       Roy's greatest root 0.3837 3.0000 96.0000 12.2769 0.0000\n",
      "===============================================================\n",
      "\n"
     ]
    }
   ],
   "source": [
    "from statsmodels.multivariate.manova import MANOVA\n",
    "\n",
    "maov = MANOVA.from_formula('x19 + x20 + x21 ~ x5', data=df)\n",
    "print(maov.mv_test())"
   ]
  },
  {
   "cell_type": "markdown",
   "metadata": {},
   "source": [
    "#### Interpretación\n",
    "\n",
    "##### Covariables\n",
    "\n",
    "Cuando hay covariables involucradas en un modelo MANOVA:\n",
    "- Analizar el modelo con y sin covariables.\n",
    "- Si las covariables no mejoran el poder estadístico o no tienen ningún efecto sobre la significancia de los efectos del tratamiento, entonces pueden descartarse del análisis final.\n",
    "\n",
    "Siempre que se incluyan en el análisis dos o más variables independientes (tratamientos), se deben examinar las interacciones antes de sacar conclusiones sobre los efectos principales de cualquier variable independiente.\n",
    "- Si las interacciones no son estadísticamente significativas, los efectos principales se pueden interpretar directamente porque la diferencia entre tratamientos se considera constante en todas las combinaciones de niveles.\n",
    "- Si la interacción es estadísticamente significativa y las diferencias no son constantes entre combinaciones de niveles, entonces la interacción debe determinarse como ordinal o desordinal.\n",
    "- Las interacciones ordinales significan que la dirección de las diferencias no varía según el nivel (por ejemplo, los hombres siempre menos que las mujeres), aunque la diferencia entre hombres / mujeres varía según el nivel en el otro tratamiento; en este caso, la magnitud del efecto principal (p. ej., hombres frente a mujeres) solo debe describirse por separado para cada nivel del otro tratamiento.\n",
    "- Se producen interacciones desordenadas significativas cuando la dirección de un efecto principal observado cambia con el nivel de otro tratamiento (por ejemplo, hombres más que mujeres para un nivel y menos que mujeres para otro nivel); las interacciones desordenadas interfieren con la interpretación de los efectos principales."
   ]
  },
  {
   "cell_type": "markdown",
   "metadata": {},
   "source": [
    "#### Diferencias entre grupos y resultados individuales\n",
    "\n",
    "Cuando la variable independiente tiene más de dos grupos, se pueden utilizar dos tipos de procedimientos para aislar la fuente de las diferencias:\n",
    "- Las pruebas post hoc examinan las posibles diferencias estadísticas entre todas las posibles combinaciones de medias de grupo; Las pruebas post hoc tienen una potencia limitada y, por lo tanto, son las más adecuadas para identificar grandes efectos.\n",
    "- Las comparaciones planificadas son apropiadas cuando razones teóricas a priori sugieren que ciertos grupos diferirán de otro grupo o de otros grupos; El error de tipo I aumenta a medida que aumenta el número de comparaciones planificadas.\n",
    "\n",
    "Dado que las pruebas multivariadas solo abordan las diferencias del conjunto colectivo de variables dependientes, los investigadores también deben examinar si esas diferencias se encuentran para cada variable dependiente por separado.\n",
    "- La prueba más utilizada es el ANOVA univariante para cada medida dependiente\n",
    "- El análisis discriminante puede proporcionar información sobre las dimensiones de las diferencias, especialmente si hay más de dos grupos.\n",
    "- El análisis escalonado es un análisis poderoso si se conoce el orden causal de las variables dependientes."
   ]
  },
  {
   "cell_type": "markdown",
   "metadata": {},
   "source": [
    "#### Mediación y moderación\n",
    "\n",
    "La mediación está representada por el efecto indirecto formado a partir de dos vías causales: tratamiento S mediador y mediador S resultado.\n",
    "- El efecto indirecto representa el \"por qué\" detrás de un efecto principal al proporcionar un constructo (es decir, el mediador) a través del cual el tratamiento opera para crear el efecto en el resultado.\n",
    "- La mediación completa se produce cuando el efecto de mediación (efecto indirecto) explica totalmente el efecto principal original.\n",
    "- La mediación parcial se produce cuando el efecto indirecto es significativo, pero sigue existiendo un efecto principal significativo incluso después de contabilizar el efecto indirecto.\n",
    "\n",
    "La moderación ocurre cuando el efecto principal varía según los diferentes valores del moderador.\n",
    "- Un ejemplo sería que el efecto principal es diferente entre hombres y mujeres.\n",
    "- Los efectos moderadores significativos exhiben patrones comparables a interacciones significativas (por ejemplo, líneas no paralelas)"
   ]
  }
 ],
 "metadata": {
  "interpreter": {
   "hash": "bc333aaf72f12d36efbbc969b6efbd208f39cf597397e273d228d636dea83428"
  },
  "kernelspec": {
   "display_name": "Python 3.8.10 64-bit ('statspsych': virtualenv)",
   "name": "python3"
  },
  "language_info": {
   "codemirror_mode": {
    "name": "ipython",
    "version": 3
   },
   "file_extension": ".py",
   "mimetype": "text/x-python",
   "name": "python",
   "nbconvert_exporter": "python",
   "pygments_lexer": "ipython3",
   "version": "3.8.10"
  },
  "orig_nbformat": 4
 },
 "nbformat": 4,
 "nbformat_minor": 2
}
