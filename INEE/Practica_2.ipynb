{
 "cells": [
  {
   "cell_type": "markdown",
   "metadata": {},
   "source": [
    "# Práctica: Análisis de regresión lineal"
   ]
  },
  {
   "cell_type": "code",
   "execution_count": null,
   "metadata": {},
   "outputs": [],
   "source": [
    "# Instala dependencias\n",
    "!wget https://github.com/renatoparedes/EstadisticaYPsicologiaMatematica/raw/main/INEE/BasePracticaRegresion.csv\n",
    "!pip install pingouin"
   ]
  },
  {
   "cell_type": "markdown",
   "metadata": {},
   "source": [
    "En las respuestas deben indicar: \n",
    "- Hipótesis de trabajo e hipótesis estadísticas, de manera correspondiente.\n",
    "- Resultados de prueba de normalidad para las distribuciones de las variables de estudio, cuando sea necesario. \n",
    "- Indicadores estadísticos utilizados (SW, F, r, R2 B, ß) así como el valor p correspondiente, y la magnitud según criterios de Cohen, de ser pertinente.\n",
    "- Redacción de las conclusiones."
   ]
  },
  {
   "cell_type": "markdown",
   "metadata": {},
   "source": [
    "La facultad de psicología de una universidad privada investiga la posible relación entre la calidad de hábitos de estudio y los rasgos de personalidad de autocontrol y estabilidad emocional en un grupo de 15 estudiantes. "
   ]
  },
  {
   "cell_type": "code",
   "execution_count": 3,
   "metadata": {},
   "outputs": [
    {
     "data": {
      "text/html": [
       "<div>\n",
       "<style scoped>\n",
       "    .dataframe tbody tr th:only-of-type {\n",
       "        vertical-align: middle;\n",
       "    }\n",
       "\n",
       "    .dataframe tbody tr th {\n",
       "        vertical-align: top;\n",
       "    }\n",
       "\n",
       "    .dataframe thead th {\n",
       "        text-align: right;\n",
       "    }\n",
       "</style>\n",
       "<table border=\"1\" class=\"dataframe\">\n",
       "  <thead>\n",
       "    <tr style=\"text-align: right;\">\n",
       "      <th></th>\n",
       "      <th>Hábitos</th>\n",
       "      <th>Autocontrol</th>\n",
       "      <th>E. emocional</th>\n",
       "    </tr>\n",
       "  </thead>\n",
       "  <tbody>\n",
       "    <tr>\n",
       "      <th>0</th>\n",
       "      <td>73</td>\n",
       "      <td>17</td>\n",
       "      <td>25</td>\n",
       "    </tr>\n",
       "    <tr>\n",
       "      <th>1</th>\n",
       "      <td>65</td>\n",
       "      <td>20</td>\n",
       "      <td>25</td>\n",
       "    </tr>\n",
       "    <tr>\n",
       "      <th>2</th>\n",
       "      <td>54</td>\n",
       "      <td>22</td>\n",
       "      <td>18</td>\n",
       "    </tr>\n",
       "    <tr>\n",
       "      <th>3</th>\n",
       "      <td>33</td>\n",
       "      <td>13</td>\n",
       "      <td>15</td>\n",
       "    </tr>\n",
       "    <tr>\n",
       "      <th>4</th>\n",
       "      <td>64</td>\n",
       "      <td>20</td>\n",
       "      <td>15</td>\n",
       "    </tr>\n",
       "    <tr>\n",
       "      <th>5</th>\n",
       "      <td>49</td>\n",
       "      <td>16</td>\n",
       "      <td>12</td>\n",
       "    </tr>\n",
       "    <tr>\n",
       "      <th>6</th>\n",
       "      <td>51</td>\n",
       "      <td>14</td>\n",
       "      <td>17</td>\n",
       "    </tr>\n",
       "    <tr>\n",
       "      <th>7</th>\n",
       "      <td>38</td>\n",
       "      <td>11</td>\n",
       "      <td>13</td>\n",
       "    </tr>\n",
       "    <tr>\n",
       "      <th>8</th>\n",
       "      <td>35</td>\n",
       "      <td>21</td>\n",
       "      <td>12</td>\n",
       "    </tr>\n",
       "    <tr>\n",
       "      <th>9</th>\n",
       "      <td>44</td>\n",
       "      <td>13</td>\n",
       "      <td>12</td>\n",
       "    </tr>\n",
       "    <tr>\n",
       "      <th>10</th>\n",
       "      <td>45</td>\n",
       "      <td>21</td>\n",
       "      <td>12</td>\n",
       "    </tr>\n",
       "    <tr>\n",
       "      <th>11</th>\n",
       "      <td>39</td>\n",
       "      <td>14</td>\n",
       "      <td>12</td>\n",
       "    </tr>\n",
       "    <tr>\n",
       "      <th>12</th>\n",
       "      <td>33</td>\n",
       "      <td>11</td>\n",
       "      <td>15</td>\n",
       "    </tr>\n",
       "    <tr>\n",
       "      <th>13</th>\n",
       "      <td>49</td>\n",
       "      <td>12</td>\n",
       "      <td>17</td>\n",
       "    </tr>\n",
       "    <tr>\n",
       "      <th>14</th>\n",
       "      <td>40</td>\n",
       "      <td>12</td>\n",
       "      <td>21</td>\n",
       "    </tr>\n",
       "  </tbody>\n",
       "</table>\n",
       "</div>"
      ],
      "text/plain": [
       "    Hábitos  Autocontrol  E. emocional\n",
       "0        73           17            25\n",
       "1        65           20            25\n",
       "2        54           22            18\n",
       "3        33           13            15\n",
       "4        64           20            15\n",
       "5        49           16            12\n",
       "6        51           14            17\n",
       "7        38           11            13\n",
       "8        35           21            12\n",
       "9        44           13            12\n",
       "10       45           21            12\n",
       "11       39           14            12\n",
       "12       33           11            15\n",
       "13       49           12            17\n",
       "14       40           12            21"
      ]
     },
     "execution_count": 3,
     "metadata": {},
     "output_type": "execute_result"
    }
   ],
   "source": [
    "import pandas as pd\n",
    "\n",
    "df = pd.read_csv(\"BasePracticaRegresion.csv\")\n",
    "df"
   ]
  },
  {
   "cell_type": "markdown",
   "metadata": {},
   "source": [
    "## Ejercicio 1\n",
    "\n",
    "Luego de realizar una exhaustiva revisión teórica, una de las investigadoras tenía la hipótesis de que el autocontrol favorece la calidad de hábitos de estudio de los universitarios.\n",
    "\n",
    "- Establece la hipótesis de trabajo (HT) e identifica la variable predictora (VI) y la variable de resultado (VD) del modelo.\n",
    "- Escribe las hipótesis estadísticas para la HT y la ecuación del modelo, indicando el signo de la pendiente (β).\n",
    "- Presenta un gráfico de dispersión y señala si se observa alguna tendencia que apoye la linealidad entre las variables. \n",
    "- Obtén evidencia para esta relación a través de un análisis de correlación entre las dos variables de estudio, identificando primero la normalidad de las distribuciones.\n",
    "- Plantea la H0 y H1 que corresponden al contraste de hipótesis para la correlación y reporta el resultado, incluyendo la magnitud de la correlación de acuerdo con los criterios de Cohen (1988).\n",
    "\n",
    "A continuación, lleva a cabo el análisis de regresión lineal simple.\n",
    "\n",
    "- Indica si es el modelo propuesto es adecuado en estimar el rendimiento académico (ver tabla de ANOVA).\n",
    "- Indica cuál es el valor del coeficiente de determinación, R2, del modelo e interpreta su valor en términos de variabilidad explicada, señalando la magnitud del ajuste de acuerdo con los criterios de Cohen (1988).\n",
    "- Lleva a cabo el contraste estadístico correspondiente y redacta la conclusión sobre HT.\n"
   ]
  },
  {
   "cell_type": "markdown",
   "metadata": {},
   "source": [
    "## Ejercicio 2\n",
    "\n",
    "Se plantea comprobar si es que mayores puntajes en autocontrol y estabilidad emocional favorecen la calidad de hábitos de estudio de los universitarios. Asimismo, se postula que entre los dos rasgos, la estabilidad emocional destacaría por su mayor influencia. ¿Se cumple lo que plantea la unidad de psicología?\n",
    "\n",
    "a) Establece la hipótesis de trabajo (HT).\n",
    "\n",
    "b) Señala las hipótesis estadísticas (H0 y H1) que correspondan a la HT. \n",
    "\n",
    "c) Plantea la ecuación del modelo para la HT.\n",
    "\n",
    "d) Evalúa los supuestos necesarios para continuar con el análisis de regresión.\n",
    "- Linealidad\n",
    "- Normalidad de residuos\n",
    "- Multicolinealidad\n",
    "\n",
    "e) Evalúa el ajuste del modelo planteado, interpretando el valor de R2 en términos de la variabilidad explicada de los hábitos de estudio y los criterios de Cohen.\n",
    "\n",
    "f) Indica si se cumplen las hipótesis y brinda tu conclusión."
   ]
  }
 ],
 "metadata": {
  "kernelspec": {
   "display_name": "Python 3.7.13 ('stats')",
   "language": "python",
   "name": "python3"
  },
  "language_info": {
   "codemirror_mode": {
    "name": "ipython",
    "version": 3
   },
   "file_extension": ".py",
   "mimetype": "text/x-python",
   "name": "python",
   "nbconvert_exporter": "python",
   "pygments_lexer": "ipython3",
   "version": "3.7.14"
  },
  "orig_nbformat": 4,
  "vscode": {
   "interpreter": {
    "hash": "8df12303a5084d795bcef355ea103bbaab8787933417cf27c2f95a588cdf8ee7"
   }
  }
 },
 "nbformat": 4,
 "nbformat_minor": 2
}
