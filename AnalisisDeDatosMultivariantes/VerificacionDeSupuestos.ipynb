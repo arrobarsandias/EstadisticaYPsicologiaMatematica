{
 "cells": [
  {
   "cell_type": "markdown",
   "metadata": {
    "slideshow": {
     "slide_type": "slide"
    }
   },
   "source": [
    "# Verificación de supuestos para el análisis multivariante\n",
    "\n",
    ">Este tutorial es una selección y adaptación al español del libro [Multivariate Data Analysis](https://www.cengage.co.uk/books/9781473756540/) de Joseph F. Hair et al."
   ]
  },
  {
   "cell_type": "code",
   "execution_count": null,
   "metadata": {},
   "outputs": [],
   "source": []
  },
  {
   "cell_type": "markdown",
   "metadata": {
    "slideshow": {
     "slide_type": "subslide"
    }
   },
   "source": [
    "Los **supuestos estadísticos** de las técnicas multivariantes son la base sobre la cual dichas técnicas producen inferencias y resultados estadísticos. \n",
    "\n",
    "Algunas técnicas se ven menos afectadas por la violación de ciertos supuestos, lo que se denomina **robustez**, pero en todos los casos el cumplimiento de algunos de los supuestos será fundamental para un análisis exitoso. \n",
    "\n",
    "En el caso de los modelos multivariantes, la violación de los supuestos puede tener un **impacto mayor debido a la complejidad de las relaciones entre las múltiples variables** lo cual puede acrecentar los sesgos y distorsiones potenciales, así como enmascarar las violaciones de supuestos de cada variable. Por lo tanto, es necesario comprender el papel que juega cada supuesto para cada técnica multivariante."
   ]
  },
  {
   "cell_type": "markdown",
   "metadata": {
    "slideshow": {
     "slide_type": "slide"
    }
   },
   "source": [
    "## Cuatro supuestos estadísticos importantes\n",
    "\n",
    "Las técnicas multivariadas y sus contrapartes univariadas se basan todas en un **conjunto fundamental de supuestos** que representan los requisitos de la teoría estadística subyacente. Aunque muchas suposiciones o requisitos entran en juego en una o más de las técnicas multivariadas que revisaremos durante el curso, cuatro de ellas afectan potencialmente a todas las técnicas estadísticas univariadas y multivariadas."
   ]
  },
  {
   "cell_type": "markdown",
   "metadata": {
    "slideshow": {
     "slide_type": "slide"
    }
   },
   "source": [
    "### Normalidad\n",
    "\n",
    "El supuesto más fundamental en el análisis multivariado es la normalidad, que se refiere a la **forma** de la distribución de datos para una variable cuantitativa individual **y** su **correspondencia con la distribución normal**, el punto de referencia para los métodos estadísticos. \n",
    "\n",
    "**Si la variación respecto a la distribución normal es suficientemente grande, todas las pruebas estadísticas resultantes no son válidas**. Por ejemplo, se requiere normalidad para usar las estadísticas F propias del ANOVA. \n",
    "\n",
    "Los métodos estadísticos multivariados que revisaremos en el curso se basan en el supuesto de **normalidad univariante** para las variables cuantitativas, y también suponen **normalidad multivariante**."
   ]
  },
  {
   "cell_type": "markdown",
   "metadata": {
    "slideshow": {
     "slide_type": "subslide"
    }
   },
   "source": [
    "Una forma de evaluar la normalidad de una distribución es compararla con una **distribución normal estandarizada** con media `0` y desviación estándar `1`. A esta distribución se le llama distribución Z y es particularmente útil porque permite a los investigadores calcular la probabilidad de que ocurra una puntuación dentro de una distribución normal estándar."
   ]
  },
  {
   "cell_type": "markdown",
   "metadata": {
    "slideshow": {
     "slide_type": "subslide"
    }
   },
   "source": [
    " Veamos una representación gráfica:\n",
    "\n",
    "<p align=\"center\">\n",
    "  <img width=\"750\" src=\"https://www.simplypsychology.org/standard_normal_distribution.png?ezimgfmt=rs:555x282/rscb26/ng:webp/ngcb26\" alt=\"Variable Types\">\n",
    "</p>"
   ]
  },
  {
   "cell_type": "markdown",
   "metadata": {
    "slideshow": {
     "slide_type": "slide"
    }
   },
   "source": [
    "La **severidad de la no normalidad** se basa en dos dimensiones: la forma de la distribución y el tamaño de la muestra. Por tanto, el investigador no solo debe juzgar hasta qué punto la distribución de la variable no es normal, sino también los tamaños de muestra involucrados."
   ]
  },
  {
   "cell_type": "markdown",
   "metadata": {
    "slideshow": {
     "slide_type": "slide"
    }
   },
   "source": [
    "#### La forma de la distribución\n",
    "\n",
    "La forma de cualquier distribución se puede describir mediante dos medidas: asimetría y curtosis. "
   ]
  },
  {
   "cell_type": "markdown",
   "metadata": {
    "slideshow": {
     "slide_type": "subslide"
    }
   },
   "source": [
    "La **asimetría** se utiliza para describir el **equilibrio de la distribución**; es decir, ¿está desequilibrada y desplazada hacia un lado (derecho o izquierdo) o está centrada y simétrica con aproximadamente la misma forma en ambos lados? \n",
    "\n",
    "**Si una distribución está desequilibrada, está sesgada**. Un sesgo positivo denota una distribución desplazada hacia la izquierda, mientras que un sesgo negativo refleja un desplazamiento hacia la derecha. "
   ]
  },
  {
   "cell_type": "markdown",
   "metadata": {
    "slideshow": {
     "slide_type": "subslide"
    }
   },
   "source": [
    "El valor estadístico (z) para el valor de asimetría se calcula como:\n",
    "\n",
    "$$ z_{asimetría} = \\frac{asimetría}{\\sqrt{ \\frac{6}{N} }}   $$"
   ]
  },
  {
   "cell_type": "markdown",
   "metadata": {
    "slideshow": {
     "slide_type": "subslide"
    }
   },
   "source": [
    "La **curtosis** se refiere a la \"punta\" o **\"planitud\" de la distribución** en comparación con la distribución normal. Las distribuciones que son más altas o más puntiagudas que la distribución normal se denominan leptocúrticas, mientras que una distribución más plana se denomina platicúrtica. "
   ]
  },
  {
   "cell_type": "markdown",
   "metadata": {
    "slideshow": {
     "slide_type": "subslide"
    }
   },
   "source": [
    "El valor estadístico (z) para el valor de curtosis se calcula como:\n",
    "\n",
    "$$ z_{curtosis} = \\frac{curtosis}{\\sqrt{ \\frac{24}{N} }}   $$"
   ]
  },
  {
   "cell_type": "markdown",
   "metadata": {
    "slideshow": {
     "slide_type": "subslide"
    }
   },
   "source": [
    "Si cualquiera de los valores z calculados excede el valor crítico especificado (p.e. 1.96 que corresponde a un nivel de significancia de 0.05), entonces la distribución no es normal en términos de esa característica."
   ]
  },
  {
   "cell_type": "markdown",
   "metadata": {
    "slideshow": {
     "slide_type": "slide"
    }
   },
   "source": [
    "#### El tamaño de muestra\n",
    "\n",
    "Los **tamaños de muestra más grandes reducen los efectos perjudiciales de la no normalidad**. En muestras pequeñas de 50 observaciones o menos, y especialmente si el tamaño de la muestra es menor de 30 aproximadamente, las desviaciones significativas de la normalidad pueden tener un impacto sustancial en los resultados. Sin embargo, para tamaños de muestra de 200 o más, estos mismos efectos pueden ser insignificantes."
   ]
  },
  {
   "cell_type": "markdown",
   "metadata": {
    "slideshow": {
     "slide_type": "subslide"
    }
   },
   "source": [
    "Por lo tanto, en la mayoría de los casos, a medida que el tamaño de la muestra aumenta, el investigador puede estar menos preocupado por las variables anormales, salvo que puedan dar lugar a otras violaciones de supuestos que sí tienen un impacto de otras formas.\n",
    "\n",
    ">Nota: Esto no quiere decir que las muestras grandes siempre van a dar lugar a distribuciones normales. Esto finalmente depende del proceso subyacente a la recolección de datos. Pensemos, por ejemplo, en datos provenientes de un proceso aproximadamente exponencial como el crecimiento de una población de bacterias. "
   ]
  },
  {
   "cell_type": "markdown",
   "metadata": {
    "slideshow": {
     "slide_type": "slide"
    }
   },
   "source": [
    "### Pruebas de normalidad\n",
    "\n",
    "Los investigadores tienen varios enfoques diferentes para evaluar la normalidad, pero principalmente se pueden clasificar como gráficos o estadísticos."
   ]
  },
  {
   "cell_type": "markdown",
   "metadata": {
    "slideshow": {
     "slide_type": "slide"
    }
   },
   "source": [
    "La gráfica de probabilidad normal (también llamada **QQ-Plot**), que compara la distribución acumulada de valores de datos reales con la distribución acumulada de una distribución normal. La distribución normal forma una línea diagonal recta y los valores de los datos trazados se comparan con la diagonal. \n",
    "\n",
    "**Si una distribución es normal, la línea que representa la distribución de datos real sigue de cerca la diagonal**. "
   ]
  },
  {
   "cell_type": "markdown",
   "metadata": {
    "slideshow": {
     "slide_type": "subslide"
    }
   },
   "source": [
    "Para ilustrar, veamos esta imagen tomada de Hair et al. (2019):\n",
    "\n",
    "<p align=\"center\">\n",
    "  <img width=\"750\" src=\"https://github.com/renatoparedes/EstadisticaYPsicologiaMatematica/raw/main/AnalisisDeDatosMultivariantes/normalityplot.png\" alt=\"Variable Types\">\n",
    "</p>"
   ]
  },
  {
   "cell_type": "markdown",
   "metadata": {
    "slideshow": {
     "slide_type": "subslide"
    }
   },
   "source": [
    "Veamos un ejemplo:"
   ]
  },
  {
   "cell_type": "markdown",
   "metadata": {
    "slideshow": {
     "slide_type": "skip"
    }
   },
   "source": [
    "En Python podemos generar la gráfica de probabilidad normal con la función `qqplot` disponible en el paquete `pingouin`:"
   ]
  },
  {
   "cell_type": "code",
   "execution_count": 2,
   "metadata": {
    "hideCode": true,
    "hideOutput": true,
    "slideshow": {
     "slide_type": "skip"
    }
   },
   "outputs": [
    {
     "name": "stdout",
     "output_type": "stream",
     "text": [
      "Requirement already satisfied: pingouin in /home/renato/.virtualenvs/statspsych/lib/python3.8/site-packages (0.4.0)\n",
      "Requirement already satisfied: seaborn>=0.9.0 in /home/renato/.virtualenvs/statspsych/lib/python3.8/site-packages (from pingouin) (0.11.2)\n",
      "Requirement already satisfied: outdated in /home/renato/.virtualenvs/statspsych/lib/python3.8/site-packages (from pingouin) (0.2.1)\n",
      "Requirement already satisfied: scipy>=1.7 in /home/renato/.virtualenvs/statspsych/lib/python3.8/site-packages (from pingouin) (1.7.1)\n",
      "Requirement already satisfied: tabulate in /home/renato/.virtualenvs/statspsych/lib/python3.8/site-packages (from pingouin) (0.8.9)\n",
      "Requirement already satisfied: matplotlib>=3.0.2 in /home/renato/.virtualenvs/statspsych/lib/python3.8/site-packages (from pingouin) (3.4.3)\n",
      "Requirement already satisfied: pandas>=1.0 in /home/renato/.virtualenvs/statspsych/lib/python3.8/site-packages (from pingouin) (1.3.3)\n",
      "Requirement already satisfied: pandas-flavor>=0.2.0 in /home/renato/.virtualenvs/statspsych/lib/python3.8/site-packages (from pingouin) (0.2.0)\n",
      "Requirement already satisfied: scikit-learn in /home/renato/.virtualenvs/statspsych/lib/python3.8/site-packages (from pingouin) (0.24.2)\n",
      "Requirement already satisfied: statsmodels>=0.12.0 in /home/renato/.virtualenvs/statspsych/lib/python3.8/site-packages (from pingouin) (0.12.2)\n",
      "Requirement already satisfied: numpy>=1.19 in /home/renato/.virtualenvs/statspsych/lib/python3.8/site-packages (from pingouin) (1.21.2)\n",
      "Requirement already satisfied: littleutils in /home/renato/.virtualenvs/statspsych/lib/python3.8/site-packages (from outdated->pingouin) (0.2.2)\n",
      "Requirement already satisfied: requests in /home/renato/.virtualenvs/statspsych/lib/python3.8/site-packages (from outdated->pingouin) (2.26.0)\n",
      "Requirement already satisfied: pyparsing>=2.2.1 in /home/renato/.virtualenvs/statspsych/lib/python3.8/site-packages (from matplotlib>=3.0.2->pingouin) (2.4.7)\n",
      "Requirement already satisfied: pillow>=6.2.0 in /home/renato/.virtualenvs/statspsych/lib/python3.8/site-packages (from matplotlib>=3.0.2->pingouin) (8.3.2)\n",
      "Requirement already satisfied: python-dateutil>=2.7 in /home/renato/.virtualenvs/statspsych/lib/python3.8/site-packages (from matplotlib>=3.0.2->pingouin) (2.8.2)\n",
      "Requirement already satisfied: cycler>=0.10 in /home/renato/.virtualenvs/statspsych/lib/python3.8/site-packages (from matplotlib>=3.0.2->pingouin) (0.10.0)\n",
      "Requirement already satisfied: kiwisolver>=1.0.1 in /home/renato/.virtualenvs/statspsych/lib/python3.8/site-packages (from matplotlib>=3.0.2->pingouin) (1.3.2)\n",
      "Requirement already satisfied: pytz>=2017.3 in /home/renato/.virtualenvs/statspsych/lib/python3.8/site-packages (from pandas>=1.0->pingouin) (2021.1)\n",
      "Requirement already satisfied: xarray in /home/renato/.virtualenvs/statspsych/lib/python3.8/site-packages (from pandas-flavor>=0.2.0->pingouin) (0.19.0)\n",
      "Requirement already satisfied: threadpoolctl>=2.0.0 in /home/renato/.virtualenvs/statspsych/lib/python3.8/site-packages (from scikit-learn->pingouin) (2.2.0)\n",
      "Requirement already satisfied: joblib>=0.11 in /home/renato/.virtualenvs/statspsych/lib/python3.8/site-packages (from scikit-learn->pingouin) (1.0.1)\n",
      "Requirement already satisfied: patsy>=0.5 in /home/renato/.virtualenvs/statspsych/lib/python3.8/site-packages (from statsmodels>=0.12.0->pingouin) (0.5.1)\n",
      "Requirement already satisfied: idna<4,>=2.5; python_version >= \"3\" in /home/renato/.virtualenvs/statspsych/lib/python3.8/site-packages (from requests->outdated->pingouin) (3.2)\n",
      "Requirement already satisfied: certifi>=2017.4.17 in /home/renato/.virtualenvs/statspsych/lib/python3.8/site-packages (from requests->outdated->pingouin) (2021.5.30)\n",
      "Requirement already satisfied: urllib3<1.27,>=1.21.1 in /home/renato/.virtualenvs/statspsych/lib/python3.8/site-packages (from requests->outdated->pingouin) (1.26.6)\n",
      "Requirement already satisfied: charset-normalizer~=2.0.0; python_version >= \"3\" in /home/renato/.virtualenvs/statspsych/lib/python3.8/site-packages (from requests->outdated->pingouin) (2.0.6)\n",
      "Requirement already satisfied: six>=1.5 in /home/renato/.virtualenvs/statspsych/lib/python3.8/site-packages (from python-dateutil>=2.7->matplotlib>=3.0.2->pingouin) (1.16.0)\n",
      "Requirement already satisfied: setuptools>=40.4 in /home/renato/.virtualenvs/statspsych/lib/python3.8/site-packages (from xarray->pandas-flavor>=0.2.0->pingouin) (44.0.0)\n"
     ]
    }
   ],
   "source": [
    "!pip install pingouin"
   ]
  },
  {
   "cell_type": "code",
   "execution_count": 3,
   "metadata": {
    "hideCode": true,
    "hidePrompt": true,
    "slideshow": {
     "slide_type": "subslide"
    }
   },
   "outputs": [
    {
     "data": {
      "image/png": "[encoded data removed]",
      "text/plain": [
       "<Figure size 360x288 with 1 Axes>"
      ]
     },
     "metadata": {
      "needs_background": "light"
     },
     "output_type": "display_data"
    }
   ],
   "source": [
    "import pingouin as pg\n",
    "import pandas as pd\n",
    "\n",
    "df_subsdis=pd.read_csv('https://raw.githubusercontent.com/renatoparedes/IntroPythonInvestigacionPsicologia/master/AnalisisdeDatosCuantitativos/depression-data-subsdis.csv')\n",
    "pg.qqplot(df_subsdis['schizophrenia'], dist='norm');"
   ]
  },
  {
   "cell_type": "markdown",
   "metadata": {
    "slideshow": {
     "slide_type": "fragment"
    }
   },
   "source": [
    "En este gráfico se aprecia que la línea azul que representa a los datos presenta curvaturas. Esto sugiere una desviación respecto a la distribución normal. "
   ]
  },
  {
   "cell_type": "markdown",
   "metadata": {
    "slideshow": {
     "slide_type": "slide"
    }
   },
   "source": [
    "Las **pruebas inferenciales** específicas de normalidad también están disponibles en todos los programas estadísticos. Los dos más comunes son la prueba de Shapiro-Wilks y una modificación de la prueba de Kolmogorov-Smirnov. Cada uno **calcula el nivel de significancia para las diferencias en relación a una distribución normal**. \n",
    "\n",
    "En concreto, se define que la **hipótesis nula es que la distribución a analizar es igual a una distribución normal**. \n",
    "\n",
    "El investigador siempre debe recordar que las pruebas de significación son menos útiles en muestras pequeñas (menos de 30) y bastante sensibles en muestras grandes (que superan las 1000 observaciones). "
   ]
  },
  {
   "cell_type": "markdown",
   "metadata": {
    "slideshow": {
     "slide_type": "subslide"
    }
   },
   "source": [
    "En nuestro ejemplo, veamos a continuación el resultado de una prueba de Shapiro-Wilks:"
   ]
  },
  {
   "cell_type": "code",
   "execution_count": 4,
   "metadata": {
    "hideCode": true,
    "hidePrompt": true,
    "slideshow": {
     "slide_type": "fragment"
    }
   },
   "outputs": [
    {
     "data": {
      "text/html": [
       "<div>\n",
       "<style scoped>\n",
       "    .dataframe tbody tr th:only-of-type {\n",
       "        vertical-align: middle;\n",
       "    }\n",
       "\n",
       "    .dataframe tbody tr th {\n",
       "        vertical-align: top;\n",
       "    }\n",
       "\n",
       "    .dataframe thead th {\n",
       "        text-align: right;\n",
       "    }\n",
       "</style>\n",
       "<table border=\"1\" class=\"dataframe\">\n",
       "  <thead>\n",
       "    <tr style=\"text-align: right;\">\n",
       "      <th></th>\n",
       "      <th>W</th>\n",
       "      <th>pval</th>\n",
       "      <th>normal</th>\n",
       "    </tr>\n",
       "  </thead>\n",
       "  <tbody>\n",
       "    <tr>\n",
       "      <th>schizophrenia</th>\n",
       "      <td>0.90627</td>\n",
       "      <td>7.514724e-11</td>\n",
       "      <td>False</td>\n",
       "    </tr>\n",
       "  </tbody>\n",
       "</table>\n",
       "</div>"
      ],
      "text/plain": [
       "                     W          pval  normal\n",
       "schizophrenia  0.90627  7.514724e-11   False"
      ]
     },
     "execution_count": 4,
     "metadata": {},
     "output_type": "execute_result"
    }
   ],
   "source": [
    "pg.normality(df_subsdis['schizophrenia'],method='shapiro')"
   ]
  },
  {
   "cell_type": "markdown",
   "metadata": {
    "slideshow": {
     "slide_type": "fragment"
    }
   },
   "source": [
    "Se sugiere utilizar esta prueba cuando se cuenta con una muestra pequeña (menos de 50). En caso contrario se puede optar por la prueba de Kolmogorov-Smirnov. "
   ]
  },
  {
   "cell_type": "markdown",
   "metadata": {
    "slideshow": {
     "slide_type": "subslide"
    }
   },
   "source": [
    "Veamos ahora una alternativa adicional: la prueba de normalidad de D'Agostino y Pearson, cuyo estadístico $k$ se define matemáticamente como:\n",
    "\n",
    "$$ k^{2} = z_{asimetría}^{2} + z_{curtosis}^{2}  $$"
   ]
  },
  {
   "cell_type": "markdown",
   "metadata": {
    "slideshow": {
     "slide_type": "subslide"
    }
   },
   "source": [
    "En nuestro ejemplo, esta prueba nos arroja como resultado:"
   ]
  },
  {
   "cell_type": "code",
   "execution_count": 5,
   "metadata": {
    "hideCode": true,
    "hidePrompt": true,
    "slideshow": {
     "slide_type": "fragment"
    }
   },
   "outputs": [
    {
     "data": {
      "text/html": [
       "<div>\n",
       "<style scoped>\n",
       "    .dataframe tbody tr th:only-of-type {\n",
       "        vertical-align: middle;\n",
       "    }\n",
       "\n",
       "    .dataframe tbody tr th {\n",
       "        vertical-align: top;\n",
       "    }\n",
       "\n",
       "    .dataframe thead th {\n",
       "        text-align: right;\n",
       "    }\n",
       "</style>\n",
       "<table border=\"1\" class=\"dataframe\">\n",
       "  <thead>\n",
       "    <tr style=\"text-align: right;\">\n",
       "      <th></th>\n",
       "      <th>W</th>\n",
       "      <th>pval</th>\n",
       "      <th>normal</th>\n",
       "    </tr>\n",
       "  </thead>\n",
       "  <tbody>\n",
       "    <tr>\n",
       "      <th>schizophrenia</th>\n",
       "      <td>44.672307</td>\n",
       "      <td>1.993113e-10</td>\n",
       "      <td>False</td>\n",
       "    </tr>\n",
       "  </tbody>\n",
       "</table>\n",
       "</div>"
      ],
      "text/plain": [
       "                       W          pval  normal\n",
       "schizophrenia  44.672307  1.993113e-10   False"
      ]
     },
     "execution_count": 5,
     "metadata": {},
     "output_type": "execute_result"
    }
   ],
   "source": [
    "pg.normality(df_subsdis['schizophrenia'],method='normaltest')"
   ]
  },
  {
   "cell_type": "markdown",
   "metadata": {
    "slideshow": {
     "slide_type": "slide"
    }
   },
   "source": [
    "### Igualdad de varianzas\n",
    "\n",
    "La igualidad de varianzas o **homocedasticidad** se refiere a la suposición de que las **variables dependientes exhiben niveles iguales de varianza en todo el rango de variables predictoras**.\n",
    "\n",
    "La homocedasticidad es deseable porque **la varianza de la variable dependiente que se explica en la relación de dependencia no debe concentrarse solo en un rango** limitado de valores independientes."
   ]
  },
  {
   "cell_type": "markdown",
   "metadata": {
    "slideshow": {
     "slide_type": "subslide"
    }
   },
   "source": [
    "En la mayoría de las situaciones, tenemos muchos valores diferentes de la variable dependiente en cada valor de la variable independiente. Para que esta relación de dependencia se capture completamente, **la dispersión (varianza) de los valores de la variable dependiente debe ser relativamente igual en cada valor de la variable predictora**.\n",
    "\n",
    "En general, la **heterocedasticidad hace que las predicciones sean mejores en algunos niveles de la variable independiente que en otros**. Esta variabilidad afecta los errores estándar y hace que las pruebas de hipótesis sean demasiado estrictas o demasiado insensibles."
   ]
  },
  {
   "cell_type": "markdown",
   "metadata": {
    "slideshow": {
     "slide_type": "slide"
    }
   },
   "source": [
    "#### Pruebas de homogeneidad de varianzas\n",
    "\n",
    "Al analizar gráficamente la homogeneidad de varianzas, las desviaciones se muestran mediante formas como conos (pequeña dispersión en un lado del gráfico, gran dispersión en el lado opuesto) o diamantes (una gran cantidad de puntos en el centro de la distribución)."
   ]
  },
  {
   "cell_type": "markdown",
   "metadata": {
    "slideshow": {
     "slide_type": "subslide"
    }
   },
   "source": [
    "Para ilustrar, veamos la siguiente imagen tomada de Hair et al. 2019:\n",
    "\n",
    "<p align=\"center\">\n",
    "  <img width=\"750\" src=\"https://github.com/renatoparedes/EstadisticaYPsicologiaMatematica/raw/main/AnalisisDeDatosMultivariantes/equal_vars.png\" alt=\"Variable Types\">\n",
    "</p>\n",
    "\n",
    "En la Figura 2.12a, los diagramas de dispersión de puntos de datos para dos variables ($V_{1}$ y $V_{2}$) con distribuciones normales exhiben la misma dispersión en todos los valores de datos (es decir, homocedasticidad)."
   ]
  },
  {
   "cell_type": "markdown",
   "metadata": {
    "slideshow": {
     "slide_type": "subslide"
    }
   },
   "source": [
    "Sin embargo, en la Figura 2.12b vemos una dispersión desigual (heterocedasticidad) causada por la asimetría de una de las variables $V_{3}$. Para los diferentes valores de $V_{3}$, existen diferentes patrones de dispersión para $V_{1}$."
   ]
  },
  {
   "cell_type": "markdown",
   "metadata": {
    "slideshow": {
     "slide_type": "subslide"
    }
   },
   "source": [
    "Veamos ahora que ocurre en nuestro ejemplo:"
   ]
  },
  {
   "cell_type": "code",
   "execution_count": 6,
   "metadata": {
    "hideCode": true,
    "hidePrompt": true,
    "slideshow": {
     "slide_type": "fragment"
    }
   },
   "outputs": [
    {
     "data": {
      "image/png": "[encoded data removed]",
      "text/plain": [
       "<Figure size 432x432 with 3 Axes>"
      ]
     },
     "metadata": {
      "needs_background": "light"
     },
     "output_type": "display_data"
    }
   ],
   "source": [
    "import seaborn as sns\n",
    "ax = sns.jointplot(x='schizophrenia',y='depression',data=df_subsdis);\n",
    "ax.plot_marginals(sns.histplot, kde=True);"
   ]
  },
  {
   "cell_type": "markdown",
   "metadata": {
    "slideshow": {
     "slide_type": "fragment"
    }
   },
   "source": [
    "Podemos apreciar que para los diferentes valores de la variable `depression` existen diferentes patrones de dispersion para la variable `schizophrenia`. "
   ]
  },
  {
   "cell_type": "markdown",
   "metadata": {
    "slideshow": {
     "slide_type": "subslide"
    }
   },
   "source": [
    "Las **pruebas inferenciales** para la dispersión igual de varianza **evalúan la igualdad de varianzas dentro de grupos formados por variables categóricas**. \n",
    "\n",
    "La prueba más común, la prueba de **Levene**, se usa para evaluar si las varianzas de una sola variable métrica son iguales en cualquier número de grupos. "
   ]
  },
  {
   "cell_type": "markdown",
   "metadata": {
    "slideshow": {
     "slide_type": "subslide"
    }
   },
   "source": [
    "Apliquemos la prueba de Levene en nuestro ejemplo:"
   ]
  },
  {
   "cell_type": "code",
   "execution_count": 7,
   "metadata": {
    "hideCode": true,
    "hidePrompt": true,
    "slideshow": {
     "slide_type": "fragment"
    }
   },
   "outputs": [
    {
     "data": {
      "text/html": [
       "<div>\n",
       "<style scoped>\n",
       "    .dataframe tbody tr th:only-of-type {\n",
       "        vertical-align: middle;\n",
       "    }\n",
       "\n",
       "    .dataframe tbody tr th {\n",
       "        vertical-align: top;\n",
       "    }\n",
       "\n",
       "    .dataframe thead th {\n",
       "        text-align: right;\n",
       "    }\n",
       "</style>\n",
       "<table border=\"1\" class=\"dataframe\">\n",
       "  <thead>\n",
       "    <tr style=\"text-align: right;\">\n",
       "      <th></th>\n",
       "      <th>W</th>\n",
       "      <th>pval</th>\n",
       "      <th>equal_var</th>\n",
       "    </tr>\n",
       "  </thead>\n",
       "  <tbody>\n",
       "    <tr>\n",
       "      <th>levene</th>\n",
       "      <td>7.010673e+30</td>\n",
       "      <td>0.0</td>\n",
       "      <td>False</td>\n",
       "    </tr>\n",
       "  </tbody>\n",
       "</table>\n",
       "</div>"
      ],
      "text/plain": [
       "                   W  pval  equal_var\n",
       "levene  7.010673e+30   0.0      False"
      ]
     },
     "execution_count": 7,
     "metadata": {},
     "output_type": "execute_result"
    }
   ],
   "source": [
    "pg.homoscedasticity(df_subsdis[['depression', 'schizophrenia']])"
   ]
  },
  {
   "cell_type": "markdown",
   "metadata": {
    "slideshow": {
     "slide_type": "fragment"
    }
   },
   "source": [
    "La prueba de Levene confirma que las varianzas de ambas distribuciones no son iguales, tal como intuíamos gráficamente. "
   ]
  },
  {
   "cell_type": "markdown",
   "metadata": {
    "slideshow": {
     "slide_type": "slide"
    }
   },
   "source": [
    "### Linealidad\n",
    "\n",
    "Una suposición implícita de todas las técnicas multivariadas basadas en medidas correlacionales de asociación (incluida la regresión múltiple, la regresión logística, el análisis factorial y el modelado de ecuaciones estructurales) es la linealidad. \n",
    "\n",
    "Debido a que las correlaciones representan solo la asociación lineal entre variables, **los efectos no lineales no se representarán en el valor de correlación**. Esta omisión da como resultado una subestimación de la fuerza real de la relación. "
   ]
  },
  {
   "cell_type": "markdown",
   "metadata": {
    "slideshow": {
     "slide_type": "subslide"
    }
   },
   "source": [
    "#### Pruebas de linealidad\n",
    "\n",
    "La forma más común de evaluar la linealidad es **examinar diagramas de dispersión de las variables** e identificar cualquier patrón no lineal en los datos."
   ]
  },
  {
   "cell_type": "markdown",
   "metadata": {
    "slideshow": {
     "slide_type": "subslide"
    }
   },
   "source": [
    "Veamos un diagrama de dispersión generado a partir de nuestro ejemplo:"
   ]
  },
  {
   "cell_type": "code",
   "execution_count": 8,
   "metadata": {
    "hideCode": true,
    "hidePrompt": true,
    "slideshow": {
     "slide_type": "fragment"
    }
   },
   "outputs": [
    {
     "data": {
      "image/png": "[encoded data removed]",
      "text/plain": [
       "<Figure size 360x360 with 1 Axes>"
      ]
     },
     "metadata": {
      "needs_background": "light"
     },
     "output_type": "display_data"
    }
   ],
   "source": [
    "sns.lmplot(x='schizophrenia', y='depression', data=df_subsdis);"
   ]
  },
  {
   "cell_type": "markdown",
   "metadata": {
    "slideshow": {
     "slide_type": "fragment"
    }
   },
   "source": [
    "El gráfico de dispersión muestra que no existe una relación lineal entre las variables. \n",
    "\n",
    "Para facilitar esta visualización, se agrega una linea recta que ilustra la regresión entre la variable independiente `schizophrenia` y la variable dependiente `depression`. Como puede apreciarse, los puntos no se acercan a la línea y casi en su totalidad escapan al intervalo de confianza mostrado. "
   ]
  },
  {
   "cell_type": "markdown",
   "metadata": {
    "slideshow": {
     "slide_type": "slide"
    }
   },
   "source": [
    "Una manera alternativa de evaluar la linealidad es a través de los **residuos de un modelo de regresión**. \n",
    "\n",
    "Los residuos **reflejan la parte no explicada de la variable dependiente**; por lo tanto, cualquier parte no lineal de la relación se mostrará en los residuos. \n",
    "\n",
    "Si hay estructura en los residuos, asumir una relación lineal no es apropiado."
   ]
  },
  {
   "cell_type": "markdown",
   "metadata": {
    "slideshow": {
     "slide_type": "subslide"
    }
   },
   "source": [
    "Veamos los residuos en nuestro ejemplo:"
   ]
  },
  {
   "cell_type": "code",
   "execution_count": 9,
   "metadata": {
    "hideCode": true,
    "hidePrompt": true,
    "slideshow": {
     "slide_type": "fragment"
    }
   },
   "outputs": [
    {
     "data": {
      "image/png": "[encoded data removed]",
      "text/plain": [
       "<Figure size 432x288 with 1 Axes>"
      ]
     },
     "metadata": {
      "needs_background": "light"
     },
     "output_type": "display_data"
    }
   ],
   "source": [
    "sns.residplot(x='schizophrenia',y='depression',data=df_subsdis,lowess=True);"
   ]
  },
  {
   "cell_type": "markdown",
   "metadata": {
    "slideshow": {
     "slide_type": "fragment"
    }
   },
   "source": [
    "En este tipo de gráficos, idealmente los valores deberían estar distribuidos aleatoriamente alrededor de `y = 0` (línea punteada). \n",
    "\n",
    "En nuestro ejemplo esto no se cumple y se puede observar que existe una estructura en nuestros residuos, la cual se grafica con la linea continua."
   ]
  },
  {
   "cell_type": "markdown",
   "metadata": {
    "slideshow": {
     "slide_type": "slide"
    }
   },
   "source": [
    "### Ausencia de errores correlacionados\n",
    "\n",
    "Las predicciones en cualquiera de las técnicas de dependencia no son perfectas y rara vez encontraremos una situación en la que lo sean. Sin embargo, **intentamos asegurarnos de que los errores de predicción no estén correlacionados entre sí**. \n",
    "\n",
    "Por ejemplo, si encontramos un patrón que sugiere que solo algunos errores son positivos mientras que todos los demás son negativos, sabríamos que existe alguna relación sistemática inexplicable en la variable dependiente.\n",
    "\n",
    "**Si existe tal situación, no podemos estar seguros de que nuestros errores de predicción sean independientes de los niveles en los que estamos tratando de predecir**. Algún otro factor está afectando los resultados, pero no se incluye en el análisis.\n",
    "\n",
    "Examinaremos los modos de examinar la correlación en los errores más adelante en el curso."
   ]
  },
  {
   "cell_type": "markdown",
   "metadata": {
    "slideshow": {
     "slide_type": "slide"
    }
   },
   "source": [
    "## Transformación de los datos\n",
    "\n",
    "Las transformaciones de datos proporcionan al investigador una amplia gama de métodos para lograr uno de los cuatro resultados básicos: \n",
    "- Mejorar las propiedades estadísticas\n",
    "- Facilidad de interpretación\n",
    "- Representar tipos de relación específicos\n",
    "- Simplificación"
   ]
  },
  {
   "cell_type": "markdown",
   "metadata": {
    "slideshow": {
     "slide_type": "subslide"
    }
   },
   "source": [
    "En cada caso, **la variable original y sus valores se transforman de alguna manera para alterar sus características de modo que represente una faceta diferente de la información subyacente contenida en los valores**. \n",
    "\n",
    "Las transformaciones de datos pueden basarse en razones que son teóricas (transformaciones cuya idoneidad se basa en la naturaleza de los datos) o derivadas a partir de los datos (donde las transformaciones son sugeridas estrictamente por un examen de los datos). "
   ]
  },
  {
   "cell_type": "markdown",
   "metadata": {
    "slideshow": {
     "slide_type": "slide"
    }
   },
   "source": [
    "Cuando la explicación es importante (y no la predicción), **¡cuidado con las transformaciones!**\n",
    "\n",
    "Las transformaciones **pueden cambiar la interpretación de las variables**. \n",
    "\n",
    "Por ejemplo, transformar variables tomando su logaritmo traduce la relación en una medida de cambio proporcional. Es decir, se impone una relación matemática que previamente no existía (o al menos desconocemos)."
   ]
  },
  {
   "cell_type": "markdown",
   "metadata": {
    "slideshow": {
     "slide_type": "subslide"
    }
   },
   "source": [
    "Por ello, asegúrate siempre de **explorar a fondo las posibles interpretaciones de las variables transformadas**.\n",
    "\n",
    "Un ejemplo común en psicología se da en las escalas Likert. Al tratarse de variables ordinales una práctica común es transformarlas a variables cuantitativas continuas. \n",
    "\n",
    "La transformación más usual es la monótica: asumir que la distancia entre cada punto de la escala es equivalente. Esto es problemático debido a las diferencias individuales que pueden existir al momento de interpretar los puntos de una escala.  "
   ]
  },
  {
   "cell_type": "markdown",
   "metadata": {
    "slideshow": {
     "slide_type": "slide"
    }
   },
   "source": [
    "A continuación presentamos algunas alternativas para transformar los datos a una distribución normal:"
   ]
  },
  {
   "cell_type": "markdown",
   "metadata": {
    "slideshow": {
     "slide_type": "slide"
    }
   },
   "source": [
    "### Estandarización\n",
    "\n",
    "En esta transformación, primero se diferencia cada valor de la media de la variable y luego se hace la diferencia relativa a las desviaciones estándar de la variable:\n",
    "\n",
    "$$ z = \\frac{(x - u)}{s} $$\n",
    "\n",
    "El resultado es un conjunto de valores con una media de cero y una desviación estándar de 1"
   ]
  },
  {
   "cell_type": "markdown",
   "metadata": {
    "slideshow": {
     "slide_type": "subslide"
    }
   },
   "source": [
    "Apliquemos esta transformación a nuestro ejemplo:"
   ]
  },
  {
   "cell_type": "code",
   "execution_count": 10,
   "metadata": {
    "hideCode": true,
    "hidePrompt": true,
    "slideshow": {
     "slide_type": "fragment"
    }
   },
   "outputs": [
    {
     "data": {
      "image/png": "[encoded data removed]",
      "text/plain": [
       "<Figure size 432x432 with 3 Axes>"
      ]
     },
     "metadata": {
      "needs_background": "light"
     },
     "output_type": "display_data"
    }
   ],
   "source": [
    "from sklearn.preprocessing import StandardScaler\n",
    "scaler = StandardScaler()\n",
    "scaled_data = scaler.fit_transform(df_subsdis[['schizophrenia','depression']])\n",
    "scaled_df = pd.DataFrame(scaled_data, columns=['schizophrenia','depression'])\n",
    "sns.jointplot(x='schizophrenia',y='depression',data=scaled_df);"
   ]
  },
  {
   "cell_type": "markdown",
   "metadata": {
    "slideshow": {
     "slide_type": "slide"
    }
   },
   "source": [
    "### Transformaciones de potencia\n",
    "\n",
    "Las transformaciones de potencia son una familia de transformaciones paramétricas y monótonas **útiles para modelar problemas relacionados con la heterocedasticidad** (varianza no homogénea) u otras situaciones en las que se desea la normalidad.\n",
    "\n",
    "En esta familia se encuentran la transformación Box-Cox y la transformación Yeo-Johnson. Box-Cox requiere que los datos de entrada sean estrictamente positivos, mientras que Yeo-Johnson admite datos tanto positivos como negativos."
   ]
  },
  {
   "cell_type": "markdown",
   "metadata": {
    "slideshow": {
     "slide_type": "subslide"
    }
   },
   "source": [
    "Apliquemos una transformación de potencia a nuestro ejemplo:"
   ]
  },
  {
   "cell_type": "code",
   "execution_count": 11,
   "metadata": {
    "hideCode": true,
    "hidePrompt": true,
    "slideshow": {
     "slide_type": "fragment"
    }
   },
   "outputs": [
    {
     "data": {
      "image/png": "[encoded data removed]",
      "text/plain": [
       "<Figure size 432x432 with 3 Axes>"
      ]
     },
     "metadata": {
      "needs_background": "light"
     },
     "output_type": "display_data"
    }
   ],
   "source": [
    "from sklearn.preprocessing import PowerTransformer\n",
    "scaler = PowerTransformer(method='yeo-johnson')\n",
    "scaled_data = scaler.fit_transform(df_subsdis[['schizophrenia','depression']])\n",
    "scaled_df = pd.DataFrame(scaled_data, columns=['schizophrenia','depression'])\n",
    "sns.jointplot(x='schizophrenia',y='depression',data=scaled_df);"
   ]
  },
  {
   "cell_type": "markdown",
   "metadata": {
    "slideshow": {
     "slide_type": "slide"
    }
   },
   "source": [
    "### Transformación por quantiles\n",
    "\n",
    "Se utiliza una estimación de la función de distribución acumulativa de una distribución para **mapear los valores originales a una distribución normal**. \n",
    "\n",
    "A continuación, los valores obtenidos se asignan a la distribución de salida deseada utilizando la función de cuantiles asociada. Los datos nuevos/no vistos que caen por debajo o por encima del rango ajustado se asignarán a los límites de la distribución de salida. \n",
    "\n",
    "Ten en cuenta que esta transformación no es lineal. **Puede distorsionar las correlaciones lineales** entre variables medidas en la misma escala, pero hace que las variables medidas en diferentes escalas sean más directamente comparables."
   ]
  },
  {
   "cell_type": "code",
   "execution_count": 12,
   "metadata": {
    "hideCode": true,
    "hidePrompt": true,
    "slideshow": {
     "slide_type": "subslide"
    }
   },
   "outputs": [
    {
     "name": "stderr",
     "output_type": "stream",
     "text": [
      "/home/renato/.virtualenvs/statspsych/lib/python3.8/site-packages/sklearn/preprocessing/_data.py:2612: UserWarning: n_quantiles (1000) is greater than the total number of samples (231). n_quantiles is set to n_samples.\n",
      "  warnings.warn(\"n_quantiles (%s) is greater than the total number \"\n"
     ]
    },
    {
     "data": {
      "image/png": "[encoded data removed]",
      "text/plain": [
       "<Figure size 432x432 with 3 Axes>"
      ]
     },
     "metadata": {
      "needs_background": "light"
     },
     "output_type": "display_data"
    }
   ],
   "source": [
    "from sklearn.preprocessing import QuantileTransformer\n",
    "scaler = QuantileTransformer(output_distribution='normal')\n",
    "scaled_data = scaler.fit_transform(df_subsdis[['schizophrenia','depression']])\n",
    "scaled_df = pd.DataFrame(scaled_data, columns=['schizophrenia','depression'])\n",
    "sns.jointplot(x='schizophrenia',y='depression',data=scaled_df);"
   ]
  }
 ],
 "metadata": {
  "celltoolbar": "Slideshow",
  "interpreter": {
   "hash": "b25efa0878479caaac2d225245dccd11848f16278f5ed3e8dcef24d18156548f"
  },
  "kernelspec": {
   "display_name": "Python 3 (ipykernel)",
   "language": "python",
   "name": "python3"
  },
  "language_info": {
   "codemirror_mode": {
    "name": "ipython",
    "version": 3
   },
   "file_extension": ".py",
   "mimetype": "text/x-python",
   "name": "python",
   "nbconvert_exporter": "python",
   "pygments_lexer": "ipython3",
   "version": "3.8.10"
  }
 },
 "nbformat": 4,
 "nbformat_minor": 2
}
