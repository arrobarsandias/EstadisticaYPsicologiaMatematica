{
 "cells": [
  {
   "cell_type": "markdown",
   "source": [
    "# Práctica: Verificación de supuestos\n",
    "\n",
    "Sigues siendo un asistente de investigación en una consulta de investigación de mercado. Continuas analizando los datos de una encuesta sobre la percepción de una compañía tecnológica. Esta cuenta con 9 variables cuantitativas (X1 a X9) relacionadas a la percepción del desempeño de la compañía."
   ],
   "metadata": {}
  },
  {
   "cell_type": "code",
   "execution_count": 2,
   "source": [
    "!pip install pyreadstat"
   ],
   "outputs": [
    {
     "output_type": "stream",
     "name": "stdout",
     "text": [
      "Requirement already satisfied: pyreadstat in /home/renato/.virtualenvs/statspsych/lib/python3.8/site-packages (1.1.2)\n",
      "Requirement already satisfied: pandas>0.24.0 in /home/renato/.virtualenvs/statspsych/lib/python3.8/site-packages (from pyreadstat) (1.3.3)\n",
      "Requirement already satisfied: python-dateutil>=2.7.3 in /home/renato/.virtualenvs/statspsych/lib/python3.8/site-packages (from pandas>0.24.0->pyreadstat) (2.8.2)\n",
      "Requirement already satisfied: numpy>=1.17.3 in /home/renato/.virtualenvs/statspsych/lib/python3.8/site-packages (from pandas>0.24.0->pyreadstat) (1.21.2)\n",
      "Requirement already satisfied: pytz>=2017.3 in /home/renato/.virtualenvs/statspsych/lib/python3.8/site-packages (from pandas>0.24.0->pyreadstat) (2021.1)\n",
      "Requirement already satisfied: six>=1.5 in /home/renato/.virtualenvs/statspsych/lib/python3.8/site-packages (from python-dateutil>=2.7.3->pandas>0.24.0->pyreadstat) (1.16.0)\n"
     ]
    }
   ],
   "metadata": {}
  },
  {
   "cell_type": "code",
   "execution_count": 3,
   "source": [
    "import pandas as pd\n",
    "import numpy as np\n",
    "\n",
    "df = pd.read_spss(\"HATCO.sav\")\n",
    "df.dropna(inplace=True)\n",
    "df"
   ],
   "outputs": [
    {
     "output_type": "execute_result",
     "data": {
      "text/html": [
       "<div>\n",
       "<style scoped>\n",
       "    .dataframe tbody tr th:only-of-type {\n",
       "        vertical-align: middle;\n",
       "    }\n",
       "\n",
       "    .dataframe tbody tr th {\n",
       "        vertical-align: top;\n",
       "    }\n",
       "\n",
       "    .dataframe thead th {\n",
       "        text-align: right;\n",
       "    }\n",
       "</style>\n",
       "<table border=\"1\" class=\"dataframe\">\n",
       "  <thead>\n",
       "    <tr style=\"text-align: right;\">\n",
       "      <th></th>\n",
       "      <th>Caso</th>\n",
       "      <th>X1</th>\n",
       "      <th>X2</th>\n",
       "      <th>X3</th>\n",
       "      <th>X4</th>\n",
       "      <th>X5</th>\n",
       "      <th>X6</th>\n",
       "      <th>X7</th>\n",
       "      <th>X8</th>\n",
       "      <th>X9</th>\n",
       "      <th>X10</th>\n",
       "      <th>X11</th>\n",
       "      <th>X12</th>\n",
       "      <th>X13</th>\n",
       "      <th>X14</th>\n",
       "    </tr>\n",
       "  </thead>\n",
       "  <tbody>\n",
       "    <tr>\n",
       "      <th>0</th>\n",
       "      <td>1.00</td>\n",
       "      <td>41.0</td>\n",
       "      <td>6.0</td>\n",
       "      <td>69.0</td>\n",
       "      <td>47.0</td>\n",
       "      <td>24.0</td>\n",
       "      <td>23.0</td>\n",
       "      <td>52.0</td>\n",
       "      <td>0.0</td>\n",
       "      <td>320.0</td>\n",
       "      <td>42.0</td>\n",
       "      <td>1.0</td>\n",
       "      <td>0.0</td>\n",
       "      <td>1.0</td>\n",
       "      <td>1.0</td>\n",
       "    </tr>\n",
       "    <tr>\n",
       "      <th>1</th>\n",
       "      <td>2.00</td>\n",
       "      <td>18.0</td>\n",
       "      <td>30.0</td>\n",
       "      <td>63.0</td>\n",
       "      <td>66.0</td>\n",
       "      <td>25.0</td>\n",
       "      <td>40.0</td>\n",
       "      <td>84.0</td>\n",
       "      <td>1.0</td>\n",
       "      <td>430.0</td>\n",
       "      <td>43.0</td>\n",
       "      <td>0.0</td>\n",
       "      <td>1.0</td>\n",
       "      <td>0.0</td>\n",
       "      <td>1.0</td>\n",
       "    </tr>\n",
       "    <tr>\n",
       "      <th>2</th>\n",
       "      <td>3.00</td>\n",
       "      <td>34.0</td>\n",
       "      <td>52.0</td>\n",
       "      <td>57.0</td>\n",
       "      <td>60.0</td>\n",
       "      <td>43.0</td>\n",
       "      <td>27.0</td>\n",
       "      <td>82.0</td>\n",
       "      <td>1.0</td>\n",
       "      <td>480.0</td>\n",
       "      <td>52.0</td>\n",
       "      <td>0.0</td>\n",
       "      <td>1.0</td>\n",
       "      <td>1.0</td>\n",
       "      <td>2.0</td>\n",
       "    </tr>\n",
       "    <tr>\n",
       "      <th>3</th>\n",
       "      <td>4.00</td>\n",
       "      <td>27.0</td>\n",
       "      <td>10.0</td>\n",
       "      <td>71.0</td>\n",
       "      <td>59.0</td>\n",
       "      <td>18.0</td>\n",
       "      <td>23.0</td>\n",
       "      <td>78.0</td>\n",
       "      <td>1.0</td>\n",
       "      <td>320.0</td>\n",
       "      <td>39.0</td>\n",
       "      <td>0.0</td>\n",
       "      <td>1.0</td>\n",
       "      <td>1.0</td>\n",
       "      <td>1.0</td>\n",
       "    </tr>\n",
       "    <tr>\n",
       "      <th>4</th>\n",
       "      <td>5.00</td>\n",
       "      <td>60.0</td>\n",
       "      <td>9.0</td>\n",
       "      <td>96.0</td>\n",
       "      <td>78.0</td>\n",
       "      <td>34.0</td>\n",
       "      <td>46.0</td>\n",
       "      <td>45.0</td>\n",
       "      <td>0.0</td>\n",
       "      <td>580.0</td>\n",
       "      <td>68.0</td>\n",
       "      <td>1.0</td>\n",
       "      <td>0.0</td>\n",
       "      <td>1.0</td>\n",
       "      <td>3.0</td>\n",
       "    </tr>\n",
       "    <tr>\n",
       "      <th>...</th>\n",
       "      <td>...</td>\n",
       "      <td>...</td>\n",
       "      <td>...</td>\n",
       "      <td>...</td>\n",
       "      <td>...</td>\n",
       "      <td>...</td>\n",
       "      <td>...</td>\n",
       "      <td>...</td>\n",
       "      <td>...</td>\n",
       "      <td>...</td>\n",
       "      <td>...</td>\n",
       "      <td>...</td>\n",
       "      <td>...</td>\n",
       "      <td>...</td>\n",
       "      <td>...</td>\n",
       "    </tr>\n",
       "    <tr>\n",
       "      <th>95</th>\n",
       "      <td>96.00</td>\n",
       "      <td>6.0</td>\n",
       "      <td>16.0</td>\n",
       "      <td>64.0</td>\n",
       "      <td>50.0</td>\n",
       "      <td>7.0</td>\n",
       "      <td>21.0</td>\n",
       "      <td>84.0</td>\n",
       "      <td>1.0</td>\n",
       "      <td>250.0</td>\n",
       "      <td>34.0</td>\n",
       "      <td>0.0</td>\n",
       "      <td>1.0</td>\n",
       "      <td>1.0</td>\n",
       "      <td>1.0</td>\n",
       "    </tr>\n",
       "    <tr>\n",
       "      <th>96</th>\n",
       "      <td>97.00</td>\n",
       "      <td>61.0</td>\n",
       "      <td>5.0</td>\n",
       "      <td>92.0</td>\n",
       "      <td>48.0</td>\n",
       "      <td>33.0</td>\n",
       "      <td>28.0</td>\n",
       "      <td>71.0</td>\n",
       "      <td>0.0</td>\n",
       "      <td>600.0</td>\n",
       "      <td>52.0</td>\n",
       "      <td>1.0</td>\n",
       "      <td>0.0</td>\n",
       "      <td>1.0</td>\n",
       "      <td>3.0</td>\n",
       "    </tr>\n",
       "    <tr>\n",
       "      <th>97</th>\n",
       "      <td>98.00</td>\n",
       "      <td>20.0</td>\n",
       "      <td>28.0</td>\n",
       "      <td>52.0</td>\n",
       "      <td>50.0</td>\n",
       "      <td>24.0</td>\n",
       "      <td>27.0</td>\n",
       "      <td>84.0</td>\n",
       "      <td>1.0</td>\n",
       "      <td>380.0</td>\n",
       "      <td>37.0</td>\n",
       "      <td>0.0</td>\n",
       "      <td>1.0</td>\n",
       "      <td>0.0</td>\n",
       "      <td>1.0</td>\n",
       "    </tr>\n",
       "    <tr>\n",
       "      <th>98</th>\n",
       "      <td>99.00</td>\n",
       "      <td>31.0</td>\n",
       "      <td>22.0</td>\n",
       "      <td>67.0</td>\n",
       "      <td>68.0</td>\n",
       "      <td>26.0</td>\n",
       "      <td>29.0</td>\n",
       "      <td>84.0</td>\n",
       "      <td>1.0</td>\n",
       "      <td>420.0</td>\n",
       "      <td>43.0</td>\n",
       "      <td>0.0</td>\n",
       "      <td>1.0</td>\n",
       "      <td>0.0</td>\n",
       "      <td>1.0</td>\n",
       "    </tr>\n",
       "    <tr>\n",
       "      <th>99</th>\n",
       "      <td>100.00</td>\n",
       "      <td>25.0</td>\n",
       "      <td>18.0</td>\n",
       "      <td>90.0</td>\n",
       "      <td>50.0</td>\n",
       "      <td>22.0</td>\n",
       "      <td>30.0</td>\n",
       "      <td>60.0</td>\n",
       "      <td>0.0</td>\n",
       "      <td>330.0</td>\n",
       "      <td>44.0</td>\n",
       "      <td>1.0</td>\n",
       "      <td>0.0</td>\n",
       "      <td>0.0</td>\n",
       "      <td>1.0</td>\n",
       "    </tr>\n",
       "  </tbody>\n",
       "</table>\n",
       "<p>100 rows × 15 columns</p>\n",
       "</div>"
      ],
      "text/plain": [
       "        Caso    X1    X2    X3    X4    X5    X6    X7   X8     X9   X10  X11  \\\n",
       "0       1.00  41.0   6.0  69.0  47.0  24.0  23.0  52.0  0.0  320.0  42.0  1.0   \n",
       "1       2.00  18.0  30.0  63.0  66.0  25.0  40.0  84.0  1.0  430.0  43.0  0.0   \n",
       "2       3.00  34.0  52.0  57.0  60.0  43.0  27.0  82.0  1.0  480.0  52.0  0.0   \n",
       "3       4.00  27.0  10.0  71.0  59.0  18.0  23.0  78.0  1.0  320.0  39.0  0.0   \n",
       "4       5.00  60.0   9.0  96.0  78.0  34.0  46.0  45.0  0.0  580.0  68.0  1.0   \n",
       "..       ...   ...   ...   ...   ...   ...   ...   ...  ...    ...   ...  ...   \n",
       "95     96.00   6.0  16.0  64.0  50.0   7.0  21.0  84.0  1.0  250.0  34.0  0.0   \n",
       "96     97.00  61.0   5.0  92.0  48.0  33.0  28.0  71.0  0.0  600.0  52.0  1.0   \n",
       "97     98.00  20.0  28.0  52.0  50.0  24.0  27.0  84.0  1.0  380.0  37.0  0.0   \n",
       "98     99.00  31.0  22.0  67.0  68.0  26.0  29.0  84.0  1.0  420.0  43.0  0.0   \n",
       "99    100.00  25.0  18.0  90.0  50.0  22.0  30.0  60.0  0.0  330.0  44.0  1.0   \n",
       "\n",
       "    X12  X13  X14  \n",
       "0   0.0  1.0  1.0  \n",
       "1   1.0  0.0  1.0  \n",
       "2   1.0  1.0  2.0  \n",
       "3   1.0  1.0  1.0  \n",
       "4   0.0  1.0  3.0  \n",
       "..  ...  ...  ...  \n",
       "95  1.0  1.0  1.0  \n",
       "96  0.0  1.0  3.0  \n",
       "97  1.0  0.0  1.0  \n",
       "98  1.0  0.0  1.0  \n",
       "99  0.0  0.0  1.0  \n",
       "\n",
       "[100 rows x 15 columns]"
      ]
     },
     "metadata": {},
     "execution_count": 3
    }
   ],
   "metadata": {}
  },
  {
   "cell_type": "markdown",
   "source": [
    "## Parte 1: Normalidad\n",
    "\n",
    "Analiza la normalidad de la variable X9 utilizando un QQ-Plot. ¿Qué puedes concluir en relación al gráfico?\n",
    ">Sugerencia: Utiliza la función `qqplot` disponible en el paquete `pingouin`."
   ],
   "metadata": {}
  },
  {
   "cell_type": "code",
   "execution_count": null,
   "source": [
    "!pip install pingouin"
   ],
   "outputs": [],
   "metadata": {}
  },
  {
   "cell_type": "code",
   "execution_count": 4,
   "source": [
    "import pingouin as pg\n",
    "\n",
    "# Escribe tu respuesta aquí\n",
    "pg.qqplot(df[\"X9\"], dist=\"norm\");"
   ],
   "outputs": [
    {
     "output_type": "display_data",
     "data": {
      "image/png": "[encoded data removed]",
      "text/plain": [
       "<Figure size 360x288 with 1 Axes>"
      ]
     },
     "metadata": {
      "needs_background": "light"
     }
    }
   ],
   "metadata": {}
  },
  {
   "cell_type": "markdown",
   "source": [
    "Si bien la línea que representa a los datos presenta algunas curvaturas, puede apreciarse que se acerca mucho a la recta que representa a la distribución normal. Es posible que el supuesto de normalidad se cumpla. "
   ],
   "metadata": {}
  },
  {
   "cell_type": "markdown",
   "source": [
    "Aplica una prueba inferencial para examinar la normalidad de la variable X9. ¿Qué puedes concluir? \n",
    ">Sugerencia: Utiliza la función `normality` disponible en el paquete `pingouin`."
   ],
   "metadata": {}
  },
  {
   "cell_type": "code",
   "execution_count": 5,
   "source": [
    "# Escribe tu respuesta aquí\n",
    "pg.normality(df[\"X9\"], method=\"normaltest\")"
   ],
   "outputs": [
    {
     "output_type": "execute_result",
     "data": {
      "text/html": [
       "<div>\n",
       "<style scoped>\n",
       "    .dataframe tbody tr th:only-of-type {\n",
       "        vertical-align: middle;\n",
       "    }\n",
       "\n",
       "    .dataframe tbody tr th {\n",
       "        vertical-align: top;\n",
       "    }\n",
       "\n",
       "    .dataframe thead th {\n",
       "        text-align: right;\n",
       "    }\n",
       "</style>\n",
       "<table border=\"1\" class=\"dataframe\">\n",
       "  <thead>\n",
       "    <tr style=\"text-align: right;\">\n",
       "      <th></th>\n",
       "      <th>W</th>\n",
       "      <th>pval</th>\n",
       "      <th>normal</th>\n",
       "    </tr>\n",
       "  </thead>\n",
       "  <tbody>\n",
       "    <tr>\n",
       "      <th>X9</th>\n",
       "      <td>4.678292</td>\n",
       "      <td>0.09641</td>\n",
       "      <td>True</td>\n",
       "    </tr>\n",
       "  </tbody>\n",
       "</table>\n",
       "</div>"
      ],
      "text/plain": [
       "           W     pval  normal\n",
       "X9  4.678292  0.09641    True"
      ]
     },
     "metadata": {},
     "execution_count": 5
    }
   ],
   "metadata": {}
  },
  {
   "cell_type": "markdown",
   "source": [
    "La prueba de D'Agostino y Pearson nos indica que no podemos rechazar la hipótesis nula. Por tanto, podemos operar asumiendo que la distribución de la variable X9 es normal."
   ],
   "metadata": {}
  },
  {
   "cell_type": "markdown",
   "source": [
    "## Parte 2: Homogeneidad de varianzas\n",
    "\n",
    "Explora gráficamente si las variables X3 y X9 presentan varianzas homogéneas. ¿Qué puedes concluir en relación al gráfico?\n",
    "\n",
    ">Sugerencia: Utiliza la función `jointplot` disponible en el paquete `seaborn`."
   ],
   "metadata": {}
  },
  {
   "cell_type": "code",
   "execution_count": 13,
   "source": [
    "import seaborn as sns\n",
    "\n",
    "# Escribe tu respuesta aquí\n",
    "ax = sns.jointplot(x=\"X3\", y=\"X9\", data=df)\n",
    "ax.plot_marginals(sns.histplot, kde=True);"
   ],
   "outputs": [
    {
     "output_type": "display_data",
     "data": {
      "image/png": "[encoded data removed]",
      "text/plain": [
       "<Figure size 432x432 with 3 Axes>"
      ]
     },
     "metadata": {
      "needs_background": "light"
     }
    }
   ],
   "metadata": {}
  },
  {
   "cell_type": "markdown",
   "source": [
    "Gráficamente puede apreciarse que las varianzas no son del todo homogéneas debido a que hay secciones donde hay una mayor acumulación de datos."
   ],
   "metadata": {}
  },
  {
   "cell_type": "markdown",
   "source": [
    "Emplea una prueba inferencial para examinar la homogeneidad de las varianzas entre X3 y X9. ¿Qué puedes concluir?\n",
    "\n",
    ">Sugerencia: Utiliza la función `homoscedasticity` disponible en el paquete `pingouin`."
   ],
   "metadata": {}
  },
  {
   "cell_type": "code",
   "execution_count": 14,
   "source": [
    "# Escribe tu respuesta aquí\n",
    "pg.homoscedasticity(df[[\"X3\", \"X9\"]])"
   ],
   "outputs": [
    {
     "output_type": "stream",
     "name": "stderr",
     "text": [
      "/home/renato/.virtualenvs/statspsych/lib/python3.8/site-packages/scipy/stats/morestats.py:2603: RuntimeWarning: divide by zero encountered in double_scalars\n",
      "  W = numer / denom\n"
     ]
    },
    {
     "output_type": "execute_result",
     "data": {
      "text/html": [
       "<div>\n",
       "<style scoped>\n",
       "    .dataframe tbody tr th:only-of-type {\n",
       "        vertical-align: middle;\n",
       "    }\n",
       "\n",
       "    .dataframe tbody tr th {\n",
       "        vertical-align: top;\n",
       "    }\n",
       "\n",
       "    .dataframe thead th {\n",
       "        text-align: right;\n",
       "    }\n",
       "</style>\n",
       "<table border=\"1\" class=\"dataframe\">\n",
       "  <thead>\n",
       "    <tr style=\"text-align: right;\">\n",
       "      <th></th>\n",
       "      <th>W</th>\n",
       "      <th>pval</th>\n",
       "      <th>equal_var</th>\n",
       "    </tr>\n",
       "  </thead>\n",
       "  <tbody>\n",
       "    <tr>\n",
       "      <th>levene</th>\n",
       "      <td>inf</td>\n",
       "      <td>0.0</td>\n",
       "      <td>False</td>\n",
       "    </tr>\n",
       "  </tbody>\n",
       "</table>\n",
       "</div>"
      ],
      "text/plain": [
       "          W  pval  equal_var\n",
       "levene  inf   0.0      False"
      ]
     },
     "metadata": {},
     "execution_count": 14
    }
   ],
   "metadata": {}
  },
  {
   "cell_type": "markdown",
   "source": [
    "La prueba de levene nos señala que no podemos asumir que las varianzas entre estas dos distribuciones son homogéneas, lo cual confirma lo analizado gráficamente. "
   ],
   "metadata": {}
  },
  {
   "cell_type": "markdown",
   "source": [
    "## Parte 3: Linealidad\n",
    "\n",
    "Verifica gráficamente si la relación entre ambas variables es lineal. ¿Qué puedes concluir en relación al gráfico?\n",
    "> Sugerencia: Utiliza la función `lmplot` disponible en el paquete seaborn."
   ],
   "metadata": {}
  },
  {
   "cell_type": "code",
   "execution_count": 15,
   "source": [
    "sns.lmplot(x=\"X3\", y=\"X9\", data=df);"
   ],
   "outputs": [
    {
     "output_type": "display_data",
     "data": {
      "image/png": "[encoded data removed]",
      "text/plain": [
       "<Figure size 360x360 with 1 Axes>"
      ]
     },
     "metadata": {
      "needs_background": "light"
     }
    }
   ],
   "metadata": {}
  },
  {
   "cell_type": "markdown",
   "source": [
    "De acuerdo al gráfico, la mayoría de los datos escapa a una relación lineal entre ambas variables. En este caso es difícil sostener el supuesto de linealidad. "
   ],
   "metadata": {}
  },
  {
   "cell_type": "markdown",
   "source": [
    "## Parte 4: Transformación de los datos\n",
    "\n",
    "Convierte tus datos a una distribución Z y verifica gráficamente si la ausencia de linealidad y homocedasticidad persiste. ¿Qué puedes comentar en relación a tus resultados?\n",
    ">Sugerencia: Utiliza la función `StandardScaler` disponible en el paquete `sklearn`."
   ],
   "metadata": {}
  },
  {
   "cell_type": "code",
   "execution_count": 16,
   "source": [
    "from sklearn.preprocessing import StandardScaler\n",
    "\n",
    "# Escribe tu respuesta aquí\n",
    "scaler = StandardScaler()\n",
    "scaled_data = scaler.fit_transform(df[[\"X3\", \"X9\"]])\n",
    "scaled_df = pd.DataFrame(scaled_data, columns=[\"X3\", \"X9\"])\n",
    "sns.lmplot(x=\"X3\", y=\"X9\", data=scaled_df);"
   ],
   "outputs": [
    {
     "output_type": "display_data",
     "data": {
      "image/png": "[encoded data removed]",
      "text/plain": [
       "<Figure size 360x360 with 1 Axes>"
      ]
     },
     "metadata": {
      "needs_background": "light"
     }
    }
   ],
   "metadata": {}
  },
  {
   "cell_type": "markdown",
   "source": [
    "La ausencia de linealidad y homocedasticidad entre X9 y X3 persiste incluso después de aplicar una estandarización. En este caso, correspondería que los investigadores analicen si hay alguna fuente externa o variable adicional que pueda estar influyendo en la varianza de las dos variables en cuestión. "
   ],
   "metadata": {}
  }
 ],
 "metadata": {
  "orig_nbformat": 4,
  "language_info": {
   "name": "python",
   "version": "3.8.10",
   "mimetype": "text/x-python",
   "codemirror_mode": {
    "name": "ipython",
    "version": 3
   },
   "pygments_lexer": "ipython3",
   "nbconvert_exporter": "python",
   "file_extension": ".py"
  },
  "kernelspec": {
   "name": "python3",
   "display_name": "Python 3.8.10 64-bit ('statspsych': virtualenv)"
  },
  "interpreter": {
   "hash": "b25efa0878479caaac2d225245dccd11848f16278f5ed3e8dcef24d18156548f"
  }
 },
 "nbformat": 4,
 "nbformat_minor": 2
}