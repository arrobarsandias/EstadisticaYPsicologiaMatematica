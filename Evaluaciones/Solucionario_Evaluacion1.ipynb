{
 "cells": [
  {
   "cell_type": "markdown",
   "metadata": {},
   "source": [
    "# Evaluación 1: Repaso de estadística descriptiva e inferencial\n",
    "\n",
    "En esta evaluación vamos a trabajar con los datos de la medición del nivel nutricional en mujeres según la Encuesta Demográfica y de Salud Familiar 2017 (ENDES 2017)."
   ]
  },
  {
   "cell_type": "markdown",
   "metadata": {},
   "source": [
    "## Parte 1\n",
    "\n",
    "A continuación se presenta una base de datos que muestra los niveles de hemoglobina en la sangre de mujeres. Además, se brinda información sobre si las mujeres están embarazadas o no. A partir de la información presente en esta base de datos, responde:\n",
    "> La variable `Embarazada` codifica como 1 si las encuestadas estaban embarazadas y como 0 en caso contrario."
   ]
  },
  {
   "cell_type": "code",
   "execution_count": null,
   "metadata": {},
   "outputs": [],
   "source": [
    "!wget https://github.com/renatoparedes/EstadisticaYPsicologiaMatematica/raw/main/Evaluaciones/HemoglobinayEmbarazo.sav\n",
    "!wget https://github.com/renatoparedes/EstadisticaYPsicologiaMatematica/raw/main/Evaluaciones/HemoglobinaEmbarazoyEdad.sav\n",
    "!pip install pingouin\n",
    "!pip install pyreadstat"
   ]
  },
  {
   "cell_type": "code",
   "execution_count": 1,
   "metadata": {},
   "outputs": [
    {
     "data": {
      "text/html": [
       "<div>\n",
       "<style scoped>\n",
       "    .dataframe tbody tr th:only-of-type {\n",
       "        vertical-align: middle;\n",
       "    }\n",
       "\n",
       "    .dataframe tbody tr th {\n",
       "        vertical-align: top;\n",
       "    }\n",
       "\n",
       "    .dataframe thead th {\n",
       "        text-align: right;\n",
       "    }\n",
       "</style>\n",
       "<table border=\"1\" class=\"dataframe\">\n",
       "  <thead>\n",
       "    <tr style=\"text-align: right;\">\n",
       "      <th></th>\n",
       "      <th>Embarazada</th>\n",
       "      <th>Nivel_de_hemoglobina</th>\n",
       "    </tr>\n",
       "  </thead>\n",
       "  <tbody>\n",
       "    <tr>\n",
       "      <th>0</th>\n",
       "      <td>0.0</td>\n",
       "      <td>13.8</td>\n",
       "    </tr>\n",
       "    <tr>\n",
       "      <th>1</th>\n",
       "      <td>1.0</td>\n",
       "      <td>13.6</td>\n",
       "    </tr>\n",
       "    <tr>\n",
       "      <th>2</th>\n",
       "      <td>0.0</td>\n",
       "      <td>13.1</td>\n",
       "    </tr>\n",
       "    <tr>\n",
       "      <th>3</th>\n",
       "      <td>0.0</td>\n",
       "      <td>10.4</td>\n",
       "    </tr>\n",
       "    <tr>\n",
       "      <th>4</th>\n",
       "      <td>0.0</td>\n",
       "      <td>13.7</td>\n",
       "    </tr>\n",
       "  </tbody>\n",
       "</table>\n",
       "</div>"
      ],
      "text/plain": [
       "   Embarazada  Nivel_de_hemoglobina\n",
       "0         0.0                  13.8\n",
       "1         1.0                  13.6\n",
       "2         0.0                  13.1\n",
       "3         0.0                  10.4\n",
       "4         0.0                  13.7"
      ]
     },
     "execution_count": 1,
     "metadata": {},
     "output_type": "execute_result"
    }
   ],
   "source": [
    "import pandas as pd\n",
    "\n",
    "df = pd.read_spss(\"HemoglobinayEmbarazo.sav\")\n",
    "df.drop(columns=[\"HHID\"], inplace=True)\n",
    "mapping = {\"Sí\": 1, \"No o no sabe\": 0}\n",
    "df.replace({\"HA54\": mapping}, inplace=True)\n",
    "df.rename(columns={\"HA54\": \"Embarazada\"}, inplace=True)\n",
    "df.head()"
   ]
  },
  {
   "cell_type": "markdown",
   "metadata": {},
   "source": [
    "1. Calcula estadísticos descriptivos del nivel de hemoglobina en la sangre de las encuestadas después de agrupar según la variable `Embarazada` (2 pts). \n",
    "> Sugerencia: Utiliza el método .groupby() antes de calcular los descriptivos."
   ]
  },
  {
   "cell_type": "code",
   "execution_count": 2,
   "metadata": {},
   "outputs": [
    {
     "data": {
      "text/html": [
       "<div>\n",
       "<style scoped>\n",
       "    .dataframe tbody tr th:only-of-type {\n",
       "        vertical-align: middle;\n",
       "    }\n",
       "\n",
       "    .dataframe tbody tr th {\n",
       "        vertical-align: top;\n",
       "    }\n",
       "\n",
       "    .dataframe thead tr th {\n",
       "        text-align: left;\n",
       "    }\n",
       "\n",
       "    .dataframe thead tr:last-of-type th {\n",
       "        text-align: right;\n",
       "    }\n",
       "</style>\n",
       "<table border=\"1\" class=\"dataframe\">\n",
       "  <thead>\n",
       "    <tr>\n",
       "      <th></th>\n",
       "      <th colspan=\"8\" halign=\"left\">Nivel_de_hemoglobina</th>\n",
       "    </tr>\n",
       "    <tr>\n",
       "      <th></th>\n",
       "      <th>count</th>\n",
       "      <th>mean</th>\n",
       "      <th>std</th>\n",
       "      <th>min</th>\n",
       "      <th>25%</th>\n",
       "      <th>50%</th>\n",
       "      <th>75%</th>\n",
       "      <th>max</th>\n",
       "    </tr>\n",
       "    <tr>\n",
       "      <th>Embarazada</th>\n",
       "      <th></th>\n",
       "      <th></th>\n",
       "      <th></th>\n",
       "      <th></th>\n",
       "      <th></th>\n",
       "      <th></th>\n",
       "      <th></th>\n",
       "      <th></th>\n",
       "    </tr>\n",
       "  </thead>\n",
       "  <tbody>\n",
       "    <tr>\n",
       "      <th>0.0</th>\n",
       "      <td>32834.0</td>\n",
       "      <td>12.854498</td>\n",
       "      <td>1.300518</td>\n",
       "      <td>4.3</td>\n",
       "      <td>12.2</td>\n",
       "      <td>12.9</td>\n",
       "      <td>13.7</td>\n",
       "      <td>20.8</td>\n",
       "    </tr>\n",
       "    <tr>\n",
       "      <th>1.0</th>\n",
       "      <td>1262.0</td>\n",
       "      <td>11.560539</td>\n",
       "      <td>1.320657</td>\n",
       "      <td>6.4</td>\n",
       "      <td>10.7</td>\n",
       "      <td>11.6</td>\n",
       "      <td>12.4</td>\n",
       "      <td>15.7</td>\n",
       "    </tr>\n",
       "  </tbody>\n",
       "</table>\n",
       "</div>"
      ],
      "text/plain": [
       "           Nivel_de_hemoglobina                                              \\\n",
       "                          count       mean       std  min   25%   50%   75%   \n",
       "Embarazada                                                                    \n",
       "0.0                     32834.0  12.854498  1.300518  4.3  12.2  12.9  13.7   \n",
       "1.0                      1262.0  11.560539  1.320657  6.4  10.7  11.6  12.4   \n",
       "\n",
       "                  \n",
       "             max  \n",
       "Embarazada        \n",
       "0.0         20.8  \n",
       "1.0         15.7  "
      ]
     },
     "execution_count": 2,
     "metadata": {},
     "output_type": "execute_result"
    }
   ],
   "source": [
    "df.groupby(\"Embarazada\").describe()"
   ]
  },
  {
   "cell_type": "markdown",
   "metadata": {},
   "source": [
    "2. Crea un violinplot que permita comparar los niveles de hemoglobina en la sangre de las encuestadas después de agrupar según la variable `Embarazada`. ¿Qué puedes comentar en relación a ambas distribuciones? Considera su forma y su tendencia central. (2 pts)"
   ]
  },
  {
   "cell_type": "code",
   "execution_count": 3,
   "metadata": {},
   "outputs": [
    {
     "data": {
      "image/png": "[encoded data removed]",
      "text/plain": [
       "<Figure size 432x288 with 1 Axes>"
      ]
     },
     "metadata": {
      "needs_background": "light"
     },
     "output_type": "display_data"
    }
   ],
   "source": [
    "import seaborn as sns\n",
    "import matplotlib.pyplot as plt\n",
    "\n",
    "sns.violinplot(x=\"Embarazada\", y=\"Nivel_de_hemoglobina\", data=df)\n",
    "plt.xlabel(\"Embarazada\", size=14)\n",
    "plt.xticks([0, 1], [\"No\", \"Sí\"])\n",
    "plt.ylabel(\"Nivel de hemoglobina (g/dl)\", size=14)\n",
    "plt.show()"
   ]
  },
  {
   "cell_type": "markdown",
   "metadata": {},
   "source": [
    "Las distribuciones son aproximadamente simétricas. Destaca que en el grupo de las no embarazadas, existen colas largas especialmente hacia los niveles bajos de hemoglobina. A nivel descriptivo, la mediana del nivel de hemoglobina de las embarazadas está por debajo de la mediana de las no embarazadas.   "
   ]
  },
  {
   "cell_type": "markdown",
   "metadata": {},
   "source": [
    "3. Asumiendo que ambas distribuciones son simétricas, utiliza una prueba inferencial para comparar el nivel de hemoglobina en la sangre de las encuestadas según su condición de embarazo. ¿Qué puedes concluir? (2 pts)."
   ]
  },
  {
   "cell_type": "code",
   "execution_count": 7,
   "metadata": {},
   "outputs": [
    {
     "data": {
      "text/html": [
       "<div>\n",
       "<style scoped>\n",
       "    .dataframe tbody tr th:only-of-type {\n",
       "        vertical-align: middle;\n",
       "    }\n",
       "\n",
       "    .dataframe tbody tr th {\n",
       "        vertical-align: top;\n",
       "    }\n",
       "\n",
       "    .dataframe thead th {\n",
       "        text-align: right;\n",
       "    }\n",
       "</style>\n",
       "<table border=\"1\" class=\"dataframe\">\n",
       "  <thead>\n",
       "    <tr style=\"text-align: right;\">\n",
       "      <th></th>\n",
       "      <th>T</th>\n",
       "      <th>dof</th>\n",
       "      <th>alternative</th>\n",
       "      <th>p-val</th>\n",
       "      <th>CI95%</th>\n",
       "      <th>cohen-d</th>\n",
       "      <th>BF10</th>\n",
       "      <th>power</th>\n",
       "    </tr>\n",
       "  </thead>\n",
       "  <tbody>\n",
       "    <tr>\n",
       "      <th>T-test</th>\n",
       "      <td>34.175419</td>\n",
       "      <td>1356.680524</td>\n",
       "      <td>two-sided</td>\n",
       "      <td>3.463017e-185</td>\n",
       "      <td>[1.22, 1.37]</td>\n",
       "      <td>0.994384</td>\n",
       "      <td>2.654e+247</td>\n",
       "      <td>1.0</td>\n",
       "    </tr>\n",
       "  </tbody>\n",
       "</table>\n",
       "</div>"
      ],
      "text/plain": [
       "                T          dof alternative          p-val         CI95%  \\\n",
       "T-test  34.175419  1356.680524   two-sided  3.463017e-185  [1.22, 1.37]   \n",
       "\n",
       "         cohen-d        BF10  power  \n",
       "T-test  0.994384  2.654e+247    1.0  "
      ]
     },
     "execution_count": 7,
     "metadata": {},
     "output_type": "execute_result"
    }
   ],
   "source": [
    "import pingouin as pg\n",
    "\n",
    "grupo1 = df.query(\"Embarazada == 0\")[\"Nivel_de_hemoglobina\"]\n",
    "grupo2 = df.query(\"Embarazada == 1\")[\"Nivel_de_hemoglobina\"]\n",
    "\n",
    "pg.ttest(grupo1, grupo2, paired=False, correction=True)"
   ]
  },
  {
   "cell_type": "markdown",
   "metadata": {},
   "source": [
    "Existen diferencias significativas en el nivel de hemoglobina de las encuestadas según su condición de embarazo. El grupo de embarazadas presenta niveles más bajos de hemoglobina que el grupo de no embarazadas.  "
   ]
  },
  {
   "cell_type": "markdown",
   "metadata": {},
   "source": [
    "## PARTE 2\n",
    "\n",
    "Continuamos trabajando con los datos de la misma encuesta. Para esta sección, vamos a considerar la edad de las mujeres para nuestros reportes."
   ]
  },
  {
   "cell_type": "code",
   "execution_count": 9,
   "metadata": {},
   "outputs": [
    {
     "data": {
      "text/html": [
       "<div>\n",
       "<style scoped>\n",
       "    .dataframe tbody tr th:only-of-type {\n",
       "        vertical-align: middle;\n",
       "    }\n",
       "\n",
       "    .dataframe tbody tr th {\n",
       "        vertical-align: top;\n",
       "    }\n",
       "\n",
       "    .dataframe thead th {\n",
       "        text-align: right;\n",
       "    }\n",
       "</style>\n",
       "<table border=\"1\" class=\"dataframe\">\n",
       "  <thead>\n",
       "    <tr style=\"text-align: right;\">\n",
       "      <th></th>\n",
       "      <th>Embarazada</th>\n",
       "      <th>Nivel_de_hemoglobina</th>\n",
       "      <th>Edad</th>\n",
       "    </tr>\n",
       "  </thead>\n",
       "  <tbody>\n",
       "    <tr>\n",
       "      <th>0</th>\n",
       "      <td>0.0</td>\n",
       "      <td>13.8</td>\n",
       "      <td>39.0</td>\n",
       "    </tr>\n",
       "    <tr>\n",
       "      <th>1</th>\n",
       "      <td>1.0</td>\n",
       "      <td>13.6</td>\n",
       "      <td>22.0</td>\n",
       "    </tr>\n",
       "    <tr>\n",
       "      <th>2</th>\n",
       "      <td>0.0</td>\n",
       "      <td>13.1</td>\n",
       "      <td>19.0</td>\n",
       "    </tr>\n",
       "    <tr>\n",
       "      <th>3</th>\n",
       "      <td>0.0</td>\n",
       "      <td>10.4</td>\n",
       "      <td>33.0</td>\n",
       "    </tr>\n",
       "    <tr>\n",
       "      <th>4</th>\n",
       "      <td>0.0</td>\n",
       "      <td>13.7</td>\n",
       "      <td>33.0</td>\n",
       "    </tr>\n",
       "  </tbody>\n",
       "</table>\n",
       "</div>"
      ],
      "text/plain": [
       "   Embarazada  Nivel_de_hemoglobina  Edad\n",
       "0         0.0                  13.8  39.0\n",
       "1         1.0                  13.6  22.0\n",
       "2         0.0                  13.1  19.0\n",
       "3         0.0                  10.4  33.0\n",
       "4         0.0                  13.7  33.0"
      ]
     },
     "execution_count": 9,
     "metadata": {},
     "output_type": "execute_result"
    }
   ],
   "source": [
    "df_2 = pd.read_spss(\"HemoglobinaEmbarazoyEdad.sav\")\n",
    "df_2.drop(columns=[\"HHID\"], inplace=True)\n",
    "mapping = {\"Sí\": 1, \"No o no sabe\": 0}\n",
    "df_2.replace({\"HA54\": mapping}, inplace=True)\n",
    "df_2.rename(columns={\"HA54\": \"Embarazada\"}, inplace=True)\n",
    "df_2.head()"
   ]
  },
  {
   "cell_type": "markdown",
   "metadata": {},
   "source": [
    "1. Nuevamente, reporta estadísticos descriptivos agrupando por la variable `Embaradaza`. ¿Qué puedes comentar en relación a la variable `Edad`? (2 pts)"
   ]
  },
  {
   "cell_type": "code",
   "execution_count": 10,
   "metadata": {},
   "outputs": [
    {
     "data": {
      "text/html": [
       "<div>\n",
       "<style scoped>\n",
       "    .dataframe tbody tr th:only-of-type {\n",
       "        vertical-align: middle;\n",
       "    }\n",
       "\n",
       "    .dataframe tbody tr th {\n",
       "        vertical-align: top;\n",
       "    }\n",
       "\n",
       "    .dataframe thead tr th {\n",
       "        text-align: left;\n",
       "    }\n",
       "\n",
       "    .dataframe thead tr:last-of-type th {\n",
       "        text-align: right;\n",
       "    }\n",
       "</style>\n",
       "<table border=\"1\" class=\"dataframe\">\n",
       "  <thead>\n",
       "    <tr>\n",
       "      <th></th>\n",
       "      <th colspan=\"8\" halign=\"left\">Nivel_de_hemoglobina</th>\n",
       "      <th colspan=\"8\" halign=\"left\">Edad</th>\n",
       "    </tr>\n",
       "    <tr>\n",
       "      <th></th>\n",
       "      <th>count</th>\n",
       "      <th>mean</th>\n",
       "      <th>std</th>\n",
       "      <th>min</th>\n",
       "      <th>25%</th>\n",
       "      <th>50%</th>\n",
       "      <th>75%</th>\n",
       "      <th>max</th>\n",
       "      <th>count</th>\n",
       "      <th>mean</th>\n",
       "      <th>std</th>\n",
       "      <th>min</th>\n",
       "      <th>25%</th>\n",
       "      <th>50%</th>\n",
       "      <th>75%</th>\n",
       "      <th>max</th>\n",
       "    </tr>\n",
       "    <tr>\n",
       "      <th>Embarazada</th>\n",
       "      <th></th>\n",
       "      <th></th>\n",
       "      <th></th>\n",
       "      <th></th>\n",
       "      <th></th>\n",
       "      <th></th>\n",
       "      <th></th>\n",
       "      <th></th>\n",
       "      <th></th>\n",
       "      <th></th>\n",
       "      <th></th>\n",
       "      <th></th>\n",
       "      <th></th>\n",
       "      <th></th>\n",
       "      <th></th>\n",
       "      <th></th>\n",
       "    </tr>\n",
       "  </thead>\n",
       "  <tbody>\n",
       "    <tr>\n",
       "      <th>0.0</th>\n",
       "      <td>32834.0</td>\n",
       "      <td>12.854498</td>\n",
       "      <td>1.300518</td>\n",
       "      <td>4.3</td>\n",
       "      <td>12.2</td>\n",
       "      <td>12.9</td>\n",
       "      <td>13.7</td>\n",
       "      <td>20.8</td>\n",
       "      <td>32835.0</td>\n",
       "      <td>30.427958</td>\n",
       "      <td>9.306043</td>\n",
       "      <td>15.0</td>\n",
       "      <td>23.0</td>\n",
       "      <td>30.0</td>\n",
       "      <td>38.0</td>\n",
       "      <td>49.0</td>\n",
       "    </tr>\n",
       "    <tr>\n",
       "      <th>1.0</th>\n",
       "      <td>1262.0</td>\n",
       "      <td>11.560539</td>\n",
       "      <td>1.320657</td>\n",
       "      <td>6.4</td>\n",
       "      <td>10.7</td>\n",
       "      <td>11.6</td>\n",
       "      <td>12.4</td>\n",
       "      <td>15.7</td>\n",
       "      <td>1262.0</td>\n",
       "      <td>26.965135</td>\n",
       "      <td>6.638416</td>\n",
       "      <td>15.0</td>\n",
       "      <td>22.0</td>\n",
       "      <td>27.0</td>\n",
       "      <td>32.0</td>\n",
       "      <td>45.0</td>\n",
       "    </tr>\n",
       "  </tbody>\n",
       "</table>\n",
       "</div>"
      ],
      "text/plain": [
       "           Nivel_de_hemoglobina                                              \\\n",
       "                          count       mean       std  min   25%   50%   75%   \n",
       "Embarazada                                                                    \n",
       "0.0                     32834.0  12.854498  1.300518  4.3  12.2  12.9  13.7   \n",
       "1.0                      1262.0  11.560539  1.320657  6.4  10.7  11.6  12.4   \n",
       "\n",
       "                     Edad                                                     \n",
       "             max    count       mean       std   min   25%   50%   75%   max  \n",
       "Embarazada                                                                    \n",
       "0.0         20.8  32835.0  30.427958  9.306043  15.0  23.0  30.0  38.0  49.0  \n",
       "1.0         15.7   1262.0  26.965135  6.638416  15.0  22.0  27.0  32.0  45.0  "
      ]
     },
     "execution_count": 10,
     "metadata": {},
     "output_type": "execute_result"
    }
   ],
   "source": [
    "df_2.groupby(\"Embarazada\").describe()"
   ]
  },
  {
   "cell_type": "markdown",
   "metadata": {},
   "source": [
    "A nivel descriptivo, el grupo de no embarazadas presenta un promedio de edad menor al grupo de embarazadas. Además, puede apreciarse una mayor dispersión en la edad del grupo de no embarazadas. Por último, la cantidad de mujeres en cada grupo difiere considerablemente. "
   ]
  },
  {
   "cell_type": "markdown",
   "metadata": {},
   "source": [
    "2. Crea una visualización que permita comparar ambos grupos en función a su intervalo de confianza al 95%. Asumiendo que las distribuciones son simétricas, ¿es razonable pensar que no existe una diferencia significativa entre ambos grupos? Justifica tu respuesta (2 pts)."
   ]
  },
  {
   "cell_type": "code",
   "execution_count": 11,
   "metadata": {},
   "outputs": [
    {
     "data": {
      "image/png": "[encoded data removed]",
      "text/plain": [
       "<Figure size 432x288 with 1 Axes>"
      ]
     },
     "metadata": {
      "needs_background": "light"
     },
     "output_type": "display_data"
    }
   ],
   "source": [
    "sns.pointplot(x=\"Embarazada\", y=\"Edad\", data=df_2, ci=95, join=False)\n",
    "plt.xlabel(\"Embarazada\", size=14)\n",
    "plt.xticks([0, 1], [\"No\", \"Sí\"])\n",
    "plt.ylabel(\"Edad\", size=14)\n",
    "plt.show()"
   ]
  },
  {
   "cell_type": "markdown",
   "metadata": {},
   "source": [
    "No es razonable pensar que no habrá diferencias significativas entre los grupos. Esto debido a que los intervalos de confianza calculados no se superponen entre sí, lo cual indica que a largo plazo el 95% de las veces los promedios de edad de ambos grupos serán diferentes entre sí. "
   ]
  },
  {
   "cell_type": "markdown",
   "metadata": {},
   "source": [
    "3. Emplea una prueba inferencial para comparar ambos grupos. Adicionalmente, calcula el tamaño del efecto para esta comparación. ¿Qué puedes concluir? (2 pts)"
   ]
  },
  {
   "cell_type": "code",
   "execution_count": 14,
   "metadata": {},
   "outputs": [
    {
     "data": {
      "text/html": [
       "<div>\n",
       "<style scoped>\n",
       "    .dataframe tbody tr th:only-of-type {\n",
       "        vertical-align: middle;\n",
       "    }\n",
       "\n",
       "    .dataframe tbody tr th {\n",
       "        vertical-align: top;\n",
       "    }\n",
       "\n",
       "    .dataframe thead th {\n",
       "        text-align: right;\n",
       "    }\n",
       "</style>\n",
       "<table border=\"1\" class=\"dataframe\">\n",
       "  <thead>\n",
       "    <tr style=\"text-align: right;\">\n",
       "      <th></th>\n",
       "      <th>T</th>\n",
       "      <th>dof</th>\n",
       "      <th>alternative</th>\n",
       "      <th>p-val</th>\n",
       "      <th>CI95%</th>\n",
       "      <th>cohen-d</th>\n",
       "      <th>BF10</th>\n",
       "      <th>power</th>\n",
       "    </tr>\n",
       "  </thead>\n",
       "  <tbody>\n",
       "    <tr>\n",
       "      <th>T-test</th>\n",
       "      <td>17.868337</td>\n",
       "      <td>1458.362751</td>\n",
       "      <td>two-sided</td>\n",
       "      <td>9.945979e-65</td>\n",
       "      <td>[3.08, 3.84]</td>\n",
       "      <td>0.375531</td>\n",
       "      <td>2.17e+67</td>\n",
       "      <td>1.0</td>\n",
       "    </tr>\n",
       "  </tbody>\n",
       "</table>\n",
       "</div>"
      ],
      "text/plain": [
       "                T          dof alternative         p-val         CI95%  \\\n",
       "T-test  17.868337  1458.362751   two-sided  9.945979e-65  [3.08, 3.84]   \n",
       "\n",
       "         cohen-d      BF10  power  \n",
       "T-test  0.375531  2.17e+67    1.0  "
      ]
     },
     "execution_count": 14,
     "metadata": {},
     "output_type": "execute_result"
    }
   ],
   "source": [
    "g1 = df_2.query(\"Embarazada == 0\")[\"Edad\"]\n",
    "g2 = df_2.query(\"Embarazada == 1\")[\"Edad\"]\n",
    "\n",
    "pg.ttest(g1, g2, paired=False, correction=True)"
   ]
  },
  {
   "cell_type": "markdown",
   "metadata": {},
   "source": [
    "La prueba inferencial nos permite concluir que existen diferencias significativas entre ambos grupos. Sin embargo, la D de Cohen nos indica que la magnitud de esta diferencia es pequeña. "
   ]
  }
 ],
 "metadata": {
  "kernelspec": {
   "display_name": "Python 3.7.13 ('stats')",
   "language": "python",
   "name": "python3"
  },
  "language_info": {
   "codemirror_mode": {
    "name": "ipython",
    "version": 3
   },
   "file_extension": ".py",
   "mimetype": "text/x-python",
   "name": "python",
   "nbconvert_exporter": "python",
   "pygments_lexer": "ipython3",
   "version": "3.7.14"
  },
  "orig_nbformat": 4,
  "vscode": {
   "interpreter": {
    "hash": "8df12303a5084d795bcef355ea103bbaab8787933417cf27c2f95a588cdf8ee7"
   }
  }
 },
 "nbformat": 4,
 "nbformat_minor": 2
}
