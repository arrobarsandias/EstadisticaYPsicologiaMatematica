{
 "cells": [
  {
   "cell_type": "markdown",
   "metadata": {
    "slideshow": {
     "slide_type": "slide"
    }
   },
   "source": [
    "# Introducción a los modelos de ecuaciones estructurales\n",
    "\n",
    ">Este tutorial es una selección y adaptación al español del libro [Multivariate Data Analysis](https://www.cengage.co.uk/books/9781473756540/) de Joseph F. Hair et al."
   ]
  },
  {
   "cell_type": "markdown",
   "metadata": {
    "slideshow": {
     "slide_type": "slide"
    }
   },
   "source": [
    "## Nociones previas\n",
    "\n",
    "### ¿Qué es un modelo de ecuaciones estructurales (SEM)?\n",
    "\n",
    "En las secciones anteriores, cada técnica multivariante se ha clasificado como técnica de interdependencia o dependencia. Se puede pensar en SEM como una **combinación única de** ambos tipos de técnicas, porque la base de SEM radica en **dos técnicas multivariadas familiares: análisis factorial y análisis de regresión múltiple**."
   ]
  },
  {
   "cell_type": "markdown",
   "metadata": {
    "slideshow": {
     "slide_type": "subslide"
    }
   },
   "source": [
    "El SEM examina la **estructura** de las interrelaciones expresadas en una serie de ecuaciones, similar a una **serie de ecuaciones de regresión múltiple**. \n",
    "- Estas ecuaciones representan todas las relaciones entre constructos (las variables dependientes e independientes) y las variables involucradas en el análisis. \n",
    "- Igual de importante, una estructura teórica especifica qué variables y constructos probablemente no estén relacionados entre sí. \n",
    "\n",
    ">Los constructos son factores latentes o no observables representados por múltiples variables."
   ]
  },
  {
   "cell_type": "markdown",
   "metadata": {
    "slideshow": {
     "slide_type": "subslide"
    }
   },
   "source": [
    "Los modelos SEM se distinguen de los modelos de regresión tradicionales en que tienden a involucrar:\n",
    "- **Estimación simultánea** de relaciones de dependencia múltiples e interrelacionadas.\n",
    "- Capacidad para representar conceptos no observados en estas relaciones y tener en cuenta el **error de medición** en el proceso de estimación.\n",
    "- Definición de un **modelo teórico** para explicar todo el conjunto de relaciones.\n",
    "- Supuestos de sobreidentificación (las variables se explican mediante un conjunto único de variables que no incluye todas las relaciones posibles)."
   ]
  },
  {
   "cell_type": "markdown",
   "metadata": {
    "slideshow": {
     "slide_type": "subslide"
    }
   },
   "source": [
    "Un modelo convencional de SEM consta en realidad de dos teorías: \n",
    "- Modelo de medición (representa cómo las variables medidas se unen para representar constructos)\n",
    "- Modelo estructural (muestra cómo los constructos se asocian entre sí).\n",
    "\n",
    "> No se debe desarrollar ningún modelo SEM sin una teoría subyacente plausible."
   ]
  },
  {
   "cell_type": "markdown",
   "metadata": {
    "slideshow": {
     "slide_type": "slide"
    }
   },
   "source": [
    "### Diagramas de ruta\n",
    "\n",
    "Un modelo SEM completo que consta de modelos estructurales y de medición puede ser bastante complejo. \n",
    "\n",
    "Aunque todas las relaciones se pueden expresar en notación de análisis de ruta (que veremos más adelante), muchos investigadores encuentran más conveniente **representar un modelo en una forma visual, conocida como diagrama de ruta**."
   ]
  },
  {
   "cell_type": "markdown",
   "metadata": {
    "slideshow": {
     "slide_type": "subslide"
    }
   },
   "source": [
    "<p align=\"center\">\n",
    "  <img width=\"900\" src=\"https://github.com/renatoparedes/EstadisticaYPsicologiaMatematica/raw/main/SEM/semdiagram1.png\" alt=\"SEM Diagram 1\">\n",
    "</p>"
   ]
  },
  {
   "cell_type": "markdown",
   "metadata": {
    "slideshow": {
     "slide_type": "subslide"
    }
   },
   "source": [
    "- Los **constructos** generalmente se representan mediante **óvalos o círculos**, y las **variables medidas** se representan mediante **cuadrados o rectángulos**.\n",
    "- Para ayudar a distinguir los indicadores de constructos endógenos frente a exógenos, las variables medidas (indicadores) para **constructos exógenos se suelen denominar variables X**, mientras que los indicadores de **constructos endógenos suelen denominarse variables Y**.\n",
    ">Los constructos exógenos son el equivalente latente, de múltiples elementos, de las variables independientes. Los constructos endógenos son el equivalente latente de múltiples elementos de las variables dependientes.\n",
    "\n",
    "- Las variables medidas X o Y se asocian con sus respectivos constructos mediante una flecha recta de una sola cabeza desde las construcciones hasta la variable medida.\n",
    "- Las **relaciones de dependencia** se representan con **flechas direccionales** de una sola cabeza.\n",
    "- Las **relaciones de correlación** (covarianza) se representan con **flechas de dos puntas**."
   ]
  },
  {
   "cell_type": "markdown",
   "metadata": {
    "slideshow": {
     "slide_type": "subslide"
    }
   },
   "source": [
    "En este tipo de diagramas podemos representar el modelo de medición y el modelo estructural simultáneamente:\n",
    "\n",
    "<p align=\"center\">\n",
    "  <img width=\"550\" src=\"https://github.com/renatoparedes/EstadisticaYPsicologiaMatematica/raw/main/SEM/semdiagram2.png\" alt=\"SEM Diagram 2\">\n",
    "</p>"
   ]
  },
  {
   "cell_type": "markdown",
   "metadata": {
    "slideshow": {
     "slide_type": "subslide"
    }
   },
   "source": [
    "En contraste con la regresión u otras técnicas de dependencia que buscan predecir relaciones en una sola ecuación, el objetivo estadístico de la SEM basada en covarianza es **reproducir la matriz de covarianza observada de todas las variables medidas necesarias para probar una teoría**.\n",
    "\n",
    "Debido a que el **enfoque está en todo el modelo teórico**, la SEM se basa en la matriz de covarianza observada entre las variables medidas, que contiene información completa sobre cómo todas las variables se corresponden entre sí. \n",
    "\n",
    "**El ajuste del modelo está determinado por la similitud resultante entre la matriz de covarianza observada y una matriz de covarianza estimada producida a partir de las ecuaciones que representan el modelo teórico propuesto**. \n",
    "\n",
    "Si la teoría propuesta crea ecuaciones que reproducen con precisión la correspondencia entre las variables medidas (matriz de covarianza observada), entonces podemos decir que la teoría se ajusta a la realidad."
   ]
  },
  {
   "cell_type": "markdown",
   "metadata": {
    "slideshow": {
     "slide_type": "slide"
    }
   },
   "source": [
    "### Causalidad\n",
    "\n",
    "La inferencia causal es el tipo de **inferencia más fuerte que puede hacer un investigador** al momento de aplicar estadísticas multivariadas. Esta implica **proponer que una relación de dependencia en realidad se basa en la causalidad**. Una inferencia causal implica una relación hipotética de causa y efecto. "
   ]
  },
  {
   "cell_type": "markdown",
   "metadata": {
    "slideshow": {
     "slide_type": "subslide"
    }
   },
   "source": [
    "Veamos algunos ejemplos de los tipos de relaciones causales que puede especifica un modelo SEM:\n",
    "\n",
    "<p align=\"center\">\n",
    "  <img width=\"700\" src=\"https://github.com/renatoparedes/EstadisticaYPsicologiaMatematica/raw/main/SEM/semdiagram3.png\" alt=\"SEM Diagram 3\">\n",
    "</p>"
   ]
  },
  {
   "cell_type": "markdown",
   "metadata": {
    "slideshow": {
     "slide_type": "subslide"
    }
   },
   "source": [
    "Los modelos SEM se utilizan normalmente **en situaciones no experimentales** en las que los constructos exógenos no son variables controladas experimentalmente. Esto limita la capacidad del investigador para extraer inferencias causales y **el SEM por sí solo no puede establecer la causalidad**. "
   ]
  },
  {
   "cell_type": "markdown",
   "metadata": {
    "slideshow": {
     "slide_type": "subslide"
    }
   },
   "source": [
    "Sin embargo, **SEM puede tratar las relaciones de dependencia como causales si cuatro condiciones se reflejan en el modelo SEM**:\n",
    "\n",
    "- Covarianza entre causa y efecto\n",
    "- La causa debe ocurrir antes que el efecto.\n",
    "- Debe existir una asociación no espuria entre la causa y el efecto.\n",
    "- Existe apoyo teórico para la relación entre causa y efecto."
   ]
  },
  {
   "cell_type": "markdown",
   "metadata": {
    "slideshow": {
     "slide_type": "subslide"
    }
   },
   "source": [
    "SEM puede proporcionar evidencia de covariación sistemática y puede ayudar a demostrar que una relación no es falsa. Si los datos son longitudinales, SEM también puede ayudar a establecer la secuencia de relaciones. Sin embargo, **le corresponde al investigador establecer un soporte teórico**. \n",
    "\n",
    "Por lo tanto, SEM es útil para establecer una inferencia causal, pero no puede hacerlo solo."
   ]
  },
  {
   "cell_type": "markdown",
   "metadata": {
    "slideshow": {
     "slide_type": "slide"
    }
   },
   "source": [
    "## Definición de constructos individuales\n",
    "\n",
    "El proceso comienza con una buena **definición teórica de los constructos involucrados**. Esta definición proporciona la base para seleccionar o diseñar elementos de indicadores individuales. Un investigador **operacionaliza un constructo latente seleccionando sus elementos de escala de medición y el tipo de escala**.\n",
    "\n",
    "Cuando un modelo tiene escalas tomadas o adaptadas de diversas fuentes que informan sobre otras investigaciones, se recomienda una prueba previa con encuestados similares a los de la población que se va a estudiar para evaluar la idoneidad de los elementos."
   ]
  },
  {
   "cell_type": "markdown",
   "metadata": {
    "slideshow": {
     "slide_type": "subslide"
    }
   },
   "source": [
    "## Especificación del modelo de medición\n",
    "\n",
    "En esta etapa **se define cada constructo latente** a incluir en el modelo y **se asignan las variables (ítems) medidas a los constructos** latentes correspondientes.\n",
    "\n",
    "Como se discutió anteriormente, hay tres **tipos de relaciones**: \n",
    "- Relaciones de medición entre items y constructos; \n",
    "- Relaciones estructurales entre constructos; y \n",
    "- Relaciones de correlación entre constructos. \n",
    "\n",
    "También hay **dos tipos de términos de error**: uno relacionado con indicadores individuales y el otro con constructos endógenos."
   ]
  },
  {
   "cell_type": "markdown",
   "metadata": {
    "slideshow": {
     "slide_type": "subslide"
    }
   },
   "source": [
    "Para especificar un modelo SEM se utiliza una notación especial que se resume en la siguiente tabla:\n",
    "\n",
    "<p align=\"center\">\n",
    "  <img width=\"1200\" src=\"https://github.com/renatoparedes/EstadisticaYPsicologiaMatematica/raw/main/SEM/semnotation.png\" alt=\"SEM Notation\">\n",
    "</p>"
   ]
  },
  {
   "cell_type": "markdown",
   "metadata": {
    "slideshow": {
     "slide_type": "subslide"
    }
   },
   "source": [
    "Partamos de un ejemplo:"
   ]
  },
  {
   "cell_type": "code",
   "execution_count": 13,
   "metadata": {},
   "outputs": [
    {
     "name": "stdout",
     "output_type": "stream",
     "text": [
      "Requirement already satisfied: pyreadstat in /home/renato/.virtualenvs/statspsych/lib/python3.8/site-packages (1.1.2)\n",
      "Requirement already satisfied: pandas>0.24.0 in /home/renato/.virtualenvs/statspsych/lib/python3.8/site-packages (from pyreadstat) (1.3.3)\n",
      "Requirement already satisfied: python-dateutil>=2.7.3 in /home/renato/.virtualenvs/statspsych/lib/python3.8/site-packages (from pandas>0.24.0->pyreadstat) (2.8.2)\n",
      "Requirement already satisfied: pytz>=2017.3 in /home/renato/.virtualenvs/statspsych/lib/python3.8/site-packages (from pandas>0.24.0->pyreadstat) (2021.1)\n",
      "Requirement already satisfied: numpy>=1.17.3 in /home/renato/.virtualenvs/statspsych/lib/python3.8/site-packages (from pandas>0.24.0->pyreadstat) (1.21.2)\n",
      "Requirement already satisfied: six>=1.5 in /home/renato/.virtualenvs/statspsych/lib/python3.8/site-packages (from python-dateutil>=2.7.3->pandas>0.24.0->pyreadstat) (1.16.0)\n",
      "Requirement already satisfied: semopy in /home/renato/.virtualenvs/statspsych/lib/python3.8/site-packages (2.3.9)\n",
      "Requirement already satisfied: sklearn in /home/renato/.virtualenvs/statspsych/lib/python3.8/site-packages (from semopy) (0.0)\n",
      "Requirement already satisfied: numpy in /home/renato/.virtualenvs/statspsych/lib/python3.8/site-packages (from semopy) (1.21.2)\n",
      "Requirement already satisfied: scipy in /home/renato/.virtualenvs/statspsych/lib/python3.8/site-packages (from semopy) (1.7.1)\n",
      "Requirement already satisfied: sympy in /home/renato/.virtualenvs/statspsych/lib/python3.8/site-packages (from semopy) (1.9)\n",
      "Requirement already satisfied: pandas in /home/renato/.virtualenvs/statspsych/lib/python3.8/site-packages (from semopy) (1.3.3)\n",
      "Requirement already satisfied: statsmodels in /home/renato/.virtualenvs/statspsych/lib/python3.8/site-packages (from semopy) (0.12.2)\n",
      "Requirement already satisfied: scikit-learn in /home/renato/.virtualenvs/statspsych/lib/python3.8/site-packages (from sklearn->semopy) (0.24.2)\n",
      "Requirement already satisfied: mpmath>=0.19 in /home/renato/.virtualenvs/statspsych/lib/python3.8/site-packages (from sympy->semopy) (1.2.1)\n",
      "Requirement already satisfied: python-dateutil>=2.7.3 in /home/renato/.virtualenvs/statspsych/lib/python3.8/site-packages (from pandas->semopy) (2.8.2)\n",
      "Requirement already satisfied: pytz>=2017.3 in /home/renato/.virtualenvs/statspsych/lib/python3.8/site-packages (from pandas->semopy) (2021.1)\n",
      "Requirement already satisfied: patsy>=0.5 in /home/renato/.virtualenvs/statspsych/lib/python3.8/site-packages (from statsmodels->semopy) (0.5.1)\n",
      "Requirement already satisfied: joblib>=0.11 in /home/renato/.virtualenvs/statspsych/lib/python3.8/site-packages (from scikit-learn->sklearn->semopy) (1.0.1)\n",
      "Requirement already satisfied: threadpoolctl>=2.0.0 in /home/renato/.virtualenvs/statspsych/lib/python3.8/site-packages (from scikit-learn->sklearn->semopy) (2.2.0)\n",
      "Requirement already satisfied: six>=1.5 in /home/renato/.virtualenvs/statspsych/lib/python3.8/site-packages (from python-dateutil>=2.7.3->pandas->semopy) (1.16.0)\n"
     ]
    }
   ],
   "source": [
    "!pip install pyreadstat\n",
    "!pip install semopy"
   ]
  },
  {
   "cell_type": "code",
   "execution_count": 59,
   "metadata": {
    "hideCode": true,
    "slideshow": {
     "slide_type": "fragment"
    }
   },
   "outputs": [
    {
     "data": {
      "text/html": [
       "<div>\n",
       "<style scoped>\n",
       "    .dataframe tbody tr th:only-of-type {\n",
       "        vertical-align: middle;\n",
       "    }\n",
       "\n",
       "    .dataframe tbody tr th {\n",
       "        vertical-align: top;\n",
       "    }\n",
       "\n",
       "    .dataframe thead th {\n",
       "        text-align: right;\n",
       "    }\n",
       "</style>\n",
       "<table border=\"1\" class=\"dataframe\">\n",
       "  <thead>\n",
       "    <tr style=\"text-align: right;\">\n",
       "      <th></th>\n",
       "      <th>y1</th>\n",
       "      <th>y2</th>\n",
       "      <th>y3</th>\n",
       "      <th>y4</th>\n",
       "      <th>y5</th>\n",
       "      <th>y6</th>\n",
       "      <th>y7</th>\n",
       "      <th>y8</th>\n",
       "      <th>x1</th>\n",
       "      <th>x2</th>\n",
       "      <th>x3</th>\n",
       "    </tr>\n",
       "  </thead>\n",
       "  <tbody>\n",
       "    <tr>\n",
       "      <th>1</th>\n",
       "      <td>2.50</td>\n",
       "      <td>0.000000</td>\n",
       "      <td>3.333333</td>\n",
       "      <td>0.000000</td>\n",
       "      <td>1.250000</td>\n",
       "      <td>0.000000</td>\n",
       "      <td>3.726360</td>\n",
       "      <td>3.333333</td>\n",
       "      <td>4.442651</td>\n",
       "      <td>3.637586</td>\n",
       "      <td>2.557615</td>\n",
       "    </tr>\n",
       "    <tr>\n",
       "      <th>2</th>\n",
       "      <td>1.25</td>\n",
       "      <td>0.000000</td>\n",
       "      <td>3.333333</td>\n",
       "      <td>0.000000</td>\n",
       "      <td>6.250000</td>\n",
       "      <td>1.100000</td>\n",
       "      <td>6.666666</td>\n",
       "      <td>0.736999</td>\n",
       "      <td>5.384495</td>\n",
       "      <td>5.062595</td>\n",
       "      <td>3.568079</td>\n",
       "    </tr>\n",
       "    <tr>\n",
       "      <th>3</th>\n",
       "      <td>7.50</td>\n",
       "      <td>8.800000</td>\n",
       "      <td>9.999998</td>\n",
       "      <td>9.199991</td>\n",
       "      <td>8.750000</td>\n",
       "      <td>8.094061</td>\n",
       "      <td>9.999998</td>\n",
       "      <td>8.211809</td>\n",
       "      <td>5.961005</td>\n",
       "      <td>6.255750</td>\n",
       "      <td>5.224433</td>\n",
       "    </tr>\n",
       "    <tr>\n",
       "      <th>4</th>\n",
       "      <td>8.90</td>\n",
       "      <td>8.800000</td>\n",
       "      <td>9.999998</td>\n",
       "      <td>9.199991</td>\n",
       "      <td>8.907948</td>\n",
       "      <td>8.127979</td>\n",
       "      <td>9.999998</td>\n",
       "      <td>4.615086</td>\n",
       "      <td>6.285998</td>\n",
       "      <td>7.567863</td>\n",
       "      <td>6.267495</td>\n",
       "    </tr>\n",
       "    <tr>\n",
       "      <th>5</th>\n",
       "      <td>10.00</td>\n",
       "      <td>3.333333</td>\n",
       "      <td>9.999998</td>\n",
       "      <td>6.666666</td>\n",
       "      <td>7.500000</td>\n",
       "      <td>3.333333</td>\n",
       "      <td>9.999998</td>\n",
       "      <td>6.666666</td>\n",
       "      <td>5.863631</td>\n",
       "      <td>6.818924</td>\n",
       "      <td>4.573679</td>\n",
       "    </tr>\n",
       "    <tr>\n",
       "      <th>...</th>\n",
       "      <td>...</td>\n",
       "      <td>...</td>\n",
       "      <td>...</td>\n",
       "      <td>...</td>\n",
       "      <td>...</td>\n",
       "      <td>...</td>\n",
       "      <td>...</td>\n",
       "      <td>...</td>\n",
       "      <td>...</td>\n",
       "      <td>...</td>\n",
       "      <td>...</td>\n",
       "    </tr>\n",
       "    <tr>\n",
       "      <th>71</th>\n",
       "      <td>5.40</td>\n",
       "      <td>9.999998</td>\n",
       "      <td>6.666666</td>\n",
       "      <td>3.333333</td>\n",
       "      <td>3.750000</td>\n",
       "      <td>6.666666</td>\n",
       "      <td>6.666666</td>\n",
       "      <td>1.485166</td>\n",
       "      <td>4.477337</td>\n",
       "      <td>3.091042</td>\n",
       "      <td>1.987909</td>\n",
       "    </tr>\n",
       "    <tr>\n",
       "      <th>72</th>\n",
       "      <td>7.50</td>\n",
       "      <td>8.800000</td>\n",
       "      <td>9.999998</td>\n",
       "      <td>6.066666</td>\n",
       "      <td>7.500000</td>\n",
       "      <td>6.666666</td>\n",
       "      <td>9.999998</td>\n",
       "      <td>6.666666</td>\n",
       "      <td>5.337538</td>\n",
       "      <td>5.631212</td>\n",
       "      <td>3.491004</td>\n",
       "    </tr>\n",
       "    <tr>\n",
       "      <th>73</th>\n",
       "      <td>7.50</td>\n",
       "      <td>7.000000</td>\n",
       "      <td>9.999998</td>\n",
       "      <td>6.852998</td>\n",
       "      <td>7.500000</td>\n",
       "      <td>6.348340</td>\n",
       "      <td>6.666666</td>\n",
       "      <td>7.508044</td>\n",
       "      <td>6.129050</td>\n",
       "      <td>6.403574</td>\n",
       "      <td>5.001796</td>\n",
       "    </tr>\n",
       "    <tr>\n",
       "      <th>74</th>\n",
       "      <td>10.00</td>\n",
       "      <td>6.666666</td>\n",
       "      <td>9.999998</td>\n",
       "      <td>10.000000</td>\n",
       "      <td>10.000000</td>\n",
       "      <td>6.666666</td>\n",
       "      <td>9.999998</td>\n",
       "      <td>10.000000</td>\n",
       "      <td>5.003946</td>\n",
       "      <td>4.962845</td>\n",
       "      <td>3.976994</td>\n",
       "    </tr>\n",
       "    <tr>\n",
       "      <th>75</th>\n",
       "      <td>3.75</td>\n",
       "      <td>3.333333</td>\n",
       "      <td>0.000000</td>\n",
       "      <td>0.000000</td>\n",
       "      <td>1.250000</td>\n",
       "      <td>3.333333</td>\n",
       "      <td>0.000000</td>\n",
       "      <td>0.000000</td>\n",
       "      <td>4.488636</td>\n",
       "      <td>4.897840</td>\n",
       "      <td>2.867566</td>\n",
       "    </tr>\n",
       "  </tbody>\n",
       "</table>\n",
       "<p>75 rows × 11 columns</p>\n",
       "</div>"
      ],
      "text/plain": [
       "       y1        y2        y3         y4         y5        y6        y7  \\\n",
       "1    2.50  0.000000  3.333333   0.000000   1.250000  0.000000  3.726360   \n",
       "2    1.25  0.000000  3.333333   0.000000   6.250000  1.100000  6.666666   \n",
       "3    7.50  8.800000  9.999998   9.199991   8.750000  8.094061  9.999998   \n",
       "4    8.90  8.800000  9.999998   9.199991   8.907948  8.127979  9.999998   \n",
       "5   10.00  3.333333  9.999998   6.666666   7.500000  3.333333  9.999998   \n",
       "..    ...       ...       ...        ...        ...       ...       ...   \n",
       "71   5.40  9.999998  6.666666   3.333333   3.750000  6.666666  6.666666   \n",
       "72   7.50  8.800000  9.999998   6.066666   7.500000  6.666666  9.999998   \n",
       "73   7.50  7.000000  9.999998   6.852998   7.500000  6.348340  6.666666   \n",
       "74  10.00  6.666666  9.999998  10.000000  10.000000  6.666666  9.999998   \n",
       "75   3.75  3.333333  0.000000   0.000000   1.250000  3.333333  0.000000   \n",
       "\n",
       "           y8        x1        x2        x3  \n",
       "1    3.333333  4.442651  3.637586  2.557615  \n",
       "2    0.736999  5.384495  5.062595  3.568079  \n",
       "3    8.211809  5.961005  6.255750  5.224433  \n",
       "4    4.615086  6.285998  7.567863  6.267495  \n",
       "5    6.666666  5.863631  6.818924  4.573679  \n",
       "..        ...       ...       ...       ...  \n",
       "71   1.485166  4.477337  3.091042  1.987909  \n",
       "72   6.666666  5.337538  5.631212  3.491004  \n",
       "73   7.508044  6.129050  6.403574  5.001796  \n",
       "74  10.000000  5.003946  4.962845  3.976994  \n",
       "75   0.000000  4.488636  4.897840  2.867566  \n",
       "\n",
       "[75 rows x 11 columns]"
      ]
     },
     "execution_count": 59,
     "metadata": {},
     "output_type": "execute_result"
    }
   ],
   "source": [
    "import pandas as pd\n",
    "from semopy.examples import political_democracy\n",
    "\n",
    "df = political_democracy.get_data()\n",
    "df"
   ]
  },
  {
   "cell_type": "code",
   "execution_count": 60,
   "metadata": {
    "hideCode": true,
    "slideshow": {
     "slide_type": "subslide"
    }
   },
   "outputs": [
    {
     "data": {
      "image/svg+xml": "<?xml version=\"1.0\" encoding=\"UTF-8\" standalone=\"no\"?>\n<!DOCTYPE svg PUBLIC \"-//W3C//DTD SVG 1.1//EN\"\n \"http://www.w3.org/Graphics/SVG/1.1/DTD/svg11.dtd\">\n<!-- Generated by graphviz version 2.43.0 (0)\n -->\n<!-- Title: G Pages: 1 -->\n<svg width=\"782pt\" height=\"150pt\"\n viewBox=\"0.00 0.00 782.00 150.19\" xmlns=\"http://www.w3.org/2000/svg\" xmlns:xlink=\"http://www.w3.org/1999/xlink\">\n<g id=\"graph0\" class=\"graph\" transform=\"scale(1 1) rotate(0) translate(4 146.19)\">\n<title>G</title>\n<polygon fill=\"white\" stroke=\"transparent\" points=\"-4,4 -4,-146.19 778,-146.19 778,4 -4,4\"/>\n<!-- dem65 -->\n<g id=\"node1\" class=\"node\">\n<title>dem65</title>\n<ellipse fill=\"#cae6df\" stroke=\"black\" cx=\"135\" cy=\"-107.1\" rx=\"35.19\" ry=\"35.19\"/>\n<text text-anchor=\"middle\" x=\"135\" y=\"-103.4\" font-family=\"Times,serif\" font-size=\"14.00\">dem65</text>\n</g>\n<!-- y5 -->\n<g id=\"node11\" class=\"node\">\n<title>y5</title>\n<polygon fill=\"none\" stroke=\"black\" points=\"54,-36 0,-36 0,0 54,0 54,-36\"/>\n<text text-anchor=\"middle\" x=\"27\" y=\"-14.3\" font-family=\"Times,serif\" font-size=\"14.00\">y5</text>\n</g>\n<!-- dem65&#45;&gt;y5 -->\n<g id=\"edge8\" class=\"edge\">\n<title>dem65&#45;&gt;y5</title>\n<path fill=\"none\" stroke=\"black\" d=\"M108.03,-84.34C92.28,-71.64 72.4,-55.61 56.27,-42.6\"/>\n<polygon fill=\"black\" stroke=\"black\" points=\"58.2,-39.67 48.22,-36.11 53.81,-45.12 58.2,-39.67\"/>\n</g>\n<!-- y6 -->\n<g id=\"node12\" class=\"node\">\n<title>y6</title>\n<polygon fill=\"none\" stroke=\"black\" points=\"126,-36 72,-36 72,0 126,0 126,-36\"/>\n<text text-anchor=\"middle\" x=\"99\" y=\"-14.3\" font-family=\"Times,serif\" font-size=\"14.00\">y6</text>\n</g>\n<!-- dem65&#45;&gt;y6 -->\n<g id=\"edge9\" class=\"edge\">\n<title>dem65&#45;&gt;y6</title>\n<path fill=\"none\" stroke=\"black\" d=\"M121.8,-74.16C117.91,-64.75 113.7,-54.55 109.96,-45.52\"/>\n<polygon fill=\"black\" stroke=\"black\" points=\"113.19,-44.17 106.14,-36.27 106.72,-46.84 113.19,-44.17\"/>\n</g>\n<!-- y7 -->\n<g id=\"node13\" class=\"node\">\n<title>y7</title>\n<polygon fill=\"none\" stroke=\"black\" points=\"198,-36 144,-36 144,0 198,0 198,-36\"/>\n<text text-anchor=\"middle\" x=\"171\" y=\"-14.3\" font-family=\"Times,serif\" font-size=\"14.00\">y7</text>\n</g>\n<!-- dem65&#45;&gt;y7 -->\n<g id=\"edge10\" class=\"edge\">\n<title>dem65&#45;&gt;y7</title>\n<path fill=\"none\" stroke=\"black\" d=\"M148.2,-74.16C152.09,-64.75 156.3,-54.55 160.04,-45.52\"/>\n<polygon fill=\"black\" stroke=\"black\" points=\"163.28,-46.84 163.86,-36.27 156.81,-44.17 163.28,-46.84\"/>\n</g>\n<!-- y8 -->\n<g id=\"node14\" class=\"node\">\n<title>y8</title>\n<polygon fill=\"none\" stroke=\"black\" points=\"270,-36 216,-36 216,0 270,0 270,-36\"/>\n<text text-anchor=\"middle\" x=\"243\" y=\"-14.3\" font-family=\"Times,serif\" font-size=\"14.00\">y8</text>\n</g>\n<!-- dem65&#45;&gt;y8 -->\n<g id=\"edge11\" class=\"edge\">\n<title>dem65&#45;&gt;y8</title>\n<path fill=\"none\" stroke=\"black\" d=\"M161.97,-84.34C177.72,-71.64 197.6,-55.61 213.73,-42.6\"/>\n<polygon fill=\"black\" stroke=\"black\" points=\"216.19,-45.12 221.78,-36.11 211.8,-39.67 216.19,-45.12\"/>\n</g>\n<!-- dem60 -->\n<g id=\"node2\" class=\"node\">\n<title>dem60</title>\n<ellipse fill=\"#cae6df\" stroke=\"black\" cx=\"423\" cy=\"-107.1\" rx=\"35.19\" ry=\"35.19\"/>\n<text text-anchor=\"middle\" x=\"423\" y=\"-103.4\" font-family=\"Times,serif\" font-size=\"14.00\">dem60</text>\n</g>\n<!-- y1 -->\n<g id=\"node7\" class=\"node\">\n<title>y1</title>\n<polygon fill=\"none\" stroke=\"black\" points=\"342,-36 288,-36 288,0 342,0 342,-36\"/>\n<text text-anchor=\"middle\" x=\"315\" y=\"-14.3\" font-family=\"Times,serif\" font-size=\"14.00\">y1</text>\n</g>\n<!-- dem60&#45;&gt;y1 -->\n<g id=\"edge4\" class=\"edge\">\n<title>dem60&#45;&gt;y1</title>\n<path fill=\"none\" stroke=\"black\" d=\"M396.03,-84.34C380.28,-71.64 360.4,-55.61 344.27,-42.6\"/>\n<polygon fill=\"black\" stroke=\"black\" points=\"346.2,-39.67 336.22,-36.11 341.81,-45.12 346.2,-39.67\"/>\n</g>\n<!-- y2 -->\n<g id=\"node8\" class=\"node\">\n<title>y2</title>\n<polygon fill=\"none\" stroke=\"black\" points=\"414,-36 360,-36 360,0 414,0 414,-36\"/>\n<text text-anchor=\"middle\" x=\"387\" y=\"-14.3\" font-family=\"Times,serif\" font-size=\"14.00\">y2</text>\n</g>\n<!-- dem60&#45;&gt;y2 -->\n<g id=\"edge5\" class=\"edge\">\n<title>dem60&#45;&gt;y2</title>\n<path fill=\"none\" stroke=\"black\" d=\"M409.8,-74.16C405.91,-64.75 401.7,-54.55 397.96,-45.52\"/>\n<polygon fill=\"black\" stroke=\"black\" points=\"401.19,-44.17 394.14,-36.27 394.72,-46.84 401.19,-44.17\"/>\n</g>\n<!-- y3 -->\n<g id=\"node9\" class=\"node\">\n<title>y3</title>\n<polygon fill=\"none\" stroke=\"black\" points=\"486,-36 432,-36 432,0 486,0 486,-36\"/>\n<text text-anchor=\"middle\" x=\"459\" y=\"-14.3\" font-family=\"Times,serif\" font-size=\"14.00\">y3</text>\n</g>\n<!-- dem60&#45;&gt;y3 -->\n<g id=\"edge6\" class=\"edge\">\n<title>dem60&#45;&gt;y3</title>\n<path fill=\"none\" stroke=\"black\" d=\"M436.2,-74.16C440.09,-64.75 444.3,-54.55 448.04,-45.52\"/>\n<polygon fill=\"black\" stroke=\"black\" points=\"451.28,-46.84 451.86,-36.27 444.81,-44.17 451.28,-46.84\"/>\n</g>\n<!-- y4 -->\n<g id=\"node10\" class=\"node\">\n<title>y4</title>\n<polygon fill=\"none\" stroke=\"black\" points=\"558,-36 504,-36 504,0 558,0 558,-36\"/>\n<text text-anchor=\"middle\" x=\"531\" y=\"-14.3\" font-family=\"Times,serif\" font-size=\"14.00\">y4</text>\n</g>\n<!-- dem60&#45;&gt;y4 -->\n<g id=\"edge7\" class=\"edge\">\n<title>dem60&#45;&gt;y4</title>\n<path fill=\"none\" stroke=\"black\" d=\"M449.97,-84.34C465.72,-71.64 485.6,-55.61 501.73,-42.6\"/>\n<polygon fill=\"black\" stroke=\"black\" points=\"504.19,-45.12 509.78,-36.11 499.8,-39.67 504.19,-45.12\"/>\n</g>\n<!-- ind60 -->\n<g id=\"node3\" class=\"node\">\n<title>ind60</title>\n<ellipse fill=\"#cae6df\" stroke=\"black\" cx=\"675\" cy=\"-107.1\" rx=\"30.59\" ry=\"30.59\"/>\n<text text-anchor=\"middle\" x=\"675\" y=\"-103.4\" font-family=\"Times,serif\" font-size=\"14.00\">ind60</text>\n</g>\n<!-- x1 -->\n<g id=\"node4\" class=\"node\">\n<title>x1</title>\n<polygon fill=\"none\" stroke=\"black\" points=\"630,-36 576,-36 576,0 630,0 630,-36\"/>\n<text text-anchor=\"middle\" x=\"603\" y=\"-14.3\" font-family=\"Times,serif\" font-size=\"14.00\">x1</text>\n</g>\n<!-- ind60&#45;&gt;x1 -->\n<g id=\"edge1\" class=\"edge\">\n<title>ind60&#45;&gt;x1</title>\n<path fill=\"none\" stroke=\"black\" d=\"M655.71,-82.76C645.82,-70.8 633.78,-56.24 623.71,-44.05\"/>\n<polygon fill=\"black\" stroke=\"black\" points=\"626.16,-41.53 617.09,-36.05 620.77,-45.99 626.16,-41.53\"/>\n</g>\n<!-- x2 -->\n<g id=\"node5\" class=\"node\">\n<title>x2</title>\n<polygon fill=\"none\" stroke=\"black\" points=\"702,-36 648,-36 648,0 702,0 702,-36\"/>\n<text text-anchor=\"middle\" x=\"675\" y=\"-14.3\" font-family=\"Times,serif\" font-size=\"14.00\">x2</text>\n</g>\n<!-- ind60&#45;&gt;x2 -->\n<g id=\"edge2\" class=\"edge\">\n<title>ind60&#45;&gt;x2</title>\n<path fill=\"none\" stroke=\"black\" d=\"M675,-76.12C675,-66.4 675,-55.67 675,-46.16\"/>\n<polygon fill=\"black\" stroke=\"black\" points=\"678.5,-46.06 675,-36.06 671.5,-46.06 678.5,-46.06\"/>\n</g>\n<!-- x3 -->\n<g id=\"node6\" class=\"node\">\n<title>x3</title>\n<polygon fill=\"none\" stroke=\"black\" points=\"774,-36 720,-36 720,0 774,0 774,-36\"/>\n<text text-anchor=\"middle\" x=\"747\" y=\"-14.3\" font-family=\"Times,serif\" font-size=\"14.00\">x3</text>\n</g>\n<!-- ind60&#45;&gt;x3 -->\n<g id=\"edge3\" class=\"edge\">\n<title>ind60&#45;&gt;x3</title>\n<path fill=\"none\" stroke=\"black\" d=\"M694.29,-82.76C704.18,-70.8 716.22,-56.24 726.29,-44.05\"/>\n<polygon fill=\"black\" stroke=\"black\" points=\"729.23,-45.99 732.91,-36.05 723.84,-41.53 729.23,-45.99\"/>\n</g>\n</g>\n</svg>\n",
      "text/plain": [
       "<graphviz.graphs.Digraph at 0x7f553bc72dc0>"
      ]
     },
     "execution_count": 60,
     "metadata": {},
     "output_type": "execute_result"
    }
   ],
   "source": [
    "import semopy\n",
    "\n",
    "measure_desc = '''\n",
    "# Measurement\n",
    "ind60 =~ x1 + x2 + x3\n",
    "dem60 =~ y1 + y2 + y3 + y4\n",
    "dem65 =~ y5 + y6 + y7 + y8\n",
    "'''\n",
    "\n",
    "g = semopy.semplot(measure_desc, \"out.png\")\n",
    "g"
   ]
  },
  {
   "cell_type": "markdown",
   "metadata": {
    "slideshow": {
     "slide_type": "slide"
    }
   },
   "source": [
    "## Diseño de un estudio\n",
    "\n",
    "El **tamaño mínimo de la muestra para un modelo SEM** en particular depende de varios factores, incluida la **complejidad del modelo** y las **comunalidades** (varianza promedio extraída entre elementos) en cada factor:\n",
    "\n",
    "- Los modelos SEM que contienen cinco o menos constructos, cada uno con más de tres ítems (variables observadas), y con altas comunalidades de ítems (.6 o más), se pueden estimar adecuadamente con muestras tan pequeñas como 50. \n",
    "- Cuando el número de factores es superior a seis, algunos de los cuales tienen menos de tres items medidos como indicadores, existen problemas de distribución graves y existen múltiples comunidades bajas, los requisitos de tamaño de la muestra se vuelven mucho mayores.\n",
    "\n",
    ">Recuerda que siempre se requieren más observaciones que el número de variables medidas para que las matemáticas funcionen."
   ]
  },
  {
   "cell_type": "markdown",
   "metadata": {
    "slideshow": {
     "slide_type": "subslide"
    }
   },
   "source": [
    "Contamos con las siguientes guías generales:\n",
    "\n",
    "- N = 100: modelos que contienen cinco o menos constructos, cada uno con más de tres ítems (variables observadas) y con alta comunalidad de ítems (.6 o más).\n",
    "- N = 150: modelos con siete constructos o menos, al menos comunidades modestas (.5) y sin constructos subidentificados.\n",
    "- N = 300: modelos con siete o menos constructos, comunidades más bajas (por debajo de .45) o múltiples constructos subidentificados (menos de tres).\n",
    "- N = 500: modelos con un gran número de constructos, algunos con comunidades más bajas o con menos de tres elementos medidos."
   ]
  },
  {
   "cell_type": "markdown",
   "metadata": {
    "slideshow": {
     "slide_type": "subslide"
    }
   },
   "source": [
    "**El tamaño de la muestra debe ser suficiente para permitir que el modelo se ejecute, pero lo que es más importante, debe representar adecuadamente la población de interés**."
   ]
  },
  {
   "cell_type": "markdown",
   "metadata": {
    "slideshow": {
     "slide_type": "slide"
    }
   },
   "source": [
    "## Validez del modelo de medición\n",
    "\n",
    "La **bondad de ajuste (GOF)** indica qué tan bien el modelo especificado por el usuario reproduce matemáticamente la matriz de covarianza observada entre los elementos del indicador. Es decir, **la similitud de las matrices de covarianza observadas y estimadas**."
   ]
  },
  {
   "cell_type": "markdown",
   "metadata": {
    "slideshow": {
     "slide_type": "subslide"
    }
   },
   "source": [
    "### Índices absolutos\n",
    "\n",
    "#### Chi-cuadrado\n",
    "\n",
    "Chi-cuadrado ($X^{2}$) es la medida estadística fundamental en SEM para cuantificar las diferencias entre la matriz de covarianza observada ($S$) y estimada($\\Sigma_{k}$). El cálculo de este estadístico se define en la siguiente ecuación:\n",
    "\n",
    "$$ X^{2} = f [ (N-1) (S-\\Sigma_{k}) ] $$\n",
    "\n",
    "donde N es el es el tamaño de muestra general.\n",
    "\n",
    "> Nota que el valor de $X^{2}$ aumenta a medida que el valor de N aumenta."
   ]
  },
  {
   "cell_type": "markdown",
   "metadata": {
    "slideshow": {
     "slide_type": "subslide"
    }
   },
   "source": [
    "Los grados de libertad de un modelo SEM se definen:\n",
    "\n",
    "$$ df = \\frac{1}{2}[ (p)(p+1)] - k $$\n",
    "\n",
    "donde $p$ es el número de variables observadas y $k$ es el número de parámetros estimados en el modelo. \n",
    "\n",
    "En particular, los grados de libertad en SEM se basan en el tamaño de la matriz de covarianza, que es una matriz cuadrada con el número de filas (columnas) igual al número de indicadores (variables medidas) en el modelo."
   ]
  },
  {
   "cell_type": "markdown",
   "metadata": {
    "slideshow": {
     "slide_type": "subslide"
    }
   },
   "source": [
    "##### Significancia estadística\n",
    "\n",
    "**La hipótesis nula implícita de SEM es que la muestra observada y las matrices de covarianza estimadas de SEM son iguales**, lo que significa que el modelo se ajusta perfectamente. El valor de $X^{2}$ aumenta a medida que se encuentran diferencias (residuos) al comparar las dos matrices.\n",
    "\n",
    "Con la prueba inferencial $X^{2}$, evaluamos la probabilidad estadística de que las matrices de covarianza de la muestra observada y la estimadas por SEM sean realmente iguales en una población determinada.\n",
    "\n",
    "Por tanto, **en SEM buscamos un valor $X^{2}$ relativamente pequeño (y un valor p grande > .05), lo que indica que no hay diferencia estadísticamente significativa entre las dos matrices**, para apoyar la idea de que una teoría propuesta se ajusta a la realidad."
   ]
  },
  {
   "cell_type": "markdown",
   "metadata": {
    "slideshow": {
     "slide_type": "subslide"
    }
   },
   "source": [
    "Debido a que el estadístico $X^{2}$ es **sensible al aumento del tamaño muestral y al número de variables empleadas en el modelo**, no debe ser usado como la única medida de bondad de ajuste. "
   ]
  },
  {
   "cell_type": "markdown",
   "metadata": {
    "slideshow": {
     "slide_type": "slide"
    }
   },
   "source": [
    "#### GFI\n",
    "\n",
    "El GFI fue un intento temprano de producir una estadística de ajuste que fuera menos sensible al tamaño de la muestra. \n",
    "\n",
    "El GFI se define como:\n",
    "\n",
    "$$ GFI = 1-\\frac{F_{k}}{F_{0}} $$\n",
    "\n",
    "donde $F_{k}$ es la función de ajuste mínimo después de un modelo SEM se ha estimado utilizando k grados de libertad, y $F_{0}$ es la función de ajuste que resultaría si todos los parámetros fueran cero (todo no está relacionado entre sí; no hay relaciones teóricas)."
   ]
  },
  {
   "cell_type": "markdown",
   "metadata": {
    "slideshow": {
     "slide_type": "subslide"
    }
   },
   "source": [
    "El ratio $\\frac{F_{k}}{F_{0}}$ es análogo al ratio $\\frac{SSE}{SST}$ del modelo de regresión múltiple.\n",
    "\n",
    "El rango posible de valores de GFI es de 0 a 1, y los valores más altos indican un mejor ajuste. **Los valores de GFI superiores a .90 o .95 normalmente se consideran buenos**."
   ]
  },
  {
   "cell_type": "markdown",
   "metadata": {
    "slideshow": {
     "slide_type": "slide"
    }
   },
   "source": [
    "#### RMSEA\n",
    "\n",
    "Intenta explícitamente corregir tanto la complejidad del modelo como el tamaño de la muestra al incluir cada uno en su cálculo:\n",
    "\n",
    "$$ RMSEA = \\sqrt{ \\frac{X^{2}-df_{k}}{N-1}   } $$ \n",
    "\n",
    "Aunque investigaciones anteriores a veces habían apuntado a un valor de corte de .05 o .08, investigaciones más recientes apuntan al hecho de que **no es aconsejable trazar un corte absoluto para RMSEA**."
   ]
  },
  {
   "cell_type": "markdown",
   "metadata": {
    "slideshow": {
     "slide_type": "slide"
    }
   },
   "source": [
    "### Índices incrementales\n",
    "\n",
    "Evalúan qué tan bien se ajusta el modelo estimado en relación con algún modelo de línea base alternativo. **El modelo de línea base más común se conoce como modelo nulo, uno que asume que todas las variables observadas no están correlacionadas**."
   ]
  },
  {
   "cell_type": "markdown",
   "metadata": {
    "slideshow": {
     "slide_type": "subslide"
    }
   },
   "source": [
    "#### CFI\n",
    "\n",
    "El CFI se ha convertido en el índice más difundido para complementar el $X^{2}$.\n",
    "\n",
    "$$ CFI = 1 - \\frac{ X^{2}_{k}-df_{k} } { X^{2}_{N}-df_{N}  } $$\n",
    "\n",
    "donde k representa valores asociados con el modelo o la teoría especificada por el investigador, mientras que N denota valores asociados con el modelo estadístico nulo.\n",
    "\n",
    "El CFI está normalizado para que los valores oscilen entre 0 y 1, y los **valores más altos indican un mejor ajuste**."
   ]
  },
  {
   "cell_type": "markdown",
   "metadata": {
    "slideshow": {
     "slide_type": "subslide"
    }
   },
   "source": [
    "#### TLI\n",
    "\n",
    "Se trata de una comparación de los valores de chi-cuadrado normalizados para el modelo nulo y especificado, que hasta cierto punto tiene en cuenta la complejidad del modelo.\n",
    "\n",
    "$$ TLI = \\frac{ \\frac{X^{2}_{N}}{df_{N}}  - \\frac{X^{2}_{k}}{df_{k}}    }{   \\frac{X^{2}_{N}}{df_{N}} - 1 } $$\n",
    "\n",
    "**Los modelos con buen ajuste tienen valores que se acercan a 1**. Un modelo con un valor más alto sugiere un mejor ajuste que un modelo con un valor más bajo."
   ]
  },
  {
   "cell_type": "markdown",
   "metadata": {
    "slideshow": {
     "slide_type": "slide"
    }
   },
   "source": [
    "### Reporte\n",
    "\n",
    "Se deben usar índices de ajuste múltiples para evaluar la bondad de ajuste de un modelo y deben incluir:\n",
    "- El valor $X^{2}$ y el gl asociado.\n",
    "- Un índice de ajuste absoluto (GFI, RMSEA o SRMR).\n",
    "- Un índice de ajuste incremental (CFI o TLI).\n",
    "- Un índice de bondad de ajuste (GFI, CFI, TLI, etc.).\n",
    "- Un índice de mal ajuste (RMSEA, SRMR, etc.).\n",
    "\n",
    "En general, reportar $X^{2}$, CFI y RMSEA puede ser suficiente para evaluar un modelo SEM."
   ]
  },
  {
   "cell_type": "markdown",
   "metadata": {
    "slideshow": {
     "slide_type": "subslide"
    }
   },
   "source": [
    "**Ningún valor “mágico” único para los índices de ajuste separa los modelos buenos de los malos**, y no es práctico aplicar un solo conjunto de reglas de corte a todos los modelos de medición y, en realidad, a todos los modelos SEM de cualquier tipo."
   ]
  },
  {
   "cell_type": "markdown",
   "metadata": {
    "slideshow": {
     "slide_type": "subslide"
    }
   },
   "source": [
    "La **calidad del ajuste** depende en gran medida de las **características del modelo, incluido el tamaño de la muestra y la complejidad del modelo**:\n",
    "- Los modelos simples con muestras pequeñas deben mantenerse con estrictos estándares de ajuste; incluso un valor p pequeño para un modelo simple puede no ser significativo.\n",
    "- Los **modelos más complejos con muestras más grandes no deben someterse a los mismos estándares estrictos**, por lo que cuando las muestras son grandes y el modelo contiene una gran cantidad de variables medidas y estimaciones de parámetros, valores de corte universales de .95 de GOF son poco realistas."
   ]
  },
  {
   "cell_type": "markdown",
   "metadata": {
    "slideshow": {
     "slide_type": "subslide"
    }
   },
   "source": [
    "Podemos ver un resumen de estas nociones en la siguiente tabla:\n",
    "\n",
    "<p align=\"center\">\n",
    "  <img width=\"1200\" src=\"https://github.com/renatoparedes/EstadisticaYPsicologiaMatematica/raw/main/SEM/semgof.png\" alt=\"SEM GOF measures\">\n",
    "</p>"
   ]
  },
  {
   "cell_type": "markdown",
   "metadata": {
    "slideshow": {
     "slide_type": "subslide"
    }
   },
   "source": [
    "Revisemos estos índices en nuestro ejemplo:"
   ]
  },
  {
   "cell_type": "code",
   "execution_count": 73,
   "metadata": {},
   "outputs": [
    {
     "data": {
      "image/svg+xml": "<?xml version=\"1.0\" encoding=\"UTF-8\" standalone=\"no\"?>\n<!DOCTYPE svg PUBLIC \"-//W3C//DTD SVG 1.1//EN\"\n \"http://www.w3.org/Graphics/SVG/1.1/DTD/svg11.dtd\">\n<!-- Generated by graphviz version 2.43.0 (0)\n -->\n<!-- Title: G Pages: 1 -->\n<svg width=\"818pt\" height=\"176pt\"\n viewBox=\"0.00 0.00 818.00 176.19\" xmlns=\"http://www.w3.org/2000/svg\" xmlns:xlink=\"http://www.w3.org/1999/xlink\">\n<g id=\"graph0\" class=\"graph\" transform=\"scale(1 1) rotate(0) translate(4 172.19)\">\n<title>G</title>\n<polygon fill=\"white\" stroke=\"transparent\" points=\"-4,4 -4,-172.19 814,-172.19 814,4 -4,4\"/>\n<!-- dem65 -->\n<g id=\"node1\" class=\"node\">\n<title>dem65</title>\n<ellipse fill=\"#cae6df\" stroke=\"black\" cx=\"137\" cy=\"-133.1\" rx=\"35.19\" ry=\"35.19\"/>\n<text text-anchor=\"middle\" x=\"137\" y=\"-129.4\" font-family=\"Times,serif\" font-size=\"14.00\">dem65</text>\n</g>\n<!-- y5 -->\n<g id=\"node11\" class=\"node\">\n<title>y5</title>\n<polygon fill=\"none\" stroke=\"black\" points=\"54,-36 0,-36 0,0 54,0 54,-36\"/>\n<text text-anchor=\"middle\" x=\"27\" y=\"-14.3\" font-family=\"Times,serif\" font-size=\"14.00\">y5</text>\n</g>\n<!-- dem65&#45;&gt;y5 -->\n<g id=\"edge8\" class=\"edge\">\n<title>dem65&#45;&gt;y5</title>\n<path fill=\"none\" stroke=\"black\" d=\"M106.77,-114.51C92.7,-105.38 76.39,-93.35 64,-80 54.46,-69.72 46.11,-56.59 39.78,-45.15\"/>\n<polygon fill=\"black\" stroke=\"black\" points=\"42.72,-43.23 34.95,-36.03 36.54,-46.51 42.72,-43.23\"/>\n<text text-anchor=\"middle\" x=\"78\" y=\"-63.9\" font-family=\"Times,serif\" font-size=\"12.00\">0.803</text>\n</g>\n<!-- y6 -->\n<g id=\"node12\" class=\"node\">\n<title>y6</title>\n<polygon fill=\"none\" stroke=\"black\" points=\"126,-36 72,-36 72,0 126,0 126,-36\"/>\n<text text-anchor=\"middle\" x=\"99\" y=\"-14.3\" font-family=\"Times,serif\" font-size=\"14.00\">y6</text>\n</g>\n<!-- dem65&#45;&gt;y6 -->\n<g id=\"edge9\" class=\"edge\">\n<title>dem65&#45;&gt;y6</title>\n<path fill=\"none\" stroke=\"black\" d=\"M113.53,-106.61C107.62,-98.66 102.09,-89.47 99,-80 95.5,-69.28 94.92,-56.92 95.42,-46.14\"/>\n<polygon fill=\"black\" stroke=\"black\" points=\"98.93,-46.26 96.23,-36.01 91.95,-45.7 98.93,-46.26\"/>\n<text text-anchor=\"middle\" x=\"125\" y=\"-70.4\" font-family=\"Times,serif\" font-size=\"12.00\">0.783</text>\n<text text-anchor=\"middle\" x=\"125\" y=\"-57.4\" font-family=\"Times,serif\" font-size=\"12.00\">p&#45;val: 0.00</text>\n</g>\n<!-- y7 -->\n<g id=\"node13\" class=\"node\">\n<title>y7</title>\n<polygon fill=\"none\" stroke=\"black\" points=\"201,-36 147,-36 147,0 201,0 201,-36\"/>\n<text text-anchor=\"middle\" x=\"174\" y=\"-14.3\" font-family=\"Times,serif\" font-size=\"14.00\">y7</text>\n</g>\n<!-- dem65&#45;&gt;y7 -->\n<g id=\"edge10\" class=\"edge\">\n<title>dem65&#45;&gt;y7</title>\n<path fill=\"none\" stroke=\"black\" d=\"M147.7,-99.38C153.23,-82.47 159.91,-62.08 165.14,-46.07\"/>\n<polygon fill=\"black\" stroke=\"black\" points=\"168.57,-46.85 168.35,-36.26 161.92,-44.67 168.57,-46.85\"/>\n<text text-anchor=\"middle\" x=\"189\" y=\"-70.4\" font-family=\"Times,serif\" font-size=\"12.00\">0.819</text>\n<text text-anchor=\"middle\" x=\"189\" y=\"-57.4\" font-family=\"Times,serif\" font-size=\"12.00\">p&#45;val: 0.00</text>\n</g>\n<!-- y8 -->\n<g id=\"node14\" class=\"node\">\n<title>y8</title>\n<polygon fill=\"none\" stroke=\"black\" points=\"276,-36 222,-36 222,0 276,0 276,-36\"/>\n<text text-anchor=\"middle\" x=\"249\" y=\"-14.3\" font-family=\"Times,serif\" font-size=\"14.00\">y8</text>\n</g>\n<!-- dem65&#45;&gt;y8 -->\n<g id=\"edge11\" class=\"edge\">\n<title>dem65&#45;&gt;y8</title>\n<path fill=\"none\" stroke=\"black\" d=\"M168.79,-117.25C185.36,-108.28 205.04,-95.57 219,-80 227.9,-70.08 234.78,-57.04 239.7,-45.57\"/>\n<polygon fill=\"black\" stroke=\"black\" points=\"243.06,-46.59 243.51,-36 236.56,-43.99 243.06,-46.59\"/>\n<text text-anchor=\"middle\" x=\"262\" y=\"-70.4\" font-family=\"Times,serif\" font-size=\"12.00\">0.847</text>\n<text text-anchor=\"middle\" x=\"262\" y=\"-57.4\" font-family=\"Times,serif\" font-size=\"12.00\">p&#45;val: 0.00</text>\n</g>\n<!-- dem60 -->\n<g id=\"node2\" class=\"node\">\n<title>dem60</title>\n<ellipse fill=\"#cae6df\" stroke=\"black\" cx=\"433\" cy=\"-133.1\" rx=\"35.19\" ry=\"35.19\"/>\n<text text-anchor=\"middle\" x=\"433\" y=\"-129.4\" font-family=\"Times,serif\" font-size=\"14.00\">dem60</text>\n</g>\n<!-- y1 -->\n<g id=\"node7\" class=\"node\">\n<title>y1</title>\n<polygon fill=\"none\" stroke=\"black\" points=\"351,-36 297,-36 297,0 351,0 351,-36\"/>\n<text text-anchor=\"middle\" x=\"324\" y=\"-14.3\" font-family=\"Times,serif\" font-size=\"14.00\">y1</text>\n</g>\n<!-- dem60&#45;&gt;y1 -->\n<g id=\"edge4\" class=\"edge\">\n<title>dem60&#45;&gt;y1</title>\n<path fill=\"none\" stroke=\"black\" d=\"M403.34,-114.07C389.76,-104.92 374.06,-93.01 362,-80 352.46,-69.71 343.96,-56.68 337.44,-45.31\"/>\n<polygon fill=\"black\" stroke=\"black\" points=\"340.34,-43.31 332.44,-36.24 334.21,-46.69 340.34,-43.31\"/>\n<text text-anchor=\"middle\" x=\"376\" y=\"-63.9\" font-family=\"Times,serif\" font-size=\"12.00\">0.845</text>\n</g>\n<!-- y2 -->\n<g id=\"node8\" class=\"node\">\n<title>y2</title>\n<polygon fill=\"none\" stroke=\"black\" points=\"423,-36 369,-36 369,0 423,0 423,-36\"/>\n<text text-anchor=\"middle\" x=\"396\" y=\"-14.3\" font-family=\"Times,serif\" font-size=\"14.00\">y2</text>\n</g>\n<!-- dem60&#45;&gt;y2 -->\n<g id=\"edge5\" class=\"edge\">\n<title>dem60&#45;&gt;y2</title>\n<path fill=\"none\" stroke=\"black\" d=\"M410.47,-105.87C405.02,-98.04 399.92,-89.11 397,-80 393.58,-69.33 392.81,-57.07 393.09,-46.35\"/>\n<polygon fill=\"black\" stroke=\"black\" points=\"396.59,-46.44 393.66,-36.26 389.6,-46.05 396.59,-46.44\"/>\n<text text-anchor=\"middle\" x=\"423\" y=\"-70.4\" font-family=\"Times,serif\" font-size=\"12.00\">0.760</text>\n<text text-anchor=\"middle\" x=\"423\" y=\"-57.4\" font-family=\"Times,serif\" font-size=\"12.00\">p&#45;val: 0.00</text>\n</g>\n<!-- y3 -->\n<g id=\"node9\" class=\"node\">\n<title>y3</title>\n<polygon fill=\"none\" stroke=\"black\" points=\"498,-36 444,-36 444,0 498,0 498,-36\"/>\n<text text-anchor=\"middle\" x=\"471\" y=\"-14.3\" font-family=\"Times,serif\" font-size=\"14.00\">y3</text>\n</g>\n<!-- dem60&#45;&gt;y3 -->\n<g id=\"edge6\" class=\"edge\">\n<title>dem60&#45;&gt;y3</title>\n<path fill=\"none\" stroke=\"black\" d=\"M443.89,-99.69C449.61,-82.66 456.54,-62.04 461.96,-45.91\"/>\n<polygon fill=\"black\" stroke=\"black\" points=\"465.41,-46.63 465.28,-36.03 458.77,-44.4 465.41,-46.63\"/>\n<text text-anchor=\"middle\" x=\"485\" y=\"-70.4\" font-family=\"Times,serif\" font-size=\"12.00\">0.705</text>\n<text text-anchor=\"middle\" x=\"485\" y=\"-57.4\" font-family=\"Times,serif\" font-size=\"12.00\">p&#45;val: 0.00</text>\n</g>\n<!-- y4 -->\n<g id=\"node10\" class=\"node\">\n<title>y4</title>\n<polygon fill=\"none\" stroke=\"black\" points=\"573,-36 519,-36 519,0 573,0 573,-36\"/>\n<text text-anchor=\"middle\" x=\"546\" y=\"-14.3\" font-family=\"Times,serif\" font-size=\"14.00\">y4</text>\n</g>\n<!-- dem60&#45;&gt;y4 -->\n<g id=\"edge7\" class=\"edge\">\n<title>dem60&#45;&gt;y4</title>\n<path fill=\"none\" stroke=\"black\" d=\"M464.7,-117.17C481.26,-108.19 500.94,-95.48 515,-80 523.96,-70.14 531.02,-57.21 536.12,-45.8\"/>\n<polygon fill=\"black\" stroke=\"black\" points=\"539.48,-46.85 540.1,-36.27 533.02,-44.15 539.48,-46.85\"/>\n<text text-anchor=\"middle\" x=\"558\" y=\"-70.4\" font-family=\"Times,serif\" font-size=\"12.00\">0.860</text>\n<text text-anchor=\"middle\" x=\"558\" y=\"-57.4\" font-family=\"Times,serif\" font-size=\"12.00\">p&#45;val: 0.00</text>\n</g>\n<!-- ind60 -->\n<g id=\"node3\" class=\"node\">\n<title>ind60</title>\n<ellipse fill=\"#cae6df\" stroke=\"black\" cx=\"693\" cy=\"-133.1\" rx=\"30.59\" ry=\"30.59\"/>\n<text text-anchor=\"middle\" x=\"693\" y=\"-129.4\" font-family=\"Times,serif\" font-size=\"14.00\">ind60</text>\n</g>\n<!-- x1 -->\n<g id=\"node4\" class=\"node\">\n<title>x1</title>\n<polygon fill=\"none\" stroke=\"black\" points=\"648,-36 594,-36 594,0 648,0 648,-36\"/>\n<text text-anchor=\"middle\" x=\"621\" y=\"-14.3\" font-family=\"Times,serif\" font-size=\"14.00\">x1</text>\n</g>\n<!-- ind60&#45;&gt;x1 -->\n<g id=\"edge1\" class=\"edge\">\n<title>ind60&#45;&gt;x1</title>\n<path fill=\"none\" stroke=\"black\" d=\"M677.02,-107C665.27,-88.54 649.35,-63.53 637.48,-44.89\"/>\n<polygon fill=\"black\" stroke=\"black\" points=\"640.34,-42.87 632.02,-36.31 634.44,-46.63 640.34,-42.87\"/>\n<text text-anchor=\"middle\" x=\"674\" y=\"-63.9\" font-family=\"Times,serif\" font-size=\"12.00\">0.920</text>\n</g>\n<!-- x2 -->\n<g id=\"node5\" class=\"node\">\n<title>x2</title>\n<polygon fill=\"none\" stroke=\"black\" points=\"720,-36 666,-36 666,0 720,0 720,-36\"/>\n<text text-anchor=\"middle\" x=\"693\" y=\"-14.3\" font-family=\"Times,serif\" font-size=\"14.00\">x2</text>\n</g>\n<!-- ind60&#45;&gt;x2 -->\n<g id=\"edge2\" class=\"edge\">\n<title>ind60&#45;&gt;x2</title>\n<path fill=\"none\" stroke=\"black\" d=\"M693,-102.38C693,-85.09 693,-63.45 693,-46.55\"/>\n<polygon fill=\"black\" stroke=\"black\" points=\"696.5,-46.22 693,-36.22 689.5,-46.22 696.5,-46.22\"/>\n<text text-anchor=\"middle\" x=\"719\" y=\"-70.4\" font-family=\"Times,serif\" font-size=\"12.00\">0.973</text>\n<text text-anchor=\"middle\" x=\"719\" y=\"-57.4\" font-family=\"Times,serif\" font-size=\"12.00\">p&#45;val: 0.00</text>\n</g>\n<!-- x3 -->\n<g id=\"node6\" class=\"node\">\n<title>x3</title>\n<polygon fill=\"none\" stroke=\"black\" points=\"795,-36 741,-36 741,0 795,0 795,-36\"/>\n<text text-anchor=\"middle\" x=\"768\" y=\"-14.3\" font-family=\"Times,serif\" font-size=\"14.00\">x3</text>\n</g>\n<!-- ind60&#45;&gt;x3 -->\n<g id=\"edge3\" class=\"edge\">\n<title>ind60&#45;&gt;x3</title>\n<path fill=\"none\" stroke=\"black\" d=\"M716.5,-113.22C726.68,-104.07 738.06,-92.38 746,-80 752.65,-69.62 757.64,-56.97 761.17,-45.87\"/>\n<polygon fill=\"black\" stroke=\"black\" points=\"764.54,-46.82 764,-36.24 757.82,-44.85 764.54,-46.82\"/>\n<text text-anchor=\"middle\" x=\"784\" y=\"-70.4\" font-family=\"Times,serif\" font-size=\"12.00\">0.872</text>\n<text text-anchor=\"middle\" x=\"784\" y=\"-57.4\" font-family=\"Times,serif\" font-size=\"12.00\">p&#45;val: 0.00</text>\n</g>\n</g>\n</svg>\n",
      "text/plain": [
       "<graphviz.graphs.Digraph at 0x7f553bc98c10>"
      ]
     },
     "execution_count": 73,
     "metadata": {},
     "output_type": "execute_result"
    }
   ],
   "source": [
    "measure_model = semopy.Model(measure_desc)\n",
    "res = measure_model.fit(df)\n",
    "g = semopy.semplot(measure_model, \"out.png\", std_ests=True)\n",
    "g"
   ]
  },
  {
   "cell_type": "code",
   "execution_count": 53,
   "metadata": {
    "hideCode": true,
    "slideshow": {
     "slide_type": "fragment"
    }
   },
   "outputs": [
    {
     "name": "stdout",
     "output_type": "stream",
     "text": [
      "                    Value\n",
      "DoF             41.000000\n",
      "DoF Baseline    55.000000\n",
      "chi2            72.461632\n",
      "chi2 p-value     0.001761\n",
      "chi2 Baseline  730.654577\n",
      "CFI              0.953435\n",
      "GFI              0.900826\n",
      "AGFI             0.866962\n",
      "NFI              0.900826\n",
      "TLI              0.937535\n",
      "RMSEA            0.101832\n",
      "AIC             48.067690\n",
      "BIC            106.004893\n",
      "LogLik           0.966155\n"
     ]
    }
   ],
   "source": [
    "stats = semopy.calc_stats(measure_model)\n",
    "print(stats.T)"
   ]
  },
  {
   "cell_type": "markdown",
   "metadata": {
    "slideshow": {
     "slide_type": "fragment"
    }
   },
   "source": [
    "Podemos apreciar que aunque el valor $X^{2}$ es significativo, encontramos un muy buen ajuste del modelo a partir del indicador CFI. Además, se cuenta con un valor bajo de RMSEA."
   ]
  },
  {
   "cell_type": "markdown",
   "metadata": {
    "slideshow": {
     "slide_type": "slide"
    }
   },
   "source": [
    "## Especificación el modelo estructural\n",
    "\n",
    "Consiste en **especificar el modelo estructural asignando relaciones de un constructo a otro con base en el modelo teórico propuesto**.\n",
    "\n",
    "En otras palabras, el **investigador identifica las relaciones de dependencia que se supone que existen entre los constructos, y cada hipótesis representa una relación específica que debe especificarse**. Las relaciones muestran cómo un constructo influye en otro y puede ser directo o indirecto. Por tanto, el modelo muestra todas las relaciones de dependencia que existen entre los constructos.\n",
    "\n",
    "Veamos como esto aplica a nuestro ejemplo:\n"
   ]
  },
  {
   "cell_type": "code",
   "execution_count": 64,
   "metadata": {
    "hideCode": true,
    "slideshow": {
     "slide_type": "subslide"
    }
   },
   "outputs": [
    {
     "data": {
      "image/svg+xml": "<?xml version=\"1.0\" encoding=\"UTF-8\" standalone=\"no\"?>\n<!DOCTYPE svg PUBLIC \"-//W3C//DTD SVG 1.1//EN\"\n \"http://www.w3.org/Graphics/SVG/1.1/DTD/svg11.dtd\">\n<!-- Generated by graphviz version 2.43.0 (0)\n -->\n<!-- Title: G Pages: 1 -->\n<svg width=\"458pt\" height=\"497pt\"\n viewBox=\"0.00 0.00 458.49 497.48\" xmlns=\"http://www.w3.org/2000/svg\" xmlns:xlink=\"http://www.w3.org/1999/xlink\">\n<g id=\"graph0\" class=\"graph\" transform=\"scale(1 1) rotate(0) translate(4 493.48)\">\n<title>G</title>\n<polygon fill=\"white\" stroke=\"transparent\" points=\"-4,4 -4,-493.48 454.49,-493.48 454.49,4 -4,4\"/>\n<!-- dem65 -->\n<g id=\"node1\" class=\"node\">\n<title>dem65</title>\n<ellipse fill=\"#cae6df\" stroke=\"black\" cx=\"252.49\" cy=\"-251.1\" rx=\"35.19\" ry=\"35.19\"/>\n<text text-anchor=\"middle\" x=\"252.49\" y=\"-247.4\" font-family=\"Times,serif\" font-size=\"14.00\">dem65</text>\n</g>\n<!-- y5 -->\n<g id=\"node11\" class=\"node\">\n<title>y5</title>\n<polygon fill=\"none\" stroke=\"black\" points=\"271.49,-180 217.49,-180 217.49,-144 271.49,-144 271.49,-180\"/>\n<text text-anchor=\"middle\" x=\"244.49\" y=\"-158.3\" font-family=\"Times,serif\" font-size=\"14.00\">y5</text>\n</g>\n<!-- dem65&#45;&gt;y5 -->\n<g id=\"edge11\" class=\"edge\">\n<title>dem65&#45;&gt;y5</title>\n<path fill=\"none\" stroke=\"black\" d=\"M249.32,-215.67C248.55,-207.21 247.73,-198.26 246.98,-190.2\"/>\n<polygon fill=\"black\" stroke=\"black\" points=\"250.47,-189.85 246.07,-180.21 243.5,-190.49 250.47,-189.85\"/>\n</g>\n<!-- y6 -->\n<g id=\"node12\" class=\"node\">\n<title>y6</title>\n<polygon fill=\"none\" stroke=\"black\" points=\"343.49,-108 289.49,-108 289.49,-72 343.49,-72 343.49,-108\"/>\n<text text-anchor=\"middle\" x=\"316.49\" y=\"-86.3\" font-family=\"Times,serif\" font-size=\"14.00\">y6</text>\n</g>\n<!-- dem65&#45;&gt;y6 -->\n<g id=\"edge12\" class=\"edge\">\n<title>dem65&#45;&gt;y6</title>\n<path fill=\"none\" stroke=\"black\" d=\"M285.07,-237.14C308.52,-225.88 338.4,-207.08 352.49,-180 363.26,-159.29 351.47,-134.59 338.57,-116.48\"/>\n<polygon fill=\"black\" stroke=\"black\" points=\"341.09,-114 332.25,-108.16 335.52,-118.24 341.09,-114\"/>\n</g>\n<!-- y7 -->\n<g id=\"node13\" class=\"node\">\n<title>y7</title>\n<polygon fill=\"none\" stroke=\"black\" points=\"161.49,-180 107.49,-180 107.49,-144 161.49,-144 161.49,-180\"/>\n<text text-anchor=\"middle\" x=\"134.49\" y=\"-158.3\" font-family=\"Times,serif\" font-size=\"14.00\">y7</text>\n</g>\n<!-- dem65&#45;&gt;y7 -->\n<g id=\"edge13\" class=\"edge\">\n<title>dem65&#45;&gt;y7</title>\n<path fill=\"none\" stroke=\"black\" d=\"M224.52,-229.46C207.07,-216.57 184.55,-199.95 166.4,-186.55\"/>\n<polygon fill=\"black\" stroke=\"black\" points=\"168.01,-183.39 157.88,-180.27 163.85,-189.02 168.01,-183.39\"/>\n</g>\n<!-- y8 -->\n<g id=\"node14\" class=\"node\">\n<title>y8</title>\n<polygon fill=\"none\" stroke=\"black\" points=\"343.49,-180 289.49,-180 289.49,-144 343.49,-144 343.49,-180\"/>\n<text text-anchor=\"middle\" x=\"316.49\" y=\"-158.3\" font-family=\"Times,serif\" font-size=\"14.00\">y8</text>\n</g>\n<!-- dem65&#45;&gt;y8 -->\n<g id=\"edge14\" class=\"edge\">\n<title>dem65&#45;&gt;y8</title>\n<path fill=\"none\" stroke=\"black\" d=\"M273.09,-222.06C281.1,-211.15 290.22,-198.75 298.02,-188.14\"/>\n<polygon fill=\"black\" stroke=\"black\" points=\"300.84,-190.2 303.94,-180.07 295.2,-186.06 300.84,-190.2\"/>\n</g>\n<!-- dem60 -->\n<g id=\"node2\" class=\"node\">\n<title>dem60</title>\n<ellipse fill=\"#cae6df\" stroke=\"black\" cx=\"106.49\" cy=\"-357.29\" rx=\"35.19\" ry=\"35.19\"/>\n<text text-anchor=\"middle\" x=\"106.49\" y=\"-353.59\" font-family=\"Times,serif\" font-size=\"14.00\">dem60</text>\n</g>\n<!-- dem60&#45;&gt;dem65 -->\n<g id=\"edge3\" class=\"edge\">\n<title>dem60&#45;&gt;dem65</title>\n<path fill=\"none\" stroke=\"black\" d=\"M134.64,-336.2C157.79,-319.68 190.77,-296.14 215.96,-278.17\"/>\n<polygon fill=\"black\" stroke=\"black\" points=\"218.07,-280.96 224.17,-272.3 214,-275.26 218.07,-280.96\"/>\n</g>\n<!-- y1 -->\n<g id=\"node7\" class=\"node\">\n<title>y1</title>\n<polygon fill=\"none\" stroke=\"black\" points=\"184.49,-108 130.49,-108 130.49,-72 184.49,-72 184.49,-108\"/>\n<text text-anchor=\"middle\" x=\"157.49\" y=\"-86.3\" font-family=\"Times,serif\" font-size=\"14.00\">y1</text>\n</g>\n<!-- dem60&#45;&gt;y1 -->\n<g id=\"edge7\" class=\"edge\">\n<title>dem60&#45;&gt;y1</title>\n<path fill=\"none\" stroke=\"black\" d=\"M96.6,-323.31C85.51,-280.06 72.27,-202.78 98.49,-144 103.66,-132.41 112.75,-122.29 122.28,-114.09\"/>\n<polygon fill=\"black\" stroke=\"black\" points=\"124.69,-116.65 130.3,-107.66 120.31,-111.18 124.69,-116.65\"/>\n</g>\n<!-- y2 -->\n<g id=\"node8\" class=\"node\">\n<title>y2</title>\n<polygon fill=\"none\" stroke=\"black\" points=\"266.49,-36 212.49,-36 212.49,0 266.49,0 266.49,-36\"/>\n<text text-anchor=\"middle\" x=\"239.49\" y=\"-14.3\" font-family=\"Times,serif\" font-size=\"14.00\">y2</text>\n</g>\n<!-- dem60&#45;&gt;y2 -->\n<g id=\"edge8\" class=\"edge\">\n<title>dem60&#45;&gt;y2</title>\n<path fill=\"none\" stroke=\"black\" d=\"M82.41,-331.73C71.48,-319.12 59.46,-302.92 52.49,-286.19 15.61,-197.78 -30.42,-147.54 28.49,-72 49.65,-44.86 147.63,-29.5 202.31,-22.9\"/>\n<polygon fill=\"black\" stroke=\"black\" points=\"202.79,-26.37 212.32,-21.74 201.98,-19.42 202.79,-26.37\"/>\n</g>\n<!-- y3 -->\n<g id=\"node9\" class=\"node\">\n<title>y3</title>\n<polygon fill=\"none\" stroke=\"black\" points=\"91.49,-108 37.49,-108 37.49,-72 91.49,-72 91.49,-108\"/>\n<text text-anchor=\"middle\" x=\"64.49\" y=\"-86.3\" font-family=\"Times,serif\" font-size=\"14.00\">y3</text>\n</g>\n<!-- dem60&#45;&gt;y3 -->\n<g id=\"edge9\" class=\"edge\">\n<title>dem60&#45;&gt;y3</title>\n<path fill=\"none\" stroke=\"black\" d=\"M85.9,-328.83C77.87,-316.47 69.62,-301.29 65.49,-286.19 49.61,-228.18 55.26,-156.79 60.23,-118.45\"/>\n<polygon fill=\"black\" stroke=\"black\" points=\"63.76,-118.49 61.66,-108.11 56.82,-117.54 63.76,-118.49\"/>\n</g>\n<!-- y4 -->\n<g id=\"node10\" class=\"node\">\n<title>y4</title>\n<polygon fill=\"none\" stroke=\"black\" points=\"266.49,-108 212.49,-108 212.49,-72 266.49,-72 266.49,-108\"/>\n<text text-anchor=\"middle\" x=\"239.49\" y=\"-86.3\" font-family=\"Times,serif\" font-size=\"14.00\">y4</text>\n</g>\n<!-- dem60&#45;&gt;y4 -->\n<g id=\"edge10\" class=\"edge\">\n<title>dem60&#45;&gt;y4</title>\n<path fill=\"none\" stroke=\"black\" d=\"M120.57,-324.96C139.57,-283.19 174.9,-207.18 208.49,-144 213.19,-135.15 218.62,-125.66 223.61,-117.18\"/>\n<polygon fill=\"black\" stroke=\"black\" points=\"226.69,-118.85 228.79,-108.46 220.67,-115.27 226.69,-118.85\"/>\n</g>\n<!-- ind60 -->\n<g id=\"node3\" class=\"node\">\n<title>ind60</title>\n<ellipse fill=\"#cae6df\" stroke=\"black\" cx=\"279.49\" cy=\"-458.93\" rx=\"30.59\" ry=\"30.59\"/>\n<text text-anchor=\"middle\" x=\"279.49\" y=\"-455.23\" font-family=\"Times,serif\" font-size=\"14.00\">ind60</text>\n</g>\n<!-- ind60&#45;&gt;dem65 -->\n<g id=\"edge2\" class=\"edge\">\n<title>ind60&#45;&gt;dem65</title>\n<path fill=\"none\" stroke=\"black\" d=\"M262.32,-433.65C254.97,-421.8 247.23,-406.98 243.49,-392.39 235.33,-360.59 238.23,-323.49 242.82,-295.43\"/>\n<polygon fill=\"black\" stroke=\"black\" points=\"246.27,-295.98 244.56,-285.52 239.38,-294.76 246.27,-295.98\"/>\n</g>\n<!-- ind60&#45;&gt;dem60 -->\n<g id=\"edge1\" class=\"edge\">\n<title>ind60&#45;&gt;dem60</title>\n<path fill=\"none\" stroke=\"black\" d=\"M253.21,-442.8C224.53,-426.28 178.3,-399.65 145.4,-380.71\"/>\n<polygon fill=\"black\" stroke=\"black\" points=\"146.92,-377.54 136.5,-375.58 143.42,-383.6 146.92,-377.54\"/>\n</g>\n<!-- x1 -->\n<g id=\"node4\" class=\"node\">\n<title>x1</title>\n<polygon fill=\"none\" stroke=\"black\" points=\"306.49,-375.29 252.49,-375.29 252.49,-339.29 306.49,-339.29 306.49,-375.29\"/>\n<text text-anchor=\"middle\" x=\"279.49\" y=\"-353.59\" font-family=\"Times,serif\" font-size=\"14.00\">x1</text>\n</g>\n<!-- ind60&#45;&gt;x1 -->\n<g id=\"edge4\" class=\"edge\">\n<title>ind60&#45;&gt;x1</title>\n<path fill=\"none\" stroke=\"black\" d=\"M279.49,-428.31C279.49,-414.86 279.49,-399.05 279.49,-385.86\"/>\n<polygon fill=\"black\" stroke=\"black\" points=\"282.99,-385.51 279.49,-375.51 275.99,-385.51 282.99,-385.51\"/>\n</g>\n<!-- x2 -->\n<g id=\"node5\" class=\"node\">\n<title>x2</title>\n<polygon fill=\"none\" stroke=\"black\" points=\"378.49,-375.29 324.49,-375.29 324.49,-339.29 378.49,-339.29 378.49,-375.29\"/>\n<text text-anchor=\"middle\" x=\"351.49\" y=\"-353.59\" font-family=\"Times,serif\" font-size=\"14.00\">x2</text>\n</g>\n<!-- ind60&#45;&gt;x2 -->\n<g id=\"edge5\" class=\"edge\">\n<title>ind60&#45;&gt;x2</title>\n<path fill=\"none\" stroke=\"black\" d=\"M296.92,-433.81C307.84,-418.7 321.91,-399.23 333.02,-383.85\"/>\n<polygon fill=\"black\" stroke=\"black\" points=\"336.16,-385.48 339.18,-375.32 330.48,-381.38 336.16,-385.48\"/>\n</g>\n<!-- x3 -->\n<g id=\"node6\" class=\"node\">\n<title>x3</title>\n<polygon fill=\"none\" stroke=\"black\" points=\"450.49,-375.29 396.49,-375.29 396.49,-339.29 450.49,-339.29 450.49,-375.29\"/>\n<text text-anchor=\"middle\" x=\"423.49\" y=\"-353.59\" font-family=\"Times,serif\" font-size=\"14.00\">x3</text>\n</g>\n<!-- ind60&#45;&gt;x3 -->\n<g id=\"edge6\" class=\"edge\">\n<title>ind60&#45;&gt;x3</title>\n<path fill=\"none\" stroke=\"black\" d=\"M306.25,-443.79C328.75,-431.42 361.33,-412.35 387.49,-392.39 391.47,-389.35 395.5,-385.93 399.35,-382.46\"/>\n<polygon fill=\"black\" stroke=\"black\" points=\"402.02,-384.76 406.94,-375.37 397.24,-379.64 402.02,-384.76\"/>\n</g>\n<!-- y4&#45;&gt;y2 -->\n<g id=\"edge16\" class=\"edge\">\n<title>y4&#45;&gt;y2</title>\n<path fill=\"none\" stroke=\"black\" stroke-dasharray=\"5,2\" d=\"M239.49,-61.67C239.49,-56.69 239.49,-51.49 239.49,-46.51\"/>\n<polygon fill=\"black\" stroke=\"black\" points=\"235.99,-61.7 239.49,-71.7 242.99,-61.7 235.99,-61.7\"/>\n<polygon fill=\"black\" stroke=\"black\" points=\"242.99,-46.1 239.49,-36.1 235.99,-46.1 242.99,-46.1\"/>\n</g>\n<!-- y5&#45;&gt;y1 -->\n<g id=\"edge15\" class=\"edge\">\n<title>y5&#45;&gt;y1</title>\n<path fill=\"none\" stroke=\"black\" stroke-dasharray=\"5,2\" d=\"M215.04,-137.31C205.93,-129.98 195.89,-121.9 186.79,-114.58\"/>\n<polygon fill=\"black\" stroke=\"black\" points=\"213,-140.15 222.98,-143.7 217.38,-134.7 213,-140.15\"/>\n<polygon fill=\"black\" stroke=\"black\" points=\"188.73,-111.65 178.74,-108.1 184.34,-117.1 188.73,-111.65\"/>\n</g>\n<!-- y6&#45;&gt;y2 -->\n<g id=\"edge17\" class=\"edge\">\n<title>y6&#45;&gt;y2</title>\n<path fill=\"none\" stroke=\"black\" stroke-dasharray=\"5,2\" d=\"M289.82,-64.76C282.03,-57.68 273.53,-49.95 265.76,-42.89\"/>\n<polygon fill=\"black\" stroke=\"black\" points=\"287.7,-67.56 297.45,-71.7 292.41,-62.38 287.7,-67.56\"/>\n<polygon fill=\"black\" stroke=\"black\" points=\"268.05,-40.24 258.3,-36.1 263.35,-45.42 268.05,-40.24\"/>\n</g>\n<!-- y7&#45;&gt;y3 -->\n<g id=\"edge18\" class=\"edge\">\n<title>y7&#45;&gt;y3</title>\n<path fill=\"none\" stroke=\"black\" stroke-dasharray=\"5,2\" d=\"M109.96,-136.48C103.08,-129.6 95.61,-122.12 88.74,-115.26\"/>\n<polygon fill=\"black\" stroke=\"black\" points=\"107.64,-139.1 117.18,-143.7 112.59,-134.15 107.64,-139.1\"/>\n<polygon fill=\"black\" stroke=\"black\" points=\"91.14,-112.7 81.59,-108.1 86.19,-117.65 91.14,-112.7\"/>\n</g>\n<!-- y8&#45;&gt;y4 -->\n<g id=\"edge19\" class=\"edge\">\n<title>y8&#45;&gt;y4</title>\n<path fill=\"none\" stroke=\"black\" stroke-dasharray=\"5,2\" d=\"M289.82,-136.76C282.03,-129.68 273.53,-121.95 265.76,-114.89\"/>\n<polygon fill=\"black\" stroke=\"black\" points=\"287.7,-139.56 297.45,-143.7 292.41,-134.38 287.7,-139.56\"/>\n<polygon fill=\"black\" stroke=\"black\" points=\"268.05,-112.24 258.3,-108.1 263.35,-117.42 268.05,-112.24\"/>\n</g>\n<!-- y8&#45;&gt;y6 -->\n<g id=\"edge20\" class=\"edge\">\n<title>y8&#45;&gt;y6</title>\n<path fill=\"none\" stroke=\"black\" stroke-dasharray=\"5,2\" d=\"M316.49,-133.67C316.49,-128.69 316.49,-123.49 316.49,-118.51\"/>\n<polygon fill=\"black\" stroke=\"black\" points=\"312.99,-133.7 316.49,-143.7 319.99,-133.7 312.99,-133.7\"/>\n<polygon fill=\"black\" stroke=\"black\" points=\"319.99,-118.1 316.49,-108.1 312.99,-118.1 319.99,-118.1\"/>\n</g>\n</g>\n</svg>\n",
      "text/plain": [
       "<graphviz.graphs.Digraph at 0x7f553bc72970>"
      ]
     },
     "execution_count": 64,
     "metadata": {},
     "output_type": "execute_result"
    }
   ],
   "source": [
    "struct_desc = '''\n",
    "# Measurement\n",
    "ind60 =~ x1 + x2 + x3\n",
    "dem60 =~ y1 + y2 + y3 + y4\n",
    "dem65 =~ y5 + y6 + y7 + y8\n",
    "\n",
    "# Structure\n",
    "dem60 ~ ind60\n",
    "dem65 ~ ind60 + dem60\n",
    "\n",
    "# Covariances\n",
    "y1 ~~ y5\n",
    "y2 ~~ y4 + y6\n",
    "y3 ~~ y7\n",
    "y4 ~~ y8\n",
    "y6 ~~ y8\n",
    "\n",
    "'''\n",
    "\n",
    "g = semopy.semplot(struct_desc, \"out.png\", plot_covs=True)\n",
    "g"
   ]
  },
  {
   "cell_type": "markdown",
   "metadata": {
    "slideshow": {
     "slide_type": "fragment"
    }
   },
   "source": [
    "En nuestro ejemplo especificamos que `dem65` depende de `dem60` y `ind60`. A su vez, `dem60` depende de `ind60` . Por otra parte, encontramos covariaciones específicas entre las variables endógenas."
   ]
  },
  {
   "cell_type": "markdown",
   "metadata": {
    "slideshow": {
     "slide_type": "slide"
    }
   },
   "source": [
    "Aunque el enfoque en esta etapa está en el modelo estructural, **la estimación del modelo SEM requiere que también se incluyan las especificaciones de medición**. De esta manera, el diagrama de ruta representa tanto la medición como la parte estructural de SEM en un modelo general.\n",
    "\n",
    "El modelo ya está listo para su estimación. Esto se convierte en la prueba de la teoría general, que incluye tanto las relaciones de medición de los indicadores con los constructos, como las relaciones estructurales hipotetizadas entre los constructos."
   ]
  },
  {
   "cell_type": "markdown",
   "metadata": {
    "slideshow": {
     "slide_type": "slide"
    }
   },
   "source": [
    "## Validez del modelo estructural\n",
    "\n",
    "Implica esfuerzos para **probar la validez del modelo estructural teórico propuesto y examinar las relaciones teóricas incrustadas dentro de esa teoría**.\n",
    "\n",
    "Si el modelo de medición no ha sobrevivido a sus pruebas de ajuste y otros aspectos de validez, no se recomienda evaluar un modelo estructural porque los resultados sugieren que la teoría de medición propuesta es defectuosa. De hecho, si uno no logra un ajuste aceptable para el modelo de medición, el ajuste del modelo no mejorará cuando se agreguen restricciones para representar el modelo estructural teórico.\n",
    "\n",
    "**Solo cuando el modelo de medición se valida por primera vez y logra un ajuste de modelo aceptable, podemos dirigir nuestra atención a una prueba de las relaciones estructurales**.\n"
   ]
  },
  {
   "cell_type": "markdown",
   "metadata": {
    "slideshow": {
     "slide_type": "subslide"
    }
   },
   "source": [
    "Surgen dos diferencias clave al probar el ajuste de un modelo estructural en relación con un modelo de medición. \n",
    "\n",
    "En primer lugar, aunque se debe volver a establecer un ajuste general aceptable del modelo, **se fomentan modelos teóricos alternativos o competidores para respaldar la superioridad de un modelo**. \n",
    "\n",
    "En segundo lugar, **las estimaciones de los parámetros para las relaciones estructurales se convierten en un foco si el ajuste es suficiente porque proporcionan evidencia empírica directa relacionada con las relaciones hipotéticas implícitas en el modelo teórico propuesto**."
   ]
  },
  {
   "cell_type": "markdown",
   "metadata": {
    "slideshow": {
     "slide_type": "subslide"
    }
   },
   "source": [
    "El proceso de establecer la validez del modelo estructural sigue las pautas generales descritas para el modelo de medición. Los datos observados todavía están representados por la matriz de covarianza de la muestra observada. Sin embargo, **se calcula una nueva matriz de covarianza estimada de SEM en función de las restricciones agregadas al modelo de medición necesarias para convertirlo en el modelo estructural propuesto**.\n",
    "\n",
    "**El ajuste general se puede evaluar utilizando los mismos criterios que el modelo de medición**: utilizando el valor $ X^{2} $ para el modelo estructural y al menos un índice absoluto y un índice incremental. \n",
    "\n",
    "Estas medidas establecen la validez del modelo estructural, pero las comparaciones entre el ajuste general también deben realizarse con el modelo de medición. Generalmente, **cuanto más se acerca el modelo estructural GOF al modelo de medición, mejor se ajusta al modelo estructural, porque el ajuste del modelo de medición proporciona un límite superior al GOF de un modelo estructural convencional**."
   ]
  },
  {
   "cell_type": "markdown",
   "metadata": {
    "slideshow": {
     "slide_type": "subslide"
    }
   },
   "source": [
    "También debemos **examinar las estimaciones de los parámetros individuales que representan cada vínculo o \"ruta\"**. Las rutas ilimitadas de un modelo teórico se consideran válidas en la medida en que las estimaciones de los parámetros sean:\n",
    "- **Estadísticamente significativo y en la dirección prevista**. Es decir, son mayores que cero para una relación positiva y menores que cero para una relación negativa.\n",
    "- **No trivial**. Se debe verificar la importancia práctica de los tamaños del efecto utilizando estimaciones de carga completamente estandarizadas. Los coeficientes pueden ser estadísticamente significativos pero prácticamente insignificantes, sobre todo a medida que las muestras aumentan de tamaño."
   ]
  },
  {
   "cell_type": "markdown",
   "metadata": {
    "slideshow": {
     "slide_type": "slide"
    }
   },
   "source": [
    "Validemos el modelo estructural de nuestro ejemplo:"
   ]
  },
  {
   "cell_type": "code",
   "execution_count": 65,
   "metadata": {
    "hideCode": false,
    "slideshow": {
     "slide_type": "skip"
    }
   },
   "outputs": [],
   "source": [
    "struct_model = semopy.Model(struct_desc)\n",
    "res = struct_model.fit(df)"
   ]
  },
  {
   "cell_type": "code",
   "execution_count": 66,
   "metadata": {
    "hideCode": true,
    "slideshow": {
     "slide_type": "fragment"
    }
   },
   "outputs": [
    {
     "name": "stdout",
     "output_type": "stream",
     "text": [
      "                    Value\n",
      "DoF             35.000000\n",
      "DoF Baseline    55.000000\n",
      "chi2            38.125446\n",
      "chi2 p-value     0.329171\n",
      "chi2 Baseline  730.654577\n",
      "CFI              0.995374\n",
      "GFI              0.947820\n",
      "AGFI             0.918003\n",
      "NFI              0.947820\n",
      "TLI              0.992731\n",
      "RMSEA            0.034738\n",
      "AIC             60.983321\n",
      "BIC            132.825453\n",
      "LogLik           0.508339\n"
     ]
    }
   ],
   "source": [
    "stats = semopy.calc_stats(struct_model)\n",
    "print(stats.T)"
   ]
  },
  {
   "cell_type": "markdown",
   "metadata": {
    "slideshow": {
     "slide_type": "fragment"
    }
   },
   "source": [
    "Al igual que en el modelo de medición, el modelo presenta un buen ajuste. De hecho podemos apreciar mejoras en los indicadores $X^{2}$, CFI y RMSEA."
   ]
  },
  {
   "cell_type": "markdown",
   "metadata": {
    "slideshow": {
     "slide_type": "subslide"
    }
   },
   "source": [
    "Procedamos ahora a examinar las estimaciones de los parámetros:"
   ]
  },
  {
   "cell_type": "code",
   "execution_count": 71,
   "metadata": {
    "hideCode": true,
    "slideshow": {
     "slide_type": "fragment"
    }
   },
   "outputs": [
    {
     "data": {
      "image/svg+xml": "<?xml version=\"1.0\" encoding=\"UTF-8\" standalone=\"no\"?>\n<!DOCTYPE svg PUBLIC \"-//W3C//DTD SVG 1.1//EN\"\n \"http://www.w3.org/Graphics/SVG/1.1/DTD/svg11.dtd\">\n<!-- Generated by graphviz version 2.43.0 (0)\n -->\n<!-- Title: G Pages: 1 -->\n<svg width=\"548pt\" height=\"627pt\"\n viewBox=\"0.00 0.00 548.00 627.48\" xmlns=\"http://www.w3.org/2000/svg\" xmlns:xlink=\"http://www.w3.org/1999/xlink\">\n<g id=\"graph0\" class=\"graph\" transform=\"scale(1 1) rotate(0) translate(4 623.48)\">\n<title>G</title>\n<polygon fill=\"white\" stroke=\"transparent\" points=\"-4,4 -4,-623.48 544,-623.48 544,4 -4,4\"/>\n<!-- dem65 -->\n<g id=\"node1\" class=\"node\">\n<title>dem65</title>\n<ellipse fill=\"#cae6df\" stroke=\"black\" cx=\"275\" cy=\"-329.1\" rx=\"35.19\" ry=\"35.19\"/>\n<text text-anchor=\"middle\" x=\"275\" y=\"-325.4\" font-family=\"Times,serif\" font-size=\"14.00\">dem65</text>\n</g>\n<!-- y5 -->\n<g id=\"node11\" class=\"node\">\n<title>y5</title>\n<polygon fill=\"none\" stroke=\"black\" points=\"244,-232 190,-232 190,-196 244,-196 244,-232\"/>\n<text text-anchor=\"middle\" x=\"217\" y=\"-210.3\" font-family=\"Times,serif\" font-size=\"14.00\">y5</text>\n</g>\n<!-- dem65&#45;&gt;y5 -->\n<g id=\"edge11\" class=\"edge\">\n<title>dem65&#45;&gt;y5</title>\n<path fill=\"none\" stroke=\"black\" d=\"M259.3,-297.49C250.33,-279.99 239.19,-258.26 230.59,-241.5\"/>\n<polygon fill=\"black\" stroke=\"black\" points=\"233.53,-239.57 225.86,-232.27 227.31,-242.76 233.53,-239.57\"/>\n<text text-anchor=\"middle\" x=\"262\" y=\"-259.9\" font-family=\"Times,serif\" font-size=\"12.00\">0.808</text>\n</g>\n<!-- y6 -->\n<g id=\"node12\" class=\"node\">\n<title>y6</title>\n<polygon fill=\"none\" stroke=\"black\" points=\"315,-134 261,-134 261,-98 315,-98 315,-134\"/>\n<text text-anchor=\"middle\" x=\"288\" y=\"-112.3\" font-family=\"Times,serif\" font-size=\"14.00\">y6</text>\n</g>\n<!-- dem65&#45;&gt;y6 -->\n<g id=\"edge12\" class=\"edge\">\n<title>dem65&#45;&gt;y6</title>\n<path fill=\"none\" stroke=\"black\" d=\"M306,-312.07C319.37,-303.36 333.61,-291.24 341,-276 365.04,-226.41 367.11,-200.53 341,-152 337.03,-144.63 330.76,-138.55 323.89,-133.64\"/>\n<polygon fill=\"black\" stroke=\"black\" points=\"325.33,-130.42 315,-128.05 321.6,-136.34 325.33,-130.42\"/>\n<text text-anchor=\"middle\" x=\"385\" y=\"-217.4\" font-family=\"Times,serif\" font-size=\"12.00\">0.746</text>\n<text text-anchor=\"middle\" x=\"385\" y=\"-204.4\" font-family=\"Times,serif\" font-size=\"12.00\">p&#45;val: 0.00</text>\n</g>\n<!-- y7 -->\n<g id=\"node13\" class=\"node\">\n<title>y7</title>\n<polygon fill=\"none\" stroke=\"black\" points=\"479,-232 425,-232 425,-196 479,-196 479,-232\"/>\n<text text-anchor=\"middle\" x=\"452\" y=\"-210.3\" font-family=\"Times,serif\" font-size=\"14.00\">y7</text>\n</g>\n<!-- dem65&#45;&gt;y7 -->\n<g id=\"edge13\" class=\"edge\">\n<title>dem65&#45;&gt;y7</title>\n<path fill=\"none\" stroke=\"black\" d=\"M306.06,-312.17C324.66,-302.32 348.58,-289.09 369,-276 387.17,-264.36 406.65,-250.14 422.17,-238.36\"/>\n<polygon fill=\"black\" stroke=\"black\" points=\"424.53,-240.96 430.35,-232.1 420.28,-235.4 424.53,-240.96\"/>\n<text text-anchor=\"middle\" x=\"432\" y=\"-266.4\" font-family=\"Times,serif\" font-size=\"12.00\">0.824</text>\n<text text-anchor=\"middle\" x=\"432\" y=\"-253.4\" font-family=\"Times,serif\" font-size=\"12.00\">p&#45;val: 0.00</text>\n</g>\n<!-- y8 -->\n<g id=\"node14\" class=\"node\">\n<title>y8</title>\n<polygon fill=\"none\" stroke=\"black\" points=\"316,-232 262,-232 262,-196 316,-196 316,-232\"/>\n<text text-anchor=\"middle\" x=\"289\" y=\"-210.3\" font-family=\"Times,serif\" font-size=\"14.00\">y8</text>\n</g>\n<!-- dem65&#45;&gt;y8 -->\n<g id=\"edge14\" class=\"edge\">\n<title>dem65&#45;&gt;y8</title>\n<path fill=\"none\" stroke=\"black\" d=\"M279.2,-294.16C281.26,-277.56 283.7,-257.85 285.63,-242.25\"/>\n<polygon fill=\"black\" stroke=\"black\" points=\"289.12,-242.55 286.87,-232.19 282.17,-241.69 289.12,-242.55\"/>\n<text text-anchor=\"middle\" x=\"311\" y=\"-266.4\" font-family=\"Times,serif\" font-size=\"12.00\">0.828</text>\n<text text-anchor=\"middle\" x=\"311\" y=\"-253.4\" font-family=\"Times,serif\" font-size=\"12.00\">p&#45;val: 0.00</text>\n</g>\n<!-- dem60 -->\n<g id=\"node2\" class=\"node\">\n<title>dem60</title>\n<ellipse fill=\"#cae6df\" stroke=\"black\" cx=\"181\" cy=\"-461.29\" rx=\"35.19\" ry=\"35.19\"/>\n<text text-anchor=\"middle\" x=\"181\" y=\"-457.59\" font-family=\"Times,serif\" font-size=\"14.00\">dem60</text>\n</g>\n<!-- dem60&#45;&gt;dem65 -->\n<g id=\"edge3\" class=\"edge\">\n<title>dem60&#45;&gt;dem65</title>\n<path fill=\"none\" stroke=\"black\" d=\"M186.01,-426.26C189.36,-411.72 194.9,-395.15 204,-382.19 212.34,-370.31 224.26,-360.08 235.96,-351.9\"/>\n<polygon fill=\"black\" stroke=\"black\" points=\"237.98,-354.76 244.38,-346.32 234.12,-348.93 237.98,-354.76\"/>\n<text text-anchor=\"middle\" x=\"230\" y=\"-398.59\" font-family=\"Times,serif\" font-size=\"12.00\">0.885</text>\n<text text-anchor=\"middle\" x=\"230\" y=\"-385.59\" font-family=\"Times,serif\" font-size=\"12.00\">p&#45;val: 0.00</text>\n</g>\n<!-- y1 -->\n<g id=\"node7\" class=\"node\">\n<title>y1</title>\n<polygon fill=\"none\" stroke=\"black\" points=\"129,-134 75,-134 75,-98 129,-98 129,-134\"/>\n<text text-anchor=\"middle\" x=\"102\" y=\"-112.3\" font-family=\"Times,serif\" font-size=\"14.00\">y1</text>\n</g>\n<!-- dem60&#45;&gt;y1 -->\n<g id=\"edge7\" class=\"edge\">\n<title>dem60&#45;&gt;y1</title>\n<path fill=\"none\" stroke=\"black\" d=\"M173.28,-426.75C157.65,-358.81 122.51,-206.12 108.22,-144.03\"/>\n<polygon fill=\"black\" stroke=\"black\" points=\"111.61,-143.16 105.96,-134.2 104.79,-144.73 111.61,-143.16\"/>\n<text text-anchor=\"middle\" x=\"152\" y=\"-259.9\" font-family=\"Times,serif\" font-size=\"12.00\">0.850</text>\n</g>\n<!-- y2 -->\n<g id=\"node8\" class=\"node\">\n<title>y2</title>\n<polygon fill=\"none\" stroke=\"black\" points=\"215,-36 161,-36 161,0 215,0 215,-36\"/>\n<text text-anchor=\"middle\" x=\"188\" y=\"-14.3\" font-family=\"Times,serif\" font-size=\"14.00\">y2</text>\n</g>\n<!-- dem60&#45;&gt;y2 -->\n<g id=\"edge8\" class=\"edge\">\n<title>dem60&#45;&gt;y2</title>\n<path fill=\"none\" stroke=\"black\" d=\"M146.96,-452.33C94.52,-437.81 0,-401.71 0,-330.1 0,-330.1 0,-330.1 0,-115 0,-48.04 95.78,-27.76 150.61,-21.63\"/>\n<polygon fill=\"black\" stroke=\"black\" points=\"151.07,-25.11 160.66,-20.62 150.36,-18.14 151.07,-25.11\"/>\n<text text-anchor=\"middle\" x=\"26\" y=\"-217.4\" font-family=\"Times,serif\" font-size=\"12.00\">0.717</text>\n<text text-anchor=\"middle\" x=\"26\" y=\"-204.4\" font-family=\"Times,serif\" font-size=\"12.00\">p&#45;val: 0.00</text>\n</g>\n<!-- y3 -->\n<g id=\"node9\" class=\"node\">\n<title>y3</title>\n<polygon fill=\"none\" stroke=\"black\" points=\"506,-134 452,-134 452,-98 506,-98 506,-134\"/>\n<text text-anchor=\"middle\" x=\"479\" y=\"-112.3\" font-family=\"Times,serif\" font-size=\"14.00\">y3</text>\n</g>\n<!-- dem60&#45;&gt;y3 -->\n<g id=\"edge9\" class=\"edge\">\n<title>dem60&#45;&gt;y3</title>\n<path fill=\"none\" stroke=\"black\" d=\"M212.58,-445.64C268.37,-418.53 385.67,-355.98 462,-276 501.71,-234.39 513.76,-207.59 499,-152 498.2,-148.99 497.07,-145.96 495.75,-143.02\"/>\n<polygon fill=\"black\" stroke=\"black\" points=\"498.8,-141.28 491.07,-134.03 492.59,-144.51 498.8,-141.28\"/>\n<text text-anchor=\"middle\" x=\"509\" y=\"-266.4\" font-family=\"Times,serif\" font-size=\"12.00\">0.722</text>\n<text text-anchor=\"middle\" x=\"509\" y=\"-253.4\" font-family=\"Times,serif\" font-size=\"12.00\">p&#45;val: 0.00</text>\n</g>\n<!-- y4 -->\n<g id=\"node10\" class=\"node\">\n<title>y4</title>\n<polygon fill=\"none\" stroke=\"black\" points=\"215,-134 161,-134 161,-98 215,-98 215,-134\"/>\n<text text-anchor=\"middle\" x=\"188\" y=\"-112.3\" font-family=\"Times,serif\" font-size=\"14.00\">y4</text>\n</g>\n<!-- dem60&#45;&gt;y4 -->\n<g id=\"edge10\" class=\"edge\">\n<title>dem60&#45;&gt;y4</title>\n<path fill=\"none\" stroke=\"black\" d=\"M179.83,-426.05C178.38,-375.63 176.59,-278.47 181,-196 181.92,-178.85 183.6,-159.66 185.09,-144.49\"/>\n<polygon fill=\"black\" stroke=\"black\" points=\"188.6,-144.54 186.12,-134.24 181.64,-143.83 188.6,-144.54\"/>\n<text text-anchor=\"middle\" x=\"205\" y=\"-266.4\" font-family=\"Times,serif\" font-size=\"12.00\">0.846</text>\n<text text-anchor=\"middle\" x=\"205\" y=\"-253.4\" font-family=\"Times,serif\" font-size=\"12.00\">p&#45;val: 0.00</text>\n</g>\n<!-- ind60 -->\n<g id=\"node3\" class=\"node\">\n<title>ind60</title>\n<ellipse fill=\"#cae6df\" stroke=\"black\" cx=\"367\" cy=\"-588.93\" rx=\"30.59\" ry=\"30.59\"/>\n<text text-anchor=\"middle\" x=\"367\" y=\"-585.23\" font-family=\"Times,serif\" font-size=\"14.00\">ind60</text>\n</g>\n<!-- ind60&#45;&gt;dem65 -->\n<g id=\"edge2\" class=\"edge\">\n<title>ind60&#45;&gt;dem65</title>\n<path fill=\"none\" stroke=\"black\" d=\"M342.03,-570.52C320.87,-554.14 291.97,-527.52 279,-496.39 262.74,-457.37 263.77,-408.62 267.63,-374.01\"/>\n<polygon fill=\"black\" stroke=\"black\" points=\"271.14,-374.1 268.9,-363.75 264.19,-373.24 271.14,-374.1\"/>\n<text text-anchor=\"middle\" x=\"305\" y=\"-464.69\" font-family=\"Times,serif\" font-size=\"12.00\">0.182</text>\n<text text-anchor=\"middle\" x=\"305\" y=\"-451.69\" font-family=\"Times,serif\" font-size=\"12.00\">p&#45;val: 0.01</text>\n</g>\n<!-- ind60&#45;&gt;dem60 -->\n<g id=\"edge1\" class=\"edge\">\n<title>ind60&#45;&gt;dem60</title>\n<path fill=\"none\" stroke=\"black\" d=\"M336.19,-587.42C299.72,-585.13 239.48,-575.78 204,-540.39 194.84,-531.25 189.29,-518.66 185.94,-506.26\"/>\n<polygon fill=\"black\" stroke=\"black\" points=\"189.33,-505.4 183.7,-496.43 182.51,-506.95 189.33,-505.4\"/>\n<text text-anchor=\"middle\" x=\"230\" y=\"-530.79\" font-family=\"Times,serif\" font-size=\"12.00\">0.447</text>\n<text text-anchor=\"middle\" x=\"230\" y=\"-517.79\" font-family=\"Times,serif\" font-size=\"12.00\">p&#45;val: 0.00</text>\n</g>\n<!-- x1 -->\n<g id=\"node4\" class=\"node\">\n<title>x1</title>\n<polygon fill=\"none\" stroke=\"black\" points=\"394,-479.29 340,-479.29 340,-443.29 394,-443.29 394,-479.29\"/>\n<text text-anchor=\"middle\" x=\"367\" y=\"-457.59\" font-family=\"Times,serif\" font-size=\"14.00\">x1</text>\n</g>\n<!-- ind60&#45;&gt;x1 -->\n<g id=\"edge4\" class=\"edge\">\n<title>ind60&#45;&gt;x1</title>\n<path fill=\"none\" stroke=\"black\" d=\"M367,-558.16C367,-537.37 367,-509.83 367,-489.6\"/>\n<polygon fill=\"black\" stroke=\"black\" points=\"370.5,-489.48 367,-479.48 363.5,-489.48 370.5,-489.48\"/>\n<text text-anchor=\"middle\" x=\"381\" y=\"-524.29\" font-family=\"Times,serif\" font-size=\"12.00\">0.920</text>\n</g>\n<!-- x2 -->\n<g id=\"node5\" class=\"node\">\n<title>x2</title>\n<polygon fill=\"none\" stroke=\"black\" points=\"466,-479.29 412,-479.29 412,-443.29 466,-443.29 466,-479.29\"/>\n<text text-anchor=\"middle\" x=\"439\" y=\"-457.59\" font-family=\"Times,serif\" font-size=\"14.00\">x2</text>\n</g>\n<!-- ind60&#45;&gt;x2 -->\n<g id=\"edge5\" class=\"edge\">\n<title>ind60&#45;&gt;x2</title>\n<path fill=\"none\" stroke=\"black\" d=\"M384.18,-563.62C389.15,-556.27 394.45,-548.1 399,-540.39 408.9,-523.6 418.9,-504.08 426.42,-488.75\"/>\n<polygon fill=\"black\" stroke=\"black\" points=\"429.77,-489.89 430.98,-479.36 423.47,-486.83 429.77,-489.89\"/>\n<text text-anchor=\"middle\" x=\"439\" y=\"-530.79\" font-family=\"Times,serif\" font-size=\"12.00\">0.973</text>\n<text text-anchor=\"middle\" x=\"439\" y=\"-517.79\" font-family=\"Times,serif\" font-size=\"12.00\">p&#45;val: 0.00</text>\n</g>\n<!-- x3 -->\n<g id=\"node6\" class=\"node\">\n<title>x3</title>\n<polygon fill=\"none\" stroke=\"black\" points=\"539,-479.29 485,-479.29 485,-443.29 539,-443.29 539,-479.29\"/>\n<text text-anchor=\"middle\" x=\"512\" y=\"-457.59\" font-family=\"Times,serif\" font-size=\"14.00\">x3</text>\n</g>\n<!-- ind60&#45;&gt;x3 -->\n<g id=\"edge6\" class=\"edge\">\n<title>ind60&#45;&gt;x3</title>\n<path fill=\"none\" stroke=\"black\" d=\"M396.23,-579.78C418.33,-572.42 448.31,-559.74 469,-540.39 484.07,-526.29 495.11,-505.7 502.23,-489.19\"/>\n<polygon fill=\"black\" stroke=\"black\" points=\"505.63,-490.12 506.15,-479.54 499.14,-487.49 505.63,-490.12\"/>\n<text text-anchor=\"middle\" x=\"514\" y=\"-530.79\" font-family=\"Times,serif\" font-size=\"12.00\">0.872</text>\n<text text-anchor=\"middle\" x=\"514\" y=\"-517.79\" font-family=\"Times,serif\" font-size=\"12.00\">p&#45;val: 0.00</text>\n</g>\n<!-- y4&#45;&gt;y2 -->\n<g id=\"edge16\" class=\"edge\">\n<title>y4&#45;&gt;y2</title>\n<path fill=\"none\" stroke=\"black\" stroke-dasharray=\"5,2\" d=\"M188,-87.61C188,-74.63 188,-59.16 188,-46.2\"/>\n<polygon fill=\"black\" stroke=\"black\" points=\"184.5,-87.84 188,-97.84 191.5,-87.84 184.5,-87.84\"/>\n<polygon fill=\"black\" stroke=\"black\" points=\"191.5,-46.01 188,-36.01 184.5,-46.01 191.5,-46.01\"/>\n<text text-anchor=\"middle\" x=\"214\" y=\"-70.4\" font-family=\"Times,serif\" font-size=\"12.00\">0.102</text>\n<text text-anchor=\"middle\" x=\"214\" y=\"-57.4\" font-family=\"Times,serif\" font-size=\"12.00\">p&#45;val: 0.06</text>\n</g>\n<!-- y5&#45;&gt;y1 -->\n<g id=\"edge15\" class=\"edge\">\n<title>y5&#45;&gt;y1</title>\n<path fill=\"none\" stroke=\"black\" stroke-dasharray=\"5,2\" d=\"M180.77,-195.29C171.95,-190.25 162.82,-184.38 155,-178 142.32,-167.65 130.19,-154.06 120.74,-142.34\"/>\n<polygon fill=\"black\" stroke=\"black\" points=\"179.33,-198.49 189.78,-200.22 182.69,-192.35 179.33,-198.49\"/>\n<polygon fill=\"black\" stroke=\"black\" points=\"123.29,-139.91 114.36,-134.2 117.78,-144.23 123.29,-139.91\"/>\n<text text-anchor=\"middle\" x=\"181\" y=\"-168.4\" font-family=\"Times,serif\" font-size=\"12.00\">0.092</text>\n<text text-anchor=\"middle\" x=\"181\" y=\"-155.4\" font-family=\"Times,serif\" font-size=\"12.00\">p&#45;val: 0.08</text>\n</g>\n<!-- y6&#45;&gt;y2 -->\n<g id=\"edge17\" class=\"edge\">\n<title>y6&#45;&gt;y2</title>\n<path fill=\"none\" stroke=\"black\" stroke-dasharray=\"5,2\" d=\"M272.75,-89.37C265.05,-77.74 255.02,-64.31 244,-54 238,-48.38 230.96,-43.16 223.94,-38.56\"/>\n<polygon fill=\"black\" stroke=\"black\" points=\"269.82,-91.29 278.15,-97.84 275.72,-87.53 269.82,-91.29\"/>\n<polygon fill=\"black\" stroke=\"black\" points=\"225.48,-35.4 215.14,-33.08 221.78,-41.34 225.48,-35.4\"/>\n<text text-anchor=\"middle\" x=\"292\" y=\"-70.4\" font-family=\"Times,serif\" font-size=\"12.00\">0.166</text>\n<text text-anchor=\"middle\" x=\"292\" y=\"-57.4\" font-family=\"Times,serif\" font-size=\"12.00\">p&#45;val: 0.00</text>\n</g>\n<!-- y7&#45;&gt;y3 -->\n<g id=\"edge18\" class=\"edge\">\n<title>y7&#45;&gt;y3</title>\n<path fill=\"none\" stroke=\"black\" stroke-dasharray=\"5,2\" d=\"M444.74,-186.02C443.09,-175.14 442.86,-162.66 447,-152 448.36,-148.49 450.26,-145.12 452.45,-141.95\"/>\n<polygon fill=\"black\" stroke=\"black\" points=\"441.31,-186.71 446.66,-195.85 448.18,-185.37 441.31,-186.71\"/>\n<polygon fill=\"black\" stroke=\"black\" points=\"455.25,-144.06 458.8,-134.07 449.8,-139.67 455.25,-144.06\"/>\n<text text-anchor=\"middle\" x=\"473\" y=\"-168.4\" font-family=\"Times,serif\" font-size=\"12.00\">0.075</text>\n<text text-anchor=\"middle\" x=\"473\" y=\"-155.4\" font-family=\"Times,serif\" font-size=\"12.00\">p&#45;val: 0.19</text>\n</g>\n<!-- y8&#45;&gt;y4 -->\n<g id=\"edge19\" class=\"edge\">\n<title>y8&#45;&gt;y4</title>\n<path fill=\"none\" stroke=\"black\" stroke-dasharray=\"5,2\" d=\"M253.31,-194.09C245.87,-189.35 238.36,-183.91 232,-178 220.94,-167.73 210.9,-154.31 203.22,-142.67\"/>\n<polygon fill=\"black\" stroke=\"black\" points=\"251.57,-197.13 261.94,-199.33 255.2,-191.15 251.57,-197.13\"/>\n<polygon fill=\"black\" stroke=\"black\" points=\"206.14,-140.75 197.82,-134.19 200.24,-144.51 206.14,-140.75\"/>\n<text text-anchor=\"middle\" x=\"258\" y=\"-168.4\" font-family=\"Times,serif\" font-size=\"12.00\">0.032</text>\n<text text-anchor=\"middle\" x=\"258\" y=\"-155.4\" font-family=\"Times,serif\" font-size=\"12.00\">p&#45;val: 0.43</text>\n</g>\n<!-- y8&#45;&gt;y6 -->\n<g id=\"edge20\" class=\"edge\">\n<title>y8&#45;&gt;y6</title>\n<path fill=\"none\" stroke=\"black\" stroke-dasharray=\"5,2\" d=\"M288.71,-185.61C288.58,-172.63 288.42,-157.16 288.28,-144.2\"/>\n<polygon fill=\"black\" stroke=\"black\" points=\"285.22,-185.87 288.82,-195.84 292.22,-185.8 285.22,-185.87\"/>\n<polygon fill=\"black\" stroke=\"black\" points=\"291.78,-143.98 288.18,-134.01 284.78,-144.05 291.78,-143.98\"/>\n<text text-anchor=\"middle\" x=\"314\" y=\"-168.4\" font-family=\"Times,serif\" font-size=\"12.00\">0.126</text>\n<text text-anchor=\"middle\" x=\"314\" y=\"-155.4\" font-family=\"Times,serif\" font-size=\"12.00\">p&#45;val: 0.02</text>\n</g>\n</g>\n</svg>\n",
      "text/plain": [
       "<graphviz.graphs.Digraph at 0x7f553bddca60>"
      ]
     },
     "execution_count": 71,
     "metadata": {},
     "output_type": "execute_result"
    }
   ],
   "source": [
    "g = semopy.semplot(struct_model, \"out.png\", std_ests=True, plot_covs= True)\n",
    "g"
   ]
  },
  {
   "cell_type": "code",
   "execution_count": 68,
   "metadata": {
    "hideCode": true,
    "slideshow": {
     "slide_type": "subslide"
    }
   },
   "outputs": [
    {
     "data": {
      "text/html": [
       "<div>\n",
       "<style scoped>\n",
       "    .dataframe tbody tr th:only-of-type {\n",
       "        vertical-align: middle;\n",
       "    }\n",
       "\n",
       "    .dataframe tbody tr th {\n",
       "        vertical-align: top;\n",
       "    }\n",
       "\n",
       "    .dataframe thead th {\n",
       "        text-align: right;\n",
       "    }\n",
       "</style>\n",
       "<table border=\"1\" class=\"dataframe\">\n",
       "  <thead>\n",
       "    <tr style=\"text-align: right;\">\n",
       "      <th></th>\n",
       "      <th>lval</th>\n",
       "      <th>op</th>\n",
       "      <th>rval</th>\n",
       "      <th>Estimate</th>\n",
       "      <th>Est. Std</th>\n",
       "      <th>Std. Err</th>\n",
       "      <th>z-value</th>\n",
       "      <th>p-value</th>\n",
       "    </tr>\n",
       "  </thead>\n",
       "  <tbody>\n",
       "    <tr>\n",
       "      <th>0</th>\n",
       "      <td>dem60</td>\n",
       "      <td>~</td>\n",
       "      <td>ind60</td>\n",
       "      <td>1.482379</td>\n",
       "      <td>0.446751</td>\n",
       "      <td>0.399024</td>\n",
       "      <td>3.715017</td>\n",
       "      <td>0.000203</td>\n",
       "    </tr>\n",
       "    <tr>\n",
       "      <th>1</th>\n",
       "      <td>dem65</td>\n",
       "      <td>~</td>\n",
       "      <td>ind60</td>\n",
       "      <td>0.571912</td>\n",
       "      <td>0.182178</td>\n",
       "      <td>0.221383</td>\n",
       "      <td>2.583364</td>\n",
       "      <td>0.009784</td>\n",
       "    </tr>\n",
       "    <tr>\n",
       "      <th>2</th>\n",
       "      <td>dem65</td>\n",
       "      <td>~</td>\n",
       "      <td>dem60</td>\n",
       "      <td>0.837574</td>\n",
       "      <td>0.885286</td>\n",
       "      <td>0.098446</td>\n",
       "      <td>8.507992</td>\n",
       "      <td>0.0</td>\n",
       "    </tr>\n",
       "    <tr>\n",
       "      <th>3</th>\n",
       "      <td>x1</td>\n",
       "      <td>~</td>\n",
       "      <td>ind60</td>\n",
       "      <td>1.000000</td>\n",
       "      <td>0.919814</td>\n",
       "      <td>-</td>\n",
       "      <td>-</td>\n",
       "      <td>-</td>\n",
       "    </tr>\n",
       "    <tr>\n",
       "      <th>4</th>\n",
       "      <td>x2</td>\n",
       "      <td>~</td>\n",
       "      <td>ind60</td>\n",
       "      <td>2.180494</td>\n",
       "      <td>0.973010</td>\n",
       "      <td>0.138565</td>\n",
       "      <td>15.736254</td>\n",
       "      <td>0.0</td>\n",
       "    </tr>\n",
       "    <tr>\n",
       "      <th>5</th>\n",
       "      <td>x3</td>\n",
       "      <td>~</td>\n",
       "      <td>ind60</td>\n",
       "      <td>1.818546</td>\n",
       "      <td>0.872109</td>\n",
       "      <td>0.151993</td>\n",
       "      <td>11.96465</td>\n",
       "      <td>0.0</td>\n",
       "    </tr>\n",
       "    <tr>\n",
       "      <th>6</th>\n",
       "      <td>y1</td>\n",
       "      <td>~</td>\n",
       "      <td>dem60</td>\n",
       "      <td>1.000000</td>\n",
       "      <td>0.850193</td>\n",
       "      <td>-</td>\n",
       "      <td>-</td>\n",
       "      <td>-</td>\n",
       "    </tr>\n",
       "    <tr>\n",
       "      <th>7</th>\n",
       "      <td>y2</td>\n",
       "      <td>~</td>\n",
       "      <td>dem60</td>\n",
       "      <td>1.256819</td>\n",
       "      <td>0.716628</td>\n",
       "      <td>0.182687</td>\n",
       "      <td>6.879647</td>\n",
       "      <td>0.0</td>\n",
       "    </tr>\n",
       "    <tr>\n",
       "      <th>8</th>\n",
       "      <td>y3</td>\n",
       "      <td>~</td>\n",
       "      <td>dem60</td>\n",
       "      <td>1.058174</td>\n",
       "      <td>0.722308</td>\n",
       "      <td>0.151521</td>\n",
       "      <td>6.983699</td>\n",
       "      <td>0.0</td>\n",
       "    </tr>\n",
       "    <tr>\n",
       "      <th>9</th>\n",
       "      <td>y4</td>\n",
       "      <td>~</td>\n",
       "      <td>dem60</td>\n",
       "      <td>1.265186</td>\n",
       "      <td>0.845633</td>\n",
       "      <td>0.145151</td>\n",
       "      <td>8.716344</td>\n",
       "      <td>0.0</td>\n",
       "    </tr>\n",
       "    <tr>\n",
       "      <th>10</th>\n",
       "      <td>y5</td>\n",
       "      <td>~</td>\n",
       "      <td>dem65</td>\n",
       "      <td>1.000000</td>\n",
       "      <td>0.807842</td>\n",
       "      <td>-</td>\n",
       "      <td>-</td>\n",
       "      <td>-</td>\n",
       "    </tr>\n",
       "    <tr>\n",
       "      <th>11</th>\n",
       "      <td>y6</td>\n",
       "      <td>~</td>\n",
       "      <td>dem65</td>\n",
       "      <td>1.185743</td>\n",
       "      <td>0.745866</td>\n",
       "      <td>0.168908</td>\n",
       "      <td>7.020032</td>\n",
       "      <td>0.0</td>\n",
       "    </tr>\n",
       "    <tr>\n",
       "      <th>12</th>\n",
       "      <td>y7</td>\n",
       "      <td>~</td>\n",
       "      <td>dem65</td>\n",
       "      <td>1.279717</td>\n",
       "      <td>0.823655</td>\n",
       "      <td>0.159996</td>\n",
       "      <td>7.99841</td>\n",
       "      <td>0.0</td>\n",
       "    </tr>\n",
       "    <tr>\n",
       "      <th>13</th>\n",
       "      <td>y8</td>\n",
       "      <td>~</td>\n",
       "      <td>dem65</td>\n",
       "      <td>1.266084</td>\n",
       "      <td>0.827667</td>\n",
       "      <td>0.158238</td>\n",
       "      <td>8.001141</td>\n",
       "      <td>0.0</td>\n",
       "    </tr>\n",
       "    <tr>\n",
       "      <th>14</th>\n",
       "      <td>dem65</td>\n",
       "      <td>~~</td>\n",
       "      <td>dem65</td>\n",
       "      <td>0.172210</td>\n",
       "      <td>0.038976</td>\n",
       "      <td>0.214861</td>\n",
       "      <td>0.801494</td>\n",
       "      <td>0.422846</td>\n",
       "    </tr>\n",
       "    <tr>\n",
       "      <th>15</th>\n",
       "      <td>dem60</td>\n",
       "      <td>~~</td>\n",
       "      <td>dem60</td>\n",
       "      <td>3.950849</td>\n",
       "      <td>0.800413</td>\n",
       "      <td>0.920451</td>\n",
       "      <td>4.292296</td>\n",
       "      <td>0.000018</td>\n",
       "    </tr>\n",
       "    <tr>\n",
       "      <th>16</th>\n",
       "      <td>ind60</td>\n",
       "      <td>~~</td>\n",
       "      <td>ind60</td>\n",
       "      <td>0.448321</td>\n",
       "      <td>1.000000</td>\n",
       "      <td>0.086677</td>\n",
       "      <td>5.172345</td>\n",
       "      <td>0.0</td>\n",
       "    </tr>\n",
       "    <tr>\n",
       "      <th>17</th>\n",
       "      <td>y1</td>\n",
       "      <td>~~</td>\n",
       "      <td>y5</td>\n",
       "      <td>0.624423</td>\n",
       "      <td>0.091835</td>\n",
       "      <td>0.358435</td>\n",
       "      <td>1.742083</td>\n",
       "      <td>0.081494</td>\n",
       "    </tr>\n",
       "    <tr>\n",
       "      <th>18</th>\n",
       "      <td>y1</td>\n",
       "      <td>~~</td>\n",
       "      <td>y1</td>\n",
       "      <td>1.892743</td>\n",
       "      <td>0.277173</td>\n",
       "      <td>0.44456</td>\n",
       "      <td>4.257565</td>\n",
       "      <td>0.000021</td>\n",
       "    </tr>\n",
       "    <tr>\n",
       "      <th>19</th>\n",
       "      <td>y2</td>\n",
       "      <td>~~</td>\n",
       "      <td>y4</td>\n",
       "      <td>1.319589</td>\n",
       "      <td>0.101885</td>\n",
       "      <td>0.70268</td>\n",
       "      <td>1.877937</td>\n",
       "      <td>0.06039</td>\n",
       "    </tr>\n",
       "    <tr>\n",
       "      <th>20</th>\n",
       "      <td>y2</td>\n",
       "      <td>~~</td>\n",
       "      <td>y6</td>\n",
       "      <td>2.156164</td>\n",
       "      <td>0.165599</td>\n",
       "      <td>0.734155</td>\n",
       "      <td>2.936934</td>\n",
       "      <td>0.003315</td>\n",
       "    </tr>\n",
       "    <tr>\n",
       "      <th>21</th>\n",
       "      <td>y2</td>\n",
       "      <td>~~</td>\n",
       "      <td>y2</td>\n",
       "      <td>7.385292</td>\n",
       "      <td>0.486445</td>\n",
       "      <td>1.375671</td>\n",
       "      <td>5.368501</td>\n",
       "      <td>0.0</td>\n",
       "    </tr>\n",
       "    <tr>\n",
       "      <th>22</th>\n",
       "      <td>y3</td>\n",
       "      <td>~~</td>\n",
       "      <td>y7</td>\n",
       "      <td>0.793329</td>\n",
       "      <td>0.074634</td>\n",
       "      <td>0.607642</td>\n",
       "      <td>1.305585</td>\n",
       "      <td>0.191694</td>\n",
       "    </tr>\n",
       "    <tr>\n",
       "      <th>23</th>\n",
       "      <td>y3</td>\n",
       "      <td>~~</td>\n",
       "      <td>y3</td>\n",
       "      <td>5.066628</td>\n",
       "      <td>0.478271</td>\n",
       "      <td>0.951722</td>\n",
       "      <td>5.323646</td>\n",
       "      <td>0.0</td>\n",
       "    </tr>\n",
       "    <tr>\n",
       "      <th>24</th>\n",
       "      <td>y4</td>\n",
       "      <td>~~</td>\n",
       "      <td>y8</td>\n",
       "      <td>0.347222</td>\n",
       "      <td>0.032487</td>\n",
       "      <td>0.442234</td>\n",
       "      <td>0.785154</td>\n",
       "      <td>0.432363</td>\n",
       "    </tr>\n",
       "    <tr>\n",
       "      <th>25</th>\n",
       "      <td>y4</td>\n",
       "      <td>~~</td>\n",
       "      <td>y4</td>\n",
       "      <td>3.147911</td>\n",
       "      <td>0.284906</td>\n",
       "      <td>0.738841</td>\n",
       "      <td>4.260605</td>\n",
       "      <td>0.00002</td>\n",
       "    </tr>\n",
       "    <tr>\n",
       "      <th>26</th>\n",
       "      <td>y6</td>\n",
       "      <td>~~</td>\n",
       "      <td>y8</td>\n",
       "      <td>1.357037</td>\n",
       "      <td>0.126299</td>\n",
       "      <td>0.5685</td>\n",
       "      <td>2.387047</td>\n",
       "      <td>0.016984</td>\n",
       "    </tr>\n",
       "    <tr>\n",
       "      <th>27</th>\n",
       "      <td>y6</td>\n",
       "      <td>~~</td>\n",
       "      <td>y6</td>\n",
       "      <td>4.954364</td>\n",
       "      <td>0.443683</td>\n",
       "      <td>0.914284</td>\n",
       "      <td>5.418843</td>\n",
       "      <td>0.0</td>\n",
       "    </tr>\n",
       "    <tr>\n",
       "      <th>28</th>\n",
       "      <td>x2</td>\n",
       "      <td>~~</td>\n",
       "      <td>x2</td>\n",
       "      <td>0.119894</td>\n",
       "      <td>0.053252</td>\n",
       "      <td>0.069747</td>\n",
       "      <td>1.718973</td>\n",
       "      <td>0.085619</td>\n",
       "    </tr>\n",
       "    <tr>\n",
       "      <th>29</th>\n",
       "      <td>y5</td>\n",
       "      <td>~~</td>\n",
       "      <td>y5</td>\n",
       "      <td>2.351910</td>\n",
       "      <td>0.347391</td>\n",
       "      <td>0.480369</td>\n",
       "      <td>4.896044</td>\n",
       "      <td>0.000001</td>\n",
       "    </tr>\n",
       "    <tr>\n",
       "      <th>30</th>\n",
       "      <td>x1</td>\n",
       "      <td>~~</td>\n",
       "      <td>x1</td>\n",
       "      <td>0.081573</td>\n",
       "      <td>0.153942</td>\n",
       "      <td>0.019495</td>\n",
       "      <td>4.184317</td>\n",
       "      <td>0.000029</td>\n",
       "    </tr>\n",
       "    <tr>\n",
       "      <th>31</th>\n",
       "      <td>y8</td>\n",
       "      <td>~~</td>\n",
       "      <td>y8</td>\n",
       "      <td>3.256389</td>\n",
       "      <td>0.314968</td>\n",
       "      <td>0.69504</td>\n",
       "      <td>4.685182</td>\n",
       "      <td>0.000003</td>\n",
       "    </tr>\n",
       "    <tr>\n",
       "      <th>32</th>\n",
       "      <td>x3</td>\n",
       "      <td>~~</td>\n",
       "      <td>x3</td>\n",
       "      <td>0.466732</td>\n",
       "      <td>0.239426</td>\n",
       "      <td>0.090168</td>\n",
       "      <td>5.176276</td>\n",
       "      <td>0.0</td>\n",
       "    </tr>\n",
       "    <tr>\n",
       "      <th>33</th>\n",
       "      <td>y7</td>\n",
       "      <td>~~</td>\n",
       "      <td>y7</td>\n",
       "      <td>3.430032</td>\n",
       "      <td>0.321592</td>\n",
       "      <td>0.712732</td>\n",
       "      <td>4.812512</td>\n",
       "      <td>0.000001</td>\n",
       "    </tr>\n",
       "  </tbody>\n",
       "</table>\n",
       "</div>"
      ],
      "text/plain": [
       "     lval  op   rval  Estimate  Est. Std  Std. Err    z-value   p-value\n",
       "0   dem60   ~  ind60  1.482379  0.446751  0.399024   3.715017  0.000203\n",
       "1   dem65   ~  ind60  0.571912  0.182178  0.221383   2.583364  0.009784\n",
       "2   dem65   ~  dem60  0.837574  0.885286  0.098446   8.507992       0.0\n",
       "3      x1   ~  ind60  1.000000  0.919814         -          -         -\n",
       "4      x2   ~  ind60  2.180494  0.973010  0.138565  15.736254       0.0\n",
       "5      x3   ~  ind60  1.818546  0.872109  0.151993   11.96465       0.0\n",
       "6      y1   ~  dem60  1.000000  0.850193         -          -         -\n",
       "7      y2   ~  dem60  1.256819  0.716628  0.182687   6.879647       0.0\n",
       "8      y3   ~  dem60  1.058174  0.722308  0.151521   6.983699       0.0\n",
       "9      y4   ~  dem60  1.265186  0.845633  0.145151   8.716344       0.0\n",
       "10     y5   ~  dem65  1.000000  0.807842         -          -         -\n",
       "11     y6   ~  dem65  1.185743  0.745866  0.168908   7.020032       0.0\n",
       "12     y7   ~  dem65  1.279717  0.823655  0.159996    7.99841       0.0\n",
       "13     y8   ~  dem65  1.266084  0.827667  0.158238   8.001141       0.0\n",
       "14  dem65  ~~  dem65  0.172210  0.038976  0.214861   0.801494  0.422846\n",
       "15  dem60  ~~  dem60  3.950849  0.800413  0.920451   4.292296  0.000018\n",
       "16  ind60  ~~  ind60  0.448321  1.000000  0.086677   5.172345       0.0\n",
       "17     y1  ~~     y5  0.624423  0.091835  0.358435   1.742083  0.081494\n",
       "18     y1  ~~     y1  1.892743  0.277173   0.44456   4.257565  0.000021\n",
       "19     y2  ~~     y4  1.319589  0.101885   0.70268   1.877937   0.06039\n",
       "20     y2  ~~     y6  2.156164  0.165599  0.734155   2.936934  0.003315\n",
       "21     y2  ~~     y2  7.385292  0.486445  1.375671   5.368501       0.0\n",
       "22     y3  ~~     y7  0.793329  0.074634  0.607642   1.305585  0.191694\n",
       "23     y3  ~~     y3  5.066628  0.478271  0.951722   5.323646       0.0\n",
       "24     y4  ~~     y8  0.347222  0.032487  0.442234   0.785154  0.432363\n",
       "25     y4  ~~     y4  3.147911  0.284906  0.738841   4.260605   0.00002\n",
       "26     y6  ~~     y8  1.357037  0.126299    0.5685   2.387047  0.016984\n",
       "27     y6  ~~     y6  4.954364  0.443683  0.914284   5.418843       0.0\n",
       "28     x2  ~~     x2  0.119894  0.053252  0.069747   1.718973  0.085619\n",
       "29     y5  ~~     y5  2.351910  0.347391  0.480369   4.896044  0.000001\n",
       "30     x1  ~~     x1  0.081573  0.153942  0.019495   4.184317  0.000029\n",
       "31     y8  ~~     y8  3.256389  0.314968   0.69504   4.685182  0.000003\n",
       "32     x3  ~~     x3  0.466732  0.239426  0.090168   5.176276       0.0\n",
       "33     y7  ~~     y7  3.430032  0.321592  0.712732   4.812512  0.000001"
      ]
     },
     "execution_count": 68,
     "metadata": {},
     "output_type": "execute_result"
    }
   ],
   "source": [
    "estimates = struct_model.inspect(std_est=True)\n",
    "estimates"
   ]
  },
  {
   "cell_type": "markdown",
   "metadata": {
    "slideshow": {
     "slide_type": "fragment"
    }
   },
   "source": [
    "Podemos apreciar que tanto `dem60` como `ind60` presentan parámetros estadísticamente significativos y relevantes para `dem65`. Además, encontramos que las covariaciones entre las variables endógenas son significativas, a excepción de `y7~y3` e `y4-y8`."
   ]
  },
  {
   "cell_type": "markdown",
   "metadata": {
    "slideshow": {
     "slide_type": "fragment"
    }
   },
   "source": [
    "Podemos apreciar también que `Coworkers` y `Work_Environment` covarían negativamente de manera significativa."
   ]
  },
  {
   "cell_type": "markdown",
   "metadata": {
    "slideshow": {
     "slide_type": "skip"
    }
   },
   "source": [
    "Para contar con un reporte más detallado de nuestro modelo estructural podemos examinar el reporte generado por el paquete `semopy`:"
   ]
  },
  {
   "cell_type": "code",
   "execution_count": 70,
   "metadata": {
    "slideshow": {
     "slide_type": "skip"
    }
   },
   "outputs": [],
   "source": [
    "semopy.report(struct_model, \"Job\")"
   ]
  }
 ],
 "metadata": {
  "celltoolbar": "Slideshow",
  "interpreter": {
   "hash": "bc333aaf72f12d36efbbc969b6efbd208f39cf597397e273d228d636dea83428"
  },
  "kernelspec": {
   "display_name": "Python 3 (ipykernel)",
   "language": "python",
   "name": "python3"
  },
  "language_info": {
   "codemirror_mode": {
    "name": "ipython",
    "version": 3
   },
   "file_extension": ".py",
   "mimetype": "text/x-python",
   "name": "python",
   "nbconvert_exporter": "python",
   "pygments_lexer": "ipython3",
   "version": "3.8.10"
  }
 },
 "nbformat": 4,
 "nbformat_minor": 2
}
