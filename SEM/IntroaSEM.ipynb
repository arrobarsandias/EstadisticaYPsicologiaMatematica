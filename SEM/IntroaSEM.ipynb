{
 "cells": [
  {
   "cell_type": "markdown",
   "metadata": {},
   "source": [
    "# Introducción a los modelos de ecuaciones estructurales\n",
    "\n",
    ">Este tutorial es una selección y adaptación al español de los libros [Multivariate Data Analysis](https://www.cengage.co.uk/books/9781473756540/) de Joseph F. Hair et al."
   ]
  },
  {
   "cell_type": "markdown",
   "metadata": {},
   "source": [
    "## Nociones previas\n",
    "\n",
    "### ¿Qué es un modelo de ecuaciones estructurales (SEM)?\n",
    "\n",
    "En las secciones anteriores, cada técnica multivariante se ha clasificado como técnica de interdependencia o dependencia. Se puede pensar en SEM como una combinación única de ambos tipos de técnicas, porque la base de SEM radica en dos técnicas multivariadas familiares: análisis factorial y análisis de regresión múltiple.\n",
    "\n",
    "El SEM examina la **estructura** de las interrelaciones expresadas en una serie de ecuaciones, similar a una serie de ecuaciones de regresión múltiple. \n",
    "- Estas ecuaciones representan todas las relaciones entre constructos (las variables dependientes e independientes) y las variables involucradas en el análisis. \n",
    "- Igual de importante, una estructura teórica especifica qué variables y constructos probablemente no estén relacionados entre sí. \n",
    "\n",
    ">Los constructors son factores latentes o no observables representados por múltiples variables."
   ]
  },
  {
   "cell_type": "markdown",
   "metadata": {},
   "source": [
    "Los modelos SEM se distinguen de los modelos de regresión tradicionales en que tienden a involucrar:\n",
    "- Estimación simultánea de relaciones de dependencia múltiples e interrelacionadas.\n",
    "- Capacidad para representar conceptos no observados en estas relaciones y tener en cuenta el error de medición en el proceso de estimación.\n",
    "- Definición de un modelo teórico para explicar todo el conjunto de relaciones.\n",
    "- Supuestos de sobreidentificación (las variables se explican mediante un conjunto único de variables que no incluye todas las relaciones posibles)."
   ]
  },
  {
   "cell_type": "markdown",
   "metadata": {},
   "source": [
    "Un modelo convencional en la terminología de SEM consta en realidad de dos teorías: \n",
    "- Modelo de medición (representa cómo las variables medidas se unen para representar constructos)\n",
    "- Modelo estructural (muestra cómo los constructos se asocian entre sí).\n",
    "\n",
    "> No se debe desarrollar ningún modelo para su uso con SEM sin una teoría subyacente plausible."
   ]
  },
  {
   "cell_type": "markdown",
   "metadata": {},
   "source": [
    "### Diagramas de ruta\n",
    "\n",
    "Un modelo SEM completo que consta de modelos estructurales y de medición puede ser bastante complejo. Aunque todas las relaciones se pueden expresar en notación de análisis de ruta (que veremos más adelante), muchos investigadores encuentran más conveniente representar un modelo en una forma visual, conocida como **diagrama de ruta**."
   ]
  },
  {
   "cell_type": "markdown",
   "metadata": {},
   "source": [
    "<p align=\"center\">\n",
    "  <img width=\"500\" src=\"https://github.com/renatoparedes/EstadisticaYPsicologiaMatematica/raw/main/SEM/semdiagram1.png\" alt=\"SEM Diagram 1\">\n",
    "</p>"
   ]
  },
  {
   "cell_type": "markdown",
   "metadata": {},
   "source": [
    "- Los constructos generalmente se representan mediante óvalos o círculos, y las variables medidas se representan mediante cuadrados o rectángulos.\n",
    "- Para ayudar a distinguir los indicadores de constructos endógenos frente a exógenos, las variables medidas (indicadores) para constructos exógenos se suelen denominar variables X, mientras que los indicadores de constructos endógenos suelen denominarse variables Y.\n",
    ">Los constructos exógenos son el equivalente latente, de múltiples elementos, de las variables independientes. Los constructos endógenos son el equivalente latente de múltiples elementos de las variables dependientes.\n",
    "\n",
    "- Las variables medidas X o Y se asocian con sus respectivos constructos mediante una flecha recta de una sola cabeza desde las construcciones hasta la variable medida.\n",
    "- Las relaciones de dependencia se representan con flechas direccionales de una sola cabeza.\n",
    "- Las relaciones de correlación (covarianza) se representan con flechas de dos puntas."
   ]
  },
  {
   "cell_type": "markdown",
   "metadata": {},
   "source": [
    "En este tipo de diagramas podemos representar el modelo de medición y el modelo estructural simultáneamente:\n",
    "\n",
    "<p align=\"center\">\n",
    "  <img width=\"500\" src=\"https://github.com/renatoparedes/EstadisticaYPsicologiaMatematica/raw/main/SEM/semdiagram2.png\" alt=\"SEM Diagram 2\">\n",
    "</p>"
   ]
  },
  {
   "cell_type": "markdown",
   "metadata": {},
   "source": [
    "En contraste con la regresión u otras técnicas de dependencia que buscan predecir relaciones en una sola ecuación, el objetivo estadístico de la SEM basada en covarianza es **reproducir la matriz de covarianza observada de todas las variables medidas necesarias para probar una teoría**.\n",
    "\n",
    "Debido a que el enfoque está en todo el modelo teórico, la SEM se basa en la matriz de covarianza observada entre las variables medidas, que contiene información completa sobre cómo todas las variables se corresponden entre sí. \n",
    "\n",
    "**El ajuste del modelo está determinado por la similitud resultante entre la matriz de covarianza observada y una matriz de covarianza estimada producida a partir de las ecuaciones que representan el modelo teórico propuesto**. Si la teoría propuesta crea ecuaciones que reproducen con precisión la correspondencia entre las variables medidas (matriz de covarianza observada), entonces podemos decir que la teoría se ajusta a la realidad."
   ]
  },
  {
   "cell_type": "markdown",
   "metadata": {},
   "source": [
    "### Causalidad\n",
    "\n",
    "La inferencia causal es el tipo de inferencia más fuerte que puede hacer un investigador al momento de aplicar estadísticas multivariadas. Esta implica **proponer que una relación de dependencia en realidad se basa en la causalidad**. Una inferencia causal implica una relación hipotética de causa y efecto. "
   ]
  },
  {
   "cell_type": "markdown",
   "metadata": {},
   "source": [
    "Veamos algunos ejemplos de los tipos de relaciones causales que puede especifica un modelo SEM:\n",
    "\n",
    "<p align=\"center\">\n",
    "  <img width=\"500\" src=\"https://github.com/renatoparedes/EstadisticaYPsicologiaMatematica/raw/main/SEM/semdiagram3.png\" alt=\"SEM Diagram 3\">\n",
    "</p>"
   ]
  },
  {
   "cell_type": "markdown",
   "metadata": {},
   "source": [
    "Los modelos SEM se utilizan normalmente **en situaciones no experimentales** en las que los constructos exógenos no son variables controladas experimentalmente. Esto limita la capacidad del investigador para extraer inferencias causales y **el SEM por sí solo no puede establecer la causalidad**. \n",
    "\n",
    "Sin embargo, SEM puede tratar las relaciones de dependencia como causales si cuatro condiciones se reflejan en el modelo SEM:\n",
    "\n",
    "- Covarianza entre causa y efecto\n",
    "- La causa debe ocurrir antes que el efecto.\n",
    "- Debe existir una asociación no espuria entre la causa y el efecto.\n",
    "- Existe apoyo teórico para la relación entre causa y efecto."
   ]
  },
  {
   "cell_type": "markdown",
   "metadata": {},
   "source": [
    "SEM puede proporcionar evidencia de covariación sistemática y puede ayudar a demostrar que una relación no es falsa. Si los datos son longitudinales, SEM también puede ayudar a establecer la secuencia de relaciones. Sin embargo, le corresponde al investigador establecer un soporte teórico. \n",
    "\n",
    "Por lo tanto, SEM es útil para establecer una inferencia causal, pero no puede hacerlo solo."
   ]
  },
  {
   "cell_type": "markdown",
   "metadata": {},
   "source": [
    "## Definición de constructos individuales\n",
    "\n"
   ]
  },
  {
   "cell_type": "markdown",
   "metadata": {},
   "source": [
    "El proceso comienza con una buena definición teórica de los constructos involucrados. Esta definición proporciona la base para seleccionar o diseñar elementos de indicadores individuales. Un investigador operacionaliza un constructo latente seleccionando sus elementos de escala de medición y el tipo de escala.\n",
    "\n",
    "Cuando un modelo tiene escalas tomadas o adaptadas de diversas fuentes que informan sobre otras investigaciones, se recomienda una prueba previa con encuestados similares a los de la población que se va a estudiar para evaluar la idoneidad de los elementos."
   ]
  },
  {
   "cell_type": "markdown",
   "metadata": {},
   "source": [
    "## Especificación del modelo de medición\n",
    "\n",
    "En esta etapa se define cada constructo latente a incluir en el modelo y se asignan las variables (ítems) indicadores medidas a los constructos latentes correspondientes.\n",
    "\n",
    "Como se discutió anteriormente, hay tres tipos de relaciones: relaciones de medición entre indicadores / elementos y constructos; relaciones estructurales entre constructos; y relaciones de correlación entre constructos. También hay dos tipos de términos de error, uno relacionado con indicadores individuales y el otro con constructos endógenos.\n",
    "\n",
    "Para especificar un modelo SEM se utiliza una notación especial que se resume en la siguiente tabla:\n",
    "\n",
    "<p align=\"center\">\n",
    "  <img width=\"500\" src=\"https://github.com/renatoparedes/EstadisticaYPsicologiaMatematica/raw/main/SEM/semnotation.png\" alt=\"SEM Notation\">\n",
    "</p>"
   ]
  },
  {
   "cell_type": "markdown",
   "metadata": {},
   "source": [
    "Partamos de un ejemplo:"
   ]
  },
  {
   "cell_type": "code",
   "execution_count": 1,
   "metadata": {},
   "outputs": [
    {
     "data": {
      "text/html": [
       "<div>\n",
       "<style scoped>\n",
       "    .dataframe tbody tr th:only-of-type {\n",
       "        vertical-align: middle;\n",
       "    }\n",
       "\n",
       "    .dataframe tbody tr th {\n",
       "        vertical-align: top;\n",
       "    }\n",
       "\n",
       "    .dataframe thead th {\n",
       "        text-align: right;\n",
       "    }\n",
       "</style>\n",
       "<table border=\"1\" class=\"dataframe\">\n",
       "  <thead>\n",
       "    <tr style=\"text-align: right;\">\n",
       "      <th></th>\n",
       "      <th>id</th>\n",
       "      <th>x1</th>\n",
       "      <th>x2</th>\n",
       "      <th>x3</th>\n",
       "      <th>x4</th>\n",
       "      <th>x5</th>\n",
       "      <th>x6</th>\n",
       "      <th>x7</th>\n",
       "      <th>x8</th>\n",
       "      <th>x9</th>\n",
       "      <th>...</th>\n",
       "      <th>x11</th>\n",
       "      <th>x12</th>\n",
       "      <th>x13</th>\n",
       "      <th>x14</th>\n",
       "      <th>x15</th>\n",
       "      <th>x16</th>\n",
       "      <th>x17</th>\n",
       "      <th>x18</th>\n",
       "      <th>x19</th>\n",
       "      <th>x20</th>\n",
       "    </tr>\n",
       "  </thead>\n",
       "  <tbody>\n",
       "    <tr>\n",
       "      <th>0</th>\n",
       "      <td>1.0</td>\n",
       "      <td>0</td>\n",
       "      <td>0</td>\n",
       "      <td>0</td>\n",
       "      <td>0</td>\n",
       "      <td>0</td>\n",
       "      <td>8.5</td>\n",
       "      <td>3.9</td>\n",
       "      <td>2.5</td>\n",
       "      <td>5.9</td>\n",
       "      <td>...</td>\n",
       "      <td>4.9</td>\n",
       "      <td>6.0</td>\n",
       "      <td>6.8</td>\n",
       "      <td>4.7</td>\n",
       "      <td>4.3</td>\n",
       "      <td>5.0</td>\n",
       "      <td>5.1</td>\n",
       "      <td>3.7</td>\n",
       "      <td>8.2</td>\n",
       "      <td>8.0</td>\n",
       "    </tr>\n",
       "    <tr>\n",
       "      <th>1</th>\n",
       "      <td>2.0</td>\n",
       "      <td>2</td>\n",
       "      <td>1</td>\n",
       "      <td>1</td>\n",
       "      <td>1</td>\n",
       "      <td>1</td>\n",
       "      <td>8.2</td>\n",
       "      <td>2.7</td>\n",
       "      <td>5.1</td>\n",
       "      <td>7.2</td>\n",
       "      <td>...</td>\n",
       "      <td>7.9</td>\n",
       "      <td>3.1</td>\n",
       "      <td>5.3</td>\n",
       "      <td>5.5</td>\n",
       "      <td>4.0</td>\n",
       "      <td>3.9</td>\n",
       "      <td>4.3</td>\n",
       "      <td>4.9</td>\n",
       "      <td>5.7</td>\n",
       "      <td>6.5</td>\n",
       "    </tr>\n",
       "    <tr>\n",
       "      <th>2</th>\n",
       "      <td>3.0</td>\n",
       "      <td>2</td>\n",
       "      <td>0</td>\n",
       "      <td>0</td>\n",
       "      <td>0</td>\n",
       "      <td>0</td>\n",
       "      <td>9.2</td>\n",
       "      <td>3.4</td>\n",
       "      <td>5.6</td>\n",
       "      <td>5.6</td>\n",
       "      <td>...</td>\n",
       "      <td>7.4</td>\n",
       "      <td>5.8</td>\n",
       "      <td>4.5</td>\n",
       "      <td>6.2</td>\n",
       "      <td>4.6</td>\n",
       "      <td>5.4</td>\n",
       "      <td>4.0</td>\n",
       "      <td>4.5</td>\n",
       "      <td>8.9</td>\n",
       "      <td>8.4</td>\n",
       "    </tr>\n",
       "    <tr>\n",
       "      <th>3</th>\n",
       "      <td>4.0</td>\n",
       "      <td>1</td>\n",
       "      <td>1</td>\n",
       "      <td>0</td>\n",
       "      <td>0</td>\n",
       "      <td>1</td>\n",
       "      <td>6.4</td>\n",
       "      <td>3.3</td>\n",
       "      <td>7.0</td>\n",
       "      <td>3.7</td>\n",
       "      <td>...</td>\n",
       "      <td>4.7</td>\n",
       "      <td>4.5</td>\n",
       "      <td>8.8</td>\n",
       "      <td>7.0</td>\n",
       "      <td>3.6</td>\n",
       "      <td>4.3</td>\n",
       "      <td>4.1</td>\n",
       "      <td>3.0</td>\n",
       "      <td>4.8</td>\n",
       "      <td>6.0</td>\n",
       "    </tr>\n",
       "    <tr>\n",
       "      <th>4</th>\n",
       "      <td>5.0</td>\n",
       "      <td>0</td>\n",
       "      <td>0</td>\n",
       "      <td>0</td>\n",
       "      <td>1</td>\n",
       "      <td>0</td>\n",
       "      <td>9.0</td>\n",
       "      <td>3.4</td>\n",
       "      <td>5.2</td>\n",
       "      <td>4.6</td>\n",
       "      <td>...</td>\n",
       "      <td>6.0</td>\n",
       "      <td>4.5</td>\n",
       "      <td>6.8</td>\n",
       "      <td>6.1</td>\n",
       "      <td>4.5</td>\n",
       "      <td>4.5</td>\n",
       "      <td>3.5</td>\n",
       "      <td>3.5</td>\n",
       "      <td>7.1</td>\n",
       "      <td>6.6</td>\n",
       "    </tr>\n",
       "    <tr>\n",
       "      <th>...</th>\n",
       "      <td>...</td>\n",
       "      <td>...</td>\n",
       "      <td>...</td>\n",
       "      <td>...</td>\n",
       "      <td>...</td>\n",
       "      <td>...</td>\n",
       "      <td>...</td>\n",
       "      <td>...</td>\n",
       "      <td>...</td>\n",
       "      <td>...</td>\n",
       "      <td>...</td>\n",
       "      <td>...</td>\n",
       "      <td>...</td>\n",
       "      <td>...</td>\n",
       "      <td>...</td>\n",
       "      <td>...</td>\n",
       "      <td>...</td>\n",
       "      <td>...</td>\n",
       "      <td>...</td>\n",
       "      <td>...</td>\n",
       "      <td>...</td>\n",
       "    </tr>\n",
       "    <tr>\n",
       "      <th>95</th>\n",
       "      <td>96.0</td>\n",
       "      <td>1</td>\n",
       "      <td>1</td>\n",
       "      <td>1</td>\n",
       "      <td>1</td>\n",
       "      <td>0</td>\n",
       "      <td>8.6</td>\n",
       "      <td>4.8</td>\n",
       "      <td>5.6</td>\n",
       "      <td>5.3</td>\n",
       "      <td>...</td>\n",
       "      <td>6.0</td>\n",
       "      <td>5.7</td>\n",
       "      <td>6.7</td>\n",
       "      <td>5.8</td>\n",
       "      <td>3.6</td>\n",
       "      <td>4.9</td>\n",
       "      <td>3.6</td>\n",
       "      <td>3.6</td>\n",
       "      <td>7.3</td>\n",
       "      <td>8.1</td>\n",
       "    </tr>\n",
       "    <tr>\n",
       "      <th>96</th>\n",
       "      <td>97.0</td>\n",
       "      <td>1</td>\n",
       "      <td>0</td>\n",
       "      <td>1</td>\n",
       "      <td>0</td>\n",
       "      <td>0</td>\n",
       "      <td>7.4</td>\n",
       "      <td>3.4</td>\n",
       "      <td>2.6</td>\n",
       "      <td>5.0</td>\n",
       "      <td>...</td>\n",
       "      <td>4.4</td>\n",
       "      <td>4.8</td>\n",
       "      <td>7.2</td>\n",
       "      <td>4.5</td>\n",
       "      <td>6.4</td>\n",
       "      <td>4.2</td>\n",
       "      <td>5.6</td>\n",
       "      <td>3.7</td>\n",
       "      <td>6.3</td>\n",
       "      <td>5.5</td>\n",
       "    </tr>\n",
       "    <tr>\n",
       "      <th>97</th>\n",
       "      <td>98.0</td>\n",
       "      <td>1</td>\n",
       "      <td>0</td>\n",
       "      <td>1</td>\n",
       "      <td>1</td>\n",
       "      <td>0</td>\n",
       "      <td>8.7</td>\n",
       "      <td>3.2</td>\n",
       "      <td>3.3</td>\n",
       "      <td>3.2</td>\n",
       "      <td>...</td>\n",
       "      <td>6.1</td>\n",
       "      <td>2.9</td>\n",
       "      <td>5.6</td>\n",
       "      <td>5.0</td>\n",
       "      <td>4.3</td>\n",
       "      <td>3.1</td>\n",
       "      <td>2.9</td>\n",
       "      <td>2.5</td>\n",
       "      <td>5.4</td>\n",
       "      <td>7.0</td>\n",
       "    </tr>\n",
       "    <tr>\n",
       "      <th>98</th>\n",
       "      <td>99.0</td>\n",
       "      <td>0</td>\n",
       "      <td>1</td>\n",
       "      <td>1</td>\n",
       "      <td>0</td>\n",
       "      <td>0</td>\n",
       "      <td>7.8</td>\n",
       "      <td>4.9</td>\n",
       "      <td>5.8</td>\n",
       "      <td>5.3</td>\n",
       "      <td>...</td>\n",
       "      <td>5.3</td>\n",
       "      <td>7.1</td>\n",
       "      <td>7.9</td>\n",
       "      <td>6.0</td>\n",
       "      <td>5.7</td>\n",
       "      <td>4.3</td>\n",
       "      <td>4.9</td>\n",
       "      <td>3.9</td>\n",
       "      <td>6.4</td>\n",
       "      <td>7.1</td>\n",
       "    </tr>\n",
       "    <tr>\n",
       "      <th>99</th>\n",
       "      <td>100.0</td>\n",
       "      <td>0</td>\n",
       "      <td>1</td>\n",
       "      <td>0</td>\n",
       "      <td>0</td>\n",
       "      <td>1</td>\n",
       "      <td>7.9</td>\n",
       "      <td>3.0</td>\n",
       "      <td>4.4</td>\n",
       "      <td>5.1</td>\n",
       "      <td>...</td>\n",
       "      <td>4.2</td>\n",
       "      <td>4.8</td>\n",
       "      <td>9.7</td>\n",
       "      <td>5.7</td>\n",
       "      <td>5.8</td>\n",
       "      <td>3.4</td>\n",
       "      <td>5.4</td>\n",
       "      <td>3.5</td>\n",
       "      <td>6.4</td>\n",
       "      <td>7.3</td>\n",
       "    </tr>\n",
       "  </tbody>\n",
       "</table>\n",
       "<p>98 rows × 21 columns</p>\n",
       "</div>"
      ],
      "text/plain": [
       "       id  x1  x2  x3  x4  x5   x6   x7   x8   x9  ...  x11  x12  x13  x14  \\\n",
       "0     1.0   0   0   0   0   0  8.5  3.9  2.5  5.9  ...  4.9  6.0  6.8  4.7   \n",
       "1     2.0   2   1   1   1   1  8.2  2.7  5.1  7.2  ...  7.9  3.1  5.3  5.5   \n",
       "2     3.0   2   0   0   0   0  9.2  3.4  5.6  5.6  ...  7.4  5.8  4.5  6.2   \n",
       "3     4.0   1   1   0   0   1  6.4  3.3  7.0  3.7  ...  4.7  4.5  8.8  7.0   \n",
       "4     5.0   0   0   0   1   0  9.0  3.4  5.2  4.6  ...  6.0  4.5  6.8  6.1   \n",
       "..    ...  ..  ..  ..  ..  ..  ...  ...  ...  ...  ...  ...  ...  ...  ...   \n",
       "95   96.0   1   1   1   1   0  8.6  4.8  5.6  5.3  ...  6.0  5.7  6.7  5.8   \n",
       "96   97.0   1   0   1   0   0  7.4  3.4  2.6  5.0  ...  4.4  4.8  7.2  4.5   \n",
       "97   98.0   1   0   1   1   0  8.7  3.2  3.3  3.2  ...  6.1  2.9  5.6  5.0   \n",
       "98   99.0   0   1   1   0   0  7.8  4.9  5.8  5.3  ...  5.3  7.1  7.9  6.0   \n",
       "99  100.0   0   1   0   0   1  7.9  3.0  4.4  5.1  ...  4.2  4.8  9.7  5.7   \n",
       "\n",
       "    x15  x16  x17  x18  x19  x20  \n",
       "0   4.3  5.0  5.1  3.7  8.2  8.0  \n",
       "1   4.0  3.9  4.3  4.9  5.7  6.5  \n",
       "2   4.6  5.4  4.0  4.5  8.9  8.4  \n",
       "3   3.6  4.3  4.1  3.0  4.8  6.0  \n",
       "4   4.5  4.5  3.5  3.5  7.1  6.6  \n",
       "..  ...  ...  ...  ...  ...  ...  \n",
       "95  3.6  4.9  3.6  3.6  7.3  8.1  \n",
       "96  6.4  4.2  5.6  3.7  6.3  5.5  \n",
       "97  4.3  3.1  2.9  2.5  5.4  7.0  \n",
       "98  5.7  4.3  4.9  3.9  6.4  7.1  \n",
       "99  5.8  3.4  5.4  3.5  6.4  7.3  \n",
       "\n",
       "[98 rows x 21 columns]"
      ]
     },
     "execution_count": 1,
     "metadata": {},
     "output_type": "execute_result"
    }
   ],
   "source": [
    "# Or try HBAT\n",
    "import pandas as pd\n",
    "df = pd.read_spss(\"HBAT.sav\")\n",
    "df.drop(columns=['x21', 'x22', 'x23'], inplace=True)\n",
    "df.drop([46,58], inplace=True)\n",
    "cat_columns = ['x1', 'x2', 'x3', 'x4', 'x5']\n",
    "df[cat_columns] = df[cat_columns].apply(lambda x: x.cat.codes)\n",
    "new_cat_columns = df.select_dtypes(['category']).columns\n",
    "df[new_cat_columns] = df[new_cat_columns].apply(pd.to_numeric)\n",
    "df\n"
   ]
  },
  {
   "cell_type": "code",
   "execution_count": 2,
   "metadata": {},
   "outputs": [
    {
     "data": {
      "image/svg+xml": "<?xml version=\"1.0\" encoding=\"UTF-8\" standalone=\"no\"?>\n<!DOCTYPE svg PUBLIC \"-//W3C//DTD SVG 1.1//EN\"\n \"http://www.w3.org/Graphics/SVG/1.1/DTD/svg11.dtd\">\n<!-- Generated by graphviz version 2.43.0 (0)\n -->\n<!-- Title: G Pages: 1 -->\n<svg width=\"1187pt\" height=\"242pt\"\n viewBox=\"0.00 0.00 1187.25 242.49\" xmlns=\"http://www.w3.org/2000/svg\" xmlns:xlink=\"http://www.w3.org/1999/xlink\">\n<g id=\"graph0\" class=\"graph\" transform=\"scale(1 1) rotate(0) translate(4 238.49)\">\n<title>G</title>\n<polygon fill=\"white\" stroke=\"transparent\" points=\"-4,4 -4,-238.49 1183.25,-238.49 1183.25,4 -4,4\"/>\n<!-- Job_Satisfaction -->\n<g id=\"node1\" class=\"node\">\n<title>Job_Satisfaction</title>\n<ellipse fill=\"#cae6df\" stroke=\"black\" cx=\"198.4\" cy=\"-153.24\" rx=\"68.79\" ry=\"68.79\"/>\n<text text-anchor=\"middle\" x=\"198.4\" y=\"-149.54\" font-family=\"Times,serif\" font-size=\"14.00\">Job_Satisfaction</text>\n</g>\n<!-- x13 -->\n<g id=\"node19\" class=\"node\">\n<title>x13</title>\n<polygon fill=\"none\" stroke=\"black\" points=\"83.4,-36 29.4,-36 29.4,0 83.4,0 83.4,-36\"/>\n<text text-anchor=\"middle\" x=\"56.4\" y=\"-14.3\" font-family=\"Times,serif\" font-size=\"14.00\">x13</text>\n</g>\n<!-- Job_Satisfaction&#45;&gt;x13 -->\n<g id=\"edge17\" class=\"edge\">\n<title>Job_Satisfaction&#45;&gt;x13</title>\n<path fill=\"none\" stroke=\"black\" d=\"M151.36,-102.18C141.34,-91.99 130.67,-81.49 120.4,-72 109.59,-62.02 97.23,-51.58 86.28,-42.63\"/>\n<polygon fill=\"black\" stroke=\"black\" points=\"88.2,-39.68 78.22,-36.1 83.79,-45.12 88.2,-39.68\"/>\n</g>\n<!-- x14 -->\n<g id=\"node20\" class=\"node\">\n<title>x14</title>\n<polygon fill=\"none\" stroke=\"black\" points=\"170.4,-36 116.4,-36 116.4,0 170.4,0 170.4,-36\"/>\n<text text-anchor=\"middle\" x=\"143.4\" y=\"-14.3\" font-family=\"Times,serif\" font-size=\"14.00\">x14</text>\n</g>\n<!-- Job_Satisfaction&#45;&gt;x14 -->\n<g id=\"edge19\" class=\"edge\">\n<title>Job_Satisfaction&#45;&gt;x14</title>\n<path fill=\"none\" stroke=\"black\" d=\"M172.35,-89.13C165.99,-73.74 159.54,-58.1 154.34,-45.5\"/>\n<polygon fill=\"black\" stroke=\"black\" points=\"157.52,-44.03 150.46,-36.12 151.05,-46.7 157.52,-44.03\"/>\n</g>\n<!-- x15 -->\n<g id=\"node21\" class=\"node\">\n<title>x15</title>\n<polygon fill=\"none\" stroke=\"black\" points=\"250.4,-36 196.4,-36 196.4,0 250.4,0 250.4,-36\"/>\n<text text-anchor=\"middle\" x=\"223.4\" y=\"-14.3\" font-family=\"Times,serif\" font-size=\"14.00\">x15</text>\n</g>\n<!-- Job_Satisfaction&#45;&gt;x15 -->\n<g id=\"edge21\" class=\"edge\">\n<title>Job_Satisfaction&#45;&gt;x15</title>\n<path fill=\"none\" stroke=\"black\" d=\"M210.97,-85.23C213.57,-71.38 216.16,-57.56 218.3,-46.15\"/>\n<polygon fill=\"black\" stroke=\"black\" points=\"221.8,-46.5 220.2,-36.02 214.92,-45.21 221.8,-46.5\"/>\n</g>\n<!-- x16 -->\n<g id=\"node22\" class=\"node\">\n<title>x16</title>\n<polygon fill=\"none\" stroke=\"black\" points=\"350.4,-36 296.4,-36 296.4,0 350.4,0 350.4,-36\"/>\n<text text-anchor=\"middle\" x=\"323.4\" y=\"-14.3\" font-family=\"Times,serif\" font-size=\"14.00\">x16</text>\n</g>\n<!-- Job_Satisfaction&#45;&gt;x16 -->\n<g id=\"edge23\" class=\"edge\">\n<title>Job_Satisfaction&#45;&gt;x16</title>\n<path fill=\"none\" stroke=\"black\" d=\"M245.3,-102.25C264.11,-82.2 284.94,-60 300.35,-43.57\"/>\n<polygon fill=\"black\" stroke=\"black\" points=\"303.16,-45.69 307.45,-36 298.06,-40.9 303.16,-45.69\"/>\n</g>\n<!-- e11 -->\n<g id=\"node2\" class=\"node\">\n<title>e11</title>\n<ellipse fill=\"#cae6df\" stroke=\"black\" cx=\"441.4\" cy=\"-153.24\" rx=\"23.3\" ry=\"23.3\"/>\n<text text-anchor=\"middle\" x=\"441.4\" y=\"-149.54\" font-family=\"Times,serif\" font-size=\"14.00\">e11</text>\n</g>\n<!-- x11 -->\n<g id=\"node17\" class=\"node\">\n<title>x11</title>\n<polygon fill=\"none\" stroke=\"black\" points=\"471.4,-36 417.4,-36 417.4,0 471.4,0 471.4,-36\"/>\n<text text-anchor=\"middle\" x=\"444.4\" y=\"-14.3\" font-family=\"Times,serif\" font-size=\"14.00\">x11</text>\n</g>\n<!-- e11&#45;&gt;x11 -->\n<g id=\"edge14\" class=\"edge\">\n<title>e11&#45;&gt;x11</title>\n<path fill=\"none\" stroke=\"black\" d=\"M441.91,-129.64C442.43,-106.62 443.23,-70.89 443.78,-46.3\"/>\n<polygon fill=\"black\" stroke=\"black\" points=\"447.28,-46.27 444.01,-36.19 440.29,-46.11 447.28,-46.27\"/>\n</g>\n<!-- Coworkers -->\n<g id=\"node3\" class=\"node\">\n<title>Coworkers</title>\n<ellipse fill=\"#cae6df\" stroke=\"black\" cx=\"597.4\" cy=\"-153.24\" rx=\"49.29\" ry=\"49.29\"/>\n<text text-anchor=\"middle\" x=\"597.4\" y=\"-149.54\" font-family=\"Times,serif\" font-size=\"14.00\">Coworkers</text>\n</g>\n<!-- x10 -->\n<g id=\"node16\" class=\"node\">\n<title>x10</title>\n<polygon fill=\"none\" stroke=\"black\" points=\"564.4,-36 510.4,-36 510.4,0 564.4,0 564.4,-36\"/>\n<text text-anchor=\"middle\" x=\"537.4\" y=\"-14.3\" font-family=\"Times,serif\" font-size=\"14.00\">x10</text>\n</g>\n<!-- Coworkers&#45;&gt;x10 -->\n<g id=\"edge11\" class=\"edge\">\n<title>Coworkers&#45;&gt;x10</title>\n<path fill=\"none\" stroke=\"black\" d=\"M577.42,-107.87C568.1,-87.18 557.32,-63.25 549.3,-45.43\"/>\n<polygon fill=\"black\" stroke=\"black\" points=\"552.45,-43.91 545.16,-36.23 546.07,-46.78 552.45,-43.91\"/>\n</g>\n<!-- Coworkers&#45;&gt;x11 -->\n<g id=\"edge13\" class=\"edge\">\n<title>Coworkers&#45;&gt;x11</title>\n<path fill=\"none\" stroke=\"black\" d=\"M571.92,-110.7C562.46,-97.34 550.95,-83.12 538.4,-72 521.24,-56.8 499.02,-44.02 480.49,-34.83\"/>\n<polygon fill=\"black\" stroke=\"black\" points=\"481.98,-31.66 471.45,-30.48 478.95,-37.97 481.98,-31.66\"/>\n</g>\n<!-- x12 -->\n<g id=\"node18\" class=\"node\">\n<title>x12</title>\n<polygon fill=\"none\" stroke=\"black\" points=\"642.4,-36 588.4,-36 588.4,0 642.4,0 642.4,-36\"/>\n<text text-anchor=\"middle\" x=\"615.4\" y=\"-14.3\" font-family=\"Times,serif\" font-size=\"14.00\">x12</text>\n</g>\n<!-- Coworkers&#45;&gt;x12 -->\n<g id=\"edge15\" class=\"edge\">\n<title>Coworkers&#45;&gt;x12</title>\n<path fill=\"none\" stroke=\"black\" d=\"M603.9,-104.14C606.52,-84.69 609.46,-62.96 611.71,-46.32\"/>\n<polygon fill=\"black\" stroke=\"black\" points=\"615.2,-46.58 613.07,-36.2 608.27,-45.64 615.2,-46.58\"/>\n</g>\n<!-- x9 -->\n<g id=\"node27\" class=\"node\">\n<title>x9</title>\n<polygon fill=\"none\" stroke=\"black\" points=\"739.4,-36 685.4,-36 685.4,0 739.4,0 739.4,-36\"/>\n<text text-anchor=\"middle\" x=\"712.4\" y=\"-14.3\" font-family=\"Times,serif\" font-size=\"14.00\">x9</text>\n</g>\n<!-- Coworkers&#45;&gt;x9 -->\n<g id=\"edge9\" class=\"edge\">\n<title>Coworkers&#45;&gt;x9</title>\n<path fill=\"none\" stroke=\"black\" d=\"M624.85,-111.97C634.37,-98.84 645.41,-84.44 656.4,-72 665.19,-62.05 675.58,-51.85 685.01,-43.09\"/>\n<polygon fill=\"black\" stroke=\"black\" points=\"687.62,-45.43 692.64,-36.1 682.9,-40.27 687.62,-45.43\"/>\n</g>\n<!-- e9 -->\n<g id=\"node4\" class=\"node\">\n<title>e9</title>\n<ellipse fill=\"#cae6df\" stroke=\"black\" cx=\"748.4\" cy=\"-153.24\" rx=\"18.7\" ry=\"18.7\"/>\n<text text-anchor=\"middle\" x=\"748.4\" y=\"-149.54\" font-family=\"Times,serif\" font-size=\"14.00\">e9</text>\n</g>\n<!-- e9&#45;&gt;x9 -->\n<g id=\"edge10\" class=\"edge\">\n<title>e9&#45;&gt;x9</title>\n<path fill=\"none\" stroke=\"black\" d=\"M743.69,-134.82C737.57,-112.16 726.8,-72.32 719.64,-45.79\"/>\n<polygon fill=\"black\" stroke=\"black\" points=\"722.98,-44.74 716.99,-36 716.22,-46.57 722.98,-44.74\"/>\n</g>\n<!-- e5 -->\n<g id=\"node5\" class=\"node\">\n<title>e5</title>\n<ellipse fill=\"#cae6df\" stroke=\"black\" cx=\"812.4\" cy=\"-153.24\" rx=\"18.7\" ry=\"18.7\"/>\n<text text-anchor=\"middle\" x=\"812.4\" y=\"-149.54\" font-family=\"Times,serif\" font-size=\"14.00\">e5</text>\n</g>\n<!-- x5 -->\n<g id=\"node23\" class=\"node\">\n<title>x5</title>\n<polygon fill=\"none\" stroke=\"black\" points=\"846.4,-36 792.4,-36 792.4,0 846.4,0 846.4,-36\"/>\n<text text-anchor=\"middle\" x=\"819.4\" y=\"-14.3\" font-family=\"Times,serif\" font-size=\"14.00\">x5</text>\n</g>\n<!-- e5&#45;&gt;x5 -->\n<g id=\"edge2\" class=\"edge\">\n<title>e5&#45;&gt;x5</title>\n<path fill=\"none\" stroke=\"black\" d=\"M813.34,-134.27C814.53,-111.67 816.58,-72.65 817.96,-46.34\"/>\n<polygon fill=\"black\" stroke=\"black\" points=\"821.46,-46.43 818.49,-36.26 814.47,-46.07 821.46,-46.43\"/>\n</g>\n<!-- e13 -->\n<g id=\"node6\" class=\"node\">\n<title>e13</title>\n<ellipse fill=\"#cae6df\" stroke=\"black\" cx=\"23.4\" cy=\"-153.24\" rx=\"23.3\" ry=\"23.3\"/>\n<text text-anchor=\"middle\" x=\"23.4\" y=\"-149.54\" font-family=\"Times,serif\" font-size=\"14.00\">e13</text>\n</g>\n<!-- e13&#45;&gt;x13 -->\n<g id=\"edge18\" class=\"edge\">\n<title>e13&#45;&gt;x13</title>\n<path fill=\"none\" stroke=\"black\" d=\"M28.85,-130.24C34.55,-107.22 43.51,-71.03 49.66,-46.22\"/>\n<polygon fill=\"black\" stroke=\"black\" points=\"53.09,-46.91 52.1,-36.36 46.3,-45.22 53.09,-46.91\"/>\n</g>\n<!-- e10 -->\n<g id=\"node7\" class=\"node\">\n<title>e10</title>\n<ellipse fill=\"#cae6df\" stroke=\"black\" cx=\"506.4\" cy=\"-153.24\" rx=\"23.3\" ry=\"23.3\"/>\n<text text-anchor=\"middle\" x=\"506.4\" y=\"-149.54\" font-family=\"Times,serif\" font-size=\"14.00\">e10</text>\n</g>\n<!-- e10&#45;&gt;x10 -->\n<g id=\"edge12\" class=\"edge\">\n<title>e10&#45;&gt;x10</title>\n<path fill=\"none\" stroke=\"black\" d=\"M511.52,-130.24C516.87,-107.22 525.29,-71.03 531.06,-46.22\"/>\n<polygon fill=\"black\" stroke=\"black\" points=\"534.5,-46.89 533.36,-36.36 527.68,-45.31 534.5,-46.89\"/>\n</g>\n<!-- e8 -->\n<g id=\"node8\" class=\"node\">\n<title>e8</title>\n<ellipse fill=\"#cae6df\" stroke=\"black\" cx=\"1160.4\" cy=\"-153.24\" rx=\"18.7\" ry=\"18.7\"/>\n<text text-anchor=\"middle\" x=\"1160.4\" y=\"-149.54\" font-family=\"Times,serif\" font-size=\"14.00\">e8</text>\n</g>\n<!-- x8 -->\n<g id=\"node26\" class=\"node\">\n<title>x8</title>\n<polygon fill=\"none\" stroke=\"black\" points=\"1161.4,-36 1107.4,-36 1107.4,0 1161.4,0 1161.4,-36\"/>\n<text text-anchor=\"middle\" x=\"1134.4\" y=\"-14.3\" font-family=\"Times,serif\" font-size=\"14.00\">x8</text>\n</g>\n<!-- e8&#45;&gt;x8 -->\n<g id=\"edge8\" class=\"edge\">\n<title>e8&#45;&gt;x8</title>\n<path fill=\"none\" stroke=\"black\" d=\"M1156.95,-134.55C1152.55,-112.03 1144.91,-72.88 1139.76,-46.46\"/>\n<polygon fill=\"black\" stroke=\"black\" points=\"1143.13,-45.49 1137.78,-36.34 1136.26,-46.83 1143.13,-45.49\"/>\n</g>\n<!-- e15 -->\n<g id=\"node9\" class=\"node\">\n<title>e15</title>\n<ellipse fill=\"#cae6df\" stroke=\"black\" cx=\"308.4\" cy=\"-153.24\" rx=\"23.3\" ry=\"23.3\"/>\n<text text-anchor=\"middle\" x=\"308.4\" y=\"-149.54\" font-family=\"Times,serif\" font-size=\"14.00\">e15</text>\n</g>\n<!-- e15&#45;&gt;x15 -->\n<g id=\"edge22\" class=\"edge\">\n<title>e15&#45;&gt;x15</title>\n<path fill=\"none\" stroke=\"black\" d=\"M302.31,-130.31C297.04,-113.49 288.36,-90.16 276.4,-72 269.59,-61.66 260.52,-51.69 251.81,-43.24\"/>\n<polygon fill=\"black\" stroke=\"black\" points=\"254.02,-40.5 244.32,-36.23 249.23,-45.62 254.02,-40.5\"/>\n</g>\n<!-- Work_Environment -->\n<g id=\"node10\" class=\"node\">\n<title>Work_Environment</title>\n<ellipse fill=\"#cae6df\" stroke=\"black\" cx=\"986.4\" cy=\"-153.24\" rx=\"81.49\" ry=\"81.49\"/>\n<text text-anchor=\"middle\" x=\"986.4\" y=\"-149.54\" font-family=\"Times,serif\" font-size=\"14.00\">Work_Environment</text>\n</g>\n<!-- Work_Environment&#45;&gt;x5 -->\n<g id=\"edge1\" class=\"edge\">\n<title>Work_Environment&#45;&gt;x5</title>\n<path fill=\"none\" stroke=\"black\" d=\"M926.78,-97.22C916.81,-88.57 906.44,-79.88 896.4,-72 883.1,-61.56 867.87,-50.84 854.49,-41.8\"/>\n<polygon fill=\"black\" stroke=\"black\" points=\"856.26,-38.77 846,-36.12 852.36,-44.59 856.26,-38.77\"/>\n</g>\n<!-- x6 -->\n<g id=\"node24\" class=\"node\">\n<title>x6</title>\n<polygon fill=\"none\" stroke=\"black\" points=\"951.4,-36 897.4,-36 897.4,0 951.4,0 951.4,-36\"/>\n<text text-anchor=\"middle\" x=\"924.4\" y=\"-14.3\" font-family=\"Times,serif\" font-size=\"14.00\">x6</text>\n</g>\n<!-- Work_Environment&#45;&gt;x6 -->\n<g id=\"edge3\" class=\"edge\">\n<title>Work_Environment&#45;&gt;x6</title>\n<path fill=\"none\" stroke=\"black\" d=\"M952.5,-79.38C946.86,-67.26 941.34,-55.42 936.72,-45.48\"/>\n<polygon fill=\"black\" stroke=\"black\" points=\"939.81,-43.82 932.42,-36.23 933.46,-46.77 939.81,-43.82\"/>\n</g>\n<!-- x7 -->\n<g id=\"node25\" class=\"node\">\n<title>x7</title>\n<polygon fill=\"none\" stroke=\"black\" points=\"1038.4,-36 984.4,-36 984.4,0 1038.4,0 1038.4,-36\"/>\n<text text-anchor=\"middle\" x=\"1011.4\" y=\"-14.3\" font-family=\"Times,serif\" font-size=\"14.00\">x7</text>\n</g>\n<!-- Work_Environment&#45;&gt;x7 -->\n<g id=\"edge5\" class=\"edge\">\n<title>Work_Environment&#45;&gt;x7</title>\n<path fill=\"none\" stroke=\"black\" d=\"M1001.23,-73.19C1003.04,-63.53 1004.79,-54.23 1006.31,-46.14\"/>\n<polygon fill=\"black\" stroke=\"black\" points=\"1009.75,-46.76 1008.16,-36.28 1002.87,-45.47 1009.75,-46.76\"/>\n</g>\n<!-- Work_Environment&#45;&gt;x8 -->\n<g id=\"edge7\" class=\"edge\">\n<title>Work_Environment&#45;&gt;x8</title>\n<path fill=\"none\" stroke=\"black\" d=\"M1046.6,-98.05C1067.78,-78.98 1090.52,-58.5 1107.56,-43.16\"/>\n<polygon fill=\"black\" stroke=\"black\" points=\"1110.34,-45.37 1115.43,-36.08 1105.65,-40.17 1110.34,-45.37\"/>\n</g>\n<!-- e16 -->\n<g id=\"node11\" class=\"node\">\n<title>e16</title>\n<ellipse fill=\"#cae6df\" stroke=\"black\" cx=\"373.4\" cy=\"-153.24\" rx=\"23.3\" ry=\"23.3\"/>\n<text text-anchor=\"middle\" x=\"373.4\" y=\"-149.54\" font-family=\"Times,serif\" font-size=\"14.00\">e16</text>\n</g>\n<!-- e16&#45;&gt;x16 -->\n<g id=\"edge24\" class=\"edge\">\n<title>e16&#45;&gt;x16</title>\n<path fill=\"none\" stroke=\"black\" d=\"M365.48,-131.13C356.81,-108.04 342.9,-70.98 333.47,-45.84\"/>\n<polygon fill=\"black\" stroke=\"black\" points=\"336.64,-44.33 329.85,-36.2 330.09,-46.79 336.64,-44.33\"/>\n</g>\n<!-- e14 -->\n<g id=\"node12\" class=\"node\">\n<title>e14</title>\n<ellipse fill=\"#cae6df\" stroke=\"black\" cx=\"88.4\" cy=\"-153.24\" rx=\"23.3\" ry=\"23.3\"/>\n<text text-anchor=\"middle\" x=\"88.4\" y=\"-149.54\" font-family=\"Times,serif\" font-size=\"14.00\">e14</text>\n</g>\n<!-- e14&#45;&gt;x14 -->\n<g id=\"edge20\" class=\"edge\">\n<title>e14&#45;&gt;x14</title>\n<path fill=\"none\" stroke=\"black\" d=\"M96.65,-131.05C103.01,-114.84 112.1,-91.94 120.4,-72 124,-63.35 128.04,-53.95 131.71,-45.51\"/>\n<polygon fill=\"black\" stroke=\"black\" points=\"135.01,-46.69 135.81,-36.13 128.6,-43.89 135.01,-46.69\"/>\n</g>\n<!-- e6 -->\n<g id=\"node13\" class=\"node\">\n<title>e6</title>\n<ellipse fill=\"#cae6df\" stroke=\"black\" cx=\"868.4\" cy=\"-153.24\" rx=\"18.7\" ry=\"18.7\"/>\n<text text-anchor=\"middle\" x=\"868.4\" y=\"-149.54\" font-family=\"Times,serif\" font-size=\"14.00\">e6</text>\n</g>\n<!-- e6&#45;&gt;x6 -->\n<g id=\"edge4\" class=\"edge\">\n<title>e6&#45;&gt;x6</title>\n<path fill=\"none\" stroke=\"black\" d=\"M873.57,-135.05C878.71,-118.61 887.15,-93.24 896.4,-72 900.26,-63.13 905.02,-53.71 909.5,-45.31\"/>\n<polygon fill=\"black\" stroke=\"black\" points=\"912.67,-46.8 914.39,-36.34 906.53,-43.45 912.67,-46.8\"/>\n</g>\n<!-- e7 -->\n<g id=\"node14\" class=\"node\">\n<title>e7</title>\n<ellipse fill=\"#cae6df\" stroke=\"black\" cx=\"1104.4\" cy=\"-153.24\" rx=\"18.7\" ry=\"18.7\"/>\n<text text-anchor=\"middle\" x=\"1104.4\" y=\"-149.54\" font-family=\"Times,serif\" font-size=\"14.00\">e7</text>\n</g>\n<!-- e7&#45;&gt;x7 -->\n<g id=\"edge6\" class=\"edge\">\n<title>e7&#45;&gt;x7</title>\n<path fill=\"none\" stroke=\"black\" d=\"M1101.11,-134.36C1097.31,-117.18 1089.78,-91.09 1076.4,-72 1068.41,-60.6 1057.32,-50.32 1046.56,-41.91\"/>\n<polygon fill=\"black\" stroke=\"black\" points=\"1048.56,-39.04 1038.45,-35.87 1044.37,-44.65 1048.56,-39.04\"/>\n</g>\n<!-- e12 -->\n<g id=\"node15\" class=\"node\">\n<title>e12</title>\n<ellipse fill=\"#cae6df\" stroke=\"black\" cx=\"688.4\" cy=\"-153.24\" rx=\"23.3\" ry=\"23.3\"/>\n<text text-anchor=\"middle\" x=\"688.4\" y=\"-149.54\" font-family=\"Times,serif\" font-size=\"14.00\">e12</text>\n</g>\n<!-- e12&#45;&gt;x12 -->\n<g id=\"edge16\" class=\"edge\">\n<title>e12&#45;&gt;x12</title>\n<path fill=\"none\" stroke=\"black\" d=\"M681.27,-130.77C675.37,-114.2 666.22,-90.97 655.4,-72 650,-62.54 643.14,-52.84 636.63,-44.37\"/>\n<polygon fill=\"black\" stroke=\"black\" points=\"639.25,-42.04 630.3,-36.36 633.75,-46.38 639.25,-42.04\"/>\n</g>\n</g>\n</svg>\n",
      "text/plain": [
       "<graphviz.graphs.Digraph at 0x7f5af03eb1c0>"
      ]
     },
     "execution_count": 2,
     "metadata": {},
     "output_type": "execute_result"
    }
   ],
   "source": [
    "import semopy\n",
    "\n",
    "measure_desc = '''\n",
    "# Measurement\n",
    "Work_Environment =~ x5 + x6 + x7 + x8\n",
    "Coworkers =~ x9 + x10 + x11 + x12\n",
    "Job_Satisfaction =~ x13 + x14 + x15 + x16\n",
    "\n",
    "DEFINE(ordinal) x5\n",
    "\n",
    "e5 =~ x5\n",
    "e6 =~ x6\n",
    "e7 =~ x7\n",
    "e8 =~ x8\n",
    "e9 =~ x9\n",
    "e10 =~ x10\n",
    "e11 =~ x11\n",
    "e12 =~ x12\n",
    "e13 =~ x13\n",
    "e14 =~ x14\n",
    "e15 =~ x15\n",
    "e16 =~ x16\n",
    "'''\n",
    "g = semopy.semplot(measure_desc, \"out.png\")\n",
    "g"
   ]
  },
  {
   "cell_type": "markdown",
   "metadata": {},
   "source": [
    "## Diseño de un estudio\n",
    "\n",
    "El tamaño mínimo de la muestra para un modelo SEM en particular depende de varios factores, incluida la complejidad del modelo y las comunalidades (varianza promedio extraída entre elementos) en cada factor:\n",
    "\n",
    "- Los modelos SEM que contienen cinco o menos constructos, cada uno con más de tres ítems (variables observadas), y con altas comunalidades de ítems (.6 o más), se pueden estimar adecuadamente con muestras tan pequeñas como 50. Recuerda que siempre se requieren más observaciones que el un número de variables medidas para que las matemáticas funcionen.\n",
    "- Cuando el número de factores es superior a seis, algunos de los cuales tienen menos de tres items medidos como indicadores, existen problemas de distribución graves y existen múltiples comunidades bajas, los requisitos de tamaño de la muestra se vuelven mucho mayores."
   ]
  },
  {
   "cell_type": "markdown",
   "metadata": {},
   "source": [
    "Contamos con las siguientes guías generales:\n",
    "\n",
    "- N = 100: modelos que contienen cinco o menos constructos, cada uno con más de tres ítems (variables observadas) y con alta comunalidad de ítems (.6 o más).\n",
    "- N = 150: modelos con siete constructos o menos, al menos comunidades modestas (.5) y sin constructos subidentificados.\n",
    "- N = 300: modelos con siete o menos constructos, comunidades más bajas (por debajo de .45) o múltiples constructos subidentificados (menos de tres).\n",
    "- N = 500: modelos con un gran número de constructos, algunos con comunidades más bajas o con menos de tres elementos medidos."
   ]
  },
  {
   "cell_type": "markdown",
   "metadata": {},
   "source": [
    ">El tamaño de la muestra debe ser suficiente para permitir que el modelo se ejecute, pero lo que es más importante, debe representar adecuadamente la población de interés."
   ]
  },
  {
   "cell_type": "markdown",
   "metadata": {},
   "source": [
    "## Validez del modelo de medición\n",
    "\n",
    "La bondad de ajuste (GOF) indica qué tan bien el modelo especificado por el usuario reproduce matemáticamente la matriz de covarianza observada entre los elementos del indicador. Es decir, la similitud de las matrices de covarianza observadas y estimadas."
   ]
  },
  {
   "cell_type": "markdown",
   "metadata": {},
   "source": [
    "### Índices absolutos\n",
    "\n",
    "#### Chi-cuadrado\n",
    "\n",
    "Chi-cuadrado ($X^{2}$) es la medida estadística fundamental en SEM para cuantificar las diferencias entre la matriz de covarianza observada ($S$) y estimada($\\Sigma_{k}$). El cálculo de este estadístico se define en la siguiente ecuación:\n",
    "\n",
    "$$ X^{2} = f [ (N-1) (S-\\Sigma_{k}) ] $$\n",
    "\n",
    "donde N es el es el tamaño de muestra general.\n",
    "\n",
    "> Nota que el valor de $X^{2}$ aumenta a medida que el valor de N aumenta."
   ]
  },
  {
   "cell_type": "markdown",
   "metadata": {},
   "source": [
    "Los grados de libertad de un modelo SEM se definen:\n",
    "\n",
    "$$ df = \\frac{1}{2}[ (p)(p+1)] - k $$\n",
    "\n",
    "donde $p$ es el número de variables observadas y $k$ es el número de parámetros estimados en el modelo. \n",
    "\n",
    "En particular, los grados de libertad en SEM se basan en el tamaño de la matriz de covarianza, que es una matriz cuadrada con el número de filas (columnas) igual al número de indicadores (variables medidas) en el modelo."
   ]
  },
  {
   "cell_type": "markdown",
   "metadata": {},
   "source": [
    "##### Significancia estadística\n",
    "\n",
    "La hipótesis nula implícita de SEM es que la muestra observada y las matrices de covarianza estimadas de SEM son iguales, lo que significa que el modelo se ajusta perfectamente. El valor de $X^{2}$ aumenta a medida que se encuentran diferencias (residuos) al comparar las dos matrices.\n",
    "\n",
    "Con la prueba inferencial $X^{2}$, evaluamos la probabilidad estadística de que las matrices de covarianza de la muestra observada y la estimadas por SEM sean realmente iguales en una población determinada.\n",
    "\n",
    "Por tanto, en SEM buscamos un valor $X^{2}$ relativamente pequeño (y un valor p grande > .05), lo que indica que no hay diferencia estadísticamente significativa entre las dos matrices, para apoyar la idea de que una teoría propuesta se ajusta a la realidad."
   ]
  },
  {
   "cell_type": "markdown",
   "metadata": {},
   "source": [
    "Debido a que el estadístico $X^{2}$ es sensible al aumento del tamaño muestral y al número de variables empleadas en el modelo, no debe ser usado como la única medida de bondad de ajuste. "
   ]
  },
  {
   "cell_type": "markdown",
   "metadata": {},
   "source": [
    "#### GFI\n",
    "\n",
    "El GFI fue un intento temprano de producir una estadística de ajuste que fuera menos sensible al tamaño de la muestra. \n",
    "\n",
    "El GFI se define como:\n",
    "\n",
    "$$ GFI = 1-\\frac{F_{k}}{F_{0}} $$\n",
    "\n",
    "donde $F_{k}$ es la función de ajuste mínimo después de un modelo SEM se ha estimado utilizando k grados de libertad, y $F_{0}$ es la función de ajuste que resultaría si todos los parámetros fueran cero (todo no está relacionado entre sí; no hay relaciones teóricas).\n",
    "\n",
    "El ratio $\\frac{F_{k}}{F_{0}}$ es análogo al ratio $\\frac{SSE}{SST}$ del modelo de regresión múltiple.\n",
    "\n",
    "El rango posible de valores de GFI es de 0 a 1, y los valores más altos indican un mejor ajuste. Los valores de GFI superiores a .90 o .95 normalmente se consideran buenos."
   ]
  },
  {
   "cell_type": "markdown",
   "metadata": {},
   "source": [
    "#### RMSEA\n",
    "\n",
    "Intenta explícitamente corregir tanto la complejidad del modelo como el tamaño de la muestra al incluir cada uno en su cálculo:\n",
    "\n",
    "$$ RMSEA = \\sqrt{ \\frac{X^{2}-df_{k}}{N-1}   } $$ \n",
    "\n",
    "Aunque investigaciones anteriores a veces habían apuntado a un valor de corte de .05 o .08, investigaciones más recientes apuntan al hecho de que no es aconsejable trazar un corte absoluto para RMSEA."
   ]
  },
  {
   "cell_type": "markdown",
   "metadata": {},
   "source": [
    "### Indices incrementales\n",
    "\n",
    "Evalúan qué tan bien se ajusta el modelo estimado en relación con algún modelo de línea base alternativo. El modelo de línea base más común se conoce como modelo nulo, uno que asume que todas las variables observadas no están correlacionadas.\n",
    "\n",
    "#### CFI\n",
    "\n",
    "El CFI se ha convertido en el índice más difundido para complementar el $X^{2}$.\n",
    "\n",
    "$$ CFI = 1 - \\frac{ X^{2}_{k}-df_{k} } { X^{2}_{N}-df_{N}  } $$\n",
    "\n",
    "donde k representa valores asociados con el modelo o la teoría especificada por el investigador, mientras que N denota valores asociados con el modelo estadístico nulo.\n",
    "\n",
    "El CFI está normalizado para que los valores oscilen entre 0 y 1, y los valores más altos indican un mejor ajuste."
   ]
  },
  {
   "cell_type": "markdown",
   "metadata": {},
   "source": [
    "#### TLI\n",
    "\n",
    "Se trata de una comparación de los valores de chi-cuadrado normalizados para el modelo nulo y especificado, que hasta cierto punto tiene en cuenta la complejidad del modelo.\n",
    "\n",
    "$$ TLI = \\frac{ \\frac{X^{2}_{N}}{df_{N}}  - \\frac{X^{2}_{k}}{df_{k}}    }{   \\frac{X^{2}_{N}}{df_{N}} - 1 } $$\n",
    "\n",
    "Los modelos con buen ajuste tienen valores que se acercan a 1. Un modelo con un valor más alto sugiere un mejor ajuste que un modelo con un valor más bajo."
   ]
  },
  {
   "cell_type": "markdown",
   "metadata": {},
   "source": [
    "### Reporte\n",
    "\n",
    "Se deben usar índices de ajuste múltiples para evaluar la bondad de ajuste de un modelo y deben incluir:\n",
    "- El valor $X^{2}$ y el gl asociado.\n",
    "- Un índice de ajuste absoluto (GFI, RMSEA o SRMR).\n",
    "- Un índice de ajuste incremental (CFI o TLI).\n",
    "- Un índice de bondad de ajuste (GFI, CFI, TLI, etc.).\n",
    "- Un índice de mal ajuste (RMSEA, SRMR, etc.).\n",
    "\n",
    "En general, reportar $X^{2}$, CFI y RMSEA pueden ser suficientes para evaluar un modelo SEM."
   ]
  },
  {
   "cell_type": "markdown",
   "metadata": {},
   "source": [
    "Ningún valor “mágico” único para los índices de ajuste separa los modelos buenos de los malos, y no es práctico aplicar un solo conjunto de reglas de corte a todos los modelos de medición y, en realidad, a todos los modelos SEM de cualquier tipo.\n",
    "\n",
    "La calidad del ajuste depende en gran medida de las características del modelo, incluido el tamaño de la muestra y la complejidad del modelo:\n",
    "- Los modelos simples con muestras pequeñas deben mantenerse con estrictos estándares de ajuste; incluso un valor p insignificante para un modelo simple puede no ser significativo.\n",
    "- Los modelos más complejos con muestras más grandes no deben someterse a los mismos estándares estrictos, por lo que cuando las muestras son grandes y el modelo contiene una gran cantidad de variables medidas y estimaciones de parámetros, valores de corte universales de .95 en la tecla GOF las medidas son poco realistas."
   ]
  },
  {
   "cell_type": "markdown",
   "metadata": {},
   "source": [
    "Podemos ver un resumen de estas nociones en la siguiente tabla:\n",
    "\n",
    "<p align=\"center\">\n",
    "  <img width=\"500\" src=\"https://github.com/renatoparedes/EstadisticaYPsicologiaMatematica/raw/main/SEM/semgof.png\" alt=\"SEM GOF measures\">\n",
    "</p>"
   ]
  },
  {
   "cell_type": "markdown",
   "metadata": {},
   "source": [
    "Revisemos estos índices en nuestro ejemplo:"
   ]
  },
  {
   "cell_type": "code",
   "execution_count": 3,
   "metadata": {},
   "outputs": [],
   "source": [
    "measure_model = semopy.Model(measure_desc)\n",
    "res = measure_model.fit(df)"
   ]
  },
  {
   "cell_type": "code",
   "execution_count": 4,
   "metadata": {},
   "outputs": [
    {
     "name": "stdout",
     "output_type": "stream",
     "text": [
      "                    Value\n",
      "DoF            -63.000000\n",
      "DoF Baseline    66.000000\n",
      "chi2             0.000127\n",
      "chi2 p-value          NaN\n",
      "chi2 Baseline  642.353231\n",
      "CFI              0.890692\n",
      "GFI              1.000000\n",
      "AGFI             1.000000\n",
      "NFI              1.000000\n",
      "TLI              1.114513\n",
      "RMSEA                 NaN\n",
      "AIC            281.999997\n",
      "BIC            646.480412\n",
      "LogLik           0.000001\n"
     ]
    },
    {
     "name": "stderr",
     "output_type": "stream",
     "text": [
      "/home/renato/.virtualenvs/statspsych/lib/python3.8/site-packages/semopy/stats.py:386: RuntimeWarning: invalid value encountered in sqrt\n",
      "  return np.sqrt((chi2 / dof - 1) / (model.n_samples - 1))\n"
     ]
    }
   ],
   "source": [
    "stats = semopy.calc_stats(measure_model)\n",
    "print(stats.T)"
   ]
  },
  {
   "cell_type": "markdown",
   "metadata": {},
   "source": [
    "Podemos apreciar un muy buen ajuste del modelo a partir de los indicadores $X^{2}$, CFI y RMSEA."
   ]
  },
  {
   "cell_type": "markdown",
   "metadata": {},
   "source": [
    "## Especificación el modelo estructural"
   ]
  },
  {
   "cell_type": "markdown",
   "metadata": {},
   "source": [
    "Consiste en especificar el modelo estructural asignando relaciones de un constructo a otro con base en el modelo teórico propuesto. La especificación del modelo estructural se centra en el uso de flechas direccionales de una sola cabeza para mostrar las relaciones de dependencia que representan hipótesis estructurales del modelo del investigador.\n",
    "\n",
    "En otras palabras, el **investigador identifica las relaciones de dependencia que se supone que existen entre los constructos, y cada hipótesis representa una relación específica que debe especificarse**. Las relaciones muestran cómo un constructo influye en otro y puede ser directo o indirecto. Por tanto, el modelo muestra todas las relaciones de dependencia que existen entre los constructos.\n",
    "\n"
   ]
  },
  {
   "cell_type": "markdown",
   "metadata": {},
   "source": [
    "Veamos como esto aplica a nuestro ejemplo:"
   ]
  },
  {
   "cell_type": "code",
   "execution_count": 11,
   "metadata": {},
   "outputs": [
    {
     "data": {
      "image/svg+xml": "<?xml version=\"1.0\" encoding=\"UTF-8\" standalone=\"no\"?>\n<!DOCTYPE svg PUBLIC \"-//W3C//DTD SVG 1.1//EN\"\n \"http://www.w3.org/Graphics/SVG/1.1/DTD/svg11.dtd\">\n<!-- Generated by graphviz version 2.43.0 (0)\n -->\n<!-- Title: G Pages: 1 -->\n<svg width=\"630pt\" height=\"551pt\"\n viewBox=\"0.00 0.00 630.00 551.06\" xmlns=\"http://www.w3.org/2000/svg\" xmlns:xlink=\"http://www.w3.org/1999/xlink\">\n<g id=\"graph0\" class=\"graph\" transform=\"scale(1 1) rotate(0) translate(4 547.06)\">\n<title>G</title>\n<polygon fill=\"white\" stroke=\"transparent\" points=\"-4,4 -4,-547.06 626,-547.06 626,4 -4,4\"/>\n<!-- Job_Satisfaction -->\n<g id=\"node1\" class=\"node\">\n<title>Job_Satisfaction</title>\n<ellipse fill=\"#cae6df\" stroke=\"black\" cx=\"135\" cy=\"-140.89\" rx=\"68.79\" ry=\"68.79\"/>\n<text text-anchor=\"middle\" x=\"135\" y=\"-137.19\" font-family=\"Times,serif\" font-size=\"14.00\">Job_Satisfaction</text>\n</g>\n<!-- x13 -->\n<g id=\"node7\" class=\"node\">\n<title>x13</title>\n<polygon fill=\"none\" stroke=\"black\" points=\"54,-36 0,-36 0,0 54,0 54,-36\"/>\n<text text-anchor=\"middle\" x=\"27\" y=\"-14.3\" font-family=\"Times,serif\" font-size=\"14.00\">x13</text>\n</g>\n<!-- Job_Satisfaction&#45;&gt;x13 -->\n<g id=\"edge11\" class=\"edge\">\n<title>Job_Satisfaction&#45;&gt;x13</title>\n<path fill=\"none\" stroke=\"black\" d=\"M89.51,-88.97C75.57,-73.37 60.86,-56.9 49.21,-43.86\"/>\n<polygon fill=\"black\" stroke=\"black\" points=\"51.65,-41.34 42.38,-36.22 46.43,-46.01 51.65,-41.34\"/>\n</g>\n<!-- x14 -->\n<g id=\"node8\" class=\"node\">\n<title>x14</title>\n<polygon fill=\"none\" stroke=\"black\" points=\"126,-36 72,-36 72,0 126,0 126,-36\"/>\n<text text-anchor=\"middle\" x=\"99\" y=\"-14.3\" font-family=\"Times,serif\" font-size=\"14.00\">x14</text>\n</g>\n<!-- Job_Satisfaction&#45;&gt;x14 -->\n<g id=\"edge12\" class=\"edge\">\n<title>Job_Satisfaction&#45;&gt;x14</title>\n<path fill=\"none\" stroke=\"black\" d=\"M115.52,-74.49C112.51,-64.37 109.55,-54.43 106.99,-45.82\"/>\n<polygon fill=\"black\" stroke=\"black\" points=\"110.29,-44.65 104.08,-36.06 103.58,-46.65 110.29,-44.65\"/>\n</g>\n<!-- x15 -->\n<g id=\"node9\" class=\"node\">\n<title>x15</title>\n<polygon fill=\"none\" stroke=\"black\" points=\"198,-36 144,-36 144,0 198,0 198,-36\"/>\n<text text-anchor=\"middle\" x=\"171\" y=\"-14.3\" font-family=\"Times,serif\" font-size=\"14.00\">x15</text>\n</g>\n<!-- Job_Satisfaction&#45;&gt;x15 -->\n<g id=\"edge13\" class=\"edge\">\n<title>Job_Satisfaction&#45;&gt;x15</title>\n<path fill=\"none\" stroke=\"black\" d=\"M154.48,-74.49C157.49,-64.37 160.45,-54.43 163.01,-45.82\"/>\n<polygon fill=\"black\" stroke=\"black\" points=\"166.42,-46.65 165.92,-36.06 159.71,-44.65 166.42,-46.65\"/>\n</g>\n<!-- x16 -->\n<g id=\"node10\" class=\"node\">\n<title>x16</title>\n<polygon fill=\"none\" stroke=\"black\" points=\"270,-36 216,-36 216,0 270,0 270,-36\"/>\n<text text-anchor=\"middle\" x=\"243\" y=\"-14.3\" font-family=\"Times,serif\" font-size=\"14.00\">x16</text>\n</g>\n<!-- Job_Satisfaction&#45;&gt;x16 -->\n<g id=\"edge14\" class=\"edge\">\n<title>Job_Satisfaction&#45;&gt;x16</title>\n<path fill=\"none\" stroke=\"black\" d=\"M180.49,-88.97C194.43,-73.37 209.14,-56.9 220.79,-43.86\"/>\n<polygon fill=\"black\" stroke=\"black\" points=\"223.57,-46.01 227.62,-36.22 218.35,-41.34 223.57,-46.01\"/>\n</g>\n<!-- Work_Environment -->\n<g id=\"node2\" class=\"node\">\n<title>Work_Environment</title>\n<ellipse fill=\"#cae6df\" stroke=\"black\" cx=\"415\" cy=\"-461.82\" rx=\"81.49\" ry=\"81.49\"/>\n<text text-anchor=\"middle\" x=\"415\" y=\"-458.12\" font-family=\"Times,serif\" font-size=\"14.00\">Work_Environment</text>\n</g>\n<!-- Work_Environment&#45;&gt;Job_Satisfaction -->\n<g id=\"edge2\" class=\"edge\">\n<title>Work_Environment&#45;&gt;Job_Satisfaction</title>\n<path fill=\"none\" stroke=\"black\" d=\"M340.74,-427.99C302.8,-408.23 258.18,-380.02 227,-344.58 194.67,-307.84 171.82,-257.85 156.97,-216.71\"/>\n<polygon fill=\"black\" stroke=\"black\" points=\"160.27,-215.54 153.65,-207.27 153.67,-217.86 160.27,-215.54\"/>\n</g>\n<!-- Coworkers -->\n<g id=\"node3\" class=\"node\">\n<title>Coworkers</title>\n<ellipse fill=\"#cae6df\" stroke=\"black\" cx=\"285\" cy=\"-295.18\" rx=\"49.29\" ry=\"49.29\"/>\n<text text-anchor=\"middle\" x=\"285\" y=\"-291.48\" font-family=\"Times,serif\" font-size=\"14.00\">Coworkers</text>\n</g>\n<!-- Work_Environment&#45;&gt;Coworkers -->\n<g id=\"edge15\" class=\"edge\">\n<title>Work_Environment&#45;&gt;Coworkers</title>\n<path fill=\"none\" stroke=\"black\" stroke-dasharray=\"5,2\" d=\"M358.77,-389.61C346.19,-373.68 333.17,-357.19 321.63,-342.58\"/>\n<polygon fill=\"black\" stroke=\"black\" points=\"356.17,-391.96 365.11,-397.64 361.66,-387.62 356.17,-391.96\"/>\n<polygon fill=\"black\" stroke=\"black\" points=\"324.33,-340.35 315.39,-334.67 318.84,-344.68 324.33,-340.35\"/>\n</g>\n<!-- x5 -->\n<g id=\"node11\" class=\"node\">\n<title>x5</title>\n<polygon fill=\"none\" stroke=\"black\" points=\"406,-313.18 352,-313.18 352,-277.18 406,-277.18 406,-313.18\"/>\n<text text-anchor=\"middle\" x=\"379\" y=\"-291.48\" font-family=\"Times,serif\" font-size=\"14.00\">x5</text>\n</g>\n<!-- Work_Environment&#45;&gt;x5 -->\n<g id=\"edge3\" class=\"edge\">\n<title>Work_Environment&#45;&gt;x5</title>\n<path fill=\"none\" stroke=\"black\" d=\"M397.84,-382.36C393.18,-361.03 388.44,-339.35 384.88,-323.07\"/>\n<polygon fill=\"black\" stroke=\"black\" points=\"388.28,-322.23 382.72,-313.21 381.44,-323.73 388.28,-322.23\"/>\n</g>\n<!-- x6 -->\n<g id=\"node12\" class=\"node\">\n<title>x6</title>\n<polygon fill=\"none\" stroke=\"black\" points=\"478,-313.18 424,-313.18 424,-277.18 478,-277.18 478,-313.18\"/>\n<text text-anchor=\"middle\" x=\"451\" y=\"-291.48\" font-family=\"Times,serif\" font-size=\"14.00\">x6</text>\n</g>\n<!-- Work_Environment&#45;&gt;x6 -->\n<g id=\"edge4\" class=\"edge\">\n<title>Work_Environment&#45;&gt;x6</title>\n<path fill=\"none\" stroke=\"black\" d=\"M432.16,-382.36C436.82,-361.03 441.56,-339.35 445.12,-323.07\"/>\n<polygon fill=\"black\" stroke=\"black\" points=\"448.56,-323.73 447.28,-313.21 441.72,-322.23 448.56,-323.73\"/>\n</g>\n<!-- x7 -->\n<g id=\"node13\" class=\"node\">\n<title>x7</title>\n<polygon fill=\"none\" stroke=\"black\" points=\"550,-313.18 496,-313.18 496,-277.18 550,-277.18 550,-313.18\"/>\n<text text-anchor=\"middle\" x=\"523\" y=\"-291.48\" font-family=\"Times,serif\" font-size=\"14.00\">x7</text>\n</g>\n<!-- Work_Environment&#45;&gt;x7 -->\n<g id=\"edge5\" class=\"edge\">\n<title>Work_Environment&#45;&gt;x7</title>\n<path fill=\"none\" stroke=\"black\" d=\"M459.24,-393.38C475.83,-368.08 493.7,-340.85 506.29,-321.66\"/>\n<polygon fill=\"black\" stroke=\"black\" points=\"509.29,-323.47 511.84,-313.19 503.43,-319.63 509.29,-323.47\"/>\n</g>\n<!-- x8 -->\n<g id=\"node14\" class=\"node\">\n<title>x8</title>\n<polygon fill=\"none\" stroke=\"black\" points=\"622,-313.18 568,-313.18 568,-277.18 622,-277.18 622,-313.18\"/>\n<text text-anchor=\"middle\" x=\"595\" y=\"-291.48\" font-family=\"Times,serif\" font-size=\"14.00\">x8</text>\n</g>\n<!-- Work_Environment&#45;&gt;x8 -->\n<g id=\"edge6\" class=\"edge\">\n<title>Work_Environment&#45;&gt;x8</title>\n<path fill=\"none\" stroke=\"black\" d=\"M480.71,-413.43C506.38,-393.51 535.29,-369.25 559,-344.58 565.57,-337.74 572,-329.69 577.56,-322.13\"/>\n<polygon fill=\"black\" stroke=\"black\" points=\"580.69,-323.76 583.65,-313.59 575,-319.7 580.69,-323.76\"/>\n</g>\n<!-- Coworkers&#45;&gt;Job_Satisfaction -->\n<g id=\"edge1\" class=\"edge\">\n<title>Coworkers&#45;&gt;Job_Satisfaction</title>\n<path fill=\"none\" stroke=\"black\" d=\"M250.59,-259.25C232.64,-241.02 210.25,-218.29 189.97,-197.7\"/>\n<polygon fill=\"black\" stroke=\"black\" points=\"192.4,-195.19 182.89,-190.52 187.42,-200.1 192.4,-195.19\"/>\n</g>\n<!-- x10 -->\n<g id=\"node4\" class=\"node\">\n<title>x10</title>\n<polygon fill=\"none\" stroke=\"black\" points=\"276,-158.89 222,-158.89 222,-122.89 276,-122.89 276,-158.89\"/>\n<text text-anchor=\"middle\" x=\"249\" y=\"-137.19\" font-family=\"Times,serif\" font-size=\"14.00\">x10</text>\n</g>\n<!-- Coworkers&#45;&gt;x10 -->\n<g id=\"edge8\" class=\"edge\">\n<title>Coworkers&#45;&gt;x10</title>\n<path fill=\"none\" stroke=\"black\" d=\"M273.81,-246.83C267.74,-221.17 260.46,-190.39 255.37,-168.83\"/>\n<polygon fill=\"black\" stroke=\"black\" points=\"258.76,-167.97 253.05,-159.04 251.95,-169.58 258.76,-167.97\"/>\n</g>\n<!-- x11 -->\n<g id=\"node5\" class=\"node\">\n<title>x11</title>\n<polygon fill=\"none\" stroke=\"black\" points=\"348,-158.89 294,-158.89 294,-122.89 348,-122.89 348,-158.89\"/>\n<text text-anchor=\"middle\" x=\"321\" y=\"-137.19\" font-family=\"Times,serif\" font-size=\"14.00\">x11</text>\n</g>\n<!-- Coworkers&#45;&gt;x11 -->\n<g id=\"edge9\" class=\"edge\">\n<title>Coworkers&#45;&gt;x11</title>\n<path fill=\"none\" stroke=\"black\" d=\"M296.19,-246.83C302.26,-221.17 309.54,-190.39 314.63,-168.83\"/>\n<polygon fill=\"black\" stroke=\"black\" points=\"318.05,-169.58 316.95,-159.04 311.24,-167.97 318.05,-169.58\"/>\n</g>\n<!-- x12 -->\n<g id=\"node6\" class=\"node\">\n<title>x12</title>\n<polygon fill=\"none\" stroke=\"black\" points=\"420,-158.89 366,-158.89 366,-122.89 420,-122.89 420,-158.89\"/>\n<text text-anchor=\"middle\" x=\"393\" y=\"-137.19\" font-family=\"Times,serif\" font-size=\"14.00\">x12</text>\n</g>\n<!-- Coworkers&#45;&gt;x12 -->\n<g id=\"edge10\" class=\"edge\">\n<title>Coworkers&#45;&gt;x12</title>\n<path fill=\"none\" stroke=\"black\" d=\"M318.37,-258.6C331.21,-244.04 345.52,-226.67 357,-209.79 365.9,-196.69 374.29,-181.13 380.73,-168.22\"/>\n<polygon fill=\"black\" stroke=\"black\" points=\"384.01,-169.47 385.25,-158.94 377.72,-166.4 384.01,-169.47\"/>\n</g>\n<!-- x9 -->\n<g id=\"node15\" class=\"node\">\n<title>x9</title>\n<polygon fill=\"none\" stroke=\"black\" points=\"492,-158.89 438,-158.89 438,-122.89 492,-122.89 492,-158.89\"/>\n<text text-anchor=\"middle\" x=\"465\" y=\"-137.19\" font-family=\"Times,serif\" font-size=\"14.00\">x9</text>\n</g>\n<!-- Coworkers&#45;&gt;x9 -->\n<g id=\"edge7\" class=\"edge\">\n<title>Coworkers&#45;&gt;x9</title>\n<path fill=\"none\" stroke=\"black\" d=\"M321.2,-261.21C328.16,-255.68 335.6,-250.28 343,-245.79 378.41,-224.27 398.4,-237.72 429,-209.79 441.21,-198.64 450.04,-182.38 455.89,-168.56\"/>\n<polygon fill=\"black\" stroke=\"black\" points=\"459.23,-169.63 459.64,-159.04 452.72,-167.07 459.23,-169.63\"/>\n</g>\n</g>\n</svg>\n",
      "text/plain": [
       "<graphviz.graphs.Digraph at 0x7f5a762e0ca0>"
      ]
     },
     "execution_count": 11,
     "metadata": {},
     "output_type": "execute_result"
    }
   ],
   "source": [
    "simp_struct_desc = '''\n",
    "# Measurement\n",
    "Work_Environment =~ x5 + x6 + x7 + x8\n",
    "Coworkers =~ x9 + x10 + x11 + x12\n",
    "Job_Satisfaction =~ x13 + x14 + x15 + x16\n",
    "\n",
    "DEFINE(ordinal) x5\n",
    "\n",
    "# Structure\n",
    "Job_Satisfaction ~ Coworkers + Work_Environment \n",
    "\n",
    "# Covariances\n",
    "Coworkers ~~ Work_Environment \n",
    "\n",
    "'''\n",
    "\n",
    "g = semopy.semplot(simp_struct_desc, \"out.png\", plot_covs=True)\n",
    "g"
   ]
  },
  {
   "cell_type": "markdown",
   "metadata": {},
   "source": [
    "En nuestro ejemplo especificamos que `Job_Satisfaction` depende de `Coworkers` y `Work_Environment`. A su vez, `Coworkers` y `Work_Environment` covarian.  "
   ]
  },
  {
   "cell_type": "markdown",
   "metadata": {},
   "source": [
    "Aunque el enfoque en esta etapa está en el modelo estructural, **la estimación del modelo SEM requiere que también se incluyan las especificaciones de medición**. De esta manera, el diagrama de ruta representa tanto la medición como la parte estructural de SEM en un modelo general.\n",
    "\n",
    "El modelo ya está listo para su estimación. Esto se convierte en la prueba de la teoría general, que incluye tanto las relaciones de medición de los indicadores con los constructos, como las relaciones estructurales hipotetizadas entre los constructos."
   ]
  },
  {
   "cell_type": "markdown",
   "metadata": {},
   "source": [
    "## Validez del modelo estructural\n",
    "\n",
    "Implica esfuerzos para probar la validez del modelo estructural teórico propuesto y examinar las relaciones teóricas incrustadas dentro de esa teoría.\n",
    "\n",
    "Si el modelo de medición no ha sobrevivido a sus pruebas de ajuste y otros aspectos de validez, no se recomienda evaluar un modelo estructural porque los resultados sugieren que la teoría de medición propuesta es defectuosa. De hecho, si uno no logra un ajuste aceptable para el modelo de medición, el ajuste del modelo no mejorará cuando se agreguen restricciones para representar el modelo estructural teórico.\n",
    "\n",
    "**Solo cuando el modelo de medición se valida por primera vez y logra un ajuste de modelo aceptable, podemos dirigir nuestra atención a una prueba de las relaciones estructurales**.\n"
   ]
  },
  {
   "cell_type": "markdown",
   "metadata": {},
   "source": [
    "Surgen dos diferencias clave al probar el ajuste de un modelo estructural en relación con un modelo de medición. \n",
    "\n",
    "En primer lugar, aunque se debe volver a establecer un ajuste general aceptable del modelo, se fomentan modelos teóricos alternativos o competidores para respaldar la superioridad de un modelo. \n",
    "\n",
    "En segundo lugar, **las estimaciones de los parámetros para las relaciones estructurales se convierten en un foco si el ajuste es suficiente porque proporcionan evidencia empírica directa relacionada con las relaciones hipotéticas implícitas en el modelo teórico propuesto**."
   ]
  },
  {
   "cell_type": "markdown",
   "metadata": {},
   "source": [
    "El proceso de establecer la validez del modelo estructural sigue las pautas generales descritas para el modelo de medición. Los datos observados todavía están representados por la matriz de covarianza de la muestra observada. Sin embargo, **se calcula una nueva matriz de covarianza estimada de SEM en función de las restricciones agregadas al modelo de medición necesarias para convertirlo en el modelo estructural propuesto**.\n",
    "\n",
    "**El ajuste general se puede evaluar utilizando los mismos criterios que el modelo de medición**: utilizando el valor $ X^{2} $ para el modelo estructural y al menos un índice absoluto y un índice incremental. \n",
    "\n",
    "Estas medidas establecen la validez del modelo estructural, pero las comparaciones entre el ajuste general también deben realizarse con el modelo de medición. Generalmente, **cuanto más se acerca el modelo estructural GOF al modelo de medición, mejor se ajusta al modelo estructural, porque el ajuste del modelo de medición proporciona un límite superior al GOF de un modelo estructural convencional**."
   ]
  },
  {
   "cell_type": "markdown",
   "metadata": {},
   "source": [
    "También debemos examinar las estimaciones de los parámetros individuales que representan cada vínculo o \"ruta\". Las rutas ilimitadas de un modelo teórico se consideran válidas en la medida en que las estimaciones de los parámetros sean:\n",
    "- **Estadísticamente significativo y en la dirección prevista**. Es decir, son mayores que cero para una relación positiva y menores que cero para una relación negativa.\n",
    "- **No trivial**. Se debe verificar la importancia práctica de los tamaños del efecto utilizando estimaciones de carga completamente estandarizadas. La pauta aquí es la misma que en otras técnicas multivariadas. Los coeficientes pueden ser estadísticamente significativos pero prácticamente insignificantes, sobre todo a medida que las muestras aumentan de tamaño."
   ]
  },
  {
   "cell_type": "markdown",
   "metadata": {},
   "source": [
    "Validemos el modelo estructural de nuestro ejemplo:"
   ]
  },
  {
   "cell_type": "code",
   "execution_count": null,
   "metadata": {},
   "outputs": [],
   "source": [
    "struct_desc = '''\n",
    "# Measurement\n",
    "Work_Environment =~ x5 + x6 + x7 + x8\n",
    "Coworkers =~ x9 + x10 + x11 + x12\n",
    "Job_Satisfaction =~ x13 + x14 + x15 + x16\n",
    "\n",
    "DEFINE(ordinal) x5\n",
    "\n",
    "e5 =~ x5\n",
    "e6 =~ x6\n",
    "e7 =~ x7\n",
    "e8 =~ x8\n",
    "e9 =~ x9\n",
    "e10 =~ x10\n",
    "e11 =~ x11\n",
    "e12 =~ x12\n",
    "e13 =~ x13\n",
    "e14 =~ x14\n",
    "e15 =~ x15\n",
    "e16 =~ x16\n",
    "\n",
    "# Structure\n",
    "Job_Satisfaction ~ Coworkers + Work_Environment \n",
    "\n",
    "# Covariances\n",
    "Coworkers ~~ Work_Environment \n",
    "\n",
    "'''\n",
    "\n",
    "struct_model = semopy.Model(struct_desc)\n",
    "res = struct_model.fit(df)"
   ]
  },
  {
   "cell_type": "code",
   "execution_count": 7,
   "metadata": {},
   "outputs": [
    {
     "name": "stdout",
     "output_type": "stream",
     "text": [
      "                    Value\n",
      "DoF            -51.000000\n",
      "DoF Baseline    66.000000\n",
      "chi2             0.000238\n",
      "chi2 p-value          NaN\n",
      "chi2 Baseline  642.353231\n",
      "CFI              0.911512\n",
      "GFI              1.000000\n",
      "AGFI             1.000000\n",
      "NFI              1.000000\n",
      "TLI              1.114514\n",
      "RMSEA                 NaN\n",
      "AIC            257.999995\n",
      "BIC            591.460800\n",
      "LogLik           0.000002\n"
     ]
    },
    {
     "name": "stderr",
     "output_type": "stream",
     "text": [
      "/home/renato/.virtualenvs/statspsych/lib/python3.8/site-packages/semopy/stats.py:386: RuntimeWarning: invalid value encountered in sqrt\n",
      "  return np.sqrt((chi2 / dof - 1) / (model.n_samples - 1))\n"
     ]
    }
   ],
   "source": [
    "stats = semopy.calc_stats(struct_model)\n",
    "print(stats.T)"
   ]
  },
  {
   "cell_type": "markdown",
   "metadata": {},
   "source": [
    "Al igual que en el modelo de medición, el modelo presenta un buen ajuste. Incluso podemos apreciar una mejora en el indicador CFI."
   ]
  },
  {
   "cell_type": "markdown",
   "metadata": {},
   "source": [
    "Procedamos ahora a examinar las estimaciones de los parámetros:"
   ]
  },
  {
   "cell_type": "code",
   "execution_count": 6,
   "metadata": {},
   "outputs": [
    {
     "name": "stderr",
     "output_type": "stream",
     "text": [
      "WARNING:root:Fisher Information Matrix is not PD.Moore-Penrose inverse will be used instead of Cholesky decomposition. See 10.1109/TSP.2012.2208105.\n"
     ]
    },
    {
     "data": {
      "image/svg+xml": "<?xml version=\"1.0\" encoding=\"UTF-8\" standalone=\"no\"?>\n<!DOCTYPE svg PUBLIC \"-//W3C//DTD SVG 1.1//EN\"\n \"http://www.w3.org/Graphics/SVG/1.1/DTD/svg11.dtd\">\n<!-- Generated by graphviz version 2.43.0 (0)\n -->\n<!-- Title: G Pages: 1 -->\n<svg width=\"1225pt\" height=\"468pt\"\n viewBox=\"0.00 0.00 1225.25 468.27\" xmlns=\"http://www.w3.org/2000/svg\" xmlns:xlink=\"http://www.w3.org/1999/xlink\">\n<g id=\"graph0\" class=\"graph\" transform=\"scale(1 1) rotate(0) translate(4 464.27)\">\n<title>G</title>\n<polygon fill=\"white\" stroke=\"transparent\" points=\"-4,4 -4,-464.27 1221.25,-464.27 1221.25,4 -4,4\"/>\n<!-- Job_Satisfaction -->\n<g id=\"node1\" class=\"node\">\n<title>Job_Satisfaction</title>\n<ellipse fill=\"#cae6df\" stroke=\"black\" cx=\"551.4\" cy=\"-166.89\" rx=\"68.79\" ry=\"68.79\"/>\n<text text-anchor=\"middle\" x=\"551.4\" y=\"-163.19\" font-family=\"Times,serif\" font-size=\"14.00\">Job_Satisfaction</text>\n</g>\n<!-- x13 -->\n<g id=\"node19\" class=\"node\">\n<title>x13</title>\n<polygon fill=\"none\" stroke=\"black\" points=\"276.4,-36 222.4,-36 222.4,0 276.4,0 276.4,-36\"/>\n<text text-anchor=\"middle\" x=\"249.4\" y=\"-14.3\" font-family=\"Times,serif\" font-size=\"14.00\">x13</text>\n</g>\n<!-- Job_Satisfaction&#45;&gt;x13 -->\n<g id=\"edge19\" class=\"edge\">\n<title>Job_Satisfaction&#45;&gt;x13</title>\n<path fill=\"none\" stroke=\"black\" d=\"M502.34,-118.37C493.16,-110.92 483.33,-103.79 473.4,-98 412.29,-62.39 332.51,-39.03 286.51,-27.5\"/>\n<polygon fill=\"black\" stroke=\"black\" points=\"287.22,-24.07 276.67,-25.08 285.55,-30.86 287.22,-24.07\"/>\n<text text-anchor=\"middle\" x=\"447.4\" y=\"-63.9\" font-family=\"Times,serif\" font-size=\"12.00\">0.840</text>\n</g>\n<!-- x14 -->\n<g id=\"node20\" class=\"node\">\n<title>x14</title>\n<polygon fill=\"none\" stroke=\"black\" points=\"76.4,-36 22.4,-36 22.4,0 76.4,0 76.4,-36\"/>\n<text text-anchor=\"middle\" x=\"49.4\" y=\"-14.3\" font-family=\"Times,serif\" font-size=\"14.00\">x14</text>\n</g>\n<!-- Job_Satisfaction&#45;&gt;x14 -->\n<g id=\"edge21\" class=\"edge\">\n<title>Job_Satisfaction&#45;&gt;x14</title>\n<path fill=\"none\" stroke=\"black\" d=\"M504.01,-116.19C494.58,-108.89 484.22,-102.36 473.4,-98 399.1,-68.06 187,-111.61 113.4,-80 95.53,-72.32 79.67,-57.3 68.21,-44.09\"/>\n<polygon fill=\"black\" stroke=\"black\" points=\"70.73,-41.65 61.66,-36.18 65.34,-46.11 70.73,-41.65\"/>\n<text text-anchor=\"middle\" x=\"139.4\" y=\"-70.4\" font-family=\"Times,serif\" font-size=\"12.00\">&#45;0.476</text>\n<text text-anchor=\"middle\" x=\"139.4\" y=\"-57.4\" font-family=\"Times,serif\" font-size=\"12.00\">p&#45;val: 0.00</text>\n</g>\n<!-- x15 -->\n<g id=\"node21\" class=\"node\">\n<title>x15</title>\n<polygon fill=\"none\" stroke=\"black\" points=\"741.4,-36 687.4,-36 687.4,0 741.4,0 741.4,-36\"/>\n<text text-anchor=\"middle\" x=\"714.4\" y=\"-14.3\" font-family=\"Times,serif\" font-size=\"14.00\">x15</text>\n</g>\n<!-- Job_Satisfaction&#45;&gt;x15 -->\n<g id=\"edge23\" class=\"edge\">\n<title>Job_Satisfaction&#45;&gt;x15</title>\n<path fill=\"none\" stroke=\"black\" d=\"M602.68,-120.59C611.52,-112.97 620.68,-105.2 629.4,-98 639.41,-89.74 643.05,-89 652.4,-80 663.3,-69.5 663.78,-64.79 674.4,-54 678.03,-50.31 681.98,-46.56 685.95,-42.95\"/>\n<polygon fill=\"black\" stroke=\"black\" points=\"688.36,-45.49 693.51,-36.24 683.71,-40.26 688.36,-45.49\"/>\n<text text-anchor=\"middle\" x=\"700.4\" y=\"-70.4\" font-family=\"Times,serif\" font-size=\"12.00\">&#45;0.141</text>\n<text text-anchor=\"middle\" x=\"700.4\" y=\"-57.4\" font-family=\"Times,serif\" font-size=\"12.00\">p&#45;val: 0.00</text>\n</g>\n<!-- x16 -->\n<g id=\"node22\" class=\"node\">\n<title>x16</title>\n<polygon fill=\"none\" stroke=\"black\" points=\"615.4,-36 561.4,-36 561.4,0 615.4,0 615.4,-36\"/>\n<text text-anchor=\"middle\" x=\"588.4\" y=\"-14.3\" font-family=\"Times,serif\" font-size=\"14.00\">x16</text>\n</g>\n<!-- Job_Satisfaction&#45;&gt;x16 -->\n<g id=\"edge25\" class=\"edge\">\n<title>Job_Satisfaction&#45;&gt;x16</title>\n<path fill=\"none\" stroke=\"black\" d=\"M543.56,-98.16C544.11,-83.15 546.55,-67.66 552.4,-54 553.97,-50.32 556.14,-46.83 558.64,-43.59\"/>\n<polygon fill=\"black\" stroke=\"black\" points=\"561.32,-45.84 565.38,-36.05 556.11,-41.17 561.32,-45.84\"/>\n<text text-anchor=\"middle\" x=\"578.4\" y=\"-70.4\" font-family=\"Times,serif\" font-size=\"12.00\">&#45;0.284</text>\n<text text-anchor=\"middle\" x=\"578.4\" y=\"-57.4\" font-family=\"Times,serif\" font-size=\"12.00\">p&#45;val: 0.00</text>\n</g>\n<!-- e11 -->\n<g id=\"node2\" class=\"node\">\n<title>e11</title>\n<ellipse fill=\"#cae6df\" stroke=\"black\" cx=\"512.4\" cy=\"-379.03\" rx=\"23.3\" ry=\"23.3\"/>\n<text text-anchor=\"middle\" x=\"512.4\" y=\"-375.33\" font-family=\"Times,serif\" font-size=\"14.00\">e11</text>\n</g>\n<!-- x11 -->\n<g id=\"node17\" class=\"node\">\n<title>x11</title>\n<polygon fill=\"none\" stroke=\"black\" points=\"464.4,-184.89 410.4,-184.89 410.4,-148.89 464.4,-148.89 464.4,-184.89\"/>\n<text text-anchor=\"middle\" x=\"437.4\" y=\"-163.19\" font-family=\"Times,serif\" font-size=\"14.00\">x11</text>\n</g>\n<!-- e11&#45;&gt;x11 -->\n<g id=\"edge16\" class=\"edge\">\n<title>e11&#45;&gt;x11</title>\n<path fill=\"none\" stroke=\"black\" d=\"M510.99,-355.53C508.68,-329.88 502.71,-287.19 487.4,-253.79 483.17,-244.57 478.9,-244.3 473.4,-235.79 464.85,-222.58 456.54,-207.13 450.06,-194.31\"/>\n<polygon fill=\"black\" stroke=\"black\" points=\"453.07,-192.5 445.49,-185.1 446.8,-195.61 453.07,-192.5\"/>\n<text text-anchor=\"middle\" x=\"511.4\" y=\"-263.69\" font-family=\"Times,serif\" font-size=\"12.00\">0.597</text>\n</g>\n<!-- Coworkers -->\n<g id=\"node3\" class=\"node\">\n<title>Coworkers</title>\n<ellipse fill=\"#cae6df\" stroke=\"black\" cx=\"421.4\" cy=\"-379.03\" rx=\"49.29\" ry=\"49.29\"/>\n<text text-anchor=\"middle\" x=\"421.4\" y=\"-375.33\" font-family=\"Times,serif\" font-size=\"14.00\">Coworkers</text>\n</g>\n<!-- Coworkers&#45;&gt;Job_Satisfaction -->\n<g id=\"edge1\" class=\"edge\">\n<title>Coworkers&#45;&gt;Job_Satisfaction</title>\n<path fill=\"none\" stroke=\"black\" d=\"M445.6,-335.7C455.03,-322.11 466.85,-307.97 480.4,-297.79 498.95,-283.85 514.34,-297.44 529.4,-279.79 537.66,-270.1 543.16,-258.22 546.77,-245.86\"/>\n<polygon fill=\"black\" stroke=\"black\" points=\"550.23,-246.43 549.27,-235.88 543.44,-244.73 550.23,-246.43\"/>\n<text text-anchor=\"middle\" x=\"569.4\" y=\"-270.19\" font-family=\"Times,serif\" font-size=\"12.00\">&#45;0.259</text>\n<text text-anchor=\"middle\" x=\"569.4\" y=\"-257.19\" font-family=\"Times,serif\" font-size=\"12.00\">p&#45;val: 0.00</text>\n</g>\n<!-- x10 -->\n<g id=\"node16\" class=\"node\">\n<title>x10</title>\n<polygon fill=\"none\" stroke=\"black\" points=\"286.4,-184.89 232.4,-184.89 232.4,-148.89 286.4,-148.89 286.4,-184.89\"/>\n<text text-anchor=\"middle\" x=\"259.4\" y=\"-163.19\" font-family=\"Times,serif\" font-size=\"14.00\">x10</text>\n</g>\n<!-- Coworkers&#45;&gt;x10 -->\n<g id=\"edge13\" class=\"edge\">\n<title>Coworkers&#45;&gt;x10</title>\n<path fill=\"none\" stroke=\"black\" d=\"M398.79,-335C389.55,-321.19 377.65,-307.09 363.4,-297.79 331.42,-276.93 305.93,-307.24 279.4,-279.79 257.92,-257.56 255.24,-220.65 256.39,-195.34\"/>\n<polygon fill=\"black\" stroke=\"black\" points=\"259.89,-195.49 257.08,-185.28 252.9,-195.02 259.89,-195.49\"/>\n<text text-anchor=\"middle\" x=\"305.4\" y=\"-270.19\" font-family=\"Times,serif\" font-size=\"12.00\">0.510</text>\n<text text-anchor=\"middle\" x=\"305.4\" y=\"-257.19\" font-family=\"Times,serif\" font-size=\"12.00\">p&#45;val: 0.00</text>\n</g>\n<!-- Coworkers&#45;&gt;x11 -->\n<g id=\"edge15\" class=\"edge\">\n<title>Coworkers&#45;&gt;x11</title>\n<path fill=\"none\" stroke=\"black\" d=\"M425.09,-329.56C428.27,-287.78 432.75,-228.98 435.33,-195.01\"/>\n<polygon fill=\"black\" stroke=\"black\" points=\"438.83,-195.15 436.1,-184.91 431.85,-194.62 438.83,-195.15\"/>\n<text text-anchor=\"middle\" x=\"457.4\" y=\"-270.19\" font-family=\"Times,serif\" font-size=\"12.00\">0.691</text>\n<text text-anchor=\"middle\" x=\"457.4\" y=\"-257.19\" font-family=\"Times,serif\" font-size=\"12.00\">p&#45;val: 0.00</text>\n</g>\n<!-- x12 -->\n<g id=\"node18\" class=\"node\">\n<title>x12</title>\n<polygon fill=\"none\" stroke=\"black\" points=\"213.4,-184.89 159.4,-184.89 159.4,-148.89 213.4,-148.89 213.4,-184.89\"/>\n<text text-anchor=\"middle\" x=\"186.4\" y=\"-163.19\" font-family=\"Times,serif\" font-size=\"14.00\">x12</text>\n</g>\n<!-- Coworkers&#45;&gt;x12 -->\n<g id=\"edge17\" class=\"edge\">\n<title>Coworkers&#45;&gt;x12</title>\n<path fill=\"none\" stroke=\"black\" d=\"M399.55,-334.64C390.32,-320.63 378.23,-306.48 363.4,-297.79 333.48,-280.25 233.86,-303.33 208.4,-279.79 185.5,-258.62 182.45,-221.15 183.49,-195.44\"/>\n<polygon fill=\"black\" stroke=\"black\" points=\"187,-195.43 184.14,-185.23 180.01,-194.98 187,-195.43\"/>\n<text text-anchor=\"middle\" x=\"234.4\" y=\"-270.19\" font-family=\"Times,serif\" font-size=\"12.00\">0.196</text>\n<text text-anchor=\"middle\" x=\"234.4\" y=\"-257.19\" font-family=\"Times,serif\" font-size=\"12.00\">p&#45;val: 0.00</text>\n</g>\n<!-- x9 -->\n<g id=\"node27\" class=\"node\">\n<title>x9</title>\n<polygon fill=\"none\" stroke=\"black\" points=\"377.4,-184.89 323.4,-184.89 323.4,-148.89 377.4,-148.89 377.4,-184.89\"/>\n<text text-anchor=\"middle\" x=\"350.4\" y=\"-163.19\" font-family=\"Times,serif\" font-size=\"14.00\">x9</text>\n</g>\n<!-- Coworkers&#45;&gt;x9 -->\n<g id=\"edge11\" class=\"edge\">\n<title>Coworkers&#45;&gt;x9</title>\n<path fill=\"none\" stroke=\"black\" d=\"M405.82,-331.92C391.65,-289.98 371.22,-229.52 359.53,-194.93\"/>\n<polygon fill=\"black\" stroke=\"black\" points=\"362.72,-193.42 356.2,-185.07 356.09,-195.67 362.72,-193.42\"/>\n<text text-anchor=\"middle\" x=\"402.4\" y=\"-263.69\" font-family=\"Times,serif\" font-size=\"12.00\">0.566</text>\n</g>\n<!-- e9 -->\n<g id=\"node4\" class=\"node\">\n<title>e9</title>\n<ellipse fill=\"#cae6df\" stroke=\"black\" cx=\"335.4\" cy=\"-379.03\" rx=\"18.7\" ry=\"18.7\"/>\n<text text-anchor=\"middle\" x=\"335.4\" y=\"-375.33\" font-family=\"Times,serif\" font-size=\"14.00\">e9</text>\n</g>\n<!-- e9&#45;&gt;x9 -->\n<g id=\"edge12\" class=\"edge\">\n<title>e9&#45;&gt;x9</title>\n<path fill=\"none\" stroke=\"black\" d=\"M334.67,-359.88C333.91,-335.65 333.2,-291.4 336.4,-253.79 338.08,-234.03 341.72,-211.95 344.86,-195.13\"/>\n<polygon fill=\"black\" stroke=\"black\" points=\"348.38,-195.39 346.83,-184.91 341.5,-194.07 348.38,-195.39\"/>\n<text text-anchor=\"middle\" x=\"350.4\" y=\"-263.69\" font-family=\"Times,serif\" font-size=\"12.00\">0.688</text>\n</g>\n<!-- e5 -->\n<g id=\"node5\" class=\"node\">\n<title>e5</title>\n<ellipse fill=\"#cae6df\" stroke=\"black\" cx=\"1072.4\" cy=\"-379.03\" rx=\"18.7\" ry=\"18.7\"/>\n<text text-anchor=\"middle\" x=\"1072.4\" y=\"-375.33\" font-family=\"Times,serif\" font-size=\"14.00\">e5</text>\n</g>\n<!-- x5 -->\n<g id=\"node23\" class=\"node\">\n<title>x5</title>\n<polygon fill=\"none\" stroke=\"black\" points=\"1081.4,-184.89 1027.4,-184.89 1027.4,-148.89 1081.4,-148.89 1081.4,-184.89\"/>\n<text text-anchor=\"middle\" x=\"1054.4\" y=\"-163.19\" font-family=\"Times,serif\" font-size=\"14.00\">x5</text>\n</g>\n<!-- e5&#45;&gt;x5 -->\n<g id=\"edge4\" class=\"edge\">\n<title>e5&#45;&gt;x5</title>\n<path fill=\"none\" stroke=\"black\" d=\"M1070.86,-360.11C1067.71,-323.33 1060.5,-239.09 1056.75,-195.36\"/>\n<polygon fill=\"black\" stroke=\"black\" points=\"1060.22,-194.84 1055.88,-185.17 1053.24,-195.44 1060.22,-194.84\"/>\n<text text-anchor=\"middle\" x=\"1077.4\" y=\"-263.69\" font-family=\"Times,serif\" font-size=\"12.00\">0.552</text>\n</g>\n<!-- e13 -->\n<g id=\"node6\" class=\"node\">\n<title>e13</title>\n<ellipse fill=\"#cae6df\" stroke=\"black\" cx=\"118.4\" cy=\"-166.89\" rx=\"23.3\" ry=\"23.3\"/>\n<text text-anchor=\"middle\" x=\"118.4\" y=\"-163.19\" font-family=\"Times,serif\" font-size=\"14.00\">e13</text>\n</g>\n<!-- e13&#45;&gt;x13 -->\n<g id=\"edge20\" class=\"edge\">\n<title>e13&#45;&gt;x13</title>\n<path fill=\"none\" stroke=\"black\" d=\"M125.54,-144.6C130.94,-130.46 139.33,-112.01 150.4,-98 168.06,-75.66 193.18,-55.71 213.7,-41.44\"/>\n<polygon fill=\"black\" stroke=\"black\" points=\"215.87,-44.2 222.18,-35.69 211.94,-38.41 215.87,-44.2\"/>\n<text text-anchor=\"middle\" x=\"209.4\" y=\"-63.9\" font-family=\"Times,serif\" font-size=\"12.00\">0.276</text>\n</g>\n<!-- e10 -->\n<g id=\"node7\" class=\"node\">\n<title>e10</title>\n<ellipse fill=\"#cae6df\" stroke=\"black\" cx=\"134.4\" cy=\"-379.03\" rx=\"23.3\" ry=\"23.3\"/>\n<text text-anchor=\"middle\" x=\"134.4\" y=\"-375.33\" font-family=\"Times,serif\" font-size=\"14.00\">e10</text>\n</g>\n<!-- e10&#45;&gt;x10 -->\n<g id=\"edge14\" class=\"edge\">\n<title>e10&#45;&gt;x10</title>\n<path fill=\"none\" stroke=\"black\" d=\"M127.18,-356.41C119.59,-329.23 111.72,-282.63 135.4,-253.79 160.45,-223.27 190.68,-259.3 222.4,-235.79 236.07,-225.66 245.27,-208.91 251.08,-194.59\"/>\n<polygon fill=\"black\" stroke=\"black\" points=\"254.38,-195.76 254.57,-185.17 247.81,-193.33 254.38,-195.76\"/>\n<text text-anchor=\"middle\" x=\"149.4\" y=\"-263.69\" font-family=\"Times,serif\" font-size=\"12.00\">0.510</text>\n</g>\n<!-- e8 -->\n<g id=\"node8\" class=\"node\">\n<title>e8</title>\n<ellipse fill=\"#cae6df\" stroke=\"black\" cx=\"836.4\" cy=\"-379.03\" rx=\"18.7\" ry=\"18.7\"/>\n<text text-anchor=\"middle\" x=\"836.4\" y=\"-375.33\" font-family=\"Times,serif\" font-size=\"14.00\">e8</text>\n</g>\n<!-- x8 -->\n<g id=\"node26\" class=\"node\">\n<title>x8</title>\n<polygon fill=\"none\" stroke=\"black\" points=\"948.4,-184.89 894.4,-184.89 894.4,-148.89 948.4,-148.89 948.4,-184.89\"/>\n<text text-anchor=\"middle\" x=\"921.4\" y=\"-163.19\" font-family=\"Times,serif\" font-size=\"14.00\">x8</text>\n</g>\n<!-- e8&#45;&gt;x8 -->\n<g id=\"edge10\" class=\"edge\">\n<title>e8&#45;&gt;x8</title>\n<path fill=\"none\" stroke=\"black\" d=\"M841.68,-360.88C846.89,-344.47 855.38,-319.13 864.4,-297.79 867.88,-289.55 869.63,-287.9 873.4,-279.79 886.81,-250.89 901.06,-217.24 910.52,-194.45\"/>\n<polygon fill=\"black\" stroke=\"black\" points=\"913.8,-195.67 914.39,-185.09 907.33,-193 913.8,-195.67\"/>\n<text text-anchor=\"middle\" x=\"899.4\" y=\"-263.69\" font-family=\"Times,serif\" font-size=\"12.00\">0.385</text>\n</g>\n<!-- e15 -->\n<g id=\"node9\" class=\"node\">\n<title>e15</title>\n<ellipse fill=\"#cae6df\" stroke=\"black\" cx=\"752.4\" cy=\"-166.89\" rx=\"23.3\" ry=\"23.3\"/>\n<text text-anchor=\"middle\" x=\"752.4\" y=\"-163.19\" font-family=\"Times,serif\" font-size=\"14.00\">e15</text>\n</g>\n<!-- e15&#45;&gt;x15 -->\n<g id=\"edge24\" class=\"edge\">\n<title>e15&#45;&gt;x15</title>\n<path fill=\"none\" stroke=\"black\" d=\"M749.59,-143.64C746.35,-120.78 740.17,-84.34 730.4,-54 729.5,-51.2 728.43,-48.32 727.28,-45.48\"/>\n<polygon fill=\"black\" stroke=\"black\" points=\"730.41,-43.89 723.2,-36.13 723.99,-46.69 730.41,-43.89\"/>\n<text text-anchor=\"middle\" x=\"751.4\" y=\"-63.9\" font-family=\"Times,serif\" font-size=\"12.00\">0.565</text>\n</g>\n<!-- Work_Environment -->\n<g id=\"node10\" class=\"node\">\n<title>Work_Environment</title>\n<ellipse fill=\"#cae6df\" stroke=\"black\" cx=\"954.4\" cy=\"-379.03\" rx=\"81.49\" ry=\"81.49\"/>\n<text text-anchor=\"middle\" x=\"954.4\" y=\"-375.33\" font-family=\"Times,serif\" font-size=\"14.00\">Work_Environment</text>\n</g>\n<!-- Work_Environment&#45;&gt;Job_Satisfaction -->\n<g id=\"edge2\" class=\"edge\">\n<title>Work_Environment&#45;&gt;Job_Satisfaction</title>\n<path fill=\"none\" stroke=\"black\" d=\"M898.63,-319.83C887.99,-311.31 876.4,-303.49 864.4,-297.79 818.86,-276.14 797.9,-301.5 752.4,-279.79 736.77,-272.33 738.91,-261.47 723.4,-253.79 685.28,-234.9 667.65,-254.39 629.4,-235.79 622.13,-232.25 615.01,-227.86 608.21,-223.03\"/>\n<polygon fill=\"black\" stroke=\"black\" points=\"609.87,-219.9 599.77,-216.7 605.67,-225.5 609.87,-219.9\"/>\n<text text-anchor=\"middle\" x=\"778.4\" y=\"-270.19\" font-family=\"Times,serif\" font-size=\"12.00\">0.732</text>\n<text text-anchor=\"middle\" x=\"778.4\" y=\"-257.19\" font-family=\"Times,serif\" font-size=\"12.00\">p&#45;val: 0.00</text>\n</g>\n<!-- Work_Environment&#45;&gt;x5 -->\n<g id=\"edge3\" class=\"edge\">\n<title>Work_Environment&#45;&gt;x5</title>\n<path fill=\"none\" stroke=\"black\" d=\"M988.95,-305.42C1007.33,-266.79 1028.8,-221.67 1042,-193.94\"/>\n<polygon fill=\"black\" stroke=\"black\" points=\"1045.17,-195.43 1046.31,-184.9 1038.85,-192.43 1045.17,-195.43\"/>\n<text text-anchor=\"middle\" x=\"1027.4\" y=\"-263.69\" font-family=\"Times,serif\" font-size=\"12.00\">0.724</text>\n</g>\n<!-- x6 -->\n<g id=\"node24\" class=\"node\">\n<title>x6</title>\n<polygon fill=\"none\" stroke=\"black\" points=\"1168.4,-184.89 1114.4,-184.89 1114.4,-148.89 1168.4,-148.89 1168.4,-184.89\"/>\n<text text-anchor=\"middle\" x=\"1141.4\" y=\"-163.19\" font-family=\"Times,serif\" font-size=\"14.00\">x6</text>\n</g>\n<!-- Work_Environment&#45;&gt;x6 -->\n<g id=\"edge5\" class=\"edge\">\n<title>Work_Environment&#45;&gt;x6</title>\n<path fill=\"none\" stroke=\"black\" d=\"M1011.87,-321C1022.18,-312.5 1033.22,-304.39 1044.4,-297.79 1065.09,-285.56 1077.98,-296.35 1095.4,-279.79 1119.24,-257.12 1131.13,-220.31 1136.76,-195.14\"/>\n<polygon fill=\"black\" stroke=\"black\" points=\"1140.23,-195.64 1138.81,-185.14 1133.38,-194.24 1140.23,-195.64\"/>\n<text text-anchor=\"middle\" x=\"1140.4\" y=\"-270.19\" font-family=\"Times,serif\" font-size=\"12.00\">&#45;1.179</text>\n<text text-anchor=\"middle\" x=\"1140.4\" y=\"-257.19\" font-family=\"Times,serif\" font-size=\"12.00\">p&#45;val: 0.00</text>\n</g>\n<!-- x7 -->\n<g id=\"node25\" class=\"node\">\n<title>x7</title>\n<polygon fill=\"none\" stroke=\"black\" points=\"847.4,-184.89 793.4,-184.89 793.4,-148.89 847.4,-148.89 847.4,-184.89\"/>\n<text text-anchor=\"middle\" x=\"820.4\" y=\"-163.19\" font-family=\"Times,serif\" font-size=\"14.00\">x7</text>\n</g>\n<!-- Work_Environment&#45;&gt;x7 -->\n<g id=\"edge7\" class=\"edge\">\n<title>Work_Environment&#45;&gt;x7</title>\n<path fill=\"none\" stroke=\"black\" d=\"M896.78,-321.26C886.48,-312.72 875.48,-304.54 864.4,-297.79 845.29,-286.15 830.07,-298.22 817.4,-279.79 800.34,-254.99 805.02,-219.24 811.38,-194.87\"/>\n<polygon fill=\"black\" stroke=\"black\" points=\"814.76,-195.76 814.15,-185.19 808.03,-193.84 814.76,-195.76\"/>\n<text text-anchor=\"middle\" x=\"843.4\" y=\"-270.19\" font-family=\"Times,serif\" font-size=\"12.00\">&#45;0.074</text>\n<text text-anchor=\"middle\" x=\"843.4\" y=\"-257.19\" font-family=\"Times,serif\" font-size=\"12.00\">p&#45;val: 0.12</text>\n</g>\n<!-- Work_Environment&#45;&gt;x8 -->\n<g id=\"edge9\" class=\"edge\">\n<title>Work_Environment&#45;&gt;x8</title>\n<path fill=\"none\" stroke=\"black\" d=\"M941.92,-298.59C936.18,-262.02 929.74,-221.04 925.64,-194.88\"/>\n<polygon fill=\"black\" stroke=\"black\" points=\"929.09,-194.3 924.08,-184.96 922.17,-195.38 929.09,-194.3\"/>\n<text text-anchor=\"middle\" x=\"965.4\" y=\"-270.19\" font-family=\"Times,serif\" font-size=\"12.00\">&#45;0.742</text>\n<text text-anchor=\"middle\" x=\"965.4\" y=\"-257.19\" font-family=\"Times,serif\" font-size=\"12.00\">p&#45;val: 0.00</text>\n</g>\n<!-- e16 -->\n<g id=\"node11\" class=\"node\">\n<title>e16</title>\n<ellipse fill=\"#cae6df\" stroke=\"black\" cx=\"661.4\" cy=\"-166.89\" rx=\"23.3\" ry=\"23.3\"/>\n<text text-anchor=\"middle\" x=\"661.4\" y=\"-163.19\" font-family=\"Times,serif\" font-size=\"14.00\">e16</text>\n</g>\n<!-- e16&#45;&gt;x16 -->\n<g id=\"edge26\" class=\"edge\">\n<title>e16&#45;&gt;x16</title>\n<path fill=\"none\" stroke=\"black\" d=\"M651.94,-145.3C645.67,-131.78 637.2,-113.77 629.4,-98 620.6,-80.22 610.32,-60.41 602.25,-45.08\"/>\n<polygon fill=\"black\" stroke=\"black\" points=\"605.31,-43.37 597.55,-36.16 599.12,-46.64 605.31,-43.37\"/>\n<text text-anchor=\"middle\" x=\"634.4\" y=\"-63.9\" font-family=\"Times,serif\" font-size=\"12.00\">0.493</text>\n</g>\n<!-- e14 -->\n<g id=\"node12\" class=\"node\">\n<title>e14</title>\n<ellipse fill=\"#cae6df\" stroke=\"black\" cx=\"23.4\" cy=\"-166.89\" rx=\"23.3\" ry=\"23.3\"/>\n<text text-anchor=\"middle\" x=\"23.4\" y=\"-163.19\" font-family=\"Times,serif\" font-size=\"14.00\">e14</text>\n</g>\n<!-- e14&#45;&gt;x14 -->\n<g id=\"edge22\" class=\"edge\">\n<title>e14&#45;&gt;x14</title>\n<path fill=\"none\" stroke=\"black\" d=\"M19.71,-143.39C16.82,-120.33 14.72,-83.74 24.4,-54 25.44,-50.8 26.88,-47.65 28.56,-44.62\"/>\n<polygon fill=\"black\" stroke=\"black\" points=\"31.64,-46.3 34.12,-36 25.76,-42.51 31.64,-46.3\"/>\n<text text-anchor=\"middle\" x=\"38.4\" y=\"-63.9\" font-family=\"Times,serif\" font-size=\"12.00\">0.332</text>\n</g>\n<!-- e6 -->\n<g id=\"node13\" class=\"node\">\n<title>e6</title>\n<ellipse fill=\"#cae6df\" stroke=\"black\" cx=\"1198.4\" cy=\"-379.03\" rx=\"18.7\" ry=\"18.7\"/>\n<text text-anchor=\"middle\" x=\"1198.4\" y=\"-375.33\" font-family=\"Times,serif\" font-size=\"14.00\">e6</text>\n</g>\n<!-- e6&#45;&gt;x6 -->\n<g id=\"edge6\" class=\"edge\">\n<title>e6&#45;&gt;x6</title>\n<path fill=\"none\" stroke=\"black\" d=\"M1196.43,-360.07C1193.48,-335.66 1187.09,-290.83 1176.4,-253.79 1170.46,-233.23 1161.25,-210.86 1153.77,-194.11\"/>\n<polygon fill=\"black\" stroke=\"black\" points=\"1156.93,-192.6 1149.61,-184.95 1150.56,-195.5 1156.93,-192.6\"/>\n<text text-anchor=\"middle\" x=\"1196.4\" y=\"-263.69\" font-family=\"Times,serif\" font-size=\"12.00\">0.342</text>\n</g>\n<!-- e7 -->\n<g id=\"node14\" class=\"node\">\n<title>e7</title>\n<ellipse fill=\"#cae6df\" stroke=\"black\" cx=\"694.4\" cy=\"-379.03\" rx=\"18.7\" ry=\"18.7\"/>\n<text text-anchor=\"middle\" x=\"694.4\" y=\"-375.33\" font-family=\"Times,serif\" font-size=\"14.00\">e7</text>\n</g>\n<!-- e7&#45;&gt;x7 -->\n<g id=\"edge8\" class=\"edge\">\n<title>e7&#45;&gt;x7</title>\n<path fill=\"none\" stroke=\"black\" d=\"M688.47,-360.91C680.56,-334.64 670.28,-284.24 695.4,-253.79 721.08,-222.65 752.06,-259.93 784.4,-235.79 797.82,-225.77 806.73,-209.25 812.33,-195.01\"/>\n<polygon fill=\"black\" stroke=\"black\" points=\"815.78,-195.77 815.84,-185.18 809.19,-193.42 815.78,-195.77\"/>\n<text text-anchor=\"middle\" x=\"709.4\" y=\"-263.69\" font-family=\"Times,serif\" font-size=\"12.00\">0.605</text>\n</g>\n<!-- e12 -->\n<g id=\"node15\" class=\"node\">\n<title>e12</title>\n<ellipse fill=\"#cae6df\" stroke=\"black\" cx=\"69.4\" cy=\"-379.03\" rx=\"23.3\" ry=\"23.3\"/>\n<text text-anchor=\"middle\" x=\"69.4\" y=\"-375.33\" font-family=\"Times,serif\" font-size=\"14.00\">e12</text>\n</g>\n<!-- e12&#45;&gt;x12 -->\n<g id=\"edge18\" class=\"edge\">\n<title>e12&#45;&gt;x12</title>\n<path fill=\"none\" stroke=\"black\" d=\"M65.29,-355.81C61.6,-328.43 59.97,-282.07 84.4,-253.79 104.27,-230.78 126.66,-254.78 150.4,-235.79 163.48,-225.33 172.38,-208.8 178.07,-194.67\"/>\n<polygon fill=\"black\" stroke=\"black\" points=\"181.48,-195.52 181.65,-184.93 174.91,-193.11 181.48,-195.52\"/>\n<text text-anchor=\"middle\" x=\"98.4\" y=\"-263.69\" font-family=\"Times,serif\" font-size=\"12.00\">0.567</text>\n</g>\n</g>\n</svg>\n",
      "text/plain": [
       "<graphviz.graphs.Digraph at 0x7f5aec345f10>"
      ]
     },
     "execution_count": 6,
     "metadata": {},
     "output_type": "execute_result"
    }
   ],
   "source": [
    "g = semopy.semplot(struct_model, \"out.png\", std_ests=True)\n",
    "g"
   ]
  },
  {
   "cell_type": "code",
   "execution_count": 16,
   "metadata": {},
   "outputs": [
    {
     "name": "stderr",
     "output_type": "stream",
     "text": [
      "WARNING:root:Fisher Information Matrix is not PD.Moore-Penrose inverse will be used instead of Cholesky decomposition. See 10.1109/TSP.2012.2208105.\n"
     ]
    },
    {
     "data": {
      "text/html": [
       "<div>\n",
       "<style scoped>\n",
       "    .dataframe tbody tr th:only-of-type {\n",
       "        vertical-align: middle;\n",
       "    }\n",
       "\n",
       "    .dataframe tbody tr th {\n",
       "        vertical-align: top;\n",
       "    }\n",
       "\n",
       "    .dataframe thead th {\n",
       "        text-align: right;\n",
       "    }\n",
       "</style>\n",
       "<table border=\"1\" class=\"dataframe\">\n",
       "  <thead>\n",
       "    <tr style=\"text-align: right;\">\n",
       "      <th></th>\n",
       "      <th>lval</th>\n",
       "      <th>op</th>\n",
       "      <th>rval</th>\n",
       "      <th>Estimate</th>\n",
       "      <th>Est. Std</th>\n",
       "      <th>Std. Err</th>\n",
       "      <th>z-value</th>\n",
       "      <th>p-value</th>\n",
       "    </tr>\n",
       "  </thead>\n",
       "  <tbody>\n",
       "    <tr>\n",
       "      <th>0</th>\n",
       "      <td>Job_Satisfaction</td>\n",
       "      <td>~</td>\n",
       "      <td>Coworkers</td>\n",
       "      <td>-0.384873</td>\n",
       "      <td>-0.259316</td>\n",
       "      <td>0.029772</td>\n",
       "      <td>-12.927371</td>\n",
       "      <td>0.0</td>\n",
       "    </tr>\n",
       "    <tr>\n",
       "      <th>1</th>\n",
       "      <td>Job_Satisfaction</td>\n",
       "      <td>~</td>\n",
       "      <td>Work_Environment</td>\n",
       "      <td>0.849069</td>\n",
       "      <td>0.731907</td>\n",
       "      <td>0.047364</td>\n",
       "      <td>17.926501</td>\n",
       "      <td>0.0</td>\n",
       "    </tr>\n",
       "    <tr>\n",
       "      <th>2</th>\n",
       "      <td>x5</td>\n",
       "      <td>~</td>\n",
       "      <td>Work_Environment</td>\n",
       "      <td>1.000000</td>\n",
       "      <td>0.723877</td>\n",
       "      <td>-</td>\n",
       "      <td>-</td>\n",
       "      <td>-</td>\n",
       "    </tr>\n",
       "    <tr>\n",
       "      <th>3</th>\n",
       "      <td>x5</td>\n",
       "      <td>~</td>\n",
       "      <td>e5</td>\n",
       "      <td>1.000000</td>\n",
       "      <td>0.552107</td>\n",
       "      <td>-</td>\n",
       "      <td>-</td>\n",
       "      <td>-</td>\n",
       "    </tr>\n",
       "    <tr>\n",
       "      <th>4</th>\n",
       "      <td>x6</td>\n",
       "      <td>~</td>\n",
       "      <td>Work_Environment</td>\n",
       "      <td>-1.628959</td>\n",
       "      <td>-1.178892</td>\n",
       "      <td>0.039062</td>\n",
       "      <td>-41.702004</td>\n",
       "      <td>0.0</td>\n",
       "    </tr>\n",
       "    <tr>\n",
       "      <th>...</th>\n",
       "      <td>...</td>\n",
       "      <td>...</td>\n",
       "      <td>...</td>\n",
       "      <td>...</td>\n",
       "      <td>...</td>\n",
       "      <td>...</td>\n",
       "      <td>...</td>\n",
       "      <td>...</td>\n",
       "    </tr>\n",
       "    <tr>\n",
       "      <th>139</th>\n",
       "      <td>x9</td>\n",
       "      <td>~~</td>\n",
       "      <td>x9</td>\n",
       "      <td>0.885548</td>\n",
       "      <td>0.886535</td>\n",
       "      <td>0.028379</td>\n",
       "      <td>31.204294</td>\n",
       "      <td>0.0</td>\n",
       "    </tr>\n",
       "    <tr>\n",
       "      <th>140</th>\n",
       "      <td>x12</td>\n",
       "      <td>~~</td>\n",
       "      <td>x12</td>\n",
       "      <td>0.664646</td>\n",
       "      <td>0.664620</td>\n",
       "      <td>0.06318</td>\n",
       "      <td>10.519835</td>\n",
       "      <td>0.0</td>\n",
       "    </tr>\n",
       "    <tr>\n",
       "      <th>141</th>\n",
       "      <td>x8</td>\n",
       "      <td>~~</td>\n",
       "      <td>x8</td>\n",
       "      <td>0.463519</td>\n",
       "      <td>0.463375</td>\n",
       "      <td>0.048279</td>\n",
       "      <td>9.600877</td>\n",
       "      <td>0.0</td>\n",
       "    </tr>\n",
       "    <tr>\n",
       "      <th>142</th>\n",
       "      <td>x14</td>\n",
       "      <td>~~</td>\n",
       "      <td>x14</td>\n",
       "      <td>0.432777</td>\n",
       "      <td>0.432638</td>\n",
       "      <td>0.048155</td>\n",
       "      <td>8.987168</td>\n",
       "      <td>0.0</td>\n",
       "    </tr>\n",
       "    <tr>\n",
       "      <th>143</th>\n",
       "      <td>x15</td>\n",
       "      <td>~~</td>\n",
       "      <td>x15</td>\n",
       "      <td>0.693523</td>\n",
       "      <td>0.693412</td>\n",
       "      <td>0.071271</td>\n",
       "      <td>9.730778</td>\n",
       "      <td>0.0</td>\n",
       "    </tr>\n",
       "  </tbody>\n",
       "</table>\n",
       "<p>144 rows × 8 columns</p>\n",
       "</div>"
      ],
      "text/plain": [
       "                 lval  op              rval  Estimate  Est. Std  Std. Err  \\\n",
       "0    Job_Satisfaction   ~         Coworkers -0.384873 -0.259316  0.029772   \n",
       "1    Job_Satisfaction   ~  Work_Environment  0.849069  0.731907  0.047364   \n",
       "2                  x5   ~  Work_Environment  1.000000  0.723877         -   \n",
       "3                  x5   ~                e5  1.000000  0.552107         -   \n",
       "4                  x6   ~  Work_Environment -1.628959 -1.178892  0.039062   \n",
       "..                ...  ..               ...       ...       ...       ...   \n",
       "139                x9  ~~                x9  0.885548  0.886535  0.028379   \n",
       "140               x12  ~~               x12  0.664646  0.664620   0.06318   \n",
       "141                x8  ~~                x8  0.463519  0.463375  0.048279   \n",
       "142               x14  ~~               x14  0.432777  0.432638  0.048155   \n",
       "143               x15  ~~               x15  0.693523  0.693412  0.071271   \n",
       "\n",
       "       z-value p-value  \n",
       "0   -12.927371     0.0  \n",
       "1    17.926501     0.0  \n",
       "2            -       -  \n",
       "3            -       -  \n",
       "4   -41.702004     0.0  \n",
       "..         ...     ...  \n",
       "139  31.204294     0.0  \n",
       "140  10.519835     0.0  \n",
       "141   9.600877     0.0  \n",
       "142   8.987168     0.0  \n",
       "143   9.730778     0.0  \n",
       "\n",
       "[144 rows x 8 columns]"
      ]
     },
     "execution_count": 16,
     "metadata": {},
     "output_type": "execute_result"
    }
   ],
   "source": [
    "estimates = struct_model.inspect(std_est=True)\n",
    "estimates"
   ]
  },
  {
   "cell_type": "markdown",
   "metadata": {},
   "source": [
    "Podemos apreciar que tanto `Coworkers` como `Work_Environment` presentan parámetros estadísticamente significativos y relevantes para `Job_Satisfaction`. Destaca que `Coworkers` tiene una relación negativa con `Job_Satisfaction`. "
   ]
  },
  {
   "cell_type": "code",
   "execution_count": 26,
   "metadata": {},
   "outputs": [
    {
     "data": {
      "text/html": [
       "<div>\n",
       "<style scoped>\n",
       "    .dataframe tbody tr th:only-of-type {\n",
       "        vertical-align: middle;\n",
       "    }\n",
       "\n",
       "    .dataframe tbody tr th {\n",
       "        vertical-align: top;\n",
       "    }\n",
       "\n",
       "    .dataframe thead th {\n",
       "        text-align: right;\n",
       "    }\n",
       "</style>\n",
       "<table border=\"1\" class=\"dataframe\">\n",
       "  <thead>\n",
       "    <tr style=\"text-align: right;\">\n",
       "      <th></th>\n",
       "      <th>lval</th>\n",
       "      <th>op</th>\n",
       "      <th>rval</th>\n",
       "      <th>Estimate</th>\n",
       "      <th>Est. Std</th>\n",
       "      <th>Std. Err</th>\n",
       "      <th>z-value</th>\n",
       "      <th>p-value</th>\n",
       "    </tr>\n",
       "  </thead>\n",
       "  <tbody>\n",
       "    <tr>\n",
       "      <th>26</th>\n",
       "      <td>Coworkers</td>\n",
       "      <td>~~</td>\n",
       "      <td>Work_Environment</td>\n",
       "      <td>-0.250407</td>\n",
       "      <td>-0.611708</td>\n",
       "      <td>0.028957</td>\n",
       "      <td>-8.647542</td>\n",
       "      <td>0.0</td>\n",
       "    </tr>\n",
       "    <tr>\n",
       "      <th>27</th>\n",
       "      <td>Coworkers</td>\n",
       "      <td>~~</td>\n",
       "      <td>Coworkers</td>\n",
       "      <td>0.319963</td>\n",
       "      <td>1.000000</td>\n",
       "      <td>0.030023</td>\n",
       "      <td>10.657241</td>\n",
       "      <td>0.0</td>\n",
       "    </tr>\n",
       "    <tr>\n",
       "      <th>28</th>\n",
       "      <td>Coworkers</td>\n",
       "      <td>~~</td>\n",
       "      <td>e9</td>\n",
       "      <td>-0.339969</td>\n",
       "      <td>-0.873604</td>\n",
       "      <td>0.040844</td>\n",
       "      <td>-8.323682</td>\n",
       "      <td>0.0</td>\n",
       "    </tr>\n",
       "    <tr>\n",
       "      <th>29</th>\n",
       "      <td>Coworkers</td>\n",
       "      <td>~~</td>\n",
       "      <td>e5</td>\n",
       "      <td>-0.067217</td>\n",
       "      <td>-0.215288</td>\n",
       "      <td>0.042308</td>\n",
       "      <td>-1.588759</td>\n",
       "      <td>0.112115</td>\n",
       "    </tr>\n",
       "    <tr>\n",
       "      <th>30</th>\n",
       "      <td>Coworkers</td>\n",
       "      <td>~~</td>\n",
       "      <td>e13</td>\n",
       "      <td>0.030569</td>\n",
       "      <td>0.196176</td>\n",
       "      <td>0.040139</td>\n",
       "      <td>0.761557</td>\n",
       "      <td>0.446324</td>\n",
       "    </tr>\n",
       "    <tr>\n",
       "      <th>...</th>\n",
       "      <td>...</td>\n",
       "      <td>...</td>\n",
       "      <td>...</td>\n",
       "      <td>...</td>\n",
       "      <td>...</td>\n",
       "      <td>...</td>\n",
       "      <td>...</td>\n",
       "      <td>...</td>\n",
       "    </tr>\n",
       "    <tr>\n",
       "      <th>139</th>\n",
       "      <td>x9</td>\n",
       "      <td>~~</td>\n",
       "      <td>x9</td>\n",
       "      <td>0.885548</td>\n",
       "      <td>0.886535</td>\n",
       "      <td>0.028379</td>\n",
       "      <td>31.204294</td>\n",
       "      <td>0.0</td>\n",
       "    </tr>\n",
       "    <tr>\n",
       "      <th>140</th>\n",
       "      <td>x12</td>\n",
       "      <td>~~</td>\n",
       "      <td>x12</td>\n",
       "      <td>0.664646</td>\n",
       "      <td>0.664620</td>\n",
       "      <td>0.06318</td>\n",
       "      <td>10.519835</td>\n",
       "      <td>0.0</td>\n",
       "    </tr>\n",
       "    <tr>\n",
       "      <th>141</th>\n",
       "      <td>x8</td>\n",
       "      <td>~~</td>\n",
       "      <td>x8</td>\n",
       "      <td>0.463519</td>\n",
       "      <td>0.463375</td>\n",
       "      <td>0.048279</td>\n",
       "      <td>9.600877</td>\n",
       "      <td>0.0</td>\n",
       "    </tr>\n",
       "    <tr>\n",
       "      <th>142</th>\n",
       "      <td>x14</td>\n",
       "      <td>~~</td>\n",
       "      <td>x14</td>\n",
       "      <td>0.432777</td>\n",
       "      <td>0.432638</td>\n",
       "      <td>0.048155</td>\n",
       "      <td>8.987168</td>\n",
       "      <td>0.0</td>\n",
       "    </tr>\n",
       "    <tr>\n",
       "      <th>143</th>\n",
       "      <td>x15</td>\n",
       "      <td>~~</td>\n",
       "      <td>x15</td>\n",
       "      <td>0.693523</td>\n",
       "      <td>0.693412</td>\n",
       "      <td>0.071271</td>\n",
       "      <td>9.730778</td>\n",
       "      <td>0.0</td>\n",
       "    </tr>\n",
       "  </tbody>\n",
       "</table>\n",
       "<p>118 rows × 8 columns</p>\n",
       "</div>"
      ],
      "text/plain": [
       "          lval  op              rval  Estimate  Est. Std  Std. Err    z-value  \\\n",
       "26   Coworkers  ~~  Work_Environment -0.250407 -0.611708  0.028957  -8.647542   \n",
       "27   Coworkers  ~~         Coworkers  0.319963  1.000000  0.030023  10.657241   \n",
       "28   Coworkers  ~~                e9 -0.339969 -0.873604  0.040844  -8.323682   \n",
       "29   Coworkers  ~~                e5 -0.067217 -0.215288  0.042308  -1.588759   \n",
       "30   Coworkers  ~~               e13  0.030569  0.196176  0.040139   0.761557   \n",
       "..         ...  ..               ...       ...       ...       ...        ...   \n",
       "139         x9  ~~                x9  0.885548  0.886535  0.028379  31.204294   \n",
       "140        x12  ~~               x12  0.664646  0.664620   0.06318  10.519835   \n",
       "141         x8  ~~                x8  0.463519  0.463375  0.048279   9.600877   \n",
       "142        x14  ~~               x14  0.432777  0.432638  0.048155   8.987168   \n",
       "143        x15  ~~               x15  0.693523  0.693412  0.071271   9.730778   \n",
       "\n",
       "      p-value  \n",
       "26        0.0  \n",
       "27        0.0  \n",
       "28        0.0  \n",
       "29   0.112115  \n",
       "30   0.446324  \n",
       "..        ...  \n",
       "139       0.0  \n",
       "140       0.0  \n",
       "141       0.0  \n",
       "142       0.0  \n",
       "143       0.0  \n",
       "\n",
       "[118 rows x 8 columns]"
      ]
     },
     "execution_count": 26,
     "metadata": {},
     "output_type": "execute_result"
    }
   ],
   "source": [
    "estimates[estimates [\"op\"] == \"~~\"]"
   ]
  },
  {
   "cell_type": "markdown",
   "metadata": {},
   "source": [
    "Podemos apreciar también que `Coworkers` y `Work_Environment` covarían negativamente de manera significativa."
   ]
  },
  {
   "cell_type": "markdown",
   "metadata": {},
   "source": [
    "Para contar con un reporte más detallado de nuestro modelo estructural podemos examinar el reporte generado por el paquete `semopy`:"
   ]
  },
  {
   "cell_type": "code",
   "execution_count": 9,
   "metadata": {},
   "outputs": [
    {
     "name": "stderr",
     "output_type": "stream",
     "text": [
      "WARNING:root:Fisher Information Matrix is not PD.Moore-Penrose inverse will be used instead of Cholesky decomposition. See 10.1109/TSP.2012.2208105.\n",
      "WARNING:root:Fisher Information Matrix is not PD.Moore-Penrose inverse will be used instead of Cholesky decomposition. See 10.1109/TSP.2012.2208105.\n",
      "WARNING:root:Fisher Information Matrix is not PD.Moore-Penrose inverse will be used instead of Cholesky decomposition. See 10.1109/TSP.2012.2208105.\n",
      "WARNING:root:Fisher Information Matrix is not PD.Moore-Penrose inverse will be used instead of Cholesky decomposition. See 10.1109/TSP.2012.2208105.\n",
      "WARNING:root:Fisher Information Matrix is not PD.Moore-Penrose inverse will be used instead of Cholesky decomposition. See 10.1109/TSP.2012.2208105.\n",
      "/home/renato/.virtualenvs/statspsych/lib/python3.8/site-packages/semopy/stats.py:386: RuntimeWarning: invalid value encountered in sqrt\n",
      "  return np.sqrt((chi2 / dof - 1) / (model.n_samples - 1))\n"
     ]
    }
   ],
   "source": [
    "semopy.report(struct_model, \"Job\")"
   ]
  }
 ],
 "metadata": {
  "interpreter": {
   "hash": "bc333aaf72f12d36efbbc969b6efbd208f39cf597397e273d228d636dea83428"
  },
  "kernelspec": {
   "display_name": "Python 3.8.10 64-bit ('statspsych': virtualenv)",
   "language": "python",
   "name": "python3"
  },
  "language_info": {
   "codemirror_mode": {
    "name": "ipython",
    "version": 3
   },
   "file_extension": ".py",
   "mimetype": "text/x-python",
   "name": "python",
   "nbconvert_exporter": "python",
   "pygments_lexer": "ipython3",
   "version": "3.8.10"
  },
  "orig_nbformat": 4
 },
 "nbformat": 4,
 "nbformat_minor": 2
}
