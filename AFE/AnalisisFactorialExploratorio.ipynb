{
 "cells": [
  {
   "cell_type": "markdown",
   "metadata": {},
   "source": [
    "# Análisis Factorial Exploratorio (AFE)\n",
    "\n",
    ">Este tutorial es una selección y adaptación al español del libro [Multivariate Data Analysis](https://www.cengage.co.uk/books/9781473756540/) de Joseph F. Hair et al.\n",
    "\n",
    "> Requiere cargar el archivo [\"euthan.sav\"](https://github.com/renatoparedes/EstadisticaYPsicologiaMatematica/raw/main/AFE/euthan.sav) en el repositorio local. \n"
   ]
  },
  {
   "cell_type": "markdown",
   "metadata": {},
   "source": [
    "## Diseño de un AFE\n",
    "\n",
    "El análisis factorial exploratorio se realiza con mayor frecuencia sólo en variables métricas (cuantitativas), aunque existen métodos especializados para el uso de variables ficticias. \n",
    "\n",
    "Pueden incluirse un número limitado de “variables ficticias” en un conjunto de variables métricas que se analizan factorialmente siempre que representen atributos binarios."
   ]
  },
  {
   "cell_type": "markdown",
   "metadata": {},
   "source": [
    "### Tamaño de muestra\n",
    "\n",
    "Regla de dedo: Si se está diseñando un estudio para revelar la estructura de los factores, trate de tener al menos cinco variables para cada factor propuesto."
   ]
  },
  {
   "cell_type": "markdown",
   "metadata": {},
   "source": [
    "- La muestra debe tener más observaciones que variables.\n",
    "- El tamaño mínimo absoluto de la muestra debe ser de 50 observaciones, siendo 100 observaciones el mínimo preferido.\n",
    "- Aumente la muestra a medida que aumenta la complejidad del análisis factorial (es decir, el número de variables y / o factores retenidos).\n",
    "- Esfuércese por maximizar el número de observaciones por variable, con una proporción deseada de al menos 5 observaciones por variable.\n",
    "- Las comunalidades más altas entre las variables brindan soporte para tamaños de muestra más pequeños, en igualdad de condiciones."
   ]
  },
  {
   "cell_type": "markdown",
   "metadata": {},
   "source": [
    "## Supuestos de un AFE\n",
    "\n",
    "Un supuesto básico del análisis factorial es que **existe alguna estructura subyacente en el conjunto de variables seleccionadas**. La presencia de variables correlacionadas y la posterior definición de factores no garantizan la relevancia, incluso si cumplen con los requisitos estadísticos. \n",
    "\n",
    "Es responsabilidad del investigador asegurarse de que los patrones observados sean conceptualmente válidos y apropiados para estudiar con análisis factorial exploratorio, porque la técnica no tiene ningún medio para determinar la idoneidad más que las correlaciones entre variables. \n",
    "\n",
    "Por ejemplo, no es apropiado mezclar variables dependientes e independientes en un análisis de un solo factor y luego usar los factores derivados para respaldar las relaciones de dependencia."
   ]
  },
  {
   "cell_type": "markdown",
   "metadata": {},
   "source": [
    "### Supuestos estadísticos\n",
    "\n",
    "El investigador debe asegurarse de que la matriz de datos tenga correlaciones suficientes para justificar la aplicación del AFE. \n",
    "\n",
    "Si se encuentra que todas las correlaciones son bajas, o que todas las correlaciones son iguales (lo que denota que no existe una estructura para agrupar las variables), entonces el investigador debe cuestionar la aplicación del AFE. Para ello, se encuentran disponibles varios enfoques:"
   ]
  },
  {
   "cell_type": "markdown",
   "metadata": {},
   "source": [
    "#### Inspección visual\n",
    "\n",
    "Si la inspección visual revela un **pequeño número de variables con correlaciones mayores de .30**, entonces el AFE probablemente sea inapropiado.\n",
    "\n",
    "Veamos un ejemplo:\n"
   ]
  },
  {
   "cell_type": "code",
   "execution_count": 2,
   "metadata": {},
   "outputs": [
    {
     "data": {
      "text/html": [
       "<div>\n",
       "<style scoped>\n",
       "    .dataframe tbody tr th:only-of-type {\n",
       "        vertical-align: middle;\n",
       "    }\n",
       "\n",
       "    .dataframe tbody tr th {\n",
       "        vertical-align: top;\n",
       "    }\n",
       "\n",
       "    .dataframe thead th {\n",
       "        text-align: right;\n",
       "    }\n",
       "</style>\n",
       "<table border=\"1\" class=\"dataframe\">\n",
       "  <thead>\n",
       "    <tr style=\"text-align: right;\">\n",
       "      <th></th>\n",
       "      <th>e1</th>\n",
       "      <th>e2</th>\n",
       "      <th>e3</th>\n",
       "      <th>e4</th>\n",
       "      <th>e5</th>\n",
       "      <th>e6</th>\n",
       "      <th>e7</th>\n",
       "      <th>e8</th>\n",
       "      <th>e9</th>\n",
       "      <th>e10</th>\n",
       "      <th>e11</th>\n",
       "      <th>e12</th>\n",
       "    </tr>\n",
       "  </thead>\n",
       "  <tbody>\n",
       "    <tr>\n",
       "      <th>0</th>\n",
       "      <td>0.857588</td>\n",
       "      <td>0.785601</td>\n",
       "      <td>0.119556</td>\n",
       "      <td>0.154735</td>\n",
       "      <td>0.686161</td>\n",
       "      <td>0.865330</td>\n",
       "      <td>0.272019</td>\n",
       "      <td>0.041718</td>\n",
       "      <td>0.881063</td>\n",
       "      <td>0.916052</td>\n",
       "      <td>0.039223</td>\n",
       "      <td>0.011506</td>\n",
       "    </tr>\n",
       "    <tr>\n",
       "      <th>1</th>\n",
       "      <td>-0.867251</td>\n",
       "      <td>-0.472065</td>\n",
       "      <td>-0.717338</td>\n",
       "      <td>-0.781541</td>\n",
       "      <td>-0.402548</td>\n",
       "      <td>-0.270416</td>\n",
       "      <td>-0.595042</td>\n",
       "      <td>-1.022102</td>\n",
       "      <td>-0.072087</td>\n",
       "      <td>-1.728400</td>\n",
       "      <td>-0.784465</td>\n",
       "      <td>0.011506</td>\n",
       "    </tr>\n",
       "    <tr>\n",
       "      <th>2</th>\n",
       "      <td>0.857588</td>\n",
       "      <td>0.785601</td>\n",
       "      <td>-1.554233</td>\n",
       "      <td>0.154735</td>\n",
       "      <td>0.686161</td>\n",
       "      <td>0.865330</td>\n",
       "      <td>0.272019</td>\n",
       "      <td>0.041718</td>\n",
       "      <td>0.881063</td>\n",
       "      <td>0.916052</td>\n",
       "      <td>1.686599</td>\n",
       "      <td>0.833058</td>\n",
       "    </tr>\n",
       "    <tr>\n",
       "      <th>3</th>\n",
       "      <td>-0.004831</td>\n",
       "      <td>0.785601</td>\n",
       "      <td>-1.554233</td>\n",
       "      <td>0.154735</td>\n",
       "      <td>0.686161</td>\n",
       "      <td>0.865330</td>\n",
       "      <td>1.139081</td>\n",
       "      <td>1.105538</td>\n",
       "      <td>-1.025236</td>\n",
       "      <td>0.916052</td>\n",
       "      <td>0.039223</td>\n",
       "      <td>0.011506</td>\n",
       "    </tr>\n",
       "    <tr>\n",
       "      <th>4</th>\n",
       "      <td>-0.867251</td>\n",
       "      <td>-0.472065</td>\n",
       "      <td>0.956451</td>\n",
       "      <td>-0.781541</td>\n",
       "      <td>-1.491256</td>\n",
       "      <td>-0.270416</td>\n",
       "      <td>0.272019</td>\n",
       "      <td>0.041718</td>\n",
       "      <td>-1.025236</td>\n",
       "      <td>0.034568</td>\n",
       "      <td>0.039223</td>\n",
       "      <td>0.833058</td>\n",
       "    </tr>\n",
       "    <tr>\n",
       "      <th>...</th>\n",
       "      <td>...</td>\n",
       "      <td>...</td>\n",
       "      <td>...</td>\n",
       "      <td>...</td>\n",
       "      <td>...</td>\n",
       "      <td>...</td>\n",
       "      <td>...</td>\n",
       "      <td>...</td>\n",
       "      <td>...</td>\n",
       "      <td>...</td>\n",
       "      <td>...</td>\n",
       "      <td>...</td>\n",
       "    </tr>\n",
       "    <tr>\n",
       "      <th>352</th>\n",
       "      <td>0.857588</td>\n",
       "      <td>-0.472065</td>\n",
       "      <td>-1.554233</td>\n",
       "      <td>0.154735</td>\n",
       "      <td>0.686161</td>\n",
       "      <td>-0.270416</td>\n",
       "      <td>-0.595042</td>\n",
       "      <td>0.041718</td>\n",
       "      <td>-0.072087</td>\n",
       "      <td>0.916052</td>\n",
       "      <td>0.039223</td>\n",
       "      <td>0.011506</td>\n",
       "    </tr>\n",
       "    <tr>\n",
       "      <th>353</th>\n",
       "      <td>0.857588</td>\n",
       "      <td>0.785601</td>\n",
       "      <td>-0.717338</td>\n",
       "      <td>-0.781541</td>\n",
       "      <td>0.686161</td>\n",
       "      <td>0.865330</td>\n",
       "      <td>-0.595042</td>\n",
       "      <td>-1.022102</td>\n",
       "      <td>0.881063</td>\n",
       "      <td>0.916052</td>\n",
       "      <td>-0.784465</td>\n",
       "      <td>-0.810046</td>\n",
       "    </tr>\n",
       "    <tr>\n",
       "      <th>354</th>\n",
       "      <td>0.857588</td>\n",
       "      <td>0.785601</td>\n",
       "      <td>-0.717338</td>\n",
       "      <td>1.091011</td>\n",
       "      <td>0.686161</td>\n",
       "      <td>0.865330</td>\n",
       "      <td>1.139081</td>\n",
       "      <td>0.041718</td>\n",
       "      <td>0.881063</td>\n",
       "      <td>0.916052</td>\n",
       "      <td>1.686599</td>\n",
       "      <td>0.833058</td>\n",
       "    </tr>\n",
       "    <tr>\n",
       "      <th>355</th>\n",
       "      <td>-0.004831</td>\n",
       "      <td>-0.472065</td>\n",
       "      <td>-0.717338</td>\n",
       "      <td>0.154735</td>\n",
       "      <td>0.686161</td>\n",
       "      <td>-0.270416</td>\n",
       "      <td>0.272019</td>\n",
       "      <td>0.041718</td>\n",
       "      <td>-0.072087</td>\n",
       "      <td>0.034568</td>\n",
       "      <td>0.862911</td>\n",
       "      <td>0.011506</td>\n",
       "    </tr>\n",
       "    <tr>\n",
       "      <th>356</th>\n",
       "      <td>0.857588</td>\n",
       "      <td>0.785601</td>\n",
       "      <td>0.119556</td>\n",
       "      <td>1.091011</td>\n",
       "      <td>0.686161</td>\n",
       "      <td>0.865330</td>\n",
       "      <td>1.139081</td>\n",
       "      <td>1.105538</td>\n",
       "      <td>0.881063</td>\n",
       "      <td>0.916052</td>\n",
       "      <td>0.039223</td>\n",
       "      <td>0.011506</td>\n",
       "    </tr>\n",
       "  </tbody>\n",
       "</table>\n",
       "<p>357 rows × 12 columns</p>\n",
       "</div>"
      ],
      "text/plain": [
       "           e1        e2        e3        e4        e5        e6        e7  \\\n",
       "0    0.857588  0.785601  0.119556  0.154735  0.686161  0.865330  0.272019   \n",
       "1   -0.867251 -0.472065 -0.717338 -0.781541 -0.402548 -0.270416 -0.595042   \n",
       "2    0.857588  0.785601 -1.554233  0.154735  0.686161  0.865330  0.272019   \n",
       "3   -0.004831  0.785601 -1.554233  0.154735  0.686161  0.865330  1.139081   \n",
       "4   -0.867251 -0.472065  0.956451 -0.781541 -1.491256 -0.270416  0.272019   \n",
       "..        ...       ...       ...       ...       ...       ...       ...   \n",
       "352  0.857588 -0.472065 -1.554233  0.154735  0.686161 -0.270416 -0.595042   \n",
       "353  0.857588  0.785601 -0.717338 -0.781541  0.686161  0.865330 -0.595042   \n",
       "354  0.857588  0.785601 -0.717338  1.091011  0.686161  0.865330  1.139081   \n",
       "355 -0.004831 -0.472065 -0.717338  0.154735  0.686161 -0.270416  0.272019   \n",
       "356  0.857588  0.785601  0.119556  1.091011  0.686161  0.865330  1.139081   \n",
       "\n",
       "           e8        e9       e10       e11       e12  \n",
       "0    0.041718  0.881063  0.916052  0.039223  0.011506  \n",
       "1   -1.022102 -0.072087 -1.728400 -0.784465  0.011506  \n",
       "2    0.041718  0.881063  0.916052  1.686599  0.833058  \n",
       "3    1.105538 -1.025236  0.916052  0.039223  0.011506  \n",
       "4    0.041718 -1.025236  0.034568  0.039223  0.833058  \n",
       "..        ...       ...       ...       ...       ...  \n",
       "352  0.041718 -0.072087  0.916052  0.039223  0.011506  \n",
       "353 -1.022102  0.881063  0.916052 -0.784465 -0.810046  \n",
       "354  0.041718  0.881063  0.916052  1.686599  0.833058  \n",
       "355  0.041718 -0.072087  0.034568  0.862911  0.011506  \n",
       "356  1.105538  0.881063  0.916052  0.039223  0.011506  \n",
       "\n",
       "[357 rows x 12 columns]"
      ]
     },
     "execution_count": 2,
     "metadata": {},
     "output_type": "execute_result"
    }
   ],
   "source": [
    "import pandas as pd\n",
    "from sklearn.preprocessing import StandardScaler\n",
    "\n",
    "df = pd.read_spss('euthan.sav')\n",
    "scaler = StandardScaler()\n",
    "scaled_data = scaler.fit_transform(df)\n",
    "scaled_df = pd.DataFrame(scaled_data, columns=df.columns)\n",
    "scaled_df"
   ]
  },
  {
   "cell_type": "code",
   "execution_count": 3,
   "metadata": {},
   "outputs": [
    {
     "data": {
      "image/png": "[encoded data removed]",
      "text/plain": [
       "<Figure size 540x360 with 2 Axes>"
      ]
     },
     "metadata": {
      "needs_background": "light"
     },
     "output_type": "display_data"
    }
   ],
   "source": [
    "import seaborn as sns\n",
    "import matplotlib.pyplot as plt\n",
    "\n",
    "plt.figure(figsize=(7.5,5))\n",
    "sns.heatmap(scaled_df.corr());"
   ]
  },
  {
   "cell_type": "markdown",
   "metadata": {},
   "source": [
    "Las correlaciones entre variables también se pueden analizar calculando las correlaciones parciales entre variables. Una correlación parcial es la correlación que no se explica cuando se tienen en cuenta los efectos de otras variables. \n",
    "\n",
    "Si existen factores “verdaderos” en los datos, la correlación parcial debe ser pequeña, porque la variable puede explicarse por la carga de las variables sobre los factores. Si las correlaciones parciales son altas, lo que indica es que no hay factores subyacentes, entonces el análisis factorial exploratorio no es apropiado.\n",
    "\n",
    "Una regla general sería considerar las correlaciones parciales superiores a 0,7 como altas."
   ]
  },
  {
   "cell_type": "markdown",
   "metadata": {},
   "source": [
    "Veamos las correlaciones parciales en nuestro ejemplo:"
   ]
  },
  {
   "cell_type": "code",
   "execution_count": 4,
   "metadata": {},
   "outputs": [
    {
     "data": {
      "image/png": "[encoded data removed]",
      "text/plain": [
       "<Figure size 540x360 with 2 Axes>"
      ]
     },
     "metadata": {
      "needs_background": "light"
     },
     "output_type": "display_data"
    }
   ],
   "source": [
    "import pingouin as pg\n",
    "\n",
    "plt.figure(figsize=(7.5,5))\n",
    "sns.heatmap(scaled_df.pcorr());"
   ]
  },
  {
   "cell_type": "markdown",
   "metadata": {},
   "source": [
    "Podemos apreciar que son pocas las variables que presentan correlaciones por encima de 0.7."
   ]
  },
  {
   "cell_type": "markdown",
   "metadata": {},
   "source": [
    "#### Prueba de Bartlett\n",
    "\n",
    "La prueba de esfericidad de Bartlett es una prueba estadística de la presencia de correlaciones entre las variables. Proporciona la significancia estadística que indica que la matriz de correlación tiene correlaciones significativas entre al menos algunas de las variables. \n",
    "\n",
    "El investigador debe tener en cuenta, sin embargo, que al aumentar el tamaño de la muestra, la prueba de Bartlett se vuelve más sensible para detectar correlaciones entre las variables."
   ]
  },
  {
   "cell_type": "markdown",
   "metadata": {},
   "source": [
    "Apliquemos la prueba de Bartlett en nuestro ejemplo:"
   ]
  },
  {
   "cell_type": "code",
   "execution_count": 5,
   "metadata": {},
   "outputs": [
    {
     "name": "stdout",
     "output_type": "stream",
     "text": [
      "Requirement already satisfied: factor_analyzer in /home/renato/.virtualenvs/statspsych/lib/python3.8/site-packages (0.3.2)\n",
      "Requirement already satisfied: scipy in /home/renato/.virtualenvs/statspsych/lib/python3.8/site-packages (from factor_analyzer) (1.7.1)\n",
      "Requirement already satisfied: numpy in /home/renato/.virtualenvs/statspsych/lib/python3.8/site-packages (from factor_analyzer) (1.21.2)\n",
      "Requirement already satisfied: scikit-learn in /home/renato/.virtualenvs/statspsych/lib/python3.8/site-packages (from factor_analyzer) (0.24.2)\n",
      "Requirement already satisfied: pandas in /home/renato/.virtualenvs/statspsych/lib/python3.8/site-packages (from factor_analyzer) (1.3.3)\n",
      "Requirement already satisfied: joblib>=0.11 in /home/renato/.virtualenvs/statspsych/lib/python3.8/site-packages (from scikit-learn->factor_analyzer) (1.0.1)\n",
      "Requirement already satisfied: threadpoolctl>=2.0.0 in /home/renato/.virtualenvs/statspsych/lib/python3.8/site-packages (from scikit-learn->factor_analyzer) (2.2.0)\n",
      "Requirement already satisfied: python-dateutil>=2.7.3 in /home/renato/.virtualenvs/statspsych/lib/python3.8/site-packages (from pandas->factor_analyzer) (2.8.2)\n",
      "Requirement already satisfied: pytz>=2017.3 in /home/renato/.virtualenvs/statspsych/lib/python3.8/site-packages (from pandas->factor_analyzer) (2021.1)\n",
      "Requirement already satisfied: six>=1.5 in /home/renato/.virtualenvs/statspsych/lib/python3.8/site-packages (from python-dateutil>=2.7.3->pandas->factor_analyzer) (1.16.0)\n"
     ]
    }
   ],
   "source": [
    "!pip install factor_analyzer"
   ]
  },
  {
   "cell_type": "code",
   "execution_count": 6,
   "metadata": {},
   "outputs": [
    {
     "name": "stdout",
     "output_type": "stream",
     "text": [
      "Chi-cuadrado:  2047.1262764312712\n",
      "Valor p:  0.0\n"
     ]
    }
   ],
   "source": [
    "from factor_analyzer.factor_analyzer import calculate_bartlett_sphericity\n",
    "\n",
    "statistic, p_value = calculate_bartlett_sphericity(scaled_df)\n",
    "print(\"Chi-cuadrado: \", statistic)\n",
    "print(\"Valor p: \", p_value)"
   ]
  },
  {
   "cell_type": "markdown",
   "metadata": {},
   "source": [
    "Una prueba de esfericidad de Bartlett estadísticamente significativa ($p < 0.50$) indica que existen correlaciones suficientes entre las variables para proceder."
   ]
  },
  {
   "cell_type": "markdown",
   "metadata": {},
   "source": [
    "#### Medida de adecuación del muestreo (MSA)\n",
    "\n",
    "Este índice va de 0 a 1, llegando a 1 cuando cada variable puede ser perfectamente predicha sin error por las demás variables.\n",
    "\n",
    "La MSA se puede interpretar con las siguientes pautas:\n",
    "- $> .80$: meritorio\n",
    "- $> .70$: medio\n",
    "- $> .60$: mediocre\n",
    "- $> .50$: miserable\n",
    "- $< .50$: inaceptable.\n",
    "\n",
    "El MSA aumenta a medida que (1) aumenta el tamaño de la muestra, (2) aumentan las correlaciones promedio, (3) aumenta el número de variables o (4) disminuye el número de factores.\n",
    "\n",
    "En general, **los valores de MSA deben exceder .50 tanto para la prueba general como para cada variable individual**. \n",
    "\n",
    "Las variables con valores inferiores a .50 deben omitirse del análisis factorial una a la vez, omitiendo la más pequeña cada vez."
   ]
  },
  {
   "cell_type": "markdown",
   "metadata": {},
   "source": [
    "Apliquemos esta medida en nuestro ejemplo:"
   ]
  },
  {
   "cell_type": "code",
   "execution_count": 7,
   "metadata": {},
   "outputs": [
    {
     "name": "stdout",
     "output_type": "stream",
     "text": [
      "MSA general:  0.8645475574059576\n",
      "MSA individual:  [0.88109859 0.86667988 0.80575109 0.86839977 0.91121343 0.88275977\n",
      " 0.80074253 0.86904428 0.91963489 0.88876132 0.87669668 0.75080834]\n"
     ]
    }
   ],
   "source": [
    "from factor_analyzer.factor_analyzer import calculate_kmo\n",
    "\n",
    "kmo_per_variable, kmo_total = calculate_kmo(scaled_df)\n",
    "\n",
    "print(\"MSA general: \", kmo_total)\n",
    "print(\"MSA individual: \", kmo_per_variable)"
   ]
  },
  {
   "cell_type": "markdown",
   "metadata": {},
   "source": [
    "Nuestro ejemplo cumple con medidas de MSA adecuadas tanto a nivel individual como a nivel general."
   ]
  },
  {
   "cell_type": "markdown",
   "metadata": {},
   "source": [
    "## Determinar el número de factores a extraer\n",
    "\n",
    "Al momento de extraer factores, el primer factor puede verse como el mejor resumen individual de las relaciones lineales exhibidas en los datos. El segundo factor se define como la segunda mejor combinación lineal de las variables, sujeta a la restricción de que es ortogonal al primer factor.\n",
    "\n",
    "Para ser ortogonal al primer factor, el segundo factor debe derivarse solo de la varianza restante después de que se haya extraído el primer factor. Por lo tanto, el segundo factor puede definirse como la combinación lineal de variables que explica la mayor varianza que aún no se explica después de que el efecto del primer factor se ha eliminado de los datos.\n",
    "\n",
    "El proceso continúa extrayendo factores que representan cantidades cada vez más pequeñas de variación hasta que se explica toda la varianza."
   ]
  },
  {
   "cell_type": "markdown",
   "metadata": {},
   "source": [
    "La pregunta clave es: ¿cuántos factores extraer o retener?\n",
    "\n",
    "Al decidir cuándo dejar de factorizar (es decir, cuántos factores extraer), el investigador debe combinar una base conceptual (¿cuántos factores deberían estar en la estructura?) con alguna evidencia empírica (¿cuántos factores pueden ser razonablemente respaldados?).\n",
    "\n",
    "No se ha desarrollado una base cuantitativa definitiva para decidir el número de factores a extraer. Sin embargo, actualmente se utilizan las siguientes reglas para definir para la cantidad de factores a extraer:"
   ]
  },
  {
   "cell_type": "markdown",
   "metadata": {},
   "source": [
    "- Criterio de Kaiser\n",
    "- Criterio de la varianza explicada\n",
    "- Criterio Scree plot\n",
    "- Análisis paralelo de Horn"
   ]
  },
  {
   "cell_type": "markdown",
   "metadata": {},
   "source": [
    "#### Criterio de Kaiser\n",
    "\n",
    "Retener factores con autovalores superiores a 1.0. \n",
    "\n",
    "Esta técnica es sencilla de aplicar, y el fundamento es que cualquier factor individual debe tener en cuenta la varianza de al menos una sola variable si se quiere conservar para la interpretación. **Se recomienda para el Análisis de Componentes Principales, y no para el análisis factorial común**. "
   ]
  },
  {
   "cell_type": "markdown",
   "metadata": {},
   "source": [
    "Apliquemos este criterio a nuestro ejemplo:"
   ]
  },
  {
   "cell_type": "code",
   "execution_count": 17,
   "metadata": {},
   "outputs": [
    {
     "name": "stdout",
     "output_type": "stream",
     "text": [
      "Autovalores PCA:  [5.32321896 1.53556559 1.06328152 0.9411086  0.63476907 0.54958576\n",
      " 0.41299731 0.37178063 0.33918213 0.30635681 0.29828992 0.22386371]\n",
      "Autovalores AFC:  [ 5.04389603e+00  1.24894095e+00  7.74931376e-01  6.26468318e-01\n",
      "  2.72607317e-01  2.13524722e-01  1.09535054e-01  7.89185716e-02\n",
      "  4.69240153e-02  3.21792672e-02  9.40977794e-03 -1.69990511e-06]\n"
     ]
    }
   ],
   "source": [
    "from factor_analyzer import FactorAnalyzer\n",
    "\n",
    "fa = FactorAnalyzer(n_factors=12,rotation=None)\n",
    "fa.fit(scaled_df)\n",
    "original_eigen_values, common_factor_eigen_values = fa.get_eigenvalues()\n",
    "\n",
    "print(\"Autovalores PCA: \",original_eigen_values)\n",
    "print(\"Autovalores AFC: \",common_factor_eigen_values)"
   ]
  },
  {
   "cell_type": "markdown",
   "metadata": {},
   "source": [
    "Según este criterio deberíamos preservar solo los tres primeros factores."
   ]
  },
  {
   "cell_type": "markdown",
   "metadata": {},
   "source": [
    "#### Criterio de la varianza explicada\n",
    "\n",
    "Retener suficientes factores para cumplir con un porcentaje específico de varianza explicada, generalmente 60 por ciento o más.\n",
    "\n",
    "El propósito es asegurar la importancia práctica de los factores derivados asegurándose de que expliquen al menos una cantidad específica de varianza."
   ]
  },
  {
   "cell_type": "markdown",
   "metadata": {},
   "source": [
    "Apliquemos este criterio a nuestro ejemplo:"
   ]
  },
  {
   "cell_type": "code",
   "execution_count": 21,
   "metadata": {},
   "outputs": [
    {
     "name": "stdout",
     "output_type": "stream",
     "text": [
      "Suma de cargas factoriales al cuadrado:  [5.04389587 1.24894077 0.77493114 0.62646817 0.27260714 0.21352459\n",
      " 0.10953488 0.07891844 0.04692393 0.03217911 0.00940965 0.        ]\n",
      "Varianza proporcional:  [0.42032466 0.1040784  0.0645776  0.05220568 0.02271726 0.01779372\n",
      " 0.00912791 0.00657654 0.00391033 0.00268159 0.00078414 0.        ]\n",
      "Varianza acumulada:  [0.42032466 0.52440305 0.58898065 0.64118633 0.66390359 0.68169731\n",
      " 0.69082521 0.69740175 0.70131208 0.70399367 0.70477781 0.70477781]\n"
     ]
    }
   ],
   "source": [
    "variance, proportional_variance, cumulative_variance = fa.get_factor_variance()\n",
    "\n",
    "print(\"Suma de cargas factoriales al cuadrado: \",variance) # Sum of squared loadings\n",
    "print(\"Varianza proporcional: \",proportional_variance)\n",
    "print(\"Varianza acumulada: \",cumulative_variance)"
   ]
  },
  {
   "cell_type": "markdown",
   "metadata": {},
   "source": [
    "Según este criterio, deberíamos preservar 4 factores para explicar al menos el 60% de la varianza."
   ]
  },
  {
   "cell_type": "markdown",
   "metadata": {},
   "source": [
    "#### Criterio de Catell\n",
    "\n",
    "Recuerda que los factores extraídos contienen varianza común y única. Aunque todos los factores contienen al menos alguna varianza única, la proporción de varianza única es sustancialmente mayor en los factores posteriores. \n",
    "\n",
    "La prueba del codo se utiliza para identificar el número óptimo de factores que se pueden extraer antes de que la cantidad de varianza única comience a dominar la estructura de varianza común.\n",
    "\n",
    "La prueba de criba se obtiene graficando los autovalores contra el número de factores en su orden de extracción, y la forma de la curva resultante se usa para evaluar el punto de corte.\n",
    "\n"
   ]
  },
  {
   "cell_type": "markdown",
   "metadata": {},
   "source": [
    "Apliquemos este criterio a nuestro ejemplo:"
   ]
  },
  {
   "cell_type": "code",
   "execution_count": 33,
   "metadata": {},
   "outputs": [
    {
     "data": {
      "image/png": "[encoded data removed]",
      "text/plain": [
       "<Figure size 720x360 with 1 Axes>"
      ]
     },
     "metadata": {
      "needs_background": "light"
     },
     "output_type": "display_data"
    }
   ],
   "source": [
    "import matplotlib.pyplot as plt\n",
    "import numpy as np\n",
    "\n",
    "plt.figure(figsize=(10,5))\n",
    "plt.scatter(np.arange(original_eigen_values.size)+1,original_eigen_values)\n",
    "plt.plot(np.arange(original_eigen_values.size)+1,original_eigen_values)\n",
    "plt.xlabel('Factores',size=14);\n",
    "plt.ylabel('Autovalor',size=14);"
   ]
  },
  {
   "cell_type": "markdown",
   "metadata": {},
   "source": [
    "Comenzando con el primer factor, la pendiente se inclina abruptamente hacia abajo inicialmente y luego se convierte lentamente en una línea aproximadamente horizontal en un punto de inflexión denominado por muchos como el \"codo\". \n",
    "\n",
    "Se considera que este punto en el que la curva comienza a enderezarse representa los factores que contienen una varianza más única que común y, por lo tanto, son menos adecuados para la retención.\n",
    "\n",
    "En nuestro caso, el codo estaría en el factor 5, de modo que optaríamos por tener solo 4 factores. Nota que con este criterio incluimos un factor más que con el criterio de Kaiser. "
   ]
  },
  {
   "cell_type": "markdown",
   "metadata": {},
   "source": [
    "Identificar el codo es muchas veces difícil y, por lo tanto, este método se considera más subjetivo que los demás."
   ]
  },
  {
   "cell_type": "markdown",
   "metadata": {},
   "source": [
    "#### Análisis paralelo de Horn\n",
    "\n",
    "Este procedimiento genera un gran número (por ejemplo, 500 o 1000) de conjuntos de datos simulados con valores aleatorios para el mismo número de variables y tamaño de muestra que nuestros datos. \n",
    "\n",
    "Luego, cada uno de estos conjuntos de datos simulados se analiza factorialmente, ya sea con componentes principales o métodos de factor común, y los autovalores se promedian para cada factor en todos los conjuntos de datos. \n",
    "\n",
    "A continuación, estos valores se comparan con los autovalores extraídos de los datos originales y se conservan todos los factores con autovalores superiores a los de los conjuntos de datos simulados."
   ]
  },
  {
   "cell_type": "markdown",
   "metadata": {},
   "source": [
    "Apliquemos este método a nuestro ejemplo:"
   ]
  },
  {
   "cell_type": "code",
   "execution_count": 34,
   "metadata": {},
   "outputs": [],
   "source": [
    "%load_ext rpy2.ipython"
   ]
  },
  {
   "cell_type": "code",
   "execution_count": 40,
   "metadata": {},
   "outputs": [],
   "source": [
    "%%R\n",
    "#install.packages(\"psych\")"
   ]
  },
  {
   "cell_type": "code",
   "execution_count": 46,
   "metadata": {},
   "outputs": [
    {
     "name": "stdout",
     "output_type": "stream",
     "text": [
      "Parallel analysis suggests that the number of factors =  4  and the number of components =  NA \n"
     ]
    },
    {
     "data": {
      "image/png": "[encoded data removed]"
     },
     "metadata": {},
     "output_type": "display_data"
    }
   ],
   "source": [
    "%%R\n",
    "library(foreign)\n",
    "library(psych)\n",
    "\n",
    "# Cargamos los datos en el entorno R\n",
    "dat <- read.spss(\"euthan.sav\", to.data.frame = TRUE)\n",
    "\n",
    "# Parallel Analysis with Psych package.\n",
    "parallel <- fa.parallel(dat, n.iter=1000, fa=\"fa\")"
   ]
  },
  {
   "cell_type": "markdown",
   "metadata": {},
   "source": [
    "El método de análisis paralelo sugiere retener 4 factores. "
   ]
  },
  {
   "cell_type": "markdown",
   "metadata": {},
   "source": [
    "## Rotación de factores\n",
    "\n",
    "El término rotación significa exactamente lo que implica. Específicamente, los ejes de referencia de los factores giran alrededor del origen hasta que se alcanza alguna otra posición.\n",
    "\n",
    "El efecto final de rotar la matriz de factores es **redistribuir la varianza de los primeros factores a los últimos para lograr un patrón de factores más simple y teóricamente más significativo**."
   ]
  },
  {
   "cell_type": "markdown",
   "metadata": {},
   "source": [
    "### Tipos de rotación\n",
    "\n",
    "El caso más simple de rotación es una rotación de factor ortogonal, en la que los ejes se mantienen a 90 grados. \n",
    "\n",
    "También es posible rotar los ejes y no retener el ángulo de 90 grados entre los ejes de referencia. Cuando no está limitado a ser ortogonal, el procedimiento de rotación se denomina rotación de factor oblicua.\n",
    "\n",
    "Los dos tipos rotaciones se ilustran en la siguiente imagen tomada de Hair et al. (2019):"
   ]
  },
  {
   "cell_type": "markdown",
   "metadata": {},
   "source": [
    "<p align=\"center\">\n",
    "  <img width=\"750\" src=\"https://github.com/renatoparedes/EstadisticaYPsicologiaMatematica/raw/main/AFE/ortogonal.png\" alt=\"Variable Types\">\n",
    "</p>\n",
    "\n",
    "<p align=\"center\">\n",
    "  <img width=\"750\" src=\"https://github.com/renatoparedes/EstadisticaYPsicologiaMatematica/raw/main/AFE/oblique.png\" alt=\"Variable Types\">\n",
    "</p>"
   ]
  },
  {
   "cell_type": "markdown",
   "metadata": {},
   "source": [
    "https://www.datasklr.com/principal-component-analysis-and-factor-analysis/factor-analysis\n",
    "\n"
   ]
  }
 ],
 "metadata": {
  "interpreter": {
   "hash": "bc333aaf72f12d36efbbc969b6efbd208f39cf597397e273d228d636dea83428"
  },
  "kernelspec": {
   "display_name": "Python 3.8.10 64-bit ('statspsych': virtualenv)",
   "name": "python3"
  },
  "language_info": {
   "codemirror_mode": {
    "name": "ipython",
    "version": 3
   },
   "file_extension": ".py",
   "mimetype": "text/x-python",
   "name": "python",
   "nbconvert_exporter": "python",
   "pygments_lexer": "ipython3",
   "version": "3.8.10"
  },
  "orig_nbformat": 4
 },
 "nbformat": 4,
 "nbformat_minor": 2
}
