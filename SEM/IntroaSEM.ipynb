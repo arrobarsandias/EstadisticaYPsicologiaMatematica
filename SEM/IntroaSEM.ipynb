{
 "cells": [
  {
   "cell_type": "markdown",
   "metadata": {
    "slideshow": {
     "slide_type": "slide"
    }
   },
   "source": [
    "# Introducción a los modelos de ecuaciones estructurales\n",
    "\n",
    ">Este tutorial es una selección y adaptación al español del libro [Multivariate Data Analysis](https://www.cengage.co.uk/books/9781473756540/) de Joseph F. Hair et al."
   ]
  },
  {
   "cell_type": "code",
   "execution_count": null,
   "metadata": {
    "slideshow": {
     "slide_type": "skip"
    }
   },
   "outputs": [],
   "source": [
    "!pip install pyreadstat\n",
    "!pip install semopy"
   ]
  },
  {
   "cell_type": "markdown",
   "metadata": {
    "slideshow": {
     "slide_type": "slide"
    }
   },
   "source": [
    "## Nociones previas\n",
    "\n",
    "### ¿Qué es un modelo de ecuaciones estructurales (SEM)?\n",
    "\n",
    "En las secciones anteriores, cada técnica multivariante se ha clasificado como técnica de interdependencia o dependencia. Se puede pensar en SEM como una **combinación única de** ambos tipos de técnicas, porque la base de SEM radica en **dos técnicas multivariadas familiares: análisis factorial y análisis de regresión múltiple**."
   ]
  },
  {
   "cell_type": "markdown",
   "metadata": {
    "slideshow": {
     "slide_type": "subslide"
    }
   },
   "source": [
    "El SEM examina la **estructura** de las interrelaciones expresadas en una serie de ecuaciones, similar a una **serie de ecuaciones de regresión múltiple**. \n",
    "- Estas ecuaciones representan todas las relaciones entre constructos (las variables dependientes e independientes) y las variables involucradas en el análisis. \n",
    "- Igual de importante, una estructura teórica especifica qué variables y constructos probablemente no estén relacionados entre sí. \n",
    "\n",
    ">Los constructos son factores latentes o no observables representados por múltiples variables."
   ]
  },
  {
   "cell_type": "markdown",
   "metadata": {
    "slideshow": {
     "slide_type": "subslide"
    }
   },
   "source": [
    "Los modelos SEM se distinguen de los modelos de regresión tradicionales en que tienden a involucrar:\n",
    "- **Estimación simultánea** de relaciones de dependencia múltiples e interrelacionadas.\n",
    "- Capacidad para representar conceptos no observados en estas relaciones y tener en cuenta el **error de medición** en el proceso de estimación.\n",
    "- Definición de un **modelo teórico** para explicar todo el conjunto de relaciones.\n",
    "- Supuestos de sobreidentificación (las variables se explican mediante un conjunto único de variables que no incluye todas las relaciones posibles)."
   ]
  },
  {
   "cell_type": "markdown",
   "metadata": {
    "slideshow": {
     "slide_type": "subslide"
    }
   },
   "source": [
    "Un modelo convencional de SEM consta en realidad de dos teorías: \n",
    "- Modelo de medición (representa cómo las variables medidas se unen para representar constructos)\n",
    "- Modelo estructural (muestra cómo los constructos se asocian entre sí).\n",
    "\n",
    "> No se debe desarrollar ningún modelo SEM sin una teoría subyacente plausible."
   ]
  },
  {
   "cell_type": "markdown",
   "metadata": {
    "slideshow": {
     "slide_type": "slide"
    }
   },
   "source": [
    "### Diagramas de ruta\n",
    "\n",
    "Un modelo SEM completo que consta de modelos estructurales y de medición puede ser bastante complejo. \n",
    "\n",
    "Aunque todas las relaciones se pueden expresar en notación de análisis de ruta (que veremos más adelante), muchos investigadores encuentran más conveniente **representar un modelo en una forma visual, conocida como diagrama de ruta**."
   ]
  },
  {
   "cell_type": "markdown",
   "metadata": {
    "slideshow": {
     "slide_type": "subslide"
    }
   },
   "source": [
    "<p align=\"center\">\n",
    "  <img width=\"900\" src=\"https://github.com/renatoparedes/EstadisticaYPsicologiaMatematica/raw/main/SEM/semdiagram1.png\" alt=\"SEM Diagram 1\">\n",
    "</p>"
   ]
  },
  {
   "cell_type": "markdown",
   "metadata": {
    "slideshow": {
     "slide_type": "subslide"
    }
   },
   "source": [
    "- Los **constructos** generalmente se representan mediante **óvalos o círculos**, y las **variables medidas** se representan mediante **cuadrados o rectángulos**.\n",
    "- Para ayudar a distinguir los indicadores de constructos endógenos frente a exógenos, las variables medidas (indicadores) para **constructos exógenos se suelen denominar variables X**, mientras que los indicadores de **constructos endógenos suelen denominarse variables Y**.\n",
    ">Los constructos exógenos son el equivalente latente, de múltiples elementos, de las variables independientes. Los constructos endógenos son el equivalente latente de múltiples elementos de las variables dependientes.\n",
    "\n",
    "- Las variables medidas X o Y se asocian con sus respectivos constructos mediante una flecha recta de una sola cabeza desde las construcciones hasta la variable medida.\n",
    "- Las **relaciones de dependencia** se representan con **flechas direccionales** de una sola cabeza.\n",
    "- Las **relaciones de correlación** (covarianza) se representan con **flechas de dos puntas**."
   ]
  },
  {
   "cell_type": "markdown",
   "metadata": {
    "slideshow": {
     "slide_type": "subslide"
    }
   },
   "source": [
    "En este tipo de diagramas podemos representar el modelo de medición y el modelo estructural simultáneamente:\n",
    "\n",
    "<p align=\"center\">\n",
    "  <img width=\"550\" src=\"https://github.com/renatoparedes/EstadisticaYPsicologiaMatematica/raw/main/SEM/semdiagram2.png\" alt=\"SEM Diagram 2\">\n",
    "</p>"
   ]
  },
  {
   "cell_type": "markdown",
   "metadata": {
    "slideshow": {
     "slide_type": "subslide"
    }
   },
   "source": [
    "En contraste con la regresión u otras técnicas de dependencia que buscan predecir relaciones en una sola ecuación, el objetivo estadístico de la SEM basada en covarianza es **reproducir la matriz de covarianza observada de todas las variables medidas necesarias para probar una teoría**.\n",
    "\n",
    "Debido a que el **enfoque está en todo el modelo teórico**, la SEM se basa en la matriz de covarianza observada entre las variables medidas, que contiene información completa sobre cómo todas las variables se corresponden entre sí. \n",
    "\n",
    "**El ajuste del modelo está determinado por la similitud resultante entre la matriz de covarianza observada y una matriz de covarianza estimada producida a partir de las ecuaciones que representan el modelo teórico propuesto**. \n",
    "\n",
    "Si la teoría propuesta crea ecuaciones que reproducen con precisión la correspondencia entre las variables medidas (matriz de covarianza observada), entonces podemos decir que la teoría se ajusta a la realidad."
   ]
  },
  {
   "cell_type": "markdown",
   "metadata": {
    "slideshow": {
     "slide_type": "slide"
    }
   },
   "source": [
    "### Causalidad\n",
    "\n",
    "La inferencia causal es el tipo de **inferencia más fuerte que puede hacer un investigador** al momento de aplicar estadísticas multivariadas. Esta implica **proponer que una relación de dependencia en realidad se basa en la causalidad**. Una inferencia causal implica una relación hipotética de causa y efecto. "
   ]
  },
  {
   "cell_type": "markdown",
   "metadata": {
    "slideshow": {
     "slide_type": "subslide"
    }
   },
   "source": [
    "Veamos algunos ejemplos de los tipos de relaciones causales que puede especifica un modelo SEM:\n",
    "\n",
    "<p align=\"center\">\n",
    "  <img width=\"700\" src=\"https://github.com/renatoparedes/EstadisticaYPsicologiaMatematica/raw/main/SEM/semdiagram3.png\" alt=\"SEM Diagram 3\">\n",
    "</p>"
   ]
  },
  {
   "cell_type": "markdown",
   "metadata": {
    "slideshow": {
     "slide_type": "subslide"
    }
   },
   "source": [
    "Los modelos SEM se utilizan normalmente **en situaciones no experimentales** en las que los constructos exógenos no son variables controladas experimentalmente. Esto limita la capacidad del investigador para extraer inferencias causales y **el SEM por sí solo no puede establecer la causalidad**. "
   ]
  },
  {
   "cell_type": "markdown",
   "metadata": {
    "slideshow": {
     "slide_type": "subslide"
    }
   },
   "source": [
    "Sin embargo, **SEM puede tratar las relaciones de dependencia como causales si cuatro condiciones se reflejan en el modelo SEM**:\n",
    "\n",
    "- Covarianza entre causa y efecto\n",
    "- La causa debe ocurrir antes que el efecto.\n",
    "- Debe existir una asociación no espuria entre la causa y el efecto.\n",
    "- Existe apoyo teórico para la relación entre causa y efecto."
   ]
  },
  {
   "cell_type": "markdown",
   "metadata": {
    "slideshow": {
     "slide_type": "subslide"
    }
   },
   "source": [
    "SEM puede proporcionar evidencia de covariación sistemática y puede ayudar a demostrar que una relación no es falsa. Si los datos son longitudinales, SEM también puede ayudar a establecer la secuencia de relaciones. Sin embargo, **le corresponde al investigador establecer un soporte teórico**. \n",
    "\n",
    "Por lo tanto, SEM es útil para establecer una inferencia causal, pero no puede hacerlo solo."
   ]
  },
  {
   "cell_type": "markdown",
   "metadata": {
    "slideshow": {
     "slide_type": "slide"
    }
   },
   "source": [
    "## Definición de constructos individuales\n",
    "\n",
    "El proceso comienza con una buena **definición teórica de los constructos involucrados**. Esta definición proporciona la base para seleccionar o diseñar elementos de indicadores individuales. Un investigador **operacionaliza un constructo latente seleccionando sus elementos de escala de medición y el tipo de escala**.\n",
    "\n",
    "Cuando un modelo tiene escalas tomadas o adaptadas de diversas fuentes que informan sobre otras investigaciones, se recomienda una prueba previa con encuestados similares a los de la población que se va a estudiar para evaluar la idoneidad de los elementos."
   ]
  },
  {
   "cell_type": "markdown",
   "metadata": {
    "slideshow": {
     "slide_type": "subslide"
    }
   },
   "source": [
    "## Especificación del modelo de medición\n",
    "\n",
    "En esta etapa **se define cada constructo latente** a incluir en el modelo y **se asignan las variables (ítems) medidas a los constructos** latentes correspondientes.\n",
    "\n",
    "Como se discutió anteriormente, hay tres **tipos de relaciones**: \n",
    "- Relaciones de medición entre items y constructos; \n",
    "- Relaciones estructurales entre constructos; y \n",
    "- Relaciones de correlación entre constructos. \n",
    "\n",
    "También hay **dos tipos de términos de error**: uno relacionado con indicadores individuales y el otro con constructos endógenos."
   ]
  },
  {
   "cell_type": "markdown",
   "metadata": {
    "slideshow": {
     "slide_type": "subslide"
    }
   },
   "source": [
    "Para especificar un modelo SEM se utiliza una notación especial que se resume en la siguiente tabla:\n",
    "\n",
    "<p align=\"center\">\n",
    "  <img width=\"1200\" src=\"https://github.com/renatoparedes/EstadisticaYPsicologiaMatematica/raw/main/SEM/semnotation.png\" alt=\"SEM Notation\">\n",
    "</p>"
   ]
  },
  {
   "cell_type": "markdown",
   "metadata": {
    "slideshow": {
     "slide_type": "subslide"
    }
   },
   "source": [
    "Partamos de un ejemplo:"
   ]
  },
  {
   "cell_type": "code",
   "execution_count": 1,
   "metadata": {
    "hideCode": true,
    "slideshow": {
     "slide_type": "fragment"
    }
   },
   "outputs": [
    {
     "data": {
      "text/html": [
       "<div>\n",
       "<style scoped>\n",
       "    .dataframe tbody tr th:only-of-type {\n",
       "        vertical-align: middle;\n",
       "    }\n",
       "\n",
       "    .dataframe tbody tr th {\n",
       "        vertical-align: top;\n",
       "    }\n",
       "\n",
       "    .dataframe thead th {\n",
       "        text-align: right;\n",
       "    }\n",
       "</style>\n",
       "<table border=\"1\" class=\"dataframe\">\n",
       "  <thead>\n",
       "    <tr style=\"text-align: right;\">\n",
       "      <th></th>\n",
       "      <th>y1</th>\n",
       "      <th>y2</th>\n",
       "      <th>y3</th>\n",
       "      <th>y4</th>\n",
       "      <th>y5</th>\n",
       "      <th>y6</th>\n",
       "      <th>y7</th>\n",
       "      <th>y8</th>\n",
       "      <th>x1</th>\n",
       "      <th>x2</th>\n",
       "      <th>x3</th>\n",
       "    </tr>\n",
       "  </thead>\n",
       "  <tbody>\n",
       "    <tr>\n",
       "      <th>1</th>\n",
       "      <td>2.50</td>\n",
       "      <td>0.000000</td>\n",
       "      <td>3.333333</td>\n",
       "      <td>0.000000</td>\n",
       "      <td>1.250000</td>\n",
       "      <td>0.000000</td>\n",
       "      <td>3.726360</td>\n",
       "      <td>3.333333</td>\n",
       "      <td>4.442651</td>\n",
       "      <td>3.637586</td>\n",
       "      <td>2.557615</td>\n",
       "    </tr>\n",
       "    <tr>\n",
       "      <th>2</th>\n",
       "      <td>1.25</td>\n",
       "      <td>0.000000</td>\n",
       "      <td>3.333333</td>\n",
       "      <td>0.000000</td>\n",
       "      <td>6.250000</td>\n",
       "      <td>1.100000</td>\n",
       "      <td>6.666666</td>\n",
       "      <td>0.736999</td>\n",
       "      <td>5.384495</td>\n",
       "      <td>5.062595</td>\n",
       "      <td>3.568079</td>\n",
       "    </tr>\n",
       "    <tr>\n",
       "      <th>3</th>\n",
       "      <td>7.50</td>\n",
       "      <td>8.800000</td>\n",
       "      <td>9.999998</td>\n",
       "      <td>9.199991</td>\n",
       "      <td>8.750000</td>\n",
       "      <td>8.094061</td>\n",
       "      <td>9.999998</td>\n",
       "      <td>8.211809</td>\n",
       "      <td>5.961005</td>\n",
       "      <td>6.255750</td>\n",
       "      <td>5.224433</td>\n",
       "    </tr>\n",
       "    <tr>\n",
       "      <th>4</th>\n",
       "      <td>8.90</td>\n",
       "      <td>8.800000</td>\n",
       "      <td>9.999998</td>\n",
       "      <td>9.199991</td>\n",
       "      <td>8.907948</td>\n",
       "      <td>8.127979</td>\n",
       "      <td>9.999998</td>\n",
       "      <td>4.615086</td>\n",
       "      <td>6.285998</td>\n",
       "      <td>7.567863</td>\n",
       "      <td>6.267495</td>\n",
       "    </tr>\n",
       "    <tr>\n",
       "      <th>5</th>\n",
       "      <td>10.00</td>\n",
       "      <td>3.333333</td>\n",
       "      <td>9.999998</td>\n",
       "      <td>6.666666</td>\n",
       "      <td>7.500000</td>\n",
       "      <td>3.333333</td>\n",
       "      <td>9.999998</td>\n",
       "      <td>6.666666</td>\n",
       "      <td>5.863631</td>\n",
       "      <td>6.818924</td>\n",
       "      <td>4.573679</td>\n",
       "    </tr>\n",
       "    <tr>\n",
       "      <th>...</th>\n",
       "      <td>...</td>\n",
       "      <td>...</td>\n",
       "      <td>...</td>\n",
       "      <td>...</td>\n",
       "      <td>...</td>\n",
       "      <td>...</td>\n",
       "      <td>...</td>\n",
       "      <td>...</td>\n",
       "      <td>...</td>\n",
       "      <td>...</td>\n",
       "      <td>...</td>\n",
       "    </tr>\n",
       "    <tr>\n",
       "      <th>71</th>\n",
       "      <td>5.40</td>\n",
       "      <td>9.999998</td>\n",
       "      <td>6.666666</td>\n",
       "      <td>3.333333</td>\n",
       "      <td>3.750000</td>\n",
       "      <td>6.666666</td>\n",
       "      <td>6.666666</td>\n",
       "      <td>1.485166</td>\n",
       "      <td>4.477337</td>\n",
       "      <td>3.091042</td>\n",
       "      <td>1.987909</td>\n",
       "    </tr>\n",
       "    <tr>\n",
       "      <th>72</th>\n",
       "      <td>7.50</td>\n",
       "      <td>8.800000</td>\n",
       "      <td>9.999998</td>\n",
       "      <td>6.066666</td>\n",
       "      <td>7.500000</td>\n",
       "      <td>6.666666</td>\n",
       "      <td>9.999998</td>\n",
       "      <td>6.666666</td>\n",
       "      <td>5.337538</td>\n",
       "      <td>5.631212</td>\n",
       "      <td>3.491004</td>\n",
       "    </tr>\n",
       "    <tr>\n",
       "      <th>73</th>\n",
       "      <td>7.50</td>\n",
       "      <td>7.000000</td>\n",
       "      <td>9.999998</td>\n",
       "      <td>6.852998</td>\n",
       "      <td>7.500000</td>\n",
       "      <td>6.348340</td>\n",
       "      <td>6.666666</td>\n",
       "      <td>7.508044</td>\n",
       "      <td>6.129050</td>\n",
       "      <td>6.403574</td>\n",
       "      <td>5.001796</td>\n",
       "    </tr>\n",
       "    <tr>\n",
       "      <th>74</th>\n",
       "      <td>10.00</td>\n",
       "      <td>6.666666</td>\n",
       "      <td>9.999998</td>\n",
       "      <td>10.000000</td>\n",
       "      <td>10.000000</td>\n",
       "      <td>6.666666</td>\n",
       "      <td>9.999998</td>\n",
       "      <td>10.000000</td>\n",
       "      <td>5.003946</td>\n",
       "      <td>4.962845</td>\n",
       "      <td>3.976994</td>\n",
       "    </tr>\n",
       "    <tr>\n",
       "      <th>75</th>\n",
       "      <td>3.75</td>\n",
       "      <td>3.333333</td>\n",
       "      <td>0.000000</td>\n",
       "      <td>0.000000</td>\n",
       "      <td>1.250000</td>\n",
       "      <td>3.333333</td>\n",
       "      <td>0.000000</td>\n",
       "      <td>0.000000</td>\n",
       "      <td>4.488636</td>\n",
       "      <td>4.897840</td>\n",
       "      <td>2.867566</td>\n",
       "    </tr>\n",
       "  </tbody>\n",
       "</table>\n",
       "<p>75 rows × 11 columns</p>\n",
       "</div>"
      ],
      "text/plain": [
       "       y1        y2        y3         y4         y5        y6        y7  \\\n",
       "1    2.50  0.000000  3.333333   0.000000   1.250000  0.000000  3.726360   \n",
       "2    1.25  0.000000  3.333333   0.000000   6.250000  1.100000  6.666666   \n",
       "3    7.50  8.800000  9.999998   9.199991   8.750000  8.094061  9.999998   \n",
       "4    8.90  8.800000  9.999998   9.199991   8.907948  8.127979  9.999998   \n",
       "5   10.00  3.333333  9.999998   6.666666   7.500000  3.333333  9.999998   \n",
       "..    ...       ...       ...        ...        ...       ...       ...   \n",
       "71   5.40  9.999998  6.666666   3.333333   3.750000  6.666666  6.666666   \n",
       "72   7.50  8.800000  9.999998   6.066666   7.500000  6.666666  9.999998   \n",
       "73   7.50  7.000000  9.999998   6.852998   7.500000  6.348340  6.666666   \n",
       "74  10.00  6.666666  9.999998  10.000000  10.000000  6.666666  9.999998   \n",
       "75   3.75  3.333333  0.000000   0.000000   1.250000  3.333333  0.000000   \n",
       "\n",
       "           y8        x1        x2        x3  \n",
       "1    3.333333  4.442651  3.637586  2.557615  \n",
       "2    0.736999  5.384495  5.062595  3.568079  \n",
       "3    8.211809  5.961005  6.255750  5.224433  \n",
       "4    4.615086  6.285998  7.567863  6.267495  \n",
       "5    6.666666  5.863631  6.818924  4.573679  \n",
       "..        ...       ...       ...       ...  \n",
       "71   1.485166  4.477337  3.091042  1.987909  \n",
       "72   6.666666  5.337538  5.631212  3.491004  \n",
       "73   7.508044  6.129050  6.403574  5.001796  \n",
       "74  10.000000  5.003946  4.962845  3.976994  \n",
       "75   0.000000  4.488636  4.897840  2.867566  \n",
       "\n",
       "[75 rows x 11 columns]"
      ]
     },
     "execution_count": 1,
     "metadata": {},
     "output_type": "execute_result"
    }
   ],
   "source": [
    "import pandas as pd\n",
    "from semopy.examples import political_democracy\n",
    "\n",
    "df = political_democracy.get_data()\n",
    "df"
   ]
  },
  {
   "cell_type": "code",
   "execution_count": 4,
   "metadata": {
    "hideCode": true,
    "slideshow": {
     "slide_type": "subslide"
    }
   },
   "outputs": [
    {
     "data": {
      "image/svg+xml": [
       "<?xml version=\"1.0\" encoding=\"UTF-8\" standalone=\"no\"?>\n",
       "<!DOCTYPE svg PUBLIC \"-//W3C//DTD SVG 1.1//EN\"\n",
       " \"http://www.w3.org/Graphics/SVG/1.1/DTD/svg11.dtd\">\n",
       "<!-- Generated by graphviz version 7.0.1 (0)\n",
       " -->\n",
       "<!-- Title: G Pages: 1 -->\n",
       "<svg width=\"782pt\" height=\"164pt\"\n",
       " viewBox=\"0.00 0.00 782.00 164.49\" xmlns=\"http://www.w3.org/2000/svg\" xmlns:xlink=\"http://www.w3.org/1999/xlink\">\n",
       "<g id=\"graph0\" class=\"graph\" transform=\"scale(1 1) rotate(0) translate(4 160.49)\">\n",
       "<title>G</title>\n",
       "<polygon fill=\"white\" stroke=\"none\" points=\"-4,4 -4,-160.49 778,-160.49 778,4 -4,4\"/>\n",
       "<!-- dem65 -->\n",
       "<g id=\"node1\" class=\"node\">\n",
       "<title>dem65</title>\n",
       "<ellipse fill=\"#cae6df\" stroke=\"black\" cx=\"135\" cy=\"-114.25\" rx=\"42.49\" ry=\"42.49\"/>\n",
       "<text text-anchor=\"middle\" x=\"135\" y=\"-110.55\" font-family=\"Times,serif\" font-size=\"14.00\">dem65</text>\n",
       "</g>\n",
       "<!-- y5 -->\n",
       "<g id=\"node11\" class=\"node\">\n",
       "<title>y5</title>\n",
       "<polygon fill=\"none\" stroke=\"black\" points=\"54,-36 0,-36 0,0 54,0 54,-36\"/>\n",
       "<text text-anchor=\"middle\" x=\"27\" y=\"-14.3\" font-family=\"Times,serif\" font-size=\"14.00\">y5</text>\n",
       "</g>\n",
       "<!-- dem65&#45;&gt;y5 -->\n",
       "<g id=\"edge8\" class=\"edge\">\n",
       "<title>dem65&#45;&gt;y5</title>\n",
       "<path fill=\"none\" stroke=\"black\" d=\"M103.18,-85.48C88.13,-72.35 70.31,-56.79 55.68,-44.03\"/>\n",
       "<polygon fill=\"black\" stroke=\"black\" points=\"58.02,-41.43 48.19,-37.49 53.42,-46.7 58.02,-41.43\"/>\n",
       "</g>\n",
       "<!-- y6 -->\n",
       "<g id=\"node12\" class=\"node\">\n",
       "<title>y6</title>\n",
       "<polygon fill=\"none\" stroke=\"black\" points=\"126,-36 72,-36 72,0 126,0 126,-36\"/>\n",
       "<text text-anchor=\"middle\" x=\"99\" y=\"-14.3\" font-family=\"Times,serif\" font-size=\"14.00\">y6</text>\n",
       "</g>\n",
       "<!-- dem65&#45;&gt;y6 -->\n",
       "<g id=\"edge9\" class=\"edge\">\n",
       "<title>dem65&#45;&gt;y6</title>\n",
       "<path fill=\"none\" stroke=\"black\" d=\"M120.05,-74.1C116.55,-64.95 112.9,-55.4 109.64,-46.86\"/>\n",
       "<polygon fill=\"black\" stroke=\"black\" points=\"113,-45.85 106.17,-37.76 106.46,-48.35 113,-45.85\"/>\n",
       "</g>\n",
       "<!-- y7 -->\n",
       "<g id=\"node13\" class=\"node\">\n",
       "<title>y7</title>\n",
       "<polygon fill=\"none\" stroke=\"black\" points=\"198,-36 144,-36 144,0 198,0 198,-36\"/>\n",
       "<text text-anchor=\"middle\" x=\"171\" y=\"-14.3\" font-family=\"Times,serif\" font-size=\"14.00\">y7</text>\n",
       "</g>\n",
       "<!-- dem65&#45;&gt;y7 -->\n",
       "<g id=\"edge10\" class=\"edge\">\n",
       "<title>dem65&#45;&gt;y7</title>\n",
       "<path fill=\"none\" stroke=\"black\" d=\"M149.95,-74.1C153.45,-64.95 157.1,-55.4 160.36,-46.86\"/>\n",
       "<polygon fill=\"black\" stroke=\"black\" points=\"163.54,-48.35 163.83,-37.76 157,-45.85 163.54,-48.35\"/>\n",
       "</g>\n",
       "<!-- y8 -->\n",
       "<g id=\"node14\" class=\"node\">\n",
       "<title>y8</title>\n",
       "<polygon fill=\"none\" stroke=\"black\" points=\"270,-36 216,-36 216,0 270,0 270,-36\"/>\n",
       "<text text-anchor=\"middle\" x=\"243\" y=\"-14.3\" font-family=\"Times,serif\" font-size=\"14.00\">y8</text>\n",
       "</g>\n",
       "<!-- dem65&#45;&gt;y8 -->\n",
       "<g id=\"edge11\" class=\"edge\">\n",
       "<title>dem65&#45;&gt;y8</title>\n",
       "<path fill=\"none\" stroke=\"black\" d=\"M166.82,-85.48C181.87,-72.35 199.69,-56.79 214.32,-44.03\"/>\n",
       "<polygon fill=\"black\" stroke=\"black\" points=\"216.58,-46.7 221.81,-37.49 211.98,-41.43 216.58,-46.7\"/>\n",
       "</g>\n",
       "<!-- dem60 -->\n",
       "<g id=\"node2\" class=\"node\">\n",
       "<title>dem60</title>\n",
       "<ellipse fill=\"#cae6df\" stroke=\"black\" cx=\"423\" cy=\"-114.25\" rx=\"42.49\" ry=\"42.49\"/>\n",
       "<text text-anchor=\"middle\" x=\"423\" y=\"-110.55\" font-family=\"Times,serif\" font-size=\"14.00\">dem60</text>\n",
       "</g>\n",
       "<!-- y1 -->\n",
       "<g id=\"node7\" class=\"node\">\n",
       "<title>y1</title>\n",
       "<polygon fill=\"none\" stroke=\"black\" points=\"342,-36 288,-36 288,0 342,0 342,-36\"/>\n",
       "<text text-anchor=\"middle\" x=\"315\" y=\"-14.3\" font-family=\"Times,serif\" font-size=\"14.00\">y1</text>\n",
       "</g>\n",
       "<!-- dem60&#45;&gt;y1 -->\n",
       "<g id=\"edge4\" class=\"edge\">\n",
       "<title>dem60&#45;&gt;y1</title>\n",
       "<path fill=\"none\" stroke=\"black\" d=\"M391.18,-85.48C376.13,-72.35 358.31,-56.79 343.68,-44.03\"/>\n",
       "<polygon fill=\"black\" stroke=\"black\" points=\"346.02,-41.43 336.19,-37.49 341.42,-46.7 346.02,-41.43\"/>\n",
       "</g>\n",
       "<!-- y2 -->\n",
       "<g id=\"node8\" class=\"node\">\n",
       "<title>y2</title>\n",
       "<polygon fill=\"none\" stroke=\"black\" points=\"414,-36 360,-36 360,0 414,0 414,-36\"/>\n",
       "<text text-anchor=\"middle\" x=\"387\" y=\"-14.3\" font-family=\"Times,serif\" font-size=\"14.00\">y2</text>\n",
       "</g>\n",
       "<!-- dem60&#45;&gt;y2 -->\n",
       "<g id=\"edge5\" class=\"edge\">\n",
       "<title>dem60&#45;&gt;y2</title>\n",
       "<path fill=\"none\" stroke=\"black\" d=\"M408.05,-74.1C404.55,-64.95 400.9,-55.4 397.64,-46.86\"/>\n",
       "<polygon fill=\"black\" stroke=\"black\" points=\"401,-45.85 394.17,-37.76 394.46,-48.35 401,-45.85\"/>\n",
       "</g>\n",
       "<!-- y3 -->\n",
       "<g id=\"node9\" class=\"node\">\n",
       "<title>y3</title>\n",
       "<polygon fill=\"none\" stroke=\"black\" points=\"486,-36 432,-36 432,0 486,0 486,-36\"/>\n",
       "<text text-anchor=\"middle\" x=\"459\" y=\"-14.3\" font-family=\"Times,serif\" font-size=\"14.00\">y3</text>\n",
       "</g>\n",
       "<!-- dem60&#45;&gt;y3 -->\n",
       "<g id=\"edge6\" class=\"edge\">\n",
       "<title>dem60&#45;&gt;y3</title>\n",
       "<path fill=\"none\" stroke=\"black\" d=\"M437.95,-74.1C441.45,-64.95 445.1,-55.4 448.36,-46.86\"/>\n",
       "<polygon fill=\"black\" stroke=\"black\" points=\"451.54,-48.35 451.83,-37.76 445,-45.85 451.54,-48.35\"/>\n",
       "</g>\n",
       "<!-- y4 -->\n",
       "<g id=\"node10\" class=\"node\">\n",
       "<title>y4</title>\n",
       "<polygon fill=\"none\" stroke=\"black\" points=\"558,-36 504,-36 504,0 558,0 558,-36\"/>\n",
       "<text text-anchor=\"middle\" x=\"531\" y=\"-14.3\" font-family=\"Times,serif\" font-size=\"14.00\">y4</text>\n",
       "</g>\n",
       "<!-- dem60&#45;&gt;y4 -->\n",
       "<g id=\"edge7\" class=\"edge\">\n",
       "<title>dem60&#45;&gt;y4</title>\n",
       "<path fill=\"none\" stroke=\"black\" d=\"M454.82,-85.48C469.87,-72.35 487.69,-56.79 502.32,-44.03\"/>\n",
       "<polygon fill=\"black\" stroke=\"black\" points=\"504.58,-46.7 509.81,-37.49 499.98,-41.43 504.58,-46.7\"/>\n",
       "</g>\n",
       "<!-- ind60 -->\n",
       "<g id=\"node3\" class=\"node\">\n",
       "<title>ind60</title>\n",
       "<ellipse fill=\"#cae6df\" stroke=\"black\" cx=\"675\" cy=\"-114.25\" rx=\"37.09\" ry=\"37.09\"/>\n",
       "<text text-anchor=\"middle\" x=\"675\" y=\"-110.55\" font-family=\"Times,serif\" font-size=\"14.00\">ind60</text>\n",
       "</g>\n",
       "<!-- x1 -->\n",
       "<g id=\"node4\" class=\"node\">\n",
       "<title>x1</title>\n",
       "<polygon fill=\"none\" stroke=\"black\" points=\"630,-36 576,-36 576,0 630,0 630,-36\"/>\n",
       "<text text-anchor=\"middle\" x=\"603\" y=\"-14.3\" font-family=\"Times,serif\" font-size=\"14.00\">x1</text>\n",
       "</g>\n",
       "<!-- ind60&#45;&gt;x1 -->\n",
       "<g id=\"edge1\" class=\"edge\">\n",
       "<title>ind60&#45;&gt;x1</title>\n",
       "<path fill=\"none\" stroke=\"black\" d=\"M652.81,-84.2C643.36,-71.82 632.4,-57.49 623.18,-45.41\"/>\n",
       "<polygon fill=\"black\" stroke=\"black\" points=\"625.99,-43.32 617.13,-37.5 620.42,-47.57 625.99,-43.32\"/>\n",
       "</g>\n",
       "<!-- x2 -->\n",
       "<g id=\"node5\" class=\"node\">\n",
       "<title>x2</title>\n",
       "<polygon fill=\"none\" stroke=\"black\" points=\"702,-36 648,-36 648,0 702,0 702,-36\"/>\n",
       "<text text-anchor=\"middle\" x=\"675\" y=\"-14.3\" font-family=\"Times,serif\" font-size=\"14.00\">x2</text>\n",
       "</g>\n",
       "<!-- ind60&#45;&gt;x2 -->\n",
       "<g id=\"edge2\" class=\"edge\">\n",
       "<title>ind60&#45;&gt;x2</title>\n",
       "<path fill=\"none\" stroke=\"black\" d=\"M675,-76.81C675,-67.16 675,-56.87 675,-47.7\"/>\n",
       "<polygon fill=\"black\" stroke=\"black\" points=\"678.5,-47.93 675,-37.93 671.5,-47.93 678.5,-47.93\"/>\n",
       "</g>\n",
       "<!-- x3 -->\n",
       "<g id=\"node6\" class=\"node\">\n",
       "<title>x3</title>\n",
       "<polygon fill=\"none\" stroke=\"black\" points=\"774,-36 720,-36 720,0 774,0 774,-36\"/>\n",
       "<text text-anchor=\"middle\" x=\"747\" y=\"-14.3\" font-family=\"Times,serif\" font-size=\"14.00\">x3</text>\n",
       "</g>\n",
       "<!-- ind60&#45;&gt;x3 -->\n",
       "<g id=\"edge3\" class=\"edge\">\n",
       "<title>ind60&#45;&gt;x3</title>\n",
       "<path fill=\"none\" stroke=\"black\" d=\"M697.19,-84.2C706.64,-71.82 717.6,-57.49 726.82,-45.41\"/>\n",
       "<polygon fill=\"black\" stroke=\"black\" points=\"729.58,-47.57 732.87,-37.5 724.01,-43.32 729.58,-47.57\"/>\n",
       "</g>\n",
       "</g>\n",
       "</svg>\n"
      ],
      "text/plain": [
       "<graphviz.graphs.Digraph at 0x7ff5659cc210>"
      ]
     },
     "execution_count": 4,
     "metadata": {},
     "output_type": "execute_result"
    }
   ],
   "source": [
    "import semopy\n",
    "\n",
    "measure_desc = \"\"\"\n",
    "# Measurement\n",
    "ind60 =~ x1 + x2 + x3\n",
    "dem60 =~ y1 + y2 + y3 + y4\n",
    "dem65 =~ y5 + y6 + y7 + y8\n",
    "\"\"\"\n",
    "\n",
    "g = semopy.semplot(measure_desc, \"out.png\")\n",
    "g"
   ]
  },
  {
   "cell_type": "markdown",
   "metadata": {
    "slideshow": {
     "slide_type": "slide"
    }
   },
   "source": [
    "## Diseño de un estudio\n",
    "\n",
    "El **tamaño mínimo de la muestra para un modelo SEM** en particular depende de varios factores, incluida la **complejidad del modelo** y las **comunalidades** (varianza promedio extraída entre elementos) en cada factor:\n",
    "\n",
    "- Los modelos SEM que contienen cinco o menos constructos, cada uno con más de tres ítems (variables observadas), y con altas comunalidades de ítems (.6 o más), se pueden estimar adecuadamente con muestras tan pequeñas como 50. \n",
    "- Cuando el número de factores es superior a seis, algunos de los cuales tienen menos de tres items medidos como indicadores, existen problemas de distribución graves y existen múltiples comunalidades bajas, los requisitos de tamaño de la muestra se vuelven mucho mayores.\n",
    "\n",
    ">Recuerda que siempre se requieren más observaciones que el número de variables medidas para que las matemáticas funcionen."
   ]
  },
  {
   "cell_type": "markdown",
   "metadata": {
    "slideshow": {
     "slide_type": "subslide"
    }
   },
   "source": [
    "Contamos con las siguientes guías generales:\n",
    "\n",
    "- N = 100: modelos que contienen cinco o menos constructos, cada uno con más de tres ítems (variables observadas) y con alta comunalidad de ítems (.6 o más).\n",
    "- N = 150: modelos con siete constructos o menos, al menos comunalidades modestas (.5) y sin constructos subidentificados.\n",
    "- N = 300: modelos con siete o menos constructos, comunalidades más bajas (por debajo de .45) o múltiples constructos subidentificados (menos de tres).\n",
    "- N = 500: modelos con un gran número de constructos, algunos con comunalidades más bajas o con menos de tres elementos medidos."
   ]
  },
  {
   "cell_type": "markdown",
   "metadata": {
    "slideshow": {
     "slide_type": "subslide"
    }
   },
   "source": [
    "**El tamaño de la muestra debe ser suficiente para permitir que el modelo se ejecute, pero lo que es más importante, debe representar adecuadamente la población de interés**."
   ]
  },
  {
   "cell_type": "markdown",
   "metadata": {
    "slideshow": {
     "slide_type": "slide"
    }
   },
   "source": [
    "## Validez del modelo de medición\n",
    "\n",
    "La **bondad de ajuste (GOF)** indica qué tan bien el modelo especificado por el usuario reproduce matemáticamente la matriz de covarianza observada entre los elementos del indicador. Es decir, **la similitud de las matrices de covarianza observadas y estimadas**."
   ]
  },
  {
   "cell_type": "markdown",
   "metadata": {
    "slideshow": {
     "slide_type": "subslide"
    }
   },
   "source": [
    "### Índices absolutos\n",
    "\n",
    "#### Chi-cuadrado\n",
    "\n",
    "Chi-cuadrado ($X^{2}$) es la medida estadística fundamental en SEM para cuantificar las diferencias entre la matriz de covarianza observada ($S$) y estimada($\\Sigma_{k}$). El cálculo de este estadístico se define en la siguiente ecuación:\n",
    "\n",
    "$$ X^{2} = f [ (N-1) (S-\\Sigma_{k}) ] $$\n",
    "\n",
    "donde N es el es el tamaño de muestra general.\n",
    "\n",
    "> Nota que el valor de $X^{2}$ aumenta a medida que el valor de N aumenta."
   ]
  },
  {
   "cell_type": "markdown",
   "metadata": {
    "slideshow": {
     "slide_type": "subslide"
    }
   },
   "source": [
    "Los grados de libertad de un modelo SEM se definen:\n",
    "\n",
    "$$ df = \\frac{1}{2}[ (p)(p+1)] - k $$\n",
    "\n",
    "donde $p$ es el número de variables observadas y $k$ es el número de parámetros estimados en el modelo. \n",
    "\n",
    "En particular, los grados de libertad en SEM se basan en el tamaño de la matriz de covarianza, que es una matriz cuadrada con el número de filas (columnas) igual al número de indicadores (variables medidas) en el modelo."
   ]
  },
  {
   "cell_type": "markdown",
   "metadata": {
    "slideshow": {
     "slide_type": "subslide"
    }
   },
   "source": [
    "##### Significancia estadística\n",
    "\n",
    "**La hipótesis nula implícita de SEM es que la muestra observada y las matrices de covarianza estimadas de SEM son iguales**, lo que significa que el modelo se ajusta perfectamente. El valor de $X^{2}$ aumenta a medida que se encuentran diferencias (residuos) al comparar las dos matrices.\n",
    "\n",
    "Con la prueba inferencial $X^{2}$, evaluamos la probabilidad estadística de que las matrices de covarianza de la muestra observada y la estimadas por SEM sean realmente iguales en una población determinada.\n",
    "\n",
    "Por tanto, **en SEM buscamos un valor $X^{2}$ relativamente pequeño (y un valor p grande > .05), lo que indica que no hay diferencia estadísticamente significativa entre las dos matrices**, para apoyar la idea de que una teoría propuesta se ajusta a la realidad."
   ]
  },
  {
   "cell_type": "markdown",
   "metadata": {
    "slideshow": {
     "slide_type": "subslide"
    }
   },
   "source": [
    "Debido a que el estadístico $X^{2}$ es **sensible al aumento del tamaño muestral y al número de variables empleadas en el modelo**, no debe ser usado como la única medida de bondad de ajuste. "
   ]
  },
  {
   "cell_type": "markdown",
   "metadata": {
    "slideshow": {
     "slide_type": "slide"
    }
   },
   "source": [
    "#### GFI\n",
    "\n",
    "El GFI fue un intento temprano de producir una estadística de ajuste que fuera menos sensible al tamaño de la muestra. \n",
    "\n",
    "El GFI se define como:\n",
    "\n",
    "$$ GFI = 1-\\frac{F_{k}}{F_{0}} $$\n",
    "\n",
    "donde $F_{k}$ es la función de ajuste mínimo después de un modelo SEM se ha estimado utilizando k grados de libertad, y $F_{0}$ es la función de ajuste que resultaría si todos los parámetros fueran cero (todo no está relacionado entre sí; no hay relaciones teóricas)."
   ]
  },
  {
   "cell_type": "markdown",
   "metadata": {
    "slideshow": {
     "slide_type": "subslide"
    }
   },
   "source": [
    "El ratio $\\frac{F_{k}}{F_{0}}$ es análogo al ratio $\\frac{SSE}{SST}$ del modelo de regresión múltiple.\n",
    "\n",
    "El rango posible de valores de GFI es de 0 a 1, y los valores más altos indican un mejor ajuste. **Los valores de GFI superiores a .90 o .95 normalmente se consideran buenos**."
   ]
  },
  {
   "cell_type": "markdown",
   "metadata": {
    "slideshow": {
     "slide_type": "slide"
    }
   },
   "source": [
    "#### RMSEA\n",
    "\n",
    "Intenta explícitamente corregir tanto la complejidad del modelo como el tamaño de la muestra al incluir cada uno en su cálculo:\n",
    "\n",
    "$$ RMSEA = \\sqrt{ \\frac{X^{2}-df_{k}}{N-1}   } $$ \n",
    "\n",
    "Aunque investigaciones anteriores a veces habían apuntado a un valor de corte de .05 o .08, investigaciones más recientes apuntan al hecho de que **no es aconsejable trazar un corte absoluto para RMSEA**."
   ]
  },
  {
   "cell_type": "markdown",
   "metadata": {
    "slideshow": {
     "slide_type": "slide"
    }
   },
   "source": [
    "### Índices incrementales\n",
    "\n",
    "Evalúan qué tan bien se ajusta el modelo estimado en relación con algún modelo de línea base alternativo. **El modelo de línea base más común se conoce como modelo nulo, uno que asume que todas las variables observadas no están correlacionadas**."
   ]
  },
  {
   "cell_type": "markdown",
   "metadata": {
    "slideshow": {
     "slide_type": "subslide"
    }
   },
   "source": [
    "#### CFI\n",
    "\n",
    "El CFI se ha convertido en el índice más difundido para complementar el $X^{2}$.\n",
    "\n",
    "$$ CFI = 1 - \\frac{ X^{2}_{k}-df_{k} } { X^{2}_{N}-df_{N}  } $$\n",
    "\n",
    "donde k representa valores asociados con el modelo o la teoría especificada por el investigador, mientras que N denota valores asociados con el modelo estadístico nulo.\n",
    "\n",
    "El CFI está normalizado para que los valores oscilen entre 0 y 1, y los **valores más altos indican un mejor ajuste**."
   ]
  },
  {
   "cell_type": "markdown",
   "metadata": {
    "slideshow": {
     "slide_type": "subslide"
    }
   },
   "source": [
    "#### TLI\n",
    "\n",
    "Se trata de una comparación de los valores de chi-cuadrado normalizados para el modelo nulo y especificado, que hasta cierto punto tiene en cuenta la complejidad del modelo.\n",
    "\n",
    "$$ TLI = \\frac{ \\frac{X^{2}_{N}}{df_{N}}  - \\frac{X^{2}_{k}}{df_{k}}    }{   \\frac{X^{2}_{N}}{df_{N}} - 1 } $$\n",
    "\n",
    "**Los modelos con buen ajuste tienen valores que se acercan a 1**. Un modelo con un valor más alto sugiere un mejor ajuste que un modelo con un valor más bajo."
   ]
  },
  {
   "cell_type": "markdown",
   "metadata": {
    "slideshow": {
     "slide_type": "slide"
    }
   },
   "source": [
    "### Reporte\n",
    "\n",
    "Se deben usar índices de ajuste múltiples para evaluar la bondad de ajuste de un modelo y deben incluir:\n",
    "- El valor $X^{2}$ y el gl asociado.\n",
    "- Un índice de ajuste absoluto (GFI, RMSEA o SRMR).\n",
    "- Un índice de ajuste incremental (CFI o TLI).\n",
    "- Un índice de bondad de ajuste (GFI, CFI, TLI, etc.).\n",
    "- Un índice de mal ajuste (RMSEA, SRMR, etc.).\n",
    "\n",
    "En general, reportar $X^{2}$, CFI y RMSEA puede ser suficiente para evaluar un modelo SEM."
   ]
  },
  {
   "cell_type": "markdown",
   "metadata": {
    "slideshow": {
     "slide_type": "subslide"
    }
   },
   "source": [
    "**Ningún valor “mágico” único para los índices de ajuste separa los modelos buenos de los malos**, y no es práctico aplicar un solo conjunto de reglas de corte a todos los modelos de medición y, en realidad, a todos los modelos SEM de cualquier tipo."
   ]
  },
  {
   "cell_type": "markdown",
   "metadata": {
    "slideshow": {
     "slide_type": "subslide"
    }
   },
   "source": [
    "La **calidad del ajuste** depende en gran medida de las **características del modelo, incluido el tamaño de la muestra y la complejidad del modelo**:\n",
    "- Los modelos simples con muestras pequeñas deben mantenerse con estrictos estándares de ajuste; incluso un valor p pequeño para un modelo simple puede no ser significativo.\n",
    "- Los **modelos más complejos con muestras más grandes no deben someterse a los mismos estándares estrictos**, por lo que cuando las muestras son grandes y el modelo contiene una gran cantidad de variables medidas y estimaciones de parámetros, valores de corte universales de .95 de GOF son poco realistas."
   ]
  },
  {
   "cell_type": "markdown",
   "metadata": {
    "slideshow": {
     "slide_type": "subslide"
    }
   },
   "source": [
    "Podemos ver un resumen de estas nociones en la siguiente tabla:\n",
    "\n",
    "<p align=\"center\">\n",
    "  <img width=\"1200\" src=\"https://github.com/renatoparedes/EstadisticaYPsicologiaMatematica/raw/main/SEM/semgof.png\" alt=\"SEM GOF measures\">\n",
    "</p>"
   ]
  },
  {
   "cell_type": "markdown",
   "metadata": {
    "slideshow": {
     "slide_type": "subslide"
    }
   },
   "source": [
    "Revisemos estos índices en nuestro ejemplo:"
   ]
  },
  {
   "cell_type": "code",
   "execution_count": 6,
   "metadata": {
    "slideshow": {
     "slide_type": "fragment"
    }
   },
   "outputs": [],
   "source": [
    "measure_model = semopy.Model(measure_desc)\n",
    "res = measure_model.fit(df)"
   ]
  },
  {
   "cell_type": "code",
   "execution_count": 7,
   "metadata": {
    "hideCode": true,
    "slideshow": {
     "slide_type": "fragment"
    }
   },
   "outputs": [
    {
     "name": "stdout",
     "output_type": "stream",
     "text": [
      "                    Value\n",
      "DoF             41.000000\n",
      "DoF Baseline    55.000000\n",
      "chi2            72.461632\n",
      "chi2 p-value     0.001761\n",
      "chi2 Baseline  730.654577\n",
      "CFI              0.953435\n",
      "GFI              0.900826\n",
      "AGFI             0.866962\n",
      "NFI              0.900826\n",
      "TLI              0.937535\n",
      "RMSEA            0.101832\n",
      "AIC             48.067690\n",
      "BIC            106.004893\n",
      "LogLik           0.966155\n"
     ]
    }
   ],
   "source": [
    "stats = semopy.calc_stats(measure_model)\n",
    "print(stats.T)"
   ]
  },
  {
   "cell_type": "markdown",
   "metadata": {
    "slideshow": {
     "slide_type": "fragment"
    }
   },
   "source": [
    "Podemos apreciar un regular ajuste del modelo. El valor $X^{2}$ es significativo, lo cual sugiere diferencias entre la matriz de covarianza estimada y la original. El indicador CFI muestra un valor elevado, pero ligeramente inferior a .97 que sería lo sugerido. Del mismo modo, el indicador RMSEA se encuentra ligeramente por encima del punto de corte sugerido (0.8). Para efectos de este ejemplo, consideraremos que el ajuste es suficientemente bueno como para continuar."
   ]
  },
  {
   "cell_type": "markdown",
   "metadata": {
    "slideshow": {
     "slide_type": "slide"
    }
   },
   "source": [
    "## Especificación el modelo estructural\n",
    "\n",
    "Consiste en **especificar el modelo estructural asignando relaciones de un constructo a otro con base en el modelo teórico propuesto**.\n",
    "\n",
    "En otras palabras, el **investigador identifica las relaciones de dependencia que se supone que existen entre los constructos, y cada hipótesis representa una relación específica que debe especificarse**. Las relaciones muestran cómo un constructo influye en otro y puede ser directo o indirecto. Por tanto, el modelo muestra todas las relaciones de dependencia que existen entre los constructos.\n",
    "\n",
    "Veamos como esto aplica a nuestro ejemplo:\n"
   ]
  },
  {
   "cell_type": "code",
   "execution_count": 15,
   "metadata": {
    "hideCode": true,
    "scrolled": true,
    "slideshow": {
     "slide_type": "subslide"
    }
   },
   "outputs": [
    {
     "data": {
      "image/svg+xml": [
       "<?xml version=\"1.0\" encoding=\"UTF-8\" standalone=\"no\"?>\n",
       "<!DOCTYPE svg PUBLIC \"-//W3C//DTD SVG 1.1//EN\"\n",
       " \"http://www.w3.org/Graphics/SVG/1.1/DTD/svg11.dtd\">\n",
       "<!-- Generated by graphviz version 7.0.1 (0)\n",
       " -->\n",
       "<!-- Title: G Pages: 1 -->\n",
       "<svg width=\"467pt\" height=\"539pt\"\n",
       " viewBox=\"0.00 0.00 467.46 539.08\" xmlns=\"http://www.w3.org/2000/svg\" xmlns:xlink=\"http://www.w3.org/1999/xlink\">\n",
       "<g id=\"graph0\" class=\"graph\" transform=\"scale(1 1) rotate(0) translate(4 535.08)\">\n",
       "<title>G</title>\n",
       "<polygon fill=\"white\" stroke=\"none\" points=\"-4,4 -4,-535.08 463.46,-535.08 463.46,4 -4,4\"/>\n",
       "<!-- dem65 -->\n",
       "<g id=\"node1\" class=\"node\">\n",
       "<title>dem65</title>\n",
       "<ellipse fill=\"#cae6df\" stroke=\"black\" cx=\"261.46\" cy=\"-258.25\" rx=\"42.49\" ry=\"42.49\"/>\n",
       "<text text-anchor=\"middle\" x=\"261.46\" y=\"-254.55\" font-family=\"Times,serif\" font-size=\"14.00\">dem65</text>\n",
       "</g>\n",
       "<!-- y5 -->\n",
       "<g id=\"node11\" class=\"node\">\n",
       "<title>y5</title>\n",
       "<polygon fill=\"none\" stroke=\"black\" points=\"273.46,-180 219.46,-180 219.46,-144 273.46,-144 273.46,-180\"/>\n",
       "<text text-anchor=\"middle\" x=\"246.46\" y=\"-158.3\" font-family=\"Times,serif\" font-size=\"14.00\">y5</text>\n",
       "</g>\n",
       "<!-- dem65&#45;&gt;y5 -->\n",
       "<g id=\"edge11\" class=\"edge\">\n",
       "<title>dem65&#45;&gt;y5</title>\n",
       "<path fill=\"none\" stroke=\"black\" d=\"M254.88,-215.91C253.58,-207.73 252.24,-199.31 251.02,-191.67\"/>\n",
       "<polygon fill=\"black\" stroke=\"black\" points=\"254.5,-191.25 249.47,-181.93 247.59,-192.35 254.5,-191.25\"/>\n",
       "</g>\n",
       "<!-- y6 -->\n",
       "<g id=\"node12\" class=\"node\">\n",
       "<title>y6</title>\n",
       "<polygon fill=\"none\" stroke=\"black\" points=\"345.46,-108 291.46,-108 291.46,-72 345.46,-72 345.46,-108\"/>\n",
       "<text text-anchor=\"middle\" x=\"318.46\" y=\"-86.3\" font-family=\"Times,serif\" font-size=\"14.00\">y6</text>\n",
       "</g>\n",
       "<!-- dem65&#45;&gt;y6 -->\n",
       "<g id=\"edge12\" class=\"edge\">\n",
       "<title>dem65&#45;&gt;y6</title>\n",
       "<path fill=\"none\" stroke=\"black\" d=\"M298.92,-237.17C319.43,-223.93 342.96,-204.51 354.46,-180 364.14,-159.38 353.22,-135.4 340.94,-117.54\"/>\n",
       "<polygon fill=\"black\" stroke=\"black\" points=\"343.76,-115.47 335,-109.52 338.14,-119.64 343.76,-115.47\"/>\n",
       "</g>\n",
       "<!-- y7 -->\n",
       "<g id=\"node13\" class=\"node\">\n",
       "<title>y7</title>\n",
       "<polygon fill=\"none\" stroke=\"black\" points=\"163.46,-180 109.46,-180 109.46,-144 163.46,-144 163.46,-180\"/>\n",
       "<text text-anchor=\"middle\" x=\"136.46\" y=\"-158.3\" font-family=\"Times,serif\" font-size=\"14.00\">y7</text>\n",
       "</g>\n",
       "<!-- dem65&#45;&gt;y7 -->\n",
       "<g id=\"edge13\" class=\"edge\">\n",
       "<title>dem65&#45;&gt;y7</title>\n",
       "<path fill=\"none\" stroke=\"black\" d=\"M227.63,-231.74C209.28,-217.91 186.73,-200.9 168.64,-187.26\"/>\n",
       "<polygon fill=\"black\" stroke=\"black\" points=\"170.94,-184.61 160.84,-181.39 166.72,-190.2 170.94,-184.61\"/>\n",
       "</g>\n",
       "<!-- y8 -->\n",
       "<g id=\"node14\" class=\"node\">\n",
       "<title>y8</title>\n",
       "<polygon fill=\"none\" stroke=\"black\" points=\"345.46,-180 291.46,-180 291.46,-144 345.46,-144 345.46,-180\"/>\n",
       "<text text-anchor=\"middle\" x=\"318.46\" y=\"-158.3\" font-family=\"Times,serif\" font-size=\"14.00\">y8</text>\n",
       "</g>\n",
       "<!-- dem65&#45;&gt;y8 -->\n",
       "<g id=\"edge14\" class=\"edge\">\n",
       "<title>dem65&#45;&gt;y8</title>\n",
       "<path fill=\"none\" stroke=\"black\" d=\"M283.17,-221.35C289.48,-210.92 296.25,-199.72 302.16,-189.95\"/>\n",
       "<polygon fill=\"black\" stroke=\"black\" points=\"304.99,-192.03 307.17,-181.66 299,-188.41 304.99,-192.03\"/>\n",
       "</g>\n",
       "<!-- dem60 -->\n",
       "<g id=\"node2\" class=\"node\">\n",
       "<title>dem60</title>\n",
       "<ellipse fill=\"#cae6df\" stroke=\"black\" cx=\"108.46\" cy=\"-378.74\" rx=\"42.49\" ry=\"42.49\"/>\n",
       "<text text-anchor=\"middle\" x=\"108.46\" y=\"-375.04\" font-family=\"Times,serif\" font-size=\"14.00\">dem60</text>\n",
       "</g>\n",
       "<!-- dem60&#45;&gt;dem65 -->\n",
       "<g id=\"edge3\" class=\"edge\">\n",
       "<title>dem60&#45;&gt;dem65</title>\n",
       "<path fill=\"none\" stroke=\"black\" d=\"M141.66,-352.03C164.34,-334.46 194.58,-311.04 219.01,-292.12\"/>\n",
       "<polygon fill=\"black\" stroke=\"black\" points=\"221.1,-294.93 226.87,-286.04 216.82,-289.39 221.1,-294.93\"/>\n",
       "</g>\n",
       "<!-- y1 -->\n",
       "<g id=\"node7\" class=\"node\">\n",
       "<title>y1</title>\n",
       "<polygon fill=\"none\" stroke=\"black\" points=\"186.46,-108 132.46,-108 132.46,-72 186.46,-72 186.46,-108\"/>\n",
       "<text text-anchor=\"middle\" x=\"159.46\" y=\"-86.3\" font-family=\"Times,serif\" font-size=\"14.00\">y1</text>\n",
       "</g>\n",
       "<!-- dem60&#45;&gt;y1 -->\n",
       "<g id=\"edge7\" class=\"edge\">\n",
       "<title>dem60&#45;&gt;y1</title>\n",
       "<path fill=\"none\" stroke=\"black\" d=\"M96.84,-337.67C85.1,-289.43 72.35,-207.04 100.46,-144 105.43,-132.85 114.04,-123.07 123.16,-115.04\"/>\n",
       "<polygon fill=\"black\" stroke=\"black\" points=\"125.23,-117.87 130.79,-108.85 120.82,-112.43 125.23,-117.87\"/>\n",
       "</g>\n",
       "<!-- y2 -->\n",
       "<g id=\"node8\" class=\"node\">\n",
       "<title>y2</title>\n",
       "<polygon fill=\"none\" stroke=\"black\" points=\"268.46,-36 214.46,-36 214.46,0 268.46,0 268.46,-36\"/>\n",
       "<text text-anchor=\"middle\" x=\"241.46\" y=\"-14.3\" font-family=\"Times,serif\" font-size=\"14.00\">y2</text>\n",
       "</g>\n",
       "<!-- dem60&#45;&gt;y2 -->\n",
       "<g id=\"edge8\" class=\"edge\">\n",
       "<title>dem60&#45;&gt;y2</title>\n",
       "<path fill=\"none\" stroke=\"black\" d=\"M80.71,-346.39C70.46,-333.11 59.81,-316.92 53.46,-300.49 16.66,-205.29 -32.31,-152.48 30.46,-72 51.45,-45.09 147.97,-29.76 202.91,-23.07\"/>\n",
       "<polygon fill=\"black\" stroke=\"black\" points=\"203.26,-26.55 212.79,-21.91 202.45,-19.6 203.26,-26.55\"/>\n",
       "</g>\n",
       "<!-- y3 -->\n",
       "<g id=\"node9\" class=\"node\">\n",
       "<title>y3</title>\n",
       "<polygon fill=\"none\" stroke=\"black\" points=\"93.46,-108 39.46,-108 39.46,-72 93.46,-72 93.46,-108\"/>\n",
       "<text text-anchor=\"middle\" x=\"66.46\" y=\"-86.3\" font-family=\"Times,serif\" font-size=\"14.00\">y3</text>\n",
       "</g>\n",
       "<!-- dem60&#45;&gt;y3 -->\n",
       "<g id=\"edge9\" class=\"edge\">\n",
       "<title>dem60&#45;&gt;y3</title>\n",
       "<path fill=\"none\" stroke=\"black\" d=\"M85.25,-342.66C78.09,-329.92 71.13,-315.07 67.46,-300.49 51.63,-237.54 57.38,-160.55 62.32,-119.69\"/>\n",
       "<polygon fill=\"black\" stroke=\"black\" points=\"65.77,-120.32 63.58,-109.96 58.83,-119.43 65.77,-120.32\"/>\n",
       "</g>\n",
       "<!-- y4 -->\n",
       "<g id=\"node10\" class=\"node\">\n",
       "<title>y4</title>\n",
       "<polygon fill=\"none\" stroke=\"black\" points=\"268.46,-108 214.46,-108 214.46,-72 268.46,-72 268.46,-108\"/>\n",
       "<text text-anchor=\"middle\" x=\"241.46\" y=\"-86.3\" font-family=\"Times,serif\" font-size=\"14.00\">y4</text>\n",
       "</g>\n",
       "<!-- dem60&#45;&gt;y4 -->\n",
       "<g id=\"edge10\" class=\"edge\">\n",
       "<title>dem60&#45;&gt;y4</title>\n",
       "<path fill=\"none\" stroke=\"black\" d=\"M123.88,-338.63C142.76,-291.68 176.45,-210.9 210.46,-144 214.81,-135.45 219.93,-126.36 224.74,-118.17\"/>\n",
       "<polygon fill=\"black\" stroke=\"black\" points=\"227.69,-120.06 229.82,-109.68 221.69,-116.46 227.69,-120.06\"/>\n",
       "</g>\n",
       "<!-- ind60 -->\n",
       "<g id=\"node3\" class=\"node\">\n",
       "<title>ind60</title>\n",
       "<ellipse fill=\"#cae6df\" stroke=\"black\" cx=\"288.46\" cy=\"-494.03\" rx=\"37.09\" ry=\"37.09\"/>\n",
       "<text text-anchor=\"middle\" x=\"288.46\" y=\"-490.33\" font-family=\"Times,serif\" font-size=\"14.00\">ind60</text>\n",
       "</g>\n",
       "<!-- ind60&#45;&gt;dem65 -->\n",
       "<g id=\"edge2\" class=\"edge\">\n",
       "<title>ind60&#45;&gt;dem65</title>\n",
       "<path fill=\"none\" stroke=\"black\" d=\"M268.99,-461.96C262.37,-449.68 255.8,-435.14 252.46,-420.99 244.01,-385.15 246.55,-343.67 251.06,-311.68\"/>\n",
       "<polygon fill=\"black\" stroke=\"black\" points=\"254.51,-312.27 252.56,-301.85 247.59,-311.21 254.51,-312.27\"/>\n",
       "</g>\n",
       "<!-- ind60&#45;&gt;dem60 -->\n",
       "<g id=\"edge1\" class=\"edge\">\n",
       "<title>ind60&#45;&gt;dem60</title>\n",
       "<path fill=\"none\" stroke=\"black\" d=\"M257.11,-473.3C228.53,-455.31 186,-428.54 153.74,-408.24\"/>\n",
       "<polygon fill=\"black\" stroke=\"black\" points=\"155.69,-405.33 145.36,-402.97 151.96,-411.26 155.69,-405.33\"/>\n",
       "</g>\n",
       "<!-- x1 -->\n",
       "<g id=\"node4\" class=\"node\">\n",
       "<title>x1</title>\n",
       "<polygon fill=\"none\" stroke=\"black\" points=\"315.46,-396.74 261.46,-396.74 261.46,-360.74 315.46,-360.74 315.46,-396.74\"/>\n",
       "<text text-anchor=\"middle\" x=\"288.46\" y=\"-375.04\" font-family=\"Times,serif\" font-size=\"14.00\">x1</text>\n",
       "</g>\n",
       "<!-- ind60&#45;&gt;x1 -->\n",
       "<g id=\"edge4\" class=\"edge\">\n",
       "<title>ind60&#45;&gt;x1</title>\n",
       "<path fill=\"none\" stroke=\"black\" d=\"M288.46,-456.56C288.46,-441 288.46,-423.09 288.46,-408.49\"/>\n",
       "<polygon fill=\"black\" stroke=\"black\" points=\"291.96,-408.63 288.46,-398.63 284.96,-408.63 291.96,-408.63\"/>\n",
       "</g>\n",
       "<!-- x2 -->\n",
       "<g id=\"node5\" class=\"node\">\n",
       "<title>x2</title>\n",
       "<polygon fill=\"none\" stroke=\"black\" points=\"387.46,-396.74 333.46,-396.74 333.46,-360.74 387.46,-360.74 387.46,-396.74\"/>\n",
       "<text text-anchor=\"middle\" x=\"360.46\" y=\"-375.04\" font-family=\"Times,serif\" font-size=\"14.00\">x2</text>\n",
       "</g>\n",
       "<!-- ind60&#45;&gt;x2 -->\n",
       "<g id=\"edge5\" class=\"edge\">\n",
       "<title>ind60&#45;&gt;x2</title>\n",
       "<path fill=\"none\" stroke=\"black\" d=\"M308.13,-462.07C319.17,-444.71 332.8,-423.27 343.38,-406.61\"/>\n",
       "<polygon fill=\"black\" stroke=\"black\" points=\"346.3,-408.54 348.71,-398.22 340.39,-404.79 346.3,-408.54\"/>\n",
       "</g>\n",
       "<!-- x3 -->\n",
       "<g id=\"node6\" class=\"node\">\n",
       "<title>x3</title>\n",
       "<polygon fill=\"none\" stroke=\"black\" points=\"459.46,-396.74 405.46,-396.74 405.46,-360.74 459.46,-360.74 459.46,-396.74\"/>\n",
       "<text text-anchor=\"middle\" x=\"432.46\" y=\"-375.04\" font-family=\"Times,serif\" font-size=\"14.00\">x3</text>\n",
       "</g>\n",
       "<!-- ind60&#45;&gt;x3 -->\n",
       "<g id=\"edge6\" class=\"edge\">\n",
       "<title>ind60&#45;&gt;x3</title>\n",
       "<path fill=\"none\" stroke=\"black\" d=\"M320.29,-474.89C342.68,-461.4 372.75,-441.81 396.46,-420.99 401.67,-416.4 406.84,-411.08 411.57,-405.81\"/>\n",
       "<polygon fill=\"black\" stroke=\"black\" points=\"414.18,-408.14 418.05,-398.28 408.87,-403.58 414.18,-408.14\"/>\n",
       "</g>\n",
       "<!-- y4&#45;&gt;y2 -->\n",
       "<g id=\"edge16\" class=\"edge\">\n",
       "<title>y4&#45;&gt;y2</title>\n",
       "<path fill=\"none\" stroke=\"black\" stroke-dasharray=\"5,2\" d=\"M241.46,-60.24C241.46,-56.01 241.46,-51.66 241.46,-47.44\"/>\n",
       "<polygon fill=\"black\" stroke=\"black\" points=\"237.96,-60.18 241.46,-70.18 244.96,-60.18 237.96,-60.18\"/>\n",
       "<polygon fill=\"black\" stroke=\"black\" points=\"244.96,-47.62 241.46,-37.62 237.96,-47.62 244.96,-47.62\"/>\n",
       "</g>\n",
       "<!-- y5&#45;&gt;y1 -->\n",
       "<g id=\"edge15\" class=\"edge\">\n",
       "<title>y5&#45;&gt;y1</title>\n",
       "<path fill=\"none\" stroke=\"black\" stroke-dasharray=\"5,2\" d=\"M216.05,-136.53C207.57,-129.71 198.35,-122.29 189.87,-115.47\"/>\n",
       "<polygon fill=\"black\" stroke=\"black\" points=\"213.79,-139.21 223.77,-142.75 218.18,-133.75 213.79,-139.21\"/>\n",
       "<polygon fill=\"black\" stroke=\"black\" points=\"192.18,-112.84 182.2,-109.3 187.8,-118.29 192.18,-112.84\"/>\n",
       "</g>\n",
       "<!-- y6&#45;&gt;y2 -->\n",
       "<g id=\"edge17\" class=\"edge\">\n",
       "<title>y6&#45;&gt;y2</title>\n",
       "<path fill=\"none\" stroke=\"black\" stroke-dasharray=\"5,2\" d=\"M290.94,-63.98C283.7,-57.4 275.9,-50.31 268.68,-43.75\"/>\n",
       "<polygon fill=\"black\" stroke=\"black\" points=\"288.55,-66.54 298.31,-70.68 293.26,-61.36 288.55,-66.54\"/>\n",
       "<polygon fill=\"black\" stroke=\"black\" points=\"271.42,-41.5 261.66,-37.37 266.71,-46.68 271.42,-41.5\"/>\n",
       "</g>\n",
       "<!-- y7&#45;&gt;y3 -->\n",
       "<g id=\"edge18\" class=\"edge\">\n",
       "<title>y7&#45;&gt;y3</title>\n",
       "<path fill=\"none\" stroke=\"black\" stroke-dasharray=\"5,2\" d=\"M111.1,-135.64C104.66,-129.2 97.76,-122.3 91.35,-115.89\"/>\n",
       "<polygon fill=\"black\" stroke=\"black\" points=\"108.54,-138.03 118.09,-142.63 113.49,-133.08 108.54,-138.03\"/>\n",
       "<polygon fill=\"black\" stroke=\"black\" points=\"94.18,-113.77 84.63,-109.17 89.23,-118.72 94.18,-113.77\"/>\n",
       "</g>\n",
       "<!-- y8&#45;&gt;y4 -->\n",
       "<g id=\"edge19\" class=\"edge\">\n",
       "<title>y8&#45;&gt;y4</title>\n",
       "<path fill=\"none\" stroke=\"black\" stroke-dasharray=\"5,2\" d=\"M290.94,-135.98C283.7,-129.4 275.9,-122.31 268.68,-115.75\"/>\n",
       "<polygon fill=\"black\" stroke=\"black\" points=\"288.55,-138.54 298.31,-142.68 293.26,-133.36 288.55,-138.54\"/>\n",
       "<polygon fill=\"black\" stroke=\"black\" points=\"271.42,-113.5 261.66,-109.37 266.71,-118.68 271.42,-113.5\"/>\n",
       "</g>\n",
       "<!-- y8&#45;&gt;y6 -->\n",
       "<g id=\"edge20\" class=\"edge\">\n",
       "<title>y8&#45;&gt;y6</title>\n",
       "<path fill=\"none\" stroke=\"black\" stroke-dasharray=\"5,2\" d=\"M318.46,-132.24C318.46,-128.01 318.46,-123.66 318.46,-119.44\"/>\n",
       "<polygon fill=\"black\" stroke=\"black\" points=\"314.96,-132.18 318.46,-142.18 321.96,-132.18 314.96,-132.18\"/>\n",
       "<polygon fill=\"black\" stroke=\"black\" points=\"321.96,-119.62 318.46,-109.62 314.96,-119.62 321.96,-119.62\"/>\n",
       "</g>\n",
       "</g>\n",
       "</svg>\n"
      ],
      "text/plain": [
       "<graphviz.graphs.Digraph at 0x7ff5659a0f10>"
      ]
     },
     "execution_count": 15,
     "metadata": {},
     "output_type": "execute_result"
    }
   ],
   "source": [
    "struct_desc = \"\"\"\n",
    "# Measurement\n",
    "ind60 =~ x1 + x2 + x3\n",
    "dem60 =~ y1 + y2 + y3 + y4\n",
    "dem65 =~ y5 + y6 + y7 + y8\n",
    "\n",
    "# Structure\n",
    "dem60 ~ ind60\n",
    "dem65 ~ ind60 + dem60\n",
    "\n",
    "# Covariances\n",
    "y1 ~~ y5\n",
    "y2 ~~ y4 + y6\n",
    "y3 ~~ y7\n",
    "y4 ~~ y8\n",
    "y6 ~~ y8\n",
    "\n",
    "\"\"\"\n",
    "\n",
    "g = semopy.semplot(struct_desc, \"out.png\", plot_covs=True)\n",
    "g"
   ]
  },
  {
   "cell_type": "markdown",
   "metadata": {
    "slideshow": {
     "slide_type": "fragment"
    }
   },
   "source": [
    "En nuestro ejemplo especificamos que `dem65` depende de `dem60` y `ind60`. A su vez, `dem60` depende de `ind60` . Por otra parte, encontramos covariaciones específicas entre las variables endógenas."
   ]
  },
  {
   "cell_type": "markdown",
   "metadata": {
    "slideshow": {
     "slide_type": "slide"
    }
   },
   "source": [
    "Aunque el enfoque en esta etapa está en el modelo estructural, **la estimación del modelo SEM requiere que también se incluyan las especificaciones de medición**. De esta manera, el diagrama de ruta representa tanto la medición como la parte estructural de SEM en un modelo general.\n",
    "\n",
    "El modelo ya está listo para su estimación. Esto se convierte en la prueba de la teoría general, que incluye tanto las relaciones de medición de los indicadores con los constructos, como las relaciones estructurales hipotetizadas entre los constructos."
   ]
  },
  {
   "cell_type": "markdown",
   "metadata": {
    "slideshow": {
     "slide_type": "slide"
    }
   },
   "source": [
    "## Validez del modelo estructural\n",
    "\n",
    "Implica esfuerzos para **probar la validez del modelo estructural teórico propuesto y examinar las relaciones teóricas incrustadas dentro de esa teoría**.\n",
    "\n",
    "Si el modelo de medición no ha sobrevivido a sus pruebas de ajuste y otros aspectos de validez, no se recomienda evaluar un modelo estructural porque los resultados sugieren que la teoría de medición propuesta es defectuosa. De hecho, si uno no logra un ajuste aceptable para el modelo de medición, el ajuste del modelo no mejorará cuando se agreguen restricciones para representar el modelo estructural teórico.\n",
    "\n",
    "**Solo cuando el modelo de medición se valida por primera vez y logra un ajuste de modelo aceptable, podemos dirigir nuestra atención a una prueba de las relaciones estructurales**.\n"
   ]
  },
  {
   "cell_type": "markdown",
   "metadata": {
    "slideshow": {
     "slide_type": "subslide"
    }
   },
   "source": [
    "Surgen dos diferencias clave al probar el ajuste de un modelo estructural en relación con un modelo de medición. \n",
    "\n",
    "En primer lugar, aunque se debe volver a establecer un ajuste general aceptable del modelo, **se fomentan modelos teóricos alternativos o competidores para respaldar la superioridad de un modelo**. \n",
    "\n",
    "En segundo lugar, **las estimaciones de los parámetros para las relaciones estructurales se convierten en un foco si el ajuste es suficiente porque proporcionan evidencia empírica directa relacionada con las relaciones hipotéticas implícitas en el modelo teórico propuesto**."
   ]
  },
  {
   "cell_type": "markdown",
   "metadata": {
    "slideshow": {
     "slide_type": "subslide"
    }
   },
   "source": [
    "El proceso de establecer la validez del modelo estructural sigue las pautas generales descritas para el modelo de medición. Los datos observados todavía están representados por la matriz de covarianza de la muestra observada. Sin embargo, **se calcula una nueva matriz de covarianza estimada de SEM en función de las restricciones agregadas al modelo de medición necesarias para convertirlo en el modelo estructural propuesto**.\n",
    "\n",
    "**El ajuste general se puede evaluar utilizando los mismos criterios que el modelo de medición**: utilizando el valor $ X^{2} $ para el modelo estructural y al menos un índice absoluto y un índice incremental. \n",
    "\n",
    "Estas medidas establecen la validez del modelo estructural, pero las comparaciones entre el ajuste general también deben realizarse con el modelo de medición. Generalmente, **cuanto más se acerca el modelo estructural GOF al modelo de medición, mejor se ajusta al modelo estructural, porque el ajuste del modelo de medición proporciona un límite superior al GOF de un modelo estructural convencional**."
   ]
  },
  {
   "cell_type": "markdown",
   "metadata": {
    "slideshow": {
     "slide_type": "subslide"
    }
   },
   "source": [
    "También debemos **examinar las estimaciones de los parámetros individuales que representan cada vínculo o \"ruta\"**. Las rutas ilimitadas de un modelo teórico se consideran válidas en la medida en que las estimaciones de los parámetros sean:\n",
    "- **Estadísticamente significativo y en la dirección prevista**. Es decir, son mayores que cero para una relación positiva y menores que cero para una relación negativa.\n",
    "- **No trivial**. Se debe verificar la importancia práctica de los tamaños del efecto utilizando estimaciones de carga completamente estandarizadas. Los coeficientes pueden ser estadísticamente significativos pero prácticamente insignificantes, sobre todo a medida que las muestras aumentan de tamaño."
   ]
  },
  {
   "cell_type": "markdown",
   "metadata": {
    "slideshow": {
     "slide_type": "slide"
    }
   },
   "source": [
    "Validemos el modelo estructural de nuestro ejemplo:"
   ]
  },
  {
   "cell_type": "code",
   "execution_count": 10,
   "metadata": {
    "hideCode": false,
    "slideshow": {
     "slide_type": "skip"
    }
   },
   "outputs": [],
   "source": [
    "struct_model = semopy.Model(struct_desc)\n",
    "res = struct_model.fit(df)"
   ]
  },
  {
   "cell_type": "code",
   "execution_count": 11,
   "metadata": {
    "hideCode": true,
    "slideshow": {
     "slide_type": "fragment"
    }
   },
   "outputs": [
    {
     "name": "stdout",
     "output_type": "stream",
     "text": [
      "                    Value\n",
      "DoF             41.000000\n",
      "DoF Baseline    55.000000\n",
      "chi2            72.461786\n",
      "chi2 p-value     0.001761\n",
      "chi2 Baseline  730.654577\n",
      "CFI              0.953435\n",
      "GFI              0.900826\n",
      "AGFI             0.866962\n",
      "NFI              0.900826\n",
      "TLI              0.937535\n",
      "RMSEA            0.101832\n",
      "AIC             48.067686\n",
      "BIC            106.004889\n",
      "LogLik           0.966157\n"
     ]
    }
   ],
   "source": [
    "stats = semopy.calc_stats(struct_model)\n",
    "print(stats.T)"
   ]
  },
  {
   "cell_type": "markdown",
   "metadata": {
    "slideshow": {
     "slide_type": "fragment"
    }
   },
   "source": [
    "El modelo estructural presenta un muy buen ajuste. De hecho podemos apreciar mejoras en los indicadores $X^{2}$, CFI y RMSEA en comparación al modelo de medición."
   ]
  },
  {
   "cell_type": "markdown",
   "metadata": {
    "slideshow": {
     "slide_type": "subslide"
    }
   },
   "source": [
    "Procedamos ahora a examinar las estimaciones de los parámetros:"
   ]
  },
  {
   "cell_type": "code",
   "execution_count": 14,
   "metadata": {
    "hideCode": true,
    "slideshow": {
     "slide_type": "fragment"
    }
   },
   "outputs": [
    {
     "data": {
      "image/svg+xml": [
       "<?xml version=\"1.0\" encoding=\"UTF-8\" standalone=\"no\"?>\n",
       "<!DOCTYPE svg PUBLIC \"-//W3C//DTD SVG 1.1//EN\"\n",
       " \"http://www.w3.org/Graphics/SVG/1.1/DTD/svg11.dtd\">\n",
       "<!-- Generated by graphviz version 7.0.1 (0)\n",
       " -->\n",
       "<!-- Title: G Pages: 1 -->\n",
       "<svg width=\"575pt\" height=\"473pt\"\n",
       " viewBox=\"0.00 0.00 575.00 473.08\" xmlns=\"http://www.w3.org/2000/svg\" xmlns:xlink=\"http://www.w3.org/1999/xlink\">\n",
       "<g id=\"graph0\" class=\"graph\" transform=\"scale(1 1) rotate(0) translate(4 469.08)\">\n",
       "<title>G</title>\n",
       "<polygon fill=\"white\" stroke=\"none\" points=\"-4,4 -4,-469.08 571,-469.08 571,4 -4,4\"/>\n",
       "<!-- dem65 -->\n",
       "<g id=\"node1\" class=\"node\">\n",
       "<title>dem65</title>\n",
       "<ellipse fill=\"#cae6df\" stroke=\"black\" cx=\"142\" cy=\"-140.25\" rx=\"42.49\" ry=\"42.49\"/>\n",
       "<text text-anchor=\"middle\" x=\"142\" y=\"-136.55\" font-family=\"Times,serif\" font-size=\"14.00\">dem65</text>\n",
       "</g>\n",
       "<!-- y5 -->\n",
       "<g id=\"node11\" class=\"node\">\n",
       "<title>y5</title>\n",
       "<polygon fill=\"none\" stroke=\"black\" points=\"54,-36 0,-36 0,0 54,0 54,-36\"/>\n",
       "<text text-anchor=\"middle\" x=\"27\" y=\"-14.3\" font-family=\"Times,serif\" font-size=\"14.00\">y5</text>\n",
       "</g>\n",
       "<!-- dem65&#45;&gt;y5 -->\n",
       "<g id=\"edge11\" class=\"edge\">\n",
       "<title>dem65&#45;&gt;y5</title>\n",
       "<path fill=\"none\" stroke=\"black\" d=\"M105.13,-118.29C89.55,-108.15 72.03,-94.95 59,-80 50.51,-70.26 43.49,-57.89 38.21,-46.83\"/>\n",
       "<polygon fill=\"black\" stroke=\"black\" points=\"41.42,-45.43 34.14,-37.74 35.03,-48.3 41.42,-45.43\"/>\n",
       "<text text-anchor=\"middle\" x=\"76\" y=\"-63.9\" font-family=\"Times,serif\" font-size=\"12.00\">0.803</text>\n",
       "</g>\n",
       "<!-- y6 -->\n",
       "<g id=\"node12\" class=\"node\">\n",
       "<title>y6</title>\n",
       "<polygon fill=\"none\" stroke=\"black\" points=\"126,-36 72,-36 72,0 126,0 126,-36\"/>\n",
       "<text text-anchor=\"middle\" x=\"99\" y=\"-14.3\" font-family=\"Times,serif\" font-size=\"14.00\">y6</text>\n",
       "</g>\n",
       "<!-- dem65&#45;&gt;y6 -->\n",
       "<g id=\"edge12\" class=\"edge\">\n",
       "<title>dem65&#45;&gt;y6</title>\n",
       "<path fill=\"none\" stroke=\"black\" d=\"M114.41,-107.65C108.55,-99.2 103.18,-89.71 100,-80 96.66,-69.8 95.81,-58.12 96,-47.72\"/>\n",
       "<polygon fill=\"black\" stroke=\"black\" points=\"99.49,-47.96 96.53,-37.79 92.5,-47.59 99.49,-47.96\"/>\n",
       "<text text-anchor=\"middle\" x=\"132\" y=\"-70.4\" font-family=\"Times,serif\" font-size=\"12.00\">0.783</text>\n",
       "<text text-anchor=\"middle\" x=\"132\" y=\"-57.4\" font-family=\"Times,serif\" font-size=\"12.00\">p&#45;val: 0.00</text>\n",
       "</g>\n",
       "<!-- y7 -->\n",
       "<g id=\"node13\" class=\"node\">\n",
       "<title>y7</title>\n",
       "<polygon fill=\"none\" stroke=\"black\" points=\"213,-36 159,-36 159,0 213,0 213,-36\"/>\n",
       "<text text-anchor=\"middle\" x=\"186\" y=\"-14.3\" font-family=\"Times,serif\" font-size=\"14.00\">y7</text>\n",
       "</g>\n",
       "<!-- dem65&#45;&gt;y7 -->\n",
       "<g id=\"edge13\" class=\"edge\">\n",
       "<title>dem65&#45;&gt;y7</title>\n",
       "<path fill=\"none\" stroke=\"black\" d=\"M156.61,-100.07C159.09,-93.38 161.62,-86.49 164,-80 167.95,-69.21 172.25,-57.32 175.99,-46.93\"/>\n",
       "<polygon fill=\"black\" stroke=\"black\" points=\"179.18,-48.39 179.27,-37.79 172.6,-46.02 179.18,-48.39\"/>\n",
       "<text text-anchor=\"middle\" x=\"206\" y=\"-70.4\" font-family=\"Times,serif\" font-size=\"12.00\">0.819</text>\n",
       "<text text-anchor=\"middle\" x=\"206\" y=\"-57.4\" font-family=\"Times,serif\" font-size=\"12.00\">p&#45;val: 0.00</text>\n",
       "</g>\n",
       "<!-- y8 -->\n",
       "<g id=\"node14\" class=\"node\">\n",
       "<title>y8</title>\n",
       "<polygon fill=\"none\" stroke=\"black\" points=\"300,-36 246,-36 246,0 300,0 300,-36\"/>\n",
       "<text text-anchor=\"middle\" x=\"273\" y=\"-14.3\" font-family=\"Times,serif\" font-size=\"14.00\">y8</text>\n",
       "</g>\n",
       "<!-- dem65&#45;&gt;y8 -->\n",
       "<g id=\"edge14\" class=\"edge\">\n",
       "<title>dem65&#45;&gt;y8</title>\n",
       "<path fill=\"none\" stroke=\"black\" d=\"M177.61,-116.85C187.69,-110.64 198.72,-103.96 209,-98 223.45,-89.62 230.36,-91.98 242,-80 251,-70.73 257.95,-58.33 262.96,-47.13\"/>\n",
       "<polygon fill=\"black\" stroke=\"black\" points=\"266.2,-48.47 266.76,-37.89 259.72,-45.81 266.2,-48.47\"/>\n",
       "<text text-anchor=\"middle\" x=\"290\" y=\"-70.4\" font-family=\"Times,serif\" font-size=\"12.00\">0.847</text>\n",
       "<text text-anchor=\"middle\" x=\"290\" y=\"-57.4\" font-family=\"Times,serif\" font-size=\"12.00\">p&#45;val: 0.00</text>\n",
       "</g>\n",
       "<!-- dem60 -->\n",
       "<g id=\"node2\" class=\"node\">\n",
       "<title>dem60</title>\n",
       "<ellipse fill=\"#cae6df\" stroke=\"black\" cx=\"282\" cy=\"-286.74\" rx=\"42.49\" ry=\"42.49\"/>\n",
       "<text text-anchor=\"middle\" x=\"282\" y=\"-283.04\" font-family=\"Times,serif\" font-size=\"14.00\">dem60</text>\n",
       "</g>\n",
       "<!-- dem60&#45;&gt;dem65 -->\n",
       "<g id=\"edge3\" class=\"edge\">\n",
       "<title>dem60&#45;&gt;dem65</title>\n",
       "<path fill=\"none\" stroke=\"black\" d=\"M243.51,-268.58C224.11,-258.48 201.32,-244.19 185,-226.49 175.52,-216.21 167.62,-203.45 161.28,-190.95\"/>\n",
       "<polygon fill=\"black\" stroke=\"black\" points=\"164.45,-189.46 156.98,-181.95 158.13,-192.48 164.45,-189.46\"/>\n",
       "<text text-anchor=\"middle\" x=\"217\" y=\"-216.89\" font-family=\"Times,serif\" font-size=\"12.00\">0.913</text>\n",
       "<text text-anchor=\"middle\" x=\"217\" y=\"-203.89\" font-family=\"Times,serif\" font-size=\"12.00\">p&#45;val: 0.00</text>\n",
       "</g>\n",
       "<!-- y1 -->\n",
       "<g id=\"node7\" class=\"node\">\n",
       "<title>y1</title>\n",
       "<polygon fill=\"none\" stroke=\"black\" points=\"272,-158.25 218,-158.25 218,-122.25 272,-122.25 272,-158.25\"/>\n",
       "<text text-anchor=\"middle\" x=\"245\" y=\"-136.55\" font-family=\"Times,serif\" font-size=\"14.00\">y1</text>\n",
       "</g>\n",
       "<!-- dem60&#45;&gt;y1 -->\n",
       "<g id=\"edge7\" class=\"edge\">\n",
       "<title>dem60&#45;&gt;y1</title>\n",
       "<path fill=\"none\" stroke=\"black\" d=\"M264.93,-247.31C262.32,-240.47 259.88,-233.34 258,-226.49 252.89,-207.91 249.64,-186.45 247.66,-169.72\"/>\n",
       "<polygon fill=\"black\" stroke=\"black\" points=\"251.16,-169.54 246.6,-159.98 244.2,-170.3 251.16,-169.54\"/>\n",
       "<text text-anchor=\"middle\" x=\"275\" y=\"-210.39\" font-family=\"Times,serif\" font-size=\"12.00\">0.845</text>\n",
       "</g>\n",
       "<!-- y2 -->\n",
       "<g id=\"node8\" class=\"node\">\n",
       "<title>y2</title>\n",
       "<polygon fill=\"none\" stroke=\"black\" points=\"344,-158.25 290,-158.25 290,-122.25 344,-122.25 344,-158.25\"/>\n",
       "<text text-anchor=\"middle\" x=\"317\" y=\"-136.55\" font-family=\"Times,serif\" font-size=\"14.00\">y2</text>\n",
       "</g>\n",
       "<!-- dem60&#45;&gt;y2 -->\n",
       "<g id=\"edge8\" class=\"edge\">\n",
       "<title>dem60&#45;&gt;y2</title>\n",
       "<path fill=\"none\" stroke=\"black\" d=\"M291.84,-245.11C297.68,-221.02 304.93,-191.09 310.14,-169.56\"/>\n",
       "<polygon fill=\"black\" stroke=\"black\" points=\"313.5,-170.56 312.45,-160.02 306.7,-168.92 313.5,-170.56\"/>\n",
       "<text text-anchor=\"middle\" x=\"334\" y=\"-216.89\" font-family=\"Times,serif\" font-size=\"12.00\">0.760</text>\n",
       "<text text-anchor=\"middle\" x=\"334\" y=\"-203.89\" font-family=\"Times,serif\" font-size=\"12.00\">p&#45;val: 0.00</text>\n",
       "</g>\n",
       "<!-- y3 -->\n",
       "<g id=\"node9\" class=\"node\">\n",
       "<title>y3</title>\n",
       "<polygon fill=\"none\" stroke=\"black\" points=\"423,-158.25 369,-158.25 369,-122.25 423,-122.25 423,-158.25\"/>\n",
       "<text text-anchor=\"middle\" x=\"396\" y=\"-136.55\" font-family=\"Times,serif\" font-size=\"14.00\">y3</text>\n",
       "</g>\n",
       "<!-- dem60&#45;&gt;y3 -->\n",
       "<g id=\"edge9\" class=\"edge\">\n",
       "<title>dem60&#45;&gt;y3</title>\n",
       "<path fill=\"none\" stroke=\"black\" d=\"M313.82,-258.18C320,-253.36 326.56,-248.59 333,-244.49 348.43,-234.68 358.12,-240.4 370,-226.49 383.54,-210.65 390.03,-187.87 393.14,-169.85\"/>\n",
       "<polygon fill=\"black\" stroke=\"black\" points=\"396.59,-170.44 394.55,-160.04 389.66,-169.44 396.59,-170.44\"/>\n",
       "<text text-anchor=\"middle\" x=\"416\" y=\"-216.89\" font-family=\"Times,serif\" font-size=\"12.00\">0.705</text>\n",
       "<text text-anchor=\"middle\" x=\"416\" y=\"-203.89\" font-family=\"Times,serif\" font-size=\"12.00\">p&#45;val: 0.00</text>\n",
       "</g>\n",
       "<!-- y4 -->\n",
       "<g id=\"node10\" class=\"node\">\n",
       "<title>y4</title>\n",
       "<polygon fill=\"none\" stroke=\"black\" points=\"510,-158.25 456,-158.25 456,-122.25 510,-122.25 510,-158.25\"/>\n",
       "<text text-anchor=\"middle\" x=\"483\" y=\"-136.55\" font-family=\"Times,serif\" font-size=\"14.00\">y4</text>\n",
       "</g>\n",
       "<!-- dem60&#45;&gt;y4 -->\n",
       "<g id=\"edge10\" class=\"edge\">\n",
       "<title>dem60&#45;&gt;y4</title>\n",
       "<path fill=\"none\" stroke=\"black\" d=\"M312.65,-256.73C318.99,-251.99 325.91,-247.62 333,-244.49 381.95,-222.92 410.61,-260.38 452,-226.49 468.87,-212.68 476.56,-188.87 480.07,-169.92\"/>\n",
       "<polygon fill=\"black\" stroke=\"black\" points=\"483.52,-170.51 481.56,-160.1 476.6,-169.46 483.52,-170.51\"/>\n",
       "<text text-anchor=\"middle\" x=\"502\" y=\"-216.89\" font-family=\"Times,serif\" font-size=\"12.00\">0.860</text>\n",
       "<text text-anchor=\"middle\" x=\"502\" y=\"-203.89\" font-family=\"Times,serif\" font-size=\"12.00\">p&#45;val: 0.00</text>\n",
       "</g>\n",
       "<!-- ind60 -->\n",
       "<g id=\"node3\" class=\"node\">\n",
       "<title>ind60</title>\n",
       "<ellipse fill=\"#cae6df\" stroke=\"black\" cx=\"369\" cy=\"-428.03\" rx=\"37.09\" ry=\"37.09\"/>\n",
       "<text text-anchor=\"middle\" x=\"369\" y=\"-424.33\" font-family=\"Times,serif\" font-size=\"14.00\">ind60</text>\n",
       "</g>\n",
       "<!-- ind60&#45;&gt;dem65 -->\n",
       "<g id=\"edge2\" class=\"edge\">\n",
       "<title>ind60&#45;&gt;dem65</title>\n",
       "<path fill=\"none\" stroke=\"black\" d=\"M332.33,-420.22C285.77,-409.5 206.72,-383.97 167,-328.99 138.9,-290.09 134.71,-234.53 136.31,-193.94\"/>\n",
       "<polygon fill=\"black\" stroke=\"black\" points=\"139.79,-194.34 136.83,-184.17 132.8,-193.97 139.79,-194.34\"/>\n",
       "<text text-anchor=\"middle\" x=\"199\" y=\"-290.14\" font-family=\"Times,serif\" font-size=\"12.00\">0.146</text>\n",
       "<text text-anchor=\"middle\" x=\"199\" y=\"-277.14\" font-family=\"Times,serif\" font-size=\"12.00\">p&#45;val: 0.04</text>\n",
       "</g>\n",
       "<!-- ind60&#45;&gt;dem60 -->\n",
       "<g id=\"edge1\" class=\"edge\">\n",
       "<title>ind60&#45;&gt;dem60</title>\n",
       "<path fill=\"none\" stroke=\"black\" d=\"M337.16,-408.56C324.1,-399.44 309.96,-387.3 301,-372.99 294.91,-363.25 290.75,-351.81 287.93,-340.53\"/>\n",
       "<polygon fill=\"black\" stroke=\"black\" points=\"291.37,-339.89 285.84,-330.85 284.53,-341.36 291.37,-339.89\"/>\n",
       "<text text-anchor=\"middle\" x=\"333\" y=\"-363.39\" font-family=\"Times,serif\" font-size=\"12.00\">0.448</text>\n",
       "<text text-anchor=\"middle\" x=\"333\" y=\"-350.39\" font-family=\"Times,serif\" font-size=\"12.00\">p&#45;val: 0.00</text>\n",
       "</g>\n",
       "<!-- x1 -->\n",
       "<g id=\"node4\" class=\"node\">\n",
       "<title>x1</title>\n",
       "<polygon fill=\"none\" stroke=\"black\" points=\"396,-304.74 342,-304.74 342,-268.74 396,-268.74 396,-304.74\"/>\n",
       "<text text-anchor=\"middle\" x=\"369\" y=\"-283.04\" font-family=\"Times,serif\" font-size=\"14.00\">x1</text>\n",
       "</g>\n",
       "<!-- ind60&#45;&gt;x1 -->\n",
       "<g id=\"edge4\" class=\"edge\">\n",
       "<title>ind60&#45;&gt;x1</title>\n",
       "<path fill=\"none\" stroke=\"black\" d=\"M369,-390.8C369,-367.64 369,-338.04 369,-316.5\"/>\n",
       "<polygon fill=\"black\" stroke=\"black\" points=\"372.5,-316.67 369,-306.67 365.5,-316.67 372.5,-316.67\"/>\n",
       "<text text-anchor=\"middle\" x=\"386\" y=\"-356.89\" font-family=\"Times,serif\" font-size=\"12.00\">0.920</text>\n",
       "</g>\n",
       "<!-- x2 -->\n",
       "<g id=\"node5\" class=\"node\">\n",
       "<title>x2</title>\n",
       "<polygon fill=\"none\" stroke=\"black\" points=\"468,-304.74 414,-304.74 414,-268.74 468,-268.74 468,-304.74\"/>\n",
       "<text text-anchor=\"middle\" x=\"441\" y=\"-283.04\" font-family=\"Times,serif\" font-size=\"14.00\">x2</text>\n",
       "</g>\n",
       "<!-- ind60&#45;&gt;x2 -->\n",
       "<g id=\"edge5\" class=\"edge\">\n",
       "<title>ind60&#45;&gt;x2</title>\n",
       "<path fill=\"none\" stroke=\"black\" d=\"M391.2,-398.1C396.75,-390.19 402.41,-381.46 407,-372.99 417.02,-354.48 425.75,-332.38 431.85,-315.32\"/>\n",
       "<polygon fill=\"black\" stroke=\"black\" points=\"434.99,-316.95 434.98,-306.35 428.38,-314.65 434.99,-316.95\"/>\n",
       "<text text-anchor=\"middle\" x=\"451\" y=\"-363.39\" font-family=\"Times,serif\" font-size=\"12.00\">0.973</text>\n",
       "<text text-anchor=\"middle\" x=\"451\" y=\"-350.39\" font-family=\"Times,serif\" font-size=\"12.00\">p&#45;val: 0.00</text>\n",
       "</g>\n",
       "<!-- x3 -->\n",
       "<g id=\"node6\" class=\"node\">\n",
       "<title>x3</title>\n",
       "<polygon fill=\"none\" stroke=\"black\" points=\"547,-304.74 493,-304.74 493,-268.74 547,-268.74 547,-304.74\"/>\n",
       "<text text-anchor=\"middle\" x=\"520\" y=\"-283.04\" font-family=\"Times,serif\" font-size=\"14.00\">x3</text>\n",
       "</g>\n",
       "<!-- ind60&#45;&gt;x3 -->\n",
       "<g id=\"edge6\" class=\"edge\">\n",
       "<title>ind60&#45;&gt;x3</title>\n",
       "<path fill=\"none\" stroke=\"black\" d=\"M405.04,-418.37C430.92,-410.46 464.99,-396.36 487,-372.99 501.73,-357.35 510.1,-334.41 514.73,-316.27\"/>\n",
       "<polygon fill=\"black\" stroke=\"black\" points=\"518.12,-317.17 516.92,-306.64 511.29,-315.62 518.12,-317.17\"/>\n",
       "<text text-anchor=\"middle\" x=\"535\" y=\"-363.39\" font-family=\"Times,serif\" font-size=\"12.00\">0.872</text>\n",
       "<text text-anchor=\"middle\" x=\"535\" y=\"-350.39\" font-family=\"Times,serif\" font-size=\"12.00\">p&#45;val: 0.00</text>\n",
       "</g>\n",
       "</g>\n",
       "</svg>\n"
      ],
      "text/plain": [
       "<graphviz.graphs.Digraph at 0x7ff565986c10>"
      ]
     },
     "execution_count": 14,
     "metadata": {},
     "output_type": "execute_result"
    }
   ],
   "source": [
    "g = semopy.semplot(struct_model, \"out.png\", std_ests=True, plot_covs=True)\n",
    "g"
   ]
  },
  {
   "cell_type": "code",
   "execution_count": 13,
   "metadata": {
    "hideCode": true,
    "slideshow": {
     "slide_type": "subslide"
    }
   },
   "outputs": [
    {
     "data": {
      "text/html": [
       "<div>\n",
       "<style scoped>\n",
       "    .dataframe tbody tr th:only-of-type {\n",
       "        vertical-align: middle;\n",
       "    }\n",
       "\n",
       "    .dataframe tbody tr th {\n",
       "        vertical-align: top;\n",
       "    }\n",
       "\n",
       "    .dataframe thead th {\n",
       "        text-align: right;\n",
       "    }\n",
       "</style>\n",
       "<table border=\"1\" class=\"dataframe\">\n",
       "  <thead>\n",
       "    <tr style=\"text-align: right;\">\n",
       "      <th></th>\n",
       "      <th>lval</th>\n",
       "      <th>op</th>\n",
       "      <th>rval</th>\n",
       "      <th>Estimate</th>\n",
       "      <th>Est. Std</th>\n",
       "      <th>Std. Err</th>\n",
       "      <th>z-value</th>\n",
       "      <th>p-value</th>\n",
       "    </tr>\n",
       "  </thead>\n",
       "  <tbody>\n",
       "    <tr>\n",
       "      <th>0</th>\n",
       "      <td>dem60</td>\n",
       "      <td>~</td>\n",
       "      <td>ind60</td>\n",
       "      <td>1.471978</td>\n",
       "      <td>0.448049</td>\n",
       "      <td>0.391448</td>\n",
       "      <td>3.760338</td>\n",
       "      <td>0.00017</td>\n",
       "    </tr>\n",
       "    <tr>\n",
       "      <th>1</th>\n",
       "      <td>dem65</td>\n",
       "      <td>~</td>\n",
       "      <td>ind60</td>\n",
       "      <td>0.453036</td>\n",
       "      <td>0.145555</td>\n",
       "      <td>0.219667</td>\n",
       "      <td>2.062374</td>\n",
       "      <td>0.039172</td>\n",
       "    </tr>\n",
       "    <tr>\n",
       "      <th>2</th>\n",
       "      <td>dem65</td>\n",
       "      <td>~</td>\n",
       "      <td>dem60</td>\n",
       "      <td>0.864819</td>\n",
       "      <td>0.912845</td>\n",
       "      <td>0.112851</td>\n",
       "      <td>7.663352</td>\n",
       "      <td>0.0</td>\n",
       "    </tr>\n",
       "    <tr>\n",
       "      <th>3</th>\n",
       "      <td>x1</td>\n",
       "      <td>~</td>\n",
       "      <td>ind60</td>\n",
       "      <td>1.000000</td>\n",
       "      <td>0.919515</td>\n",
       "      <td>-</td>\n",
       "      <td>-</td>\n",
       "      <td>-</td>\n",
       "    </tr>\n",
       "    <tr>\n",
       "      <th>4</th>\n",
       "      <td>x2</td>\n",
       "      <td>~</td>\n",
       "      <td>ind60</td>\n",
       "      <td>2.181861</td>\n",
       "      <td>0.973363</td>\n",
       "      <td>0.138883</td>\n",
       "      <td>15.710031</td>\n",
       "      <td>0.0</td>\n",
       "    </tr>\n",
       "    <tr>\n",
       "      <th>5</th>\n",
       "      <td>x3</td>\n",
       "      <td>~</td>\n",
       "      <td>ind60</td>\n",
       "      <td>1.818795</td>\n",
       "      <td>0.871948</td>\n",
       "      <td>0.152165</td>\n",
       "      <td>11.952787</td>\n",
       "      <td>0.0</td>\n",
       "    </tr>\n",
       "    <tr>\n",
       "      <th>6</th>\n",
       "      <td>y1</td>\n",
       "      <td>~</td>\n",
       "      <td>dem60</td>\n",
       "      <td>1.000000</td>\n",
       "      <td>0.844599</td>\n",
       "      <td>-</td>\n",
       "      <td>-</td>\n",
       "      <td>-</td>\n",
       "    </tr>\n",
       "    <tr>\n",
       "      <th>7</th>\n",
       "      <td>y2</td>\n",
       "      <td>~</td>\n",
       "      <td>dem60</td>\n",
       "      <td>1.354681</td>\n",
       "      <td>0.759921</td>\n",
       "      <td>0.174862</td>\n",
       "      <td>7.74712</td>\n",
       "      <td>0.0</td>\n",
       "    </tr>\n",
       "    <tr>\n",
       "      <th>8</th>\n",
       "      <td>y3</td>\n",
       "      <td>~</td>\n",
       "      <td>dem60</td>\n",
       "      <td>1.044448</td>\n",
       "      <td>0.704756</td>\n",
       "      <td>0.150214</td>\n",
       "      <td>6.953071</td>\n",
       "      <td>0.0</td>\n",
       "    </tr>\n",
       "    <tr>\n",
       "      <th>9</th>\n",
       "      <td>y4</td>\n",
       "      <td>~</td>\n",
       "      <td>dem60</td>\n",
       "      <td>1.300215</td>\n",
       "      <td>0.859609</td>\n",
       "      <td>0.138292</td>\n",
       "      <td>9.40197</td>\n",
       "      <td>0.0</td>\n",
       "    </tr>\n",
       "    <tr>\n",
       "      <th>10</th>\n",
       "      <td>y5</td>\n",
       "      <td>~</td>\n",
       "      <td>dem65</td>\n",
       "      <td>1.000000</td>\n",
       "      <td>0.802965</td>\n",
       "      <td>-</td>\n",
       "      <td>-</td>\n",
       "      <td>-</td>\n",
       "    </tr>\n",
       "    <tr>\n",
       "      <th>11</th>\n",
       "      <td>y6</td>\n",
       "      <td>~</td>\n",
       "      <td>dem65</td>\n",
       "      <td>1.258578</td>\n",
       "      <td>0.782835</td>\n",
       "      <td>0.164598</td>\n",
       "      <td>7.646374</td>\n",
       "      <td>0.0</td>\n",
       "    </tr>\n",
       "    <tr>\n",
       "      <th>12</th>\n",
       "      <td>y7</td>\n",
       "      <td>~</td>\n",
       "      <td>dem65</td>\n",
       "      <td>1.282589</td>\n",
       "      <td>0.818822</td>\n",
       "      <td>0.157722</td>\n",
       "      <td>8.13194</td>\n",
       "      <td>0.0</td>\n",
       "    </tr>\n",
       "    <tr>\n",
       "      <th>13</th>\n",
       "      <td>y8</td>\n",
       "      <td>~</td>\n",
       "      <td>dem65</td>\n",
       "      <td>1.309975</td>\n",
       "      <td>0.846897</td>\n",
       "      <td>0.15364</td>\n",
       "      <td>8.526281</td>\n",
       "      <td>0.0</td>\n",
       "    </tr>\n",
       "    <tr>\n",
       "      <th>14</th>\n",
       "      <td>dem60</td>\n",
       "      <td>~~</td>\n",
       "      <td>dem60</td>\n",
       "      <td>3.865095</td>\n",
       "      <td>0.799252</td>\n",
       "      <td>0.89158</td>\n",
       "      <td>4.335106</td>\n",
       "      <td>0.000015</td>\n",
       "    </tr>\n",
       "    <tr>\n",
       "      <th>15</th>\n",
       "      <td>dem65</td>\n",
       "      <td>~~</td>\n",
       "      <td>dem65</td>\n",
       "      <td>0.114868</td>\n",
       "      <td>0.026465</td>\n",
       "      <td>0.19994</td>\n",
       "      <td>0.574511</td>\n",
       "      <td>0.565622</td>\n",
       "    </tr>\n",
       "    <tr>\n",
       "      <th>16</th>\n",
       "      <td>ind60</td>\n",
       "      <td>~~</td>\n",
       "      <td>ind60</td>\n",
       "      <td>0.448047</td>\n",
       "      <td>1.000000</td>\n",
       "      <td>0.086684</td>\n",
       "      <td>5.16872</td>\n",
       "      <td>0.0</td>\n",
       "    </tr>\n",
       "    <tr>\n",
       "      <th>17</th>\n",
       "      <td>x2</td>\n",
       "      <td>~~</td>\n",
       "      <td>x2</td>\n",
       "      <td>0.118338</td>\n",
       "      <td>0.052565</td>\n",
       "      <td>0.07015</td>\n",
       "      <td>1.686923</td>\n",
       "      <td>0.091618</td>\n",
       "    </tr>\n",
       "    <tr>\n",
       "      <th>18</th>\n",
       "      <td>y1</td>\n",
       "      <td>~~</td>\n",
       "      <td>y1</td>\n",
       "      <td>1.943263</td>\n",
       "      <td>0.286653</td>\n",
       "      <td>0.395649</td>\n",
       "      <td>4.91158</td>\n",
       "      <td>0.000001</td>\n",
       "    </tr>\n",
       "    <tr>\n",
       "      <th>19</th>\n",
       "      <td>y7</td>\n",
       "      <td>~~</td>\n",
       "      <td>y7</td>\n",
       "      <td>3.509328</td>\n",
       "      <td>0.329530</td>\n",
       "      <td>0.668188</td>\n",
       "      <td>5.252008</td>\n",
       "      <td>0.0</td>\n",
       "    </tr>\n",
       "    <tr>\n",
       "      <th>20</th>\n",
       "      <td>y2</td>\n",
       "      <td>~~</td>\n",
       "      <td>y2</td>\n",
       "      <td>6.493214</td>\n",
       "      <td>0.422520</td>\n",
       "      <td>1.185199</td>\n",
       "      <td>5.478587</td>\n",
       "      <td>0.0</td>\n",
       "    </tr>\n",
       "    <tr>\n",
       "      <th>21</th>\n",
       "      <td>x3</td>\n",
       "      <td>~~</td>\n",
       "      <td>x3</td>\n",
       "      <td>0.467295</td>\n",
       "      <td>0.239707</td>\n",
       "      <td>0.090319</td>\n",
       "      <td>5.173849</td>\n",
       "      <td>0.0</td>\n",
       "    </tr>\n",
       "    <tr>\n",
       "      <th>22</th>\n",
       "      <td>x1</td>\n",
       "      <td>~~</td>\n",
       "      <td>x1</td>\n",
       "      <td>0.081868</td>\n",
       "      <td>0.154492</td>\n",
       "      <td>0.01958</td>\n",
       "      <td>4.181183</td>\n",
       "      <td>0.000029</td>\n",
       "    </tr>\n",
       "    <tr>\n",
       "      <th>23</th>\n",
       "      <td>y5</td>\n",
       "      <td>~~</td>\n",
       "      <td>y5</td>\n",
       "      <td>2.391498</td>\n",
       "      <td>0.355247</td>\n",
       "      <td>0.446848</td>\n",
       "      <td>5.351924</td>\n",
       "      <td>0.0</td>\n",
       "    </tr>\n",
       "    <tr>\n",
       "      <th>24</th>\n",
       "      <td>y4</td>\n",
       "      <td>~~</td>\n",
       "      <td>y4</td>\n",
       "      <td>2.888446</td>\n",
       "      <td>0.261072</td>\n",
       "      <td>0.610587</td>\n",
       "      <td>4.730605</td>\n",
       "      <td>0.000002</td>\n",
       "    </tr>\n",
       "    <tr>\n",
       "      <th>25</th>\n",
       "      <td>y8</td>\n",
       "      <td>~~</td>\n",
       "      <td>y8</td>\n",
       "      <td>2.936462</td>\n",
       "      <td>0.282766</td>\n",
       "      <td>0.585265</td>\n",
       "      <td>5.017321</td>\n",
       "      <td>0.000001</td>\n",
       "    </tr>\n",
       "    <tr>\n",
       "      <th>26</th>\n",
       "      <td>y6</td>\n",
       "      <td>~~</td>\n",
       "      <td>y6</td>\n",
       "      <td>4.343637</td>\n",
       "      <td>0.387169</td>\n",
       "      <td>0.796155</td>\n",
       "      <td>5.45577</td>\n",
       "      <td>0.0</td>\n",
       "    </tr>\n",
       "    <tr>\n",
       "      <th>27</th>\n",
       "      <td>y3</td>\n",
       "      <td>~~</td>\n",
       "      <td>y3</td>\n",
       "      <td>5.345821</td>\n",
       "      <td>0.503318</td>\n",
       "      <td>0.94409</td>\n",
       "      <td>5.662407</td>\n",
       "      <td>0.0</td>\n",
       "    </tr>\n",
       "  </tbody>\n",
       "</table>\n",
       "</div>"
      ],
      "text/plain": [
       "     lval  op   rval  Estimate  Est. Std  Std. Err    z-value   p-value\n",
       "0   dem60   ~  ind60  1.471978  0.448049  0.391448   3.760338   0.00017\n",
       "1   dem65   ~  ind60  0.453036  0.145555  0.219667   2.062374  0.039172\n",
       "2   dem65   ~  dem60  0.864819  0.912845  0.112851   7.663352       0.0\n",
       "3      x1   ~  ind60  1.000000  0.919515         -          -         -\n",
       "4      x2   ~  ind60  2.181861  0.973363  0.138883  15.710031       0.0\n",
       "5      x3   ~  ind60  1.818795  0.871948  0.152165  11.952787       0.0\n",
       "6      y1   ~  dem60  1.000000  0.844599         -          -         -\n",
       "7      y2   ~  dem60  1.354681  0.759921  0.174862    7.74712       0.0\n",
       "8      y3   ~  dem60  1.044448  0.704756  0.150214   6.953071       0.0\n",
       "9      y4   ~  dem60  1.300215  0.859609  0.138292    9.40197       0.0\n",
       "10     y5   ~  dem65  1.000000  0.802965         -          -         -\n",
       "11     y6   ~  dem65  1.258578  0.782835  0.164598   7.646374       0.0\n",
       "12     y7   ~  dem65  1.282589  0.818822  0.157722    8.13194       0.0\n",
       "13     y8   ~  dem65  1.309975  0.846897   0.15364   8.526281       0.0\n",
       "14  dem60  ~~  dem60  3.865095  0.799252   0.89158   4.335106  0.000015\n",
       "15  dem65  ~~  dem65  0.114868  0.026465   0.19994   0.574511  0.565622\n",
       "16  ind60  ~~  ind60  0.448047  1.000000  0.086684    5.16872       0.0\n",
       "17     x2  ~~     x2  0.118338  0.052565   0.07015   1.686923  0.091618\n",
       "18     y1  ~~     y1  1.943263  0.286653  0.395649    4.91158  0.000001\n",
       "19     y7  ~~     y7  3.509328  0.329530  0.668188   5.252008       0.0\n",
       "20     y2  ~~     y2  6.493214  0.422520  1.185199   5.478587       0.0\n",
       "21     x3  ~~     x3  0.467295  0.239707  0.090319   5.173849       0.0\n",
       "22     x1  ~~     x1  0.081868  0.154492   0.01958   4.181183  0.000029\n",
       "23     y5  ~~     y5  2.391498  0.355247  0.446848   5.351924       0.0\n",
       "24     y4  ~~     y4  2.888446  0.261072  0.610587   4.730605  0.000002\n",
       "25     y8  ~~     y8  2.936462  0.282766  0.585265   5.017321  0.000001\n",
       "26     y6  ~~     y6  4.343637  0.387169  0.796155    5.45577       0.0\n",
       "27     y3  ~~     y3  5.345821  0.503318   0.94409   5.662407       0.0"
      ]
     },
     "execution_count": 13,
     "metadata": {},
     "output_type": "execute_result"
    }
   ],
   "source": [
    "estimates = struct_model.inspect(std_est=True)\n",
    "estimates"
   ]
  },
  {
   "cell_type": "markdown",
   "metadata": {
    "slideshow": {
     "slide_type": "fragment"
    }
   },
   "source": [
    "Podemos apreciar que tanto `dem60` como `ind60` presentan parámetros estadísticamente significativos y relevantes para `dem65`. Además, encontramos que las covariaciones entre las variables endógenas son significativas, a excepción de `y7~y3` e `y4-y8`."
   ]
  },
  {
   "cell_type": "markdown",
   "metadata": {
    "slideshow": {
     "slide_type": "fragment"
    }
   },
   "source": [
    "Podemos apreciar también que `Coworkers` y `Work_Environment` covarían negativamente de manera significativa."
   ]
  },
  {
   "cell_type": "markdown",
   "metadata": {
    "slideshow": {
     "slide_type": "skip"
    }
   },
   "source": [
    "Para contar con un reporte más detallado de nuestro modelo estructural podemos examinar el reporte generado por el paquete `semopy`:"
   ]
  },
  {
   "cell_type": "code",
   "execution_count": 16,
   "metadata": {
    "slideshow": {
     "slide_type": "skip"
    }
   },
   "outputs": [],
   "source": [
    "semopy.report(struct_model, \"Job\")"
   ]
  }
 ],
 "metadata": {
  "celltoolbar": "Slideshow",
  "kernelspec": {
   "display_name": "Python 3 (ipykernel)",
   "language": "python",
   "name": "python3"
  },
  "language_info": {
   "codemirror_mode": {
    "name": "ipython",
    "version": 3
   },
   "file_extension": ".py",
   "mimetype": "text/x-python",
   "name": "python",
   "nbconvert_exporter": "python",
   "pygments_lexer": "ipython3",
   "version": "3.7.15"
  },
  "vscode": {
   "interpreter": {
    "hash": "8df12303a5084d795bcef355ea103bbaab8787933417cf27c2f95a588cdf8ee7"
   }
  }
 },
 "nbformat": 4,
 "nbformat_minor": 2
}
