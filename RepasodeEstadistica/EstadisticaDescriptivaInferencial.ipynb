{
 "cells": [
  {
   "cell_type": "markdown",
   "source": [
    "# Estadística Descriptiva\r\n",
    "\r\n",
    "- Mediante la estadística descriptiva se agrupan datos numéricos: De esta manera se pierde información detallada pero se gana en síntesis.\r\n",
    "- Permite describir a un conjunto de datos correspondientes a una característica o propiedad de un conjunto de objetos indicando la tendencia central y la dispersión de los datos.\r\n",
    "- La tendencia central permite representar al conjunto de datos.\r\n",
    "- La dispersión permite representar la variabilidad de los datos.\r\n",
    "\r\n",
    "## Resumiendo datos con la media\r\n",
    "\r\n",
    "Ya nos hemos encontrado con la media (o el promedio) anteriormente y, de hecho, la mayoría de las personas conocen el promedio incluso si nunca han tomado una clase de estadística. Se usa comúnmente para describir lo que llamamos la \"tendencia central\" de un conjunto de datos, es decir, ¿en qué valor se centran los datos? **La mayoría de la gente no piensa en calcular una media como ajustar un modelo a los datos**. Sin embargo, eso es exactamente lo que estamos haciendo cuando calculamos la media.\r\n",
    "\r\n",
    "Repasemos la fórmula para calcular la media de una muestra de datos:\r\n",
    "\r\n",
    "$$ \\bar{X}=\\frac{\\sum_{i=1}^{n}x_{i}}{n} $$\r\n",
    "\r\n",
    "Tenga en cuenta que dije que esta fórmula era específicamente para una muestra de datos, que es un conjunto de puntos de datos seleccionados de una población más grande. Utilizando una muestra, deseamos caracterizar una población más grande: el conjunto completo de individuos que nos interesan. Por ejemplo, si somos encuestadores políticos, nuestra población de interés podría ser todos votantes registrados, mientras que nuestra muestra podría incluir solo unos pocos miles de personas muestreadas de esta población. De momento no cubriremos a detalle sobre el muestreo, pero por ahora el punto importante es que a los estadísticos generalmente les gusta usar diferentes símbolos para diferenciar las estadísticas que describen los valores de una muestra de los parámetros que describen los valores verdaderos de una población; en este caso, la fórmula para la media poblacional (denotada como $\\mu$) es:\r\n",
    "\r\n",
    "$$ \\mu=\\frac{\\sum_{i=1}^{n}x_{i}}{N} $$\r\n",
    "\r\n",
    "donde N es el tamaño de toda la población.\r\n",
    "\r\n",
    "La mayoría de las medidas de tendencia central se pueden calcular utilizando alguna función de Python, pero mostraremos cómo hacerlo manualmente para dar algo de intuición sobre cómo funcionan. Primero carguemos los datos de NHANES que usaremos para nuestros ejemplos:"
   ],
   "metadata": {}
  },
  {
   "cell_type": "code",
   "execution_count": 2,
   "source": [
    "from nhanes.load import load_NHANES_data\r\n",
    "nhanes_data = load_NHANES_data()\r\n",
    "adult_nhanes_data = nhanes_data.query('AgeInYearsAtScreening > 17')"
   ],
   "outputs": [],
   "metadata": {}
  },
  {
   "cell_type": "markdown",
   "source": [
    "Dado que analizaremos la variable `StandingHeightCm`, debemos excluir cualquier observación a la que le falte esta medida. También recodificaremos la variable para que se llame `Height` para simplificar la codificación más adelante."
   ],
   "metadata": {}
  },
  {
   "cell_type": "code",
   "execution_count": 3,
   "source": [
    "adult_nhanes_data = adult_nhanes_data.dropna(subset=['StandingHeightCm']).rename(columns={'StandingHeightCm': 'Height'})\r\n"
   ],
   "outputs": [],
   "metadata": {}
  },
  {
   "cell_type": "markdown",
   "source": [
    "La media se define como la suma de valores dividida por el número de valores que se suman. Supongamos que queremos obtener la altura media de los adultos en la base de datos de NHANES (contenida en los datos de Altura que generamos anteriormente). Sumaríamos las alturas individuales (usando el operador `.sum()`) y luego dividiríamos por el número de valores:"
   ],
   "metadata": {}
  },
  {
   "cell_type": "code",
   "execution_count": 4,
   "source": [
    "adult_nhanes_data['Height'].sum() / adult_nhanes_data['Height'].shape[0]"
   ],
   "outputs": [
    {
     "output_type": "execute_result",
     "data": {
      "text/plain": [
       "166.3623438648053"
      ]
     },
     "metadata": {},
     "execution_count": 4
    }
   ],
   "metadata": {}
  },
  {
   "cell_type": "markdown",
   "source": [
    "Por supuesto, hay un operador incorporado en el Data Frame llamado `.mean()` que calculará la media:"
   ],
   "metadata": {}
  },
  {
   "cell_type": "code",
   "execution_count": 5,
   "source": [
    "adult_nhanes_data['Height'].mean()"
   ],
   "outputs": [
    {
     "output_type": "execute_result",
     "data": {
      "text/plain": [
       "166.36234386480572"
      ]
     },
     "metadata": {},
     "execution_count": 5
    }
   ],
   "metadata": {}
  },
  {
   "cell_type": "markdown",
   "source": [
    "Ya hemos visto que la media es el estimador que está garantizado para darnos un error promedio de cero, pero también aprendimos que el error promedio no es el mejor criterio; en cambio, queremos un estimador que nos dé la suma más baja de errores al cuadrado (SSE), que también lo hace la media. Podríamos probar esto usando cálculo, pero en su lugar lo demostraremos gráficamente:"
   ],
   "metadata": {}
  },
  {
   "cell_type": "code",
   "execution_count": 6,
   "source": [
    "import numpy as np\r\n",
    "import matplotlib.pyplot as plt\r\n",
    "\r\n",
    "# Creamos una función para calcular el SSE\r\n",
    "def sse(pred,data):\r\n",
    "    squared_errors=(data-pred)**2\r\n",
    "    return np.sum(squared_errors)\r\n",
    "\r\n",
    "# Generamos los valores a someter a prueba\r\n",
    "vals = np.arange(adult_nhanes_data['Height'].min(), adult_nhanes_data['Height'].max() + 1)\r\n",
    "\r\n",
    "# Calculamos el SSE para cada uno de los valores\r\n",
    "sse_sweep=np.zeros(len(vals))\r\n",
    "for i in np.arange(len(vals)): sse_sweep[i] = sse(vals[i],adult_nhanes_data['Height'])\r\n",
    "\r\n",
    "# Graficamos nuestros resultados\r\n",
    "plt.plot(vals,sse_sweep)\r\n",
    "plt.axvline(x=adult_nhanes_data['Height'].mean(),color='r');\r\n",
    "plt.xlabel('Valor de prueba',size=14);\r\n",
    "plt.ylabel('SSE',size=14);"
   ],
   "outputs": [
    {
     "output_type": "display_data",
     "data": {
      "text/plain": [
       "<Figure size 432x288 with 1 Axes>"
      ],
      "image/png": "[encoded data removed]"
     },
     "metadata": {
      "needs_background": "light"
     }
    }
   ],
   "metadata": {}
  },
  {
   "cell_type": "markdown",
   "source": [
    "El gráfico muestra una demostración de la media como estadística que minimiza la suma de errores cuadrados. Utilizando los datos de altura de los adultos de NHANES, calculamos la media (indicada por la barra roja). Luego, probamos un rango de posibles estimaciones de parámetros, y para cada uno calculamos la suma de los errores al cuadrado para cada punto de datos a partir de ese valor, que se indican mediante la curva azul. Vemos que la media cae al mínimo de la gráfica de error al cuadrado.\r\n",
    "\r\n",
    "Esta minimización de SSE es una buena característica y es por eso que la media es la estadística más utilizada para resumir datos. Sin embargo, la media también tiene un lado oscuro. Supongamos que hay cinco personas en un bar y examinamos los ingresos de cada uno:\r\n",
    "\r\n",
    "| Ingresos \t| Persona  \t|\r\n",
    "|----------\t|----------\t|\r\n",
    "| 48000    \t| Juan     \t|\r\n",
    "| 64000    \t| Karen    \t|\r\n",
    "| 58000    \t| Marco    \t|\r\n",
    "| 72000    \t| Andrea   \t|\r\n",
    "| 66000    \t| Patricio \t|\r\n",
    "\r\n",
    "La media (61600,00) parece ser un resumen bastante bueno de los ingresos de esas cinco personas. Ahora veamos qué sucede si César Amuña entra al bar.\r\n",
    "\r\n",
    "| Ingresos \t| Persona  \t|\r\n",
    "|----------\t|----------\t|\r\n",
    "| 48000    \t| Juan     \t|\r\n",
    "| 64000    \t| Karen    \t|\r\n",
    "| 58000    \t| Marco    \t|\r\n",
    "| 72000    \t| Andrea   \t|\r\n",
    "| 66000    \t| Patricio \t|\r\n",
    "| 54000000 \t| César    \t|\r\n",
    "\r\n",
    "La media ahora es de casi 10 millones, que no es realmente representativa de ninguna de las personas en el bar; en particular, está fuertemente impulsada por el valor periférico de César. En general, la media es muy sensible a los valores extremos, por lo que siempre es importante asegurarse de que no haya valores extremos cuando se utiliza la media para resumir los datos.\r\n",
    "\r\n",
    "## Resumiendo datos de manera robusta utilizando la mediana\r\n",
    "\r\n",
    "Si queremos resumir los datos de una manera que sea menos sensible a los valores atípicos, podemos usar otra estadística llamada mediana. Si tuviéramos que ordenar todos los valores en orden de magnitud, entonces la mediana es el valor en el medio. Si hay un número par de valores, habrá dos valores empatados para el lugar medio, en cuyo caso tomamos la media (es decir, el punto medio) de esos dos números.\r\n",
    "\r\n",
    "Procedamos a implementar la mediana. Primero ordenamos los datos según sus valores:"
   ],
   "metadata": {}
  },
  {
   "cell_type": "code",
   "execution_count": 7,
   "source": [
    "height_sorted = adult_nhanes_data['Height'].sort_values()"
   ],
   "outputs": [],
   "metadata": {}
  },
  {
   "cell_type": "markdown",
   "source": [
    "A continuación, encontramos el valor mediano. Si hay un número impar de valores en la lista, entonces este es solo el valor del medio, mientras que si el número de valores es par, tomamos el promedio de los dos valores del medio. Podemos determinar si el número de elementos es par dividiendo la longitud por dos y viendo si queda un resto; hacemos esto usando el operador `%`, que se conoce como módulo y devuelve el resto:"
   ],
   "metadata": {}
  },
  {
   "cell_type": "code",
   "execution_count": 8,
   "source": [
    "height_length_mod_2 = height_sorted.shape[0] % 2\r\n",
    "print(height_length_mod_2)"
   ],
   "outputs": [
    {
     "output_type": "stream",
     "name": "stdout",
     "text": [
      "0\n"
     ]
    }
   ],
   "metadata": {}
  },
  {
   "cell_type": "markdown",
   "source": [
    "Aquí probaremos si el resto es igual a uno; si es así, tomaremos el valor medio, de lo contrario, tomaremos el promedio de los dos valores medios. Podemos hacer esto usando una estructura if/else, que ejecuta diferentes procesos dependiendo de cuál de los argumentos sea verdadero. A continuación, se muestra un ejemplo sencillo:"
   ],
   "metadata": {}
  },
  {
   "cell_type": "code",
   "execution_count": 9,
   "source": [
    "if 1 > 2:\r\n",
    "    print('1 > 2')\r\n",
    "else:\r\n",
    "    print('1 no es mayor a dos 2!')"
   ],
   "outputs": [
    {
     "output_type": "stream",
     "name": "stdout",
     "text": [
      "1 no es mayor a dos 2!\n"
     ]
    }
   ],
   "metadata": {}
  },
  {
   "cell_type": "markdown",
   "source": [
    "Para nuestro ejemplo, podemos usar una declaración if para determinar cómo calcular la mediana, dependiendo de si hay un número par o impar de puntos de datos."
   ],
   "metadata": {}
  },
  {
   "cell_type": "code",
   "execution_count": 10,
   "source": [
    "if height_length_mod_2 == 1: \r\n",
    "    # valores impares - toma el punto medio único\r\n",
    "    midpoint = int(np.ceil(height_sorted.shape[0] / 2))\r\n",
    "    median = height_sorted[midpoint]\r\n",
    "else:\r\n",
    "    # valores pares - necesita promediar los dos puntos medios\r\n",
    "    midpoints = [int((height_sorted.shape[0] / 2) - 1),\r\n",
    "                 int(height_sorted.shape[0] / 2)]\r\n",
    "    median = height_sorted.iloc[midpoints].mean()\r\n",
    "\r\n",
    "print(median)"
   ],
   "outputs": [
    {
     "output_type": "stream",
     "name": "stdout",
     "text": [
      "165.9\n"
     ]
    }
   ],
   "metadata": {}
  },
  {
   "cell_type": "markdown",
   "source": [
    "Están sucediendo muchas cosas allí, así que vamos a desmenuzarlo. La primera línea de la instrucción `if` pregunta si el resto es igual a uno; si es así, ejecuta las líneas que están sangradas debajo. Python usa la sangría como parte de su sintaxis, por lo que siempre debe tener mucho cuidado con la sangría. \r\n",
    "\r\n",
    "Si el resto es uno, eso significa que el número de observaciones es impar y, por lo tanto, podemos simplemente tomar el punto medio. Determinamos esto dividiendo el número de observaciones por dos y luego redondeando hacia arriba (que es lo que hace la función `np.ceil()`). \r\n",
    "\r\n",
    "Finalmente, tenemos que convertir este número en un entero usando la función `int()`, ya que solo podemos usar enteros para indexar un marco de datos.\r\n",
    "\r\n",
    "Si la primera prueba es falsa, es decir, si el resto es cero, la segunda sección de código (después de la instrucción `else`) se ejecutará en su lugar. Aquí necesitamos encontrar los dos puntos medios y promediarlos, por lo que creamos una nueva lista que contiene esos dos puntos, y luego usamos ese índice de nuestros datos y luego tomamos la media.\r\n",
    "\r\n",
    "Por supuesto, también hay un operador incorporado en el Data Frame llamado `.median()` que calculará la media:"
   ],
   "metadata": {}
  },
  {
   "cell_type": "code",
   "execution_count": 11,
   "source": [
    "adult_nhanes_data['Height'].median()"
   ],
   "outputs": [
    {
     "output_type": "execute_result",
     "data": {
      "text/plain": [
       "165.9"
      ]
     },
     "metadata": {},
     "execution_count": 11
    }
   ],
   "metadata": {}
  },
  {
   "cell_type": "markdown",
   "source": [
    "Mientras que la media minimiza la suma de los errores cuadrados, **la mediana minimiza una cantidad ligeramente diferente: la suma del valor absoluto de los errores**. Esto explica por qué es menos sensible a los valores atípicos: la cuadratura exacerbará el efecto de los errores grandes en comparación con tomar el valor absoluto. Podemos ver esto en el caso del ejemplo de los ingresos: el ingreso mediano (65,000) es mucho más representativo del grupo en su conjunto que la media (9,051,333) y menos sensible al valor atípico grande.\r\n",
    "\r\n",
    "Dado esto, ¿por qué usaríamos la media? La media es el \"mejor\" estimador en el sentido de que variará menos de una muestra a otra en comparación con otros estimadores. Depende de nosotros decidir si vale la pena la sensibilidad a posibles valores atípicos: las estadísticas se tratan de compensaciones (tradeoffs).\r\n",
    "\r\n",
    "## La moda\r\n",
    "\r\n",
    "La moda es el valor más frecuente que ocurre en una variable. Por ejemplo, digamos que tenemos los siguientes datos:"
   ],
   "metadata": {}
  },
  {
   "cell_type": "code",
   "execution_count": 12,
   "source": [
    "import pandas as pd\r\n",
    "toy_data = pd.DataFrame({'myvar': ['a', 'a', 'b', 'c']})"
   ],
   "outputs": [],
   "metadata": {}
  },
  {
   "cell_type": "markdown",
   "source": [
    "Podemos ver a simple vista que el modo es “a” ya que ocurre con más frecuencia que los demás. Para encontrarlo computacionalmente, usemos el operador `.value_counts()` para encontrar la frecuencia de cada valor:"
   ],
   "metadata": {}
  },
  {
   "cell_type": "code",
   "execution_count": 13,
   "source": [
    "myvar_frequencies = toy_data['myvar'].value_counts()\r\n",
    "myvar_frequencies"
   ],
   "outputs": [
    {
     "output_type": "execute_result",
     "data": {
      "text/plain": [
       "a    2\n",
       "b    1\n",
       "c    1\n",
       "Name: myvar, dtype: int64"
      ]
     },
     "metadata": {},
     "execution_count": 13
    }
   ],
   "metadata": {}
  },
  {
   "cell_type": "markdown",
   "source": [
    "Ahora busquemos la frecuencia más alta, usando el operador `.max ()`:"
   ],
   "metadata": {}
  },
  {
   "cell_type": "code",
   "execution_count": 14,
   "source": [
    "max_frequency = myvar_frequencies.max()\r\n",
    "max_frequency"
   ],
   "outputs": [
    {
     "output_type": "execute_result",
     "data": {
      "text/plain": [
       "2"
      ]
     },
     "metadata": {},
     "execution_count": 14
    }
   ],
   "metadata": {}
  },
  {
   "cell_type": "markdown",
   "source": [
    "Ahora podemos encontrar los valores que tienen la frecuencia máxima:"
   ],
   "metadata": {}
  },
  {
   "cell_type": "code",
   "execution_count": 15,
   "source": [
    "mode = myvar_frequencies.loc[myvar_frequencies == max_frequency].index.values\r\n",
    "print(mode)"
   ],
   "outputs": [
    {
     "output_type": "stream",
     "name": "stdout",
     "text": [
      "['a']\n"
     ]
    }
   ],
   "metadata": {}
  },
  {
   "cell_type": "markdown",
   "source": [
    "Ttambién hay un operador incorporado en el Data Frame llamado `.mode()` que calculará la moda:"
   ],
   "metadata": {}
  },
  {
   "cell_type": "code",
   "execution_count": 16,
   "source": [
    "toy_data.mode()"
   ],
   "outputs": [
    {
     "output_type": "execute_result",
     "data": {
      "text/plain": [
       "  myvar\n",
       "0     a"
      ],
      "text/html": [
       "<div>\n",
       "<style scoped>\n",
       "    .dataframe tbody tr th:only-of-type {\n",
       "        vertical-align: middle;\n",
       "    }\n",
       "\n",
       "    .dataframe tbody tr th {\n",
       "        vertical-align: top;\n",
       "    }\n",
       "\n",
       "    .dataframe thead th {\n",
       "        text-align: right;\n",
       "    }\n",
       "</style>\n",
       "<table border=\"1\" class=\"dataframe\">\n",
       "  <thead>\n",
       "    <tr style=\"text-align: right;\">\n",
       "      <th></th>\n",
       "      <th>myvar</th>\n",
       "    </tr>\n",
       "  </thead>\n",
       "  <tbody>\n",
       "    <tr>\n",
       "      <th>0</th>\n",
       "      <td>a</td>\n",
       "    </tr>\n",
       "  </tbody>\n",
       "</table>\n",
       "</div>"
      ]
     },
     "metadata": {},
     "execution_count": 16
    }
   ],
   "metadata": {}
  },
  {
   "cell_type": "code",
   "execution_count": 17,
   "source": [
    "adult_nhanes_data['Height'].mode()"
   ],
   "outputs": [
    {
     "output_type": "execute_result",
     "data": {
      "text/plain": [
       "0    161.4\n",
       "dtype: float64"
      ]
     },
     "metadata": {},
     "execution_count": 17
    }
   ],
   "metadata": {}
  },
  {
   "cell_type": "markdown",
   "source": [
    "## Variabilidad: ¿Qué tan bien se ajusta la media a los datos?\r\n",
    "\r\n",
    "Una vez que hemos descrito la tendencia central de los datos, a menudo también queremos describir cuán variables son los datos; esto a veces también se denomina \"dispersión\", lo que refleja el hecho de que describe cuán ampliamente dispersos están los datos.\r\n",
    "\r\n",
    "Ya hemos encontrado la suma de los errores cuadrados arriba, que es la base para las medidas de variabilidad más comúnmente utilizadas: la varianza y la desviación estándar. La varianza de una población (a la que se hace referencia como $\\sigma^{2}$) es simplemente la suma de los errores cuadrados dividida por el número de observaciones, es decir, es exactamente igual que el error cuadrático medio que revisamos anteriormente:\r\n",
    "\r\n",
    "$$ \\sigma^{2} = \\frac{SSE}{N} = \\frac{\\sum_{i=1}^{n}(x_{i}-\\mu)^{2}}{N} $$\r\n",
    "\r\n",
    "donde $\\mu$ es la media de la población. La desviación estándar de la población es simplemente la raíz cuadrada de esto, es decir, la raíz del error cuadrático medio que vimos antes. La desviación estándar es útil porque los errores están en las mismas unidades que los datos originales (deshaciendo el cuadrado que aplicamos a los errores).\r\n",
    "\r\n",
    "Por lo general, no tenemos acceso a toda la población, por lo que tenemos que calcular la varianza utilizando una muestra, a la que nos referimos como $\\hat\\sigma^{2}$, donde el \"sombrero\" representa el hecho de que se trata de una estimación basada en una muestra. La ecuación para $\\hat\\sigma^{2}$ es similar a la de $\\sigma^{2}$:\r\n",
    "\r\n",
    "$$ \\hat\\sigma^{2}=\\frac{\\sum_{i=1}^{n}(x_{i}-\\bar{X})^{2}}{n-1} $$\r\n",
    "\r\n",
    "La única diferencia entre las dos ecuaciones es que dividimos por n - 1 en lugar de N. Esto se relaciona con un concepto estadístico fundamental: grados de libertad. Recuerde que para calcular la varianza muestral, primero tuvimos que estimar la media muestral $\\bar{X}$. Habiendo estimado esto, un valor en los datos ya no puede variar libremente. \r\n",
    "\r\n",
    "Por ejemplo, digamos que tenemos los siguientes puntos de datos para una variable `x:[3, 5, 7, 9, 11]`, cuya media es 7. Como sabemos que la media de este conjunto de datos es 7, podemos calcular cuál sería cualquier valor específico si faltara. Por ejemplo, digamos que ocultáramos el primer valor (3). Una vez hecho esto, todavía sabemos que su valor debe ser 3, porque la media de 7 implica que la suma de todos los valores es `7 ∗ n = 35` y `35 − (5 + 7 + 9 + 11) = 3`.\r\n",
    "\r\n",
    "Entonces, cuando decimos que hemos “perdido” un grado de libertad, significa que hay un valor que no puede variar libremente después de ajustar el modelo. En el contexto de la varianza de la muestra, si no tenemos en cuenta el grado de libertad perdido, entonces nuestra estimación de la varianza de la muestra estará sesgada, lo que nos hará subestimar la incertidumbre de nuestra estimación de la media.\r\n",
    "\r\n",
    "### Usemos simulaciones para entender estos conceptos\r\n",
    "\r\n",
    "Primero calculemos la varianza, que es la diferencia cuadrática promedio entre cada valor y la media. Hagamos esto con nuestra versión limpia de los datos de altura, pero en lugar de trabajar con el conjunto de datos completo, tomemos una muestra aleatoria de 150 personas:"
   ],
   "metadata": {}
  },
  {
   "cell_type": "code",
   "execution_count": 18,
   "source": [
    "sample_size = 150\r\n",
    "height_sample = adult_nhanes_data.sample(sample_size)['Height']"
   ],
   "outputs": [],
   "metadata": {}
  },
  {
   "cell_type": "markdown",
   "source": [
    "Simplemente podríamos haber ingresado el número 150 en la función de muestra, pero al crear primero una nueva variable llamada `sample_size` y establecerla en 150, le aclaramos al lector del código exactamente a qué se refiere este número. Siempre es una buena práctica crear una nueva variable en lugar de escribir un número directamente en una fórmula.\r\n",
    "\r\n",
    "Para calcular la varianza que necesitamos, primero debemos calcular la suma de los errores cuadrados a partir de la media. En Python, podemos cuadrar un vector usando `** 2`:"
   ],
   "metadata": {}
  },
  {
   "cell_type": "code",
   "execution_count": 19,
   "source": [
    "sum_of_squared_errors = np.sum((height_sample - height_sample.mean())**2)"
   ],
   "outputs": [],
   "metadata": {}
  },
  {
   "cell_type": "markdown",
   "source": [
    "Luego dividimos por N - 1 para obtener la varianza estimada:"
   ],
   "metadata": {}
  },
  {
   "cell_type": "code",
   "execution_count": 20,
   "source": [
    "variance_estimate = sum_of_squared_errors / (height_sample.shape[0] - 1)\r\n",
    "variance_estimate"
   ],
   "outputs": [
    {
     "output_type": "execute_result",
     "data": {
      "text/plain": [
       "100.59019955257271"
      ]
     },
     "metadata": {},
     "execution_count": 20
    }
   ],
   "metadata": {}
  },
  {
   "cell_type": "markdown",
   "source": [
    "Tratemos la muestra completa de adultos de los datos de NHANES como nuestra \"población\", y veamos qué tan bien los cálculos de la varianza de la muestra usando $n$ o $n−1$ en el denominador estimarán la varianza de esta población, a través de una gran cantidad de muestras aleatorias simuladas a partir de los datos:"
   ],
   "metadata": {}
  },
  {
   "cell_type": "code",
   "execution_count": 21,
   "source": [
    "# Definimos los parámetros para nuestra simulación\r\n",
    "n_sims = 1000\r\n",
    "estimates = np.zeros((n_sims,2))\r\n",
    "sample_size = 75\r\n",
    "\r\n",
    "# Simulamos muestreos y para cada uno calculamos nuestras estimaciones\r\n",
    "for i in range(n_sims):\r\n",
    "    height_sample = adult_nhanes_data.sample(sample_size)['Height']\r\n",
    "    sum_of_squared_errors = np.sum((height_sample - height_sample.mean())**2)\r\n",
    "    variance_estimate_n = sum_of_squared_errors / (height_sample.shape[0]) # Usando n\r\n",
    "    variance_estimate_n1 = sum_of_squared_errors / (height_sample.shape[0]-1) # Usando n-1\r\n",
    "    estimates[i,:]=[variance_estimate_n,variance_estimate_n1]\r\n",
    "\r\n",
    "# Mostramos los resultados de nuestra simulación\r\n",
    "print('Estimación de la varianza utilizando n:',np.mean(estimates[:,0]))\r\n",
    "print('Estimación de la varianza utilizando n-1:',np.mean(estimates[:,1]))"
   ],
   "outputs": [
    {
     "output_type": "stream",
     "name": "stdout",
     "text": [
      "Estimación de la varianza utilizando n: 99.86352240355556\n",
      "Estimación de la varianza utilizando n-1: 101.21302946306305\n"
     ]
    }
   ],
   "metadata": {}
  },
  {
   "cell_type": "markdown",
   "source": [
    "Ahora comparemos estos valores con la varianza de la población:"
   ],
   "metadata": {}
  },
  {
   "cell_type": "code",
   "execution_count": 22,
   "source": [
    "height_population = adult_nhanes_data['Height']\r\n",
    "sum_of_squared_errors = np.sum((height_population - height_population.mean())**2)\r\n",
    "variance = sum_of_squared_errors / (height_population.shape[0])\r\n",
    "variance"
   ],
   "outputs": [
    {
     "output_type": "execute_result",
     "data": {
      "text/plain": [
       "101.32320729101488"
      ]
     },
     "metadata": {},
     "execution_count": 22
    }
   ],
   "metadata": {}
  },
  {
   "cell_type": "markdown",
   "source": [
    "Los resultados de la simulación nos muestran que la teoría descrita anteriormente era correcta: la estimación de la varianza usando $n−1$ como denominador está muy cerca de la varianza calculada sobre los datos completos (es decir, la población), mientras que la varianza calculada usando $n$ como el denominador está sesgado (más pequeño) en comparación con el valor real.\r\n",
    "\r\n",
    "Podemos hacer los cálculos de la varianza y la desviación estándar de manera más sencilla con funciones integradas:"
   ],
   "metadata": {}
  },
  {
   "cell_type": "code",
   "execution_count": 23,
   "source": [
    "print('Varianza:', height_population.var())\r\n",
    "print('Desviación estándar:', height_population.std())"
   ],
   "outputs": [
    {
     "output_type": "stream",
     "name": "stdout",
     "text": [
      "Varianza: 101.34182261478672\n",
      "Desviación estándar: 10.066867567162426\n"
     ]
    }
   ],
   "metadata": {}
  },
  {
   "cell_type": "markdown",
   "source": [
    "## Rango intercuartílico\r\n",
    "\r\n",
    "Una medida de dispersión especialmente robusta a los valores extremos es el rango intercuartílico (IQR). Para calcularlo, primero encuentra la mediana (valor medio) de la mitad inferior y de la mitad superior de los datos. Estos valores son el primer cuartil (Q1 o percentil 25) y el tercer cuartil (Q3 o percentil 75). El IQR es la diferencia entre Q3 y Q1.\r\n",
    "\r\n",
    "En nuestro ejemplo, podemos implementarlo de la siguiente manera:\r\n"
   ],
   "metadata": {}
  },
  {
   "cell_type": "code",
   "execution_count": 24,
   "source": [
    "iqr=height_population.quantile(0.75)-height_population.quantile(0.25)\r\n",
    "print('Rango intercuartílico:',iqr)"
   ],
   "outputs": [
    {
     "output_type": "stream",
     "name": "stdout",
     "text": [
      "Rango intercuartílico: 14.699999999999989\n"
     ]
    }
   ],
   "metadata": {}
  },
  {
   "cell_type": "markdown",
   "source": [
    "## Forma de la distribución\r\n",
    "\r\n",
    "La asimetría es un parámetro para medir la simetría de un conjunto de datos. Por su parte, la curtosis sirve para medir qué tan pesadas son sus colas en comparación con una distribución normal. Veamos un ejemplo a partir de una simulación:"
   ],
   "metadata": {}
  },
  {
   "cell_type": "code",
   "execution_count": 25,
   "source": [
    "from scipy.stats import kurtosis, skew, skewnorm\r\n",
    "\r\n",
    "# Definimos los parámetros de la simulación\r\n",
    "n = 10000\r\n",
    "start = 0\r\n",
    "width = 20\r\n",
    "\r\n",
    "# Simulamos distribuciones con diferentes parámetros de asimetría \"a\"\r\n",
    "a = 0\r\n",
    "data_normal = skewnorm.rvs(size=n, a=a,loc = start, scale=width)\r\n",
    "\r\n",
    "a = 3\r\n",
    "data_skew = skewnorm.rvs(size=n, a=a,loc = start, scale=width)\r\n",
    "\r\n",
    "# Generamos los gráficos\r\n",
    "f, (ax1, ax2) = plt.subplots(1, 2)\r\n",
    "ax1.hist(data_normal, bins='auto')\r\n",
    "ax1.set_title('a=0')\r\n",
    "ax2.hist(data_skew, bins='auto')\r\n",
    "ax2.set_title('a=3')\r\n",
    "plt.tight_layout()\r\n",
    "\r\n",
    "sig1 = data_normal\r\n",
    "print(\"media : \", np.mean(sig1))\r\n",
    "print(\"varianza  : \", np.var(sig1))\r\n",
    "print(\"asimetría : \", skew(sig1))\r\n",
    "print(\"curtosis : \", kurtosis(sig1))"
   ],
   "outputs": [
    {
     "output_type": "stream",
     "name": "stdout",
     "text": [
      "media :  -0.13066696877550313\n",
      "varianza  :  399.8288952629838\n",
      "asimetría :  0.0024274188352749297\n",
      "curtosis :  -0.041648281654592\n"
     ]
    },
    {
     "output_type": "display_data",
     "data": {
      "text/plain": [
       "<Figure size 432x288 with 2 Axes>"
      ],
      "image/png": "[encoded data removed]"
     },
     "metadata": {
      "needs_background": "light"
     }
    }
   ],
   "metadata": {}
  },
  {
   "cell_type": "markdown",
   "source": [
    "# Estadística Inferencial \r\n",
    "\r\n",
    "## ¿Qué es la estadística inferencial?\r\n",
    "\r\n",
    "- Permite **obtener información de características de una población a partir de muestras**.\r\n",
    "- Muestra debe ser lo suficientemente grande y representativa.\r\n",
    "- Por población nos referimos a la población de valores un atributo (p.e. población de tallas, población de pesos, población de coeficiente intelectual, etc.)\r\n",
    "- En investigaciones psicológicas con seres humanos, usualmente un individuo de una población alberga múltiples atributos de interés.\r\n",
    "- Población de valores de un atributo ≠ Población de personas.\r\n",
    "\r\n",
    "## Prueba de hipótesis\r\n",
    "\r\n",
    "Podemos dividir el proceso de prueba de hipótesis en varios pasos:\r\n",
    "\r\n",
    "1. Formular una hipótesis que encarne nuestra predicción (antes de ver los datos)\r\n",
    "2. Especificar hipótesis nulas y alternas\r\n",
    "3. Recopilar algunos datos relevantes para la hipótesis.\r\n",
    "4. Ajustar un modelo a los datos que representan la hipótesis alternativa y calcular una estadística de prueba\r\n",
    "5. Calcular la probabilidad del valor observado de ese estadístico asumiendo que la hipótesis nula es verdadera\r\n",
    "6. Evaluar la \"significación estadística\" del resultado\r\n",
    "\r\n",
    "Para un ejemplo práctico, usemos los datos de NHANES para hacer la siguiente pregunta: ¿La actividad física está relacionada con el índice de masa corporal? En el conjunto de datos de NHANES, se preguntó a los participantes si participaban regularmente en deportes, fitness o actividades recreativas de intensidad moderada o vigorosa (almacenados en la variable `WalkOrBicycle`). Los investigadores también midieron la altura y el peso y los utilizaron para calcular el índice de masa corporal (IMC):\r\n",
    "\r\n",
    "$$ IMC = \\frac{Peso (kg)}{Altura (m)^{2}} $$\r\n",
    "\r\n",
    "### Paso 1: Formular una hipótesis de interés\r\n",
    "\r\n",
    "Planteamos la hipótesis de que el IMC es mayor para las personas que no realizan actividad física, en comparación con las que sí hacen.\r\n",
    "\r\n",
    "### Paso 2: Especificar hipótesis nulas y alternas\r\n",
    "\r\n",
    "Para el paso 2, necesitamos especificar nuestra hipótesis nula (que llamamos $H_{0}$) y nuestra hipótesis alternativa (que llamamos H_{1}).\r\n",
    "\r\n",
    "$H_{0}$ es la línea de base contra la cual probamos nuestra hipótesis de interés: es decir, ¿cómo esperaríamos que se vean los datos si no hubiera ningún efecto? La hipótesis nula siempre implica algún tipo de igualdad (=, ≤ o ≥).\r\n",
    "\r\n",
    "$H_{1}$ describe lo que esperamos si realmente hay un efecto. La hipótesis alternativa siempre implica algún tipo de desigualdad (≠, > o <). Es importante destacar que la prueba de hipótesis opera bajo el supuesto de que la hipótesis nula es verdadera a menos que la evidencia demuestre lo contrario.\r\n",
    "\r\n",
    "También tenemos que decidir si queremos probar una hipótesis direccional o no direccional. Una hipótesis no direccional simplemente predice que habrá una diferencia, sin predecir en qué dirección irá. Para el ejemplo de IMC/actividad, una hipótesis nula no direccional sería:\r\n",
    "\r\n",
    "$$ H_{0}: BMI_{activo} = BMI_{inactivo} $$\r\n",
    "\r\n",
    "y la hipótesis alternativa no direccional correspondiente sería:\r\n",
    "\r\n",
    "$$ H_{1}: BMI_{activo} \\neq  BMI_{inactivo} $$\r\n",
    "\r\n",
    "Una hipótesis direccional, por otro lado, predice en qué dirección iría la diferencia. Por ejemplo, tenemos un conocimiento previo sólido para predecir que las personas que realizan actividad física deben pesar menos que las que no, por lo que propondríamos la siguiente hipótesis nula direccional:\r\n",
    "\r\n",
    "$$ H_{0}: BMI_{activo} \\geq BMI_{inactivo} $$\r\n",
    "\r\n",
    "y la alterna direccional:\r\n",
    "\r\n",
    "$$ H_{1}: BMI_{activo} < BMI_{inactivo} $$\r\n",
    "\r\n",
    "Probar una hipótesis no direccional es más conservador, por lo que generalmente se prefiere a menos que exista una fuerte razón a priori para hipotetizar un efecto en una dirección particular. Las hipótesis, incluso si son direccionales o no, siempre deben especificarse antes de mirar los datos.\r\n",
    "\r\n",
    "### Paso 3: Recolectar algunos datos\r\n",
    "\r\n",
    "En este caso, muestrearemos 150 individuos del conjunto de datos de NHANES. El gráfico muestra un ejemplo de tal muestra, con el IMC mostrado por separado para individuos activos e inactivos, y la tabla muestra estadísticas resumidas para cada grupo:"
   ],
   "metadata": {}
  },
  {
   "cell_type": "code",
   "execution_count": 29,
   "source": [
    "sample_size = 150\r\n",
    "bmi_sample = adult_nhanes_data.sample(sample_size,random_state=100)[['BodyMassIndexKgm2','WalkOrBicycle']]\r\n",
    "bmi_sample.groupby('WalkOrBicycle').agg(['count','mean','std'])"
   ],
   "outputs": [
    {
     "output_type": "execute_result",
     "data": {
      "text/plain": [
       "              BodyMassIndexKgm2                     \n",
       "                          count       mean       std\n",
       "WalkOrBicycle                                       \n",
       "0.0                         111  30.613514  7.383353\n",
       "1.0                          39  27.258974  5.931127"
      ],
      "text/html": [
       "<div>\n",
       "<style scoped>\n",
       "    .dataframe tbody tr th:only-of-type {\n",
       "        vertical-align: middle;\n",
       "    }\n",
       "\n",
       "    .dataframe tbody tr th {\n",
       "        vertical-align: top;\n",
       "    }\n",
       "\n",
       "    .dataframe thead tr th {\n",
       "        text-align: left;\n",
       "    }\n",
       "\n",
       "    .dataframe thead tr:last-of-type th {\n",
       "        text-align: right;\n",
       "    }\n",
       "</style>\n",
       "<table border=\"1\" class=\"dataframe\">\n",
       "  <thead>\n",
       "    <tr>\n",
       "      <th></th>\n",
       "      <th colspan=\"3\" halign=\"left\">BodyMassIndexKgm2</th>\n",
       "    </tr>\n",
       "    <tr>\n",
       "      <th></th>\n",
       "      <th>count</th>\n",
       "      <th>mean</th>\n",
       "      <th>std</th>\n",
       "    </tr>\n",
       "    <tr>\n",
       "      <th>WalkOrBicycle</th>\n",
       "      <th></th>\n",
       "      <th></th>\n",
       "      <th></th>\n",
       "    </tr>\n",
       "  </thead>\n",
       "  <tbody>\n",
       "    <tr>\n",
       "      <th>0.0</th>\n",
       "      <td>111</td>\n",
       "      <td>30.613514</td>\n",
       "      <td>7.383353</td>\n",
       "    </tr>\n",
       "    <tr>\n",
       "      <th>1.0</th>\n",
       "      <td>39</td>\n",
       "      <td>27.258974</td>\n",
       "      <td>5.931127</td>\n",
       "    </tr>\n",
       "  </tbody>\n",
       "</table>\n",
       "</div>"
      ]
     },
     "metadata": {},
     "execution_count": 29
    }
   ],
   "metadata": {}
  },
  {
   "cell_type": "code",
   "execution_count": 27,
   "source": [
    "import seaborn as sns\r\n",
    "sns.boxplot(x='WalkOrBicycle', y='BodyMassIndexKgm2', data=bmi_sample)\r\n",
    "plt.xlabel('¿Activo físicamente?',size=14);\r\n",
    "plt.xticks([0,1],['No','Sí'])\r\n",
    "plt.ylabel('IMC',size=14);"
   ],
   "outputs": [
    {
     "output_type": "display_data",
     "data": {
      "text/plain": [
       "<Figure size 432x288 with 1 Axes>"
      ],
      "image/png": "[encoded data removed]"
     },
     "metadata": {
      "needs_background": "light"
     }
    }
   ],
   "metadata": {}
  },
  {
   "cell_type": "markdown",
   "source": [
    "### Paso 4: Ajustar un modelo a los datos y calcular un estadístico de prueba\r\n",
    "\r\n",
    "A continuación, queremos usar los datos para calcular una estadística que finalmente nos permitirá decidir si la hipótesis nula se rechaza o no. Para hacer esto, el modelo necesita cuantificar la cantidad de evidencia a favor de la hipótesis alterna, en relación con la variabilidad de los datos. Por tanto, podemos pensar en el estadístico de prueba como una medida del tamaño del efecto en comparación con la variabilidad de los datos. En general, este estadístico de prueba tendrá una distribución de probabilidad asociada, porque eso nos permite determinar qué tan probable es nuestro valor observado del estadístico bajo la hipótesis nula.\r\n",
    "\r\n",
    "Para el ejemplo del IMC, necesitamos un estadístico de prueba que nos permita probar la diferencia entre dos medias, ya que las hipótesis se expresan en términos de IMC medio de cada grupo. Una estadística que se utiliza a menudo para comparar dos medias es la estadística $t$, desarrollada por primera vez por el estadístico William Sealy Gossett, quien trabajó para Guiness Brewery en Dublín y escribió bajo el seudónimo \"Student\"; por lo tanto, a menudo se llama *estadístico t de Student*. El estadístico t es apropiado para comparar las medias de dos grupos cuando los tamaños de muestra son relativamente pequeños y se desconoce la desviación estándar de la población. El estadístico t para la comparación de dos grupos independientes se calcula como:\r\n",
    "\r\n",
    "$$ t=\\frac{\\bar{X}_{1}-\\bar{X}_{2}}{\\frac{S^{2}_{1}}{n_{1}} + \\frac{S^{2}_{2}}{n_{2}}} $$\r\n",
    "\r\n",
    "donde $\\bar{X}_{1}$ y $\\bar{X}_{2}$ son las medias de ambos grupos, $S^{2}_{1}$ y $S^{2}_{2}$ son las varianzas estimadas de los grupos, y $n_{1}$ y $n_{2}$ son los tamaños de ambos grupos. Porque la varianza de una diferencia entre dos variables es la suma de las varianzas de cada variable individual $ (var(A-B))=var(A) + var(B))$, sumamos las varianzas para cada grupo divididas por sus tamaños de muestra para calcular el error estándar de la diferencia. Por lo tanto, se puede ver el estadístico $t$ como una forma de cuantificar qué tan grande es la diferencia entre grupos en relación con la variabilidad muestral de la diferencia entre medias.\r\n",
    "\r\n",
    "El estadístico $t$ se distribuye de acuerdo con una distribución de probabilidad conocida como distribución t. La distribución t se parece bastante a una distribución normal, pero difiere según el número de grados de libertad. Cuando los grados de libertad son grandes (digamos 1000), entonces la distribución t se parece esencialmente a la distribución normal, pero cuando son pequeños, la distribución t tiene colas más largas que la normal. En el caso más simple, donde los grupos son del mismo tamaño y tienen la misma varianza, los grados de libertad para la prueba t son el número de observaciones menos 2, ya que hemos calculado dos medias y, por lo tanto, hemos renunciado a dos grados de libertad. \r\n",
    "\r\n",
    "En este caso, está bastante claro a partir del diagrama de caja que el grupo inactivo es más variable que el grupo activo, y los números en cada grupo difieren, por lo que debemos usar una fórmula un poco más compleja para los grados de libertad, que a menudo se denomina como una \"prueba t de Welch\". La formula es:\r\n",
    "\r\n",
    "$$ d.f. = \\frac{ \\left(\\frac{S^{2}_{1}}{n_{1}}+\\frac{S^{2}_{2}}{n_{2}}\\right)^{2} }{\\frac{\\left ( \\frac{S^{2}_{1}}{n_{1}} \\right )^{2} }{n_{1}-1} +  \\frac{\\left ( \\frac{S^{2}_{2}}{n_{2}} \\right )^{2} }{n_{2}-1}                 } $$\r\n",
    "\r\n",
    "\r\n",
    "Esto será igual a $n_{1}+n_{2}-2$ cuando las varianzas y los tamaños de la muestra sean iguales, y de lo contrario será más pequeño, imponiendo de hecho una penalización en la prueba por diferencias en el tamaño o varianza de la muestra.\r\n",
    "\r\n",
    "### Paso 5: Determinar la probabilidad del resultado observado bajo la hipótesis nula\r\n",
    "\r\n",
    "Este es el paso en el que la prueba de hipótesis comienza a violar nuestra intuición. En lugar de determinar la probabilidad de que la hipótesis nula sea verdadera dados los datos, en cambio, **determinamos la probabilidad de observar una estadística al menos tan extrema como la que hemos observado bajo la hipótesis nula - ¡porque comenzamos asumiendo que la hipótesis nula es cierta!** \r\n",
    "\r\n",
    "Para hacer esto, necesitamos conocer la distribución de probabilidad esperada para el estadístico bajo la hipótesis nula, de modo que podamos preguntarnos qué tan probable sería el resultado bajo esa distribución. Ten en cuenta que cuando decimos \"qué tan probable sería el resultado\", lo que realmente queremos decir es \"qué tan probable sería el resultado observado o uno más extremo\". \r\n",
    "\r\n",
    "Hay (al menos) dos razones por las que necesitamos agregar esta advertencia. La primera es que cuando hablamos de valores continuos, la probabilidad de cualquier valor en particular es cero (como recordará si has tomado una clase de cálculo). Más importante aún, estamos tratando de determinar qué tan extraño sería nuestro resultado si la hipótesis nula fuera cierta, y cualquier resultado que sea más extremo sería aún más extraño, por lo que queremos contar todas esas posibilidades más extrañas cuando calculamos la probabilidad de nuestro resultado bajo la hipótesis nula.\r\n",
    "\r\n",
    "Podemos obtener esta \"distribución nula\" utilizando una distribución teórica (como la distribución t) o utilizando la aleatorización. Ahora implementemos una prueba t de student de Welch: "
   ],
   "metadata": {}
  },
  {
   "cell_type": "code",
   "execution_count": 51,
   "source": [
    "from scipy.stats import ttest_ind\r\n",
    "\r\n",
    "# Generamos una variable por cada grupo a comparar\r\n",
    "grupo1=bmi_sample.query('WalkOrBicycle == 0')['BodyMassIndexKgm2']\r\n",
    "grupo2=bmi_sample.query('WalkOrBicycle == 1')['BodyMassIndexKgm2']\r\n",
    "\r\n",
    "# Llamamos la función ttest_ind con el parámetro equal_var como Falso\r\n",
    "ttest_ind(grupo1,grupo2,equal_var=False)"
   ],
   "outputs": [
    {
     "output_type": "execute_result",
     "data": {
      "text/plain": [
       "Ttest_indResult(statistic=2.8420917422087077, pvalue=0.005650248534570324)"
      ]
     },
     "metadata": {},
     "execution_count": 51
    }
   ],
   "metadata": {}
  },
  {
   "cell_type": "markdown",
   "source": [
    "### Paso 6: Evaluar la \"significancia estadística\" del resultado\r\n",
    "\r\n",
    "El siguiente paso es determinar si el valor p que resulta del paso anterior es lo suficientemente pequeño como para que estemos dispuestos a rechazar la hipótesis nula y, en cambio, concluir que la alternativa es verdadera. ¿Cuánta evidencia necesitamos? Esta es una de las preguntas más controvertidas en estadística, en parte porque requiere un juicio subjetivo: no hay una respuesta \"correcta\".\r\n",
    "\r\n",
    "Históricamente, la respuesta más común a esta pregunta ha sido que **deberíamos rechazar la hipótesis nula si el valor p es menor que 0.05**. Esto proviene de los escritos de Ronald Fisher, a quien se ha referido como \"la figura más importante de las estadísticas del siglo XX\" (Efron 1998):\r\n",
    "\r\n",
    ">“If P is between .1 and .9 there is certainly no reason to suspect the hypothesis tested. If it is below .02 it is strongly indicated that the hypothesis fails to account for the whole of the facts. We shall not often be astray if we draw a conventional line at .05 … it is convenient to draw the line at about the level at which we can say: Either there is something in the treatment, or a coincidence has occurred such as does not occur more than once in twenty trials” (Fisher 1925)\r\n",
    "\r\n",
    "Sin embargo, **Fisher nunca pretendió que p <0.05 fuera una regla fija**:\r\n",
    "\r\n",
    ">“no scientific worker has a fixed level of significance at which from year to year, and in all circumstances, he rejects hypotheses; he rather gives his mind to each particular case in the light of his evidence and his ideas” (Fisher 1956)\r\n",
    "\r\n",
    "La elección de los umbrales estadísticos sigue siendo muy controvertida y recientemente (Benjamin et al., 2018) se ha propuesto que el umbral predeterminado se cambie de .05 a .005, lo que hace que sea sustancialmente más estricto y, por lo tanto, más difícil rechazar la hipótesis nula. En gran parte, este movimiento se debe a la creciente preocupación de que la evidencia obtenida de un resultado significativo en p <.05 sea relativamente débil.\r\n",
    "\r\n",
    "#### Prueba de hipótesis como un proceso de toma de decisiones\r\n",
    "\r\n",
    "Jerzy Neyman y Egon Pearson propusieron que pensemos en la prueba de hipótesis en términos de su tasa de error a largo plazo:\r\n",
    "\r\n",
    ">“no test based upon a theory of probability can by itself provide any valuable evidence of the truth or falsehood of a hypothesis. But we may look at the purpose of tests from another viewpoint. Without hoping to know whether each separate hypothesis is true or false, we may search for rules to govern our behaviour with regard to them, in following which we insure that, in the long run of experience, we shall not often be wrong” (Neyman and Pearson 1933)\r\n",
    "\r\n",
    "Es decir: no podemos saber qué decisiones específicas son correctas o incorrectas, pero si seguimos las reglas, al menos podemos saber con qué frecuencia nuestras decisiones serán incorrectas a largo plazo.\r\n",
    "\r\n",
    "Para comprender el marco de toma de decisiones que desarrollaron Neyman y Pearson, primero debemos analizar la toma de decisiones estadísticas en términos de los tipos de resultados que pueden ocurrir. Hay dos estados posibles de la realidad (H0 es verdadera o H0 es falsa) y dos decisiones posibles (rechazar H0 o retener H0). Hay dos formas en las que podemos tomar una decisión correcta:\r\n",
    "\r\n",
    "- Podemos rechazar H0 cuando es falsa (en el lenguaje de la teoría de detección de señales, llamamos a esto un acierto)\r\n",
    "- Podemos retener H0 cuando es verdadera (algo confuso en este contexto, esto se llama un rechazo correcto)\r\n",
    "\r\n",
    "También hay dos tipos de errores que podemos cometer:\r\n",
    "\r\n",
    "- Podemos rechazar H0 cuando en realidad es cierta (a esto lo llamamos una falsa alarma o un error de tipo I)\r\n",
    "- Podemos retener H0 cuando en realidad es falsa (a esto lo llamamos un error o error de Tipo II) \r\n",
    "   \r\n",
    "Neyman y Pearson acuñaron dos términos para describir la probabilidad de estos dos tipos de errores a largo plazo:\r\n",
    "\r\n",
    "- P(error tipo I) = $\\alpha$\r\n",
    "- P(error tipo II) = $\\beta$\r\n",
    " \r\n",
    "Es decir, si establecemos $\\alpha$ en .05, a largo plazo deberíamos cometer un error de Tipo I el 5% de las veces. Mientras que es común establecer α como .05, el valor estándar para un nivel aceptable de $\\beta$ es .2, es decir, estamos dispuestos a aceptar que el 20% de las veces no detectaremos un efecto verdadero cuando realmente existe."
   ],
   "metadata": {}
  }
 ],
 "metadata": {
  "orig_nbformat": 4,
  "language_info": {
   "name": "python",
   "version": "3.7.10",
   "mimetype": "text/x-python",
   "codemirror_mode": {
    "name": "ipython",
    "version": 3
   },
   "pygments_lexer": "ipython3",
   "nbconvert_exporter": "python",
   "file_extension": ".py"
  },
  "kernelspec": {
   "name": "python3",
   "display_name": "Python 3.7.10 64-bit ('base': conda)"
  },
  "interpreter": {
   "hash": "fcc1d2c210046f8d6f0962280d91bf96fd89619bab60881df3e6b70c67140f94"
  }
 },
 "nbformat": 4,
 "nbformat_minor": 2
}