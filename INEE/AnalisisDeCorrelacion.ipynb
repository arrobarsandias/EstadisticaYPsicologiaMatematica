{
 "cells": [
  {
   "cell_type": "markdown",
   "metadata": {},
   "source": [
    "# Análisis de correlación"
   ]
  },
  {
   "cell_type": "code",
   "execution_count": null,
   "metadata": {},
   "outputs": [],
   "source": [
    "# Instala dependencias\n",
    "!pip install pingouin\n",
    "!pip install pyreadstat\n",
    "!wget https://github.com/renatoparedes/EstadisticaYPsicologiaMatematica/raw/main/INEE/Clase8_BaseAnalisisDeCorrelacion.sav"
   ]
  },
  {
   "cell_type": "markdown",
   "metadata": {},
   "source": [
    "## Visualización de datos"
   ]
  },
  {
   "cell_type": "code",
   "execution_count": 1,
   "metadata": {},
   "outputs": [
    {
     "data": {
      "text/html": [
       "<div>\n",
       "<style scoped>\n",
       "    .dataframe tbody tr th:only-of-type {\n",
       "        vertical-align: middle;\n",
       "    }\n",
       "\n",
       "    .dataframe tbody tr th {\n",
       "        vertical-align: top;\n",
       "    }\n",
       "\n",
       "    .dataframe thead th {\n",
       "        text-align: right;\n",
       "    }\n",
       "</style>\n",
       "<table border=\"1\" class=\"dataframe\">\n",
       "  <thead>\n",
       "    <tr style=\"text-align: right;\">\n",
       "      <th></th>\n",
       "      <th>Participantes</th>\n",
       "      <th>Bienestar_social</th>\n",
       "      <th>Salud</th>\n",
       "      <th>Resiliencia</th>\n",
       "      <th>Estrés</th>\n",
       "      <th>Depresión</th>\n",
       "    </tr>\n",
       "  </thead>\n",
       "  <tbody>\n",
       "    <tr>\n",
       "      <th>0</th>\n",
       "      <td>001</td>\n",
       "      <td>36.983722</td>\n",
       "      <td>108.111364</td>\n",
       "      <td>4.887907</td>\n",
       "      <td>-15.03</td>\n",
       "      <td>-11.41</td>\n",
       "    </tr>\n",
       "    <tr>\n",
       "      <th>1</th>\n",
       "      <td>002</td>\n",
       "      <td>91.805362</td>\n",
       "      <td>137.268316</td>\n",
       "      <td>5.173486</td>\n",
       "      <td>-12.92</td>\n",
       "      <td>-13.84</td>\n",
       "    </tr>\n",
       "    <tr>\n",
       "      <th>2</th>\n",
       "      <td>003</td>\n",
       "      <td>35.254443</td>\n",
       "      <td>88.074871</td>\n",
       "      <td>3.501057</td>\n",
       "      <td>-13.83</td>\n",
       "      <td>-10.12</td>\n",
       "    </tr>\n",
       "    <tr>\n",
       "      <th>3</th>\n",
       "      <td>004</td>\n",
       "      <td>75.925420</td>\n",
       "      <td>204.576642</td>\n",
       "      <td>3.506270</td>\n",
       "      <td>-7.32</td>\n",
       "      <td>-9.65</td>\n",
       "    </tr>\n",
       "    <tr>\n",
       "      <th>4</th>\n",
       "      <td>005</td>\n",
       "      <td>39.223806</td>\n",
       "      <td>146.542058</td>\n",
       "      <td>1.504087</td>\n",
       "      <td>-8.89</td>\n",
       "      <td>-5.55</td>\n",
       "    </tr>\n",
       "    <tr>\n",
       "      <th>...</th>\n",
       "      <td>...</td>\n",
       "      <td>...</td>\n",
       "      <td>...</td>\n",
       "      <td>...</td>\n",
       "      <td>...</td>\n",
       "      <td>...</td>\n",
       "    </tr>\n",
       "    <tr>\n",
       "      <th>95</th>\n",
       "      <td>096</td>\n",
       "      <td>42.887118</td>\n",
       "      <td>145.048829</td>\n",
       "      <td>4.732098</td>\n",
       "      <td>-11.15</td>\n",
       "      <td>-11.74</td>\n",
       "    </tr>\n",
       "    <tr>\n",
       "      <th>96</th>\n",
       "      <td>097</td>\n",
       "      <td>65.297168</td>\n",
       "      <td>76.085918</td>\n",
       "      <td>3.581279</td>\n",
       "      <td>-8.66</td>\n",
       "      <td>-9.59</td>\n",
       "    </tr>\n",
       "    <tr>\n",
       "      <th>97</th>\n",
       "      <td>098</td>\n",
       "      <td>50.200543</td>\n",
       "      <td>166.563773</td>\n",
       "      <td>5.075703</td>\n",
       "      <td>-14.34</td>\n",
       "      <td>-12.46</td>\n",
       "    </tr>\n",
       "    <tr>\n",
       "      <th>98</th>\n",
       "      <td>099</td>\n",
       "      <td>30.403325</td>\n",
       "      <td>67.443505</td>\n",
       "      <td>3.118402</td>\n",
       "      <td>-8.20</td>\n",
       "      <td>-8.53</td>\n",
       "    </tr>\n",
       "    <tr>\n",
       "      <th>99</th>\n",
       "      <td>100</td>\n",
       "      <td>47.627998</td>\n",
       "      <td>78.383763</td>\n",
       "      <td>3.289037</td>\n",
       "      <td>-5.34</td>\n",
       "      <td>-8.69</td>\n",
       "    </tr>\n",
       "  </tbody>\n",
       "</table>\n",
       "<p>100 rows × 6 columns</p>\n",
       "</div>"
      ],
      "text/plain": [
       "   Participantes  Bienestar_social       Salud  Resiliencia  Estrés  Depresión\n",
       "0            001         36.983722  108.111364     4.887907  -15.03     -11.41\n",
       "1            002         91.805362  137.268316     5.173486  -12.92     -13.84\n",
       "2            003         35.254443   88.074871     3.501057  -13.83     -10.12\n",
       "3            004         75.925420  204.576642     3.506270   -7.32      -9.65\n",
       "4            005         39.223806  146.542058     1.504087   -8.89      -5.55\n",
       "..           ...               ...         ...          ...     ...        ...\n",
       "95           096         42.887118  145.048829     4.732098  -11.15     -11.74\n",
       "96           097         65.297168   76.085918     3.581279   -8.66      -9.59\n",
       "97           098         50.200543  166.563773     5.075703  -14.34     -12.46\n",
       "98           099         30.403325   67.443505     3.118402   -8.20      -8.53\n",
       "99           100         47.627998   78.383763     3.289037   -5.34      -8.69\n",
       "\n",
       "[100 rows x 6 columns]"
      ]
     },
     "execution_count": 1,
     "metadata": {},
     "output_type": "execute_result"
    }
   ],
   "source": [
    "import pandas as pd\n",
    "\n",
    "df = pd.read_spss(\"Clase8_BaseAnalisisDeCorrelacion.sav\")\n",
    "df"
   ]
  },
  {
   "cell_type": "code",
   "execution_count": 2,
   "metadata": {},
   "outputs": [
    {
     "data": {
      "image/png": "[encoded data removed]",
      "text/plain": [
       "<Figure size 640x480 with 1 Axes>"
      ]
     },
     "metadata": {},
     "output_type": "display_data"
    }
   ],
   "source": [
    "import seaborn as sns\n",
    "import matplotlib.pyplot as plt\n",
    "\n",
    "sns.scatterplot(x=\"Resiliencia\", y=\"Estrés\", data=df)\n",
    "plt.show()"
   ]
  },
  {
   "cell_type": "markdown",
   "metadata": {},
   "source": [
    "## Descripción de los datos"
   ]
  },
  {
   "cell_type": "code",
   "execution_count": 3,
   "metadata": {},
   "outputs": [
    {
     "data": {
      "text/html": [
       "<div>\n",
       "<style scoped>\n",
       "    .dataframe tbody tr th:only-of-type {\n",
       "        vertical-align: middle;\n",
       "    }\n",
       "\n",
       "    .dataframe tbody tr th {\n",
       "        vertical-align: top;\n",
       "    }\n",
       "\n",
       "    .dataframe thead th {\n",
       "        text-align: right;\n",
       "    }\n",
       "</style>\n",
       "<table border=\"1\" class=\"dataframe\">\n",
       "  <thead>\n",
       "    <tr style=\"text-align: right;\">\n",
       "      <th></th>\n",
       "      <th>Resiliencia</th>\n",
       "      <th>Estrés</th>\n",
       "    </tr>\n",
       "  </thead>\n",
       "  <tbody>\n",
       "    <tr>\n",
       "      <th>count</th>\n",
       "      <td>100.000000</td>\n",
       "      <td>100.000000</td>\n",
       "    </tr>\n",
       "    <tr>\n",
       "      <th>mean</th>\n",
       "      <td>3.910544</td>\n",
       "      <td>-10.383400</td>\n",
       "    </tr>\n",
       "    <tr>\n",
       "      <th>std</th>\n",
       "      <td>1.021960</td>\n",
       "      <td>3.538318</td>\n",
       "    </tr>\n",
       "    <tr>\n",
       "      <th>min</th>\n",
       "      <td>1.504087</td>\n",
       "      <td>-19.150000</td>\n",
       "    </tr>\n",
       "    <tr>\n",
       "      <th>25%</th>\n",
       "      <td>3.172530</td>\n",
       "      <td>-12.752500</td>\n",
       "    </tr>\n",
       "    <tr>\n",
       "      <th>50%</th>\n",
       "      <td>3.939153</td>\n",
       "      <td>-10.955000</td>\n",
       "    </tr>\n",
       "    <tr>\n",
       "      <th>75%</th>\n",
       "      <td>4.730535</td>\n",
       "      <td>-7.655000</td>\n",
       "    </tr>\n",
       "    <tr>\n",
       "      <th>max</th>\n",
       "      <td>6.551945</td>\n",
       "      <td>-1.490000</td>\n",
       "    </tr>\n",
       "  </tbody>\n",
       "</table>\n",
       "</div>"
      ],
      "text/plain": [
       "       Resiliencia      Estrés\n",
       "count   100.000000  100.000000\n",
       "mean      3.910544  -10.383400\n",
       "std       1.021960    3.538318\n",
       "min       1.504087  -19.150000\n",
       "25%       3.172530  -12.752500\n",
       "50%       3.939153  -10.955000\n",
       "75%       4.730535   -7.655000\n",
       "max       6.551945   -1.490000"
      ]
     },
     "execution_count": 3,
     "metadata": {},
     "output_type": "execute_result"
    }
   ],
   "source": [
    "df[[\"Resiliencia\", \"Estrés\"]].describe()"
   ]
  },
  {
   "cell_type": "markdown",
   "metadata": {},
   "source": [
    "## Análisis de normalidad"
   ]
  },
  {
   "cell_type": "code",
   "execution_count": 4,
   "metadata": {},
   "outputs": [
    {
     "data": {
      "text/plain": [
       "<AxesSubplot:title={'center':'Q-Q Plot'}, xlabel='Theoretical quantiles', ylabel='Ordered quantiles'>"
      ]
     },
     "execution_count": 4,
     "metadata": {},
     "output_type": "execute_result"
    },
    {
     "data": {
      "image/png": "[encoded data removed]",
      "text/plain": [
       "<Figure size 500x400 with 1 Axes>"
      ]
     },
     "metadata": {},
     "output_type": "display_data"
    }
   ],
   "source": [
    "import pingouin as pg\n",
    "\n",
    "pg.qqplot(df[\"Estrés\"])"
   ]
  },
  {
   "cell_type": "code",
   "execution_count": 5,
   "metadata": {},
   "outputs": [
    {
     "data": {
      "text/plain": [
       "<AxesSubplot:title={'center':'Q-Q Plot'}, xlabel='Theoretical quantiles', ylabel='Ordered quantiles'>"
      ]
     },
     "execution_count": 5,
     "metadata": {},
     "output_type": "execute_result"
    },
    {
     "data": {
      "image/png": "[encoded data removed]",
      "text/plain": [
       "<Figure size 500x400 with 1 Axes>"
      ]
     },
     "metadata": {},
     "output_type": "display_data"
    }
   ],
   "source": [
    "pg.qqplot(df[\"Resiliencia\"])"
   ]
  },
  {
   "cell_type": "code",
   "execution_count": 6,
   "metadata": {},
   "outputs": [
    {
     "data": {
      "text/html": [
       "<div>\n",
       "<style scoped>\n",
       "    .dataframe tbody tr th:only-of-type {\n",
       "        vertical-align: middle;\n",
       "    }\n",
       "\n",
       "    .dataframe tbody tr th {\n",
       "        vertical-align: top;\n",
       "    }\n",
       "\n",
       "    .dataframe thead th {\n",
       "        text-align: right;\n",
       "    }\n",
       "</style>\n",
       "<table border=\"1\" class=\"dataframe\">\n",
       "  <thead>\n",
       "    <tr style=\"text-align: right;\">\n",
       "      <th></th>\n",
       "      <th>W</th>\n",
       "      <th>pval</th>\n",
       "      <th>normal</th>\n",
       "    </tr>\n",
       "  </thead>\n",
       "  <tbody>\n",
       "    <tr>\n",
       "      <th>Resiliencia</th>\n",
       "      <td>0.983672</td>\n",
       "      <td>0.253783</td>\n",
       "      <td>True</td>\n",
       "    </tr>\n",
       "    <tr>\n",
       "      <th>Estrés</th>\n",
       "      <td>0.989079</td>\n",
       "      <td>0.590817</td>\n",
       "      <td>True</td>\n",
       "    </tr>\n",
       "  </tbody>\n",
       "</table>\n",
       "</div>"
      ],
      "text/plain": [
       "                    W      pval  normal\n",
       "Resiliencia  0.983672  0.253783    True\n",
       "Estrés       0.989079  0.590817    True"
      ]
     },
     "execution_count": 6,
     "metadata": {},
     "output_type": "execute_result"
    }
   ],
   "source": [
    "pg.normality(data=df[[\"Resiliencia\", \"Estrés\"]], method=\"shapiro\")"
   ]
  },
  {
   "cell_type": "code",
   "execution_count": 7,
   "metadata": {},
   "outputs": [
    {
     "name": "stdout",
     "output_type": "stream",
     "text": [
      "Postest\n",
      "Asimetría: -0.06569547128280581\n",
      "Curtosis: -0.2592853442627421\n"
     ]
    }
   ],
   "source": [
    "print(\"Postest\")\n",
    "print(\"Asimetría:\", df[\"Resiliencia\"].skew())\n",
    "print(\"Curtosis:\", df[\"Estrés\"].kurtosis())"
   ]
  },
  {
   "cell_type": "code",
   "execution_count": 8,
   "metadata": {},
   "outputs": [
    {
     "name": "stdout",
     "output_type": "stream",
     "text": [
      "Pretest\n",
      "Asimetría: -0.06569547128280581\n",
      "Curtosis: -0.2592853442627421\n"
     ]
    }
   ],
   "source": [
    "print(\"Pretest\")\n",
    "print(\"Asimetría:\", df[\"Resiliencia\"].skew())\n",
    "print(\"Curtosis:\", df[\"Estrés\"].kurtosis())"
   ]
  },
  {
   "cell_type": "markdown",
   "metadata": {},
   "source": [
    "Ambas distribuciones se aproximan a la distribución normal. Por tanto, corresponde emplear un análisis de correlación paramétrico. En este caso, la correlación de Pearson."
   ]
  },
  {
   "cell_type": "markdown",
   "metadata": {},
   "source": [
    "## Análisis de correlación paramétrico"
   ]
  },
  {
   "cell_type": "code",
   "execution_count": 9,
   "metadata": {},
   "outputs": [
    {
     "data": {
      "text/html": [
       "<div>\n",
       "<style scoped>\n",
       "    .dataframe tbody tr th:only-of-type {\n",
       "        vertical-align: middle;\n",
       "    }\n",
       "\n",
       "    .dataframe tbody tr th {\n",
       "        vertical-align: top;\n",
       "    }\n",
       "\n",
       "    .dataframe thead th {\n",
       "        text-align: right;\n",
       "    }\n",
       "</style>\n",
       "<table border=\"1\" class=\"dataframe\">\n",
       "  <thead>\n",
       "    <tr style=\"text-align: right;\">\n",
       "      <th></th>\n",
       "      <th>Resiliencia</th>\n",
       "      <th>Estrés</th>\n",
       "    </tr>\n",
       "  </thead>\n",
       "  <tbody>\n",
       "    <tr>\n",
       "      <th>Resiliencia</th>\n",
       "      <td>-</td>\n",
       "      <td>***</td>\n",
       "    </tr>\n",
       "    <tr>\n",
       "      <th>Estrés</th>\n",
       "      <td>-0.544</td>\n",
       "      <td>-</td>\n",
       "    </tr>\n",
       "  </tbody>\n",
       "</table>\n",
       "</div>"
      ],
      "text/plain": [
       "            Resiliencia Estrés\n",
       "Resiliencia           -    ***\n",
       "Estrés           -0.544      -"
      ]
     },
     "execution_count": 9,
     "metadata": {},
     "output_type": "execute_result"
    }
   ],
   "source": [
    "df[[\"Resiliencia\", \"Estrés\"]].rcorr()"
   ]
  },
  {
   "cell_type": "code",
   "execution_count": 10,
   "metadata": {},
   "outputs": [
    {
     "data": {
      "text/html": [
       "<div>\n",
       "<style scoped>\n",
       "    .dataframe tbody tr th:only-of-type {\n",
       "        vertical-align: middle;\n",
       "    }\n",
       "\n",
       "    .dataframe tbody tr th {\n",
       "        vertical-align: top;\n",
       "    }\n",
       "\n",
       "    .dataframe thead th {\n",
       "        text-align: right;\n",
       "    }\n",
       "</style>\n",
       "<table border=\"1\" class=\"dataframe\">\n",
       "  <thead>\n",
       "    <tr style=\"text-align: right;\">\n",
       "      <th></th>\n",
       "      <th>X</th>\n",
       "      <th>Y</th>\n",
       "      <th>method</th>\n",
       "      <th>alternative</th>\n",
       "      <th>n</th>\n",
       "      <th>r</th>\n",
       "      <th>CI95%</th>\n",
       "      <th>p-unc</th>\n",
       "      <th>BF10</th>\n",
       "      <th>power</th>\n",
       "    </tr>\n",
       "  </thead>\n",
       "  <tbody>\n",
       "    <tr>\n",
       "      <th>0</th>\n",
       "      <td>Resiliencia</td>\n",
       "      <td>Estrés</td>\n",
       "      <td>pearson</td>\n",
       "      <td>two-sided</td>\n",
       "      <td>100</td>\n",
       "      <td>-0.543512</td>\n",
       "      <td>[-0.67, -0.39]</td>\n",
       "      <td>5.119475e-09</td>\n",
       "      <td>2.521e+06</td>\n",
       "      <td>0.999976</td>\n",
       "    </tr>\n",
       "  </tbody>\n",
       "</table>\n",
       "</div>"
      ],
      "text/plain": [
       "             X       Y   method alternative    n         r           CI95%  \\\n",
       "0  Resiliencia  Estrés  pearson   two-sided  100 -0.543512  [-0.67, -0.39]   \n",
       "\n",
       "          p-unc       BF10     power  \n",
       "0  5.119475e-09  2.521e+06  0.999976  "
      ]
     },
     "execution_count": 10,
     "metadata": {},
     "output_type": "execute_result"
    }
   ],
   "source": [
    "pg.pairwise_corr(columns=[\"Resiliencia\", \"Estrés\"], method=\"pearson\", data=df)"
   ]
  },
  {
   "cell_type": "markdown",
   "metadata": {},
   "source": [
    "## Ejercicio\n",
    "\n",
    "1. Plantear las hipótesis de trabajo (HT): analizar por separado cada hipótesis de trabajo puesto que cada una implica un H0 y H1 (hipótesis estadísticas). Ejm.: Se tiene la hipótesis que el bienestar social se asocia negativamente con sintomatología depresiva y con estrés.\n",
    "- HT1: Bienestar se asocia negativamente con sintomatología depresiva. H0: rxy = 0 , H1: rxy < 0 \n",
    "- HT2: Bienestar se asocia negativamente con estrés.\n",
    "\n",
    "2. Plantear las hipótesis estadísticas para cada HT.\n",
    "3. Explorar el patrón de relación entre las variables con un diagrama de dispersión.\n",
    "4. Evaluar la normalidad para aplicar el coeficiente de correlación pertinente.\n",
    "5. Analizar estadísticamente el contraste de hipótesis estadísticas (H0 y H1). Aplica la regla de decisión.\n",
    "6. Brindar respuesta a las hipótesis de trabajo, indicando si fue una correlación positiva, negativa o no hubo correlación significativa.\n"
   ]
  },
  {
   "cell_type": "markdown",
   "metadata": {},
   "source": [
    "### Ejercicio solucionado HT1"
   ]
  },
  {
   "cell_type": "markdown",
   "metadata": {},
   "source": [
    "Un grupo de investigadoras tiene como hipótesis principal de su estudio que el bienestar social se asocia negativamente con la sintomatología depresiva en un grupo de adultos jóvenes. Indica si se cumple dicha hipótesis."
   ]
  },
  {
   "cell_type": "markdown",
   "metadata": {},
   "source": [
    "1. Plantear la hipótesis de trabajo (HT1): \n",
    "\n",
    "El bienestar social se asocia negativamente con la sintomatología depresiva en un grupo de adultos jóvenes."
   ]
  },
  {
   "cell_type": "markdown",
   "metadata": {},
   "source": [
    "2. Plantear las hipótesis estadísticas de la HT1.\n",
    "- H0: No existe asociación entre bienestar social y sintomatología depresiva, $r_{xy} = 0$ \n",
    "- H1: Existe una asociación negativa entre BS y SD, $r_{xy} < 0$, p unilateral."
   ]
  },
  {
   "cell_type": "markdown",
   "metadata": {},
   "source": [
    "3. Explorar el patrón de relación entre las variables con un diagrama de dispersión."
   ]
  },
  {
   "cell_type": "code",
   "execution_count": 15,
   "metadata": {},
   "outputs": [
    {
     "data": {
      "image/png": "[encoded data removed]",
      "text/plain": [
       "<Figure size 640x480 with 1 Axes>"
      ]
     },
     "metadata": {},
     "output_type": "display_data"
    }
   ],
   "source": [
    "ax = sns.scatterplot(x=\"Depresión\", y=\"Bienestar_social\", data=df)\n",
    "ax.set_xlabel(\"Sintomatología depresiva\", size=14)\n",
    "ax.set_ylabel(\"Bienestar social\", size=14)\n",
    "plt.show()"
   ]
  },
  {
   "cell_type": "markdown",
   "metadata": {},
   "source": [
    "Se puede observar en la dispersión de puntos cierta tendencia hacia una relación inversa entre las variables. Pero se requiere realizar el contraste de hipótesis para concluir."
   ]
  },
  {
   "cell_type": "markdown",
   "metadata": {},
   "source": [
    "4. Evaluar la normalidad para aplicar el coeficiente de correlación pertinente."
   ]
  },
  {
   "cell_type": "code",
   "execution_count": 12,
   "metadata": {},
   "outputs": [
    {
     "data": {
      "text/html": [
       "<div>\n",
       "<style scoped>\n",
       "    .dataframe tbody tr th:only-of-type {\n",
       "        vertical-align: middle;\n",
       "    }\n",
       "\n",
       "    .dataframe tbody tr th {\n",
       "        vertical-align: top;\n",
       "    }\n",
       "\n",
       "    .dataframe thead th {\n",
       "        text-align: right;\n",
       "    }\n",
       "</style>\n",
       "<table border=\"1\" class=\"dataframe\">\n",
       "  <thead>\n",
       "    <tr style=\"text-align: right;\">\n",
       "      <th></th>\n",
       "      <th>W</th>\n",
       "      <th>pval</th>\n",
       "      <th>normal</th>\n",
       "    </tr>\n",
       "  </thead>\n",
       "  <tbody>\n",
       "    <tr>\n",
       "      <th>Depresión</th>\n",
       "      <td>0.994512</td>\n",
       "      <td>0.960469</td>\n",
       "      <td>True</td>\n",
       "    </tr>\n",
       "    <tr>\n",
       "      <th>Bienestar_social</th>\n",
       "      <td>0.979953</td>\n",
       "      <td>0.131808</td>\n",
       "      <td>True</td>\n",
       "    </tr>\n",
       "  </tbody>\n",
       "</table>\n",
       "</div>"
      ],
      "text/plain": [
       "                         W      pval  normal\n",
       "Depresión         0.994512  0.960469    True\n",
       "Bienestar_social  0.979953  0.131808    True"
      ]
     },
     "execution_count": 12,
     "metadata": {},
     "output_type": "execute_result"
    }
   ],
   "source": [
    "pg.normality(data=df[[\"Depresión\", \"Bienestar_social\"]], method=\"shapiro\")"
   ]
  },
  {
   "cell_type": "markdown",
   "metadata": {},
   "source": [
    "El análisis de normalidad indica para bienestar social un SW = .98, p = .132, y para sintomatología depresiva, SW = .995, p = .960, por lo que se acepta H0 y se rechaza H1. Es decir, las distribuciones de ambas variables son normales por lo que se llevará a cabo el análisis de correlación paramétrico de Pearson."
   ]
  },
  {
   "cell_type": "markdown",
   "metadata": {},
   "source": [
    "5. Analizar estadísticamente el contraste de hipótesis estadísticas (H0 y H1).  Aplica la regla de decisión.\n",
    "\n",
    "- H0: $r_{xy} = 0$ \n",
    "- H1: $r_{xy} < 0$   , p unilateral "
   ]
  },
  {
   "cell_type": "code",
   "execution_count": 14,
   "metadata": {},
   "outputs": [
    {
     "data": {
      "text/html": [
       "<div>\n",
       "<style scoped>\n",
       "    .dataframe tbody tr th:only-of-type {\n",
       "        vertical-align: middle;\n",
       "    }\n",
       "\n",
       "    .dataframe tbody tr th {\n",
       "        vertical-align: top;\n",
       "    }\n",
       "\n",
       "    .dataframe thead th {\n",
       "        text-align: right;\n",
       "    }\n",
       "</style>\n",
       "<table border=\"1\" class=\"dataframe\">\n",
       "  <thead>\n",
       "    <tr style=\"text-align: right;\">\n",
       "      <th></th>\n",
       "      <th>X</th>\n",
       "      <th>Y</th>\n",
       "      <th>method</th>\n",
       "      <th>alternative</th>\n",
       "      <th>n</th>\n",
       "      <th>r</th>\n",
       "      <th>CI95%</th>\n",
       "      <th>p-unc</th>\n",
       "      <th>BF10</th>\n",
       "      <th>power</th>\n",
       "    </tr>\n",
       "  </thead>\n",
       "  <tbody>\n",
       "    <tr>\n",
       "      <th>0</th>\n",
       "      <td>Depresión</td>\n",
       "      <td>Bienestar_social</td>\n",
       "      <td>pearson</td>\n",
       "      <td>less</td>\n",
       "      <td>100</td>\n",
       "      <td>-0.245222</td>\n",
       "      <td>[-1.0, -0.08]</td>\n",
       "      <td>0.006965</td>\n",
       "      <td>4.884</td>\n",
       "      <td>0.797631</td>\n",
       "    </tr>\n",
       "  </tbody>\n",
       "</table>\n",
       "</div>"
      ],
      "text/plain": [
       "           X                 Y   method alternative    n         r  \\\n",
       "0  Depresión  Bienestar_social  pearson        less  100 -0.245222   \n",
       "\n",
       "           CI95%     p-unc   BF10     power  \n",
       "0  [-1.0, -0.08]  0.006965  4.884  0.797631  "
      ]
     },
     "execution_count": 14,
     "metadata": {},
     "output_type": "execute_result"
    }
   ],
   "source": [
    "pg.pairwise_corr(\n",
    "    columns=[\"Depresión\", \"Bienestar_social\"],\n",
    "    method=\"pearson\",\n",
    "    alternative=\"less\",\n",
    "    data=df,\n",
    ")"
   ]
  },
  {
   "cell_type": "markdown",
   "metadata": {},
   "source": [
    "- Contraste de hipótesis: Se acepta H1 al encontrar una relación estadísticamente significativa entre bienestar social y sintomatología depresiva, p = .007.\n",
    "\n",
    "- Sentido: La relación es inversa, es decir, un mayor bienestar social se asocia con un menor nivel de sintomatología depresiva  y viceversa.\n",
    "\n",
    "- Fortaleza: Según el criterio de Cohen (1988), la magnitud de la relación es pequeña. "
   ]
  },
  {
   "cell_type": "markdown",
   "metadata": {},
   "source": [
    "6. Brindar respuesta a las hipótesis de trabajo, indicando si fue una correlación positiva, negativa o no hubo correlación significativa. En caso de darse una correlación significativa, indicar la fortaleza del coeficiente según los criterios de Cohen.\n",
    "\n",
    "Los resultados del análisis de correlación de Pearson evidencian que existe una relación estadísticamente significativa, negativa y pequeña, según el criterio de Cohen (1988), entre el bienestar social y la sintomatología depresiva, r(98) = -.25, p =.007 (unilateral), por lo que se cumple la hipótesis del estudio.\n",
    "\n",
    ">Nota: Los grados de libertad de los índices de asociación = n-2."
   ]
  },
  {
   "cell_type": "markdown",
   "metadata": {},
   "source": [
    "### Ejercicio solucionado HT2"
   ]
  },
  {
   "cell_type": "markdown",
   "metadata": {},
   "source": [
    "1. Plantear la hipótesis de trabajo (HT2): \n",
    "\n",
    "El bienestar social se asocia negativamente con el estrés en un grupo de adultos jóvenes."
   ]
  },
  {
   "cell_type": "markdown",
   "metadata": {},
   "source": [
    "2. Plantear las hipótesis estadísticas de la HT2.\n",
    "\n",
    "- H0: No existe asociación entre bienestar social y estrés, $r_{xy} = 0$ \n",
    "- H1: Existe una asociación negativa entre BS y E, $r_{xy} < 0$, p unilateral."
   ]
  },
  {
   "cell_type": "markdown",
   "metadata": {},
   "source": [
    "3. Explorar el patrón de relación entre las variables con un diagrama de dispersión."
   ]
  },
  {
   "cell_type": "code",
   "execution_count": 16,
   "metadata": {},
   "outputs": [
    {
     "data": {
      "image/png": "[encoded data removed]",
      "text/plain": [
       "<Figure size 640x480 with 1 Axes>"
      ]
     },
     "metadata": {},
     "output_type": "display_data"
    }
   ],
   "source": [
    "ax = sns.scatterplot(x=\"Estrés\", y=\"Bienestar_social\", data=df)\n",
    "ax.set_xlabel(\"Estrés\", size=14)\n",
    "ax.set_ylabel(\"Bienestar social\", size=14)\n",
    "plt.show()"
   ]
  },
  {
   "cell_type": "markdown",
   "metadata": {},
   "source": [
    "Se puede observar en la dispersión de puntos cierta tendencia hacia una relación inversa entre las variables. Pero se requiere realizar el contraste de hipótesis para concluir."
   ]
  },
  {
   "cell_type": "markdown",
   "metadata": {},
   "source": [
    "4. Evaluar la normalidad para aplicar el coeficiente de correlación pertinente."
   ]
  },
  {
   "cell_type": "code",
   "execution_count": 18,
   "metadata": {},
   "outputs": [
    {
     "data": {
      "text/html": [
       "<div>\n",
       "<style scoped>\n",
       "    .dataframe tbody tr th:only-of-type {\n",
       "        vertical-align: middle;\n",
       "    }\n",
       "\n",
       "    .dataframe tbody tr th {\n",
       "        vertical-align: top;\n",
       "    }\n",
       "\n",
       "    .dataframe thead th {\n",
       "        text-align: right;\n",
       "    }\n",
       "</style>\n",
       "<table border=\"1\" class=\"dataframe\">\n",
       "  <thead>\n",
       "    <tr style=\"text-align: right;\">\n",
       "      <th></th>\n",
       "      <th>W</th>\n",
       "      <th>pval</th>\n",
       "      <th>normal</th>\n",
       "    </tr>\n",
       "  </thead>\n",
       "  <tbody>\n",
       "    <tr>\n",
       "      <th>Estrés</th>\n",
       "      <td>0.989079</td>\n",
       "      <td>0.590817</td>\n",
       "      <td>True</td>\n",
       "    </tr>\n",
       "    <tr>\n",
       "      <th>Bienestar_social</th>\n",
       "      <td>0.979953</td>\n",
       "      <td>0.131808</td>\n",
       "      <td>True</td>\n",
       "    </tr>\n",
       "  </tbody>\n",
       "</table>\n",
       "</div>"
      ],
      "text/plain": [
       "                         W      pval  normal\n",
       "Estrés            0.989079  0.590817    True\n",
       "Bienestar_social  0.979953  0.131808    True"
      ]
     },
     "execution_count": 18,
     "metadata": {},
     "output_type": "execute_result"
    }
   ],
   "source": [
    "pg.normality(data=df[[\"Estrés\", \"Bienestar_social\"]], method=\"shapiro\")"
   ]
  },
  {
   "cell_type": "markdown",
   "metadata": {},
   "source": [
    "El análisis de normalidad indica para bienestar social un SW = .98, p = .132, y para estrés, SW = .989, p = .590, por lo que se acepta H0 y se rechaza H1. Es decir, las distribuciones de ambas variables son normales por lo que se llevará a cabo el análisis de correlación paramétrico de Pearson."
   ]
  },
  {
   "cell_type": "markdown",
   "metadata": {},
   "source": [
    "5. Analizar estadísticamente el contraste de hipótesis estadísticas (H0 y H1). Aplica la regla de decisión.\n",
    "\n",
    "- H0: $r_{xy} = 0$ \n",
    "- H1: $r_{xy} < 0$   , p unilateral "
   ]
  },
  {
   "cell_type": "code",
   "execution_count": 19,
   "metadata": {},
   "outputs": [
    {
     "data": {
      "text/html": [
       "<div>\n",
       "<style scoped>\n",
       "    .dataframe tbody tr th:only-of-type {\n",
       "        vertical-align: middle;\n",
       "    }\n",
       "\n",
       "    .dataframe tbody tr th {\n",
       "        vertical-align: top;\n",
       "    }\n",
       "\n",
       "    .dataframe thead th {\n",
       "        text-align: right;\n",
       "    }\n",
       "</style>\n",
       "<table border=\"1\" class=\"dataframe\">\n",
       "  <thead>\n",
       "    <tr style=\"text-align: right;\">\n",
       "      <th></th>\n",
       "      <th>X</th>\n",
       "      <th>Y</th>\n",
       "      <th>method</th>\n",
       "      <th>alternative</th>\n",
       "      <th>n</th>\n",
       "      <th>r</th>\n",
       "      <th>CI95%</th>\n",
       "      <th>p-unc</th>\n",
       "      <th>BF10</th>\n",
       "      <th>power</th>\n",
       "    </tr>\n",
       "  </thead>\n",
       "  <tbody>\n",
       "    <tr>\n",
       "      <th>0</th>\n",
       "      <td>Estrés</td>\n",
       "      <td>Bienestar_social</td>\n",
       "      <td>pearson</td>\n",
       "      <td>less</td>\n",
       "      <td>100</td>\n",
       "      <td>-0.054747</td>\n",
       "      <td>[-1.0, 0.11]</td>\n",
       "      <td>0.294256</td>\n",
       "      <td>0.203</td>\n",
       "      <td>0.135243</td>\n",
       "    </tr>\n",
       "  </tbody>\n",
       "</table>\n",
       "</div>"
      ],
      "text/plain": [
       "        X                 Y   method alternative    n         r         CI95%  \\\n",
       "0  Estrés  Bienestar_social  pearson        less  100 -0.054747  [-1.0, 0.11]   \n",
       "\n",
       "      p-unc   BF10     power  \n",
       "0  0.294256  0.203  0.135243  "
      ]
     },
     "execution_count": 19,
     "metadata": {},
     "output_type": "execute_result"
    }
   ],
   "source": [
    "pg.pairwise_corr(\n",
    "    columns=[\"Estrés\", \"Bienestar_social\"],\n",
    "    method=\"pearson\",\n",
    "    alternative=\"less\",\n",
    "    data=df,\n",
    ")"
   ]
  },
  {
   "cell_type": "markdown",
   "metadata": {},
   "source": [
    "- Contraste de hipótesis: Se acepta H0 al no encontrar una relación estadísticamente significativa entre bienestar social y estrés, p = .294.\n",
    "\n",
    "- Sentido: La relación es inversa, es decir, un mayor bienestar social se asociaría con un menor nivel de estrés y viceversa.\n",
    "\n",
    "- Fortaleza: Según el criterio de Cohen (1988), la magnitud de la relación es irrelevante. "
   ]
  },
  {
   "cell_type": "markdown",
   "metadata": {},
   "source": [
    "6. Brindar respuesta a las hipótesis de trabajo, indicando si fue una correlación positiva, negativa o no hubo correlación significativa. En caso de darse una correlación significativa, indicar la fortaleza del coeficiente según los criterios de Cohen.\n",
    "\n",
    "Los resultados del análisis de correlación de Pearson evidencian que no existe una relación estadísticamente significativa entre el bienestar social y el estrés, r(98) = -.05, p =.294 (unilateral), por lo que no se cumple la hipótesis del estudio.\n",
    "\n",
    ">Nota: Los grados de libertad de los índices de asociación = n-2."
   ]
  }
 ],
 "metadata": {
  "kernelspec": {
   "display_name": "Python 3.7.13 ('stats')",
   "language": "python",
   "name": "python3"
  },
  "language_info": {
   "codemirror_mode": {
    "name": "ipython",
    "version": 3
   },
   "file_extension": ".py",
   "mimetype": "text/x-python",
   "name": "python",
   "nbconvert_exporter": "python",
   "pygments_lexer": "ipython3",
   "version": "3.7.13"
  },
  "orig_nbformat": 4,
  "vscode": {
   "interpreter": {
    "hash": "8df12303a5084d795bcef355ea103bbaab8787933417cf27c2f95a588cdf8ee7"
   }
  }
 },
 "nbformat": 4,
 "nbformat_minor": 2
}
