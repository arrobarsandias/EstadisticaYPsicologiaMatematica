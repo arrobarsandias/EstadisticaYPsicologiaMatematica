{
 "cells": [
  {
   "cell_type": "markdown",
   "metadata": {},
   "source": [
    "# Análisis de regresión lineal simple"
   ]
  },
  {
   "cell_type": "code",
   "execution_count": 4,
   "metadata": {},
   "outputs": [],
   "source": [
    "# Instala dependencias\n",
    "!pip install pingouin\n",
    "!pip install pyreadstat\n",
    "!wget https://github.com/renatoparedes/EstadisticaYPsicologiaMatematica/raw/main/INEE/Clase9_BaseRegresionLinealSimpleYMultiple.sav"
   ]
  },
  {
   "cell_type": "markdown",
   "metadata": {},
   "source": [
    "## Visualización de datos"
   ]
  },
  {
   "cell_type": "code",
   "execution_count": 7,
   "metadata": {},
   "outputs": [
    {
     "data": {
      "text/html": [
       "<div>\n",
       "<style scoped>\n",
       "    .dataframe tbody tr th:only-of-type {\n",
       "        vertical-align: middle;\n",
       "    }\n",
       "\n",
       "    .dataframe tbody tr th {\n",
       "        vertical-align: top;\n",
       "    }\n",
       "\n",
       "    .dataframe thead th {\n",
       "        text-align: right;\n",
       "    }\n",
       "</style>\n",
       "<table border=\"1\" class=\"dataframe\">\n",
       "  <thead>\n",
       "    <tr style=\"text-align: right;\">\n",
       "      <th></th>\n",
       "      <th>Código</th>\n",
       "      <th>Sexo</th>\n",
       "      <th>Relación</th>\n",
       "      <th>HistVinc</th>\n",
       "      <th>Afroproblema</th>\n",
       "      <th>Afroemoción</th>\n",
       "      <th>Estrés_académico</th>\n",
       "      <th>ZRE_1</th>\n",
       "    </tr>\n",
       "  </thead>\n",
       "  <tbody>\n",
       "    <tr>\n",
       "      <th>0</th>\n",
       "      <td>001</td>\n",
       "      <td>Femenino</td>\n",
       "      <td>Si</td>\n",
       "      <td>6.0</td>\n",
       "      <td>29.230769</td>\n",
       "      <td>38.0</td>\n",
       "      <td>45.0</td>\n",
       "      <td>1.051546</td>\n",
       "    </tr>\n",
       "    <tr>\n",
       "      <th>1</th>\n",
       "      <td>002</td>\n",
       "      <td>Femenino</td>\n",
       "      <td>No</td>\n",
       "      <td>7.0</td>\n",
       "      <td>23.846154</td>\n",
       "      <td>45.0</td>\n",
       "      <td>45.0</td>\n",
       "      <td>-0.554502</td>\n",
       "    </tr>\n",
       "    <tr>\n",
       "      <th>2</th>\n",
       "      <td>003</td>\n",
       "      <td>Femenino</td>\n",
       "      <td>No</td>\n",
       "      <td>8.0</td>\n",
       "      <td>24.615385</td>\n",
       "      <td>50.0</td>\n",
       "      <td>45.0</td>\n",
       "      <td>-1.437566</td>\n",
       "    </tr>\n",
       "    <tr>\n",
       "      <th>3</th>\n",
       "      <td>004</td>\n",
       "      <td>Femenino</td>\n",
       "      <td>No</td>\n",
       "      <td>5.0</td>\n",
       "      <td>21.538462</td>\n",
       "      <td>45.0</td>\n",
       "      <td>45.0</td>\n",
       "      <td>-0.686559</td>\n",
       "    </tr>\n",
       "    <tr>\n",
       "      <th>4</th>\n",
       "      <td>005</td>\n",
       "      <td>Femenino</td>\n",
       "      <td>Si</td>\n",
       "      <td>8.0</td>\n",
       "      <td>30.000000</td>\n",
       "      <td>49.0</td>\n",
       "      <td>44.0</td>\n",
       "      <td>-1.224418</td>\n",
       "    </tr>\n",
       "    <tr>\n",
       "      <th>...</th>\n",
       "      <td>...</td>\n",
       "      <td>...</td>\n",
       "      <td>...</td>\n",
       "      <td>...</td>\n",
       "      <td>...</td>\n",
       "      <td>...</td>\n",
       "      <td>...</td>\n",
       "      <td>...</td>\n",
       "    </tr>\n",
       "    <tr>\n",
       "      <th>67</th>\n",
       "      <td>068</td>\n",
       "      <td>Masculino</td>\n",
       "      <td>Si</td>\n",
       "      <td>21.0</td>\n",
       "      <td>33.846154</td>\n",
       "      <td>11.0</td>\n",
       "      <td>20.0</td>\n",
       "      <td>-0.688115</td>\n",
       "    </tr>\n",
       "    <tr>\n",
       "      <th>68</th>\n",
       "      <td>069</td>\n",
       "      <td>Masculino</td>\n",
       "      <td>No</td>\n",
       "      <td>18.0</td>\n",
       "      <td>34.615385</td>\n",
       "      <td>11.0</td>\n",
       "      <td>20.0</td>\n",
       "      <td>-0.644096</td>\n",
       "    </tr>\n",
       "    <tr>\n",
       "      <th>69</th>\n",
       "      <td>070</td>\n",
       "      <td>Masculino</td>\n",
       "      <td>Si</td>\n",
       "      <td>23.0</td>\n",
       "      <td>35.384615</td>\n",
       "      <td>9.0</td>\n",
       "      <td>18.0</td>\n",
       "      <td>-0.790046</td>\n",
       "    </tr>\n",
       "    <tr>\n",
       "      <th>70</th>\n",
       "      <td>071</td>\n",
       "      <td>Femenino</td>\n",
       "      <td>No</td>\n",
       "      <td>24.0</td>\n",
       "      <td>28.461538</td>\n",
       "      <td>8.0</td>\n",
       "      <td>17.0</td>\n",
       "      <td>-1.281200</td>\n",
       "    </tr>\n",
       "    <tr>\n",
       "      <th>71</th>\n",
       "      <td>072</td>\n",
       "      <td>Masculino</td>\n",
       "      <td>Si</td>\n",
       "      <td>25.0</td>\n",
       "      <td>23.846154</td>\n",
       "      <td>8.0</td>\n",
       "      <td>11.0</td>\n",
       "      <td>-3.227719</td>\n",
       "    </tr>\n",
       "  </tbody>\n",
       "</table>\n",
       "<p>72 rows × 8 columns</p>\n",
       "</div>"
      ],
      "text/plain": [
       "   Código       Sexo Relación  HistVinc  Afroproblema  Afroemoción  \\\n",
       "0     001   Femenino       Si       6.0     29.230769         38.0   \n",
       "1     002   Femenino       No       7.0     23.846154         45.0   \n",
       "2     003   Femenino       No       8.0     24.615385         50.0   \n",
       "3     004   Femenino       No       5.0     21.538462         45.0   \n",
       "4     005   Femenino       Si       8.0     30.000000         49.0   \n",
       "..    ...        ...      ...       ...           ...          ...   \n",
       "67    068  Masculino       Si      21.0     33.846154         11.0   \n",
       "68    069  Masculino       No      18.0     34.615385         11.0   \n",
       "69    070  Masculino       Si      23.0     35.384615          9.0   \n",
       "70    071   Femenino       No      24.0     28.461538          8.0   \n",
       "71    072  Masculino       Si      25.0     23.846154          8.0   \n",
       "\n",
       "    Estrés_académico     ZRE_1  \n",
       "0               45.0  1.051546  \n",
       "1               45.0 -0.554502  \n",
       "2               45.0 -1.437566  \n",
       "3               45.0 -0.686559  \n",
       "4               44.0 -1.224418  \n",
       "..               ...       ...  \n",
       "67              20.0 -0.688115  \n",
       "68              20.0 -0.644096  \n",
       "69              18.0 -0.790046  \n",
       "70              17.0 -1.281200  \n",
       "71              11.0 -3.227719  \n",
       "\n",
       "[72 rows x 8 columns]"
      ]
     },
     "execution_count": 7,
     "metadata": {},
     "output_type": "execute_result"
    }
   ],
   "source": [
    "import pandas as pd\n",
    "\n",
    "df = pd.read_spss(\"Clase9_BaseRegresionLinealSimpleYMultiple.sav\")\n",
    "df"
   ]
  },
  {
   "cell_type": "code",
   "execution_count": 23,
   "metadata": {},
   "outputs": [
    {
     "data": {
      "image/png": "[encoded data removed]",
      "text/plain": [
       "<Figure size 432x288 with 1 Axes>"
      ]
     },
     "metadata": {
      "needs_background": "light"
     },
     "output_type": "display_data"
    }
   ],
   "source": [
    "import seaborn as sns\n",
    "import matplotlib.pyplot as plt\n",
    "\n",
    "ax = sns.regplot(x=\"Afroemoción\", y=\"Estrés_académico\", data=df)\n",
    "ax.set_xlabel(\"Afrontamiento centrado en la emoción\", size=14)\n",
    "ax.set_ylabel(\"Estrés académico\", size=14)\n",
    "plt.show()"
   ]
  },
  {
   "cell_type": "markdown",
   "metadata": {},
   "source": [
    "## Verificación de supuestos"
   ]
  },
  {
   "cell_type": "markdown",
   "metadata": {},
   "source": [
    "### Linealidad de la relación"
   ]
  },
  {
   "cell_type": "code",
   "execution_count": 13,
   "metadata": {},
   "outputs": [
    {
     "data": {
      "text/html": [
       "<div>\n",
       "<style scoped>\n",
       "    .dataframe tbody tr th:only-of-type {\n",
       "        vertical-align: middle;\n",
       "    }\n",
       "\n",
       "    .dataframe tbody tr th {\n",
       "        vertical-align: top;\n",
       "    }\n",
       "\n",
       "    .dataframe thead th {\n",
       "        text-align: right;\n",
       "    }\n",
       "</style>\n",
       "<table border=\"1\" class=\"dataframe\">\n",
       "  <thead>\n",
       "    <tr style=\"text-align: right;\">\n",
       "      <th></th>\n",
       "      <th>W</th>\n",
       "      <th>pval</th>\n",
       "      <th>normal</th>\n",
       "    </tr>\n",
       "  </thead>\n",
       "  <tbody>\n",
       "    <tr>\n",
       "      <th>Estrés_académico</th>\n",
       "      <td>0.935916</td>\n",
       "      <td>0.001187</td>\n",
       "      <td>False</td>\n",
       "    </tr>\n",
       "    <tr>\n",
       "      <th>Afroemoción</th>\n",
       "      <td>0.971221</td>\n",
       "      <td>0.097621</td>\n",
       "      <td>True</td>\n",
       "    </tr>\n",
       "  </tbody>\n",
       "</table>\n",
       "</div>"
      ],
      "text/plain": [
       "                         W      pval  normal\n",
       "Estrés_académico  0.935916  0.001187   False\n",
       "Afroemoción       0.971221  0.097621    True"
      ]
     },
     "execution_count": 13,
     "metadata": {},
     "output_type": "execute_result"
    }
   ],
   "source": [
    "pg.normality(data=df[[\"Estrés_académico\", \"Afroemoción\"]], method=\"shapiro\")"
   ]
  },
  {
   "cell_type": "code",
   "execution_count": 14,
   "metadata": {},
   "outputs": [
    {
     "data": {
      "text/html": [
       "<div>\n",
       "<style scoped>\n",
       "    .dataframe tbody tr th:only-of-type {\n",
       "        vertical-align: middle;\n",
       "    }\n",
       "\n",
       "    .dataframe tbody tr th {\n",
       "        vertical-align: top;\n",
       "    }\n",
       "\n",
       "    .dataframe thead th {\n",
       "        text-align: right;\n",
       "    }\n",
       "</style>\n",
       "<table border=\"1\" class=\"dataframe\">\n",
       "  <thead>\n",
       "    <tr style=\"text-align: right;\">\n",
       "      <th></th>\n",
       "      <th>X</th>\n",
       "      <th>Y</th>\n",
       "      <th>method</th>\n",
       "      <th>alternative</th>\n",
       "      <th>n</th>\n",
       "      <th>r</th>\n",
       "      <th>CI95%</th>\n",
       "      <th>p-unc</th>\n",
       "      <th>power</th>\n",
       "    </tr>\n",
       "  </thead>\n",
       "  <tbody>\n",
       "    <tr>\n",
       "      <th>0</th>\n",
       "      <td>Estrés_académico</td>\n",
       "      <td>Afroemoción</td>\n",
       "      <td>spearman</td>\n",
       "      <td>two-sided</td>\n",
       "      <td>72</td>\n",
       "      <td>0.937399</td>\n",
       "      <td>[0.9, 0.96]</td>\n",
       "      <td>8.671824e-34</td>\n",
       "      <td>1.0</td>\n",
       "    </tr>\n",
       "  </tbody>\n",
       "</table>\n",
       "</div>"
      ],
      "text/plain": [
       "                  X            Y    method alternative   n         r  \\\n",
       "0  Estrés_académico  Afroemoción  spearman   two-sided  72  0.937399   \n",
       "\n",
       "         CI95%         p-unc  power  \n",
       "0  [0.9, 0.96]  8.671824e-34    1.0  "
      ]
     },
     "execution_count": 14,
     "metadata": {},
     "output_type": "execute_result"
    }
   ],
   "source": [
    "pg.pairwise_corr(\n",
    "    columns=[\"Estrés_académico\", \"Afroemoción\"], method=\"spearman\", data=df\n",
    ")"
   ]
  },
  {
   "cell_type": "markdown",
   "metadata": {},
   "source": [
    "### Normalidad de residuos"
   ]
  },
  {
   "cell_type": "code",
   "execution_count": 10,
   "metadata": {},
   "outputs": [],
   "source": [
    "import statsmodels.formula.api as smf\n",
    "import statsmodels.stats.api as sms\n",
    "import statsmodels.api as sm\n",
    "\n",
    "# Fit regression model\n",
    "model = smf.ols(\"Estrés_académico ~ Afroemoción\", data=df).fit();"
   ]
  },
  {
   "cell_type": "code",
   "execution_count": 11,
   "metadata": {},
   "outputs": [
    {
     "data": {
      "text/plain": [
       "<AxesSubplot:title={'center':'Q-Q Plot'}, xlabel='Theoretical quantiles', ylabel='Ordered quantiles'>"
      ]
     },
     "execution_count": 11,
     "metadata": {},
     "output_type": "execute_result"
    },
    {
     "data": {
      "image/png": "[encoded data removed]",
      "text/plain": [
       "<Figure size 360x288 with 1 Axes>"
      ]
     },
     "metadata": {
      "needs_background": "light"
     },
     "output_type": "display_data"
    }
   ],
   "source": [
    "import pingouin as pg\n",
    "\n",
    "pg.qqplot(model.resid)"
   ]
  },
  {
   "cell_type": "code",
   "execution_count": 15,
   "metadata": {},
   "outputs": [
    {
     "data": {
      "text/html": [
       "<div>\n",
       "<style scoped>\n",
       "    .dataframe tbody tr th:only-of-type {\n",
       "        vertical-align: middle;\n",
       "    }\n",
       "\n",
       "    .dataframe tbody tr th {\n",
       "        vertical-align: top;\n",
       "    }\n",
       "\n",
       "    .dataframe thead th {\n",
       "        text-align: right;\n",
       "    }\n",
       "</style>\n",
       "<table border=\"1\" class=\"dataframe\">\n",
       "  <thead>\n",
       "    <tr style=\"text-align: right;\">\n",
       "      <th></th>\n",
       "      <th>W</th>\n",
       "      <th>pval</th>\n",
       "      <th>normal</th>\n",
       "    </tr>\n",
       "  </thead>\n",
       "  <tbody>\n",
       "    <tr>\n",
       "      <th>0</th>\n",
       "      <td>0.976633</td>\n",
       "      <td>0.200022</td>\n",
       "      <td>True</td>\n",
       "    </tr>\n",
       "  </tbody>\n",
       "</table>\n",
       "</div>"
      ],
      "text/plain": [
       "          W      pval  normal\n",
       "0  0.976633  0.200022    True"
      ]
     },
     "execution_count": 15,
     "metadata": {},
     "output_type": "execute_result"
    }
   ],
   "source": [
    "pg.normality(data=model.resid, method=\"shapiro\")"
   ]
  },
  {
   "cell_type": "markdown",
   "metadata": {},
   "source": [
    "## Evaluación del modelo de regresión"
   ]
  },
  {
   "cell_type": "code",
   "execution_count": 16,
   "metadata": {},
   "outputs": [
    {
     "data": {
      "text/html": [
       "<table class=\"simpletable\">\n",
       "<caption>OLS Regression Results</caption>\n",
       "<tr>\n",
       "  <th>Dep. Variable:</th>    <td>Estrés_académico</td> <th>  R-squared:         </th> <td>   0.788</td>\n",
       "</tr>\n",
       "<tr>\n",
       "  <th>Model:</th>                   <td>OLS</td>       <th>  Adj. R-squared:    </th> <td>   0.785</td>\n",
       "</tr>\n",
       "<tr>\n",
       "  <th>Method:</th>             <td>Least Squares</td>  <th>  F-statistic:       </th> <td>   260.9</td>\n",
       "</tr>\n",
       "<tr>\n",
       "  <th>Date:</th>             <td>Mon, 12 Sep 2022</td> <th>  Prob (F-statistic):</th> <td>2.61e-25</td>\n",
       "</tr>\n",
       "<tr>\n",
       "  <th>Time:</th>                 <td>00:00:55</td>     <th>  Log-Likelihood:    </th> <td> -196.34</td>\n",
       "</tr>\n",
       "<tr>\n",
       "  <th>No. Observations:</th>      <td>    72</td>      <th>  AIC:               </th> <td>   396.7</td>\n",
       "</tr>\n",
       "<tr>\n",
       "  <th>Df Residuals:</th>          <td>    70</td>      <th>  BIC:               </th> <td>   401.2</td>\n",
       "</tr>\n",
       "<tr>\n",
       "  <th>Df Model:</th>              <td>     1</td>      <th>                     </th>     <td> </td>   \n",
       "</tr>\n",
       "<tr>\n",
       "  <th>Covariance Type:</th>      <td>nonrobust</td>    <th>                     </th>     <td> </td>   \n",
       "</tr>\n",
       "</table>\n",
       "<table class=\"simpletable\">\n",
       "<tr>\n",
       "       <td></td>          <th>coef</th>     <th>std err</th>      <th>t</th>      <th>P>|t|</th>  <th>[0.025</th>    <th>0.975]</th>  \n",
       "</tr>\n",
       "<tr>\n",
       "  <th>Intercept</th>   <td>   16.1631</td> <td>    1.197</td> <td>   13.498</td> <td> 0.000</td> <td>   13.775</td> <td>   18.551</td>\n",
       "</tr>\n",
       "<tr>\n",
       "  <th>Afroemoción</th> <td>    0.6985</td> <td>    0.043</td> <td>   16.153</td> <td> 0.000</td> <td>    0.612</td> <td>    0.785</td>\n",
       "</tr>\n",
       "</table>\n",
       "<table class=\"simpletable\">\n",
       "<tr>\n",
       "  <th>Omnibus:</th>       <td> 1.936</td> <th>  Durbin-Watson:     </th> <td>   0.517</td>\n",
       "</tr>\n",
       "<tr>\n",
       "  <th>Prob(Omnibus):</th> <td> 0.380</td> <th>  Jarque-Bera (JB):  </th> <td>   1.934</td>\n",
       "</tr>\n",
       "<tr>\n",
       "  <th>Skew:</th>          <td>-0.366</td> <th>  Prob(JB):          </th> <td>   0.380</td>\n",
       "</tr>\n",
       "<tr>\n",
       "  <th>Kurtosis:</th>      <td> 2.671</td> <th>  Cond. No.          </th> <td>    75.1</td>\n",
       "</tr>\n",
       "</table><br/><br/>Notes:<br/>[1] Standard Errors assume that the covariance matrix of the errors is correctly specified."
      ],
      "text/plain": [
       "<class 'statsmodels.iolib.summary.Summary'>\n",
       "\"\"\"\n",
       "                            OLS Regression Results                            \n",
       "==============================================================================\n",
       "Dep. Variable:       Estrés_académico   R-squared:                       0.788\n",
       "Model:                            OLS   Adj. R-squared:                  0.785\n",
       "Method:                 Least Squares   F-statistic:                     260.9\n",
       "Date:                Mon, 12 Sep 2022   Prob (F-statistic):           2.61e-25\n",
       "Time:                        00:00:55   Log-Likelihood:                -196.34\n",
       "No. Observations:                  72   AIC:                             396.7\n",
       "Df Residuals:                      70   BIC:                             401.2\n",
       "Df Model:                           1                                         \n",
       "Covariance Type:            nonrobust                                         \n",
       "===============================================================================\n",
       "                  coef    std err          t      P>|t|      [0.025      0.975]\n",
       "-------------------------------------------------------------------------------\n",
       "Intercept      16.1631      1.197     13.498      0.000      13.775      18.551\n",
       "Afroemoción     0.6985      0.043     16.153      0.000       0.612       0.785\n",
       "==============================================================================\n",
       "Omnibus:                        1.936   Durbin-Watson:                   0.517\n",
       "Prob(Omnibus):                  0.380   Jarque-Bera (JB):                1.934\n",
       "Skew:                          -0.366   Prob(JB):                        0.380\n",
       "Kurtosis:                       2.671   Cond. No.                         75.1\n",
       "==============================================================================\n",
       "\n",
       "Notes:\n",
       "[1] Standard Errors assume that the covariance matrix of the errors is correctly specified.\n",
       "\"\"\""
      ]
     },
     "execution_count": 16,
     "metadata": {},
     "output_type": "execute_result"
    }
   ],
   "source": [
    "model.summary()"
   ]
  },
  {
   "cell_type": "markdown",
   "metadata": {},
   "source": [
    "## Ejercicio 1 \n",
    "\n",
    "Un grupo de investigadores plantea que el afrontamiento centrado en el problema predice un menor estrés académico percibido por los estudiantes. Para evaluar su hipótesis tomaron una muestra de 72 jóvenes a quienes aplicaron el Inventario de Estimación del Afrontamiento y la Escala de Estrés Académico.\n",
    "\n",
    "- Indica la hipótesis de estudio, la ecuación del modelo de regresión lineal simple y el signo que debiera tener beta (B) si la hipótesis de estudio fuera cierta.\n",
    "- Evalúa si habría evidencia a favor de una posible relación entre las variables con un diagrama de dispersión.\n",
    "- Evalúa la correlación entre las variables.\n",
    "- Estima los parámetros del modelo de regresión.\n",
    "- Indica la magnitud del coeficiente de determinación e interpreta su valor.\n",
    "- Realiza el contraste de hipótesis correspondiente y concluir en función a la hipótesis de estudio."
   ]
  },
  {
   "cell_type": "markdown",
   "metadata": {},
   "source": [
    "1. Indicar la ecuación del modelo de regresión lineal simple indicando el signo que debiera tener beta (B) si la hipótesis de estudio fuera cierta."
   ]
  },
  {
   "cell_type": "markdown",
   "metadata": {},
   "source": [
    "Hipótesis de estudio: El afrontamiento centrado en el problema predice un menor estrés académico percibido por los estudiantes.\n",
    "- Variable predictora (X): Afrontamiento centrado en el problema    \n",
    "- Variable de salida (Y): Estrés académico\n",
    "\n",
    "Ecuación del modelo de regresión lineal simple:\n",
    "- $EstrésAcadémico = α + β \\times AfrontamientoProblema \\pm \\epsilon $, con $B<0$"
   ]
  },
  {
   "cell_type": "markdown",
   "metadata": {},
   "source": [
    "2. Evaluar si habría evidencia a favor de una posible relación entre las variables con un diagrama de dispersión."
   ]
  },
  {
   "cell_type": "code",
   "execution_count": 24,
   "metadata": {},
   "outputs": [
    {
     "data": {
      "image/png": "[encoded data removed]",
      "text/plain": [
       "<Figure size 432x288 with 1 Axes>"
      ]
     },
     "metadata": {
      "needs_background": "light"
     },
     "output_type": "display_data"
    }
   ],
   "source": [
    "ax = sns.regplot(x=\"Afroproblema\", y=\"Estrés_académico\", data=df)\n",
    "ax.set_xlabel(\"Afrontamiento centrado en el problema\", size=14)\n",
    "ax.set_ylabel(\"Estrés académico\", size=14)\n",
    "plt.show()"
   ]
  },
  {
   "cell_type": "markdown",
   "metadata": {},
   "source": [
    "3. Evaluar la correlación entre las variables.  \n",
    "- H0: rxy = 0\n",
    "- H1: rxy < 0"
   ]
  },
  {
   "cell_type": "markdown",
   "metadata": {},
   "source": [
    "Prueba de normalidad para aplicar el coeficiente de correlación pertinente.\n"
   ]
  },
  {
   "cell_type": "code",
   "execution_count": 26,
   "metadata": {},
   "outputs": [
    {
     "data": {
      "text/html": [
       "<div>\n",
       "<style scoped>\n",
       "    .dataframe tbody tr th:only-of-type {\n",
       "        vertical-align: middle;\n",
       "    }\n",
       "\n",
       "    .dataframe tbody tr th {\n",
       "        vertical-align: top;\n",
       "    }\n",
       "\n",
       "    .dataframe thead th {\n",
       "        text-align: right;\n",
       "    }\n",
       "</style>\n",
       "<table border=\"1\" class=\"dataframe\">\n",
       "  <thead>\n",
       "    <tr style=\"text-align: right;\">\n",
       "      <th></th>\n",
       "      <th>W</th>\n",
       "      <th>pval</th>\n",
       "      <th>normal</th>\n",
       "    </tr>\n",
       "  </thead>\n",
       "  <tbody>\n",
       "    <tr>\n",
       "      <th>Estrés_académico</th>\n",
       "      <td>0.935916</td>\n",
       "      <td>0.001187</td>\n",
       "      <td>False</td>\n",
       "    </tr>\n",
       "    <tr>\n",
       "      <th>Afroproblema</th>\n",
       "      <td>0.974104</td>\n",
       "      <td>0.143369</td>\n",
       "      <td>True</td>\n",
       "    </tr>\n",
       "  </tbody>\n",
       "</table>\n",
       "</div>"
      ],
      "text/plain": [
       "                         W      pval  normal\n",
       "Estrés_académico  0.935916  0.001187   False\n",
       "Afroproblema      0.974104  0.143369    True"
      ]
     },
     "execution_count": 26,
     "metadata": {},
     "output_type": "execute_result"
    }
   ],
   "source": [
    "pg.normality(data=df[[\"Estrés_académico\", \"Afroproblema\"]], method=\"shapiro\")"
   ]
  },
  {
   "cell_type": "code",
   "execution_count": 30,
   "metadata": {},
   "outputs": [
    {
     "data": {
      "text/html": [
       "<div>\n",
       "<style scoped>\n",
       "    .dataframe tbody tr th:only-of-type {\n",
       "        vertical-align: middle;\n",
       "    }\n",
       "\n",
       "    .dataframe tbody tr th {\n",
       "        vertical-align: top;\n",
       "    }\n",
       "\n",
       "    .dataframe thead th {\n",
       "        text-align: right;\n",
       "    }\n",
       "</style>\n",
       "<table border=\"1\" class=\"dataframe\">\n",
       "  <thead>\n",
       "    <tr style=\"text-align: right;\">\n",
       "      <th></th>\n",
       "      <th>X</th>\n",
       "      <th>Y</th>\n",
       "      <th>method</th>\n",
       "      <th>alternative</th>\n",
       "      <th>n</th>\n",
       "      <th>r</th>\n",
       "      <th>CI95%</th>\n",
       "      <th>p-unc</th>\n",
       "      <th>power</th>\n",
       "    </tr>\n",
       "  </thead>\n",
       "  <tbody>\n",
       "    <tr>\n",
       "      <th>0</th>\n",
       "      <td>Estrés_académico</td>\n",
       "      <td>Afroproblema</td>\n",
       "      <td>spearman</td>\n",
       "      <td>less</td>\n",
       "      <td>72</td>\n",
       "      <td>-0.36676</td>\n",
       "      <td>[-1.0, -0.18]</td>\n",
       "      <td>0.000765</td>\n",
       "      <td>0.942093</td>\n",
       "    </tr>\n",
       "  </tbody>\n",
       "</table>\n",
       "</div>"
      ],
      "text/plain": [
       "                  X             Y    method alternative   n        r  \\\n",
       "0  Estrés_académico  Afroproblema  spearman        less  72 -0.36676   \n",
       "\n",
       "           CI95%     p-unc     power  \n",
       "0  [-1.0, -0.18]  0.000765  0.942093  "
      ]
     },
     "execution_count": 30,
     "metadata": {},
     "output_type": "execute_result"
    }
   ],
   "source": [
    "pg.pairwise_corr(\n",
    "    columns=[\"Estrés_académico\", \"Afroproblema\"],\n",
    "    method=\"spearman\",\n",
    "    alternative=\"less\",\n",
    "    data=df,\n",
    ")"
   ]
  },
  {
   "cell_type": "markdown",
   "metadata": {},
   "source": [
    "Los resultados del análisis de correlación evidencian que existe una relación estadísticamente significativa, negativa y mediana, según el criterio de Cohen (1988), entre afrontamiento centrado en el problema y estrés académico, r(70) = -.37, p < .001 (unilateral)."
   ]
  },
  {
   "cell_type": "markdown",
   "metadata": {},
   "source": [
    "4. Estimar los parámetros del modelo de regresión."
   ]
  },
  {
   "cell_type": "code",
   "execution_count": 33,
   "metadata": {},
   "outputs": [
    {
     "data": {
      "text/html": [
       "<table class=\"simpletable\">\n",
       "<caption>OLS Regression Results</caption>\n",
       "<tr>\n",
       "  <th>Dep. Variable:</th>    <td>Estrés_académico</td> <th>  R-squared:         </th> <td>   0.167</td>\n",
       "</tr>\n",
       "<tr>\n",
       "  <th>Model:</th>                   <td>OLS</td>       <th>  Adj. R-squared:    </th> <td>   0.155</td>\n",
       "</tr>\n",
       "<tr>\n",
       "  <th>Method:</th>             <td>Least Squares</td>  <th>  F-statistic:       </th> <td>   14.07</td>\n",
       "</tr>\n",
       "<tr>\n",
       "  <th>Date:</th>             <td>Mon, 12 Sep 2022</td> <th>  Prob (F-statistic):</th> <td>0.000360</td>\n",
       "</tr>\n",
       "<tr>\n",
       "  <th>Time:</th>                 <td>00:18:50</td>     <th>  Log-Likelihood:    </th> <td> -245.67</td>\n",
       "</tr>\n",
       "<tr>\n",
       "  <th>No. Observations:</th>      <td>    72</td>      <th>  AIC:               </th> <td>   495.3</td>\n",
       "</tr>\n",
       "<tr>\n",
       "  <th>Df Residuals:</th>          <td>    70</td>      <th>  BIC:               </th> <td>   499.9</td>\n",
       "</tr>\n",
       "<tr>\n",
       "  <th>Df Model:</th>              <td>     1</td>      <th>                     </th>     <td> </td>   \n",
       "</tr>\n",
       "<tr>\n",
       "  <th>Covariance Type:</th>      <td>nonrobust</td>    <th>                     </th>     <td> </td>   \n",
       "</tr>\n",
       "</table>\n",
       "<table class=\"simpletable\">\n",
       "<tr>\n",
       "        <td></td>          <th>coef</th>     <th>std err</th>      <th>t</th>      <th>P>|t|</th>  <th>[0.025</th>    <th>0.975]</th>  \n",
       "</tr>\n",
       "<tr>\n",
       "  <th>Intercept</th>    <td>   46.9092</td> <td>    3.516</td> <td>   13.341</td> <td> 0.000</td> <td>   39.896</td> <td>   53.922</td>\n",
       "</tr>\n",
       "<tr>\n",
       "  <th>Afroproblema</th> <td>   -0.5247</td> <td>    0.140</td> <td>   -3.750</td> <td> 0.000</td> <td>   -0.804</td> <td>   -0.246</td>\n",
       "</tr>\n",
       "</table>\n",
       "<table class=\"simpletable\">\n",
       "<tr>\n",
       "  <th>Omnibus:</th>       <td> 1.567</td> <th>  Durbin-Watson:     </th> <td>   0.270</td>\n",
       "</tr>\n",
       "<tr>\n",
       "  <th>Prob(Omnibus):</th> <td> 0.457</td> <th>  Jarque-Bera (JB):  </th> <td>   1.060</td>\n",
       "</tr>\n",
       "<tr>\n",
       "  <th>Skew:</th>          <td>-0.284</td> <th>  Prob(JB):          </th> <td>   0.589</td>\n",
       "</tr>\n",
       "<tr>\n",
       "  <th>Kurtosis:</th>      <td> 3.172</td> <th>  Cond. No.          </th> <td>    101.</td>\n",
       "</tr>\n",
       "</table><br/><br/>Notes:<br/>[1] Standard Errors assume that the covariance matrix of the errors is correctly specified."
      ],
      "text/plain": [
       "<class 'statsmodels.iolib.summary.Summary'>\n",
       "\"\"\"\n",
       "                            OLS Regression Results                            \n",
       "==============================================================================\n",
       "Dep. Variable:       Estrés_académico   R-squared:                       0.167\n",
       "Model:                            OLS   Adj. R-squared:                  0.155\n",
       "Method:                 Least Squares   F-statistic:                     14.07\n",
       "Date:                Mon, 12 Sep 2022   Prob (F-statistic):           0.000360\n",
       "Time:                        00:18:50   Log-Likelihood:                -245.67\n",
       "No. Observations:                  72   AIC:                             495.3\n",
       "Df Residuals:                      70   BIC:                             499.9\n",
       "Df Model:                           1                                         \n",
       "Covariance Type:            nonrobust                                         \n",
       "================================================================================\n",
       "                   coef    std err          t      P>|t|      [0.025      0.975]\n",
       "--------------------------------------------------------------------------------\n",
       "Intercept       46.9092      3.516     13.341      0.000      39.896      53.922\n",
       "Afroproblema    -0.5247      0.140     -3.750      0.000      -0.804      -0.246\n",
       "==============================================================================\n",
       "Omnibus:                        1.567   Durbin-Watson:                   0.270\n",
       "Prob(Omnibus):                  0.457   Jarque-Bera (JB):                1.060\n",
       "Skew:                          -0.284   Prob(JB):                        0.589\n",
       "Kurtosis:                       3.172   Cond. No.                         101.\n",
       "==============================================================================\n",
       "\n",
       "Notes:\n",
       "[1] Standard Errors assume that the covariance matrix of the errors is correctly specified.\n",
       "\"\"\""
      ]
     },
     "execution_count": 33,
     "metadata": {},
     "output_type": "execute_result"
    }
   ],
   "source": [
    "model = smf.ols(\"Estrés_académico ~ Afroproblema\", data=df).fit()\n",
    "model.summary()"
   ]
  },
  {
   "cell_type": "code",
   "execution_count": 45,
   "metadata": {},
   "outputs": [
    {
     "name": "stdout",
     "output_type": "stream",
     "text": [
      "Error estándar de la estimación: 7.4425944756640865\n"
     ]
    }
   ],
   "source": [
    "import numpy as np\n",
    "\n",
    "error = np.sqrt(model.mse_resid)\n",
    "print(\"Error estándar de la estimación:\", error)"
   ]
  },
  {
   "cell_type": "markdown",
   "metadata": {},
   "source": [
    "$EstrésAcadémico = 46.909 + -0.525 \\times AfrontamientoProblema \\pm 7.443 $"
   ]
  },
  {
   "cell_type": "markdown",
   "metadata": {},
   "source": [
    "5. Indicar la magnitud del coeficiente de determinación e interpretar su valor."
   ]
  },
  {
   "cell_type": "markdown",
   "metadata": {},
   "source": [
    "Según Cohen (1988) es un R2 “mediano”. Interpretación: Existe un 16.7% de diferencias en el estrés académico que estarían asociadas al afrontamiento centrado en el problema en los jóvenes estudiantes."
   ]
  },
  {
   "cell_type": "markdown",
   "metadata": {},
   "source": [
    "6. Realizar el contraste de hipótesis correspondiente y concluir en función a la hipótesis de estudio."
   ]
  },
  {
   "cell_type": "markdown",
   "metadata": {},
   "source": [
    "Hipótesis de estudio: El afrontamiento centrado en el problema predice un menor estrés académico percibido por los estudiantes.\n",
    "- $H_{0}$: $β = 0$      vs      $H_{1}$: $β < 0$\n",
    "\n",
    "Se rechaza $H_{0}$, ya que p (unilateral) $.000/2 = <.001$\n",
    "\n",
    "Luego, como $β = -0.525  < 0$, se  acepta $H_{1}$\n",
    "\n",
    "Conclusión: \n",
    "El afrontamiento centrado en el problema predice significativamente un menor estrés académico percibido por los estudiantes,  $β = -0.525$, $EE_{β} = 0$.14, $t(70) = -3.75$, $p <.001$, existiendo entre ambos una relación significativa con un tamaño de efecto mediano, $R^{2} = .167$, $F(1,70) = 14.07$, $p <.001$. Por tanto, se cumple la hipótesis de investigación."
   ]
  }
 ],
 "metadata": {
  "kernelspec": {
   "display_name": "Python 3.7.13 ('stats')",
   "language": "python",
   "name": "python3"
  },
  "language_info": {
   "codemirror_mode": {
    "name": "ipython",
    "version": 3
   },
   "file_extension": ".py",
   "mimetype": "text/x-python",
   "name": "python",
   "nbconvert_exporter": "python",
   "pygments_lexer": "ipython3",
   "version": "3.7.13"
  },
  "orig_nbformat": 4,
  "vscode": {
   "interpreter": {
    "hash": "8df12303a5084d795bcef355ea103bbaab8787933417cf27c2f95a588cdf8ee7"
   }
  }
 },
 "nbformat": 4,
 "nbformat_minor": 2
}
