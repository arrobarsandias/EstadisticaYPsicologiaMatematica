{
 "cells": [
  {
   "cell_type": "markdown",
   "source": [
    "# Intervalos de confianza y tamaño del efecto\r\n",
    "\r\n",
    "En el capítulo anterior discutimos cómo podemos usar los datos para probar hipótesis. Esos métodos proporcionaron una respuesta binaria: o rechazamos o no rechazamos la hipótesis nula. Sin embargo, este tipo de decisión pasa por alto un par de cuestiones importantes: \r\n",
    "\r\n",
    "- Nos gustaría saber cuánta incertidumbre tenemos sobre la respuesta (independientemente de la dirección que tome). Además, a veces no tenemos una hipótesis nula clara, por lo que nos gustaría ver qué rango de estimaciones son consistentes con los datos. \r\n",
    "- Nos gustaría saber qué tan grande es realmente el efecto, ya que, como vimos en el ejemplo de pérdida de peso del capítulo anterior, un efecto estadísticamente significativo no es necesariamente un efecto prácticamente importante.\r\n",
    "\r\n",
    "## Intervalos de confianza\r\n",
    "\r\n",
    "Hasta ahora nos hemos centrado en estimar una estadística de valor único. Por ejemplo, supongamos que queremos estimar el peso medio de los adultos en el conjunto de datos de NHANES, por lo que tomamos una muestra del conjunto de datos y estimamos la media. En esta muestra, el peso medio fue de 79,92 kilogramos. \r\n",
    "\r\n",
    "Nos referimos a esto como una **estimación puntual**, ya que nos proporciona un solo número para describir nuestra estimación del parámetro de población. Sin embargo, sabemos que existe cierta incertidumbre acerca de esta estimación, que se describe mediante el **error estándar**. También debe recordar que el error estándar está determinado por dos componentes: la desviación estándar de la población (que es el numerador) y la raíz cuadrada del tamaño de la muestra (que está en el denominador), tal como se muestra a continuación:\r\n",
    "\r\n",
    "$$ SEM=\\frac{\\hat\\sigma}{\\sqrt{n}} $$\r\n",
    "\r\n",
    "La desviación estándar de la población es un parámetro generalmente desconocido pero fijo que no está bajo nuestro control, mientras que el tamaño de la muestra está bajo nuestro control. Por lo tanto, podemos disminuir nuestra incertidumbre sobre la estimación aumentando el tamaño de nuestra muestra, hasta el límite del tamaño total de la población, momento en el que no hay ninguna incertidumbre porque podemos calcular el parámetro de la población directamente a partir de los datos de toda la población.\r\n",
    "\r\n",
    "A menudo nos gustaría tener una forma de describir más directamente nuestra incertidumbre sobre una estimación estadística, lo que podemos lograr utilizando un **intervalo de confianza**. La mayoría de la gente está familiarizada con los intervalos de confianza a través de la idea de un \"margen de error\" para las encuestas políticas. Estas encuestas generalmente intentan proporcionar una respuesta que sea precisa dentro de +/- 3 por ciento. Por ejemplo, cuando se estima que un candidato gana una elección por 9 puntos porcentuales con un margen de error de 3, el porcentaje por el cual ganará se estima en 6-12 puntos porcentuales. En estadística, nos referimos a este tipo de rango de valores como un intervalo de confianza, que proporciona un **rango de valores para nuestra estimación de parámetros que son consistentes con nuestros datos de muestra, en lugar de solo darnos una estimación única basada en los datos**. Cuanto más amplio sea el intervalo de confianza, más inseguros somos acerca de nuestra estimación de parámetros.\r\n",
    "\r\n",
    "Los intervalos de confianza son notoriamente confusos, principalmente porque no significan lo que podríamos pensar intuitivamente que significan. Si le digo que he calculado un \"intervalo de confianza del 95%\" para mi estadística, entonces **parecería natural pensar que podemos tener un 95% de confianza en que el valor verdadero del parámetro cae dentro de este intervalo**. Sin embargo, como veremos a lo largo del curso, los conceptos de estadística a menudo no significan lo que pensamos que deberían significar. En el caso de los intervalos de confianza, **no podemos interpretarlos de esta manera porque el parámetro de población tiene un valor fijo; está o no está en el intervalo, por lo que no tiene sentido hablar de la probabilidad de que eso ocurra**. Jerzy Neyman, el inventor del intervalo de confianza, dijo:\r\n",
    "\r\n",
    ">“The parameter is an unknown constant and no probability statement concerning its value may be made.”(Neyman 1937)\r\n",
    "\r\n",
    "En cambio, tenemos que ver el procedimiento de intervalo de confianza desde el mismo punto de vista que vimos la prueba de hipótesis: como un procedimiento que a largo plazo nos permitirá hacer declaraciones correctas con una probabilidad particular. Por lo tanto, **la interpretación adecuada del intervalo de confianza del 95% es que es un intervalo que contendrá la media real de la población el 95% del tiempo**, y de hecho podemos confirmarlo usando simulaciones. El intervalo de confianza para la media se calcula como:\r\n",
    "\r\n",
    "$$ CI = estimación \\ puntual \\pm  valor \\ crítico * error \\ estándar $$\r\n",
    "\r\n",
    "donde el valor crítico está determinado por la distribución muestral de la estimación. La pregunta importante, entonces, es cómo obtenemos nuestra estimación para esa distribución muestral.\r\n",
    "\r\n",
    "### Intervalos de confianza utilizando la distribución normal\r\n",
    "\r\n",
    "Si conocemos la desviación estándar de la población, entonces podemos usar la distribución normal para calcular un intervalo de confianza. Por lo general, no lo hacemos, pero para nuestro ejemplo del conjunto de datos de NHANES lo hacemos, ya que tratamos el conjunto de datos completo como la población (es 31,38 para el peso).\r\n",
    "\r\n",
    "Supongamos que queremos calcular un intervalo de confianza del 95% para la media. El valor crítico serían entonces los valores de la distribución normal estándar que capturan el 95% de la distribución; estos son simplemente el percentil 2.5 y el percentil 97.5 de la distribución, que podemos calcular usando nuestro software estadístico, y resultan en $\\pm 1.96$. Por tanto, el intervalo de confianza para la media ($\\bar{X}$) es:\r\n",
    "\r\n",
    "$$ CI = \\bar{X} \\pm 1.96 * SE $$\r\n",
    "\r\n",
    "Utilizando la media estimada de nuestra muestra (66.62) y la desviación estándar de la población conocida, podemos calcular el intervalo de confianza de [62.72, 70.50]. Ahora, procedamos a implementar este cálculo:"
   ],
   "metadata": {}
  },
  {
   "cell_type": "code",
   "execution_count": 21,
   "source": [
    "# Cargamos los datos\r\n",
    "from nhanes.load import load_NHANES_data\r\n",
    "import numpy as np\r\n",
    "\r\n",
    "nhanes_data = load_NHANES_data()\r\n",
    "nhanes_data = nhanes_data.dropna(subset=['WeightKg'])\r\n",
    "\r\n",
    "# Generamos una muestra\r\n",
    "sample_size=250\r\n",
    "sample=nhanes_data.sample(sample_size,random_state=100)['WeightKg']\r\n",
    "\r\n",
    "# Definimos nuestras variables para el cálculo del CI\r\n",
    "sigma = nhanes_data['WeightKg'].std()\r\n",
    "sem = sigma/np.sqrt(sample_size)\r\n",
    "x_bar = sample.mean() \r\n",
    "\r\n",
    "# Calculamos el CI al 95% utilizando la distribución normal\r\n",
    "ci_low = x_bar - 1.96 * sem\r\n",
    "ci_up = x_bar + 1.96 * sem \r\n",
    "\r\n",
    "print('CI:',[ci_low,ci_up])"
   ],
   "outputs": [
    {
     "output_type": "stream",
     "name": "stdout",
     "text": [
      "CI: [62.725647960601506, 70.50475203939855]\n"
     ]
    }
   ],
   "metadata": {}
  },
  {
   "cell_type": "markdown",
   "source": [
    "Alternativamente, podemos utilizar el paquete `scipy.stats`:"
   ],
   "metadata": {}
  },
  {
   "cell_type": "code",
   "execution_count": 22,
   "source": [
    "from scipy import stats\r\n",
    "print(stats.norm.interval(alpha=0.95, loc=x_bar, scale=sem))"
   ],
   "outputs": [
    {
     "output_type": "stream",
     "name": "stdout",
     "text": [
      "(62.725719432032975, 70.50468056796709)\n"
     ]
    }
   ],
   "metadata": {}
  },
  {
   "cell_type": "markdown",
   "source": [
    "### Intervalos de confianza utilizando la distribución t\r\n",
    "\r\n",
    "Como se indicó anteriormente, si conociéramos la desviación estándar de la población, podríamos usar la distribución normal para calcular nuestros intervalos de confianza. Sin embargo, en general no lo hacemos, en cuyo caso la distribución t es más apropiada como distribución muestral. \r\n",
    "\r\n",
    "Recuerda que la distribución t es ligeramente más amplia que la distribución normal, especialmente para muestras más pequeñas, lo que significa que los intervalos de confianza serán ligeramente más amplios de lo que serían si estuviéramos usando la distribución normal. Esto incorpora la incertidumbre adicional que surge cuando estimamos parámetros basados en muestras pequeñas.\r\n",
    "\r\n",
    "Podemos calcular el intervalo de confianza del 95% de una manera similar al ejemplo de distribución normal anterior, pero el valor crítico está determinado por el percentil 2.5 y el percentil 97.5 de la distribución t con los grados de libertad apropiados. Por tanto, el intervalo de confianza para la media ($\\bar{X}$) es:\r\n",
    "\r\n",
    "$$ CI = \\bar{X} \\pm t_{crit} * SE $$\r\n",
    "\r\n",
    "donde $t_{crit}$ es el valor crítico t. Para el ejemplo de NHANES (con un tamaño de muestra de 250), el intervalo de confianza sería 66.62 $\\pm$ 1.97 * 1.91: [62.85 - 70.38].\r\n",
    "\r\n",
    "Recuerde que esto no nos dice nada sobre la probabilidad de que el valor real de la población caiga dentro de este intervalo, ya que es un parámetro fijo. En cambio, nos dice que, a largo plazo, si calculamos el intervalo de confianza mediante este procedimiento, el 95% de las veces ese intervalo de confianza capturará el parámetro de población real.\r\n",
    "\r\n",
    "A continuación su implementación:"
   ],
   "metadata": {}
  },
  {
   "cell_type": "code",
   "execution_count": 24,
   "source": [
    "stats.t.interval(alpha=0.95, loc=sample.mean(), scale=stats.sem(sample), df=sample_size-1)"
   ],
   "outputs": [
    {
     "output_type": "execute_result",
     "data": {
      "text/plain": [
       "(62.85201526084146, 70.3783847391586)"
      ]
     },
     "metadata": {},
     "execution_count": 24
    }
   ],
   "metadata": {}
  },
  {
   "cell_type": "markdown",
   "source": [
    "### Relación de los intervalos de confianza con las pruebas de hipótesis\r\n",
    "\r\n",
    "Existe una estrecha relación entre los intervalos de confianza y las pruebas de hipótesis. En particular, si el intervalo de confianza no incluye la hipótesis nula, entonces la prueba estadística asociada sería estadísticamente significativa. Por ejemplo, si está probando si la media de una muestra es mayor que cero con α = 0.05, simplemente puede verificar si cero está contenido dentro del intervalo de confianza del 95% para la media.\r\n",
    "\r\n",
    "Las cosas se complican si queremos comparar las medias de dos condiciones (Schenker y Gentleman 2001). Hay un par de situaciones que están claras: \r\n",
    "- **Si cada media está contenida dentro del intervalo de confianza para la otra media, entonces definitivamente no hay diferencia significativa** en el nivel de confianza elegido. \r\n",
    "- **Si no hay superposición entre los intervalos de confianza, entonces hay una diferencia significativa** en el nivel elegido; de hecho, esta prueba es sustancialmente conservadora, de modo que la tasa de error real será menor que el nivel elegido. \r\n",
    "\r\n",
    "Pero, ¿qué pasa con el caso en el que los intervalos de confianza se superponen entre sí pero no contienen las medias para el otro grupo? En este caso, la respuesta depende de la variabilidad relativa de las dos variables y no hay una respuesta general. Sin embargo, en general, se debe evitar el uso de la \"prueba del globo ocular\" para superponer intervalos de confianza.\r\n",
    "\r\n",
    "Podemos ilustrar la relación entre los intervalos de confianza y las pruebas de hipótesis mediante el siguiente ejemplo:"
   ],
   "metadata": {}
  },
  {
   "cell_type": "code",
   "execution_count": 131,
   "source": [
    "# Generamos una muestra\r\n",
    "sample_size=250\r\n",
    "sample=nhanes_data.sample(sample_size,random_state=100).dropna(subset=['WeightKg']).rename(columns={'WeightKg': 'Weight'})\r\n",
    "\r\n",
    "# Graficamos el CI al 95%\r\n",
    "sns.pointplot(x='Gender',y='Weight',data=sample,ci=95)\r\n",
    "plt.ylabel('Peso (kg)',size=14);\r\n",
    "plt.xlabel('Género',size=14);\r\n",
    "plt.xticks([0,1],['Femenino','Masculino'],size=12);"
   ],
   "outputs": [
    {
     "output_type": "display_data",
     "data": {
      "text/plain": [
       "<Figure size 432x288 with 1 Axes>"
      ],
      "image/png": "[encoded data removed]"
     },
     "metadata": {
      "needs_background": "light"
     }
    }
   ],
   "metadata": {}
  },
  {
   "cell_type": "markdown",
   "source": [
    "Según el gráfico y los criterios previamente explicados, definitivamente no hay diferencia significativa. Vamos a comprobarlo aplicando una prueba de hipótesis:"
   ],
   "metadata": {}
  },
  {
   "cell_type": "code",
   "execution_count": 122,
   "source": [
    "# Hacemos una comparacion de medias\r\n",
    "grupo1=sample.query('Gender == \"Female\"')['Weight']\r\n",
    "grupo2=sample.query('Gender == \"Male\"')['Weight']\r\n",
    "stats.ttest_ind(grupo1,grupo2,equal_var=False)"
   ],
   "outputs": [
    {
     "output_type": "execute_result",
     "data": {
      "text/plain": [
       "Ttest_indResult(statistic=-1.0337286231327518, pvalue=0.30231371603707363)"
      ]
     },
     "metadata": {},
     "execution_count": 122
    }
   ],
   "metadata": {}
  },
  {
   "cell_type": "markdown",
   "source": [
    "## Tamaño del efecto\r\n",
    ">“Statistical significance is the least interesting thing about the results. You should describe the results in terms of measures of magnitude – not just, does a treatment affect people, but how much does it affect them.” Gene Glass, quoted in (Sullivan and Feinn 2012)\r\n",
    "\r\n",
    "El tamaño del efecto es una medida estandarizada que compara el tamaño de algún efecto estadístico con una cantidad de referencia, como la variabilidad del estadístico. En algunos campos de la ciencia y la ingeniería, esta idea se denomina \"ratio señal ruido\". Hay muchas formas diferentes de cuantificar el tamaño del efecto, que dependen de la naturaleza de los datos.\r\n",
    "\r\n",
    "### D de Cohen\r\n",
    "\r\n",
    "Una de las medidas más comunes del tamaño del efecto se conoce como d de Cohen, que lleva el nombre del estadístico Jacob Cohen (quien es más famoso por su artículo de 1994 titulado \"The Earth is Round (p <.05)\"). Se utiliza para cuantificar la diferencia entre dos medias, en términos de su desviación estándar:\r\n",
    "\r\n",
    "$$ d = \\frac{ \\bar{X}_{1} - \\bar{X}_{2} } {s}  $$\r\n",
    "\r\n",
    "donde $\\bar{X}_{1}$ y $\\bar{X}_{2}$ son las medias de ambos grupos, y $s$ es la desviación estándar agrupada (que es una combinación de las desviaciones estándar de las dos muestras, ponderadas por sus tamaños de muestra):\r\n",
    "\r\n",
    "$$ s = \\sqrt{ \\frac{\\left ( n_{1} - 1 \\right )^{2} s^{2}_{1} + \\left ( n_{2} - 1 \\right )^{2} s^{2}_{2}}{n_{1} + n_{2} - 2 }}  $$\r\n",
    "\r\n",
    "donde $n_{1}$ y $n_{2}$ son los tamaños de muestra y $s^{2}_{1}$ y $s^{2}_{2}$ son las desviaciones estándar de cada grupo. \r\n",
    "\r\n",
    "Ten en cuenta que esto es muy similar en espíritu al estadístico t; la principal diferencia es que el denominador en el estadístico t se basa en el error estándar de la media, mientras que el denominador en la D de Cohen se basa en la desviación estándar de los datos. Esto significa que, si bien el estadístico t aumentará a medida que el tamaño de la muestra aumenta, el valor de la D de Cohen seguirá siendo el mismo.\r\n",
    "\r\n",
    "Existe una escala de uso común para interpretar el tamaño de un efecto en términos de la d de Cohen, que se muestra en la siguiente tabla: \r\n",
    "\r\n",
    "| D de Cohen \t| Interpretación \t|\r\n",
    "|------------\t|----------------\t|\r\n",
    "| 0 - 0.2    \t| Despreciable   \t|\r\n",
    "| 0.2 - 0.5  \t| Pequeño        \t|\r\n",
    "| 0.5 - 0.8  \t| Mediano        \t|\r\n",
    "| 0.8 +      \t| Grande         \t|\r\n",
    "\r\n",
    "Puede ser útil observar algunos efectos comúnmente entendidos para ayudar a comprender estas interpretaciones. Por ejemplo, el tamaño del efecto para las diferencias de género en la altura de los adultos (d = 2.05) es muy grande en referencia a nuestra tabla anterior. También podemos ver esto al observar las distribuciones de las alturas de hombres y mujeres en una muestra del conjunto de datos de NHANES:\r\n"
   ],
   "metadata": {}
  },
  {
   "cell_type": "code",
   "execution_count": 103,
   "source": [
    "import seaborn as sns\r\n",
    "import matplotlib.pyplot as plt\r\n",
    "\r\n",
    "# Cargamos los datos\r\n",
    "nhanes_data = load_NHANES_data()\r\n",
    "adult_nhanes_data = nhanes_data.query('AgeInYearsAtScreening > 17')\r\n",
    "adult_nhanes_data = adult_nhanes_data.dropna(subset=['StandingHeightCm']).rename(columns={'StandingHeightCm': 'Height'})\r\n",
    "\r\n",
    "# Generamos un gráfico para visualizar las distribuciones\r\n",
    "sns.displot(data=adult_nhanes_data,x='Height',hue='Gender',kind='kde',legend=False)\r\n",
    "plt.xlabel('Altura',size=14);\r\n",
    "plt.ylabel('Densidad',size=14);\r\n",
    "plt.legend(['Femenino', 'Masculino'],title='Género');"
   ],
   "outputs": [
    {
     "output_type": "display_data",
     "data": {
      "text/plain": [
       "<Figure size 360x360 with 1 Axes>"
      ],
      "image/png": "[encoded data removed]"
     },
     "metadata": {
      "needs_background": "light"
     }
    }
   ],
   "metadata": {}
  },
  {
   "cell_type": "markdown",
   "source": [
    " La muestra que las dos distribuciones están bastante bien separadas, aunque aún se superponen, destacando el hecho de que incluso cuando hay un tamaño de efecto muy grande para la diferencia entre dos grupos, habrá individuos de cada grupo que se parecerán más al otro grupo. Calculemos ahora la D de Cohen:"
   ],
   "metadata": {}
  },
  {
   "cell_type": "code",
   "execution_count": 99,
   "source": [
    "# Grupos a comparar\r\n",
    "c0 = adult_nhanes_data.query('Gender == \"Male\"')['Height']\r\n",
    "c1 = adult_nhanes_data.query('Gender == \"Female\"')['Height']\r\n",
    "\r\n",
    "# Calculo de la D de Cohen\r\n",
    "s = np.sqrt( ( (len(c0)-1)*np.std(c0)**2 + (len(c1)-1)*np.std(c1)**2 ) /  (len(c0)+len(c1)-2)   ) \r\n",
    "d = (np.mean(c0) - np.mean(c1)) / s \r\n",
    "print('D de Cohen:', d)"
   ],
   "outputs": [
    {
     "output_type": "stream",
     "name": "stdout",
     "text": [
      "D de Cohen: 1.874718410091574\n"
     ]
    }
   ],
   "metadata": {}
  },
  {
   "cell_type": "markdown",
   "source": [
    "Alternativamente, podemos utilizar el paquete `researchpy`:"
   ],
   "metadata": {}
  },
  {
   "cell_type": "code",
   "execution_count": null,
   "source": [
    "!pip install researchpy"
   ],
   "outputs": [],
   "metadata": {}
  },
  {
   "cell_type": "code",
   "execution_count": 100,
   "source": [
    "import researchpy\r\n",
    "des,res=researchpy.ttest(c0, c1)\r\n",
    "des"
   ],
   "outputs": [
    {
     "output_type": "execute_result",
     "data": {
      "text/plain": [
       "   Variable       N        Mean         SD        SE   95% Conf.    Interval\n",
       "0    Height  2630.0  173.480875   7.676302  0.149684  173.187365  173.774384\n",
       "1    Height  2814.0  159.709275   7.025924  0.132447  159.449572  159.968978\n",
       "2  combined  5444.0  166.362344  10.066868  0.136438  166.094871  166.629817"
      ],
      "text/html": [
       "<div>\n",
       "<style scoped>\n",
       "    .dataframe tbody tr th:only-of-type {\n",
       "        vertical-align: middle;\n",
       "    }\n",
       "\n",
       "    .dataframe tbody tr th {\n",
       "        vertical-align: top;\n",
       "    }\n",
       "\n",
       "    .dataframe thead th {\n",
       "        text-align: right;\n",
       "    }\n",
       "</style>\n",
       "<table border=\"1\" class=\"dataframe\">\n",
       "  <thead>\n",
       "    <tr style=\"text-align: right;\">\n",
       "      <th></th>\n",
       "      <th>Variable</th>\n",
       "      <th>N</th>\n",
       "      <th>Mean</th>\n",
       "      <th>SD</th>\n",
       "      <th>SE</th>\n",
       "      <th>95% Conf.</th>\n",
       "      <th>Interval</th>\n",
       "    </tr>\n",
       "  </thead>\n",
       "  <tbody>\n",
       "    <tr>\n",
       "      <th>0</th>\n",
       "      <td>Height</td>\n",
       "      <td>2630.0</td>\n",
       "      <td>173.480875</td>\n",
       "      <td>7.676302</td>\n",
       "      <td>0.149684</td>\n",
       "      <td>173.187365</td>\n",
       "      <td>173.774384</td>\n",
       "    </tr>\n",
       "    <tr>\n",
       "      <th>1</th>\n",
       "      <td>Height</td>\n",
       "      <td>2814.0</td>\n",
       "      <td>159.709275</td>\n",
       "      <td>7.025924</td>\n",
       "      <td>0.132447</td>\n",
       "      <td>159.449572</td>\n",
       "      <td>159.968978</td>\n",
       "    </tr>\n",
       "    <tr>\n",
       "      <th>2</th>\n",
       "      <td>combined</td>\n",
       "      <td>5444.0</td>\n",
       "      <td>166.362344</td>\n",
       "      <td>10.066868</td>\n",
       "      <td>0.136438</td>\n",
       "      <td>166.094871</td>\n",
       "      <td>166.629817</td>\n",
       "    </tr>\n",
       "  </tbody>\n",
       "</table>\n",
       "</div>"
      ]
     },
     "metadata": {},
     "execution_count": 100
    }
   ],
   "metadata": {}
  },
  {
   "cell_type": "code",
   "execution_count": 101,
   "source": [
    "res"
   ],
   "outputs": [
    {
     "output_type": "execute_result",
     "data": {
      "text/plain": [
       "                Independent t-test    results\n",
       "0  Difference (Height - Height) =     13.7716\n",
       "1            Degrees of freedom =   5442.0000\n",
       "2                             t =     69.1094\n",
       "3         Two side test p value =      0.0000\n",
       "4        Difference < 0 p value =      1.0000\n",
       "5        Difference > 0 p value =      0.0000\n",
       "6                     Cohen's d =      1.8744\n",
       "7                     Hedge's g =      1.8741\n",
       "8                 Glass's delta =      1.7940\n",
       "9                             r =      0.6837"
      ],
      "text/html": [
       "<div>\n",
       "<style scoped>\n",
       "    .dataframe tbody tr th:only-of-type {\n",
       "        vertical-align: middle;\n",
       "    }\n",
       "\n",
       "    .dataframe tbody tr th {\n",
       "        vertical-align: top;\n",
       "    }\n",
       "\n",
       "    .dataframe thead th {\n",
       "        text-align: right;\n",
       "    }\n",
       "</style>\n",
       "<table border=\"1\" class=\"dataframe\">\n",
       "  <thead>\n",
       "    <tr style=\"text-align: right;\">\n",
       "      <th></th>\n",
       "      <th>Independent t-test</th>\n",
       "      <th>results</th>\n",
       "    </tr>\n",
       "  </thead>\n",
       "  <tbody>\n",
       "    <tr>\n",
       "      <th>0</th>\n",
       "      <td>Difference (Height - Height) =</td>\n",
       "      <td>13.7716</td>\n",
       "    </tr>\n",
       "    <tr>\n",
       "      <th>1</th>\n",
       "      <td>Degrees of freedom =</td>\n",
       "      <td>5442.0000</td>\n",
       "    </tr>\n",
       "    <tr>\n",
       "      <th>2</th>\n",
       "      <td>t =</td>\n",
       "      <td>69.1094</td>\n",
       "    </tr>\n",
       "    <tr>\n",
       "      <th>3</th>\n",
       "      <td>Two side test p value =</td>\n",
       "      <td>0.0000</td>\n",
       "    </tr>\n",
       "    <tr>\n",
       "      <th>4</th>\n",
       "      <td>Difference &lt; 0 p value =</td>\n",
       "      <td>1.0000</td>\n",
       "    </tr>\n",
       "    <tr>\n",
       "      <th>5</th>\n",
       "      <td>Difference &gt; 0 p value =</td>\n",
       "      <td>0.0000</td>\n",
       "    </tr>\n",
       "    <tr>\n",
       "      <th>6</th>\n",
       "      <td>Cohen's d =</td>\n",
       "      <td>1.8744</td>\n",
       "    </tr>\n",
       "    <tr>\n",
       "      <th>7</th>\n",
       "      <td>Hedge's g =</td>\n",
       "      <td>1.8741</td>\n",
       "    </tr>\n",
       "    <tr>\n",
       "      <th>8</th>\n",
       "      <td>Glass's delta =</td>\n",
       "      <td>1.7940</td>\n",
       "    </tr>\n",
       "    <tr>\n",
       "      <th>9</th>\n",
       "      <td>r =</td>\n",
       "      <td>0.6837</td>\n",
       "    </tr>\n",
       "  </tbody>\n",
       "</table>\n",
       "</div>"
      ]
     },
     "metadata": {},
     "execution_count": 101
    }
   ],
   "metadata": {}
  },
  {
   "cell_type": "markdown",
   "source": [
    "Vale la pena señalar que rara vez encontramos efectos de esta magnitud en la ciencia, en parte porque son efectos tan obvios que no necesitamos investigación científica para encontrarlos. Los efectos muy grandes reportados en la investigación científica a menudo reflejan el uso de prácticas de investigación cuestionables en lugar de efectos verdaderamente enormes en la naturaleza. \r\n",
    "\r\n",
    "También vale la pena señalar que incluso para un efecto tan grande, las dos distribuciones aún se superponen: habrá algunas mujeres que serán más altas que el hombre promedio, y viceversa. Para los efectos científicos más interesantes, el grado de superposición será mucho mayor, por lo que no deberíamos sacar conclusiones sólidas de inmediato sobre individuos de diferentes poblaciones basadas incluso en un tamaño de efecto grande.\r\n",
    "\r\n",
    "## Teoría clásica de los tests\r\n",
    "\r\n",
    "Al momento de trabajar con datos cuantitativos provenientes de escalas psicométricas nos encontramos también con errores en la medición, los cuales dependen no solo de las características propias del muestreo, sino también de las propiedades de la pruebas. \r\n",
    "\r\n",
    "Para ello, examinemos la teoría clásica de los tests. Esta plantea que, al aplicar una escala, **la puntuación observada del sujeto está compuesta de forma aditiva por un nivel de rendimiento real y un error aleatorio**. Este planteamiento se expresa a través de la siguiente ecuación:\r\n",
    "\r\n",
    "$$ X_{ij} = T_{ij} + E_{ij} $$\r\n",
    "\r\n",
    "donde $X_{ij}$ es el puntaje observado, $T_{ij}$ es el puntaje real del sujeto y $E_{ij}$ es el error aleatorio, para cada sujeto $i$ y para cada prueba $j$. Este planteamiento teórico está a la base de la mayoría de las pruebas psicológicas.\r\n",
    "\r\n",
    "### Error estándar de medición\r\n",
    "\r\n",
    "Al momento de registrar el puntaje de un individuo con una prueba podemos definir un intervalo en el cual confiamos que se encontrará la puntuación real del individuo la mayoría de las veces. Para ello, necesitamos calcular el **error estándar de medición**, el cual se define como **la variación esperada de la puntuación observada de un sujeto individual alrededor de la puntuación real**, y se expresa a través de la siguiente ecuación:\r\n",
    "\r\n",
    "$$ \\sigma_{E} = \\sigma_{X}\\sqrt{(1-\\rho)} $$\r\n",
    "\r\n",
    "donde $\\sigma_{E}$ es el error estándar de medición, $\\sigma_{X}$ es la varianza del puntaje observado y $\\rho$ el coeficiente de confiabilidad del instrumento.  \r\n",
    "\r\n",
    "De este modo, utilizando la distribución normal, el intervalo de confianza al 95% para la puntuación real en torno a la puntuación observada $X$ se calcula como: \r\n",
    "\r\n",
    "$$ CI = X \\pm 1.96 * \\sigma_{E} $$\r\n",
    "\r\n",
    "\r\n",
    "\r\n"
   ],
   "metadata": {}
  }
 ],
 "metadata": {
  "orig_nbformat": 4,
  "language_info": {
   "name": "python",
   "version": "3.7.10",
   "mimetype": "text/x-python",
   "codemirror_mode": {
    "name": "ipython",
    "version": 3
   },
   "pygments_lexer": "ipython3",
   "nbconvert_exporter": "python",
   "file_extension": ".py"
  },
  "kernelspec": {
   "name": "python3",
   "display_name": "Python 3.7.10 64-bit ('base': conda)"
  },
  "interpreter": {
   "hash": "fcc1d2c210046f8d6f0962280d91bf96fd89619bab60881df3e6b70c67140f94"
  }
 },
 "nbformat": 4,
 "nbformat_minor": 2
}