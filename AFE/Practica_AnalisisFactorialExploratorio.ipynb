{
 "cells": [
  {
   "cell_type": "markdown",
   "metadata": {},
   "source": [
    "# Práctica: Análisis Factorial Exploratorio\n",
    "\n",
    "> Requiere cargar el archivo [\"smoke.sav\"](https://github.com/renatoparedes/EstadisticaYPsicologiaMatematica/raw/main/AFE/smoke.sav) en el repositorio local. \n",
    "\n",
    "Eres un asistente de investigación de un grupo de Psicología de la Salud. En esta etapa preliminar, se te ha asignado evaluar la estructura factorial de una escala elaborada por tu grupo de investigación. "
   ]
  },
  {
   "cell_type": "code",
   "execution_count": null,
   "metadata": {},
   "outputs": [],
   "source": [
    "!pip install pyreadstat \n",
    "!pip install factor_analyzer"
   ]
  },
  {
   "cell_type": "code",
   "execution_count": 5,
   "metadata": {},
   "outputs": [
    {
     "data": {
      "text/html": [
       "<div>\n",
       "<style scoped>\n",
       "    .dataframe tbody tr th:only-of-type {\n",
       "        vertical-align: middle;\n",
       "    }\n",
       "\n",
       "    .dataframe tbody tr th {\n",
       "        vertical-align: top;\n",
       "    }\n",
       "\n",
       "    .dataframe thead th {\n",
       "        text-align: right;\n",
       "    }\n",
       "</style>\n",
       "<table border=\"1\" class=\"dataframe\">\n",
       "  <thead>\n",
       "    <tr style=\"text-align: right;\">\n",
       "      <th></th>\n",
       "      <th>s1</th>\n",
       "      <th>s2</th>\n",
       "      <th>s3</th>\n",
       "      <th>s4</th>\n",
       "      <th>s5</th>\n",
       "      <th>s6</th>\n",
       "      <th>s7</th>\n",
       "      <th>s8</th>\n",
       "      <th>s9</th>\n",
       "      <th>s10</th>\n",
       "      <th>...</th>\n",
       "      <th>s16</th>\n",
       "      <th>s17</th>\n",
       "      <th>s18</th>\n",
       "      <th>s19</th>\n",
       "      <th>s20</th>\n",
       "      <th>s21</th>\n",
       "      <th>s22</th>\n",
       "      <th>s23</th>\n",
       "      <th>s24</th>\n",
       "      <th>s25</th>\n",
       "    </tr>\n",
       "  </thead>\n",
       "  <tbody>\n",
       "    <tr>\n",
       "      <th>0</th>\n",
       "      <td>1.144538</td>\n",
       "      <td>0.845311</td>\n",
       "      <td>-0.623663</td>\n",
       "      <td>1.159459</td>\n",
       "      <td>-1.761410</td>\n",
       "      <td>-1.426881</td>\n",
       "      <td>-0.412549</td>\n",
       "      <td>0.853798</td>\n",
       "      <td>1.223217</td>\n",
       "      <td>-0.559233</td>\n",
       "      <td>...</td>\n",
       "      <td>-0.877338</td>\n",
       "      <td>-0.980196</td>\n",
       "      <td>-0.763370</td>\n",
       "      <td>-0.875545</td>\n",
       "      <td>1.134563</td>\n",
       "      <td>0.561337</td>\n",
       "      <td>-0.025206</td>\n",
       "      <td>-0.608895</td>\n",
       "      <td>-0.366505</td>\n",
       "      <td>0.950168</td>\n",
       "    </tr>\n",
       "    <tr>\n",
       "      <th>1</th>\n",
       "      <td>1.144538</td>\n",
       "      <td>0.845311</td>\n",
       "      <td>0.918171</td>\n",
       "      <td>1.159459</td>\n",
       "      <td>0.640513</td>\n",
       "      <td>1.683207</td>\n",
       "      <td>2.090248</td>\n",
       "      <td>0.853798</td>\n",
       "      <td>1.223217</td>\n",
       "      <td>1.304877</td>\n",
       "      <td>...</td>\n",
       "      <td>0.507933</td>\n",
       "      <td>0.070014</td>\n",
       "      <td>0.508913</td>\n",
       "      <td>0.051503</td>\n",
       "      <td>0.360997</td>\n",
       "      <td>0.561337</td>\n",
       "      <td>1.109048</td>\n",
       "      <td>1.248751</td>\n",
       "      <td>1.388859</td>\n",
       "      <td>0.076781</td>\n",
       "    </tr>\n",
       "    <tr>\n",
       "      <th>2</th>\n",
       "      <td>1.144538</td>\n",
       "      <td>0.845311</td>\n",
       "      <td>0.918171</td>\n",
       "      <td>0.025206</td>\n",
       "      <td>-0.160128</td>\n",
       "      <td>0.128163</td>\n",
       "      <td>1.255982</td>\n",
       "      <td>0.853798</td>\n",
       "      <td>0.295611</td>\n",
       "      <td>1.304877</td>\n",
       "      <td>...</td>\n",
       "      <td>1.893204</td>\n",
       "      <td>1.120224</td>\n",
       "      <td>1.781197</td>\n",
       "      <td>0.978550</td>\n",
       "      <td>0.360997</td>\n",
       "      <td>1.432377</td>\n",
       "      <td>1.109048</td>\n",
       "      <td>0.319928</td>\n",
       "      <td>1.388859</td>\n",
       "      <td>0.076781</td>\n",
       "    </tr>\n",
       "    <tr>\n",
       "      <th>3</th>\n",
       "      <td>-0.244168</td>\n",
       "      <td>-0.104359</td>\n",
       "      <td>-0.623663</td>\n",
       "      <td>0.025206</td>\n",
       "      <td>0.640513</td>\n",
       "      <td>-0.649359</td>\n",
       "      <td>-0.412549</td>\n",
       "      <td>-0.305838</td>\n",
       "      <td>0.295611</td>\n",
       "      <td>1.304877</td>\n",
       "      <td>...</td>\n",
       "      <td>0.507933</td>\n",
       "      <td>0.070014</td>\n",
       "      <td>0.508913</td>\n",
       "      <td>0.978550</td>\n",
       "      <td>-1.186134</td>\n",
       "      <td>0.561337</td>\n",
       "      <td>-0.025206</td>\n",
       "      <td>0.319928</td>\n",
       "      <td>-0.366505</td>\n",
       "      <td>-0.796605</td>\n",
       "    </tr>\n",
       "    <tr>\n",
       "      <th>4</th>\n",
       "      <td>-0.244168</td>\n",
       "      <td>0.845311</td>\n",
       "      <td>-0.623663</td>\n",
       "      <td>1.159459</td>\n",
       "      <td>-0.960769</td>\n",
       "      <td>0.905685</td>\n",
       "      <td>0.421717</td>\n",
       "      <td>-0.305838</td>\n",
       "      <td>-0.631995</td>\n",
       "      <td>-0.559233</td>\n",
       "      <td>...</td>\n",
       "      <td>-0.877338</td>\n",
       "      <td>-0.980196</td>\n",
       "      <td>0.508913</td>\n",
       "      <td>-0.875545</td>\n",
       "      <td>1.134563</td>\n",
       "      <td>0.561337</td>\n",
       "      <td>-0.025206</td>\n",
       "      <td>-0.608895</td>\n",
       "      <td>-0.366505</td>\n",
       "      <td>-0.796605</td>\n",
       "    </tr>\n",
       "    <tr>\n",
       "      <th>...</th>\n",
       "      <td>...</td>\n",
       "      <td>...</td>\n",
       "      <td>...</td>\n",
       "      <td>...</td>\n",
       "      <td>...</td>\n",
       "      <td>...</td>\n",
       "      <td>...</td>\n",
       "      <td>...</td>\n",
       "      <td>...</td>\n",
       "      <td>...</td>\n",
       "      <td>...</td>\n",
       "      <td>...</td>\n",
       "      <td>...</td>\n",
       "      <td>...</td>\n",
       "      <td>...</td>\n",
       "      <td>...</td>\n",
       "      <td>...</td>\n",
       "      <td>...</td>\n",
       "      <td>...</td>\n",
       "      <td>...</td>\n",
       "      <td>...</td>\n",
       "    </tr>\n",
       "    <tr>\n",
       "      <th>86</th>\n",
       "      <td>-0.244168</td>\n",
       "      <td>-0.104359</td>\n",
       "      <td>0.918171</td>\n",
       "      <td>-2.243301</td>\n",
       "      <td>-0.960769</td>\n",
       "      <td>-0.649359</td>\n",
       "      <td>-0.412549</td>\n",
       "      <td>-0.305838</td>\n",
       "      <td>0.295611</td>\n",
       "      <td>-0.559233</td>\n",
       "      <td>...</td>\n",
       "      <td>0.507933</td>\n",
       "      <td>0.070014</td>\n",
       "      <td>0.508913</td>\n",
       "      <td>0.051503</td>\n",
       "      <td>-1.186134</td>\n",
       "      <td>-1.180743</td>\n",
       "      <td>-2.293713</td>\n",
       "      <td>0.319928</td>\n",
       "      <td>-0.366505</td>\n",
       "      <td>-0.796605</td>\n",
       "    </tr>\n",
       "    <tr>\n",
       "      <th>87</th>\n",
       "      <td>1.144538</td>\n",
       "      <td>-2.003699</td>\n",
       "      <td>-1.394580</td>\n",
       "      <td>0.025206</td>\n",
       "      <td>0.640513</td>\n",
       "      <td>-1.426881</td>\n",
       "      <td>-0.412549</td>\n",
       "      <td>0.853798</td>\n",
       "      <td>-2.487208</td>\n",
       "      <td>0.372822</td>\n",
       "      <td>...</td>\n",
       "      <td>-0.877338</td>\n",
       "      <td>0.070014</td>\n",
       "      <td>-0.763370</td>\n",
       "      <td>1.905597</td>\n",
       "      <td>-1.186134</td>\n",
       "      <td>0.561337</td>\n",
       "      <td>1.109048</td>\n",
       "      <td>-0.608895</td>\n",
       "      <td>0.511177</td>\n",
       "      <td>-0.796605</td>\n",
       "    </tr>\n",
       "    <tr>\n",
       "      <th>88</th>\n",
       "      <td>1.144538</td>\n",
       "      <td>0.845311</td>\n",
       "      <td>0.147254</td>\n",
       "      <td>1.159459</td>\n",
       "      <td>0.640513</td>\n",
       "      <td>0.905685</td>\n",
       "      <td>0.421717</td>\n",
       "      <td>-0.305838</td>\n",
       "      <td>1.223217</td>\n",
       "      <td>2.236931</td>\n",
       "      <td>...</td>\n",
       "      <td>-0.877338</td>\n",
       "      <td>0.070014</td>\n",
       "      <td>0.508913</td>\n",
       "      <td>-0.875545</td>\n",
       "      <td>1.134563</td>\n",
       "      <td>1.432377</td>\n",
       "      <td>1.109048</td>\n",
       "      <td>-0.608895</td>\n",
       "      <td>-0.366505</td>\n",
       "      <td>0.950168</td>\n",
       "    </tr>\n",
       "    <tr>\n",
       "      <th>89</th>\n",
       "      <td>1.144538</td>\n",
       "      <td>-0.104359</td>\n",
       "      <td>-1.394580</td>\n",
       "      <td>0.025206</td>\n",
       "      <td>-0.960769</td>\n",
       "      <td>0.128163</td>\n",
       "      <td>-1.246815</td>\n",
       "      <td>-0.305838</td>\n",
       "      <td>0.295611</td>\n",
       "      <td>-0.559233</td>\n",
       "      <td>...</td>\n",
       "      <td>-0.877338</td>\n",
       "      <td>-0.980196</td>\n",
       "      <td>-0.763370</td>\n",
       "      <td>-0.875545</td>\n",
       "      <td>0.360997</td>\n",
       "      <td>1.432377</td>\n",
       "      <td>1.109048</td>\n",
       "      <td>-0.608895</td>\n",
       "      <td>-1.244186</td>\n",
       "      <td>0.076781</td>\n",
       "    </tr>\n",
       "    <tr>\n",
       "      <th>90</th>\n",
       "      <td>1.144538</td>\n",
       "      <td>0.845311</td>\n",
       "      <td>0.147254</td>\n",
       "      <td>-1.109048</td>\n",
       "      <td>-0.960769</td>\n",
       "      <td>-0.649359</td>\n",
       "      <td>-0.412549</td>\n",
       "      <td>0.853798</td>\n",
       "      <td>1.223217</td>\n",
       "      <td>2.236931</td>\n",
       "      <td>...</td>\n",
       "      <td>-0.877338</td>\n",
       "      <td>-0.980196</td>\n",
       "      <td>-0.763370</td>\n",
       "      <td>2.832644</td>\n",
       "      <td>-1.959700</td>\n",
       "      <td>0.561337</td>\n",
       "      <td>-0.025206</td>\n",
       "      <td>-0.608895</td>\n",
       "      <td>-0.366505</td>\n",
       "      <td>0.076781</td>\n",
       "    </tr>\n",
       "  </tbody>\n",
       "</table>\n",
       "<p>87 rows × 25 columns</p>\n",
       "</div>"
      ],
      "text/plain": [
       "          s1        s2        s3        s4        s5        s6        s7  \\\n",
       "0   1.144538  0.845311 -0.623663  1.159459 -1.761410 -1.426881 -0.412549   \n",
       "1   1.144538  0.845311  0.918171  1.159459  0.640513  1.683207  2.090248   \n",
       "2   1.144538  0.845311  0.918171  0.025206 -0.160128  0.128163  1.255982   \n",
       "3  -0.244168 -0.104359 -0.623663  0.025206  0.640513 -0.649359 -0.412549   \n",
       "4  -0.244168  0.845311 -0.623663  1.159459 -0.960769  0.905685  0.421717   \n",
       "..       ...       ...       ...       ...       ...       ...       ...   \n",
       "86 -0.244168 -0.104359  0.918171 -2.243301 -0.960769 -0.649359 -0.412549   \n",
       "87  1.144538 -2.003699 -1.394580  0.025206  0.640513 -1.426881 -0.412549   \n",
       "88  1.144538  0.845311  0.147254  1.159459  0.640513  0.905685  0.421717   \n",
       "89  1.144538 -0.104359 -1.394580  0.025206 -0.960769  0.128163 -1.246815   \n",
       "90  1.144538  0.845311  0.147254 -1.109048 -0.960769 -0.649359 -0.412549   \n",
       "\n",
       "          s8        s9       s10  ...       s16       s17       s18       s19  \\\n",
       "0   0.853798  1.223217 -0.559233  ... -0.877338 -0.980196 -0.763370 -0.875545   \n",
       "1   0.853798  1.223217  1.304877  ...  0.507933  0.070014  0.508913  0.051503   \n",
       "2   0.853798  0.295611  1.304877  ...  1.893204  1.120224  1.781197  0.978550   \n",
       "3  -0.305838  0.295611  1.304877  ...  0.507933  0.070014  0.508913  0.978550   \n",
       "4  -0.305838 -0.631995 -0.559233  ... -0.877338 -0.980196  0.508913 -0.875545   \n",
       "..       ...       ...       ...  ...       ...       ...       ...       ...   \n",
       "86 -0.305838  0.295611 -0.559233  ...  0.507933  0.070014  0.508913  0.051503   \n",
       "87  0.853798 -2.487208  0.372822  ... -0.877338  0.070014 -0.763370  1.905597   \n",
       "88 -0.305838  1.223217  2.236931  ... -0.877338  0.070014  0.508913 -0.875545   \n",
       "89 -0.305838  0.295611 -0.559233  ... -0.877338 -0.980196 -0.763370 -0.875545   \n",
       "90  0.853798  1.223217  2.236931  ... -0.877338 -0.980196 -0.763370  2.832644   \n",
       "\n",
       "         s20       s21       s22       s23       s24       s25  \n",
       "0   1.134563  0.561337 -0.025206 -0.608895 -0.366505  0.950168  \n",
       "1   0.360997  0.561337  1.109048  1.248751  1.388859  0.076781  \n",
       "2   0.360997  1.432377  1.109048  0.319928  1.388859  0.076781  \n",
       "3  -1.186134  0.561337 -0.025206  0.319928 -0.366505 -0.796605  \n",
       "4   1.134563  0.561337 -0.025206 -0.608895 -0.366505 -0.796605  \n",
       "..       ...       ...       ...       ...       ...       ...  \n",
       "86 -1.186134 -1.180743 -2.293713  0.319928 -0.366505 -0.796605  \n",
       "87 -1.186134  0.561337  1.109048 -0.608895  0.511177 -0.796605  \n",
       "88  1.134563  1.432377  1.109048 -0.608895 -0.366505  0.950168  \n",
       "89  0.360997  1.432377  1.109048 -0.608895 -1.244186  0.076781  \n",
       "90 -1.959700  0.561337 -0.025206 -0.608895 -0.366505  0.076781  \n",
       "\n",
       "[87 rows x 25 columns]"
      ]
     },
     "execution_count": 5,
     "metadata": {},
     "output_type": "execute_result"
    }
   ],
   "source": [
    "import pandas as pd\n",
    "from sklearn.preprocessing import StandardScaler\n",
    "\n",
    "df = pd.read_spss('smoke.sav')\n",
    "scaler = StandardScaler()\n",
    "scaled_data = scaler.fit_transform(df)\n",
    "scaled_df = pd.DataFrame(scaled_data, columns=df.columns.values)\n",
    "scaled_df.dropna(inplace=True)\n",
    "scaled_df"
   ]
  },
  {
   "cell_type": "markdown",
   "metadata": {},
   "source": [
    "## Parte 1: Supuestos de un AF\n",
    "\n",
    "Evalúa la adecuación de los datos para un análisis factorial empleando las prueba de Bartlett y el índice KMO. ¿Qué puedes concluir?\n",
    "> Sugerencia: Utiliza las funciones `calculate_bartlett_sphericity` y `calculate_kmo` disponibles en el paquete `factor_analyzer`. "
   ]
  },
  {
   "cell_type": "code",
   "execution_count": 1,
   "metadata": {},
   "outputs": [],
   "source": [
    "from factor_analyzer.factor_analyzer import calculate_bartlett_sphericity\n",
    "\n",
    "# Escribe tu respuesta aquí\n"
   ]
  },
  {
   "cell_type": "code",
   "execution_count": 2,
   "metadata": {},
   "outputs": [],
   "source": [
    "from factor_analyzer.factor_analyzer import calculate_kmo\n",
    "\n",
    "# Escribe tu respuesta aquí\n"
   ]
  },
  {
   "cell_type": "markdown",
   "metadata": {},
   "source": [
    "## Parte 2: Número de factores a extraer\n",
    "\n",
    "Utiliza el criterio de varianza explicada y el análisis paralelo de Horn para determinar el número de factores a extraer. ¿Qué puedes concluir?\n",
    "> Sugerencia: Utiliza el método `get_factor_variance` de la función `FactorAnalyzer` disponible en el paquete `factor_analyzer`, y el método `parallel` de la función `fa` disponible en el paquete `Psych` del lenguaje de programación `R`."
   ]
  },
  {
   "cell_type": "code",
   "execution_count": 6,
   "metadata": {},
   "outputs": [
    {
     "data": {
      "text/plain": [
       "FactorAnalyzer(n_factors=25, rotation=None, rotation_kwargs={})"
      ]
     },
     "execution_count": 6,
     "metadata": {},
     "output_type": "execute_result"
    }
   ],
   "source": [
    "from factor_analyzer import FactorAnalyzer\n",
    "\n",
    "fa = FactorAnalyzer(n_factors=scaled_df.shape[1],rotation=None)\n",
    "fa.fit(scaled_df)\n",
    "\n",
    "# Escribe tu respuesta aquí\n"
   ]
  },
  {
   "cell_type": "code",
   "execution_count": 8,
   "metadata": {},
   "outputs": [],
   "source": [
    "%load_ext rpy2.ipython"
   ]
  },
  {
   "cell_type": "code",
   "execution_count": null,
   "metadata": {},
   "outputs": [],
   "source": [
    "%%R\n",
    "install.packages(c(\"psych\",\"GPArotation\"),dependencies=TRUE)"
   ]
  },
  {
   "cell_type": "code",
   "execution_count": 9,
   "metadata": {},
   "outputs": [],
   "source": [
    "%%R\n",
    "library(foreign)\n",
    "library(psych)\n",
    "\n",
    "# Cargamos los datos en el entorno R\n",
    "dat <- read.spss(\"smoke.sav\", to.data.frame = TRUE)\n",
    "\n",
    "# Escribe tu respuesta aquí"
   ]
  },
  {
   "cell_type": "markdown",
   "metadata": {},
   "source": [
    "## Parte 3: Extracción y rotación de factores\n",
    "\n",
    "Extrae el número de factores que determinaste en el paso anterior empleando una rotación \"Varimax\".\n",
    "> Sugerencia: Utiliza la función `FactorAnalyzer` disponible en el paquete `factor_analyzer`. "
   ]
  },
  {
   "cell_type": "code",
   "execution_count": 10,
   "metadata": {},
   "outputs": [],
   "source": [
    "#Escribe tu respuesta aquí"
   ]
  },
  {
   "cell_type": "markdown",
   "metadata": {},
   "source": [
    "## Parte 4: Interpretación de factores\n",
    "\n",
    "1. Examina la signifcancia estadística de las cargas factoriales. Debido al tamaño de muestra, utiliza un punto de corte de .6. ¿Qué observas?\n",
    ">Sugerencia: Utiliza el método `diagram` de la función `fa` disponible en el paquete `Psych` del lenguaje de programación `R`. "
   ]
  },
  {
   "cell_type": "code",
   "execution_count": 11,
   "metadata": {},
   "outputs": [
    {
     "name": "stdout",
     "output_type": "stream",
     "text": [
      "NULL\n"
     ]
    }
   ],
   "source": [
    "%%R\n",
    "# Escribe tu respuesta aquí"
   ]
  },
  {
   "cell_type": "markdown",
   "metadata": {},
   "source": [
    "2. Evalúa la razón de cargas al cuadrado. ¿Qué observas?"
   ]
  },
  {
   "cell_type": "code",
   "execution_count": 12,
   "metadata": {},
   "outputs": [],
   "source": [
    "def cross_loading_eval(ratio):\n",
    "    if ratio < 1.5:\n",
    "        return 'Problematic'\n",
    "    elif ratio < 2:\n",
    "        return 'Potential'\n",
    "    else:\n",
    "        return 'Ignorable'\n",
    "\n",
    "# Escribe tu respuesta aquí"
   ]
  },
  {
   "cell_type": "markdown",
   "metadata": {},
   "source": [
    "3. Evalúa las comunalidades. ¿Qué observas?\n",
    "> Sugerencia: Utiliza el método `get_communalities` de la función `FactorAnalyzer` disponible en el paquete `factor_analyzer`."
   ]
  },
  {
   "cell_type": "code",
   "execution_count": 13,
   "metadata": {},
   "outputs": [],
   "source": [
    "# Escribe tu respuesta aquí\n"
   ]
  },
  {
   "cell_type": "markdown",
   "metadata": {},
   "source": [
    "4. En función a tus observaciones, re-especifica el modelo. \n",
    "> Sugerencia: Dado el tamaño de muestra pequeño, considera eliminar las variables con comunalidades o razones de cargas al cuadrado inaceptables. Esto para aumentar la cantidad de casos por cada variable."
   ]
  },
  {
   "cell_type": "code",
   "execution_count": 16,
   "metadata": {},
   "outputs": [],
   "source": [
    "# Escribe tu respuesta aquí\n",
    "problematic_vars = []\n",
    "new_df = scaled_df.drop(columns=problematic_vars)\n",
    "new_df"
   ]
  },
  {
   "cell_type": "code",
   "execution_count": 18,
   "metadata": {},
   "outputs": [],
   "source": [
    "# Escribe tu respuesta aquí\n"
   ]
  },
  {
   "cell_type": "markdown",
   "metadata": {},
   "source": [
    "5. Define una estructura factorial sugerida creando una variable `factor_index`. Describe la estructura factorial propuesta, considerando sus fortalezas y debilidades."
   ]
  },
  {
   "cell_type": "code",
   "execution_count": 19,
   "metadata": {},
   "outputs": [],
   "source": [
    "factor_index = ..."
   ]
  }
 ],
 "metadata": {
  "interpreter": {
   "hash": "bc333aaf72f12d36efbbc969b6efbd208f39cf597397e273d228d636dea83428"
  },
  "kernelspec": {
   "display_name": "Python 3.8.10 64-bit ('statspsych': virtualenv)",
   "name": "python3"
  },
  "language_info": {
   "codemirror_mode": {
    "name": "ipython",
    "version": 3
   },
   "file_extension": ".py",
   "mimetype": "text/x-python",
   "name": "python",
   "nbconvert_exporter": "python",
   "pygments_lexer": "ipython3",
   "version": "3.8.10"
  },
  "orig_nbformat": 4
 },
 "nbformat": 4,
 "nbformat_minor": 2
}
