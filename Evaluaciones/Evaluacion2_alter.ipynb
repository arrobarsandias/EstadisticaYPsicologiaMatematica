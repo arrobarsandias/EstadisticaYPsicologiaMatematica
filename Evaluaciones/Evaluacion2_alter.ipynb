{
 "cells": [
  {
   "cell_type": "markdown",
   "metadata": {},
   "source": [
    "# Evaluación 2: Análisis de datos multivariantes\n",
    "\n",
    "> Requiere cargar el archivo [\"ProbDormir_110519.sav\"](https://github.com/renatoparedes/EstadisticaYPsicologiaMatematica/raw/main/Evaluaciones/ProbDormir_110519.sav) en el repositorio local.\n",
    "\n",
    "En esta evaluación vamos a trabajar con los datos de una investigación sobre problemas para conciliar y mantener el sueño. En dicho estudio se realizaron mediciones de variables psicológicas así como una estimación subjetiva del estado de salud mediante escalas de autorreporte. En todas las mediciones y la estimación del estado de salud, mayor puntaje representó mayor grado de la condición o estado estudiados."
   ]
  },
  {
   "cell_type": "code",
   "execution_count": null,
   "metadata": {},
   "outputs": [],
   "source": [
    "!pip install pyreadstat\n",
    "!pip install pandas==1.3.3 \n",
    "!pip install pingouin "
   ]
  },
  {
   "cell_type": "code",
   "execution_count": 12,
   "metadata": {},
   "outputs": [
    {
     "data": {
      "text/html": [
       "<div>\n",
       "<style scoped>\n",
       "    .dataframe tbody tr th:only-of-type {\n",
       "        vertical-align: middle;\n",
       "    }\n",
       "\n",
       "    .dataframe tbody tr th {\n",
       "        vertical-align: top;\n",
       "    }\n",
       "\n",
       "    .dataframe thead th {\n",
       "        text-align: right;\n",
       "    }\n",
       "</style>\n",
       "<table border=\"1\" class=\"dataframe\">\n",
       "  <thead>\n",
       "    <tr style=\"text-align: right;\">\n",
       "      <th></th>\n",
       "      <th>P4_1</th>\n",
       "      <th>P4_2</th>\n",
       "      <th>P4_3</th>\n",
       "      <th>P4_4</th>\n",
       "      <th>P4_5</th>\n",
       "      <th>P4_6</th>\n",
       "      <th>P4_7</th>\n",
       "      <th>P4_8</th>\n",
       "      <th>P4_9</th>\n",
       "    </tr>\n",
       "  </thead>\n",
       "  <tbody>\n",
       "    <tr>\n",
       "      <th>0</th>\n",
       "      <td>2.0</td>\n",
       "      <td>1.0</td>\n",
       "      <td>2.0</td>\n",
       "      <td>2.0</td>\n",
       "      <td>4.0</td>\n",
       "      <td>2.0</td>\n",
       "      <td>2.0</td>\n",
       "      <td>2.0</td>\n",
       "      <td>2.0</td>\n",
       "    </tr>\n",
       "    <tr>\n",
       "      <th>1</th>\n",
       "      <td>2.0</td>\n",
       "      <td>2.0</td>\n",
       "      <td>2.0</td>\n",
       "      <td>2.0</td>\n",
       "      <td>4.0</td>\n",
       "      <td>2.0</td>\n",
       "      <td>2.0</td>\n",
       "      <td>2.0</td>\n",
       "      <td>2.0</td>\n",
       "    </tr>\n",
       "    <tr>\n",
       "      <th>2</th>\n",
       "      <td>3.0</td>\n",
       "      <td>3.0</td>\n",
       "      <td>3.0</td>\n",
       "      <td>2.0</td>\n",
       "      <td>4.0</td>\n",
       "      <td>2.0</td>\n",
       "      <td>2.0</td>\n",
       "      <td>2.0</td>\n",
       "      <td>1.0</td>\n",
       "    </tr>\n",
       "    <tr>\n",
       "      <th>3</th>\n",
       "      <td>3.0</td>\n",
       "      <td>3.0</td>\n",
       "      <td>1.0</td>\n",
       "      <td>3.0</td>\n",
       "      <td>5.0</td>\n",
       "      <td>3.0</td>\n",
       "      <td>3.0</td>\n",
       "      <td>2.0</td>\n",
       "      <td>2.0</td>\n",
       "    </tr>\n",
       "    <tr>\n",
       "      <th>4</th>\n",
       "      <td>2.0</td>\n",
       "      <td>2.0</td>\n",
       "      <td>2.0</td>\n",
       "      <td>2.0</td>\n",
       "      <td>4.0</td>\n",
       "      <td>2.0</td>\n",
       "      <td>2.0</td>\n",
       "      <td>2.0</td>\n",
       "      <td>2.0</td>\n",
       "    </tr>\n",
       "    <tr>\n",
       "      <th>...</th>\n",
       "      <td>...</td>\n",
       "      <td>...</td>\n",
       "      <td>...</td>\n",
       "      <td>...</td>\n",
       "      <td>...</td>\n",
       "      <td>...</td>\n",
       "      <td>...</td>\n",
       "      <td>...</td>\n",
       "      <td>...</td>\n",
       "    </tr>\n",
       "    <tr>\n",
       "      <th>495</th>\n",
       "      <td>2.0</td>\n",
       "      <td>2.0</td>\n",
       "      <td>4.0</td>\n",
       "      <td>2.0</td>\n",
       "      <td>2.0</td>\n",
       "      <td>2.0</td>\n",
       "      <td>2.0</td>\n",
       "      <td>1.0</td>\n",
       "      <td>2.0</td>\n",
       "    </tr>\n",
       "    <tr>\n",
       "      <th>496</th>\n",
       "      <td>1.0</td>\n",
       "      <td>1.0</td>\n",
       "      <td>1.0</td>\n",
       "      <td>1.0</td>\n",
       "      <td>1.0</td>\n",
       "      <td>1.0</td>\n",
       "      <td>1.0</td>\n",
       "      <td>1.0</td>\n",
       "      <td>1.0</td>\n",
       "    </tr>\n",
       "    <tr>\n",
       "      <th>497</th>\n",
       "      <td>1.0</td>\n",
       "      <td>1.0</td>\n",
       "      <td>1.0</td>\n",
       "      <td>2.0</td>\n",
       "      <td>2.0</td>\n",
       "      <td>2.0</td>\n",
       "      <td>2.0</td>\n",
       "      <td>2.0</td>\n",
       "      <td>2.0</td>\n",
       "    </tr>\n",
       "    <tr>\n",
       "      <th>498</th>\n",
       "      <td>2.0</td>\n",
       "      <td>2.0</td>\n",
       "      <td>2.0</td>\n",
       "      <td>2.0</td>\n",
       "      <td>4.0</td>\n",
       "      <td>2.0</td>\n",
       "      <td>2.0</td>\n",
       "      <td>2.0</td>\n",
       "      <td>2.0</td>\n",
       "    </tr>\n",
       "    <tr>\n",
       "      <th>499</th>\n",
       "      <td>NaN</td>\n",
       "      <td>1.0</td>\n",
       "      <td>1.0</td>\n",
       "      <td>1.0</td>\n",
       "      <td>4.0</td>\n",
       "      <td>2.0</td>\n",
       "      <td>1.0</td>\n",
       "      <td>2.0</td>\n",
       "      <td>2.0</td>\n",
       "    </tr>\n",
       "  </tbody>\n",
       "</table>\n",
       "<p>500 rows × 9 columns</p>\n",
       "</div>"
      ],
      "text/plain": [
       "     P4_1  P4_2  P4_3  P4_4  P4_5  P4_6  P4_7  P4_8  P4_9\n",
       "0     2.0   1.0   2.0   2.0   4.0   2.0   2.0   2.0   2.0\n",
       "1     2.0   2.0   2.0   2.0   4.0   2.0   2.0   2.0   2.0\n",
       "2     3.0   3.0   3.0   2.0   4.0   2.0   2.0   2.0   1.0\n",
       "3     3.0   3.0   1.0   3.0   5.0   3.0   3.0   2.0   2.0\n",
       "4     2.0   2.0   2.0   2.0   4.0   2.0   2.0   2.0   2.0\n",
       "..    ...   ...   ...   ...   ...   ...   ...   ...   ...\n",
       "495   2.0   2.0   4.0   2.0   2.0   2.0   2.0   1.0   2.0\n",
       "496   1.0   1.0   1.0   1.0   1.0   1.0   1.0   1.0   1.0\n",
       "497   1.0   1.0   1.0   2.0   2.0   2.0   2.0   2.0   2.0\n",
       "498   2.0   2.0   2.0   2.0   4.0   2.0   2.0   2.0   2.0\n",
       "499   NaN   1.0   1.0   1.0   4.0   2.0   1.0   2.0   2.0\n",
       "\n",
       "[500 rows x 9 columns]"
      ]
     },
     "execution_count": 12,
     "metadata": {},
     "output_type": "execute_result"
    }
   ],
   "source": [
    "import pandas as pd\n",
    "\n",
    "df = pd.read_spss('ENC_2015.sav')\n",
    "df.drop(columns=['ENC','GENERO1', 'EDADE1'], inplace=True)\n",
    "codification = {'Totalmente en desacuerdo'   : 1.0,\n",
    "               'En desacuerdo' : 2.0,\n",
    "               'Ni acuerdo ni en desacuerdo'   : 3.0, \n",
    "               'De acuerdo'  : 4.0, \n",
    "               'Totalmente de acuerdo'   : 5.0}\n",
    "df = df.applymap(codification.get)\n",
    "df"
   ]
  },
  {
   "cell_type": "markdown",
   "metadata": {},
   "source": [
    "## Parte 1: Preprocesamiento de datos\n",
    "\n",
    "1. Examina la cantidad de casos perdidos en cada variable. ¿Considerarías descartar alguna de las variables por la proporción de casos perdidos que presenta? (2 pts)\n",
    ">Sugerencia: Utiliza la función `bar` disponible en el paquete `missingno`."
   ]
  },
  {
   "cell_type": "code",
   "execution_count": 8,
   "metadata": {},
   "outputs": [
    {
     "name": "stdout",
     "output_type": "stream",
     "text": [
      "Requirement already satisfied: missingno in /home/renato/.virtualenvs/statspsych/lib/python3.8/site-packages (0.5.0)\n",
      "Requirement already satisfied: numpy in /home/renato/.virtualenvs/statspsych/lib/python3.8/site-packages (from missingno) (1.21.2)\n",
      "Requirement already satisfied: matplotlib in /home/renato/.virtualenvs/statspsych/lib/python3.8/site-packages (from missingno) (3.4.3)\n",
      "Requirement already satisfied: scipy in /home/renato/.virtualenvs/statspsych/lib/python3.8/site-packages (from missingno) (1.7.1)\n",
      "Requirement already satisfied: seaborn in /home/renato/.virtualenvs/statspsych/lib/python3.8/site-packages (from missingno) (0.11.2)\n",
      "Requirement already satisfied: pillow>=6.2.0 in /home/renato/.virtualenvs/statspsych/lib/python3.8/site-packages (from matplotlib->missingno) (8.3.2)\n",
      "Requirement already satisfied: kiwisolver>=1.0.1 in /home/renato/.virtualenvs/statspsych/lib/python3.8/site-packages (from matplotlib->missingno) (1.3.2)\n",
      "Requirement already satisfied: python-dateutil>=2.7 in /home/renato/.virtualenvs/statspsych/lib/python3.8/site-packages (from matplotlib->missingno) (2.8.2)\n",
      "Requirement already satisfied: cycler>=0.10 in /home/renato/.virtualenvs/statspsych/lib/python3.8/site-packages (from matplotlib->missingno) (0.10.0)\n",
      "Requirement already satisfied: pyparsing>=2.2.1 in /home/renato/.virtualenvs/statspsych/lib/python3.8/site-packages (from matplotlib->missingno) (2.4.7)\n",
      "Requirement already satisfied: pandas>=0.23 in /home/renato/.virtualenvs/statspsych/lib/python3.8/site-packages (from seaborn->missingno) (1.3.3)\n",
      "Requirement already satisfied: six>=1.5 in /home/renato/.virtualenvs/statspsych/lib/python3.8/site-packages (from python-dateutil>=2.7->matplotlib->missingno) (1.16.0)\n",
      "Requirement already satisfied: pytz>=2017.3 in /home/renato/.virtualenvs/statspsych/lib/python3.8/site-packages (from pandas>=0.23->seaborn->missingno) (2021.1)\n"
     ]
    }
   ],
   "source": [
    "!pip install missingno"
   ]
  },
  {
   "cell_type": "code",
   "execution_count": 16,
   "metadata": {},
   "outputs": [],
   "source": [
    "import missingno as msno\n",
    "\n",
    "# Escribe tu respuesta aquí\n"
   ]
  },
  {
   "cell_type": "markdown",
   "metadata": {},
   "source": [
    "2. Visualiza los casos perdidos de todas las variables a la vez. ¿Observas algún patrón entre los datos perdidos o se trata de datos perdidos aleatoriamente? Si consideras que existe un patrón, realiza análisis posteriores para comprobarlo (2 pts).\n",
    ">Sugerencia: Utiliza la función `matrix` disponible en el paquete `missingno`."
   ]
  },
  {
   "cell_type": "code",
   "execution_count": 15,
   "metadata": {},
   "outputs": [],
   "source": [
    "# Escribe tu respuesta aquí\n"
   ]
  },
  {
   "cell_type": "markdown",
   "metadata": {},
   "source": [
    "3. Imputa los datos faltantes usando una técnica apropiada y crea una variable `df_impute` con los datos reconstruidos. Justifica tu selección de la técnica de imputación (2 pts). "
   ]
  },
  {
   "cell_type": "code",
   "execution_count": 11,
   "metadata": {},
   "outputs": [],
   "source": [
    "# Escribe tu respuesta aquí\n",
    "\n",
    "df_impute = ..."
   ]
  },
  {
   "cell_type": "markdown",
   "metadata": {},
   "source": [
    "1. Emplea la distancia de Mahalanobis para examinar si existen potenciales outliers en `df_impute`. ¿Qué puedes concluir? (2 pts)"
   ]
  },
  {
   "cell_type": "code",
   "execution_count": 13,
   "metadata": {},
   "outputs": [],
   "source": [
    "from sklearn.covariance import MinCovDet\n",
    "import numpy as np\n",
    "\n",
    "# Escribe tu respuesta aquí\n"
   ]
  },
  {
   "cell_type": "markdown",
   "metadata": {},
   "source": [
    "## Parte 2: Verificación de supuestos\n",
    "\n",
    "5. Asumiendo que se trata de una variable cuantitativa continua, analiza la normalidad de la variable `P4_8` utilizando un Q-Q Plot y una prueba inferencial. ¿Qué puedes concluir en relación a la normalidad de dicha variable? (2 pts)\n",
    ">Sugerencia: Utiliza las funciones `qqplot` y `normality` disponibles en el paquete `pingouin`."
   ]
  },
  {
   "cell_type": "code",
   "execution_count": null,
   "metadata": {},
   "outputs": [],
   "source": [
    "import pingouin as pg\n",
    "\n",
    "# Escribe tu respuesta aquí\n"
   ]
  },
  {
   "cell_type": "markdown",
   "metadata": {},
   "source": [
    "1. Asumiendo que se trata de variables cuantitativas continuas, analiza gráficamente la homocedasticidad de las variables `P4_8` y `P4_9`. ¿Qué puedes concluir en relación a la homogeneidad de las varianzas entre ambas variables? (2 pts)"
   ]
  },
  {
   "cell_type": "code",
   "execution_count": null,
   "metadata": {},
   "outputs": [],
   "source": [
    "import seaborn as sns\n",
    "\n",
    "# Escribe tu respuesta aquí\n"
   ]
  }
 ],
 "metadata": {
  "interpreter": {
   "hash": "bc333aaf72f12d36efbbc969b6efbd208f39cf597397e273d228d636dea83428"
  },
  "kernelspec": {
   "display_name": "Python 3.8.10 64-bit ('statspsych': virtualenv)",
   "name": "python3"
  },
  "language_info": {
   "codemirror_mode": {
    "name": "ipython",
    "version": 3
   },
   "file_extension": ".py",
   "mimetype": "text/x-python",
   "name": "python",
   "nbconvert_exporter": "python",
   "pygments_lexer": "ipython3",
   "version": "3.8.10"
  },
  "orig_nbformat": 4
 },
 "nbformat": 4,
 "nbformat_minor": 2
}
