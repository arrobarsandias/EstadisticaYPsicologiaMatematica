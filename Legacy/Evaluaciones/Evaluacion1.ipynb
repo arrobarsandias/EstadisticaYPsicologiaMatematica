{
 "cells": [
  {
   "cell_type": "markdown",
   "source": [
    "# Evaluación 1: Repaso de estadística descriptiva e inferencial\n",
    "\n",
    "En esta evaluación vamos a trabajar con los datos de la medición del nivel nutricional en mujeres según la Encuesta Demográfica y de Salud Familiar 2017 (ENDES 2017)."
   ],
   "metadata": {}
  },
  {
   "cell_type": "markdown",
   "source": [
    "## Parte 1\n",
    "\n",
    "A continuación se presenta una base de datos que muestra los niveles de hemoglobina en la sangre de mujeres. Además, se brinda información sobre si las mujeres están embarazadas o no. A partir de la información presente en esta base de datos, responde:\n",
    "> La variable `Embarazada` codifica como 1 si las encuestadas estaban embarazadas y como 0 en caso contrario."
   ],
   "metadata": {}
  },
  {
   "cell_type": "code",
   "execution_count": 1,
   "source": [
    "import pandas as pd\n",
    "\n",
    "df = pd.read_csv(\n",
    "    \"https://raw.githubusercontent.com/renatoparedes/EstadisticaYPsicologiaMatematica/main/Evaluaciones/HemoglobinayEmbarazo.csv\"\n",
    ")\n",
    "df = df[df.Nivel_de_hemoglobina != \"#NULL!\"]\n",
    "df.drop(columns=[\"HHID\", \"HA54\"], inplace=True)\n",
    "df = df.astype(float)\n",
    "df.head()"
   ],
   "outputs": [
    {
     "output_type": "execute_result",
     "data": {
      "text/html": [
       "<div>\n",
       "<style scoped>\n",
       "    .dataframe tbody tr th:only-of-type {\n",
       "        vertical-align: middle;\n",
       "    }\n",
       "\n",
       "    .dataframe tbody tr th {\n",
       "        vertical-align: top;\n",
       "    }\n",
       "\n",
       "    .dataframe thead th {\n",
       "        text-align: right;\n",
       "    }\n",
       "</style>\n",
       "<table border=\"1\" class=\"dataframe\">\n",
       "  <thead>\n",
       "    <tr style=\"text-align: right;\">\n",
       "      <th></th>\n",
       "      <th>Nivel_de_hemoglobina</th>\n",
       "      <th>Embarazada</th>\n",
       "    </tr>\n",
       "  </thead>\n",
       "  <tbody>\n",
       "    <tr>\n",
       "      <th>0</th>\n",
       "      <td>13.8</td>\n",
       "      <td>0.0</td>\n",
       "    </tr>\n",
       "    <tr>\n",
       "      <th>1</th>\n",
       "      <td>13.6</td>\n",
       "      <td>1.0</td>\n",
       "    </tr>\n",
       "    <tr>\n",
       "      <th>2</th>\n",
       "      <td>13.1</td>\n",
       "      <td>0.0</td>\n",
       "    </tr>\n",
       "    <tr>\n",
       "      <th>3</th>\n",
       "      <td>10.4</td>\n",
       "      <td>0.0</td>\n",
       "    </tr>\n",
       "    <tr>\n",
       "      <th>4</th>\n",
       "      <td>13.7</td>\n",
       "      <td>0.0</td>\n",
       "    </tr>\n",
       "  </tbody>\n",
       "</table>\n",
       "</div>"
      ],
      "text/plain": [
       "   Nivel_de_hemoglobina  Embarazada\n",
       "0                  13.8         0.0\n",
       "1                  13.6         1.0\n",
       "2                  13.1         0.0\n",
       "3                  10.4         0.0\n",
       "4                  13.7         0.0"
      ]
     },
     "metadata": {},
     "execution_count": 1
    }
   ],
   "metadata": {}
  },
  {
   "cell_type": "markdown",
   "source": [
    "1. Calcula estadísticos descriptivos del nivel de hemoglobina en la sangre de las encuestadas después de agrupar según la variable `Embarazada` (2 pts). \n",
    "> Sugerencia: Utiliza el método .groupby() antes de calcular los descriptivos."
   ],
   "metadata": {}
  },
  {
   "cell_type": "code",
   "execution_count": 1,
   "source": [
    "# Escribe tu respuesta aquí"
   ],
   "outputs": [],
   "metadata": {}
  },
  {
   "cell_type": "markdown",
   "source": [
    "2. Crea un violinplot que permita comparar los niveles de hemoglobina en la sangre de las encuestadas después de agrupar según la variable `Embarazada`. ¿Qué puedes comentar en relación a ambas distribuciones? Considera su forma y su tendencia central. (2 pts)"
   ],
   "metadata": {}
  },
  {
   "cell_type": "code",
   "execution_count": 2,
   "source": [
    "import seaborn as sns\n",
    "import matplotlib.pyplot as plt\n",
    "\n",
    "# Escribe tu respuesta aquí"
   ],
   "outputs": [],
   "metadata": {}
  },
  {
   "cell_type": "markdown",
   "source": [
    "3. Asumiendo que ambas distribuciones son simétricas, utiliza una prueba inferencial para comparar el nivel de hemoglobina en la sangre de las encuestadas según su condición de embarazo. ¿Qué puedes concluir? (2 pts)."
   ],
   "metadata": {}
  },
  {
   "cell_type": "code",
   "execution_count": 3,
   "source": [
    "from scipy.stats import ttest_ind\n",
    "\n",
    "# Escribe tu respuesta aquí"
   ],
   "outputs": [],
   "metadata": {}
  },
  {
   "cell_type": "markdown",
   "source": [
    "## PARTE 2\n",
    "\n",
    "Continuamos trabajando con los datos de la misma encuesta. Para esta sección, vamos a considerar la edad de las mujeres para nuestros reportes."
   ],
   "metadata": {}
  },
  {
   "cell_type": "code",
   "execution_count": 5,
   "source": [
    "!pip install pyreadstat\n",
    "df_2 = pd.read_spss(\"HemoglobinaEmbarazoyEdad.sav\")\n",
    "df_2.drop(columns=[\"HHID\"], inplace=True)\n",
    "mapping = {\"Sí\": 1, \"No o no sabe\": 0}\n",
    "df_2 = df_2.replace({\"HA54\": mapping})\n",
    "df_2.groupby(\"HA54\").describe()\n",
    "df_2 = df_2.rename(columns={\"HA54\": \"Embarazada\"})\n",
    "df_2.head()"
   ],
   "outputs": [
    {
     "output_type": "stream",
     "name": "stdout",
     "text": [
      "Requirement already satisfied: pyreadstat in /home/renato/anaconda3/lib/python3.8/site-packages (1.1.2)\n",
      "Requirement already satisfied: pandas>0.24.0 in /home/renato/anaconda3/lib/python3.8/site-packages (from pyreadstat) (1.2.4)\n",
      "Requirement already satisfied: python-dateutil>=2.7.3 in /home/renato/anaconda3/lib/python3.8/site-packages (from pandas>0.24.0->pyreadstat) (2.8.1)\n",
      "Requirement already satisfied: pytz>=2017.3 in /home/renato/anaconda3/lib/python3.8/site-packages (from pandas>0.24.0->pyreadstat) (2021.1)\n",
      "Requirement already satisfied: numpy>=1.16.5 in /home/renato/anaconda3/lib/python3.8/site-packages (from pandas>0.24.0->pyreadstat) (1.20.1)\n",
      "Requirement already satisfied: six>=1.5 in /home/renato/anaconda3/lib/python3.8/site-packages (from python-dateutil>=2.7.3->pandas>0.24.0->pyreadstat) (1.15.0)\n"
     ]
    },
    {
     "output_type": "execute_result",
     "data": {
      "text/html": [
       "<div>\n",
       "<style scoped>\n",
       "    .dataframe tbody tr th:only-of-type {\n",
       "        vertical-align: middle;\n",
       "    }\n",
       "\n",
       "    .dataframe tbody tr th {\n",
       "        vertical-align: top;\n",
       "    }\n",
       "\n",
       "    .dataframe thead th {\n",
       "        text-align: right;\n",
       "    }\n",
       "</style>\n",
       "<table border=\"1\" class=\"dataframe\">\n",
       "  <thead>\n",
       "    <tr style=\"text-align: right;\">\n",
       "      <th></th>\n",
       "      <th>Embarazada</th>\n",
       "      <th>Nivel_de_hemoglobina</th>\n",
       "      <th>Edad</th>\n",
       "    </tr>\n",
       "  </thead>\n",
       "  <tbody>\n",
       "    <tr>\n",
       "      <th>0</th>\n",
       "      <td>0.0</td>\n",
       "      <td>13.8</td>\n",
       "      <td>39.0</td>\n",
       "    </tr>\n",
       "    <tr>\n",
       "      <th>1</th>\n",
       "      <td>1.0</td>\n",
       "      <td>13.6</td>\n",
       "      <td>22.0</td>\n",
       "    </tr>\n",
       "    <tr>\n",
       "      <th>2</th>\n",
       "      <td>0.0</td>\n",
       "      <td>13.1</td>\n",
       "      <td>19.0</td>\n",
       "    </tr>\n",
       "    <tr>\n",
       "      <th>3</th>\n",
       "      <td>0.0</td>\n",
       "      <td>10.4</td>\n",
       "      <td>33.0</td>\n",
       "    </tr>\n",
       "    <tr>\n",
       "      <th>4</th>\n",
       "      <td>0.0</td>\n",
       "      <td>13.7</td>\n",
       "      <td>33.0</td>\n",
       "    </tr>\n",
       "  </tbody>\n",
       "</table>\n",
       "</div>"
      ],
      "text/plain": [
       "   Embarazada  Nivel_de_hemoglobina  Edad\n",
       "0         0.0                  13.8  39.0\n",
       "1         1.0                  13.6  22.0\n",
       "2         0.0                  13.1  19.0\n",
       "3         0.0                  10.4  33.0\n",
       "4         0.0                  13.7  33.0"
      ]
     },
     "metadata": {},
     "execution_count": 5
    }
   ],
   "metadata": {}
  },
  {
   "cell_type": "markdown",
   "source": [
    "1. Nuevamente, reporta estadísticos descriptivos agrupando por la variable `Embarazada`. ¿Qué puedes comentar en relación a la variable `Edad`? (2 pts)"
   ],
   "metadata": {}
  },
  {
   "cell_type": "code",
   "execution_count": 4,
   "source": [
    "# Escribe tu respuesta aquí"
   ],
   "outputs": [],
   "metadata": {}
  },
  {
   "cell_type": "markdown",
   "source": [
    "2. Crea una visualización que permita comparar ambos grupos en función a su intervalo de confianza al 95%. Asumiendo que las distribuciones son simétricas, ¿es razonable pensar que no existe una diferencia significativa entre ambos grupos? Justifica tu respuesta (2 pts)."
   ],
   "metadata": {}
  },
  {
   "cell_type": "code",
   "execution_count": 5,
   "source": [
    "# Escribe tu respuesta aquí"
   ],
   "outputs": [],
   "metadata": {}
  },
  {
   "cell_type": "markdown",
   "source": [
    "3. Emplea una prueba inferencial para comparar ambos grupos. Adicionalmente, calcula el tamaño del efecto para esta comparación. ¿Qué puedes concluir? (2 pts)"
   ],
   "metadata": {}
  },
  {
   "cell_type": "code",
   "execution_count": 6,
   "source": [
    "import researchpy\n",
    "\n",
    "# Escribe tu respuesta aquí"
   ],
   "outputs": [],
   "metadata": {}
  }
 ],
 "metadata": {
  "orig_nbformat": 4,
  "language_info": {
   "name": "python",
   "version": "3.8.8",
   "mimetype": "text/x-python",
   "codemirror_mode": {
    "name": "ipython",
    "version": 3
   },
   "pygments_lexer": "ipython3",
   "nbconvert_exporter": "python",
   "file_extension": ".py"
  },
  "kernelspec": {
   "name": "python3",
   "display_name": "Python 3.8.8 64-bit ('base': conda)"
  },
  "interpreter": {
   "hash": "1d151a68831448000e09cfc499a6de9a24b6912dae8debe2df70808284a908ce"
  }
 },
 "nbformat": 4,
 "nbformat_minor": 2
}