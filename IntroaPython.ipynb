{
 "cells": [
  {
   "cell_type": "markdown",
   "metadata": {},
   "source": [
    "# Introducción a Python\n",
    "\n",
    ">Este tutorial es una adaptación al español del material [Python Companion to Statistical Thinking for the 21st Century](https://statsthinking21.github.io/statsthinking21-python/) desarrollado por Russell Poldrack y John Butler. \n",
    "\n",
    "En este tutorial, le daremos una descripción general de las características básicas del lenguaje de programación Python. Esta introducción no lo convertirá en un programador experto, solo la práctica lo hará. Sin embargo, le dará una introducción a algunas de las características más importantes del idioma.\n",
    "\n",
    "## ¿Por qué es difícil aprender a programar?\n",
    "\n",
    "Programar una computadora es una habilidad, como tocar un instrumento musical o hablar un segundo idioma. Y al igual que esas habilidades, se necesita mucho trabajo para ser bueno en ellas; la única forma de adquirir una habilidad es a través de la práctica. ¡No hay nada especial o mágico en las personas que son expertas, aparte de la calidad y cantidad de su experiencia! Sin embargo, no todas las prácticas son igualmente efectivas. Una gran cantidad de investigación psicológica ha demostrado que la práctica debe ser *deliberada*, lo que significa que se enfoca en desarrollar las habilidades específicas que uno necesita para realizar la habilidad, en un nivel que siempre está impulsando la propia habilidad.\n",
    "\n",
    "Si nunca ha programado antes, le parecerá difícil, del mismo modo que le resultaría difícil a un hablante nativo de inglés empezar a hablar mandarín. Sin embargo, así como un guitarrista principiante necesita aprender a tocar sus escalas, le enseñaremos cómo realizar los conceptos básicos de la programación, que luego podrá usar para hacer cosas más poderosas.\n",
    "\n",
    "Uno de los aspectos más importantes de la programación de computadoras es que puede probar las cosas a su antojo; lo peor que puede pasar es que el programa se bloquee. Probar cosas nuevas y cometer errores es una de las claves del aprendizaje.\n",
    "\n",
    "La parte más difícil de la programación es averiguar por qué algo no funcionó, lo que llamamos *debugging*. En programación, las cosas van a salir mal de formas que a menudo son confusas y opacas. Cada programador tiene una historia sobre pasar horas tratando de averiguar por qué algo no funcionó, solo para darse cuenta de que el problema era completamente obvio en retrospectiva. Cuanta más práctica tenga, mejor podrá descubrir cómo corregir estos errores. Pero hay algunas estrategias que pueden resultar útiles.\n",
    "\n",
    "### Use la web\n",
    "\n",
    "En particular, debe aprovechar el hecho de que hay millones de personas programando en Python en todo el mundo, por lo que casi cualquier mensaje de error que vea ya ha sido visto por otra persona. Siempre que experimento un error que no entiendo, lo primero que hago es copiar y pegar el mensaje de error en un motor de búsqueda. A menudo, esto proporcionará varias páginas para discutir el problema y las formas en que la gente lo ha resuelto.\n",
    "\n",
    "### Debugging de pato de goma\n",
    "\n",
    "La idea detrás del *debugging de pato de goma* es fingir que está tratando de explicar lo que su código está haciendo a un objeto inanimado, como un pato de goma. A menudo, el proceso de explicarlo en voz alta es suficiente para ayudarlo a encontrar el problema.\n",
    "\n",
    "## Obtener acceso a Python\n",
    "\n",
    "Si desea probar Python sin tener que instalarlo en su propia computadora (o si tiene una computadora que no lo admite, como un Chromebook), la mejor manera de probarlo es utilizando una plataforma web que admita *notebooks*, que son documentos que le permiten combinar texto y código; este tutorial en realidad fue escrito usando dichos notebooks. Dos buenas opciones son [Google Colab](https://colab.research.google.com/) y [Kaggle Kernels](https://www.kaggle.com/kernels).\n",
    "\n",
    "Si desea instalarlo en su propia computadora, le recomendamos que instale el paquete de software [Anaconda](https://www.anaconda.com/products/individual), que le proporcionará Python y muchos paquetes relacionados."
   ]
  },
  {
   "cell_type": "markdown",
   "metadata": {},
   "source": [
    "## Empezando con Python\n",
    "\n",
    "Cuando trabajamos con Python, podemos hacer esto en la línea de comando en una terminal o (como lo haremos) usando un *Jupyter Notebook*.\n",
    "Los notebooks se componen de *celdas*, cada una de las cuales puede contener código Python o texto.\n",
    "\n",
    "Los notebooks de Jupyter utilizan un tipo especial de texto conocido como [Markdown] (https://daringfireball.net/projects/markdown/syntax), que permite el formateo (como encabezados o estilos de texto como negrita y cursiva). Si hiciera doble clic en esta celda en Jupyter, podría editar el texto. Una vez que haya terminado de editar, presione el botón **Ejecutar** (el botón de flecha triangular arriba), o presione Shift + Enter, y el texto se mostrará normalmente.\n",
    "\n",
    "La siguiente celda es una celda de **código**, que usamos para el código Python. Las celdas de código se indican en Jupyter sombreadas en gris. En una celda de código escribimos comandos de Python. Cuando presionamos el botón **Ejecutar** (el botón de flecha triangular arriba), o presionamos Shift + Enter, nuestros comandos se ejecutarán y se imprimirá un resultado en una celda de salida.\n",
    "\n",
    "Una diferencia entre una celda de código y una celda de Markdown es que la celda de código tiene un número a su izquierda rodeado por corchetes. Si escribe un comando en la celda y luego lo ejecuta, el resultado aparecerá a continuación, con el mismo número a la izquierda.\n",
    "\n",
    "En el caso más simple, si escribimos un número, la celda simplemente responderá con ese número. En la celda de código a continuación, hemos escrito el número 3. Haga clic en la celda para editar o ejecutar el código nuevamente (Shift + Enter)."
   ]
  },
  {
   "cell_type": "code",
   "execution_count": 1,
   "metadata": {},
   "outputs": [
    {
     "data": {
      "text/plain": [
       "3"
      ]
     },
     "execution_count": 1,
     "metadata": {},
     "output_type": "execute_result"
    }
   ],
   "source": [
    "3"
   ]
  },
  {
   "cell_type": "markdown",
   "metadata": {},
   "source": [
    "Probemos ahora algo un poco más complicado:"
   ]
  },
  {
   "cell_type": "code",
   "execution_count": 2,
   "metadata": {},
   "outputs": [
    {
     "data": {
      "text/plain": [
       "7"
      ]
     },
     "execution_count": 2,
     "metadata": {},
     "output_type": "execute_result"
    }
   ],
   "source": [
    "3 + 4"
   ]
  },
  {
   "cell_type": "markdown",
   "metadata": {},
   "source": [
    "Python devuelve la respuesta a lo que escriba, siempre que pueda resolverlo.\n",
    "\n",
    "Ahora intentemos escribir una palabra:\n",
    "\n",
    "```hello```\n",
    "\n",
    "Esto daría como resultado el siguiente output:\n",
    "\n",
    "```\n",
    "---------------------------------------------------------------------------\n",
    "NameError                                 Traceback (most recent call last)\n",
    " in \n",
    "----> 1 hello\n",
    "\n",
    "NameError: name 'hello' is not defined\n",
    "```\n"
   ]
  },
  {
   "cell_type": "markdown",
   "metadata": {},
   "source": [
    "¿Qué? ¿Por qué pasó esto? Cuando Python encuentra una letra o una palabra, asume que se refiere al *nombre de una variable*; piense en la X del álgebra de la escuela secundaria. Regresaremos a las variables en un momento, pero si queremos que Python imprima la palabra hello, entonces debemos contenerla entre comillas (simple o doble, no importa), diciéndole a Python que es una cadena de caracteres."
   ]
  },
  {
   "cell_type": "code",
   "execution_count": 3,
   "metadata": {},
   "outputs": [
    {
     "data": {
      "text/plain": [
       "'hello'"
      ]
     },
     "execution_count": 3,
     "metadata": {},
     "output_type": "execute_result"
    }
   ],
   "source": [
    "\"hello\""
   ]
  },
  {
   "cell_type": "markdown",
   "metadata": {},
   "source": [
    "Hay muchos tipos de variables en Python. Ya ha visto dos ejemplos: números enteros -integers-  (como el número 3) y cadenas de caracteres -strings- (como la palabra \"hola\"). Otro importante son los números reales, que son el tipo más común de números con los que trataremos en las estadísticas, que abarcan toda la recta numérica, incluidos los espacios entre los números enteros. Por ejemplo:"
   ]
  },
  {
   "cell_type": "code",
   "execution_count": 4,
   "metadata": {
    "lines_to_next_cell": 2
   },
   "outputs": [
    {
     "data": {
      "text/plain": [
       "0.16666666666666666"
      ]
     },
     "execution_count": 4,
     "metadata": {},
     "output_type": "execute_result"
    }
   ],
   "source": [
    "1 / 6"
   ]
  },
  {
   "cell_type": "markdown",
   "metadata": {},
   "source": [
    "De forma predeterminada, Python usa números de punto flotante -float-, que proporcionan un alto nivel de precisión. En muchos casos, sin embargo, es posible que desee redondear las salidas de punto flotante a dos o tres lugares decimales, lo que se puede hacer con la función ``round()``."
   ]
  },
  {
   "cell_type": "code",
   "execution_count": 5,
   "metadata": {},
   "outputs": [
    {
     "data": {
      "text/plain": [
       "0.167"
      ]
     },
     "execution_count": 5,
     "metadata": {},
     "output_type": "execute_result"
    }
   ],
   "source": [
    "round(1 / 6, 3)"
   ]
  },
  {
   "cell_type": "markdown",
   "metadata": {},
   "source": [
    "Otro tipo de variable se conoce como variable lógica, porque se basa en la idea de la lógica de que una declaración puede ser Verdadera o Falsa.\n",
    "\n",
    "Para determinar si una declaración es verdadera o no, usamos operadores lógicos. Ya está familiarizado con algunos de estos, como los operadores mayor que (`>`) y menor que (`<`)."
   ]
  },
  {
   "cell_type": "code",
   "execution_count": 6,
   "metadata": {},
   "outputs": [
    {
     "data": {
      "text/plain": [
       "True"
      ]
     },
     "execution_count": 6,
     "metadata": {},
     "output_type": "execute_result"
    }
   ],
   "source": [
    "1 < 3"
   ]
  },
  {
   "cell_type": "code",
   "execution_count": 7,
   "metadata": {},
   "outputs": [
    {
     "data": {
      "text/plain": [
       "False"
      ]
     },
     "execution_count": 7,
     "metadata": {},
     "output_type": "execute_result"
    }
   ],
   "source": [
    "2 > 4"
   ]
  },
  {
   "cell_type": "markdown",
   "metadata": {},
   "source": [
    "A menudo queremos saber si dos números son iguales o no entre sí. Hay operadores especiales en Python para hacer esto: `==` para iguales y `! =` para no iguales:"
   ]
  },
  {
   "cell_type": "code",
   "execution_count": 8,
   "metadata": {},
   "outputs": [
    {
     "data": {
      "text/plain": [
       "True"
      ]
     },
     "execution_count": 8,
     "metadata": {},
     "output_type": "execute_result"
    }
   ],
   "source": [
    "3 == 3"
   ]
  },
  {
   "cell_type": "code",
   "execution_count": 9,
   "metadata": {},
   "outputs": [
    {
     "data": {
      "text/plain": [
       "False"
      ]
     },
     "execution_count": 9,
     "metadata": {},
     "output_type": "execute_result"
    }
   ],
   "source": [
    "4 != 4"
   ]
  },
  {
   "cell_type": "markdown",
   "metadata": {},
   "source": [
    "Una cosa muy importante que debe saber es que Python trata *True* igual que el número uno, y *False* igual que el número cero. Para ver esto, probemos si ``True`` es igual al número uno:"
   ]
  },
  {
   "cell_type": "code",
   "execution_count": 10,
   "metadata": {},
   "outputs": [
    {
     "data": {
      "text/plain": [
       "True"
      ]
     },
     "execution_count": 10,
     "metadata": {},
     "output_type": "execute_result"
    }
   ],
   "source": [
    "True == 1"
   ]
  },
  {
   "cell_type": "markdown",
   "metadata": {},
   "source": [
    "Esto será importante más adelante, cuando trabajemos con probabilidades y datasets."
   ]
  },
  {
   "cell_type": "markdown",
   "metadata": {},
   "source": [
    "## Variables\n",
    "\n",
    "Una variable es un símbolo que representa otro valor (como \"X\" en álgebra). Podemos crear una variable asignándole un valor usando el operador `=`. Si luego escribimos el nombre de la variable, Python imprimirá su valor, siempre que el nombre de la variable sea la última entrada en la celda."
   ]
  },
  {
   "cell_type": "code",
   "execution_count": 12,
   "metadata": {},
   "outputs": [
    {
     "data": {
      "text/plain": [
       "4"
      ]
     },
     "execution_count": 12,
     "metadata": {},
     "output_type": "execute_result"
    }
   ],
   "source": [
    "x = 4\n",
    "x"
   ]
  },
  {
   "cell_type": "markdown",
   "metadata": {},
   "source": [
    "La variable ahora representa el valor que contiene, por lo que podemos realizar operaciones en ella y obtener la misma respuesta que si usáramos dicho valor."
   ]
  },
  {
   "cell_type": "code",
   "execution_count": 13,
   "metadata": {},
   "outputs": [
    {
     "data": {
      "text/plain": [
       "7"
      ]
     },
     "execution_count": 13,
     "metadata": {},
     "output_type": "execute_result"
    }
   ],
   "source": [
    "x + 3"
   ]
  },
  {
   "cell_type": "code",
   "execution_count": 14,
   "metadata": {},
   "outputs": [
    {
     "data": {
      "text/plain": [
       "False"
      ]
     },
     "execution_count": 14,
     "metadata": {},
     "output_type": "execute_result"
    }
   ],
   "source": [
    "x == 5"
   ]
  },
  {
   "cell_type": "markdown",
   "metadata": {},
   "source": [
    "Podemos cambiar el valor de una variable simplemente asignándole un nuevo valor."
   ]
  },
  {
   "cell_type": "code",
   "execution_count": 15,
   "metadata": {},
   "outputs": [],
   "source": [
    "x = x + 1"
   ]
  },
  {
   "cell_type": "code",
   "execution_count": 16,
   "metadata": {},
   "outputs": [
    {
     "data": {
      "text/plain": [
       "5"
      ]
     },
     "execution_count": 16,
     "metadata": {},
     "output_type": "execute_result"
    }
   ],
   "source": [
    "x"
   ]
  },
  {
   "cell_type": "markdown",
   "metadata": {},
   "source": [
    "## Librerías\n",
    "\n",
    "Aunque Python tiene muchas características útiles, muchas de las características que necesitaremos no están contenidas en la biblioteca principal de Python, sino que provienen de bibliotecas de código abierto que han sido desarrolladas por varios miembros de la comunidad de Python.\n",
    "\n",
    "Dos paquetes que usaremos ampliamente son [NumPy] (https://numpy.org/) y [Pandas] (https://pandas.pydata.org/). Estas bibliotecas son parte de la pila [SciPy] (https://www.scipy.org/), un grupo de bibliotecas de Python utilizadas para la computación científica.\n",
    "\n",
    "En Python, para trabajar con una biblioteca, primero tenemos que *importarla* y especificar cómo vamos a llamar a las funciones de esa biblioteca (las funciones se explicarán con más detalle a continuación).\n",
    "\n",
    "Así es como importaremos NumPy:"
   ]
  },
  {
   "cell_type": "code",
   "execution_count": 17,
   "metadata": {},
   "outputs": [],
   "source": [
    "import numpy as np"
   ]
  },
  {
   "cell_type": "markdown",
   "metadata": {},
   "source": [
    "Ahora, cuando invocamos una función NumPy, usaremos el prefijo ``np``. Esto se aclarará a continuación.\n",
    "\n",
    "También importamos pandas, especificando ``pd`` como prefijo:"
   ]
  },
  {
   "cell_type": "code",
   "execution_count": 18,
   "metadata": {},
   "outputs": [],
   "source": [
    "import pandas as pd"
   ]
  },
  {
   "cell_type": "markdown",
   "metadata": {},
   "source": [
    "Después de importar una biblioteca, ahora puede acceder a todas sus funciones utilizando el prefijo especificado. Si desea obtener más información sobre las características de una biblioteca, puede encontrarlas usando la función ``help()``:"
   ]
  },
  {
   "cell_type": "code",
   "execution_count": 19,
   "metadata": {
    "tags": []
   },
   "outputs": [
    {
     "name": "stdout",
     "output_type": "stream",
     "text": [
      "Help on built-in function zeros in module numpy:\n",
      "\n",
      "zeros(...)\n",
      "    zeros(shape, dtype=float, order='C', *, like=None)\n",
      "    \n",
      "    Return a new array of given shape and type, filled with zeros.\n",
      "    \n",
      "    Parameters\n",
      "    ----------\n",
      "    shape : int or tuple of ints\n",
      "        Shape of the new array, e.g., ``(2, 3)`` or ``2``.\n",
      "    dtype : data-type, optional\n",
      "        The desired data-type for the array, e.g., `numpy.int8`.  Default is\n",
      "        `numpy.float64`.\n",
      "    order : {'C', 'F'}, optional, default: 'C'\n",
      "        Whether to store multi-dimensional data in row-major\n",
      "        (C-style) or column-major (Fortran-style) order in\n",
      "        memory.\n",
      "    like : array_like\n",
      "        Reference object to allow the creation of arrays which are not\n",
      "        NumPy arrays. If an array-like passed in as ``like`` supports\n",
      "        the ``__array_function__`` protocol, the result will be defined\n",
      "        by it. In this case, it ensures the creation of an array object\n",
      "        compatible with that passed in via this argument.\n",
      "    \n",
      "        .. note::\n",
      "            The ``like`` keyword is an experimental feature pending on\n",
      "            acceptance of :ref:`NEP 35 <NEP35>`.\n",
      "    \n",
      "        .. versionadded:: 1.20.0\n",
      "    \n",
      "    Returns\n",
      "    -------\n",
      "    out : ndarray\n",
      "        Array of zeros with the given shape, dtype, and order.\n",
      "    \n",
      "    See Also\n",
      "    --------\n",
      "    zeros_like : Return an array of zeros with shape and type of input.\n",
      "    empty : Return a new uninitialized array.\n",
      "    ones : Return a new array setting values to one.\n",
      "    full : Return a new array of given shape filled with value.\n",
      "    \n",
      "    Examples\n",
      "    --------\n",
      "    >>> np.zeros(5)\n",
      "    array([ 0.,  0.,  0.,  0.,  0.])\n",
      "    \n",
      "    >>> np.zeros((5,), dtype=int)\n",
      "    array([0, 0, 0, 0, 0])\n",
      "    \n",
      "    >>> np.zeros((2, 1))\n",
      "    array([[ 0.],\n",
      "           [ 0.]])\n",
      "    \n",
      "    >>> s = (2,2)\n",
      "    >>> np.zeros(s)\n",
      "    array([[ 0.,  0.],\n",
      "           [ 0.,  0.]])\n",
      "    \n",
      "    >>> np.zeros((2,), dtype=[('x', 'i4'), ('y', 'i4')]) # custom dtype\n",
      "    array([(0, 0), (0, 0)],\n",
      "          dtype=[('x', '<i4'), ('y', '<i4')])\n",
      "\n"
     ]
    }
   ],
   "source": [
    "help(np.zeros)"
   ]
  },
  {
   "cell_type": "markdown",
   "metadata": {},
   "source": [
    "## Funciones\n",
    "\n",
    "Una función es un operador que toma alguna entrada y da una salida basada en la entrada. Por ejemplo, digamos que tenemos un número y queremos determinar su valor absoluto. NumPy tiene una función llamada ``abs()`` que toma un número y genera su valor absoluto:"
   ]
  },
  {
   "cell_type": "code",
   "execution_count": 20,
   "metadata": {},
   "outputs": [
    {
     "data": {
      "text/plain": [
       "3"
      ]
     },
     "execution_count": 20,
     "metadata": {},
     "output_type": "execute_result"
    }
   ],
   "source": [
    "x = -3\n",
    "np.abs(x)"
   ]
  },
  {
   "cell_type": "markdown",
   "metadata": {},
   "source": [
    "La mayoría de las funciones toman una entrada como la función ``np.abs()`` (que llamamos un argumento), pero algunas también tienen palabras clave especiales que se pueden usar para cambiar el funcionamiento de la función. Por ejemplo, la función ``np.random.normal()`` genera números aleatorios a partir de una distribución normal (sobre la que aprenderemos más adelante). Eche un vistazo a la página de ayuda para esta función escribiendo ``help (np.random.normal)`` en la consola, lo que hará que aparezca una página de ayuda debajo. La primera sección de la página de ayuda para la función ``np.random.normal()`` muestra lo siguiente:"
   ]
  },
  {
   "cell_type": "markdown",
   "metadata": {},
   "source": [
    "    normal(...) method of numpy.random.mtrand.RandomState instance\n",
    "    normal(loc=0.0, scale=1.0, size=None)\n",
    "    \n",
    "    Draw random samples from a normal (Gaussian) distribution.\n",
    "    \n",
    "    The probability density function of the normal distribution, first\n",
    "    derived by De Moivre and 200 years later by both Gauss and Laplace\n",
    "    independently [2]_, is often called the bell curve because of\n",
    "    its characteristic shape (see the example below).\n",
    "    \n",
    "    The normal distributions occurs often in nature.  For example, it\n",
    "    describes the commonly occurring distribution of samples influenced\n",
    "    by a large number of tiny, random disturbances, each with its own\n",
    "    unique distribution [2]_.\n",
    "    \n",
    "    Parameters\n",
    "    ----------\n",
    "    loc : float or array_like of floats\n",
    "        Mean (\"centre\") of the distribution.\n",
    "    scale : float or array_like of floats\n",
    "        Standard deviation (spread or \"width\") of the distribution. Must be\n",
    "        non-negative.\n",
    "    size : int or tuple of ints, optional\n",
    "        Output shape.  If the given shape is, e.g., ``(m, n, k)``, then\n",
    "        ``m * n * k`` samples are drawn.  If size is ``None`` (default),\n",
    "        a single value is returned if ``loc`` and ``scale`` are both scalars.\n",
    "        Otherwise, ``np.broadcast(loc, scale).size`` samples are drawn.\n",
    "    \n",
    "    Returns\n",
    "    -------\n",
    "    out : ndarray or scalar\n",
    "        Drawn samples from the parameterized normal distribution."
   ]
  },
  {
   "cell_type": "markdown",
   "metadata": {},
   "source": [
    "También puede ver algunos ejemplos de cómo se usa la función mirando más abajo en la salida de ayuda. Por ejemplo, encontrará el texto:\n",
    "\n",
    "    Draw samples from the distribution:\n",
    "    \n",
    "    >>> mu, sigma = 0, 0.1 # mean and standard deviation\n",
    "    >>> s = np.random.normal(mu, sigma, 1000)\n",
    "\n",
    "Podemos ver en la salida de ayuda (arriba) que la función np.random.normal tiene tres argumentos, loc o media, scale o desviación estándar y size o tamaño. Se muestra que son iguales a valores específicos.\n",
    "\n",
    "    normal(loc=0.0, scale=1.0, size=None)\n",
    "    \n",
    "Esto significa que esos valores son la configuración predeterminada, de modo que si no hace nada, la función devolverá un único número aleatorio con una media de 0 y una desviación estándar de 1."
   ]
  },
  {
   "cell_type": "code",
   "execution_count": 21,
   "metadata": {},
   "outputs": [
    {
     "data": {
      "text/plain": [
       "0.735558176097528"
      ]
     },
     "execution_count": 21,
     "metadata": {},
     "output_type": "execute_result"
    }
   ],
   "source": [
    "np.random.normal()"
   ]
  },
  {
   "cell_type": "markdown",
   "metadata": {},
   "source": [
    "Si quisiéramos crear números aleatorios con una media y una desviación estándar diferentes (digamos media == 100 y desviación estándar == 15), entonces simplemente podríamos establecer esos valores en la llamada a la función. Supongamos que nos gustaría 5 números aleatorios de esta distribución:"
   ]
  },
  {
   "cell_type": "code",
   "execution_count": 22,
   "metadata": {},
   "outputs": [
    {
     "data": {
      "text/plain": [
       "array([99.61013538, 96.81795004, 94.42212767, 99.28361374, 85.45675272])"
      ]
     },
     "execution_count": 22,
     "metadata": {},
     "output_type": "execute_result"
    }
   ],
   "source": [
    "my_random_numbers = np.random.normal(100, 15, 5)\n",
    "my_random_numbers"
   ]
  },
  {
   "cell_type": "markdown",
   "metadata": {},
   "source": [
    "Verá que configuré la variable con el nombre ``my_random_numbers``. En general, siempre es bueno ser lo más descriptivo posible al crear variables; en lugar de llamarlos x o y, use nombres que describan el contenido real. Esto hará que sea mucho más fácil comprender lo que está sucediendo una vez que las cosas se pongan más complicadas."
   ]
  },
  {
   "cell_type": "markdown",
   "metadata": {},
   "source": [
    "## Arrays\n",
    "Es posible que haya notado que los my_random_numbers creados anteriormente no eran como las variables que habíamos visto antes, contenían varios valores. Nos referimos a este tipo de variable como *array* o matriz.\n",
    "\n",
    "Si desea crear su propia matriz nueva, puede hacerlo usando la función ``np.array()``:"
   ]
  },
  {
   "cell_type": "code",
   "execution_count": 29,
   "metadata": {},
   "outputs": [
    {
     "data": {
      "text/plain": [
       "array([4, 5, 6, 7])"
      ]
     },
     "execution_count": 29,
     "metadata": {},
     "output_type": "execute_result"
    }
   ],
   "source": [
    "my_array = np.array([4, 5, 6, 7])\n",
    "my_array"
   ]
  },
  {
   "cell_type": "markdown",
   "metadata": {},
   "source": [
    "Este tipo de matriz también se conoce como vector. Es una matriz de números que solo tiene una única dimensión, y puede tener cualquier número de elementos en esa única dimensión. Puede ser un vector de fila (como ``my_array`` arriba) o un vector de columna.\n",
    "\n",
    "Puede acceder a los elementos individuales dentro de un vector utilizando corchetes junto con un número que se refiere a la ubicación dentro del vector. Estos valores de índice comienzan en 0, una convención de muchos lenguajes de programación a la que puede llevar un poco acostumbrarse.\n",
    "\n",
    "Digamos que queremos ver el valor en el segundo lugar del vector:"
   ]
  },
  {
   "cell_type": "code",
   "execution_count": 30,
   "metadata": {},
   "outputs": [
    {
     "data": {
      "text/plain": [
       "5"
      ]
     },
     "execution_count": 30,
     "metadata": {},
     "output_type": "execute_result"
    }
   ],
   "source": [
    "my_array[1]"
   ]
  },
  {
   "cell_type": "markdown",
   "metadata": {},
   "source": [
    "También puede ver un rango de posiciones, colocando las ubicaciones de inicio y final+1 con dos puntos en el medio. Por ejemplo, para ver los valores en segundo y tercer lugar:"
   ]
  },
  {
   "cell_type": "code",
   "execution_count": 31,
   "metadata": {},
   "outputs": [
    {
     "data": {
      "text/plain": [
       "array([5, 6])"
      ]
     },
     "execution_count": 31,
     "metadata": {},
     "output_type": "execute_result"
    }
   ],
   "source": [
    "my_array[1:3]"
   ]
  },
  {
   "cell_type": "markdown",
   "metadata": {},
   "source": [
    "You can also change the values of specific locations using the same indexing:"
   ]
  },
  {
   "cell_type": "code",
   "execution_count": 32,
   "metadata": {},
   "outputs": [
    {
     "data": {
      "text/plain": [
       "array([4, 5, 7, 7])"
      ]
     },
     "execution_count": 32,
     "metadata": {},
     "output_type": "execute_result"
    }
   ],
   "source": [
    "my_array[2] = 7\n",
    "my_array"
   ]
  },
  {
   "cell_type": "markdown",
   "metadata": {},
   "source": [
    "## Matemática con matrices y vectores\n",
    "Puede aplicar operaciones matemáticas a los elementos de una matriz de la misma manera que las aplica a variables regulares.\n",
    "Digamos que queremos multiplicar cada elemento de la matriz por el número 5:\n"
   ]
  },
  {
   "cell_type": "code",
   "execution_count": 33,
   "metadata": {},
   "outputs": [
    {
     "data": {
      "text/plain": [
       "array([20, 25, 30])"
      ]
     },
     "execution_count": 33,
     "metadata": {},
     "output_type": "execute_result"
    }
   ],
   "source": [
    "my_array = np.array([4, 5, 6])\n",
    "my_array_times_five = my_array * 5\n",
    "my_array_times_five"
   ]
  },
  {
   "cell_type": "markdown",
   "metadata": {},
   "source": [
    "También puede aplicar operaciones matemáticas en pares de vectores. En este caso, cada elemento coincidente se utiliza para la operación."
   ]
  },
  {
   "cell_type": "code",
   "execution_count": 34,
   "metadata": {},
   "outputs": [
    {
     "data": {
      "text/plain": [
       "array([11, 22, 23])"
      ]
     },
     "execution_count": 34,
     "metadata": {},
     "output_type": "execute_result"
    }
   ],
   "source": [
    "my_first_array = np.array([1, 2, 3])\n",
    "my_second_array = np.array([10, 20, 20])\n",
    "my_first_array + my_second_array"
   ]
  },
  {
   "cell_type": "markdown",
   "metadata": {},
   "source": [
    "También podemos aplicar operaciones lógicas a través de vectores; nuevamente, esto devolverá un vector con la operación aplicada a los pares de valores en cada posición."
   ]
  },
  {
   "cell_type": "code",
   "execution_count": 35,
   "metadata": {},
   "outputs": [
    {
     "data": {
      "text/plain": [
       "array([ True,  True, False])"
      ]
     },
     "execution_count": 35,
     "metadata": {},
     "output_type": "execute_result"
    }
   ],
   "source": [
    "array_a = np.array([1, 2, 3])\n",
    "array_b = np.array([1, 2, 4])\n",
    "array_a == array_b"
   ]
  },
  {
   "cell_type": "markdown",
   "metadata": {},
   "source": [
    "La mayoría de las funciones trabajarán con vectores como lo harían con un solo número. Por ejemplo, digamos que queremos obtener el seno trigonométrico para cada uno de un conjunto de valores. Podríamos crear un vector y pasarlo a la función ``np.sin()``, que devolverá tantos valores de seno como valores de entrada haya:"
   ]
  },
  {
   "cell_type": "code",
   "execution_count": 37,
   "metadata": {},
   "outputs": [
    {
     "data": {
      "text/plain": [
       "array([0.        , 0.84147098, 0.90929743])"
      ]
     },
     "execution_count": 37,
     "metadata": {},
     "output_type": "execute_result"
    }
   ],
   "source": [
    "my_angle_values = np.array([0, 1, 2])\n",
    "my_sin_values = np.sin(my_angle_values)\n",
    "my_sin_values"
   ]
  },
  {
   "cell_type": "markdown",
   "metadata": {},
   "source": [
    "## Diccionarios\n",
    "Hay otro tipo de variable en Python que es muy útil, que se conoce como *diccionario*. Un diccionario es como un contenedor que\n",
    "almacena valores que están asociados con *claves* particulares. Se crea un diccionario utilizando corchetes ondulados; cada entrada debe incluir una clave y un valor (que puede ser cualquier tipo de variable, incluido otro diccionario), separados por un color. Por ejemplo, digamos que queremos almacenar las edades de tres personas:"
   ]
  },
  {
   "cell_type": "code",
   "execution_count": 38,
   "metadata": {},
   "outputs": [
    {
     "data": {
      "text/plain": [
       "{'Lisa': 23, 'Angela': 25, 'Monique': 27}"
      ]
     },
     "execution_count": 38,
     "metadata": {},
     "output_type": "execute_result"
    }
   ],
   "source": [
    "ages = {\"Lisa\": 23, \"Angela\": 25, \"Monique\": 27}\n",
    "ages"
   ]
  },
  {
   "cell_type": "markdown",
   "metadata": {},
   "source": [
    "To access the elements, we use the names of each field as an index"
   ]
  },
  {
   "cell_type": "code",
   "execution_count": 39,
   "metadata": {},
   "outputs": [
    {
     "data": {
      "text/plain": [
       "23"
      ]
     },
     "execution_count": 39,
     "metadata": {},
     "output_type": "execute_result"
    }
   ],
   "source": [
    "ages[\"Lisa\"]"
   ]
  },
  {
   "cell_type": "markdown",
   "metadata": {},
   "source": [
    "## Data Frames\n",
    "A menudo, en un conjunto de datos tendremos varias variables diferentes con las que queremos trabajar. En lugar de tener una variable con nombre diferente que almacene cada una, a menudo es útil combinar todas las variables separadas en un solo paquete, que se conoce como Data Frame.\n",
    "\n",
    "Si está familiarizado con una hoja de cálculo (por ejemplo, de Microsoft Excel), entonces ya tiene un conocimiento básico de un Data Frame.\n",
    "Supongamos que tenemos valores de precio y millaje para tres tipos diferentes de automóviles. Podríamos comenzar creando una variable para cada uno, asegurándonos de que los tres autos estén en el mismo orden para cada una de las variables:"
   ]
  },
  {
   "cell_type": "code",
   "execution_count": 40,
   "metadata": {},
   "outputs": [],
   "source": [
    "car_model = (\"Ford Fusion\", \"Hyundai Accent\", \"Toyota Corolla\")\n",
    "car_price = np.array([25000, 16000, 18000])\n",
    "car_mileage = np.array([27, 36, 32])"
   ]
  },
  {
   "cell_type": "markdown",
   "metadata": {},
   "source": [
    "Luego, podemos combinarlos en un solo marco de datos, usando la función pd.DataFrame(). Me gusta usar \"_df\" en los nombres de los marcos de datos solo para dejar en claro que se trata de un marco de datos, por lo que lo llamaremos \"cars_df\":"
   ]
  },
  {
   "cell_type": "code",
   "execution_count": 41,
   "metadata": {
    "lines_to_next_cell": 2
   },
   "outputs": [
    {
     "data": {
      "text/html": [
       "<div>\n",
       "<style scoped>\n",
       "    .dataframe tbody tr th:only-of-type {\n",
       "        vertical-align: middle;\n",
       "    }\n",
       "\n",
       "    .dataframe tbody tr th {\n",
       "        vertical-align: top;\n",
       "    }\n",
       "\n",
       "    .dataframe thead th {\n",
       "        text-align: right;\n",
       "    }\n",
       "</style>\n",
       "<table border=\"1\" class=\"dataframe\">\n",
       "  <thead>\n",
       "    <tr style=\"text-align: right;\">\n",
       "      <th></th>\n",
       "      <th>Price</th>\n",
       "      <th>Mileage</th>\n",
       "    </tr>\n",
       "  </thead>\n",
       "  <tbody>\n",
       "    <tr>\n",
       "      <th>Ford Fusion</th>\n",
       "      <td>25000</td>\n",
       "      <td>27</td>\n",
       "    </tr>\n",
       "    <tr>\n",
       "      <th>Hyundai Accent</th>\n",
       "      <td>16000</td>\n",
       "      <td>36</td>\n",
       "    </tr>\n",
       "    <tr>\n",
       "      <th>Toyota Corolla</th>\n",
       "      <td>18000</td>\n",
       "      <td>32</td>\n",
       "    </tr>\n",
       "  </tbody>\n",
       "</table>\n",
       "</div>"
      ],
      "text/plain": [
       "                Price  Mileage\n",
       "Ford Fusion     25000       27\n",
       "Hyundai Accent  16000       36\n",
       "Toyota Corolla  18000       32"
      ]
     },
     "execution_count": 41,
     "metadata": {},
     "output_type": "execute_result"
    }
   ],
   "source": [
    "data = {\"Price\": car_price, \"Mileage\": car_mileage}\n",
    "cars_df2 = pd.DataFrame(data, index=car_model)\n",
    "cars_df2"
   ]
  },
  {
   "cell_type": "markdown",
   "metadata": {},
   "source": [
    "Cada una de las columnas del Data Frame contiene una de las variables, con el nombre que le dimos cuando creamos el Data Frame. Podemos acceder a cada una de esas columnas usando la misma indexación ``[]`` que usamos para acceder a las matrices, pero podemos usar los nombres de columna que\n",
    "especificamos para el Data Frame. Por ejemplo, si quisiéramos acceder a la variable Mileage, combinaríamos el nombre del Data Frame\n",
    "con el nombre de la variable de la siguiente manera:"
   ]
  },
  {
   "cell_type": "code",
   "execution_count": 42,
   "metadata": {},
   "outputs": [
    {
     "data": {
      "text/plain": [
       "Ford Fusion       27\n",
       "Hyundai Accent    36\n",
       "Toyota Corolla    32\n",
       "Name: Mileage, dtype: int32"
      ]
     },
     "execution_count": 42,
     "metadata": {},
     "output_type": "execute_result"
    }
   ],
   "source": [
    "cars_df2[\"Mileage\"]"
   ]
  },
  {
   "cell_type": "markdown",
   "metadata": {},
   "source": [
    "Esto es como cualquier otro vector, ya que podemos referirnos a sus valores individuales usando corchetes como hicimos con los vectores regulares. Por ejemplo, si queremos el valor del millaje del automóvil en segundo lugar:"
   ]
  },
  {
   "cell_type": "code",
   "execution_count": 43,
   "metadata": {},
   "outputs": [
    {
     "data": {
      "text/plain": [
       "36"
      ]
     },
     "execution_count": 43,
     "metadata": {},
     "output_type": "execute_result"
    }
   ],
   "source": [
    "cars_df2[\"Mileage\"][1]"
   ]
  },
  {
   "cell_type": "markdown",
   "metadata": {},
   "source": [
    "Del mismo modo, puede realizar operaciones en el vector. Por ejemplo, es posible que deseemos elevar al cuadrado todos los valores de la columna \"Price\":"
   ]
  },
  {
   "cell_type": "code",
   "execution_count": 44,
   "metadata": {},
   "outputs": [
    {
     "data": {
      "text/plain": [
       "Ford Fusion       625000000\n",
       "Hyundai Accent    256000000\n",
       "Toyota Corolla    324000000\n",
       "Name: Price, dtype: int32"
      ]
     },
     "execution_count": 44,
     "metadata": {},
     "output_type": "execute_result"
    }
   ],
   "source": [
    "np.square(cars_df2[\"Price\"])"
   ]
  },
  {
   "cell_type": "markdown",
   "metadata": {},
   "source": [
    "Digamos que no conocemos la organización del Data Frame, pero queremos ver el precio de un Toyota Corolla. Podemos usar el filtrado para obtener ciertos valores del Data Frame.\n",
    "\n",
    "Si especifica el índice que corresponde a \"Toyota Corolla\", obtendrá todos los valores para esa fila del marco de datos. Para hacer esto, necesitamos usar el operador ``.loc`` en el Data Frame. El primer argumento del operador ``.loc`` se refiere a las filas en el Data Frame, mientras que el segundo se refiere a las columnas."
   ]
  },
  {
   "cell_type": "code",
   "execution_count": 45,
   "metadata": {},
   "outputs": [
    {
     "data": {
      "text/plain": [
       "Price      18000\n",
       "Mileage       32\n",
       "Name: Toyota Corolla, dtype: int32"
      ]
     },
     "execution_count": 45,
     "metadata": {},
     "output_type": "execute_result"
    }
   ],
   "source": [
    "cars_df2.loc[\"Toyota Corolla\"]"
   ]
  },
  {
   "cell_type": "markdown",
   "metadata": {},
   "source": [
    "Para obtener solo el millaje, especifique la columna de millaje."
   ]
  },
  {
   "cell_type": "code",
   "execution_count": 46,
   "metadata": {},
   "outputs": [
    {
     "data": {
      "text/html": [
       "<div>\n",
       "<style scoped>\n",
       "    .dataframe tbody tr th:only-of-type {\n",
       "        vertical-align: middle;\n",
       "    }\n",
       "\n",
       "    .dataframe tbody tr th {\n",
       "        vertical-align: top;\n",
       "    }\n",
       "\n",
       "    .dataframe thead th {\n",
       "        text-align: right;\n",
       "    }\n",
       "</style>\n",
       "<table border=\"1\" class=\"dataframe\">\n",
       "  <thead>\n",
       "    <tr style=\"text-align: right;\">\n",
       "      <th></th>\n",
       "      <th>Mileage</th>\n",
       "    </tr>\n",
       "  </thead>\n",
       "  <tbody>\n",
       "    <tr>\n",
       "      <th>Toyota Corolla</th>\n",
       "      <td>32</td>\n",
       "    </tr>\n",
       "  </tbody>\n",
       "</table>\n",
       "</div>"
      ],
      "text/plain": [
       "                Mileage\n",
       "Toyota Corolla       32"
      ]
     },
     "execution_count": 46,
     "metadata": {},
     "output_type": "execute_result"
    }
   ],
   "source": [
    "cars_df2.loc[[\"Toyota Corolla\"], [\"Mileage\"]]"
   ]
  },
  {
   "cell_type": "markdown",
   "metadata": {},
   "source": [
    "También podemos filtrar por algunas características del coche."
   ]
  },
  {
   "cell_type": "code",
   "execution_count": 47,
   "metadata": {},
   "outputs": [
    {
     "data": {
      "text/html": [
       "<div>\n",
       "<style scoped>\n",
       "    .dataframe tbody tr th:only-of-type {\n",
       "        vertical-align: middle;\n",
       "    }\n",
       "\n",
       "    .dataframe tbody tr th {\n",
       "        vertical-align: top;\n",
       "    }\n",
       "\n",
       "    .dataframe thead th {\n",
       "        text-align: right;\n",
       "    }\n",
       "</style>\n",
       "<table border=\"1\" class=\"dataframe\">\n",
       "  <thead>\n",
       "    <tr style=\"text-align: right;\">\n",
       "      <th></th>\n",
       "      <th>Price</th>\n",
       "      <th>Mileage</th>\n",
       "    </tr>\n",
       "  </thead>\n",
       "  <tbody>\n",
       "    <tr>\n",
       "      <th>Hyundai Accent</th>\n",
       "      <td>16000</td>\n",
       "      <td>36</td>\n",
       "    </tr>\n",
       "  </tbody>\n",
       "</table>\n",
       "</div>"
      ],
      "text/plain": [
       "                Price  Mileage\n",
       "Hyundai Accent  16000       36"
      ]
     },
     "execution_count": 47,
     "metadata": {},
     "output_type": "execute_result"
    }
   ],
   "source": [
    "cars_df2[(cars_df2[\"Mileage\"] > 30) & (cars_df2[\"Price\"] < 18000)]"
   ]
  },
  {
   "cell_type": "markdown",
   "metadata": {},
   "source": [
    "Los Data Frames son enormemente poderosos para manipular conjuntos de datos grandes y complejos, que a menudo es lo que estamos tratando en las estadísticas. Para obtener más información sobre Data Frames en pandas, consulte este [enlace](https://towardsdatascience.com/my-python-pandas-cheat-sheet-746b11e44368)."
   ]
  },
  {
   "cell_type": "markdown",
   "metadata": {},
   "source": [
    "## 1.10 Trabajando con archivos de datos\n",
    "Cuando hacemos estadísticas, a menudo necesitamos cargar los datos que analizaremos. Esos datos vivirán en un archivo en la computadora de uno o en Internet. Para este ejemplo, usemos un archivo alojado en Internet, que contiene los valores del producto bruto interno (PBI) de varios países del mundo.\n",
    "\n",
    "Este archivo se almacena como un archivo de *valores separados por comas* (o CSV), lo que significa que los valores para cada una de las variables en el conjunto de datos están separados por comas. Hay tres variables: el rango relativo de los países, el nombre del país y su valor del PBI.\n",
    "\n",
    "Podemos cargar el archivo usando la función ``pd.read_csv()``:"
   ]
  },
  {
   "cell_type": "code",
   "execution_count": 48,
   "metadata": {},
   "outputs": [],
   "source": [
    "data_url = \"https://raw.githubusercontent.com/psych10/psych10/master/notebooks/Session03-IntroToR/gdp.csv\"\n",
    "gdp_data = pd.read_csv(data_url)"
   ]
  },
  {
   "cell_type": "markdown",
   "metadata": {},
   "source": [
    "Un Data Frame, como todas las variables de Python, es un *objeto*. Más adelante comentaremos más sobre la programación orientada a objetos, pero el punto importante por ahora es que los objetos pueden almacenar información y hacer cosas. Cada objeto tiene un conjunto de *métodos*, que denotamos usando un punto. Por ejemplo, el marco de datos tiene un método llamado ``.head()`` que nos mostrará las 5 filas superiores del marco de datos:"
   ]
  },
  {
   "cell_type": "code",
   "execution_count": 49,
   "metadata": {},
   "outputs": [
    {
     "data": {
      "text/html": [
       "<div>\n",
       "<style scoped>\n",
       "    .dataframe tbody tr th:only-of-type {\n",
       "        vertical-align: middle;\n",
       "    }\n",
       "\n",
       "    .dataframe tbody tr th {\n",
       "        vertical-align: top;\n",
       "    }\n",
       "\n",
       "    .dataframe thead th {\n",
       "        text-align: right;\n",
       "    }\n",
       "</style>\n",
       "<table border=\"1\" class=\"dataframe\">\n",
       "  <thead>\n",
       "    <tr style=\"text-align: right;\">\n",
       "      <th></th>\n",
       "      <th>Rank</th>\n",
       "      <th>Country</th>\n",
       "      <th>GDP</th>\n",
       "    </tr>\n",
       "  </thead>\n",
       "  <tbody>\n",
       "    <tr>\n",
       "      <th>0</th>\n",
       "      <td>1</td>\n",
       "      <td>Liechtenstein</td>\n",
       "      <td>141100</td>\n",
       "    </tr>\n",
       "    <tr>\n",
       "      <th>1</th>\n",
       "      <td>2</td>\n",
       "      <td>Qatar</td>\n",
       "      <td>104300</td>\n",
       "    </tr>\n",
       "    <tr>\n",
       "      <th>2</th>\n",
       "      <td>3</td>\n",
       "      <td>Luxembourg</td>\n",
       "      <td>81100</td>\n",
       "    </tr>\n",
       "    <tr>\n",
       "      <th>3</th>\n",
       "      <td>4</td>\n",
       "      <td>Bermuda</td>\n",
       "      <td>69900</td>\n",
       "    </tr>\n",
       "    <tr>\n",
       "      <th>4</th>\n",
       "      <td>5</td>\n",
       "      <td>Singapore</td>\n",
       "      <td>60500</td>\n",
       "    </tr>\n",
       "  </tbody>\n",
       "</table>\n",
       "</div>"
      ],
      "text/plain": [
       "   Rank        Country     GDP\n",
       "0     1  Liechtenstein  141100\n",
       "1     2          Qatar  104300\n",
       "2     3     Luxembourg   81100\n",
       "3     4        Bermuda   69900\n",
       "4     5      Singapore   60500"
      ]
     },
     "execution_count": 49,
     "metadata": {},
     "output_type": "execute_result"
    }
   ],
   "source": [
    "gdp_data.head()"
   ]
  },
  {
   "cell_type": "markdown",
   "metadata": {},
   "source": [
    "Si queremos ver la lista de todos los métodos que están asociados con un objeto en particular, podemos usar la función ``dir()``:"
   ]
  },
  {
   "cell_type": "code",
   "execution_count": 50,
   "metadata": {},
   "outputs": [
    {
     "data": {
      "text/plain": [
       "['Country',\n",
       " 'GDP',\n",
       " 'Rank',\n",
       " 'T',\n",
       " '_AXIS_LEN',\n",
       " '_AXIS_ORDERS',\n",
       " '_AXIS_REVERSED',\n",
       " '_AXIS_TO_AXIS_NUMBER',\n",
       " '_HANDLED_TYPES',\n",
       " '__abs__',\n",
       " '__add__',\n",
       " '__and__',\n",
       " '__annotations__',\n",
       " '__array__',\n",
       " '__array_priority__',\n",
       " '__array_ufunc__',\n",
       " '__array_wrap__',\n",
       " '__bool__',\n",
       " '__class__',\n",
       " '__contains__',\n",
       " '__copy__',\n",
       " '__deepcopy__',\n",
       " '__delattr__',\n",
       " '__delitem__',\n",
       " '__dict__',\n",
       " '__dir__',\n",
       " '__divmod__',\n",
       " '__doc__',\n",
       " '__eq__',\n",
       " '__finalize__',\n",
       " '__floordiv__',\n",
       " '__format__',\n",
       " '__ge__',\n",
       " '__getattr__',\n",
       " '__getattribute__',\n",
       " '__getitem__',\n",
       " '__getstate__',\n",
       " '__gt__',\n",
       " '__hash__',\n",
       " '__iadd__',\n",
       " '__iand__',\n",
       " '__ifloordiv__',\n",
       " '__imod__',\n",
       " '__imul__',\n",
       " '__init__',\n",
       " '__init_subclass__',\n",
       " '__invert__',\n",
       " '__ior__',\n",
       " '__ipow__',\n",
       " '__isub__',\n",
       " '__iter__',\n",
       " '__itruediv__',\n",
       " '__ixor__',\n",
       " '__le__',\n",
       " '__len__',\n",
       " '__lt__',\n",
       " '__matmul__',\n",
       " '__mod__',\n",
       " '__module__',\n",
       " '__mul__',\n",
       " '__ne__',\n",
       " '__neg__',\n",
       " '__new__',\n",
       " '__nonzero__',\n",
       " '__or__',\n",
       " '__pos__',\n",
       " '__pow__',\n",
       " '__radd__',\n",
       " '__rand__',\n",
       " '__rdivmod__',\n",
       " '__reduce__',\n",
       " '__reduce_ex__',\n",
       " '__repr__',\n",
       " '__rfloordiv__',\n",
       " '__rmatmul__',\n",
       " '__rmod__',\n",
       " '__rmul__',\n",
       " '__ror__',\n",
       " '__round__',\n",
       " '__rpow__',\n",
       " '__rsub__',\n",
       " '__rtruediv__',\n",
       " '__rxor__',\n",
       " '__setattr__',\n",
       " '__setitem__',\n",
       " '__setstate__',\n",
       " '__sizeof__',\n",
       " '__str__',\n",
       " '__sub__',\n",
       " '__subclasshook__',\n",
       " '__truediv__',\n",
       " '__weakref__',\n",
       " '__xor__',\n",
       " '_accessors',\n",
       " '_accum_func',\n",
       " '_add_numeric_operations',\n",
       " '_agg_by_level',\n",
       " '_agg_examples_doc',\n",
       " '_agg_summary_and_see_also_doc',\n",
       " '_align_frame',\n",
       " '_align_series',\n",
       " '_arith_method',\n",
       " '_as_manager',\n",
       " '_attrs',\n",
       " '_box_col_values',\n",
       " '_can_fast_transpose',\n",
       " '_check_inplace_and_allows_duplicate_labels',\n",
       " '_check_inplace_setting',\n",
       " '_check_is_chained_assignment_possible',\n",
       " '_check_label_or_level_ambiguity',\n",
       " '_check_setitem_copy',\n",
       " '_clear_item_cache',\n",
       " '_clip_with_one_bound',\n",
       " '_clip_with_scalar',\n",
       " '_cmp_method',\n",
       " '_combine_frame',\n",
       " '_consolidate',\n",
       " '_consolidate_inplace',\n",
       " '_construct_axes_dict',\n",
       " '_construct_axes_from_arguments',\n",
       " '_construct_result',\n",
       " '_constructor',\n",
       " '_constructor_sliced',\n",
       " '_convert',\n",
       " '_count_level',\n",
       " '_data',\n",
       " '_dir_additions',\n",
       " '_dir_deletions',\n",
       " '_dispatch_frame_op',\n",
       " '_drop_axis',\n",
       " '_drop_labels_or_levels',\n",
       " '_ensure_valid_index',\n",
       " '_find_valid_index',\n",
       " '_flags',\n",
       " '_from_arrays',\n",
       " '_from_mgr',\n",
       " '_get_agg_axis',\n",
       " '_get_axis',\n",
       " '_get_axis_name',\n",
       " '_get_axis_number',\n",
       " '_get_axis_resolvers',\n",
       " '_get_block_manager_axis',\n",
       " '_get_bool_data',\n",
       " '_get_cleaned_column_resolvers',\n",
       " '_get_column_array',\n",
       " '_get_index_resolvers',\n",
       " '_get_item_cache',\n",
       " '_get_label_or_level_values',\n",
       " '_get_numeric_data',\n",
       " '_get_value',\n",
       " '_getitem_bool_array',\n",
       " '_getitem_multilevel',\n",
       " '_gotitem',\n",
       " '_hidden_attrs',\n",
       " '_indexed_same',\n",
       " '_info_axis',\n",
       " '_info_axis_name',\n",
       " '_info_axis_number',\n",
       " '_info_repr',\n",
       " '_init_mgr',\n",
       " '_inplace_method',\n",
       " '_internal_names',\n",
       " '_internal_names_set',\n",
       " '_is_copy',\n",
       " '_is_homogeneous_type',\n",
       " '_is_label_or_level_reference',\n",
       " '_is_label_reference',\n",
       " '_is_level_reference',\n",
       " '_is_mixed_type',\n",
       " '_is_view',\n",
       " '_iset_item',\n",
       " '_iset_item_mgr',\n",
       " '_iset_not_inplace',\n",
       " '_item_cache',\n",
       " '_iter_column_arrays',\n",
       " '_ixs',\n",
       " '_join_compat',\n",
       " '_logical_func',\n",
       " '_logical_method',\n",
       " '_maybe_cache_changed',\n",
       " '_maybe_update_cacher',\n",
       " '_metadata',\n",
       " '_mgr',\n",
       " '_min_count_stat_function',\n",
       " '_needs_reindex_multi',\n",
       " '_protect_consolidate',\n",
       " '_reduce',\n",
       " '_reindex_axes',\n",
       " '_reindex_columns',\n",
       " '_reindex_index',\n",
       " '_reindex_multi',\n",
       " '_reindex_with_indexers',\n",
       " '_replace_columnwise',\n",
       " '_repr_data_resource_',\n",
       " '_repr_fits_horizontal_',\n",
       " '_repr_fits_vertical_',\n",
       " '_repr_html_',\n",
       " '_repr_latex_',\n",
       " '_reset_cache',\n",
       " '_reset_cacher',\n",
       " '_sanitize_column',\n",
       " '_series',\n",
       " '_set_axis',\n",
       " '_set_axis_name',\n",
       " '_set_axis_nocheck',\n",
       " '_set_is_copy',\n",
       " '_set_item',\n",
       " '_set_item_frame_value',\n",
       " '_set_item_mgr',\n",
       " '_set_value',\n",
       " '_setitem_array',\n",
       " '_setitem_frame',\n",
       " '_setitem_slice',\n",
       " '_slice',\n",
       " '_stat_axis',\n",
       " '_stat_axis_name',\n",
       " '_stat_axis_number',\n",
       " '_stat_function',\n",
       " '_stat_function_ddof',\n",
       " '_take_with_is_copy',\n",
       " '_to_dict_of_blocks',\n",
       " '_typ',\n",
       " '_update_inplace',\n",
       " '_validate_dtype',\n",
       " '_values',\n",
       " '_where',\n",
       " 'abs',\n",
       " 'add',\n",
       " 'add_prefix',\n",
       " 'add_suffix',\n",
       " 'agg',\n",
       " 'aggregate',\n",
       " 'align',\n",
       " 'all',\n",
       " 'any',\n",
       " 'append',\n",
       " 'apply',\n",
       " 'applymap',\n",
       " 'asfreq',\n",
       " 'asof',\n",
       " 'assign',\n",
       " 'astype',\n",
       " 'at',\n",
       " 'at_time',\n",
       " 'attrs',\n",
       " 'axes',\n",
       " 'backfill',\n",
       " 'between_time',\n",
       " 'bfill',\n",
       " 'bool',\n",
       " 'boxplot',\n",
       " 'clip',\n",
       " 'columns',\n",
       " 'combine',\n",
       " 'combine_first',\n",
       " 'compare',\n",
       " 'convert_dtypes',\n",
       " 'copy',\n",
       " 'corr',\n",
       " 'corrwith',\n",
       " 'count',\n",
       " 'cov',\n",
       " 'cummax',\n",
       " 'cummin',\n",
       " 'cumprod',\n",
       " 'cumsum',\n",
       " 'describe',\n",
       " 'diff',\n",
       " 'div',\n",
       " 'divide',\n",
       " 'dot',\n",
       " 'drop',\n",
       " 'drop_duplicates',\n",
       " 'droplevel',\n",
       " 'dropna',\n",
       " 'dtypes',\n",
       " 'duplicated',\n",
       " 'empty',\n",
       " 'eq',\n",
       " 'equals',\n",
       " 'eval',\n",
       " 'ewm',\n",
       " 'expanding',\n",
       " 'explode',\n",
       " 'ffill',\n",
       " 'fillna',\n",
       " 'filter',\n",
       " 'first',\n",
       " 'first_valid_index',\n",
       " 'flags',\n",
       " 'floordiv',\n",
       " 'from_dict',\n",
       " 'from_records',\n",
       " 'ge',\n",
       " 'get',\n",
       " 'groupby',\n",
       " 'gt',\n",
       " 'head',\n",
       " 'hist',\n",
       " 'iat',\n",
       " 'idxmax',\n",
       " 'idxmin',\n",
       " 'iloc',\n",
       " 'index',\n",
       " 'infer_objects',\n",
       " 'info',\n",
       " 'insert',\n",
       " 'interpolate',\n",
       " 'isin',\n",
       " 'isna',\n",
       " 'isnull',\n",
       " 'items',\n",
       " 'iteritems',\n",
       " 'iterrows',\n",
       " 'itertuples',\n",
       " 'join',\n",
       " 'keys',\n",
       " 'kurt',\n",
       " 'kurtosis',\n",
       " 'last',\n",
       " 'last_valid_index',\n",
       " 'le',\n",
       " 'loc',\n",
       " 'lookup',\n",
       " 'lt',\n",
       " 'mad',\n",
       " 'mask',\n",
       " 'max',\n",
       " 'mean',\n",
       " 'median',\n",
       " 'melt',\n",
       " 'memory_usage',\n",
       " 'merge',\n",
       " 'min',\n",
       " 'mod',\n",
       " 'mode',\n",
       " 'mul',\n",
       " 'multiply',\n",
       " 'ndim',\n",
       " 'ne',\n",
       " 'nlargest',\n",
       " 'notna',\n",
       " 'notnull',\n",
       " 'nsmallest',\n",
       " 'nunique',\n",
       " 'pad',\n",
       " 'pct_change',\n",
       " 'pipe',\n",
       " 'pivot',\n",
       " 'pivot_table',\n",
       " 'plot',\n",
       " 'pop',\n",
       " 'pow',\n",
       " 'prod',\n",
       " 'product',\n",
       " 'quantile',\n",
       " 'query',\n",
       " 'radd',\n",
       " 'rank',\n",
       " 'rdiv',\n",
       " 'reindex',\n",
       " 'reindex_like',\n",
       " 'rename',\n",
       " 'rename_axis',\n",
       " 'reorder_levels',\n",
       " 'replace',\n",
       " 'resample',\n",
       " 'reset_index',\n",
       " 'rfloordiv',\n",
       " 'rmod',\n",
       " 'rmul',\n",
       " 'rolling',\n",
       " 'round',\n",
       " 'rpow',\n",
       " 'rsub',\n",
       " 'rtruediv',\n",
       " 'sample',\n",
       " 'select_dtypes',\n",
       " 'sem',\n",
       " 'set_axis',\n",
       " 'set_flags',\n",
       " 'set_index',\n",
       " 'shape',\n",
       " 'shift',\n",
       " 'size',\n",
       " 'skew',\n",
       " 'slice_shift',\n",
       " 'sort_index',\n",
       " 'sort_values',\n",
       " 'squeeze',\n",
       " 'stack',\n",
       " 'std',\n",
       " 'style',\n",
       " 'sub',\n",
       " 'subtract',\n",
       " 'sum',\n",
       " 'swapaxes',\n",
       " 'swaplevel',\n",
       " 'tail',\n",
       " 'take',\n",
       " 'to_clipboard',\n",
       " 'to_csv',\n",
       " 'to_dict',\n",
       " 'to_excel',\n",
       " 'to_feather',\n",
       " 'to_gbq',\n",
       " 'to_hdf',\n",
       " 'to_html',\n",
       " 'to_json',\n",
       " 'to_latex',\n",
       " 'to_markdown',\n",
       " 'to_numpy',\n",
       " 'to_parquet',\n",
       " 'to_period',\n",
       " 'to_pickle',\n",
       " 'to_records',\n",
       " 'to_sql',\n",
       " 'to_stata',\n",
       " 'to_string',\n",
       " 'to_timestamp',\n",
       " 'to_xarray',\n",
       " 'to_xml',\n",
       " 'transform',\n",
       " 'transpose',\n",
       " 'truediv',\n",
       " 'truncate',\n",
       " 'tz_convert',\n",
       " 'tz_localize',\n",
       " 'unstack',\n",
       " 'update',\n",
       " 'value_counts',\n",
       " 'values',\n",
       " 'var',\n",
       " 'where',\n",
       " 'xs']"
      ]
     },
     "execution_count": 50,
     "metadata": {},
     "output_type": "execute_result"
    }
   ],
   "source": [
    "dir(gdp_data)"
   ]
  },
  {
   "cell_type": "markdown",
   "metadata": {},
   "source": [
    "Esto muestra una larga lista de métodos; aprenderá más sobre muchos de estos a medida que avancemos en el curso."
   ]
  }
 ],
 "metadata": {
  "interpreter": {
   "hash": "fcc1d2c210046f8d6f0962280d91bf96fd89619bab60881df3e6b70c67140f94"
  },
  "jupytext": {
   "encoding": "# -*- coding: utf-8 -*-",
   "formats": "ipynb,py:percent"
  },
  "kernelspec": {
   "display_name": "Python 3 (ipykernel)",
   "language": "python",
   "name": "python3"
  },
  "language_info": {
   "codemirror_mode": {
    "name": "ipython",
    "version": 3
   },
   "file_extension": ".py",
   "mimetype": "text/x-python",
   "name": "python",
   "nbconvert_exporter": "python",
   "pygments_lexer": "ipython3",
   "version": "3.7.13"
  }
 },
 "nbformat": 4,
 "nbformat_minor": 4
}
