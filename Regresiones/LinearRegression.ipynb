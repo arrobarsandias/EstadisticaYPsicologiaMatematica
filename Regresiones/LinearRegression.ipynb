{
 "cells": [
  {
   "cell_type": "markdown",
   "metadata": {},
   "source": [
    "Sesion 1\n",
    "- Nociones previas: cálculos/visualizaciones basadas en álgebra de matrices y matriz de covarianza\n",
    "\n",
    "http://www.utstat.toronto.edu/~brunner/books/LinearModelsInStatistics.pdf\n",
    "pg 139\n",
    "pg 339\n",
    "\n",
    "\n",
    "\n",
    "- Modelo de regresión múltiple: diseño, supuestos, estimación y evaluación, interpretación\n",
    "\n",
    "\n",
    "\n",
    "\n",
    "Sesion 2\n",
    "- Modelo de regresión logística: diseño, supuestos, estimación y evaluación, interpretación - BREVE\n",
    "- MANOVA: diseño, supuestos, estimación y evaluación, interpretación"
   ]
  },
  {
   "cell_type": "markdown",
   "metadata": {},
   "source": [
    "http://www.gastonsanchez.com/matrix4sl/relation-as-linear-approximation.html"
   ]
  }
 ],
 "metadata": {
  "interpreter": {
   "hash": "bc333aaf72f12d36efbbc969b6efbd208f39cf597397e273d228d636dea83428"
  },
  "kernelspec": {
   "display_name": "Python 3.8.10 64-bit ('statspsych': virtualenv)",
   "name": "python3"
  },
  "language_info": {
   "codemirror_mode": {
    "name": "ipython",
    "version": 3
   },
   "file_extension": ".py",
   "mimetype": "text/x-python",
   "name": "python",
   "nbconvert_exporter": "python",
   "pygments_lexer": "ipython3",
   "version": "3.8.10"
  },
  "orig_nbformat": 4
 },
 "nbformat": 4,
 "nbformat_minor": 2
}
