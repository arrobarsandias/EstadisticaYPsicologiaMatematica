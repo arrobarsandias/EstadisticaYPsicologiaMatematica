{
 "cells": [
  {
   "cell_type": "markdown",
   "metadata": {
    "slideshow": {
     "slide_type": "slide"
    }
   },
   "source": [
    "# Regresión Logística y MANOVA\n",
    "\n",
    ">Este tutorial es una selección y adaptación al español de los libros [Multivariate Data Analysis](https://www.cengage.co.uk/books/9781473756540/) de Joseph F. Hair et al. y [Applied Regression Analysis & Generalized Linear Models](https://socialsciences.mcmaster.ca/jfox/Books/Applied-Regression-3E/index.html) de John Fox.\n"
   ]
  },
  {
   "cell_type": "markdown",
   "metadata": {
    "slideshow": {
     "slide_type": "slide"
    }
   },
   "source": [
    "## Regresión Logística\n",
    "\n",
    "La regresión logística es el modelo de regresión apropiado **cuando la variable dependiente es una variable categórica (nominal o no métrica) y las variables independientes son métricas o no métricas**. \n",
    "\n",
    "Es particularmente útil para tareas de clasificación. "
   ]
  },
  {
   "cell_type": "markdown",
   "metadata": {
    "slideshow": {
     "slide_type": "subslide"
    }
   },
   "source": [
    "### Nociones previas\n",
    "\n",
    "En una regresión logística, los coeficientes estimados para las variables independientes se estiman utilizando el **valor logit como medida dependiente** para garantizar que cualquier valor predicho (es decir, cualquier valor logit) se pueda transformar nuevamente en una probabilidad que se encuentre entre cero y uno. "
   ]
  },
  {
   "cell_type": "markdown",
   "metadata": {
    "slideshow": {
     "slide_type": "subslide"
    }
   },
   "source": [
    "La formulación del modelo es:\n",
    "\n",
    "$$ Logit_{i} = ln \\left (  \\frac{P_{event}}{1 - P_{event}} \\right )  = b_{0} + b_{1} X_{1} + ... + b_{n} X_{n}  $$"
   ]
  },
  {
   "cell_type": "markdown",
   "metadata": {
    "slideshow": {
     "slide_type": "slide"
    }
   },
   "source": [
    "A diferencia del modelo de regresión múltiple, la regresión logística utiliza el **estimador de máxima verosimilitud (MLE)**. Esto quiere decir que en lugar de minimizar las desviaciones cuadradas (mínimos cuadrados), la regresión logística maximiza la verosimilitud de que ocurra un evento. \n",
    "\n",
    ">Nota: La verosimilitud es una medida diferente a la probabilidad. Refiere a qué tan \"verosimil\" es que los datos observados ocurran a partir de una parametrización determinada. \n",
    "\n",
    "Para ello, se vale de una medida relacionada, el doble del logaritmo negativo de la verosimilutd (- 2 log likelihood: **-2LL**). Esto debido a que esta función es más fácil de minimizar y, por tanto, hallar el valor máximo de la verosimilitud. "
   ]
  },
  {
   "cell_type": "markdown",
   "metadata": {
    "slideshow": {
     "slide_type": "subslide"
    }
   },
   "source": [
    "Para calcular el ajuste general del modelo, se emplea la medida pseudo $R^{2}$, que se interpreta de manera similar al coeficiente de determinación en regresión múltiple. \n",
    "\n",
    "El pseudo $R^{2}$ para un modelo logit ($R^{2}_{Logit}$) se puede calcular como:\n",
    "\n",
    "$$ R^{2}_{Logit} = \\frac{-2LL_{null} - (- 2LL_{model}) }{- 2LL_{null}} $$"
   ]
  },
  {
   "cell_type": "markdown",
   "metadata": {
    "slideshow": {
     "slide_type": "subslide"
    }
   },
   "source": [
    "Podemos encontrar otras equivalencias con el modelo de regresión múltiple:\n",
    "\n",
    "| Regresión Múltiple | Regresión Logística                              |\n",
    "|--------------------|--------------------------------------------------|\n",
    "| $SS_{total}$       | $-2LL_{null}$                                    |\n",
    "| $SS_{error}$       | $-2LL_{model}$                                   |\n",
    "| $SS_{model}$       | $2LL_{model} -2LL_{null}$                        |\n",
    "| Prueba F           | Prueba Chi-cuadrado de $2LL_{model} -2LL_{null}$ |\n",
    "| $R^{2}$            | Pseudo $R^{2}$                                   |"
   ]
  },
  {
   "cell_type": "markdown",
   "metadata": {
    "slideshow": {
     "slide_type": "slide"
    }
   },
   "source": [
    "### Diseño\n",
    "\n",
    "#### Codificación de la variable dependiente binaria\n",
    "\n",
    "Los dos grupos de interés en la regresión logística se representan como variables binarias con valores de 0 y 1. No importa a qué grupo se le asigna el valor de 1 versus 0, pero esta asignación (codificación) debe tenerse en cuenta para la interpretación de los coeficientes.\n",
    "\n",
    "- Características (p.e. género): A cualquiera de los grupos se le puede asignar el valor de 1 (p.e. mujeres) y al otro grupo el valor de 0 (p.e. hombres). Los coeficientes reflejarían el impacto de la(s) variable(s) independiente(s) en la probabilidad de que la persona sea mujer (es decir, 1).\n",
    "- Resultados o eventos (p.e. éxito o fracaso): Si el grupo con éxito se codifica como 1 y el de fracaso como 0, los coeficientes representan los impactos sobre la probabilidad de éxito."
   ]
  },
  {
   "cell_type": "markdown",
   "metadata": {
    "slideshow": {
     "slide_type": "slide"
    }
   },
   "source": [
    "#### Tamaño de muestra\n",
    "\n",
    "El uso de máxima verosimilitud (MLE) **requiere muestras más grandes** de modo que, en igualdad de condiciones, la regresión logística requerirá un tamaño de muestra mayor que la regresión múltiple. Por ejemplo, Hosmer y Lemeshow recomiendan tamaños de muestra superiores a 400.\n",
    "\n",
    "El tamaño de muestra recomendado es de **al menos 10 observaciones por parámetro estimado para cada grupo**. Esto es mucho mayor que la regresión múltiple, que tuvo un mínimo de cinco observaciones por parámetro, y eso fue para la muestra general, no el tamaño de la muestra para cada grupo, como se ve con la regresión logística."
   ]
  },
  {
   "cell_type": "markdown",
   "metadata": {
    "slideshow": {
     "slide_type": "subslide"
    }
   },
   "source": [
    "\n",
    "Una última consideración entra en juego con el uso de variables independientes no métricas. Cuando se incluyen en el modelo, subdividen aún más la muestra en celdas creadas por la combinación de variables independientes dependientes y no métricas. \n",
    "\n",
    "**Todas las frecuencias de celda deben ser mayores que 1 y una gran mayoría (75% o más) debe tener frecuencias mayores que 5**. La presencia de celdas pequeñas o vacías puede hacer que el modelo logístico se vuelva inestable, reportando coeficientes logísticos y razones de probabilidad increíblemente grandes para variables independientes."
   ]
  },
  {
   "cell_type": "markdown",
   "metadata": {
    "slideshow": {
     "slide_type": "slide"
    }
   },
   "source": [
    "### Supuestos\n",
    "\n",
    "Las ventajas de la regresión logística en comparación con la regresión múltiple se derivan en gran medida de la **falta general de supuestos requeridos en un análisis de regresión logística**. \n",
    "\n",
    "No requiere ninguna forma de distribución específica de las variables independientes ni heterocedasticidad. \n",
    "\n",
    "Sí requiere **independencia de las observaciones** y, si está presente, debe abordarse mediante algún tipo de enfoque jerárquico o de muestra agrupada."
   ]
  },
  {
   "cell_type": "markdown",
   "metadata": {
    "slideshow": {
     "slide_type": "subslide"
    }
   },
   "source": [
    "Un supuesto inherente que debe abordarse es la **linealidad de las variables independientes, especialmente las continuas, con el resultado (binario)**.  \n",
    "\n",
    "Este supuesto se verifica con la **prueba de Box-Tidwell**.La prueba de Box-Tidwell verifica si la transformada logit es una función lineal del predictor, efectivamente agregando la transformada no lineal del predictor original como un término de interacción para probar si esta adición no hizo una mejor predicción.\n",
    "\n",
    "Un valor p significativo en la prueba de Box-Tidwell significa que se viola el supuesto de linealidad. "
   ]
  },
  {
   "cell_type": "markdown",
   "metadata": {
    "slideshow": {
     "slide_type": "slide"
    }
   },
   "source": [
    "Veamos un ejemplo:"
   ]
  },
  {
   "cell_type": "code",
   "execution_count": 2,
   "metadata": {
    "hideCode": true,
    "hidePrompt": true,
    "slideshow": {
     "slide_type": "fragment"
    }
   },
   "outputs": [
    {
     "data": {
      "text/html": [
       "<div>\n",
       "<style scoped>\n",
       "    .dataframe tbody tr th:only-of-type {\n",
       "        vertical-align: middle;\n",
       "    }\n",
       "\n",
       "    .dataframe tbody tr th {\n",
       "        vertical-align: top;\n",
       "    }\n",
       "\n",
       "    .dataframe thead th {\n",
       "        text-align: right;\n",
       "    }\n",
       "</style>\n",
       "<table border=\"1\" class=\"dataframe\">\n",
       "  <thead>\n",
       "    <tr style=\"text-align: right;\">\n",
       "      <th></th>\n",
       "      <th>neuroticism</th>\n",
       "      <th>extraversion</th>\n",
       "      <th>sex_male</th>\n",
       "      <th>volunteer_yes</th>\n",
       "    </tr>\n",
       "  </thead>\n",
       "  <tbody>\n",
       "    <tr>\n",
       "      <th>1</th>\n",
       "      <td>17.0</td>\n",
       "      <td>13.0</td>\n",
       "      <td>0</td>\n",
       "      <td>0</td>\n",
       "    </tr>\n",
       "    <tr>\n",
       "      <th>2</th>\n",
       "      <td>9.0</td>\n",
       "      <td>14.0</td>\n",
       "      <td>1</td>\n",
       "      <td>0</td>\n",
       "    </tr>\n",
       "    <tr>\n",
       "      <th>3</th>\n",
       "      <td>6.0</td>\n",
       "      <td>16.0</td>\n",
       "      <td>1</td>\n",
       "      <td>0</td>\n",
       "    </tr>\n",
       "    <tr>\n",
       "      <th>4</th>\n",
       "      <td>9.0</td>\n",
       "      <td>20.0</td>\n",
       "      <td>0</td>\n",
       "      <td>0</td>\n",
       "    </tr>\n",
       "    <tr>\n",
       "      <th>5</th>\n",
       "      <td>10.0</td>\n",
       "      <td>19.0</td>\n",
       "      <td>1</td>\n",
       "      <td>0</td>\n",
       "    </tr>\n",
       "    <tr>\n",
       "      <th>...</th>\n",
       "      <td>...</td>\n",
       "      <td>...</td>\n",
       "      <td>...</td>\n",
       "      <td>...</td>\n",
       "    </tr>\n",
       "    <tr>\n",
       "      <th>1417</th>\n",
       "      <td>6.0</td>\n",
       "      <td>10.0</td>\n",
       "      <td>1</td>\n",
       "      <td>1</td>\n",
       "    </tr>\n",
       "    <tr>\n",
       "      <th>1418</th>\n",
       "      <td>9.0</td>\n",
       "      <td>4.0</td>\n",
       "      <td>0</td>\n",
       "      <td>1</td>\n",
       "    </tr>\n",
       "    <tr>\n",
       "      <th>1419</th>\n",
       "      <td>9.0</td>\n",
       "      <td>8.0</td>\n",
       "      <td>1</td>\n",
       "      <td>1</td>\n",
       "    </tr>\n",
       "    <tr>\n",
       "      <th>1420</th>\n",
       "      <td>20.0</td>\n",
       "      <td>20.0</td>\n",
       "      <td>0</td>\n",
       "      <td>1</td>\n",
       "    </tr>\n",
       "    <tr>\n",
       "      <th>1421</th>\n",
       "      <td>16.0</td>\n",
       "      <td>20.0</td>\n",
       "      <td>1</td>\n",
       "      <td>1</td>\n",
       "    </tr>\n",
       "  </tbody>\n",
       "</table>\n",
       "<p>1421 rows × 4 columns</p>\n",
       "</div>"
      ],
      "text/plain": [
       "      neuroticism  extraversion  sex_male  volunteer_yes\n",
       "1            17.0          13.0         0              0\n",
       "2             9.0          14.0         1              0\n",
       "3             6.0          16.0         1              0\n",
       "4             9.0          20.0         0              0\n",
       "5            10.0          19.0         1              0\n",
       "...           ...           ...       ...            ...\n",
       "1417          6.0          10.0         1              1\n",
       "1418          9.0           4.0         0              1\n",
       "1419          9.0           8.0         1              1\n",
       "1420         20.0          20.0         0              1\n",
       "1421         16.0          20.0         1              1\n",
       "\n",
       "[1421 rows x 4 columns]"
      ]
     },
     "execution_count": 2,
     "metadata": {},
     "output_type": "execute_result"
    }
   ],
   "source": [
    "import pandas as pd\n",
    "from sklearn.preprocessing import StandardScaler\n",
    "\n",
    "df = pd.read_csv(\"https://socialsciences.mcmaster.ca/jfox/Books/Applied-Regression-3E/datasets/Cowles.txt\", sep=r'\\s{1,}', engine='python')\n",
    "df.dropna(inplace=True)\n",
    "cowles_data = pd.get_dummies(df, drop_first = True)\n",
    "cowles_data[\"neuroticism\"] = cowles_data[\"neuroticism\"] + 1\n",
    "cowles_data"
   ]
  },
  {
   "cell_type": "code",
   "execution_count": 3,
   "metadata": {
    "slideshow": {
     "slide_type": "skip"
    }
   },
   "outputs": [],
   "source": [
    "%load_ext rpy2.ipython"
   ]
  },
  {
   "cell_type": "code",
   "execution_count": 4,
   "metadata": {
    "hideCode": false,
    "slideshow": {
     "slide_type": "skip"
    }
   },
   "outputs": [
    {
     "name": "stdout",
     "output_type": "stream",
     "text": [
      "NULL\n"
     ]
    }
   ],
   "source": [
    "%%R \n",
    "# install.packages(\"car\")"
   ]
  },
  {
   "cell_type": "code",
   "execution_count": 5,
   "metadata": {
    "hideCode": true,
    "hidePrompt": true,
    "slideshow": {
     "slide_type": "subslide"
    }
   },
   "outputs": [
    {
     "name": "stderr",
     "output_type": "stream",
     "text": [
      "R[write to console]: Loading required package: carData\n",
      "\n"
     ]
    },
    {
     "name": "stdout",
     "output_type": "stream",
     "text": [
      "             MLE of lambda Score Statistic (z) Pr(>|z|)  \n",
      "neuroticism         24.554              1.4151  0.15705  \n",
      "extraversion         1.936              1.7238  0.08474 .\n",
      "---\n",
      "Signif. codes:  0 ‘***’ 0.001 ‘**’ 0.01 ‘*’ 0.05 ‘.’ 0.1 ‘ ’ 1\n",
      "\n",
      "iterations =  26 \n"
     ]
    }
   ],
   "source": [
    "%%R -i cowles_data\n",
    "\n",
    "library(\"car\")\n",
    "boxTidwell(formula = volunteer_yes ~ neuroticism + extraversion, \n",
    "           other.x = ~ sex_male,\n",
    "           data = cowles_data)"
   ]
  },
  {
   "cell_type": "markdown",
   "metadata": {
    "slideshow": {
     "slide_type": "fragment"
    }
   },
   "source": [
    "En este caso no obtenemos valores significativos para los predictores `neuroticism` y `extraversion`. Por tanto, se cumple el supuesto de linealidad de las variables independientes con la dependiente."
   ]
  },
  {
   "cell_type": "markdown",
   "metadata": {
    "slideshow": {
     "slide_type": "slide"
    }
   },
   "source": [
    "### Estimación y evaluación del modelo\n",
    "\n",
    "Al igual que en la regresión múltiple, podemos evaluar el ajuste de la estimación del modelo. Para ello examinamos el grado en el que las medidas de resultado coinciden con las probabilidades predichas:\n",
    "- Las pruebas de significación del modelo se pueden realizar con una prueba de chi-cuadrado sobre las diferencias en los valores $-2LL$ entre los dos modelos (modelo estimado y modelo nulo).\n",
    "- Las medidas de pseudo $R^{2}$ son comparables a las que se encuentran en la regresión múltiple, pero generalmente tienen valores más bajos."
   ]
  },
  {
   "cell_type": "markdown",
   "metadata": {
    "slideshow": {
     "slide_type": "subslide"
    }
   },
   "source": [
    "Veamos el ajuste en nuestro ejemplo:"
   ]
  },
  {
   "cell_type": "code",
   "execution_count": 6,
   "metadata": {
    "hideCode": true,
    "hidePrompt": true,
    "slideshow": {
     "slide_type": "fragment"
    }
   },
   "outputs": [
    {
     "name": "stdout",
     "output_type": "stream",
     "text": [
      "Optimization terminated successfully.\n",
      "         Current function value: 0.670676\n",
      "         Iterations 4\n"
     ]
    },
    {
     "data": {
      "text/html": [
       "<table class=\"simpletable\">\n",
       "<caption>Logit Regression Results</caption>\n",
       "<tr>\n",
       "  <th>Dep. Variable:</th>     <td>volunteer_yes</td>  <th>  No. Observations:  </th>  <td>  1421</td>  \n",
       "</tr>\n",
       "<tr>\n",
       "  <th>Model:</th>                 <td>Logit</td>      <th>  Df Residuals:      </th>  <td>  1417</td>  \n",
       "</tr>\n",
       "<tr>\n",
       "  <th>Method:</th>                 <td>MLE</td>       <th>  Df Model:          </th>  <td>     3</td>  \n",
       "</tr>\n",
       "<tr>\n",
       "  <th>Date:</th>            <td>Thu, 11 Nov 2021</td> <th>  Pseudo R-squ.:     </th>  <td>0.01419</td> \n",
       "</tr>\n",
       "<tr>\n",
       "  <th>Time:</th>                <td>11:17:23</td>     <th>  Log-Likelihood:    </th> <td> -953.03</td> \n",
       "</tr>\n",
       "<tr>\n",
       "  <th>converged:</th>             <td>True</td>       <th>  LL-Null:           </th> <td> -966.75</td> \n",
       "</tr>\n",
       "<tr>\n",
       "  <th>Covariance Type:</th>     <td>nonrobust</td>    <th>  LLR p-value:       </th> <td>4.750e-06</td>\n",
       "</tr>\n",
       "</table>\n",
       "<table class=\"simpletable\">\n",
       "<tr>\n",
       "        <td></td>          <th>coef</th>     <th>std err</th>      <th>z</th>      <th>P>|z|</th>  <th>[0.025</th>    <th>0.975]</th>  \n",
       "</tr>\n",
       "<tr>\n",
       "  <th>Intercept</th>    <td>   -1.1229</td> <td>    0.256</td> <td>   -4.378</td> <td> 0.000</td> <td>   -1.625</td> <td>   -0.620</td>\n",
       "</tr>\n",
       "<tr>\n",
       "  <th>extraversion</th> <td>    0.0663</td> <td>    0.014</td> <td>    4.651</td> <td> 0.000</td> <td>    0.038</td> <td>    0.094</td>\n",
       "</tr>\n",
       "<tr>\n",
       "  <th>neuroticism</th>  <td>    0.0064</td> <td>    0.011</td> <td>    0.560</td> <td> 0.575</td> <td>   -0.016</td> <td>    0.029</td>\n",
       "</tr>\n",
       "<tr>\n",
       "  <th>sex_male</th>     <td>   -0.2352</td> <td>    0.111</td> <td>   -2.115</td> <td> 0.034</td> <td>   -0.453</td> <td>   -0.017</td>\n",
       "</tr>\n",
       "</table>"
      ],
      "text/plain": [
       "<class 'statsmodels.iolib.summary.Summary'>\n",
       "\"\"\"\n",
       "                           Logit Regression Results                           \n",
       "==============================================================================\n",
       "Dep. Variable:          volunteer_yes   No. Observations:                 1421\n",
       "Model:                          Logit   Df Residuals:                     1417\n",
       "Method:                           MLE   Df Model:                            3\n",
       "Date:                Thu, 11 Nov 2021   Pseudo R-squ.:                 0.01419\n",
       "Time:                        11:17:23   Log-Likelihood:                -953.03\n",
       "converged:                       True   LL-Null:                       -966.75\n",
       "Covariance Type:            nonrobust   LLR p-value:                 4.750e-06\n",
       "================================================================================\n",
       "                   coef    std err          z      P>|z|      [0.025      0.975]\n",
       "--------------------------------------------------------------------------------\n",
       "Intercept       -1.1229      0.256     -4.378      0.000      -1.625      -0.620\n",
       "extraversion     0.0663      0.014      4.651      0.000       0.038       0.094\n",
       "neuroticism      0.0064      0.011      0.560      0.575      -0.016       0.029\n",
       "sex_male        -0.2352      0.111     -2.115      0.034      -0.453      -0.017\n",
       "================================================================================\n",
       "\"\"\""
      ]
     },
     "execution_count": 6,
     "metadata": {},
     "output_type": "execute_result"
    }
   ],
   "source": [
    "import statsmodels.formula.api as smf\n",
    "\n",
    "model = smf.logit(\"volunteer_yes ~ extraversion + neuroticism + sex_male\", data = cowles_data).fit()\n",
    "model.summary()"
   ]
  },
  {
   "cell_type": "markdown",
   "metadata": {
    "slideshow": {
     "slide_type": "fragment"
    }
   },
   "source": [
    "Podemos apreciar que el modelo es estadísticamente significativo. Sin embargo, en términos prácticos vemos que el modelo no tiene un poder explicativo bajo (Pseudo $R^{2}$ = 0.01)."
   ]
  },
  {
   "cell_type": "markdown",
   "metadata": {
    "slideshow": {
     "slide_type": "subslide"
    }
   },
   "source": [
    "Por otra parte, podemos evaluar el impacto de cada observación en el ajuste y los coeficientes del modelo:\n",
    "\n",
    "- Ambos residuos (Pearson y desviación) reflejan diferencias estandarizadas entre probabilidades predichas y valor de resultado (0 y 1). Los valores superiores a 2 merecen mayor atención."
   ]
  },
  {
   "cell_type": "markdown",
   "metadata": {
    "slideshow": {
     "slide_type": "subslide"
    }
   },
   "source": [
    "Veamos el impacto de cada observación en nuestro ejemplo:"
   ]
  },
  {
   "cell_type": "code",
   "execution_count": 7,
   "metadata": {
    "hideCode": true,
    "hidePrompt": true,
    "slideshow": {
     "slide_type": "fragment"
    }
   },
   "outputs": [
    {
     "name": "stderr",
     "output_type": "stream",
     "text": [
      "/home/renato/.virtualenvs/statspsych/lib/python3.8/site-packages/seaborn/_decorators.py:36: FutureWarning: Pass the following variables as keyword args: x, y. From version 0.12, the only valid positional argument will be `data`, and passing other arguments without an explicit keyword will result in an error or misinterpretation.\n",
      "  warnings.warn(\n"
     ]
    },
    {
     "data": {
      "text/plain": [
       "Text(0, 0.5, 'Deviance Residuals')"
      ]
     },
     "execution_count": 7,
     "metadata": {},
     "output_type": "execute_result"
    },
    {
     "data": {
      "image/png": "[encoded data removed]",
      "text/plain": [
       "<Figure size 432x288 with 1 Axes>"
      ]
     },
     "metadata": {
      "needs_background": "light"
     },
     "output_type": "display_data"
    }
   ],
   "source": [
    "import statsmodels.api as sm\n",
    "import seaborn as sns\n",
    "\n",
    "ax = sns.residplot(model.fittedvalues,model.resid_dev, lowess=True);\n",
    "ax.set_title(\"Deviance Residuals \\n against Fitted Values\")\n",
    "ax.set_xlabel(\"Linear Predictor Values\")\n",
    "ax.set_ylabel(\"Deviance Residuals\")"
   ]
  },
  {
   "cell_type": "markdown",
   "metadata": {
    "slideshow": {
     "slide_type": "fragment"
    }
   },
   "source": [
    "La linea continua se aproxima a cero, lo cual nos indica que no hay una inadecuación significativa del modelo. Además, podemos apreciar que los residuos no superan en valor absoluto a 2, por lo que no habría una observación influyente destacada. "
   ]
  },
  {
   "cell_type": "markdown",
   "metadata": {
    "slideshow": {
     "slide_type": "slide"
    }
   },
   "source": [
    "### Interpretación\n",
    "\n",
    "#### Interpretación de los coeficientes\n",
    "\n",
    "Los coeficientes se expresan de dos formas: original y exponencial para ayudar en la interpretación. La interpretación de los coeficientes de dirección y magnitud es la siguiente:\n",
    "\n",
    "- La dirección se puede evaluar directamente en los coeficientes originales (signos positivos o negativos).\n",
    "\n",
    "- La magnitud se evalúa mejor mediante el coeficiente exponencial, con el cambio porcentual en la variable dependiente mostrado por:\n",
    "$$ Cambio\\ porcentual = (e^{coeficiente} - 1.0) \\times 100 $$"
   ]
  },
  {
   "cell_type": "markdown",
   "metadata": {
    "slideshow": {
     "slide_type": "subslide"
    }
   },
   "source": [
    "Evaluemos los coeficientes en nuestro ejemplo:"
   ]
  },
  {
   "cell_type": "code",
   "execution_count": 8,
   "metadata": {
    "hideCode": true,
    "hidePrompt": true,
    "slideshow": {
     "slide_type": "fragment"
    }
   },
   "outputs": [
    {
     "data": {
      "text/plain": [
       "Intercept      -67.465145\n",
       "extraversion     6.857438\n",
       "neuroticism      0.638215\n",
       "sex_male       -20.955677\n",
       "dtype: float64"
      ]
     },
     "execution_count": 8,
     "metadata": {},
     "output_type": "execute_result"
    }
   ],
   "source": [
    "import numpy as np\n",
    "(np.exp(model.params) - 1) * 100"
   ]
  },
  {
   "cell_type": "markdown",
   "metadata": {
    "slideshow": {
     "slide_type": "fragment"
    }
   },
   "source": [
    "Podemos apreciar que el puntaje de extraversión aumenta en un 6% las posibilidades de que los individuos participen en el experimento. Del mismo modo, el ser varón reduce en un 20% las posibilidades de que un individuo participe en el experimento."
   ]
  },
  {
   "cell_type": "markdown",
   "metadata": {
    "slideshow": {
     "slide_type": "slide"
    }
   },
   "source": [
    "## MANOVA\n",
    "\n",
    "MANOVA es una extensión de ANOVA que **examina el efecto de una o más variables independientes no métricas sobre dos o más variables dependientes métricas**.\n",
    "\n",
    "El enfoque de MANOVA y ANOVA se encuentra típicamente en una única o muy pequeña cantidad de variables independientes (es decir, una relación de resultado de tratamiento específico) con todas las otras variables que impactan la relación de alguna manera."
   ]
  },
  {
   "cell_type": "markdown",
   "metadata": {
    "slideshow": {
     "slide_type": "subslide"
    }
   },
   "source": [
    "### Nociones previas\n",
    "\n",
    "**Análisis de Varianza (ANOVA)**\n",
    "\n",
    "$ Y_{1} = X_{1} + X_{2} + X_{3} + ... + X_{n} $\n",
    "\n",
    "*(cuantitativa) = (categórica)*\n",
    "\n",
    "**Análisis de Varianza Múltiple (MANOVA)**\n",
    "\n",
    "$ Y_{1} + Y_{2} + Y_{3} + ... + Y_{n} = X_{1} + X_{2} + X_{3} + ... + X_{n} $\n",
    "\n",
    "*(cuantitativa) = (categórica,cuantitativa)*"
   ]
  },
  {
   "cell_type": "markdown",
   "metadata": {
    "slideshow": {
     "slide_type": "subslide"
    }
   },
   "source": [
    "Veamos cómo se posicionan estos modelos en relación a la cantidad de variables dependientes e independientes:\n",
    "\n",
    "|                  | Univariado | Multivariado         |\n",
    "|------------------|------------|----------------------|\n",
    "| Dos grupos       | Prueba t   | $T^{2}$ de Hotelling |\n",
    "| Dos o más grupos | ANOVA      | MANOVA               |"
   ]
  },
  {
   "cell_type": "markdown",
   "metadata": {
    "slideshow": {
     "slide_type": "slide"
    }
   },
   "source": [
    "Gráficamente, la $T^{2}$ extiende a la prueba t de la siguiente manera:\n",
    "\n",
    "<p align=\"center\">\n",
    "  <img width=\"900\" src=\"https://github.com/renatoparedes/EstadisticaYPsicologiaMatematica/raw/main/Regresiones/Hotelling.png\" alt=\"Variable Types\">\n",
    "</p>"
   ]
  },
  {
   "cell_type": "markdown",
   "metadata": {
    "slideshow": {
     "slide_type": "subslide"
    }
   },
   "source": [
    "Y evalúa su significancia siguiendo:\n",
    "\n",
    "$$ T^{2}_{crit} =  \\frac{ p(N_{1} + N_{2} - 2) }{ N_{1} + N_{2} - p - 1 } \\times F_{crit} $$"
   ]
  },
  {
   "cell_type": "markdown",
   "metadata": {
    "slideshow": {
     "slide_type": "subslide"
    }
   },
   "source": [
    "La $T^{2}$ de Hotelling se generaliza a dos o más grupos aplicando estadísticos propios del análisis discriminante. Por ahora, basta decir que el MANOVA evalúa la hipótesis nula:\n",
    "\n",
    "$$ H_{0}: \\begin{pmatrix}\n",
    "\\mu_{11} \\\\ \n",
    "\\mu_{21} \\\\ \n",
    "\\vdots  \\\\ \n",
    "\\mu_{p1}\n",
    "\\end{pmatrix} = \\begin{pmatrix}\n",
    "\\mu_{12} \\\\ \n",
    "\\mu_{22} \\\\ \n",
    "\\vdots  \\\\ \n",
    "\\mu_{p2}\n",
    "\\end{pmatrix} = \\ \\cdots  \\ = \\begin{pmatrix}\n",
    "\\mu_{1k} \\\\ \n",
    "\\mu_{2k} \\\\ \n",
    "\\vdots  \\\\ \n",
    "\\mu_{pk}\n",
    "\\end{pmatrix}  $$\n",
    "\n",
    "donde $\\mu_{pk}$ representa la media de la variable $p$ en el grupo $k$. \n",
    "\n",
    "La $H_{0}$ plantea que todos los vectores de las medias de los grupos son iguales. Es decir, provienen de la misma población."
   ]
  },
  {
   "cell_type": "markdown",
   "metadata": {
    "slideshow": {
     "slide_type": "slide"
    }
   },
   "source": [
    "Además de la capacidad de analizar múltiples variables dependientes, MANOVA también tiene las ventajas de:\n",
    "- Controlar la tasa de error de todo el experimento cuando existe algún grado de intercorrelación entre las variables dependientes.\n",
    "- Proporciona más poder estadístico que ANOVA cuando el número de variables dependientes es cinco o menos.\n",
    "- Las variables independientes no métricas crean grupos entre los que se comparan las variables dependientes; muchas veces los grupos representan variables experimentales o \"efectos del tratamiento\".\n",
    "- Los investigadores deben incluir solo variables dependientes que tengan un fuerte apoyo teórico."
   ]
  },
  {
   "cell_type": "markdown",
   "metadata": {
    "slideshow": {
     "slide_type": "slide"
    }
   },
   "source": [
    "### Diseño\n",
    "\n",
    "Varios enfoques de investigación son aplicables al análisis ANOVA / MANOVA:\n",
    "- Los diseños aleatorios, como los experimentos controlados y los experimentos de campo, están más estrechamente asociados con estas técnicas.\n",
    "- Incluso los estudios observacionales proporcionan datos que pueden analizarse con técnicas especializadas para permitir inferencias válidas de efectos específicos.\n",
    "- Los diseños no aleatorios, como los experimentos naturales y los cuasiexperimentos, aplican algunos de los principios del diseño experimental para centrarse en efectos específicos."
   ]
  },
  {
   "cell_type": "markdown",
   "metadata": {
    "slideshow": {
     "slide_type": "subslide"
    }
   },
   "source": [
    "Si bien el enfoque principal está en el efecto principal (es decir, la relación entre el tratamiento/variable independiente y la variable dependiente/resultado), también se consideran variables y relaciones adicionales:\n",
    "- Efectos explicativos adicionales como moderación y mediación.\n",
    "- Control de influencias externas mediante covariables y factores de bloqueo.\n",
    "- Variables externas como factores de confusión y variables instrumentales."
   ]
  },
  {
   "cell_type": "markdown",
   "metadata": {
    "slideshow": {
     "slide_type": "subslide"
    }
   },
   "source": [
    "**Las celdas (condiciones) están formadas por la combinación de variables independientes**. \n",
    "\n",
    "Por ejemplo, una variable no métrica de tres categorías (p.e. baja, media, alta) combinada con una variable no métrica de dos categorías (p.e. masculino, femenino) dará como resultado un diseño 3x2 con seis celdas."
   ]
  },
  {
   "cell_type": "markdown",
   "metadata": {
    "slideshow": {
     "slide_type": "subslide"
    }
   },
   "source": [
    "El tamaño de la muestra por celda es un problema de diseño crítico:\n",
    "- El tamaño mínimo de la muestra por celda debe ser mayor que el número de variables dependientes.\n",
    "- El tamaño de celda mínimo recomendado es de 20 observaciones por celda.\n",
    "- Los investigadores deben intentar tener diseños equilibrados (tamaños de muestra iguales por celda)."
   ]
  },
  {
   "cell_type": "markdown",
   "metadata": {
    "slideshow": {
     "slide_type": "subslide"
    }
   },
   "source": [
    "De todos modos, es importante considerar la potencia a priori (Hair et al., 2019):\n",
    "\n",
    "\n",
    "<p align=\"center\">\n",
    "  <img width=\"900\" src=\"https://github.com/renatoparedes/EstadisticaYPsicologiaMatematica/raw/main/Regresiones/MANOVApower.png\" alt=\"Variable Types\">\n",
    "</p>"
   ]
  },
  {
   "cell_type": "markdown",
   "metadata": {
    "slideshow": {
     "slide_type": "subslide"
    }
   },
   "source": [
    "Mantener un poder estadístico adecuado es fundamental:\n",
    "- La potencia en el rango de .80 para el nivel alfa seleccionado es aceptable.\n",
    "- Cuando el tamaño del efecto es pequeño, el investigador debe usar tamaños de muestra más grandes por grupo para mantener niveles aceptables de poder estadístico."
   ]
  },
  {
   "cell_type": "markdown",
   "metadata": {
    "slideshow": {
     "slide_type": "slide"
    }
   },
   "source": [
    "### Supuestos\n",
    "\n",
    "Para que los procedimientos multivariados utilizados con MANOVA sean válidos:\n",
    "- Las observaciones deben ser independientes.\n",
    "- Las matrices de varianza-covarianza deben ser iguales (o comparables) para todos los grupos de tratamiento.\n",
    "- Las variables dependientes deben tener una distribución normal multivariante.\n",
    "- La normalidad univariada no garantiza la normalidad multivariada, pero si todas las variables cumplen con el requisito de normalidad univariante, las desviaciones de la normalidad multivariante son intrascendentes.\n",
    "- Esfericidad: Las variables dependientes deben tener correlaciones significativas.\n",
    "- Multicolinearidad: No debe haber correlaciones muy altas (> 0.9) entre las variables dependientes."
   ]
  },
  {
   "cell_type": "markdown",
   "metadata": {
    "slideshow": {
     "slide_type": "subslide"
    }
   },
   "source": [
    "Algunos puntos a tomar en cuenta:\n",
    "- En general, **las pruebas F son generalmente sólidas si las violaciones de estos supuestos son modestas**. \n",
    "- Los valores atípicos pueden tener una influencia sustancial en los resultados y deben identificarse y potencialmente eliminarse."
   ]
  },
  {
   "cell_type": "markdown",
   "metadata": {
    "slideshow": {
     "slide_type": "slide"
    }
   },
   "source": [
    "Revisemos estos supuestos a través de un ejemplo. En este caso queremos implementar un modelo MANOVA de la forma: \n",
    "\n",
    "$$ Y_{satisfaction} + Y_{recommend} + Y_{purchase} = X_{customer \\ type} + X_{dis \\ sys} $$"
   ]
  },
  {
   "cell_type": "code",
   "execution_count": 9,
   "metadata": {
    "hideCode": true,
    "hidePrompt": true,
    "slideshow": {
     "slide_type": "subslide"
    }
   },
   "outputs": [
    {
     "data": {
      "text/html": [
       "<div>\n",
       "<style scoped>\n",
       "    .dataframe tbody tr th:only-of-type {\n",
       "        vertical-align: middle;\n",
       "    }\n",
       "\n",
       "    .dataframe tbody tr th {\n",
       "        vertical-align: top;\n",
       "    }\n",
       "\n",
       "    .dataframe thead th {\n",
       "        text-align: right;\n",
       "    }\n",
       "</style>\n",
       "<table border=\"1\" class=\"dataframe\">\n",
       "  <thead>\n",
       "    <tr style=\"text-align: right;\">\n",
       "      <th></th>\n",
       "      <th>customer_type</th>\n",
       "      <th>dis_sys</th>\n",
       "      <th>satisfaction</th>\n",
       "      <th>recommend</th>\n",
       "      <th>purchase</th>\n",
       "    </tr>\n",
       "  </thead>\n",
       "  <tbody>\n",
       "    <tr>\n",
       "      <th>0</th>\n",
       "      <td>1 to 5 years</td>\n",
       "      <td>Direct to customer</td>\n",
       "      <td>8.2</td>\n",
       "      <td>8.0</td>\n",
       "      <td>8.4</td>\n",
       "    </tr>\n",
       "    <tr>\n",
       "      <th>1</th>\n",
       "      <td>Over 5 years</td>\n",
       "      <td>Indirect through broker</td>\n",
       "      <td>5.7</td>\n",
       "      <td>6.5</td>\n",
       "      <td>7.5</td>\n",
       "    </tr>\n",
       "    <tr>\n",
       "      <th>2</th>\n",
       "      <td>Over 5 years</td>\n",
       "      <td>Direct to customer</td>\n",
       "      <td>8.9</td>\n",
       "      <td>8.4</td>\n",
       "      <td>9.0</td>\n",
       "    </tr>\n",
       "    <tr>\n",
       "      <th>3</th>\n",
       "      <td>Less than 1 year</td>\n",
       "      <td>Indirect through broker</td>\n",
       "      <td>4.8</td>\n",
       "      <td>6.0</td>\n",
       "      <td>7.2</td>\n",
       "    </tr>\n",
       "    <tr>\n",
       "      <th>4</th>\n",
       "      <td>1 to 5 years</td>\n",
       "      <td>Direct to customer</td>\n",
       "      <td>7.1</td>\n",
       "      <td>6.6</td>\n",
       "      <td>9.0</td>\n",
       "    </tr>\n",
       "    <tr>\n",
       "      <th>...</th>\n",
       "      <td>...</td>\n",
       "      <td>...</td>\n",
       "      <td>...</td>\n",
       "      <td>...</td>\n",
       "      <td>...</td>\n",
       "    </tr>\n",
       "    <tr>\n",
       "      <th>95</th>\n",
       "      <td>Less than 1 year</td>\n",
       "      <td>Direct to customer</td>\n",
       "      <td>7.3</td>\n",
       "      <td>8.1</td>\n",
       "      <td>8.1</td>\n",
       "    </tr>\n",
       "    <tr>\n",
       "      <th>96</th>\n",
       "      <td>Less than 1 year</td>\n",
       "      <td>Direct to customer</td>\n",
       "      <td>6.3</td>\n",
       "      <td>5.5</td>\n",
       "      <td>7.2</td>\n",
       "    </tr>\n",
       "    <tr>\n",
       "      <th>97</th>\n",
       "      <td>Less than 1 year</td>\n",
       "      <td>Direct to customer</td>\n",
       "      <td>5.4</td>\n",
       "      <td>7.0</td>\n",
       "      <td>7.7</td>\n",
       "    </tr>\n",
       "    <tr>\n",
       "      <th>98</th>\n",
       "      <td>1 to 5 years</td>\n",
       "      <td>Direct to customer</td>\n",
       "      <td>6.4</td>\n",
       "      <td>7.1</td>\n",
       "      <td>7.4</td>\n",
       "    </tr>\n",
       "    <tr>\n",
       "      <th>99</th>\n",
       "      <td>1 to 5 years</td>\n",
       "      <td>Indirect through broker</td>\n",
       "      <td>6.4</td>\n",
       "      <td>7.3</td>\n",
       "      <td>7.0</td>\n",
       "    </tr>\n",
       "  </tbody>\n",
       "</table>\n",
       "<p>100 rows × 5 columns</p>\n",
       "</div>"
      ],
      "text/plain": [
       "       customer_type                  dis_sys satisfaction recommend purchase\n",
       "0       1 to 5 years       Direct to customer          8.2       8.0      8.4\n",
       "1       Over 5 years  Indirect through broker          5.7       6.5      7.5\n",
       "2       Over 5 years       Direct to customer          8.9       8.4      9.0\n",
       "3   Less than 1 year  Indirect through broker          4.8       6.0      7.2\n",
       "4       1 to 5 years       Direct to customer          7.1       6.6      9.0\n",
       "..               ...                      ...          ...       ...      ...\n",
       "95  Less than 1 year       Direct to customer          7.3       8.1      8.1\n",
       "96  Less than 1 year       Direct to customer          6.3       5.5      7.2\n",
       "97  Less than 1 year       Direct to customer          5.4       7.0      7.7\n",
       "98      1 to 5 years       Direct to customer          6.4       7.1      7.4\n",
       "99      1 to 5 years  Indirect through broker          6.4       7.3      7.0\n",
       "\n",
       "[100 rows x 5 columns]"
      ]
     },
     "execution_count": 9,
     "metadata": {},
     "output_type": "execute_result"
    }
   ],
   "source": [
    "df = pd.read_spss(\"HBAT.sav\")\n",
    "df = df[[\"x1\",\"x5\",\"x19\",\"x20\",\"x21\"]]\n",
    "df.rename(columns={'x1': 'customer_type', 'x5':'dis_sys', 'x19':'satisfaction', 'x20':'recommend', 'x21':'purchase'}, inplace=True)\n",
    "uncoded_df = df.copy()\n",
    "uncoded_df"
   ]
  },
  {
   "cell_type": "code",
   "execution_count": 10,
   "metadata": {
    "hideCode": false,
    "hidePrompt": false,
    "slideshow": {
     "slide_type": "skip"
    }
   },
   "outputs": [
    {
     "data": {
      "text/html": [
       "<div>\n",
       "<style scoped>\n",
       "    .dataframe tbody tr th:only-of-type {\n",
       "        vertical-align: middle;\n",
       "    }\n",
       "\n",
       "    .dataframe tbody tr th {\n",
       "        vertical-align: top;\n",
       "    }\n",
       "\n",
       "    .dataframe thead th {\n",
       "        text-align: right;\n",
       "    }\n",
       "</style>\n",
       "<table border=\"1\" class=\"dataframe\">\n",
       "  <thead>\n",
       "    <tr style=\"text-align: right;\">\n",
       "      <th></th>\n",
       "      <th>customer_type</th>\n",
       "      <th>dis_sys</th>\n",
       "      <th>satisfaction</th>\n",
       "      <th>recommend</th>\n",
       "      <th>purchase</th>\n",
       "    </tr>\n",
       "  </thead>\n",
       "  <tbody>\n",
       "    <tr>\n",
       "      <th>0</th>\n",
       "      <td>0.0</td>\n",
       "      <td>0.0</td>\n",
       "      <td>8.2</td>\n",
       "      <td>8.0</td>\n",
       "      <td>8.4</td>\n",
       "    </tr>\n",
       "    <tr>\n",
       "      <th>1</th>\n",
       "      <td>2.0</td>\n",
       "      <td>1.0</td>\n",
       "      <td>5.7</td>\n",
       "      <td>6.5</td>\n",
       "      <td>7.5</td>\n",
       "    </tr>\n",
       "    <tr>\n",
       "      <th>2</th>\n",
       "      <td>2.0</td>\n",
       "      <td>0.0</td>\n",
       "      <td>8.9</td>\n",
       "      <td>8.4</td>\n",
       "      <td>9.0</td>\n",
       "    </tr>\n",
       "    <tr>\n",
       "      <th>3</th>\n",
       "      <td>1.0</td>\n",
       "      <td>1.0</td>\n",
       "      <td>4.8</td>\n",
       "      <td>6.0</td>\n",
       "      <td>7.2</td>\n",
       "    </tr>\n",
       "    <tr>\n",
       "      <th>4</th>\n",
       "      <td>0.0</td>\n",
       "      <td>0.0</td>\n",
       "      <td>7.1</td>\n",
       "      <td>6.6</td>\n",
       "      <td>9.0</td>\n",
       "    </tr>\n",
       "    <tr>\n",
       "      <th>...</th>\n",
       "      <td>...</td>\n",
       "      <td>...</td>\n",
       "      <td>...</td>\n",
       "      <td>...</td>\n",
       "      <td>...</td>\n",
       "    </tr>\n",
       "    <tr>\n",
       "      <th>95</th>\n",
       "      <td>1.0</td>\n",
       "      <td>0.0</td>\n",
       "      <td>7.3</td>\n",
       "      <td>8.1</td>\n",
       "      <td>8.1</td>\n",
       "    </tr>\n",
       "    <tr>\n",
       "      <th>96</th>\n",
       "      <td>1.0</td>\n",
       "      <td>0.0</td>\n",
       "      <td>6.3</td>\n",
       "      <td>5.5</td>\n",
       "      <td>7.2</td>\n",
       "    </tr>\n",
       "    <tr>\n",
       "      <th>97</th>\n",
       "      <td>1.0</td>\n",
       "      <td>0.0</td>\n",
       "      <td>5.4</td>\n",
       "      <td>7.0</td>\n",
       "      <td>7.7</td>\n",
       "    </tr>\n",
       "    <tr>\n",
       "      <th>98</th>\n",
       "      <td>0.0</td>\n",
       "      <td>0.0</td>\n",
       "      <td>6.4</td>\n",
       "      <td>7.1</td>\n",
       "      <td>7.4</td>\n",
       "    </tr>\n",
       "    <tr>\n",
       "      <th>99</th>\n",
       "      <td>0.0</td>\n",
       "      <td>1.0</td>\n",
       "      <td>6.4</td>\n",
       "      <td>7.3</td>\n",
       "      <td>7.0</td>\n",
       "    </tr>\n",
       "  </tbody>\n",
       "</table>\n",
       "<p>100 rows × 5 columns</p>\n",
       "</div>"
      ],
      "text/plain": [
       "    customer_type  dis_sys  satisfaction  recommend  purchase\n",
       "0             0.0      0.0           8.2        8.0       8.4\n",
       "1             2.0      1.0           5.7        6.5       7.5\n",
       "2             2.0      0.0           8.9        8.4       9.0\n",
       "3             1.0      1.0           4.8        6.0       7.2\n",
       "4             0.0      0.0           7.1        6.6       9.0\n",
       "..            ...      ...           ...        ...       ...\n",
       "95            1.0      0.0           7.3        8.1       8.1\n",
       "96            1.0      0.0           6.3        5.5       7.2\n",
       "97            1.0      0.0           5.4        7.0       7.7\n",
       "98            0.0      0.0           6.4        7.1       7.4\n",
       "99            0.0      1.0           6.4        7.3       7.0\n",
       "\n",
       "[100 rows x 5 columns]"
      ]
     },
     "execution_count": 10,
     "metadata": {},
     "output_type": "execute_result"
    }
   ],
   "source": [
    "df['dis_sys'] = df.dis_sys.cat.codes\n",
    "df['customer_type'] = df.customer_type.cat.codes\n",
    "df.dropna(inplace=True)\n",
    "df = df.astype('float')\n",
    "df"
   ]
  },
  {
   "cell_type": "code",
   "execution_count": 11,
   "metadata": {
    "hideCode": true,
    "hidePrompt": true,
    "slideshow": {
     "slide_type": "subslide"
    }
   },
   "outputs": [
    {
     "data": {
      "image/png": "[encoded data removed]",
      "text/plain": [
       "<Figure size 432x288 with 1 Axes>"
      ]
     },
     "metadata": {
      "needs_background": "light"
     },
     "output_type": "display_data"
    },
    {
     "data": {
      "image/png": "[encoded data removed]",
      "text/plain": [
       "<Figure size 432x288 with 1 Axes>"
      ]
     },
     "metadata": {
      "needs_background": "light"
     },
     "output_type": "display_data"
    },
    {
     "data": {
      "image/png": "[encoded data removed]",
      "text/plain": [
       "<Figure size 432x288 with 1 Axes>"
      ]
     },
     "metadata": {
      "needs_background": "light"
     },
     "output_type": "display_data"
    }
   ],
   "source": [
    "import seaborn as sns\n",
    "import matplotlib.pyplot as plt\n",
    "\n",
    "# Create list of dependent and independent variables\n",
    "dep_vars = ['satisfaction','recommend','purchase']\n",
    "ind_vars = ['customer_type', 'dis_sys']\n",
    "\n",
    "# Generate plots\n",
    "for i in range(len(dep_vars)):\n",
    "    dvar = dep_vars[i]\n",
    "    plt.figure(i)\n",
    "    ax = sns.boxplot(x='customer_type', y=dvar, hue='dis_sys', data=df);\n",
    "    plt.xticks(range(uncoded_df.customer_type.values.categories.size), uncoded_df.customer_type.values.categories)\n",
    "    handles, labels = ax.get_legend_handles_labels()\n",
    "    plt.legend(handles, uncoded_df.dis_sys.values.categories)"
   ]
  },
  {
   "cell_type": "markdown",
   "metadata": {
    "slideshow": {
     "slide_type": "subslide"
    }
   },
   "source": [
    "Evaluemos la normalidad multivariante:"
   ]
  },
  {
   "cell_type": "code",
   "execution_count": 12,
   "metadata": {
    "hideCode": true,
    "hidePrompt": true,
    "slideshow": {
     "slide_type": "fragment"
    }
   },
   "outputs": [
    {
     "data": {
      "text/plain": [
       "HZResults(hz=0.7414672119539445, pval=0.40794545422166156, normal=True)"
      ]
     },
     "execution_count": 12,
     "metadata": {},
     "output_type": "execute_result"
    }
   ],
   "source": [
    "import pingouin as pg\n",
    "\n",
    "# Compute multivariate normality\n",
    "pg.multivariate_normality(df[dep_vars])"
   ]
  },
  {
   "cell_type": "markdown",
   "metadata": {
    "slideshow": {
     "slide_type": "fragment"
    }
   },
   "source": [
    "Según la prueba de Henze-Zirkler, las variables dependientes cumplen el supuesto de normalidad multivariante. "
   ]
  },
  {
   "cell_type": "markdown",
   "metadata": {
    "slideshow": {
     "slide_type": "subslide"
    }
   },
   "source": [
    "Evaluemos ahora la normalidad univariante:"
   ]
  },
  {
   "cell_type": "code",
   "execution_count": 13,
   "metadata": {
    "hideCode": true,
    "hidePrompt": true,
    "slideshow": {
     "slide_type": "fragment"
    }
   },
   "outputs": [
    {
     "data": {
      "text/html": [
       "<div>\n",
       "<style scoped>\n",
       "    .dataframe tbody tr th:only-of-type {\n",
       "        vertical-align: middle;\n",
       "    }\n",
       "\n",
       "    .dataframe tbody tr th {\n",
       "        vertical-align: top;\n",
       "    }\n",
       "\n",
       "    .dataframe thead th {\n",
       "        text-align: right;\n",
       "    }\n",
       "</style>\n",
       "<table border=\"1\" class=\"dataframe\">\n",
       "  <thead>\n",
       "    <tr style=\"text-align: right;\">\n",
       "      <th></th>\n",
       "      <th>W</th>\n",
       "      <th>pval</th>\n",
       "      <th>normal</th>\n",
       "    </tr>\n",
       "  </thead>\n",
       "  <tbody>\n",
       "    <tr>\n",
       "      <th>satisfaction</th>\n",
       "      <td>6.261709</td>\n",
       "      <td>0.043680</td>\n",
       "      <td>False</td>\n",
       "    </tr>\n",
       "    <tr>\n",
       "      <th>recommend</th>\n",
       "      <td>0.035552</td>\n",
       "      <td>0.982381</td>\n",
       "      <td>True</td>\n",
       "    </tr>\n",
       "    <tr>\n",
       "      <th>purchase</th>\n",
       "      <td>0.157842</td>\n",
       "      <td>0.924113</td>\n",
       "      <td>True</td>\n",
       "    </tr>\n",
       "  </tbody>\n",
       "</table>\n",
       "</div>"
      ],
      "text/plain": [
       "                     W      pval  normal\n",
       "satisfaction  6.261709  0.043680   False\n",
       "recommend     0.035552  0.982381    True\n",
       "purchase      0.157842  0.924113    True"
      ]
     },
     "execution_count": 13,
     "metadata": {},
     "output_type": "execute_result"
    }
   ],
   "source": [
    "# Compute univariate normality\n",
    "pg.normality(df[dep_vars], method='normaltest')"
   ]
  },
  {
   "cell_type": "markdown",
   "metadata": {
    "slideshow": {
     "slide_type": "fragment"
    }
   },
   "source": [
    "Múltiples pruebas de D'Agostino y Pearson indican que las variables independientes siguen una distribución normal a excepción de `satisfaction`. Para efectos de este ejemplo, proseguiremos con este análisis. "
   ]
  },
  {
   "cell_type": "markdown",
   "metadata": {
    "slideshow": {
     "slide_type": "subslide"
    }
   },
   "source": [
    "Ahora evaluemos la homogeneidad de matrices de covarianza de las variables dependientes para cada una de las variables independientes:"
   ]
  },
  {
   "cell_type": "code",
   "execution_count": 14,
   "metadata": {
    "hideCode": true,
    "hidePrompt": true,
    "slideshow": {
     "slide_type": "fragment"
    }
   },
   "outputs": [
    {
     "data": {
      "text/html": [
       "<div>\n",
       "<style scoped>\n",
       "    .dataframe tbody tr th:only-of-type {\n",
       "        vertical-align: middle;\n",
       "    }\n",
       "\n",
       "    .dataframe tbody tr th {\n",
       "        vertical-align: top;\n",
       "    }\n",
       "\n",
       "    .dataframe thead th {\n",
       "        text-align: right;\n",
       "    }\n",
       "</style>\n",
       "<table border=\"1\" class=\"dataframe\">\n",
       "  <thead>\n",
       "    <tr style=\"text-align: right;\">\n",
       "      <th></th>\n",
       "      <th>Chi2</th>\n",
       "      <th>df</th>\n",
       "      <th>pval</th>\n",
       "      <th>equal_cov</th>\n",
       "    </tr>\n",
       "  </thead>\n",
       "  <tbody>\n",
       "    <tr>\n",
       "      <th>customer_type</th>\n",
       "      <td>16.043628</td>\n",
       "      <td>12.0</td>\n",
       "      <td>0.189246</td>\n",
       "      <td>True</td>\n",
       "    </tr>\n",
       "    <tr>\n",
       "      <th>dis_sys</th>\n",
       "      <td>3.955950</td>\n",
       "      <td>6.0</td>\n",
       "      <td>0.682638</td>\n",
       "      <td>True</td>\n",
       "    </tr>\n",
       "  </tbody>\n",
       "</table>\n",
       "</div>"
      ],
      "text/plain": [
       "                    Chi2    df      pval  equal_cov\n",
       "customer_type  16.043628  12.0  0.189246       True\n",
       "dis_sys         3.955950   6.0  0.682638       True"
      ]
     },
     "execution_count": 14,
     "metadata": {},
     "output_type": "execute_result"
    }
   ],
   "source": [
    "# Compute multivariate homocedasticity\n",
    "multi_homoek = pd.DataFrame()\n",
    "for var in ind_vars:\n",
    "    frame = pg.box_m(data = df, dvs=dep_vars, group=var)\n",
    "    multi_homoek = multi_homoek.append(frame.rename(index={'box':var}))\n",
    "multi_homoek"
   ]
  },
  {
   "cell_type": "markdown",
   "metadata": {
    "slideshow": {
     "slide_type": "fragment"
    }
   },
   "source": [
    "Según la prueba de M de Box, se cumple el criterio de homogeneidad de matrices de varianza-covarianza en cada celda para ambas variables independientes."
   ]
  },
  {
   "cell_type": "markdown",
   "metadata": {
    "slideshow": {
     "slide_type": "subslide"
    }
   },
   "source": [
    "Examinemos ahora la homogeneidad de varianzas de cada una de las variables dependientes para cada variable independiente:"
   ]
  },
  {
   "cell_type": "code",
   "execution_count": 15,
   "metadata": {
    "hideCode": true,
    "hidePrompt": true,
    "slideshow": {
     "slide_type": "fragment"
    }
   },
   "outputs": [
    {
     "data": {
      "text/html": [
       "<div>\n",
       "<style scoped>\n",
       "    .dataframe tbody tr th:only-of-type {\n",
       "        vertical-align: middle;\n",
       "    }\n",
       "\n",
       "    .dataframe tbody tr th {\n",
       "        vertical-align: top;\n",
       "    }\n",
       "\n",
       "    .dataframe thead th {\n",
       "        text-align: right;\n",
       "    }\n",
       "</style>\n",
       "<table border=\"1\" class=\"dataframe\">\n",
       "  <thead>\n",
       "    <tr style=\"text-align: right;\">\n",
       "      <th></th>\n",
       "      <th>X</th>\n",
       "      <th>W</th>\n",
       "      <th>pval</th>\n",
       "      <th>equal_var</th>\n",
       "    </tr>\n",
       "  </thead>\n",
       "  <tbody>\n",
       "    <tr>\n",
       "      <th>satisfaction</th>\n",
       "      <td>customer_type</td>\n",
       "      <td>3.092878</td>\n",
       "      <td>0.049874</td>\n",
       "      <td>False</td>\n",
       "    </tr>\n",
       "    <tr>\n",
       "      <th>recommend</th>\n",
       "      <td>customer_type</td>\n",
       "      <td>1.231085</td>\n",
       "      <td>0.296497</td>\n",
       "      <td>True</td>\n",
       "    </tr>\n",
       "    <tr>\n",
       "      <th>purchase</th>\n",
       "      <td>customer_type</td>\n",
       "      <td>0.990543</td>\n",
       "      <td>0.375100</td>\n",
       "      <td>True</td>\n",
       "    </tr>\n",
       "    <tr>\n",
       "      <th>satisfaction</th>\n",
       "      <td>dis_sys</td>\n",
       "      <td>0.169753</td>\n",
       "      <td>0.681232</td>\n",
       "      <td>True</td>\n",
       "    </tr>\n",
       "    <tr>\n",
       "      <th>recommend</th>\n",
       "      <td>dis_sys</td>\n",
       "      <td>0.445196</td>\n",
       "      <td>0.506193</td>\n",
       "      <td>True</td>\n",
       "    </tr>\n",
       "    <tr>\n",
       "      <th>purchase</th>\n",
       "      <td>dis_sys</td>\n",
       "      <td>2.303917</td>\n",
       "      <td>0.132268</td>\n",
       "      <td>True</td>\n",
       "    </tr>\n",
       "  </tbody>\n",
       "</table>\n",
       "</div>"
      ],
      "text/plain": [
       "                          X         W      pval  equal_var\n",
       "satisfaction  customer_type  3.092878  0.049874      False\n",
       "recommend     customer_type  1.231085  0.296497       True\n",
       "purchase      customer_type  0.990543  0.375100       True\n",
       "satisfaction        dis_sys  0.169753  0.681232       True\n",
       "recommend           dis_sys  0.445196  0.506193       True\n",
       "purchase            dis_sys  2.303917  0.132268       True"
      ]
     },
     "execution_count": 15,
     "metadata": {},
     "output_type": "execute_result"
    }
   ],
   "source": [
    "from itertools import chain\n",
    "\n",
    "lev = pd.DataFrame()\n",
    "for ivar in ind_vars:\n",
    "    for dvar in dep_vars:\n",
    "        frame = pg.homoscedasticity(data = df, dv=dvar, group=ivar)\n",
    "        lev = lev.append(frame.rename(index={'levene':dvar}))\n",
    "lev.insert(0,'X', list(chain(*[ [i]*len(dep_vars) for i in ind_vars ])))        \n",
    "lev"
   ]
  },
  {
   "cell_type": "markdown",
   "metadata": {
    "slideshow": {
     "slide_type": "fragment"
    }
   },
   "source": [
    "Observamos que las varianzas de las variables dependientes son homogéneas cuando son agrupadas por cada variable independiente, a excepción de la variable `satisfaction` cuando es agrupada por la variable `customer_type`. Para efectos de este ejemplo, proseguiremos con el análisis."
   ]
  },
  {
   "cell_type": "markdown",
   "metadata": {
    "slideshow": {
     "slide_type": "subslide"
    }
   },
   "source": [
    "Evaluemos ahora las correlaciones entre las variables dependientes:"
   ]
  },
  {
   "cell_type": "code",
   "execution_count": 16,
   "metadata": {
    "hideCode": true,
    "hidePrompt": true,
    "slideshow": {
     "slide_type": "fragment"
    }
   },
   "outputs": [
    {
     "data": {
      "text/html": [
       "<div>\n",
       "<style scoped>\n",
       "    .dataframe tbody tr th:only-of-type {\n",
       "        vertical-align: middle;\n",
       "    }\n",
       "\n",
       "    .dataframe tbody tr th {\n",
       "        vertical-align: top;\n",
       "    }\n",
       "\n",
       "    .dataframe thead th {\n",
       "        text-align: right;\n",
       "    }\n",
       "</style>\n",
       "<table border=\"1\" class=\"dataframe\">\n",
       "  <thead>\n",
       "    <tr style=\"text-align: right;\">\n",
       "      <th></th>\n",
       "      <th>satisfaction</th>\n",
       "      <th>recommend</th>\n",
       "      <th>purchase</th>\n",
       "    </tr>\n",
       "  </thead>\n",
       "  <tbody>\n",
       "    <tr>\n",
       "      <th>satisfaction</th>\n",
       "      <td>1.000000</td>\n",
       "      <td>0.764279</td>\n",
       "      <td>0.731049</td>\n",
       "    </tr>\n",
       "    <tr>\n",
       "      <th>recommend</th>\n",
       "      <td>0.764279</td>\n",
       "      <td>1.000000</td>\n",
       "      <td>0.699923</td>\n",
       "    </tr>\n",
       "    <tr>\n",
       "      <th>purchase</th>\n",
       "      <td>0.731049</td>\n",
       "      <td>0.699923</td>\n",
       "      <td>1.000000</td>\n",
       "    </tr>\n",
       "  </tbody>\n",
       "</table>\n",
       "</div>"
      ],
      "text/plain": [
       "              satisfaction  recommend  purchase\n",
       "satisfaction      1.000000   0.764279  0.731049\n",
       "recommend         0.764279   1.000000  0.699923\n",
       "purchase          0.731049   0.699923  1.000000"
      ]
     },
     "execution_count": 16,
     "metadata": {},
     "output_type": "execute_result"
    }
   ],
   "source": [
    "df[dep_vars].corr()"
   ]
  },
  {
   "cell_type": "markdown",
   "metadata": {
    "slideshow": {
     "slide_type": "fragment"
    }
   },
   "source": [
    "Observamos que las variables dependientes están correlacionadas y no presentan correlaciones muy altas. "
   ]
  },
  {
   "cell_type": "markdown",
   "metadata": {
    "slideshow": {
     "slide_type": "subslide"
    }
   },
   "source": [
    "Veamos ahora si encontramos correlaciones significativas:"
   ]
  },
  {
   "cell_type": "code",
   "execution_count": 17,
   "metadata": {
    "hideCode": true,
    "hidePrompt": true,
    "slideshow": {
     "slide_type": "fragment"
    }
   },
   "outputs": [
    {
     "name": "stdout",
     "output_type": "stream",
     "text": [
      "Chi-squared:  173.02255896079998\n",
      "p-value:  1.4079593963240545e-37\n"
     ]
    }
   ],
   "source": [
    "from factor_analyzer.factor_analyzer import calculate_bartlett_sphericity\n",
    "\n",
    "statistic, p_value = calculate_bartlett_sphericity(df[dep_vars])\n",
    "print(\"Chi-squared: \", statistic)\n",
    "print(\"p-value: \", p_value)"
   ]
  },
  {
   "cell_type": "markdown",
   "metadata": {
    "slideshow": {
     "slide_type": "fragment"
    }
   },
   "source": [
    "La prueba de Bartlett indica que existen correlaciones significativas entre nuestras variables dependientes."
   ]
  },
  {
   "cell_type": "markdown",
   "metadata": {
    "slideshow": {
     "slide_type": "slide"
    }
   },
   "source": [
    "### Estimación y evaluación\n",
    "\n",
    "#### Selección de una medida estadística\n",
    "La medida preferida es la que es más inmune a las violaciones de los supuestos subyacentes a MANOVA y, sin embargo, mantiene el mayor poder. \n",
    "\n",
    "Cada medida se prefiere en diferentes situaciones:\n",
    "- El criterio de **Pillai o la lambda de Wilks**: cuando se cumplen las consideraciones de diseño básicas (tamaño de muestra adecuado, sin violaciones de supuestos, tamaños de celda aproximadamente iguales).\n",
    "- El criterio de **Pillai**: si el tamaño de la muestra disminuye, aparecen tamaños de celda desiguales o se viola la homogeneidad de las covarianzas.\n",
    "- El **gcr de Roy**: si todos los supuestos se cumplen estrictamente y las medidas dependientes son representativas de una sola dimensión de efectos."
   ]
  },
  {
   "cell_type": "markdown",
   "metadata": {
    "slideshow": {
     "slide_type": "subslide"
    }
   },
   "source": [
    "En la gran mayoría de las situaciones, todas las medidas estadísticas proporcionan conclusiones similares.\n",
    "\n",
    "Sin embargo, cuando se enfrentan a condiciones conflictivas, se pueden seleccionar medidas estadísticas que se ajusten a la situación que enfrenta el investigador."
   ]
  },
  {
   "cell_type": "markdown",
   "metadata": {
    "slideshow": {
     "slide_type": "subslide"
    }
   },
   "source": [
    "Ajustemos el modelo a partir de nuestro ejemplo:"
   ]
  },
  {
   "cell_type": "code",
   "execution_count": 18,
   "metadata": {
    "hideCode": true,
    "hidePrompt": true,
    "slideshow": {
     "slide_type": "fragment"
    }
   },
   "outputs": [
    {
     "name": "stdout",
     "output_type": "stream",
     "text": [
      "                  Multivariate linear model\n",
      "==============================================================\n",
      "                                                              \n",
      "--------------------------------------------------------------\n",
      "       Intercept         Value  Num DF  Den DF F Value  Pr > F\n",
      "--------------------------------------------------------------\n",
      "          Wilks' lambda  0.0465 3.0000 94.0000 642.5564 0.0000\n",
      "         Pillai's trace  0.9535 3.0000 94.0000 642.5564 0.0000\n",
      " Hotelling-Lawley trace 20.5071 3.0000 94.0000 642.5564 0.0000\n",
      "    Roy's greatest root 20.5071 3.0000 94.0000 642.5564 0.0000\n",
      "--------------------------------------------------------------\n",
      "                                                              \n",
      "--------------------------------------------------------------\n",
      "       customer_type      Value  Num DF  Den DF F Value Pr > F\n",
      "--------------------------------------------------------------\n",
      "            Wilks' lambda 0.9231 3.0000 94.0000  2.6085 0.0561\n",
      "           Pillai's trace 0.0769 3.0000 94.0000  2.6085 0.0561\n",
      "   Hotelling-Lawley trace 0.0833 3.0000 94.0000  2.6085 0.0561\n",
      "      Roy's greatest root 0.0833 3.0000 94.0000  2.6085 0.0561\n",
      "--------------------------------------------------------------\n",
      "                                                              \n",
      "--------------------------------------------------------------\n",
      "          dis_sys         Value  Num DF  Den DF F Value Pr > F\n",
      "--------------------------------------------------------------\n",
      "            Wilks' lambda 0.9211 3.0000 94.0000  2.6846 0.0511\n",
      "           Pillai's trace 0.0789 3.0000 94.0000  2.6846 0.0511\n",
      "   Hotelling-Lawley trace 0.0857 3.0000 94.0000  2.6846 0.0511\n",
      "      Roy's greatest root 0.0857 3.0000 94.0000  2.6846 0.0511\n",
      "--------------------------------------------------------------\n",
      "                                                              \n",
      "--------------------------------------------------------------\n",
      "   customer_type:dis_sys  Value  Num DF  Den DF F Value Pr > F\n",
      "--------------------------------------------------------------\n",
      "            Wilks' lambda 0.9620 3.0000 94.0000  1.2388 0.3001\n",
      "           Pillai's trace 0.0380 3.0000 94.0000  1.2388 0.3001\n",
      "   Hotelling-Lawley trace 0.0395 3.0000 94.0000  1.2388 0.3001\n",
      "      Roy's greatest root 0.0395 3.0000 94.0000  1.2388 0.3001\n",
      "==============================================================\n",
      "\n"
     ]
    }
   ],
   "source": [
    "from statsmodels.multivariate.manova import MANOVA\n",
    "\n",
    "maov = MANOVA.from_formula('satisfaction + recommend + purchase ~ customer_type * dis_sys', data=df)\n",
    "print(maov.mv_test())"
   ]
  },
  {
   "cell_type": "markdown",
   "metadata": {
    "slideshow": {
     "slide_type": "fragment"
    }
   },
   "source": [
    "Para todos los indicadores, encontramos que no existen efectos principales ni interacciones de las variables independientes."
   ]
  },
  {
   "cell_type": "markdown",
   "metadata": {
    "slideshow": {
     "slide_type": "slide"
    }
   },
   "source": [
    "#### Interpretación\n",
    "\n",
    "Siempre que se incluyan en el análisis dos o más variables independientes (tratamientos), **se deben examinar las interacciones antes de sacar conclusiones sobre los efectos principales de cualquier variable independiente**.\n",
    "- **Si las interacciones no son estadísticamente significativas, los efectos principales se pueden interpretar directamente** porque la diferencia entre tratamientos se considera constante en todas las combinaciones de niveles.\n",
    "- Si la interacción es estadísticamente significativa y las diferencias no son constantes entre combinaciones de niveles, entonces **la interacción debe determinarse como ordinal o desordinal**.\n"
   ]
  },
  {
   "cell_type": "markdown",
   "metadata": {
    "slideshow": {
     "slide_type": "subslide"
    }
   },
   "source": [
    "- Las **interacciones ordinales significan que la dirección de las diferencias no varía según el nivel** (por ejemplo, los hombres siempre menos que las mujeres), aunque la diferencia entre hombres / mujeres varía según el nivel en el otro tratamiento; en este caso, la magnitud del efecto principal (p. ej., hombres frente a mujeres) solo debe describirse por separado para cada nivel del otro tratamiento.\n",
    "- **Se producen interacciones desordinales significativas cuando la dirección de un efecto principal observado cambia con el nivel de otro tratamiento** (por ejemplo, hombres más que mujeres para un nivel y menos que mujeres para otro nivel). Las interacciones desordinales interfieren con la interpretación de los efectos principales."
   ]
  },
  {
   "cell_type": "markdown",
   "metadata": {
    "slideshow": {
     "slide_type": "subslide"
    }
   },
   "source": [
    "#### Diferencias entre grupos y resultados individuales\n",
    "\n",
    "Cuando la variable independiente tiene más de dos grupos, se pueden utilizar dos tipos de procedimientos para aislar la fuente de las diferencias:\n",
    "- Las pruebas post hoc examinan las posibles diferencias estadísticas entre todas las posibles combinaciones de medias de grupo. Las pruebas post hoc tienen una potencia limitada y, por lo tanto, son las más adecuadas para identificar grandes efectos.\n",
    "- Las comparaciones planificadas son apropiadas cuando razones teóricas a priori sugieren que ciertos grupos diferirán de otro grupo o de otros grupos; El error de tipo I aumenta a medida que aumenta el número de comparaciones planificadas."
   ]
  },
  {
   "cell_type": "markdown",
   "metadata": {
    "slideshow": {
     "slide_type": "subslide"
    }
   },
   "source": [
    "Dado que las pruebas multivariadas solo abordan las diferencias del conjunto colectivo de variables dependientes, los investigadores también deben examinar si esas diferencias se encuentran para cada variable dependiente por separado.\n",
    "- La prueba más utilizada es el **ANOVA univariante para cada medida dependiente**.\n",
    "- El análisis discriminante puede proporcionar información sobre las dimensiones de las diferencias, especialmente si hay más de dos grupos.\n",
    "- El análisis escalonado es un análisis poderoso si se conoce el orden causal de las variables dependientes."
   ]
  },
  {
   "cell_type": "markdown",
   "metadata": {
    "slideshow": {
     "slide_type": "slide"
    }
   },
   "source": [
    "Solo con fines didácticos, revisemos el efecto principal de una de nuestras variables independientes sobre cada variable dependiente:"
   ]
  },
  {
   "cell_type": "code",
   "execution_count": 19,
   "metadata": {
    "hideCode": true,
    "hidePrompt": true,
    "slideshow": {
     "slide_type": "fragment"
    }
   },
   "outputs": [
    {
     "name": "stdout",
     "output_type": "stream",
     "text": [
      "____________________________________________________________________________________________________\n",
      "satisfaction\n",
      "                         df     sum_sq    mean_sq          F        PR(>F)\n",
      "customer_type           1.0   1.602562   1.602562   1.601249  2.087890e-01\n",
      "dis_sys                 1.0  39.462772  39.462772  39.430439  9.863972e-09\n",
      "customer_type:dis_sys   1.0   3.483545   3.483545   3.480691  6.514238e-02\n",
      "Residual               96.0  96.078721   1.000820        NaN           NaN\n",
      "____________________________________________________________________________________________________\n",
      "recommend\n",
      "                         df     sum_sq    mean_sq          F    PR(>F)\n",
      "customer_type           1.0   2.859382   2.859382   3.247379  0.074676\n",
      "dis_sys                 1.0  18.418496  18.418496  20.917748  0.000014\n",
      "customer_type:dis_sys   1.0   1.952199   1.952199   2.217098  0.139767\n",
      "Residual               96.0  84.529923   0.880520        NaN       NaN\n",
      "____________________________________________________________________________________________________\n",
      "purchase\n",
      "                         df     sum_sq    mean_sq          F    PR(>F)\n",
      "customer_type           1.0   0.626673   0.626673   0.877747  0.351170\n",
      "dis_sys                 1.0  16.984185  16.984185  23.788843  0.000004\n",
      "customer_type:dis_sys   1.0   0.602473   0.602473   0.843852  0.360600\n",
      "Residual               96.0  68.539769   0.713956        NaN       NaN\n"
     ]
    }
   ],
   "source": [
    "for dep in dep_vars:\n",
    "    model = smf.ols(formula=f'{dep} ~ customer_type * dis_sys', data=df)\n",
    "    print(\"_\"*100)\n",
    "    print(dep)\n",
    "    print(sm.stats.anova_lm(model.fit()))"
   ]
  },
  {
   "cell_type": "markdown",
   "metadata": {
    "slideshow": {
     "slide_type": "fragment"
    }
   },
   "source": [
    "Apreciamos que existen efectos principales de la variable `dis_sys` en las tres variables dependendientes."
   ]
  },
  {
   "cell_type": "markdown",
   "metadata": {
    "slideshow": {
     "slide_type": "slide"
    }
   },
   "source": [
    "#### Moderación\n",
    "\n",
    "La moderación ocurre cuando el efecto principal varía según los diferentes valores del moderador.\n",
    "- Un ejemplo sería que el efecto principal es diferente entre hombres y mujeres.\n",
    "- Los efectos moderadores significativos exhiben patrones comparables a interacciones significativas (por ejemplo, líneas no paralelas)"
   ]
  },
  {
   "cell_type": "markdown",
   "metadata": {
    "slideshow": {
     "slide_type": "subslide"
    }
   },
   "source": [
    "Con fines ilustrativos, evaluemos gráficamente la moderación en nuestro ejemplo:"
   ]
  },
  {
   "cell_type": "code",
   "execution_count": 20,
   "metadata": {
    "hideCode": true,
    "hidePrompt": true,
    "slideshow": {
     "slide_type": "fragment"
    }
   },
   "outputs": [
    {
     "data": {
      "image/png": "[encoded data removed]",
      "text/plain": [
       "<Figure size 432x288 with 1 Axes>"
      ]
     },
     "metadata": {
      "needs_background": "light"
     },
     "output_type": "display_data"
    }
   ],
   "source": [
    "from statsmodels.graphics.factorplots import interaction_plot\n",
    "\n",
    "ax = interaction_plot(x = df['customer_type'], trace = df['dis_sys'] ,response = df['recommend']);\n",
    "plt.xticks(range(uncoded_df.customer_type.values.categories.size), uncoded_df.customer_type.values.categories)\n",
    "plt.legend(uncoded_df.dis_sys.values.categories);"
   ]
  }
 ],
 "metadata": {
  "celltoolbar": "Slideshow",
  "interpreter": {
   "hash": "bc333aaf72f12d36efbbc969b6efbd208f39cf597397e273d228d636dea83428"
  },
  "kernelspec": {
   "display_name": "Python 3 (ipykernel)",
   "language": "python",
   "name": "python3"
  },
  "language_info": {
   "codemirror_mode": {
    "name": "ipython",
    "version": 3
   },
   "file_extension": ".py",
   "mimetype": "text/x-python",
   "name": "python",
   "nbconvert_exporter": "python",
   "pygments_lexer": "ipython3",
   "version": "3.8.10"
  }
 },
 "nbformat": 4,
 "nbformat_minor": 2
}
