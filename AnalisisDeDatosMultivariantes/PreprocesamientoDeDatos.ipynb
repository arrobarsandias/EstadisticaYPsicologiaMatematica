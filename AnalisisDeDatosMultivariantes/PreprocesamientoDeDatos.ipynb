{
 "cells": [
  {
   "cell_type": "code",
   "execution_count": null,
   "source": [],
   "outputs": [],
   "metadata": {}
  },
  {
   "cell_type": "markdown",
   "source": [
    "Conceptos básicos de datos Multivariados\n",
    "- El multivariado\n",
    "- Tipos de variables\n",
    "- Familia de modelos multivariados\n",
    "\n",
    "Preprocesamiento de datos\n",
    "- Visualización de datos multivariados (correlaciones múltiples y comparaciones de varios grupos/condiciones). Explorar Python.\n",
    "- Manejo de datos perdidos\n",
    "https://www.numpyninja.com/post/mice-and-knn-missing-value-imputations-through-python\n",
    "https://scikit-learn.org/stable/modules/impute.html#impute\n",
    "https://www.kaggle.com/residentmario/simple-techniques-for-missing-data-imputation/\n",
    "\n",
    "- Outliers"
   ],
   "metadata": {}
  }
 ],
 "metadata": {
  "orig_nbformat": 4,
  "language_info": {
   "name": "python"
  }
 },
 "nbformat": 4,
 "nbformat_minor": 2
}