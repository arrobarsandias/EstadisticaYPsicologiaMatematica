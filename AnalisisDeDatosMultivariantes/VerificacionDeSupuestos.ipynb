{
 "cells": [
  {
   "cell_type": "code",
   "execution_count": null,
   "source": [],
   "outputs": [],
   "metadata": {}
  },
  {
   "cell_type": "markdown",
   "source": [
    "Supuestos de los modelos multivariantes\n",
    "- Normalidad\n",
    "- Igualdad de varianzas\n",
    "- Linealidad\n",
    "- Ausencia de errores correlacionados\n",
    "\n",
    "Transformación de los datos\n",
    "https://scikit-learn.org/stable/modules/preprocessing.html\n",
    "https://scikit-learn.org/stable/modules/generated/sklearn.preprocessing.RobustScaler.html#sklearn.preprocessing.RobustScaler\n",
    "\n",
    "\n"
   ],
   "metadata": {}
  }
 ],
 "metadata": {
  "orig_nbformat": 4,
  "language_info": {
   "name": "python"
  }
 },
 "nbformat": 4,
 "nbformat_minor": 2
}