{
 "cells": [
  {
   "cell_type": "markdown",
   "metadata": {},
   "source": [
    "# Regresión Múltiple"
   ]
  },
  {
   "cell_type": "markdown",
   "metadata": {},
   "source": [
    "## Nociones previas\n",
    "\n",
    "Consideremos las lecturas de presión arterial tomadas en el estudio NHANES. A cada individuo se le toma la presión arterial tres veces. Aquí trazaremos la primera lectura contra la segunda lectura, usando un gráfico de dispersión:\n"
   ]
  },
  {
   "cell_type": "code",
   "execution_count": 4,
   "metadata": {},
   "outputs": [
    {
     "name": "stdout",
     "output_type": "stream",
     "text": [
      "Requirement already satisfied: nhanes in /home/renato/.virtualenvs/statspsych/lib/python3.8/site-packages (0.5.1)\n"
     ]
    }
   ],
   "source": [
    "!pip install nhanes\n",
    "from nhanes.load import load_NHANES_data\n",
    "nhanes_data = load_NHANES_data()\n",
    "#adult_nhanes_data = nhanes_data.query('AgeInYearsAtScreening > 17')\n",
    "#adult_nhanes_data = adult_nhanes_data.dropna(subset=['StandingHeightCm']).rename(columns={'StandingHeightCm': 'Height'})\n",
    "#adult_nhanes_data = adult_nhanes_data.dropna(subset=['WeightKg']).rename(columns={'WeightKg': 'Weight'})"
   ]
  },
  {
   "cell_type": "code",
   "execution_count": 11,
   "metadata": {},
   "outputs": [
    {
     "data": {
      "text/html": [
       "<div>\n",
       "<style scoped>\n",
       "    .dataframe tbody tr th:only-of-type {\n",
       "        vertical-align: middle;\n",
       "    }\n",
       "\n",
       "    .dataframe tbody tr th {\n",
       "        vertical-align: top;\n",
       "    }\n",
       "\n",
       "    .dataframe thead th {\n",
       "        text-align: right;\n",
       "    }\n",
       "</style>\n",
       "<table border=\"1\" class=\"dataframe\">\n",
       "  <thead>\n",
       "    <tr style=\"text-align: right;\">\n",
       "      <th></th>\n",
       "      <th>sex</th>\n",
       "      <th>weight</th>\n",
       "      <th>height</th>\n",
       "      <th>reportedWeight</th>\n",
       "      <th>reportedHeight</th>\n",
       "    </tr>\n",
       "  </thead>\n",
       "  <tbody>\n",
       "    <tr>\n",
       "      <th>2</th>\n",
       "      <td>F</td>\n",
       "      <td>58</td>\n",
       "      <td>161</td>\n",
       "      <td>51.0</td>\n",
       "      <td>159.0</td>\n",
       "    </tr>\n",
       "    <tr>\n",
       "      <th>3</th>\n",
       "      <td>F</td>\n",
       "      <td>53</td>\n",
       "      <td>161</td>\n",
       "      <td>54.0</td>\n",
       "      <td>158.0</td>\n",
       "    </tr>\n",
       "    <tr>\n",
       "      <th>5</th>\n",
       "      <td>F</td>\n",
       "      <td>59</td>\n",
       "      <td>157</td>\n",
       "      <td>59.0</td>\n",
       "      <td>155.0</td>\n",
       "    </tr>\n",
       "    <tr>\n",
       "      <th>13</th>\n",
       "      <td>F</td>\n",
       "      <td>51</td>\n",
       "      <td>161</td>\n",
       "      <td>52.0</td>\n",
       "      <td>158.0</td>\n",
       "    </tr>\n",
       "    <tr>\n",
       "      <th>14</th>\n",
       "      <td>F</td>\n",
       "      <td>64</td>\n",
       "      <td>168</td>\n",
       "      <td>64.0</td>\n",
       "      <td>165.0</td>\n",
       "    </tr>\n",
       "    <tr>\n",
       "      <th>...</th>\n",
       "      <td>...</td>\n",
       "      <td>...</td>\n",
       "      <td>...</td>\n",
       "      <td>...</td>\n",
       "      <td>...</td>\n",
       "    </tr>\n",
       "    <tr>\n",
       "      <th>188</th>\n",
       "      <td>F</td>\n",
       "      <td>58</td>\n",
       "      <td>169</td>\n",
       "      <td>54.0</td>\n",
       "      <td>166.0</td>\n",
       "    </tr>\n",
       "    <tr>\n",
       "      <th>190</th>\n",
       "      <td>F</td>\n",
       "      <td>50</td>\n",
       "      <td>158</td>\n",
       "      <td>49.0</td>\n",
       "      <td>155.0</td>\n",
       "    </tr>\n",
       "    <tr>\n",
       "      <th>193</th>\n",
       "      <td>F</td>\n",
       "      <td>59</td>\n",
       "      <td>164</td>\n",
       "      <td>59.0</td>\n",
       "      <td>165.0</td>\n",
       "    </tr>\n",
       "    <tr>\n",
       "      <th>194</th>\n",
       "      <td>F</td>\n",
       "      <td>51</td>\n",
       "      <td>156</td>\n",
       "      <td>51.0</td>\n",
       "      <td>158.0</td>\n",
       "    </tr>\n",
       "    <tr>\n",
       "      <th>195</th>\n",
       "      <td>F</td>\n",
       "      <td>62</td>\n",
       "      <td>164</td>\n",
       "      <td>61.0</td>\n",
       "      <td>161.0</td>\n",
       "    </tr>\n",
       "  </tbody>\n",
       "</table>\n",
       "<p>111 rows × 5 columns</p>\n",
       "</div>"
      ],
      "text/plain": [
       "    sex  weight  height  reportedWeight  reportedHeight\n",
       "2     F      58     161            51.0           159.0\n",
       "3     F      53     161            54.0           158.0\n",
       "5     F      59     157            59.0           155.0\n",
       "13    F      51     161            52.0           158.0\n",
       "14    F      64     168            64.0           165.0\n",
       "..   ..     ...     ...             ...             ...\n",
       "188   F      58     169            54.0           166.0\n",
       "190   F      50     158            49.0           155.0\n",
       "193   F      59     164            59.0           165.0\n",
       "194   F      51     156            51.0           158.0\n",
       "195   F      62     164            61.0           161.0\n",
       "\n",
       "[111 rows x 5 columns]"
      ]
     },
     "execution_count": 11,
     "metadata": {},
     "output_type": "execute_result"
    }
   ],
   "source": [
    "import pandas as pd\n",
    "df = pd.read_csv(\"https://socialsciences.mcmaster.ca/jfox/Books/Applied-Regression-3E/datasets/Davis.txt\", sep=r'\\s{1,}', engine='python')\n",
    "davis_data = df[df['sex'] == 'F']\n",
    "davis_data = davis_data.query('weight < 100')\n",
    "davis_data"
   ]
  },
  {
   "cell_type": "code",
   "execution_count": 12,
   "metadata": {},
   "outputs": [
    {
     "data": {
      "text/plain": [
       "<AxesSubplot:xlabel='reportedWeight', ylabel='weight'>"
      ]
     },
     "execution_count": 12,
     "metadata": {},
     "output_type": "execute_result"
    },
    {
     "data": {
      "image/png": "[encoded data removed]",
      "text/plain": [
       "<Figure size 432x288 with 1 Axes>"
      ]
     },
     "metadata": {
      "needs_background": "light"
     },
     "output_type": "display_data"
    }
   ],
   "source": [
    "import seaborn as sns\n",
    "import matplotlib.pyplot as plt\n",
    "\n",
    "sns.regplot(x='reportedWeight',\n",
    "            y='weight',\n",
    "            data = davis_data)\n",
    "#plt.xlabel('Presión Arterial - Primera lectura',size=14);\n",
    "#plt.ylabel('Presión Arterial - Segunda lectura',size=14);"
   ]
  },
  {
   "cell_type": "markdown",
   "metadata": {},
   "source": [
    "La relación entre el peso medido y el informado parece ser lineal, por lo que es razonable ajustar una línea al gráfico. Una línea nos ayudará a determinar si los sujetos del estudio de Davis fueron informadores precisos e imparciales de sus pesos, y puede proporcionar una base para predecir el peso medido de mujeres similares para las que solo está disponible el peso informado."
   ]
  },
  {
   "cell_type": "markdown",
   "metadata": {},
   "source": [
    "Denotando el peso medido por Y y el peso reportado por X, una línea que relaciona las dos variables tiene la ecuación:\n",
    "\n",
    "$$ Y = A + BX $$\n",
    "\n",
    "Sin embargo, es obvio que ninguna línea puede atravesar perfectamente todos los puntos de datos, a pesar de la fuerte relación lineal entre estas dos variables. Introducimos un residuo, E, en la ecuación de regresión para reflejar este hecho:\n",
    "\n",
    "$$ Y_{i} = A + BX_{i} + E_{i} $$\n",
    "$$ Y_{i} = \\hat{Y_{i}} + E_{i} $$\n",
    "\n",
    "donde $ \\hat{Y_{i}} = A + BX_{i} + E_{i} $ es el valor ajustado para la observación i."
   ]
  },
  {
   "cell_type": "markdown",
   "metadata": {},
   "source": [
    "Veamos esta representación de manera geométrica:\n",
    "\n",
    "<p align=\"center\">\n",
    "  <img width=\"500\" src=\"regresiongeometry.png\" alt=\"Variable Types\">\n",
    "</p>\n"
   ]
  },
  {
   "cell_type": "markdown",
   "metadata": {},
   "source": [
    "La imagen muestra que el residuo \n",
    "\n",
    "$$ E_{i} = Y_{i} - \\hat{Y_{i}} = Y_{i} - (A + BX_{i})  $$\n",
    "\n",
    "es la distancia vertical con signo entre el punto y la línea; es decir, el residuo es negativo cuando el punto está debajo de la línea y positivo cuando el punto está por encima de la línea.\n",
    "\n",
    "En primer lugar, queremos residuos que sean de pequeña magnitud, porque los residuos negativos grandes son tan ofensivos como los positivos grandes.\n",
    "\n",
    "Inmediatamente se presentan dos posibilidades: podemos emplear las distancias verticales sin signo entre los puntos y la línea, es decir, los valores absolutos de los residuales, o podemos emplear los cuadrados de los residuales.\n",
    "\n",
    "La primera posibilidad conduce a una regresión de valor mínimo absoluto (LAV): $ \\sum \\left | E_{i} \\right | $\n",
    "\n",
    "La segunda posibilidad conduce al criterio de mínimos cuadrados: $\\sum  E_{i}^{2}$\n",
    "\n",
    "Los cuadrados son más manejables matemáticamente que los valores absolutos, por lo que aquí nos centraremos en los mínimos cuadrados."
   ]
  },
  {
   "cell_type": "markdown",
   "metadata": {},
   "source": [
    "El criterio de mínimos cuadrados minimiza la suma de los residuos cuadrados en todas las observaciones; es decir, buscamos los valores de A y B que minimicen:\n",
    "\n",
    "$$ SS_{error} =  \\sum_{i=1}^{n}  E_{i}^{2} = ( Y_{i} - \\hat{Y_{i}} )^{2} $$\n",
    "\n",
    "$$ SS_{error} = \\sum (Y_{i} - A - BX_{i})^{2} $$\n",
    "\n",
    "Aplicando un poco de cálculo, se puede llegar a que los coeficientes que minimizan esta expresión son los siguientes:\n",
    "\n",
    "$$ A = \\bar{Y} - BX\\bar{X} $$\n",
    "\n",
    "$$ B =  \\frac{\\sum ( X_{i} - \\bar{X} ) (Y_{i} - \\bar{Y})}{\\sum(X_{i} - \\bar{X})^{2}}    $$\n"
   ]
  },
  {
   "cell_type": "markdown",
   "metadata": {},
   "source": [
    "Para evaluar la bondad de ajuste de nuestro modelo, necesitamos apreciarlo en perspectiva. Para ello podemos tomar la suma de cuadrados (o varianza) total de nuestros datos:\n",
    "\n",
    "$$ SS_{total} = (Y_{i} - \\bar{Y})^{2}  $$\n",
    "\n",
    "y la suma de cuadrados del modelo (o varianza explicada):\n",
    "\n",
    "$$ SS_{model} = (\\hat{Y_{i}} - \\bar{Y})^{2} $$\n",
    "\n",
    "Podemos compararlas evaluando su ratio:\n",
    "\n",
    "$$ R^{2} = \\frac{SS_{model}}{SS_{total}} = 1 - \\frac{SS_{error}}{SS_{total}} $$\n",
    "\n",
    "A esta descomposición de la variación total en componentes \"explicados\" y \"no explicados\" se le denomina *análisis de varianza* de la regresión: \n",
    "\n",
    "$$ SS_{total} = SS_{model} + SS_{error} $$"
   ]
  },
  {
   "cell_type": "markdown",
   "metadata": {},
   "source": [
    "En general, podemos extender las nociones de la regresión lineal a varias variables explicativas de manera sencilla. Para el caso general de k variables explicativas, la ecuación de regresión múltiple es:\n",
    "\n",
    "$$ Y_{i} = A + B_{1}X_{i1} + B_{2}X_{i2} + ... + B_{k}X_{ik} + E_{i} $$\n",
    "$$ Y_{i} = \\hat{Y_{i}} + E_{i} $$\n",
    "\n",
    "Y la suma de cuadrados de los residuos:\n",
    "\n",
    "$$ SS_{error} = \\sum [ (Y_{i} - ( A - B_{1}X_{1i} + B_{2}X_{i2} + ... + B_{k}X_{ik}) ] ^{2} $$"
   ]
  },
  {
   "cell_type": "markdown",
   "metadata": {},
   "source": [
    "Las variables, como X e Y en la regresión simple, pueden tratarse como vectores — $\\mathbf{x}$ e $\\mathbf{y}$ — en el espacio n-dimensional cuyos ejes están dados por las observaciones. Escrito en forma vectorial, el modelo de regresión simple es:\n",
    "\n",
    "$$ \\mathbf{y} = \\alpha \\mathbf{1_{n}} + \\beta \\mathbf{x} + \\epsilon $$\n",
    "\n",
    "Entonces, la regresión por mínimos cuadrados\n",
    "\n",
    "$$ \\mathbf{y} = \\mathbf{A1_{n}} + B\\mathbf{x} + \\mathbf{e} $$\n",
    "\n",
    "Se encuentra proyectando $\\mathbf{y}$ ortogonalmente sobre el plano generado por $\\mathbf{1_{n}}$ y $\\mathbf{x}$, minimizando así la suma de los residuos al cuadrado $ \\left \\| \\mathbf{e} \\right \\|^{2}$.\n",
    "\n",
    "Veámoslo graficamente a partir de esta imagen tomada de Fox (20): \n",
    "\n",
    "<p align=\"center\">\n",
    "  <img width=\"500\" src=\"regresionvectorgeometry.png\" alt=\"Variable Types\">\n",
    "</p>\n",
    "\n",
    "Podemos apreciar que minimizar la suma residual de cuadrados equivale a hacer que el vector $\\mathbf{e}$ sea lo más corto posible. Y que el vector $\\mathbf{ \\hat{y} }$ es la proyección ortogonal de $\\mathbf{y}$ en el plano formado por {$  \\mathbf{1_{n}}, \\mathbf{x}$ }."
   ]
  },
  {
   "cell_type": "markdown",
   "metadata": {},
   "source": [
    "Podemos simplificar la representación vectorial de la regresión simple eliminando el regresor constante $1_{n}$ y el coeficiente de intersección *A*. Esto se logra centrando los vectores en la media:\n",
    "\n",
    "<p align=\"center\">\n",
    "  <img width=\"500\" src=\"regresionvectorgeometrysimple.png\" alt=\"Variable Types\">\n",
    "</p>\n",
    "\n",
    "La correlación entre X e Y es el coseno del ángulo W que separa los vectores $\\mathbf{x^{\\star}}$ e $\\mathbf{y^{\\star}}$."
   ]
  },
  {
   "cell_type": "markdown",
   "metadata": {},
   "source": [
    "Veamos ahora la formulación del modelo de regresión en su forma matricial:\n",
    "\n",
    "$$ \\begin{bmatrix} Y_{1} \\\\ Y_{2} \\\\ \\vdots \\\\ Y_{n} \\end{bmatrix} = \\begin{bmatrix} 1 & x_{11} & \\cdots & x_{1k} \\\\ 1 & x_{21} & \\cdots & x_{2k}\\\\ \\vdots & \\vdots & & \\vdots\\\\ 1 & x_{n1} & \\cdots & x_{nk} \\end{bmatrix} \\begin{bmatrix} \\beta_{0}\\\\ \\beta_{1}\\\\ \\vdots\\\\ \\beta_{n} \\end{bmatrix} + \\begin{bmatrix} \\epsilon_{1}\\\\ \\epsilon_{2}\\\\ \\vdots\\\\ \\epsilon_{n} \\end{bmatrix} $$\n",
    "\n",
    "\n",
    "\n",
    "$$ \\mathbf{y} = \\mathbf{X} \\mathbf{\\beta} + \\mathbf{\\epsilon}  $$ \n",
    "\n",
    "donde: \n",
    "- $\\mathbf{y}$ es un vector $n \\times 1$ de observaciones de variables de respuesta;\n",
    "- $\\mathbf{X}$ es una matriz de regresores $ n \\times k + 1 $ (denominada matriz modelo), que incluye una columna inicial de 1 para el regresor constante; \n",
    "- $\\mathbf{\\beta}$ es un vector $k + 1 \\times 1$ de parámetros a estimar; \n",
    "- $\\mathbf{\\epsilon}$ un vector de errores $n \\times 1$."
   ]
  },
  {
   "cell_type": "markdown",
   "metadata": {},
   "source": [
    "Y el ajuste por el método de mínimos cuadrados:\n",
    "\n",
    "$$ \\mathbf{y} = \\mathbf{X} \\mathbf{b} + \\mathbf{e}  $$ \n",
    "\n",
    "$$ \\mathbf{b} = (\\mathbf{X}^\\mathsf{T} \\mathbf{X})^{-1} \\mathbf{X^\\mathsf{T}} \\mathbf{y}  $$ "
   ]
  },
  {
   "cell_type": "markdown",
   "metadata": {},
   "source": [
    "Ejemplo de regresión múltiple matricial."
   ]
  },
  {
   "cell_type": "code",
   "execution_count": 7,
   "metadata": {},
   "outputs": [
    {
     "data": {
      "text/html": [
       "<div>\n",
       "<style scoped>\n",
       "    .dataframe tbody tr th:only-of-type {\n",
       "        vertical-align: middle;\n",
       "    }\n",
       "\n",
       "    .dataframe tbody tr th {\n",
       "        vertical-align: top;\n",
       "    }\n",
       "\n",
       "    .dataframe thead th {\n",
       "        text-align: right;\n",
       "    }\n",
       "</style>\n",
       "<table border=\"1\" class=\"dataframe\">\n",
       "  <thead>\n",
       "    <tr style=\"text-align: right;\">\n",
       "      <th></th>\n",
       "      <th>simplicity</th>\n",
       "      <th>fatalism</th>\n",
       "      <th>depression</th>\n",
       "    </tr>\n",
       "  </thead>\n",
       "  <tbody>\n",
       "    <tr>\n",
       "      <th>1</th>\n",
       "      <td>0.92983</td>\n",
       "      <td>0.35589</td>\n",
       "      <td>0.59870</td>\n",
       "    </tr>\n",
       "    <tr>\n",
       "      <th>2</th>\n",
       "      <td>0.91097</td>\n",
       "      <td>1.18439</td>\n",
       "      <td>0.72787</td>\n",
       "    </tr>\n",
       "    <tr>\n",
       "      <th>3</th>\n",
       "      <td>0.53366</td>\n",
       "      <td>-0.05837</td>\n",
       "      <td>0.53411</td>\n",
       "    </tr>\n",
       "    <tr>\n",
       "      <th>4</th>\n",
       "      <td>0.74118</td>\n",
       "      <td>0.35589</td>\n",
       "      <td>0.56641</td>\n",
       "    </tr>\n",
       "    <tr>\n",
       "      <th>5</th>\n",
       "      <td>0.53366</td>\n",
       "      <td>0.77014</td>\n",
       "      <td>0.50182</td>\n",
       "    </tr>\n",
       "    <tr>\n",
       "      <th>...</th>\n",
       "      <td>...</td>\n",
       "      <td>...</td>\n",
       "      <td>...</td>\n",
       "    </tr>\n",
       "    <tr>\n",
       "      <th>78</th>\n",
       "      <td>1.04302</td>\n",
       "      <td>1.80577</td>\n",
       "      <td>1.47061</td>\n",
       "    </tr>\n",
       "    <tr>\n",
       "      <th>79</th>\n",
       "      <td>1.79763</td>\n",
       "      <td>2.22003</td>\n",
       "      <td>1.40603</td>\n",
       "    </tr>\n",
       "    <tr>\n",
       "      <th>80</th>\n",
       "      <td>2.11834</td>\n",
       "      <td>0.77014</td>\n",
       "      <td>2.01960</td>\n",
       "    </tr>\n",
       "    <tr>\n",
       "      <th>81</th>\n",
       "      <td>1.42033</td>\n",
       "      <td>1.18439</td>\n",
       "      <td>1.47061</td>\n",
       "    </tr>\n",
       "    <tr>\n",
       "      <th>82</th>\n",
       "      <td>0.98643</td>\n",
       "      <td>1.18439</td>\n",
       "      <td>1.56749</td>\n",
       "    </tr>\n",
       "  </tbody>\n",
       "</table>\n",
       "<p>82 rows × 3 columns</p>\n",
       "</div>"
      ],
      "text/plain": [
       "    simplicity  fatalism  depression\n",
       "1      0.92983   0.35589     0.59870\n",
       "2      0.91097   1.18439     0.72787\n",
       "3      0.53366  -0.05837     0.53411\n",
       "4      0.74118   0.35589     0.56641\n",
       "5      0.53366   0.77014     0.50182\n",
       "..         ...       ...         ...\n",
       "78     1.04302   1.80577     1.47061\n",
       "79     1.79763   2.22003     1.40603\n",
       "80     2.11834   0.77014     2.01960\n",
       "81     1.42033   1.18439     1.47061\n",
       "82     0.98643   1.18439     1.56749\n",
       "\n",
       "[82 rows x 3 columns]"
      ]
     },
     "execution_count": 7,
     "metadata": {},
     "output_type": "execute_result"
    }
   ],
   "source": [
    "df = pd.read_csv(\"https://socialsciences.mcmaster.ca/jfox/Books/Applied-Regression-3E/datasets/Ginzberg.txt\", sep=r'\\s{1,}', engine='python')\n",
    "ginzberg_data = df.drop(columns=['adjsimplicity', 'adjfatalism', 'adjdepression'])\n",
    "ginzberg_data"
   ]
  },
  {
   "cell_type": "markdown",
   "metadata": {},
   "source": [
    "## Diseño de un modelo de regresión múltiple\n",
    "\n",
    "La adaptabilidad y la flexibilidad son dos razones principales para el uso generalizado de la regresión múltiple en una amplia variedad de aplicaciones. Como verás en las siguientes secciones, la regresión múltiple puede representar una amplia gama de relaciones de dependencia. Al hacerlo, el investigador incorpora tres características:\n",
    "\n",
    "- Tamaño de muestra\n",
    "- Transformaciones de datos\n",
    "- Naturaleza de la relación de las variables independientes"
   ]
  },
  {
   "cell_type": "markdown",
   "metadata": {},
   "source": [
    "### Tamaño de muestra\n",
    "\n",
    "El investigador siempre debe estar consciente de la potencia estadística anticipada de cualquier análisis de regresión múltiple propuesto. Para ello tomemos como referencia la siguiente tabla tomada de Hair et al. (2019):\n",
    "\n",
    "<p align=\"center\">\n",
    "  <img width=\"500\" src=\"regresionstatisticalpower.png\" alt=\"Variable Types\">\n",
    "</p>\n",
    "\n",
    "La tabla muestra el $R^{2}$ mínimo que se puede encontrar estadísticamente significativo con una potencia de .80 para diferentes números de variables independientes y tamaños de muestra. "
   ]
  },
  {
   "cell_type": "markdown",
   "metadata": {},
   "source": [
    "Adicionalmente, se recomienda considerar un **ratio de observaciones a variables de 5:1**, pero la relación preferida es 15:1 o 20:1.\n",
    "\n",
    "Esto permite maximizar los grados de libertad, lo cual mejora la generalización y aborda tanto la parsimonia del modelo como preocupaciones sobre el tamaño de la muestra."
   ]
  },
  {
   "cell_type": "markdown",
   "metadata": {},
   "source": [
    "### Transformaciones de datos\n",
    "\n",
    "Un problema que a menudo enfrentan los investigadores es el deseo de incorporar datos no métricos, como género u ocupación, en una ecuación de regresión. Sin embargo, como ya comentamos, la regresión se limita a los datos métricos.\n",
    "\n",
    "¿Qué podemos hacer cuando las variables independientes no son métricas y tienen dos o más categorías?\n",
    "\n",
    "Podemos emplear variables dicotómicas, conocidas como variables ficticias, que pueden actuar como variables independientes de reemplazo. Cada variable ficticia representa una categoría de una variable independiente no métrica, y cualquier variable no métrica con k categorías se puede representar con k-1 variables ficticias.\n",
    "\n",
    "La forma más común es la codificación de indicadores en la que cada categoría de la variable no métrica está representada por 1 o 0. "
   ]
  },
  {
   "cell_type": "markdown",
   "metadata": {},
   "source": [
    "### Efectos moderadores \n",
    "\n",
    "¿Qué pasa si una relación de variable independiente-dependiente se ve afectada por otra variable independiente? Esta situación se denomina efecto moderador y se produce cuando la variable moderadora, una segunda variable independiente, cambia la forma de la relación entre otra variable independiente y la variable dependiente. También se conoce como efecto de interacción y es similar al término de interacción que se encuentra en ANOVA y MANOVA.\n",
    "\n",
    "La relación moderadora puede expresarse de la siguiente forma:\n",
    "\n",
    "$$ Y = B_{0} + B_{1}X_{1} + B_{2}X_{2} + B_{3}X_{1}X_{2} $$\n",
    "\n",
    "donde:\n",
    "\n",
    "- $B_{0}$: intercepto\n",
    "- $B_{1}X_{1}$: efecto lineal de $X_{1}$\n",
    "- $B_{2}X_{2}$: efecto lineal de $X_{2}$\n",
    "- $B_{3}X_{1}X_{2}$: efecto moderador de $X_{2}$ en $X_{1}$ \n",
    "\n",
    "### Mediación\n",
    "\n",
    "La mediación ocurre cuando el efecto de una variable independiente puede \"funcionar\" a través de una variable mediadora para predecir la variable dependiente. En esta situación, la variable independiente puede tener un efecto directo sobre la medida dependiente, así como un efecto indirecto a través de la variable mediadora sobre la variable dependiente. Revisaremos más sobre este concepto en la sección de modelos de ecuaciones estructurales.\n",
    "\n",
    "En general, la selección de una variable para que sea mediadora o moderadora debe basarse en fundamentos conceptuales más que empíricos.\n"
   ]
  },
  {
   "cell_type": "markdown",
   "metadata": {},
   "source": [
    "## Supuestos de un modelo de regresión múltiple\n",
    "\n",
    "Los supuestos que se examinarán se encuentran en cuatro áreas:\n",
    "\n",
    "- Linealidad del fenómeno medido\n",
    "- Varianza constante de los términos de error\n",
    "- Normalidad de la distribución del término de error\n",
    "- Independencia de los términos de error.\n",
    "\n",
    "En general, **se evalúa en los residuos**. Es decir, en la diferencia entre los valores observados y los valores predichos para la variable dependiente."
   ]
  },
  {
   "cell_type": "markdown",
   "metadata": {},
   "source": [
    "Para ello, podemos optar por estrategias gráficas e inferenciales.\n",
    "\n",
    "Para la evaluación gráfica basta aplicar los mismos principios que revisamos en la Unidad 2, pero aplicados al gráfico de residuales:\n",
    "\n",
    "<p align=\"center\">\n",
    "  <img width=\"500\" src=\"residualsgraphs.png\" alt=\"Variable Types\">\n",
    "</p>"
   ]
  },
  {
   "cell_type": "markdown",
   "metadata": {},
   "source": [
    "Revisemos estos cuatro criterios en un ejemplo. Consieremos el siguiente modelo de regresión múltiple:\n",
    "\n",
    "$$ Y_{Depression} = B_{0} + B_{Fatalism} X_{Fatalism} + B_{Simplicity} X_{Simplicity} $$"
   ]
  },
  {
   "cell_type": "code",
   "execution_count": 69,
   "metadata": {},
   "outputs": [],
   "source": [
    "import statsmodels.formula.api as smf\n",
    "import statsmodels.stats.api as sms\n",
    "import statsmodels.api as sm\n",
    "\n",
    "# Fit regression model \n",
    "model = smf.ols(\"depression ~ fatalism + simplicity\", data=ginzberg_data).fit();"
   ]
  },
  {
   "cell_type": "code",
   "execution_count": 64,
   "metadata": {},
   "outputs": [],
   "source": [
    "#fig = sm.graphics.plot_regress_exog(results, \"fatalism\")\n",
    "#fig.tight_layout(pad=1.0)"
   ]
  },
  {
   "cell_type": "markdown",
   "metadata": {},
   "source": [
    "### Linealidad\n",
    "\n",
    "La linealidad de la relación entre las variables dependientes e independientes representa el grado en que el cambio en la variable dependiente está asociado con la variable independiente."
   ]
  },
  {
   "cell_type": "markdown",
   "metadata": {},
   "source": [
    "Visualicemos la linealidad de los residuos en nuestro ejemplo: "
   ]
  },
  {
   "cell_type": "code",
   "execution_count": 70,
   "metadata": {},
   "outputs": [
    {
     "data": {
      "image/png": "[encoded data removed]",
      "text/plain": [
       "<Figure size 432x288 with 1 Axes>"
      ]
     },
     "metadata": {
      "needs_background": "light"
     },
     "output_type": "display_data"
    },
    {
     "data": {
      "image/png": "[encoded data removed]",
      "text/plain": [
       "<Figure size 432x288 with 1 Axes>"
      ]
     },
     "metadata": {
      "needs_background": "light"
     },
     "output_type": "display_data"
    }
   ],
   "source": [
    "import seaborn as sns\n",
    "\n",
    "plt.figure(1)\n",
    "sns.residplot(x='fatalism', y='depression', x_partial='simplicity', data = ginzberg_data, lowess=True);\n",
    "plt.figure(2)\n",
    "sns.residplot(x='simplicity', y='depression', x_partial='fatalism', data = ginzberg_data, lowess=True);"
   ]
  },
  {
   "cell_type": "markdown",
   "metadata": {},
   "source": [
    "Aquí podemos apreciar que no hay una estructura marcadamente definida en los residuos, dado que la linea entera se aproxima a la línea punteada (que representa el valor predicho por el modelo) para cada regresor (variable independiente predictora). Aunque para el caso de la variable `simplicity` sí hay una desviación importante."
   ]
  },
  {
   "cell_type": "markdown",
   "metadata": {},
   "source": [
    "Podemos confirmar nuestra apreciación gráfica con la Prueba del multiplicador de Harvey-Collier, que evalúa la hipótesis nula de que la especificación lineal es correcta."
   ]
  },
  {
   "cell_type": "code",
   "execution_count": 71,
   "metadata": {},
   "outputs": [
    {
     "data": {
      "text/plain": [
       "[('t value', 5.146280012850992), ('p value', 1.934144653076191e-06)]"
      ]
     },
     "execution_count": 71,
     "metadata": {},
     "output_type": "execute_result"
    }
   ],
   "source": [
    "# Inspect linearity\n",
    "name = [\"t value\", \"p value\"]\n",
    "test = sms.linear_harvey_collier(results)\n",
    "list(zip(name, test))"
   ]
  },
  {
   "cell_type": "markdown",
   "metadata": {},
   "source": [
    "Según la prueba de Harvey-Collier, el supuesto de linealidad no se cumpliría en nuestros datos. "
   ]
  },
  {
   "cell_type": "markdown",
   "metadata": {},
   "source": [
    "### Homocedasticidad de los residuos\n",
    "\n",
    "La presencia de variaciones desiguales (heterocedasticidad) es una de las violaciones de supuestos más comunes. En estos casos, los términos de error (residuos) no son constantes en todo el rango de la variable independiente. Esta falta de varianza constante en los residuos no sesga los coeficientes estimados, pero sí causa una estimación inexacta de los errores estándar de las estimaciones."
   ]
  },
  {
   "cell_type": "markdown",
   "metadata": {},
   "source": [
    "Evaluemos este supuesto en nuestro ejemplo. Para ello, aplicaremos la preuba de Breusch-Pagan:"
   ]
  },
  {
   "cell_type": "code",
   "execution_count": 72,
   "metadata": {},
   "outputs": [
    {
     "data": {
      "text/plain": [
       "[('Lagrange multiplier statistic', 5.738434566245847),\n",
       " ('p-value', 0.056743323159302465),\n",
       " ('f-value', 2.972246426853247),\n",
       " ('f p-value', 0.05694146118483065)]"
      ]
     },
     "execution_count": 72,
     "metadata": {},
     "output_type": "execute_result"
    }
   ],
   "source": [
    "name = [\"Lagrange multiplier statistic\", \"p-value\", \"f-value\", \"f p-value\"]\n",
    "test = sms.het_breuschpagan(model.resid, model.model.exog)\n",
    "list(zip(name, test))"
   ]
  },
  {
   "cell_type": "markdown",
   "metadata": {},
   "source": [
    "Según esta prueba, no podemos rechazar la hipótesis nula de que las varianzas de los residuos son homogéneas. Dado que se trata de un caso limítrofe, veamos una prueba alternativa, la prueba de Goldfeld-Quandt:"
   ]
  },
  {
   "cell_type": "code",
   "execution_count": 73,
   "metadata": {},
   "outputs": [
    {
     "data": {
      "text/plain": [
       "[('F statistic', 27.25304213788146), ('p-value', 2.5697553689056593e-18)]"
      ]
     },
     "execution_count": 73,
     "metadata": {},
     "output_type": "execute_result"
    }
   ],
   "source": [
    "name = [\"F statistic\", \"p-value\"]\n",
    "test = sms.het_goldfeldquandt(model.resid, model.model.exog)\n",
    "list(zip(name, test))"
   ]
  },
  {
   "cell_type": "markdown",
   "metadata": {},
   "source": [
    "Esta prueba nos indica que podemos rechazar la hipótesis nula de homogeneidad de varianzas de los residuos. "
   ]
  },
  {
   "cell_type": "markdown",
   "metadata": {},
   "source": [
    "### Normalidad de los residuos\n",
    "\n",
    "Si bien técnicamente el supuesto de normalidad se aplica solo a los residuos, cualquier intento de remediar la no normalidad implica evaluar la no normalidad de las variables independientes o dependientes o ambas."
   ]
  },
  {
   "cell_type": "code",
   "execution_count": 83,
   "metadata": {},
   "outputs": [
    {
     "data": {
      "image/png": "[encoded data removed]",
      "text/plain": [
       "<Figure size 360x288 with 1 Axes>"
      ]
     },
     "metadata": {
      "needs_background": "light"
     },
     "output_type": "display_data"
    }
   ],
   "source": [
    "import pingouin as pg\n",
    "pg.qqplot(model.resid);"
   ]
  },
  {
   "cell_type": "markdown",
   "metadata": {},
   "source": [
    "Evaluemos este supuesto en nuestro ejemplo con la prueba de Jarque-Bera:"
   ]
  },
  {
   "cell_type": "code",
   "execution_count": 75,
   "metadata": {},
   "outputs": [
    {
     "data": {
      "text/plain": [
       "[('Jarque-Bera', 11.424710465430577),\n",
       " ('Chi^2 two-tail prob.', 0.0033048796108360976),\n",
       " ('Skew', 0.8572599286300349),\n",
       " ('Kurtosis', 3.6357982040396966)]"
      ]
     },
     "execution_count": 75,
     "metadata": {},
     "output_type": "execute_result"
    }
   ],
   "source": [
    "name = [\"Jarque-Bera\", \"Chi^2 two-tail prob.\", \"Skew\", \"Kurtosis\"]\n",
    "test = sms.jarque_bera(model.resid)\n",
    "list(zip(name, test))"
   ]
  },
  {
   "cell_type": "markdown",
   "metadata": {},
   "source": [
    "La prueba de Jarque-Bera nos indica que no podemos asumir la normalidad de los residuos."
   ]
  },
  {
   "cell_type": "markdown",
   "metadata": {},
   "source": [
    "### Independencia de las observaciones"
   ]
  },
  {
   "cell_type": "code",
   "execution_count": 79,
   "metadata": {},
   "outputs": [
    {
     "data": {
      "text/plain": [
       "[<matplotlib.lines.Line2D at 0x7ff7dfa9c430>]"
      ]
     },
     "execution_count": 79,
     "metadata": {},
     "output_type": "execute_result"
    },
    {
     "data": {
      "image/png": "[encoded data removed]",
      "text/plain": [
       "<Figure size 432x288 with 1 Axes>"
      ]
     },
     "metadata": {
      "needs_background": "light"
     },
     "output_type": "display_data"
    }
   ],
   "source": [
    "plt.plot(model.resid.index, model.resid)"
   ]
  },
  {
   "cell_type": "markdown",
   "metadata": {},
   "source": [
    "https://medium.com/keita-starts-data-science/heteroskedasticity-in-linear-regressions-and-python-16eb57eaa09\n",
    "https://zhiyzuo.github.io/Linear-Regression-Diagnostic-in-Python/\n",
    "\n",
    "https://www.statsmodels.org/dev/examples/notebooks/generated/regression_diagnostics.html\n",
    "https://www.statsmodels.org/dev/examples/notebooks/generated/regression_plots.html\n",
    "\n",
    "https://towardsdatascience.com/assumptions-of-linear-regression-fdb71ebeaa8b"
   ]
  },
  {
   "cell_type": "markdown",
   "metadata": {},
   "source": [
    "## Estimación y evaluación"
   ]
  },
  {
   "cell_type": "markdown",
   "metadata": {},
   "source": [
    "## Interpretación"
   ]
  },
  {
   "cell_type": "markdown",
   "metadata": {},
   "source": [
    "Sesion 1\n",
    "\n",
    "- Nociones previas: cálculos/visualizaciones basadas en álgebra de matrices y matriz de covarianza\n",
    "- Models (simple form pg 82 y 106)\n",
    "- Geometry (pg 245)\n",
    "- Linear models in matrix form (pg 203 y 208):\n",
    "Fits, Estimators\n",
    "\n",
    "http://www.utstat.toronto.edu/~brunner/books/LinearModelsInStatistics.pdf\n",
    "pg 139\n",
    "pg 339\n",
    "\n",
    "- Modelo de regresión múltiple: diseño, supuestos, estimación y evaluación, interpretación\n",
    "\n",
    "Sesion 2\n",
    "- Mate de Log\n",
    "- Modelo de regresión logística: diseño, supuestos, estimación y evaluación, interpretación - BREVE\n",
    "- Mate de ANOVA\n",
    "- MANOVA: diseño, supuestos, estimación y evaluación, interpretación"
   ]
  },
  {
   "cell_type": "markdown",
   "metadata": {},
   "source": [
    "http://www.gastonsanchez.com/matrix4sl/relation-as-linear-approximation.html"
   ]
  }
 ],
 "metadata": {
  "interpreter": {
   "hash": "bc333aaf72f12d36efbbc969b6efbd208f39cf597397e273d228d636dea83428"
  },
  "kernelspec": {
   "display_name": "Python 3.8.10 64-bit ('statspsych': virtualenv)",
   "name": "python3"
  },
  "language_info": {
   "codemirror_mode": {
    "name": "ipython",
    "version": 3
   },
   "file_extension": ".py",
   "mimetype": "text/x-python",
   "name": "python",
   "nbconvert_exporter": "python",
   "pygments_lexer": "ipython3",
   "version": "3.8.10"
  },
  "orig_nbformat": 4
 },
 "nbformat": 4,
 "nbformat_minor": 2
}
