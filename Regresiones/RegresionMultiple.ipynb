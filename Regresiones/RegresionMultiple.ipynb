{
 "cells": [
  {
   "cell_type": "markdown",
   "metadata": {},
   "source": [
    "# Regresión Múltiple"
   ]
  },
  {
   "cell_type": "markdown",
   "metadata": {},
   "source": [
    "## Nociones previas\n",
    "\n",
    "Consideremos los registros de peso de un estudio con mujeres que practican ejercicio usando un gráfico de dispersión:"
   ]
  },
  {
   "cell_type": "code",
   "execution_count": 2,
   "metadata": {},
   "outputs": [
    {
     "data": {
      "text/html": [
       "<div>\n",
       "<style scoped>\n",
       "    .dataframe tbody tr th:only-of-type {\n",
       "        vertical-align: middle;\n",
       "    }\n",
       "\n",
       "    .dataframe tbody tr th {\n",
       "        vertical-align: top;\n",
       "    }\n",
       "\n",
       "    .dataframe thead th {\n",
       "        text-align: right;\n",
       "    }\n",
       "</style>\n",
       "<table border=\"1\" class=\"dataframe\">\n",
       "  <thead>\n",
       "    <tr style=\"text-align: right;\">\n",
       "      <th></th>\n",
       "      <th>sex</th>\n",
       "      <th>weight</th>\n",
       "      <th>height</th>\n",
       "      <th>reportedWeight</th>\n",
       "      <th>reportedHeight</th>\n",
       "    </tr>\n",
       "  </thead>\n",
       "  <tbody>\n",
       "    <tr>\n",
       "      <th>2</th>\n",
       "      <td>F</td>\n",
       "      <td>58</td>\n",
       "      <td>161</td>\n",
       "      <td>51.0</td>\n",
       "      <td>159.0</td>\n",
       "    </tr>\n",
       "    <tr>\n",
       "      <th>3</th>\n",
       "      <td>F</td>\n",
       "      <td>53</td>\n",
       "      <td>161</td>\n",
       "      <td>54.0</td>\n",
       "      <td>158.0</td>\n",
       "    </tr>\n",
       "    <tr>\n",
       "      <th>5</th>\n",
       "      <td>F</td>\n",
       "      <td>59</td>\n",
       "      <td>157</td>\n",
       "      <td>59.0</td>\n",
       "      <td>155.0</td>\n",
       "    </tr>\n",
       "    <tr>\n",
       "      <th>13</th>\n",
       "      <td>F</td>\n",
       "      <td>51</td>\n",
       "      <td>161</td>\n",
       "      <td>52.0</td>\n",
       "      <td>158.0</td>\n",
       "    </tr>\n",
       "    <tr>\n",
       "      <th>14</th>\n",
       "      <td>F</td>\n",
       "      <td>64</td>\n",
       "      <td>168</td>\n",
       "      <td>64.0</td>\n",
       "      <td>165.0</td>\n",
       "    </tr>\n",
       "    <tr>\n",
       "      <th>...</th>\n",
       "      <td>...</td>\n",
       "      <td>...</td>\n",
       "      <td>...</td>\n",
       "      <td>...</td>\n",
       "      <td>...</td>\n",
       "    </tr>\n",
       "    <tr>\n",
       "      <th>188</th>\n",
       "      <td>F</td>\n",
       "      <td>58</td>\n",
       "      <td>169</td>\n",
       "      <td>54.0</td>\n",
       "      <td>166.0</td>\n",
       "    </tr>\n",
       "    <tr>\n",
       "      <th>190</th>\n",
       "      <td>F</td>\n",
       "      <td>50</td>\n",
       "      <td>158</td>\n",
       "      <td>49.0</td>\n",
       "      <td>155.0</td>\n",
       "    </tr>\n",
       "    <tr>\n",
       "      <th>193</th>\n",
       "      <td>F</td>\n",
       "      <td>59</td>\n",
       "      <td>164</td>\n",
       "      <td>59.0</td>\n",
       "      <td>165.0</td>\n",
       "    </tr>\n",
       "    <tr>\n",
       "      <th>194</th>\n",
       "      <td>F</td>\n",
       "      <td>51</td>\n",
       "      <td>156</td>\n",
       "      <td>51.0</td>\n",
       "      <td>158.0</td>\n",
       "    </tr>\n",
       "    <tr>\n",
       "      <th>195</th>\n",
       "      <td>F</td>\n",
       "      <td>62</td>\n",
       "      <td>164</td>\n",
       "      <td>61.0</td>\n",
       "      <td>161.0</td>\n",
       "    </tr>\n",
       "  </tbody>\n",
       "</table>\n",
       "<p>111 rows × 5 columns</p>\n",
       "</div>"
      ],
      "text/plain": [
       "    sex  weight  height  reportedWeight  reportedHeight\n",
       "2     F      58     161            51.0           159.0\n",
       "3     F      53     161            54.0           158.0\n",
       "5     F      59     157            59.0           155.0\n",
       "13    F      51     161            52.0           158.0\n",
       "14    F      64     168            64.0           165.0\n",
       "..   ..     ...     ...             ...             ...\n",
       "188   F      58     169            54.0           166.0\n",
       "190   F      50     158            49.0           155.0\n",
       "193   F      59     164            59.0           165.0\n",
       "194   F      51     156            51.0           158.0\n",
       "195   F      62     164            61.0           161.0\n",
       "\n",
       "[111 rows x 5 columns]"
      ]
     },
     "execution_count": 2,
     "metadata": {},
     "output_type": "execute_result"
    }
   ],
   "source": [
    "import pandas as pd\n",
    "df = pd.read_csv(\"https://socialsciences.mcmaster.ca/jfox/Books/Applied-Regression-3E/datasets/Davis.txt\", sep=r'\\s{1,}', engine='python')\n",
    "davis_data = df[df['sex'] == 'F']\n",
    "davis_data = davis_data.query('weight < 100')\n",
    "davis_data"
   ]
  },
  {
   "cell_type": "code",
   "execution_count": 12,
   "metadata": {},
   "outputs": [
    {
     "data": {
      "text/plain": [
       "<AxesSubplot:xlabel='reportedWeight', ylabel='weight'>"
      ]
     },
     "execution_count": 12,
     "metadata": {},
     "output_type": "execute_result"
    },
    {
     "data": {
      "image/png": "[encoded data removed]",
      "text/plain": [
       "<Figure size 432x288 with 1 Axes>"
      ]
     },
     "metadata": {
      "needs_background": "light"
     },
     "output_type": "display_data"
    }
   ],
   "source": [
    "import seaborn as sns\n",
    "import matplotlib.pyplot as plt\n",
    "\n",
    "sns.regplot(x='reportedWeight',\n",
    "            y='weight',\n",
    "            data = davis_data)\n",
    "#plt.xlabel('Presión Arterial - Primera lectura',size=14);\n",
    "#plt.ylabel('Presión Arterial - Segunda lectura',size=14);"
   ]
  },
  {
   "cell_type": "markdown",
   "metadata": {},
   "source": [
    "La relación entre el peso medido y el informado parece ser lineal, por lo que es razonable ajustar una línea al gráfico. Una línea nos ayudará a determinar si los sujetos del estudio de Davis fueron informadores precisos e imparciales de sus pesos, y puede proporcionar una base para predecir el peso medido de mujeres similares para las que solo está disponible el peso informado."
   ]
  },
  {
   "cell_type": "markdown",
   "metadata": {},
   "source": [
    "Denotando el peso medido por Y y el peso reportado por X, una línea que relaciona las dos variables tiene la ecuación:\n",
    "\n",
    "$$ Y = A + BX $$\n",
    "\n",
    "Sin embargo, es obvio que ninguna línea puede atravesar perfectamente todos los puntos de datos, a pesar de la fuerte relación lineal entre estas dos variables. Introducimos un residuo, E, en la ecuación de regresión para reflejar este hecho:\n",
    "\n",
    "$$ Y_{i} = A + BX_{i} + E_{i} $$\n",
    "$$ Y_{i} = \\hat{Y_{i}} + E_{i} $$\n",
    "\n",
    "donde $ \\hat{Y_{i}} = A + BX_{i} + E_{i} $ es el valor ajustado para la observación i."
   ]
  },
  {
   "cell_type": "markdown",
   "metadata": {},
   "source": [
    "Veamos esta representación de manera geométrica:\n",
    "\n",
    "<p align=\"center\">\n",
    "  <img width=\"500\" src=\"regresiongeometry.png\" alt=\"Variable Types\">\n",
    "</p>\n"
   ]
  },
  {
   "cell_type": "markdown",
   "metadata": {},
   "source": [
    "La imagen muestra que el residuo \n",
    "\n",
    "$$ E_{i} = Y_{i} - \\hat{Y_{i}} = Y_{i} - (A + BX_{i})  $$\n",
    "\n",
    "es la distancia vertical con signo entre el punto y la línea; es decir, el residuo es negativo cuando el punto está debajo de la línea y positivo cuando el punto está por encima de la línea.\n",
    "\n",
    "En primer lugar, queremos residuos que sean de pequeña magnitud, porque los residuos negativos grandes son tan ofensivos como los positivos grandes.\n",
    "\n",
    "Inmediatamente se presentan dos posibilidades: podemos emplear las distancias verticales sin signo entre los puntos y la línea, es decir, los valores absolutos de los residuales, o podemos emplear los cuadrados de los residuales.\n",
    "\n",
    "La primera posibilidad conduce a una regresión de valor mínimo absoluto (LAV): $ \\sum \\left | E_{i} \\right | $\n",
    "\n",
    "La segunda posibilidad conduce al criterio de mínimos cuadrados: $\\sum  E_{i}^{2}$\n",
    "\n",
    "Los cuadrados son más manejables matemáticamente que los valores absolutos, por lo que aquí nos centraremos en los mínimos cuadrados."
   ]
  },
  {
   "cell_type": "markdown",
   "metadata": {},
   "source": [
    "El criterio de mínimos cuadrados minimiza la suma de los residuos cuadrados en todas las observaciones; es decir, buscamos los valores de A y B que minimicen:\n",
    "\n",
    "$$ SS_{error} =  \\sum_{i=1}^{n}  E_{i}^{2} = ( Y_{i} - \\hat{Y_{i}} )^{2} $$\n",
    "\n",
    "$$ SS_{error} = \\sum (Y_{i} - A - BX_{i})^{2} $$\n",
    "\n",
    "Aplicando un poco de cálculo, se puede llegar a que los coeficientes que minimizan esta expresión son los siguientes:\n",
    "\n",
    "$$ A = \\bar{Y} - BX\\bar{X} $$\n",
    "\n",
    "$$ B =  \\frac{\\sum ( X_{i} - \\bar{X} ) (Y_{i} - \\bar{Y})}{\\sum(X_{i} - \\bar{X})^{2}}    $$\n"
   ]
  },
  {
   "cell_type": "markdown",
   "metadata": {},
   "source": [
    "Para evaluar la bondad de ajuste de nuestro modelo, necesitamos apreciarlo en perspectiva. Para ello podemos tomar la suma de cuadrados (o varianza) total de nuestros datos:\n",
    "\n",
    "$$ SS_{total} = (Y_{i} - \\bar{Y})^{2}  $$\n",
    "\n",
    "y la suma de cuadrados del modelo (o varianza explicada):\n",
    "\n",
    "$$ SS_{model} = (\\hat{Y_{i}} - \\bar{Y})^{2} $$\n",
    "\n",
    "Podemos compararlas evaluando su ratio:\n",
    "\n",
    "$$ R^{2} = \\frac{SS_{model}}{SS_{total}} = 1 - \\frac{SS_{error}}{SS_{total}} $$\n",
    "\n",
    "A esta descomposición de la variación total en componentes \"explicados\" y \"no explicados\" se le denomina *análisis de varianza* de la regresión: \n",
    "\n",
    "$$ SS_{total} = SS_{model} + SS_{error} $$"
   ]
  },
  {
   "cell_type": "markdown",
   "metadata": {},
   "source": [
    "En general, podemos extender las nociones de la regresión lineal a varias variables explicativas de manera sencilla. Para el caso general de k variables explicativas, la ecuación de regresión múltiple es:\n",
    "\n",
    "$$ Y_{i} = A + B_{1}X_{i1} + B_{2}X_{i2} + ... + B_{k}X_{ik} + E_{i} $$\n",
    "$$ Y_{i} = \\hat{Y_{i}} + E_{i} $$\n",
    "\n",
    "Y la suma de cuadrados de los residuos:\n",
    "\n",
    "$$ SS_{error} = \\sum [ (Y_{i} - ( A - B_{1}X_{1i} + B_{2}X_{i2} + ... + B_{k}X_{ik}) ] ^{2} $$"
   ]
  },
  {
   "cell_type": "markdown",
   "metadata": {},
   "source": [
    "Las variables, como X e Y en la regresión simple, pueden tratarse como vectores — $\\mathbf{x}$ e $\\mathbf{y}$ — en el espacio n-dimensional cuyos ejes están dados por las observaciones. Escrito en forma vectorial, el modelo de regresión simple es:\n",
    "\n",
    "$$ \\mathbf{y} = \\alpha \\mathbf{1_{n}} + \\beta \\mathbf{x} + \\epsilon $$\n",
    "\n",
    "Entonces, la regresión por mínimos cuadrados\n",
    "\n",
    "$$ \\mathbf{y} = \\mathbf{A1_{n}} + B\\mathbf{x} + \\mathbf{e} $$\n",
    "\n",
    "Se encuentra proyectando $\\mathbf{y}$ ortogonalmente sobre el plano generado por $\\mathbf{1_{n}}$ y $\\mathbf{x}$, minimizando así la suma de los residuos al cuadrado $ \\left \\| \\mathbf{e} \\right \\|^{2}$.\n",
    "\n",
    "Veámoslo graficamente a partir de esta imagen tomada de Fox (20): \n",
    "\n",
    "<p align=\"center\">\n",
    "  <img width=\"500\" src=\"regresionvectorgeometry.png\" alt=\"Variable Types\">\n",
    "</p>\n",
    "\n",
    "Podemos apreciar que minimizar la suma residual de cuadrados equivale a hacer que el vector $\\mathbf{e}$ sea lo más corto posible. Y que el vector $\\mathbf{ \\hat{y} }$ es la proyección ortogonal de $\\mathbf{y}$ en el plano formado por {$  \\mathbf{1_{n}}, \\mathbf{x}$ }."
   ]
  },
  {
   "cell_type": "markdown",
   "metadata": {},
   "source": [
    "Podemos simplificar la representación vectorial de la regresión simple eliminando el regresor constante $1_{n}$ y el coeficiente de intersección *A*. Esto se logra centrando los vectores en la media:\n",
    "\n",
    "<p align=\"center\">\n",
    "  <img width=\"500\" src=\"regresionvectorgeometrysimple.png\" alt=\"Variable Types\">\n",
    "</p>\n",
    "\n",
    "La correlación entre X e Y es el coseno del ángulo W que separa los vectores $\\mathbf{x^{\\star}}$ e $\\mathbf{y^{\\star}}$."
   ]
  },
  {
   "cell_type": "markdown",
   "metadata": {},
   "source": [
    "Veamos ahora la formulación del modelo de regresión en su forma matricial:\n",
    "\n",
    "$$ \\begin{bmatrix} Y_{1} \\\\ Y_{2} \\\\ \\vdots \\\\ Y_{n} \\end{bmatrix} = \\begin{bmatrix} 1 & x_{11} & \\cdots & x_{1k} \\\\ 1 & x_{21} & \\cdots & x_{2k}\\\\ \\vdots & \\vdots & & \\vdots\\\\ 1 & x_{n1} & \\cdots & x_{nk} \\end{bmatrix} \\begin{bmatrix} \\beta_{0}\\\\ \\beta_{1}\\\\ \\vdots\\\\ \\beta_{n} \\end{bmatrix} + \\begin{bmatrix} \\epsilon_{1}\\\\ \\epsilon_{2}\\\\ \\vdots\\\\ \\epsilon_{n} \\end{bmatrix} $$\n",
    "\n",
    "\n",
    "\n",
    "$$ \\mathbf{y} = \\mathbf{X} \\mathbf{\\beta} + \\mathbf{\\epsilon}  $$ \n",
    "\n",
    "donde: \n",
    "- $\\mathbf{y}$ es un vector $n \\times 1$ de observaciones de variables de respuesta;\n",
    "- $\\mathbf{X}$ es una matriz de regresores $ n \\times k + 1 $ (denominada matriz modelo), que incluye una columna inicial de 1 para el regresor constante; \n",
    "- $\\mathbf{\\beta}$ es un vector $k + 1 \\times 1$ de parámetros a estimar; \n",
    "- $\\mathbf{\\epsilon}$ un vector de errores $n \\times 1$."
   ]
  },
  {
   "cell_type": "markdown",
   "metadata": {},
   "source": [
    "Y el ajuste por el método de mínimos cuadrados:\n",
    "\n",
    "$$ \\mathbf{y} = \\mathbf{X} \\mathbf{b} + \\mathbf{e}  $$ \n",
    "\n",
    "$$ \\mathbf{b} = (\\mathbf{X}^\\mathsf{T} \\mathbf{X})^{-1} \\mathbf{X^\\mathsf{T}} \\mathbf{y}  $$ "
   ]
  },
  {
   "cell_type": "markdown",
   "metadata": {},
   "source": [
    "Ejemplo de regresión múltiple matricial."
   ]
  },
  {
   "cell_type": "code",
   "execution_count": 8,
   "metadata": {},
   "outputs": [
    {
     "data": {
      "text/html": [
       "<div>\n",
       "<style scoped>\n",
       "    .dataframe tbody tr th:only-of-type {\n",
       "        vertical-align: middle;\n",
       "    }\n",
       "\n",
       "    .dataframe tbody tr th {\n",
       "        vertical-align: top;\n",
       "    }\n",
       "\n",
       "    .dataframe thead th {\n",
       "        text-align: right;\n",
       "    }\n",
       "</style>\n",
       "<table border=\"1\" class=\"dataframe\">\n",
       "  <thead>\n",
       "    <tr style=\"text-align: right;\">\n",
       "      <th></th>\n",
       "      <th>simplicity</th>\n",
       "      <th>fatalism</th>\n",
       "      <th>depression</th>\n",
       "    </tr>\n",
       "  </thead>\n",
       "  <tbody>\n",
       "    <tr>\n",
       "      <th>1</th>\n",
       "      <td>0.75934</td>\n",
       "      <td>0.10673</td>\n",
       "      <td>0.41865</td>\n",
       "    </tr>\n",
       "    <tr>\n",
       "      <th>2</th>\n",
       "      <td>0.72717</td>\n",
       "      <td>0.99915</td>\n",
       "      <td>0.51688</td>\n",
       "    </tr>\n",
       "    <tr>\n",
       "      <th>3</th>\n",
       "      <td>0.62176</td>\n",
       "      <td>0.03811</td>\n",
       "      <td>0.70699</td>\n",
       "    </tr>\n",
       "    <tr>\n",
       "      <th>4</th>\n",
       "      <td>0.83522</td>\n",
       "      <td>0.42218</td>\n",
       "      <td>0.65639</td>\n",
       "    </tr>\n",
       "    <tr>\n",
       "      <th>5</th>\n",
       "      <td>0.47697</td>\n",
       "      <td>0.81423</td>\n",
       "      <td>0.53518</td>\n",
       "    </tr>\n",
       "    <tr>\n",
       "      <th>...</th>\n",
       "      <td>...</td>\n",
       "      <td>...</td>\n",
       "      <td>...</td>\n",
       "    </tr>\n",
       "    <tr>\n",
       "      <th>78</th>\n",
       "      <td>0.72117</td>\n",
       "      <td>1.50039</td>\n",
       "      <td>1.14913</td>\n",
       "    </tr>\n",
       "    <tr>\n",
       "      <th>79</th>\n",
       "      <td>1.59752</td>\n",
       "      <td>2.05016</td>\n",
       "      <td>1.16443</td>\n",
       "    </tr>\n",
       "    <tr>\n",
       "      <th>80</th>\n",
       "      <td>2.39515</td>\n",
       "      <td>0.88910</td>\n",
       "      <td>2.24452</td>\n",
       "    </tr>\n",
       "    <tr>\n",
       "      <th>81</th>\n",
       "      <td>1.31493</td>\n",
       "      <td>1.04058</td>\n",
       "      <td>1.37153</td>\n",
       "    </tr>\n",
       "    <tr>\n",
       "      <th>82</th>\n",
       "      <td>0.97903</td>\n",
       "      <td>1.23973</td>\n",
       "      <td>1.65687</td>\n",
       "    </tr>\n",
       "  </tbody>\n",
       "</table>\n",
       "<p>82 rows × 3 columns</p>\n",
       "</div>"
      ],
      "text/plain": [
       "    simplicity  fatalism  depression\n",
       "1      0.75934   0.10673     0.41865\n",
       "2      0.72717   0.99915     0.51688\n",
       "3      0.62176   0.03811     0.70699\n",
       "4      0.83522   0.42218     0.65639\n",
       "5      0.47697   0.81423     0.53518\n",
       "..         ...       ...         ...\n",
       "78     0.72117   1.50039     1.14913\n",
       "79     1.59752   2.05016     1.16443\n",
       "80     2.39515   0.88910     2.24452\n",
       "81     1.31493   1.04058     1.37153\n",
       "82     0.97903   1.23973     1.65687\n",
       "\n",
       "[82 rows x 3 columns]"
      ]
     },
     "execution_count": 8,
     "metadata": {},
     "output_type": "execute_result"
    }
   ],
   "source": [
    "df = pd.read_csv(\"https://socialsciences.mcmaster.ca/jfox/Books/Applied-Regression-3E/datasets/Ginzberg.txt\", sep=r'\\s{1,}', engine='python')\n",
    "ginzberg_data = df.drop(columns=['simplicity', 'fatalism', 'depression'])\n",
    "ginzberg_data.rename(columns= {\"adjsimplicity\": \"simplicity\", \"adjfatalism\":\"fatalism\", \"adjdepression\":\"depression\"}, inplace=True  )\n",
    "ginzberg_data"
   ]
  },
  {
   "cell_type": "markdown",
   "metadata": {},
   "source": [
    "## Diseño de un modelo de regresión múltiple\n",
    "\n",
    "La adaptabilidad y la flexibilidad son dos razones principales para el uso generalizado de la regresión múltiple en una amplia variedad de aplicaciones. Como verás en las siguientes secciones, la regresión múltiple puede representar una amplia gama de relaciones de dependencia. Al hacerlo, el investigador incorpora tres características:\n",
    "\n",
    "- Tamaño de muestra\n",
    "- Transformaciones de datos\n",
    "- Naturaleza de la relación de las variables independientes"
   ]
  },
  {
   "cell_type": "markdown",
   "metadata": {},
   "source": [
    "### Tamaño de muestra\n",
    "\n",
    "El investigador siempre debe estar consciente de la potencia estadística anticipada de cualquier análisis de regresión múltiple propuesto. Para ello tomemos como referencia la siguiente tabla tomada de Hair et al. (2019):\n",
    "\n",
    "<p align=\"center\">\n",
    "  <img width=\"500\" src=\"regresionstatisticalpower.png\" alt=\"Variable Types\">\n",
    "</p>\n",
    "\n",
    "La tabla muestra el $R^{2}$ mínimo que se puede encontrar estadísticamente significativo con una potencia de .80 para diferentes números de variables independientes y tamaños de muestra. "
   ]
  },
  {
   "cell_type": "markdown",
   "metadata": {},
   "source": [
    "Adicionalmente, se recomienda considerar un **ratio de observaciones a variables de 5:1**, pero la relación preferida es 15:1 o 20:1.\n",
    "\n",
    "Esto permite maximizar los grados de libertad, lo cual mejora la generalización y aborda tanto la parsimonia del modelo como preocupaciones sobre el tamaño de la muestra."
   ]
  },
  {
   "cell_type": "markdown",
   "metadata": {},
   "source": [
    "### Transformaciones de datos\n",
    "\n",
    "Un problema que a menudo enfrentan los investigadores es el deseo de incorporar datos no métricos, como género u ocupación, en una ecuación de regresión. Sin embargo, como ya comentamos, la regresión se limita a los datos métricos.\n",
    "\n",
    "¿Qué podemos hacer cuando las variables independientes no son métricas y tienen dos o más categorías?\n",
    "\n",
    "Podemos emplear variables dicotómicas, conocidas como variables ficticias, que pueden actuar como variables independientes de reemplazo. Cada variable ficticia representa una categoría de una variable independiente no métrica, y cualquier variable no métrica con k categorías se puede representar con k-1 variables ficticias.\n",
    "\n",
    "La forma más común es la codificación de indicadores en la que cada categoría de la variable no métrica está representada por 1 o 0. "
   ]
  },
  {
   "cell_type": "markdown",
   "metadata": {},
   "source": [
    "### Efectos moderadores \n",
    "\n",
    "¿Qué pasa si una relación de variable independiente-dependiente se ve afectada por otra variable independiente? Esta situación se denomina efecto moderador y se produce cuando la variable moderadora, una segunda variable independiente, cambia la forma de la relación entre otra variable independiente y la variable dependiente. También se conoce como efecto de interacción y es similar al término de interacción que se encuentra en ANOVA y MANOVA.\n",
    "\n",
    "La relación moderadora puede expresarse de la siguiente forma:\n",
    "\n",
    "$$ Y = B_{0} + B_{1}X_{1} + B_{2}X_{2} + B_{3}X_{1}X_{2} $$\n",
    "\n",
    "donde:\n",
    "\n",
    "- $B_{0}$: intercepto\n",
    "- $B_{1}X_{1}$: efecto lineal de $X_{1}$\n",
    "- $B_{2}X_{2}$: efecto lineal de $X_{2}$\n",
    "- $B_{3}X_{1}X_{2}$: efecto moderador de $X_{2}$ en $X_{1}$ \n",
    "\n",
    "### Mediación\n",
    "\n",
    "La mediación ocurre cuando el efecto de una variable independiente puede \"funcionar\" a través de una variable mediadora para predecir la variable dependiente. En esta situación, la variable independiente puede tener un efecto directo sobre la medida dependiente, así como un efecto indirecto a través de la variable mediadora sobre la variable dependiente. Revisaremos más sobre este concepto en la sección de modelos de ecuaciones estructurales.\n",
    "\n",
    "En general, la selección de una variable para que sea mediadora o moderadora debe basarse en fundamentos conceptuales más que empíricos.\n"
   ]
  },
  {
   "cell_type": "markdown",
   "metadata": {},
   "source": [
    "## Supuestos de un modelo de regresión múltiple\n",
    "\n",
    "Los supuestos que se examinarán se encuentran en cuatro áreas:\n",
    "\n",
    "- Linealidad del fenómeno medido\n",
    "- Varianza constante de los términos de error\n",
    "- Normalidad de la distribución del término de error\n",
    "- Independencia de los términos de error.\n",
    "\n",
    "En general, **se evalúa en los residuos**. Es decir, en la diferencia entre los valores observados y los valores predichos para la variable dependiente."
   ]
  },
  {
   "cell_type": "markdown",
   "metadata": {},
   "source": [
    "Para ello, podemos optar por estrategias gráficas e inferenciales.\n",
    "\n",
    "Para la evaluación gráfica basta aplicar los mismos principios que revisamos en la Unidad 2, pero aplicados al gráfico de residuales:\n",
    "\n",
    "<p align=\"center\">\n",
    "  <img width=\"500\" src=\"residualsgraphs.png\" alt=\"Variable Types\">\n",
    "</p>"
   ]
  },
  {
   "cell_type": "markdown",
   "metadata": {},
   "source": [
    "Revisemos estos cuatro criterios en un ejemplo. Consieremos el siguiente modelo de regresión múltiple:\n",
    "\n",
    "$$ Y_{Depression} = B_{0} + B_{Fatalism} X_{Fatalism} + B_{Simplicity} X_{Simplicity} $$"
   ]
  },
  {
   "cell_type": "code",
   "execution_count": 11,
   "metadata": {},
   "outputs": [],
   "source": [
    "import statsmodels.formula.api as smf\n",
    "import statsmodels.stats.api as sms\n",
    "import statsmodels.api as sm\n",
    "\n",
    "# Fit regression model \n",
    "model = smf.ols(\"depression ~ fatalism + simplicity\", data=ginzberg_data).fit();"
   ]
  },
  {
   "cell_type": "markdown",
   "metadata": {},
   "source": [
    "### Linealidad\n",
    "\n",
    "La linealidad de la relación entre las variables dependientes e independientes representa el grado en que el cambio en la variable dependiente está asociado con la variable independiente."
   ]
  },
  {
   "cell_type": "markdown",
   "metadata": {},
   "source": [
    "Visualicemos la linealidad de los residuos en nuestro ejemplo: "
   ]
  },
  {
   "cell_type": "code",
   "execution_count": 12,
   "metadata": {},
   "outputs": [
    {
     "data": {
      "image/png": "[encoded data removed]",
      "text/plain": [
       "<Figure size 432x288 with 1 Axes>"
      ]
     },
     "metadata": {
      "needs_background": "light"
     },
     "output_type": "display_data"
    },
    {
     "data": {
      "image/png": "[encoded data removed]",
      "text/plain": [
       "<Figure size 432x288 with 1 Axes>"
      ]
     },
     "metadata": {
      "needs_background": "light"
     },
     "output_type": "display_data"
    }
   ],
   "source": [
    "import seaborn as sns\n",
    "import matplotlib.pyplot as plt\n",
    "\n",
    "plt.figure(1)\n",
    "sns.residplot(x='fatalism', y='depression', x_partial='simplicity', data = ginzberg_data, lowess=True);\n",
    "plt.figure(2)\n",
    "sns.residplot(x='simplicity', y='depression', x_partial='fatalism', data = ginzberg_data, lowess=True);"
   ]
  },
  {
   "cell_type": "markdown",
   "metadata": {},
   "source": [
    "Aquí podemos apreciar que no hay una estructura marcadamente definida en los residuos, dado que la linea entera se aproxima a la línea punteada (que representa el valor predicho por el modelo) para cada regresor (variable independiente predictora). Aunque para el caso de la variable `simplicity` sí hay una desviación importante."
   ]
  },
  {
   "cell_type": "markdown",
   "metadata": {},
   "source": [
    "Podemos confirmar nuestra apreciación gráfica con la Prueba del multiplicador de Harvey-Collier, que evalúa la hipótesis nula de que la especificación lineal es correcta."
   ]
  },
  {
   "cell_type": "code",
   "execution_count": 14,
   "metadata": {},
   "outputs": [
    {
     "data": {
      "text/plain": [
       "[('t value', 4.990214882982904), ('p value', 3.581697397195157e-06)]"
      ]
     },
     "execution_count": 14,
     "metadata": {},
     "output_type": "execute_result"
    }
   ],
   "source": [
    "# Inspect linearity\n",
    "name = [\"t value\", \"p value\"]\n",
    "test = sms.linear_harvey_collier(model)\n",
    "list(zip(name, test))"
   ]
  },
  {
   "cell_type": "markdown",
   "metadata": {},
   "source": [
    "Según la prueba de Harvey-Collier, el supuesto de linealidad no se cumpliría en nuestros datos. "
   ]
  },
  {
   "cell_type": "markdown",
   "metadata": {},
   "source": [
    "### Homocedasticidad de los residuos\n",
    "\n",
    "La presencia de variaciones desiguales (heterocedasticidad) es una de las violaciones de supuestos más comunes. En estos casos, los términos de error (residuos) no son constantes en todo el rango de la variable independiente. Esta falta de varianza constante en los residuos no sesga los coeficientes estimados, pero sí causa una estimación inexacta de los errores estándar de las estimaciones."
   ]
  },
  {
   "cell_type": "markdown",
   "metadata": {},
   "source": [
    "Evaluemos este supuesto en nuestro ejemplo. Para ello, aplicaremos la preuba de Breusch-Pagan:"
   ]
  },
  {
   "cell_type": "code",
   "execution_count": 15,
   "metadata": {},
   "outputs": [
    {
     "data": {
      "text/plain": [
       "[('Lagrange multiplier statistic', 8.529338306429969),\n",
       " ('p-value', 0.014056516917251134),\n",
       " ('f-value', 4.585624456591348),\n",
       " ('f p-value', 0.013057315679233425)]"
      ]
     },
     "execution_count": 15,
     "metadata": {},
     "output_type": "execute_result"
    }
   ],
   "source": [
    "name = [\"Lagrange multiplier statistic\", \"p-value\", \"f-value\", \"f p-value\"]\n",
    "test = sms.het_breuschpagan(model.resid, model.model.exog)\n",
    "list(zip(name, test))"
   ]
  },
  {
   "cell_type": "markdown",
   "metadata": {},
   "source": [
    "Según esta prueba, no podemos rechazar la hipótesis nula de que las varianzas de los residuos son homogéneas. Dado que se trata de un caso limítrofe, veamos una prueba alternativa, la prueba de Goldfeld-Quandt:"
   ]
  },
  {
   "cell_type": "code",
   "execution_count": 16,
   "metadata": {},
   "outputs": [
    {
     "data": {
      "text/plain": [
       "[('F statistic', 6.043328223588674), ('p-value', 1.0262518893558848e-07)]"
      ]
     },
     "execution_count": 16,
     "metadata": {},
     "output_type": "execute_result"
    }
   ],
   "source": [
    "name = [\"F statistic\", \"p-value\"]\n",
    "test = sms.het_goldfeldquandt(model.resid, model.model.exog)\n",
    "list(zip(name, test))"
   ]
  },
  {
   "cell_type": "markdown",
   "metadata": {},
   "source": [
    "Esta prueba nos indica que podemos rechazar la hipótesis nula de homogeneidad de varianzas de los residuos. "
   ]
  },
  {
   "cell_type": "markdown",
   "metadata": {},
   "source": [
    "### Normalidad de los residuos\n",
    "\n",
    "Si bien técnicamente el supuesto de normalidad se aplica solo a los residuos, cualquier intento de remediar la no normalidad implica evaluar la no normalidad de las variables independientes o dependientes o ambas."
   ]
  },
  {
   "cell_type": "code",
   "execution_count": 17,
   "metadata": {},
   "outputs": [
    {
     "name": "stderr",
     "output_type": "stream",
     "text": [
      "/home/renato/.virtualenvs/statspsych/lib/python3.8/site-packages/outdated/utils.py:14: OutdatedPackageWarning: The package pingouin is out of date. Your version is 0.4.0, the latest is 0.5.0.\n",
      "Set the environment variable OUTDATED_IGNORE=1 to disable these warnings.\n",
      "  return warn(\n"
     ]
    },
    {
     "data": {
      "image/png": "[encoded data removed]",
      "text/plain": [
       "<Figure size 360x288 with 1 Axes>"
      ]
     },
     "metadata": {
      "needs_background": "light"
     },
     "output_type": "display_data"
    }
   ],
   "source": [
    "import pingouin as pg\n",
    "pg.qqplot(model.resid);"
   ]
  },
  {
   "cell_type": "markdown",
   "metadata": {},
   "source": [
    "Evaluemos este supuesto en nuestro ejemplo con la prueba de Jarque-Bera:"
   ]
  },
  {
   "cell_type": "code",
   "execution_count": 18,
   "metadata": {},
   "outputs": [
    {
     "data": {
      "text/plain": [
       "[('Jarque-Bera', 10.560741637838635),\n",
       " ('Chi^2 two-tail prob.', 0.005090542773094273),\n",
       " ('Skew', 0.8362010990797298),\n",
       " ('Kurtosis', 3.5422357970862306)]"
      ]
     },
     "execution_count": 18,
     "metadata": {},
     "output_type": "execute_result"
    }
   ],
   "source": [
    "name = [\"Jarque-Bera\", \"Chi^2 two-tail prob.\", \"Skew\", \"Kurtosis\"]\n",
    "test = sms.jarque_bera(model.resid)\n",
    "list(zip(name, test))"
   ]
  },
  {
   "cell_type": "markdown",
   "metadata": {},
   "source": [
    "La prueba de Jarque-Bera nos indica que no podemos asumir la normalidad de los residuos."
   ]
  },
  {
   "cell_type": "markdown",
   "metadata": {},
   "source": [
    "### Independencia de las observaciones\n",
    "\n",
    "Significa que cada valor predicho es independiente (no está relacionado con ninguna otra predicción). Es decir, no están agrupados ni secuenciados por ninguna variable. \n",
    "\n",
    "Podemos identificar mejor tal ocurrencia trazando los residuales contra cualquier posible agrupación o variable de secuenciación. Si los residuos son independientes, el patrón debe parecer aleatorio y similar al gráfico nulo de residuos. Las infracciones se identificarán mediante un patrón constante en los residuos."
   ]
  },
  {
   "cell_type": "markdown",
   "metadata": {},
   "source": [
    "## Estimación y evaluación\n",
    "\n",
    "En esta etapa, el investigador debe realizar tres tareas básicas:\n",
    "- Seleccionar un método para especificar el modelo de regresión que se va a estimar.\n",
    "- Evaluar la significancia estadística del modelo general en la predicción de la variable dependiente.\n",
    "- Determinar si alguna de las observaciones ejerce una influencia indebida en los resultados."
   ]
  },
  {
   "cell_type": "markdown",
   "metadata": {},
   "source": [
    "### Especificación del modelo de regresión\n",
    "\n",
    "Si bien el investigador puede optar por utilizar el conjunto original de variables en la estimación del modelo, las cuestiones de multicolinealidad en la mayoría de las situaciones ameritan la consideración de alguna forma de reducción dimensional. Por ejemplo, a través de un AFC o un PCA.\n",
    "\n",
    "El enfoque más simple, aunque quizás el más exigente, para especificar el modelo de regresión es emplear un enfoque confirmatorio (también conocido como simultáneo) en el que el investigador especifica el conjunto exacto de variables independientes que se incluirán.\n",
    "\n",
    "Otro enfoque para la selección de variables es un conjunto emergente de técnicas que actúan sobre las estimaciones de regresión reales para \"reducir\" las estimaciones en función de su varianza. Estas técnicas son especialmente útiles cuando (a) hay altos grados de multicolinealidad o (b) el número de variables excede el número de observaciones en la muestra. Entre estas podemos encontrar a la regresión rígida y a LASSO."
   ]
  },
  {
   "cell_type": "markdown",
   "metadata": {},
   "source": [
    "### Examinar la significancia estadística del modelo\n",
    "\n",
    "Basados solo en una muestra, necesitamos probar la hipótesis de que nuestro modelo de regresión puede representar la población en lugar de solo nuestra muestra. Estas pruebas estadísticas adoptan dos formas básicas: una prueba de la variación explicada (coeficiente de determinación) y una prueba de cada coeficiente de regresión.\n",
    "\n",
    "Examinemos la significancia estadística de nuestro modelo. Para ello, definimos el modelo de regresión y lo ajustamos a nuestros datos. Dado que no podíamos cumplir con el supuesto de homocedasticidad de los residuos, procedemos a utilizar un estimador que sea robusto a la heterocedasticidad: \"HC3\"."
   ]
  },
  {
   "cell_type": "code",
   "execution_count": 27,
   "metadata": {},
   "outputs": [
    {
     "data": {
      "text/html": [
       "<table class=\"simpletable\">\n",
       "<caption>OLS Regression Results</caption>\n",
       "<tr>\n",
       "  <th>Dep. Variable:</th>       <td>depression</td>    <th>  R-squared:         </th> <td>   0.433</td>\n",
       "</tr>\n",
       "<tr>\n",
       "  <th>Model:</th>                   <td>OLS</td>       <th>  Adj. R-squared:    </th> <td>   0.419</td>\n",
       "</tr>\n",
       "<tr>\n",
       "  <th>Method:</th>             <td>Least Squares</td>  <th>  F-statistic:       </th> <td>   15.27</td>\n",
       "</tr>\n",
       "<tr>\n",
       "  <th>Date:</th>             <td>Sun, 31 Oct 2021</td> <th>  Prob (F-statistic):</th> <td>2.48e-06</td>\n",
       "</tr>\n",
       "<tr>\n",
       "  <th>Time:</th>                 <td>00:18:48</td>     <th>  Log-Likelihood:    </th> <td> -35.735</td>\n",
       "</tr>\n",
       "<tr>\n",
       "  <th>No. Observations:</th>      <td>    82</td>      <th>  AIC:               </th> <td>   77.47</td>\n",
       "</tr>\n",
       "<tr>\n",
       "  <th>Df Residuals:</th>          <td>    79</td>      <th>  BIC:               </th> <td>   84.69</td>\n",
       "</tr>\n",
       "<tr>\n",
       "  <th>Df Model:</th>              <td>     2</td>      <th>                     </th>     <td> </td>   \n",
       "</tr>\n",
       "<tr>\n",
       "  <th>Covariance Type:</th>         <td>HC3</td>       <th>                     </th>     <td> </td>   \n",
       "</tr>\n",
       "</table>\n",
       "<table class=\"simpletable\">\n",
       "<tr>\n",
       "       <td></td>         <th>coef</th>     <th>std err</th>      <th>z</th>      <th>P>|z|</th>  <th>[0.025</th>    <th>0.975]</th>  \n",
       "</tr>\n",
       "<tr>\n",
       "  <th>Intercept</th>  <td>    0.2492</td> <td>    0.124</td> <td>    2.004</td> <td> 0.045</td> <td>    0.006</td> <td>    0.493</td>\n",
       "</tr>\n",
       "<tr>\n",
       "  <th>fatalism</th>   <td>    0.3845</td> <td>    0.131</td> <td>    2.938</td> <td> 0.003</td> <td>    0.128</td> <td>    0.641</td>\n",
       "</tr>\n",
       "<tr>\n",
       "  <th>simplicity</th> <td>    0.3663</td> <td>    0.145</td> <td>    2.526</td> <td> 0.012</td> <td>    0.082</td> <td>    0.651</td>\n",
       "</tr>\n",
       "</table>\n",
       "<table class=\"simpletable\">\n",
       "<tr>\n",
       "  <th>Omnibus:</th>       <td>10.510</td> <th>  Durbin-Watson:     </th> <td>   1.178</td>\n",
       "</tr>\n",
       "<tr>\n",
       "  <th>Prob(Omnibus):</th> <td> 0.005</td> <th>  Jarque-Bera (JB):  </th> <td>  10.561</td>\n",
       "</tr>\n",
       "<tr>\n",
       "  <th>Skew:</th>          <td> 0.836</td> <th>  Prob(JB):          </th> <td> 0.00509</td>\n",
       "</tr>\n",
       "<tr>\n",
       "  <th>Kurtosis:</th>      <td> 3.542</td> <th>  Cond. No.          </th> <td>    5.34</td>\n",
       "</tr>\n",
       "</table><br/><br/>Notes:<br/>[1] Standard Errors are heteroscedasticity robust (HC3)"
      ],
      "text/plain": [
       "<class 'statsmodels.iolib.summary.Summary'>\n",
       "\"\"\"\n",
       "                            OLS Regression Results                            \n",
       "==============================================================================\n",
       "Dep. Variable:             depression   R-squared:                       0.433\n",
       "Model:                            OLS   Adj. R-squared:                  0.419\n",
       "Method:                 Least Squares   F-statistic:                     15.27\n",
       "Date:                Sun, 31 Oct 2021   Prob (F-statistic):           2.48e-06\n",
       "Time:                        00:18:48   Log-Likelihood:                -35.735\n",
       "No. Observations:                  82   AIC:                             77.47\n",
       "Df Residuals:                      79   BIC:                             84.69\n",
       "Df Model:                           2                                         \n",
       "Covariance Type:                  HC3                                         \n",
       "==============================================================================\n",
       "                 coef    std err          z      P>|z|      [0.025      0.975]\n",
       "------------------------------------------------------------------------------\n",
       "Intercept      0.2492      0.124      2.004      0.045       0.006       0.493\n",
       "fatalism       0.3845      0.131      2.938      0.003       0.128       0.641\n",
       "simplicity     0.3663      0.145      2.526      0.012       0.082       0.651\n",
       "==============================================================================\n",
       "Omnibus:                       10.510   Durbin-Watson:                   1.178\n",
       "Prob(Omnibus):                  0.005   Jarque-Bera (JB):               10.561\n",
       "Skew:                           0.836   Prob(JB):                      0.00509\n",
       "Kurtosis:                       3.542   Cond. No.                         5.34\n",
       "==============================================================================\n",
       "\n",
       "Notes:\n",
       "[1] Standard Errors are heteroscedasticity robust (HC3)\n",
       "\"\"\""
      ]
     },
     "execution_count": 27,
     "metadata": {},
     "output_type": "execute_result"
    }
   ],
   "source": [
    "new_model = smf.ols(\"depression ~ fatalism + simplicity\", data=ginzberg_data).fit(cov_type='HC3');\n",
    "new_model.summary()"
   ]
  },
  {
   "cell_type": "markdown",
   "metadata": {},
   "source": [
    "#### Importancia del modelo general\n",
    "\n",
    "Para probar la hipótesis de que la cantidad de variación explicada por el modelo de regresión es mayor que la predicción de referencia (es decir, que R2 es significativamente mayor que cero), el ratio F se calcula como:\n",
    "\n",
    "$$ F_{ratio} = \\frac{\\frac{SS_{model}}{df_{model}}}{\\frac{SS_{residual}}{df_{residual}}} $$\n",
    "\n",
    "donde:\n",
    "- $SS_{model}$: # coeficientes estimados (incluido la intersección) - 1\n",
    "- $SS_{residual}$: $N$ - # coeficientes estimados (incluida la intersección)\n",
    "  "
   ]
  },
  {
   "cell_type": "markdown",
   "metadata": {},
   "source": [
    "Usando la distribución F, podemos hacer una prueba estadística para determinar si la razón es diferente de cero (es decir, estadísticamente significativa). En aquellos casos en los que es estadísticamente significativo, el investigador puede estar seguro de que el modelo de regresión no es específico solo para esta muestra, sino que se espera que sea significativo en múltiples muestras de esta población."
   ]
  },
  {
   "cell_type": "markdown",
   "metadata": {},
   "source": [
    "Existen tres aspectos a considerar:\n",
    "\n",
    "- Ratio de varianzas: La parte superior de la razón F es la varianza explicada por el modelo de regresión, mientras que la parte inferior es la varianza no explicada.\n",
    "- Magnitud de $R^{2}$: Cuidado de asumir siempre que los resultados estadísticamente significativos también lo son en la práctica. En muestras grandes puede observarse valores pequeños de $R^{2}$ (por ejemplo, 5% o 10%) estadísticamente significativos.\n",
    "- $R^{2}$ ajustado: Se utiliza para comparar modelos de regresión."
   ]
  },
  {
   "cell_type": "markdown",
   "metadata": {},
   "source": [
    "#### Significancia de los coeficientes de regresión\n",
    "\n",
    "Podemos considerar:\n",
    "- Valor p: Evalúa la hipótesis nula de que el coeficiente es igual a cero.\n",
    "- Intervalo de confianza: Un coeficiente se considera estadísticamente significativo si el intervalo de confianza no incluye cero.\n",
    "- Error estándar: La variación esperada de los coeficientes estimados debido al error de muestreo. Se trata de la dispersión esperada de los coeficientes estimados a partir de muestras repetidas de este tamaño.\n",
    "- Magnitud de los coeficientes: Se considera el signo y el tamaño de cualquier coeficiente significativo para asegurarse de que cumple con las necesidades prácticas de la investigación. \n",
    "\n",
    "En general, muestras más grandes hacen que la prueba de significancia sea más precisa."
   ]
  },
  {
   "cell_type": "markdown",
   "metadata": {},
   "source": [
    "Retomando nuestro ejemplo:"
   ]
  },
  {
   "cell_type": "code",
   "execution_count": 28,
   "metadata": {},
   "outputs": [
    {
     "data": {
      "text/html": [
       "<table class=\"simpletable\">\n",
       "<caption>OLS Regression Results</caption>\n",
       "<tr>\n",
       "  <th>Dep. Variable:</th>       <td>depression</td>    <th>  R-squared:         </th> <td>   0.433</td>\n",
       "</tr>\n",
       "<tr>\n",
       "  <th>Model:</th>                   <td>OLS</td>       <th>  Adj. R-squared:    </th> <td>   0.419</td>\n",
       "</tr>\n",
       "<tr>\n",
       "  <th>Method:</th>             <td>Least Squares</td>  <th>  F-statistic:       </th> <td>   15.27</td>\n",
       "</tr>\n",
       "<tr>\n",
       "  <th>Date:</th>             <td>Sun, 31 Oct 2021</td> <th>  Prob (F-statistic):</th> <td>2.48e-06</td>\n",
       "</tr>\n",
       "<tr>\n",
       "  <th>Time:</th>                 <td>12:15:55</td>     <th>  Log-Likelihood:    </th> <td> -35.735</td>\n",
       "</tr>\n",
       "<tr>\n",
       "  <th>No. Observations:</th>      <td>    82</td>      <th>  AIC:               </th> <td>   77.47</td>\n",
       "</tr>\n",
       "<tr>\n",
       "  <th>Df Residuals:</th>          <td>    79</td>      <th>  BIC:               </th> <td>   84.69</td>\n",
       "</tr>\n",
       "<tr>\n",
       "  <th>Df Model:</th>              <td>     2</td>      <th>                     </th>     <td> </td>   \n",
       "</tr>\n",
       "<tr>\n",
       "  <th>Covariance Type:</th>         <td>HC3</td>       <th>                     </th>     <td> </td>   \n",
       "</tr>\n",
       "</table>\n",
       "<table class=\"simpletable\">\n",
       "<tr>\n",
       "       <td></td>         <th>coef</th>     <th>std err</th>      <th>z</th>      <th>P>|z|</th>  <th>[0.025</th>    <th>0.975]</th>  \n",
       "</tr>\n",
       "<tr>\n",
       "  <th>Intercept</th>  <td>    0.2492</td> <td>    0.124</td> <td>    2.004</td> <td> 0.045</td> <td>    0.006</td> <td>    0.493</td>\n",
       "</tr>\n",
       "<tr>\n",
       "  <th>fatalism</th>   <td>    0.3845</td> <td>    0.131</td> <td>    2.938</td> <td> 0.003</td> <td>    0.128</td> <td>    0.641</td>\n",
       "</tr>\n",
       "<tr>\n",
       "  <th>simplicity</th> <td>    0.3663</td> <td>    0.145</td> <td>    2.526</td> <td> 0.012</td> <td>    0.082</td> <td>    0.651</td>\n",
       "</tr>\n",
       "</table>\n",
       "<table class=\"simpletable\">\n",
       "<tr>\n",
       "  <th>Omnibus:</th>       <td>10.510</td> <th>  Durbin-Watson:     </th> <td>   1.178</td>\n",
       "</tr>\n",
       "<tr>\n",
       "  <th>Prob(Omnibus):</th> <td> 0.005</td> <th>  Jarque-Bera (JB):  </th> <td>  10.561</td>\n",
       "</tr>\n",
       "<tr>\n",
       "  <th>Skew:</th>          <td> 0.836</td> <th>  Prob(JB):          </th> <td> 0.00509</td>\n",
       "</tr>\n",
       "<tr>\n",
       "  <th>Kurtosis:</th>      <td> 3.542</td> <th>  Cond. No.          </th> <td>    5.34</td>\n",
       "</tr>\n",
       "</table><br/><br/>Notes:<br/>[1] Standard Errors are heteroscedasticity robust (HC3)"
      ],
      "text/plain": [
       "<class 'statsmodels.iolib.summary.Summary'>\n",
       "\"\"\"\n",
       "                            OLS Regression Results                            \n",
       "==============================================================================\n",
       "Dep. Variable:             depression   R-squared:                       0.433\n",
       "Model:                            OLS   Adj. R-squared:                  0.419\n",
       "Method:                 Least Squares   F-statistic:                     15.27\n",
       "Date:                Sun, 31 Oct 2021   Prob (F-statistic):           2.48e-06\n",
       "Time:                        12:15:55   Log-Likelihood:                -35.735\n",
       "No. Observations:                  82   AIC:                             77.47\n",
       "Df Residuals:                      79   BIC:                             84.69\n",
       "Df Model:                           2                                         \n",
       "Covariance Type:                  HC3                                         \n",
       "==============================================================================\n",
       "                 coef    std err          z      P>|z|      [0.025      0.975]\n",
       "------------------------------------------------------------------------------\n",
       "Intercept      0.2492      0.124      2.004      0.045       0.006       0.493\n",
       "fatalism       0.3845      0.131      2.938      0.003       0.128       0.641\n",
       "simplicity     0.3663      0.145      2.526      0.012       0.082       0.651\n",
       "==============================================================================\n",
       "Omnibus:                       10.510   Durbin-Watson:                   1.178\n",
       "Prob(Omnibus):                  0.005   Jarque-Bera (JB):               10.561\n",
       "Skew:                           0.836   Prob(JB):                      0.00509\n",
       "Kurtosis:                       3.542   Cond. No.                         5.34\n",
       "==============================================================================\n",
       "\n",
       "Notes:\n",
       "[1] Standard Errors are heteroscedasticity robust (HC3)\n",
       "\"\"\""
      ]
     },
     "execution_count": 28,
     "metadata": {},
     "output_type": "execute_result"
    }
   ],
   "source": [
    "new_model.summary()"
   ]
  },
  {
   "cell_type": "markdown",
   "metadata": {},
   "source": [
    "Podemos apreciar que el modelo de regresión es estadísticamente significativo y explica el 43% de la varianza. Por otra parte, vemos que el intercepto y las dos variables predictoras son estadísticamente significativas y tienen una influencia similar en el modelo. "
   ]
  },
  {
   "cell_type": "markdown",
   "metadata": {},
   "source": [
    "### Observaciones influyentes\n",
    "\n",
    "Se refiere todas las observaciones que tengan un **efecto desproporcionado en los resultados de la regresión**. Los dos tipos básicos se basan en la naturaleza de su impacto en los resultados de la regresión:\n",
    "\n",
    "- Valores extremos (oultiers): Observaciones que tienen valores residuales grandes y solo pueden identificarse con respecto a un modelo de regresión específico.\n",
    "- Puntos de apalancamiento (leverage): Observaciones que son distintas de las observaciones restantes basadas en sus valores de variables independientes. Impactan particularmente los coeficientes estimados. \n",
    "\n",
    "Una herramienta de diagnóstico particularmente útil es un gráfico de los dos elementos fundamentales de una observación influyente: valores de apalancamiento versus residuales estandarizados o studentizados. Mediante el uso de los valores de umbral para los residuos studentizados de 1,96 para el apalancamiento y las observaciones, se pueden clasificar las observaciones en una de cuatro categorías:"
   ]
  },
  {
   "cell_type": "markdown",
   "metadata": {},
   "source": [
    "<p align=\"center\">\n",
    "  <img width=\"500\" src=\"influentialobservations.png\" alt=\"Variable Types\">\n",
    "</p>"
   ]
  },
  {
   "cell_type": "markdown",
   "metadata": {},
   "source": [
    "Veamos las observaciones influyentes en nuestro ejemplo:"
   ]
  },
  {
   "cell_type": "code",
   "execution_count": 31,
   "metadata": {},
   "outputs": [
    {
     "data": {
      "image/png": "[encoded data removed]",
      "text/plain": [
       "<Figure size 432x288 with 1 Axes>"
      ]
     },
     "metadata": {
      "needs_background": "light"
     },
     "output_type": "display_data"
    }
   ],
   "source": [
    "fig = sm.graphics.influence_plot(model, criterion=\"cooks\")\n",
    "fig.tight_layout(pad=1.0)"
   ]
  },
  {
   "cell_type": "markdown",
   "metadata": {},
   "source": [
    "Este gráfico nos muestra que las observaciones 65 y la 80 clasifican como valores extremos y alto apalancamiento a la vez. A su vez, la observación 71 destaca por su tamaño. En este gráfico, los tamaños representan la distancia de Cook, la cual representa la influencia general de la observación en el ajuste del modelo.\n",
    "\n",
    "De manera análoga a la unidad 2, identificar una observación influyente no se traduce necesariamente en su eliminación. Debe analizarse su naturaleza (origen) y determinar si conviene eliminar el caso o no. "
   ]
  },
  {
   "cell_type": "markdown",
   "metadata": {},
   "source": [
    "## Interpretación\n",
    "\n",
    "### Importancia relativa de variables independientes\n",
    "\n",
    "Se sugiere examinar las correlaciones bivariadas con la variable dependiente como \"punto de partida\" para conocer la naturaleza de las relaciones entre las variables dependientes e independientes. Para esto podemos valernos de visualizaciones. \n",
    "\n",
    "Veámoslo en nuestro ejemplo:"
   ]
  },
  {
   "cell_type": "code",
   "execution_count": 64,
   "metadata": {},
   "outputs": [
    {
     "data": {
      "image/png": "[encoded data removed]",
      "text/plain": [
       "<Figure size 720x360 with 3 Axes>"
      ]
     },
     "metadata": {
      "needs_background": "light"
     },
     "output_type": "display_data"
    }
   ],
   "source": [
    "fig = sm.graphics.plot_partregress_grid(model)\n",
    "fig.tight_layout(pad=1.0)\n",
    "fig.set_size_inches(10,5)"
   ]
  },
  {
   "cell_type": "markdown",
   "metadata": {},
   "source": [
    "En este gráfico podemos apreciar la regresión parcial de cada variable independiente y el intercepto con la variable dependiente. Podemos apreciar una relación especialmente marcada en el caso de fatalismo. "
   ]
  },
  {
   "cell_type": "markdown",
   "metadata": {},
   "source": [
    "\n",
    "Se recomienda también utilizar los resultados del modelo de regresión para interpretar el impacto único de cada variable independiente en relación con las otras variables del modelo, porque la re-especificación del modelo puede tener un efecto profundo en las variables restantes. Para esto, lo sugerido es utilizar los **coeficientes beta estandarizados**. "
   ]
  },
  {
   "cell_type": "markdown",
   "metadata": {},
   "source": [
    "En nuestro ejemplo:"
   ]
  },
  {
   "cell_type": "code",
   "execution_count": 71,
   "metadata": {},
   "outputs": [
    {
     "data": {
      "text/plain": [
       "Intercept     0.249234\n",
       "fatalism      0.384457\n",
       "simplicity    0.366308\n",
       "dtype: float64"
      ]
     },
     "execution_count": 71,
     "metadata": {},
     "output_type": "execute_result"
    }
   ],
   "source": [
    "model.params"
   ]
  },
  {
   "cell_type": "markdown",
   "metadata": {},
   "source": [
    "Los coeficientes se encuentran estandarizados porque las variables fueron estandarizadas antes de ajustar el modelo de regresión. Podemos apreciar que fatalismo y simplicidad tienen una contribución aproximadamente equivalente al modelo."
   ]
  },
  {
   "cell_type": "markdown",
   "metadata": {},
   "source": [
    "### Multicolinealidad\n",
    "\n",
    "Se refiere a la correlación entre las variables independientes de un modelo de regresión.\n",
    "\n",
    "La multicolinealidad puede considerarse \"buena\" cuando revela un efecto supresor, pero en general se considera perjudicial porque los aumentos en multicolinealidad:\n",
    "\n",
    "- Reducen el $R^{2}$ general que se puede lograr.\n",
    "- Distorsionan la estimación de los coeficientes de regresión.\n",
    "- Afectan negativamente las pruebas de significancia estadística de los coeficientes."
   ]
  },
  {
   "cell_type": "markdown",
   "metadata": {},
   "source": [
    "La multicolinealidad se mide por medio de correlaciones bivariadas entre las variables independientes, así como por la tolerancia (1 - R2) obtenida al momento de regresionar cada variable independiente con las demás. Una medida asociada, el VIF, se calcula como 1/tolerancia).\n",
    "\n",
    "Los niveles generalmente aceptados de multicolinealidad (valores de tolerancia hasta .10, correspondientes a un VIF de 10) casi siempre indican problemas con la multicolinealidad, pero estos problemas también se pueden ver en niveles mucho más bajos de colinealidad y multicolinealidad:\n",
    "\n",
    "- Las correlaciones bivariadas de .70 o más pueden resultar en problemas, e incluso correlaciones más bajas pueden ser problemáticas si son más altas que las correlaciones entre las variables independientes y dependientes.\n",
    "\n",
    "- Los valores mucho más bajos que los umbrales sugeridos (valores VIF de incluso 3 a 5) pueden resultar en problemas interpretación o estimación, cuando las relaciones con la variable dependiente son débiles."
   ]
  },
  {
   "cell_type": "markdown",
   "metadata": {},
   "source": [
    "Una vez que se ha determinado el grado de colinealidad, el investigador tiene varias opciones:\n",
    "- Eliminar las variables colineales\n",
    "- Aplicar reducción de dimensiones\n",
    "- Especificar técnicas de estimación\n",
    "- Ignorar"
   ]
  },
  {
   "cell_type": "markdown",
   "metadata": {},
   "source": [
    "Examinemos la multicolinealidad de nuestro modelo:"
   ]
  },
  {
   "cell_type": "code",
   "execution_count": 116,
   "metadata": {},
   "outputs": [
    {
     "data": {
      "text/html": [
       "<div>\n",
       "<style scoped>\n",
       "    .dataframe tbody tr th:only-of-type {\n",
       "        vertical-align: middle;\n",
       "    }\n",
       "\n",
       "    .dataframe tbody tr th {\n",
       "        vertical-align: top;\n",
       "    }\n",
       "\n",
       "    .dataframe thead th {\n",
       "        text-align: right;\n",
       "    }\n",
       "</style>\n",
       "<table border=\"1\" class=\"dataframe\">\n",
       "  <thead>\n",
       "    <tr style=\"text-align: right;\">\n",
       "      <th></th>\n",
       "      <th>Intercept</th>\n",
       "      <th>fatalism</th>\n",
       "      <th>simplicity</th>\n",
       "    </tr>\n",
       "  </thead>\n",
       "  <tbody>\n",
       "    <tr>\n",
       "      <th>Intercept</th>\n",
       "      <td>NaN</td>\n",
       "      <td>NaN</td>\n",
       "      <td>NaN</td>\n",
       "    </tr>\n",
       "    <tr>\n",
       "      <th>fatalism</th>\n",
       "      <td>NaN</td>\n",
       "      <td>1.000000</td>\n",
       "      <td>0.536821</td>\n",
       "    </tr>\n",
       "    <tr>\n",
       "      <th>simplicity</th>\n",
       "      <td>NaN</td>\n",
       "      <td>0.536821</td>\n",
       "      <td>1.000000</td>\n",
       "    </tr>\n",
       "  </tbody>\n",
       "</table>\n",
       "</div>"
      ],
      "text/plain": [
       "            Intercept  fatalism  simplicity\n",
       "Intercept         NaN       NaN         NaN\n",
       "fatalism          NaN  1.000000    0.536821\n",
       "simplicity        NaN  0.536821    1.000000"
      ]
     },
     "execution_count": 116,
     "metadata": {},
     "output_type": "execute_result"
    }
   ],
   "source": [
    "# the independent variables set\n",
    "X =  pd.DataFrame(model.model.exog, columns= model.params.index)\n",
    "X.corr()"
   ]
  },
  {
   "cell_type": "markdown",
   "metadata": {},
   "source": [
    "Vemos una correlación fuerte entre fatalismo y simplicidad, aunque no llega al punto de corte de 0.7. Veamos ahora el coeficiente VIF:"
   ]
  },
  {
   "cell_type": "code",
   "execution_count": 105,
   "metadata": {},
   "outputs": [
    {
     "data": {
      "text/html": [
       "<div>\n",
       "<style scoped>\n",
       "    .dataframe tbody tr th:only-of-type {\n",
       "        vertical-align: middle;\n",
       "    }\n",
       "\n",
       "    .dataframe tbody tr th {\n",
       "        vertical-align: top;\n",
       "    }\n",
       "\n",
       "    .dataframe thead th {\n",
       "        text-align: right;\n",
       "    }\n",
       "</style>\n",
       "<table border=\"1\" class=\"dataframe\">\n",
       "  <thead>\n",
       "    <tr style=\"text-align: right;\">\n",
       "      <th></th>\n",
       "      <th>feature</th>\n",
       "      <th>VIF</th>\n",
       "    </tr>\n",
       "  </thead>\n",
       "  <tbody>\n",
       "    <tr>\n",
       "      <th>0</th>\n",
       "      <td>Intercept</td>\n",
       "      <td>6.269823</td>\n",
       "    </tr>\n",
       "    <tr>\n",
       "      <th>1</th>\n",
       "      <td>fatalism</td>\n",
       "      <td>1.404843</td>\n",
       "    </tr>\n",
       "    <tr>\n",
       "      <th>2</th>\n",
       "      <td>simplicity</td>\n",
       "      <td>1.404843</td>\n",
       "    </tr>\n",
       "  </tbody>\n",
       "</table>\n",
       "</div>"
      ],
      "text/plain": [
       "      feature       VIF\n",
       "0   Intercept  6.269823\n",
       "1    fatalism  1.404843\n",
       "2  simplicity  1.404843"
      ]
     },
     "execution_count": 105,
     "metadata": {},
     "output_type": "execute_result"
    }
   ],
   "source": [
    "from statsmodels.stats.outliers_influence import variance_inflation_factor\n",
    "\n",
    "# the independent variables set\n",
    "X =  model.model.exog \n",
    "  \n",
    "# VIF dataframe\n",
    "vif_data = pd.DataFrame()\n",
    "vif_data[\"feature\"] = model.params.index\n",
    "  \n",
    "# calculating VIF for each feature\n",
    "vif_data[\"VIF\"] = [variance_inflation_factor(X, i)\n",
    "                          for i in range(model.model.exog.shape[1])]\n",
    "vif_data"
   ]
  },
  {
   "cell_type": "markdown",
   "metadata": {},
   "source": [
    "Las variables independientes de nuestro modelo presentan un coeficiente VIF aceptable. "
   ]
  }
 ],
 "metadata": {
  "interpreter": {
   "hash": "bc333aaf72f12d36efbbc969b6efbd208f39cf597397e273d228d636dea83428"
  },
  "kernelspec": {
   "display_name": "Python 3.8.10 64-bit ('statspsych': virtualenv)",
   "name": "python3"
  },
  "language_info": {
   "codemirror_mode": {
    "name": "ipython",
    "version": 3
   },
   "file_extension": ".py",
   "mimetype": "text/x-python",
   "name": "python",
   "nbconvert_exporter": "python",
   "pygments_lexer": "ipython3",
   "version": "3.8.10"
  },
  "orig_nbformat": 4
 },
 "nbformat": 4,
 "nbformat_minor": 2
}
