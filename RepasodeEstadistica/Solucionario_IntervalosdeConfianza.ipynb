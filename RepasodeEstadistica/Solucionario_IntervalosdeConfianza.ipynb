{
 "cells": [
  {
   "cell_type": "markdown",
   "metadata": {},
   "source": [
    "# Práctica: Intervalos de confianza y tamaño del efecto\n",
    "\n",
    ">Este práctica es una adaptación del material desarrollado por el profesor Álex Dávila en el semestre 2019-1. \n",
    "\n",
    "Continuando tu trabajo en el Laboratorio de Psicología de la PUCP, se te ha pedido evaluar con mayor detalle el análisis que realizaste. Nuevamente, cargamos los datos recolectados:"
   ]
  },
  {
   "cell_type": "code",
   "execution_count": 1,
   "metadata": {},
   "outputs": [
    {
     "data": {
      "text/html": [
       "<div>\n",
       "<style scoped>\n",
       "    .dataframe tbody tr th:only-of-type {\n",
       "        vertical-align: middle;\n",
       "    }\n",
       "\n",
       "    .dataframe tbody tr th {\n",
       "        vertical-align: top;\n",
       "    }\n",
       "\n",
       "    .dataframe thead th {\n",
       "        text-align: right;\n",
       "    }\n",
       "</style>\n",
       "<table border=\"1\" class=\"dataframe\">\n",
       "  <thead>\n",
       "    <tr style=\"text-align: right;\">\n",
       "      <th></th>\n",
       "      <th>TrianguloBrillante</th>\n",
       "      <th>TrianguloOpaco</th>\n",
       "      <th>CuadradoBrillante</th>\n",
       "      <th>CuadradoOpaco</th>\n",
       "      <th>PentagonoBrillante</th>\n",
       "      <th>PentagonoOpaco</th>\n",
       "    </tr>\n",
       "  </thead>\n",
       "  <tbody>\n",
       "    <tr>\n",
       "      <th>0</th>\n",
       "      <td>258</td>\n",
       "      <td>290</td>\n",
       "      <td>242</td>\n",
       "      <td>295</td>\n",
       "      <td>250</td>\n",
       "      <td>310</td>\n",
       "    </tr>\n",
       "    <tr>\n",
       "      <th>1</th>\n",
       "      <td>241</td>\n",
       "      <td>283</td>\n",
       "      <td>242</td>\n",
       "      <td>297</td>\n",
       "      <td>259</td>\n",
       "      <td>313</td>\n",
       "    </tr>\n",
       "    <tr>\n",
       "      <th>2</th>\n",
       "      <td>260</td>\n",
       "      <td>300</td>\n",
       "      <td>240</td>\n",
       "      <td>297</td>\n",
       "      <td>250</td>\n",
       "      <td>313</td>\n",
       "    </tr>\n",
       "    <tr>\n",
       "      <th>3</th>\n",
       "      <td>251</td>\n",
       "      <td>291</td>\n",
       "      <td>244</td>\n",
       "      <td>292</td>\n",
       "      <td>252</td>\n",
       "      <td>308</td>\n",
       "    </tr>\n",
       "    <tr>\n",
       "      <th>4</th>\n",
       "      <td>259</td>\n",
       "      <td>291</td>\n",
       "      <td>240</td>\n",
       "      <td>287</td>\n",
       "      <td>270</td>\n",
       "      <td>307</td>\n",
       "    </tr>\n",
       "  </tbody>\n",
       "</table>\n",
       "</div>"
      ],
      "text/plain": [
       "   TrianguloBrillante  TrianguloOpaco  CuadradoBrillante  CuadradoOpaco  \\\n",
       "0                 258             290                242            295   \n",
       "1                 241             283                242            297   \n",
       "2                 260             300                240            297   \n",
       "3                 251             291                244            292   \n",
       "4                 259             291                240            287   \n",
       "\n",
       "   PentagonoBrillante  PentagonoOpaco  \n",
       "0                 250             310  \n",
       "1                 259             313  \n",
       "2                 250             313  \n",
       "3                 252             308  \n",
       "4                 270             307  "
      ]
     },
     "execution_count": 1,
     "metadata": {},
     "output_type": "execute_result"
    }
   ],
   "source": [
    "# Cargamos los datos del experimento\n",
    "import pandas as pd\n",
    "\n",
    "exp = pd.read_csv(\n",
    "    \"https://raw.githubusercontent.com/renatoparedes/EstadisticaYPsicologiaMatematica/main/RepasodeEstadistica/ExpA.csv\"\n",
    ")\n",
    "exp.drop(columns=[\"Participante\"], inplace=True)\n",
    "exp.head()"
   ]
  },
  {
   "cell_type": "code",
   "execution_count": 2,
   "metadata": {},
   "outputs": [
    {
     "data": {
      "text/html": [
       "<div>\n",
       "<style scoped>\n",
       "    .dataframe tbody tr th:only-of-type {\n",
       "        vertical-align: middle;\n",
       "    }\n",
       "\n",
       "    .dataframe tbody tr th {\n",
       "        vertical-align: top;\n",
       "    }\n",
       "\n",
       "    .dataframe thead th {\n",
       "        text-align: right;\n",
       "    }\n",
       "</style>\n",
       "<table border=\"1\" class=\"dataframe\">\n",
       "  <thead>\n",
       "    <tr style=\"text-align: right;\">\n",
       "      <th></th>\n",
       "      <th>TrianguloBrillante</th>\n",
       "      <th>TrianguloOpaco</th>\n",
       "      <th>CuadradoBrillante</th>\n",
       "      <th>CuadradoOpaco</th>\n",
       "      <th>PentagonoBrillante</th>\n",
       "      <th>PentagonoOpaco</th>\n",
       "    </tr>\n",
       "  </thead>\n",
       "  <tbody>\n",
       "    <tr>\n",
       "      <th>count</th>\n",
       "      <td>6.00000</td>\n",
       "      <td>6.000000</td>\n",
       "      <td>6.000000</td>\n",
       "      <td>6.000000</td>\n",
       "      <td>6.000000</td>\n",
       "      <td>6.000000</td>\n",
       "    </tr>\n",
       "    <tr>\n",
       "      <th>mean</th>\n",
       "      <td>253.50000</td>\n",
       "      <td>291.000000</td>\n",
       "      <td>241.166667</td>\n",
       "      <td>294.000000</td>\n",
       "      <td>256.166667</td>\n",
       "      <td>310.666667</td>\n",
       "    </tr>\n",
       "    <tr>\n",
       "      <th>std</th>\n",
       "      <td>7.17635</td>\n",
       "      <td>5.403702</td>\n",
       "      <td>1.834848</td>\n",
       "      <td>3.898718</td>\n",
       "      <td>7.652886</td>\n",
       "      <td>2.732520</td>\n",
       "    </tr>\n",
       "    <tr>\n",
       "      <th>min</th>\n",
       "      <td>241.00000</td>\n",
       "      <td>283.000000</td>\n",
       "      <td>239.000000</td>\n",
       "      <td>287.000000</td>\n",
       "      <td>250.000000</td>\n",
       "      <td>307.000000</td>\n",
       "    </tr>\n",
       "    <tr>\n",
       "      <th>25%</th>\n",
       "      <td>251.25000</td>\n",
       "      <td>290.250000</td>\n",
       "      <td>240.000000</td>\n",
       "      <td>292.750000</td>\n",
       "      <td>250.500000</td>\n",
       "      <td>308.500000</td>\n",
       "    </tr>\n",
       "    <tr>\n",
       "      <th>50%</th>\n",
       "      <td>255.00000</td>\n",
       "      <td>291.000000</td>\n",
       "      <td>241.000000</td>\n",
       "      <td>295.500000</td>\n",
       "      <td>254.000000</td>\n",
       "      <td>311.500000</td>\n",
       "    </tr>\n",
       "    <tr>\n",
       "      <th>75%</th>\n",
       "      <td>258.75000</td>\n",
       "      <td>291.000000</td>\n",
       "      <td>242.000000</td>\n",
       "      <td>296.750000</td>\n",
       "      <td>258.250000</td>\n",
       "      <td>313.000000</td>\n",
       "    </tr>\n",
       "    <tr>\n",
       "      <th>max</th>\n",
       "      <td>260.00000</td>\n",
       "      <td>300.000000</td>\n",
       "      <td>244.000000</td>\n",
       "      <td>297.000000</td>\n",
       "      <td>270.000000</td>\n",
       "      <td>313.000000</td>\n",
       "    </tr>\n",
       "  </tbody>\n",
       "</table>\n",
       "</div>"
      ],
      "text/plain": [
       "       TrianguloBrillante  TrianguloOpaco  CuadradoBrillante  CuadradoOpaco  \\\n",
       "count             6.00000        6.000000           6.000000       6.000000   \n",
       "mean            253.50000      291.000000         241.166667     294.000000   \n",
       "std               7.17635        5.403702           1.834848       3.898718   \n",
       "min             241.00000      283.000000         239.000000     287.000000   \n",
       "25%             251.25000      290.250000         240.000000     292.750000   \n",
       "50%             255.00000      291.000000         241.000000     295.500000   \n",
       "75%             258.75000      291.000000         242.000000     296.750000   \n",
       "max             260.00000      300.000000         244.000000     297.000000   \n",
       "\n",
       "       PentagonoBrillante  PentagonoOpaco  \n",
       "count            6.000000        6.000000  \n",
       "mean           256.166667      310.666667  \n",
       "std              7.652886        2.732520  \n",
       "min            250.000000      307.000000  \n",
       "25%            250.500000      308.500000  \n",
       "50%            254.000000      311.500000  \n",
       "75%            258.250000      313.000000  \n",
       "max            270.000000      313.000000  "
      ]
     },
     "execution_count": 2,
     "metadata": {},
     "output_type": "execute_result"
    }
   ],
   "source": [
    "exp.describe()"
   ]
  },
  {
   "cell_type": "code",
   "execution_count": 8,
   "metadata": {},
   "outputs": [
    {
     "data": {
      "image/png": "[encoded data removed]",
      "text/plain": [
       "<Figure size 864x360 with 1 Axes>"
      ]
     },
     "metadata": {},
     "output_type": "display_data"
    }
   ],
   "source": [
    "import seaborn as sns\n",
    "import matplotlib.pyplot as plt\n",
    "\n",
    "sns.set(rc={\"figure.figsize\": (12, 5)}, style=\"white\")\n",
    "sns.swarmplot(data=exp)\n",
    "plt.xlabel(\"Condiciones experimentales\", size=14, fontweight=\"bold\")\n",
    "plt.ylabel(\"TR (ms)\", size=14, fontweight=\"bold\")\n",
    "plt.show()"
   ]
  },
  {
   "cell_type": "markdown",
   "metadata": {},
   "source": [
    "## Ejercicio 1\n",
    "Compara gráficamente las condiciones `TrianguloBrillante` y `PentagonoBrillante` utilizando intervalos de confianza. \n",
    "\n",
    "> Sugerencia: Utiliza el método `.pointplot()` del paquete `seaborn`."
   ]
  },
  {
   "cell_type": "code",
   "execution_count": 9,
   "metadata": {},
   "outputs": [
    {
     "data": {
      "image/png": "[encoded data removed]",
      "text/plain": [
       "<Figure size 864x360 with 1 Axes>"
      ]
     },
     "metadata": {},
     "output_type": "display_data"
    }
   ],
   "source": [
    "import seaborn as sns\n",
    "\n",
    "# Escribe tu respuesta aquí\n",
    "sns.pointplot(\n",
    "    data=exp[[\"TrianguloBrillante\", \"PentagonoBrillante\"]], ci=95, join=False\n",
    ")\n",
    "plt.show()"
   ]
  },
  {
   "cell_type": "markdown",
   "metadata": {},
   "source": [
    "¿Observas una potencial diferencia significativa? Confirma tu observación con una comparación de medias.\n",
    "\n",
    ">Sugerencia: Utiliza la función `ttest_rel` disponible en el paquete `scipy.stats`."
   ]
  },
  {
   "cell_type": "code",
   "execution_count": 5,
   "metadata": {},
   "outputs": [
    {
     "data": {
      "text/plain": [
       "Ttest_relResult(statistic=-0.6047431568147634, pvalue=0.5717418268656416)"
      ]
     },
     "execution_count": 5,
     "metadata": {},
     "output_type": "execute_result"
    }
   ],
   "source": [
    "from scipy.stats import ttest_rel\n",
    "\n",
    "# Escribe tu respuesta aquí\n",
    "ttest_rel(exp[\"TrianguloBrillante\"], exp[\"PentagonoBrillante\"])"
   ]
  },
  {
   "cell_type": "markdown",
   "metadata": {},
   "source": [
    "¿Qué puedes concluir a partir de tus resultados?"
   ]
  },
  {
   "cell_type": "markdown",
   "metadata": {},
   "source": [
    "De acuerdo a la prueba t de student de muestras relacionadas, no existiría una diferencia significativa entre las condiciones triángulo brillante y pentágono brillante."
   ]
  },
  {
   "cell_type": "markdown",
   "metadata": {},
   "source": [
    "## Ejercicio 2\n",
    "Compara las condiciones `CuadradoBrillante` y `PentagoBrillante` utilizando una prueba t de student para muestras relacionadas. Además, reporta el tamaño del efecto con la métrica d de Cohen.\n",
    "\n",
    "> Sugerencia: Utiliza la función `ttest` disponible en el paquete `researchpy`."
   ]
  },
  {
   "cell_type": "code",
   "execution_count": 6,
   "metadata": {},
   "outputs": [],
   "source": [
    "!pip install pingouin"
   ]
  },
  {
   "cell_type": "code",
   "execution_count": 7,
   "metadata": {},
   "outputs": [
    {
     "data": {
      "text/html": [
       "<div>\n",
       "<style scoped>\n",
       "    .dataframe tbody tr th:only-of-type {\n",
       "        vertical-align: middle;\n",
       "    }\n",
       "\n",
       "    .dataframe tbody tr th {\n",
       "        vertical-align: top;\n",
       "    }\n",
       "\n",
       "    .dataframe thead th {\n",
       "        text-align: right;\n",
       "    }\n",
       "</style>\n",
       "<table border=\"1\" class=\"dataframe\">\n",
       "  <thead>\n",
       "    <tr style=\"text-align: right;\">\n",
       "      <th></th>\n",
       "      <th>T</th>\n",
       "      <th>dof</th>\n",
       "      <th>alternative</th>\n",
       "      <th>p-val</th>\n",
       "      <th>CI95%</th>\n",
       "      <th>cohen-d</th>\n",
       "      <th>BF10</th>\n",
       "      <th>power</th>\n",
       "    </tr>\n",
       "  </thead>\n",
       "  <tbody>\n",
       "    <tr>\n",
       "      <th>T-test</th>\n",
       "      <td>-4.354386</td>\n",
       "      <td>5</td>\n",
       "      <td>two-sided</td>\n",
       "      <td>0.007329</td>\n",
       "      <td>[-23.86, -6.14]</td>\n",
       "      <td>2.695529</td>\n",
       "      <td>8.724</td>\n",
       "      <td>0.999163</td>\n",
       "    </tr>\n",
       "  </tbody>\n",
       "</table>\n",
       "</div>"
      ],
      "text/plain": [
       "               T  dof alternative     p-val            CI95%   cohen-d   BF10  \\\n",
       "T-test -4.354386    5   two-sided  0.007329  [-23.86, -6.14]  2.695529  8.724   \n",
       "\n",
       "           power  \n",
       "T-test  0.999163  "
      ]
     },
     "execution_count": 7,
     "metadata": {},
     "output_type": "execute_result"
    }
   ],
   "source": [
    "import pingouin as pg\n",
    "\n",
    "# Escribe tu respuesta aquí\n",
    "pg.ttest(exp[\"CuadradoBrillante\"], exp[\"PentagonoBrillante\"], paired=True)"
   ]
  },
  {
   "cell_type": "markdown",
   "metadata": {},
   "source": [
    "¿Qué puedes concluir a partir de tus resultados?"
   ]
  },
  {
   "cell_type": "markdown",
   "metadata": {},
   "source": [
    "De acuerdo a la prueba t de student de muestras relacionadas, existiría una diferencia significativa entre las condiciones cuadrado brillante y pentágono brillante. Esto sugiere que los tiempos de reacción de los participantes son menores frente a un cuadrado brillante en comparación a un pentágono brillante. La magnitud del efecto encontrado califica como grande. "
   ]
  }
 ],
 "metadata": {
  "kernelspec": {
   "display_name": "Python 3 (ipykernel)",
   "language": "python",
   "name": "python3"
  },
  "language_info": {
   "codemirror_mode": {
    "name": "ipython",
    "version": 3
   },
   "file_extension": ".py",
   "mimetype": "text/x-python",
   "name": "python",
   "nbconvert_exporter": "python",
   "pygments_lexer": "ipython3",
   "version": "3.7.13"
  },
  "vscode": {
   "interpreter": {
    "hash": "8df12303a5084d795bcef355ea103bbaab8787933417cf27c2f95a588cdf8ee7"
   }
  }
 },
 "nbformat": 4,
 "nbformat_minor": 2
}
