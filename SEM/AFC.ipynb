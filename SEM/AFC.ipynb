{
 "cells": [
  {
   "cell_type": "markdown",
   "metadata": {},
   "source": [
    "# Análisis Factorial Confirmatorio\n",
    "\n",
    ">Este tutorial es una selección y adaptación al español del libro [Multivariate Data Analysis](https://www.cengage.co.uk/books/9781473756540/) de Joseph F. Hair et al.\n",
    "\n",
    "> Requiere cargar el archivo [\"HBAT.sav\"](https://github.com/renatoparedes/EstadisticaYPsicologiaMatematica/raw/main/SEM/HBAT.sav) en el repositorio local. "
   ]
  },
  {
   "cell_type": "markdown",
   "metadata": {},
   "source": [
    "## ¿Qué es el Análisis Factorial Confirmatorio (AFC)?\n",
    "\n",
    "AFC es una forma de probar qué tan bien una teoría de medición preespecificada compuesta de variables y factores medidos se ajusta a la realidad capturada por los datos.\n",
    "\n",
    ">Una teoría de medición especifica con precisión cómo las variables medidas representan lógica y sistemáticamente los constructos involucrados en un modelo teórico.En otras palabras, la teoría de la medición especifica una serie de relaciones y restricciones que sugieren cómo las variables medidas representan un factor latente."
   ]
  },
  {
   "cell_type": "markdown",
   "metadata": {},
   "source": [
    "A diferencia de Análisis Factorial Exploratorio, en un AFC el investigador debe especificar tanto el número de factores que existen para un conjunto de variables como en qué factor se cargará cada variable antes de poder calcular los resultados. Por tanto, **la técnica estadística no asigna variables a factores**.\n",
    "\n",
    "En cambio, **el investigador realiza esta tarea basándose en la teoría que se está probando antes de que se puedan obtener resultados**. Además, si se emplean buenos principios de medición en la teoría, **una variable puede cargarse en un solo factor y no se permiten cargas cruzadas** (carga en más de un factor)."
   ]
  },
  {
   "cell_type": "markdown",
   "metadata": {},
   "source": [
    "### ¿A qué nos referimos con buenos principios psicométricos?\n",
    "\n",
    "1. **Solo las cargas que vinculan teóricamente un elemento medido con su factor latente correspondiente se estiman libremente** y, por lo tanto, se muestran en el diagrama de ruta.\n",
    "2. Se supone que **todas las demás cargas posibles son iguales y, por lo tanto, están limitadas a cero**. La ausencia de conexiones no representa asociación. El efecto es el mismo que dibujar una conexión y especificar que es 0.\n",
    "3. **No existe covarianza entre los residuos, que están representados por términos de varianza de error en un modelo**. Por lo tanto, no existen conexiones entre los conceptos no observados que representan las variaciones de error, lo que significa que existe una restricción de 0 (independencia) para cada conexión posible entre los términos de variación de error."
   ]
  },
  {
   "cell_type": "markdown",
   "metadata": {},
   "source": [
    "La teoría de la medición debe **especificar la independencia de todos los términos de varianza del error**. Por lo tanto, **las cargas cruzadas y las correlaciones de varianza de errores se limitan a cero**.\n",
    "\n",
    "Como resultado, un factor determina de forma única cada una de sus variables indicadoras. Luego, **el AFC prueba hasta qué punto el patrón teórico a priori de un investigador de cargas factoriales en constructos preespecificados (carga de variables en constructos específicos) representa los datos reales**."
   ]
  },
  {
   "cell_type": "markdown",
   "metadata": {},
   "source": [
    "\n",
    "Por lo tanto, en lugar de permitir que el método estadístico determine el número de factores y cargas como en AFE, **las estadísticas del AFC nos dicen qué tan bien nuestra especificación teórica de los factores coincide con la realidad** (los datos reales). \n",
    "\n",
    "En cierto sentido, CFA revela el grado de confirmación de nuestra teoría de medición preconcebida."
   ]
  },
  {
   "cell_type": "markdown",
   "metadata": {},
   "source": [
    "Gráficamente, una teoría de medición puede especificarse de la siguiente forma:\n",
    "\n",
    "<p align=\"center\">\n",
    "  <img width=\"1200\" src=\"https://github.com/renatoparedes/EstadisticaYPsicologiaMatematica/raw/main/SEM/measurement_theory.png\" alt=\"Measurement Theory\">\n",
    "</p>"
   ]
  },
  {
   "cell_type": "markdown",
   "metadata": {},
   "source": [
    "En este gráfico, los dos constructos latentes son Supervisión y Ambiente de trabajo. \n",
    "\n",
    "- Los símbolos $x_{1}$ – $x_{8}$ representan las **variables indicadoras medidas**.\n",
    "- $L_{x1}$ - $L_{x8}$ son las relaciones entre las construcciones latentes y los elementos medidos respectivos (es decir, **cargas factoriales**).\n",
    "\n",
    "> Como puedes ver, los cuatro ítems que miden la Supervisión están vinculados a ese constructo latente, al igual que los otros cuatro ítems al constructo Ambiente de Trabajo. La flecha curva entre los dos constructos denota una relación de correlación entre ellos. \n",
    "\n",
    "- Los símbolos $e_{1}$ – $e_{8}$ representan las **variaciones de error** asociadas con cada elemento medido. Se omiten todos los demás conectores posibles."
   ]
  },
  {
   "cell_type": "markdown",
   "metadata": {},
   "source": [
    "## Definición de constructos individuales\n",
    "- Los factores deben mostrar una validez de contenido adecuada, ya sean escalas nuevas o escalas tomadas de investigaciones anteriores; Incluso las escalas previamente establecidas deben revisarse cuidadosamente para verificar la validez del contenido.\n",
    "- La validez de contenido debe ser de primordial importancia y debe juzgarse tanto cualitativamente (p. Ej., Opinión de expertos) como empíricamente (p. Ej., Unidimensionalidad y validez convergente).\n",
    "- Deben utilizarse pruebas piloto para purificar las medidas antes de las pruebas de confirmación."
   ]
  },
  {
   "cell_type": "markdown",
   "metadata": {},
   "source": [
    "## Desarrollo del modelo de medición general\n",
    "- En aplicaciones CFA estándar que prueban una teoría de medición, dentro y entre los términos de covarianza de error deben fijarse en cero y no estimarse.\n",
    "- En aplicaciones CFA estándar que prueban una teoría de medición, todas las variables medidas deben poder cargarse libremente solo en un constructo.\n",
    "- Las construcciones latentes deben estar indicadas por al menos tres variables medidas, y preferiblemente cuatro o más; en otras palabras, los factores latentes deben identificarse estadísticamente.\n",
    "- Las escalas formativas no están latentes y no están validadas de la misma forma que las escalas reflectantes convencionales.\n",
    "- Presentan mayores dificultades con la identificación estadística, pero pueden incluirse en modelos identificados siempre que se incluyan otros conceptos reflexivos de múltiples elementos."
   ]
  },
  {
   "cell_type": "markdown",
   "metadata": {},
   "source": [
    "## Diseño de un estudio para proporcionar resultados empíricos\n",
    "- La escala de una construcción latente se puede establecer mediante:\n",
    "-- Arreglar una carga y establecer su valor en 1, o\n",
    "-- Arreglar la varianza de la construcción y establecer su valor en 1.\n",
    "- Los modelos de medición congenéricos y reflexivos, en los que todos los constructos tienen al menos tres indicadores de ítem, se identifican estadísticamente tanto dentro de los constructos como para el modelo en general.\n",
    "- El investigador debe verificar si hay errores en la especificación del modelo de medición cuando se indiquen problemas de identificación.\n",
    "- Los modelos con un tamaño de muestra suficiente que se adhiere a la regla de los tres indicadores generalmente no producen casos de Heywood.\n",
    "- Cuando se incluyen factores con menos de tres indicadores, es posible que sea necesario restringir los valores de las cargas para producir una solución estable e identificada matemáticamente."
   ]
  },
  {
   "cell_type": "markdown",
   "metadata": {},
   "source": [
    "## Evaluación de la validez del modelo de medición\n",
    "- Las estimaciones de carga pueden ser estadísticamente significativas pero aún ser demasiado bajas para calificar como un buen elemento (cargas estandarizadas por debajo de 0 .5 0); en CFA, los elementos con cargas bajas se convierten en candidatos para su eliminación.\n",
    "- Las cargas completamente estandarizadas por encima de 1.0 o por debajo de 21.0 están fuera del rango posible y pueden ser un indicador importante de algún problema con los datos.\n",
    "- Normalmente, los residuos estandarizados inferiores a 0 2,5 0 no sugieren un problema.\n",
    "- Los residuos estandarizados superiores a 0 4.0 0 indican un grado de error potencialmente inaceptable que puede requerir la eliminación de un elemento infractor.\n",
    "- Los residuos estandarizados entre 0 2.5 0 y 0 4.0 0 merecen cierta atención, pero es posible que no sugieran ningún cambio en el modelo si no hay otros problemas asociados con esos dos elementos.\n",
    "- Los patrones de residuos relativamente altos sugieren que falta algo en el modelo, como otro factor.\n",
    "- El investigador debe utilizar los índices de modificación como guía para mejorar el modelo de aquellas relaciones que teóricamente pueden justificarse.\n",
    "- Se desaconsejan las búsquedas de especificaciones basadas en fundamentos puramente empíricos porque son incompatibles con la base teórica de CFA y SEM.\n",
    "- CFA no es una herramienta exploratoria.\n",
    "- Los resultados de CFA que sugieren más que una modificación menor deben reevaluarse con un nuevo conjunto de datos (por ejemplo, si se eliminan más del 20 por ciento de las variables medidas, las modificaciones no pueden considerarse menores)."
   ]
  },
  {
   "cell_type": "markdown",
   "metadata": {},
   "source": [
    "### Validez de construcción\n",
    "- La teoría de la medición psicométrica significa que los modelos de medición deben especificarse como congéneres.\n",
    "- Las estimaciones de carga estandarizadas deben ser .5 o más, e idealmente, .7 o más, para indicar validez convergente.\n",
    "- AVE debe ser .5 o mayor para sugerir una validez convergente adecuada.\n",
    "- Las estimaciones de AVE para dos factores también deben ser mayores que el cuadrado de la correlación entre los dos factores para\n",
    "proporcionar evidencia de validez discriminante.\n",
    "- La confiabilidad de la construcción debe ser .7 o superior para indicar una convergencia adecuada o consistencia interna."
   ]
  }
 ],
 "metadata": {
  "interpreter": {
   "hash": "bc333aaf72f12d36efbbc969b6efbd208f39cf597397e273d228d636dea83428"
  },
  "kernelspec": {
   "display_name": "Python 3.8.10 64-bit ('statspsych': virtualenv)",
   "language": "python",
   "name": "python3"
  },
  "language_info": {
   "codemirror_mode": {
    "name": "ipython",
    "version": 3
   },
   "file_extension": ".py",
   "mimetype": "text/x-python",
   "name": "python",
   "nbconvert_exporter": "python",
   "pygments_lexer": "ipython3",
   "version": "3.8.10"
  },
  "orig_nbformat": 4
 },
 "nbformat": 4,
 "nbformat_minor": 2
}
