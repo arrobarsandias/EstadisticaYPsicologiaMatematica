{
 "cells": [
  {
   "cell_type": "markdown",
   "source": [
    "http://www.gastonsanchez.com/matrix4sl/relation-as-linear-approximation.html"
   ],
   "metadata": {}
  }
 ],
 "metadata": {
  "orig_nbformat": 4,
  "language_info": {
   "name": "python",
   "version": "3.8.10",
   "mimetype": "text/x-python",
   "codemirror_mode": {
    "name": "ipython",
    "version": 3
   },
   "pygments_lexer": "ipython3",
   "nbconvert_exporter": "python",
   "file_extension": ".py"
  },
  "kernelspec": {
   "name": "python3",
   "display_name": "Python 3.8.10 64-bit ('statspsych': virtualenv)"
  },
  "interpreter": {
   "hash": "b25efa0878479caaac2d225245dccd11848f16278f5ed3e8dcef24d18156548f"
  }
 },
 "nbformat": 4,
 "nbformat_minor": 2
}