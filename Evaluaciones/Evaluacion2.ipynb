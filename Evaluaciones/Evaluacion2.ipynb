{
 "cells": [
  {
   "cell_type": "markdown",
   "source": [
    "# Evaluación 2: Análisis de datos multivariantes\n",
    "\n",
    "> Requiere cargar el archivo [\"ProbDormir_110519.sav\"](https://github.com/renatoparedes/EstadisticaYPsicologiaMatematica/raw/main/Evaluaciones/ProbDormir_110519.sav) en el repositorio local.\n",
    "\n",
    "En esta evaluación vamos a trabajar con los datos de una investigación sobre problemas para conciliar y mantener el sueño. En dicho estudio se realizaron mediciones de variables psicológicas así como una estimación subjetiva del estado de salud mediante escalas de autorreporte. En todas las mediciones y la estimación del estado de salud, mayor puntaje representó mayor grado de la condición o estado estudiados."
   ],
   "metadata": {}
  },
  {
   "cell_type": "code",
   "execution_count": 7,
   "source": [
    "import pandas as pd\n",
    "\n",
    "df = pd.read_spss('ProbDormir_110519.sav')\n",
    "df.drop(df.columns[[8,11,12,13,14]],axis=1, inplace=True)\n",
    "df.head()"
   ],
   "outputs": [
    {
     "output_type": "execute_result",
     "data": {
      "text/html": [
       "<div>\n",
       "<style scoped>\n",
       "    .dataframe tbody tr th:only-of-type {\n",
       "        vertical-align: middle;\n",
       "    }\n",
       "\n",
       "    .dataframe tbody tr th {\n",
       "        vertical-align: top;\n",
       "    }\n",
       "\n",
       "    .dataframe thead th {\n",
       "        text-align: right;\n",
       "    }\n",
       "</style>\n",
       "<table border=\"1\" class=\"dataframe\">\n",
       "  <thead>\n",
       "    <tr style=\"text-align: right;\">\n",
       "      <th></th>\n",
       "      <th>id</th>\n",
       "      <th>ProbDorm</th>\n",
       "      <th>Sexo</th>\n",
       "      <th>Edad</th>\n",
       "      <th>Estres</th>\n",
       "      <th>Ansiedad</th>\n",
       "      <th>Depresion</th>\n",
       "      <th>PromHS</th>\n",
       "      <th>DifMantSueño</th>\n",
       "      <th>Salud</th>\n",
       "    </tr>\n",
       "  </thead>\n",
       "  <tbody>\n",
       "    <tr>\n",
       "      <th>0</th>\n",
       "      <td>1</td>\n",
       "      <td>1</td>\n",
       "      <td>0</td>\n",
       "      <td>40.0</td>\n",
       "      <td>5.0</td>\n",
       "      <td>7.0</td>\n",
       "      <td>3.0</td>\n",
       "      <td>7.0</td>\n",
       "      <td>1</td>\n",
       "      <td>6.0</td>\n",
       "    </tr>\n",
       "    <tr>\n",
       "      <th>1</th>\n",
       "      <td>2</td>\n",
       "      <td>1</td>\n",
       "      <td>1</td>\n",
       "      <td>26.0</td>\n",
       "      <td>8.0</td>\n",
       "      <td>6.0</td>\n",
       "      <td>1.0</td>\n",
       "      <td>7.0</td>\n",
       "      <td>0</td>\n",
       "      <td>8.0</td>\n",
       "    </tr>\n",
       "    <tr>\n",
       "      <th>2</th>\n",
       "      <td>3</td>\n",
       "      <td>0</td>\n",
       "      <td>1</td>\n",
       "      <td>19.0</td>\n",
       "      <td>2.0</td>\n",
       "      <td>3.0</td>\n",
       "      <td>1.0</td>\n",
       "      <td>8.0</td>\n",
       "      <td>0</td>\n",
       "      <td>9.0</td>\n",
       "    </tr>\n",
       "    <tr>\n",
       "      <th>3</th>\n",
       "      <td>4</td>\n",
       "      <td>0</td>\n",
       "      <td>1</td>\n",
       "      <td>35.0</td>\n",
       "      <td>2.0</td>\n",
       "      <td>1.0</td>\n",
       "      <td>2.0</td>\n",
       "      <td>8.0</td>\n",
       "      <td>0</td>\n",
       "      <td>7.0</td>\n",
       "    </tr>\n",
       "    <tr>\n",
       "      <th>4</th>\n",
       "      <td>5</td>\n",
       "      <td>0</td>\n",
       "      <td>1</td>\n",
       "      <td>35.0</td>\n",
       "      <td>8.0</td>\n",
       "      <td>2.0</td>\n",
       "      <td>5.0</td>\n",
       "      <td>6.0</td>\n",
       "      <td>0</td>\n",
       "      <td>5.0</td>\n",
       "    </tr>\n",
       "  </tbody>\n",
       "</table>\n",
       "</div>"
      ],
      "text/plain": [
       "         id  ProbDorm      Sexo  Edad  Estres  Ansiedad  Depresion  PromHS  \\\n",
       "0         1         1         0  40.0     5.0       7.0        3.0     7.0   \n",
       "1         2         1         1  26.0     8.0       6.0        1.0     7.0   \n",
       "2         3         0         1  19.0     2.0       3.0        1.0     8.0   \n",
       "3         4         0         1  35.0     2.0       1.0        2.0     8.0   \n",
       "4         5         0         1  35.0     8.0       2.0        5.0     6.0   \n",
       "\n",
       "  DifMantSueño  Salud  \n",
       "0            1    6.0  \n",
       "1            0    8.0  \n",
       "2            0    9.0  \n",
       "3            0    7.0  \n",
       "4            0    5.0  "
      ]
     },
     "metadata": {},
     "execution_count": 7
    }
   ],
   "metadata": {}
  },
  {
   "cell_type": "markdown",
   "source": [
    "## Parte 1: Preprocesamiento de datos\n",
    "\n",
    "1. Examina la cantidad de casos perdidos en cada variable. ¿Considerarías descartar alguna de las variables por la proporción de casos perdidos que presenta? (2 pts)\n",
    ">Sugerencia: Utiliza la función `bar` disponible en el paquete `missingno`."
   ],
   "metadata": {}
  },
  {
   "cell_type": "code",
   "execution_count": 8,
   "source": [
    "!pip install missingno"
   ],
   "outputs": [
    {
     "output_type": "stream",
     "name": "stdout",
     "text": [
      "Requirement already satisfied: missingno in /home/renato/.virtualenvs/statspsych/lib/python3.8/site-packages (0.5.0)\n",
      "Requirement already satisfied: numpy in /home/renato/.virtualenvs/statspsych/lib/python3.8/site-packages (from missingno) (1.21.2)\n",
      "Requirement already satisfied: matplotlib in /home/renato/.virtualenvs/statspsych/lib/python3.8/site-packages (from missingno) (3.4.3)\n",
      "Requirement already satisfied: scipy in /home/renato/.virtualenvs/statspsych/lib/python3.8/site-packages (from missingno) (1.7.1)\n",
      "Requirement already satisfied: seaborn in /home/renato/.virtualenvs/statspsych/lib/python3.8/site-packages (from missingno) (0.11.2)\n",
      "Requirement already satisfied: pillow>=6.2.0 in /home/renato/.virtualenvs/statspsych/lib/python3.8/site-packages (from matplotlib->missingno) (8.3.2)\n",
      "Requirement already satisfied: kiwisolver>=1.0.1 in /home/renato/.virtualenvs/statspsych/lib/python3.8/site-packages (from matplotlib->missingno) (1.3.2)\n",
      "Requirement already satisfied: python-dateutil>=2.7 in /home/renato/.virtualenvs/statspsych/lib/python3.8/site-packages (from matplotlib->missingno) (2.8.2)\n",
      "Requirement already satisfied: cycler>=0.10 in /home/renato/.virtualenvs/statspsych/lib/python3.8/site-packages (from matplotlib->missingno) (0.10.0)\n",
      "Requirement already satisfied: pyparsing>=2.2.1 in /home/renato/.virtualenvs/statspsych/lib/python3.8/site-packages (from matplotlib->missingno) (2.4.7)\n",
      "Requirement already satisfied: pandas>=0.23 in /home/renato/.virtualenvs/statspsych/lib/python3.8/site-packages (from seaborn->missingno) (1.3.3)\n",
      "Requirement already satisfied: six>=1.5 in /home/renato/.virtualenvs/statspsych/lib/python3.8/site-packages (from python-dateutil>=2.7->matplotlib->missingno) (1.16.0)\n",
      "Requirement already satisfied: pytz>=2017.3 in /home/renato/.virtualenvs/statspsych/lib/python3.8/site-packages (from pandas>=0.23->seaborn->missingno) (2021.1)\n"
     ]
    }
   ],
   "metadata": {}
  },
  {
   "cell_type": "code",
   "execution_count": 9,
   "source": [
    "import missingno as msno\n",
    "\n",
    "# Escribe tu respuesta aquí\n"
   ],
   "outputs": [],
   "metadata": {}
  },
  {
   "cell_type": "markdown",
   "source": [
    "2. Visualiza los casos perdidos de todas las variables a la vez. ¿Observas algún patrón entre los datos perdidos o se trata de datos perdidos aleatoriamente? Si consideras que existe un patrón, realiza análisis posteriores para comprobarlo (2 pts).\n",
    ">Sugerencia: Utiliza la función `matrix` disponible en el paquete `missingno`."
   ],
   "metadata": {}
  },
  {
   "cell_type": "code",
   "execution_count": 10,
   "source": [
    "# Escribe tu respuesta aquí\n"
   ],
   "outputs": [],
   "metadata": {}
  },
  {
   "cell_type": "markdown",
   "source": [
    "3. Imputa los datos faltantes usando una técnica apropiada y crea una variable `df_impute` con los datos reconstruidos. Justifica tu selección de la técnica de imputación (2 pts). "
   ],
   "metadata": {}
  },
  {
   "cell_type": "code",
   "execution_count": 11,
   "source": [
    "# Escribe tu respuesta aquí\n",
    "\n",
    "df_impute = ..."
   ],
   "outputs": [],
   "metadata": {}
  },
  {
   "cell_type": "markdown",
   "source": [
    "4. Emplea la distancia de Mahalanobis para examinar si existen potenciales outliers en las variables cuantitativas de `df_impute`. ¿Qué puedes concluir? (2 pts)"
   ],
   "metadata": {}
  },
  {
   "cell_type": "code",
   "execution_count": 13,
   "source": [
    "from sklearn.covariance import MinCovDet\n",
    "import numpy as np\n",
    "\n",
    "# Los datos con los que trabajamos\n",
    "data = df_impute[['Edad','Estres','Ansiedad','Depresion','PromHS','Salud']]\n",
    "\n",
    "# Escribe tu respuesta aquí\n"
   ],
   "outputs": [],
   "metadata": {}
  },
  {
   "cell_type": "markdown",
   "source": [
    "## Parte 2: Verificación de supuestos\n",
    "\n",
    "5. Asumiendo que se trata de una variable cuantitativa continua, analiza la normalidad de la variable `Edad` utilizando un QQ-Plot y una prueba inferencial. ¿Qué puedes concluir en relación a la normalidad de dicha variable? (2 pts)\n",
    ">Sugerencia: Utiliza las funciones `qqplot` y `normality` disponibles en el paquete `pingouin`."
   ],
   "metadata": {}
  },
  {
   "cell_type": "code",
   "execution_count": null,
   "source": [
    "import pingouin as pg\n",
    "\n",
    "# Escribe tu respuesta aquí\n"
   ],
   "outputs": [],
   "metadata": {}
  },
  {
   "cell_type": "markdown",
   "source": [
    "6. Asumiendo que se trata de variables cuantitativas continuas, analiza gráficamente la homocedasticidad de las variables `Edad` y `Ansiedad`. ¿Qué puedes concluir en relación a la homogeneidad de las varianzas entre ambas variables? (2 pts)"
   ],
   "metadata": {}
  },
  {
   "cell_type": "code",
   "execution_count": null,
   "source": [
    "import seaborn as sns\n",
    "\n",
    "# Escribe tu respuesta aquí\n"
   ],
   "outputs": [],
   "metadata": {}
  }
 ],
 "metadata": {
  "orig_nbformat": 4,
  "language_info": {
   "name": "python",
   "version": "3.8.10",
   "mimetype": "text/x-python",
   "codemirror_mode": {
    "name": "ipython",
    "version": 3
   },
   "pygments_lexer": "ipython3",
   "nbconvert_exporter": "python",
   "file_extension": ".py"
  },
  "kernelspec": {
   "name": "python3",
   "display_name": "Python 3.8.10 64-bit ('statspsych': virtualenv)"
  },
  "interpreter": {
   "hash": "b25efa0878479caaac2d225245dccd11848f16278f5ed3e8dcef24d18156548f"
  }
 },
 "nbformat": 4,
 "nbformat_minor": 2
}