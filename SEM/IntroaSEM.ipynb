{
 "cells": [
  {
   "cell_type": "markdown",
   "metadata": {
    "slideshow": {
     "slide_type": "slide"
    }
   },
   "source": [
    "# Introducción a los modelos de ecuaciones estructurales\n",
    "\n",
    ">Este tutorial es una selección y adaptación al español del libro [Multivariate Data Analysis](https://www.cengage.co.uk/books/9781473756540/) de Joseph F. Hair et al."
   ]
  },
  {
   "cell_type": "code",
   "execution_count": null,
   "metadata": {},
   "outputs": [],
   "source": [
    "!pip install pyreadstat\n",
    "!pip install semopy"
   ]
  },
  {
   "cell_type": "markdown",
   "metadata": {
    "slideshow": {
     "slide_type": "slide"
    }
   },
   "source": [
    "## Nociones previas\n",
    "\n",
    "### ¿Qué es un modelo de ecuaciones estructurales (SEM)?\n",
    "\n",
    "En las secciones anteriores, cada técnica multivariante se ha clasificado como técnica de interdependencia o dependencia. Se puede pensar en SEM como una **combinación única de** ambos tipos de técnicas, porque la base de SEM radica en **dos técnicas multivariadas familiares: análisis factorial y análisis de regresión múltiple**."
   ]
  },
  {
   "cell_type": "markdown",
   "metadata": {
    "slideshow": {
     "slide_type": "subslide"
    }
   },
   "source": [
    "El SEM examina la **estructura** de las interrelaciones expresadas en una serie de ecuaciones, similar a una **serie de ecuaciones de regresión múltiple**. \n",
    "- Estas ecuaciones representan todas las relaciones entre constructos (las variables dependientes e independientes) y las variables involucradas en el análisis. \n",
    "- Igual de importante, una estructura teórica especifica qué variables y constructos probablemente no estén relacionados entre sí. \n",
    "\n",
    ">Los constructos son factores latentes o no observables representados por múltiples variables."
   ]
  },
  {
   "cell_type": "markdown",
   "metadata": {
    "slideshow": {
     "slide_type": "subslide"
    }
   },
   "source": [
    "Los modelos SEM se distinguen de los modelos de regresión tradicionales en que tienden a involucrar:\n",
    "- **Estimación simultánea** de relaciones de dependencia múltiples e interrelacionadas.\n",
    "- Capacidad para representar conceptos no observados en estas relaciones y tener en cuenta el **error de medición** en el proceso de estimación.\n",
    "- Definición de un **modelo teórico** para explicar todo el conjunto de relaciones.\n",
    "- Supuestos de sobreidentificación (las variables se explican mediante un conjunto único de variables que no incluye todas las relaciones posibles)."
   ]
  },
  {
   "cell_type": "markdown",
   "metadata": {
    "slideshow": {
     "slide_type": "subslide"
    }
   },
   "source": [
    "Un modelo convencional de SEM consta en realidad de dos teorías: \n",
    "- Modelo de medición (representa cómo las variables medidas se unen para representar constructos)\n",
    "- Modelo estructural (muestra cómo los constructos se asocian entre sí).\n",
    "\n",
    "> No se debe desarrollar ningún modelo SEM sin una teoría subyacente plausible."
   ]
  },
  {
   "cell_type": "markdown",
   "metadata": {
    "slideshow": {
     "slide_type": "slide"
    }
   },
   "source": [
    "### Diagramas de ruta\n",
    "\n",
    "Un modelo SEM completo que consta de modelos estructurales y de medición puede ser bastante complejo. \n",
    "\n",
    "Aunque todas las relaciones se pueden expresar en notación de análisis de ruta (que veremos más adelante), muchos investigadores encuentran más conveniente **representar un modelo en una forma visual, conocida como diagrama de ruta**."
   ]
  },
  {
   "cell_type": "markdown",
   "metadata": {
    "slideshow": {
     "slide_type": "subslide"
    }
   },
   "source": [
    "<p align=\"center\">\n",
    "  <img width=\"900\" src=\"https://github.com/renatoparedes/EstadisticaYPsicologiaMatematica/raw/main/SEM/semdiagram1.png\" alt=\"SEM Diagram 1\">\n",
    "</p>"
   ]
  },
  {
   "cell_type": "markdown",
   "metadata": {
    "slideshow": {
     "slide_type": "subslide"
    }
   },
   "source": [
    "- Los **constructos** generalmente se representan mediante **óvalos o círculos**, y las **variables medidas** se representan mediante **cuadrados o rectángulos**.\n",
    "- Para ayudar a distinguir los indicadores de constructos endógenos frente a exógenos, las variables medidas (indicadores) para **constructos exógenos se suelen denominar variables X**, mientras que los indicadores de **constructos endógenos suelen denominarse variables Y**.\n",
    ">Los constructos exógenos son el equivalente latente, de múltiples elementos, de las variables independientes. Los constructos endógenos son el equivalente latente de múltiples elementos de las variables dependientes.\n",
    "\n",
    "- Las variables medidas X o Y se asocian con sus respectivos constructos mediante una flecha recta de una sola cabeza desde las construcciones hasta la variable medida.\n",
    "- Las **relaciones de dependencia** se representan con **flechas direccionales** de una sola cabeza.\n",
    "- Las **relaciones de correlación** (covarianza) se representan con **flechas de dos puntas**."
   ]
  },
  {
   "cell_type": "markdown",
   "metadata": {
    "slideshow": {
     "slide_type": "subslide"
    }
   },
   "source": [
    "En este tipo de diagramas podemos representar el modelo de medición y el modelo estructural simultáneamente:\n",
    "\n",
    "<p align=\"center\">\n",
    "  <img width=\"550\" src=\"https://github.com/renatoparedes/EstadisticaYPsicologiaMatematica/raw/main/SEM/semdiagram2.png\" alt=\"SEM Diagram 2\">\n",
    "</p>"
   ]
  },
  {
   "cell_type": "markdown",
   "metadata": {
    "slideshow": {
     "slide_type": "subslide"
    }
   },
   "source": [
    "En contraste con la regresión u otras técnicas de dependencia que buscan predecir relaciones en una sola ecuación, el objetivo estadístico de la SEM basada en covarianza es **reproducir la matriz de covarianza observada de todas las variables medidas necesarias para probar una teoría**.\n",
    "\n",
    "Debido a que el **enfoque está en todo el modelo teórico**, la SEM se basa en la matriz de covarianza observada entre las variables medidas, que contiene información completa sobre cómo todas las variables se corresponden entre sí. \n",
    "\n",
    "**El ajuste del modelo está determinado por la similitud resultante entre la matriz de covarianza observada y una matriz de covarianza estimada producida a partir de las ecuaciones que representan el modelo teórico propuesto**. \n",
    "\n",
    "Si la teoría propuesta crea ecuaciones que reproducen con precisión la correspondencia entre las variables medidas (matriz de covarianza observada), entonces podemos decir que la teoría se ajusta a la realidad."
   ]
  },
  {
   "cell_type": "markdown",
   "metadata": {
    "slideshow": {
     "slide_type": "slide"
    }
   },
   "source": [
    "### Causalidad\n",
    "\n",
    "La inferencia causal es el tipo de **inferencia más fuerte que puede hacer un investigador** al momento de aplicar estadísticas multivariadas. Esta implica **proponer que una relación de dependencia en realidad se basa en la causalidad**. Una inferencia causal implica una relación hipotética de causa y efecto. "
   ]
  },
  {
   "cell_type": "markdown",
   "metadata": {
    "slideshow": {
     "slide_type": "subslide"
    }
   },
   "source": [
    "Veamos algunos ejemplos de los tipos de relaciones causales que puede especifica un modelo SEM:\n",
    "\n",
    "<p align=\"center\">\n",
    "  <img width=\"700\" src=\"https://github.com/renatoparedes/EstadisticaYPsicologiaMatematica/raw/main/SEM/semdiagram3.png\" alt=\"SEM Diagram 3\">\n",
    "</p>"
   ]
  },
  {
   "cell_type": "markdown",
   "metadata": {
    "slideshow": {
     "slide_type": "subslide"
    }
   },
   "source": [
    "Los modelos SEM se utilizan normalmente **en situaciones no experimentales** en las que los constructos exógenos no son variables controladas experimentalmente. Esto limita la capacidad del investigador para extraer inferencias causales y **el SEM por sí solo no puede establecer la causalidad**. "
   ]
  },
  {
   "cell_type": "markdown",
   "metadata": {
    "slideshow": {
     "slide_type": "subslide"
    }
   },
   "source": [
    "Sin embargo, **SEM puede tratar las relaciones de dependencia como causales si cuatro condiciones se reflejan en el modelo SEM**:\n",
    "\n",
    "- Covarianza entre causa y efecto\n",
    "- La causa debe ocurrir antes que el efecto.\n",
    "- Debe existir una asociación no espuria entre la causa y el efecto.\n",
    "- Existe apoyo teórico para la relación entre causa y efecto."
   ]
  },
  {
   "cell_type": "markdown",
   "metadata": {
    "slideshow": {
     "slide_type": "subslide"
    }
   },
   "source": [
    "SEM puede proporcionar evidencia de covariación sistemática y puede ayudar a demostrar que una relación no es falsa. Si los datos son longitudinales, SEM también puede ayudar a establecer la secuencia de relaciones. Sin embargo, **le corresponde al investigador establecer un soporte teórico**. \n",
    "\n",
    "Por lo tanto, SEM es útil para establecer una inferencia causal, pero no puede hacerlo solo."
   ]
  },
  {
   "cell_type": "markdown",
   "metadata": {
    "slideshow": {
     "slide_type": "slide"
    }
   },
   "source": [
    "## Definición de constructos individuales\n",
    "\n",
    "El proceso comienza con una buena **definición teórica de los constructos involucrados**. Esta definición proporciona la base para seleccionar o diseñar elementos de indicadores individuales. Un investigador **operacionaliza un constructo latente seleccionando sus elementos de escala de medición y el tipo de escala**.\n",
    "\n",
    "Cuando un modelo tiene escalas tomadas o adaptadas de diversas fuentes que informan sobre otras investigaciones, se recomienda una prueba previa con encuestados similares a los de la población que se va a estudiar para evaluar la idoneidad de los elementos."
   ]
  },
  {
   "cell_type": "markdown",
   "metadata": {
    "slideshow": {
     "slide_type": "subslide"
    }
   },
   "source": [
    "## Especificación del modelo de medición\n",
    "\n",
    "En esta etapa **se define cada constructo latente** a incluir en el modelo y **se asignan las variables (ítems) medidas a los constructos** latentes correspondientes.\n",
    "\n",
    "Como se discutió anteriormente, hay tres **tipos de relaciones**: \n",
    "- Relaciones de medición entre items y constructos; \n",
    "- Relaciones estructurales entre constructos; y \n",
    "- Relaciones de correlación entre constructos. \n",
    "\n",
    "También hay **dos tipos de términos de error**: uno relacionado con indicadores individuales y el otro con constructos endógenos."
   ]
  },
  {
   "cell_type": "markdown",
   "metadata": {
    "slideshow": {
     "slide_type": "subslide"
    }
   },
   "source": [
    "Para especificar un modelo SEM se utiliza una notación especial que se resume en la siguiente tabla:\n",
    "\n",
    "<p align=\"center\">\n",
    "  <img width=\"1200\" src=\"https://github.com/renatoparedes/EstadisticaYPsicologiaMatematica/raw/main/SEM/semnotation.png\" alt=\"SEM Notation\">\n",
    "</p>"
   ]
  },
  {
   "cell_type": "markdown",
   "metadata": {
    "slideshow": {
     "slide_type": "subslide"
    }
   },
   "source": [
    "Partamos de un ejemplo:"
   ]
  },
  {
   "cell_type": "code",
   "execution_count": 1,
   "metadata": {
    "hideCode": true,
    "slideshow": {
     "slide_type": "fragment"
    }
   },
   "outputs": [
    {
     "data": {
      "text/html": [
       "<div>\n",
       "<style scoped>\n",
       "    .dataframe tbody tr th:only-of-type {\n",
       "        vertical-align: middle;\n",
       "    }\n",
       "\n",
       "    .dataframe tbody tr th {\n",
       "        vertical-align: top;\n",
       "    }\n",
       "\n",
       "    .dataframe thead th {\n",
       "        text-align: right;\n",
       "    }\n",
       "</style>\n",
       "<table border=\"1\" class=\"dataframe\">\n",
       "  <thead>\n",
       "    <tr style=\"text-align: right;\">\n",
       "      <th></th>\n",
       "      <th>y1</th>\n",
       "      <th>y2</th>\n",
       "      <th>y3</th>\n",
       "      <th>y4</th>\n",
       "      <th>y5</th>\n",
       "      <th>y6</th>\n",
       "      <th>y7</th>\n",
       "      <th>y8</th>\n",
       "      <th>x1</th>\n",
       "      <th>x2</th>\n",
       "      <th>x3</th>\n",
       "    </tr>\n",
       "  </thead>\n",
       "  <tbody>\n",
       "    <tr>\n",
       "      <th>1</th>\n",
       "      <td>2.50</td>\n",
       "      <td>0.000000</td>\n",
       "      <td>3.333333</td>\n",
       "      <td>0.000000</td>\n",
       "      <td>1.250000</td>\n",
       "      <td>0.000000</td>\n",
       "      <td>3.726360</td>\n",
       "      <td>3.333333</td>\n",
       "      <td>4.442651</td>\n",
       "      <td>3.637586</td>\n",
       "      <td>2.557615</td>\n",
       "    </tr>\n",
       "    <tr>\n",
       "      <th>2</th>\n",
       "      <td>1.25</td>\n",
       "      <td>0.000000</td>\n",
       "      <td>3.333333</td>\n",
       "      <td>0.000000</td>\n",
       "      <td>6.250000</td>\n",
       "      <td>1.100000</td>\n",
       "      <td>6.666666</td>\n",
       "      <td>0.736999</td>\n",
       "      <td>5.384495</td>\n",
       "      <td>5.062595</td>\n",
       "      <td>3.568079</td>\n",
       "    </tr>\n",
       "    <tr>\n",
       "      <th>3</th>\n",
       "      <td>7.50</td>\n",
       "      <td>8.800000</td>\n",
       "      <td>9.999998</td>\n",
       "      <td>9.199991</td>\n",
       "      <td>8.750000</td>\n",
       "      <td>8.094061</td>\n",
       "      <td>9.999998</td>\n",
       "      <td>8.211809</td>\n",
       "      <td>5.961005</td>\n",
       "      <td>6.255750</td>\n",
       "      <td>5.224433</td>\n",
       "    </tr>\n",
       "    <tr>\n",
       "      <th>4</th>\n",
       "      <td>8.90</td>\n",
       "      <td>8.800000</td>\n",
       "      <td>9.999998</td>\n",
       "      <td>9.199991</td>\n",
       "      <td>8.907948</td>\n",
       "      <td>8.127979</td>\n",
       "      <td>9.999998</td>\n",
       "      <td>4.615086</td>\n",
       "      <td>6.285998</td>\n",
       "      <td>7.567863</td>\n",
       "      <td>6.267495</td>\n",
       "    </tr>\n",
       "    <tr>\n",
       "      <th>5</th>\n",
       "      <td>10.00</td>\n",
       "      <td>3.333333</td>\n",
       "      <td>9.999998</td>\n",
       "      <td>6.666666</td>\n",
       "      <td>7.500000</td>\n",
       "      <td>3.333333</td>\n",
       "      <td>9.999998</td>\n",
       "      <td>6.666666</td>\n",
       "      <td>5.863631</td>\n",
       "      <td>6.818924</td>\n",
       "      <td>4.573679</td>\n",
       "    </tr>\n",
       "    <tr>\n",
       "      <th>...</th>\n",
       "      <td>...</td>\n",
       "      <td>...</td>\n",
       "      <td>...</td>\n",
       "      <td>...</td>\n",
       "      <td>...</td>\n",
       "      <td>...</td>\n",
       "      <td>...</td>\n",
       "      <td>...</td>\n",
       "      <td>...</td>\n",
       "      <td>...</td>\n",
       "      <td>...</td>\n",
       "    </tr>\n",
       "    <tr>\n",
       "      <th>71</th>\n",
       "      <td>5.40</td>\n",
       "      <td>9.999998</td>\n",
       "      <td>6.666666</td>\n",
       "      <td>3.333333</td>\n",
       "      <td>3.750000</td>\n",
       "      <td>6.666666</td>\n",
       "      <td>6.666666</td>\n",
       "      <td>1.485166</td>\n",
       "      <td>4.477337</td>\n",
       "      <td>3.091042</td>\n",
       "      <td>1.987909</td>\n",
       "    </tr>\n",
       "    <tr>\n",
       "      <th>72</th>\n",
       "      <td>7.50</td>\n",
       "      <td>8.800000</td>\n",
       "      <td>9.999998</td>\n",
       "      <td>6.066666</td>\n",
       "      <td>7.500000</td>\n",
       "      <td>6.666666</td>\n",
       "      <td>9.999998</td>\n",
       "      <td>6.666666</td>\n",
       "      <td>5.337538</td>\n",
       "      <td>5.631212</td>\n",
       "      <td>3.491004</td>\n",
       "    </tr>\n",
       "    <tr>\n",
       "      <th>73</th>\n",
       "      <td>7.50</td>\n",
       "      <td>7.000000</td>\n",
       "      <td>9.999998</td>\n",
       "      <td>6.852998</td>\n",
       "      <td>7.500000</td>\n",
       "      <td>6.348340</td>\n",
       "      <td>6.666666</td>\n",
       "      <td>7.508044</td>\n",
       "      <td>6.129050</td>\n",
       "      <td>6.403574</td>\n",
       "      <td>5.001796</td>\n",
       "    </tr>\n",
       "    <tr>\n",
       "      <th>74</th>\n",
       "      <td>10.00</td>\n",
       "      <td>6.666666</td>\n",
       "      <td>9.999998</td>\n",
       "      <td>10.000000</td>\n",
       "      <td>10.000000</td>\n",
       "      <td>6.666666</td>\n",
       "      <td>9.999998</td>\n",
       "      <td>10.000000</td>\n",
       "      <td>5.003946</td>\n",
       "      <td>4.962845</td>\n",
       "      <td>3.976994</td>\n",
       "    </tr>\n",
       "    <tr>\n",
       "      <th>75</th>\n",
       "      <td>3.75</td>\n",
       "      <td>3.333333</td>\n",
       "      <td>0.000000</td>\n",
       "      <td>0.000000</td>\n",
       "      <td>1.250000</td>\n",
       "      <td>3.333333</td>\n",
       "      <td>0.000000</td>\n",
       "      <td>0.000000</td>\n",
       "      <td>4.488636</td>\n",
       "      <td>4.897840</td>\n",
       "      <td>2.867566</td>\n",
       "    </tr>\n",
       "  </tbody>\n",
       "</table>\n",
       "<p>75 rows × 11 columns</p>\n",
       "</div>"
      ],
      "text/plain": [
       "       y1        y2        y3         y4         y5        y6        y7  \\\n",
       "1    2.50  0.000000  3.333333   0.000000   1.250000  0.000000  3.726360   \n",
       "2    1.25  0.000000  3.333333   0.000000   6.250000  1.100000  6.666666   \n",
       "3    7.50  8.800000  9.999998   9.199991   8.750000  8.094061  9.999998   \n",
       "4    8.90  8.800000  9.999998   9.199991   8.907948  8.127979  9.999998   \n",
       "5   10.00  3.333333  9.999998   6.666666   7.500000  3.333333  9.999998   \n",
       "..    ...       ...       ...        ...        ...       ...       ...   \n",
       "71   5.40  9.999998  6.666666   3.333333   3.750000  6.666666  6.666666   \n",
       "72   7.50  8.800000  9.999998   6.066666   7.500000  6.666666  9.999998   \n",
       "73   7.50  7.000000  9.999998   6.852998   7.500000  6.348340  6.666666   \n",
       "74  10.00  6.666666  9.999998  10.000000  10.000000  6.666666  9.999998   \n",
       "75   3.75  3.333333  0.000000   0.000000   1.250000  3.333333  0.000000   \n",
       "\n",
       "           y8        x1        x2        x3  \n",
       "1    3.333333  4.442651  3.637586  2.557615  \n",
       "2    0.736999  5.384495  5.062595  3.568079  \n",
       "3    8.211809  5.961005  6.255750  5.224433  \n",
       "4    4.615086  6.285998  7.567863  6.267495  \n",
       "5    6.666666  5.863631  6.818924  4.573679  \n",
       "..        ...       ...       ...       ...  \n",
       "71   1.485166  4.477337  3.091042  1.987909  \n",
       "72   6.666666  5.337538  5.631212  3.491004  \n",
       "73   7.508044  6.129050  6.403574  5.001796  \n",
       "74  10.000000  5.003946  4.962845  3.976994  \n",
       "75   0.000000  4.488636  4.897840  2.867566  \n",
       "\n",
       "[75 rows x 11 columns]"
      ]
     },
     "execution_count": 1,
     "metadata": {},
     "output_type": "execute_result"
    }
   ],
   "source": [
    "import pandas as pd\n",
    "from semopy.examples import political_democracy\n",
    "\n",
    "df = political_democracy.get_data()\n",
    "df"
   ]
  },
  {
   "cell_type": "code",
   "execution_count": 2,
   "metadata": {
    "hideCode": true,
    "slideshow": {
     "slide_type": "subslide"
    }
   },
   "outputs": [
    {
     "data": {
      "image/svg+xml": "<?xml version=\"1.0\" encoding=\"UTF-8\" standalone=\"no\"?>\n<!DOCTYPE svg PUBLIC \"-//W3C//DTD SVG 1.1//EN\"\n \"http://www.w3.org/Graphics/SVG/1.1/DTD/svg11.dtd\">\n<!-- Generated by graphviz version 7.0.1 (0)\n -->\n<!-- Title: G Pages: 1 -->\n<svg width=\"782pt\" height=\"164pt\"\n viewBox=\"0.00 0.00 782.00 164.49\" xmlns=\"http://www.w3.org/2000/svg\" xmlns:xlink=\"http://www.w3.org/1999/xlink\">\n<g id=\"graph0\" class=\"graph\" transform=\"scale(1 1) rotate(0) translate(4 160.49)\">\n<title>G</title>\n<polygon fill=\"white\" stroke=\"none\" points=\"-4,4 -4,-160.49 778,-160.49 778,4 -4,4\"/>\n<!-- dem60 -->\n<g id=\"node1\" class=\"node\">\n<title>dem60</title>\n<ellipse fill=\"#cae6df\" stroke=\"black\" cx=\"135\" cy=\"-114.25\" rx=\"42.49\" ry=\"42.49\"/>\n<text text-anchor=\"middle\" x=\"135\" y=\"-110.55\" font-family=\"Times,serif\" font-size=\"14.00\">dem60</text>\n</g>\n<!-- y1 -->\n<g id=\"node7\" class=\"node\">\n<title>y1</title>\n<polygon fill=\"none\" stroke=\"black\" points=\"54,-36 0,-36 0,0 54,0 54,-36\"/>\n<text text-anchor=\"middle\" x=\"27\" y=\"-14.3\" font-family=\"Times,serif\" font-size=\"14.00\">y1</text>\n</g>\n<!-- dem60&#45;&gt;y1 -->\n<g id=\"edge4\" class=\"edge\">\n<title>dem60&#45;&gt;y1</title>\n<path fill=\"none\" stroke=\"black\" d=\"M103.18,-85.48C88.13,-72.35 70.31,-56.79 55.68,-44.03\"/>\n<polygon fill=\"black\" stroke=\"black\" points=\"58.02,-41.43 48.19,-37.49 53.42,-46.7 58.02,-41.43\"/>\n</g>\n<!-- y2 -->\n<g id=\"node8\" class=\"node\">\n<title>y2</title>\n<polygon fill=\"none\" stroke=\"black\" points=\"126,-36 72,-36 72,0 126,0 126,-36\"/>\n<text text-anchor=\"middle\" x=\"99\" y=\"-14.3\" font-family=\"Times,serif\" font-size=\"14.00\">y2</text>\n</g>\n<!-- dem60&#45;&gt;y2 -->\n<g id=\"edge5\" class=\"edge\">\n<title>dem60&#45;&gt;y2</title>\n<path fill=\"none\" stroke=\"black\" d=\"M120.05,-74.1C116.55,-64.95 112.9,-55.4 109.64,-46.86\"/>\n<polygon fill=\"black\" stroke=\"black\" points=\"113,-45.85 106.17,-37.76 106.46,-48.35 113,-45.85\"/>\n</g>\n<!-- y3 -->\n<g id=\"node9\" class=\"node\">\n<title>y3</title>\n<polygon fill=\"none\" stroke=\"black\" points=\"198,-36 144,-36 144,0 198,0 198,-36\"/>\n<text text-anchor=\"middle\" x=\"171\" y=\"-14.3\" font-family=\"Times,serif\" font-size=\"14.00\">y3</text>\n</g>\n<!-- dem60&#45;&gt;y3 -->\n<g id=\"edge6\" class=\"edge\">\n<title>dem60&#45;&gt;y3</title>\n<path fill=\"none\" stroke=\"black\" d=\"M149.95,-74.1C153.45,-64.95 157.1,-55.4 160.36,-46.86\"/>\n<polygon fill=\"black\" stroke=\"black\" points=\"163.54,-48.35 163.83,-37.76 157,-45.85 163.54,-48.35\"/>\n</g>\n<!-- y4 -->\n<g id=\"node10\" class=\"node\">\n<title>y4</title>\n<polygon fill=\"none\" stroke=\"black\" points=\"270,-36 216,-36 216,0 270,0 270,-36\"/>\n<text text-anchor=\"middle\" x=\"243\" y=\"-14.3\" font-family=\"Times,serif\" font-size=\"14.00\">y4</text>\n</g>\n<!-- dem60&#45;&gt;y4 -->\n<g id=\"edge7\" class=\"edge\">\n<title>dem60&#45;&gt;y4</title>\n<path fill=\"none\" stroke=\"black\" d=\"M166.82,-85.48C181.87,-72.35 199.69,-56.79 214.32,-44.03\"/>\n<polygon fill=\"black\" stroke=\"black\" points=\"216.58,-46.7 221.81,-37.49 211.98,-41.43 216.58,-46.7\"/>\n</g>\n<!-- ind60 -->\n<g id=\"node2\" class=\"node\">\n<title>ind60</title>\n<ellipse fill=\"#cae6df\" stroke=\"black\" cx=\"387\" cy=\"-114.25\" rx=\"37.09\" ry=\"37.09\"/>\n<text text-anchor=\"middle\" x=\"387\" y=\"-110.55\" font-family=\"Times,serif\" font-size=\"14.00\">ind60</text>\n</g>\n<!-- x1 -->\n<g id=\"node4\" class=\"node\">\n<title>x1</title>\n<polygon fill=\"none\" stroke=\"black\" points=\"342,-36 288,-36 288,0 342,0 342,-36\"/>\n<text text-anchor=\"middle\" x=\"315\" y=\"-14.3\" font-family=\"Times,serif\" font-size=\"14.00\">x1</text>\n</g>\n<!-- ind60&#45;&gt;x1 -->\n<g id=\"edge1\" class=\"edge\">\n<title>ind60&#45;&gt;x1</title>\n<path fill=\"none\" stroke=\"black\" d=\"M364.81,-84.2C355.36,-71.82 344.4,-57.49 335.18,-45.41\"/>\n<polygon fill=\"black\" stroke=\"black\" points=\"337.99,-43.32 329.13,-37.5 332.42,-47.57 337.99,-43.32\"/>\n</g>\n<!-- x2 -->\n<g id=\"node5\" class=\"node\">\n<title>x2</title>\n<polygon fill=\"none\" stroke=\"black\" points=\"414,-36 360,-36 360,0 414,0 414,-36\"/>\n<text text-anchor=\"middle\" x=\"387\" y=\"-14.3\" font-family=\"Times,serif\" font-size=\"14.00\">x2</text>\n</g>\n<!-- ind60&#45;&gt;x2 -->\n<g id=\"edge2\" class=\"edge\">\n<title>ind60&#45;&gt;x2</title>\n<path fill=\"none\" stroke=\"black\" d=\"M387,-76.81C387,-67.16 387,-56.87 387,-47.7\"/>\n<polygon fill=\"black\" stroke=\"black\" points=\"390.5,-47.93 387,-37.93 383.5,-47.93 390.5,-47.93\"/>\n</g>\n<!-- x3 -->\n<g id=\"node6\" class=\"node\">\n<title>x3</title>\n<polygon fill=\"none\" stroke=\"black\" points=\"486,-36 432,-36 432,0 486,0 486,-36\"/>\n<text text-anchor=\"middle\" x=\"459\" y=\"-14.3\" font-family=\"Times,serif\" font-size=\"14.00\">x3</text>\n</g>\n<!-- ind60&#45;&gt;x3 -->\n<g id=\"edge3\" class=\"edge\">\n<title>ind60&#45;&gt;x3</title>\n<path fill=\"none\" stroke=\"black\" d=\"M409.19,-84.2C418.64,-71.82 429.6,-57.49 438.82,-45.41\"/>\n<polygon fill=\"black\" stroke=\"black\" points=\"441.58,-47.57 444.87,-37.5 436.01,-43.32 441.58,-47.57\"/>\n</g>\n<!-- dem65 -->\n<g id=\"node3\" class=\"node\">\n<title>dem65</title>\n<ellipse fill=\"#cae6df\" stroke=\"black\" cx=\"639\" cy=\"-114.25\" rx=\"42.49\" ry=\"42.49\"/>\n<text text-anchor=\"middle\" x=\"639\" y=\"-110.55\" font-family=\"Times,serif\" font-size=\"14.00\">dem65</text>\n</g>\n<!-- y5 -->\n<g id=\"node11\" class=\"node\">\n<title>y5</title>\n<polygon fill=\"none\" stroke=\"black\" points=\"558,-36 504,-36 504,0 558,0 558,-36\"/>\n<text text-anchor=\"middle\" x=\"531\" y=\"-14.3\" font-family=\"Times,serif\" font-size=\"14.00\">y5</text>\n</g>\n<!-- dem65&#45;&gt;y5 -->\n<g id=\"edge8\" class=\"edge\">\n<title>dem65&#45;&gt;y5</title>\n<path fill=\"none\" stroke=\"black\" d=\"M607.18,-85.48C592.13,-72.35 574.31,-56.79 559.68,-44.03\"/>\n<polygon fill=\"black\" stroke=\"black\" points=\"562.02,-41.43 552.19,-37.49 557.42,-46.7 562.02,-41.43\"/>\n</g>\n<!-- y6 -->\n<g id=\"node12\" class=\"node\">\n<title>y6</title>\n<polygon fill=\"none\" stroke=\"black\" points=\"630,-36 576,-36 576,0 630,0 630,-36\"/>\n<text text-anchor=\"middle\" x=\"603\" y=\"-14.3\" font-family=\"Times,serif\" font-size=\"14.00\">y6</text>\n</g>\n<!-- dem65&#45;&gt;y6 -->\n<g id=\"edge9\" class=\"edge\">\n<title>dem65&#45;&gt;y6</title>\n<path fill=\"none\" stroke=\"black\" d=\"M624.05,-74.1C620.55,-64.95 616.9,-55.4 613.64,-46.86\"/>\n<polygon fill=\"black\" stroke=\"black\" points=\"617,-45.85 610.17,-37.76 610.46,-48.35 617,-45.85\"/>\n</g>\n<!-- y7 -->\n<g id=\"node13\" class=\"node\">\n<title>y7</title>\n<polygon fill=\"none\" stroke=\"black\" points=\"702,-36 648,-36 648,0 702,0 702,-36\"/>\n<text text-anchor=\"middle\" x=\"675\" y=\"-14.3\" font-family=\"Times,serif\" font-size=\"14.00\">y7</text>\n</g>\n<!-- dem65&#45;&gt;y7 -->\n<g id=\"edge10\" class=\"edge\">\n<title>dem65&#45;&gt;y7</title>\n<path fill=\"none\" stroke=\"black\" d=\"M653.95,-74.1C657.45,-64.95 661.1,-55.4 664.36,-46.86\"/>\n<polygon fill=\"black\" stroke=\"black\" points=\"667.54,-48.35 667.83,-37.76 661,-45.85 667.54,-48.35\"/>\n</g>\n<!-- y8 -->\n<g id=\"node14\" class=\"node\">\n<title>y8</title>\n<polygon fill=\"none\" stroke=\"black\" points=\"774,-36 720,-36 720,0 774,0 774,-36\"/>\n<text text-anchor=\"middle\" x=\"747\" y=\"-14.3\" font-family=\"Times,serif\" font-size=\"14.00\">y8</text>\n</g>\n<!-- dem65&#45;&gt;y8 -->\n<g id=\"edge11\" class=\"edge\">\n<title>dem65&#45;&gt;y8</title>\n<path fill=\"none\" stroke=\"black\" d=\"M670.82,-85.48C685.87,-72.35 703.69,-56.79 718.32,-44.03\"/>\n<polygon fill=\"black\" stroke=\"black\" points=\"720.58,-46.7 725.81,-37.49 715.98,-41.43 720.58,-46.7\"/>\n</g>\n</g>\n</svg>\n",
      "text/plain": [
       "<graphviz.graphs.Digraph at 0x7f3654199dd0>"
      ]
     },
     "execution_count": 2,
     "metadata": {},
     "output_type": "execute_result"
    }
   ],
   "source": [
    "import semopy\n",
    "\n",
    "measure_desc = \"\"\"\n",
    "# Measurement\n",
    "ind60 =~ x1 + x2 + x3\n",
    "dem60 =~ y1 + y2 + y3 + y4\n",
    "dem65 =~ y5 + y6 + y7 + y8\n",
    "\"\"\"\n",
    "\n",
    "g = semopy.semplot(measure_desc, \"out.png\")\n",
    "g"
   ]
  },
  {
   "cell_type": "markdown",
   "metadata": {
    "slideshow": {
     "slide_type": "slide"
    }
   },
   "source": [
    "## Diseño de un estudio\n",
    "\n",
    "El **tamaño mínimo de la muestra para un modelo SEM** en particular depende de varios factores, incluida la **complejidad del modelo** y las **comunalidades** (varianza promedio extraída entre elementos) en cada factor:\n",
    "\n",
    "- Los modelos SEM que contienen cinco o menos constructos, cada uno con más de tres ítems (variables observadas), y con altas comunalidades de ítems (.6 o más), se pueden estimar adecuadamente con muestras tan pequeñas como 50. \n",
    "- Cuando el número de factores es superior a seis, algunos de los cuales tienen menos de tres items medidos como indicadores, existen problemas de distribución graves y existen múltiples comunidades bajas, los requisitos de tamaño de la muestra se vuelven mucho mayores.\n",
    "\n",
    ">Recuerda que siempre se requieren más observaciones que el número de variables medidas para que las matemáticas funcionen."
   ]
  },
  {
   "cell_type": "markdown",
   "metadata": {
    "slideshow": {
     "slide_type": "subslide"
    }
   },
   "source": [
    "Contamos con las siguientes guías generales:\n",
    "\n",
    "- N = 100: modelos que contienen cinco o menos constructos, cada uno con más de tres ítems (variables observadas) y con alta comunalidad de ítems (.6 o más).\n",
    "- N = 150: modelos con siete constructos o menos, al menos comunidades modestas (.5) y sin constructos subidentificados.\n",
    "- N = 300: modelos con siete o menos constructos, comunidades más bajas (por debajo de .45) o múltiples constructos subidentificados (menos de tres).\n",
    "- N = 500: modelos con un gran número de constructos, algunos con comunidades más bajas o con menos de tres elementos medidos."
   ]
  },
  {
   "cell_type": "markdown",
   "metadata": {
    "slideshow": {
     "slide_type": "subslide"
    }
   },
   "source": [
    "**El tamaño de la muestra debe ser suficiente para permitir que el modelo se ejecute, pero lo que es más importante, debe representar adecuadamente la población de interés**."
   ]
  },
  {
   "cell_type": "markdown",
   "metadata": {
    "slideshow": {
     "slide_type": "slide"
    }
   },
   "source": [
    "## Validez del modelo de medición\n",
    "\n",
    "La **bondad de ajuste (GOF)** indica qué tan bien el modelo especificado por el usuario reproduce matemáticamente la matriz de covarianza observada entre los elementos del indicador. Es decir, **la similitud de las matrices de covarianza observadas y estimadas**."
   ]
  },
  {
   "cell_type": "markdown",
   "metadata": {
    "slideshow": {
     "slide_type": "subslide"
    }
   },
   "source": [
    "### Índices absolutos\n",
    "\n",
    "#### Chi-cuadrado\n",
    "\n",
    "Chi-cuadrado ($X^{2}$) es la medida estadística fundamental en SEM para cuantificar las diferencias entre la matriz de covarianza observada ($S$) y estimada($\\Sigma_{k}$). El cálculo de este estadístico se define en la siguiente ecuación:\n",
    "\n",
    "$$ X^{2} = f [ (N-1) (S-\\Sigma_{k}) ] $$\n",
    "\n",
    "donde N es el es el tamaño de muestra general.\n",
    "\n",
    "> Nota que el valor de $X^{2}$ aumenta a medida que el valor de N aumenta."
   ]
  },
  {
   "cell_type": "markdown",
   "metadata": {
    "slideshow": {
     "slide_type": "subslide"
    }
   },
   "source": [
    "Los grados de libertad de un modelo SEM se definen:\n",
    "\n",
    "$$ df = \\frac{1}{2}[ (p)(p+1)] - k $$\n",
    "\n",
    "donde $p$ es el número de variables observadas y $k$ es el número de parámetros estimados en el modelo. \n",
    "\n",
    "En particular, los grados de libertad en SEM se basan en el tamaño de la matriz de covarianza, que es una matriz cuadrada con el número de filas (columnas) igual al número de indicadores (variables medidas) en el modelo."
   ]
  },
  {
   "cell_type": "markdown",
   "metadata": {
    "slideshow": {
     "slide_type": "subslide"
    }
   },
   "source": [
    "##### Significancia estadística\n",
    "\n",
    "**La hipótesis nula implícita de SEM es que la muestra observada y las matrices de covarianza estimadas de SEM son iguales**, lo que significa que el modelo se ajusta perfectamente. El valor de $X^{2}$ aumenta a medida que se encuentran diferencias (residuos) al comparar las dos matrices.\n",
    "\n",
    "Con la prueba inferencial $X^{2}$, evaluamos la probabilidad estadística de que las matrices de covarianza de la muestra observada y la estimadas por SEM sean realmente iguales en una población determinada.\n",
    "\n",
    "Por tanto, **en SEM buscamos un valor $X^{2}$ relativamente pequeño (y un valor p grande > .05), lo que indica que no hay diferencia estadísticamente significativa entre las dos matrices**, para apoyar la idea de que una teoría propuesta se ajusta a la realidad."
   ]
  },
  {
   "cell_type": "markdown",
   "metadata": {
    "slideshow": {
     "slide_type": "subslide"
    }
   },
   "source": [
    "Debido a que el estadístico $X^{2}$ es **sensible al aumento del tamaño muestral y al número de variables empleadas en el modelo**, no debe ser usado como la única medida de bondad de ajuste. "
   ]
  },
  {
   "cell_type": "markdown",
   "metadata": {
    "slideshow": {
     "slide_type": "slide"
    }
   },
   "source": [
    "#### GFI\n",
    "\n",
    "El GFI fue un intento temprano de producir una estadística de ajuste que fuera menos sensible al tamaño de la muestra. \n",
    "\n",
    "El GFI se define como:\n",
    "\n",
    "$$ GFI = 1-\\frac{F_{k}}{F_{0}} $$\n",
    "\n",
    "donde $F_{k}$ es la función de ajuste mínimo después de un modelo SEM se ha estimado utilizando k grados de libertad, y $F_{0}$ es la función de ajuste que resultaría si todos los parámetros fueran cero (todo no está relacionado entre sí; no hay relaciones teóricas)."
   ]
  },
  {
   "cell_type": "markdown",
   "metadata": {
    "slideshow": {
     "slide_type": "subslide"
    }
   },
   "source": [
    "El ratio $\\frac{F_{k}}{F_{0}}$ es análogo al ratio $\\frac{SSE}{SST}$ del modelo de regresión múltiple.\n",
    "\n",
    "El rango posible de valores de GFI es de 0 a 1, y los valores más altos indican un mejor ajuste. **Los valores de GFI superiores a .90 o .95 normalmente se consideran buenos**."
   ]
  },
  {
   "cell_type": "markdown",
   "metadata": {
    "slideshow": {
     "slide_type": "slide"
    }
   },
   "source": [
    "#### RMSEA\n",
    "\n",
    "Intenta explícitamente corregir tanto la complejidad del modelo como el tamaño de la muestra al incluir cada uno en su cálculo:\n",
    "\n",
    "$$ RMSEA = \\sqrt{ \\frac{X^{2}-df_{k}}{N-1}   } $$ \n",
    "\n",
    "Aunque investigaciones anteriores a veces habían apuntado a un valor de corte de .05 o .08, investigaciones más recientes apuntan al hecho de que **no es aconsejable trazar un corte absoluto para RMSEA**."
   ]
  },
  {
   "cell_type": "markdown",
   "metadata": {
    "slideshow": {
     "slide_type": "slide"
    }
   },
   "source": [
    "### Índices incrementales\n",
    "\n",
    "Evalúan qué tan bien se ajusta el modelo estimado en relación con algún modelo de línea base alternativo. **El modelo de línea base más común se conoce como modelo nulo, uno que asume que todas las variables observadas no están correlacionadas**."
   ]
  },
  {
   "cell_type": "markdown",
   "metadata": {
    "slideshow": {
     "slide_type": "subslide"
    }
   },
   "source": [
    "#### CFI\n",
    "\n",
    "El CFI se ha convertido en el índice más difundido para complementar el $X^{2}$.\n",
    "\n",
    "$$ CFI = 1 - \\frac{ X^{2}_{k}-df_{k} } { X^{2}_{N}-df_{N}  } $$\n",
    "\n",
    "donde k representa valores asociados con el modelo o la teoría especificada por el investigador, mientras que N denota valores asociados con el modelo estadístico nulo.\n",
    "\n",
    "El CFI está normalizado para que los valores oscilen entre 0 y 1, y los **valores más altos indican un mejor ajuste**."
   ]
  },
  {
   "cell_type": "markdown",
   "metadata": {
    "slideshow": {
     "slide_type": "subslide"
    }
   },
   "source": [
    "#### TLI\n",
    "\n",
    "Se trata de una comparación de los valores de chi-cuadrado normalizados para el modelo nulo y especificado, que hasta cierto punto tiene en cuenta la complejidad del modelo.\n",
    "\n",
    "$$ TLI = \\frac{ \\frac{X^{2}_{N}}{df_{N}}  - \\frac{X^{2}_{k}}{df_{k}}    }{   \\frac{X^{2}_{N}}{df_{N}} - 1 } $$\n",
    "\n",
    "**Los modelos con buen ajuste tienen valores que se acercan a 1**. Un modelo con un valor más alto sugiere un mejor ajuste que un modelo con un valor más bajo."
   ]
  },
  {
   "cell_type": "markdown",
   "metadata": {
    "slideshow": {
     "slide_type": "slide"
    }
   },
   "source": [
    "### Reporte\n",
    "\n",
    "Se deben usar índices de ajuste múltiples para evaluar la bondad de ajuste de un modelo y deben incluir:\n",
    "- El valor $X^{2}$ y el gl asociado.\n",
    "- Un índice de ajuste absoluto (GFI, RMSEA o SRMR).\n",
    "- Un índice de ajuste incremental (CFI o TLI).\n",
    "- Un índice de bondad de ajuste (GFI, CFI, TLI, etc.).\n",
    "- Un índice de mal ajuste (RMSEA, SRMR, etc.).\n",
    "\n",
    "En general, reportar $X^{2}$, CFI y RMSEA puede ser suficiente para evaluar un modelo SEM."
   ]
  },
  {
   "cell_type": "markdown",
   "metadata": {
    "slideshow": {
     "slide_type": "subslide"
    }
   },
   "source": [
    "**Ningún valor “mágico” único para los índices de ajuste separa los modelos buenos de los malos**, y no es práctico aplicar un solo conjunto de reglas de corte a todos los modelos de medición y, en realidad, a todos los modelos SEM de cualquier tipo."
   ]
  },
  {
   "cell_type": "markdown",
   "metadata": {
    "slideshow": {
     "slide_type": "subslide"
    }
   },
   "source": [
    "La **calidad del ajuste** depende en gran medida de las **características del modelo, incluido el tamaño de la muestra y la complejidad del modelo**:\n",
    "- Los modelos simples con muestras pequeñas deben mantenerse con estrictos estándares de ajuste; incluso un valor p pequeño para un modelo simple puede no ser significativo.\n",
    "- Los **modelos más complejos con muestras más grandes no deben someterse a los mismos estándares estrictos**, por lo que cuando las muestras son grandes y el modelo contiene una gran cantidad de variables medidas y estimaciones de parámetros, valores de corte universales de .95 de GOF son poco realistas."
   ]
  },
  {
   "cell_type": "markdown",
   "metadata": {
    "slideshow": {
     "slide_type": "subslide"
    }
   },
   "source": [
    "Podemos ver un resumen de estas nociones en la siguiente tabla:\n",
    "\n",
    "<p align=\"center\">\n",
    "  <img width=\"1200\" src=\"https://github.com/renatoparedes/EstadisticaYPsicologiaMatematica/raw/main/SEM/semgof.png\" alt=\"SEM GOF measures\">\n",
    "</p>"
   ]
  },
  {
   "cell_type": "markdown",
   "metadata": {
    "slideshow": {
     "slide_type": "subslide"
    }
   },
   "source": [
    "Revisemos estos índices en nuestro ejemplo:"
   ]
  },
  {
   "cell_type": "code",
   "execution_count": 3,
   "metadata": {},
   "outputs": [],
   "source": [
    "measure_model = semopy.Model(measure_desc)\n",
    "res = measure_model.fit(df)"
   ]
  },
  {
   "cell_type": "code",
   "execution_count": 4,
   "metadata": {
    "hideCode": true,
    "slideshow": {
     "slide_type": "fragment"
    }
   },
   "outputs": [
    {
     "name": "stdout",
     "output_type": "stream",
     "text": [
      "                    Value\n",
      "DoF             41.000000\n",
      "DoF Baseline    55.000000\n",
      "chi2            72.461632\n",
      "chi2 p-value     0.001761\n",
      "chi2 Baseline  730.654577\n",
      "CFI              0.953435\n",
      "GFI              0.900826\n",
      "AGFI             0.866962\n",
      "NFI              0.900826\n",
      "TLI              0.937535\n",
      "RMSEA            0.101832\n",
      "AIC             48.067690\n",
      "BIC            106.004893\n",
      "LogLik           0.966155\n"
     ]
    }
   ],
   "source": [
    "stats = semopy.calc_stats(measure_model)\n",
    "print(stats.T)"
   ]
  },
  {
   "cell_type": "markdown",
   "metadata": {
    "slideshow": {
     "slide_type": "fragment"
    }
   },
   "source": [
    "Podemos apreciar un regular ajuste del modelo. El valor $X^{2}$ es significativo, lo cual sugiere diferencias entre la matriz de covarianza estimada y la original. El indicador CFI muestra un valor elevado, pero ligeramente inferior a .97 que sería lo sugerido. Del mismo modo, el indicador RMSEA se encuentra ligeramente por encima del punto de corte sugerido (0.8). Para efectos de este ejemplo, consideraremos que el ajuste es suficientemente bueno como para continuar."
   ]
  },
  {
   "cell_type": "markdown",
   "metadata": {
    "slideshow": {
     "slide_type": "slide"
    }
   },
   "source": [
    "## Especificación el modelo estructural\n",
    "\n",
    "Consiste en **especificar el modelo estructural asignando relaciones de un constructo a otro con base en el modelo teórico propuesto**.\n",
    "\n",
    "En otras palabras, el **investigador identifica las relaciones de dependencia que se supone que existen entre los constructos, y cada hipótesis representa una relación específica que debe especificarse**. Las relaciones muestran cómo un constructo influye en otro y puede ser directo o indirecto. Por tanto, el modelo muestra todas las relaciones de dependencia que existen entre los constructos.\n",
    "\n",
    "Veamos como esto aplica a nuestro ejemplo:\n"
   ]
  },
  {
   "cell_type": "code",
   "execution_count": 5,
   "metadata": {
    "hideCode": true,
    "slideshow": {
     "slide_type": "subslide"
    }
   },
   "outputs": [
    {
     "data": {
      "image/svg+xml": "<?xml version=\"1.0\" encoding=\"UTF-8\" standalone=\"no\"?>\n<!DOCTYPE svg PUBLIC \"-//W3C//DTD SVG 1.1//EN\"\n \"http://www.w3.org/Graphics/SVG/1.1/DTD/svg11.dtd\">\n<!-- Generated by graphviz version 7.0.1 (0)\n -->\n<!-- Title: G Pages: 1 -->\n<svg width=\"467pt\" height=\"539pt\"\n viewBox=\"0.00 0.00 467.05 539.08\" xmlns=\"http://www.w3.org/2000/svg\" xmlns:xlink=\"http://www.w3.org/1999/xlink\">\n<g id=\"graph0\" class=\"graph\" transform=\"scale(1 1) rotate(0) translate(4 535.08)\">\n<title>G</title>\n<polygon fill=\"white\" stroke=\"none\" points=\"-4,4 -4,-535.08 463.05,-535.08 463.05,4 -4,4\"/>\n<!-- dem60 -->\n<g id=\"node1\" class=\"node\">\n<title>dem60</title>\n<ellipse fill=\"#cae6df\" stroke=\"black\" cx=\"136.05\" cy=\"-378.74\" rx=\"42.49\" ry=\"42.49\"/>\n<text text-anchor=\"middle\" x=\"136.05\" y=\"-375.04\" font-family=\"Times,serif\" font-size=\"14.00\">dem60</text>\n</g>\n<!-- dem65 -->\n<g id=\"node3\" class=\"node\">\n<title>dem65</title>\n<ellipse fill=\"#cae6df\" stroke=\"black\" cx=\"261.05\" cy=\"-258.25\" rx=\"42.49\" ry=\"42.49\"/>\n<text text-anchor=\"middle\" x=\"261.05\" y=\"-254.55\" font-family=\"Times,serif\" font-size=\"14.00\">dem65</text>\n</g>\n<!-- dem60&#45;&gt;dem65 -->\n<g id=\"edge3\" class=\"edge\">\n<title>dem60&#45;&gt;dem65</title>\n<path fill=\"none\" stroke=\"black\" d=\"M166.63,-348.75C183.43,-332.83 204.43,-312.92 222.36,-295.92\"/>\n<polygon fill=\"black\" stroke=\"black\" points=\"224.41,-298.81 229.26,-289.39 219.59,-293.73 224.41,-298.81\"/>\n</g>\n<!-- y1 -->\n<g id=\"node7\" class=\"node\">\n<title>y1</title>\n<polygon fill=\"none\" stroke=\"black\" points=\"186.05,-108 132.05,-108 132.05,-72 186.05,-72 186.05,-108\"/>\n<text text-anchor=\"middle\" x=\"159.05\" y=\"-86.3\" font-family=\"Times,serif\" font-size=\"14.00\">y1</text>\n</g>\n<!-- dem60&#45;&gt;y1 -->\n<g id=\"edge7\" class=\"edge\">\n<title>dem60&#45;&gt;y1</title>\n<path fill=\"none\" stroke=\"black\" d=\"M117.85,-340C97.58,-292.32 71.21,-208.69 100.05,-144 105.02,-132.85 113.63,-123.07 122.75,-115.04\"/>\n<polygon fill=\"black\" stroke=\"black\" points=\"124.82,-117.87 130.39,-108.85 120.41,-112.43 124.82,-117.87\"/>\n</g>\n<!-- y2 -->\n<g id=\"node8\" class=\"node\">\n<title>y2</title>\n<polygon fill=\"none\" stroke=\"black\" points=\"268.05,-36 214.05,-36 214.05,0 268.05,0 268.05,-36\"/>\n<text text-anchor=\"middle\" x=\"241.05\" y=\"-14.3\" font-family=\"Times,serif\" font-size=\"14.00\">y2</text>\n</g>\n<!-- dem60&#45;&gt;y2 -->\n<g id=\"edge8\" class=\"edge\">\n<title>dem60&#45;&gt;y2</title>\n<path fill=\"none\" stroke=\"black\" d=\"M103.39,-351.23C88.78,-337.6 72.7,-319.8 63.05,-300.49 17.18,-208.71 -33.05,-152.91 30.05,-72 51.04,-45.09 147.57,-29.76 202.51,-23.07\"/>\n<polygon fill=\"black\" stroke=\"black\" points=\"202.85,-26.55 212.38,-21.91 202.04,-19.6 202.85,-26.55\"/>\n</g>\n<!-- y3 -->\n<g id=\"node9\" class=\"node\">\n<title>y3</title>\n<polygon fill=\"none\" stroke=\"black\" points=\"93.05,-108 39.05,-108 39.05,-72 93.05,-72 93.05,-108\"/>\n<text text-anchor=\"middle\" x=\"66.05\" y=\"-86.3\" font-family=\"Times,serif\" font-size=\"14.00\">y3</text>\n</g>\n<!-- dem60&#45;&gt;y3 -->\n<g id=\"edge9\" class=\"edge\">\n<title>dem60&#45;&gt;y3</title>\n<path fill=\"none\" stroke=\"black\" d=\"M109.01,-345.53C99.46,-332.37 89.7,-316.5 84.05,-300.49 62.33,-238.9 62.18,-161.07 64.05,-119.79\"/>\n<polygon fill=\"black\" stroke=\"black\" points=\"67.54,-120.13 64.59,-109.96 60.55,-119.75 67.54,-120.13\"/>\n</g>\n<!-- y4 -->\n<g id=\"node10\" class=\"node\">\n<title>y4</title>\n<polygon fill=\"none\" stroke=\"black\" points=\"268.05,-108 214.05,-108 214.05,-72 268.05,-72 268.05,-108\"/>\n<text text-anchor=\"middle\" x=\"241.05\" y=\"-86.3\" font-family=\"Times,serif\" font-size=\"14.00\">y4</text>\n</g>\n<!-- dem60&#45;&gt;y4 -->\n<g id=\"edge10\" class=\"edge\">\n<title>dem60&#45;&gt;y4</title>\n<path fill=\"none\" stroke=\"black\" d=\"M145.98,-337.04C158.23,-289.59 181.03,-209.35 210.05,-144 213.94,-135.23 218.93,-126.08 223.76,-117.89\"/>\n<polygon fill=\"black\" stroke=\"black\" points=\"226.7,-119.8 228.92,-109.44 220.72,-116.16 226.7,-119.8\"/>\n</g>\n<!-- ind60 -->\n<g id=\"node2\" class=\"node\">\n<title>ind60</title>\n<ellipse fill=\"#cae6df\" stroke=\"black\" cx=\"288.05\" cy=\"-494.03\" rx=\"37.09\" ry=\"37.09\"/>\n<text text-anchor=\"middle\" x=\"288.05\" y=\"-490.33\" font-family=\"Times,serif\" font-size=\"14.00\">ind60</text>\n</g>\n<!-- ind60&#45;&gt;dem60 -->\n<g id=\"edge1\" class=\"edge\">\n<title>ind60&#45;&gt;dem60</title>\n<path fill=\"none\" stroke=\"black\" d=\"M258.74,-471.19C236.08,-454.29 204.37,-430.66 178.86,-411.65\"/>\n<polygon fill=\"black\" stroke=\"black\" points=\"181.1,-408.95 170.99,-405.78 176.91,-414.56 181.1,-408.95\"/>\n</g>\n<!-- ind60&#45;&gt;dem65 -->\n<g id=\"edge2\" class=\"edge\">\n<title>ind60&#45;&gt;dem65</title>\n<path fill=\"none\" stroke=\"black\" d=\"M268.58,-461.96C261.96,-449.68 255.39,-435.14 252.05,-420.99 243.6,-385.15 246.14,-343.67 250.65,-311.68\"/>\n<polygon fill=\"black\" stroke=\"black\" points=\"254.1,-312.27 252.15,-301.85 247.18,-311.21 254.1,-312.27\"/>\n</g>\n<!-- x1 -->\n<g id=\"node4\" class=\"node\">\n<title>x1</title>\n<polygon fill=\"none\" stroke=\"black\" points=\"315.05,-396.74 261.05,-396.74 261.05,-360.74 315.05,-360.74 315.05,-396.74\"/>\n<text text-anchor=\"middle\" x=\"288.05\" y=\"-375.04\" font-family=\"Times,serif\" font-size=\"14.00\">x1</text>\n</g>\n<!-- ind60&#45;&gt;x1 -->\n<g id=\"edge4\" class=\"edge\">\n<title>ind60&#45;&gt;x1</title>\n<path fill=\"none\" stroke=\"black\" d=\"M288.05,-456.56C288.05,-441 288.05,-423.09 288.05,-408.49\"/>\n<polygon fill=\"black\" stroke=\"black\" points=\"291.55,-408.63 288.05,-398.63 284.55,-408.63 291.55,-408.63\"/>\n</g>\n<!-- x2 -->\n<g id=\"node5\" class=\"node\">\n<title>x2</title>\n<polygon fill=\"none\" stroke=\"black\" points=\"387.05,-396.74 333.05,-396.74 333.05,-360.74 387.05,-360.74 387.05,-396.74\"/>\n<text text-anchor=\"middle\" x=\"360.05\" y=\"-375.04\" font-family=\"Times,serif\" font-size=\"14.00\">x2</text>\n</g>\n<!-- ind60&#45;&gt;x2 -->\n<g id=\"edge5\" class=\"edge\">\n<title>ind60&#45;&gt;x2</title>\n<path fill=\"none\" stroke=\"black\" d=\"M307.73,-462.07C318.76,-444.71 332.39,-423.27 342.97,-406.61\"/>\n<polygon fill=\"black\" stroke=\"black\" points=\"345.89,-408.54 348.3,-398.22 339.99,-404.79 345.89,-408.54\"/>\n</g>\n<!-- x3 -->\n<g id=\"node6\" class=\"node\">\n<title>x3</title>\n<polygon fill=\"none\" stroke=\"black\" points=\"459.05,-396.74 405.05,-396.74 405.05,-360.74 459.05,-360.74 459.05,-396.74\"/>\n<text text-anchor=\"middle\" x=\"432.05\" y=\"-375.04\" font-family=\"Times,serif\" font-size=\"14.00\">x3</text>\n</g>\n<!-- ind60&#45;&gt;x3 -->\n<g id=\"edge6\" class=\"edge\">\n<title>ind60&#45;&gt;x3</title>\n<path fill=\"none\" stroke=\"black\" d=\"M319.88,-474.89C342.27,-461.4 372.34,-441.81 396.05,-420.99 401.27,-416.4 406.44,-411.08 411.16,-405.81\"/>\n<polygon fill=\"black\" stroke=\"black\" points=\"413.77,-408.14 417.64,-398.28 408.46,-403.58 413.77,-408.14\"/>\n</g>\n<!-- y5 -->\n<g id=\"node11\" class=\"node\">\n<title>y5</title>\n<polygon fill=\"none\" stroke=\"black\" points=\"273.05,-180 219.05,-180 219.05,-144 273.05,-144 273.05,-180\"/>\n<text text-anchor=\"middle\" x=\"246.05\" y=\"-158.3\" font-family=\"Times,serif\" font-size=\"14.00\">y5</text>\n</g>\n<!-- dem65&#45;&gt;y5 -->\n<g id=\"edge11\" class=\"edge\">\n<title>dem65&#45;&gt;y5</title>\n<path fill=\"none\" stroke=\"black\" d=\"M254.47,-215.91C253.17,-207.73 251.83,-199.31 250.61,-191.67\"/>\n<polygon fill=\"black\" stroke=\"black\" points=\"254.09,-191.25 249.06,-181.93 247.18,-192.35 254.09,-191.25\"/>\n</g>\n<!-- y6 -->\n<g id=\"node12\" class=\"node\">\n<title>y6</title>\n<polygon fill=\"none\" stroke=\"black\" points=\"345.05,-108 291.05,-108 291.05,-72 345.05,-72 345.05,-108\"/>\n<text text-anchor=\"middle\" x=\"318.05\" y=\"-86.3\" font-family=\"Times,serif\" font-size=\"14.00\">y6</text>\n</g>\n<!-- dem65&#45;&gt;y6 -->\n<g id=\"edge12\" class=\"edge\">\n<title>dem65&#45;&gt;y6</title>\n<path fill=\"none\" stroke=\"black\" d=\"M298.51,-237.17C319.02,-223.93 342.55,-204.51 354.05,-180 363.73,-159.38 352.81,-135.4 340.53,-117.54\"/>\n<polygon fill=\"black\" stroke=\"black\" points=\"343.35,-115.47 334.59,-109.52 337.73,-119.64 343.35,-115.47\"/>\n</g>\n<!-- y7 -->\n<g id=\"node13\" class=\"node\">\n<title>y7</title>\n<polygon fill=\"none\" stroke=\"black\" points=\"163.05,-180 109.05,-180 109.05,-144 163.05,-144 163.05,-180\"/>\n<text text-anchor=\"middle\" x=\"136.05\" y=\"-158.3\" font-family=\"Times,serif\" font-size=\"14.00\">y7</text>\n</g>\n<!-- dem65&#45;&gt;y7 -->\n<g id=\"edge13\" class=\"edge\">\n<title>dem65&#45;&gt;y7</title>\n<path fill=\"none\" stroke=\"black\" d=\"M227.22,-231.74C208.88,-217.91 186.32,-200.9 168.23,-187.26\"/>\n<polygon fill=\"black\" stroke=\"black\" points=\"170.53,-184.61 160.44,-181.39 166.31,-190.2 170.53,-184.61\"/>\n</g>\n<!-- y8 -->\n<g id=\"node14\" class=\"node\">\n<title>y8</title>\n<polygon fill=\"none\" stroke=\"black\" points=\"345.05,-180 291.05,-180 291.05,-144 345.05,-144 345.05,-180\"/>\n<text text-anchor=\"middle\" x=\"318.05\" y=\"-158.3\" font-family=\"Times,serif\" font-size=\"14.00\">y8</text>\n</g>\n<!-- dem65&#45;&gt;y8 -->\n<g id=\"edge14\" class=\"edge\">\n<title>dem65&#45;&gt;y8</title>\n<path fill=\"none\" stroke=\"black\" d=\"M282.76,-221.35C289.07,-210.92 295.84,-199.72 301.75,-189.95\"/>\n<polygon fill=\"black\" stroke=\"black\" points=\"304.58,-192.03 306.76,-181.66 298.59,-188.41 304.58,-192.03\"/>\n</g>\n<!-- y4&#45;&gt;y2 -->\n<g id=\"edge16\" class=\"edge\">\n<title>y4&#45;&gt;y2</title>\n<path fill=\"none\" stroke=\"black\" stroke-dasharray=\"5,2\" d=\"M241.05,-60.24C241.05,-56.01 241.05,-51.66 241.05,-47.44\"/>\n<polygon fill=\"black\" stroke=\"black\" points=\"237.55,-60.18 241.05,-70.18 244.55,-60.18 237.55,-60.18\"/>\n<polygon fill=\"black\" stroke=\"black\" points=\"244.55,-47.62 241.05,-37.62 237.55,-47.62 244.55,-47.62\"/>\n</g>\n<!-- y5&#45;&gt;y1 -->\n<g id=\"edge15\" class=\"edge\">\n<title>y5&#45;&gt;y1</title>\n<path fill=\"none\" stroke=\"black\" stroke-dasharray=\"5,2\" d=\"M215.64,-136.53C207.16,-129.71 197.94,-122.29 189.46,-115.47\"/>\n<polygon fill=\"black\" stroke=\"black\" points=\"213.38,-139.21 223.37,-142.75 217.77,-133.75 213.38,-139.21\"/>\n<polygon fill=\"black\" stroke=\"black\" points=\"191.78,-112.84 181.79,-109.3 187.39,-118.29 191.78,-112.84\"/>\n</g>\n<!-- y6&#45;&gt;y2 -->\n<g id=\"edge17\" class=\"edge\">\n<title>y6&#45;&gt;y2</title>\n<path fill=\"none\" stroke=\"black\" stroke-dasharray=\"5,2\" d=\"M290.53,-63.98C283.29,-57.4 275.49,-50.31 268.27,-43.75\"/>\n<polygon fill=\"black\" stroke=\"black\" points=\"288.14,-66.54 297.9,-70.68 292.85,-61.36 288.14,-66.54\"/>\n<polygon fill=\"black\" stroke=\"black\" points=\"271.01,-41.5 261.25,-37.37 266.3,-46.68 271.01,-41.5\"/>\n</g>\n<!-- y7&#45;&gt;y3 -->\n<g id=\"edge18\" class=\"edge\">\n<title>y7&#45;&gt;y3</title>\n<path fill=\"none\" stroke=\"black\" stroke-dasharray=\"5,2\" d=\"M110.69,-135.64C104.26,-129.2 97.35,-122.3 90.94,-115.89\"/>\n<polygon fill=\"black\" stroke=\"black\" points=\"108.13,-138.03 117.68,-142.63 113.08,-133.08 108.13,-138.03\"/>\n<polygon fill=\"black\" stroke=\"black\" points=\"93.77,-113.77 84.23,-109.17 88.82,-118.72 93.77,-113.77\"/>\n</g>\n<!-- y8&#45;&gt;y4 -->\n<g id=\"edge19\" class=\"edge\">\n<title>y8&#45;&gt;y4</title>\n<path fill=\"none\" stroke=\"black\" stroke-dasharray=\"5,2\" d=\"M290.53,-135.98C283.29,-129.4 275.49,-122.31 268.27,-115.75\"/>\n<polygon fill=\"black\" stroke=\"black\" points=\"288.14,-138.54 297.9,-142.68 292.85,-133.36 288.14,-138.54\"/>\n<polygon fill=\"black\" stroke=\"black\" points=\"271.01,-113.5 261.25,-109.37 266.3,-118.68 271.01,-113.5\"/>\n</g>\n<!-- y8&#45;&gt;y6 -->\n<g id=\"edge20\" class=\"edge\">\n<title>y8&#45;&gt;y6</title>\n<path fill=\"none\" stroke=\"black\" stroke-dasharray=\"5,2\" d=\"M318.05,-132.24C318.05,-128.01 318.05,-123.66 318.05,-119.44\"/>\n<polygon fill=\"black\" stroke=\"black\" points=\"314.55,-132.18 318.05,-142.18 321.55,-132.18 314.55,-132.18\"/>\n<polygon fill=\"black\" stroke=\"black\" points=\"321.55,-119.62 318.05,-109.62 314.55,-119.62 321.55,-119.62\"/>\n</g>\n</g>\n</svg>\n",
      "text/plain": [
       "<graphviz.graphs.Digraph at 0x7f35d57d1c90>"
      ]
     },
     "execution_count": 5,
     "metadata": {},
     "output_type": "execute_result"
    }
   ],
   "source": [
    "struct_desc = \"\"\"\n",
    "# Measurement\n",
    "ind60 =~ x1 + x2 + x3\n",
    "dem60 =~ y1 + y2 + y3 + y4\n",
    "dem65 =~ y5 + y6 + y7 + y8\n",
    "\n",
    "# Structure\n",
    "dem60 ~ ind60\n",
    "dem65 ~ ind60 + dem60\n",
    "\n",
    "# Covariances\n",
    "y1 ~~ y5\n",
    "y2 ~~ y4 + y6\n",
    "y3 ~~ y7\n",
    "y4 ~~ y8\n",
    "y6 ~~ y8\n",
    "\n",
    "\"\"\"\n",
    "\n",
    "g = semopy.semplot(struct_desc, \"out.png\", plot_covs=True)\n",
    "g"
   ]
  },
  {
   "cell_type": "markdown",
   "metadata": {
    "slideshow": {
     "slide_type": "fragment"
    }
   },
   "source": [
    "En nuestro ejemplo especificamos que `dem65` depende de `dem60` y `ind60`. A su vez, `dem60` depende de `ind60` . Por otra parte, encontramos covariaciones específicas entre las variables endógenas."
   ]
  },
  {
   "cell_type": "markdown",
   "metadata": {
    "slideshow": {
     "slide_type": "slide"
    }
   },
   "source": [
    "Aunque el enfoque en esta etapa está en el modelo estructural, **la estimación del modelo SEM requiere que también se incluyan las especificaciones de medición**. De esta manera, el diagrama de ruta representa tanto la medición como la parte estructural de SEM en un modelo general.\n",
    "\n",
    "El modelo ya está listo para su estimación. Esto se convierte en la prueba de la teoría general, que incluye tanto las relaciones de medición de los indicadores con los constructos, como las relaciones estructurales hipotetizadas entre los constructos."
   ]
  },
  {
   "cell_type": "markdown",
   "metadata": {
    "slideshow": {
     "slide_type": "slide"
    }
   },
   "source": [
    "## Validez del modelo estructural\n",
    "\n",
    "Implica esfuerzos para **probar la validez del modelo estructural teórico propuesto y examinar las relaciones teóricas incrustadas dentro de esa teoría**.\n",
    "\n",
    "Si el modelo de medición no ha sobrevivido a sus pruebas de ajuste y otros aspectos de validez, no se recomienda evaluar un modelo estructural porque los resultados sugieren que la teoría de medición propuesta es defectuosa. De hecho, si uno no logra un ajuste aceptable para el modelo de medición, el ajuste del modelo no mejorará cuando se agreguen restricciones para representar el modelo estructural teórico.\n",
    "\n",
    "**Solo cuando el modelo de medición se valida por primera vez y logra un ajuste de modelo aceptable, podemos dirigir nuestra atención a una prueba de las relaciones estructurales**.\n"
   ]
  },
  {
   "cell_type": "markdown",
   "metadata": {
    "slideshow": {
     "slide_type": "subslide"
    }
   },
   "source": [
    "Surgen dos diferencias clave al probar el ajuste de un modelo estructural en relación con un modelo de medición. \n",
    "\n",
    "En primer lugar, aunque se debe volver a establecer un ajuste general aceptable del modelo, **se fomentan modelos teóricos alternativos o competidores para respaldar la superioridad de un modelo**. \n",
    "\n",
    "En segundo lugar, **las estimaciones de los parámetros para las relaciones estructurales se convierten en un foco si el ajuste es suficiente porque proporcionan evidencia empírica directa relacionada con las relaciones hipotéticas implícitas en el modelo teórico propuesto**."
   ]
  },
  {
   "cell_type": "markdown",
   "metadata": {
    "slideshow": {
     "slide_type": "subslide"
    }
   },
   "source": [
    "El proceso de establecer la validez del modelo estructural sigue las pautas generales descritas para el modelo de medición. Los datos observados todavía están representados por la matriz de covarianza de la muestra observada. Sin embargo, **se calcula una nueva matriz de covarianza estimada de SEM en función de las restricciones agregadas al modelo de medición necesarias para convertirlo en el modelo estructural propuesto**.\n",
    "\n",
    "**El ajuste general se puede evaluar utilizando los mismos criterios que el modelo de medición**: utilizando el valor $ X^{2} $ para el modelo estructural y al menos un índice absoluto y un índice incremental. \n",
    "\n",
    "Estas medidas establecen la validez del modelo estructural, pero las comparaciones entre el ajuste general también deben realizarse con el modelo de medición. Generalmente, **cuanto más se acerca el modelo estructural GOF al modelo de medición, mejor se ajusta al modelo estructural, porque el ajuste del modelo de medición proporciona un límite superior al GOF de un modelo estructural convencional**."
   ]
  },
  {
   "cell_type": "markdown",
   "metadata": {
    "slideshow": {
     "slide_type": "subslide"
    }
   },
   "source": [
    "También debemos **examinar las estimaciones de los parámetros individuales que representan cada vínculo o \"ruta\"**. Las rutas ilimitadas de un modelo teórico se consideran válidas en la medida en que las estimaciones de los parámetros sean:\n",
    "- **Estadísticamente significativo y en la dirección prevista**. Es decir, son mayores que cero para una relación positiva y menores que cero para una relación negativa.\n",
    "- **No trivial**. Se debe verificar la importancia práctica de los tamaños del efecto utilizando estimaciones de carga completamente estandarizadas. Los coeficientes pueden ser estadísticamente significativos pero prácticamente insignificantes, sobre todo a medida que las muestras aumentan de tamaño."
   ]
  },
  {
   "cell_type": "markdown",
   "metadata": {
    "slideshow": {
     "slide_type": "slide"
    }
   },
   "source": [
    "Validemos el modelo estructural de nuestro ejemplo:"
   ]
  },
  {
   "cell_type": "code",
   "execution_count": 6,
   "metadata": {
    "hideCode": false,
    "slideshow": {
     "slide_type": "skip"
    }
   },
   "outputs": [],
   "source": [
    "struct_model = semopy.Model(struct_desc)\n",
    "res = struct_model.fit(df)"
   ]
  },
  {
   "cell_type": "code",
   "execution_count": 7,
   "metadata": {
    "hideCode": true,
    "slideshow": {
     "slide_type": "fragment"
    }
   },
   "outputs": [
    {
     "name": "stdout",
     "output_type": "stream",
     "text": [
      "                    Value\n",
      "DoF             35.000000\n",
      "DoF Baseline    55.000000\n",
      "chi2            38.125446\n",
      "chi2 p-value     0.329171\n",
      "chi2 Baseline  730.654577\n",
      "CFI              0.995374\n",
      "GFI              0.947820\n",
      "AGFI             0.918003\n",
      "NFI              0.947820\n",
      "TLI              0.992731\n",
      "RMSEA            0.034738\n",
      "AIC             60.983321\n",
      "BIC            132.825453\n",
      "LogLik           0.508339\n"
     ]
    }
   ],
   "source": [
    "stats = semopy.calc_stats(struct_model)\n",
    "print(stats.T)"
   ]
  },
  {
   "cell_type": "markdown",
   "metadata": {
    "slideshow": {
     "slide_type": "fragment"
    }
   },
   "source": [
    "El modelo estructural presenta un muy buen ajuste. De hecho podemos apreciar mejoras en los indicadores $X^{2}$, CFI y RMSEA en comparación al modelo de medición."
   ]
  },
  {
   "cell_type": "markdown",
   "metadata": {
    "slideshow": {
     "slide_type": "subslide"
    }
   },
   "source": [
    "Procedamos ahora a examinar las estimaciones de los parámetros:"
   ]
  },
  {
   "cell_type": "code",
   "execution_count": 8,
   "metadata": {
    "hideCode": true,
    "slideshow": {
     "slide_type": "fragment"
    }
   },
   "outputs": [
    {
     "data": {
      "image/svg+xml": "<?xml version=\"1.0\" encoding=\"UTF-8\" standalone=\"no\"?>\n<!DOCTYPE svg PUBLIC \"-//W3C//DTD SVG 1.1//EN\"\n \"http://www.w3.org/Graphics/SVG/1.1/DTD/svg11.dtd\">\n<!-- Generated by graphviz version 7.0.1 (0)\n -->\n<!-- Title: G Pages: 1 -->\n<svg width=\"633pt\" height=\"669pt\"\n viewBox=\"0.00 0.00 633.00 669.08\" xmlns=\"http://www.w3.org/2000/svg\" xmlns:xlink=\"http://www.w3.org/1999/xlink\">\n<g id=\"graph0\" class=\"graph\" transform=\"scale(1 1) rotate(0) translate(4 665.08)\">\n<title>G</title>\n<polygon fill=\"white\" stroke=\"none\" points=\"-4,4 -4,-665.08 629,-665.08 629,4 -4,4\"/>\n<!-- dem60 -->\n<g id=\"node1\" class=\"node\">\n<title>dem60</title>\n<ellipse fill=\"#cae6df\" stroke=\"black\" cx=\"215\" cy=\"-482.74\" rx=\"42.49\" ry=\"42.49\"/>\n<text text-anchor=\"middle\" x=\"215\" y=\"-479.04\" font-family=\"Times,serif\" font-size=\"14.00\">dem60</text>\n</g>\n<!-- dem65 -->\n<g id=\"node3\" class=\"node\">\n<title>dem65</title>\n<ellipse fill=\"#cae6df\" stroke=\"black\" cx=\"322\" cy=\"-336.25\" rx=\"42.49\" ry=\"42.49\"/>\n<text text-anchor=\"middle\" x=\"322\" y=\"-332.55\" font-family=\"Times,serif\" font-size=\"14.00\">dem65</text>\n</g>\n<!-- dem60&#45;&gt;dem65 -->\n<g id=\"edge3\" class=\"edge\">\n<title>dem60&#45;&gt;dem65</title>\n<path fill=\"none\" stroke=\"black\" d=\"M221.4,-440.25C225.11,-425.48 230.92,-409.34 240,-396.49 249.22,-383.45 262.23,-372.2 275.18,-363.11\"/>\n<polygon fill=\"black\" stroke=\"black\" points=\"276.9,-366.17 283.29,-357.72 273.02,-360.34 276.9,-366.17\"/>\n<text text-anchor=\"middle\" x=\"272\" y=\"-412.89\" font-family=\"Times,serif\" font-size=\"12.00\">0.885</text>\n<text text-anchor=\"middle\" x=\"272\" y=\"-399.89\" font-family=\"Times,serif\" font-size=\"12.00\">p&#45;val: 0.00</text>\n</g>\n<!-- y1 -->\n<g id=\"node7\" class=\"node\">\n<title>y1</title>\n<polygon fill=\"none\" stroke=\"black\" points=\"136,-134 82,-134 82,-98 136,-98 136,-134\"/>\n<text text-anchor=\"middle\" x=\"109\" y=\"-112.3\" font-family=\"Times,serif\" font-size=\"14.00\">y1</text>\n</g>\n<!-- dem60&#45;&gt;y1 -->\n<g id=\"edge7\" class=\"edge\">\n<title>dem60&#45;&gt;y1</title>\n<path fill=\"none\" stroke=\"black\" d=\"M203.35,-441.66C181.73,-367.27 135.9,-209.57 117.2,-145.23\"/>\n<polygon fill=\"black\" stroke=\"black\" points=\"120.61,-144.42 114.46,-135.79 113.89,-146.37 120.61,-144.42\"/>\n<text text-anchor=\"middle\" x=\"172\" y=\"-259.9\" font-family=\"Times,serif\" font-size=\"12.00\">0.850</text>\n</g>\n<!-- y2 -->\n<g id=\"node8\" class=\"node\">\n<title>y2</title>\n<polygon fill=\"none\" stroke=\"black\" points=\"239,-36 185,-36 185,0 239,0 239,-36\"/>\n<text text-anchor=\"middle\" x=\"212\" y=\"-14.3\" font-family=\"Times,serif\" font-size=\"14.00\">y2</text>\n</g>\n<!-- dem60&#45;&gt;y2 -->\n<g id=\"edge8\" class=\"edge\">\n<title>dem60&#45;&gt;y2</title>\n<path fill=\"none\" stroke=\"black\" d=\"M173.04,-473.39C110.47,-458.23 0,-419.77 0,-337.25 0,-337.25 0,-337.25 0,-115 0,-39.66 112.49,-23.14 173.59,-19.72\"/>\n<polygon fill=\"black\" stroke=\"black\" points=\"173.38,-23.24 183.21,-19.28 173.06,-16.25 173.38,-23.24\"/>\n<text text-anchor=\"middle\" x=\"32\" y=\"-217.4\" font-family=\"Times,serif\" font-size=\"12.00\">0.717</text>\n<text text-anchor=\"middle\" x=\"32\" y=\"-204.4\" font-family=\"Times,serif\" font-size=\"12.00\">p&#45;val: 0.00</text>\n</g>\n<!-- y3 -->\n<g id=\"node9\" class=\"node\">\n<title>y3</title>\n<polygon fill=\"none\" stroke=\"black\" points=\"566,-134 512,-134 512,-98 566,-98 566,-134\"/>\n<text text-anchor=\"middle\" x=\"539\" y=\"-112.3\" font-family=\"Times,serif\" font-size=\"14.00\">y3</text>\n</g>\n<!-- dem60&#45;&gt;y3 -->\n<g id=\"edge9\" class=\"edge\">\n<title>dem60&#45;&gt;y3</title>\n<path fill=\"none\" stroke=\"black\" d=\"M253.61,-463.92C316.83,-433.16 443.44,-364.77 524,-276 555.73,-241.04 557.83,-224.67 565,-178 566.76,-166.58 568.63,-162.97 565,-152 564.08,-149.23 562.86,-146.51 561.43,-143.87\"/>\n<polygon fill=\"black\" stroke=\"black\" points=\"564.4,-142.02 556.02,-135.53 558.53,-145.83 564.4,-142.02\"/>\n<text text-anchor=\"middle\" x=\"576\" y=\"-266.4\" font-family=\"Times,serif\" font-size=\"12.00\">0.722</text>\n<text text-anchor=\"middle\" x=\"576\" y=\"-253.4\" font-family=\"Times,serif\" font-size=\"12.00\">p&#45;val: 0.00</text>\n</g>\n<!-- y4 -->\n<g id=\"node10\" class=\"node\">\n<title>y4</title>\n<polygon fill=\"none\" stroke=\"black\" points=\"239,-134 185,-134 185,-98 239,-98 239,-134\"/>\n<text text-anchor=\"middle\" x=\"212\" y=\"-112.3\" font-family=\"Times,serif\" font-size=\"14.00\">y4</text>\n</g>\n<!-- dem60&#45;&gt;y4 -->\n<g id=\"edge10\" class=\"edge\">\n<title>dem60&#45;&gt;y4</title>\n<path fill=\"none\" stroke=\"black\" d=\"M210.34,-440.32C205.66,-393.97 199.5,-316.64 202,-250 203.36,-213.88 206.78,-172.36 209.24,-145.46\"/>\n<polygon fill=\"black\" stroke=\"black\" points=\"212.71,-145.98 210.15,-135.7 205.74,-145.33 212.71,-145.98\"/>\n<text text-anchor=\"middle\" x=\"234\" y=\"-266.4\" font-family=\"Times,serif\" font-size=\"12.00\">0.846</text>\n<text text-anchor=\"middle\" x=\"234\" y=\"-253.4\" font-family=\"Times,serif\" font-size=\"12.00\">p&#45;val: 0.00</text>\n</g>\n<!-- ind60 -->\n<g id=\"node2\" class=\"node\">\n<title>ind60</title>\n<ellipse fill=\"#cae6df\" stroke=\"black\" cx=\"427\" cy=\"-624.03\" rx=\"37.09\" ry=\"37.09\"/>\n<text text-anchor=\"middle\" x=\"427\" y=\"-620.33\" font-family=\"Times,serif\" font-size=\"14.00\">ind60</text>\n</g>\n<!-- ind60&#45;&gt;dem60 -->\n<g id=\"edge1\" class=\"edge\">\n<title>ind60&#45;&gt;dem60</title>\n<path fill=\"none\" stroke=\"black\" d=\"M389.79,-622.44C347.78,-619.74 280.1,-608.93 240,-568.99 231.13,-560.15 225.37,-548.35 221.65,-536.35\"/>\n<polygon fill=\"black\" stroke=\"black\" points=\"225.07,-535.61 219.15,-526.82 218.3,-537.38 225.07,-535.61\"/>\n<text text-anchor=\"middle\" x=\"272\" y=\"-559.39\" font-family=\"Times,serif\" font-size=\"12.00\">0.447</text>\n<text text-anchor=\"middle\" x=\"272\" y=\"-546.39\" font-family=\"Times,serif\" font-size=\"12.00\">p&#45;val: 0.00</text>\n</g>\n<!-- ind60&#45;&gt;dem65 -->\n<g id=\"edge2\" class=\"edge\">\n<title>ind60&#45;&gt;dem65</title>\n<path fill=\"none\" stroke=\"black\" d=\"M396.3,-603.02C372.55,-585.59 341.37,-557.97 327,-524.99 308.37,-482.23 309,-428.64 313.18,-389.67\"/>\n<polygon fill=\"black\" stroke=\"black\" points=\"316.64,-390.18 314.36,-379.83 309.69,-389.35 316.64,-390.18\"/>\n<text text-anchor=\"middle\" x=\"359\" y=\"-486.14\" font-family=\"Times,serif\" font-size=\"12.00\">0.182</text>\n<text text-anchor=\"middle\" x=\"359\" y=\"-473.14\" font-family=\"Times,serif\" font-size=\"12.00\">p&#45;val: 0.01</text>\n</g>\n<!-- x1 -->\n<g id=\"node4\" class=\"node\">\n<title>x1</title>\n<polygon fill=\"none\" stroke=\"black\" points=\"454,-500.74 400,-500.74 400,-464.74 454,-464.74 454,-500.74\"/>\n<text text-anchor=\"middle\" x=\"427\" y=\"-479.04\" font-family=\"Times,serif\" font-size=\"14.00\">x1</text>\n</g>\n<!-- ind60&#45;&gt;x1 -->\n<g id=\"edge4\" class=\"edge\">\n<title>ind60&#45;&gt;x1</title>\n<path fill=\"none\" stroke=\"black\" d=\"M427,-586.8C427,-563.64 427,-534.04 427,-512.5\"/>\n<polygon fill=\"black\" stroke=\"black\" points=\"430.5,-512.67 427,-502.67 423.5,-512.67 430.5,-512.67\"/>\n<text text-anchor=\"middle\" x=\"444\" y=\"-552.89\" font-family=\"Times,serif\" font-size=\"12.00\">0.920</text>\n</g>\n<!-- x2 -->\n<g id=\"node5\" class=\"node\">\n<title>x2</title>\n<polygon fill=\"none\" stroke=\"black\" points=\"526,-500.74 472,-500.74 472,-464.74 526,-464.74 526,-500.74\"/>\n<text text-anchor=\"middle\" x=\"499\" y=\"-479.04\" font-family=\"Times,serif\" font-size=\"14.00\">x2</text>\n</g>\n<!-- ind60&#45;&gt;x2 -->\n<g id=\"edge5\" class=\"edge\">\n<title>ind60&#45;&gt;x2</title>\n<path fill=\"none\" stroke=\"black\" d=\"M449.2,-594.1C454.75,-586.19 460.41,-577.46 465,-568.99 475.02,-550.48 483.75,-528.38 489.85,-511.32\"/>\n<polygon fill=\"black\" stroke=\"black\" points=\"492.99,-512.95 492.98,-502.35 486.38,-510.65 492.99,-512.95\"/>\n<text text-anchor=\"middle\" x=\"509\" y=\"-559.39\" font-family=\"Times,serif\" font-size=\"12.00\">0.973</text>\n<text text-anchor=\"middle\" x=\"509\" y=\"-546.39\" font-family=\"Times,serif\" font-size=\"12.00\">p&#45;val: 0.00</text>\n</g>\n<!-- x3 -->\n<g id=\"node6\" class=\"node\">\n<title>x3</title>\n<polygon fill=\"none\" stroke=\"black\" points=\"605,-500.74 551,-500.74 551,-464.74 605,-464.74 605,-500.74\"/>\n<text text-anchor=\"middle\" x=\"578\" y=\"-479.04\" font-family=\"Times,serif\" font-size=\"14.00\">x3</text>\n</g>\n<!-- ind60&#45;&gt;x3 -->\n<g id=\"edge6\" class=\"edge\">\n<title>ind60&#45;&gt;x3</title>\n<path fill=\"none\" stroke=\"black\" d=\"M463.04,-614.37C488.92,-606.46 522.99,-592.36 545,-568.99 559.73,-553.35 568.1,-530.41 572.73,-512.27\"/>\n<polygon fill=\"black\" stroke=\"black\" points=\"576.12,-513.17 574.92,-502.64 569.29,-511.62 576.12,-513.17\"/>\n<text text-anchor=\"middle\" x=\"593\" y=\"-559.39\" font-family=\"Times,serif\" font-size=\"12.00\">0.872</text>\n<text text-anchor=\"middle\" x=\"593\" y=\"-546.39\" font-family=\"Times,serif\" font-size=\"12.00\">p&#45;val: 0.00</text>\n</g>\n<!-- y5 -->\n<g id=\"node11\" class=\"node\">\n<title>y5</title>\n<polygon fill=\"none\" stroke=\"black\" points=\"274,-232 220,-232 220,-196 274,-196 274,-232\"/>\n<text text-anchor=\"middle\" x=\"247\" y=\"-210.3\" font-family=\"Times,serif\" font-size=\"14.00\">y5</text>\n</g>\n<!-- dem65&#45;&gt;y5 -->\n<g id=\"edge11\" class=\"edge\">\n<title>dem65&#45;&gt;y5</title>\n<path fill=\"none\" stroke=\"black\" d=\"M299.69,-299.53C294.84,-291.78 289.75,-283.61 285,-276 278.04,-264.85 270.38,-252.55 263.77,-241.93\"/>\n<polygon fill=\"black\" stroke=\"black\" points=\"266.86,-240.28 258.61,-233.64 260.92,-243.98 266.86,-240.28\"/>\n<text text-anchor=\"middle\" x=\"302\" y=\"-259.9\" font-family=\"Times,serif\" font-size=\"12.00\">0.808</text>\n</g>\n<!-- y6 -->\n<g id=\"node12\" class=\"node\">\n<title>y6</title>\n<polygon fill=\"none\" stroke=\"black\" points=\"351,-134 297,-134 297,-98 351,-98 351,-134\"/>\n<text text-anchor=\"middle\" x=\"324\" y=\"-112.3\" font-family=\"Times,serif\" font-size=\"14.00\">y6</text>\n</g>\n<!-- dem65&#45;&gt;y6 -->\n<g id=\"edge12\" class=\"edge\">\n<title>dem65&#45;&gt;y6</title>\n<path fill=\"none\" stroke=\"black\" d=\"M357.79,-312.96C370.06,-303.26 382.37,-290.72 389,-276 411.64,-225.75 417.26,-199.31 389,-152 382.77,-141.58 372.26,-134.08 361.47,-128.76\"/>\n<polygon fill=\"black\" stroke=\"black\" points=\"363.15,-125.67 352.58,-124.91 360.37,-132.09 363.15,-125.67\"/>\n<text text-anchor=\"middle\" x=\"440\" y=\"-217.4\" font-family=\"Times,serif\" font-size=\"12.00\">0.746</text>\n<text text-anchor=\"middle\" x=\"440\" y=\"-204.4\" font-family=\"Times,serif\" font-size=\"12.00\">p&#45;val: 0.00</text>\n</g>\n<!-- y7 -->\n<g id=\"node13\" class=\"node\">\n<title>y7</title>\n<polygon fill=\"none\" stroke=\"black\" points=\"539,-232 485,-232 485,-196 539,-196 539,-232\"/>\n<text text-anchor=\"middle\" x=\"512\" y=\"-210.3\" font-family=\"Times,serif\" font-size=\"14.00\">y7</text>\n</g>\n<!-- dem65&#45;&gt;y7 -->\n<g id=\"edge13\" class=\"edge\">\n<title>dem65&#45;&gt;y7</title>\n<path fill=\"none\" stroke=\"black\" d=\"M357.71,-313.13C375.55,-302.04 397.45,-288.37 417,-276 436.42,-263.71 457.99,-249.88 475.66,-238.49\"/>\n<polygon fill=\"black\" stroke=\"black\" points=\"477.25,-241.63 483.76,-233.27 473.46,-235.75 477.25,-241.63\"/>\n<text text-anchor=\"middle\" x=\"488\" y=\"-266.4\" font-family=\"Times,serif\" font-size=\"12.00\">0.824</text>\n<text text-anchor=\"middle\" x=\"488\" y=\"-253.4\" font-family=\"Times,serif\" font-size=\"12.00\">p&#45;val: 0.00</text>\n</g>\n<!-- y8 -->\n<g id=\"node14\" class=\"node\">\n<title>y8</title>\n<polygon fill=\"none\" stroke=\"black\" points=\"351,-232 297,-232 297,-196 351,-196 351,-232\"/>\n<text text-anchor=\"middle\" x=\"324\" y=\"-210.3\" font-family=\"Times,serif\" font-size=\"14.00\">y8</text>\n</g>\n<!-- dem65&#45;&gt;y8 -->\n<g id=\"edge14\" class=\"edge\">\n<title>dem65&#45;&gt;y8</title>\n<path fill=\"none\" stroke=\"black\" d=\"M322.69,-293.53C322.97,-276.94 323.28,-258.27 323.53,-243.31\"/>\n<polygon fill=\"black\" stroke=\"black\" points=\"327.02,-243.78 323.69,-233.72 320.02,-243.66 327.02,-243.78\"/>\n<text text-anchor=\"middle\" x=\"355\" y=\"-266.4\" font-family=\"Times,serif\" font-size=\"12.00\">0.828</text>\n<text text-anchor=\"middle\" x=\"355\" y=\"-253.4\" font-family=\"Times,serif\" font-size=\"12.00\">p&#45;val: 0.00</text>\n</g>\n<!-- y4&#45;&gt;y2 -->\n<g id=\"edge16\" class=\"edge\">\n<title>y4&#45;&gt;y2</title>\n<path fill=\"none\" stroke=\"black\" stroke-dasharray=\"5,2\" d=\"M212,-86.73C212,-74.48 212,-60.15 212,-47.83\"/>\n<polygon fill=\"black\" stroke=\"black\" points=\"208.5,-86.32 212,-96.32 215.5,-86.32 208.5,-86.32\"/>\n<polygon fill=\"black\" stroke=\"black\" points=\"215.5,-47.85 212,-37.85 208.5,-47.85 215.5,-47.85\"/>\n<text text-anchor=\"middle\" x=\"244\" y=\"-70.4\" font-family=\"Times,serif\" font-size=\"12.00\">0.102</text>\n<text text-anchor=\"middle\" x=\"244\" y=\"-57.4\" font-family=\"Times,serif\" font-size=\"12.00\">p&#45;val: 0.06</text>\n</g>\n<!-- y5&#45;&gt;y1 -->\n<g id=\"edge15\" class=\"edge\">\n<title>y5&#45;&gt;y1</title>\n<path fill=\"none\" stroke=\"black\" stroke-dasharray=\"5,2\" d=\"M208.96,-199.97C195.11,-194.32 179.73,-186.93 167,-178 153.08,-168.24 139.83,-154.75 129.52,-142.94\"/>\n<polygon fill=\"black\" stroke=\"black\" points=\"207.66,-203.23 218.25,-203.58 210.2,-196.7 207.66,-203.23\"/>\n<polygon fill=\"black\" stroke=\"black\" points=\"132.35,-140.86 123.22,-135.48 127,-145.38 132.35,-140.86\"/>\n<text text-anchor=\"middle\" x=\"199\" y=\"-168.4\" font-family=\"Times,serif\" font-size=\"12.00\">0.092</text>\n<text text-anchor=\"middle\" x=\"199\" y=\"-155.4\" font-family=\"Times,serif\" font-size=\"12.00\">p&#45;val: 0.08</text>\n</g>\n<!-- y6&#45;&gt;y2 -->\n<g id=\"edge17\" class=\"edge\">\n<title>y6&#45;&gt;y2</title>\n<path fill=\"none\" stroke=\"black\" stroke-dasharray=\"5,2\" d=\"M308.45,-87.91C300.92,-76.44 291.1,-63.55 280,-54 271.02,-46.27 260.03,-39.68 249.54,-34.36\"/>\n<polygon fill=\"black\" stroke=\"black\" points=\"305.38,-89.6 313.65,-96.22 311.31,-85.89 305.38,-89.6\"/>\n<polygon fill=\"black\" stroke=\"black\" points=\"251.19,-31.28 240.66,-30.14 248.18,-37.6 251.19,-31.28\"/>\n<text text-anchor=\"middle\" x=\"334\" y=\"-70.4\" font-family=\"Times,serif\" font-size=\"12.00\">0.166</text>\n<text text-anchor=\"middle\" x=\"334\" y=\"-57.4\" font-family=\"Times,serif\" font-size=\"12.00\">p&#45;val: 0.00</text>\n</g>\n<!-- y7&#45;&gt;y3 -->\n<g id=\"edge18\" class=\"edge\">\n<title>y7&#45;&gt;y3</title>\n<path fill=\"none\" stroke=\"black\" stroke-dasharray=\"5,2\" d=\"M500.18,-184.72C497.47,-174.13 496.53,-162.2 501,-152 502.48,-148.63 504.46,-145.45 506.74,-142.47\"/>\n<polygon fill=\"black\" stroke=\"black\" points=\"496.8,-185.64 503.18,-194.1 503.47,-183.51 496.8,-185.64\"/>\n<polygon fill=\"black\" stroke=\"black\" points=\"509.11,-145.06 513.27,-135.31 503.94,-140.34 509.11,-145.06\"/>\n<text text-anchor=\"middle\" x=\"533\" y=\"-168.4\" font-family=\"Times,serif\" font-size=\"12.00\">0.075</text>\n<text text-anchor=\"middle\" x=\"533\" y=\"-155.4\" font-family=\"Times,serif\" font-size=\"12.00\">p&#45;val: 0.19</text>\n</g>\n<!-- y8&#45;&gt;y4 -->\n<g id=\"edge19\" class=\"edge\">\n<title>y8&#45;&gt;y4</title>\n<path fill=\"none\" stroke=\"black\" stroke-dasharray=\"5,2\" d=\"M286.46,-197.64C275.97,-192.32 264.98,-185.73 256,-178 244.9,-168.45 235.08,-155.56 227.55,-144.09\"/>\n<polygon fill=\"black\" stroke=\"black\" points=\"284.81,-200.72 295.34,-201.86 287.82,-194.4 284.81,-200.72\"/>\n<polygon fill=\"black\" stroke=\"black\" points=\"230.62,-142.4 222.35,-135.78 224.69,-146.11 230.62,-142.4\"/>\n<text text-anchor=\"middle\" x=\"288\" y=\"-168.4\" font-family=\"Times,serif\" font-size=\"12.00\">0.032</text>\n<text text-anchor=\"middle\" x=\"288\" y=\"-155.4\" font-family=\"Times,serif\" font-size=\"12.00\">p&#45;val: 0.43</text>\n</g>\n<!-- y8&#45;&gt;y6 -->\n<g id=\"edge20\" class=\"edge\">\n<title>y8&#45;&gt;y6</title>\n<path fill=\"none\" stroke=\"black\" stroke-dasharray=\"5,2\" d=\"M324,-184.73C324,-172.48 324,-158.15 324,-145.83\"/>\n<polygon fill=\"black\" stroke=\"black\" points=\"320.5,-184.32 324,-194.32 327.5,-184.32 320.5,-184.32\"/>\n<polygon fill=\"black\" stroke=\"black\" points=\"327.5,-145.85 324,-135.85 320.5,-145.85 327.5,-145.85\"/>\n<text text-anchor=\"middle\" x=\"356\" y=\"-168.4\" font-family=\"Times,serif\" font-size=\"12.00\">0.126</text>\n<text text-anchor=\"middle\" x=\"356\" y=\"-155.4\" font-family=\"Times,serif\" font-size=\"12.00\">p&#45;val: 0.02</text>\n</g>\n</g>\n</svg>\n",
      "text/plain": [
       "<graphviz.graphs.Digraph at 0x7f35d5a6e6d0>"
      ]
     },
     "execution_count": 8,
     "metadata": {},
     "output_type": "execute_result"
    }
   ],
   "source": [
    "g = semopy.semplot(struct_model, \"out.png\", std_ests=True, plot_covs=True)\n",
    "g"
   ]
  },
  {
   "cell_type": "code",
   "execution_count": 9,
   "metadata": {
    "hideCode": true,
    "slideshow": {
     "slide_type": "subslide"
    }
   },
   "outputs": [
    {
     "data": {
      "text/html": [
       "<div>\n",
       "<style scoped>\n",
       "    .dataframe tbody tr th:only-of-type {\n",
       "        vertical-align: middle;\n",
       "    }\n",
       "\n",
       "    .dataframe tbody tr th {\n",
       "        vertical-align: top;\n",
       "    }\n",
       "\n",
       "    .dataframe thead th {\n",
       "        text-align: right;\n",
       "    }\n",
       "</style>\n",
       "<table border=\"1\" class=\"dataframe\">\n",
       "  <thead>\n",
       "    <tr style=\"text-align: right;\">\n",
       "      <th></th>\n",
       "      <th>lval</th>\n",
       "      <th>op</th>\n",
       "      <th>rval</th>\n",
       "      <th>Estimate</th>\n",
       "      <th>Est. Std</th>\n",
       "      <th>Std. Err</th>\n",
       "      <th>z-value</th>\n",
       "      <th>p-value</th>\n",
       "    </tr>\n",
       "  </thead>\n",
       "  <tbody>\n",
       "    <tr>\n",
       "      <th>0</th>\n",
       "      <td>dem60</td>\n",
       "      <td>~</td>\n",
       "      <td>ind60</td>\n",
       "      <td>1.482379</td>\n",
       "      <td>0.446751</td>\n",
       "      <td>0.399024</td>\n",
       "      <td>3.715017</td>\n",
       "      <td>0.000203</td>\n",
       "    </tr>\n",
       "    <tr>\n",
       "      <th>1</th>\n",
       "      <td>dem65</td>\n",
       "      <td>~</td>\n",
       "      <td>ind60</td>\n",
       "      <td>0.571912</td>\n",
       "      <td>0.182178</td>\n",
       "      <td>0.221383</td>\n",
       "      <td>2.583364</td>\n",
       "      <td>0.009784</td>\n",
       "    </tr>\n",
       "    <tr>\n",
       "      <th>2</th>\n",
       "      <td>dem65</td>\n",
       "      <td>~</td>\n",
       "      <td>dem60</td>\n",
       "      <td>0.837574</td>\n",
       "      <td>0.885286</td>\n",
       "      <td>0.098446</td>\n",
       "      <td>8.507992</td>\n",
       "      <td>0.0</td>\n",
       "    </tr>\n",
       "    <tr>\n",
       "      <th>3</th>\n",
       "      <td>x1</td>\n",
       "      <td>~</td>\n",
       "      <td>ind60</td>\n",
       "      <td>1.000000</td>\n",
       "      <td>0.919814</td>\n",
       "      <td>-</td>\n",
       "      <td>-</td>\n",
       "      <td>-</td>\n",
       "    </tr>\n",
       "    <tr>\n",
       "      <th>4</th>\n",
       "      <td>x2</td>\n",
       "      <td>~</td>\n",
       "      <td>ind60</td>\n",
       "      <td>2.180494</td>\n",
       "      <td>0.973010</td>\n",
       "      <td>0.138565</td>\n",
       "      <td>15.736254</td>\n",
       "      <td>0.0</td>\n",
       "    </tr>\n",
       "    <tr>\n",
       "      <th>5</th>\n",
       "      <td>x3</td>\n",
       "      <td>~</td>\n",
       "      <td>ind60</td>\n",
       "      <td>1.818546</td>\n",
       "      <td>0.872109</td>\n",
       "      <td>0.151993</td>\n",
       "      <td>11.96465</td>\n",
       "      <td>0.0</td>\n",
       "    </tr>\n",
       "    <tr>\n",
       "      <th>6</th>\n",
       "      <td>y1</td>\n",
       "      <td>~</td>\n",
       "      <td>dem60</td>\n",
       "      <td>1.000000</td>\n",
       "      <td>0.850193</td>\n",
       "      <td>-</td>\n",
       "      <td>-</td>\n",
       "      <td>-</td>\n",
       "    </tr>\n",
       "    <tr>\n",
       "      <th>7</th>\n",
       "      <td>y2</td>\n",
       "      <td>~</td>\n",
       "      <td>dem60</td>\n",
       "      <td>1.256819</td>\n",
       "      <td>0.716628</td>\n",
       "      <td>0.182687</td>\n",
       "      <td>6.879647</td>\n",
       "      <td>0.0</td>\n",
       "    </tr>\n",
       "    <tr>\n",
       "      <th>8</th>\n",
       "      <td>y3</td>\n",
       "      <td>~</td>\n",
       "      <td>dem60</td>\n",
       "      <td>1.058174</td>\n",
       "      <td>0.722308</td>\n",
       "      <td>0.151521</td>\n",
       "      <td>6.983699</td>\n",
       "      <td>0.0</td>\n",
       "    </tr>\n",
       "    <tr>\n",
       "      <th>9</th>\n",
       "      <td>y4</td>\n",
       "      <td>~</td>\n",
       "      <td>dem60</td>\n",
       "      <td>1.265186</td>\n",
       "      <td>0.845633</td>\n",
       "      <td>0.145151</td>\n",
       "      <td>8.716344</td>\n",
       "      <td>0.0</td>\n",
       "    </tr>\n",
       "    <tr>\n",
       "      <th>10</th>\n",
       "      <td>y5</td>\n",
       "      <td>~</td>\n",
       "      <td>dem65</td>\n",
       "      <td>1.000000</td>\n",
       "      <td>0.807842</td>\n",
       "      <td>-</td>\n",
       "      <td>-</td>\n",
       "      <td>-</td>\n",
       "    </tr>\n",
       "    <tr>\n",
       "      <th>11</th>\n",
       "      <td>y6</td>\n",
       "      <td>~</td>\n",
       "      <td>dem65</td>\n",
       "      <td>1.185743</td>\n",
       "      <td>0.745866</td>\n",
       "      <td>0.168908</td>\n",
       "      <td>7.020032</td>\n",
       "      <td>0.0</td>\n",
       "    </tr>\n",
       "    <tr>\n",
       "      <th>12</th>\n",
       "      <td>y7</td>\n",
       "      <td>~</td>\n",
       "      <td>dem65</td>\n",
       "      <td>1.279717</td>\n",
       "      <td>0.823655</td>\n",
       "      <td>0.159996</td>\n",
       "      <td>7.99841</td>\n",
       "      <td>0.0</td>\n",
       "    </tr>\n",
       "    <tr>\n",
       "      <th>13</th>\n",
       "      <td>y8</td>\n",
       "      <td>~</td>\n",
       "      <td>dem65</td>\n",
       "      <td>1.266084</td>\n",
       "      <td>0.827667</td>\n",
       "      <td>0.158238</td>\n",
       "      <td>8.001141</td>\n",
       "      <td>0.0</td>\n",
       "    </tr>\n",
       "    <tr>\n",
       "      <th>14</th>\n",
       "      <td>dem65</td>\n",
       "      <td>~~</td>\n",
       "      <td>dem65</td>\n",
       "      <td>0.172210</td>\n",
       "      <td>0.038976</td>\n",
       "      <td>0.214861</td>\n",
       "      <td>0.801494</td>\n",
       "      <td>0.422846</td>\n",
       "    </tr>\n",
       "    <tr>\n",
       "      <th>15</th>\n",
       "      <td>dem60</td>\n",
       "      <td>~~</td>\n",
       "      <td>dem60</td>\n",
       "      <td>3.950849</td>\n",
       "      <td>0.800413</td>\n",
       "      <td>0.920451</td>\n",
       "      <td>4.292296</td>\n",
       "      <td>0.000018</td>\n",
       "    </tr>\n",
       "    <tr>\n",
       "      <th>16</th>\n",
       "      <td>ind60</td>\n",
       "      <td>~~</td>\n",
       "      <td>ind60</td>\n",
       "      <td>0.448321</td>\n",
       "      <td>1.000000</td>\n",
       "      <td>0.086677</td>\n",
       "      <td>5.172345</td>\n",
       "      <td>0.0</td>\n",
       "    </tr>\n",
       "    <tr>\n",
       "      <th>17</th>\n",
       "      <td>y1</td>\n",
       "      <td>~~</td>\n",
       "      <td>y5</td>\n",
       "      <td>0.624423</td>\n",
       "      <td>0.091835</td>\n",
       "      <td>0.358435</td>\n",
       "      <td>1.742083</td>\n",
       "      <td>0.081494</td>\n",
       "    </tr>\n",
       "    <tr>\n",
       "      <th>18</th>\n",
       "      <td>y1</td>\n",
       "      <td>~~</td>\n",
       "      <td>y1</td>\n",
       "      <td>1.892743</td>\n",
       "      <td>0.277173</td>\n",
       "      <td>0.44456</td>\n",
       "      <td>4.257565</td>\n",
       "      <td>0.000021</td>\n",
       "    </tr>\n",
       "    <tr>\n",
       "      <th>19</th>\n",
       "      <td>y2</td>\n",
       "      <td>~~</td>\n",
       "      <td>y4</td>\n",
       "      <td>1.319589</td>\n",
       "      <td>0.101885</td>\n",
       "      <td>0.70268</td>\n",
       "      <td>1.877937</td>\n",
       "      <td>0.06039</td>\n",
       "    </tr>\n",
       "    <tr>\n",
       "      <th>20</th>\n",
       "      <td>y2</td>\n",
       "      <td>~~</td>\n",
       "      <td>y6</td>\n",
       "      <td>2.156164</td>\n",
       "      <td>0.165599</td>\n",
       "      <td>0.734155</td>\n",
       "      <td>2.936934</td>\n",
       "      <td>0.003315</td>\n",
       "    </tr>\n",
       "    <tr>\n",
       "      <th>21</th>\n",
       "      <td>y2</td>\n",
       "      <td>~~</td>\n",
       "      <td>y2</td>\n",
       "      <td>7.385292</td>\n",
       "      <td>0.486445</td>\n",
       "      <td>1.375671</td>\n",
       "      <td>5.368501</td>\n",
       "      <td>0.0</td>\n",
       "    </tr>\n",
       "    <tr>\n",
       "      <th>22</th>\n",
       "      <td>y3</td>\n",
       "      <td>~~</td>\n",
       "      <td>y7</td>\n",
       "      <td>0.793329</td>\n",
       "      <td>0.074634</td>\n",
       "      <td>0.607642</td>\n",
       "      <td>1.305585</td>\n",
       "      <td>0.191694</td>\n",
       "    </tr>\n",
       "    <tr>\n",
       "      <th>23</th>\n",
       "      <td>y3</td>\n",
       "      <td>~~</td>\n",
       "      <td>y3</td>\n",
       "      <td>5.066628</td>\n",
       "      <td>0.478271</td>\n",
       "      <td>0.951722</td>\n",
       "      <td>5.323646</td>\n",
       "      <td>0.0</td>\n",
       "    </tr>\n",
       "    <tr>\n",
       "      <th>24</th>\n",
       "      <td>y4</td>\n",
       "      <td>~~</td>\n",
       "      <td>y8</td>\n",
       "      <td>0.347222</td>\n",
       "      <td>0.032487</td>\n",
       "      <td>0.442234</td>\n",
       "      <td>0.785154</td>\n",
       "      <td>0.432363</td>\n",
       "    </tr>\n",
       "    <tr>\n",
       "      <th>25</th>\n",
       "      <td>y4</td>\n",
       "      <td>~~</td>\n",
       "      <td>y4</td>\n",
       "      <td>3.147911</td>\n",
       "      <td>0.284906</td>\n",
       "      <td>0.738841</td>\n",
       "      <td>4.260605</td>\n",
       "      <td>0.00002</td>\n",
       "    </tr>\n",
       "    <tr>\n",
       "      <th>26</th>\n",
       "      <td>y6</td>\n",
       "      <td>~~</td>\n",
       "      <td>y8</td>\n",
       "      <td>1.357037</td>\n",
       "      <td>0.126299</td>\n",
       "      <td>0.5685</td>\n",
       "      <td>2.387047</td>\n",
       "      <td>0.016984</td>\n",
       "    </tr>\n",
       "    <tr>\n",
       "      <th>27</th>\n",
       "      <td>y6</td>\n",
       "      <td>~~</td>\n",
       "      <td>y6</td>\n",
       "      <td>4.954364</td>\n",
       "      <td>0.443683</td>\n",
       "      <td>0.914284</td>\n",
       "      <td>5.418843</td>\n",
       "      <td>0.0</td>\n",
       "    </tr>\n",
       "    <tr>\n",
       "      <th>28</th>\n",
       "      <td>x1</td>\n",
       "      <td>~~</td>\n",
       "      <td>x1</td>\n",
       "      <td>0.081573</td>\n",
       "      <td>0.153942</td>\n",
       "      <td>0.019495</td>\n",
       "      <td>4.184317</td>\n",
       "      <td>0.000029</td>\n",
       "    </tr>\n",
       "    <tr>\n",
       "      <th>29</th>\n",
       "      <td>y7</td>\n",
       "      <td>~~</td>\n",
       "      <td>y7</td>\n",
       "      <td>3.430032</td>\n",
       "      <td>0.321592</td>\n",
       "      <td>0.712732</td>\n",
       "      <td>4.812512</td>\n",
       "      <td>0.000001</td>\n",
       "    </tr>\n",
       "    <tr>\n",
       "      <th>30</th>\n",
       "      <td>y5</td>\n",
       "      <td>~~</td>\n",
       "      <td>y5</td>\n",
       "      <td>2.351910</td>\n",
       "      <td>0.347391</td>\n",
       "      <td>0.480369</td>\n",
       "      <td>4.896044</td>\n",
       "      <td>0.000001</td>\n",
       "    </tr>\n",
       "    <tr>\n",
       "      <th>31</th>\n",
       "      <td>x2</td>\n",
       "      <td>~~</td>\n",
       "      <td>x2</td>\n",
       "      <td>0.119894</td>\n",
       "      <td>0.053252</td>\n",
       "      <td>0.069747</td>\n",
       "      <td>1.718973</td>\n",
       "      <td>0.085619</td>\n",
       "    </tr>\n",
       "    <tr>\n",
       "      <th>32</th>\n",
       "      <td>x3</td>\n",
       "      <td>~~</td>\n",
       "      <td>x3</td>\n",
       "      <td>0.466732</td>\n",
       "      <td>0.239426</td>\n",
       "      <td>0.090168</td>\n",
       "      <td>5.176276</td>\n",
       "      <td>0.0</td>\n",
       "    </tr>\n",
       "    <tr>\n",
       "      <th>33</th>\n",
       "      <td>y8</td>\n",
       "      <td>~~</td>\n",
       "      <td>y8</td>\n",
       "      <td>3.256389</td>\n",
       "      <td>0.314968</td>\n",
       "      <td>0.69504</td>\n",
       "      <td>4.685182</td>\n",
       "      <td>0.000003</td>\n",
       "    </tr>\n",
       "  </tbody>\n",
       "</table>\n",
       "</div>"
      ],
      "text/plain": [
       "     lval  op   rval  Estimate  Est. Std  Std. Err    z-value   p-value\n",
       "0   dem60   ~  ind60  1.482379  0.446751  0.399024   3.715017  0.000203\n",
       "1   dem65   ~  ind60  0.571912  0.182178  0.221383   2.583364  0.009784\n",
       "2   dem65   ~  dem60  0.837574  0.885286  0.098446   8.507992       0.0\n",
       "3      x1   ~  ind60  1.000000  0.919814         -          -         -\n",
       "4      x2   ~  ind60  2.180494  0.973010  0.138565  15.736254       0.0\n",
       "5      x3   ~  ind60  1.818546  0.872109  0.151993   11.96465       0.0\n",
       "6      y1   ~  dem60  1.000000  0.850193         -          -         -\n",
       "7      y2   ~  dem60  1.256819  0.716628  0.182687   6.879647       0.0\n",
       "8      y3   ~  dem60  1.058174  0.722308  0.151521   6.983699       0.0\n",
       "9      y4   ~  dem60  1.265186  0.845633  0.145151   8.716344       0.0\n",
       "10     y5   ~  dem65  1.000000  0.807842         -          -         -\n",
       "11     y6   ~  dem65  1.185743  0.745866  0.168908   7.020032       0.0\n",
       "12     y7   ~  dem65  1.279717  0.823655  0.159996    7.99841       0.0\n",
       "13     y8   ~  dem65  1.266084  0.827667  0.158238   8.001141       0.0\n",
       "14  dem65  ~~  dem65  0.172210  0.038976  0.214861   0.801494  0.422846\n",
       "15  dem60  ~~  dem60  3.950849  0.800413  0.920451   4.292296  0.000018\n",
       "16  ind60  ~~  ind60  0.448321  1.000000  0.086677   5.172345       0.0\n",
       "17     y1  ~~     y5  0.624423  0.091835  0.358435   1.742083  0.081494\n",
       "18     y1  ~~     y1  1.892743  0.277173   0.44456   4.257565  0.000021\n",
       "19     y2  ~~     y4  1.319589  0.101885   0.70268   1.877937   0.06039\n",
       "20     y2  ~~     y6  2.156164  0.165599  0.734155   2.936934  0.003315\n",
       "21     y2  ~~     y2  7.385292  0.486445  1.375671   5.368501       0.0\n",
       "22     y3  ~~     y7  0.793329  0.074634  0.607642   1.305585  0.191694\n",
       "23     y3  ~~     y3  5.066628  0.478271  0.951722   5.323646       0.0\n",
       "24     y4  ~~     y8  0.347222  0.032487  0.442234   0.785154  0.432363\n",
       "25     y4  ~~     y4  3.147911  0.284906  0.738841   4.260605   0.00002\n",
       "26     y6  ~~     y8  1.357037  0.126299    0.5685   2.387047  0.016984\n",
       "27     y6  ~~     y6  4.954364  0.443683  0.914284   5.418843       0.0\n",
       "28     x1  ~~     x1  0.081573  0.153942  0.019495   4.184317  0.000029\n",
       "29     y7  ~~     y7  3.430032  0.321592  0.712732   4.812512  0.000001\n",
       "30     y5  ~~     y5  2.351910  0.347391  0.480369   4.896044  0.000001\n",
       "31     x2  ~~     x2  0.119894  0.053252  0.069747   1.718973  0.085619\n",
       "32     x3  ~~     x3  0.466732  0.239426  0.090168   5.176276       0.0\n",
       "33     y8  ~~     y8  3.256389  0.314968   0.69504   4.685182  0.000003"
      ]
     },
     "execution_count": 9,
     "metadata": {},
     "output_type": "execute_result"
    }
   ],
   "source": [
    "estimates = struct_model.inspect(std_est=True)\n",
    "estimates"
   ]
  },
  {
   "cell_type": "markdown",
   "metadata": {
    "slideshow": {
     "slide_type": "fragment"
    }
   },
   "source": [
    "Podemos apreciar que tanto `dem60` como `ind60` presentan parámetros estadísticamente significativos y relevantes para `dem65`. Además, encontramos que las covariaciones entre las variables endógenas son significativas, a excepción de `y7~y3` e `y4-y8`."
   ]
  },
  {
   "cell_type": "markdown",
   "metadata": {
    "slideshow": {
     "slide_type": "fragment"
    }
   },
   "source": [
    "Podemos apreciar también que `Coworkers` y `Work_Environment` covarían negativamente de manera significativa."
   ]
  },
  {
   "cell_type": "markdown",
   "metadata": {
    "slideshow": {
     "slide_type": "skip"
    }
   },
   "source": [
    "Para contar con un reporte más detallado de nuestro modelo estructural podemos examinar el reporte generado por el paquete `semopy`:"
   ]
  },
  {
   "cell_type": "code",
   "execution_count": 10,
   "metadata": {
    "slideshow": {
     "slide_type": "skip"
    }
   },
   "outputs": [],
   "source": [
    "semopy.report(struct_model, \"Job\")"
   ]
  }
 ],
 "metadata": {
  "celltoolbar": "Slideshow",
  "kernelspec": {
   "display_name": "stats",
   "language": "python",
   "name": "python3"
  },
  "language_info": {
   "codemirror_mode": {
    "name": "ipython",
    "version": 3
   },
   "file_extension": ".py",
   "mimetype": "text/x-python",
   "name": "python",
   "nbconvert_exporter": "python",
   "pygments_lexer": "ipython3",
   "version": "3.7.15"
  },
  "vscode": {
   "interpreter": {
    "hash": "8df12303a5084d795bcef355ea103bbaab8787933417cf27c2f95a588cdf8ee7"
   }
  }
 },
 "nbformat": 4,
 "nbformat_minor": 2
}
