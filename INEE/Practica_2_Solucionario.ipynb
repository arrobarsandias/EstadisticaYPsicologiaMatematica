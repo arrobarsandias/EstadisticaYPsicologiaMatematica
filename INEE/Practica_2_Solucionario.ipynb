{
 "cells": [
  {
   "cell_type": "markdown",
   "metadata": {},
   "source": [
    "# Práctica: Análisis de regresión lineal"
   ]
  },
  {
   "cell_type": "code",
   "execution_count": null,
   "metadata": {},
   "outputs": [],
   "source": [
    "# Instala dependencias\n",
    "!wget https://github.com/renatoparedes/EstadisticaYPsicologiaMatematica/raw/main/INEE/BasePracticaRegresion.csv\n",
    "!pip install pingouin"
   ]
  },
  {
   "cell_type": "markdown",
   "metadata": {},
   "source": [
    "En las respuestas deben indicar: \n",
    "- Hipótesis de trabajo e hipótesis estadísticas, de manera correspondiente.\n",
    "- Resultados de prueba de normalidad para las distribuciones de las variables de estudio, cuando sea necesario. \n",
    "- Indicadores estadísticos utilizados (SW, F, r, R2 B, ß) así como el valor p correspondiente, y la magnitud según criterios de Cohen, de ser pertinente.\n",
    "- Redacción de las conclusiones."
   ]
  },
  {
   "cell_type": "markdown",
   "metadata": {},
   "source": [
    "La facultad de psicología de una universidad privada investiga la posible relación entre la calidad de hábitos de estudio y los rasgos de personalidad de autocontrol y estabilidad emocional en un grupo de 15 estudiantes. "
   ]
  },
  {
   "cell_type": "code",
   "execution_count": 17,
   "metadata": {},
   "outputs": [
    {
     "data": {
      "text/html": [
       "<div>\n",
       "<style scoped>\n",
       "    .dataframe tbody tr th:only-of-type {\n",
       "        vertical-align: middle;\n",
       "    }\n",
       "\n",
       "    .dataframe tbody tr th {\n",
       "        vertical-align: top;\n",
       "    }\n",
       "\n",
       "    .dataframe thead th {\n",
       "        text-align: right;\n",
       "    }\n",
       "</style>\n",
       "<table border=\"1\" class=\"dataframe\">\n",
       "  <thead>\n",
       "    <tr style=\"text-align: right;\">\n",
       "      <th></th>\n",
       "      <th>Hábitos</th>\n",
       "      <th>Autocontrol</th>\n",
       "      <th>Estabilidad</th>\n",
       "    </tr>\n",
       "  </thead>\n",
       "  <tbody>\n",
       "    <tr>\n",
       "      <th>0</th>\n",
       "      <td>73</td>\n",
       "      <td>17</td>\n",
       "      <td>25</td>\n",
       "    </tr>\n",
       "    <tr>\n",
       "      <th>1</th>\n",
       "      <td>65</td>\n",
       "      <td>20</td>\n",
       "      <td>25</td>\n",
       "    </tr>\n",
       "    <tr>\n",
       "      <th>2</th>\n",
       "      <td>54</td>\n",
       "      <td>22</td>\n",
       "      <td>18</td>\n",
       "    </tr>\n",
       "    <tr>\n",
       "      <th>3</th>\n",
       "      <td>33</td>\n",
       "      <td>13</td>\n",
       "      <td>15</td>\n",
       "    </tr>\n",
       "    <tr>\n",
       "      <th>4</th>\n",
       "      <td>64</td>\n",
       "      <td>20</td>\n",
       "      <td>15</td>\n",
       "    </tr>\n",
       "    <tr>\n",
       "      <th>5</th>\n",
       "      <td>49</td>\n",
       "      <td>16</td>\n",
       "      <td>12</td>\n",
       "    </tr>\n",
       "    <tr>\n",
       "      <th>6</th>\n",
       "      <td>51</td>\n",
       "      <td>14</td>\n",
       "      <td>17</td>\n",
       "    </tr>\n",
       "    <tr>\n",
       "      <th>7</th>\n",
       "      <td>38</td>\n",
       "      <td>11</td>\n",
       "      <td>13</td>\n",
       "    </tr>\n",
       "    <tr>\n",
       "      <th>8</th>\n",
       "      <td>35</td>\n",
       "      <td>21</td>\n",
       "      <td>12</td>\n",
       "    </tr>\n",
       "    <tr>\n",
       "      <th>9</th>\n",
       "      <td>44</td>\n",
       "      <td>13</td>\n",
       "      <td>12</td>\n",
       "    </tr>\n",
       "    <tr>\n",
       "      <th>10</th>\n",
       "      <td>45</td>\n",
       "      <td>21</td>\n",
       "      <td>12</td>\n",
       "    </tr>\n",
       "    <tr>\n",
       "      <th>11</th>\n",
       "      <td>39</td>\n",
       "      <td>14</td>\n",
       "      <td>12</td>\n",
       "    </tr>\n",
       "    <tr>\n",
       "      <th>12</th>\n",
       "      <td>33</td>\n",
       "      <td>11</td>\n",
       "      <td>15</td>\n",
       "    </tr>\n",
       "    <tr>\n",
       "      <th>13</th>\n",
       "      <td>49</td>\n",
       "      <td>12</td>\n",
       "      <td>17</td>\n",
       "    </tr>\n",
       "    <tr>\n",
       "      <th>14</th>\n",
       "      <td>40</td>\n",
       "      <td>12</td>\n",
       "      <td>21</td>\n",
       "    </tr>\n",
       "  </tbody>\n",
       "</table>\n",
       "</div>"
      ],
      "text/plain": [
       "    Hábitos  Autocontrol  Estabilidad\n",
       "0        73           17           25\n",
       "1        65           20           25\n",
       "2        54           22           18\n",
       "3        33           13           15\n",
       "4        64           20           15\n",
       "5        49           16           12\n",
       "6        51           14           17\n",
       "7        38           11           13\n",
       "8        35           21           12\n",
       "9        44           13           12\n",
       "10       45           21           12\n",
       "11       39           14           12\n",
       "12       33           11           15\n",
       "13       49           12           17\n",
       "14       40           12           21"
      ]
     },
     "execution_count": 17,
     "metadata": {},
     "output_type": "execute_result"
    }
   ],
   "source": [
    "import pandas as pd\n",
    "\n",
    "df = pd.read_csv(\"BasePracticaRegresion.csv\")\n",
    "df"
   ]
  },
  {
   "cell_type": "markdown",
   "metadata": {},
   "source": [
    "## Ejercicio 1\n",
    "\n",
    "Luego de realizar una exhaustiva revisión teórica, una de las investigadoras tenía la hipótesis de que el autocontrol favorece la calidad de hábitos de estudio de los universitarios.\n",
    "\n",
    "- Establece la hipótesis de trabajo (HT) e identifica la variable predictora (VI) y la variable de resultado (VD) del modelo.\n",
    "- Escribe las hipótesis estadísticas para la HT y la ecuación del modelo, indicando el signo de la pendiente (β).\n",
    "- Presenta un gráfico de dispersión y señala si se observa alguna tendencia que apoye la linealidad entre las variables. \n",
    "- Obtén evidencia para esta relación a través de un análisis de correlación entre las dos variables de estudio, identificando primero la normalidad de las distribuciones.\n",
    "- Plantea la H0 y H1 que corresponden al contraste de hipótesis para la correlación y reporta el resultado, incluyendo la magnitud de la correlación de acuerdo con los criterios de Cohen (1988).\n",
    "\n",
    "A continuación, lleva a cabo el análisis de regresión lineal simple.\n",
    "\n",
    "- Indica si es el modelo propuesto es adecuado en estimar el rendimiento académico (ver tabla de ANOVA).\n",
    "- Indica cuál es el valor del coeficiente de determinación, R2, del modelo e interpreta su valor en términos de variabilidad explicada, señalando la magnitud del ajuste de acuerdo con los criterios de Cohen (1988).\n",
    "- Lleva a cabo el contraste estadístico correspondiente y redacta la conclusión sobre HT.\n"
   ]
  },
  {
   "cell_type": "markdown",
   "metadata": {},
   "source": [
    "## Solución"
   ]
  },
  {
   "cell_type": "markdown",
   "metadata": {},
   "source": [
    "HT: Los rasgos de autocontrol predicen positivamente los hábitos de estudios de estudiantes universitarios."
   ]
  },
  {
   "cell_type": "markdown",
   "metadata": {},
   "source": [
    "- $H_{0}: β_{autocontrol} = 0$\n",
    "- $H_{1}: β_{autocontrol} > 0$"
   ]
  },
  {
   "cell_type": "markdown",
   "metadata": {},
   "source": [
    "$Hábitos \\ de \\ estudio = β_{0} + β_{1}(autocontrol) + \\epsilon$"
   ]
  },
  {
   "cell_type": "code",
   "execution_count": 30,
   "metadata": {},
   "outputs": [
    {
     "data": {
      "image/png": "[encoded data removed]",
      "text/plain": [
       "<Figure size 432x288 with 1 Axes>"
      ]
     },
     "metadata": {
      "needs_background": "light"
     },
     "output_type": "display_data"
    }
   ],
   "source": [
    "import seaborn as sns\n",
    "import matplotlib.pyplot as plt\n",
    "\n",
    "ax = sns.regplot(x=\"Autocontrol\", y=\"Hábitos\", data=df)\n",
    "ax.set_xlabel(\"Autocontrol\", size=14)\n",
    "ax.set_ylabel(\"Hábitos de estudio\", size=14)\n",
    "plt.show()"
   ]
  },
  {
   "cell_type": "markdown",
   "metadata": {},
   "source": [
    "El gráfico de dispersión muestra una tendencia positiva de autocontrol con calidad de hábitos de estudio."
   ]
  },
  {
   "cell_type": "markdown",
   "metadata": {},
   "source": [
    "HT1: Los hábitos de estudio y el autocontrol se asocian directamente entre sí.\n",
    "- $H_{0}$: $r_{xy} = 0$, x = Hábitos de estudio, y = Autocontrol\n",
    "- $H_{1}$: $r_{xy} > 0$\n",
    "\n",
    "Primero se llevará a cabo la prueba Shapiro-Wilk para identificar normalidad de las distribuciones de las variables de estudio.\n",
    "- $H_{0}$: La distribución es normal.\n",
    "- $H_{1}$: La distribución no es normal."
   ]
  },
  {
   "cell_type": "code",
   "execution_count": 31,
   "metadata": {},
   "outputs": [
    {
     "data": {
      "text/html": [
       "<div>\n",
       "<style scoped>\n",
       "    .dataframe tbody tr th:only-of-type {\n",
       "        vertical-align: middle;\n",
       "    }\n",
       "\n",
       "    .dataframe tbody tr th {\n",
       "        vertical-align: top;\n",
       "    }\n",
       "\n",
       "    .dataframe thead th {\n",
       "        text-align: right;\n",
       "    }\n",
       "</style>\n",
       "<table border=\"1\" class=\"dataframe\">\n",
       "  <thead>\n",
       "    <tr style=\"text-align: right;\">\n",
       "      <th></th>\n",
       "      <th>W</th>\n",
       "      <th>pval</th>\n",
       "      <th>normal</th>\n",
       "    </tr>\n",
       "  </thead>\n",
       "  <tbody>\n",
       "    <tr>\n",
       "      <th>Hábitos</th>\n",
       "      <td>0.923267</td>\n",
       "      <td>0.216004</td>\n",
       "      <td>True</td>\n",
       "    </tr>\n",
       "    <tr>\n",
       "      <th>Autocontrol</th>\n",
       "      <td>0.878838</td>\n",
       "      <td>0.045590</td>\n",
       "      <td>False</td>\n",
       "    </tr>\n",
       "  </tbody>\n",
       "</table>\n",
       "</div>"
      ],
      "text/plain": [
       "                    W      pval  normal\n",
       "Hábitos      0.923267  0.216004    True\n",
       "Autocontrol  0.878838  0.045590   False"
      ]
     },
     "execution_count": 31,
     "metadata": {},
     "output_type": "execute_result"
    }
   ],
   "source": [
    "import pingouin as pg\n",
    "\n",
    "pg.normality(df[[\"Hábitos\", \"Autocontrol\"]])"
   ]
  },
  {
   "cell_type": "code",
   "execution_count": 32,
   "metadata": {},
   "outputs": [
    {
     "name": "stdout",
     "output_type": "stream",
     "text": [
      "Autocontrol\n",
      "Asimetría: 0.3586099518844738\n",
      "Curtosis: -1.5896209697480788\n"
     ]
    }
   ],
   "source": [
    "print(\"Autocontrol\")\n",
    "print(\"Asimetría:\", df[\"Autocontrol\"].skew())\n",
    "print(\"Curtosis:\", df[\"Autocontrol\"].kurtosis())"
   ]
  },
  {
   "cell_type": "markdown",
   "metadata": {},
   "source": [
    "De acuerdo al análisis de normalidad con la prueba Shapiro-Wilk, la distribución de autocontrol, SW =.88, p =.046 fue no normal, mientras que la distribución de hábitos de estudio fue normal, SW =.92, p =.22. Al revisar los indicadores de asimetría y curtosis las distribución no normales no es problemática, por lo que se utilizará el índice paramétrico de correlación de Pearson. "
   ]
  },
  {
   "cell_type": "code",
   "execution_count": 35,
   "metadata": {},
   "outputs": [
    {
     "data": {
      "text/html": [
       "<div>\n",
       "<style scoped>\n",
       "    .dataframe tbody tr th:only-of-type {\n",
       "        vertical-align: middle;\n",
       "    }\n",
       "\n",
       "    .dataframe tbody tr th {\n",
       "        vertical-align: top;\n",
       "    }\n",
       "\n",
       "    .dataframe thead th {\n",
       "        text-align: right;\n",
       "    }\n",
       "</style>\n",
       "<table border=\"1\" class=\"dataframe\">\n",
       "  <thead>\n",
       "    <tr style=\"text-align: right;\">\n",
       "      <th></th>\n",
       "      <th>X</th>\n",
       "      <th>Y</th>\n",
       "      <th>method</th>\n",
       "      <th>alternative</th>\n",
       "      <th>n</th>\n",
       "      <th>r</th>\n",
       "      <th>CI95%</th>\n",
       "      <th>p-unc</th>\n",
       "      <th>BF10</th>\n",
       "      <th>power</th>\n",
       "    </tr>\n",
       "  </thead>\n",
       "  <tbody>\n",
       "    <tr>\n",
       "      <th>0</th>\n",
       "      <td>Hábitos</td>\n",
       "      <td>Autocontrol</td>\n",
       "      <td>pearson</td>\n",
       "      <td>greater</td>\n",
       "      <td>15</td>\n",
       "      <td>0.483324</td>\n",
       "      <td>[0.05, 1.0]</td>\n",
       "      <td>0.033987</td>\n",
       "      <td>2.807</td>\n",
       "      <td>0.597509</td>\n",
       "    </tr>\n",
       "  </tbody>\n",
       "</table>\n",
       "</div>"
      ],
      "text/plain": [
       "         X            Y   method alternative   n         r        CI95%  \\\n",
       "0  Hábitos  Autocontrol  pearson     greater  15  0.483324  [0.05, 1.0]   \n",
       "\n",
       "      p-unc   BF10     power  \n",
       "0  0.033987  2.807  0.597509  "
      ]
     },
     "execution_count": 35,
     "metadata": {},
     "output_type": "execute_result"
    }
   ],
   "source": [
    "pg.pairwise_corr(\n",
    "    columns=[\"Hábitos\", \"Autocontrol\"],\n",
    "    method=\"pearson\",\n",
    "    alternative=\"greater\",\n",
    "    data=df,\n",
    ")"
   ]
  },
  {
   "cell_type": "markdown",
   "metadata": {},
   "source": [
    "El análisis de correlación muestra una correlación directa entre autocontrol y hábitos, r(13)=.48, p=.03 (unilateral) con tamaño del efecto mediano (Cohen, 1988)."
   ]
  },
  {
   "cell_type": "code",
   "execution_count": 37,
   "metadata": {},
   "outputs": [
    {
     "name": "stderr",
     "output_type": "stream",
     "text": [
      "/home/renato/.virtualenvs/stats/lib/python3.7/site-packages/scipy/stats/stats.py:1542: UserWarning: kurtosistest only valid for n>=20 ... continuing anyway, n=15\n",
      "  \"anyway, n=%i\" % int(n))\n"
     ]
    },
    {
     "data": {
      "text/html": [
       "<table class=\"simpletable\">\n",
       "<caption>OLS Regression Results</caption>\n",
       "<tr>\n",
       "  <th>Dep. Variable:</th>         <td>Hábitos</td>     <th>  R-squared:         </th> <td>   0.234</td>\n",
       "</tr>\n",
       "<tr>\n",
       "  <th>Model:</th>                   <td>OLS</td>       <th>  Adj. R-squared:    </th> <td>   0.175</td>\n",
       "</tr>\n",
       "<tr>\n",
       "  <th>Method:</th>             <td>Least Squares</td>  <th>  F-statistic:       </th> <td>   3.962</td>\n",
       "</tr>\n",
       "<tr>\n",
       "  <th>Date:</th>             <td>Wed, 28 Sep 2022</td> <th>  Prob (F-statistic):</th>  <td>0.0680</td> \n",
       "</tr>\n",
       "<tr>\n",
       "  <th>Time:</th>                 <td>18:08:55</td>     <th>  Log-Likelihood:    </th> <td> -56.357</td>\n",
       "</tr>\n",
       "<tr>\n",
       "  <th>No. Observations:</th>      <td>    15</td>      <th>  AIC:               </th> <td>   116.7</td>\n",
       "</tr>\n",
       "<tr>\n",
       "  <th>Df Residuals:</th>          <td>    13</td>      <th>  BIC:               </th> <td>   118.1</td>\n",
       "</tr>\n",
       "<tr>\n",
       "  <th>Df Model:</th>              <td>     1</td>      <th>                     </th>     <td> </td>   \n",
       "</tr>\n",
       "<tr>\n",
       "  <th>Covariance Type:</th>      <td>nonrobust</td>    <th>                     </th>     <td> </td>   \n",
       "</tr>\n",
       "</table>\n",
       "<table class=\"simpletable\">\n",
       "<tr>\n",
       "       <td></td>          <th>coef</th>     <th>std err</th>      <th>t</th>      <th>P>|t|</th>  <th>[0.025</th>    <th>0.975]</th>  \n",
       "</tr>\n",
       "<tr>\n",
       "  <th>Intercept</th>   <td>   24.1994</td> <td>   12.037</td> <td>    2.010</td> <td> 0.066</td> <td>   -1.805</td> <td>   50.203</td>\n",
       "</tr>\n",
       "<tr>\n",
       "  <th>Autocontrol</th> <td>    1.4726</td> <td>    0.740</td> <td>    1.991</td> <td> 0.068</td> <td>   -0.126</td> <td>    3.071</td>\n",
       "</tr>\n",
       "</table>\n",
       "<table class=\"simpletable\">\n",
       "<tr>\n",
       "  <th>Omnibus:</th>       <td> 1.162</td> <th>  Durbin-Watson:     </th> <td>   1.362</td>\n",
       "</tr>\n",
       "<tr>\n",
       "  <th>Prob(Omnibus):</th> <td> 0.559</td> <th>  Jarque-Bera (JB):  </th> <td>   0.298</td>\n",
       "</tr>\n",
       "<tr>\n",
       "  <th>Skew:</th>          <td> 0.339</td> <th>  Prob(JB):          </th> <td>   0.862</td>\n",
       "</tr>\n",
       "<tr>\n",
       "  <th>Kurtosis:</th>      <td> 3.130</td> <th>  Cond. No.          </th> <td>    68.4</td>\n",
       "</tr>\n",
       "</table><br/><br/>Notes:<br/>[1] Standard Errors assume that the covariance matrix of the errors is correctly specified."
      ],
      "text/plain": [
       "<class 'statsmodels.iolib.summary.Summary'>\n",
       "\"\"\"\n",
       "                            OLS Regression Results                            \n",
       "==============================================================================\n",
       "Dep. Variable:                Hábitos   R-squared:                       0.234\n",
       "Model:                            OLS   Adj. R-squared:                  0.175\n",
       "Method:                 Least Squares   F-statistic:                     3.962\n",
       "Date:                Wed, 28 Sep 2022   Prob (F-statistic):             0.0680\n",
       "Time:                        18:08:55   Log-Likelihood:                -56.357\n",
       "No. Observations:                  15   AIC:                             116.7\n",
       "Df Residuals:                      13   BIC:                             118.1\n",
       "Df Model:                           1                                         \n",
       "Covariance Type:            nonrobust                                         \n",
       "===============================================================================\n",
       "                  coef    std err          t      P>|t|      [0.025      0.975]\n",
       "-------------------------------------------------------------------------------\n",
       "Intercept      24.1994     12.037      2.010      0.066      -1.805      50.203\n",
       "Autocontrol     1.4726      0.740      1.991      0.068      -0.126       3.071\n",
       "==============================================================================\n",
       "Omnibus:                        1.162   Durbin-Watson:                   1.362\n",
       "Prob(Omnibus):                  0.559   Jarque-Bera (JB):                0.298\n",
       "Skew:                           0.339   Prob(JB):                        0.862\n",
       "Kurtosis:                       3.130   Cond. No.                         68.4\n",
       "==============================================================================\n",
       "\n",
       "Notes:\n",
       "[1] Standard Errors assume that the covariance matrix of the errors is correctly specified.\n",
       "\"\"\""
      ]
     },
     "execution_count": 37,
     "metadata": {},
     "output_type": "execute_result"
    }
   ],
   "source": [
    "import statsmodels.formula.api as smf\n",
    "import statsmodels.stats.api as sms\n",
    "import statsmodels.api as sm\n",
    "\n",
    "# Fit regression model\n",
    "model = smf.ols(\"Hábitos ~ Autocontrol\", data=df).fit()\n",
    "model.summary()"
   ]
  },
  {
   "cell_type": "markdown",
   "metadata": {},
   "source": [
    "El resultado de la prueba de ANOVA fue de F(1, 13)=3.96, p=.068, por lo que el modelo no es adecuado para estimar la variable de hábitos. Además, el R2 ajustado = .175 por lo que se puede decir que el 17.5% de la variación que se observa en la calidad de los hábitos de estudio es explicado por el autocontrol. Según el criterio de Cohen (1988) el coeficiente de determinación es mediano."
   ]
  },
  {
   "cell_type": "markdown",
   "metadata": {},
   "source": [
    "El modelo no cuenta con evidencia suficiente para apoyar la hipótesis de trabajo, por lo que esta se descarta. "
   ]
  },
  {
   "cell_type": "markdown",
   "metadata": {},
   "source": [
    "## Ejercicio 2\n",
    "\n",
    "Se plantea comprobar si es que mayores puntajes en autocontrol y estabilidad emocional favorecen la calidad de hábitos de estudio de los universitarios. Asimismo, se postula que entre los dos rasgos, la estabilidad emocional destacaría por su mayor influencia. ¿Se cumple lo que plantea la unidad de psicología?\n",
    "\n",
    "a) Establece la hipótesis de trabajo (HT).\n",
    "\n",
    "b) Señala las hipótesis estadísticas (H0 y H1) que correspondan a la HT. \n",
    "\n",
    "c) Plantea la ecuación del modelo para la HT.\n",
    "\n",
    "d) Evalúa los supuestos necesarios para continuar con el análisis de regresión.\n",
    "- Linealidad\n",
    "- Normalidad de residuos\n",
    "- Multicolinealidad\n",
    "\n",
    "e) Evalúa el ajuste del modelo planteado, interpretando el valor de R2 en términos de la variabilidad explicada de los hábitos de estudio y los criterios de Cohen.\n",
    "\n",
    "f) Indica si se cumplen las hipótesis y brinda tu conclusión."
   ]
  },
  {
   "cell_type": "markdown",
   "metadata": {},
   "source": [
    "## Solución"
   ]
  },
  {
   "cell_type": "markdown",
   "metadata": {},
   "source": [
    "HT: Los rasgos de autocontrol y de estabilidad emocional predicen positivamente los hábitos de estudios de estudiantes universitarios, siendo la estabilidad el rasgo predictor más fuerte."
   ]
  },
  {
   "cell_type": "markdown",
   "metadata": {},
   "source": [
    "- $H_{0}: β_{autocontrol} = 0, β_{estabilidad} = 0$\n",
    "- $H_{1}: β_{autocontrol} > 0, β_{estabilidad} > 0$"
   ]
  },
  {
   "cell_type": "markdown",
   "metadata": {},
   "source": [
    "$Hábitos \\ de \\ estudio = β_{0} + β_{1}(autocontrol) + β_{2}(estabilidad emocional) + \\epsilon$, con $β_{estabilidad} > β_{autocontrol}$"
   ]
  },
  {
   "cell_type": "markdown",
   "metadata": {},
   "source": [
    "- Linealidad"
   ]
  },
  {
   "cell_type": "code",
   "execution_count": 18,
   "metadata": {},
   "outputs": [
    {
     "data": {
      "text/html": [
       "<div>\n",
       "<style scoped>\n",
       "    .dataframe tbody tr th:only-of-type {\n",
       "        vertical-align: middle;\n",
       "    }\n",
       "\n",
       "    .dataframe tbody tr th {\n",
       "        vertical-align: top;\n",
       "    }\n",
       "\n",
       "    .dataframe thead th {\n",
       "        text-align: right;\n",
       "    }\n",
       "</style>\n",
       "<table border=\"1\" class=\"dataframe\">\n",
       "  <thead>\n",
       "    <tr style=\"text-align: right;\">\n",
       "      <th></th>\n",
       "      <th>W</th>\n",
       "      <th>pval</th>\n",
       "      <th>normal</th>\n",
       "    </tr>\n",
       "  </thead>\n",
       "  <tbody>\n",
       "    <tr>\n",
       "      <th>Hábitos</th>\n",
       "      <td>0.923267</td>\n",
       "      <td>0.216004</td>\n",
       "      <td>True</td>\n",
       "    </tr>\n",
       "    <tr>\n",
       "      <th>Autocontrol</th>\n",
       "      <td>0.878838</td>\n",
       "      <td>0.045590</td>\n",
       "      <td>False</td>\n",
       "    </tr>\n",
       "    <tr>\n",
       "      <th>Estabilidad</th>\n",
       "      <td>0.831752</td>\n",
       "      <td>0.009680</td>\n",
       "      <td>False</td>\n",
       "    </tr>\n",
       "  </tbody>\n",
       "</table>\n",
       "</div>"
      ],
      "text/plain": [
       "                    W      pval  normal\n",
       "Hábitos      0.923267  0.216004    True\n",
       "Autocontrol  0.878838  0.045590   False\n",
       "Estabilidad  0.831752  0.009680   False"
      ]
     },
     "execution_count": 18,
     "metadata": {},
     "output_type": "execute_result"
    }
   ],
   "source": [
    "import pingouin as pg\n",
    "\n",
    "pg.normality(df[[\"Hábitos\", \"Autocontrol\", \"Estabilidad\"]])"
   ]
  },
  {
   "cell_type": "code",
   "execution_count": 19,
   "metadata": {},
   "outputs": [
    {
     "name": "stdout",
     "output_type": "stream",
     "text": [
      "Autocontrol\n",
      "Asimetría: 0.3586099518844738\n",
      "Curtosis: -1.5896209697480788\n",
      "Estabilidad emocional\n",
      "Asimetría: 1.0645963685526845\n",
      "Curtosis: 0.15848867193548655\n"
     ]
    }
   ],
   "source": [
    "print(\"Autocontrol\")\n",
    "print(\"Asimetría:\", df[\"Autocontrol\"].skew())\n",
    "print(\"Curtosis:\", df[\"Autocontrol\"].kurtosis())\n",
    "\n",
    "print(\"Estabilidad emocional\")\n",
    "print(\"Asimetría:\", df[\"Estabilidad\"].skew())\n",
    "print(\"Curtosis:\", df[\"Estabilidad\"].kurtosis())"
   ]
  },
  {
   "cell_type": "markdown",
   "metadata": {},
   "source": [
    "De acuerdo al análisis de normalidad con la prueba Shapiro-Wilk, las distribuciones de autocontrol, SW =.88, p =.046 y estabilidad emocional, SW =.83, p =.01, fueron no normales, mientras que la distribución de hábitos de estudio fue normal, SW =.92, p =.22. Al revisar los indicadores de asimetría y curtosis las distribuciones no normales no son problemáticas, por lo que se utilizará el índice paramétrico de correlación de Pearson. "
   ]
  },
  {
   "cell_type": "code",
   "execution_count": 28,
   "metadata": {},
   "outputs": [
    {
     "data": {
      "image/png": "[encoded data removed]",
      "text/plain": [
       "<Figure size 432x288 with 1 Axes>"
      ]
     },
     "metadata": {
      "needs_background": "light"
     },
     "output_type": "display_data"
    }
   ],
   "source": [
    "import seaborn as sns\n",
    "import matplotlib.pyplot as plt\n",
    "\n",
    "ax = sns.regplot(x=\"Autocontrol\", y=\"Hábitos\", data=df)\n",
    "ax.set_xlabel(\"Autocontrol\", size=14)\n",
    "ax.set_ylabel(\"Hábitos de estudio\", size=14)\n",
    "plt.show()"
   ]
  },
  {
   "cell_type": "code",
   "execution_count": 29,
   "metadata": {},
   "outputs": [
    {
     "data": {
      "image/png": "[encoded data removed]",
      "text/plain": [
       "<Figure size 432x288 with 1 Axes>"
      ]
     },
     "metadata": {
      "needs_background": "light"
     },
     "output_type": "display_data"
    }
   ],
   "source": [
    "ax = sns.regplot(x=\"Estabilidad\", y=\"Hábitos\", data=df)\n",
    "ax.set_xlabel(\"Estabilidad emocional\", size=14)\n",
    "ax.set_ylabel(\"Hábitos de estudio\", size=14)\n",
    "plt.show()"
   ]
  },
  {
   "cell_type": "markdown",
   "metadata": {},
   "source": [
    "Los gráficos de dispersión muestran una tendencia positiva tanto de autocontrol con calidad de hábitos de estudio como de estabilidad emocional con calidad de hábitos de estudios. "
   ]
  },
  {
   "cell_type": "code",
   "execution_count": 21,
   "metadata": {},
   "outputs": [
    {
     "data": {
      "text/html": [
       "<div>\n",
       "<style scoped>\n",
       "    .dataframe tbody tr th:only-of-type {\n",
       "        vertical-align: middle;\n",
       "    }\n",
       "\n",
       "    .dataframe tbody tr th {\n",
       "        vertical-align: top;\n",
       "    }\n",
       "\n",
       "    .dataframe thead th {\n",
       "        text-align: right;\n",
       "    }\n",
       "</style>\n",
       "<table border=\"1\" class=\"dataframe\">\n",
       "  <thead>\n",
       "    <tr style=\"text-align: right;\">\n",
       "      <th></th>\n",
       "      <th>X</th>\n",
       "      <th>Y</th>\n",
       "      <th>method</th>\n",
       "      <th>alternative</th>\n",
       "      <th>n</th>\n",
       "      <th>r</th>\n",
       "      <th>CI95%</th>\n",
       "      <th>p-unc</th>\n",
       "      <th>BF10</th>\n",
       "      <th>power</th>\n",
       "    </tr>\n",
       "  </thead>\n",
       "  <tbody>\n",
       "    <tr>\n",
       "      <th>0</th>\n",
       "      <td>Hábitos</td>\n",
       "      <td>Autocontrol</td>\n",
       "      <td>pearson</td>\n",
       "      <td>greater</td>\n",
       "      <td>15</td>\n",
       "      <td>0.483324</td>\n",
       "      <td>[0.05, 1.0]</td>\n",
       "      <td>0.033987</td>\n",
       "      <td>2.807</td>\n",
       "      <td>0.597509</td>\n",
       "    </tr>\n",
       "    <tr>\n",
       "      <th>1</th>\n",
       "      <td>Hábitos</td>\n",
       "      <td>Estabilidad</td>\n",
       "      <td>pearson</td>\n",
       "      <td>greater</td>\n",
       "      <td>15</td>\n",
       "      <td>0.659726</td>\n",
       "      <td>[0.31, 1.0]</td>\n",
       "      <td>0.003725</td>\n",
       "      <td>16.633</td>\n",
       "      <td>0.882341</td>\n",
       "    </tr>\n",
       "    <tr>\n",
       "      <th>2</th>\n",
       "      <td>Autocontrol</td>\n",
       "      <td>Estabilidad</td>\n",
       "      <td>pearson</td>\n",
       "      <td>greater</td>\n",
       "      <td>15</td>\n",
       "      <td>0.118904</td>\n",
       "      <td>[-0.34, 1.0]</td>\n",
       "      <td>0.336489</td>\n",
       "      <td>0.452</td>\n",
       "      <td>0.112949</td>\n",
       "    </tr>\n",
       "  </tbody>\n",
       "</table>\n",
       "</div>"
      ],
      "text/plain": [
       "             X            Y   method alternative   n         r         CI95%  \\\n",
       "0      Hábitos  Autocontrol  pearson     greater  15  0.483324   [0.05, 1.0]   \n",
       "1      Hábitos  Estabilidad  pearson     greater  15  0.659726   [0.31, 1.0]   \n",
       "2  Autocontrol  Estabilidad  pearson     greater  15  0.118904  [-0.34, 1.0]   \n",
       "\n",
       "      p-unc    BF10     power  \n",
       "0  0.033987   2.807  0.597509  \n",
       "1  0.003725  16.633  0.882341  \n",
       "2  0.336489   0.452  0.112949  "
      ]
     },
     "execution_count": 21,
     "metadata": {},
     "output_type": "execute_result"
    }
   ],
   "source": [
    "pg.pairwise_corr(method=\"pearson\", data=df, alternative=\"greater\")"
   ]
  },
  {
   "cell_type": "markdown",
   "metadata": {},
   "source": [
    "El análisis de correlación muestra correlaciones directas entre autocontrol y hábitos, r(13)=.48, p=.03 (unilateral) y entre estabilidad emocional y hábitos, r(13)=.66, p=.004 (unilateral), con tamaños del efecto mediano y grande respectivamente (Cohen, 1988)."
   ]
  },
  {
   "cell_type": "markdown",
   "metadata": {},
   "source": [
    "- Normalidad de residuos"
   ]
  },
  {
   "cell_type": "code",
   "execution_count": 22,
   "metadata": {},
   "outputs": [
    {
     "data": {
      "text/html": [
       "<div>\n",
       "<style scoped>\n",
       "    .dataframe tbody tr th:only-of-type {\n",
       "        vertical-align: middle;\n",
       "    }\n",
       "\n",
       "    .dataframe tbody tr th {\n",
       "        vertical-align: top;\n",
       "    }\n",
       "\n",
       "    .dataframe thead th {\n",
       "        text-align: right;\n",
       "    }\n",
       "</style>\n",
       "<table border=\"1\" class=\"dataframe\">\n",
       "  <thead>\n",
       "    <tr style=\"text-align: right;\">\n",
       "      <th></th>\n",
       "      <th>W</th>\n",
       "      <th>pval</th>\n",
       "      <th>normal</th>\n",
       "    </tr>\n",
       "  </thead>\n",
       "  <tbody>\n",
       "    <tr>\n",
       "      <th>0</th>\n",
       "      <td>0.96962</td>\n",
       "      <td>0.852387</td>\n",
       "      <td>True</td>\n",
       "    </tr>\n",
       "  </tbody>\n",
       "</table>\n",
       "</div>"
      ],
      "text/plain": [
       "         W      pval  normal\n",
       "0  0.96962  0.852387    True"
      ]
     },
     "execution_count": 22,
     "metadata": {},
     "output_type": "execute_result"
    }
   ],
   "source": [
    "import statsmodels.formula.api as smf\n",
    "import statsmodels.stats.api as sms\n",
    "import statsmodels.api as sm\n",
    "\n",
    "# Fit regression model\n",
    "model = smf.ols(\"Hábitos ~ Autocontrol + Estabilidad\", data=df).fit()\n",
    "pg.normality(model.resid)"
   ]
  },
  {
   "cell_type": "markdown",
   "metadata": {},
   "source": [
    "La prueba de normalidad Shapiro-Wilk sugiere que los residuos siguen una distribución normal, SW = .97, p = .85, por lo que se cumple con este supuesto. "
   ]
  },
  {
   "cell_type": "markdown",
   "metadata": {},
   "source": [
    "- Multicolinealidad:"
   ]
  },
  {
   "cell_type": "code",
   "execution_count": 23,
   "metadata": {},
   "outputs": [
    {
     "data": {
      "text/html": [
       "<div>\n",
       "<style scoped>\n",
       "    .dataframe tbody tr th:only-of-type {\n",
       "        vertical-align: middle;\n",
       "    }\n",
       "\n",
       "    .dataframe tbody tr th {\n",
       "        vertical-align: top;\n",
       "    }\n",
       "\n",
       "    .dataframe thead th {\n",
       "        text-align: right;\n",
       "    }\n",
       "</style>\n",
       "<table border=\"1\" class=\"dataframe\">\n",
       "  <thead>\n",
       "    <tr style=\"text-align: right;\">\n",
       "      <th></th>\n",
       "      <th>feature</th>\n",
       "      <th>VIF</th>\n",
       "    </tr>\n",
       "  </thead>\n",
       "  <tbody>\n",
       "    <tr>\n",
       "      <th>0</th>\n",
       "      <td>Intercept</td>\n",
       "      <td>27.944820</td>\n",
       "    </tr>\n",
       "    <tr>\n",
       "      <th>1</th>\n",
       "      <td>Autocontrol</td>\n",
       "      <td>1.014341</td>\n",
       "    </tr>\n",
       "    <tr>\n",
       "      <th>2</th>\n",
       "      <td>Estabilidad</td>\n",
       "      <td>1.014341</td>\n",
       "    </tr>\n",
       "  </tbody>\n",
       "</table>\n",
       "</div>"
      ],
      "text/plain": [
       "       feature        VIF\n",
       "0    Intercept  27.944820\n",
       "1  Autocontrol   1.014341\n",
       "2  Estabilidad   1.014341"
      ]
     },
     "execution_count": 23,
     "metadata": {},
     "output_type": "execute_result"
    }
   ],
   "source": [
    "from statsmodels.stats.outliers_influence import variance_inflation_factor\n",
    "\n",
    "# the independent variables set\n",
    "X = model.model.exog\n",
    "\n",
    "# VIF dataframe\n",
    "vif_data = pd.DataFrame()\n",
    "vif_data[\"feature\"] = model.params.index\n",
    "\n",
    "# calculating VIF for each feature\n",
    "vif_data[\"VIF\"] = [\n",
    "    variance_inflation_factor(X, i) for i in range(model.model.exog.shape[1])\n",
    "]\n",
    "vif_data"
   ]
  },
  {
   "cell_type": "markdown",
   "metadata": {},
   "source": [
    "El diagnóstico de multicolinealidad sugiere que ambas variables predictoras, autocontrol y estabilidad emocional, no tienen una relación lineal entre sí (T = .99, VIF = 1.01), por lo que se cumple con el supuesto de independencia de variables."
   ]
  },
  {
   "cell_type": "code",
   "execution_count": 24,
   "metadata": {},
   "outputs": [
    {
     "name": "stderr",
     "output_type": "stream",
     "text": [
      "/home/renato/.virtualenvs/stats/lib/python3.7/site-packages/scipy/stats/stats.py:1542: UserWarning: kurtosistest only valid for n>=20 ... continuing anyway, n=15\n",
      "  \"anyway, n=%i\" % int(n))\n"
     ]
    },
    {
     "data": {
      "text/html": [
       "<table class=\"simpletable\">\n",
       "<caption>OLS Regression Results</caption>\n",
       "<tr>\n",
       "  <th>Dep. Variable:</th>         <td>Hábitos</td>     <th>  R-squared:         </th> <td>   0.602</td>\n",
       "</tr>\n",
       "<tr>\n",
       "  <th>Model:</th>                   <td>OLS</td>       <th>  Adj. R-squared:    </th> <td>   0.535</td>\n",
       "</tr>\n",
       "<tr>\n",
       "  <th>Method:</th>             <td>Least Squares</td>  <th>  F-statistic:       </th> <td>   9.057</td>\n",
       "</tr>\n",
       "<tr>\n",
       "  <th>Date:</th>             <td>Wed, 28 Sep 2022</td> <th>  Prob (F-statistic):</th>  <td>0.00400</td>\n",
       "</tr>\n",
       "<tr>\n",
       "  <th>Time:</th>                 <td>17:51:22</td>     <th>  Log-Likelihood:    </th> <td> -51.452</td>\n",
       "</tr>\n",
       "<tr>\n",
       "  <th>No. Observations:</th>      <td>    15</td>      <th>  AIC:               </th> <td>   108.9</td>\n",
       "</tr>\n",
       "<tr>\n",
       "  <th>Df Residuals:</th>          <td>    12</td>      <th>  BIC:               </th> <td>   111.0</td>\n",
       "</tr>\n",
       "<tr>\n",
       "  <th>Df Model:</th>              <td>     2</td>      <th>                     </th>     <td> </td>   \n",
       "</tr>\n",
       "<tr>\n",
       "  <th>Covariance Type:</th>      <td>nonrobust</td>    <th>                     </th>     <td> </td>   \n",
       "</tr>\n",
       "</table>\n",
       "<table class=\"simpletable\">\n",
       "<tr>\n",
       "       <td></td>          <th>coef</th>     <th>std err</th>      <th>t</th>      <th>P>|t|</th>  <th>[0.025</th>    <th>0.975]</th>  \n",
       "</tr>\n",
       "<tr>\n",
       "  <th>Intercept</th>   <td>    1.0393</td> <td>   11.403</td> <td>    0.091</td> <td> 0.929</td> <td>  -23.805</td> <td>   25.884</td>\n",
       "</tr>\n",
       "<tr>\n",
       "  <th>Autocontrol</th> <td>    1.2513</td> <td>    0.559</td> <td>    2.238</td> <td> 0.045</td> <td>    0.033</td> <td>    2.470</td>\n",
       "</tr>\n",
       "<tr>\n",
       "  <th>Estabilidad</th> <td>    1.6591</td> <td>    0.498</td> <td>    3.329</td> <td> 0.006</td> <td>    0.573</td> <td>    2.745</td>\n",
       "</tr>\n",
       "</table>\n",
       "<table class=\"simpletable\">\n",
       "<tr>\n",
       "  <th>Omnibus:</th>       <td> 1.135</td> <th>  Durbin-Watson:     </th> <td>   2.119</td>\n",
       "</tr>\n",
       "<tr>\n",
       "  <th>Prob(Omnibus):</th> <td> 0.567</td> <th>  Jarque-Bera (JB):  </th> <td>   0.748</td>\n",
       "</tr>\n",
       "<tr>\n",
       "  <th>Skew:</th>          <td>-0.047</td> <th>  Prob(JB):          </th> <td>   0.688</td>\n",
       "</tr>\n",
       "<tr>\n",
       "  <th>Kurtosis:</th>      <td> 1.910</td> <th>  Cond. No.          </th> <td>    122.</td>\n",
       "</tr>\n",
       "</table><br/><br/>Notes:<br/>[1] Standard Errors assume that the covariance matrix of the errors is correctly specified."
      ],
      "text/plain": [
       "<class 'statsmodels.iolib.summary.Summary'>\n",
       "\"\"\"\n",
       "                            OLS Regression Results                            \n",
       "==============================================================================\n",
       "Dep. Variable:                Hábitos   R-squared:                       0.602\n",
       "Model:                            OLS   Adj. R-squared:                  0.535\n",
       "Method:                 Least Squares   F-statistic:                     9.057\n",
       "Date:                Wed, 28 Sep 2022   Prob (F-statistic):            0.00400\n",
       "Time:                        17:51:22   Log-Likelihood:                -51.452\n",
       "No. Observations:                  15   AIC:                             108.9\n",
       "Df Residuals:                      12   BIC:                             111.0\n",
       "Df Model:                           2                                         \n",
       "Covariance Type:            nonrobust                                         \n",
       "===============================================================================\n",
       "                  coef    std err          t      P>|t|      [0.025      0.975]\n",
       "-------------------------------------------------------------------------------\n",
       "Intercept       1.0393     11.403      0.091      0.929     -23.805      25.884\n",
       "Autocontrol     1.2513      0.559      2.238      0.045       0.033       2.470\n",
       "Estabilidad     1.6591      0.498      3.329      0.006       0.573       2.745\n",
       "==============================================================================\n",
       "Omnibus:                        1.135   Durbin-Watson:                   2.119\n",
       "Prob(Omnibus):                  0.567   Jarque-Bera (JB):                0.748\n",
       "Skew:                          -0.047   Prob(JB):                        0.688\n",
       "Kurtosis:                       1.910   Cond. No.                         122.\n",
       "==============================================================================\n",
       "\n",
       "Notes:\n",
       "[1] Standard Errors assume that the covariance matrix of the errors is correctly specified.\n",
       "\"\"\""
      ]
     },
     "execution_count": 24,
     "metadata": {},
     "output_type": "execute_result"
    }
   ],
   "source": [
    "model.summary()"
   ]
  },
  {
   "cell_type": "markdown",
   "metadata": {},
   "source": [
    "El resultado de la prueba de ANOVA fue de F(2, 12)=9.06, p=.004, por lo que el modelo es adecuado para estimar la variable de hábitos. Además, el R2 ajustado = .535 por lo que se puede decir que el 53.5% de la variación que se observa en la calidad de los hábitos de estudio es explicado por el autocontrol y la estabilidad emocional. Según el criterio de Cohen (1988) el coeficiente de determinación es grande."
   ]
  },
  {
   "cell_type": "markdown",
   "metadata": {},
   "source": [
    "El análisis de regresión lineal múltiple indica que el $B_{0}=1.04$, $B_{autocontrol} =1.25$, $p=.02$ (unilateral) y $B_{estabilidad}=1.66$, $p=.003$ (unilateral) por lo cual se acepta H1, es decir tanto el autocontrol como la estabilidad emocional son variables predictoras positivas y significativas de la calidad de hábitos de estudio. \n",
    "\n",
    "En promedio, a cada incremento de una unidad en el autocontrol y estabilidad se observa un incremento de 1.25 y 1.66 respectivamente en hábitos de estudio en universitarios. \n",
    "\n",
    "$Hábitos \\ de \\ estudio = 1.04 + 1.25(autocontrol) + 1.66(estabilidad \\ emocional) + 8.35$"
   ]
  },
  {
   "cell_type": "code",
   "execution_count": 25,
   "metadata": {},
   "outputs": [
    {
     "name": "stderr",
     "output_type": "stream",
     "text": [
      "/home/renato/.virtualenvs/stats/lib/python3.7/site-packages/scipy/stats/stats.py:1542: UserWarning: kurtosistest only valid for n>=20 ... continuing anyway, n=15\n",
      "  \"anyway, n=%i\" % int(n))\n"
     ]
    },
    {
     "data": {
      "text/html": [
       "<table class=\"simpletable\">\n",
       "<caption>OLS Regression Results</caption>\n",
       "<tr>\n",
       "  <th>Dep. Variable:</th>         <td>Hábitos</td>     <th>  R-squared:         </th> <td>   0.602</td>\n",
       "</tr>\n",
       "<tr>\n",
       "  <th>Model:</th>                   <td>OLS</td>       <th>  Adj. R-squared:    </th> <td>   0.535</td>\n",
       "</tr>\n",
       "<tr>\n",
       "  <th>Method:</th>             <td>Least Squares</td>  <th>  F-statistic:       </th> <td>   9.057</td>\n",
       "</tr>\n",
       "<tr>\n",
       "  <th>Date:</th>             <td>Wed, 28 Sep 2022</td> <th>  Prob (F-statistic):</th>  <td>0.00400</td>\n",
       "</tr>\n",
       "<tr>\n",
       "  <th>Time:</th>                 <td>17:53:35</td>     <th>  Log-Likelihood:    </th> <td> -14.383</td>\n",
       "</tr>\n",
       "<tr>\n",
       "  <th>No. Observations:</th>      <td>    15</td>      <th>  AIC:               </th> <td>   34.77</td>\n",
       "</tr>\n",
       "<tr>\n",
       "  <th>Df Residuals:</th>          <td>    12</td>      <th>  BIC:               </th> <td>   36.89</td>\n",
       "</tr>\n",
       "<tr>\n",
       "  <th>Df Model:</th>              <td>     2</td>      <th>                     </th>     <td> </td>   \n",
       "</tr>\n",
       "<tr>\n",
       "  <th>Covariance Type:</th>      <td>nonrobust</td>    <th>                     </th>     <td> </td>   \n",
       "</tr>\n",
       "</table>\n",
       "<table class=\"simpletable\">\n",
       "<tr>\n",
       "       <td></td>          <th>coef</th>     <th>std err</th>      <th>t</th>      <th>P>|t|</th>  <th>[0.025</th>    <th>0.975]</th>  \n",
       "</tr>\n",
       "<tr>\n",
       "  <th>Intercept</th>   <td>-1.804e-16</td> <td>    0.182</td> <td> -9.9e-16</td> <td> 1.000</td> <td>   -0.397</td> <td>    0.397</td>\n",
       "</tr>\n",
       "<tr>\n",
       "  <th>Autocontrol</th> <td>    0.4107</td> <td>    0.184</td> <td>    2.238</td> <td> 0.045</td> <td>    0.011</td> <td>    0.811</td>\n",
       "</tr>\n",
       "<tr>\n",
       "  <th>Estabilidad</th> <td>    0.6109</td> <td>    0.184</td> <td>    3.329</td> <td> 0.006</td> <td>    0.211</td> <td>    1.011</td>\n",
       "</tr>\n",
       "</table>\n",
       "<table class=\"simpletable\">\n",
       "<tr>\n",
       "  <th>Omnibus:</th>       <td> 1.135</td> <th>  Durbin-Watson:     </th> <td>   2.119</td>\n",
       "</tr>\n",
       "<tr>\n",
       "  <th>Prob(Omnibus):</th> <td> 0.567</td> <th>  Jarque-Bera (JB):  </th> <td>   0.748</td>\n",
       "</tr>\n",
       "<tr>\n",
       "  <th>Skew:</th>          <td>-0.047</td> <th>  Prob(JB):          </th> <td>   0.688</td>\n",
       "</tr>\n",
       "<tr>\n",
       "  <th>Kurtosis:</th>      <td> 1.910</td> <th>  Cond. No.          </th> <td>    1.13</td>\n",
       "</tr>\n",
       "</table><br/><br/>Notes:<br/>[1] Standard Errors assume that the covariance matrix of the errors is correctly specified."
      ],
      "text/plain": [
       "<class 'statsmodels.iolib.summary.Summary'>\n",
       "\"\"\"\n",
       "                            OLS Regression Results                            \n",
       "==============================================================================\n",
       "Dep. Variable:                Hábitos   R-squared:                       0.602\n",
       "Model:                            OLS   Adj. R-squared:                  0.535\n",
       "Method:                 Least Squares   F-statistic:                     9.057\n",
       "Date:                Wed, 28 Sep 2022   Prob (F-statistic):            0.00400\n",
       "Time:                        17:53:35   Log-Likelihood:                -14.383\n",
       "No. Observations:                  15   AIC:                             34.77\n",
       "Df Residuals:                      12   BIC:                             36.89\n",
       "Df Model:                           2                                         \n",
       "Covariance Type:            nonrobust                                         \n",
       "===============================================================================\n",
       "                  coef    std err          t      P>|t|      [0.025      0.975]\n",
       "-------------------------------------------------------------------------------\n",
       "Intercept   -1.804e-16      0.182   -9.9e-16      1.000      -0.397       0.397\n",
       "Autocontrol     0.4107      0.184      2.238      0.045       0.011       0.811\n",
       "Estabilidad     0.6109      0.184      3.329      0.006       0.211       1.011\n",
       "==============================================================================\n",
       "Omnibus:                        1.135   Durbin-Watson:                   2.119\n",
       "Prob(Omnibus):                  0.567   Jarque-Bera (JB):                0.748\n",
       "Skew:                          -0.047   Prob(JB):                        0.688\n",
       "Kurtosis:                       1.910   Cond. No.                         1.13\n",
       "==============================================================================\n",
       "\n",
       "Notes:\n",
       "[1] Standard Errors assume that the covariance matrix of the errors is correctly specified.\n",
       "\"\"\""
      ]
     },
     "execution_count": 25,
     "metadata": {},
     "output_type": "execute_result"
    }
   ],
   "source": [
    "import numpy as np\n",
    "from scipy import stats\n",
    "\n",
    "model = smf.ols(\n",
    "    \"Hábitos ~ Autocontrol + Estabilidad\",\n",
    "    data=df.select_dtypes(include=[np.number]).dropna().apply(stats.zscore),\n",
    ").fit()\n",
    "model.summary()"
   ]
  },
  {
   "cell_type": "markdown",
   "metadata": {},
   "source": [
    "Además, la estabilidad emocional es más importante que autocontrol en estimar los hábitos, $β_{estabilidad} = .611 > β_{autocontrol} = .411$."
   ]
  }
 ],
 "metadata": {
  "kernelspec": {
   "display_name": "Python 3.7.13 ('stats')",
   "language": "python",
   "name": "python3"
  },
  "language_info": {
   "codemirror_mode": {
    "name": "ipython",
    "version": 3
   },
   "file_extension": ".py",
   "mimetype": "text/x-python",
   "name": "python",
   "nbconvert_exporter": "python",
   "pygments_lexer": "ipython3",
   "version": "3.7.14"
  },
  "orig_nbformat": 4,
  "vscode": {
   "interpreter": {
    "hash": "8df12303a5084d795bcef355ea103bbaab8787933417cf27c2f95a588cdf8ee7"
   }
  }
 },
 "nbformat": 4,
 "nbformat_minor": 2
}
