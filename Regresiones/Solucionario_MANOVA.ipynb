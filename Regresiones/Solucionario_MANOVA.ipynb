{
 "cells": [
  {
   "cell_type": "markdown",
   "metadata": {},
   "source": [
    "# Práctica: MANOVA\n",
    "\n",
    "Eres parte de un equipo de investigación que evalúa la rehabilitación neuropsicológica de pacientes que entraron en estado de coma. Actualmente, se te ha pedido que indagues sobre características sociodemográficas que puedan potencialmente influir en la rehabilitación de estos pacientes. Para ello se te brindan los siguientes datos:"
   ]
  },
  {
   "cell_type": "code",
   "execution_count": 58,
   "metadata": {},
   "outputs": [
    {
     "data": {
      "text/html": [
       "<div>\n",
       "<style scoped>\n",
       "    .dataframe tbody tr th:only-of-type {\n",
       "        vertical-align: middle;\n",
       "    }\n",
       "\n",
       "    .dataframe tbody tr th {\n",
       "        vertical-align: top;\n",
       "    }\n",
       "\n",
       "    .dataframe thead th {\n",
       "        text-align: right;\n",
       "    }\n",
       "</style>\n",
       "<table border=\"1\" class=\"dataframe\">\n",
       "  <thead>\n",
       "    <tr style=\"text-align: right;\">\n",
       "      <th></th>\n",
       "      <th>piq</th>\n",
       "      <th>viq</th>\n",
       "      <th>sex_Male</th>\n",
       "      <th>age_group</th>\n",
       "    </tr>\n",
       "  </thead>\n",
       "  <tbody>\n",
       "    <tr>\n",
       "      <th>0</th>\n",
       "      <td>0.018012</td>\n",
       "      <td>-0.377590</td>\n",
       "      <td>1</td>\n",
       "      <td>adult</td>\n",
       "    </tr>\n",
       "    <tr>\n",
       "      <th>1</th>\n",
       "      <td>0.534757</td>\n",
       "      <td>-1.328667</td>\n",
       "      <td>1</td>\n",
       "      <td>adult</td>\n",
       "    </tr>\n",
       "    <tr>\n",
       "      <th>2</th>\n",
       "      <td>0.534757</td>\n",
       "      <td>1.440707</td>\n",
       "      <td>1</td>\n",
       "      <td>adult</td>\n",
       "    </tr>\n",
       "    <tr>\n",
       "      <th>3</th>\n",
       "      <td>-2.075023</td>\n",
       "      <td>-1.671548</td>\n",
       "      <td>1</td>\n",
       "      <td>adult</td>\n",
       "    </tr>\n",
       "    <tr>\n",
       "      <th>4</th>\n",
       "      <td>-1.422233</td>\n",
       "      <td>-1.671548</td>\n",
       "      <td>1</td>\n",
       "      <td>adult</td>\n",
       "    </tr>\n",
       "    <tr>\n",
       "      <th>...</th>\n",
       "      <td>...</td>\n",
       "      <td>...</td>\n",
       "      <td>...</td>\n",
       "      <td>...</td>\n",
       "    </tr>\n",
       "    <tr>\n",
       "      <th>326</th>\n",
       "      <td>0.904403</td>\n",
       "      <td>-0.760845</td>\n",
       "      <td>1</td>\n",
       "      <td>adult</td>\n",
       "    </tr>\n",
       "    <tr>\n",
       "      <th>327</th>\n",
       "      <td>0.279997</td>\n",
       "      <td>-0.452864</td>\n",
       "      <td>1</td>\n",
       "      <td>adult</td>\n",
       "    </tr>\n",
       "    <tr>\n",
       "      <th>328</th>\n",
       "      <td>0.084214</td>\n",
       "      <td>0.612245</td>\n",
       "      <td>1</td>\n",
       "      <td>minor</td>\n",
       "    </tr>\n",
       "    <tr>\n",
       "      <th>329</th>\n",
       "      <td>0.904403</td>\n",
       "      <td>0.060611</td>\n",
       "      <td>1</td>\n",
       "      <td>minor</td>\n",
       "    </tr>\n",
       "    <tr>\n",
       "      <th>330</th>\n",
       "      <td>-1.114281</td>\n",
       "      <td>-1.671548</td>\n",
       "      <td>1</td>\n",
       "      <td>minor</td>\n",
       "    </tr>\n",
       "  </tbody>\n",
       "</table>\n",
       "<p>331 rows × 4 columns</p>\n",
       "</div>"
      ],
      "text/plain": [
       "          piq       viq  sex_Male age_group\n",
       "0    0.018012 -0.377590         1     adult\n",
       "1    0.534757 -1.328667         1     adult\n",
       "2    0.534757  1.440707         1     adult\n",
       "3   -2.075023 -1.671548         1     adult\n",
       "4   -1.422233 -1.671548         1     adult\n",
       "..        ...       ...       ...       ...\n",
       "326  0.904403 -0.760845         1     adult\n",
       "327  0.279997 -0.452864         1     adult\n",
       "328  0.084214  0.612245         1     minor\n",
       "329  0.904403  0.060611         1     minor\n",
       "330 -1.114281 -1.671548         1     minor\n",
       "\n",
       "[331 rows x 4 columns]"
      ]
     },
     "execution_count": 58,
     "metadata": {},
     "output_type": "execute_result"
    }
   ],
   "source": [
    "import pandas as pd\n",
    "from sklearn.preprocessing import PowerTransformer\n",
    "\n",
    "# Load and prepare data\n",
    "df = pd.read_csv(\"https://socialsciences.mcmaster.ca/jfox/Books/Applied-Regression-3E/datasets/Wong.txt\", sep=r'\\s{1,}', engine='python')\n",
    "df.dropna(inplace=True)\n",
    "category = pd.cut(df.age,bins=[0,17,65,99],labels=['minor','adult','elder'])\n",
    "df.drop(columns=['id','duration', 'days', 'age'], inplace=True)\n",
    "wong_data = pd.get_dummies(df, drop_first = True)\n",
    "wong_data.insert(3,'age_group',category)\n",
    "\n",
    "# Enforce normality for teaching purposes\n",
    "scaler = PowerTransformer()\n",
    "scaled_data = scaler.fit_transform(wong_data[['piq','viq']])\n",
    "wong_data['piq'] = scaled_data[:,0]\n",
    "wong_data['viq'] = scaled_data[:,1]\n",
    "wong_data"
   ]
  },
  {
   "cell_type": "markdown",
   "metadata": {},
   "source": [
    "1. Evalúa el supuesto de normalidad univariante y multivariante de las variables dependientes. "
   ]
  },
  {
   "cell_type": "code",
   "execution_count": 59,
   "metadata": {},
   "outputs": [
    {
     "data": {
      "text/plain": [
       "HZResults(hz=1.0706313106107561, pval=0.05330265179136906, normal=True)"
      ]
     },
     "execution_count": 59,
     "metadata": {},
     "output_type": "execute_result"
    }
   ],
   "source": [
    "import pingouin as pg\n",
    "pg.multivariate_normality(wong_data[['piq','viq']],)"
   ]
  },
  {
   "cell_type": "code",
   "execution_count": 60,
   "metadata": {},
   "outputs": [
    {
     "data": {
      "text/html": [
       "<div>\n",
       "<style scoped>\n",
       "    .dataframe tbody tr th:only-of-type {\n",
       "        vertical-align: middle;\n",
       "    }\n",
       "\n",
       "    .dataframe tbody tr th {\n",
       "        vertical-align: top;\n",
       "    }\n",
       "\n",
       "    .dataframe thead th {\n",
       "        text-align: right;\n",
       "    }\n",
       "</style>\n",
       "<table border=\"1\" class=\"dataframe\">\n",
       "  <thead>\n",
       "    <tr style=\"text-align: right;\">\n",
       "      <th></th>\n",
       "      <th>W</th>\n",
       "      <th>pval</th>\n",
       "      <th>normal</th>\n",
       "    </tr>\n",
       "  </thead>\n",
       "  <tbody>\n",
       "    <tr>\n",
       "      <th>piq</th>\n",
       "      <td>0.996002</td>\n",
       "      <td>0.568481</td>\n",
       "      <td>True</td>\n",
       "    </tr>\n",
       "  </tbody>\n",
       "</table>\n",
       "</div>"
      ],
      "text/plain": [
       "            W      pval  normal\n",
       "piq  0.996002  0.568481    True"
      ]
     },
     "execution_count": 60,
     "metadata": {},
     "output_type": "execute_result"
    }
   ],
   "source": [
    "pg.normality(wong_data['piq'])"
   ]
  },
  {
   "cell_type": "markdown",
   "metadata": {},
   "source": [
    "2. Evalúa el supuesto de homocedasticidad univariante y multivariante de las variables dependientes."
   ]
  },
  {
   "cell_type": "code",
   "execution_count": 63,
   "metadata": {},
   "outputs": [
    {
     "data": {
      "text/html": [
       "<div>\n",
       "<style scoped>\n",
       "    .dataframe tbody tr th:only-of-type {\n",
       "        vertical-align: middle;\n",
       "    }\n",
       "\n",
       "    .dataframe tbody tr th {\n",
       "        vertical-align: top;\n",
       "    }\n",
       "\n",
       "    .dataframe thead th {\n",
       "        text-align: right;\n",
       "    }\n",
       "</style>\n",
       "<table border=\"1\" class=\"dataframe\">\n",
       "  <thead>\n",
       "    <tr style=\"text-align: right;\">\n",
       "      <th></th>\n",
       "      <th>Chi2</th>\n",
       "      <th>df</th>\n",
       "      <th>pval</th>\n",
       "      <th>equal_cov</th>\n",
       "    </tr>\n",
       "  </thead>\n",
       "  <tbody>\n",
       "    <tr>\n",
       "      <th>box</th>\n",
       "      <td>5.67262</td>\n",
       "      <td>6.0</td>\n",
       "      <td>0.460844</td>\n",
       "      <td>True</td>\n",
       "    </tr>\n",
       "  </tbody>\n",
       "</table>\n",
       "</div>"
      ],
      "text/plain": [
       "        Chi2   df      pval  equal_cov\n",
       "box  5.67262  6.0  0.460844       True"
      ]
     },
     "execution_count": 63,
     "metadata": {},
     "output_type": "execute_result"
    }
   ],
   "source": [
    "#pg.box_m(data = wong_data, dvs=['piq','viq'], group='sex_Male')\n",
    "pg.box_m(data = wong_data, dvs=['piq','viq'], group='age_group')"
   ]
  },
  {
   "cell_type": "markdown",
   "metadata": {},
   "source": [
    "3. Verifica que las variables dependientes se encuentren correlacionadas, pero no presenten multicolinealidad extrema. "
   ]
  },
  {
   "cell_type": "code",
   "execution_count": 64,
   "metadata": {},
   "outputs": [
    {
     "data": {
      "text/html": [
       "<div>\n",
       "<style scoped>\n",
       "    .dataframe tbody tr th:only-of-type {\n",
       "        vertical-align: middle;\n",
       "    }\n",
       "\n",
       "    .dataframe tbody tr th {\n",
       "        vertical-align: top;\n",
       "    }\n",
       "\n",
       "    .dataframe thead th {\n",
       "        text-align: right;\n",
       "    }\n",
       "</style>\n",
       "<table border=\"1\" class=\"dataframe\">\n",
       "  <thead>\n",
       "    <tr style=\"text-align: right;\">\n",
       "      <th></th>\n",
       "      <th>piq</th>\n",
       "      <th>viq</th>\n",
       "    </tr>\n",
       "  </thead>\n",
       "  <tbody>\n",
       "    <tr>\n",
       "      <th>piq</th>\n",
       "      <td>1.0000</td>\n",
       "      <td>0.6429</td>\n",
       "    </tr>\n",
       "    <tr>\n",
       "      <th>viq</th>\n",
       "      <td>0.6429</td>\n",
       "      <td>1.0000</td>\n",
       "    </tr>\n",
       "  </tbody>\n",
       "</table>\n",
       "</div>"
      ],
      "text/plain": [
       "        piq     viq\n",
       "piq  1.0000  0.6429\n",
       "viq  0.6429  1.0000"
      ]
     },
     "execution_count": 64,
     "metadata": {},
     "output_type": "execute_result"
    }
   ],
   "source": [
    "wong_data[['piq','viq']].corr()"
   ]
  },
  {
   "cell_type": "code",
   "execution_count": 65,
   "metadata": {},
   "outputs": [
    {
     "name": "stdout",
     "output_type": "stream",
     "text": [
      "Chi-squared:  177.16921642866464\n",
      "p-value:  1.01136845706425e-40\n"
     ]
    }
   ],
   "source": [
    "from factor_analyzer.factor_analyzer import calculate_bartlett_sphericity\n",
    "\n",
    "statistic, p_value = calculate_bartlett_sphericity(wong_data[['piq','viq']])\n",
    "print(\"Chi-squared: \", statistic)\n",
    "print(\"p-value: \", p_value)"
   ]
  },
  {
   "cell_type": "markdown",
   "metadata": {},
   "source": [
    "4. Implementa un modelo MANOVA que satisfaga la ecuación $ Y_{piq} + Y_{viq} = X_{sex} + X_{age \\ group} $. ¿Qué puedes concluir?"
   ]
  },
  {
   "cell_type": "code",
   "execution_count": 66,
   "metadata": {},
   "outputs": [
    {
     "name": "stdout",
     "output_type": "stream",
     "text": [
      "                  Multivariate linear model\n",
      "=============================================================\n",
      "                                                             \n",
      "-------------------------------------------------------------\n",
      "       Intercept        Value  Num DF  Den DF  F Value Pr > F\n",
      "-------------------------------------------------------------\n",
      "          Wilks' lambda 0.9937 2.0000 324.0000  1.0205 0.3616\n",
      "         Pillai's trace 0.0063 2.0000 324.0000  1.0205 0.3616\n",
      " Hotelling-Lawley trace 0.0063 2.0000 324.0000  1.0205 0.3616\n",
      "    Roy's greatest root 0.0063 2.0000 324.0000  1.0205 0.3616\n",
      "-------------------------------------------------------------\n",
      "                                                             \n",
      "-------------------------------------------------------------\n",
      "       age_group        Value  Num DF  Den DF  F Value Pr > F\n",
      "-------------------------------------------------------------\n",
      "          Wilks' lambda 0.9813 4.0000 648.0000  1.5383 0.1894\n",
      "         Pillai's trace 0.0188 4.0000 650.0000  1.5421 0.1883\n",
      " Hotelling-Lawley trace 0.0190 4.0000 387.7624  1.5377 0.1905\n",
      "    Roy's greatest root 0.0129 2.0000 325.0000  2.0966 0.1245\n",
      "-------------------------------------------------------------\n",
      "                                                             \n",
      "-------------------------------------------------------------\n",
      "        sex_Male        Value  Num DF  Den DF  F Value Pr > F\n",
      "-------------------------------------------------------------\n",
      "          Wilks' lambda 0.9946 2.0000 324.0000  0.8833 0.4144\n",
      "         Pillai's trace 0.0054 2.0000 324.0000  0.8833 0.4144\n",
      " Hotelling-Lawley trace 0.0055 2.0000 324.0000  0.8833 0.4144\n",
      "    Roy's greatest root 0.0055 2.0000 324.0000  0.8833 0.4144\n",
      "-------------------------------------------------------------\n",
      "                                                             \n",
      "-------------------------------------------------------------\n",
      "   sex_Male:age_group   Value  Num DF  Den DF  F Value Pr > F\n",
      "-------------------------------------------------------------\n",
      "          Wilks' lambda 0.9758 4.0000 648.0000  1.9996 0.0930\n",
      "         Pillai's trace 0.0243 4.0000 650.0000  2.0020 0.0926\n",
      " Hotelling-Lawley trace 0.0247 4.0000 387.7624  2.0014 0.0936\n",
      "    Roy's greatest root 0.0193 2.0000 325.0000  3.1349 0.0448\n",
      "=============================================================\n",
      "\n"
     ]
    }
   ],
   "source": [
    "from statsmodels.multivariate.manova import MANOVA\n",
    "\n",
    "maov = MANOVA.from_formula('piq + viq  ~ sex_Male * age_group', data=wong_data)\n",
    "print(maov.mv_test())"
   ]
  },
  {
   "cell_type": "markdown",
   "metadata": {},
   "source": [
    "5. Verifica si las diferencias significativas encontradas con tu modelo MANOVA se replican con cada variable dependiente por separado. ¿Qué puedes concluir?"
   ]
  },
  {
   "cell_type": "code",
   "execution_count": 70,
   "metadata": {},
   "outputs": [
    {
     "name": "stdout",
     "output_type": "stream",
     "text": [
      "                       df      sum_sq   mean_sq         F    PR(>F)\n",
      "age_group             2.0    0.398722  0.199361  0.198371  0.820164\n",
      "sex_Male              1.0    0.794283  0.794283  0.790340  0.374655\n",
      "sex_Male:age_group    2.0    3.185660  1.592830  1.584923  0.206544\n",
      "Residual            325.0  326.621335  1.004989       NaN       NaN\n",
      "                       df      sum_sq   mean_sq         F    PR(>F)\n",
      "age_group             2.0    1.214393  0.607197  0.602760  0.547910\n",
      "sex_Male              1.0    0.291551  0.291551  0.289420  0.590961\n",
      "sex_Male:age_group    2.0    2.101741  1.050871  1.043192  0.353505\n",
      "Residual            325.0  327.392315  1.007361       NaN       NaN\n"
     ]
    }
   ],
   "source": [
    "import statsmodels.formula.api as smf\n",
    "import statsmodels.api as sm\n",
    "\n",
    "# generate model for linear regression\n",
    "my_model_1 = smf.ols(formula='piq ~ sex_Male*age_group', data=wong_data)\n",
    "my_model_2 = smf.ols(formula='viq ~ sex_Male*age_group', data=wong_data)\n",
    "\n",
    "# show anova table\n",
    "print(sm.stats.anova_lm(my_model_1.fit()))\n",
    "print(sm.stats.anova_lm(my_model_2.fit()))"
   ]
  }
 ],
 "metadata": {
  "interpreter": {
   "hash": "f9f85f796d01129d0dd105a088854619f454435301f6ffec2fea96ecbd9be4ac"
  },
  "kernelspec": {
   "display_name": "Python 3.9.5 64-bit",
   "language": "python",
   "name": "python3"
  },
  "language_info": {
   "codemirror_mode": {
    "name": "ipython",
    "version": 3
   },
   "file_extension": ".py",
   "mimetype": "text/x-python",
   "name": "python",
   "nbconvert_exporter": "python",
   "pygments_lexer": "ipython3",
   "version": "3.8.10"
  },
  "orig_nbformat": 4
 },
 "nbformat": 4,
 "nbformat_minor": 2
}
