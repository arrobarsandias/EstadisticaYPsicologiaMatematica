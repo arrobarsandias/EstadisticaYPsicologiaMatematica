{
 "cells": [
  {
   "cell_type": "markdown",
   "metadata": {
    "slideshow": {
     "slide_type": "slide"
    }
   },
   "source": [
    "# Estadística Descriptiva\n",
    "\n",
    ">Este tutorial es una adaptación al español del material [Statistical Thinking for the 21st Century](https://statsthinking21.github.io/statsthinking21-core-site/) desarrollado por Russell Poldrack. "
   ]
  },
  {
   "cell_type": "markdown",
   "metadata": {
    "slideshow": {
     "slide_type": "subslide"
    }
   },
   "source": [
    "- Mediante la estadística descriptiva se agrupan datos numéricos: se pierde información detallada pero se gana en síntesis.\n",
    "- Permite describir a un conjunto de datos correspondientes a una característica o propiedad de un conjunto de objetos indicando la tendencia central y la dispersión de los datos.\n",
    "- La tendencia central permite representar al conjunto de datos.\n",
    "- La dispersión permite representar la variabilidad de los datos."
   ]
  },
  {
   "cell_type": "markdown",
   "metadata": {
    "slideshow": {
     "slide_type": "slide"
    }
   },
   "source": [
    "## Resumiendo datos con la media\n",
    "\n",
    "Ya nos hemos encontrado con la media (o el promedio) anteriormente y, de hecho, la mayoría de las personas conocen el promedio incluso si nunca han tomado una clase de estadística. \n",
    "\n",
    "Se usa comúnmente para describir lo que llamamos la \"tendencia central\" de un conjunto de datos, es decir, ¿en qué valor se centran los datos? **La mayoría de la gente no piensa en calcular una media como ajustar un modelo a los datos**. Sin embargo, eso es exactamente lo que estamos haciendo cuando calculamos la media."
   ]
  },
  {
   "cell_type": "markdown",
   "metadata": {
    "slideshow": {
     "slide_type": "subslide"
    }
   },
   "source": [
    "Repasemos la fórmula para calcular la media de una muestra de datos:\n",
    "\n",
    "$$ \\bar{X}=\\frac{\\sum_{i=1}^{n}x_{i}}{n} $$\n",
    "\n",
    "Tenga en cuenta que dije que esta fórmula era específicamente para una **muestra de datos**, que es un conjunto de puntos de datos seleccionados de una población más grande. \n",
    "\n",
    "**Utilizando una muestra, deseamos caracterizar una población más grande**: el conjunto completo de individuos que nos interesan. Por ejemplo, si somos encuestadores políticos, nuestra población de interés podría ser todos votantes registrados, mientras que nuestra muestra podría incluir solo unos pocos miles de personas muestreadas de esta población. "
   ]
  },
  {
   "cell_type": "markdown",
   "metadata": {
    "slideshow": {
     "slide_type": "subslide"
    }
   },
   "source": [
    "De momento no cubriremos a detalle sobre el muestreo, pero por ahora el punto importante es que **a los estadísticos generalmente les gusta usar diferentes símbolos para diferenciar las estadísticas que describen los valores de una muestra de los parámetros que describen los valores verdaderos de una población**; en este caso, la fórmula para la media poblacional (denotada como $\\mu$) es:\n",
    "\n",
    "$$ \\mu=\\frac{\\sum_{i=1}^{n}x_{i}}{N} $$\n",
    "\n",
    "donde N es el tamaño de toda la población."
   ]
  },
  {
   "cell_type": "markdown",
   "metadata": {
    "slideshow": {
     "slide_type": "skip"
    }
   },
   "source": [
    "La mayoría de las medidas de tendencia central se pueden calcular utilizando alguna función de Python, pero mostraremos cómo hacerlo manualmente para dar algo de intuición sobre cómo funcionan. Primero carguemos los datos de NHANES que usaremos para nuestros ejemplos:"
   ]
  },
  {
   "cell_type": "code",
   "execution_count": 2,
   "metadata": {
    "slideshow": {
     "slide_type": "skip"
    }
   },
   "outputs": [
    {
     "name": "stdout",
     "output_type": "stream",
     "text": [
      "Collecting nhanes\n",
      "  Downloading nhanes-0.5.1-py3-none-any.whl (1.6 MB)\n",
      "\u001b[K     |████████████████████████████████| 1.6 MB 561 kB/s \n",
      "\u001b[?25hInstalling collected packages: nhanes\n",
      "Successfully installed nhanes-0.5.1\n"
     ]
    }
   ],
   "source": [
    "!pip install nhanes"
   ]
  },
  {
   "cell_type": "code",
   "execution_count": null,
   "metadata": {},
   "outputs": [],
   "source": [
    "from nhanes.load import load_NHANES_data\n",
    "\n",
    "nhanes_data = load_NHANES_data()\n",
    "adult_nhanes_data = nhanes_data.query(\"AgeInYearsAtScreening > 17\")"
   ]
  },
  {
   "cell_type": "markdown",
   "metadata": {
    "slideshow": {
     "slide_type": "skip"
    }
   },
   "source": [
    "Dado que analizaremos la variable `StandingHeightCm`, debemos excluir cualquier observación a la que le falte esta medida. También recodificaremos la variable para que se llame `Height` para simplificar la codificación más adelante."
   ]
  },
  {
   "cell_type": "code",
   "execution_count": 3,
   "metadata": {
    "slideshow": {
     "slide_type": "skip"
    }
   },
   "outputs": [],
   "source": [
    "adult_nhanes_data = adult_nhanes_data.dropna(\n",
    "    subset=[\"StandingHeightCm\"]\n",
    ").rename(columns={\"StandingHeightCm\": \"Height\"})"
   ]
  },
  {
   "cell_type": "markdown",
   "metadata": {
    "slideshow": {
     "slide_type": "skip"
    }
   },
   "source": [
    "La media se define como la suma de valores dividida por el número de valores que se suman. Supongamos que queremos obtener la altura media de los adultos en la base de datos de NHANES (contenida en los datos de Altura que generamos anteriormente). Sumaríamos las alturas individuales (usando el operador `.sum()`) y luego dividiríamos por el número de valores:"
   ]
  },
  {
   "cell_type": "code",
   "execution_count": 4,
   "metadata": {
    "slideshow": {
     "slide_type": "skip"
    }
   },
   "outputs": [
    {
     "data": {
      "text/plain": [
       "166.3623438648053"
      ]
     },
     "execution_count": 4,
     "metadata": {},
     "output_type": "execute_result"
    }
   ],
   "source": [
    "adult_nhanes_data[\"Height\"].sum() / adult_nhanes_data[\"Height\"].shape[0]"
   ]
  },
  {
   "cell_type": "markdown",
   "metadata": {
    "slideshow": {
     "slide_type": "skip"
    }
   },
   "source": [
    "Por supuesto, hay un operador incorporado en el Data Frame llamado `.mean()` que calculará la media:"
   ]
  },
  {
   "cell_type": "code",
   "execution_count": 5,
   "metadata": {
    "hideCode": false,
    "hidePrompt": false,
    "slideshow": {
     "slide_type": "skip"
    }
   },
   "outputs": [
    {
     "data": {
      "text/plain": [
       "166.36234386480572"
      ]
     },
     "execution_count": 5,
     "metadata": {},
     "output_type": "execute_result"
    }
   ],
   "source": [
    "adult_nhanes_data[\"Height\"].mean()"
   ]
  },
  {
   "cell_type": "markdown",
   "metadata": {
    "slideshow": {
     "slide_type": "slide"
    }
   },
   "source": [
    "Ya hemos visto que la media es el estimador que está garantizado para darnos un error promedio de cero, pero también aprendimos que el error promedio no es el mejor criterio; en cambio, **queremos un estimador que nos dé la suma más baja de errores al cuadrado (SSE), que también lo hace la media**. \n",
    "\n",
    "Podríamos probar esto usando cálculo, pero en su lugar lo demostraremos gráficamente:"
   ]
  },
  {
   "cell_type": "code",
   "execution_count": 6,
   "metadata": {
    "hideCode": true,
    "hidePrompt": true,
    "slideshow": {
     "slide_type": "subslide"
    }
   },
   "outputs": [
    {
     "data": {
      "image/png": "[encoded data removed]",
      "image/svg+xml": "<?xml version=\"1.0\" encoding=\"utf-8\" standalone=\"no\"?>\n<!DOCTYPE svg PUBLIC \"-//W3C//DTD SVG 1.1//EN\"\n  \"http://www.w3.org/Graphics/SVG/1.1/DTD/svg11.dtd\">\n<!-- Created with matplotlib (https://matplotlib.org/) -->\n<svg height=\"276.665937pt\" version=\"1.1\" viewBox=\"0 0 383.06108 276.665937\" width=\"383.06108pt\" xmlns=\"http://www.w3.org/2000/svg\" xmlns:xlink=\"http://www.w3.org/1999/xlink\">\n <metadata>\n  <rdf:RDF xmlns:cc=\"http://creativecommons.org/ns#\" xmlns:dc=\"http://purl.org/dc/elements/1.1/\" xmlns:rdf=\"http://www.w3.org/1999/02/22-rdf-syntax-ns#\">\n   <cc:Work>\n    <dc:type rdf:resource=\"http://purl.org/dc/dcmitype/StillImage\"/>\n    <dc:date>2021-09-01T22:29:10.017213</dc:date>\n    <dc:format>image/svg+xml</dc:format>\n    <dc:creator>\n     <cc:Agent>\n      <dc:title>Matplotlib v3.3.4, https://matplotlib.org/</dc:title>\n     </cc:Agent>\n    </dc:creator>\n   </cc:Work>\n  </rdf:RDF>\n </metadata>\n <defs>\n  <style type=\"text/css\">*{stroke-linecap:butt;stroke-linejoin:round;}</style>\n </defs>\n <g id=\"figure_1\">\n  <g id=\"patch_1\">\n   <path d=\"M 0 276.665937 \nL 383.06108 276.665937 \nL 383.06108 0 \nL 0 0 \nz\n\" style=\"fill:none;\"/>\n  </g>\n  <g id=\"axes_1\">\n   <g id=\"patch_2\">\n    <path d=\"M 38.111875 235.238437 \nL 372.911875 235.238437 \nL 372.911875 17.798437 \nL 38.111875 17.798437 \nz\n\" style=\"fill:#ffffff;\"/>\n   </g>\n   <g id=\"matplotlib.axis_1\">\n    <g id=\"xtick_1\">\n     <g id=\"line2d_1\">\n      <defs>\n       <path d=\"M 0 0 \nL 0 3.5 \n\" id=\"m3d565bf347\" style=\"stroke:#000000;stroke-width:0.8;\"/>\n      </defs>\n      <g>\n       <use style=\"stroke:#000000;stroke-width:0.8;\" x=\"61.953693\" xlink:href=\"#m3d565bf347\" y=\"235.238437\"/>\n      </g>\n     </g>\n     <g id=\"text_1\">\n      <!-- 140 -->\n      <g transform=\"translate(52.409943 249.836875)scale(0.1 -0.1)\">\n       <defs>\n        <path d=\"M 12.40625 8.296875 \nL 28.515625 8.296875 \nL 28.515625 63.921875 \nL 10.984375 60.40625 \nL 10.984375 69.390625 \nL 28.421875 72.90625 \nL 38.28125 72.90625 \nL 38.28125 8.296875 \nL 54.390625 8.296875 \nL 54.390625 0 \nL 12.40625 0 \nz\n\" id=\"DejaVuSans-49\"/>\n        <path d=\"M 37.796875 64.3125 \nL 12.890625 25.390625 \nL 37.796875 25.390625 \nz\nM 35.203125 72.90625 \nL 47.609375 72.90625 \nL 47.609375 25.390625 \nL 58.015625 25.390625 \nL 58.015625 17.1875 \nL 47.609375 17.1875 \nL 47.609375 0 \nL 37.796875 0 \nL 37.796875 17.1875 \nL 4.890625 17.1875 \nL 4.890625 26.703125 \nz\n\" id=\"DejaVuSans-52\"/>\n        <path d=\"M 31.78125 66.40625 \nQ 24.171875 66.40625 20.328125 58.90625 \nQ 16.5 51.421875 16.5 36.375 \nQ 16.5 21.390625 20.328125 13.890625 \nQ 24.171875 6.390625 31.78125 6.390625 \nQ 39.453125 6.390625 43.28125 13.890625 \nQ 47.125 21.390625 47.125 36.375 \nQ 47.125 51.421875 43.28125 58.90625 \nQ 39.453125 66.40625 31.78125 66.40625 \nz\nM 31.78125 74.21875 \nQ 44.046875 74.21875 50.515625 64.515625 \nQ 56.984375 54.828125 56.984375 36.375 \nQ 56.984375 17.96875 50.515625 8.265625 \nQ 44.046875 -1.421875 31.78125 -1.421875 \nQ 19.53125 -1.421875 13.0625 8.265625 \nQ 6.59375 17.96875 6.59375 36.375 \nQ 6.59375 54.828125 13.0625 64.515625 \nQ 19.53125 74.21875 31.78125 74.21875 \nz\n\" id=\"DejaVuSans-48\"/>\n       </defs>\n       <use xlink:href=\"#DejaVuSans-49\"/>\n       <use x=\"63.623047\" xlink:href=\"#DejaVuSans-52\"/>\n       <use x=\"127.246094\" xlink:href=\"#DejaVuSans-48\"/>\n      </g>\n     </g>\n    </g>\n    <g id=\"xtick_2\">\n     <g id=\"line2d_2\">\n      <g>\n       <use style=\"stroke:#000000;stroke-width:0.8;\" x=\"112.680966\" xlink:href=\"#m3d565bf347\" y=\"235.238437\"/>\n      </g>\n     </g>\n     <g id=\"text_2\">\n      <!-- 150 -->\n      <g transform=\"translate(103.137216 249.836875)scale(0.1 -0.1)\">\n       <defs>\n        <path d=\"M 10.796875 72.90625 \nL 49.515625 72.90625 \nL 49.515625 64.59375 \nL 19.828125 64.59375 \nL 19.828125 46.734375 \nQ 21.96875 47.46875 24.109375 47.828125 \nQ 26.265625 48.1875 28.421875 48.1875 \nQ 40.625 48.1875 47.75 41.5 \nQ 54.890625 34.8125 54.890625 23.390625 \nQ 54.890625 11.625 47.5625 5.09375 \nQ 40.234375 -1.421875 26.90625 -1.421875 \nQ 22.3125 -1.421875 17.546875 -0.640625 \nQ 12.796875 0.140625 7.71875 1.703125 \nL 7.71875 11.625 \nQ 12.109375 9.234375 16.796875 8.0625 \nQ 21.484375 6.890625 26.703125 6.890625 \nQ 35.15625 6.890625 40.078125 11.328125 \nQ 45.015625 15.765625 45.015625 23.390625 \nQ 45.015625 31 40.078125 35.4375 \nQ 35.15625 39.890625 26.703125 39.890625 \nQ 22.75 39.890625 18.8125 39.015625 \nQ 14.890625 38.140625 10.796875 36.28125 \nz\n\" id=\"DejaVuSans-53\"/>\n       </defs>\n       <use xlink:href=\"#DejaVuSans-49\"/>\n       <use x=\"63.623047\" xlink:href=\"#DejaVuSans-53\"/>\n       <use x=\"127.246094\" xlink:href=\"#DejaVuSans-48\"/>\n      </g>\n     </g>\n    </g>\n    <g id=\"xtick_3\">\n     <g id=\"line2d_3\">\n      <g>\n       <use style=\"stroke:#000000;stroke-width:0.8;\" x=\"163.408239\" xlink:href=\"#m3d565bf347\" y=\"235.238437\"/>\n      </g>\n     </g>\n     <g id=\"text_3\">\n      <!-- 160 -->\n      <g transform=\"translate(153.864489 249.836875)scale(0.1 -0.1)\">\n       <defs>\n        <path d=\"M 33.015625 40.375 \nQ 26.375 40.375 22.484375 35.828125 \nQ 18.609375 31.296875 18.609375 23.390625 \nQ 18.609375 15.53125 22.484375 10.953125 \nQ 26.375 6.390625 33.015625 6.390625 \nQ 39.65625 6.390625 43.53125 10.953125 \nQ 47.40625 15.53125 47.40625 23.390625 \nQ 47.40625 31.296875 43.53125 35.828125 \nQ 39.65625 40.375 33.015625 40.375 \nz\nM 52.59375 71.296875 \nL 52.59375 62.3125 \nQ 48.875 64.0625 45.09375 64.984375 \nQ 41.3125 65.921875 37.59375 65.921875 \nQ 27.828125 65.921875 22.671875 59.328125 \nQ 17.53125 52.734375 16.796875 39.40625 \nQ 19.671875 43.65625 24.015625 45.921875 \nQ 28.375 48.1875 33.59375 48.1875 \nQ 44.578125 48.1875 50.953125 41.515625 \nQ 57.328125 34.859375 57.328125 23.390625 \nQ 57.328125 12.15625 50.6875 5.359375 \nQ 44.046875 -1.421875 33.015625 -1.421875 \nQ 20.359375 -1.421875 13.671875 8.265625 \nQ 6.984375 17.96875 6.984375 36.375 \nQ 6.984375 53.65625 15.1875 63.9375 \nQ 23.390625 74.21875 37.203125 74.21875 \nQ 40.921875 74.21875 44.703125 73.484375 \nQ 48.484375 72.75 52.59375 71.296875 \nz\n\" id=\"DejaVuSans-54\"/>\n       </defs>\n       <use xlink:href=\"#DejaVuSans-49\"/>\n       <use x=\"63.623047\" xlink:href=\"#DejaVuSans-54\"/>\n       <use x=\"127.246094\" xlink:href=\"#DejaVuSans-48\"/>\n      </g>\n     </g>\n    </g>\n    <g id=\"xtick_4\">\n     <g id=\"line2d_4\">\n      <g>\n       <use style=\"stroke:#000000;stroke-width:0.8;\" x=\"214.135511\" xlink:href=\"#m3d565bf347\" y=\"235.238437\"/>\n      </g>\n     </g>\n     <g id=\"text_4\">\n      <!-- 170 -->\n      <g transform=\"translate(204.591761 249.836875)scale(0.1 -0.1)\">\n       <defs>\n        <path d=\"M 8.203125 72.90625 \nL 55.078125 72.90625 \nL 55.078125 68.703125 \nL 28.609375 0 \nL 18.3125 0 \nL 43.21875 64.59375 \nL 8.203125 64.59375 \nz\n\" id=\"DejaVuSans-55\"/>\n       </defs>\n       <use xlink:href=\"#DejaVuSans-49\"/>\n       <use x=\"63.623047\" xlink:href=\"#DejaVuSans-55\"/>\n       <use x=\"127.246094\" xlink:href=\"#DejaVuSans-48\"/>\n      </g>\n     </g>\n    </g>\n    <g id=\"xtick_5\">\n     <g id=\"line2d_5\">\n      <g>\n       <use style=\"stroke:#000000;stroke-width:0.8;\" x=\"264.862784\" xlink:href=\"#m3d565bf347\" y=\"235.238437\"/>\n      </g>\n     </g>\n     <g id=\"text_5\">\n      <!-- 180 -->\n      <g transform=\"translate(255.319034 249.836875)scale(0.1 -0.1)\">\n       <defs>\n        <path d=\"M 31.78125 34.625 \nQ 24.75 34.625 20.71875 30.859375 \nQ 16.703125 27.09375 16.703125 20.515625 \nQ 16.703125 13.921875 20.71875 10.15625 \nQ 24.75 6.390625 31.78125 6.390625 \nQ 38.8125 6.390625 42.859375 10.171875 \nQ 46.921875 13.96875 46.921875 20.515625 \nQ 46.921875 27.09375 42.890625 30.859375 \nQ 38.875 34.625 31.78125 34.625 \nz\nM 21.921875 38.8125 \nQ 15.578125 40.375 12.03125 44.71875 \nQ 8.5 49.078125 8.5 55.328125 \nQ 8.5 64.0625 14.71875 69.140625 \nQ 20.953125 74.21875 31.78125 74.21875 \nQ 42.671875 74.21875 48.875 69.140625 \nQ 55.078125 64.0625 55.078125 55.328125 \nQ 55.078125 49.078125 51.53125 44.71875 \nQ 48 40.375 41.703125 38.8125 \nQ 48.828125 37.15625 52.796875 32.3125 \nQ 56.78125 27.484375 56.78125 20.515625 \nQ 56.78125 9.90625 50.3125 4.234375 \nQ 43.84375 -1.421875 31.78125 -1.421875 \nQ 19.734375 -1.421875 13.25 4.234375 \nQ 6.78125 9.90625 6.78125 20.515625 \nQ 6.78125 27.484375 10.78125 32.3125 \nQ 14.796875 37.15625 21.921875 38.8125 \nz\nM 18.3125 54.390625 \nQ 18.3125 48.734375 21.84375 45.5625 \nQ 25.390625 42.390625 31.78125 42.390625 \nQ 38.140625 42.390625 41.71875 45.5625 \nQ 45.3125 48.734375 45.3125 54.390625 \nQ 45.3125 60.0625 41.71875 63.234375 \nQ 38.140625 66.40625 31.78125 66.40625 \nQ 25.390625 66.40625 21.84375 63.234375 \nQ 18.3125 60.0625 18.3125 54.390625 \nz\n\" id=\"DejaVuSans-56\"/>\n       </defs>\n       <use xlink:href=\"#DejaVuSans-49\"/>\n       <use x=\"63.623047\" xlink:href=\"#DejaVuSans-56\"/>\n       <use x=\"127.246094\" xlink:href=\"#DejaVuSans-48\"/>\n      </g>\n     </g>\n    </g>\n    <g id=\"xtick_6\">\n     <g id=\"line2d_6\">\n      <g>\n       <use style=\"stroke:#000000;stroke-width:0.8;\" x=\"315.590057\" xlink:href=\"#m3d565bf347\" y=\"235.238437\"/>\n      </g>\n     </g>\n     <g id=\"text_6\">\n      <!-- 190 -->\n      <g transform=\"translate(306.046307 249.836875)scale(0.1 -0.1)\">\n       <defs>\n        <path d=\"M 10.984375 1.515625 \nL 10.984375 10.5 \nQ 14.703125 8.734375 18.5 7.8125 \nQ 22.3125 6.890625 25.984375 6.890625 \nQ 35.75 6.890625 40.890625 13.453125 \nQ 46.046875 20.015625 46.78125 33.40625 \nQ 43.953125 29.203125 39.59375 26.953125 \nQ 35.25 24.703125 29.984375 24.703125 \nQ 19.046875 24.703125 12.671875 31.3125 \nQ 6.296875 37.9375 6.296875 49.421875 \nQ 6.296875 60.640625 12.9375 67.421875 \nQ 19.578125 74.21875 30.609375 74.21875 \nQ 43.265625 74.21875 49.921875 64.515625 \nQ 56.59375 54.828125 56.59375 36.375 \nQ 56.59375 19.140625 48.40625 8.859375 \nQ 40.234375 -1.421875 26.421875 -1.421875 \nQ 22.703125 -1.421875 18.890625 -0.6875 \nQ 15.09375 0.046875 10.984375 1.515625 \nz\nM 30.609375 32.421875 \nQ 37.25 32.421875 41.125 36.953125 \nQ 45.015625 41.5 45.015625 49.421875 \nQ 45.015625 57.28125 41.125 61.84375 \nQ 37.25 66.40625 30.609375 66.40625 \nQ 23.96875 66.40625 20.09375 61.84375 \nQ 16.21875 57.28125 16.21875 49.421875 \nQ 16.21875 41.5 20.09375 36.953125 \nQ 23.96875 32.421875 30.609375 32.421875 \nz\n\" id=\"DejaVuSans-57\"/>\n       </defs>\n       <use xlink:href=\"#DejaVuSans-49\"/>\n       <use x=\"63.623047\" xlink:href=\"#DejaVuSans-57\"/>\n       <use x=\"127.246094\" xlink:href=\"#DejaVuSans-48\"/>\n      </g>\n     </g>\n    </g>\n    <g id=\"xtick_7\">\n     <g id=\"line2d_7\">\n      <g>\n       <use style=\"stroke:#000000;stroke-width:0.8;\" x=\"366.31733\" xlink:href=\"#m3d565bf347\" y=\"235.238437\"/>\n      </g>\n     </g>\n     <g id=\"text_7\">\n      <!-- 200 -->\n      <g transform=\"translate(356.77358 249.836875)scale(0.1 -0.1)\">\n       <defs>\n        <path d=\"M 19.1875 8.296875 \nL 53.609375 8.296875 \nL 53.609375 0 \nL 7.328125 0 \nL 7.328125 8.296875 \nQ 12.9375 14.109375 22.625 23.890625 \nQ 32.328125 33.6875 34.8125 36.53125 \nQ 39.546875 41.84375 41.421875 45.53125 \nQ 43.3125 49.21875 43.3125 52.78125 \nQ 43.3125 58.59375 39.234375 62.25 \nQ 35.15625 65.921875 28.609375 65.921875 \nQ 23.96875 65.921875 18.8125 64.3125 \nQ 13.671875 62.703125 7.8125 59.421875 \nL 7.8125 69.390625 \nQ 13.765625 71.78125 18.9375 73 \nQ 24.125 74.21875 28.421875 74.21875 \nQ 39.75 74.21875 46.484375 68.546875 \nQ 53.21875 62.890625 53.21875 53.421875 \nQ 53.21875 48.921875 51.53125 44.890625 \nQ 49.859375 40.875 45.40625 35.40625 \nQ 44.1875 33.984375 37.640625 27.21875 \nQ 31.109375 20.453125 19.1875 8.296875 \nz\n\" id=\"DejaVuSans-50\"/>\n       </defs>\n       <use xlink:href=\"#DejaVuSans-50\"/>\n       <use x=\"63.623047\" xlink:href=\"#DejaVuSans-48\"/>\n       <use x=\"127.246094\" xlink:href=\"#DejaVuSans-48\"/>\n      </g>\n     </g>\n    </g>\n    <g id=\"text_8\">\n     <!-- Valor de prueba -->\n     <g transform=\"translate(149.871719 266.554375)scale(0.14 -0.14)\">\n      <defs>\n       <path d=\"M 28.609375 0 \nL 0.78125 72.90625 \nL 11.078125 72.90625 \nL 34.1875 11.53125 \nL 57.328125 72.90625 \nL 67.578125 72.90625 \nL 39.796875 0 \nz\n\" id=\"DejaVuSans-86\"/>\n       <path d=\"M 34.28125 27.484375 \nQ 23.390625 27.484375 19.1875 25 \nQ 14.984375 22.515625 14.984375 16.5 \nQ 14.984375 11.71875 18.140625 8.90625 \nQ 21.296875 6.109375 26.703125 6.109375 \nQ 34.1875 6.109375 38.703125 11.40625 \nQ 43.21875 16.703125 43.21875 25.484375 \nL 43.21875 27.484375 \nz\nM 52.203125 31.203125 \nL 52.203125 0 \nL 43.21875 0 \nL 43.21875 8.296875 \nQ 40.140625 3.328125 35.546875 0.953125 \nQ 30.953125 -1.421875 24.3125 -1.421875 \nQ 15.921875 -1.421875 10.953125 3.296875 \nQ 6 8.015625 6 15.921875 \nQ 6 25.140625 12.171875 29.828125 \nQ 18.359375 34.515625 30.609375 34.515625 \nL 43.21875 34.515625 \nL 43.21875 35.40625 \nQ 43.21875 41.609375 39.140625 45 \nQ 35.0625 48.390625 27.6875 48.390625 \nQ 23 48.390625 18.546875 47.265625 \nQ 14.109375 46.140625 10.015625 43.890625 \nL 10.015625 52.203125 \nQ 14.9375 54.109375 19.578125 55.046875 \nQ 24.21875 56 28.609375 56 \nQ 40.484375 56 46.34375 49.84375 \nQ 52.203125 43.703125 52.203125 31.203125 \nz\n\" id=\"DejaVuSans-97\"/>\n       <path d=\"M 9.421875 75.984375 \nL 18.40625 75.984375 \nL 18.40625 0 \nL 9.421875 0 \nz\n\" id=\"DejaVuSans-108\"/>\n       <path d=\"M 30.609375 48.390625 \nQ 23.390625 48.390625 19.1875 42.75 \nQ 14.984375 37.109375 14.984375 27.296875 \nQ 14.984375 17.484375 19.15625 11.84375 \nQ 23.34375 6.203125 30.609375 6.203125 \nQ 37.796875 6.203125 41.984375 11.859375 \nQ 46.1875 17.53125 46.1875 27.296875 \nQ 46.1875 37.015625 41.984375 42.703125 \nQ 37.796875 48.390625 30.609375 48.390625 \nz\nM 30.609375 56 \nQ 42.328125 56 49.015625 48.375 \nQ 55.71875 40.765625 55.71875 27.296875 \nQ 55.71875 13.875 49.015625 6.21875 \nQ 42.328125 -1.421875 30.609375 -1.421875 \nQ 18.84375 -1.421875 12.171875 6.21875 \nQ 5.515625 13.875 5.515625 27.296875 \nQ 5.515625 40.765625 12.171875 48.375 \nQ 18.84375 56 30.609375 56 \nz\n\" id=\"DejaVuSans-111\"/>\n       <path d=\"M 41.109375 46.296875 \nQ 39.59375 47.171875 37.8125 47.578125 \nQ 36.03125 48 33.890625 48 \nQ 26.265625 48 22.1875 43.046875 \nQ 18.109375 38.09375 18.109375 28.8125 \nL 18.109375 0 \nL 9.078125 0 \nL 9.078125 54.6875 \nL 18.109375 54.6875 \nL 18.109375 46.1875 \nQ 20.953125 51.171875 25.484375 53.578125 \nQ 30.03125 56 36.53125 56 \nQ 37.453125 56 38.578125 55.875 \nQ 39.703125 55.765625 41.0625 55.515625 \nz\n\" id=\"DejaVuSans-114\"/>\n       <path id=\"DejaVuSans-32\"/>\n       <path d=\"M 45.40625 46.390625 \nL 45.40625 75.984375 \nL 54.390625 75.984375 \nL 54.390625 0 \nL 45.40625 0 \nL 45.40625 8.203125 \nQ 42.578125 3.328125 38.25 0.953125 \nQ 33.9375 -1.421875 27.875 -1.421875 \nQ 17.96875 -1.421875 11.734375 6.484375 \nQ 5.515625 14.40625 5.515625 27.296875 \nQ 5.515625 40.1875 11.734375 48.09375 \nQ 17.96875 56 27.875 56 \nQ 33.9375 56 38.25 53.625 \nQ 42.578125 51.265625 45.40625 46.390625 \nz\nM 14.796875 27.296875 \nQ 14.796875 17.390625 18.875 11.75 \nQ 22.953125 6.109375 30.078125 6.109375 \nQ 37.203125 6.109375 41.296875 11.75 \nQ 45.40625 17.390625 45.40625 27.296875 \nQ 45.40625 37.203125 41.296875 42.84375 \nQ 37.203125 48.484375 30.078125 48.484375 \nQ 22.953125 48.484375 18.875 42.84375 \nQ 14.796875 37.203125 14.796875 27.296875 \nz\n\" id=\"DejaVuSans-100\"/>\n       <path d=\"M 56.203125 29.59375 \nL 56.203125 25.203125 \nL 14.890625 25.203125 \nQ 15.484375 15.921875 20.484375 11.0625 \nQ 25.484375 6.203125 34.421875 6.203125 \nQ 39.59375 6.203125 44.453125 7.46875 \nQ 49.3125 8.734375 54.109375 11.28125 \nL 54.109375 2.78125 \nQ 49.265625 0.734375 44.1875 -0.34375 \nQ 39.109375 -1.421875 33.890625 -1.421875 \nQ 20.796875 -1.421875 13.15625 6.1875 \nQ 5.515625 13.8125 5.515625 26.8125 \nQ 5.515625 40.234375 12.765625 48.109375 \nQ 20.015625 56 32.328125 56 \nQ 43.359375 56 49.78125 48.890625 \nQ 56.203125 41.796875 56.203125 29.59375 \nz\nM 47.21875 32.234375 \nQ 47.125 39.59375 43.09375 43.984375 \nQ 39.0625 48.390625 32.421875 48.390625 \nQ 24.90625 48.390625 20.390625 44.140625 \nQ 15.875 39.890625 15.1875 32.171875 \nz\n\" id=\"DejaVuSans-101\"/>\n       <path d=\"M 18.109375 8.203125 \nL 18.109375 -20.796875 \nL 9.078125 -20.796875 \nL 9.078125 54.6875 \nL 18.109375 54.6875 \nL 18.109375 46.390625 \nQ 20.953125 51.265625 25.265625 53.625 \nQ 29.59375 56 35.59375 56 \nQ 45.5625 56 51.78125 48.09375 \nQ 58.015625 40.1875 58.015625 27.296875 \nQ 58.015625 14.40625 51.78125 6.484375 \nQ 45.5625 -1.421875 35.59375 -1.421875 \nQ 29.59375 -1.421875 25.265625 0.953125 \nQ 20.953125 3.328125 18.109375 8.203125 \nz\nM 48.6875 27.296875 \nQ 48.6875 37.203125 44.609375 42.84375 \nQ 40.53125 48.484375 33.40625 48.484375 \nQ 26.265625 48.484375 22.1875 42.84375 \nQ 18.109375 37.203125 18.109375 27.296875 \nQ 18.109375 17.390625 22.1875 11.75 \nQ 26.265625 6.109375 33.40625 6.109375 \nQ 40.53125 6.109375 44.609375 11.75 \nQ 48.6875 17.390625 48.6875 27.296875 \nz\n\" id=\"DejaVuSans-112\"/>\n       <path d=\"M 8.5 21.578125 \nL 8.5 54.6875 \nL 17.484375 54.6875 \nL 17.484375 21.921875 \nQ 17.484375 14.15625 20.5 10.265625 \nQ 23.53125 6.390625 29.59375 6.390625 \nQ 36.859375 6.390625 41.078125 11.03125 \nQ 45.3125 15.671875 45.3125 23.6875 \nL 45.3125 54.6875 \nL 54.296875 54.6875 \nL 54.296875 0 \nL 45.3125 0 \nL 45.3125 8.40625 \nQ 42.046875 3.421875 37.71875 1 \nQ 33.40625 -1.421875 27.6875 -1.421875 \nQ 18.265625 -1.421875 13.375 4.4375 \nQ 8.5 10.296875 8.5 21.578125 \nz\nM 31.109375 56 \nz\n\" id=\"DejaVuSans-117\"/>\n       <path d=\"M 48.6875 27.296875 \nQ 48.6875 37.203125 44.609375 42.84375 \nQ 40.53125 48.484375 33.40625 48.484375 \nQ 26.265625 48.484375 22.1875 42.84375 \nQ 18.109375 37.203125 18.109375 27.296875 \nQ 18.109375 17.390625 22.1875 11.75 \nQ 26.265625 6.109375 33.40625 6.109375 \nQ 40.53125 6.109375 44.609375 11.75 \nQ 48.6875 17.390625 48.6875 27.296875 \nz\nM 18.109375 46.390625 \nQ 20.953125 51.265625 25.265625 53.625 \nQ 29.59375 56 35.59375 56 \nQ 45.5625 56 51.78125 48.09375 \nQ 58.015625 40.1875 58.015625 27.296875 \nQ 58.015625 14.40625 51.78125 6.484375 \nQ 45.5625 -1.421875 35.59375 -1.421875 \nQ 29.59375 -1.421875 25.265625 0.953125 \nQ 20.953125 3.328125 18.109375 8.203125 \nL 18.109375 0 \nL 9.078125 0 \nL 9.078125 75.984375 \nL 18.109375 75.984375 \nz\n\" id=\"DejaVuSans-98\"/>\n      </defs>\n      <use xlink:href=\"#DejaVuSans-86\"/>\n      <use x=\"60.658203\" xlink:href=\"#DejaVuSans-97\"/>\n      <use x=\"121.9375\" xlink:href=\"#DejaVuSans-108\"/>\n      <use x=\"149.720703\" xlink:href=\"#DejaVuSans-111\"/>\n      <use x=\"210.902344\" xlink:href=\"#DejaVuSans-114\"/>\n      <use x=\"252.015625\" xlink:href=\"#DejaVuSans-32\"/>\n      <use x=\"283.802734\" xlink:href=\"#DejaVuSans-100\"/>\n      <use x=\"347.279297\" xlink:href=\"#DejaVuSans-101\"/>\n      <use x=\"408.802734\" xlink:href=\"#DejaVuSans-32\"/>\n      <use x=\"440.589844\" xlink:href=\"#DejaVuSans-112\"/>\n      <use x=\"504.066406\" xlink:href=\"#DejaVuSans-114\"/>\n      <use x=\"545.179688\" xlink:href=\"#DejaVuSans-117\"/>\n      <use x=\"608.558594\" xlink:href=\"#DejaVuSans-101\"/>\n      <use x=\"670.082031\" xlink:href=\"#DejaVuSans-98\"/>\n      <use x=\"733.558594\" xlink:href=\"#DejaVuSans-97\"/>\n     </g>\n    </g>\n   </g>\n   <g id=\"matplotlib.axis_2\">\n    <g id=\"ytick_1\">\n     <g id=\"line2d_8\">\n      <defs>\n       <path d=\"M 0 0 \nL -3.5 0 \n\" id=\"m6827da0cc3\" style=\"stroke:#000000;stroke-width:0.8;\"/>\n      </defs>\n      <g>\n       <use style=\"stroke:#000000;stroke-width:0.8;\" x=\"38.111875\" xlink:href=\"#m6827da0cc3\" y=\"209.393588\"/>\n      </g>\n     </g>\n     <g id=\"text_9\">\n      <!-- 1 -->\n      <g transform=\"translate(24.749375 213.192807)scale(0.1 -0.1)\">\n       <use xlink:href=\"#DejaVuSans-49\"/>\n      </g>\n     </g>\n    </g>\n    <g id=\"ytick_2\">\n     <g id=\"line2d_9\">\n      <g>\n       <use style=\"stroke:#000000;stroke-width:0.8;\" x=\"38.111875\" xlink:href=\"#m6827da0cc3\" y=\"173.795702\"/>\n      </g>\n     </g>\n     <g id=\"text_10\">\n      <!-- 2 -->\n      <g transform=\"translate(24.749375 177.594921)scale(0.1 -0.1)\">\n       <use xlink:href=\"#DejaVuSans-50\"/>\n      </g>\n     </g>\n    </g>\n    <g id=\"ytick_3\">\n     <g id=\"line2d_10\">\n      <g>\n       <use style=\"stroke:#000000;stroke-width:0.8;\" x=\"38.111875\" xlink:href=\"#m6827da0cc3\" y=\"138.197816\"/>\n      </g>\n     </g>\n     <g id=\"text_11\">\n      <!-- 3 -->\n      <g transform=\"translate(24.749375 141.997034)scale(0.1 -0.1)\">\n       <defs>\n        <path d=\"M 40.578125 39.3125 \nQ 47.65625 37.796875 51.625 33 \nQ 55.609375 28.21875 55.609375 21.1875 \nQ 55.609375 10.40625 48.1875 4.484375 \nQ 40.765625 -1.421875 27.09375 -1.421875 \nQ 22.515625 -1.421875 17.65625 -0.515625 \nQ 12.796875 0.390625 7.625 2.203125 \nL 7.625 11.71875 \nQ 11.71875 9.328125 16.59375 8.109375 \nQ 21.484375 6.890625 26.8125 6.890625 \nQ 36.078125 6.890625 40.9375 10.546875 \nQ 45.796875 14.203125 45.796875 21.1875 \nQ 45.796875 27.640625 41.28125 31.265625 \nQ 36.765625 34.90625 28.71875 34.90625 \nL 20.21875 34.90625 \nL 20.21875 43.015625 \nL 29.109375 43.015625 \nQ 36.375 43.015625 40.234375 45.921875 \nQ 44.09375 48.828125 44.09375 54.296875 \nQ 44.09375 59.90625 40.109375 62.90625 \nQ 36.140625 65.921875 28.71875 65.921875 \nQ 24.65625 65.921875 20.015625 65.03125 \nQ 15.375 64.15625 9.8125 62.3125 \nL 9.8125 71.09375 \nQ 15.4375 72.65625 20.34375 73.4375 \nQ 25.25 74.21875 29.59375 74.21875 \nQ 40.828125 74.21875 47.359375 69.109375 \nQ 53.90625 64.015625 53.90625 55.328125 \nQ 53.90625 49.265625 50.4375 45.09375 \nQ 46.96875 40.921875 40.578125 39.3125 \nz\n\" id=\"DejaVuSans-51\"/>\n       </defs>\n       <use xlink:href=\"#DejaVuSans-51\"/>\n      </g>\n     </g>\n    </g>\n    <g id=\"ytick_4\">\n     <g id=\"line2d_11\">\n      <g>\n       <use style=\"stroke:#000000;stroke-width:0.8;\" x=\"38.111875\" xlink:href=\"#m6827da0cc3\" y=\"102.599929\"/>\n      </g>\n     </g>\n     <g id=\"text_12\">\n      <!-- 4 -->\n      <g transform=\"translate(24.749375 106.399148)scale(0.1 -0.1)\">\n       <use xlink:href=\"#DejaVuSans-52\"/>\n      </g>\n     </g>\n    </g>\n    <g id=\"ytick_5\">\n     <g id=\"line2d_12\">\n      <g>\n       <use style=\"stroke:#000000;stroke-width:0.8;\" x=\"38.111875\" xlink:href=\"#m6827da0cc3\" y=\"67.002043\"/>\n      </g>\n     </g>\n     <g id=\"text_13\">\n      <!-- 5 -->\n      <g transform=\"translate(24.749375 70.801262)scale(0.1 -0.1)\">\n       <use xlink:href=\"#DejaVuSans-53\"/>\n      </g>\n     </g>\n    </g>\n    <g id=\"ytick_6\">\n     <g id=\"line2d_13\">\n      <g>\n       <use style=\"stroke:#000000;stroke-width:0.8;\" x=\"38.111875\" xlink:href=\"#m6827da0cc3\" y=\"31.404157\"/>\n      </g>\n     </g>\n     <g id=\"text_14\">\n      <!-- 6 -->\n      <g transform=\"translate(24.749375 35.203376)scale(0.1 -0.1)\">\n       <use xlink:href=\"#DejaVuSans-54\"/>\n      </g>\n     </g>\n    </g>\n    <g id=\"text_15\">\n     <!-- SSE -->\n     <g transform=\"translate(17.837812 139.829375)rotate(-90)scale(0.14 -0.14)\">\n      <defs>\n       <path d=\"M 53.515625 70.515625 \nL 53.515625 60.890625 \nQ 47.90625 63.578125 42.921875 64.890625 \nQ 37.9375 66.21875 33.296875 66.21875 \nQ 25.25 66.21875 20.875 63.09375 \nQ 16.5 59.96875 16.5 54.203125 \nQ 16.5 49.359375 19.40625 46.890625 \nQ 22.3125 44.4375 30.421875 42.921875 \nL 36.375 41.703125 \nQ 47.40625 39.59375 52.65625 34.296875 \nQ 57.90625 29 57.90625 20.125 \nQ 57.90625 9.515625 50.796875 4.046875 \nQ 43.703125 -1.421875 29.984375 -1.421875 \nQ 24.8125 -1.421875 18.96875 -0.25 \nQ 13.140625 0.921875 6.890625 3.21875 \nL 6.890625 13.375 \nQ 12.890625 10.015625 18.65625 8.296875 \nQ 24.421875 6.59375 29.984375 6.59375 \nQ 38.421875 6.59375 43.015625 9.90625 \nQ 47.609375 13.234375 47.609375 19.390625 \nQ 47.609375 24.75 44.3125 27.78125 \nQ 41.015625 30.8125 33.5 32.328125 \nL 27.484375 33.5 \nQ 16.453125 35.6875 11.515625 40.375 \nQ 6.59375 45.0625 6.59375 53.421875 \nQ 6.59375 63.09375 13.40625 68.65625 \nQ 20.21875 74.21875 32.171875 74.21875 \nQ 37.3125 74.21875 42.625 73.28125 \nQ 47.953125 72.359375 53.515625 70.515625 \nz\n\" id=\"DejaVuSans-83\"/>\n       <path d=\"M 9.8125 72.90625 \nL 55.90625 72.90625 \nL 55.90625 64.59375 \nL 19.671875 64.59375 \nL 19.671875 43.015625 \nL 54.390625 43.015625 \nL 54.390625 34.71875 \nL 19.671875 34.71875 \nL 19.671875 8.296875 \nL 56.78125 8.296875 \nL 56.78125 0 \nL 9.8125 0 \nz\n\" id=\"DejaVuSans-69\"/>\n      </defs>\n      <use xlink:href=\"#DejaVuSans-83\"/>\n      <use x=\"63.476562\" xlink:href=\"#DejaVuSans-83\"/>\n      <use x=\"126.953125\" xlink:href=\"#DejaVuSans-69\"/>\n     </g>\n    </g>\n    <g id=\"text_16\">\n     <!-- 1e6 -->\n     <g transform=\"translate(38.111875 14.798437)scale(0.1 -0.1)\">\n      <use xlink:href=\"#DejaVuSans-49\"/>\n      <use x=\"63.623047\" xlink:href=\"#DejaVuSans-101\"/>\n      <use x=\"125.146484\" xlink:href=\"#DejaVuSans-54\"/>\n     </g>\n    </g>\n   </g>\n   <g id=\"line2d_14\">\n    <path clip-path=\"url(#p9be4d7cae3)\" d=\"M 53.330057 72.743017 \nL 58.402784 83.4259 \nL 63.475511 93.721194 \nL 68.548239 103.628897 \nL 73.620966 113.149011 \nL 78.693693 122.281534 \nL 83.76642 131.026468 \nL 88.839148 139.383813 \nL 93.911875 147.353567 \nL 98.984602 154.935732 \nL 104.05733 162.130307 \nL 109.130057 168.937292 \nL 114.202784 175.356687 \nL 119.275511 181.388493 \nL 124.348239 187.032708 \nL 129.420966 192.289334 \nL 134.493693 197.15837 \nL 139.56642 201.639817 \nL 144.639148 205.733673 \nL 149.711875 209.43994 \nL 154.784602 212.758617 \nL 159.85733 215.689704 \nL 164.930057 218.233202 \nL 170.002784 220.38911 \nL 175.075511 222.157427 \nL 180.148239 223.538156 \nL 185.220966 224.531294 \nL 190.293693 225.136842 \nL 195.36642 225.354801 \nL 200.439148 225.18517 \nL 205.511875 224.627949 \nL 210.584602 223.683139 \nL 215.65733 222.350738 \nL 220.730057 220.630748 \nL 225.802784 218.523168 \nL 230.875511 216.027998 \nL 235.948239 213.145239 \nL 241.020966 209.874889 \nL 246.093693 206.21695 \nL 251.16642 202.171421 \nL 256.239148 197.738303 \nL 261.311875 192.917594 \nL 266.384602 187.709296 \nL 271.45733 182.113408 \nL 276.530057 176.12993 \nL 281.602784 169.758862 \nL 286.675511 163.000205 \nL 291.748239 155.853958 \nL 296.820966 148.320121 \nL 301.893693 140.398694 \nL 306.96642 132.089678 \nL 312.039148 123.393071 \nL 317.111875 114.308875 \nL 322.184602 104.837089 \nL 327.25733 94.977714 \nL 332.330057 84.730748 \nL 337.402784 74.096193 \nL 342.475511 63.074048 \nL 347.548239 51.664313 \nL 352.620966 39.866988 \nL 357.693693 27.682074 \n\" style=\"fill:none;stroke:#1f77b4;stroke-linecap:square;stroke-width:1.5;\"/>\n   </g>\n   <g id=\"line2d_15\">\n    <path clip-path=\"url(#p9be4d7cae3)\" d=\"M 195.682674 235.238437 \nL 195.682674 17.798437 \n\" style=\"fill:none;stroke:#ff0000;stroke-linecap:square;stroke-width:1.5;\"/>\n   </g>\n   <g id=\"patch_3\">\n    <path d=\"M 38.111875 235.238437 \nL 38.111875 17.798438 \n\" style=\"fill:none;stroke:#000000;stroke-linecap:square;stroke-linejoin:miter;stroke-width:0.8;\"/>\n   </g>\n   <g id=\"patch_4\">\n    <path d=\"M 372.911875 235.238437 \nL 372.911875 17.798438 \n\" style=\"fill:none;stroke:#000000;stroke-linecap:square;stroke-linejoin:miter;stroke-width:0.8;\"/>\n   </g>\n   <g id=\"patch_5\">\n    <path d=\"M 38.111875 235.238437 \nL 372.911875 235.238437 \n\" style=\"fill:none;stroke:#000000;stroke-linecap:square;stroke-linejoin:miter;stroke-width:0.8;\"/>\n   </g>\n   <g id=\"patch_6\">\n    <path d=\"M 38.111875 17.798437 \nL 372.911875 17.798437 \n\" style=\"fill:none;stroke:#000000;stroke-linecap:square;stroke-linejoin:miter;stroke-width:0.8;\"/>\n   </g>\n  </g>\n </g>\n <defs>\n  <clipPath id=\"p9be4d7cae3\">\n   <rect height=\"217.44\" width=\"334.8\" x=\"38.111875\" y=\"17.798437\"/>\n  </clipPath>\n </defs>\n</svg>\n",
      "text/plain": [
       "<Figure size 432x288 with 1 Axes>"
      ]
     },
     "metadata": {
      "needs_background": "light"
     },
     "output_type": "display_data"
    }
   ],
   "source": [
    "import numpy as np\n",
    "import matplotlib.pyplot as plt\n",
    "\n",
    "# Creamos una función para calcular el SSE\n",
    "def sse(pred, data):\n",
    "    squared_errors = (data - pred) ** 2\n",
    "    return np.sum(squared_errors)\n",
    "\n",
    "\n",
    "# Generamos los valores a someter a prueba\n",
    "vals = np.arange(\n",
    "    adult_nhanes_data[\"Height\"].min(), adult_nhanes_data[\"Height\"].max() + 1\n",
    ")\n",
    "\n",
    "# Calculamos el SSE para cada uno de los valores\n",
    "sse_sweep = np.zeros(len(vals))\n",
    "for i in np.arange(len(vals)):\n",
    "    sse_sweep[i] = sse(vals[i], adult_nhanes_data[\"Height\"])\n",
    "\n",
    "# Graficamos nuestros resultados\n",
    "plt.plot(vals, sse_sweep)\n",
    "plt.axvline(x=adult_nhanes_data[\"Height\"].mean(), color=\"r\")\n",
    "plt.xlabel(\"Valor de prueba\", size=14)\n",
    "plt.ylabel(\"SSE\", size=14);"
   ]
  },
  {
   "cell_type": "markdown",
   "metadata": {
    "slideshow": {
     "slide_type": "fragment"
    }
   },
   "source": [
    "El gráfico muestra cómo **la media es un estadístico que minimiza la suma de errores cuadrados**. Utilizando los datos de altura de los adultos de NHANES, calculamos la media (barra roja). Luego, probamos un rango de posibles estimaciones de parámetros, y para cada uno calculamos la suma de los errores al cuadrado (curva azul). Vemos que la media cae al mínimo de la gráfica de error al cuadrado."
   ]
  },
  {
   "cell_type": "markdown",
   "metadata": {
    "slideshow": {
     "slide_type": "slide"
    }
   },
   "source": [
    "Esta minimización de SSE es una buena característica y es por eso que **la media es la estadística más utilizada para resumir datos**. Sin embargo, la media también tiene un lado oscuro. Supongamos que hay cinco personas en un bar y examinamos los ingresos de cada uno:\n",
    "\n",
    "| Ingresos \t| Persona  \t|\n",
    "|----------\t|----------\t|\n",
    "| 48000    \t| Juan     \t|\n",
    "| 64000    \t| Karen    \t|\n",
    "| 58000    \t| Marco    \t|\n",
    "| 72000    \t| Andrea   \t|\n",
    "| 66000    \t| Patricio \t|\n",
    "\n",
    "La media (61600,00) parece ser un resumen bastante bueno de los ingresos de esas cinco personas. Ahora veamos qué sucede si César Amuña entra al bar."
   ]
  },
  {
   "cell_type": "markdown",
   "metadata": {
    "slideshow": {
     "slide_type": "subslide"
    }
   },
   "source": [
    "\n",
    "| Ingresos \t| Persona  \t|\n",
    "|----------\t|----------\t|\n",
    "| 48000    \t| Juan     \t|\n",
    "| 64000    \t| Karen    \t|\n",
    "| 58000    \t| Marco    \t|\n",
    "| 72000    \t| Andrea   \t|\n",
    "| 66000    \t| Patricio \t|\n",
    "| 54000000 \t| César    \t|\n",
    "\n",
    "La media ahora es de casi 10 millones, que no es realmente representativa de ninguna de las personas en el bar; en particular, está fuertemente impulsada por el valor periférico de César. En general, **la media es muy sensible a los valores extremos, por lo que siempre es importante asegurarse de que no haya valores extremos cuando se utiliza la media para resumir los datos**."
   ]
  },
  {
   "cell_type": "markdown",
   "metadata": {
    "slideshow": {
     "slide_type": "slide"
    }
   },
   "source": [
    "## Resumiendo datos de manera robusta utilizando la mediana\n",
    "\n",
    "Si queremos **resumir los datos de una manera que sea menos sensible a los valores atípicos**, podemos usar otra estadística llamada mediana. \n",
    "\n",
    "Si tuviéramos que ordenar todos los valores en orden de magnitud, entonces **la mediana es el valor en el medio**. Si hay un número par de valores, habrá dos valores empatados para el lugar medio, en cuyo caso tomamos la media (es decir, el punto medio) de esos dos números."
   ]
  },
  {
   "cell_type": "markdown",
   "metadata": {
    "slideshow": {
     "slide_type": "skip"
    }
   },
   "source": [
    "Procedamos a implementar la mediana. Primero ordenamos los datos según sus valores:"
   ]
  },
  {
   "cell_type": "code",
   "execution_count": 7,
   "metadata": {
    "slideshow": {
     "slide_type": "skip"
    }
   },
   "outputs": [],
   "source": [
    "height_sorted = adult_nhanes_data[\"Height\"].sort_values()"
   ]
  },
  {
   "cell_type": "markdown",
   "metadata": {
    "slideshow": {
     "slide_type": "skip"
    }
   },
   "source": [
    "A continuación, encontramos el valor mediano. Si hay un número impar de valores en la lista, entonces este es solo el valor del medio, mientras que si el número de valores es par, tomamos el promedio de los dos valores del medio. Podemos determinar si el número de elementos es par dividiendo la longitud por dos y viendo si queda un resto; hacemos esto usando el operador `%`, que se conoce como módulo y devuelve el resto:"
   ]
  },
  {
   "cell_type": "code",
   "execution_count": 8,
   "metadata": {
    "slideshow": {
     "slide_type": "skip"
    }
   },
   "outputs": [
    {
     "name": "stdout",
     "output_type": "stream",
     "text": [
      "0\n"
     ]
    }
   ],
   "source": [
    "height_length_mod_2 = height_sorted.shape[0] % 2\n",
    "print(height_length_mod_2)"
   ]
  },
  {
   "cell_type": "markdown",
   "metadata": {
    "slideshow": {
     "slide_type": "skip"
    }
   },
   "source": [
    "Aquí probaremos si el resto es igual a uno; si es así, tomaremos el valor medio, de lo contrario, tomaremos el promedio de los dos valores medios. Podemos hacer esto usando una estructura if/else, que ejecuta diferentes procesos dependiendo de cuál de los argumentos sea verdadero. A continuación, se muestra un ejemplo sencillo:"
   ]
  },
  {
   "cell_type": "code",
   "execution_count": 9,
   "metadata": {
    "slideshow": {
     "slide_type": "skip"
    }
   },
   "outputs": [
    {
     "name": "stdout",
     "output_type": "stream",
     "text": [
      "1 no es mayor a dos 2!\n"
     ]
    }
   ],
   "source": [
    "if 1 > 2:\n",
    "    print(\"1 > 2\")\n",
    "else:\n",
    "    print(\"1 no es mayor a dos 2!\")"
   ]
  },
  {
   "cell_type": "markdown",
   "metadata": {
    "slideshow": {
     "slide_type": "skip"
    }
   },
   "source": [
    "Para nuestro ejemplo, podemos usar una declaración if para determinar cómo calcular la mediana, dependiendo de si hay un número par o impar de puntos de datos."
   ]
  },
  {
   "cell_type": "code",
   "execution_count": 10,
   "metadata": {
    "slideshow": {
     "slide_type": "skip"
    }
   },
   "outputs": [
    {
     "name": "stdout",
     "output_type": "stream",
     "text": [
      "165.9\n"
     ]
    }
   ],
   "source": [
    "if height_length_mod_2 == 1:\n",
    "    # valores impares - toma el punto medio único\n",
    "    midpoint = int(np.ceil(height_sorted.shape[0] / 2))\n",
    "    median = height_sorted[midpoint]\n",
    "else:\n",
    "    # valores pares - necesita promediar los dos puntos medios\n",
    "    midpoints = [\n",
    "        int((height_sorted.shape[0] / 2) - 1),\n",
    "        int(height_sorted.shape[0] / 2),\n",
    "    ]\n",
    "    median = height_sorted.iloc[midpoints].mean()\n",
    "\n",
    "print(median)"
   ]
  },
  {
   "cell_type": "markdown",
   "metadata": {
    "slideshow": {
     "slide_type": "skip"
    }
   },
   "source": [
    "Están sucediendo muchas cosas allí, así que vamos a desmenuzarlo. La primera línea de la instrucción `if` pregunta si el resto es igual a uno; si es así, ejecuta las líneas que están sangradas debajo. Python usa la sangría como parte de su sintaxis, por lo que siempre debe tener mucho cuidado con la sangría. \n",
    "\n",
    "Si el resto es uno, eso significa que el número de observaciones es impar y, por lo tanto, podemos simplemente tomar el punto medio. Determinamos esto dividiendo el número de observaciones por dos y luego redondeando hacia arriba (que es lo que hace la función `np.ceil()`). \n",
    "\n",
    "Finalmente, tenemos que convertir este número en un entero usando la función `int()`, ya que solo podemos usar enteros para indexar un marco de datos.\n",
    "\n",
    "Si la primera prueba es falsa, es decir, si el resto es cero, la segunda sección de código (después de la instrucción `else`) se ejecutará en su lugar. Aquí necesitamos encontrar los dos puntos medios y promediarlos, por lo que creamos una nueva lista que contiene esos dos puntos, y luego usamos ese índice de nuestros datos y luego tomamos la media.\n",
    "\n",
    "Por supuesto, también hay un operador incorporado en el Data Frame llamado `.median()` que calculará la media:"
   ]
  },
  {
   "cell_type": "code",
   "execution_count": 11,
   "metadata": {
    "slideshow": {
     "slide_type": "skip"
    }
   },
   "outputs": [
    {
     "data": {
      "text/plain": [
       "165.9"
      ]
     },
     "execution_count": 11,
     "metadata": {},
     "output_type": "execute_result"
    }
   ],
   "source": [
    "adult_nhanes_data[\"Height\"].median()"
   ]
  },
  {
   "cell_type": "markdown",
   "metadata": {
    "slideshow": {
     "slide_type": "slide"
    }
   },
   "source": [
    "Mientras que la media minimiza la suma de los errores cuadrados, **la mediana minimiza una cantidad ligeramente diferente: la suma del valor absoluto de los errores**. \n",
    "\n",
    "Esto explica por qué es menos sensible a los valores atípicos: **la cuadratura exacerbará el efecto de los errores grandes en comparación con tomar el valor absoluto**. \n",
    "\n",
    "Podemos ver esto en el caso del ejemplo de los ingresos: el ingreso mediano (65,000) es mucho más representativo del grupo en su conjunto que la media (9,051,333) y menos sensible al valor atípico grande."
   ]
  },
  {
   "cell_type": "markdown",
   "metadata": {
    "slideshow": {
     "slide_type": "skip"
    }
   },
   "source": [
    "Dado esto, ¿por qué usaríamos la media? La media es el \"mejor\" estimador en el sentido de que variará menos de una muestra a otra en comparación con otros estimadores. Depende de nosotros decidir si vale la pena la sensibilidad a posibles valores atípicos: las estadísticas se tratan de compensaciones (tradeoffs)."
   ]
  },
  {
   "cell_type": "markdown",
   "metadata": {
    "slideshow": {
     "slide_type": "slide"
    }
   },
   "source": [
    "## La moda\n",
    "\n",
    "La moda es el valor más frecuente que ocurre en una variable."
   ]
  },
  {
   "cell_type": "markdown",
   "metadata": {
    "slideshow": {
     "slide_type": "skip"
    }
   },
   "source": [
    "Por ejemplo, digamos que tenemos los siguientes datos:"
   ]
  },
  {
   "cell_type": "code",
   "execution_count": 12,
   "metadata": {
    "slideshow": {
     "slide_type": "skip"
    }
   },
   "outputs": [],
   "source": [
    "import pandas as pd\n",
    "\n",
    "toy_data = pd.DataFrame({\"myvar\": [\"a\", \"a\", \"b\", \"c\"]})"
   ]
  },
  {
   "cell_type": "markdown",
   "metadata": {
    "slideshow": {
     "slide_type": "skip"
    }
   },
   "source": [
    "Podemos ver a simple vista que el modo es “a” ya que ocurre con más frecuencia que los demás. Para encontrarlo computacionalmente, usemos el operador `.value_counts()` para encontrar la frecuencia de cada valor:"
   ]
  },
  {
   "cell_type": "code",
   "execution_count": 13,
   "metadata": {
    "slideshow": {
     "slide_type": "skip"
    }
   },
   "outputs": [
    {
     "data": {
      "text/plain": [
       "a    2\n",
       "b    1\n",
       "c    1\n",
       "Name: myvar, dtype: int64"
      ]
     },
     "execution_count": 13,
     "metadata": {},
     "output_type": "execute_result"
    }
   ],
   "source": [
    "myvar_frequencies = toy_data[\"myvar\"].value_counts()\n",
    "myvar_frequencies"
   ]
  },
  {
   "cell_type": "markdown",
   "metadata": {
    "slideshow": {
     "slide_type": "skip"
    }
   },
   "source": [
    "Ahora busquemos la frecuencia más alta, usando el operador `.max ()`:"
   ]
  },
  {
   "cell_type": "code",
   "execution_count": 14,
   "metadata": {
    "slideshow": {
     "slide_type": "skip"
    }
   },
   "outputs": [
    {
     "data": {
      "text/plain": [
       "2"
      ]
     },
     "execution_count": 14,
     "metadata": {},
     "output_type": "execute_result"
    }
   ],
   "source": [
    "max_frequency = myvar_frequencies.max()\n",
    "max_frequency"
   ]
  },
  {
   "cell_type": "markdown",
   "metadata": {
    "slideshow": {
     "slide_type": "skip"
    }
   },
   "source": [
    "Ahora podemos encontrar los valores que tienen la frecuencia máxima:"
   ]
  },
  {
   "cell_type": "code",
   "execution_count": 15,
   "metadata": {
    "slideshow": {
     "slide_type": "skip"
    }
   },
   "outputs": [
    {
     "name": "stdout",
     "output_type": "stream",
     "text": [
      "['a']\n"
     ]
    }
   ],
   "source": [
    "mode = myvar_frequencies.loc[myvar_frequencies == max_frequency].index.values\n",
    "print(mode)"
   ]
  },
  {
   "cell_type": "markdown",
   "metadata": {
    "slideshow": {
     "slide_type": "skip"
    }
   },
   "source": [
    "Ttambién hay un operador incorporado en el Data Frame llamado `.mode()` que calculará la moda:"
   ]
  },
  {
   "cell_type": "code",
   "execution_count": 16,
   "metadata": {
    "slideshow": {
     "slide_type": "skip"
    }
   },
   "outputs": [
    {
     "data": {
      "text/html": [
       "<div>\n",
       "<style scoped>\n",
       "    .dataframe tbody tr th:only-of-type {\n",
       "        vertical-align: middle;\n",
       "    }\n",
       "\n",
       "    .dataframe tbody tr th {\n",
       "        vertical-align: top;\n",
       "    }\n",
       "\n",
       "    .dataframe thead th {\n",
       "        text-align: right;\n",
       "    }\n",
       "</style>\n",
       "<table border=\"1\" class=\"dataframe\">\n",
       "  <thead>\n",
       "    <tr style=\"text-align: right;\">\n",
       "      <th></th>\n",
       "      <th>myvar</th>\n",
       "    </tr>\n",
       "  </thead>\n",
       "  <tbody>\n",
       "    <tr>\n",
       "      <th>0</th>\n",
       "      <td>a</td>\n",
       "    </tr>\n",
       "  </tbody>\n",
       "</table>\n",
       "</div>"
      ],
      "text/plain": [
       "  myvar\n",
       "0     a"
      ]
     },
     "execution_count": 16,
     "metadata": {},
     "output_type": "execute_result"
    }
   ],
   "source": [
    "toy_data.mode()"
   ]
  },
  {
   "cell_type": "code",
   "execution_count": 17,
   "metadata": {
    "slideshow": {
     "slide_type": "skip"
    }
   },
   "outputs": [
    {
     "data": {
      "text/plain": [
       "0    161.4\n",
       "dtype: float64"
      ]
     },
     "execution_count": 17,
     "metadata": {},
     "output_type": "execute_result"
    }
   ],
   "source": [
    "adult_nhanes_data[\"Height\"].mode()"
   ]
  },
  {
   "cell_type": "markdown",
   "metadata": {
    "slideshow": {
     "slide_type": "slide"
    }
   },
   "source": [
    "## Variabilidad: ¿Qué tan bien se ajusta la media a los datos?\n",
    "\n",
    "Una vez que hemos descrito la tendencia central de los datos, a menudo **también queremos describir cuán variables son los datos**; esto a veces también se denomina \"dispersión\", lo que refleja el hecho de que describe cuán ampliamente dispersos están los datos.\n",
    "\n",
    "Ya hemos encontrado la suma de los errores cuadrados arriba, que es la base para las medidas de variabilidad más comúnmente utilizadas: **la varianza y la desviación estándar**. "
   ]
  },
  {
   "cell_type": "markdown",
   "metadata": {
    "slideshow": {
     "slide_type": "subslide"
    }
   },
   "source": [
    "La **varianza de una población** (a la que se hace referencia como $\\sigma^{2}$) es simplemente la suma de los errores cuadrados dividida por el número de observaciones. Es decir, **es exactamente igual que el error cuadrático medio** que revisamos anteriormente:\n",
    "\n",
    "$$ \\sigma^{2} = \\frac{SSE}{N} = \\frac{\\sum_{i=1}^{n}(x_{i}-\\mu)^{2}}{N} $$\n",
    "\n",
    "donde $\\mu$ es la media de la población. \n",
    "\n",
    "La **desviación estándar de la población** es simplemente la raíz cuadrada de esto. Es decir, **la raíz del error cuadrático medio** que vimos antes. La desviación estándar es útil porque los errores están en las mismas unidades que los datos originales (deshaciendo el cuadrado que aplicamos a los errores)."
   ]
  },
  {
   "cell_type": "markdown",
   "metadata": {
    "slideshow": {
     "slide_type": "subslide"
    }
   },
   "source": [
    "Por lo general, no tenemos acceso a toda la población, por lo que tenemos que **calcular la varianza utilizando una muestra**, a la que nos referimos como $\\hat\\sigma^{2}$, donde el \"sombrero\" representa el hecho de que se trata de una estimación basada en una muestra. La ecuación para $\\hat\\sigma^{2}$ es similar a la de $\\sigma^{2}$:\n",
    "\n",
    "$$ \\hat\\sigma^{2}=\\frac{\\sum_{i=1}^{n}(x_{i}-\\bar{X})^{2}}{n-1} $$\n",
    "\n",
    "La única diferencia entre las dos ecuaciones es que **dividimos por $n-1$ en lugar de $N$**. Esto se relaciona con un concepto estadístico fundamental: **grados de libertad**. Recuerde que para calcular la varianza muestral, primero tuvimos que estimar la media muestral $\\bar{X}$. Habiendo estimado esto, un valor en los datos ya no puede **variar libremente**. "
   ]
  },
  {
   "cell_type": "markdown",
   "metadata": {
    "slideshow": {
     "slide_type": "subslide"
    }
   },
   "source": [
    "Por ejemplo, digamos que tenemos los siguientes puntos de datos para una variable `x:[3, 5, 7, 9, 11]`, cuya media es 7. Como sabemos que la media de este conjunto de datos es 7, podemos calcular cuál sería cualquier valor específico si faltara. Por ejemplo, digamos que ocultáramos el primer valor (3). Una vez hecho esto, todavía sabemos que su valor debe ser 3, porque la media de 7 implica que la suma de todos los valores es `7 ∗ n = 35` y `35 − (5 + 7 + 9 + 11) = 3`.\n",
    "\n",
    "Entonces, **cuando decimos que hemos “perdido” un grado de libertad, significa que hay un valor que no puede variar libremente después de ajustar el modelo**. En el contexto de la varianza de la muestra, si no tenemos en cuenta el grado de libertad perdido, entonces nuestra estimación de la varianza de la muestra estará sesgada, lo que nos hará subestimar la incertidumbre de nuestra estimación de la media."
   ]
  },
  {
   "cell_type": "markdown",
   "metadata": {
    "slideshow": {
     "slide_type": "skip"
    }
   },
   "source": [
    "### Usemos simulaciones para entender estos conceptos\n",
    "\n",
    "Primero calculemos la varianza, que es la diferencia cuadrática promedio entre cada valor y la media. Hagamos esto con nuestra versión limpia de los datos de altura, pero en lugar de trabajar con el conjunto de datos completo, tomemos una muestra aleatoria de 150 personas:"
   ]
  },
  {
   "cell_type": "code",
   "execution_count": 18,
   "metadata": {
    "slideshow": {
     "slide_type": "skip"
    }
   },
   "outputs": [],
   "source": [
    "sample_size = 150\n",
    "height_sample = adult_nhanes_data.sample(sample_size)[\"Height\"]"
   ]
  },
  {
   "cell_type": "markdown",
   "metadata": {
    "slideshow": {
     "slide_type": "skip"
    }
   },
   "source": [
    "Simplemente podríamos haber ingresado el número 150 en la función de muestra, pero al crear primero una nueva variable llamada `sample_size` y establecerla en 150, le aclaramos al lector del código exactamente a qué se refiere este número. Siempre es una buena práctica crear una nueva variable en lugar de escribir un número directamente en una fórmula."
   ]
  },
  {
   "cell_type": "markdown",
   "metadata": {
    "slideshow": {
     "slide_type": "skip"
    }
   },
   "source": [
    "Para calcular la varianza que necesitamos, primero debemos calcular la suma de los errores cuadrados a partir de la media. En Python, podemos cuadrar un vector usando `** 2`:"
   ]
  },
  {
   "cell_type": "code",
   "execution_count": 19,
   "metadata": {
    "slideshow": {
     "slide_type": "skip"
    }
   },
   "outputs": [],
   "source": [
    "sum_of_squared_errors = np.sum((height_sample - height_sample.mean()) ** 2)"
   ]
  },
  {
   "cell_type": "markdown",
   "metadata": {
    "slideshow": {
     "slide_type": "skip"
    }
   },
   "source": [
    "Luego dividimos por N - 1 para obtener la varianza estimada:"
   ]
  },
  {
   "cell_type": "code",
   "execution_count": 20,
   "metadata": {
    "hidePrompt": true,
    "slideshow": {
     "slide_type": "skip"
    }
   },
   "outputs": [
    {
     "data": {
      "text/plain": [
       "114.03124161073825"
      ]
     },
     "execution_count": 20,
     "metadata": {},
     "output_type": "execute_result"
    }
   ],
   "source": [
    "variance_estimate = sum_of_squared_errors / (height_sample.shape[0] - 1)\n",
    "variance_estimate"
   ]
  },
  {
   "cell_type": "markdown",
   "metadata": {
    "slideshow": {
     "slide_type": "skip"
    }
   },
   "source": [
    "Tratemos la muestra completa de adultos de los datos de NHANES como nuestra \"población\", y veamos qué tan bien los cálculos de la varianza de la muestra usando $n$ o $n−1$ en el denominador estimarán la varianza de esta población, a través de una gran cantidad de muestras aleatorias simuladas a partir de los datos:"
   ]
  },
  {
   "cell_type": "code",
   "execution_count": 21,
   "metadata": {
    "hideCode": true,
    "hidePrompt": true,
    "slideshow": {
     "slide_type": "skip"
    }
   },
   "outputs": [
    {
     "name": "stdout",
     "output_type": "stream",
     "text": [
      "Estimación de la varianza utilizando n: 99.6841998471111\n",
      "Estimación de la varianza utilizando n-1: 101.03128362882882\n"
     ]
    }
   ],
   "source": [
    "# Definimos los parámetros para nuestra simulación\n",
    "n_sims = 1000\n",
    "estimates = np.zeros((n_sims, 2))\n",
    "sample_size = 75\n",
    "\n",
    "# Simulamos muestreos y para cada uno calculamos nuestras estimaciones\n",
    "for i in range(n_sims):\n",
    "    height_sample = adult_nhanes_data.sample(sample_size)[\"Height\"]\n",
    "    sum_of_squared_errors = np.sum((height_sample - height_sample.mean()) ** 2)\n",
    "    variance_estimate_n = sum_of_squared_errors / (\n",
    "        height_sample.shape[0]\n",
    "    )  # Usando n\n",
    "    variance_estimate_n1 = sum_of_squared_errors / (\n",
    "        height_sample.shape[0] - 1\n",
    "    )  # Usando n-1\n",
    "    estimates[i, :] = [variance_estimate_n, variance_estimate_n1]\n",
    "\n",
    "# Mostramos los resultados de nuestra simulación\n",
    "print(\"Estimación de la varianza utilizando n:\", np.mean(estimates[:, 0]))\n",
    "print(\"Estimación de la varianza utilizando n-1:\", np.mean(estimates[:, 1]))"
   ]
  },
  {
   "cell_type": "markdown",
   "metadata": {
    "slideshow": {
     "slide_type": "skip"
    }
   },
   "source": [
    "Ahora comparemos estos valores con la varianza de la población:"
   ]
  },
  {
   "cell_type": "code",
   "execution_count": 22,
   "metadata": {
    "hideCode": true,
    "hidePrompt": true,
    "slideshow": {
     "slide_type": "skip"
    }
   },
   "outputs": [
    {
     "data": {
      "text/plain": [
       "101.32320729101488"
      ]
     },
     "execution_count": 22,
     "metadata": {},
     "output_type": "execute_result"
    }
   ],
   "source": [
    "height_population = adult_nhanes_data[\"Height\"]\n",
    "sum_of_squared_errors = np.sum(\n",
    "    (height_population - height_population.mean()) ** 2\n",
    ")\n",
    "variance = sum_of_squared_errors / (height_population.shape[0])\n",
    "variance"
   ]
  },
  {
   "cell_type": "markdown",
   "metadata": {
    "slideshow": {
     "slide_type": "skip"
    }
   },
   "source": [
    "Los resultados de la simulación nos muestran que la teoría descrita anteriormente era correcta: la estimación de la varianza usando $n−1$ como denominador está muy cerca de la varianza calculada sobre los datos completos (es decir, la población), mientras que la varianza calculada usando $n$ como el denominador está sesgado (más pequeño) en comparación con el valor real."
   ]
  },
  {
   "cell_type": "markdown",
   "metadata": {
    "slideshow": {
     "slide_type": "skip"
    }
   },
   "source": [
    "Podemos hacer los cálculos de la varianza y la desviación estándar de manera más sencilla con funciones integradas:"
   ]
  },
  {
   "cell_type": "code",
   "execution_count": 23,
   "metadata": {
    "slideshow": {
     "slide_type": "skip"
    }
   },
   "outputs": [
    {
     "name": "stdout",
     "output_type": "stream",
     "text": [
      "Varianza: 101.34182261478672\n",
      "Desviación estándar: 10.066867567162426\n"
     ]
    }
   ],
   "source": [
    "print(\"Varianza:\", height_population.var())\n",
    "print(\"Desviación estándar:\", height_population.std())"
   ]
  },
  {
   "cell_type": "markdown",
   "metadata": {
    "slideshow": {
     "slide_type": "slide"
    }
   },
   "source": [
    "## Rango intercuartílico\n",
    "\n",
    "Una medida de dispersión especialmente robusta a los valores extremos es el rango intercuartílico (IQR). Para calcularlo, primero encuentra la mediana (valor medio) de la mitad inferior y de la mitad superior de los datos. Estos valores son el primer cuartil (Q1 o percentil 25) y el tercer cuartil (Q3 o percentil 75). El IQR es la diferencia entre Q3 y Q1."
   ]
  },
  {
   "cell_type": "markdown",
   "metadata": {
    "slideshow": {
     "slide_type": "skip"
    }
   },
   "source": [
    "En nuestro ejemplo, podemos implementarlo de la siguiente manera:"
   ]
  },
  {
   "cell_type": "code",
   "execution_count": 24,
   "metadata": {
    "slideshow": {
     "slide_type": "skip"
    }
   },
   "outputs": [
    {
     "name": "stdout",
     "output_type": "stream",
     "text": [
      "Rango intercuartílico: 14.699999999999989\n"
     ]
    }
   ],
   "source": [
    "iqr = height_population.quantile(0.75) - height_population.quantile(0.25)\n",
    "print(\"Rango intercuartílico:\", iqr)"
   ]
  },
  {
   "cell_type": "markdown",
   "metadata": {
    "slideshow": {
     "slide_type": "slide"
    }
   },
   "source": [
    "## Forma de la distribución\n",
    "\n",
    "La asimetría es un parámetro para medir la simetría de un conjunto de datos. Por su parte, la curtosis sirve para medir qué tan pesadas son sus colas en comparación con una distribución normal. Veamos un ejemplo a partir de una simulación:"
   ]
  },
  {
   "cell_type": "code",
   "execution_count": 25,
   "metadata": {
    "hideCode": true,
    "hidePrompt": false,
    "slideshow": {
     "slide_type": "subslide"
    }
   },
   "outputs": [
    {
     "name": "stdout",
     "output_type": "stream",
     "text": [
      "media :  15.16716917293863\n",
      "varianza  :  168.80795267381808\n",
      "asimetría :  0.5990255705797467\n",
      "curtosis :  0.2950522826273483\n"
     ]
    },
    {
     "data": {
      "image/png": "[encoded data removed]",
      "image/svg+xml": "<?xml version=\"1.0\" encoding=\"utf-8\" standalone=\"no\"?>\n<!DOCTYPE svg PUBLIC \"-//W3C//DTD SVG 1.1//EN\"\n  \"http://www.w3.org/Graphics/SVG/1.1/DTD/svg11.dtd\">\n<!-- Created with matplotlib (https://matplotlib.org/) -->\n<svg height=\"279.59625pt\" version=\"1.1\" viewBox=\"0 0 424.7625 279.59625\" width=\"424.7625pt\" xmlns=\"http://www.w3.org/2000/svg\" xmlns:xlink=\"http://www.w3.org/1999/xlink\">\n <metadata>\n  <rdf:RDF xmlns:cc=\"http://creativecommons.org/ns#\" xmlns:dc=\"http://purl.org/dc/elements/1.1/\" xmlns:rdf=\"http://www.w3.org/1999/02/22-rdf-syntax-ns#\">\n   <cc:Work>\n    <dc:type rdf:resource=\"http://purl.org/dc/dcmitype/StillImage\"/>\n    <dc:date>2021-09-01T22:29:12.592536</dc:date>\n    <dc:format>image/svg+xml</dc:format>\n    <dc:creator>\n     <cc:Agent>\n      <dc:title>Matplotlib v3.3.4, https://matplotlib.org/</dc:title>\n     </cc:Agent>\n    </dc:creator>\n   </cc:Work>\n  </rdf:RDF>\n </metadata>\n <defs>\n  <style type=\"text/css\">*{stroke-linecap:butt;stroke-linejoin:round;}</style>\n </defs>\n <g id=\"figure_1\">\n  <g id=\"patch_1\">\n   <path d=\"M 0 279.59625 \nL 424.7625 279.59625 \nL 424.7625 0 \nL 0 0 \nz\n\" style=\"fill:none;\"/>\n  </g>\n  <g id=\"axes_1\">\n   <g id=\"patch_2\">\n    <path d=\"M 33.2875 255.718125 \nL 206.9625 255.718125 \nL 206.9625 22.318125 \nL 33.2875 22.318125 \nz\n\" style=\"fill:#ffffff;\"/>\n   </g>\n   <g id=\"patch_3\">\n    <path clip-path=\"url(#pf6f061601b)\" d=\"M 41.181818 255.718125 \nL 43.903997 255.718125 \nL 43.903997 255.278825 \nL 41.181818 255.278825 \nz\n\" style=\"fill:#1f77b4;\"/>\n   </g>\n   <g id=\"patch_4\">\n    <path clip-path=\"url(#pf6f061601b)\" d=\"M 43.903997 255.718125 \nL 46.626176 255.718125 \nL 46.626176 255.718125 \nL 43.903997 255.718125 \nz\n\" style=\"fill:#1f77b4;\"/>\n   </g>\n   <g id=\"patch_5\">\n    <path clip-path=\"url(#pf6f061601b)\" d=\"M 46.626176 255.718125 \nL 49.348354 255.718125 \nL 49.348354 255.278825 \nL 46.626176 255.278825 \nz\n\" style=\"fill:#1f77b4;\"/>\n   </g>\n   <g id=\"patch_6\">\n    <path clip-path=\"url(#pf6f061601b)\" d=\"M 49.348354 255.718125 \nL 52.070533 255.718125 \nL 52.070533 255.278825 \nL 49.348354 255.278825 \nz\n\" style=\"fill:#1f77b4;\"/>\n   </g>\n   <g id=\"patch_7\">\n    <path clip-path=\"url(#pf6f061601b)\" d=\"M 52.070533 255.718125 \nL 54.792712 255.718125 \nL 54.792712 253.082326 \nL 52.070533 253.082326 \nz\n\" style=\"fill:#1f77b4;\"/>\n   </g>\n   <g id=\"patch_8\">\n    <path clip-path=\"url(#pf6f061601b)\" d=\"M 54.792712 255.718125 \nL 57.51489 255.718125 \nL 57.51489 253.521626 \nL 54.792712 253.521626 \nz\n\" style=\"fill:#1f77b4;\"/>\n   </g>\n   <g id=\"patch_9\">\n    <path clip-path=\"url(#pf6f061601b)\" d=\"M 57.51489 255.718125 \nL 60.237069 255.718125 \nL 60.237069 252.203726 \nL 57.51489 252.203726 \nz\n\" style=\"fill:#1f77b4;\"/>\n   </g>\n   <g id=\"patch_10\">\n    <path clip-path=\"url(#pf6f061601b)\" d=\"M 60.237069 255.718125 \nL 62.959248 255.718125 \nL 62.959248 251.325127 \nL 60.237069 251.325127 \nz\n\" style=\"fill:#1f77b4;\"/>\n   </g>\n   <g id=\"patch_11\">\n    <path clip-path=\"url(#pf6f061601b)\" d=\"M 62.959248 255.718125 \nL 65.681426 255.718125 \nL 65.681426 250.446527 \nL 62.959248 250.446527 \nz\n\" style=\"fill:#1f77b4;\"/>\n   </g>\n   <g id=\"patch_12\">\n    <path clip-path=\"url(#pf6f061601b)\" d=\"M 65.681426 255.718125 \nL 68.403605 255.718125 \nL 68.403605 244.296329 \nL 65.681426 244.296329 \nz\n\" style=\"fill:#1f77b4;\"/>\n   </g>\n   <g id=\"patch_13\">\n    <path clip-path=\"url(#pf6f061601b)\" d=\"M 68.403605 255.718125 \nL 71.125784 255.718125 \nL 71.125784 241.66053 \nL 68.403605 241.66053 \nz\n\" style=\"fill:#1f77b4;\"/>\n   </g>\n   <g id=\"patch_14\">\n    <path clip-path=\"url(#pf6f061601b)\" d=\"M 71.125784 255.718125 \nL 73.847962 255.718125 \nL 73.847962 240.342631 \nL 71.125784 240.342631 \nz\n\" style=\"fill:#1f77b4;\"/>\n   </g>\n   <g id=\"patch_15\">\n    <path clip-path=\"url(#pf6f061601b)\" d=\"M 73.847962 255.718125 \nL 76.570141 255.718125 \nL 76.570141 236.828232 \nL 73.847962 236.828232 \nz\n\" style=\"fill:#1f77b4;\"/>\n   </g>\n   <g id=\"patch_16\">\n    <path clip-path=\"url(#pf6f061601b)\" d=\"M 76.570141 255.718125 \nL 79.29232 255.718125 \nL 79.29232 228.481536 \nL 76.570141 228.481536 \nz\n\" style=\"fill:#1f77b4;\"/>\n   </g>\n   <g id=\"patch_17\">\n    <path clip-path=\"url(#pf6f061601b)\" d=\"M 79.29232 255.718125 \nL 82.014498 255.718125 \nL 82.014498 217.05974 \nL 79.29232 217.05974 \nz\n\" style=\"fill:#1f77b4;\"/>\n   </g>\n   <g id=\"patch_18\">\n    <path clip-path=\"url(#pf6f061601b)\" d=\"M 82.014498 255.718125 \nL 84.736677 255.718125 \nL 84.736677 223.649237 \nL 82.014498 223.649237 \nz\n\" style=\"fill:#1f77b4;\"/>\n   </g>\n   <g id=\"patch_19\">\n    <path clip-path=\"url(#pf6f061601b)\" d=\"M 84.736677 255.718125 \nL 87.458856 255.718125 \nL 87.458856 210.030943 \nL 84.736677 210.030943 \nz\n\" style=\"fill:#1f77b4;\"/>\n   </g>\n   <g id=\"patch_20\">\n    <path clip-path=\"url(#pf6f061601b)\" d=\"M 87.458856 255.718125 \nL 90.181034 255.718125 \nL 90.181034 202.123546 \nL 87.458856 202.123546 \nz\n\" style=\"fill:#1f77b4;\"/>\n   </g>\n   <g id=\"patch_21\">\n    <path clip-path=\"url(#pf6f061601b)\" d=\"M 90.181034 255.718125 \nL 92.903213 255.718125 \nL 92.903213 187.626651 \nL 90.181034 187.626651 \nz\n\" style=\"fill:#1f77b4;\"/>\n   </g>\n   <g id=\"patch_22\">\n    <path clip-path=\"url(#pf6f061601b)\" d=\"M 92.903213 255.718125 \nL 95.625392 255.718125 \nL 95.625392 164.78306 \nL 92.903213 164.78306 \nz\n\" style=\"fill:#1f77b4;\"/>\n   </g>\n   <g id=\"patch_23\">\n    <path clip-path=\"url(#pf6f061601b)\" d=\"M 95.625392 255.718125 \nL 98.347571 255.718125 \nL 98.347571 144.135968 \nL 95.625392 144.135968 \nz\n\" style=\"fill:#1f77b4;\"/>\n   </g>\n   <g id=\"patch_24\">\n    <path clip-path=\"url(#pf6f061601b)\" d=\"M 98.347571 255.718125 \nL 101.069749 255.718125 \nL 101.069749 137.546471 \nL 98.347571 137.546471 \nz\n\" style=\"fill:#1f77b4;\"/>\n   </g>\n   <g id=\"patch_25\">\n    <path clip-path=\"url(#pf6f061601b)\" d=\"M 101.069749 255.718125 \nL 103.791928 255.718125 \nL 103.791928 109.870581 \nL 101.069749 109.870581 \nz\n\" style=\"fill:#1f77b4;\"/>\n   </g>\n   <g id=\"patch_26\">\n    <path clip-path=\"url(#pf6f061601b)\" d=\"M 103.791928 255.718125 \nL 106.514107 255.718125 \nL 106.514107 101.963184 \nL 103.791928 101.963184 \nz\n\" style=\"fill:#1f77b4;\"/>\n   </g>\n   <g id=\"patch_27\">\n    <path clip-path=\"url(#pf6f061601b)\" d=\"M 106.514107 255.718125 \nL 109.236285 255.718125 \nL 109.236285 75.165895 \nL 106.514107 75.165895 \nz\n\" style=\"fill:#1f77b4;\"/>\n   </g>\n   <g id=\"patch_28\">\n    <path clip-path=\"url(#pf6f061601b)\" d=\"M 109.236285 255.718125 \nL 111.958464 255.718125 \nL 111.958464 83.512591 \nL 109.236285 83.512591 \nz\n\" style=\"fill:#1f77b4;\"/>\n   </g>\n   <g id=\"patch_29\">\n    <path clip-path=\"url(#pf6f061601b)\" d=\"M 111.958464 255.718125 \nL 114.680643 255.718125 \nL 114.680643 54.518803 \nL 111.958464 54.518803 \nz\n\" style=\"fill:#1f77b4;\"/>\n   </g>\n   <g id=\"patch_30\">\n    <path clip-path=\"url(#pf6f061601b)\" d=\"M 114.680643 255.718125 \nL 117.402821 255.718125 \nL 117.402821 42.218407 \nL 114.680643 42.218407 \nz\n\" style=\"fill:#1f77b4;\"/>\n   </g>\n   <g id=\"patch_31\">\n    <path clip-path=\"url(#pf6f061601b)\" d=\"M 117.402821 255.718125 \nL 120.125 255.718125 \nL 120.125 46.611406 \nL 117.402821 46.611406 \nz\n\" style=\"fill:#1f77b4;\"/>\n   </g>\n   <g id=\"patch_32\">\n    <path clip-path=\"url(#pf6f061601b)\" d=\"M 120.125 255.718125 \nL 122.847179 255.718125 \nL 122.847179 33.432411 \nL 120.125 33.432411 \nz\n\" style=\"fill:#1f77b4;\"/>\n   </g>\n   <g id=\"patch_33\">\n    <path clip-path=\"url(#pf6f061601b)\" d=\"M 122.847179 255.718125 \nL 125.569357 255.718125 \nL 125.569357 40.461208 \nL 122.847179 40.461208 \nz\n\" style=\"fill:#1f77b4;\"/>\n   </g>\n   <g id=\"patch_34\">\n    <path clip-path=\"url(#pf6f061601b)\" d=\"M 125.569357 255.718125 \nL 128.291536 255.718125 \nL 128.291536 57.154602 \nL 125.569357 57.154602 \nz\n\" style=\"fill:#1f77b4;\"/>\n   </g>\n   <g id=\"patch_35\">\n    <path clip-path=\"url(#pf6f061601b)\" d=\"M 128.291536 255.718125 \nL 131.013715 255.718125 \nL 131.013715 42.657707 \nL 128.291536 42.657707 \nz\n\" style=\"fill:#1f77b4;\"/>\n   </g>\n   <g id=\"patch_36\">\n    <path clip-path=\"url(#pf6f061601b)\" d=\"M 131.013715 255.718125 \nL 133.735893 255.718125 \nL 133.735893 55.836702 \nL 131.013715 55.836702 \nz\n\" style=\"fill:#1f77b4;\"/>\n   </g>\n   <g id=\"patch_37\">\n    <path clip-path=\"url(#pf6f061601b)\" d=\"M 133.735893 255.718125 \nL 136.458072 255.718125 \nL 136.458072 62.4262 \nL 133.735893 62.4262 \nz\n\" style=\"fill:#1f77b4;\"/>\n   </g>\n   <g id=\"patch_38\">\n    <path clip-path=\"url(#pf6f061601b)\" d=\"M 136.458072 255.718125 \nL 139.180251 255.718125 \nL 139.180251 92.737888 \nL 136.458072 92.737888 \nz\n\" style=\"fill:#1f77b4;\"/>\n   </g>\n   <g id=\"patch_39\">\n    <path clip-path=\"url(#pf6f061601b)\" d=\"M 139.180251 255.718125 \nL 141.902429 255.718125 \nL 141.902429 85.709091 \nL 139.180251 85.709091 \nz\n\" style=\"fill:#1f77b4;\"/>\n   </g>\n   <g id=\"patch_40\">\n    <path clip-path=\"url(#pf6f061601b)\" d=\"M 141.902429 255.718125 \nL 144.624608 255.718125 \nL 144.624608 127.442574 \nL 141.902429 127.442574 \nz\n\" style=\"fill:#1f77b4;\"/>\n   </g>\n   <g id=\"patch_41\">\n    <path clip-path=\"url(#pf6f061601b)\" d=\"M 144.624608 255.718125 \nL 147.346787 255.718125 \nL 147.346787 134.471372 \nL 144.624608 134.471372 \nz\n\" style=\"fill:#1f77b4;\"/>\n   </g>\n   <g id=\"patch_42\">\n    <path clip-path=\"url(#pf6f061601b)\" d=\"M 147.346787 255.718125 \nL 150.068966 255.718125 \nL 150.068966 144.135968 \nL 147.346787 144.135968 \nz\n\" style=\"fill:#1f77b4;\"/>\n   </g>\n   <g id=\"patch_43\">\n    <path clip-path=\"url(#pf6f061601b)\" d=\"M 150.068966 255.718125 \nL 152.791144 255.718125 \nL 152.791144 158.632862 \nL 150.068966 158.632862 \nz\n\" style=\"fill:#1f77b4;\"/>\n   </g>\n   <g id=\"patch_44\">\n    <path clip-path=\"url(#pf6f061601b)\" d=\"M 152.791144 255.718125 \nL 155.513323 255.718125 \nL 155.513323 178.401355 \nL 152.791144 178.401355 \nz\n\" style=\"fill:#1f77b4;\"/>\n   </g>\n   <g id=\"patch_45\">\n    <path clip-path=\"url(#pf6f061601b)\" d=\"M 155.513323 255.718125 \nL 158.235502 255.718125 \nL 158.235502 188.065951 \nL 155.513323 188.065951 \nz\n\" style=\"fill:#1f77b4;\"/>\n   </g>\n   <g id=\"patch_46\">\n    <path clip-path=\"url(#pf6f061601b)\" d=\"M 158.235502 255.718125 \nL 160.95768 255.718125 \nL 160.95768 195.094748 \nL 158.235502 195.094748 \nz\n\" style=\"fill:#1f77b4;\"/>\n   </g>\n   <g id=\"patch_47\">\n    <path clip-path=\"url(#pf6f061601b)\" d=\"M 160.95768 255.718125 \nL 163.679859 255.718125 \nL 163.679859 201.684246 \nL 160.95768 201.684246 \nz\n\" style=\"fill:#1f77b4;\"/>\n   </g>\n   <g id=\"patch_48\">\n    <path clip-path=\"url(#pf6f061601b)\" d=\"M 163.679859 255.718125 \nL 166.402038 255.718125 \nL 166.402038 215.302541 \nL 163.679859 215.302541 \nz\n\" style=\"fill:#1f77b4;\"/>\n   </g>\n   <g id=\"patch_49\">\n    <path clip-path=\"url(#pf6f061601b)\" d=\"M 166.402038 255.718125 \nL 169.124216 255.718125 \nL 169.124216 226.724336 \nL 166.402038 226.724336 \nz\n\" style=\"fill:#1f77b4;\"/>\n   </g>\n   <g id=\"patch_50\">\n    <path clip-path=\"url(#pf6f061601b)\" d=\"M 169.124216 255.718125 \nL 171.846395 255.718125 \nL 171.846395 232.435234 \nL 169.124216 232.435234 \nz\n\" style=\"fill:#1f77b4;\"/>\n   </g>\n   <g id=\"patch_51\">\n    <path clip-path=\"url(#pf6f061601b)\" d=\"M 171.846395 255.718125 \nL 174.568574 255.718125 \nL 174.568574 240.342631 \nL 171.846395 240.342631 \nz\n\" style=\"fill:#1f77b4;\"/>\n   </g>\n   <g id=\"patch_52\">\n    <path clip-path=\"url(#pf6f061601b)\" d=\"M 174.568574 255.718125 \nL 177.290752 255.718125 \nL 177.290752 238.585432 \nL 174.568574 238.585432 \nz\n\" style=\"fill:#1f77b4;\"/>\n   </g>\n   <g id=\"patch_53\">\n    <path clip-path=\"url(#pf6f061601b)\" d=\"M 177.290752 255.718125 \nL 180.012931 255.718125 \nL 180.012931 247.810728 \nL 177.290752 247.810728 \nz\n\" style=\"fill:#1f77b4;\"/>\n   </g>\n   <g id=\"patch_54\">\n    <path clip-path=\"url(#pf6f061601b)\" d=\"M 180.012931 255.718125 \nL 182.73511 255.718125 \nL 182.73511 247.810728 \nL 180.012931 247.810728 \nz\n\" style=\"fill:#1f77b4;\"/>\n   </g>\n   <g id=\"patch_55\">\n    <path clip-path=\"url(#pf6f061601b)\" d=\"M 182.73511 255.718125 \nL 185.457288 255.718125 \nL 185.457288 250.885827 \nL 182.73511 250.885827 \nz\n\" style=\"fill:#1f77b4;\"/>\n   </g>\n   <g id=\"patch_56\">\n    <path clip-path=\"url(#pf6f061601b)\" d=\"M 185.457288 255.718125 \nL 188.179467 255.718125 \nL 188.179467 248.689328 \nL 185.457288 248.689328 \nz\n\" style=\"fill:#1f77b4;\"/>\n   </g>\n   <g id=\"patch_57\">\n    <path clip-path=\"url(#pf6f061601b)\" d=\"M 188.179467 255.718125 \nL 190.901646 255.718125 \nL 190.901646 253.082326 \nL 188.179467 253.082326 \nz\n\" style=\"fill:#1f77b4;\"/>\n   </g>\n   <g id=\"patch_58\">\n    <path clip-path=\"url(#pf6f061601b)\" d=\"M 190.901646 255.718125 \nL 193.623824 255.718125 \nL 193.623824 254.400226 \nL 190.901646 254.400226 \nz\n\" style=\"fill:#1f77b4;\"/>\n   </g>\n   <g id=\"patch_59\">\n    <path clip-path=\"url(#pf6f061601b)\" d=\"M 193.623824 255.718125 \nL 196.346003 255.718125 \nL 196.346003 255.278825 \nL 193.623824 255.278825 \nz\n\" style=\"fill:#1f77b4;\"/>\n   </g>\n   <g id=\"patch_60\">\n    <path clip-path=\"url(#pf6f061601b)\" d=\"M 196.346003 255.718125 \nL 199.068182 255.718125 \nL 199.068182 254.400226 \nL 196.346003 254.400226 \nz\n\" style=\"fill:#1f77b4;\"/>\n   </g>\n   <g id=\"matplotlib.axis_1\">\n    <g id=\"xtick_1\">\n     <g id=\"line2d_1\">\n      <defs>\n       <path d=\"M 0 0 \nL 0 3.5 \n\" id=\"m3c3ce9be73\" style=\"stroke:#000000;stroke-width:0.8;\"/>\n      </defs>\n      <g>\n       <use style=\"stroke:#000000;stroke-width:0.8;\" x=\"67.985135\" xlink:href=\"#m3c3ce9be73\" y=\"255.718125\"/>\n      </g>\n     </g>\n     <g id=\"text_1\">\n      <!-- −50 -->\n      <g transform=\"translate(57.432791 270.316563)scale(0.1 -0.1)\">\n       <defs>\n        <path d=\"M 10.59375 35.5 \nL 73.1875 35.5 \nL 73.1875 27.203125 \nL 10.59375 27.203125 \nz\n\" id=\"DejaVuSans-8722\"/>\n        <path d=\"M 10.796875 72.90625 \nL 49.515625 72.90625 \nL 49.515625 64.59375 \nL 19.828125 64.59375 \nL 19.828125 46.734375 \nQ 21.96875 47.46875 24.109375 47.828125 \nQ 26.265625 48.1875 28.421875 48.1875 \nQ 40.625 48.1875 47.75 41.5 \nQ 54.890625 34.8125 54.890625 23.390625 \nQ 54.890625 11.625 47.5625 5.09375 \nQ 40.234375 -1.421875 26.90625 -1.421875 \nQ 22.3125 -1.421875 17.546875 -0.640625 \nQ 12.796875 0.140625 7.71875 1.703125 \nL 7.71875 11.625 \nQ 12.109375 9.234375 16.796875 8.0625 \nQ 21.484375 6.890625 26.703125 6.890625 \nQ 35.15625 6.890625 40.078125 11.328125 \nQ 45.015625 15.765625 45.015625 23.390625 \nQ 45.015625 31 40.078125 35.4375 \nQ 35.15625 39.890625 26.703125 39.890625 \nQ 22.75 39.890625 18.8125 39.015625 \nQ 14.890625 38.140625 10.796875 36.28125 \nz\n\" id=\"DejaVuSans-53\"/>\n        <path d=\"M 31.78125 66.40625 \nQ 24.171875 66.40625 20.328125 58.90625 \nQ 16.5 51.421875 16.5 36.375 \nQ 16.5 21.390625 20.328125 13.890625 \nQ 24.171875 6.390625 31.78125 6.390625 \nQ 39.453125 6.390625 43.28125 13.890625 \nQ 47.125 21.390625 47.125 36.375 \nQ 47.125 51.421875 43.28125 58.90625 \nQ 39.453125 66.40625 31.78125 66.40625 \nz\nM 31.78125 74.21875 \nQ 44.046875 74.21875 50.515625 64.515625 \nQ 56.984375 54.828125 56.984375 36.375 \nQ 56.984375 17.96875 50.515625 8.265625 \nQ 44.046875 -1.421875 31.78125 -1.421875 \nQ 19.53125 -1.421875 13.0625 8.265625 \nQ 6.59375 17.96875 6.59375 36.375 \nQ 6.59375 54.828125 13.0625 64.515625 \nQ 19.53125 74.21875 31.78125 74.21875 \nz\n\" id=\"DejaVuSans-48\"/>\n       </defs>\n       <use xlink:href=\"#DejaVuSans-8722\"/>\n       <use x=\"83.789062\" xlink:href=\"#DejaVuSans-53\"/>\n       <use x=\"147.412109\" xlink:href=\"#DejaVuSans-48\"/>\n      </g>\n     </g>\n    </g>\n    <g id=\"xtick_2\">\n     <g id=\"line2d_2\">\n      <g>\n       <use style=\"stroke:#000000;stroke-width:0.8;\" x=\"123.461959\" xlink:href=\"#m3c3ce9be73\" y=\"255.718125\"/>\n      </g>\n     </g>\n     <g id=\"text_2\">\n      <!-- 0 -->\n      <g transform=\"translate(120.280709 270.316563)scale(0.1 -0.1)\">\n       <use xlink:href=\"#DejaVuSans-48\"/>\n      </g>\n     </g>\n    </g>\n    <g id=\"xtick_3\">\n     <g id=\"line2d_3\">\n      <g>\n       <use style=\"stroke:#000000;stroke-width:0.8;\" x=\"178.938782\" xlink:href=\"#m3c3ce9be73\" y=\"255.718125\"/>\n      </g>\n     </g>\n     <g id=\"text_3\">\n      <!-- 50 -->\n      <g transform=\"translate(172.576282 270.316563)scale(0.1 -0.1)\">\n       <use xlink:href=\"#DejaVuSans-53\"/>\n       <use x=\"63.623047\" xlink:href=\"#DejaVuSans-48\"/>\n      </g>\n     </g>\n    </g>\n   </g>\n   <g id=\"matplotlib.axis_2\">\n    <g id=\"ytick_1\">\n     <g id=\"line2d_4\">\n      <defs>\n       <path d=\"M 0 0 \nL -3.5 0 \n\" id=\"m761c5182f2\" style=\"stroke:#000000;stroke-width:0.8;\"/>\n      </defs>\n      <g>\n       <use style=\"stroke:#000000;stroke-width:0.8;\" x=\"33.2875\" xlink:href=\"#m761c5182f2\" y=\"255.718125\"/>\n      </g>\n     </g>\n     <g id=\"text_4\">\n      <!-- 0 -->\n      <g transform=\"translate(19.925 259.517344)scale(0.1 -0.1)\">\n       <use xlink:href=\"#DejaVuSans-48\"/>\n      </g>\n     </g>\n    </g>\n    <g id=\"ytick_2\">\n     <g id=\"line2d_5\">\n      <g>\n       <use style=\"stroke:#000000;stroke-width:0.8;\" x=\"33.2875\" xlink:href=\"#m761c5182f2\" y=\"211.788142\"/>\n      </g>\n     </g>\n     <g id=\"text_5\">\n      <!-- 100 -->\n      <g transform=\"translate(7.2 215.587361)scale(0.1 -0.1)\">\n       <defs>\n        <path d=\"M 12.40625 8.296875 \nL 28.515625 8.296875 \nL 28.515625 63.921875 \nL 10.984375 60.40625 \nL 10.984375 69.390625 \nL 28.421875 72.90625 \nL 38.28125 72.90625 \nL 38.28125 8.296875 \nL 54.390625 8.296875 \nL 54.390625 0 \nL 12.40625 0 \nz\n\" id=\"DejaVuSans-49\"/>\n       </defs>\n       <use xlink:href=\"#DejaVuSans-49\"/>\n       <use x=\"63.623047\" xlink:href=\"#DejaVuSans-48\"/>\n       <use x=\"127.246094\" xlink:href=\"#DejaVuSans-48\"/>\n      </g>\n     </g>\n    </g>\n    <g id=\"ytick_3\">\n     <g id=\"line2d_6\">\n      <g>\n       <use style=\"stroke:#000000;stroke-width:0.8;\" x=\"33.2875\" xlink:href=\"#m761c5182f2\" y=\"167.858159\"/>\n      </g>\n     </g>\n     <g id=\"text_6\">\n      <!-- 200 -->\n      <g transform=\"translate(7.2 171.657378)scale(0.1 -0.1)\">\n       <defs>\n        <path d=\"M 19.1875 8.296875 \nL 53.609375 8.296875 \nL 53.609375 0 \nL 7.328125 0 \nL 7.328125 8.296875 \nQ 12.9375 14.109375 22.625 23.890625 \nQ 32.328125 33.6875 34.8125 36.53125 \nQ 39.546875 41.84375 41.421875 45.53125 \nQ 43.3125 49.21875 43.3125 52.78125 \nQ 43.3125 58.59375 39.234375 62.25 \nQ 35.15625 65.921875 28.609375 65.921875 \nQ 23.96875 65.921875 18.8125 64.3125 \nQ 13.671875 62.703125 7.8125 59.421875 \nL 7.8125 69.390625 \nQ 13.765625 71.78125 18.9375 73 \nQ 24.125 74.21875 28.421875 74.21875 \nQ 39.75 74.21875 46.484375 68.546875 \nQ 53.21875 62.890625 53.21875 53.421875 \nQ 53.21875 48.921875 51.53125 44.890625 \nQ 49.859375 40.875 45.40625 35.40625 \nQ 44.1875 33.984375 37.640625 27.21875 \nQ 31.109375 20.453125 19.1875 8.296875 \nz\n\" id=\"DejaVuSans-50\"/>\n       </defs>\n       <use xlink:href=\"#DejaVuSans-50\"/>\n       <use x=\"63.623047\" xlink:href=\"#DejaVuSans-48\"/>\n       <use x=\"127.246094\" xlink:href=\"#DejaVuSans-48\"/>\n      </g>\n     </g>\n    </g>\n    <g id=\"ytick_4\">\n     <g id=\"line2d_7\">\n      <g>\n       <use style=\"stroke:#000000;stroke-width:0.8;\" x=\"33.2875\" xlink:href=\"#m761c5182f2\" y=\"123.928176\"/>\n      </g>\n     </g>\n     <g id=\"text_7\">\n      <!-- 300 -->\n      <g transform=\"translate(7.2 127.727395)scale(0.1 -0.1)\">\n       <defs>\n        <path d=\"M 40.578125 39.3125 \nQ 47.65625 37.796875 51.625 33 \nQ 55.609375 28.21875 55.609375 21.1875 \nQ 55.609375 10.40625 48.1875 4.484375 \nQ 40.765625 -1.421875 27.09375 -1.421875 \nQ 22.515625 -1.421875 17.65625 -0.515625 \nQ 12.796875 0.390625 7.625 2.203125 \nL 7.625 11.71875 \nQ 11.71875 9.328125 16.59375 8.109375 \nQ 21.484375 6.890625 26.8125 6.890625 \nQ 36.078125 6.890625 40.9375 10.546875 \nQ 45.796875 14.203125 45.796875 21.1875 \nQ 45.796875 27.640625 41.28125 31.265625 \nQ 36.765625 34.90625 28.71875 34.90625 \nL 20.21875 34.90625 \nL 20.21875 43.015625 \nL 29.109375 43.015625 \nQ 36.375 43.015625 40.234375 45.921875 \nQ 44.09375 48.828125 44.09375 54.296875 \nQ 44.09375 59.90625 40.109375 62.90625 \nQ 36.140625 65.921875 28.71875 65.921875 \nQ 24.65625 65.921875 20.015625 65.03125 \nQ 15.375 64.15625 9.8125 62.3125 \nL 9.8125 71.09375 \nQ 15.4375 72.65625 20.34375 73.4375 \nQ 25.25 74.21875 29.59375 74.21875 \nQ 40.828125 74.21875 47.359375 69.109375 \nQ 53.90625 64.015625 53.90625 55.328125 \nQ 53.90625 49.265625 50.4375 45.09375 \nQ 46.96875 40.921875 40.578125 39.3125 \nz\n\" id=\"DejaVuSans-51\"/>\n       </defs>\n       <use xlink:href=\"#DejaVuSans-51\"/>\n       <use x=\"63.623047\" xlink:href=\"#DejaVuSans-48\"/>\n       <use x=\"127.246094\" xlink:href=\"#DejaVuSans-48\"/>\n      </g>\n     </g>\n    </g>\n    <g id=\"ytick_5\">\n     <g id=\"line2d_8\">\n      <g>\n       <use style=\"stroke:#000000;stroke-width:0.8;\" x=\"33.2875\" xlink:href=\"#m761c5182f2\" y=\"79.998193\"/>\n      </g>\n     </g>\n     <g id=\"text_8\">\n      <!-- 400 -->\n      <g transform=\"translate(7.2 83.797412)scale(0.1 -0.1)\">\n       <defs>\n        <path d=\"M 37.796875 64.3125 \nL 12.890625 25.390625 \nL 37.796875 25.390625 \nz\nM 35.203125 72.90625 \nL 47.609375 72.90625 \nL 47.609375 25.390625 \nL 58.015625 25.390625 \nL 58.015625 17.1875 \nL 47.609375 17.1875 \nL 47.609375 0 \nL 37.796875 0 \nL 37.796875 17.1875 \nL 4.890625 17.1875 \nL 4.890625 26.703125 \nz\n\" id=\"DejaVuSans-52\"/>\n       </defs>\n       <use xlink:href=\"#DejaVuSans-52\"/>\n       <use x=\"63.623047\" xlink:href=\"#DejaVuSans-48\"/>\n       <use x=\"127.246094\" xlink:href=\"#DejaVuSans-48\"/>\n      </g>\n     </g>\n    </g>\n    <g id=\"ytick_6\">\n     <g id=\"line2d_9\">\n      <g>\n       <use style=\"stroke:#000000;stroke-width:0.8;\" x=\"33.2875\" xlink:href=\"#m761c5182f2\" y=\"36.06821\"/>\n      </g>\n     </g>\n     <g id=\"text_9\">\n      <!-- 500 -->\n      <g transform=\"translate(7.2 39.867428)scale(0.1 -0.1)\">\n       <use xlink:href=\"#DejaVuSans-53\"/>\n       <use x=\"63.623047\" xlink:href=\"#DejaVuSans-48\"/>\n       <use x=\"127.246094\" xlink:href=\"#DejaVuSans-48\"/>\n      </g>\n     </g>\n    </g>\n   </g>\n   <g id=\"patch_61\">\n    <path d=\"M 33.2875 255.718125 \nL 33.2875 22.318125 \n\" style=\"fill:none;stroke:#000000;stroke-linecap:square;stroke-linejoin:miter;stroke-width:0.8;\"/>\n   </g>\n   <g id=\"patch_62\">\n    <path d=\"M 206.9625 255.718125 \nL 206.9625 22.318125 \n\" style=\"fill:none;stroke:#000000;stroke-linecap:square;stroke-linejoin:miter;stroke-width:0.8;\"/>\n   </g>\n   <g id=\"patch_63\">\n    <path d=\"M 33.2875 255.718125 \nL 206.9625 255.718125 \n\" style=\"fill:none;stroke:#000000;stroke-linecap:square;stroke-linejoin:miter;stroke-width:0.8;\"/>\n   </g>\n   <g id=\"patch_64\">\n    <path d=\"M 33.2875 22.318125 \nL 206.9625 22.318125 \n\" style=\"fill:none;stroke:#000000;stroke-linecap:square;stroke-linejoin:miter;stroke-width:0.8;\"/>\n   </g>\n   <g id=\"text_10\">\n    <!-- a=0 -->\n    <g transform=\"translate(107.602812 16.318125)scale(0.12 -0.12)\">\n     <defs>\n      <path d=\"M 34.28125 27.484375 \nQ 23.390625 27.484375 19.1875 25 \nQ 14.984375 22.515625 14.984375 16.5 \nQ 14.984375 11.71875 18.140625 8.90625 \nQ 21.296875 6.109375 26.703125 6.109375 \nQ 34.1875 6.109375 38.703125 11.40625 \nQ 43.21875 16.703125 43.21875 25.484375 \nL 43.21875 27.484375 \nz\nM 52.203125 31.203125 \nL 52.203125 0 \nL 43.21875 0 \nL 43.21875 8.296875 \nQ 40.140625 3.328125 35.546875 0.953125 \nQ 30.953125 -1.421875 24.3125 -1.421875 \nQ 15.921875 -1.421875 10.953125 3.296875 \nQ 6 8.015625 6 15.921875 \nQ 6 25.140625 12.171875 29.828125 \nQ 18.359375 34.515625 30.609375 34.515625 \nL 43.21875 34.515625 \nL 43.21875 35.40625 \nQ 43.21875 41.609375 39.140625 45 \nQ 35.0625 48.390625 27.6875 48.390625 \nQ 23 48.390625 18.546875 47.265625 \nQ 14.109375 46.140625 10.015625 43.890625 \nL 10.015625 52.203125 \nQ 14.9375 54.109375 19.578125 55.046875 \nQ 24.21875 56 28.609375 56 \nQ 40.484375 56 46.34375 49.84375 \nQ 52.203125 43.703125 52.203125 31.203125 \nz\n\" id=\"DejaVuSans-97\"/>\n      <path d=\"M 10.59375 45.40625 \nL 73.1875 45.40625 \nL 73.1875 37.203125 \nL 10.59375 37.203125 \nz\nM 10.59375 25.484375 \nL 73.1875 25.484375 \nL 73.1875 17.1875 \nL 10.59375 17.1875 \nz\n\" id=\"DejaVuSans-61\"/>\n     </defs>\n     <use xlink:href=\"#DejaVuSans-97\"/>\n     <use x=\"61.279297\" xlink:href=\"#DejaVuSans-61\"/>\n     <use x=\"145.068359\" xlink:href=\"#DejaVuSans-48\"/>\n    </g>\n   </g>\n  </g>\n  <g id=\"axes_2\">\n   <g id=\"patch_65\">\n    <path d=\"M 243.8875 255.718125 \nL 417.5625 255.718125 \nL 417.5625 22.318125 \nL 243.8875 22.318125 \nz\n\" style=\"fill:#ffffff;\"/>\n   </g>\n   <g id=\"patch_66\">\n    <path clip-path=\"url(#p3d27b66d76)\" d=\"M 251.781818 255.718125 \nL 254.248793 255.718125 \nL 254.248793 255.301079 \nL 251.781818 255.301079 \nz\n\" style=\"fill:#1f77b4;\"/>\n   </g>\n   <g id=\"patch_67\">\n    <path clip-path=\"url(#p3d27b66d76)\" d=\"M 254.248793 255.718125 \nL 256.715767 255.718125 \nL 256.715767 255.718125 \nL 254.248793 255.718125 \nz\n\" style=\"fill:#1f77b4;\"/>\n   </g>\n   <g id=\"patch_68\">\n    <path clip-path=\"url(#p3d27b66d76)\" d=\"M 256.715767 255.718125 \nL 259.182741 255.718125 \nL 259.182741 255.718125 \nL 256.715767 255.718125 \nz\n\" style=\"fill:#1f77b4;\"/>\n   </g>\n   <g id=\"patch_69\">\n    <path clip-path=\"url(#p3d27b66d76)\" d=\"M 259.182741 255.718125 \nL 261.649716 255.718125 \nL 261.649716 255.718125 \nL 259.182741 255.718125 \nz\n\" style=\"fill:#1f77b4;\"/>\n   </g>\n   <g id=\"patch_70\">\n    <path clip-path=\"url(#p3d27b66d76)\" d=\"M 261.649716 255.718125 \nL 264.11669 255.718125 \nL 264.11669 255.301079 \nL 261.649716 255.301079 \nz\n\" style=\"fill:#1f77b4;\"/>\n   </g>\n   <g id=\"patch_71\">\n    <path clip-path=\"url(#p3d27b66d76)\" d=\"M 264.11669 255.718125 \nL 266.583665 255.718125 \nL 266.583665 254.466986 \nL 264.11669 254.466986 \nz\n\" style=\"fill:#1f77b4;\"/>\n   </g>\n   <g id=\"patch_72\">\n    <path clip-path=\"url(#p3d27b66d76)\" d=\"M 266.583665 255.718125 \nL 269.050639 255.718125 \nL 269.050639 252.381754 \nL 266.583665 252.381754 \nz\n\" style=\"fill:#1f77b4;\"/>\n   </g>\n   <g id=\"patch_73\">\n    <path clip-path=\"url(#p3d27b66d76)\" d=\"M 269.050639 255.718125 \nL 271.517614 255.718125 \nL 271.517614 252.381754 \nL 269.050639 252.381754 \nz\n\" style=\"fill:#1f77b4;\"/>\n   </g>\n   <g id=\"patch_74\">\n    <path clip-path=\"url(#p3d27b66d76)\" d=\"M 271.517614 255.718125 \nL 273.984588 255.718125 \nL 273.984588 247.794244 \nL 271.517614 247.794244 \nz\n\" style=\"fill:#1f77b4;\"/>\n   </g>\n   <g id=\"patch_75\">\n    <path clip-path=\"url(#p3d27b66d76)\" d=\"M 273.984588 255.718125 \nL 276.451562 255.718125 \nL 276.451562 246.126059 \nL 273.984588 246.126059 \nz\n\" style=\"fill:#1f77b4;\"/>\n   </g>\n   <g id=\"patch_76\">\n    <path clip-path=\"url(#p3d27b66d76)\" d=\"M 276.451562 255.718125 \nL 278.918537 255.718125 \nL 278.918537 236.116946 \nL 276.451562 236.116946 \nz\n\" style=\"fill:#1f77b4;\"/>\n   </g>\n   <g id=\"patch_77\">\n    <path clip-path=\"url(#p3d27b66d76)\" d=\"M 278.918537 255.718125 \nL 281.385511 255.718125 \nL 281.385511 221.520323 \nL 278.918537 221.520323 \nz\n\" style=\"fill:#1f77b4;\"/>\n   </g>\n   <g id=\"patch_78\">\n    <path clip-path=\"url(#p3d27b66d76)\" d=\"M 281.385511 255.718125 \nL 283.852486 255.718125 \nL 283.852486 211.094164 \nL 281.385511 211.094164 \nz\n\" style=\"fill:#1f77b4;\"/>\n   </g>\n   <g id=\"patch_79\">\n    <path clip-path=\"url(#p3d27b66d76)\" d=\"M 283.852486 255.718125 \nL 286.31946 255.718125 \nL 286.31946 191.910031 \nL 283.852486 191.910031 \nz\n\" style=\"fill:#1f77b4;\"/>\n   </g>\n   <g id=\"patch_80\">\n    <path clip-path=\"url(#p3d27b66d76)\" d=\"M 286.31946 255.718125 \nL 288.786435 255.718125 \nL 288.786435 170.22362 \nL 286.31946 170.22362 \nz\n\" style=\"fill:#1f77b4;\"/>\n   </g>\n   <g id=\"patch_81\">\n    <path clip-path=\"url(#p3d27b66d76)\" d=\"M 288.786435 255.718125 \nL 291.253409 255.718125 \nL 291.253409 141.864466 \nL 288.786435 141.864466 \nz\n\" style=\"fill:#1f77b4;\"/>\n   </g>\n   <g id=\"patch_82\">\n    <path clip-path=\"url(#p3d27b66d76)\" d=\"M 291.253409 255.718125 \nL 293.720384 255.718125 \nL 293.720384 117.258731 \nL 291.253409 117.258731 \nz\n\" style=\"fill:#1f77b4;\"/>\n   </g>\n   <g id=\"patch_83\">\n    <path clip-path=\"url(#p3d27b66d76)\" d=\"M 293.720384 255.718125 \nL 296.187358 255.718125 \nL 296.187358 100.993922 \nL 293.720384 100.993922 \nz\n\" style=\"fill:#1f77b4;\"/>\n   </g>\n   <g id=\"patch_84\">\n    <path clip-path=\"url(#p3d27b66d76)\" d=\"M 296.187358 255.718125 \nL 298.654332 255.718125 \nL 298.654332 64.293842 \nL 296.187358 64.293842 \nz\n\" style=\"fill:#1f77b4;\"/>\n   </g>\n   <g id=\"patch_85\">\n    <path clip-path=\"url(#p3d27b66d76)\" d=\"M 298.654332 255.718125 \nL 301.121307 255.718125 \nL 301.121307 43.024477 \nL 298.654332 43.024477 \nz\n\" style=\"fill:#1f77b4;\"/>\n   </g>\n   <g id=\"patch_86\">\n    <path clip-path=\"url(#p3d27b66d76)\" d=\"M 301.121307 255.718125 \nL 303.588281 255.718125 \nL 303.588281 47.194941 \nL 301.121307 47.194941 \nz\n\" style=\"fill:#1f77b4;\"/>\n   </g>\n   <g id=\"patch_87\">\n    <path clip-path=\"url(#p3d27b66d76)\" d=\"M 303.588281 255.718125 \nL 306.055256 255.718125 \nL 306.055256 48.029034 \nL 303.588281 48.029034 \nz\n\" style=\"fill:#1f77b4;\"/>\n   </g>\n   <g id=\"patch_88\">\n    <path clip-path=\"url(#p3d27b66d76)\" d=\"M 306.055256 255.718125 \nL 308.52223 255.718125 \nL 308.52223 45.526755 \nL 306.055256 45.526755 \nz\n\" style=\"fill:#1f77b4;\"/>\n   </g>\n   <g id=\"patch_89\">\n    <path clip-path=\"url(#p3d27b66d76)\" d=\"M 308.52223 255.718125 \nL 310.989205 255.718125 \nL 310.989205 33.432411 \nL 308.52223 33.432411 \nz\n\" style=\"fill:#1f77b4;\"/>\n   </g>\n   <g id=\"patch_90\">\n    <path clip-path=\"url(#p3d27b66d76)\" d=\"M 310.989205 255.718125 \nL 313.456179 255.718125 \nL 313.456179 49.697219 \nL 310.989205 49.697219 \nz\n\" style=\"fill:#1f77b4;\"/>\n   </g>\n   <g id=\"patch_91\">\n    <path clip-path=\"url(#p3d27b66d76)\" d=\"M 313.456179 255.718125 \nL 315.923153 255.718125 \nL 315.923153 53.867683 \nL 313.456179 53.867683 \nz\n\" style=\"fill:#1f77b4;\"/>\n   </g>\n   <g id=\"patch_92\">\n    <path clip-path=\"url(#p3d27b66d76)\" d=\"M 315.923153 255.718125 \nL 318.390128 255.718125 \nL 318.390128 65.127935 \nL 315.923153 65.127935 \nz\n\" style=\"fill:#1f77b4;\"/>\n   </g>\n   <g id=\"patch_93\">\n    <path clip-path=\"url(#p3d27b66d76)\" d=\"M 318.390128 255.718125 \nL 320.857102 255.718125 \nL 320.857102 74.720001 \nL 318.390128 74.720001 \nz\n\" style=\"fill:#1f77b4;\"/>\n   </g>\n   <g id=\"patch_94\">\n    <path clip-path=\"url(#p3d27b66d76)\" d=\"M 320.857102 255.718125 \nL 323.324077 255.718125 \nL 323.324077 80.55865 \nL 320.857102 80.55865 \nz\n\" style=\"fill:#1f77b4;\"/>\n   </g>\n   <g id=\"patch_95\">\n    <path clip-path=\"url(#p3d27b66d76)\" d=\"M 323.324077 255.718125 \nL 325.791051 255.718125 \nL 325.791051 113.92236 \nL 323.324077 113.92236 \nz\n\" style=\"fill:#1f77b4;\"/>\n   </g>\n   <g id=\"patch_96\">\n    <path clip-path=\"url(#p3d27b66d76)\" d=\"M 325.791051 255.718125 \nL 328.258026 255.718125 \nL 328.258026 101.410969 \nL 325.791051 101.410969 \nz\n\" style=\"fill:#1f77b4;\"/>\n   </g>\n   <g id=\"patch_97\">\n    <path clip-path=\"url(#p3d27b66d76)\" d=\"M 328.258026 255.718125 \nL 330.725 255.718125 \nL 330.725 130.604215 \nL 328.258026 130.604215 \nz\n\" style=\"fill:#1f77b4;\"/>\n   </g>\n   <g id=\"patch_98\">\n    <path clip-path=\"url(#p3d27b66d76)\" d=\"M 330.725 255.718125 \nL 333.191974 255.718125 \nL 333.191974 148.120162 \nL 330.725 148.120162 \nz\n\" style=\"fill:#1f77b4;\"/>\n   </g>\n   <g id=\"patch_99\">\n    <path clip-path=\"url(#p3d27b66d76)\" d=\"M 333.191974 255.718125 \nL 335.658949 255.718125 \nL 335.658949 158.129275 \nL 333.191974 158.129275 \nz\n\" style=\"fill:#1f77b4;\"/>\n   </g>\n   <g id=\"patch_100\">\n    <path clip-path=\"url(#p3d27b66d76)\" d=\"M 335.658949 255.718125 \nL 338.125923 255.718125 \nL 338.125923 166.470202 \nL 335.658949 166.470202 \nz\n\" style=\"fill:#1f77b4;\"/>\n   </g>\n   <g id=\"patch_101\">\n    <path clip-path=\"url(#p3d27b66d76)\" d=\"M 338.125923 255.718125 \nL 340.592898 255.718125 \nL 340.592898 156.878136 \nL 338.125923 156.878136 \nz\n\" style=\"fill:#1f77b4;\"/>\n   </g>\n   <g id=\"patch_102\">\n    <path clip-path=\"url(#p3d27b66d76)\" d=\"M 340.592898 255.718125 \nL 343.059872 255.718125 \nL 343.059872 188.57366 \nL 340.592898 188.57366 \nz\n\" style=\"fill:#1f77b4;\"/>\n   </g>\n   <g id=\"patch_103\">\n    <path clip-path=\"url(#p3d27b66d76)\" d=\"M 343.059872 255.718125 \nL 345.526847 255.718125 \nL 345.526847 198.165726 \nL 343.059872 198.165726 \nz\n\" style=\"fill:#1f77b4;\"/>\n   </g>\n   <g id=\"patch_104\">\n    <path clip-path=\"url(#p3d27b66d76)\" d=\"M 345.526847 255.718125 \nL 347.993821 255.718125 \nL 347.993821 199.416865 \nL 345.526847 199.416865 \nz\n\" style=\"fill:#1f77b4;\"/>\n   </g>\n   <g id=\"patch_105\">\n    <path clip-path=\"url(#p3d27b66d76)\" d=\"M 347.993821 255.718125 \nL 350.460795 255.718125 \nL 350.460795 204.421422 \nL 347.993821 204.421422 \nz\n\" style=\"fill:#1f77b4;\"/>\n   </g>\n   <g id=\"patch_106\">\n    <path clip-path=\"url(#p3d27b66d76)\" d=\"M 350.460795 255.718125 \nL 352.92777 255.718125 \nL 352.92777 212.345303 \nL 350.460795 212.345303 \nz\n\" style=\"fill:#1f77b4;\"/>\n   </g>\n   <g id=\"patch_107\">\n    <path clip-path=\"url(#p3d27b66d76)\" d=\"M 352.92777 255.718125 \nL 355.394744 255.718125 \nL 355.394744 221.520323 \nL 352.92777 221.520323 \nz\n\" style=\"fill:#1f77b4;\"/>\n   </g>\n   <g id=\"patch_108\">\n    <path clip-path=\"url(#p3d27b66d76)\" d=\"M 355.394744 255.718125 \nL 357.861719 255.718125 \nL 357.861719 226.941926 \nL 355.394744 226.941926 \nz\n\" style=\"fill:#1f77b4;\"/>\n   </g>\n   <g id=\"patch_109\">\n    <path clip-path=\"url(#p3d27b66d76)\" d=\"M 357.861719 255.718125 \nL 360.328693 255.718125 \nL 360.328693 223.605555 \nL 357.861719 223.605555 \nz\n\" style=\"fill:#1f77b4;\"/>\n   </g>\n   <g id=\"patch_110\">\n    <path clip-path=\"url(#p3d27b66d76)\" d=\"M 360.328693 255.718125 \nL 362.795668 255.718125 \nL 362.795668 232.780575 \nL 360.328693 232.780575 \nz\n\" style=\"fill:#1f77b4;\"/>\n   </g>\n   <g id=\"patch_111\">\n    <path clip-path=\"url(#p3d27b66d76)\" d=\"M 362.795668 255.718125 \nL 365.262642 255.718125 \nL 365.262642 242.372641 \nL 362.795668 242.372641 \nz\n\" style=\"fill:#1f77b4;\"/>\n   </g>\n   <g id=\"patch_112\">\n    <path clip-path=\"url(#p3d27b66d76)\" d=\"M 365.262642 255.718125 \nL 367.729616 255.718125 \nL 367.729616 247.794244 \nL 365.262642 247.794244 \nz\n\" style=\"fill:#1f77b4;\"/>\n   </g>\n   <g id=\"patch_113\">\n    <path clip-path=\"url(#p3d27b66d76)\" d=\"M 367.729616 255.718125 \nL 370.196591 255.718125 \nL 370.196591 245.291966 \nL 367.729616 245.291966 \nz\n\" style=\"fill:#1f77b4;\"/>\n   </g>\n   <g id=\"patch_114\">\n    <path clip-path=\"url(#p3d27b66d76)\" d=\"M 370.196591 255.718125 \nL 372.663565 255.718125 \nL 372.663565 246.126059 \nL 370.196591 246.126059 \nz\n\" style=\"fill:#1f77b4;\"/>\n   </g>\n   <g id=\"patch_115\">\n    <path clip-path=\"url(#p3d27b66d76)\" d=\"M 372.663565 255.718125 \nL 375.13054 255.718125 \nL 375.13054 246.543105 \nL 372.663565 246.543105 \nz\n\" style=\"fill:#1f77b4;\"/>\n   </g>\n   <g id=\"patch_116\">\n    <path clip-path=\"url(#p3d27b66d76)\" d=\"M 375.13054 255.718125 \nL 377.597514 255.718125 \nL 377.597514 249.879476 \nL 375.13054 249.879476 \nz\n\" style=\"fill:#1f77b4;\"/>\n   </g>\n   <g id=\"patch_117\">\n    <path clip-path=\"url(#p3d27b66d76)\" d=\"M 377.597514 255.718125 \nL 380.064489 255.718125 \nL 380.064489 248.628337 \nL 377.597514 248.628337 \nz\n\" style=\"fill:#1f77b4;\"/>\n   </g>\n   <g id=\"patch_118\">\n    <path clip-path=\"url(#p3d27b66d76)\" d=\"M 380.064489 255.718125 \nL 382.531463 255.718125 \nL 382.531463 252.7988 \nL 380.064489 252.7988 \nz\n\" style=\"fill:#1f77b4;\"/>\n   </g>\n   <g id=\"patch_119\">\n    <path clip-path=\"url(#p3d27b66d76)\" d=\"M 382.531463 255.718125 \nL 384.998437 255.718125 \nL 384.998437 254.466986 \nL 382.531463 254.466986 \nz\n\" style=\"fill:#1f77b4;\"/>\n   </g>\n   <g id=\"patch_120\">\n    <path clip-path=\"url(#p3d27b66d76)\" d=\"M 384.998437 255.718125 \nL 387.465412 255.718125 \nL 387.465412 254.466986 \nL 384.998437 254.466986 \nz\n\" style=\"fill:#1f77b4;\"/>\n   </g>\n   <g id=\"patch_121\">\n    <path clip-path=\"url(#p3d27b66d76)\" d=\"M 387.465412 255.718125 \nL 389.932386 255.718125 \nL 389.932386 254.04994 \nL 387.465412 254.04994 \nz\n\" style=\"fill:#1f77b4;\"/>\n   </g>\n   <g id=\"patch_122\">\n    <path clip-path=\"url(#p3d27b66d76)\" d=\"M 389.932386 255.718125 \nL 392.399361 255.718125 \nL 392.399361 255.718125 \nL 389.932386 255.718125 \nz\n\" style=\"fill:#1f77b4;\"/>\n   </g>\n   <g id=\"patch_123\">\n    <path clip-path=\"url(#p3d27b66d76)\" d=\"M 392.399361 255.718125 \nL 394.866335 255.718125 \nL 394.866335 254.466986 \nL 392.399361 254.466986 \nz\n\" style=\"fill:#1f77b4;\"/>\n   </g>\n   <g id=\"patch_124\">\n    <path clip-path=\"url(#p3d27b66d76)\" d=\"M 394.866335 255.718125 \nL 397.33331 255.718125 \nL 397.33331 254.04994 \nL 394.866335 254.04994 \nz\n\" style=\"fill:#1f77b4;\"/>\n   </g>\n   <g id=\"patch_125\">\n    <path clip-path=\"url(#p3d27b66d76)\" d=\"M 397.33331 255.718125 \nL 399.800284 255.718125 \nL 399.800284 255.718125 \nL 397.33331 255.718125 \nz\n\" style=\"fill:#1f77b4;\"/>\n   </g>\n   <g id=\"patch_126\">\n    <path clip-path=\"url(#p3d27b66d76)\" d=\"M 399.800284 255.718125 \nL 402.267259 255.718125 \nL 402.267259 255.718125 \nL 399.800284 255.718125 \nz\n\" style=\"fill:#1f77b4;\"/>\n   </g>\n   <g id=\"patch_127\">\n    <path clip-path=\"url(#p3d27b66d76)\" d=\"M 402.267259 255.718125 \nL 404.734233 255.718125 \nL 404.734233 255.718125 \nL 402.267259 255.718125 \nz\n\" style=\"fill:#1f77b4;\"/>\n   </g>\n   <g id=\"patch_128\">\n    <path clip-path=\"url(#p3d27b66d76)\" d=\"M 404.734233 255.718125 \nL 407.201207 255.718125 \nL 407.201207 255.718125 \nL 404.734233 255.718125 \nz\n\" style=\"fill:#1f77b4;\"/>\n   </g>\n   <g id=\"patch_129\">\n    <path clip-path=\"url(#p3d27b66d76)\" d=\"M 407.201207 255.718125 \nL 409.668182 255.718125 \nL 409.668182 255.301079 \nL 407.201207 255.301079 \nz\n\" style=\"fill:#1f77b4;\"/>\n   </g>\n   <g id=\"matplotlib.axis_3\">\n    <g id=\"xtick_4\">\n     <g id=\"line2d_10\">\n      <g>\n       <use style=\"stroke:#000000;stroke-width:0.8;\" x=\"253.676564\" xlink:href=\"#m3c3ce9be73\" y=\"255.718125\"/>\n      </g>\n     </g>\n     <g id=\"text_11\">\n      <!-- −25 -->\n      <g transform=\"translate(243.12422 270.316563)scale(0.1 -0.1)\">\n       <use xlink:href=\"#DejaVuSans-8722\"/>\n       <use x=\"83.789062\" xlink:href=\"#DejaVuSans-50\"/>\n       <use x=\"147.412109\" xlink:href=\"#DejaVuSans-53\"/>\n      </g>\n     </g>\n    </g>\n    <g id=\"xtick_5\">\n     <g id=\"line2d_11\">\n      <g>\n       <use style=\"stroke:#000000;stroke-width:0.8;\" x=\"291.978461\" xlink:href=\"#m3c3ce9be73\" y=\"255.718125\"/>\n      </g>\n     </g>\n     <g id=\"text_12\">\n      <!-- 0 -->\n      <g transform=\"translate(288.797211 270.316563)scale(0.1 -0.1)\">\n       <use xlink:href=\"#DejaVuSans-48\"/>\n      </g>\n     </g>\n    </g>\n    <g id=\"xtick_6\">\n     <g id=\"line2d_12\">\n      <g>\n       <use style=\"stroke:#000000;stroke-width:0.8;\" x=\"330.280358\" xlink:href=\"#m3c3ce9be73\" y=\"255.718125\"/>\n      </g>\n     </g>\n     <g id=\"text_13\">\n      <!-- 25 -->\n      <g transform=\"translate(323.917858 270.316563)scale(0.1 -0.1)\">\n       <use xlink:href=\"#DejaVuSans-50\"/>\n       <use x=\"63.623047\" xlink:href=\"#DejaVuSans-53\"/>\n      </g>\n     </g>\n    </g>\n    <g id=\"xtick_7\">\n     <g id=\"line2d_13\">\n      <g>\n       <use style=\"stroke:#000000;stroke-width:0.8;\" x=\"368.582256\" xlink:href=\"#m3c3ce9be73\" y=\"255.718125\"/>\n      </g>\n     </g>\n     <g id=\"text_14\">\n      <!-- 50 -->\n      <g transform=\"translate(362.219756 270.316563)scale(0.1 -0.1)\">\n       <use xlink:href=\"#DejaVuSans-53\"/>\n       <use x=\"63.623047\" xlink:href=\"#DejaVuSans-48\"/>\n      </g>\n     </g>\n    </g>\n    <g id=\"xtick_8\">\n     <g id=\"line2d_14\">\n      <g>\n       <use style=\"stroke:#000000;stroke-width:0.8;\" x=\"406.884153\" xlink:href=\"#m3c3ce9be73\" y=\"255.718125\"/>\n      </g>\n     </g>\n     <g id=\"text_15\">\n      <!-- 75 -->\n      <g transform=\"translate(400.521653 270.316563)scale(0.1 -0.1)\">\n       <defs>\n        <path d=\"M 8.203125 72.90625 \nL 55.078125 72.90625 \nL 55.078125 68.703125 \nL 28.609375 0 \nL 18.3125 0 \nL 43.21875 64.59375 \nL 8.203125 64.59375 \nz\n\" id=\"DejaVuSans-55\"/>\n       </defs>\n       <use xlink:href=\"#DejaVuSans-55\"/>\n       <use x=\"63.623047\" xlink:href=\"#DejaVuSans-53\"/>\n      </g>\n     </g>\n    </g>\n   </g>\n   <g id=\"matplotlib.axis_4\">\n    <g id=\"ytick_7\">\n     <g id=\"line2d_15\">\n      <g>\n       <use style=\"stroke:#000000;stroke-width:0.8;\" x=\"243.8875\" xlink:href=\"#m761c5182f2\" y=\"255.718125\"/>\n      </g>\n     </g>\n     <g id=\"text_16\">\n      <!-- 0 -->\n      <g transform=\"translate(230.525 259.517344)scale(0.1 -0.1)\">\n       <use xlink:href=\"#DejaVuSans-48\"/>\n      </g>\n     </g>\n    </g>\n    <g id=\"ytick_8\">\n     <g id=\"line2d_16\">\n      <g>\n       <use style=\"stroke:#000000;stroke-width:0.8;\" x=\"243.8875\" xlink:href=\"#m761c5182f2\" y=\"214.013488\"/>\n      </g>\n     </g>\n     <g id=\"text_17\">\n      <!-- 100 -->\n      <g transform=\"translate(217.8 217.812707)scale(0.1 -0.1)\">\n       <use xlink:href=\"#DejaVuSans-49\"/>\n       <use x=\"63.623047\" xlink:href=\"#DejaVuSans-48\"/>\n       <use x=\"127.246094\" xlink:href=\"#DejaVuSans-48\"/>\n      </g>\n     </g>\n    </g>\n    <g id=\"ytick_9\">\n     <g id=\"line2d_17\">\n      <g>\n       <use style=\"stroke:#000000;stroke-width:0.8;\" x=\"243.8875\" xlink:href=\"#m761c5182f2\" y=\"172.308851\"/>\n      </g>\n     </g>\n     <g id=\"text_18\">\n      <!-- 200 -->\n      <g transform=\"translate(217.8 176.10807)scale(0.1 -0.1)\">\n       <use xlink:href=\"#DejaVuSans-50\"/>\n       <use x=\"63.623047\" xlink:href=\"#DejaVuSans-48\"/>\n       <use x=\"127.246094\" xlink:href=\"#DejaVuSans-48\"/>\n      </g>\n     </g>\n    </g>\n    <g id=\"ytick_10\">\n     <g id=\"line2d_18\">\n      <g>\n       <use style=\"stroke:#000000;stroke-width:0.8;\" x=\"243.8875\" xlink:href=\"#m761c5182f2\" y=\"130.604215\"/>\n      </g>\n     </g>\n     <g id=\"text_19\">\n      <!-- 300 -->\n      <g transform=\"translate(217.8 134.403433)scale(0.1 -0.1)\">\n       <use xlink:href=\"#DejaVuSans-51\"/>\n       <use x=\"63.623047\" xlink:href=\"#DejaVuSans-48\"/>\n       <use x=\"127.246094\" xlink:href=\"#DejaVuSans-48\"/>\n      </g>\n     </g>\n    </g>\n    <g id=\"ytick_11\">\n     <g id=\"line2d_19\">\n      <g>\n       <use style=\"stroke:#000000;stroke-width:0.8;\" x=\"243.8875\" xlink:href=\"#m761c5182f2\" y=\"88.899578\"/>\n      </g>\n     </g>\n     <g id=\"text_20\">\n      <!-- 400 -->\n      <g transform=\"translate(217.8 92.698796)scale(0.1 -0.1)\">\n       <use xlink:href=\"#DejaVuSans-52\"/>\n       <use x=\"63.623047\" xlink:href=\"#DejaVuSans-48\"/>\n       <use x=\"127.246094\" xlink:href=\"#DejaVuSans-48\"/>\n      </g>\n     </g>\n    </g>\n    <g id=\"ytick_12\">\n     <g id=\"line2d_20\">\n      <g>\n       <use style=\"stroke:#000000;stroke-width:0.8;\" x=\"243.8875\" xlink:href=\"#m761c5182f2\" y=\"47.194941\"/>\n      </g>\n     </g>\n     <g id=\"text_21\">\n      <!-- 500 -->\n      <g transform=\"translate(217.8 50.99416)scale(0.1 -0.1)\">\n       <use xlink:href=\"#DejaVuSans-53\"/>\n       <use x=\"63.623047\" xlink:href=\"#DejaVuSans-48\"/>\n       <use x=\"127.246094\" xlink:href=\"#DejaVuSans-48\"/>\n      </g>\n     </g>\n    </g>\n   </g>\n   <g id=\"patch_130\">\n    <path d=\"M 243.8875 255.718125 \nL 243.8875 22.318125 \n\" style=\"fill:none;stroke:#000000;stroke-linecap:square;stroke-linejoin:miter;stroke-width:0.8;\"/>\n   </g>\n   <g id=\"patch_131\">\n    <path d=\"M 417.5625 255.718125 \nL 417.5625 22.318125 \n\" style=\"fill:none;stroke:#000000;stroke-linecap:square;stroke-linejoin:miter;stroke-width:0.8;\"/>\n   </g>\n   <g id=\"patch_132\">\n    <path d=\"M 243.8875 255.718125 \nL 417.5625 255.718125 \n\" style=\"fill:none;stroke:#000000;stroke-linecap:square;stroke-linejoin:miter;stroke-width:0.8;\"/>\n   </g>\n   <g id=\"patch_133\">\n    <path d=\"M 243.8875 22.318125 \nL 417.5625 22.318125 \n\" style=\"fill:none;stroke:#000000;stroke-linecap:square;stroke-linejoin:miter;stroke-width:0.8;\"/>\n   </g>\n   <g id=\"text_22\">\n    <!-- a=3 -->\n    <g transform=\"translate(318.202812 16.318125)scale(0.12 -0.12)\">\n     <use xlink:href=\"#DejaVuSans-97\"/>\n     <use x=\"61.279297\" xlink:href=\"#DejaVuSans-61\"/>\n     <use x=\"145.068359\" xlink:href=\"#DejaVuSans-51\"/>\n    </g>\n   </g>\n  </g>\n </g>\n <defs>\n  <clipPath id=\"pf6f061601b\">\n   <rect height=\"233.4\" width=\"173.675\" x=\"33.2875\" y=\"22.318125\"/>\n  </clipPath>\n  <clipPath id=\"p3d27b66d76\">\n   <rect height=\"233.4\" width=\"173.675\" x=\"243.8875\" y=\"22.318125\"/>\n  </clipPath>\n </defs>\n</svg>\n",
      "text/plain": [
       "<Figure size 432x288 with 2 Axes>"
      ]
     },
     "metadata": {
      "needs_background": "light"
     },
     "output_type": "display_data"
    }
   ],
   "source": [
    "from scipy.stats import kurtosis, skew, skewnorm\n",
    "\n",
    "# Definimos los parámetros de la simulación\n",
    "n = 10000\n",
    "start = 0\n",
    "width = 20\n",
    "\n",
    "# Simulamos distribuciones con diferentes parámetros de asimetría \"a\"\n",
    "a = 0\n",
    "data_normal = skewnorm.rvs(size=n, a=a, loc=start, scale=width)\n",
    "\n",
    "a = 3\n",
    "data_skew = skewnorm.rvs(size=n, a=a, loc=start, scale=width)\n",
    "\n",
    "# Generamos los gráficos\n",
    "f, (ax1, ax2) = plt.subplots(1, 2)\n",
    "ax1.hist(data_normal, bins=\"auto\")\n",
    "ax1.set_title(\"a=0\")\n",
    "ax2.hist(data_skew, bins=\"auto\")\n",
    "ax2.set_title(\"a=3\")\n",
    "plt.tight_layout()\n",
    "\n",
    "sig1 = data_skew\n",
    "print(\"media : \", np.mean(sig1))\n",
    "print(\"varianza  : \", np.var(sig1))\n",
    "print(\"asimetría : \", skew(sig1))\n",
    "print(\"curtosis : \", kurtosis(sig1))"
   ]
  },
  {
   "cell_type": "markdown",
   "metadata": {
    "slideshow": {
     "slide_type": "slide"
    }
   },
   "source": [
    "# Estadística Inferencial \n",
    "\n",
    "## ¿Qué es la estadística inferencial?\n",
    "\n",
    "- Permite **obtener información de características de una población a partir de muestras**.\n",
    "- Muestra debe ser lo suficientemente grande y representativa."
   ]
  },
  {
   "cell_type": "markdown",
   "metadata": {
    "slideshow": {
     "slide_type": "subslide"
    }
   },
   "source": [
    "- Por población nos referimos a la **población de valores un atributo** (p.e. población de tallas, población de pesos, población de coeficiente intelectual, etc.)\n",
    "- En investigaciones psicológicas con seres humanos, usualmente **un individuo de una población alberga múltiples atributos de interés**.\n",
    "- Población de valores de un atributo ≠ Población de personas."
   ]
  },
  {
   "cell_type": "markdown",
   "metadata": {
    "slideshow": {
     "slide_type": "slide"
    }
   },
   "source": [
    "## Prueba de hipótesis\n",
    "\n",
    "Podemos dividir el proceso de prueba de hipótesis en varios pasos:\n",
    "\n",
    "1. Formular una hipótesis que encarne nuestra predicción (antes de ver los datos)\n",
    "2. Especificar hipótesis nulas y alternas"
   ]
  },
  {
   "cell_type": "markdown",
   "metadata": {
    "slideshow": {
     "slide_type": "subslide"
    }
   },
   "source": [
    "\n",
    "3. Recopilar algunos datos relevantes para la hipótesis.\n",
    "4. Ajustar un modelo a los datos que representan la hipótesis alternativa y calcular una estadística de prueba\n",
    "5. Calcular la probabilidad del valor observado de ese estadístico asumiendo que la hipótesis nula es verdadera\n",
    "6. Evaluar la \"significación estadística\" del resultado"
   ]
  },
  {
   "cell_type": "markdown",
   "metadata": {
    "slideshow": {
     "slide_type": "slide"
    }
   },
   "source": [
    "Por ejemplo, usemos los datos de NHANES para hacer la siguiente pregunta: ¿La actividad física está relacionada con el índice de masa corporal? \n",
    "\n",
    "En el conjunto de datos de NHANES, se preguntó a los participantes si participaban regularmente en deportes, fitness o actividades recreativas de intensidad moderada o vigorosa (almacenados en la variable `WalkOrBicycle`). \n",
    "\n",
    "Los investigadores también midieron la altura y el peso y los utilizaron para calcular el índice de masa corporal (IMC):\n",
    "\n",
    "$$ IMC = \\frac{Peso (kg)}{Altura (m)^{2}} $$"
   ]
  },
  {
   "cell_type": "markdown",
   "metadata": {
    "slideshow": {
     "slide_type": "slide"
    }
   },
   "source": [
    "### Paso 1: Formular una hipótesis de interés\n",
    "\n",
    "Planteamos la hipótesis de que el IMC es mayor para las personas que no realizan actividad física, en comparación con las que sí hacen."
   ]
  },
  {
   "cell_type": "markdown",
   "metadata": {
    "slideshow": {
     "slide_type": "slide"
    }
   },
   "source": [
    "### Paso 2: Especificar hipótesis nulas y alternas\n",
    "\n",
    "Para el paso 2, necesitamos especificar nuestra hipótesis nula (que llamamos $H_{0}$) y nuestra hipótesis alternativa (que llamamos $H_{1}$).\n",
    "\n",
    "**$H_{0}$ es la línea de base** contra la cual probamos nuestra hipótesis de interés: es decir, ¿cómo esperaríamos que se vean los datos si no hubiera ningún efecto? La hipótesis nula siempre **implica algún tipo de igualdad** (=, ≤ o ≥).\n",
    "\n",
    "**$H_{1}$ describe lo que esperamos** si realmente hay un efecto. La hipótesis alternativa siempre **implica algún tipo de desigualdad** (≠, > o <). "
   ]
  },
  {
   "cell_type": "markdown",
   "metadata": {
    "slideshow": {
     "slide_type": "subslide"
    }
   },
   "source": [
    "Es importante destacar que la prueba de hipótesis opera bajo el supuesto de que **la hipótesis nula es verdadera a menos que la evidencia demuestre lo contrario**."
   ]
  },
  {
   "cell_type": "markdown",
   "metadata": {
    "slideshow": {
     "slide_type": "subslide"
    }
   },
   "source": [
    "También tenemos que decidir si queremos probar una hipótesis direccional o no direccional. \n",
    "\n",
    "Una **hipótesis no direccional simplemente predice que habrá una diferencia**, sin predecir en qué dirección irá. Para el ejemplo de IMC/actividad, una hipótesis nula no direccional sería:\n",
    "\n",
    "$$ H_{0}: IMC_{activo} = IMC_{inactivo} $$\n",
    "\n",
    "y la hipótesis alternativa no direccional correspondiente sería:\n",
    "\n",
    "$$ H_{1}: IMC_{activo} \\neq  IMC_{inactivo} $$"
   ]
  },
  {
   "cell_type": "markdown",
   "metadata": {
    "slideshow": {
     "slide_type": "subslide"
    }
   },
   "source": [
    "Una **hipótesis direccional predice en qué dirección iría la diferencia.** \n",
    "\n",
    "Por ejemplo, tenemos un conocimiento previo sólido para predecir que las personas que realizan actividad física deben pesar menos que las que no, por lo que propondríamos la siguiente hipótesis nula direccional:\n",
    "\n",
    "$$ H_{0}: IMC_{activo} \\geq IMC_{inactivo} $$\n",
    "\n",
    "y la alterna direccional:\n",
    "\n",
    "$$ H_{1}: IMC_{activo} < IMC_{inactivo} $$"
   ]
  },
  {
   "cell_type": "markdown",
   "metadata": {
    "slideshow": {
     "slide_type": "subslide"
    }
   },
   "source": [
    "**Probar una hipótesis no direccional** es más conservador, por lo que **generalmente se prefiere a menos que exista una fuerte razón a priori para hipotetizar un efecto en una dirección particular**. \n",
    "\n",
    "Las hipótesis, sean direccionales o no, **siempre deben especificarse antes de mirar los datos.**"
   ]
  },
  {
   "cell_type": "markdown",
   "metadata": {
    "slideshow": {
     "slide_type": "slide"
    }
   },
   "source": [
    "\n",
    "### Paso 3: Recolectar algunos datos\n",
    "\n",
    "En este caso, muestrearemos 150 individuos del conjunto de datos de NHANES. El gráfico muestra un ejemplo de tal muestra, con el IMC mostrado por separado para individuos activos e inactivos, y la tabla muestra estadísticas resumidas para cada grupo:"
   ]
  },
  {
   "cell_type": "code",
   "execution_count": 26,
   "metadata": {
    "hideCode": true,
    "hidePrompt": true,
    "slideshow": {
     "slide_type": "subslide"
    }
   },
   "outputs": [
    {
     "data": {
      "text/html": [
       "<div>\n",
       "<style scoped>\n",
       "    .dataframe tbody tr th:only-of-type {\n",
       "        vertical-align: middle;\n",
       "    }\n",
       "\n",
       "    .dataframe tbody tr th {\n",
       "        vertical-align: top;\n",
       "    }\n",
       "\n",
       "    .dataframe thead tr th {\n",
       "        text-align: left;\n",
       "    }\n",
       "\n",
       "    .dataframe thead tr:last-of-type th {\n",
       "        text-align: right;\n",
       "    }\n",
       "</style>\n",
       "<table border=\"1\" class=\"dataframe\">\n",
       "  <thead>\n",
       "    <tr>\n",
       "      <th></th>\n",
       "      <th colspan=\"3\" halign=\"left\">BodyMassIndexKgm2</th>\n",
       "    </tr>\n",
       "    <tr>\n",
       "      <th></th>\n",
       "      <th>count</th>\n",
       "      <th>mean</th>\n",
       "      <th>std</th>\n",
       "    </tr>\n",
       "    <tr>\n",
       "      <th>WalkOrBicycle</th>\n",
       "      <th></th>\n",
       "      <th></th>\n",
       "      <th></th>\n",
       "    </tr>\n",
       "  </thead>\n",
       "  <tbody>\n",
       "    <tr>\n",
       "      <th>0.0</th>\n",
       "      <td>111</td>\n",
       "      <td>30.613514</td>\n",
       "      <td>7.383353</td>\n",
       "    </tr>\n",
       "    <tr>\n",
       "      <th>1.0</th>\n",
       "      <td>39</td>\n",
       "      <td>27.258974</td>\n",
       "      <td>5.931127</td>\n",
       "    </tr>\n",
       "  </tbody>\n",
       "</table>\n",
       "</div>"
      ],
      "text/plain": [
       "              BodyMassIndexKgm2                     \n",
       "                          count       mean       std\n",
       "WalkOrBicycle                                       \n",
       "0.0                         111  30.613514  7.383353\n",
       "1.0                          39  27.258974  5.931127"
      ]
     },
     "execution_count": 26,
     "metadata": {},
     "output_type": "execute_result"
    }
   ],
   "source": [
    "sample_size = 150\n",
    "bmi_sample = adult_nhanes_data.sample(sample_size, random_state=100)[\n",
    "    [\"BodyMassIndexKgm2\", \"WalkOrBicycle\"]\n",
    "]\n",
    "bmi_sample.groupby(\"WalkOrBicycle\").agg([\"count\", \"mean\", \"std\"])"
   ]
  },
  {
   "cell_type": "code",
   "execution_count": 27,
   "metadata": {
    "hideCode": true,
    "hidePrompt": true,
    "slideshow": {
     "slide_type": "subslide"
    }
   },
   "outputs": [
    {
     "data": {
      "image/png": "[encoded data removed]",
      "image/svg+xml": "<?xml version=\"1.0\" encoding=\"utf-8\" standalone=\"no\"?>\n<!DOCTYPE svg PUBLIC \"-//W3C//DTD SVG 1.1//EN\"\n  \"http://www.w3.org/Graphics/SVG/1.1/DTD/svg11.dtd\">\n<!-- Created with matplotlib (https://matplotlib.org/) -->\n<svg height=\"266.463437pt\" version=\"1.1\" viewBox=\"0 0 386.474375 266.463437\" width=\"386.474375pt\" xmlns=\"http://www.w3.org/2000/svg\" xmlns:xlink=\"http://www.w3.org/1999/xlink\">\n <metadata>\n  <rdf:RDF xmlns:cc=\"http://creativecommons.org/ns#\" xmlns:dc=\"http://purl.org/dc/elements/1.1/\" xmlns:rdf=\"http://www.w3.org/1999/02/22-rdf-syntax-ns#\">\n   <cc:Work>\n    <dc:type rdf:resource=\"http://purl.org/dc/dcmitype/StillImage\"/>\n    <dc:date>2021-09-01T22:29:13.262245</dc:date>\n    <dc:format>image/svg+xml</dc:format>\n    <dc:creator>\n     <cc:Agent>\n      <dc:title>Matplotlib v3.3.4, https://matplotlib.org/</dc:title>\n     </cc:Agent>\n    </dc:creator>\n   </cc:Work>\n  </rdf:RDF>\n </metadata>\n <defs>\n  <style type=\"text/css\">*{stroke-linecap:butt;stroke-linejoin:round;}</style>\n </defs>\n <g id=\"figure_1\">\n  <g id=\"patch_1\">\n   <path d=\"M 0 266.463437 \nL 386.474375 266.463437 \nL 386.474375 0 \nL 0 0 \nz\n\" style=\"fill:none;\"/>\n  </g>\n  <g id=\"axes_1\">\n   <g id=\"patch_2\">\n    <path d=\"M 44.474375 224.64 \nL 379.274375 224.64 \nL 379.274375 7.2 \nL 44.474375 7.2 \nz\n\" style=\"fill:#ffffff;\"/>\n   </g>\n   <g id=\"patch_3\">\n    <path clip-path=\"url(#p503c12b64e)\" d=\"M 61.214375 170.422357 \nL 195.134375 170.422357 \nL 195.134375 137.883636 \nL 61.214375 137.883636 \nL 61.214375 170.422357 \nz\n\" style=\"fill:#3274a1;stroke:#3f3f3f;stroke-linejoin:miter;stroke-width:1.5;\"/>\n   </g>\n   <g id=\"patch_4\">\n    <path clip-path=\"url(#p503c12b64e)\" d=\"M 228.614375 183.641212 \nL 362.534375 183.641212 \nL 362.534375 148.865455 \nL 228.614375 148.865455 \nL 228.614375 183.641212 \nz\n\" style=\"fill:#e1812c;stroke:#3f3f3f;stroke-linejoin:miter;stroke-width:1.5;\"/>\n   </g>\n   <g id=\"matplotlib.axis_1\">\n    <g id=\"xtick_1\">\n     <g id=\"line2d_1\">\n      <defs>\n       <path d=\"M 0 0 \nL 0 3.5 \n\" id=\"m3ddaade030\" style=\"stroke:#000000;stroke-width:0.8;\"/>\n      </defs>\n      <g>\n       <use style=\"stroke:#000000;stroke-width:0.8;\" x=\"128.174375\" xlink:href=\"#m3ddaade030\" y=\"224.64\"/>\n      </g>\n     </g>\n     <g id=\"text_1\">\n      <!-- No -->\n      <g transform=\"translate(121.374375 239.238437)scale(0.1 -0.1)\">\n       <defs>\n        <path d=\"M 9.8125 72.90625 \nL 23.09375 72.90625 \nL 55.421875 11.921875 \nL 55.421875 72.90625 \nL 64.984375 72.90625 \nL 64.984375 0 \nL 51.703125 0 \nL 19.390625 60.984375 \nL 19.390625 0 \nL 9.8125 0 \nz\n\" id=\"DejaVuSans-78\"/>\n        <path d=\"M 30.609375 48.390625 \nQ 23.390625 48.390625 19.1875 42.75 \nQ 14.984375 37.109375 14.984375 27.296875 \nQ 14.984375 17.484375 19.15625 11.84375 \nQ 23.34375 6.203125 30.609375 6.203125 \nQ 37.796875 6.203125 41.984375 11.859375 \nQ 46.1875 17.53125 46.1875 27.296875 \nQ 46.1875 37.015625 41.984375 42.703125 \nQ 37.796875 48.390625 30.609375 48.390625 \nz\nM 30.609375 56 \nQ 42.328125 56 49.015625 48.375 \nQ 55.71875 40.765625 55.71875 27.296875 \nQ 55.71875 13.875 49.015625 6.21875 \nQ 42.328125 -1.421875 30.609375 -1.421875 \nQ 18.84375 -1.421875 12.171875 6.21875 \nQ 5.515625 13.875 5.515625 27.296875 \nQ 5.515625 40.765625 12.171875 48.375 \nQ 18.84375 56 30.609375 56 \nz\n\" id=\"DejaVuSans-111\"/>\n       </defs>\n       <use xlink:href=\"#DejaVuSans-78\"/>\n       <use x=\"74.804688\" xlink:href=\"#DejaVuSans-111\"/>\n      </g>\n     </g>\n    </g>\n    <g id=\"xtick_2\">\n     <g id=\"line2d_2\">\n      <g>\n       <use style=\"stroke:#000000;stroke-width:0.8;\" x=\"295.574375\" xlink:href=\"#m3ddaade030\" y=\"224.64\"/>\n      </g>\n     </g>\n     <g id=\"text_2\">\n      <!-- Sí -->\n      <g transform=\"translate(291.011094 239.238437)scale(0.1 -0.1)\">\n       <defs>\n        <path d=\"M 53.515625 70.515625 \nL 53.515625 60.890625 \nQ 47.90625 63.578125 42.921875 64.890625 \nQ 37.9375 66.21875 33.296875 66.21875 \nQ 25.25 66.21875 20.875 63.09375 \nQ 16.5 59.96875 16.5 54.203125 \nQ 16.5 49.359375 19.40625 46.890625 \nQ 22.3125 44.4375 30.421875 42.921875 \nL 36.375 41.703125 \nQ 47.40625 39.59375 52.65625 34.296875 \nQ 57.90625 29 57.90625 20.125 \nQ 57.90625 9.515625 50.796875 4.046875 \nQ 43.703125 -1.421875 29.984375 -1.421875 \nQ 24.8125 -1.421875 18.96875 -0.25 \nQ 13.140625 0.921875 6.890625 3.21875 \nL 6.890625 13.375 \nQ 12.890625 10.015625 18.65625 8.296875 \nQ 24.421875 6.59375 29.984375 6.59375 \nQ 38.421875 6.59375 43.015625 9.90625 \nQ 47.609375 13.234375 47.609375 19.390625 \nQ 47.609375 24.75 44.3125 27.78125 \nQ 41.015625 30.8125 33.5 32.328125 \nL 27.484375 33.5 \nQ 16.453125 35.6875 11.515625 40.375 \nQ 6.59375 45.0625 6.59375 53.421875 \nQ 6.59375 63.09375 13.40625 68.65625 \nQ 20.21875 74.21875 32.171875 74.21875 \nQ 37.3125 74.21875 42.625 73.28125 \nQ 47.953125 72.359375 53.515625 70.515625 \nz\n\" id=\"DejaVuSans-83\"/>\n        <path d=\"M 20.703125 79.984375 \nL 30.421875 79.984375 \nL 14.5 61.625 \nL 7.03125 61.625 \nz\nM 9.421875 54.6875 \nL 18.40625 54.6875 \nL 18.40625 0 \nL 9.421875 0 \nz\nM 13.921875 56 \nz\n\" id=\"DejaVuSans-237\"/>\n       </defs>\n       <use xlink:href=\"#DejaVuSans-83\"/>\n       <use x=\"63.476562\" xlink:href=\"#DejaVuSans-237\"/>\n      </g>\n     </g>\n    </g>\n    <g id=\"text_3\">\n     <!-- ¿Activo físicamente? -->\n     <g transform=\"translate(139.836719 256.351875)scale(0.14 -0.14)\">\n      <defs>\n       <path d=\"M 24.421875 35.109375 \nL 33.6875 35.109375 \nL 33.6875 27.484375 \nQ 33.6875 22.5625 32.34375 19.390625 \nQ 31 16.21875 26.609375 11.96875 \nL 22.21875 7.671875 \nQ 19.390625 5.078125 18.140625 2.78125 \nQ 16.890625 0.484375 16.890625 -1.90625 \nQ 16.890625 -6.25 20.09375 -8.9375 \nQ 23.296875 -11.625 28.609375 -11.625 \nQ 32.421875 -11.625 36.8125 -9.90625 \nQ 41.21875 -8.203125 45.90625 -4.9375 \nL 45.90625 -14.109375 \nQ 41.3125 -16.890625 36.625 -18.25 \nQ 31.9375 -19.625 26.90625 -19.625 \nQ 17.921875 -19.625 12.453125 -14.890625 \nQ 6.984375 -10.15625 6.984375 -2.390625 \nQ 6.984375 1.3125 8.765625 4.65625 \nQ 10.546875 8.015625 14.890625 12.203125 \nL 19.1875 16.40625 \nQ 21.53125 18.703125 22.453125 20 \nQ 23.390625 21.296875 23.78125 22.515625 \nQ 24.125 23.53125 24.265625 25 \nQ 24.421875 26.46875 24.421875 29.109375 \nz\nM 33.984375 42.28125 \nL 24.125 42.28125 \nL 24.125 54.6875 \nL 33.984375 54.6875 \nz\n\" id=\"DejaVuSans-191\"/>\n       <path d=\"M 34.1875 63.1875 \nL 20.796875 26.90625 \nL 47.609375 26.90625 \nz\nM 28.609375 72.90625 \nL 39.796875 72.90625 \nL 67.578125 0 \nL 57.328125 0 \nL 50.6875 18.703125 \nL 17.828125 18.703125 \nL 11.1875 0 \nL 0.78125 0 \nz\n\" id=\"DejaVuSans-65\"/>\n       <path d=\"M 48.78125 52.59375 \nL 48.78125 44.1875 \nQ 44.96875 46.296875 41.140625 47.34375 \nQ 37.3125 48.390625 33.40625 48.390625 \nQ 24.65625 48.390625 19.8125 42.84375 \nQ 14.984375 37.3125 14.984375 27.296875 \nQ 14.984375 17.28125 19.8125 11.734375 \nQ 24.65625 6.203125 33.40625 6.203125 \nQ 37.3125 6.203125 41.140625 7.25 \nQ 44.96875 8.296875 48.78125 10.40625 \nL 48.78125 2.09375 \nQ 45.015625 0.34375 40.984375 -0.53125 \nQ 36.96875 -1.421875 32.421875 -1.421875 \nQ 20.0625 -1.421875 12.78125 6.34375 \nQ 5.515625 14.109375 5.515625 27.296875 \nQ 5.515625 40.671875 12.859375 48.328125 \nQ 20.21875 56 33.015625 56 \nQ 37.15625 56 41.109375 55.140625 \nQ 45.0625 54.296875 48.78125 52.59375 \nz\n\" id=\"DejaVuSans-99\"/>\n       <path d=\"M 18.3125 70.21875 \nL 18.3125 54.6875 \nL 36.8125 54.6875 \nL 36.8125 47.703125 \nL 18.3125 47.703125 \nL 18.3125 18.015625 \nQ 18.3125 11.328125 20.140625 9.421875 \nQ 21.96875 7.515625 27.59375 7.515625 \nL 36.8125 7.515625 \nL 36.8125 0 \nL 27.59375 0 \nQ 17.1875 0 13.234375 3.875 \nQ 9.28125 7.765625 9.28125 18.015625 \nL 9.28125 47.703125 \nL 2.6875 47.703125 \nL 2.6875 54.6875 \nL 9.28125 54.6875 \nL 9.28125 70.21875 \nz\n\" id=\"DejaVuSans-116\"/>\n       <path d=\"M 9.421875 54.6875 \nL 18.40625 54.6875 \nL 18.40625 0 \nL 9.421875 0 \nz\nM 9.421875 75.984375 \nL 18.40625 75.984375 \nL 18.40625 64.59375 \nL 9.421875 64.59375 \nz\n\" id=\"DejaVuSans-105\"/>\n       <path d=\"M 2.984375 54.6875 \nL 12.5 54.6875 \nL 29.59375 8.796875 \nL 46.6875 54.6875 \nL 56.203125 54.6875 \nL 35.6875 0 \nL 23.484375 0 \nz\n\" id=\"DejaVuSans-118\"/>\n       <path id=\"DejaVuSans-32\"/>\n       <path d=\"M 37.109375 75.984375 \nL 37.109375 68.5 \nL 28.515625 68.5 \nQ 23.6875 68.5 21.796875 66.546875 \nQ 19.921875 64.59375 19.921875 59.515625 \nL 19.921875 54.6875 \nL 34.71875 54.6875 \nL 34.71875 47.703125 \nL 19.921875 47.703125 \nL 19.921875 0 \nL 10.890625 0 \nL 10.890625 47.703125 \nL 2.296875 47.703125 \nL 2.296875 54.6875 \nL 10.890625 54.6875 \nL 10.890625 58.5 \nQ 10.890625 67.625 15.140625 71.796875 \nQ 19.390625 75.984375 28.609375 75.984375 \nz\n\" id=\"DejaVuSans-102\"/>\n       <path d=\"M 44.28125 53.078125 \nL 44.28125 44.578125 \nQ 40.484375 46.53125 36.375 47.5 \nQ 32.28125 48.484375 27.875 48.484375 \nQ 21.1875 48.484375 17.84375 46.4375 \nQ 14.5 44.390625 14.5 40.28125 \nQ 14.5 37.15625 16.890625 35.375 \nQ 19.28125 33.59375 26.515625 31.984375 \nL 29.59375 31.296875 \nQ 39.15625 29.25 43.1875 25.515625 \nQ 47.21875 21.78125 47.21875 15.09375 \nQ 47.21875 7.46875 41.1875 3.015625 \nQ 35.15625 -1.421875 24.609375 -1.421875 \nQ 20.21875 -1.421875 15.453125 -0.5625 \nQ 10.6875 0.296875 5.421875 2 \nL 5.421875 11.28125 \nQ 10.40625 8.6875 15.234375 7.390625 \nQ 20.0625 6.109375 24.8125 6.109375 \nQ 31.15625 6.109375 34.5625 8.28125 \nQ 37.984375 10.453125 37.984375 14.40625 \nQ 37.984375 18.0625 35.515625 20.015625 \nQ 33.0625 21.96875 24.703125 23.78125 \nL 21.578125 24.515625 \nQ 13.234375 26.265625 9.515625 29.90625 \nQ 5.8125 33.546875 5.8125 39.890625 \nQ 5.8125 47.609375 11.28125 51.796875 \nQ 16.75 56 26.8125 56 \nQ 31.78125 56 36.171875 55.265625 \nQ 40.578125 54.546875 44.28125 53.078125 \nz\n\" id=\"DejaVuSans-115\"/>\n       <path d=\"M 34.28125 27.484375 \nQ 23.390625 27.484375 19.1875 25 \nQ 14.984375 22.515625 14.984375 16.5 \nQ 14.984375 11.71875 18.140625 8.90625 \nQ 21.296875 6.109375 26.703125 6.109375 \nQ 34.1875 6.109375 38.703125 11.40625 \nQ 43.21875 16.703125 43.21875 25.484375 \nL 43.21875 27.484375 \nz\nM 52.203125 31.203125 \nL 52.203125 0 \nL 43.21875 0 \nL 43.21875 8.296875 \nQ 40.140625 3.328125 35.546875 0.953125 \nQ 30.953125 -1.421875 24.3125 -1.421875 \nQ 15.921875 -1.421875 10.953125 3.296875 \nQ 6 8.015625 6 15.921875 \nQ 6 25.140625 12.171875 29.828125 \nQ 18.359375 34.515625 30.609375 34.515625 \nL 43.21875 34.515625 \nL 43.21875 35.40625 \nQ 43.21875 41.609375 39.140625 45 \nQ 35.0625 48.390625 27.6875 48.390625 \nQ 23 48.390625 18.546875 47.265625 \nQ 14.109375 46.140625 10.015625 43.890625 \nL 10.015625 52.203125 \nQ 14.9375 54.109375 19.578125 55.046875 \nQ 24.21875 56 28.609375 56 \nQ 40.484375 56 46.34375 49.84375 \nQ 52.203125 43.703125 52.203125 31.203125 \nz\n\" id=\"DejaVuSans-97\"/>\n       <path d=\"M 52 44.1875 \nQ 55.375 50.25 60.0625 53.125 \nQ 64.75 56 71.09375 56 \nQ 79.640625 56 84.28125 50.015625 \nQ 88.921875 44.046875 88.921875 33.015625 \nL 88.921875 0 \nL 79.890625 0 \nL 79.890625 32.71875 \nQ 79.890625 40.578125 77.09375 44.375 \nQ 74.3125 48.1875 68.609375 48.1875 \nQ 61.625 48.1875 57.5625 43.546875 \nQ 53.515625 38.921875 53.515625 30.90625 \nL 53.515625 0 \nL 44.484375 0 \nL 44.484375 32.71875 \nQ 44.484375 40.625 41.703125 44.40625 \nQ 38.921875 48.1875 33.109375 48.1875 \nQ 26.21875 48.1875 22.15625 43.53125 \nQ 18.109375 38.875 18.109375 30.90625 \nL 18.109375 0 \nL 9.078125 0 \nL 9.078125 54.6875 \nL 18.109375 54.6875 \nL 18.109375 46.1875 \nQ 21.1875 51.21875 25.484375 53.609375 \nQ 29.78125 56 35.6875 56 \nQ 41.65625 56 45.828125 52.96875 \nQ 50 49.953125 52 44.1875 \nz\n\" id=\"DejaVuSans-109\"/>\n       <path d=\"M 56.203125 29.59375 \nL 56.203125 25.203125 \nL 14.890625 25.203125 \nQ 15.484375 15.921875 20.484375 11.0625 \nQ 25.484375 6.203125 34.421875 6.203125 \nQ 39.59375 6.203125 44.453125 7.46875 \nQ 49.3125 8.734375 54.109375 11.28125 \nL 54.109375 2.78125 \nQ 49.265625 0.734375 44.1875 -0.34375 \nQ 39.109375 -1.421875 33.890625 -1.421875 \nQ 20.796875 -1.421875 13.15625 6.1875 \nQ 5.515625 13.8125 5.515625 26.8125 \nQ 5.515625 40.234375 12.765625 48.109375 \nQ 20.015625 56 32.328125 56 \nQ 43.359375 56 49.78125 48.890625 \nQ 56.203125 41.796875 56.203125 29.59375 \nz\nM 47.21875 32.234375 \nQ 47.125 39.59375 43.09375 43.984375 \nQ 39.0625 48.390625 32.421875 48.390625 \nQ 24.90625 48.390625 20.390625 44.140625 \nQ 15.875 39.890625 15.1875 32.171875 \nz\n\" id=\"DejaVuSans-101\"/>\n       <path d=\"M 54.890625 33.015625 \nL 54.890625 0 \nL 45.90625 0 \nL 45.90625 32.71875 \nQ 45.90625 40.484375 42.875 44.328125 \nQ 39.84375 48.1875 33.796875 48.1875 \nQ 26.515625 48.1875 22.3125 43.546875 \nQ 18.109375 38.921875 18.109375 30.90625 \nL 18.109375 0 \nL 9.078125 0 \nL 9.078125 54.6875 \nL 18.109375 54.6875 \nL 18.109375 46.1875 \nQ 21.34375 51.125 25.703125 53.5625 \nQ 30.078125 56 35.796875 56 \nQ 45.21875 56 50.046875 50.171875 \nQ 54.890625 44.34375 54.890625 33.015625 \nz\n\" id=\"DejaVuSans-110\"/>\n       <path d=\"M 19.09375 12.40625 \nL 29 12.40625 \nL 29 0 \nL 19.09375 0 \nz\nM 28.71875 19.578125 \nL 19.390625 19.578125 \nL 19.390625 27.09375 \nQ 19.390625 32.03125 20.75 35.203125 \nQ 22.125 38.375 26.515625 42.578125 \nL 30.90625 46.921875 \nQ 33.6875 49.515625 34.9375 51.8125 \nQ 36.1875 54.109375 36.1875 56.5 \nQ 36.1875 60.84375 32.984375 63.53125 \nQ 29.78125 66.21875 24.515625 66.21875 \nQ 20.65625 66.21875 16.28125 64.5 \nQ 11.921875 62.796875 7.171875 59.515625 \nL 7.171875 68.703125 \nQ 11.765625 71.484375 16.46875 72.84375 \nQ 21.1875 74.21875 26.21875 74.21875 \nQ 35.203125 74.21875 40.640625 69.484375 \nQ 46.09375 64.75 46.09375 56.984375 \nQ 46.09375 53.265625 44.328125 49.921875 \nQ 42.578125 46.578125 38.1875 42.390625 \nL 33.890625 38.1875 \nQ 31.59375 35.890625 30.640625 34.59375 \nQ 29.6875 33.296875 29.296875 32.078125 \nQ 29 31.0625 28.859375 29.59375 \nQ 28.71875 28.125 28.71875 25.59375 \nz\n\" id=\"DejaVuSans-63\"/>\n      </defs>\n      <use xlink:href=\"#DejaVuSans-191\"/>\n      <use x=\"53.076172\" xlink:href=\"#DejaVuSans-65\"/>\n      <use x=\"119.734375\" xlink:href=\"#DejaVuSans-99\"/>\n      <use x=\"174.714844\" xlink:href=\"#DejaVuSans-116\"/>\n      <use x=\"213.923828\" xlink:href=\"#DejaVuSans-105\"/>\n      <use x=\"241.707031\" xlink:href=\"#DejaVuSans-118\"/>\n      <use x=\"300.886719\" xlink:href=\"#DejaVuSans-111\"/>\n      <use x=\"362.068359\" xlink:href=\"#DejaVuSans-32\"/>\n      <use x=\"393.855469\" xlink:href=\"#DejaVuSans-102\"/>\n      <use x=\"429.060547\" xlink:href=\"#DejaVuSans-237\"/>\n      <use x=\"456.84375\" xlink:href=\"#DejaVuSans-115\"/>\n      <use x=\"508.943359\" xlink:href=\"#DejaVuSans-105\"/>\n      <use x=\"536.726562\" xlink:href=\"#DejaVuSans-99\"/>\n      <use x=\"591.707031\" xlink:href=\"#DejaVuSans-97\"/>\n      <use x=\"652.986328\" xlink:href=\"#DejaVuSans-109\"/>\n      <use x=\"750.398438\" xlink:href=\"#DejaVuSans-101\"/>\n      <use x=\"811.921875\" xlink:href=\"#DejaVuSans-110\"/>\n      <use x=\"875.300781\" xlink:href=\"#DejaVuSans-116\"/>\n      <use x=\"914.509766\" xlink:href=\"#DejaVuSans-101\"/>\n      <use x=\"976.033203\" xlink:href=\"#DejaVuSans-63\"/>\n     </g>\n    </g>\n   </g>\n   <g id=\"matplotlib.axis_2\">\n    <g id=\"ytick_1\">\n     <g id=\"line2d_3\">\n      <defs>\n       <path d=\"M 0 0 \nL -3.5 0 \n\" id=\"m1bcfbf97d3\" style=\"stroke:#000000;stroke-width:0.8;\"/>\n      </defs>\n      <g>\n       <use style=\"stroke:#000000;stroke-width:0.8;\" x=\"44.474375\" xlink:href=\"#m1bcfbf97d3\" y=\"194.012929\"/>\n      </g>\n     </g>\n     <g id=\"text_4\">\n      <!-- 20 -->\n      <g transform=\"translate(24.749375 197.812148)scale(0.1 -0.1)\">\n       <defs>\n        <path d=\"M 19.1875 8.296875 \nL 53.609375 8.296875 \nL 53.609375 0 \nL 7.328125 0 \nL 7.328125 8.296875 \nQ 12.9375 14.109375 22.625 23.890625 \nQ 32.328125 33.6875 34.8125 36.53125 \nQ 39.546875 41.84375 41.421875 45.53125 \nQ 43.3125 49.21875 43.3125 52.78125 \nQ 43.3125 58.59375 39.234375 62.25 \nQ 35.15625 65.921875 28.609375 65.921875 \nQ 23.96875 65.921875 18.8125 64.3125 \nQ 13.671875 62.703125 7.8125 59.421875 \nL 7.8125 69.390625 \nQ 13.765625 71.78125 18.9375 73 \nQ 24.125 74.21875 28.421875 74.21875 \nQ 39.75 74.21875 46.484375 68.546875 \nQ 53.21875 62.890625 53.21875 53.421875 \nQ 53.21875 48.921875 51.53125 44.890625 \nQ 49.859375 40.875 45.40625 35.40625 \nQ 44.1875 33.984375 37.640625 27.21875 \nQ 31.109375 20.453125 19.1875 8.296875 \nz\n\" id=\"DejaVuSans-50\"/>\n        <path d=\"M 31.78125 66.40625 \nQ 24.171875 66.40625 20.328125 58.90625 \nQ 16.5 51.421875 16.5 36.375 \nQ 16.5 21.390625 20.328125 13.890625 \nQ 24.171875 6.390625 31.78125 6.390625 \nQ 39.453125 6.390625 43.28125 13.890625 \nQ 47.125 21.390625 47.125 36.375 \nQ 47.125 51.421875 43.28125 58.90625 \nQ 39.453125 66.40625 31.78125 66.40625 \nz\nM 31.78125 74.21875 \nQ 44.046875 74.21875 50.515625 64.515625 \nQ 56.984375 54.828125 56.984375 36.375 \nQ 56.984375 17.96875 50.515625 8.265625 \nQ 44.046875 -1.421875 31.78125 -1.421875 \nQ 19.53125 -1.421875 13.0625 8.265625 \nQ 6.59375 17.96875 6.59375 36.375 \nQ 6.59375 54.828125 13.0625 64.515625 \nQ 19.53125 74.21875 31.78125 74.21875 \nz\n\" id=\"DejaVuSans-48\"/>\n       </defs>\n       <use xlink:href=\"#DejaVuSans-50\"/>\n       <use x=\"63.623047\" xlink:href=\"#DejaVuSans-48\"/>\n      </g>\n     </g>\n    </g>\n    <g id=\"ytick_2\">\n     <g id=\"line2d_4\">\n      <g>\n       <use style=\"stroke:#000000;stroke-width:0.8;\" x=\"44.474375\" xlink:href=\"#m1bcfbf97d3\" y=\"153.339529\"/>\n      </g>\n     </g>\n     <g id=\"text_5\">\n      <!-- 30 -->\n      <g transform=\"translate(24.749375 157.138747)scale(0.1 -0.1)\">\n       <defs>\n        <path d=\"M 40.578125 39.3125 \nQ 47.65625 37.796875 51.625 33 \nQ 55.609375 28.21875 55.609375 21.1875 \nQ 55.609375 10.40625 48.1875 4.484375 \nQ 40.765625 -1.421875 27.09375 -1.421875 \nQ 22.515625 -1.421875 17.65625 -0.515625 \nQ 12.796875 0.390625 7.625 2.203125 \nL 7.625 11.71875 \nQ 11.71875 9.328125 16.59375 8.109375 \nQ 21.484375 6.890625 26.8125 6.890625 \nQ 36.078125 6.890625 40.9375 10.546875 \nQ 45.796875 14.203125 45.796875 21.1875 \nQ 45.796875 27.640625 41.28125 31.265625 \nQ 36.765625 34.90625 28.71875 34.90625 \nL 20.21875 34.90625 \nL 20.21875 43.015625 \nL 29.109375 43.015625 \nQ 36.375 43.015625 40.234375 45.921875 \nQ 44.09375 48.828125 44.09375 54.296875 \nQ 44.09375 59.90625 40.109375 62.90625 \nQ 36.140625 65.921875 28.71875 65.921875 \nQ 24.65625 65.921875 20.015625 65.03125 \nQ 15.375 64.15625 9.8125 62.3125 \nL 9.8125 71.09375 \nQ 15.4375 72.65625 20.34375 73.4375 \nQ 25.25 74.21875 29.59375 74.21875 \nQ 40.828125 74.21875 47.359375 69.109375 \nQ 53.90625 64.015625 53.90625 55.328125 \nQ 53.90625 49.265625 50.4375 45.09375 \nQ 46.96875 40.921875 40.578125 39.3125 \nz\n\" id=\"DejaVuSans-51\"/>\n       </defs>\n       <use xlink:href=\"#DejaVuSans-51\"/>\n       <use x=\"63.623047\" xlink:href=\"#DejaVuSans-48\"/>\n      </g>\n     </g>\n    </g>\n    <g id=\"ytick_3\">\n     <g id=\"line2d_5\">\n      <g>\n       <use style=\"stroke:#000000;stroke-width:0.8;\" x=\"44.474375\" xlink:href=\"#m1bcfbf97d3\" y=\"112.666128\"/>\n      </g>\n     </g>\n     <g id=\"text_6\">\n      <!-- 40 -->\n      <g transform=\"translate(24.749375 116.465347)scale(0.1 -0.1)\">\n       <defs>\n        <path d=\"M 37.796875 64.3125 \nL 12.890625 25.390625 \nL 37.796875 25.390625 \nz\nM 35.203125 72.90625 \nL 47.609375 72.90625 \nL 47.609375 25.390625 \nL 58.015625 25.390625 \nL 58.015625 17.1875 \nL 47.609375 17.1875 \nL 47.609375 0 \nL 37.796875 0 \nL 37.796875 17.1875 \nL 4.890625 17.1875 \nL 4.890625 26.703125 \nz\n\" id=\"DejaVuSans-52\"/>\n       </defs>\n       <use xlink:href=\"#DejaVuSans-52\"/>\n       <use x=\"63.623047\" xlink:href=\"#DejaVuSans-48\"/>\n      </g>\n     </g>\n    </g>\n    <g id=\"ytick_4\">\n     <g id=\"line2d_6\">\n      <g>\n       <use style=\"stroke:#000000;stroke-width:0.8;\" x=\"44.474375\" xlink:href=\"#m1bcfbf97d3\" y=\"71.992727\"/>\n      </g>\n     </g>\n     <g id=\"text_7\">\n      <!-- 50 -->\n      <g transform=\"translate(24.749375 75.791946)scale(0.1 -0.1)\">\n       <defs>\n        <path d=\"M 10.796875 72.90625 \nL 49.515625 72.90625 \nL 49.515625 64.59375 \nL 19.828125 64.59375 \nL 19.828125 46.734375 \nQ 21.96875 47.46875 24.109375 47.828125 \nQ 26.265625 48.1875 28.421875 48.1875 \nQ 40.625 48.1875 47.75 41.5 \nQ 54.890625 34.8125 54.890625 23.390625 \nQ 54.890625 11.625 47.5625 5.09375 \nQ 40.234375 -1.421875 26.90625 -1.421875 \nQ 22.3125 -1.421875 17.546875 -0.640625 \nQ 12.796875 0.140625 7.71875 1.703125 \nL 7.71875 11.625 \nQ 12.109375 9.234375 16.796875 8.0625 \nQ 21.484375 6.890625 26.703125 6.890625 \nQ 35.15625 6.890625 40.078125 11.328125 \nQ 45.015625 15.765625 45.015625 23.390625 \nQ 45.015625 31 40.078125 35.4375 \nQ 35.15625 39.890625 26.703125 39.890625 \nQ 22.75 39.890625 18.8125 39.015625 \nQ 14.890625 38.140625 10.796875 36.28125 \nz\n\" id=\"DejaVuSans-53\"/>\n       </defs>\n       <use xlink:href=\"#DejaVuSans-53\"/>\n       <use x=\"63.623047\" xlink:href=\"#DejaVuSans-48\"/>\n      </g>\n     </g>\n    </g>\n    <g id=\"ytick_5\">\n     <g id=\"line2d_7\">\n      <g>\n       <use style=\"stroke:#000000;stroke-width:0.8;\" x=\"44.474375\" xlink:href=\"#m1bcfbf97d3\" y=\"31.319327\"/>\n      </g>\n     </g>\n     <g id=\"text_8\">\n      <!-- 60 -->\n      <g transform=\"translate(24.749375 35.118545)scale(0.1 -0.1)\">\n       <defs>\n        <path d=\"M 33.015625 40.375 \nQ 26.375 40.375 22.484375 35.828125 \nQ 18.609375 31.296875 18.609375 23.390625 \nQ 18.609375 15.53125 22.484375 10.953125 \nQ 26.375 6.390625 33.015625 6.390625 \nQ 39.65625 6.390625 43.53125 10.953125 \nQ 47.40625 15.53125 47.40625 23.390625 \nQ 47.40625 31.296875 43.53125 35.828125 \nQ 39.65625 40.375 33.015625 40.375 \nz\nM 52.59375 71.296875 \nL 52.59375 62.3125 \nQ 48.875 64.0625 45.09375 64.984375 \nQ 41.3125 65.921875 37.59375 65.921875 \nQ 27.828125 65.921875 22.671875 59.328125 \nQ 17.53125 52.734375 16.796875 39.40625 \nQ 19.671875 43.65625 24.015625 45.921875 \nQ 28.375 48.1875 33.59375 48.1875 \nQ 44.578125 48.1875 50.953125 41.515625 \nQ 57.328125 34.859375 57.328125 23.390625 \nQ 57.328125 12.15625 50.6875 5.359375 \nQ 44.046875 -1.421875 33.015625 -1.421875 \nQ 20.359375 -1.421875 13.671875 8.265625 \nQ 6.984375 17.96875 6.984375 36.375 \nQ 6.984375 53.65625 15.1875 63.9375 \nQ 23.390625 74.21875 37.203125 74.21875 \nQ 40.921875 74.21875 44.703125 73.484375 \nQ 48.484375 72.75 52.59375 71.296875 \nz\n\" id=\"DejaVuSans-54\"/>\n       </defs>\n       <use xlink:href=\"#DejaVuSans-54\"/>\n       <use x=\"63.623047\" xlink:href=\"#DejaVuSans-48\"/>\n      </g>\n     </g>\n    </g>\n    <g id=\"text_9\">\n     <!-- IMC -->\n     <g transform=\"translate(17.837812 128.912656)rotate(-90)scale(0.14 -0.14)\">\n      <defs>\n       <path d=\"M 9.8125 72.90625 \nL 19.671875 72.90625 \nL 19.671875 0 \nL 9.8125 0 \nz\n\" id=\"DejaVuSans-73\"/>\n       <path d=\"M 9.8125 72.90625 \nL 24.515625 72.90625 \nL 43.109375 23.296875 \nL 61.8125 72.90625 \nL 76.515625 72.90625 \nL 76.515625 0 \nL 66.890625 0 \nL 66.890625 64.015625 \nL 48.09375 14.015625 \nL 38.1875 14.015625 \nL 19.390625 64.015625 \nL 19.390625 0 \nL 9.8125 0 \nz\n\" id=\"DejaVuSans-77\"/>\n       <path d=\"M 64.40625 67.28125 \nL 64.40625 56.890625 \nQ 59.421875 61.53125 53.78125 63.8125 \nQ 48.140625 66.109375 41.796875 66.109375 \nQ 29.296875 66.109375 22.65625 58.46875 \nQ 16.015625 50.828125 16.015625 36.375 \nQ 16.015625 21.96875 22.65625 14.328125 \nQ 29.296875 6.6875 41.796875 6.6875 \nQ 48.140625 6.6875 53.78125 8.984375 \nQ 59.421875 11.28125 64.40625 15.921875 \nL 64.40625 5.609375 \nQ 59.234375 2.09375 53.4375 0.328125 \nQ 47.65625 -1.421875 41.21875 -1.421875 \nQ 24.65625 -1.421875 15.125 8.703125 \nQ 5.609375 18.84375 5.609375 36.375 \nQ 5.609375 53.953125 15.125 64.078125 \nQ 24.65625 74.21875 41.21875 74.21875 \nQ 47.75 74.21875 53.53125 72.484375 \nQ 59.328125 70.75 64.40625 67.28125 \nz\n\" id=\"DejaVuSans-67\"/>\n      </defs>\n      <use xlink:href=\"#DejaVuSans-73\"/>\n      <use x=\"29.492188\" xlink:href=\"#DejaVuSans-77\"/>\n      <use x=\"115.771484\" xlink:href=\"#DejaVuSans-67\"/>\n     </g>\n    </g>\n   </g>\n   <g id=\"line2d_8\">\n    <path clip-path=\"url(#p503c12b64e)\" d=\"M 128.174375 170.422357 \nL 128.174375 209.062088 \n\" style=\"fill:none;stroke:#3f3f3f;stroke-linecap:square;stroke-width:1.5;\"/>\n   </g>\n   <g id=\"line2d_9\">\n    <path clip-path=\"url(#p503c12b64e)\" d=\"M 128.174375 137.883636 \nL 128.174375 91.922694 \n\" style=\"fill:none;stroke:#3f3f3f;stroke-linecap:square;stroke-width:1.5;\"/>\n   </g>\n   <g id=\"line2d_10\">\n    <path clip-path=\"url(#p503c12b64e)\" d=\"M 94.694375 209.062088 \nL 161.654375 209.062088 \n\" style=\"fill:none;stroke:#3f3f3f;stroke-linecap:square;stroke-width:1.5;\"/>\n   </g>\n   <g id=\"line2d_11\">\n    <path clip-path=\"url(#p503c12b64e)\" d=\"M 94.694375 91.922694 \nL 161.654375 91.922694 \n\" style=\"fill:none;stroke:#3f3f3f;stroke-linecap:square;stroke-width:1.5;\"/>\n   </g>\n   <g id=\"line2d_12\">\n    <defs>\n     <path d=\"M -0 3.535534 \nL 2.12132 0 \nL -0 -3.535534 \nL -2.12132 -0 \nz\n\" id=\"m7346bbf0d4\" style=\"stroke:#3f3f3f;stroke-linejoin:miter;\"/>\n    </defs>\n    <g clip-path=\"url(#p503c12b64e)\">\n     <use style=\"fill:#3f3f3f;stroke:#3f3f3f;stroke-linejoin:miter;\" x=\"128.174375\" xlink:href=\"#m7346bbf0d4\" y=\"88.262088\"/>\n     <use style=\"fill:#3f3f3f;stroke:#3f3f3f;stroke-linejoin:miter;\" x=\"128.174375\" xlink:href=\"#m7346bbf0d4\" y=\"81.347609\"/>\n     <use style=\"fill:#3f3f3f;stroke:#3f3f3f;stroke-linejoin:miter;\" x=\"128.174375\" xlink:href=\"#m7346bbf0d4\" y=\"17.083636\"/>\n    </g>\n   </g>\n   <g id=\"line2d_13\">\n    <path clip-path=\"url(#p503c12b64e)\" d=\"M 295.574375 183.641212 \nL 295.574375 214.756364 \n\" style=\"fill:none;stroke:#3f3f3f;stroke-linecap:square;stroke-width:1.5;\"/>\n   </g>\n   <g id=\"line2d_14\">\n    <path clip-path=\"url(#p503c12b64e)\" d=\"M 295.574375 148.865455 \nL 295.574375 102.904512 \n\" style=\"fill:none;stroke:#3f3f3f;stroke-linecap:square;stroke-width:1.5;\"/>\n   </g>\n   <g id=\"line2d_15\">\n    <path clip-path=\"url(#p503c12b64e)\" d=\"M 262.094375 214.756364 \nL 329.054375 214.756364 \n\" style=\"fill:none;stroke:#3f3f3f;stroke-linecap:square;stroke-width:1.5;\"/>\n   </g>\n   <g id=\"line2d_16\">\n    <path clip-path=\"url(#p503c12b64e)\" d=\"M 262.094375 102.904512 \nL 329.054375 102.904512 \n\" style=\"fill:none;stroke:#3f3f3f;stroke-linecap:square;stroke-width:1.5;\"/>\n   </g>\n   <g id=\"line2d_17\"/>\n   <g id=\"line2d_18\">\n    <path clip-path=\"url(#p503c12b64e)\" d=\"M 61.214375 156.186667 \nL 195.134375 156.186667 \n\" style=\"fill:none;stroke:#3f3f3f;stroke-linecap:square;stroke-width:1.5;\"/>\n   </g>\n   <g id=\"line2d_19\">\n    <path clip-path=\"url(#p503c12b64e)\" d=\"M 228.614375 169.608889 \nL 362.534375 169.608889 \n\" style=\"fill:none;stroke:#3f3f3f;stroke-linecap:square;stroke-width:1.5;\"/>\n   </g>\n   <g id=\"patch_5\">\n    <path d=\"M 44.474375 224.64 \nL 44.474375 7.2 \n\" style=\"fill:none;stroke:#000000;stroke-linecap:square;stroke-linejoin:miter;stroke-width:0.8;\"/>\n   </g>\n   <g id=\"patch_6\">\n    <path d=\"M 379.274375 224.64 \nL 379.274375 7.2 \n\" style=\"fill:none;stroke:#000000;stroke-linecap:square;stroke-linejoin:miter;stroke-width:0.8;\"/>\n   </g>\n   <g id=\"patch_7\">\n    <path d=\"M 44.474375 224.64 \nL 379.274375 224.64 \n\" style=\"fill:none;stroke:#000000;stroke-linecap:square;stroke-linejoin:miter;stroke-width:0.8;\"/>\n   </g>\n   <g id=\"patch_8\">\n    <path d=\"M 44.474375 7.2 \nL 379.274375 7.2 \n\" style=\"fill:none;stroke:#000000;stroke-linecap:square;stroke-linejoin:miter;stroke-width:0.8;\"/>\n   </g>\n  </g>\n </g>\n <defs>\n  <clipPath id=\"p503c12b64e\">\n   <rect height=\"217.44\" width=\"334.8\" x=\"44.474375\" y=\"7.2\"/>\n  </clipPath>\n </defs>\n</svg>\n",
      "text/plain": [
       "<Figure size 432x288 with 1 Axes>"
      ]
     },
     "metadata": {
      "needs_background": "light"
     },
     "output_type": "display_data"
    }
   ],
   "source": [
    "import seaborn as sns\n",
    "\n",
    "sns.boxplot(x=\"WalkOrBicycle\", y=\"BodyMassIndexKgm2\", data=bmi_sample)\n",
    "plt.xlabel(\"¿Activo físicamente?\", size=14)\n",
    "plt.xticks([0, 1], [\"No\", \"Sí\"])\n",
    "plt.ylabel(\"IMC\", size=14);"
   ]
  },
  {
   "cell_type": "markdown",
   "metadata": {
    "slideshow": {
     "slide_type": "slide"
    }
   },
   "source": [
    "### Paso 4: Ajustar un modelo a los datos y calcular un estadístico de prueba\n",
    "\n",
    "A continuación, **queremos usar los datos para calcular una estadística que finalmente nos permitirá decidir si la hipótesis nula se rechaza o no**. \n",
    "\n",
    "Para hacer esto, el modelo necesita cuantificar la cantidad de evidencia a favor de la hipótesis alterna, en relación con la variabilidad de los datos. "
   ]
  },
  {
   "cell_type": "markdown",
   "metadata": {
    "slideshow": {
     "slide_type": "subslide"
    }
   },
   "source": [
    "Por tanto, **podemos pensar en el estadístico de prueba como una medida del tamaño del efecto en comparación con la variabilidad de los datos**. \n",
    "\n",
    "En general, este estadístico de prueba tendrá una distribución de probabilidad asociada, porque eso **nos permite determinar qué tan probable es nuestro valor observado del estadístico bajo la hipótesis nula**."
   ]
  },
  {
   "cell_type": "markdown",
   "metadata": {
    "slideshow": {
     "slide_type": "slide"
    }
   },
   "source": [
    "**Para el ejemplo del IMC, necesitamos un estadístico de prueba que nos permita probar la diferencia entre dos medias**, ya que las hipótesis se expresan en términos del IMC medio de cada grupo. \n",
    "\n",
    "Una estadística que se utiliza a menudo para comparar dos medias es la estadística $t$, desarrollada por primera vez por el estadístico William Sealy Gossett, quien trabajó para Guiness Brewery en Dublín y escribió bajo el seudónimo \"Student\"; por lo tanto, a menudo se llama *estadístico t de Student*. \n",
    "\n",
    "**El estadístico t es apropiado para comparar las medias de dos grupos cuando los tamaños de muestra son relativamente pequeños y se desconoce la desviación estándar de la población.** "
   ]
  },
  {
   "cell_type": "markdown",
   "metadata": {
    "slideshow": {
     "slide_type": "subslide"
    }
   },
   "source": [
    "El estadístico t para la comparación de dos grupos independientes se calcula como:\n",
    "\n",
    "$$ t=\\frac{\\bar{X}_{1}-\\bar{X}_{2}}{\\frac{S^{2}_{1}}{n_{1}} + \\frac{S^{2}_{2}}{n_{2}}} $$\n",
    "\n",
    "donde $\\bar{X}_{1}$ y $\\bar{X}_{2}$ son las medias de ambos grupos, $S^{2}_{1}$ y $S^{2}_{2}$ son las varianzas estimadas de los grupos, y $n_{1}$ y $n_{2}$ son los tamaños de ambos grupos. "
   ]
  },
  {
   "cell_type": "markdown",
   "metadata": {
    "slideshow": {
     "slide_type": "subslide"
    }
   },
   "source": [
    "Porque la varianza de una diferencia entre dos variables es la suma de las varianzas de cada variable individual $ (var(A-B))=var(A) + var(B))$, sumamos las varianzas para cada grupo divididas por sus tamaños de muestra para calcular el error estándar de la diferencia. \n",
    "\n",
    "Por lo tanto, **se puede ver el estadístico $t$ como una forma de cuantificar qué tan grande es la diferencia entre grupos en relación con la variabilidad muestral de la diferencia entre medias.**"
   ]
  },
  {
   "cell_type": "markdown",
   "metadata": {
    "slideshow": {
     "slide_type": "subslide"
    }
   },
   "source": [
    "El estadístico $t$ se distribuye de acuerdo con una distribución de probabilidad conocida como **distribución t**. La distribución t se parece bastante a una distribución normal, pero difiere según el número de grados de libertad. \n",
    "\n",
    "Cuando los grados de libertad son grandes (digamos 1000), la distribución t se parece esencialmente a la distribución normal. Cuando son pequeños, la distribución t tiene colas más largas que la normal. "
   ]
  },
  {
   "cell_type": "markdown",
   "metadata": {
    "slideshow": {
     "slide_type": "subslide"
    }
   },
   "source": [
    "**En el caso más simple**, donde los grupos son del mismo tamaño y tienen la misma varianza, **los grados de libertad para la prueba t son el número de observaciones menos 2**, ya que hemos calculado dos medias y, por lo tanto, hemos renunciado a dos grados de libertad. \n",
    "\n",
    "**En nuestro ejemplo**, está bastante claro a partir del diagrama de caja que el grupo inactivo es más variable que el grupo activo, y los números en cada grupo difieren, por lo que **debemos usar una fórmula un poco más compleja para los grados de libertad**, que a menudo se denomina como una \"prueba t de Welch\". "
   ]
  },
  {
   "cell_type": "markdown",
   "metadata": {
    "slideshow": {
     "slide_type": "subslide"
    }
   },
   "source": [
    "La formula es:\n",
    "\n",
    "$$ d.f. = \\frac{ \\left(\\frac{S^{2}_{1}}{n_{1}}+\\frac{S^{2}_{2}}{n_{2}}\\right)^{2} }{\\frac{\\left ( \\frac{S^{2}_{1}}{n_{1}} \\right )^{2} }{n_{1}-1} +  \\frac{\\left ( \\frac{S^{2}_{2}}{n_{2}} \\right )^{2} }{n_{2}-1}                 } $$\n",
    "\n",
    "\n",
    "Esto será igual a $ n_{1}+n_{2}-2 $ cuando las varianzas y los tamaños de la muestra sean iguales. De lo contrario será más pequeño, imponiendo de hecho una **penalización en la prueba por diferencias en el tamaño o varianza de la muestra**."
   ]
  },
  {
   "cell_type": "markdown",
   "metadata": {
    "slideshow": {
     "slide_type": "slide"
    }
   },
   "source": [
    "### Paso 5: Determinar la probabilidad del resultado observado bajo la hipótesis nula\n",
    "\n",
    "Este es el paso en el que la prueba de hipótesis comienza a violar nuestra intuición. \n",
    "\n",
    "En lugar de determinar la probabilidad de que la hipótesis nula sea verdadera dados los datos, en cambio, **determinamos la probabilidad de observar una estadística al menos tan extrema como la que hemos observado bajo la hipótesis nula** - ¡porque comenzamos asumiendo que la hipótesis nula es cierta! "
   ]
  },
  {
   "cell_type": "markdown",
   "metadata": {
    "slideshow": {
     "slide_type": "subslide"
    }
   },
   "source": [
    "Para hacer esto, necesitamos **conocer la distribución de probabilidad esperada para el estadístico bajo la hipótesis nula**, de modo que podamos preguntarnos **qué tan probable sería el resultado bajo esa distribución**. \n",
    "\n",
    "Ten en cuenta que cuando decimos \"qué tan probable sería el resultado\", lo que realmente queremos decir es **\"qué tan probable sería el resultado observado o uno más extremo\"**.  "
   ]
  },
  {
   "cell_type": "markdown",
   "metadata": {
    "slideshow": {
     "slide_type": "subslide"
    }
   },
   "source": [
    "Hay (al menos) dos razones por las que necesitamos agregar esta advertencia. La primera es que **cuando hablamos de valores continuos, la probabilidad de cualquier valor en particular es cero** (como recordará si has tomado una clase de cálculo). \n",
    "\n",
    "Más importante aún, estamos tratando de determinar qué tan extraño sería nuestro resultado si la hipótesis nula fuera cierta -y cualquier resultado que sea más extremo sería aún más extraño- por lo que **queremos contar todas esas posibilidades más extrañas cuando calculamos la probabilidad de nuestro resultado bajo la hipótesis nula**."
   ]
  },
  {
   "cell_type": "markdown",
   "metadata": {
    "slideshow": {
     "slide_type": "subslide"
    }
   },
   "source": [
    "\n",
    "Podemos obtener esta \"distribución nula\" utilizando una distribución teórica (como la distribución t) o utilizando la aleatorización. Ahora implementemos una prueba t de student de Welch:"
   ]
  },
  {
   "cell_type": "code",
   "execution_count": 28,
   "metadata": {
    "hideCode": true,
    "hidePrompt": true,
    "slideshow": {
     "slide_type": "slide"
    }
   },
   "outputs": [
    {
     "data": {
      "text/plain": [
       "Ttest_indResult(statistic=2.8420917422087077, pvalue=0.005650248534570324)"
      ]
     },
     "execution_count": 28,
     "metadata": {},
     "output_type": "execute_result"
    }
   ],
   "source": [
    "from scipy.stats import ttest_ind\n",
    "\n",
    "# Generamos una variable por cada grupo a comparar\n",
    "grupo1 = bmi_sample.query(\"WalkOrBicycle == 0\")[\"BodyMassIndexKgm2\"]\n",
    "grupo2 = bmi_sample.query(\"WalkOrBicycle == 1\")[\"BodyMassIndexKgm2\"]\n",
    "\n",
    "# Llamamos la función ttest_ind con el parámetro equal_var como Falso\n",
    "ttest_ind(grupo1, grupo2, equal_var=False)"
   ]
  },
  {
   "cell_type": "markdown",
   "metadata": {
    "slideshow": {
     "slide_type": "slide"
    }
   },
   "source": [
    "### Paso 6: Evaluar la \"significancia estadística\" del resultado\n",
    "\n",
    "El siguiente paso es determinar si el valor p que resulta del paso anterior es lo suficientemente pequeño como para que estemos dispuestos a rechazar la hipótesis nula y, en cambio, concluir que la alternativa es verdadera. \n",
    "\n",
    "¿Cuánta evidencia necesitamos? Esta es una de las preguntas más controvertidas en estadística, en parte porque requiere un juicio subjetivo: no hay una respuesta \"correcta\"."
   ]
  },
  {
   "cell_type": "markdown",
   "metadata": {
    "slideshow": {
     "slide_type": "subslide"
    }
   },
   "source": [
    "Históricamente, la respuesta más común a esta pregunta ha sido que **deberíamos rechazar la hipótesis nula si el valor p es menor que 0.05**. Esto proviene de los escritos de Ronald Fisher, a quien se ha referido como \"la figura más importante de las estadísticas del siglo XX\" (Efron 1998):\n",
    "\n",
    ">“If P is between .1 and .9 there is certainly no reason to suspect the hypothesis tested. If it is below .02 it is strongly indicated that the hypothesis fails to account for the whole of the facts. We shall not often be astray if we draw a conventional line at .05 … it is convenient to draw the line at about the level at which we can say: Either there is something in the treatment, or a coincidence has occurred such as does not occur more than once in twenty trials” (Fisher 1925)"
   ]
  },
  {
   "cell_type": "markdown",
   "metadata": {
    "slideshow": {
     "slide_type": "subslide"
    }
   },
   "source": [
    "Sin embargo, **Fisher nunca pretendió que p <0.05 fuera una regla fija**:\n",
    "\n",
    ">“no scientific worker has a fixed level of significance at which from year to year, and in all circumstances, he rejects hypotheses; he rather gives his mind to each particular case in the light of his evidence and his ideas” (Fisher 1956)"
   ]
  },
  {
   "cell_type": "markdown",
   "metadata": {
    "slideshow": {
     "slide_type": "subslide"
    }
   },
   "source": [
    "La elección de los umbrales estadísticos sigue siendo muy controvertida y recientemente (Benjamin et al., 2018) se ha propuesto que el umbral predeterminado se cambie de .05 a .005, lo que hace que sea sustancialmente más estricto y, por lo tanto, más difícil rechazar la hipótesis nula. \n",
    "\n",
    "En gran parte, este movimiento se debe a la creciente preocupación de que la evidencia obtenida de un resultado significativo en p <.05 sea relativamente débil.\n"
   ]
  },
  {
   "cell_type": "markdown",
   "metadata": {
    "slideshow": {
     "slide_type": "subslide"
    }
   },
   "source": [
    "#### Prueba de hipótesis como un proceso de toma de decisiones\n",
    "\n",
    "Jerzy Neyman y Egon Pearson propusieron que pensemos en la prueba de hipótesis en términos de su tasa de error a largo plazo:\n",
    "\n",
    ">“no test based upon a theory of probability can by itself provide any valuable evidence of the truth or falsehood of a hypothesis. But we may look at the purpose of tests from another viewpoint. Without hoping to know whether each separate hypothesis is true or false, we may search for rules to govern our behaviour with regard to them, in following which we insure that, in the long run of experience, we shall not often be wrong” (Neyman and Pearson 1933)\n",
    "\n",
    "Es decir: no podemos saber qué decisiones específicas son correctas o incorrectas, pero si seguimos las reglas, al menos podemos saber con qué frecuencia nuestras decisiones serán incorrectas a largo plazo."
   ]
  },
  {
   "cell_type": "markdown",
   "metadata": {
    "slideshow": {
     "slide_type": "subslide"
    }
   },
   "source": [
    "Para comprender el marco de toma de decisiones que desarrollaron Neyman y Pearson, primero debemos **analizar la toma de decisiones estadísticas en términos de los tipos de resultados que pueden ocurrir**. Hay dos estados posibles de la realidad (H0 es verdadera o H0 es falsa) y dos decisiones posibles (rechazar H0 o retener H0). \n",
    "\n",
    "Hay dos formas en las que podemos tomar una **decisión correcta**:\n",
    "- Podemos rechazar H0 cuando es falsa (en el lenguaje de la teoría de detección de señales, llamamos a esto un acierto)\n",
    "- Podemos retener H0 cuando es verdadera (algo confuso en este contexto, esto se llama un rechazo correcto)"
   ]
  },
  {
   "cell_type": "markdown",
   "metadata": {
    "slideshow": {
     "slide_type": "subslide"
    }
   },
   "source": [
    "También hay **dos tipos de errores** que podemos cometer:\n",
    "- Podemos rechazar H0 cuando en realidad es cierta (a esto lo llamamos una falsa alarma o un **error de tipo I**)\n",
    "- Podemos retener H0 cuando en realidad es falsa (a esto lo llamamos un error o **error de Tipo II**) \n"
   ]
  },
  {
   "cell_type": "markdown",
   "metadata": {
    "slideshow": {
     "slide_type": "subslide"
    }
   },
   "source": [
    "Neyman y Pearson acuñaron dos términos para describir la probabilidad de estos dos tipos de errores a largo plazo:\n",
    "\n",
    "- P(error tipo I) = $\\alpha$\n",
    "- P(error tipo II) = $\\beta$\n",
    " \n",
    "Es decir, si establecemos $\\alpha$ en .05, a largo plazo deberíamos cometer un error de Tipo I el 5% de las veces. Mientras que es común establecer α como .05, el valor estándar para un nivel aceptable de $\\beta$ es .20, es decir, estamos dispuestos a aceptar que el 20% de las veces no detectaremos un efecto verdadero cuando realmente existe."
   ]
  }
 ],
 "metadata": {
  "celltoolbar": "Slideshow",
  "kernelspec": {
   "display_name": "Python 3 (ipykernel)",
   "language": "python",
   "name": "python3"
  },
  "language_info": {
   "codemirror_mode": {
    "name": "ipython",
    "version": 3
   },
   "file_extension": ".py",
   "mimetype": "text/x-python",
   "name": "python",
   "nbconvert_exporter": "python",
   "pygments_lexer": "ipython3",
   "version": "3.7.13"
  },
  "vscode": {
   "interpreter": {
    "hash": "8df12303a5084d795bcef355ea103bbaab8787933417cf27c2f95a588cdf8ee7"
   }
  }
 },
 "nbformat": 4,
 "nbformat_minor": 2
}
