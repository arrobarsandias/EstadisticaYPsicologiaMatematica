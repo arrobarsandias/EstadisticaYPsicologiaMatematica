{
 "cells": [
  {
   "cell_type": "markdown",
   "source": [
    "# Evaluación 1: Repaso de estadística descriptiva e inferencial\n",
    "\n",
    "En esta evaluación vamos a trabajar con los datos de la medición del nivel nutricional en mujeres según la Encuesta Demográfica y de Salud Familiar 2017 (ENDES 2017)."
   ],
   "metadata": {}
  },
  {
   "cell_type": "markdown",
   "source": [
    "## Parte 1\n",
    "\n",
    "A continuación se presenta una base de datos que muestra los niveles de hemoglobina en la sangre de mujeres. Además, se brinda información sobre si las mujeres están embarazadas o no. A partir de la información presente en esta base de datos, responde:\n",
    "> La variable `Embarazada` codifica como 1 si las encuestadas estaban embarazadas y como 0 en caso contrario."
   ],
   "metadata": {}
  },
  {
   "cell_type": "code",
   "execution_count": 1,
   "source": [
    "import pandas as pd\n",
    "\n",
    "df = pd.read_csv(\n",
    "    \"https://raw.githubusercontent.com/renatoparedes/EstadisticaYPsicologiaMatematica/main/Evaluaciones/HemoglobinayEmbarazo.csv\"\n",
    ")\n",
    "df = df[df.Nivel_de_hemoglobina != \"#NULL!\"]\n",
    "df.drop(columns=[\"HHID\", \"HA54\"], inplace=True)\n",
    "df = df.astype(float)\n",
    "df.head()"
   ],
   "outputs": [
    {
     "output_type": "execute_result",
     "data": {
      "text/html": [
       "<div>\n",
       "<style scoped>\n",
       "    .dataframe tbody tr th:only-of-type {\n",
       "        vertical-align: middle;\n",
       "    }\n",
       "\n",
       "    .dataframe tbody tr th {\n",
       "        vertical-align: top;\n",
       "    }\n",
       "\n",
       "    .dataframe thead th {\n",
       "        text-align: right;\n",
       "    }\n",
       "</style>\n",
       "<table border=\"1\" class=\"dataframe\">\n",
       "  <thead>\n",
       "    <tr style=\"text-align: right;\">\n",
       "      <th></th>\n",
       "      <th>Nivel_de_hemoglobina</th>\n",
       "      <th>Embarazada</th>\n",
       "    </tr>\n",
       "  </thead>\n",
       "  <tbody>\n",
       "    <tr>\n",
       "      <th>0</th>\n",
       "      <td>13.8</td>\n",
       "      <td>0.0</td>\n",
       "    </tr>\n",
       "    <tr>\n",
       "      <th>1</th>\n",
       "      <td>13.6</td>\n",
       "      <td>1.0</td>\n",
       "    </tr>\n",
       "    <tr>\n",
       "      <th>2</th>\n",
       "      <td>13.1</td>\n",
       "      <td>0.0</td>\n",
       "    </tr>\n",
       "    <tr>\n",
       "      <th>3</th>\n",
       "      <td>10.4</td>\n",
       "      <td>0.0</td>\n",
       "    </tr>\n",
       "    <tr>\n",
       "      <th>4</th>\n",
       "      <td>13.7</td>\n",
       "      <td>0.0</td>\n",
       "    </tr>\n",
       "  </tbody>\n",
       "</table>\n",
       "</div>"
      ],
      "text/plain": [
       "   Nivel_de_hemoglobina  Embarazada\n",
       "0                  13.8         0.0\n",
       "1                  13.6         1.0\n",
       "2                  13.1         0.0\n",
       "3                  10.4         0.0\n",
       "4                  13.7         0.0"
      ]
     },
     "metadata": {},
     "execution_count": 1
    }
   ],
   "metadata": {}
  },
  {
   "cell_type": "markdown",
   "source": [
    "1. Calcula estadísticos descriptivos del nivel de hemoglobina en la sangre de las encuestadas después de agrupar según la variable `Embarazada` (2 pts). \n",
    "> Sugerencia: Utiliza el método .groupby() antes de calcular los descriptivos."
   ],
   "metadata": {}
  },
  {
   "cell_type": "code",
   "execution_count": 2,
   "source": [
    "df.groupby(\"Embarazada\").describe()"
   ],
   "outputs": [
    {
     "output_type": "execute_result",
     "data": {
      "text/html": [
       "<div>\n",
       "<style scoped>\n",
       "    .dataframe tbody tr th:only-of-type {\n",
       "        vertical-align: middle;\n",
       "    }\n",
       "\n",
       "    .dataframe tbody tr th {\n",
       "        vertical-align: top;\n",
       "    }\n",
       "\n",
       "    .dataframe thead tr th {\n",
       "        text-align: left;\n",
       "    }\n",
       "\n",
       "    .dataframe thead tr:last-of-type th {\n",
       "        text-align: right;\n",
       "    }\n",
       "</style>\n",
       "<table border=\"1\" class=\"dataframe\">\n",
       "  <thead>\n",
       "    <tr>\n",
       "      <th></th>\n",
       "      <th colspan=\"8\" halign=\"left\">Nivel_de_hemoglobina</th>\n",
       "    </tr>\n",
       "    <tr>\n",
       "      <th></th>\n",
       "      <th>count</th>\n",
       "      <th>mean</th>\n",
       "      <th>std</th>\n",
       "      <th>min</th>\n",
       "      <th>25%</th>\n",
       "      <th>50%</th>\n",
       "      <th>75%</th>\n",
       "      <th>max</th>\n",
       "    </tr>\n",
       "    <tr>\n",
       "      <th>Embarazada</th>\n",
       "      <th></th>\n",
       "      <th></th>\n",
       "      <th></th>\n",
       "      <th></th>\n",
       "      <th></th>\n",
       "      <th></th>\n",
       "      <th></th>\n",
       "      <th></th>\n",
       "    </tr>\n",
       "  </thead>\n",
       "  <tbody>\n",
       "    <tr>\n",
       "      <th>0.0</th>\n",
       "      <td>32834.0</td>\n",
       "      <td>12.854498</td>\n",
       "      <td>1.300518</td>\n",
       "      <td>4.3</td>\n",
       "      <td>12.2</td>\n",
       "      <td>12.9</td>\n",
       "      <td>13.7</td>\n",
       "      <td>20.8</td>\n",
       "    </tr>\n",
       "    <tr>\n",
       "      <th>1.0</th>\n",
       "      <td>1262.0</td>\n",
       "      <td>11.560539</td>\n",
       "      <td>1.320657</td>\n",
       "      <td>6.4</td>\n",
       "      <td>10.7</td>\n",
       "      <td>11.6</td>\n",
       "      <td>12.4</td>\n",
       "      <td>15.7</td>\n",
       "    </tr>\n",
       "  </tbody>\n",
       "</table>\n",
       "</div>"
      ],
      "text/plain": [
       "           Nivel_de_hemoglobina                                              \\\n",
       "                          count       mean       std  min   25%   50%   75%   \n",
       "Embarazada                                                                    \n",
       "0.0                     32834.0  12.854498  1.300518  4.3  12.2  12.9  13.7   \n",
       "1.0                      1262.0  11.560539  1.320657  6.4  10.7  11.6  12.4   \n",
       "\n",
       "                  \n",
       "             max  \n",
       "Embarazada        \n",
       "0.0         20.8  \n",
       "1.0         15.7  "
      ]
     },
     "metadata": {},
     "execution_count": 2
    }
   ],
   "metadata": {}
  },
  {
   "cell_type": "markdown",
   "source": [
    "2. Crea un violinplot que permita comparar los niveles de hemoglobina en la sangre de las encuestadas después de agrupar según la variable `Embarazada`. ¿Qué puedes comentar en relación a ambas distribuciones? Considera su forma y su tendencia central. (2 pts)"
   ],
   "metadata": {}
  },
  {
   "cell_type": "code",
   "execution_count": 10,
   "source": [
    "import seaborn as sns\n",
    "import matplotlib.pyplot as plt\n",
    "\n",
    "sns.violinplot(x=\"Embarazada\", y=\"Nivel_de_hemoglobina\", data=df)\n",
    "plt.xlabel(\"Embarazada\", size=14)\n",
    "plt.xticks([0, 1], [\"No\", \"Sí\"])\n",
    "plt.ylabel(\"Nivel de hemoglobina (g/dl)\", size=14);"
   ],
   "outputs": [
    {
     "output_type": "display_data",
     "data": {
      "image/png": "[encoded data removed]",
      "text/plain": [
       "<Figure size 432x288 with 1 Axes>"
      ]
     },
     "metadata": {
      "needs_background": "light"
     }
    }
   ],
   "metadata": {}
  },
  {
   "cell_type": "markdown",
   "source": [
    "Las distribuciones son aproximadamente simétricas. Destaca que en el grupo de las no embarazadas, existen colas largas especialmente hacia los niveles bajos de hemoglobina. A nivel descriptivo, la mediana del nivel de hemoglobina de las embarazadas está por debajo de la mediana de las no embarazadas.   "
   ],
   "metadata": {}
  },
  {
   "cell_type": "markdown",
   "source": [
    "3. Asumiendo que ambas distribuciones son simétricas, utiliza una prueba inferencial para comparar el nivel de hemoglobina en la sangre de las encuestadas según su condición de embarazo. ¿Qué puedes concluir? (2 pts)."
   ],
   "metadata": {}
  },
  {
   "cell_type": "code",
   "execution_count": 4,
   "source": [
    "from scipy.stats import ttest_ind\n",
    "\n",
    "grupo1 = df.query(\"Embarazada == 0\")[\"Nivel_de_hemoglobina\"]\n",
    "grupo2 = df.query(\"Embarazada == 1\")[\"Nivel_de_hemoglobina\"]\n",
    "\n",
    "ttest_ind(grupo1, grupo2, equal_var=False)"
   ],
   "outputs": [
    {
     "output_type": "execute_result",
     "data": {
      "text/plain": [
       "Ttest_indResult(statistic=34.175419485790506, pvalue=3.463017195435654e-185)"
      ]
     },
     "metadata": {},
     "execution_count": 4
    }
   ],
   "metadata": {}
  },
  {
   "cell_type": "markdown",
   "source": [
    "Existen diferencias significativas en el nivel de hemoglobina de las encuestadas según su condición de embarazo. El grupo de embarazadas presenta niveles más bajos de hemoglobina que el grupo de no embarazadas.  "
   ],
   "metadata": {}
  },
  {
   "cell_type": "markdown",
   "source": [
    "## PARTE 2\n",
    "\n",
    "Continuamos trabajando con los datos de la misma encuesta. Para esta sección, vamos a considerar la edad de las mujeres para nuestros reportes."
   ],
   "metadata": {}
  },
  {
   "cell_type": "code",
   "execution_count": 5,
   "source": [
    "!pip install pyreadstat\n",
    "df_2 = pd.read_spss(\"HemoglobinaEmbarazoyEdad.sav\")\n",
    "df_2.drop(columns=[\"HHID\"], inplace=True)\n",
    "mapping = {\"Sí\": 1, \"No o no sabe\": 0}\n",
    "df_2 = df_2.replace({\"HA54\": mapping})\n",
    "df_2.groupby(\"HA54\").describe()\n",
    "df_2 = df_2.rename(columns={\"HA54\": \"Embarazada\"})\n",
    "df_2.head()"
   ],
   "outputs": [
    {
     "output_type": "stream",
     "name": "stdout",
     "text": [
      "Requirement already satisfied: pyreadstat in /home/renato/anaconda3/lib/python3.8/site-packages (1.1.2)\n",
      "Requirement already satisfied: pandas>0.24.0 in /home/renato/anaconda3/lib/python3.8/site-packages (from pyreadstat) (1.2.4)\n",
      "Requirement already satisfied: python-dateutil>=2.7.3 in /home/renato/anaconda3/lib/python3.8/site-packages (from pandas>0.24.0->pyreadstat) (2.8.1)\n",
      "Requirement already satisfied: pytz>=2017.3 in /home/renato/anaconda3/lib/python3.8/site-packages (from pandas>0.24.0->pyreadstat) (2021.1)\n",
      "Requirement already satisfied: numpy>=1.16.5 in /home/renato/anaconda3/lib/python3.8/site-packages (from pandas>0.24.0->pyreadstat) (1.20.1)\n",
      "Requirement already satisfied: six>=1.5 in /home/renato/anaconda3/lib/python3.8/site-packages (from python-dateutil>=2.7.3->pandas>0.24.0->pyreadstat) (1.15.0)\n"
     ]
    },
    {
     "output_type": "execute_result",
     "data": {
      "text/html": [
       "<div>\n",
       "<style scoped>\n",
       "    .dataframe tbody tr th:only-of-type {\n",
       "        vertical-align: middle;\n",
       "    }\n",
       "\n",
       "    .dataframe tbody tr th {\n",
       "        vertical-align: top;\n",
       "    }\n",
       "\n",
       "    .dataframe thead th {\n",
       "        text-align: right;\n",
       "    }\n",
       "</style>\n",
       "<table border=\"1\" class=\"dataframe\">\n",
       "  <thead>\n",
       "    <tr style=\"text-align: right;\">\n",
       "      <th></th>\n",
       "      <th>Embarazada</th>\n",
       "      <th>Nivel_de_hemoglobina</th>\n",
       "      <th>Edad</th>\n",
       "    </tr>\n",
       "  </thead>\n",
       "  <tbody>\n",
       "    <tr>\n",
       "      <th>0</th>\n",
       "      <td>0.0</td>\n",
       "      <td>13.8</td>\n",
       "      <td>39.0</td>\n",
       "    </tr>\n",
       "    <tr>\n",
       "      <th>1</th>\n",
       "      <td>1.0</td>\n",
       "      <td>13.6</td>\n",
       "      <td>22.0</td>\n",
       "    </tr>\n",
       "    <tr>\n",
       "      <th>2</th>\n",
       "      <td>0.0</td>\n",
       "      <td>13.1</td>\n",
       "      <td>19.0</td>\n",
       "    </tr>\n",
       "    <tr>\n",
       "      <th>3</th>\n",
       "      <td>0.0</td>\n",
       "      <td>10.4</td>\n",
       "      <td>33.0</td>\n",
       "    </tr>\n",
       "    <tr>\n",
       "      <th>4</th>\n",
       "      <td>0.0</td>\n",
       "      <td>13.7</td>\n",
       "      <td>33.0</td>\n",
       "    </tr>\n",
       "  </tbody>\n",
       "</table>\n",
       "</div>"
      ],
      "text/plain": [
       "   Embarazada  Nivel_de_hemoglobina  Edad\n",
       "0         0.0                  13.8  39.0\n",
       "1         1.0                  13.6  22.0\n",
       "2         0.0                  13.1  19.0\n",
       "3         0.0                  10.4  33.0\n",
       "4         0.0                  13.7  33.0"
      ]
     },
     "metadata": {},
     "execution_count": 5
    }
   ],
   "metadata": {}
  },
  {
   "cell_type": "markdown",
   "source": [
    "1. Nuevamente, reporta estadísticos descriptivos agrupando por la variable `Embaradaza`. ¿Qué puedes comentar en relación a la variable `Edad`? (2 pts)"
   ],
   "metadata": {}
  },
  {
   "cell_type": "code",
   "execution_count": 6,
   "source": [
    "df_2.groupby(\"Embarazada\").describe()"
   ],
   "outputs": [
    {
     "output_type": "execute_result",
     "data": {
      "text/html": [
       "<div>\n",
       "<style scoped>\n",
       "    .dataframe tbody tr th:only-of-type {\n",
       "        vertical-align: middle;\n",
       "    }\n",
       "\n",
       "    .dataframe tbody tr th {\n",
       "        vertical-align: top;\n",
       "    }\n",
       "\n",
       "    .dataframe thead tr th {\n",
       "        text-align: left;\n",
       "    }\n",
       "\n",
       "    .dataframe thead tr:last-of-type th {\n",
       "        text-align: right;\n",
       "    }\n",
       "</style>\n",
       "<table border=\"1\" class=\"dataframe\">\n",
       "  <thead>\n",
       "    <tr>\n",
       "      <th></th>\n",
       "      <th colspan=\"8\" halign=\"left\">Nivel_de_hemoglobina</th>\n",
       "      <th colspan=\"8\" halign=\"left\">Edad</th>\n",
       "    </tr>\n",
       "    <tr>\n",
       "      <th></th>\n",
       "      <th>count</th>\n",
       "      <th>mean</th>\n",
       "      <th>std</th>\n",
       "      <th>min</th>\n",
       "      <th>25%</th>\n",
       "      <th>50%</th>\n",
       "      <th>75%</th>\n",
       "      <th>max</th>\n",
       "      <th>count</th>\n",
       "      <th>mean</th>\n",
       "      <th>std</th>\n",
       "      <th>min</th>\n",
       "      <th>25%</th>\n",
       "      <th>50%</th>\n",
       "      <th>75%</th>\n",
       "      <th>max</th>\n",
       "    </tr>\n",
       "    <tr>\n",
       "      <th>Embarazada</th>\n",
       "      <th></th>\n",
       "      <th></th>\n",
       "      <th></th>\n",
       "      <th></th>\n",
       "      <th></th>\n",
       "      <th></th>\n",
       "      <th></th>\n",
       "      <th></th>\n",
       "      <th></th>\n",
       "      <th></th>\n",
       "      <th></th>\n",
       "      <th></th>\n",
       "      <th></th>\n",
       "      <th></th>\n",
       "      <th></th>\n",
       "      <th></th>\n",
       "    </tr>\n",
       "  </thead>\n",
       "  <tbody>\n",
       "    <tr>\n",
       "      <th>0.0</th>\n",
       "      <td>32834.0</td>\n",
       "      <td>12.854498</td>\n",
       "      <td>1.300518</td>\n",
       "      <td>4.3</td>\n",
       "      <td>12.2</td>\n",
       "      <td>12.9</td>\n",
       "      <td>13.7</td>\n",
       "      <td>20.8</td>\n",
       "      <td>32835.0</td>\n",
       "      <td>30.427958</td>\n",
       "      <td>9.306043</td>\n",
       "      <td>15.0</td>\n",
       "      <td>23.0</td>\n",
       "      <td>30.0</td>\n",
       "      <td>38.0</td>\n",
       "      <td>49.0</td>\n",
       "    </tr>\n",
       "    <tr>\n",
       "      <th>1.0</th>\n",
       "      <td>1262.0</td>\n",
       "      <td>11.560539</td>\n",
       "      <td>1.320657</td>\n",
       "      <td>6.4</td>\n",
       "      <td>10.7</td>\n",
       "      <td>11.6</td>\n",
       "      <td>12.4</td>\n",
       "      <td>15.7</td>\n",
       "      <td>1262.0</td>\n",
       "      <td>26.965135</td>\n",
       "      <td>6.638416</td>\n",
       "      <td>15.0</td>\n",
       "      <td>22.0</td>\n",
       "      <td>27.0</td>\n",
       "      <td>32.0</td>\n",
       "      <td>45.0</td>\n",
       "    </tr>\n",
       "  </tbody>\n",
       "</table>\n",
       "</div>"
      ],
      "text/plain": [
       "           Nivel_de_hemoglobina                                              \\\n",
       "                          count       mean       std  min   25%   50%   75%   \n",
       "Embarazada                                                                    \n",
       "0.0                     32834.0  12.854498  1.300518  4.3  12.2  12.9  13.7   \n",
       "1.0                      1262.0  11.560539  1.320657  6.4  10.7  11.6  12.4   \n",
       "\n",
       "                     Edad                                                     \n",
       "             max    count       mean       std   min   25%   50%   75%   max  \n",
       "Embarazada                                                                    \n",
       "0.0         20.8  32835.0  30.427958  9.306043  15.0  23.0  30.0  38.0  49.0  \n",
       "1.0         15.7   1262.0  26.965135  6.638416  15.0  22.0  27.0  32.0  45.0  "
      ]
     },
     "metadata": {},
     "execution_count": 6
    }
   ],
   "metadata": {}
  },
  {
   "cell_type": "markdown",
   "source": [
    "A nivel descriptivo, el grupo de no embarazadas presenta un promedio de edad menor al grupo de embarazadas. Además, puede apreciarse una mayor dispersión en la edad del grupo de no embarazadas. Por último, la cantidad de mujeres en cada grupo difiere considerablemente. "
   ],
   "metadata": {}
  },
  {
   "cell_type": "markdown",
   "source": [
    "2. Crea una visualización que permita comparar ambos grupos en función a su intervalo de confianza al 95%. Asumiendo que las distribuciones son simétricas, ¿es razonable pensar que no existe una diferencia significativa entre ambos grupos? Justifica tu respuesta (2 pts)."
   ],
   "metadata": {}
  },
  {
   "cell_type": "code",
   "execution_count": 12,
   "source": [
    "sns.pointplot(x=\"Embarazada\", y=\"Edad\", data=df_2, ci=95, join=False)\n",
    "plt.xlabel(\"Embarazada\", size=14)\n",
    "plt.xticks([0, 1], [\"No\", \"Sí\"])\n",
    "plt.ylabel(\"Edad\", size=14);"
   ],
   "outputs": [
    {
     "output_type": "display_data",
     "data": {
      "image/png": "[encoded data removed]",
      "text/plain": [
       "<Figure size 432x288 with 1 Axes>"
      ]
     },
     "metadata": {
      "needs_background": "light"
     }
    }
   ],
   "metadata": {}
  },
  {
   "cell_type": "markdown",
   "source": [
    "No es razonable pensar que no habrá diferencias significativas entre los grupos. Esto debido a que los intervalos de confianza calculados no se superponen entre sí, lo cual indica que a largo plazo el 95% de las veces los promedios de edad de ambos grupos serán diferentes entre sí. "
   ],
   "metadata": {}
  },
  {
   "cell_type": "markdown",
   "source": [
    "3. Emplea una prueba inferencial para comparar ambos grupos. Adicionalmente, calcula el tamaño del efecto para esta comparación. ¿Qué puedes concluir? (2 pts)"
   ],
   "metadata": {}
  },
  {
   "cell_type": "code",
   "execution_count": 8,
   "source": [
    "import researchpy\n",
    "\n",
    "g1 = df_2.query(\"Embarazada == 0\")[\"Edad\"]\n",
    "g2 = df_2.query(\"Embarazada == 1\")[\"Edad\"]\n",
    "\n",
    "des, res = researchpy.ttest(g1, g2, paired=False, equal_variances=False)\n",
    "des"
   ],
   "outputs": [
    {
     "output_type": "execute_result",
     "data": {
      "text/html": [
       "<div>\n",
       "<style scoped>\n",
       "    .dataframe tbody tr th:only-of-type {\n",
       "        vertical-align: middle;\n",
       "    }\n",
       "\n",
       "    .dataframe tbody tr th {\n",
       "        vertical-align: top;\n",
       "    }\n",
       "\n",
       "    .dataframe thead th {\n",
       "        text-align: right;\n",
       "    }\n",
       "</style>\n",
       "<table border=\"1\" class=\"dataframe\">\n",
       "  <thead>\n",
       "    <tr style=\"text-align: right;\">\n",
       "      <th></th>\n",
       "      <th>Variable</th>\n",
       "      <th>N</th>\n",
       "      <th>Mean</th>\n",
       "      <th>SD</th>\n",
       "      <th>SE</th>\n",
       "      <th>95% Conf.</th>\n",
       "      <th>Interval</th>\n",
       "    </tr>\n",
       "  </thead>\n",
       "  <tbody>\n",
       "    <tr>\n",
       "      <th>0</th>\n",
       "      <td>Edad</td>\n",
       "      <td>32835.0</td>\n",
       "      <td>30.427958</td>\n",
       "      <td>9.306043</td>\n",
       "      <td>0.051357</td>\n",
       "      <td>30.327297</td>\n",
       "      <td>30.528619</td>\n",
       "    </tr>\n",
       "    <tr>\n",
       "      <th>1</th>\n",
       "      <td>Edad</td>\n",
       "      <td>1262.0</td>\n",
       "      <td>26.965135</td>\n",
       "      <td>6.638416</td>\n",
       "      <td>0.186868</td>\n",
       "      <td>26.598528</td>\n",
       "      <td>27.331741</td>\n",
       "    </tr>\n",
       "    <tr>\n",
       "      <th>2</th>\n",
       "      <td>combined</td>\n",
       "      <td>34097.0</td>\n",
       "      <td>30.299792</td>\n",
       "      <td>9.244146</td>\n",
       "      <td>0.050062</td>\n",
       "      <td>30.201668</td>\n",
       "      <td>30.397915</td>\n",
       "    </tr>\n",
       "  </tbody>\n",
       "</table>\n",
       "</div>"
      ],
      "text/plain": [
       "   Variable        N       Mean        SD        SE  95% Conf.   Interval\n",
       "0      Edad  32835.0  30.427958  9.306043  0.051357  30.327297  30.528619\n",
       "1      Edad   1262.0  26.965135  6.638416  0.186868  26.598528  27.331741\n",
       "2  combined  34097.0  30.299792  9.244146  0.050062  30.201668  30.397915"
      ]
     },
     "metadata": {},
     "execution_count": 8
    }
   ],
   "metadata": {}
  },
  {
   "cell_type": "code",
   "execution_count": 9,
   "source": [
    "res"
   ],
   "outputs": [
    {
     "output_type": "execute_result",
     "data": {
      "text/html": [
       "<div>\n",
       "<style scoped>\n",
       "    .dataframe tbody tr th:only-of-type {\n",
       "        vertical-align: middle;\n",
       "    }\n",
       "\n",
       "    .dataframe tbody tr th {\n",
       "        vertical-align: top;\n",
       "    }\n",
       "\n",
       "    .dataframe thead th {\n",
       "        text-align: right;\n",
       "    }\n",
       "</style>\n",
       "<table border=\"1\" class=\"dataframe\">\n",
       "  <thead>\n",
       "    <tr style=\"text-align: right;\">\n",
       "      <th></th>\n",
       "      <th>Welch's t-test</th>\n",
       "      <th>results</th>\n",
       "    </tr>\n",
       "  </thead>\n",
       "  <tbody>\n",
       "    <tr>\n",
       "      <th>0</th>\n",
       "      <td>Difference (Edad - Edad) =</td>\n",
       "      <td>3.4628</td>\n",
       "    </tr>\n",
       "    <tr>\n",
       "      <th>1</th>\n",
       "      <td>Degrees of freedom =</td>\n",
       "      <td>1458.6753</td>\n",
       "    </tr>\n",
       "    <tr>\n",
       "      <th>2</th>\n",
       "      <td>t =</td>\n",
       "      <td>17.8683</td>\n",
       "    </tr>\n",
       "    <tr>\n",
       "      <th>3</th>\n",
       "      <td>Two side test p value =</td>\n",
       "      <td>0.0000</td>\n",
       "    </tr>\n",
       "    <tr>\n",
       "      <th>4</th>\n",
       "      <td>Difference &lt; 0 p value =</td>\n",
       "      <td>1.0000</td>\n",
       "    </tr>\n",
       "    <tr>\n",
       "      <th>5</th>\n",
       "      <td>Difference &gt; 0 p value =</td>\n",
       "      <td>0.0000</td>\n",
       "    </tr>\n",
       "    <tr>\n",
       "      <th>6</th>\n",
       "      <td>Cohen's d =</td>\n",
       "      <td>0.3755</td>\n",
       "    </tr>\n",
       "    <tr>\n",
       "      <th>7</th>\n",
       "      <td>Hedge's g =</td>\n",
       "      <td>0.3755</td>\n",
       "    </tr>\n",
       "    <tr>\n",
       "      <th>8</th>\n",
       "      <td>Glass's delta =</td>\n",
       "      <td>0.3721</td>\n",
       "    </tr>\n",
       "    <tr>\n",
       "      <th>9</th>\n",
       "      <td>Pearson's r =</td>\n",
       "      <td>0.4238</td>\n",
       "    </tr>\n",
       "  </tbody>\n",
       "</table>\n",
       "</div>"
      ],
      "text/plain": [
       "                Welch's t-test    results\n",
       "0  Difference (Edad - Edad) =      3.4628\n",
       "1        Degrees of freedom =   1458.6753\n",
       "2                         t =     17.8683\n",
       "3     Two side test p value =      0.0000\n",
       "4    Difference < 0 p value =      1.0000\n",
       "5    Difference > 0 p value =      0.0000\n",
       "6                 Cohen's d =      0.3755\n",
       "7                 Hedge's g =      0.3755\n",
       "8             Glass's delta =      0.3721\n",
       "9               Pearson's r =      0.4238"
      ]
     },
     "metadata": {},
     "execution_count": 9
    }
   ],
   "metadata": {}
  },
  {
   "cell_type": "markdown",
   "source": [
    "La prueba inferencial nos permite concluir que existen diferencias significativas entre ambos grupos. Sin embargo, la D de Cohen nos indica que la magnitud de esta diferencia es pequeña. "
   ],
   "metadata": {}
  }
 ],
 "metadata": {
  "orig_nbformat": 4,
  "language_info": {
   "name": "python",
   "version": "3.8.8",
   "mimetype": "text/x-python",
   "codemirror_mode": {
    "name": "ipython",
    "version": 3
   },
   "pygments_lexer": "ipython3",
   "nbconvert_exporter": "python",
   "file_extension": ".py"
  },
  "kernelspec": {
   "name": "python3",
   "display_name": "Python 3.8.8 64-bit ('base': conda)"
  },
  "interpreter": {
   "hash": "1d151a68831448000e09cfc499a6de9a24b6912dae8debe2df70808284a908ce"
  }
 },
 "nbformat": 4,
 "nbformat_minor": 2
}