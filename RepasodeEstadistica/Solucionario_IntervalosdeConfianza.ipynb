{
 "cells": [
  {
   "cell_type": "markdown",
   "source": [
    "# Práctica: Intervalos de confianza y tamaño del efecto\r\n",
    "\r\n",
    "Continuando tu trabajo en el Laboratorio de Psicología de la PUCP, se te ha pedido evaluar con mayor detalle el análisis que realizaste. Nuevamente, cargamos los datos recolectados:"
   ],
   "metadata": {}
  },
  {
   "cell_type": "code",
   "execution_count": 1,
   "source": [
    "# Cargamos los datos del experimento\r\n",
    "import pandas as pd\r\n",
    "expA = pd.read_csv('https://raw.githubusercontent.com/renatoparedes/EstadisticaYPsicologiaMatematica/main/RepasodeEstadistica/ExpA.csv')\r\n",
    "expA.head()"
   ],
   "outputs": [
    {
     "output_type": "execute_result",
     "data": {
      "text/plain": [
       "   Participante  TrianguloBrillante  TrianguloOpaco  CuadradoBrillante  \\\n",
       "0             1                 258             290                242   \n",
       "1             2                 241             283                242   \n",
       "2             3                 260             300                240   \n",
       "3             4                 251             291                244   \n",
       "4             5                 259             291                240   \n",
       "\n",
       "   CuadradoOpaco  PentagonoBrillante  PentagonoOpaco  \n",
       "0            295                 250             310  \n",
       "1            297                 259             313  \n",
       "2            297                 250             313  \n",
       "3            292                 252             308  \n",
       "4            287                 270             307  "
      ],
      "text/html": [
       "<div>\n",
       "<style scoped>\n",
       "    .dataframe tbody tr th:only-of-type {\n",
       "        vertical-align: middle;\n",
       "    }\n",
       "\n",
       "    .dataframe tbody tr th {\n",
       "        vertical-align: top;\n",
       "    }\n",
       "\n",
       "    .dataframe thead th {\n",
       "        text-align: right;\n",
       "    }\n",
       "</style>\n",
       "<table border=\"1\" class=\"dataframe\">\n",
       "  <thead>\n",
       "    <tr style=\"text-align: right;\">\n",
       "      <th></th>\n",
       "      <th>Participante</th>\n",
       "      <th>TrianguloBrillante</th>\n",
       "      <th>TrianguloOpaco</th>\n",
       "      <th>CuadradoBrillante</th>\n",
       "      <th>CuadradoOpaco</th>\n",
       "      <th>PentagonoBrillante</th>\n",
       "      <th>PentagonoOpaco</th>\n",
       "    </tr>\n",
       "  </thead>\n",
       "  <tbody>\n",
       "    <tr>\n",
       "      <th>0</th>\n",
       "      <td>1</td>\n",
       "      <td>258</td>\n",
       "      <td>290</td>\n",
       "      <td>242</td>\n",
       "      <td>295</td>\n",
       "      <td>250</td>\n",
       "      <td>310</td>\n",
       "    </tr>\n",
       "    <tr>\n",
       "      <th>1</th>\n",
       "      <td>2</td>\n",
       "      <td>241</td>\n",
       "      <td>283</td>\n",
       "      <td>242</td>\n",
       "      <td>297</td>\n",
       "      <td>259</td>\n",
       "      <td>313</td>\n",
       "    </tr>\n",
       "    <tr>\n",
       "      <th>2</th>\n",
       "      <td>3</td>\n",
       "      <td>260</td>\n",
       "      <td>300</td>\n",
       "      <td>240</td>\n",
       "      <td>297</td>\n",
       "      <td>250</td>\n",
       "      <td>313</td>\n",
       "    </tr>\n",
       "    <tr>\n",
       "      <th>3</th>\n",
       "      <td>4</td>\n",
       "      <td>251</td>\n",
       "      <td>291</td>\n",
       "      <td>244</td>\n",
       "      <td>292</td>\n",
       "      <td>252</td>\n",
       "      <td>308</td>\n",
       "    </tr>\n",
       "    <tr>\n",
       "      <th>4</th>\n",
       "      <td>5</td>\n",
       "      <td>259</td>\n",
       "      <td>291</td>\n",
       "      <td>240</td>\n",
       "      <td>287</td>\n",
       "      <td>270</td>\n",
       "      <td>307</td>\n",
       "    </tr>\n",
       "  </tbody>\n",
       "</table>\n",
       "</div>"
      ]
     },
     "metadata": {},
     "execution_count": 1
    }
   ],
   "metadata": {}
  },
  {
   "cell_type": "code",
   "execution_count": 4,
   "source": [
    "expA.iloc[:,1:].describe()"
   ],
   "outputs": [
    {
     "output_type": "execute_result",
     "data": {
      "text/plain": [
       "       TrianguloBrillante  TrianguloOpaco  CuadradoBrillante  CuadradoOpaco  \\\n",
       "count             6.00000        6.000000           6.000000       6.000000   \n",
       "mean            253.50000      291.000000         241.166667     294.000000   \n",
       "std               7.17635        5.403702           1.834848       3.898718   \n",
       "min             241.00000      283.000000         239.000000     287.000000   \n",
       "25%             251.25000      290.250000         240.000000     292.750000   \n",
       "50%             255.00000      291.000000         241.000000     295.500000   \n",
       "75%             258.75000      291.000000         242.000000     296.750000   \n",
       "max             260.00000      300.000000         244.000000     297.000000   \n",
       "\n",
       "       PentagonoBrillante  PentagonoOpaco  \n",
       "count            6.000000        6.000000  \n",
       "mean           256.166667      310.666667  \n",
       "std              7.652886        2.732520  \n",
       "min            250.000000      307.000000  \n",
       "25%            250.500000      308.500000  \n",
       "50%            254.000000      311.500000  \n",
       "75%            258.250000      313.000000  \n",
       "max            270.000000      313.000000  "
      ],
      "text/html": [
       "<div>\n",
       "<style scoped>\n",
       "    .dataframe tbody tr th:only-of-type {\n",
       "        vertical-align: middle;\n",
       "    }\n",
       "\n",
       "    .dataframe tbody tr th {\n",
       "        vertical-align: top;\n",
       "    }\n",
       "\n",
       "    .dataframe thead th {\n",
       "        text-align: right;\n",
       "    }\n",
       "</style>\n",
       "<table border=\"1\" class=\"dataframe\">\n",
       "  <thead>\n",
       "    <tr style=\"text-align: right;\">\n",
       "      <th></th>\n",
       "      <th>TrianguloBrillante</th>\n",
       "      <th>TrianguloOpaco</th>\n",
       "      <th>CuadradoBrillante</th>\n",
       "      <th>CuadradoOpaco</th>\n",
       "      <th>PentagonoBrillante</th>\n",
       "      <th>PentagonoOpaco</th>\n",
       "    </tr>\n",
       "  </thead>\n",
       "  <tbody>\n",
       "    <tr>\n",
       "      <th>count</th>\n",
       "      <td>6.00000</td>\n",
       "      <td>6.000000</td>\n",
       "      <td>6.000000</td>\n",
       "      <td>6.000000</td>\n",
       "      <td>6.000000</td>\n",
       "      <td>6.000000</td>\n",
       "    </tr>\n",
       "    <tr>\n",
       "      <th>mean</th>\n",
       "      <td>253.50000</td>\n",
       "      <td>291.000000</td>\n",
       "      <td>241.166667</td>\n",
       "      <td>294.000000</td>\n",
       "      <td>256.166667</td>\n",
       "      <td>310.666667</td>\n",
       "    </tr>\n",
       "    <tr>\n",
       "      <th>std</th>\n",
       "      <td>7.17635</td>\n",
       "      <td>5.403702</td>\n",
       "      <td>1.834848</td>\n",
       "      <td>3.898718</td>\n",
       "      <td>7.652886</td>\n",
       "      <td>2.732520</td>\n",
       "    </tr>\n",
       "    <tr>\n",
       "      <th>min</th>\n",
       "      <td>241.00000</td>\n",
       "      <td>283.000000</td>\n",
       "      <td>239.000000</td>\n",
       "      <td>287.000000</td>\n",
       "      <td>250.000000</td>\n",
       "      <td>307.000000</td>\n",
       "    </tr>\n",
       "    <tr>\n",
       "      <th>25%</th>\n",
       "      <td>251.25000</td>\n",
       "      <td>290.250000</td>\n",
       "      <td>240.000000</td>\n",
       "      <td>292.750000</td>\n",
       "      <td>250.500000</td>\n",
       "      <td>308.500000</td>\n",
       "    </tr>\n",
       "    <tr>\n",
       "      <th>50%</th>\n",
       "      <td>255.00000</td>\n",
       "      <td>291.000000</td>\n",
       "      <td>241.000000</td>\n",
       "      <td>295.500000</td>\n",
       "      <td>254.000000</td>\n",
       "      <td>311.500000</td>\n",
       "    </tr>\n",
       "    <tr>\n",
       "      <th>75%</th>\n",
       "      <td>258.75000</td>\n",
       "      <td>291.000000</td>\n",
       "      <td>242.000000</td>\n",
       "      <td>296.750000</td>\n",
       "      <td>258.250000</td>\n",
       "      <td>313.000000</td>\n",
       "    </tr>\n",
       "    <tr>\n",
       "      <th>max</th>\n",
       "      <td>260.00000</td>\n",
       "      <td>300.000000</td>\n",
       "      <td>244.000000</td>\n",
       "      <td>297.000000</td>\n",
       "      <td>270.000000</td>\n",
       "      <td>313.000000</td>\n",
       "    </tr>\n",
       "  </tbody>\n",
       "</table>\n",
       "</div>"
      ]
     },
     "metadata": {},
     "execution_count": 4
    }
   ],
   "metadata": {}
  },
  {
   "cell_type": "markdown",
   "source": [
    "## Ejercicio 1\r\n",
    "Compara gráficamente las condiciones `TrianguloBrillante` y `PentagonoBrillante` utilizando intervalos de confianza. \r\n",
    "\r\n",
    "> Sugerencia: Utiliza el método `.pointplot()` del paquete `seaborn`."
   ],
   "metadata": {}
  },
  {
   "cell_type": "code",
   "execution_count": 22,
   "source": [
    "import seaborn as sns\r\n",
    "\r\n",
    "# Escribe tu respuesta aquí\r\n",
    "sns.pointplot(data=expA[['TrianguloBrillante','PentagonoBrillante']],ci=95);"
   ],
   "outputs": [
    {
     "output_type": "display_data",
     "data": {
      "text/plain": [
       "<Figure size 432x288 with 1 Axes>"
      ],
      "image/png": "[encoded data removed]"
     },
     "metadata": {
      "needs_background": "light"
     }
    }
   ],
   "metadata": {}
  },
  {
   "cell_type": "markdown",
   "source": [
    "¿Observas una potencial diferencia significativa? Confirma tu observación con una comparación de medias.\r\n",
    "\r\n",
    ">Sugerencia: Utiliza la función `ttest_rel` disponible en el paquete `scipy.stats`."
   ],
   "metadata": {}
  },
  {
   "cell_type": "code",
   "execution_count": 24,
   "source": [
    "from scipy import stats\r\n",
    "\r\n",
    "# Escribe tu respuesta aquí\r\n",
    "stats.ttest_rel(expA['TrianguloBrillante'],expA['PentagonoBrillante'])"
   ],
   "outputs": [
    {
     "output_type": "execute_result",
     "data": {
      "text/plain": [
       "Ttest_relResult(statistic=-0.6047431568147634, pvalue=0.5717418268656416)"
      ]
     },
     "metadata": {},
     "execution_count": 24
    }
   ],
   "metadata": {}
  },
  {
   "cell_type": "markdown",
   "source": [
    "## Ejercicio 2\r\n",
    "Compara las condiciones `CuadradoBrillante` y `PentagoBrillante` utilizando una prueba t de student para muestras relacionadas. Además, reporta el tamaño del efecto con la métrica d de Cohen.\r\n",
    "\r\n",
    "> Sugerencia: Utiliza la función `ttest` disponible en el paquete `researchpy`."
   ],
   "metadata": {}
  },
  {
   "cell_type": "code",
   "execution_count": null,
   "source": [
    "!pip install researchpy"
   ],
   "outputs": [],
   "metadata": {}
  },
  {
   "cell_type": "code",
   "execution_count": 35,
   "source": [
    "import researchpy\r\n",
    "\r\n",
    "# Escribe tu respuesta aquí\r\n",
    "des,res=researchpy.ttest(expA['CuadradoBrillante'], expA['PentagonoBrillante'],paired=True)\r\n",
    "des"
   ],
   "outputs": [
    {
     "output_type": "execute_result",
     "data": {
      "text/plain": [
       "             Variable    N        Mean        SD        SE   95% Conf.  \\\n",
       "0   CuadradoBrillante  6.0  241.166667  1.834848  0.749074  239.241112   \n",
       "1  PentagonoBrillante  6.0  256.166667  7.652886  3.124278  248.135455   \n",
       "2                diff  6.0  -15.000000  8.438009  3.444803  -23.855148   \n",
       "\n",
       "     Interval  \n",
       "0  243.092221  \n",
       "1  264.197878  \n",
       "2   -6.144852  "
      ],
      "text/html": [
       "<div>\n",
       "<style scoped>\n",
       "    .dataframe tbody tr th:only-of-type {\n",
       "        vertical-align: middle;\n",
       "    }\n",
       "\n",
       "    .dataframe tbody tr th {\n",
       "        vertical-align: top;\n",
       "    }\n",
       "\n",
       "    .dataframe thead th {\n",
       "        text-align: right;\n",
       "    }\n",
       "</style>\n",
       "<table border=\"1\" class=\"dataframe\">\n",
       "  <thead>\n",
       "    <tr style=\"text-align: right;\">\n",
       "      <th></th>\n",
       "      <th>Variable</th>\n",
       "      <th>N</th>\n",
       "      <th>Mean</th>\n",
       "      <th>SD</th>\n",
       "      <th>SE</th>\n",
       "      <th>95% Conf.</th>\n",
       "      <th>Interval</th>\n",
       "    </tr>\n",
       "  </thead>\n",
       "  <tbody>\n",
       "    <tr>\n",
       "      <th>0</th>\n",
       "      <td>CuadradoBrillante</td>\n",
       "      <td>6.0</td>\n",
       "      <td>241.166667</td>\n",
       "      <td>1.834848</td>\n",
       "      <td>0.749074</td>\n",
       "      <td>239.241112</td>\n",
       "      <td>243.092221</td>\n",
       "    </tr>\n",
       "    <tr>\n",
       "      <th>1</th>\n",
       "      <td>PentagonoBrillante</td>\n",
       "      <td>6.0</td>\n",
       "      <td>256.166667</td>\n",
       "      <td>7.652886</td>\n",
       "      <td>3.124278</td>\n",
       "      <td>248.135455</td>\n",
       "      <td>264.197878</td>\n",
       "    </tr>\n",
       "    <tr>\n",
       "      <th>2</th>\n",
       "      <td>diff</td>\n",
       "      <td>6.0</td>\n",
       "      <td>-15.000000</td>\n",
       "      <td>8.438009</td>\n",
       "      <td>3.444803</td>\n",
       "      <td>-23.855148</td>\n",
       "      <td>-6.144852</td>\n",
       "    </tr>\n",
       "  </tbody>\n",
       "</table>\n",
       "</div>"
      ]
     },
     "metadata": {},
     "execution_count": 35
    }
   ],
   "metadata": {}
  },
  {
   "cell_type": "code",
   "execution_count": 36,
   "source": [
    "res"
   ],
   "outputs": [
    {
     "output_type": "execute_result",
     "data": {
      "text/plain": [
       "                               Paired samples t-test  results\n",
       "0  Difference (CuadradoBrillante - PentagonoBrill... -15.0000\n",
       "1                              Degrees of freedom =    5.0000\n",
       "2                                               t =   -4.3544\n",
       "3                           Two side test p value =    0.0073\n",
       "4                          Difference < 0 p value =    0.0037\n",
       "5                          Difference > 0 p value =    0.9963\n",
       "6                                       Cohen's d =   -1.7777\n",
       "7                                       Hedge's g =   -1.6409\n",
       "8                                   Glass's delta =   -8.1751\n",
       "9                                               r =    0.8896"
      ],
      "text/html": [
       "<div>\n",
       "<style scoped>\n",
       "    .dataframe tbody tr th:only-of-type {\n",
       "        vertical-align: middle;\n",
       "    }\n",
       "\n",
       "    .dataframe tbody tr th {\n",
       "        vertical-align: top;\n",
       "    }\n",
       "\n",
       "    .dataframe thead th {\n",
       "        text-align: right;\n",
       "    }\n",
       "</style>\n",
       "<table border=\"1\" class=\"dataframe\">\n",
       "  <thead>\n",
       "    <tr style=\"text-align: right;\">\n",
       "      <th></th>\n",
       "      <th>Paired samples t-test</th>\n",
       "      <th>results</th>\n",
       "    </tr>\n",
       "  </thead>\n",
       "  <tbody>\n",
       "    <tr>\n",
       "      <th>0</th>\n",
       "      <td>Difference (CuadradoBrillante - PentagonoBrill...</td>\n",
       "      <td>-15.0000</td>\n",
       "    </tr>\n",
       "    <tr>\n",
       "      <th>1</th>\n",
       "      <td>Degrees of freedom =</td>\n",
       "      <td>5.0000</td>\n",
       "    </tr>\n",
       "    <tr>\n",
       "      <th>2</th>\n",
       "      <td>t =</td>\n",
       "      <td>-4.3544</td>\n",
       "    </tr>\n",
       "    <tr>\n",
       "      <th>3</th>\n",
       "      <td>Two side test p value =</td>\n",
       "      <td>0.0073</td>\n",
       "    </tr>\n",
       "    <tr>\n",
       "      <th>4</th>\n",
       "      <td>Difference &lt; 0 p value =</td>\n",
       "      <td>0.0037</td>\n",
       "    </tr>\n",
       "    <tr>\n",
       "      <th>5</th>\n",
       "      <td>Difference &gt; 0 p value =</td>\n",
       "      <td>0.9963</td>\n",
       "    </tr>\n",
       "    <tr>\n",
       "      <th>6</th>\n",
       "      <td>Cohen's d =</td>\n",
       "      <td>-1.7777</td>\n",
       "    </tr>\n",
       "    <tr>\n",
       "      <th>7</th>\n",
       "      <td>Hedge's g =</td>\n",
       "      <td>-1.6409</td>\n",
       "    </tr>\n",
       "    <tr>\n",
       "      <th>8</th>\n",
       "      <td>Glass's delta =</td>\n",
       "      <td>-8.1751</td>\n",
       "    </tr>\n",
       "    <tr>\n",
       "      <th>9</th>\n",
       "      <td>r =</td>\n",
       "      <td>0.8896</td>\n",
       "    </tr>\n",
       "  </tbody>\n",
       "</table>\n",
       "</div>"
      ]
     },
     "metadata": {},
     "execution_count": 36
    }
   ],
   "metadata": {}
  },
  {
   "cell_type": "markdown",
   "source": [
    "¿Qué puedes concluir a partir de tus resultados?"
   ],
   "metadata": {}
  },
  {
   "cell_type": "code",
   "execution_count": null,
   "source": [
    "# Escribe tu respuesta aquí"
   ],
   "outputs": [],
   "metadata": {}
  },
  {
   "cell_type": "markdown",
   "source": [
    "# Bonus: Ejercicio 3\r\n",
    "Compara gráficamente todas las condiciones experimentales utilizando intervalos de confianza. \r\n",
    "\r\n",
    "> Sugerencia: Utiliza el método `.pointplot()` del paquete `seaborn`."
   ],
   "metadata": {}
  },
  {
   "cell_type": "code",
   "execution_count": 37,
   "source": [
    "import seaborn as sns\r\n",
    "\r\n",
    "# Escribe tu respuesta aquí"
   ],
   "outputs": [],
   "metadata": {}
  },
  {
   "cell_type": "markdown",
   "source": [
    "¿Qué puedes hipotetizar a partir de tu observación?"
   ],
   "metadata": {}
  }
 ],
 "metadata": {
  "orig_nbformat": 4,
  "language_info": {
   "name": "python",
   "version": "3.7.10",
   "mimetype": "text/x-python",
   "codemirror_mode": {
    "name": "ipython",
    "version": 3
   },
   "pygments_lexer": "ipython3",
   "nbconvert_exporter": "python",
   "file_extension": ".py"
  },
  "kernelspec": {
   "name": "python3",
   "display_name": "Python 3.7.10 64-bit ('base': conda)"
  },
  "interpreter": {
   "hash": "fcc1d2c210046f8d6f0962280d91bf96fd89619bab60881df3e6b70c67140f94"
  }
 },
 "nbformat": 4,
 "nbformat_minor": 2
}