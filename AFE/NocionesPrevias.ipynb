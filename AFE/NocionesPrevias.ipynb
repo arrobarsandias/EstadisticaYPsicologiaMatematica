{
 "cells": [
  {
   "cell_type": "markdown",
   "metadata": {
    "slideshow": {
     "slide_type": "slide"
    }
   },
   "source": [
    "# Nociones previas para el Análisis Factorial Exploratorio\n",
    "\n",
    ">Este tutorial es una selección y adaptación al español del libro [A Matrix Algebra Companion for Statistical Learning](http://www.gastonsanchez.com/matrix4sl/index.html) de Gaston Sanchez. \n",
    "\n",
    "> Requiere cargar el archivo [\"euthan.sav\"](https://github.com/renatoparedes/EstadisticaYPsicologiaMatematica/raw/main/AFE/euthan.sav) en el repositorio local. "
   ]
  },
  {
   "cell_type": "markdown",
   "metadata": {
    "slideshow": {
     "slide_type": "slide"
    }
   },
   "source": [
    "## Dualidad Geométrica\n",
    "\n",
    "En esta sección daremos pasos que te permitan adoptar una **mentalidad geométrica**. Más específicamente, aprenderás a pensar y observar cualquier matriz de datos desde un punto de vista geométrico. \n",
    "\n",
    "Este es un concepto increíblemente revelador al que algunos autores se refieren como la **dualidad de una matriz de datos**."
   ]
  },
  {
   "cell_type": "markdown",
   "metadata": {
    "slideshow": {
     "slide_type": "subslide"
    }
   },
   "source": [
    "Es muy esclarecedor pensar en una matriz de datos vista desde el cristal de la geometría. La idea clave es **pensar en los datos de una matriz como elementos que viven en un espacio multidimensional**. \n",
    "\n",
    "En realidad, podemos considerar una matriz de datos desde dos perspectivas aparentemente diferentes que, en realidad, están íntimamente conectadas: la **perspectiva de filas** y **la perspectiva de columnas**."
   ]
  },
  {
   "cell_type": "markdown",
   "metadata": {
    "slideshow": {
     "slide_type": "slide"
    }
   },
   "source": [
    "Para explicar estas perspectivas, permítanme usar el siguiente diagrama de una matriz de datos $\\mathbf{X}$ con $n$ filas y $p$ columnas, con $x_{ij}$ representando el elemento en la i-ésima fila y la j-ésima columna.\n",
    "\n",
    "<p align=\"center\">\n",
    "  <img width=\"500\" src=\"http://www.gastonsanchez.com/matrix4sl/images/duality/data-perspectives.png\" alt=\"Variable Types\">\n",
    "</p>\n",
    "\n"
   ]
  },
  {
   "cell_type": "markdown",
   "metadata": {
    "slideshow": {
     "slide_type": "subslide"
    }
   },
   "source": [
    "Cuando miramos una matriz de datos desde la **perspectiva de las columnas**, lo que estamos haciendo es enfocarnos en las **p variables**. \n",
    "\n",
    "De manera similar, cuando miramos una matriz de datos desde la **perspectiva de sus filas**, nos enfocamos en los **n individuos**. \n",
    "\n",
    "Esta doble perspectiva o dualidad para abreviar, es como las dos caras de una misma moneda."
   ]
  },
  {
   "cell_type": "markdown",
   "metadata": {
    "slideshow": {
     "slide_type": "slide"
    }
   },
   "source": [
    "### Espacio de las filas\n",
    "\n",
    "Sabemos que la visión humana se limita a las tres dimensiones, pero finge que tienes superpoderes que te permiten visualizar un espacio con cualquier número de dimensiones.\n",
    "\n",
    "Debido a que cada fila de la matriz de datos tiene $p$ elementos, **podemos considerar a los individuos como objetos que viven en un espacio p-dimensional**. \n",
    "\n",
    "Para fines de visualización, **piensa en cada variable como si desempeñara el papel de una dimensión** asociada a un eje dado en este espacio. \n",
    "\n",
    "Asimismo, considera que cada uno de **los $n$ individuos está representado como un punto** (o partícula) en dicho espacio, como en el siguiente diagrama:"
   ]
  },
  {
   "cell_type": "markdown",
   "metadata": {
    "slideshow": {
     "slide_type": "subslide"
    }
   },
   "source": [
    "<p align=\"center\">\n",
    "  <img width=\"650\" src=\"http://www.gastonsanchez.com/matrix4sl/images/duality/rows-space.png\" alt=\"Variable Types\">\n",
    "</p>"
   ]
  },
  {
   "cell_type": "markdown",
   "metadata": {
    "slideshow": {
     "slide_type": "fragment"
    }
   },
   "source": [
    "En la figura anterior, aunque solo estoy mostrando tres ejes, debes fingir que estás visualizando un espacio p-dimensional (imaginando que hay $p$ ejes). \n",
    "\n",
    "Cada punto de este espacio corresponde a un solo individuo, y todos forman lo que se puede llamar una nube de puntos."
   ]
  },
  {
   "cell_type": "markdown",
   "metadata": {
    "slideshow": {
     "slide_type": "slide"
    }
   },
   "source": [
    "### Espacio de las columnas\n",
    "\n",
    "Podemos hacer el mismo ejercicio visual con las columnas de una matriz de datos. Dado que cada variable tiene $n$ elementos, **podemos considerar el conjunto de $p$ variables como objetos que viven en un espacio de $n$ dimensiones**. \n",
    "\n",
    "Para fines convenientes, y para distinguirlos de los individuos, usamos una flecha (o vector) para representar gráficamente cada variable:"
   ]
  },
  {
   "cell_type": "markdown",
   "metadata": {
    "slideshow": {
     "slide_type": "subslide"
    }
   },
   "source": [
    "<p align=\"center\">\n",
    "  <img width=\"650\" src=\"http://www.gastonsanchez.com/matrix4sl/images/duality/columns-space.png\" alt=\"Variable Types\">\n",
    "</p>\n",
    "\n"
   ]
  },
  {
   "cell_type": "markdown",
   "metadata": {
    "slideshow": {
     "slide_type": "fragment"
    }
   },
   "source": [
    "De manera análoga al espacio de filas y su nube de individuos, también debes pretender que la imagen de arriba muestra un espacio n-dimensional con un montón de flechas azules apuntando en varias direcciones."
   ]
  },
  {
   "cell_type": "markdown",
   "metadata": {
    "slideshow": {
     "slide_type": "slide"
    }
   },
   "source": [
    "### Ejemplo\n",
    "\n",
    "Para hacer las cosas menos abstractas, consideremos una matriz de datos de 2 × 2 de valores de peso y altura medidos en dos personas: Leia y Luke."
   ]
  },
  {
   "cell_type": "code",
   "execution_count": 1,
   "metadata": {
    "hideCode": true,
    "hidePrompt": true,
    "slideshow": {
     "slide_type": "fragment"
    }
   },
   "outputs": [
    {
     "data": {
      "text/html": [
       "<div>\n",
       "<style scoped>\n",
       "    .dataframe tbody tr th:only-of-type {\n",
       "        vertical-align: middle;\n",
       "    }\n",
       "\n",
       "    .dataframe tbody tr th {\n",
       "        vertical-align: top;\n",
       "    }\n",
       "\n",
       "    .dataframe thead th {\n",
       "        text-align: right;\n",
       "    }\n",
       "</style>\n",
       "<table border=\"1\" class=\"dataframe\">\n",
       "  <thead>\n",
       "    <tr style=\"text-align: right;\">\n",
       "      <th></th>\n",
       "      <th>weight</th>\n",
       "      <th>height</th>\n",
       "    </tr>\n",
       "  </thead>\n",
       "  <tbody>\n",
       "    <tr>\n",
       "      <th>Leia</th>\n",
       "      <td>150</td>\n",
       "      <td>49</td>\n",
       "    </tr>\n",
       "    <tr>\n",
       "      <th>Luke</th>\n",
       "      <td>172</td>\n",
       "      <td>77</td>\n",
       "    </tr>\n",
       "  </tbody>\n",
       "</table>\n",
       "</div>"
      ],
      "text/plain": [
       "      weight  height\n",
       "Leia     150      49\n",
       "Luke     172      77"
      ]
     },
     "execution_count": 1,
     "metadata": {},
     "output_type": "execute_result"
    }
   ],
   "source": [
    "import pandas as pd\n",
    "\n",
    "data = {'weight': [150, 172],\n",
    "        'height': [49, 77]}\n",
    "\n",
    "df_toy = pd.DataFrame(data, index=['Leia','Luke'])\n",
    "df_toy"
   ]
  },
  {
   "cell_type": "markdown",
   "metadata": {
    "slideshow": {
     "slide_type": "subslide"
    }
   },
   "source": [
    "**Espacio de individuos:** si observas los datos en X desde el punto de vista de los individuos, cada uno de ellos se puede representar como un punto en el espacio bidimensional abarcado por las variables `weight` y `height`:\n",
    "\n",
    "<p align=\"center\">\n",
    "  <img width=\"500\" src=\"http://www.gastonsanchez.com/matrix4sl/matrix4sl_files/figure-html/unnamed-chunk-48-1.png\" alt=\"Variable Types\">\n",
    "</p>\n"
   ]
  },
  {
   "cell_type": "markdown",
   "metadata": {
    "slideshow": {
     "slide_type": "subslide"
    }
   },
   "source": [
    "**Espacio de variables:** si observas los datos en X desde el punto de vista de las variables, cada una de ellas se puede representar como un vector en el espacio bidimensional que abarcan `Leia` y `Luke`:\n",
    "\n",
    "<p align=\"center\">\n",
    "  <img width=\"500\" src=\"http://www.gastonsanchez.com/matrix4sl/matrix4sl_files/figure-html/unnamed-chunk-49-1.png\" alt=\"Variable Types\">\n",
    "</p>"
   ]
  },
  {
   "cell_type": "markdown",
   "metadata": {
    "slideshow": {
     "slide_type": "slide"
    }
   },
   "source": [
    "### Espacio dual \n",
    "\n",
    "La siguiente figura ilustra la perspectiva dual de una matriz de datos. La convención estándar es representar a los **individuos como puntos** en un espacio de $p$ dimensiones; y, a su vez, representar **variables como vectores** en un espacio de $n$ dimensiones."
   ]
  },
  {
   "cell_type": "markdown",
   "metadata": {
    "slideshow": {
     "slide_type": "subslide"
    }
   },
   "source": [
    "\n",
    "<p align=\"center\">\n",
    "  <img width=\"750\" src=\"http://www.gastonsanchez.com/matrix4sl/images/duality/duality-diagram.png\" alt=\"Variable Types\">\n",
    "</p>"
   ]
  },
  {
   "cell_type": "markdown",
   "metadata": {
    "slideshow": {
     "slide_type": "slide"
    }
   },
   "source": [
    "## Conceptos básicos de vectores\n",
    "\n",
    "Debido a que las variables pueden tratarse como vectores en un sentido geométrico, me gustaría revisar brevemente un par de conceptos clave para operar con vectores: el **producto interno** y sus operaciones derivadas."
   ]
  },
  {
   "cell_type": "markdown",
   "metadata": {
    "slideshow": {
     "slide_type": "subslide"
    }
   },
   "source": [
    "El concepto de producto interno es uno de los conceptos de álgebra matricial más importantes, también conocido como _producto punto_. El **producto interno** es una operación especial definida sobre dos vectores $\\mathbf{x}$ e $\\mathbf{y}$ que, como su nombre indica, nos permite multiplicar $\\mathbf{x}$ e $\\mathbf{y}$ de cierta manera.\n",
    "\n",
    "El producto interno de dos vectores $\\mathbf{x}$ e $\\mathbf{y}$ (del mismo tamaño) se define como:\n",
    "\n",
    "$$\n",
    "\\mathbf{x \\cdot y} = \\sum_{i = 1}^{n} x_i y_i \n",
    "$$\n",
    "\n",
    "Básicamente, el producto interno consiste en el producto elemento por elemento de $\\mathbf{x}$ e $\\mathbf{y}$, y luego sumar todo. El resultado no es otro vector, sino un solo número, un escalar. "
   ]
  },
  {
   "cell_type": "markdown",
   "metadata": {
    "slideshow": {
     "slide_type": "subslide"
    }
   },
   "source": [
    "También podemos escribir el producto interno $\\mathbf{x\\cdot y}$ en notación vectorial como $\\mathbf{x^\\mathsf{T}y}$ dado que:\n",
    "\n",
    "$$\n",
    "\\mathbf{x^\\mathsf{T} y} = (x_1 \\dots x_n) \n",
    "\\begin{pmatrix} \n",
    "y_1 \\\\\n",
    "\\vdots \\\\\n",
    "y_n\n",
    "\\end{pmatrix}\n",
    "= \\sum_{i = 1}^{n} x_i y_i\n",
    "$$"
   ]
  },
  {
   "cell_type": "markdown",
   "metadata": {
    "slideshow": {
     "slide_type": "slide"
    }
   },
   "source": [
    "Consideremos el ejemplo que revisamos anteriormente:"
   ]
  },
  {
   "cell_type": "code",
   "execution_count": 2,
   "metadata": {
    "hideCode": true,
    "hidePrompt": true,
    "slideshow": {
     "slide_type": "fragment"
    }
   },
   "outputs": [
    {
     "data": {
      "text/html": [
       "<div>\n",
       "<style scoped>\n",
       "    .dataframe tbody tr th:only-of-type {\n",
       "        vertical-align: middle;\n",
       "    }\n",
       "\n",
       "    .dataframe tbody tr th {\n",
       "        vertical-align: top;\n",
       "    }\n",
       "\n",
       "    .dataframe thead th {\n",
       "        text-align: right;\n",
       "    }\n",
       "</style>\n",
       "<table border=\"1\" class=\"dataframe\">\n",
       "  <thead>\n",
       "    <tr style=\"text-align: right;\">\n",
       "      <th></th>\n",
       "      <th>weight</th>\n",
       "      <th>height</th>\n",
       "    </tr>\n",
       "  </thead>\n",
       "  <tbody>\n",
       "    <tr>\n",
       "      <th>Leia</th>\n",
       "      <td>150</td>\n",
       "      <td>49</td>\n",
       "    </tr>\n",
       "    <tr>\n",
       "      <th>Luke</th>\n",
       "      <td>172</td>\n",
       "      <td>77</td>\n",
       "    </tr>\n",
       "  </tbody>\n",
       "</table>\n",
       "</div>"
      ],
      "text/plain": [
       "      weight  height\n",
       "Leia     150      49\n",
       "Luke     172      77"
      ]
     },
     "execution_count": 2,
     "metadata": {},
     "output_type": "execute_result"
    }
   ],
   "source": [
    "df_toy"
   ]
  },
  {
   "cell_type": "markdown",
   "metadata": {
    "slideshow": {
     "slide_type": "subslide"
    }
   },
   "source": [
    "Por ejemplo, el producto interno de `weight` y `height` en $\\mathbf{X}$ es:\n",
    "\n",
    "$$\n",
    "\\texttt{weight}^\\mathsf{T} \\hspace{1mm} \\texttt{height} = (150 \\times 49) + (172 \\times 77) = 20594\n",
    "$$"
   ]
  },
  {
   "cell_type": "markdown",
   "metadata": {
    "slideshow": {
     "slide_type": "subslide"
    }
   },
   "source": [
    "¿Qué significa este valor? Para responder a esta pregunta, necesitamos discutir otros tres conceptos que se derivan directamente de tener un producto interno:\n",
    "\n",
    "- Longitud de un vector\n",
    "- Ángulo entre vectores\n",
    "- Proyección de vectores\n",
    "\n",
    "Todos estos aspectos juegan un papel muy importante para los métodos multivariados. Pero no solo eso, veremos en un momento cuántas **medidas estadísticas se pueden obtener a través de productos internos**."
   ]
  },
  {
   "cell_type": "markdown",
   "metadata": {
    "slideshow": {
     "slide_type": "slide"
    }
   },
   "source": [
    "### Longitud\n",
    "\n",
    "Otro uso importante del producto interno es que nos permite definir la __longitud__ de un vector $\\mathbf{x}$, denotado por $\\|\\mathbf{x}\\|$, como la raíz cuadrada del producto interno del vector consigo mismo:\n",
    "\n",
    "$$\n",
    "\\| \\mathbf{x} \\| = \\sqrt{\\mathbf{x^\\mathsf{T} x}}\n",
    "$$\n",
    "\n",
    "que normalmente se conoce como la __norma__ o __módulo__ de un vector."
   ]
  },
  {
   "cell_type": "markdown",
   "metadata": {
    "slideshow": {
     "slide_type": "subslide"
    }
   },
   "source": [
    "Podemos calcular la longitud del vector `weight` como:\n",
    "\n",
    "$$\n",
    "\\| \\texttt{weight} \\| = \\sqrt{(150 \\times 150) + (172 \\times 172)} = 228.2192\n",
    "$$"
   ]
  },
  {
   "cell_type": "markdown",
   "metadata": {
    "slideshow": {
     "slide_type": "subslide"
    }
   },
   "source": [
    "Asimismo, la longitud del vector `height` es:\n",
    "\n",
    "$$\n",
    "\\| \\texttt{height} \\| = \\sqrt{(49 \\times 49) + (77 \\times 77)} = 91.2688\n",
    "$$"
   ]
  },
  {
   "cell_type": "markdown",
   "metadata": {
    "slideshow": {
     "slide_type": "subslide"
    }
   },
   "source": [
    "Ten en cuenta que el producto interno de un vector consigo mismo es igual a su norma al cuadrado:\n",
    "\n",
    "$$\n",
    "\\mathbf{x^\\mathsf{T} x} = \\| \\mathbf{x} \\|^2\n",
    "$$"
   ]
  },
  {
   "cell_type": "markdown",
   "metadata": {
    "slideshow": {
     "slide_type": "slide"
    }
   },
   "source": [
    "### Ángulo\n",
    "\n",
    "Además de la longitud de un vector, el __ángulo__ entre dos vectores distintos de cero $\\mathbf{x}$ e $\\mathbf{y}$ también se puede expresar usando productos internos. \n",
    "\n",
    "El ángulo $\\theta$ es tal que:\n",
    "\n",
    "$$\n",
    "cos(\\theta) = \\frac{\\mathbf{x^\\mathsf{T} y}}{\\sqrt{\\mathbf{x^\\mathsf{T} x}} \\hspace{1mm} \\sqrt{\\mathbf{y^\\mathsf{T} y}}}\n",
    "$$"
   ]
  },
  {
   "cell_type": "markdown",
   "metadata": {
    "slideshow": {
     "slide_type": "subslide"
    }
   },
   "source": [
    "o de manera equivalente:\n",
    "\n",
    "$$\n",
    "cos(\\theta) = \\frac{\\mathbf{x^\\mathsf{T} y}}{\\| \\mathbf{x} \\| \\hspace{1mm} \\| \\mathbf{y} \\|}\n",
    "$$"
   ]
  },
  {
   "cell_type": "markdown",
   "metadata": {
    "slideshow": {
     "slide_type": "subslide"
    }
   },
   "source": [
    "Reorganizando algunos términos, podemos volver a expresar la fórmula del producto interno como:\n",
    "\n",
    "$$\n",
    "\\mathbf{x^\\mathsf{T} y} = \\| \\mathbf{x} \\| \\hspace{1mm} \\| \\mathbf{y} \\| \\hspace{1mm} cos(\\theta)\n",
    "$$"
   ]
  },
  {
   "cell_type": "markdown",
   "metadata": {
    "slideshow": {
     "slide_type": "subslide"
    }
   },
   "source": [
    "En nuestro ejemplo, el ángulo entre `weight` y `height` en $\\mathbf{X}$ es tal que:\n",
    "\n",
    "$$\n",
    "cos(\\theta) = \\frac{20594}{228.2192 \\times 91.2688} = 0.9887\n",
    "$$"
   ]
  },
  {
   "cell_type": "markdown",
   "metadata": {
    "slideshow": {
     "slide_type": "subslide"
    }
   },
   "source": [
    "#### Ortogonalidad \n",
    "\n",
    "En un espacio bidimensional, la ortogonalidad equivale a la perpendicularidad; así que si dos vectores son perpendiculares entre sí (el ángulo entre ellos es un ángulo de 90 grados) son ortogonales. \n",
    "\n",
    "Dos vectores vectores $\\mathbf{x}$ e $\\mathbf{y}$ son ortogonales si su producto interno es cero:\n",
    "\n",
    "$$\n",
    "\\mathbf{x^\\mathsf{T} y} = 0 \\iff \\mathbf{x} \\hspace{1mm} \\bot \\hspace{1mm} \\mathbf{y} \n",
    "$$"
   ]
  },
  {
   "cell_type": "markdown",
   "metadata": {
    "slideshow": {
     "slide_type": "slide"
    }
   },
   "source": [
    "### Proyección\n",
    "\n",
    "Consideremos la __proyección ortogonal__ de un vector $\\mathbf{y}$ sobre otro vector $\\mathbf{x}$.\n",
    "\n",
    "La proyección obtenida $\\hat{\\mathbf{y}}$ se expresa como $a\\mathbf{x}$. Esto significa que una proyección implica multiplicar $\\mathbf{x}$ por algún número $a$, de modo que $\\hat{\\mathbf{y}} = a \\mathbf{x}$ es una versión ampliada o reducida de $\\mathbf{x}$. "
   ]
  },
  {
   "cell_type": "markdown",
   "metadata": {
    "slideshow": {
     "slide_type": "subslide"
    }
   },
   "source": [
    "Veámoslo gráficamente:\n",
    "\n",
    "<p align=\"center\">\n",
    "  <img width=\"300\" src=\"https://math.libretexts.org/@api/deki/files/63693/clipboard_e2cd7c153e580bbe9cb202d8308661c5c.png?revision=1\" alt=\"Variable Types\">\n",
    "</p>\n"
   ]
  },
  {
   "cell_type": "markdown",
   "metadata": {
    "slideshow": {
     "slide_type": "subslide"
    }
   },
   "source": [
    "Teniendo dos vectores distintos de cero $\\mathbf{x}$ e $\\mathbf{y}$, podemos proyectar $\\mathbf{y}$ en $\\mathbf{x}$:\n",
    "\n",
    "$$\n",
    "\\text{proj}_{x} \\mathbf{\\hat{y}} = \\mathbf{x} \\left( \\frac{\\mathbf{y^\\mathsf{T} x}}{\\mathbf{x^\\mathsf{T} x}} \\right)\n",
    "$$\n",
    "\n",
    "$$\n",
    "= \\mathbf{x} \\left( \\frac{\\mathbf{y^\\mathsf{T} x}}{\\| \\mathbf{x} \\|^2} \\right)\n",
    "$$"
   ]
  },
  {
   "cell_type": "markdown",
   "metadata": {
    "slideshow": {
     "slide_type": "subslide"
    }
   },
   "source": [
    "Del mismo modo, podemos proyectar $\\mathbf{x}$ en $\\mathbf{y}$:\n",
    "\n",
    "$$\n",
    "\\text{proj}_{y} \\mathbf{\\hat{x}}  = \\mathbf{y} \\left( \\frac{\\mathbf{x^\\mathsf{T} y}}{\\mathbf{y^\\mathsf{T} y}} \\right)\n",
    "$$\n",
    "\n",
    "$$\n",
    "= \\mathbf{y} \\left( \\frac{\\mathbf{x^\\mathsf{T} y}}{\\| \\mathbf{y} \\|^2} \\right)\n",
    "$$"
   ]
  },
  {
   "cell_type": "markdown",
   "metadata": {
    "slideshow": {
     "slide_type": "slide"
    }
   },
   "source": [
    "## Medidas estadísticas como vectores\n",
    "\n",
    "### La media como una proyección\n",
    "\n",
    "Si denotamos $\\mathbf{1}_{n}$ un vector de unidades (unos) de tamaño $n$, entonces la media de un vector $\\mathbf{x}$ se puede obtener con un producto interno:\n",
    "\n",
    "$$\n",
    "\\bar{x} = \\left(\\frac{1}{n}\\right) \\mathbf{1}_{n}^\\mathsf{T} \\mathbf{x}\n",
    "$$\n",
    "\n",
    "Podemos obtener una idea de lo que hace una media si consideramos una variable desde la perspectiva del espacio de los individuos."
   ]
  },
  {
   "cell_type": "markdown",
   "metadata": {
    "slideshow": {
     "slide_type": "subslide"
    }
   },
   "source": [
    "Considera el espacio $n$-dimensional $\\mathbb{R}^n$ ilustrado en la figura debajo. \n",
    "\n",
    "<p align=\"center\">\n",
    "  <img width=\"600\" src=\"http://www.gastonsanchez.com/matrix4sl/images/mean/mean-projection1.png\" alt=\"Variable Types\">\n",
    "</p>\n",
    "\n",
    "\n",
    "En este espacio, cada dimensión está asociada a un individuo. La variable $X$ está representada por el vector azul $\\mathbf{x}$. A su vez, el vector naranja representa el vector unitario $\\mathbf{1}$ del elemento $n$. "
   ]
  },
  {
   "cell_type": "markdown",
   "metadata": {
    "slideshow": {
     "slide_type": "subslide"
    }
   },
   "source": [
    "Desde este punto de vista, la media adquiere un significado muy interesante: \n",
    "\n",
    "Resulta que **la media es la medida de la proyección de $\\mathbf{x}$ sobre el eje generado por el vector unitario $\\mathbf{1}$.**"
   ]
  },
  {
   "cell_type": "markdown",
   "metadata": {
    "slideshow": {
     "slide_type": "subslide"
    }
   },
   "source": [
    "Entonces, ¿cuál es el significado de esta proyección ortogonal? Te dice que $\\bar{x} \\mathbf{1}$ es el múltiplo del vector unitario más cercano a $\\mathbf{x}$ en el sentido de mínimos cuadrados:\n",
    "\n",
    "<p align=\"center\">\n",
    "  <img width=\"500\" src=\"http://www.gastonsanchez.com/matrix4sl/images/mean/mean-projection2.png\" alt=\"Variable Types\">\n",
    "</p>\n",
    "\n",
    "El tamaño del vector residual $\\mathbf{e} = \\mathbf{x} - \\bar{x} \\mathbf{1}$ es el más pequeño entre todos los demás múltiplos de $\\mathbf{1}$ que se puede usar para aproximar $\\mathbf{x}$."
   ]
  },
  {
   "cell_type": "markdown",
   "metadata": {
    "slideshow": {
     "slide_type": "slide"
    }
   },
   "source": [
    "Calculemos la media de la variable `height` como una proyección sobre el vector unitario:"
   ]
  },
  {
   "cell_type": "code",
   "execution_count": 3,
   "metadata": {
    "slideshow": {
     "slide_type": "skip"
    }
   },
   "outputs": [
    {
     "name": "stdout",
     "output_type": "stream",
     "text": [
      "Requirement already satisfied: pyreadstat in /home/renato/.virtualenvs/statspsych/lib/python3.8/site-packages (1.1.2)\n",
      "Requirement already satisfied: pandas>0.24.0 in /home/renato/.virtualenvs/statspsych/lib/python3.8/site-packages (from pyreadstat) (1.3.3)\n",
      "Requirement already satisfied: numpy>=1.17.3 in /home/renato/.virtualenvs/statspsych/lib/python3.8/site-packages (from pandas>0.24.0->pyreadstat) (1.21.2)\n",
      "Requirement already satisfied: pytz>=2017.3 in /home/renato/.virtualenvs/statspsych/lib/python3.8/site-packages (from pandas>0.24.0->pyreadstat) (2021.1)\n",
      "Requirement already satisfied: python-dateutil>=2.7.3 in /home/renato/.virtualenvs/statspsych/lib/python3.8/site-packages (from pandas>0.24.0->pyreadstat) (2.8.2)\n",
      "Requirement already satisfied: six>=1.5 in /home/renato/.virtualenvs/statspsych/lib/python3.8/site-packages (from python-dateutil>=2.7.3->pandas>0.24.0->pyreadstat) (1.16.0)\n"
     ]
    }
   ],
   "source": [
    "# Cargamos los datos\n",
    "!pip install pyreadstat\n",
    "df_sw = pd.read_csv('https://raw.githubusercontent.com/gastonstat/matrix4sl/master/data/starwars.csv')\n",
    "df_sw.dropna(inplace=True)"
   ]
  },
  {
   "cell_type": "code",
   "execution_count": 4,
   "metadata": {
    "hideCode": true,
    "hidePrompt": true,
    "slideshow": {
     "slide_type": "fragment"
    }
   },
   "outputs": [
    {
     "data": {
      "text/plain": [
       "1.685625"
      ]
     },
     "execution_count": 4,
     "metadata": {},
     "output_type": "execute_result"
    }
   ],
   "source": [
    "import numpy as np\n",
    "\n",
    "# Calculamos la cantidad de casos\n",
    "n = df_sw['height'].size\n",
    "\n",
    "# Definimos el vector unitario\n",
    "unit_vector = np.ones(n)\n",
    "\n",
    "# Calculamos la media como una proyección sobre el vector unitario\n",
    "mean = (1/n) * ( unit_vector.T @ df_sw['height'] )\n",
    "mean"
   ]
  },
  {
   "cell_type": "markdown",
   "metadata": {
    "slideshow": {
     "slide_type": "fragment"
    }
   },
   "source": [
    "Comparamos el resultado con el cálculo por defecto de la media:"
   ]
  },
  {
   "cell_type": "code",
   "execution_count": 5,
   "metadata": {
    "hideCode": true,
    "hidePrompt": true,
    "slideshow": {
     "slide_type": "fragment"
    }
   },
   "outputs": [
    {
     "data": {
      "text/plain": [
       "1.685625"
      ]
     },
     "execution_count": 5,
     "metadata": {},
     "output_type": "execute_result"
    }
   ],
   "source": [
    "df_sw['height'].mean()"
   ]
  },
  {
   "cell_type": "markdown",
   "metadata": {
    "slideshow": {
     "slide_type": "slide"
    }
   },
   "source": [
    "### La desviación estándar como la norma\n",
    "\n",
    "Si denotamos un vector de unos de tamaño $n$ como $\\mathbf{1}_{n}$, entonces la varianza de un vector $\\mathbf{x}$ se puede obtener con el siguiente producto interno:\n",
    "\n",
    "$$\n",
    "var(\\mathbf{x}) = \\frac{1}{n} (\\mathbf{x} - \\mathbf{\\bar{x}})^\\mathsf{T} (\\mathbf{x} - \\mathbf{\\bar{x}})\n",
    "$$\n",
    "\n",
    "donde $\\mathbf{\\bar{x}}$ es un vector de $n$ elementos de los valores de la media $\\bar{x}$."
   ]
  },
  {
   "cell_type": "markdown",
   "metadata": {
    "slideshow": {
     "slide_type": "subslide"
    }
   },
   "source": [
    "Suponiendo que $\\mathbf{x}$ ya está centrado en la media, entonces la varianza es proporcional a la norma al cuadrado de $\\mathbf{x}$\n",
    "\n",
    "$$\n",
    "var(\\mathbf{x}) = \\frac{1}{n} \\hspace{1mm} \\mathbf{x}^\\mathsf{T} \\mathbf{x} = \\frac{1}{n} \\| \\mathbf{x} \\|^2\n",
    "$$\n",
    "\n",
    "Esto significa que podemos formular la varianza con la noción general de un producto interno."
   ]
  },
  {
   "cell_type": "markdown",
   "metadata": {
    "slideshow": {
     "slide_type": "subslide"
    }
   },
   "source": [
    "Si usamos una matriz métrica $\\mathbf{D}=diag(1/n)$, entonces tenemos que la varianza de $\\mathbf{x}$ es equivalente a su norma al cuadrado cuando el espacio vectorial está dotado de una métrica $\\mathbf{D}$. \n",
    "\n",
    "En consecuencia, la desviación estándar es simplemente la longitud de $\\mathbf{x}$ en este espacio geométrico particular.\n",
    "\n",
    "$$\n",
    "sd(\\mathbf{x}) = \\| \\mathbf{x} \\|_{D}\n",
    "$$\n",
    "\n",
    "Al observar la desviación estándar desde esta perspectiva, en realidad puedes decir que la cantidad de dispersión de un vector $\\mathbf{x}$ es en realidad su longitud (bajo la métrica $\\mathbf{D}$)."
   ]
  },
  {
   "cell_type": "markdown",
   "metadata": {
    "slideshow": {
     "slide_type": "slide"
    }
   },
   "source": [
    "Calculemos la varianza de la variable `height` como una proporción de la norma al cuadrado de x:"
   ]
  },
  {
   "cell_type": "code",
   "execution_count": 6,
   "metadata": {
    "hideCode": true,
    "hidePrompt": true,
    "slideshow": {
     "slide_type": "fragment"
    }
   },
   "outputs": [
    {
     "data": {
      "text/plain": [
       "0.12681210937499998"
      ]
     },
     "execution_count": 6,
     "metadata": {},
     "output_type": "execute_result"
    }
   ],
   "source": [
    "# Calculamos la cantidad de casos\n",
    "n = df_sw['height'].size\n",
    "\n",
    "# Centramos en la media a X\n",
    "x_centered = df_sw['height'] - df_sw['height'].mean() \n",
    "\n",
    "# Calculamos la varianza como una proporción de la norma al cuadrado de x\n",
    "var = (1/n) * np.linalg.norm(x_centered)**2\n",
    "var"
   ]
  },
  {
   "cell_type": "markdown",
   "metadata": {
    "slideshow": {
     "slide_type": "fragment"
    }
   },
   "source": [
    "Comparemos el resultado con el cálculo por defecto de la desviación estándar:"
   ]
  },
  {
   "cell_type": "code",
   "execution_count": 7,
   "metadata": {
    "hideCode": true,
    "hidePrompt": true,
    "slideshow": {
     "slide_type": "fragment"
    }
   },
   "outputs": [
    {
     "data": {
      "text/plain": [
       "0.12681210937499998"
      ]
     },
     "execution_count": 7,
     "metadata": {},
     "output_type": "execute_result"
    }
   ],
   "source": [
    "np.var(df_sw['height'])"
   ]
  },
  {
   "cell_type": "markdown",
   "metadata": {
    "slideshow": {
     "slide_type": "slide"
    }
   },
   "source": [
    "### Correlación como el producto interno\n",
    "\n",
    "La covarianza generaliza el concepto de varianza para dos variables. Recuerde que la fórmula para la covarianza entre $\\mathbf{x}$ e $\\mathbf{y}$ es:\n",
    "\n",
    "$$\n",
    "cov(\\mathbf{x, y}) = \\frac{1}{n} \\sum_{i=1}^{n} (x_i - \\bar{x}) (y_i - \\bar{y})\n",
    "$$\n",
    "\n",
    "Básicamente, la covarianza es un resumen estadístico que se utiliza para evaluar la __asociación lineal entre pares de variables__."
   ]
  },
  {
   "cell_type": "markdown",
   "metadata": {
    "slideshow": {
     "slide_type": "subslide"
    }
   },
   "source": [
    "Suponiendo que las variables están centradas en la media, podemos obtener una expresión de la covarianza en notación vectorial:\n",
    "\n",
    "$$\n",
    "cov(\\mathbf{x, y}) = \\frac{1}{n} (\\mathbf{x^\\mathsf{T} y})\n",
    "$$\n",
    "\n",
    "Aunque la covarianza indica la dirección, positiva o negativa, de una posible relación lineal, no nos dice qué tan grande o pequeña podría ser la relación. Para tener un índice más interpretable, debemos transformar la covarianza en una medida libre de unidades. "
   ]
  },
  {
   "cell_type": "markdown",
   "metadata": {
    "slideshow": {
     "slide_type": "subslide"
    }
   },
   "source": [
    "Para hacer esto debemos considerar las desviaciones estándar de las variables para poder normalizar la convarianza. \n",
    "\n",
    "El resultado de esta normalización es el coeficiente de correlación lineal definido como:\n",
    "\n",
    "$$\n",
    "cor(\\mathbf{x}, \\mathbf{y}) = \\frac{cov(\\mathbf{x}, \\mathbf{y})}{\\sqrt{var(\\mathbf{x})} \\sqrt{var(\\mathbf{y})}}\n",
    "$$"
   ]
  },
  {
   "cell_type": "markdown",
   "metadata": {
    "slideshow": {
     "slide_type": "subslide"
    }
   },
   "source": [
    "Suponiendo que $\\mathbf{x}$ e $\\mathbf{y}$ están centrados en la media, podemos expresar la correlación como:\n",
    "\n",
    "$$\n",
    "cor(\\mathbf{x, y}) = \\frac{\\mathbf{x^\\mathsf{T} y}}{\\|\\mathbf{x}\\| \\|\\mathbf{y}\\|}\n",
    "$$\n",
    "\n",
    "En el caso de que tanto $\\mathbf{x}$ como $\\mathbf{y}$ estén estandarizados (media cero y varianza unitaria), la correlación es simplemente el producto interno:\n",
    "\n",
    "$$\n",
    "cor(\\mathbf{x, y}) = \\mathbf{x^\\mathsf{T} y} \\hspace{5mm} \\mathrm{(variables} \\hspace{1mm} \\mathrm{estandarizadas)}\n",
    "$$"
   ]
  },
  {
   "cell_type": "markdown",
   "metadata": {
    "slideshow": {
     "slide_type": "subslide"
    }
   },
   "source": [
    "Veamos dos variables (es decir, vectores) desde una perspectiva geométrica:\n",
    "\n",
    "<p align=\"center\">\n",
    "  <img width=\"600\" src=\"http://www.gastonsanchez.com/matrix4sl/matrix4sl_files/figure-html/unnamed-chunk-65-1.png\" alt=\"Variable Types\">\n",
    "</p>"
   ]
  },
  {
   "cell_type": "markdown",
   "metadata": {
    "slideshow": {
     "slide_type": "fragment"
    }
   },
   "source": [
    "El producto interno de dos vectores centrados en la media $\\mathbf{x}$ e $\\mathbf{y}$ se obtiene con la siguiente ecuación:\n",
    "\n",
    "$$\n",
    "\\mathbf{x^\\mathsf{T} y} = \\|\\mathbf{x}\\| \\|\\mathbf{y}\\| cos(\\theta_{x,y})\n",
    "$$\n",
    "\n",
    "donde $cos(\\theta_{x, y})$ es el ángulo entre $\\mathbf{x}$ e $\\mathbf{y}$. "
   ]
  },
  {
   "cell_type": "markdown",
   "metadata": {
    "slideshow": {
     "slide_type": "subslide"
    }
   },
   "source": [
    "Reordenando los términos en la ecuación anterior obtenemos que:\n",
    "\n",
    "$$\n",
    "cos(\\theta_{x,y}) = \\frac{\\mathbf{x^\\mathsf{T} y}}{\\|\\mathbf{x}\\| \\|\\mathbf{y}\\|} = cor(\\mathbf{x, y}) \n",
    "$$\n",
    "\n",
    "lo que significa que la correlación entre los vectores centrados en la media $\\mathbf{x}$ e $\\mathbf{y}$ resulta ser el coseno del ángulo entre $\\mathbf{x}$ e $\\mathbf{y}$."
   ]
  },
  {
   "cell_type": "markdown",
   "metadata": {
    "slideshow": {
     "slide_type": "slide"
    }
   },
   "source": [
    "Calculemos la correlación como un producto interno normalizado:"
   ]
  },
  {
   "cell_type": "code",
   "execution_count": 18,
   "metadata": {
    "hideCode": true,
    "hidePrompt": true,
    "slideshow": {
     "slide_type": "fragment"
    }
   },
   "outputs": [
    {
     "data": {
      "text/plain": [
       "0.8139917520759036"
      ]
     },
     "execution_count": 18,
     "metadata": {},
     "output_type": "execute_result"
    }
   ],
   "source": [
    "# Centramos en la media a X e Y\n",
    "x_centered = df_sw['height'] - df_sw['height'].mean() \n",
    "y_centered = df_sw['weight'] - df_sw['weight'].mean() \n",
    "\n",
    "# Calculamos la correlación como un producto interno normalizado\n",
    "cor = np.inner(x_centered, y_centered) / ( np.linalg.norm(x_centered) * np.linalg.norm(y_centered) )\n",
    "cor"
   ]
  },
  {
   "cell_type": "markdown",
   "metadata": {
    "slideshow": {
     "slide_type": "fragment"
    }
   },
   "source": [
    "Comparamos el resultado con el cálculo por defecto de la correlación:"
   ]
  },
  {
   "cell_type": "code",
   "execution_count": 9,
   "metadata": {
    "hideCode": true,
    "hidePrompt": true,
    "slideshow": {
     "slide_type": "fragment"
    }
   },
   "outputs": [
    {
     "data": {
      "text/plain": [
       "0.8139917520759037"
      ]
     },
     "execution_count": 9,
     "metadata": {},
     "output_type": "execute_result"
    }
   ],
   "source": [
    "np.corrcoef(df_sw['height'],df_sw['weight'])[0,1]"
   ]
  },
  {
   "cell_type": "markdown",
   "metadata": {
    "slideshow": {
     "slide_type": "slide"
    }
   },
   "source": [
    "## Descomposición de matrices\n",
    "\n",
    "Una descomposición de matrices es una forma de **expresar una matriz $\\mathbf{M}$ como el producto de un conjunto de matrices nuevas** (típicamente dos o tres), generalmente más simples en algún sentido, que nos dan una idea de la estructuras o relaciones inherentes en $\\mathbf{M}$. \n",
    "\n",
    "Por \"más simple\" entendemos una serie de ideas como matrices más compactas, o con menos dimensiones, o con menos número de filas, o con menos número de columnas; quizás matrices triangulares, o incluso matrices casi llenas de ceros, excepto en su diagonal."
   ]
  },
  {
   "cell_type": "markdown",
   "metadata": {
    "slideshow": {
     "slide_type": "subslide"
    }
   },
   "source": [
    "En términos generales, la descomposición de una matriz $\\mathbf{M }$ de dimensiones $n\\times p$ se puede describir mediante una ecuación genérica de la forma:\n",
    "\n",
    "$$\n",
    "\\mathbf{M} = \\mathbf{A B C}\n",
    "$$\n",
    "\n",
    "donde las dimensiones de las matrices son las siguientes:\n",
    "\n",
    "- $\\mathbf{M}$ es $n\\times p$ (asumimos por simplicidad que $n>p$)\n",
    "- $\\mathbf{A}$ es $n\\times k$ (generalmente $k<p$)\n",
    "- $\\mathbf{B}$ es $k\\times k$ (generalmente diagonal)\n",
    "- $\\mathbf{C}$ es $k\\times p$"
   ]
  },
  {
   "cell_type": "markdown",
   "metadata": {
    "slideshow": {
     "slide_type": "subslide"
    }
   },
   "source": [
    "La siguiente figura ilustra una descomposición matricial desde el punto de vista de las formas matriciales:\n",
    "\n",
    "<p align=\"center\">\n",
    "  <img width=\"800\" src=\"http://www.gastonsanchez.com/matrix4sl/images/decomps/matrix-decomposition.png\" alt=\"Variable Types\">\n",
    "</p>"
   ]
  },
  {
   "cell_type": "markdown",
   "metadata": {
    "slideshow": {
     "slide_type": "slide"
    }
   },
   "source": [
    "### Descomposición de valores propios\n",
    "\n",
    "Las descomposiciones de valores propios juegan un papel fundamental en la estadística. \n",
    "\n",
    "En el caso del análisis multivariado, **los valores propios de las matrices de productos cruzados (por ejemplo, matrices de covarianza, matrices de correlaciones) permiten obtener estructuras simplificadas de matrices de datos**."
   ]
  },
  {
   "cell_type": "markdown",
   "metadata": {
    "slideshow": {
     "slide_type": "subslide"
    }
   },
   "source": [
    "#### Autovectores y autovalores\n",
    "\n",
    "Comencemos con la definición clásica de autovectores y autovalores.\n",
    "\n",
    "Considera una matriz cuadrada $\\mathbf{A}$ de orden $p\\times p$. \n",
    "\n",
    "Cualquier vector $\\mathbf{v}$ tal que:\n",
    "\n",
    "$$\n",
    "\\mathbf{Av} = \\lambda \\mathbf{v}\n",
    "$$\n",
    "\n",
    "con $\\lambda \\neq 0$ escalar\n",
    "\n",
    "se llama un __autovector__ de $\\mathbf{A}$, y $\\lambda$ un __autovalor__."
   ]
  },
  {
   "cell_type": "markdown",
   "metadata": {
    "slideshow": {
     "slide_type": "subslide"
    }
   },
   "source": [
    "Por ejemplo, considere la siguiente matriz $\\mathbf{A} $ y el vector $\\mathbf{v_1}$:\n",
    "\n",
    "$$\\mathbf{A} = \n",
    "\\begin{bmatrix} \n",
    "2 & 3 \\\\\n",
    "4 & 1 \\\\\n",
    "\\end{bmatrix}$$\n",
    "\n",
    "$$\\mathbf{v_1} = \n",
    "\\begin{bmatrix} \n",
    "1 \\\\\n",
    "1 \\\\\n",
    "\\end{bmatrix}$$\n",
    "\n",
    "El vector resultante de multiplicar $\\mathbf{Av_1}$ es:\n",
    "\n",
    "$$\n",
    "\\mathbf{A v_1} = \n",
    "\\begin{bmatrix} \n",
    "2 & 3 \\\\\n",
    "4 & 1 \\\\\n",
    "\\end{bmatrix}\n",
    "\\begin{bmatrix} \n",
    "1 \\\\\n",
    "1 \\\\\n",
    "\\end{bmatrix}\n",
    "=\n",
    "\\begin{bmatrix} \n",
    "5 \\\\\n",
    "5 \\\\\n",
    "\\end{bmatrix}\n",
    "=\n",
    "5\n",
    "\\begin{bmatrix} \n",
    "1 \\\\\n",
    "1 \\\\\n",
    "\\end{bmatrix}$$"
   ]
  },
  {
   "cell_type": "markdown",
   "metadata": {
    "slideshow": {
     "slide_type": "subslide"
    }
   },
   "source": [
    "Como puede apreciarse,\n",
    "\n",
    "$$\n",
    "\\mathbf{Av_1} = 5 \\mathbf{v_1}\n",
    "$$\n",
    "\n",
    "Por lo tanto, $\\mathbf{v_1}$ y $\\lambda_1 = 5$ son un autovector y autovalor, respectivamente, de $\\mathbf{A}$."
   ]
  },
  {
   "cell_type": "markdown",
   "metadata": {
    "slideshow": {
     "slide_type": "subslide"
    }
   },
   "source": [
    "Más formalmente, si pensamos en una matriz cuadrada $\\mathbf{A}$ como una **transformación**, un autovector $\\mathbf{v}$ de $\\mathbf{A}$ es un tipo especial de vector: \n",
    "\n",
    "**Es un vector que bajo la transformación $\\mathbf{A}$ se asigna a sí mismo o a un múltiplo de sí mismo**. \n",
    "\n",
    "Otra forma de decirlo es diciendo que los autovectores son **vectores invariantes** bajo una transformación dada."
   ]
  },
  {
   "cell_type": "markdown",
   "metadata": {
    "slideshow": {
     "slide_type": "slide"
    }
   },
   "source": [
    "A manera de ilustración, consideremos la matriz de correlación de las variables `height` y `weight`:"
   ]
  },
  {
   "cell_type": "code",
   "execution_count": 10,
   "metadata": {
    "hideCode": true,
    "hidePrompt": true,
    "slideshow": {
     "slide_type": "fragment"
    }
   },
   "outputs": [
    {
     "data": {
      "text/html": [
       "<div>\n",
       "<style scoped>\n",
       "    .dataframe tbody tr th:only-of-type {\n",
       "        vertical-align: middle;\n",
       "    }\n",
       "\n",
       "    .dataframe tbody tr th {\n",
       "        vertical-align: top;\n",
       "    }\n",
       "\n",
       "    .dataframe thead th {\n",
       "        text-align: right;\n",
       "    }\n",
       "</style>\n",
       "<table border=\"1\" class=\"dataframe\">\n",
       "  <thead>\n",
       "    <tr style=\"text-align: right;\">\n",
       "      <th></th>\n",
       "      <th>height</th>\n",
       "      <th>weight</th>\n",
       "    </tr>\n",
       "  </thead>\n",
       "  <tbody>\n",
       "    <tr>\n",
       "      <th>height</th>\n",
       "      <td>1.000000</td>\n",
       "      <td>0.813992</td>\n",
       "    </tr>\n",
       "    <tr>\n",
       "      <th>weight</th>\n",
       "      <td>0.813992</td>\n",
       "      <td>1.000000</td>\n",
       "    </tr>\n",
       "  </tbody>\n",
       "</table>\n",
       "</div>"
      ],
      "text/plain": [
       "          height    weight\n",
       "height  1.000000  0.813992\n",
       "weight  0.813992  1.000000"
      ]
     },
     "execution_count": 10,
     "metadata": {},
     "output_type": "execute_result"
    }
   ],
   "source": [
    "matrix = df_sw[['height','weight']].corr()\n",
    "matrix"
   ]
  },
  {
   "cell_type": "markdown",
   "metadata": {
    "slideshow": {
     "slide_type": "fragment"
    }
   },
   "source": [
    "Ahora, descompongamos esta matriz para extraer sus autovalores y autovectores:"
   ]
  },
  {
   "cell_type": "code",
   "execution_count": 11,
   "metadata": {
    "hideCode": true,
    "hidePrompt": true,
    "slideshow": {
     "slide_type": "fragment"
    }
   },
   "outputs": [
    {
     "name": "stdout",
     "output_type": "stream",
     "text": [
      "Autovalores: [1.81399175 0.18600825]\n",
      "Autovectores:\n",
      "[[ 0.70710678 -0.70710678]\n",
      " [ 0.70710678  0.70710678]]\n"
     ]
    }
   ],
   "source": [
    "# Descomponemos la matriz para obtener sus autovalores y autovectores\n",
    "values, vectors = np.linalg.eig(matrix)\n",
    "\n",
    "# Mostramos los resultados\n",
    "print('Autovalores:',values)\n",
    "print('Autovectores:')\n",
    "print(vectors)"
   ]
  },
  {
   "cell_type": "markdown",
   "metadata": {
    "slideshow": {
     "slide_type": "slide"
    }
   },
   "source": [
    "## Análisis Factorial\n",
    "\n",
    "Se refiere a una familia de métodos para **analizar un conjunto de variables observadas (la matriz de datos $\\mathbf{X}$) y expresarlas en menos dimensiones**.\n",
    "\n",
    "Dos ramas básicas en el árbol genealógico: factores definidos (también conocidos como componentes principales) y factores inferidos (también conocido como análisis factorial común o análisis factorial clásico)."
   ]
  },
  {
   "cell_type": "markdown",
   "metadata": {
    "slideshow": {
     "slide_type": "subslide"
    }
   },
   "source": [
    "**En el análisis de componentes principales, definimos nuevas variables (factores), que son combinaciones lineales de nuestras variables observadas**, que resumen nuestros datos de entrada, al igual que un índice bursátil resume todo el mercado.\n",
    "\n",
    "- El foco está en expresar las nuevas variables (los componentes principales) como promedios ponderados de las variables observadas\n",
    "- Los factores (denominados correctamente puntuaciones de factores) tienen el mismo orden (número de valores) que las variables originales."
   ]
  },
  {
   "cell_type": "markdown",
   "metadata": {
    "slideshow": {
     "slide_type": "subslide"
    }
   },
   "source": [
    "Podemos apreciar estas intuiciones expresadas gráficamente:\n",
    "\n",
    "<p align=\"center\">\n",
    "  <img width=\"400\" src=\"https://i2.wp.com/www.theanalysisfactor.com/wp-content/uploads/2016/09/KGM_Sept2016_Image1.png?resize=383%2C314\" alt=\"Variable Types\">\n",
    "</p>\n",
    "\n",
    "Este modelo se puede definir con una ecuación simple:\n",
    "\n",
    "$$ C = w_{1}\\times Y_{1} + w_{2}\\times Y_{2} + w_{3}\\times Y_{3} + w_{4}\\times Y_{4} $$"
   ]
  },
  {
   "cell_type": "markdown",
   "metadata": {
    "slideshow": {
     "slide_type": "slide"
    }
   },
   "source": [
    "**En el análisis factorial común inferimos la existencia de variables latentes que explican el patrón de correlaciones entre nuestras variables observadas**.\n",
    "- La atención se centra en expresar las variables observadas como una combinación lineal de factores subyacentes."
   ]
  },
  {
   "cell_type": "markdown",
   "metadata": {
    "slideshow": {
     "slide_type": "subslide"
    }
   },
   "source": [
    "Podemos apreciar estas intuiciones expresadas gráficamente:\n",
    "\n",
    "<p align=\"center\">\n",
    "  <img width=\"400\" src=\"https://i1.wp.com/www.theanalysisfactor.com/wp-content/uploads/2016/09/KGM_Sept2016_Image2.png?resize=383%2C235\" alt=\"Variable Types\">\n",
    "</p>\n",
    "\n",
    "En este modelo tenemos un conjunto de términos de error. Estos están designados por las **u**. Esta es la varianza en cada **Y** que el factor no explica."
   ]
  },
  {
   "cell_type": "markdown",
   "metadata": {
    "slideshow": {
     "slide_type": "subslide"
    }
   },
   "source": [
    "Este modelo se puede definir como una serie de ecuaciones de regresión:\n",
    "\n",
    "$$ Y_{1} = b_{1}\\times F + u_{1} $$\n",
    "$$ Y_{2} = b_{2}\\times F + u_{2} $$\n",
    "$$ Y_{3} = b_{3}\\times F + u_{3} $$\n",
    "$$ Y_{4} = b_{4}\\times F + u_{4} $$"
   ]
  },
  {
   "cell_type": "markdown",
   "metadata": {
    "slideshow": {
     "slide_type": "slide"
    }
   },
   "source": [
    "En ambos enfoques, **los factores se definen como combinaciones lineales de las variables y las variables se descomponen como combinaciones lineales de los factores**. Extraño pero cierto.\n",
    "\n",
    "Dos resultados básicos del análisis factorial: \n",
    "- Un conjunto de puntuaciones de columna (variable) llamadas **cargas factoriales** (cada carga factorial tiene tantos valores como variables hay en la matriz de datos)\n",
    "- Un conjunto de puntuaciones de fila (caso) llamadas **puntuaciones factoriales** (cada puntuación del factor tiene tantos valores como casos haya en la matriz de datos)."
   ]
  },
  {
   "cell_type": "markdown",
   "metadata": {
    "slideshow": {
     "slide_type": "slide"
    }
   },
   "source": [
    "### Análisis Factorial Común\n",
    "\n",
    "Dada como entrada una matriz $\\mathbf{X}$ rectangular de 2 dimensiones cuyas columnas se ven como variables, el objetivo del análisis de factor común es **descomponer (\"factorizar\") las variables en términos de un conjunto de variables subyacentes \"latentes\" llamadas factores que se infieren del patrón de correlaciones entre las variables**.\n",
    "\n",
    "Los factores subyacentes son la \"razón de\" las correlaciones observadas entre las variables. Es decir, **asumimos que las correlaciones entre las variables se deben al hecho de que cada variable está correlacionada con los factores subyacentes**. \n"
   ]
  },
  {
   "cell_type": "markdown",
   "metadata": {
    "slideshow": {
     "slide_type": "subslide"
    }
   },
   "source": [
    "Si simplificamos y asumimos que solo hay un factor subyacente para un conjunto dado de variables, la idea es ver si podemos explicar la correlación observada $cor({X_{1}, X_{2}})$ entre dos variables $X_{1}$ e $X_{2}$ en función de la extensión a la que cada una se correlaciona con una tercera variable invisible, el factor $F$:\n",
    "\n",
    "$$ cor(X_{1}, X_{2}) = cor(X_{1}, F)\\times cor(X_{2}, F) $$ \n",
    "\n",
    "Esto se conoce como **teorema fundamental del análisis factorial de Spearman**. "
   ]
  },
  {
   "cell_type": "markdown",
   "metadata": {
    "slideshow": {
     "slide_type": "subslide"
    }
   },
   "source": [
    "Si hay dos factores subyacentes, entonces la correlación entre dos variables se debe a sus correlaciones con cada uno de los factores latentes: \n",
    "\n",
    "$$ cor(X_{1}, X_{2}) = cor(X_{1}, F_{1})\\times cor(X_{2}, F_{1}) + cor(X_{1}, F_{2})\\times cor(X_{2}, F_{2}  ) $$ \n"
   ]
  },
  {
   "cell_type": "markdown",
   "metadata": {
    "slideshow": {
     "slide_type": "subslide"
    }
   },
   "source": [
    "Veamos estas relaciones de manera gráfica:\n",
    "\n",
    "<p align=\"center\">\n",
    "  <img width=\"500\" src=\"https://www.empirical-methods.hslu.ch/files/2017/02/variables-as-vectors-2-cluster-analysis-300x161.jpg\" alt=\"Variable Types\">\n",
    "</p>\n",
    "\n",
    "**El tamaño del ángulo entre un vector y el eje refleja la correlación de la variable y el factor**. Cuanto mayor sea la correlación de la variable con el factor, menor será el ángulo entre el vector y el eje. Estos ángulos representan las **cargas factoriales**."
   ]
  },
  {
   "cell_type": "markdown",
   "metadata": {
    "slideshow": {
     "slide_type": "subslide"
    }
   },
   "source": [
    "**Para calcular los factores es necesario contar con la información de la asociación entre todas las variables de la matriz de datos**. Esta información se encuentra en la matriz de covarianza de $\\mathbf{X}$, que llamaremos $\\mathbf{\\Sigma}$. \n",
    "\n",
    "Asumiendo que $\\mathbf{X}$ está centrada en la media, podemos definirla como:\n",
    "\n",
    "$$ \\Sigma = \\frac{1}{n} \\mathbf{X^\\mathsf{T} X} =  \\begin{pmatrix}\n",
    "Var(X_{1}) & Cov(X_{1}, X_{2}) & \\cdots  & Cov(X_{1}, X_{p}) \\\\ \n",
    "Cov(X_{1}, X_{2}) & Var(X_{2}) & \\cdots  & Cov(X_{2}, X_{p}) \\\\ \n",
    "\\vdots  & \\vdots  & \\ddots  & \\vdots  \\\\ \n",
    "Cov(X_{1}, X_{p}) & Cov(X_{2}, X_{p}) & \\cdots  & Var(X_{p})\n",
    "\\end{pmatrix} $$\n",
    "\n",
    "Como veremos a lo largo del curso, la matriz de covarianza $\\mathbf{\\Sigma}$ es fundamental para los modelos multivariados. "
   ]
  },
  {
   "cell_type": "markdown",
   "metadata": {
    "slideshow": {
     "slide_type": "slide"
    }
   },
   "source": [
    "#### Definición formal \n",
    "\n",
    "El modelo de análisis factorial común es esencialmente una serie de ecuaciones de regresión donde $b_{ij}$ son coeficientes de regresión representando cómo la variable $X_{i}$ se relaciona con $k$ factores comunes:  \n",
    "\n",
    "$$ X_{1} = b_{11} f_{1} + b_{12} f_{2} + ... + b_{1k} f_{k} + \\mu_{1}$$\n",
    "$$ X_{2} = b_{21} f_{1} + b_{22} f_{2} + ... + b_{2k} f_{k} + \\mu_{2}$$\n",
    "$$ . $$\n",
    "$$ . $$\n",
    "$$ . $$\n",
    "$$ X_{q} = b_{q1} f_{1} + b_{q2} f_{2} + ... + b_{qk} f_{k} + \\mu_{q}$$\n",
    "\n",
    "\n",
    "Los **coeficientes $b_{ij}$, llamados cargas factoriales, miden la magnitud de la correlación entre los factores $f_{i}$ y las variables observadas $X_{i}$**. Los valores de $\\mu_{i}$ representan los residuos y son llamados variantes específicos. "
   ]
  },
  {
   "cell_type": "markdown",
   "metadata": {
    "slideshow": {
     "slide_type": "subslide"
    }
   },
   "source": [
    "En este modelo las cargas factoriales $b_{ij}$ se definen como:\n",
    "\n",
    "$$ b_{ij} = \\sqrt{\\lambda_{j}} v_{ij} $$ \n",
    "\n",
    "donde $\\lambda_{j}$ y $v_{ij}$ son los **autovalores** y **autovectores** de la matriz de covarianza $\\mathbf{\\Sigma}$ de la matriz de datos $\\mathbf{X}$."
   ]
  },
  {
   "cell_type": "markdown",
   "metadata": {
    "slideshow": {
     "slide_type": "subslide"
    }
   },
   "source": [
    "Podemos expresar el modelo completo en forma simplificada:\n",
    "\n",
    "$$ \\mathbf{X} = \\mathbf{B} \\mathbf{f} + \\mathbf{\\mu} $$\n",
    "\n",
    "donde\n",
    "\n",
    "$$ \\mathbf{B} = \\begin{pmatrix}\n",
    "b_{11} & \\cdots  & b_{1k}  \\\\ \n",
    "\\vdots  & \\ddots  & \\vdots  \\\\ \n",
    "b_{q1} & \\cdots  & b_{qk}\n",
    "\\end{pmatrix} $$ \n",
    "\n",
    "$$ \\mathbf{f} = \\begin{pmatrix}\n",
    "f_{1} \\\\\n",
    "\\vdots  \\\\ \n",
    "f_{k}\n",
    "\\end{pmatrix} $$\n",
    "\n",
    "$$ \\mathbf{\\mu} =  \\begin{pmatrix}\n",
    "\\mu_{1} \\\\\n",
    "\\vdots  \\\\ \n",
    "\\mu_{q}\n",
    "\\end{pmatrix} $$\n"
   ]
  },
  {
   "cell_type": "markdown",
   "metadata": {
    "slideshow": {
     "slide_type": "subslide"
    }
   },
   "source": [
    "El supuesto más importante del modelo es que las variables observadas $X_{i}$ son independientes entre sí, por lo que las correlaciones entre las variables manifiestas se deben únicamente a su relación con los factores."
   ]
  },
  {
   "cell_type": "markdown",
   "metadata": {
    "slideshow": {
     "slide_type": "subslide"
    }
   },
   "source": [
    "La varianza de cada variable $X_{i}$ puede definirse como:\n",
    "\n",
    "$$ \\sigma_{i} = \\sum_{j=1}^{k} b_{ij}^{2} + \\psi_{i} $$\n",
    "\n",
    "Esta cuenta con dos componentes. El primero se denomina **comunalidad de la varianza** y **representa la varianza compartida con otras variables como resultado de factores comunes**. El segundo componente se trata de una varianza específica que no se comparte con otras variables. "
   ]
  },
  {
   "cell_type": "markdown",
   "metadata": {
    "slideshow": {
     "slide_type": "slide"
    }
   },
   "source": [
    "#### Ejemplo de extracción de factores\n",
    "\n",
    "Repasemos esta definición a partir de un ejemplo."
   ]
  },
  {
   "cell_type": "markdown",
   "metadata": {
    "slideshow": {
     "slide_type": "subslide"
    }
   },
   "source": [
    "Primero, cargamos nuestra matriz de datos `df` la cual está compuesta por 12 variables y 357 casos. "
   ]
  },
  {
   "cell_type": "code",
   "execution_count": 12,
   "metadata": {
    "hideCode": true,
    "hidePrompt": true,
    "slideshow": {
     "slide_type": "fragment"
    }
   },
   "outputs": [
    {
     "data": {
      "text/html": [
       "<div>\n",
       "<style scoped>\n",
       "    .dataframe tbody tr th:only-of-type {\n",
       "        vertical-align: middle;\n",
       "    }\n",
       "\n",
       "    .dataframe tbody tr th {\n",
       "        vertical-align: top;\n",
       "    }\n",
       "\n",
       "    .dataframe thead th {\n",
       "        text-align: right;\n",
       "    }\n",
       "</style>\n",
       "<table border=\"1\" class=\"dataframe\">\n",
       "  <thead>\n",
       "    <tr style=\"text-align: right;\">\n",
       "      <th></th>\n",
       "      <th>e1</th>\n",
       "      <th>e2</th>\n",
       "      <th>e3</th>\n",
       "      <th>e4</th>\n",
       "      <th>e5</th>\n",
       "      <th>e6</th>\n",
       "      <th>e7</th>\n",
       "      <th>e8</th>\n",
       "      <th>e9</th>\n",
       "      <th>e10</th>\n",
       "      <th>e11</th>\n",
       "      <th>e12</th>\n",
       "    </tr>\n",
       "  </thead>\n",
       "  <tbody>\n",
       "    <tr>\n",
       "      <th>0</th>\n",
       "      <td>5.0</td>\n",
       "      <td>5.0</td>\n",
       "      <td>3.0</td>\n",
       "      <td>4.0</td>\n",
       "      <td>5.0</td>\n",
       "      <td>5.0</td>\n",
       "      <td>4.0</td>\n",
       "      <td>4.0</td>\n",
       "      <td>5.0</td>\n",
       "      <td>5.0</td>\n",
       "      <td>3.0</td>\n",
       "      <td>3.0</td>\n",
       "    </tr>\n",
       "    <tr>\n",
       "      <th>1</th>\n",
       "      <td>3.0</td>\n",
       "      <td>4.0</td>\n",
       "      <td>2.0</td>\n",
       "      <td>3.0</td>\n",
       "      <td>4.0</td>\n",
       "      <td>4.0</td>\n",
       "      <td>3.0</td>\n",
       "      <td>3.0</td>\n",
       "      <td>4.0</td>\n",
       "      <td>2.0</td>\n",
       "      <td>2.0</td>\n",
       "      <td>3.0</td>\n",
       "    </tr>\n",
       "    <tr>\n",
       "      <th>2</th>\n",
       "      <td>5.0</td>\n",
       "      <td>5.0</td>\n",
       "      <td>1.0</td>\n",
       "      <td>4.0</td>\n",
       "      <td>5.0</td>\n",
       "      <td>5.0</td>\n",
       "      <td>4.0</td>\n",
       "      <td>4.0</td>\n",
       "      <td>5.0</td>\n",
       "      <td>5.0</td>\n",
       "      <td>5.0</td>\n",
       "      <td>4.0</td>\n",
       "    </tr>\n",
       "    <tr>\n",
       "      <th>3</th>\n",
       "      <td>4.0</td>\n",
       "      <td>5.0</td>\n",
       "      <td>1.0</td>\n",
       "      <td>4.0</td>\n",
       "      <td>5.0</td>\n",
       "      <td>5.0</td>\n",
       "      <td>5.0</td>\n",
       "      <td>5.0</td>\n",
       "      <td>3.0</td>\n",
       "      <td>5.0</td>\n",
       "      <td>3.0</td>\n",
       "      <td>3.0</td>\n",
       "    </tr>\n",
       "    <tr>\n",
       "      <th>4</th>\n",
       "      <td>3.0</td>\n",
       "      <td>4.0</td>\n",
       "      <td>4.0</td>\n",
       "      <td>3.0</td>\n",
       "      <td>3.0</td>\n",
       "      <td>4.0</td>\n",
       "      <td>4.0</td>\n",
       "      <td>4.0</td>\n",
       "      <td>3.0</td>\n",
       "      <td>4.0</td>\n",
       "      <td>3.0</td>\n",
       "      <td>4.0</td>\n",
       "    </tr>\n",
       "    <tr>\n",
       "      <th>...</th>\n",
       "      <td>...</td>\n",
       "      <td>...</td>\n",
       "      <td>...</td>\n",
       "      <td>...</td>\n",
       "      <td>...</td>\n",
       "      <td>...</td>\n",
       "      <td>...</td>\n",
       "      <td>...</td>\n",
       "      <td>...</td>\n",
       "      <td>...</td>\n",
       "      <td>...</td>\n",
       "      <td>...</td>\n",
       "    </tr>\n",
       "    <tr>\n",
       "      <th>352</th>\n",
       "      <td>5.0</td>\n",
       "      <td>4.0</td>\n",
       "      <td>1.0</td>\n",
       "      <td>4.0</td>\n",
       "      <td>5.0</td>\n",
       "      <td>4.0</td>\n",
       "      <td>3.0</td>\n",
       "      <td>4.0</td>\n",
       "      <td>4.0</td>\n",
       "      <td>5.0</td>\n",
       "      <td>3.0</td>\n",
       "      <td>3.0</td>\n",
       "    </tr>\n",
       "    <tr>\n",
       "      <th>353</th>\n",
       "      <td>5.0</td>\n",
       "      <td>5.0</td>\n",
       "      <td>2.0</td>\n",
       "      <td>3.0</td>\n",
       "      <td>5.0</td>\n",
       "      <td>5.0</td>\n",
       "      <td>3.0</td>\n",
       "      <td>3.0</td>\n",
       "      <td>5.0</td>\n",
       "      <td>5.0</td>\n",
       "      <td>2.0</td>\n",
       "      <td>2.0</td>\n",
       "    </tr>\n",
       "    <tr>\n",
       "      <th>354</th>\n",
       "      <td>5.0</td>\n",
       "      <td>5.0</td>\n",
       "      <td>2.0</td>\n",
       "      <td>5.0</td>\n",
       "      <td>5.0</td>\n",
       "      <td>5.0</td>\n",
       "      <td>5.0</td>\n",
       "      <td>4.0</td>\n",
       "      <td>5.0</td>\n",
       "      <td>5.0</td>\n",
       "      <td>5.0</td>\n",
       "      <td>4.0</td>\n",
       "    </tr>\n",
       "    <tr>\n",
       "      <th>355</th>\n",
       "      <td>4.0</td>\n",
       "      <td>4.0</td>\n",
       "      <td>2.0</td>\n",
       "      <td>4.0</td>\n",
       "      <td>5.0</td>\n",
       "      <td>4.0</td>\n",
       "      <td>4.0</td>\n",
       "      <td>4.0</td>\n",
       "      <td>4.0</td>\n",
       "      <td>4.0</td>\n",
       "      <td>4.0</td>\n",
       "      <td>3.0</td>\n",
       "    </tr>\n",
       "    <tr>\n",
       "      <th>356</th>\n",
       "      <td>5.0</td>\n",
       "      <td>5.0</td>\n",
       "      <td>3.0</td>\n",
       "      <td>5.0</td>\n",
       "      <td>5.0</td>\n",
       "      <td>5.0</td>\n",
       "      <td>5.0</td>\n",
       "      <td>5.0</td>\n",
       "      <td>5.0</td>\n",
       "      <td>5.0</td>\n",
       "      <td>3.0</td>\n",
       "      <td>3.0</td>\n",
       "    </tr>\n",
       "  </tbody>\n",
       "</table>\n",
       "<p>357 rows × 12 columns</p>\n",
       "</div>"
      ],
      "text/plain": [
       "      e1   e2   e3   e4   e5   e6   e7   e8   e9  e10  e11  e12\n",
       "0    5.0  5.0  3.0  4.0  5.0  5.0  4.0  4.0  5.0  5.0  3.0  3.0\n",
       "1    3.0  4.0  2.0  3.0  4.0  4.0  3.0  3.0  4.0  2.0  2.0  3.0\n",
       "2    5.0  5.0  1.0  4.0  5.0  5.0  4.0  4.0  5.0  5.0  5.0  4.0\n",
       "3    4.0  5.0  1.0  4.0  5.0  5.0  5.0  5.0  3.0  5.0  3.0  3.0\n",
       "4    3.0  4.0  4.0  3.0  3.0  4.0  4.0  4.0  3.0  4.0  3.0  4.0\n",
       "..   ...  ...  ...  ...  ...  ...  ...  ...  ...  ...  ...  ...\n",
       "352  5.0  4.0  1.0  4.0  5.0  4.0  3.0  4.0  4.0  5.0  3.0  3.0\n",
       "353  5.0  5.0  2.0  3.0  5.0  5.0  3.0  3.0  5.0  5.0  2.0  2.0\n",
       "354  5.0  5.0  2.0  5.0  5.0  5.0  5.0  4.0  5.0  5.0  5.0  4.0\n",
       "355  4.0  4.0  2.0  4.0  5.0  4.0  4.0  4.0  4.0  4.0  4.0  3.0\n",
       "356  5.0  5.0  3.0  5.0  5.0  5.0  5.0  5.0  5.0  5.0  3.0  3.0\n",
       "\n",
       "[357 rows x 12 columns]"
      ]
     },
     "execution_count": 12,
     "metadata": {},
     "output_type": "execute_result"
    }
   ],
   "source": [
    "import pandas as pd\n",
    "from sklearn.preprocessing import StandardScaler\n",
    "\n",
    "df = pd.read_spss('euthan.sav')\n",
    "df"
   ]
  },
  {
   "cell_type": "markdown",
   "metadata": {
    "slideshow": {
     "slide_type": "subslide"
    }
   },
   "source": [
    "Antes de realizar el análisis factorial, estandarizamos nuestros datos:"
   ]
  },
  {
   "cell_type": "code",
   "execution_count": 13,
   "metadata": {
    "hideCode": true,
    "hidePrompt": true,
    "slideshow": {
     "slide_type": "fragment"
    }
   },
   "outputs": [
    {
     "data": {
      "text/html": [
       "<div>\n",
       "<style scoped>\n",
       "    .dataframe tbody tr th:only-of-type {\n",
       "        vertical-align: middle;\n",
       "    }\n",
       "\n",
       "    .dataframe tbody tr th {\n",
       "        vertical-align: top;\n",
       "    }\n",
       "\n",
       "    .dataframe thead th {\n",
       "        text-align: right;\n",
       "    }\n",
       "</style>\n",
       "<table border=\"1\" class=\"dataframe\">\n",
       "  <thead>\n",
       "    <tr style=\"text-align: right;\">\n",
       "      <th></th>\n",
       "      <th>e1</th>\n",
       "      <th>e2</th>\n",
       "      <th>e3</th>\n",
       "      <th>e4</th>\n",
       "      <th>e5</th>\n",
       "      <th>e6</th>\n",
       "      <th>e7</th>\n",
       "      <th>e8</th>\n",
       "      <th>e9</th>\n",
       "      <th>e10</th>\n",
       "      <th>e11</th>\n",
       "      <th>e12</th>\n",
       "    </tr>\n",
       "  </thead>\n",
       "  <tbody>\n",
       "    <tr>\n",
       "      <th>0</th>\n",
       "      <td>0.857588</td>\n",
       "      <td>0.785601</td>\n",
       "      <td>0.119556</td>\n",
       "      <td>0.154735</td>\n",
       "      <td>0.686161</td>\n",
       "      <td>0.865330</td>\n",
       "      <td>0.272019</td>\n",
       "      <td>0.041718</td>\n",
       "      <td>0.881063</td>\n",
       "      <td>0.916052</td>\n",
       "      <td>0.039223</td>\n",
       "      <td>0.011506</td>\n",
       "    </tr>\n",
       "    <tr>\n",
       "      <th>1</th>\n",
       "      <td>-0.867251</td>\n",
       "      <td>-0.472065</td>\n",
       "      <td>-0.717338</td>\n",
       "      <td>-0.781541</td>\n",
       "      <td>-0.402548</td>\n",
       "      <td>-0.270416</td>\n",
       "      <td>-0.595042</td>\n",
       "      <td>-1.022102</td>\n",
       "      <td>-0.072087</td>\n",
       "      <td>-1.728400</td>\n",
       "      <td>-0.784465</td>\n",
       "      <td>0.011506</td>\n",
       "    </tr>\n",
       "    <tr>\n",
       "      <th>2</th>\n",
       "      <td>0.857588</td>\n",
       "      <td>0.785601</td>\n",
       "      <td>-1.554233</td>\n",
       "      <td>0.154735</td>\n",
       "      <td>0.686161</td>\n",
       "      <td>0.865330</td>\n",
       "      <td>0.272019</td>\n",
       "      <td>0.041718</td>\n",
       "      <td>0.881063</td>\n",
       "      <td>0.916052</td>\n",
       "      <td>1.686599</td>\n",
       "      <td>0.833058</td>\n",
       "    </tr>\n",
       "    <tr>\n",
       "      <th>3</th>\n",
       "      <td>-0.004831</td>\n",
       "      <td>0.785601</td>\n",
       "      <td>-1.554233</td>\n",
       "      <td>0.154735</td>\n",
       "      <td>0.686161</td>\n",
       "      <td>0.865330</td>\n",
       "      <td>1.139081</td>\n",
       "      <td>1.105538</td>\n",
       "      <td>-1.025236</td>\n",
       "      <td>0.916052</td>\n",
       "      <td>0.039223</td>\n",
       "      <td>0.011506</td>\n",
       "    </tr>\n",
       "    <tr>\n",
       "      <th>4</th>\n",
       "      <td>-0.867251</td>\n",
       "      <td>-0.472065</td>\n",
       "      <td>0.956451</td>\n",
       "      <td>-0.781541</td>\n",
       "      <td>-1.491256</td>\n",
       "      <td>-0.270416</td>\n",
       "      <td>0.272019</td>\n",
       "      <td>0.041718</td>\n",
       "      <td>-1.025236</td>\n",
       "      <td>0.034568</td>\n",
       "      <td>0.039223</td>\n",
       "      <td>0.833058</td>\n",
       "    </tr>\n",
       "    <tr>\n",
       "      <th>...</th>\n",
       "      <td>...</td>\n",
       "      <td>...</td>\n",
       "      <td>...</td>\n",
       "      <td>...</td>\n",
       "      <td>...</td>\n",
       "      <td>...</td>\n",
       "      <td>...</td>\n",
       "      <td>...</td>\n",
       "      <td>...</td>\n",
       "      <td>...</td>\n",
       "      <td>...</td>\n",
       "      <td>...</td>\n",
       "    </tr>\n",
       "    <tr>\n",
       "      <th>352</th>\n",
       "      <td>0.857588</td>\n",
       "      <td>-0.472065</td>\n",
       "      <td>-1.554233</td>\n",
       "      <td>0.154735</td>\n",
       "      <td>0.686161</td>\n",
       "      <td>-0.270416</td>\n",
       "      <td>-0.595042</td>\n",
       "      <td>0.041718</td>\n",
       "      <td>-0.072087</td>\n",
       "      <td>0.916052</td>\n",
       "      <td>0.039223</td>\n",
       "      <td>0.011506</td>\n",
       "    </tr>\n",
       "    <tr>\n",
       "      <th>353</th>\n",
       "      <td>0.857588</td>\n",
       "      <td>0.785601</td>\n",
       "      <td>-0.717338</td>\n",
       "      <td>-0.781541</td>\n",
       "      <td>0.686161</td>\n",
       "      <td>0.865330</td>\n",
       "      <td>-0.595042</td>\n",
       "      <td>-1.022102</td>\n",
       "      <td>0.881063</td>\n",
       "      <td>0.916052</td>\n",
       "      <td>-0.784465</td>\n",
       "      <td>-0.810046</td>\n",
       "    </tr>\n",
       "    <tr>\n",
       "      <th>354</th>\n",
       "      <td>0.857588</td>\n",
       "      <td>0.785601</td>\n",
       "      <td>-0.717338</td>\n",
       "      <td>1.091011</td>\n",
       "      <td>0.686161</td>\n",
       "      <td>0.865330</td>\n",
       "      <td>1.139081</td>\n",
       "      <td>0.041718</td>\n",
       "      <td>0.881063</td>\n",
       "      <td>0.916052</td>\n",
       "      <td>1.686599</td>\n",
       "      <td>0.833058</td>\n",
       "    </tr>\n",
       "    <tr>\n",
       "      <th>355</th>\n",
       "      <td>-0.004831</td>\n",
       "      <td>-0.472065</td>\n",
       "      <td>-0.717338</td>\n",
       "      <td>0.154735</td>\n",
       "      <td>0.686161</td>\n",
       "      <td>-0.270416</td>\n",
       "      <td>0.272019</td>\n",
       "      <td>0.041718</td>\n",
       "      <td>-0.072087</td>\n",
       "      <td>0.034568</td>\n",
       "      <td>0.862911</td>\n",
       "      <td>0.011506</td>\n",
       "    </tr>\n",
       "    <tr>\n",
       "      <th>356</th>\n",
       "      <td>0.857588</td>\n",
       "      <td>0.785601</td>\n",
       "      <td>0.119556</td>\n",
       "      <td>1.091011</td>\n",
       "      <td>0.686161</td>\n",
       "      <td>0.865330</td>\n",
       "      <td>1.139081</td>\n",
       "      <td>1.105538</td>\n",
       "      <td>0.881063</td>\n",
       "      <td>0.916052</td>\n",
       "      <td>0.039223</td>\n",
       "      <td>0.011506</td>\n",
       "    </tr>\n",
       "  </tbody>\n",
       "</table>\n",
       "<p>357 rows × 12 columns</p>\n",
       "</div>"
      ],
      "text/plain": [
       "           e1        e2        e3        e4        e5        e6        e7  \\\n",
       "0    0.857588  0.785601  0.119556  0.154735  0.686161  0.865330  0.272019   \n",
       "1   -0.867251 -0.472065 -0.717338 -0.781541 -0.402548 -0.270416 -0.595042   \n",
       "2    0.857588  0.785601 -1.554233  0.154735  0.686161  0.865330  0.272019   \n",
       "3   -0.004831  0.785601 -1.554233  0.154735  0.686161  0.865330  1.139081   \n",
       "4   -0.867251 -0.472065  0.956451 -0.781541 -1.491256 -0.270416  0.272019   \n",
       "..        ...       ...       ...       ...       ...       ...       ...   \n",
       "352  0.857588 -0.472065 -1.554233  0.154735  0.686161 -0.270416 -0.595042   \n",
       "353  0.857588  0.785601 -0.717338 -0.781541  0.686161  0.865330 -0.595042   \n",
       "354  0.857588  0.785601 -0.717338  1.091011  0.686161  0.865330  1.139081   \n",
       "355 -0.004831 -0.472065 -0.717338  0.154735  0.686161 -0.270416  0.272019   \n",
       "356  0.857588  0.785601  0.119556  1.091011  0.686161  0.865330  1.139081   \n",
       "\n",
       "           e8        e9       e10       e11       e12  \n",
       "0    0.041718  0.881063  0.916052  0.039223  0.011506  \n",
       "1   -1.022102 -0.072087 -1.728400 -0.784465  0.011506  \n",
       "2    0.041718  0.881063  0.916052  1.686599  0.833058  \n",
       "3    1.105538 -1.025236  0.916052  0.039223  0.011506  \n",
       "4    0.041718 -1.025236  0.034568  0.039223  0.833058  \n",
       "..        ...       ...       ...       ...       ...  \n",
       "352  0.041718 -0.072087  0.916052  0.039223  0.011506  \n",
       "353 -1.022102  0.881063  0.916052 -0.784465 -0.810046  \n",
       "354  0.041718  0.881063  0.916052  1.686599  0.833058  \n",
       "355  0.041718 -0.072087  0.034568  0.862911  0.011506  \n",
       "356  1.105538  0.881063  0.916052  0.039223  0.011506  \n",
       "\n",
       "[357 rows x 12 columns]"
      ]
     },
     "execution_count": 13,
     "metadata": {},
     "output_type": "execute_result"
    }
   ],
   "source": [
    "# Estandarizamos los datos\n",
    "scaler = StandardScaler()\n",
    "scaled_data = scaler.fit_transform(df)\n",
    "df = pd.DataFrame(scaled_data, columns=df.columns.values)\n",
    "df"
   ]
  },
  {
   "cell_type": "markdown",
   "metadata": {
    "slideshow": {
     "slide_type": "subslide"
    }
   },
   "source": [
    "Luego, calculamos la **matriz de covarianza** de nuestros datos estandarizados:"
   ]
  },
  {
   "cell_type": "code",
   "execution_count": 14,
   "metadata": {
    "hideCode": true,
    "hidePrompt": true,
    "slideshow": {
     "slide_type": "fragment"
    }
   },
   "outputs": [
    {
     "data": {
      "text/html": [
       "<div>\n",
       "<style scoped>\n",
       "    .dataframe tbody tr th:only-of-type {\n",
       "        vertical-align: middle;\n",
       "    }\n",
       "\n",
       "    .dataframe tbody tr th {\n",
       "        vertical-align: top;\n",
       "    }\n",
       "\n",
       "    .dataframe thead th {\n",
       "        text-align: right;\n",
       "    }\n",
       "</style>\n",
       "<table border=\"1\" class=\"dataframe\">\n",
       "  <thead>\n",
       "    <tr style=\"text-align: right;\">\n",
       "      <th></th>\n",
       "      <th>e1</th>\n",
       "      <th>e2</th>\n",
       "      <th>e3</th>\n",
       "      <th>e4</th>\n",
       "      <th>e5</th>\n",
       "      <th>e6</th>\n",
       "      <th>e7</th>\n",
       "      <th>e8</th>\n",
       "      <th>e9</th>\n",
       "      <th>e10</th>\n",
       "      <th>e11</th>\n",
       "      <th>e12</th>\n",
       "    </tr>\n",
       "  </thead>\n",
       "  <tbody>\n",
       "    <tr>\n",
       "      <th>e1</th>\n",
       "      <td>1.002809</td>\n",
       "      <td>0.594872</td>\n",
       "      <td>0.353347</td>\n",
       "      <td>0.268392</td>\n",
       "      <td>0.649493</td>\n",
       "      <td>0.535208</td>\n",
       "      <td>0.459223</td>\n",
       "      <td>0.296572</td>\n",
       "      <td>0.673888</td>\n",
       "      <td>0.395220</td>\n",
       "      <td>0.439179</td>\n",
       "      <td>0.197089</td>\n",
       "    </tr>\n",
       "    <tr>\n",
       "      <th>e2</th>\n",
       "      <td>0.594872</td>\n",
       "      <td>1.002809</td>\n",
       "      <td>0.263556</td>\n",
       "      <td>0.380861</td>\n",
       "      <td>0.601746</td>\n",
       "      <td>0.726613</td>\n",
       "      <td>0.324812</td>\n",
       "      <td>0.429396</td>\n",
       "      <td>0.541676</td>\n",
       "      <td>0.533302</td>\n",
       "      <td>0.335747</td>\n",
       "      <td>0.252147</td>\n",
       "    </tr>\n",
       "    <tr>\n",
       "      <th>e3</th>\n",
       "      <td>0.353347</td>\n",
       "      <td>0.263556</td>\n",
       "      <td>1.002809</td>\n",
       "      <td>0.269783</td>\n",
       "      <td>0.329792</td>\n",
       "      <td>0.272715</td>\n",
       "      <td>0.370973</td>\n",
       "      <td>0.377629</td>\n",
       "      <td>0.414208</td>\n",
       "      <td>0.223799</td>\n",
       "      <td>0.425167</td>\n",
       "      <td>0.608920</td>\n",
       "    </tr>\n",
       "    <tr>\n",
       "      <th>e4</th>\n",
       "      <td>0.268392</td>\n",
       "      <td>0.380861</td>\n",
       "      <td>0.269783</td>\n",
       "      <td>1.002809</td>\n",
       "      <td>0.254304</td>\n",
       "      <td>0.370530</td>\n",
       "      <td>0.573489</td>\n",
       "      <td>0.477552</td>\n",
       "      <td>0.299465</td>\n",
       "      <td>0.235739</td>\n",
       "      <td>0.468331</td>\n",
       "      <td>0.285584</td>\n",
       "    </tr>\n",
       "    <tr>\n",
       "      <th>e5</th>\n",
       "      <td>0.649493</td>\n",
       "      <td>0.601746</td>\n",
       "      <td>0.329792</td>\n",
       "      <td>0.254304</td>\n",
       "      <td>1.002809</td>\n",
       "      <td>0.616759</td>\n",
       "      <td>0.348454</td>\n",
       "      <td>0.244575</td>\n",
       "      <td>0.609261</td>\n",
       "      <td>0.364399</td>\n",
       "      <td>0.320630</td>\n",
       "      <td>0.203128</td>\n",
       "    </tr>\n",
       "    <tr>\n",
       "      <th>e6</th>\n",
       "      <td>0.535208</td>\n",
       "      <td>0.726613</td>\n",
       "      <td>0.272715</td>\n",
       "      <td>0.370530</td>\n",
       "      <td>0.616759</td>\n",
       "      <td>1.002809</td>\n",
       "      <td>0.364214</td>\n",
       "      <td>0.357491</td>\n",
       "      <td>0.533883</td>\n",
       "      <td>0.467762</td>\n",
       "      <td>0.299695</td>\n",
       "      <td>0.246873</td>\n",
       "    </tr>\n",
       "    <tr>\n",
       "      <th>e7</th>\n",
       "      <td>0.459223</td>\n",
       "      <td>0.324812</td>\n",
       "      <td>0.370973</td>\n",
       "      <td>0.573489</td>\n",
       "      <td>0.348454</td>\n",
       "      <td>0.364214</td>\n",
       "      <td>1.002809</td>\n",
       "      <td>0.493866</td>\n",
       "      <td>0.416634</td>\n",
       "      <td>0.168764</td>\n",
       "      <td>0.599169</td>\n",
       "      <td>0.222968</td>\n",
       "    </tr>\n",
       "    <tr>\n",
       "      <th>e8</th>\n",
       "      <td>0.296572</td>\n",
       "      <td>0.429396</td>\n",
       "      <td>0.377629</td>\n",
       "      <td>0.477552</td>\n",
       "      <td>0.244575</td>\n",
       "      <td>0.357491</td>\n",
       "      <td>0.493866</td>\n",
       "      <td>1.002809</td>\n",
       "      <td>0.313476</td>\n",
       "      <td>0.359426</td>\n",
       "      <td>0.365106</td>\n",
       "      <td>0.353040</td>\n",
       "    </tr>\n",
       "    <tr>\n",
       "      <th>e9</th>\n",
       "      <td>0.673888</td>\n",
       "      <td>0.541676</td>\n",
       "      <td>0.414208</td>\n",
       "      <td>0.299465</td>\n",
       "      <td>0.609261</td>\n",
       "      <td>0.533883</td>\n",
       "      <td>0.416634</td>\n",
       "      <td>0.313476</td>\n",
       "      <td>1.002809</td>\n",
       "      <td>0.349430</td>\n",
       "      <td>0.379947</td>\n",
       "      <td>0.253787</td>\n",
       "    </tr>\n",
       "    <tr>\n",
       "      <th>e10</th>\n",
       "      <td>0.395220</td>\n",
       "      <td>0.533302</td>\n",
       "      <td>0.223799</td>\n",
       "      <td>0.235739</td>\n",
       "      <td>0.364399</td>\n",
       "      <td>0.467762</td>\n",
       "      <td>0.168764</td>\n",
       "      <td>0.359426</td>\n",
       "      <td>0.349430</td>\n",
       "      <td>1.002809</td>\n",
       "      <td>0.286212</td>\n",
       "      <td>0.192853</td>\n",
       "    </tr>\n",
       "    <tr>\n",
       "      <th>e11</th>\n",
       "      <td>0.439179</td>\n",
       "      <td>0.335747</td>\n",
       "      <td>0.425167</td>\n",
       "      <td>0.468331</td>\n",
       "      <td>0.320630</td>\n",
       "      <td>0.299695</td>\n",
       "      <td>0.599169</td>\n",
       "      <td>0.365106</td>\n",
       "      <td>0.379947</td>\n",
       "      <td>0.286212</td>\n",
       "      <td>1.002809</td>\n",
       "      <td>0.347403</td>\n",
       "    </tr>\n",
       "    <tr>\n",
       "      <th>e12</th>\n",
       "      <td>0.197089</td>\n",
       "      <td>0.252147</td>\n",
       "      <td>0.608920</td>\n",
       "      <td>0.285584</td>\n",
       "      <td>0.203128</td>\n",
       "      <td>0.246873</td>\n",
       "      <td>0.222968</td>\n",
       "      <td>0.353040</td>\n",
       "      <td>0.253787</td>\n",
       "      <td>0.192853</td>\n",
       "      <td>0.347403</td>\n",
       "      <td>1.002809</td>\n",
       "    </tr>\n",
       "  </tbody>\n",
       "</table>\n",
       "</div>"
      ],
      "text/plain": [
       "           e1        e2        e3        e4        e5        e6        e7  \\\n",
       "e1   1.002809  0.594872  0.353347  0.268392  0.649493  0.535208  0.459223   \n",
       "e2   0.594872  1.002809  0.263556  0.380861  0.601746  0.726613  0.324812   \n",
       "e3   0.353347  0.263556  1.002809  0.269783  0.329792  0.272715  0.370973   \n",
       "e4   0.268392  0.380861  0.269783  1.002809  0.254304  0.370530  0.573489   \n",
       "e5   0.649493  0.601746  0.329792  0.254304  1.002809  0.616759  0.348454   \n",
       "e6   0.535208  0.726613  0.272715  0.370530  0.616759  1.002809  0.364214   \n",
       "e7   0.459223  0.324812  0.370973  0.573489  0.348454  0.364214  1.002809   \n",
       "e8   0.296572  0.429396  0.377629  0.477552  0.244575  0.357491  0.493866   \n",
       "e9   0.673888  0.541676  0.414208  0.299465  0.609261  0.533883  0.416634   \n",
       "e10  0.395220  0.533302  0.223799  0.235739  0.364399  0.467762  0.168764   \n",
       "e11  0.439179  0.335747  0.425167  0.468331  0.320630  0.299695  0.599169   \n",
       "e12  0.197089  0.252147  0.608920  0.285584  0.203128  0.246873  0.222968   \n",
       "\n",
       "           e8        e9       e10       e11       e12  \n",
       "e1   0.296572  0.673888  0.395220  0.439179  0.197089  \n",
       "e2   0.429396  0.541676  0.533302  0.335747  0.252147  \n",
       "e3   0.377629  0.414208  0.223799  0.425167  0.608920  \n",
       "e4   0.477552  0.299465  0.235739  0.468331  0.285584  \n",
       "e5   0.244575  0.609261  0.364399  0.320630  0.203128  \n",
       "e6   0.357491  0.533883  0.467762  0.299695  0.246873  \n",
       "e7   0.493866  0.416634  0.168764  0.599169  0.222968  \n",
       "e8   1.002809  0.313476  0.359426  0.365106  0.353040  \n",
       "e9   0.313476  1.002809  0.349430  0.379947  0.253787  \n",
       "e10  0.359426  0.349430  1.002809  0.286212  0.192853  \n",
       "e11  0.365106  0.379947  0.286212  1.002809  0.347403  \n",
       "e12  0.353040  0.253787  0.192853  0.347403  1.002809  "
      ]
     },
     "execution_count": 14,
     "metadata": {},
     "output_type": "execute_result"
    }
   ],
   "source": [
    "# Calculamos la matriz de covarianza\n",
    "covariance_matrix = df.cov()\n",
    "covariance_matrix"
   ]
  },
  {
   "cell_type": "markdown",
   "metadata": {
    "slideshow": {
     "slide_type": "subslide"
    }
   },
   "source": [
    "Ahora, descomponemos la matriz de covarianza para calcular sus **autovalores y autovectores**. Aquí los presentamos los autovectores como una matriz de dimensión 12 x 12 y los autovalores como encabezados de cada columna:"
   ]
  },
  {
   "cell_type": "code",
   "execution_count": 15,
   "metadata": {
    "hideCode": true,
    "hidePrompt": true,
    "slideshow": {
     "slide_type": "fragment"
    }
   },
   "outputs": [
    {
     "data": {
      "text/html": [
       "<div>\n",
       "<style scoped>\n",
       "    .dataframe tbody tr th:only-of-type {\n",
       "        vertical-align: middle;\n",
       "    }\n",
       "\n",
       "    .dataframe tbody tr th {\n",
       "        vertical-align: top;\n",
       "    }\n",
       "\n",
       "    .dataframe thead th {\n",
       "        text-align: right;\n",
       "    }\n",
       "</style>\n",
       "<table border=\"1\" class=\"dataframe\">\n",
       "  <thead>\n",
       "    <tr style=\"text-align: right;\">\n",
       "      <th></th>\n",
       "      <th>5.338172</th>\n",
       "      <th>1.539879</th>\n",
       "      <th>1.066268</th>\n",
       "      <th>0.943752</th>\n",
       "      <th>0.636552</th>\n",
       "      <th>0.551130</th>\n",
       "      <th>0.224493</th>\n",
       "      <th>0.299128</th>\n",
       "      <th>0.307217</th>\n",
       "      <th>0.340135</th>\n",
       "      <th>0.372825</th>\n",
       "      <th>0.414157</th>\n",
       "    </tr>\n",
       "  </thead>\n",
       "  <tbody>\n",
       "    <tr>\n",
       "      <th>e1</th>\n",
       "      <td>0.329355</td>\n",
       "      <td>0.241105</td>\n",
       "      <td>0.014319</td>\n",
       "      <td>-0.328340</td>\n",
       "      <td>0.169005</td>\n",
       "      <td>-0.164657</td>\n",
       "      <td>-0.381125</td>\n",
       "      <td>0.393702</td>\n",
       "      <td>0.496065</td>\n",
       "      <td>0.208623</td>\n",
       "      <td>0.282384</td>\n",
       "      <td>-0.010241</td>\n",
       "    </tr>\n",
       "    <tr>\n",
       "      <th>e2</th>\n",
       "      <td>0.334180</td>\n",
       "      <td>0.288266</td>\n",
       "      <td>-0.030720</td>\n",
       "      <td>0.253775</td>\n",
       "      <td>-0.154881</td>\n",
       "      <td>0.122690</td>\n",
       "      <td>0.603816</td>\n",
       "      <td>0.444476</td>\n",
       "      <td>-0.115588</td>\n",
       "      <td>-0.080209</td>\n",
       "      <td>0.275003</td>\n",
       "      <td>-0.208009</td>\n",
       "    </tr>\n",
       "    <tr>\n",
       "      <th>e3</th>\n",
       "      <td>0.256284</td>\n",
       "      <td>-0.330235</td>\n",
       "      <td>0.510976</td>\n",
       "      <td>-0.125451</td>\n",
       "      <td>0.025524</td>\n",
       "      <td>-0.145906</td>\n",
       "      <td>0.001593</td>\n",
       "      <td>0.448293</td>\n",
       "      <td>-0.139227</td>\n",
       "      <td>-0.229717</td>\n",
       "      <td>-0.494183</td>\n",
       "      <td>0.095649</td>\n",
       "    </tr>\n",
       "    <tr>\n",
       "      <th>e4</th>\n",
       "      <td>0.259540</td>\n",
       "      <td>-0.302343</td>\n",
       "      <td>-0.428085</td>\n",
       "      <td>0.151793</td>\n",
       "      <td>-0.285160</td>\n",
       "      <td>0.353187</td>\n",
       "      <td>-0.142835</td>\n",
       "      <td>0.212451</td>\n",
       "      <td>-0.023895</td>\n",
       "      <td>0.219073</td>\n",
       "      <td>-0.058372</td>\n",
       "      <td>0.558000</td>\n",
       "    </tr>\n",
       "    <tr>\n",
       "      <th>e5</th>\n",
       "      <td>0.311767</td>\n",
       "      <td>0.323373</td>\n",
       "      <td>0.095014</td>\n",
       "      <td>-0.230547</td>\n",
       "      <td>-0.177032</td>\n",
       "      <td>0.066548</td>\n",
       "      <td>0.079757</td>\n",
       "      <td>-0.249389</td>\n",
       "      <td>-0.209102</td>\n",
       "      <td>0.627578</td>\n",
       "      <td>-0.414271</td>\n",
       "      <td>-0.150094</td>\n",
       "    </tr>\n",
       "    <tr>\n",
       "      <th>e6</th>\n",
       "      <td>0.323673</td>\n",
       "      <td>0.284627</td>\n",
       "      <td>-0.026689</td>\n",
       "      <td>0.175915</td>\n",
       "      <td>-0.322684</td>\n",
       "      <td>0.250407</td>\n",
       "      <td>-0.472141</td>\n",
       "      <td>-0.173299</td>\n",
       "      <td>0.037482</td>\n",
       "      <td>-0.520286</td>\n",
       "      <td>-0.161791</td>\n",
       "      <td>-0.253986</td>\n",
       "    </tr>\n",
       "    <tr>\n",
       "      <th>e7</th>\n",
       "      <td>0.289447</td>\n",
       "      <td>-0.290676</td>\n",
       "      <td>-0.402953</td>\n",
       "      <td>-0.272671</td>\n",
       "      <td>0.000233</td>\n",
       "      <td>-0.143659</td>\n",
       "      <td>0.402964</td>\n",
       "      <td>-0.248143</td>\n",
       "      <td>0.466573</td>\n",
       "      <td>-0.213947</td>\n",
       "      <td>-0.247479</td>\n",
       "      <td>-0.160327</td>\n",
       "    </tr>\n",
       "    <tr>\n",
       "      <th>e8</th>\n",
       "      <td>0.268472</td>\n",
       "      <td>-0.266749</td>\n",
       "      <td>-0.154680</td>\n",
       "      <td>0.408827</td>\n",
       "      <td>-0.119487</td>\n",
       "      <td>-0.677454</td>\n",
       "      <td>-0.205001</td>\n",
       "      <td>-0.060014</td>\n",
       "      <td>-0.219529</td>\n",
       "      <td>0.175843</td>\n",
       "      <td>0.128847</td>\n",
       "      <td>-0.226139</td>\n",
       "    </tr>\n",
       "    <tr>\n",
       "      <th>e9</th>\n",
       "      <td>0.323168</td>\n",
       "      <td>0.188123</td>\n",
       "      <td>0.107908</td>\n",
       "      <td>-0.313203</td>\n",
       "      <td>-0.038864</td>\n",
       "      <td>-0.253718</td>\n",
       "      <td>0.106841</td>\n",
       "      <td>-0.335474</td>\n",
       "      <td>-0.292692</td>\n",
       "      <td>-0.276800</td>\n",
       "      <td>0.318478</td>\n",
       "      <td>0.544864</td>\n",
       "    </tr>\n",
       "    <tr>\n",
       "      <th>e10</th>\n",
       "      <td>0.247118</td>\n",
       "      <td>0.216986</td>\n",
       "      <td>0.053834</td>\n",
       "      <td>0.535679</td>\n",
       "      <td>0.639553</td>\n",
       "      <td>0.021704</td>\n",
       "      <td>0.059319</td>\n",
       "      <td>-0.170076</td>\n",
       "      <td>0.182968</td>\n",
       "      <td>0.025062</td>\n",
       "      <td>-0.236639</td>\n",
       "      <td>0.264487</td>\n",
       "    </tr>\n",
       "    <tr>\n",
       "      <th>e11</th>\n",
       "      <td>0.281907</td>\n",
       "      <td>-0.299141</td>\n",
       "      <td>-0.155760</td>\n",
       "      <td>-0.229338</td>\n",
       "      <td>0.522582</td>\n",
       "      <td>0.358293</td>\n",
       "      <td>-0.129167</td>\n",
       "      <td>-0.032657</td>\n",
       "      <td>-0.436165</td>\n",
       "      <td>-0.020339</td>\n",
       "      <td>0.204841</td>\n",
       "      <td>-0.319932</td>\n",
       "    </tr>\n",
       "    <tr>\n",
       "      <th>e12</th>\n",
       "      <td>0.209789</td>\n",
       "      <td>-0.380940</td>\n",
       "      <td>0.565383</td>\n",
       "      <td>0.160565</td>\n",
       "      <td>-0.179190</td>\n",
       "      <td>0.268095</td>\n",
       "      <td>0.066667</td>\n",
       "      <td>-0.318432</td>\n",
       "      <td>0.316553</td>\n",
       "      <td>0.174283</td>\n",
       "      <td>0.349254</td>\n",
       "      <td>-0.055208</td>\n",
       "    </tr>\n",
       "  </tbody>\n",
       "</table>\n",
       "</div>"
      ],
      "text/plain": [
       "     5.338172  1.539879  1.066268  0.943752  0.636552  0.551130  0.224493  \\\n",
       "e1   0.329355  0.241105  0.014319 -0.328340  0.169005 -0.164657 -0.381125   \n",
       "e2   0.334180  0.288266 -0.030720  0.253775 -0.154881  0.122690  0.603816   \n",
       "e3   0.256284 -0.330235  0.510976 -0.125451  0.025524 -0.145906  0.001593   \n",
       "e4   0.259540 -0.302343 -0.428085  0.151793 -0.285160  0.353187 -0.142835   \n",
       "e5   0.311767  0.323373  0.095014 -0.230547 -0.177032  0.066548  0.079757   \n",
       "e6   0.323673  0.284627 -0.026689  0.175915 -0.322684  0.250407 -0.472141   \n",
       "e7   0.289447 -0.290676 -0.402953 -0.272671  0.000233 -0.143659  0.402964   \n",
       "e8   0.268472 -0.266749 -0.154680  0.408827 -0.119487 -0.677454 -0.205001   \n",
       "e9   0.323168  0.188123  0.107908 -0.313203 -0.038864 -0.253718  0.106841   \n",
       "e10  0.247118  0.216986  0.053834  0.535679  0.639553  0.021704  0.059319   \n",
       "e11  0.281907 -0.299141 -0.155760 -0.229338  0.522582  0.358293 -0.129167   \n",
       "e12  0.209789 -0.380940  0.565383  0.160565 -0.179190  0.268095  0.066667   \n",
       "\n",
       "     0.299128  0.307217  0.340135  0.372825  0.414157  \n",
       "e1   0.393702  0.496065  0.208623  0.282384 -0.010241  \n",
       "e2   0.444476 -0.115588 -0.080209  0.275003 -0.208009  \n",
       "e3   0.448293 -0.139227 -0.229717 -0.494183  0.095649  \n",
       "e4   0.212451 -0.023895  0.219073 -0.058372  0.558000  \n",
       "e5  -0.249389 -0.209102  0.627578 -0.414271 -0.150094  \n",
       "e6  -0.173299  0.037482 -0.520286 -0.161791 -0.253986  \n",
       "e7  -0.248143  0.466573 -0.213947 -0.247479 -0.160327  \n",
       "e8  -0.060014 -0.219529  0.175843  0.128847 -0.226139  \n",
       "e9  -0.335474 -0.292692 -0.276800  0.318478  0.544864  \n",
       "e10 -0.170076  0.182968  0.025062 -0.236639  0.264487  \n",
       "e11 -0.032657 -0.436165 -0.020339  0.204841 -0.319932  \n",
       "e12 -0.318432  0.316553  0.174283  0.349254 -0.055208  "
      ]
     },
     "execution_count": 15,
     "metadata": {},
     "output_type": "execute_result"
    }
   ],
   "source": [
    "import numpy as np\n",
    "\n",
    "# Descomponemos la matriz para calcular sus autovalores y autovectores\n",
    "values, vectors = np.linalg.eig(covariance_matrix)\n",
    "\n",
    "# Mostramos los autovectores como una matriz y sus autovalores como encabezados de columna\n",
    "pd.DataFrame(vectors,columns=values,index=df.columns.values)"
   ]
  },
  {
   "cell_type": "markdown",
   "metadata": {
    "slideshow": {
     "slide_type": "subslide"
    }
   },
   "source": [
    "Seguidamente, calculamos las **cargas factoriales** a partir de los autovalores y autovectores:"
   ]
  },
  {
   "cell_type": "code",
   "execution_count": 16,
   "metadata": {
    "hideCode": true,
    "hidePrompt": true,
    "slideshow": {
     "slide_type": "fragment"
    }
   },
   "outputs": [
    {
     "data": {
      "text/html": [
       "<div>\n",
       "<style scoped>\n",
       "    .dataframe tbody tr th:only-of-type {\n",
       "        vertical-align: middle;\n",
       "    }\n",
       "\n",
       "    .dataframe tbody tr th {\n",
       "        vertical-align: top;\n",
       "    }\n",
       "\n",
       "    .dataframe thead th {\n",
       "        text-align: right;\n",
       "    }\n",
       "</style>\n",
       "<table border=\"1\" class=\"dataframe\">\n",
       "  <thead>\n",
       "    <tr style=\"text-align: right;\">\n",
       "      <th></th>\n",
       "      <th>0</th>\n",
       "      <th>1</th>\n",
       "      <th>2</th>\n",
       "      <th>3</th>\n",
       "      <th>4</th>\n",
       "      <th>5</th>\n",
       "      <th>6</th>\n",
       "      <th>7</th>\n",
       "      <th>8</th>\n",
       "      <th>9</th>\n",
       "      <th>10</th>\n",
       "      <th>11</th>\n",
       "    </tr>\n",
       "  </thead>\n",
       "  <tbody>\n",
       "    <tr>\n",
       "      <th>e1</th>\n",
       "      <td>0.760958</td>\n",
       "      <td>0.299192</td>\n",
       "      <td>0.014785</td>\n",
       "      <td>-0.318972</td>\n",
       "      <td>0.134840</td>\n",
       "      <td>-0.122238</td>\n",
       "      <td>-0.180579</td>\n",
       "      <td>0.215326</td>\n",
       "      <td>0.274955</td>\n",
       "      <td>0.121671</td>\n",
       "      <td>0.172422</td>\n",
       "      <td>-0.006591</td>\n",
       "    </tr>\n",
       "    <tr>\n",
       "      <th>e2</th>\n",
       "      <td>0.772105</td>\n",
       "      <td>0.357714</td>\n",
       "      <td>-0.031721</td>\n",
       "      <td>0.246534</td>\n",
       "      <td>-0.123571</td>\n",
       "      <td>0.091082</td>\n",
       "      <td>0.286092</td>\n",
       "      <td>0.243095</td>\n",
       "      <td>-0.064067</td>\n",
       "      <td>-0.046779</td>\n",
       "      <td>0.167915</td>\n",
       "      <td>-0.133864</td>\n",
       "    </tr>\n",
       "    <tr>\n",
       "      <th>e3</th>\n",
       "      <td>0.592131</td>\n",
       "      <td>-0.409795</td>\n",
       "      <td>0.527635</td>\n",
       "      <td>-0.121872</td>\n",
       "      <td>0.020364</td>\n",
       "      <td>-0.108318</td>\n",
       "      <td>0.000755</td>\n",
       "      <td>0.245183</td>\n",
       "      <td>-0.077170</td>\n",
       "      <td>-0.133973</td>\n",
       "      <td>-0.301745</td>\n",
       "      <td>0.061555</td>\n",
       "    </tr>\n",
       "    <tr>\n",
       "      <th>e4</th>\n",
       "      <td>0.599655</td>\n",
       "      <td>-0.375183</td>\n",
       "      <td>-0.442041</td>\n",
       "      <td>0.147462</td>\n",
       "      <td>-0.227513</td>\n",
       "      <td>0.262199</td>\n",
       "      <td>-0.067676</td>\n",
       "      <td>0.116195</td>\n",
       "      <td>-0.013244</td>\n",
       "      <td>0.127766</td>\n",
       "      <td>-0.035642</td>\n",
       "      <td>0.359101</td>\n",
       "    </tr>\n",
       "    <tr>\n",
       "      <th>e5</th>\n",
       "      <td>0.720320</td>\n",
       "      <td>0.401280</td>\n",
       "      <td>0.098112</td>\n",
       "      <td>-0.223969</td>\n",
       "      <td>-0.141244</td>\n",
       "      <td>0.049404</td>\n",
       "      <td>0.037790</td>\n",
       "      <td>-0.136397</td>\n",
       "      <td>-0.115900</td>\n",
       "      <td>0.366010</td>\n",
       "      <td>-0.252952</td>\n",
       "      <td>-0.096593</td>\n",
       "    </tr>\n",
       "    <tr>\n",
       "      <th>e6</th>\n",
       "      <td>0.747829</td>\n",
       "      <td>0.353199</td>\n",
       "      <td>-0.027559</td>\n",
       "      <td>0.170896</td>\n",
       "      <td>-0.257451</td>\n",
       "      <td>0.185897</td>\n",
       "      <td>-0.223703</td>\n",
       "      <td>-0.094782</td>\n",
       "      <td>0.020775</td>\n",
       "      <td>-0.303436</td>\n",
       "      <td>-0.098788</td>\n",
       "      <td>-0.163453</td>\n",
       "    </tr>\n",
       "    <tr>\n",
       "      <th>e7</th>\n",
       "      <td>0.668751</td>\n",
       "      <td>-0.360706</td>\n",
       "      <td>-0.416091</td>\n",
       "      <td>-0.264892</td>\n",
       "      <td>0.000186</td>\n",
       "      <td>-0.106650</td>\n",
       "      <td>0.190927</td>\n",
       "      <td>-0.135716</td>\n",
       "      <td>0.258608</td>\n",
       "      <td>-0.124776</td>\n",
       "      <td>-0.151109</td>\n",
       "      <td>-0.103178</td>\n",
       "    </tr>\n",
       "    <tr>\n",
       "      <th>e8</th>\n",
       "      <td>0.620290</td>\n",
       "      <td>-0.331014</td>\n",
       "      <td>-0.159723</td>\n",
       "      <td>0.397163</td>\n",
       "      <td>-0.095332</td>\n",
       "      <td>-0.502929</td>\n",
       "      <td>-0.097131</td>\n",
       "      <td>-0.032823</td>\n",
       "      <td>-0.121679</td>\n",
       "      <td>0.102554</td>\n",
       "      <td>0.078673</td>\n",
       "      <td>-0.145532</td>\n",
       "    </tr>\n",
       "    <tr>\n",
       "      <th>e9</th>\n",
       "      <td>0.746662</td>\n",
       "      <td>0.233445</td>\n",
       "      <td>0.111426</td>\n",
       "      <td>-0.304267</td>\n",
       "      <td>-0.031007</td>\n",
       "      <td>-0.188355</td>\n",
       "      <td>0.050622</td>\n",
       "      <td>-0.183479</td>\n",
       "      <td>-0.162231</td>\n",
       "      <td>-0.161433</td>\n",
       "      <td>0.194461</td>\n",
       "      <td>0.350648</td>\n",
       "    </tr>\n",
       "    <tr>\n",
       "      <th>e10</th>\n",
       "      <td>0.570954</td>\n",
       "      <td>0.269262</td>\n",
       "      <td>0.055589</td>\n",
       "      <td>0.520396</td>\n",
       "      <td>0.510262</td>\n",
       "      <td>0.016113</td>\n",
       "      <td>0.028106</td>\n",
       "      <td>-0.093019</td>\n",
       "      <td>0.101414</td>\n",
       "      <td>0.014616</td>\n",
       "      <td>-0.144490</td>\n",
       "      <td>0.170211</td>\n",
       "    </tr>\n",
       "    <tr>\n",
       "      <th>e11</th>\n",
       "      <td>0.651332</td>\n",
       "      <td>-0.371209</td>\n",
       "      <td>-0.160838</td>\n",
       "      <td>-0.222795</td>\n",
       "      <td>0.416938</td>\n",
       "      <td>0.265990</td>\n",
       "      <td>-0.061200</td>\n",
       "      <td>-0.017861</td>\n",
       "      <td>-0.241754</td>\n",
       "      <td>-0.011862</td>\n",
       "      <td>0.125074</td>\n",
       "      <td>-0.205892</td>\n",
       "    </tr>\n",
       "    <tr>\n",
       "      <th>e12</th>\n",
       "      <td>0.484708</td>\n",
       "      <td>-0.472715</td>\n",
       "      <td>0.583816</td>\n",
       "      <td>0.155984</td>\n",
       "      <td>-0.142966</td>\n",
       "      <td>0.199028</td>\n",
       "      <td>0.031587</td>\n",
       "      <td>-0.174159</td>\n",
       "      <td>0.175457</td>\n",
       "      <td>0.101644</td>\n",
       "      <td>0.213252</td>\n",
       "      <td>-0.035529</td>\n",
       "    </tr>\n",
       "  </tbody>\n",
       "</table>\n",
       "</div>"
      ],
      "text/plain": [
       "           0         1         2         3         4         5         6   \\\n",
       "e1   0.760958  0.299192  0.014785 -0.318972  0.134840 -0.122238 -0.180579   \n",
       "e2   0.772105  0.357714 -0.031721  0.246534 -0.123571  0.091082  0.286092   \n",
       "e3   0.592131 -0.409795  0.527635 -0.121872  0.020364 -0.108318  0.000755   \n",
       "e4   0.599655 -0.375183 -0.442041  0.147462 -0.227513  0.262199 -0.067676   \n",
       "e5   0.720320  0.401280  0.098112 -0.223969 -0.141244  0.049404  0.037790   \n",
       "e6   0.747829  0.353199 -0.027559  0.170896 -0.257451  0.185897 -0.223703   \n",
       "e7   0.668751 -0.360706 -0.416091 -0.264892  0.000186 -0.106650  0.190927   \n",
       "e8   0.620290 -0.331014 -0.159723  0.397163 -0.095332 -0.502929 -0.097131   \n",
       "e9   0.746662  0.233445  0.111426 -0.304267 -0.031007 -0.188355  0.050622   \n",
       "e10  0.570954  0.269262  0.055589  0.520396  0.510262  0.016113  0.028106   \n",
       "e11  0.651332 -0.371209 -0.160838 -0.222795  0.416938  0.265990 -0.061200   \n",
       "e12  0.484708 -0.472715  0.583816  0.155984 -0.142966  0.199028  0.031587   \n",
       "\n",
       "           7         8         9         10        11  \n",
       "e1   0.215326  0.274955  0.121671  0.172422 -0.006591  \n",
       "e2   0.243095 -0.064067 -0.046779  0.167915 -0.133864  \n",
       "e3   0.245183 -0.077170 -0.133973 -0.301745  0.061555  \n",
       "e4   0.116195 -0.013244  0.127766 -0.035642  0.359101  \n",
       "e5  -0.136397 -0.115900  0.366010 -0.252952 -0.096593  \n",
       "e6  -0.094782  0.020775 -0.303436 -0.098788 -0.163453  \n",
       "e7  -0.135716  0.258608 -0.124776 -0.151109 -0.103178  \n",
       "e8  -0.032823 -0.121679  0.102554  0.078673 -0.145532  \n",
       "e9  -0.183479 -0.162231 -0.161433  0.194461  0.350648  \n",
       "e10 -0.093019  0.101414  0.014616 -0.144490  0.170211  \n",
       "e11 -0.017861 -0.241754 -0.011862  0.125074 -0.205892  \n",
       "e12 -0.174159  0.175457  0.101644  0.213252 -0.035529  "
      ]
     },
     "execution_count": 16,
     "metadata": {},
     "output_type": "execute_result"
    }
   ],
   "source": [
    "# Calculamos las cargas factoriales\n",
    "factor_loadings = np.sqrt(values) * vectors\n",
    "\n",
    "# Mostramos las cargas factoriales de cada variable\n",
    "pd.DataFrame(factor_loadings,index=df.columns.values)"
   ]
  },
  {
   "cell_type": "markdown",
   "metadata": {
    "slideshow": {
     "slide_type": "subslide"
    }
   },
   "source": [
    "Finalmente, calculamos las **comunalidades** de cada variable a partir de las cargas factoriales:"
   ]
  },
  {
   "cell_type": "code",
   "execution_count": 17,
   "metadata": {
    "hideCode": true,
    "hidePrompt": true,
    "slideshow": {
     "slide_type": "fragment"
    }
   },
   "outputs": [
    {
     "data": {
      "text/plain": [
       "e1     1.002809\n",
       "e2     1.002809\n",
       "e3     1.002809\n",
       "e4     1.002809\n",
       "e5     1.002809\n",
       "e6     1.002809\n",
       "e7     1.002809\n",
       "e8     1.002809\n",
       "e9     1.002809\n",
       "e10    1.002809\n",
       "e11    1.002809\n",
       "e12    1.002809\n",
       "dtype: float64"
      ]
     },
     "execution_count": 17,
     "metadata": {},
     "output_type": "execute_result"
    }
   ],
   "source": [
    "# Calculamos las comunalidades\n",
    "com = np.sum(factor_loadings**2, axis=1)\n",
    "\n",
    "# Mostramos comunalidades de cada variable\n",
    "pd.Series(com,index=df.columns.values)"
   ]
  }
 ],
 "metadata": {
  "celltoolbar": "Slideshow",
  "interpreter": {
   "hash": "bc333aaf72f12d36efbbc969b6efbd208f39cf597397e273d228d636dea83428"
  },
  "kernelspec": {
   "display_name": "Python 3.8.10 64-bit ('statspsych': virtualenv)",
   "name": "python3"
  },
  "language_info": {
   "codemirror_mode": {
    "name": "ipython",
    "version": 3
   },
   "file_extension": ".py",
   "mimetype": "text/x-python",
   "name": "python",
   "nbconvert_exporter": "python",
   "pygments_lexer": "ipython3",
   "version": "3.8.10"
  }
 },
 "nbformat": 4,
 "nbformat_minor": 2
}
