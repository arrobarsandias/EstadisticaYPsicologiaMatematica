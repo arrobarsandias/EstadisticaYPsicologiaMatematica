{
 "cells": [
  {
   "cell_type": "code",
   "execution_count": null,
   "metadata": {},
   "outputs": [],
   "source": [
    "import pandas as pd\n",
    "from sklearn.preprocessing import StandardScaler\n",
    "\n",
    "df = pd.read_csv(\"https://socialsciences.mcmaster.ca/jfox/Books/Applied-Regression-3E/datasets/Cowles.txt\", sep=r'\\s{1,}', engine='python')\n",
    "df.dropna(inplace=True)\n",
    "cowles_data = pd.get_dummies(df, drop_first = True)\n",
    "cowles_data[\"neuroticism\"] = cowles_data[\"neuroticism\"] + 1\n",
    "cowles_data"
   ]
  }
 ],
 "metadata": {
  "language_info": {
   "name": "python"
  },
  "orig_nbformat": 4
 },
 "nbformat": 4,
 "nbformat_minor": 2
}
