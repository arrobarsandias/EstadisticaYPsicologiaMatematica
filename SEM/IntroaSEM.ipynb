{
 "cells": [
  {
   "cell_type": "markdown",
   "metadata": {
    "slideshow": {
     "slide_type": "slide"
    }
   },
   "source": [
    "# Introducción a los modelos de ecuaciones estructurales\n",
    "\n",
    ">Este tutorial es una selección y adaptación al español del libro [Multivariate Data Analysis](https://www.cengage.co.uk/books/9781473756540/) de Joseph F. Hair et al."
   ]
  },
  {
   "cell_type": "markdown",
   "metadata": {
    "slideshow": {
     "slide_type": "slide"
    }
   },
   "source": [
    "## Nociones previas\n",
    "\n",
    "### ¿Qué es un modelo de ecuaciones estructurales (SEM)?\n",
    "\n",
    "En las secciones anteriores, cada técnica multivariante se ha clasificado como técnica de interdependencia o dependencia. Se puede pensar en SEM como una **combinación única de** ambos tipos de técnicas, porque la base de SEM radica en **dos técnicas multivariadas familiares: análisis factorial y análisis de regresión múltiple**."
   ]
  },
  {
   "cell_type": "markdown",
   "metadata": {
    "slideshow": {
     "slide_type": "subslide"
    }
   },
   "source": [
    "El SEM examina la **estructura** de las interrelaciones expresadas en una serie de ecuaciones, similar a una **serie de ecuaciones de regresión múltiple**. \n",
    "- Estas ecuaciones representan todas las relaciones entre constructos (las variables dependientes e independientes) y las variables involucradas en el análisis. \n",
    "- Igual de importante, una estructura teórica especifica qué variables y constructos probablemente no estén relacionados entre sí. \n",
    "\n",
    ">Los constructos son factores latentes o no observables representados por múltiples variables."
   ]
  },
  {
   "cell_type": "markdown",
   "metadata": {
    "slideshow": {
     "slide_type": "subslide"
    }
   },
   "source": [
    "Los modelos SEM se distinguen de los modelos de regresión tradicionales en que tienden a involucrar:\n",
    "- **Estimación simultánea** de relaciones de dependencia múltiples e interrelacionadas.\n",
    "- Capacidad para representar conceptos no observados en estas relaciones y tener en cuenta el **error de medición** en el proceso de estimación.\n",
    "- Definición de un **modelo teórico** para explicar todo el conjunto de relaciones.\n",
    "- Supuestos de sobreidentificación (las variables se explican mediante un conjunto único de variables que no incluye todas las relaciones posibles)."
   ]
  },
  {
   "cell_type": "markdown",
   "metadata": {
    "slideshow": {
     "slide_type": "subslide"
    }
   },
   "source": [
    "Un modelo convencional de SEM consta en realidad de dos teorías: \n",
    "- Modelo de medición (representa cómo las variables medidas se unen para representar constructos)\n",
    "- Modelo estructural (muestra cómo los constructos se asocian entre sí).\n",
    "\n",
    "> No se debe desarrollar ningún modelo SEM sin una teoría subyacente plausible."
   ]
  },
  {
   "cell_type": "markdown",
   "metadata": {
    "slideshow": {
     "slide_type": "slide"
    }
   },
   "source": [
    "### Diagramas de ruta\n",
    "\n",
    "Un modelo SEM completo que consta de modelos estructurales y de medición puede ser bastante complejo. \n",
    "\n",
    "Aunque todas las relaciones se pueden expresar en notación de análisis de ruta (que veremos más adelante), muchos investigadores encuentran más conveniente **representar un modelo en una forma visual, conocida como diagrama de ruta**."
   ]
  },
  {
   "cell_type": "markdown",
   "metadata": {
    "slideshow": {
     "slide_type": "subslide"
    }
   },
   "source": [
    "<p align=\"center\">\n",
    "  <img width=\"900\" src=\"https://github.com/renatoparedes/EstadisticaYPsicologiaMatematica/raw/main/SEM/semdiagram1.png\" alt=\"SEM Diagram 1\">\n",
    "</p>"
   ]
  },
  {
   "cell_type": "markdown",
   "metadata": {
    "slideshow": {
     "slide_type": "subslide"
    }
   },
   "source": [
    "- Los **constructos** generalmente se representan mediante **óvalos o círculos**, y las **variables medidas** se representan mediante **cuadrados o rectángulos**.\n",
    "- Para ayudar a distinguir los indicadores de constructos endógenos frente a exógenos, las variables medidas (indicadores) para **constructos exógenos se suelen denominar variables X**, mientras que los indicadores de **constructos endógenos suelen denominarse variables Y**.\n",
    ">Los constructos exógenos son el equivalente latente, de múltiples elementos, de las variables independientes. Los constructos endógenos son el equivalente latente de múltiples elementos de las variables dependientes.\n",
    "\n",
    "- Las variables medidas X o Y se asocian con sus respectivos constructos mediante una flecha recta de una sola cabeza desde las construcciones hasta la variable medida.\n",
    "- Las **relaciones de dependencia** se representan con **flechas direccionales** de una sola cabeza.\n",
    "- Las **relaciones de correlación** (covarianza) se representan con **flechas de dos puntas**."
   ]
  },
  {
   "cell_type": "markdown",
   "metadata": {
    "slideshow": {
     "slide_type": "subslide"
    }
   },
   "source": [
    "En este tipo de diagramas podemos representar el modelo de medición y el modelo estructural simultáneamente:\n",
    "\n",
    "<p align=\"center\">\n",
    "  <img width=\"550\" src=\"https://github.com/renatoparedes/EstadisticaYPsicologiaMatematica/raw/main/SEM/semdiagram2.png\" alt=\"SEM Diagram 2\">\n",
    "</p>"
   ]
  },
  {
   "cell_type": "markdown",
   "metadata": {
    "slideshow": {
     "slide_type": "subslide"
    }
   },
   "source": [
    "En contraste con la regresión u otras técnicas de dependencia que buscan predecir relaciones en una sola ecuación, el objetivo estadístico de la SEM basada en covarianza es **reproducir la matriz de covarianza observada de todas las variables medidas necesarias para probar una teoría**.\n",
    "\n",
    "Debido a que el **enfoque está en todo el modelo teórico**, la SEM se basa en la matriz de covarianza observada entre las variables medidas, que contiene información completa sobre cómo todas las variables se corresponden entre sí. \n",
    "\n",
    "**El ajuste del modelo está determinado por la similitud resultante entre la matriz de covarianza observada y una matriz de covarianza estimada producida a partir de las ecuaciones que representan el modelo teórico propuesto**. \n",
    "\n",
    "Si la teoría propuesta crea ecuaciones que reproducen con precisión la correspondencia entre las variables medidas (matriz de covarianza observada), entonces podemos decir que la teoría se ajusta a la realidad."
   ]
  },
  {
   "cell_type": "markdown",
   "metadata": {
    "slideshow": {
     "slide_type": "slide"
    }
   },
   "source": [
    "### Causalidad\n",
    "\n",
    "La inferencia causal es el tipo de **inferencia más fuerte que puede hacer un investigador** al momento de aplicar estadísticas multivariadas. Esta implica **proponer que una relación de dependencia en realidad se basa en la causalidad**. Una inferencia causal implica una relación hipotética de causa y efecto. "
   ]
  },
  {
   "cell_type": "markdown",
   "metadata": {
    "slideshow": {
     "slide_type": "subslide"
    }
   },
   "source": [
    "Veamos algunos ejemplos de los tipos de relaciones causales que puede especifica un modelo SEM:\n",
    "\n",
    "<p align=\"center\">\n",
    "  <img width=\"700\" src=\"https://github.com/renatoparedes/EstadisticaYPsicologiaMatematica/raw/main/SEM/semdiagram3.png\" alt=\"SEM Diagram 3\">\n",
    "</p>"
   ]
  },
  {
   "cell_type": "markdown",
   "metadata": {
    "slideshow": {
     "slide_type": "subslide"
    }
   },
   "source": [
    "Los modelos SEM se utilizan normalmente **en situaciones no experimentales** en las que los constructos exógenos no son variables controladas experimentalmente. Esto limita la capacidad del investigador para extraer inferencias causales y **el SEM por sí solo no puede establecer la causalidad**. "
   ]
  },
  {
   "cell_type": "markdown",
   "metadata": {
    "slideshow": {
     "slide_type": "subslide"
    }
   },
   "source": [
    "Sin embargo, **SEM puede tratar las relaciones de dependencia como causales si cuatro condiciones se reflejan en el modelo SEM**:\n",
    "\n",
    "- Covarianza entre causa y efecto\n",
    "- La causa debe ocurrir antes que el efecto.\n",
    "- Debe existir una asociación no espuria entre la causa y el efecto.\n",
    "- Existe apoyo teórico para la relación entre causa y efecto."
   ]
  },
  {
   "cell_type": "markdown",
   "metadata": {
    "slideshow": {
     "slide_type": "subslide"
    }
   },
   "source": [
    "SEM puede proporcionar evidencia de covariación sistemática y puede ayudar a demostrar que una relación no es falsa. Si los datos son longitudinales, SEM también puede ayudar a establecer la secuencia de relaciones. Sin embargo, **le corresponde al investigador establecer un soporte teórico**. \n",
    "\n",
    "Por lo tanto, SEM es útil para establecer una inferencia causal, pero no puede hacerlo solo."
   ]
  },
  {
   "cell_type": "markdown",
   "metadata": {
    "slideshow": {
     "slide_type": "slide"
    }
   },
   "source": [
    "## Definición de constructos individuales\n",
    "\n",
    "El proceso comienza con una buena **definición teórica de los constructos involucrados**. Esta definición proporciona la base para seleccionar o diseñar elementos de indicadores individuales. Un investigador **operacionaliza un constructo latente seleccionando sus elementos de escala de medición y el tipo de escala**.\n",
    "\n",
    "Cuando un modelo tiene escalas tomadas o adaptadas de diversas fuentes que informan sobre otras investigaciones, se recomienda una prueba previa con encuestados similares a los de la población que se va a estudiar para evaluar la idoneidad de los elementos."
   ]
  },
  {
   "cell_type": "markdown",
   "metadata": {
    "slideshow": {
     "slide_type": "subslide"
    }
   },
   "source": [
    "## Especificación del modelo de medición\n",
    "\n",
    "En esta etapa **se define cada constructo latente** a incluir en el modelo y **se asignan las variables (ítems) medidas a los constructos** latentes correspondientes.\n",
    "\n",
    "Como se discutió anteriormente, hay tres **tipos de relaciones**: \n",
    "- Relaciones de medición entre items y constructos; \n",
    "- Relaciones estructurales entre constructos; y \n",
    "- Relaciones de correlación entre constructos. \n",
    "\n",
    "También hay **dos tipos de términos de error**: uno relacionado con indicadores individuales y el otro con constructos endógenos."
   ]
  },
  {
   "cell_type": "markdown",
   "metadata": {
    "slideshow": {
     "slide_type": "subslide"
    }
   },
   "source": [
    "Para especificar un modelo SEM se utiliza una notación especial que se resume en la siguiente tabla:\n",
    "\n",
    "<p align=\"center\">\n",
    "  <img width=\"1200\" src=\"https://github.com/renatoparedes/EstadisticaYPsicologiaMatematica/raw/main/SEM/semnotation.png\" alt=\"SEM Notation\">\n",
    "</p>"
   ]
  },
  {
   "cell_type": "markdown",
   "metadata": {
    "slideshow": {
     "slide_type": "subslide"
    }
   },
   "source": [
    "Partamos de un ejemplo:"
   ]
  },
  {
   "cell_type": "code",
   "execution_count": 1,
   "metadata": {
    "hideCode": true,
    "slideshow": {
     "slide_type": "fragment"
    }
   },
   "outputs": [
    {
     "data": {
      "text/html": [
       "<div>\n",
       "<style scoped>\n",
       "    .dataframe tbody tr th:only-of-type {\n",
       "        vertical-align: middle;\n",
       "    }\n",
       "\n",
       "    .dataframe tbody tr th {\n",
       "        vertical-align: top;\n",
       "    }\n",
       "\n",
       "    .dataframe thead th {\n",
       "        text-align: right;\n",
       "    }\n",
       "</style>\n",
       "<table border=\"1\" class=\"dataframe\">\n",
       "  <thead>\n",
       "    <tr style=\"text-align: right;\">\n",
       "      <th></th>\n",
       "      <th>id</th>\n",
       "      <th>x1</th>\n",
       "      <th>x2</th>\n",
       "      <th>x3</th>\n",
       "      <th>x4</th>\n",
       "      <th>x5</th>\n",
       "      <th>x6</th>\n",
       "      <th>x7</th>\n",
       "      <th>x8</th>\n",
       "      <th>x9</th>\n",
       "      <th>...</th>\n",
       "      <th>x11</th>\n",
       "      <th>x12</th>\n",
       "      <th>x13</th>\n",
       "      <th>x14</th>\n",
       "      <th>x15</th>\n",
       "      <th>x16</th>\n",
       "      <th>x17</th>\n",
       "      <th>x18</th>\n",
       "      <th>x19</th>\n",
       "      <th>x20</th>\n",
       "    </tr>\n",
       "  </thead>\n",
       "  <tbody>\n",
       "    <tr>\n",
       "      <th>0</th>\n",
       "      <td>1.0</td>\n",
       "      <td>0</td>\n",
       "      <td>0</td>\n",
       "      <td>0</td>\n",
       "      <td>0</td>\n",
       "      <td>0</td>\n",
       "      <td>8.5</td>\n",
       "      <td>3.9</td>\n",
       "      <td>2.5</td>\n",
       "      <td>5.9</td>\n",
       "      <td>...</td>\n",
       "      <td>4.9</td>\n",
       "      <td>6.0</td>\n",
       "      <td>6.8</td>\n",
       "      <td>4.7</td>\n",
       "      <td>4.3</td>\n",
       "      <td>5.0</td>\n",
       "      <td>5.1</td>\n",
       "      <td>3.7</td>\n",
       "      <td>8.2</td>\n",
       "      <td>8.0</td>\n",
       "    </tr>\n",
       "    <tr>\n",
       "      <th>1</th>\n",
       "      <td>2.0</td>\n",
       "      <td>2</td>\n",
       "      <td>1</td>\n",
       "      <td>1</td>\n",
       "      <td>1</td>\n",
       "      <td>1</td>\n",
       "      <td>8.2</td>\n",
       "      <td>2.7</td>\n",
       "      <td>5.1</td>\n",
       "      <td>7.2</td>\n",
       "      <td>...</td>\n",
       "      <td>7.9</td>\n",
       "      <td>3.1</td>\n",
       "      <td>5.3</td>\n",
       "      <td>5.5</td>\n",
       "      <td>4.0</td>\n",
       "      <td>3.9</td>\n",
       "      <td>4.3</td>\n",
       "      <td>4.9</td>\n",
       "      <td>5.7</td>\n",
       "      <td>6.5</td>\n",
       "    </tr>\n",
       "    <tr>\n",
       "      <th>2</th>\n",
       "      <td>3.0</td>\n",
       "      <td>2</td>\n",
       "      <td>0</td>\n",
       "      <td>0</td>\n",
       "      <td>0</td>\n",
       "      <td>0</td>\n",
       "      <td>9.2</td>\n",
       "      <td>3.4</td>\n",
       "      <td>5.6</td>\n",
       "      <td>5.6</td>\n",
       "      <td>...</td>\n",
       "      <td>7.4</td>\n",
       "      <td>5.8</td>\n",
       "      <td>4.5</td>\n",
       "      <td>6.2</td>\n",
       "      <td>4.6</td>\n",
       "      <td>5.4</td>\n",
       "      <td>4.0</td>\n",
       "      <td>4.5</td>\n",
       "      <td>8.9</td>\n",
       "      <td>8.4</td>\n",
       "    </tr>\n",
       "    <tr>\n",
       "      <th>3</th>\n",
       "      <td>4.0</td>\n",
       "      <td>1</td>\n",
       "      <td>1</td>\n",
       "      <td>0</td>\n",
       "      <td>0</td>\n",
       "      <td>1</td>\n",
       "      <td>6.4</td>\n",
       "      <td>3.3</td>\n",
       "      <td>7.0</td>\n",
       "      <td>3.7</td>\n",
       "      <td>...</td>\n",
       "      <td>4.7</td>\n",
       "      <td>4.5</td>\n",
       "      <td>8.8</td>\n",
       "      <td>7.0</td>\n",
       "      <td>3.6</td>\n",
       "      <td>4.3</td>\n",
       "      <td>4.1</td>\n",
       "      <td>3.0</td>\n",
       "      <td>4.8</td>\n",
       "      <td>6.0</td>\n",
       "    </tr>\n",
       "    <tr>\n",
       "      <th>4</th>\n",
       "      <td>5.0</td>\n",
       "      <td>0</td>\n",
       "      <td>0</td>\n",
       "      <td>0</td>\n",
       "      <td>1</td>\n",
       "      <td>0</td>\n",
       "      <td>9.0</td>\n",
       "      <td>3.4</td>\n",
       "      <td>5.2</td>\n",
       "      <td>4.6</td>\n",
       "      <td>...</td>\n",
       "      <td>6.0</td>\n",
       "      <td>4.5</td>\n",
       "      <td>6.8</td>\n",
       "      <td>6.1</td>\n",
       "      <td>4.5</td>\n",
       "      <td>4.5</td>\n",
       "      <td>3.5</td>\n",
       "      <td>3.5</td>\n",
       "      <td>7.1</td>\n",
       "      <td>6.6</td>\n",
       "    </tr>\n",
       "    <tr>\n",
       "      <th>...</th>\n",
       "      <td>...</td>\n",
       "      <td>...</td>\n",
       "      <td>...</td>\n",
       "      <td>...</td>\n",
       "      <td>...</td>\n",
       "      <td>...</td>\n",
       "      <td>...</td>\n",
       "      <td>...</td>\n",
       "      <td>...</td>\n",
       "      <td>...</td>\n",
       "      <td>...</td>\n",
       "      <td>...</td>\n",
       "      <td>...</td>\n",
       "      <td>...</td>\n",
       "      <td>...</td>\n",
       "      <td>...</td>\n",
       "      <td>...</td>\n",
       "      <td>...</td>\n",
       "      <td>...</td>\n",
       "      <td>...</td>\n",
       "      <td>...</td>\n",
       "    </tr>\n",
       "    <tr>\n",
       "      <th>95</th>\n",
       "      <td>96.0</td>\n",
       "      <td>1</td>\n",
       "      <td>1</td>\n",
       "      <td>1</td>\n",
       "      <td>1</td>\n",
       "      <td>0</td>\n",
       "      <td>8.6</td>\n",
       "      <td>4.8</td>\n",
       "      <td>5.6</td>\n",
       "      <td>5.3</td>\n",
       "      <td>...</td>\n",
       "      <td>6.0</td>\n",
       "      <td>5.7</td>\n",
       "      <td>6.7</td>\n",
       "      <td>5.8</td>\n",
       "      <td>3.6</td>\n",
       "      <td>4.9</td>\n",
       "      <td>3.6</td>\n",
       "      <td>3.6</td>\n",
       "      <td>7.3</td>\n",
       "      <td>8.1</td>\n",
       "    </tr>\n",
       "    <tr>\n",
       "      <th>96</th>\n",
       "      <td>97.0</td>\n",
       "      <td>1</td>\n",
       "      <td>0</td>\n",
       "      <td>1</td>\n",
       "      <td>0</td>\n",
       "      <td>0</td>\n",
       "      <td>7.4</td>\n",
       "      <td>3.4</td>\n",
       "      <td>2.6</td>\n",
       "      <td>5.0</td>\n",
       "      <td>...</td>\n",
       "      <td>4.4</td>\n",
       "      <td>4.8</td>\n",
       "      <td>7.2</td>\n",
       "      <td>4.5</td>\n",
       "      <td>6.4</td>\n",
       "      <td>4.2</td>\n",
       "      <td>5.6</td>\n",
       "      <td>3.7</td>\n",
       "      <td>6.3</td>\n",
       "      <td>5.5</td>\n",
       "    </tr>\n",
       "    <tr>\n",
       "      <th>97</th>\n",
       "      <td>98.0</td>\n",
       "      <td>1</td>\n",
       "      <td>0</td>\n",
       "      <td>1</td>\n",
       "      <td>1</td>\n",
       "      <td>0</td>\n",
       "      <td>8.7</td>\n",
       "      <td>3.2</td>\n",
       "      <td>3.3</td>\n",
       "      <td>3.2</td>\n",
       "      <td>...</td>\n",
       "      <td>6.1</td>\n",
       "      <td>2.9</td>\n",
       "      <td>5.6</td>\n",
       "      <td>5.0</td>\n",
       "      <td>4.3</td>\n",
       "      <td>3.1</td>\n",
       "      <td>2.9</td>\n",
       "      <td>2.5</td>\n",
       "      <td>5.4</td>\n",
       "      <td>7.0</td>\n",
       "    </tr>\n",
       "    <tr>\n",
       "      <th>98</th>\n",
       "      <td>99.0</td>\n",
       "      <td>0</td>\n",
       "      <td>1</td>\n",
       "      <td>1</td>\n",
       "      <td>0</td>\n",
       "      <td>0</td>\n",
       "      <td>7.8</td>\n",
       "      <td>4.9</td>\n",
       "      <td>5.8</td>\n",
       "      <td>5.3</td>\n",
       "      <td>...</td>\n",
       "      <td>5.3</td>\n",
       "      <td>7.1</td>\n",
       "      <td>7.9</td>\n",
       "      <td>6.0</td>\n",
       "      <td>5.7</td>\n",
       "      <td>4.3</td>\n",
       "      <td>4.9</td>\n",
       "      <td>3.9</td>\n",
       "      <td>6.4</td>\n",
       "      <td>7.1</td>\n",
       "    </tr>\n",
       "    <tr>\n",
       "      <th>99</th>\n",
       "      <td>100.0</td>\n",
       "      <td>0</td>\n",
       "      <td>1</td>\n",
       "      <td>0</td>\n",
       "      <td>0</td>\n",
       "      <td>1</td>\n",
       "      <td>7.9</td>\n",
       "      <td>3.0</td>\n",
       "      <td>4.4</td>\n",
       "      <td>5.1</td>\n",
       "      <td>...</td>\n",
       "      <td>4.2</td>\n",
       "      <td>4.8</td>\n",
       "      <td>9.7</td>\n",
       "      <td>5.7</td>\n",
       "      <td>5.8</td>\n",
       "      <td>3.4</td>\n",
       "      <td>5.4</td>\n",
       "      <td>3.5</td>\n",
       "      <td>6.4</td>\n",
       "      <td>7.3</td>\n",
       "    </tr>\n",
       "  </tbody>\n",
       "</table>\n",
       "<p>98 rows × 21 columns</p>\n",
       "</div>"
      ],
      "text/plain": [
       "       id  x1  x2  x3  x4  x5   x6   x7   x8   x9  ...  x11  x12  x13  x14  \\\n",
       "0     1.0   0   0   0   0   0  8.5  3.9  2.5  5.9  ...  4.9  6.0  6.8  4.7   \n",
       "1     2.0   2   1   1   1   1  8.2  2.7  5.1  7.2  ...  7.9  3.1  5.3  5.5   \n",
       "2     3.0   2   0   0   0   0  9.2  3.4  5.6  5.6  ...  7.4  5.8  4.5  6.2   \n",
       "3     4.0   1   1   0   0   1  6.4  3.3  7.0  3.7  ...  4.7  4.5  8.8  7.0   \n",
       "4     5.0   0   0   0   1   0  9.0  3.4  5.2  4.6  ...  6.0  4.5  6.8  6.1   \n",
       "..    ...  ..  ..  ..  ..  ..  ...  ...  ...  ...  ...  ...  ...  ...  ...   \n",
       "95   96.0   1   1   1   1   0  8.6  4.8  5.6  5.3  ...  6.0  5.7  6.7  5.8   \n",
       "96   97.0   1   0   1   0   0  7.4  3.4  2.6  5.0  ...  4.4  4.8  7.2  4.5   \n",
       "97   98.0   1   0   1   1   0  8.7  3.2  3.3  3.2  ...  6.1  2.9  5.6  5.0   \n",
       "98   99.0   0   1   1   0   0  7.8  4.9  5.8  5.3  ...  5.3  7.1  7.9  6.0   \n",
       "99  100.0   0   1   0   0   1  7.9  3.0  4.4  5.1  ...  4.2  4.8  9.7  5.7   \n",
       "\n",
       "    x15  x16  x17  x18  x19  x20  \n",
       "0   4.3  5.0  5.1  3.7  8.2  8.0  \n",
       "1   4.0  3.9  4.3  4.9  5.7  6.5  \n",
       "2   4.6  5.4  4.0  4.5  8.9  8.4  \n",
       "3   3.6  4.3  4.1  3.0  4.8  6.0  \n",
       "4   4.5  4.5  3.5  3.5  7.1  6.6  \n",
       "..  ...  ...  ...  ...  ...  ...  \n",
       "95  3.6  4.9  3.6  3.6  7.3  8.1  \n",
       "96  6.4  4.2  5.6  3.7  6.3  5.5  \n",
       "97  4.3  3.1  2.9  2.5  5.4  7.0  \n",
       "98  5.7  4.3  4.9  3.9  6.4  7.1  \n",
       "99  5.8  3.4  5.4  3.5  6.4  7.3  \n",
       "\n",
       "[98 rows x 21 columns]"
      ]
     },
     "execution_count": 1,
     "metadata": {},
     "output_type": "execute_result"
    }
   ],
   "source": [
    "import pandas as pd\n",
    "df = pd.read_spss(\"HBAT.sav\")\n",
    "df.drop(columns=['x21', 'x22', 'x23'], inplace=True)\n",
    "df.drop([46,58], inplace=True)\n",
    "cat_columns = ['x1', 'x2', 'x3', 'x4', 'x5']\n",
    "df[cat_columns] = df[cat_columns].apply(lambda x: x.cat.codes)\n",
    "new_cat_columns = df.select_dtypes(['category']).columns\n",
    "df[new_cat_columns] = df[new_cat_columns].apply(pd.to_numeric)\n",
    "df\n"
   ]
  },
  {
   "cell_type": "code",
   "execution_count": 2,
   "metadata": {
    "hideCode": true,
    "slideshow": {
     "slide_type": "subslide"
    }
   },
   "outputs": [
    {
     "data": {
      "image/svg+xml": [
       "<?xml version=\"1.0\" encoding=\"UTF-8\" standalone=\"no\"?>\n",
       "<!DOCTYPE svg PUBLIC \"-//W3C//DTD SVG 1.1//EN\"\n",
       " \"http://www.w3.org/Graphics/SVG/1.1/DTD/svg11.dtd\">\n",
       "<!-- Generated by graphviz version 2.43.0 (0)\n",
       " -->\n",
       "<!-- Title: G Pages: 1 -->\n",
       "<svg width=\"1187pt\" height=\"242pt\"\n",
       " viewBox=\"0.00 0.00 1187.25 242.49\" xmlns=\"http://www.w3.org/2000/svg\" xmlns:xlink=\"http://www.w3.org/1999/xlink\">\n",
       "<g id=\"graph0\" class=\"graph\" transform=\"scale(1 1) rotate(0) translate(4 238.49)\">\n",
       "<title>G</title>\n",
       "<polygon fill=\"white\" stroke=\"transparent\" points=\"-4,4 -4,-238.49 1183.25,-238.49 1183.25,4 -4,4\"/>\n",
       "<!-- e14 -->\n",
       "<g id=\"node1\" class=\"node\">\n",
       "<title>e14</title>\n",
       "<ellipse fill=\"#cae6df\" stroke=\"black\" cx=\"23.4\" cy=\"-153.24\" rx=\"23.3\" ry=\"23.3\"/>\n",
       "<text text-anchor=\"middle\" x=\"23.4\" y=\"-149.54\" font-family=\"Times,serif\" font-size=\"14.00\">e14</text>\n",
       "</g>\n",
       "<!-- x14 -->\n",
       "<g id=\"node20\" class=\"node\">\n",
       "<title>x14</title>\n",
       "<polygon fill=\"none\" stroke=\"black\" points=\"82.4,-36 28.4,-36 28.4,0 82.4,0 82.4,-36\"/>\n",
       "<text text-anchor=\"middle\" x=\"55.4\" y=\"-14.3\" font-family=\"Times,serif\" font-size=\"14.00\">x14</text>\n",
       "</g>\n",
       "<!-- e14&#45;&gt;x14 -->\n",
       "<g id=\"edge20\" class=\"edge\">\n",
       "<title>e14&#45;&gt;x14</title>\n",
       "<path fill=\"none\" stroke=\"black\" d=\"M28.68,-130.24C34.21,-107.22 42.9,-71.03 48.86,-46.22\"/>\n",
       "<polygon fill=\"black\" stroke=\"black\" points=\"52.3,-46.9 51.23,-36.36 45.49,-45.27 52.3,-46.9\"/>\n",
       "</g>\n",
       "<!-- Work_Environment -->\n",
       "<g id=\"node2\" class=\"node\">\n",
       "<title>Work_Environment</title>\n",
       "<ellipse fill=\"#cae6df\" stroke=\"black\" cx=\"613.4\" cy=\"-153.24\" rx=\"81.49\" ry=\"81.49\"/>\n",
       "<text text-anchor=\"middle\" x=\"613.4\" y=\"-149.54\" font-family=\"Times,serif\" font-size=\"14.00\">Work_Environment</text>\n",
       "</g>\n",
       "<!-- x5 -->\n",
       "<g id=\"node23\" class=\"node\">\n",
       "<title>x5</title>\n",
       "<polygon fill=\"none\" stroke=\"black\" points=\"473.4,-36 419.4,-36 419.4,0 473.4,0 473.4,-36\"/>\n",
       "<text text-anchor=\"middle\" x=\"446.4\" y=\"-14.3\" font-family=\"Times,serif\" font-size=\"14.00\">x5</text>\n",
       "</g>\n",
       "<!-- Work_Environment&#45;&gt;x5 -->\n",
       "<g id=\"edge1\" class=\"edge\">\n",
       "<title>Work_Environment&#45;&gt;x5</title>\n",
       "<path fill=\"none\" stroke=\"black\" d=\"M553.78,-97.22C543.81,-88.57 533.44,-79.88 523.4,-72 510.1,-61.56 494.87,-50.84 481.49,-41.8\"/>\n",
       "<polygon fill=\"black\" stroke=\"black\" points=\"483.26,-38.77 473,-36.12 479.36,-44.59 483.26,-38.77\"/>\n",
       "</g>\n",
       "<!-- x6 -->\n",
       "<g id=\"node24\" class=\"node\">\n",
       "<title>x6</title>\n",
       "<polygon fill=\"none\" stroke=\"black\" points=\"577.4,-36 523.4,-36 523.4,0 577.4,0 577.4,-36\"/>\n",
       "<text text-anchor=\"middle\" x=\"550.4\" y=\"-14.3\" font-family=\"Times,serif\" font-size=\"14.00\">x6</text>\n",
       "</g>\n",
       "<!-- Work_Environment&#45;&gt;x6 -->\n",
       "<g id=\"edge3\" class=\"edge\">\n",
       "<title>Work_Environment&#45;&gt;x6</title>\n",
       "<path fill=\"none\" stroke=\"black\" d=\"M578.95,-79.38C573.22,-67.26 567.62,-55.42 562.92,-45.48\"/>\n",
       "<polygon fill=\"black\" stroke=\"black\" points=\"565.98,-43.78 558.55,-36.23 559.66,-46.77 565.98,-43.78\"/>\n",
       "</g>\n",
       "<!-- x7 -->\n",
       "<g id=\"node25\" class=\"node\">\n",
       "<title>x7</title>\n",
       "<polygon fill=\"none\" stroke=\"black\" points=\"664.4,-36 610.4,-36 610.4,0 664.4,0 664.4,-36\"/>\n",
       "<text text-anchor=\"middle\" x=\"637.4\" y=\"-14.3\" font-family=\"Times,serif\" font-size=\"14.00\">x7</text>\n",
       "</g>\n",
       "<!-- Work_Environment&#45;&gt;x7 -->\n",
       "<g id=\"edge5\" class=\"edge\">\n",
       "<title>Work_Environment&#45;&gt;x7</title>\n",
       "<path fill=\"none\" stroke=\"black\" d=\"M627.64,-73.19C629.38,-63.53 631.05,-54.23 632.51,-46.14\"/>\n",
       "<polygon fill=\"black\" stroke=\"black\" points=\"635.96,-46.74 634.28,-36.28 629.07,-45.5 635.96,-46.74\"/>\n",
       "</g>\n",
       "<!-- x8 -->\n",
       "<g id=\"node26\" class=\"node\">\n",
       "<title>x8</title>\n",
       "<polygon fill=\"none\" stroke=\"black\" points=\"763.4,-36 709.4,-36 709.4,0 763.4,0 763.4,-36\"/>\n",
       "<text text-anchor=\"middle\" x=\"736.4\" y=\"-14.3\" font-family=\"Times,serif\" font-size=\"14.00\">x8</text>\n",
       "</g>\n",
       "<!-- Work_Environment&#45;&gt;x8 -->\n",
       "<g id=\"edge7\" class=\"edge\">\n",
       "<title>Work_Environment&#45;&gt;x8</title>\n",
       "<path fill=\"none\" stroke=\"black\" d=\"M668.06,-93.02C684.05,-75.71 700.65,-57.72 713.49,-43.81\"/>\n",
       "<polygon fill=\"black\" stroke=\"black\" points=\"716.37,-45.85 720.58,-36.13 711.23,-41.1 716.37,-45.85\"/>\n",
       "</g>\n",
       "<!-- Coworkers -->\n",
       "<g id=\"node3\" class=\"node\">\n",
       "<title>Coworkers</title>\n",
       "<ellipse fill=\"#cae6df\" stroke=\"black\" cx=\"1009.4\" cy=\"-153.24\" rx=\"49.29\" ry=\"49.29\"/>\n",
       "<text text-anchor=\"middle\" x=\"1009.4\" y=\"-149.54\" font-family=\"Times,serif\" font-size=\"14.00\">Coworkers</text>\n",
       "</g>\n",
       "<!-- x10 -->\n",
       "<g id=\"node16\" class=\"node\">\n",
       "<title>x10</title>\n",
       "<polygon fill=\"none\" stroke=\"black\" points=\"883.4,-36 829.4,-36 829.4,0 883.4,0 883.4,-36\"/>\n",
       "<text text-anchor=\"middle\" x=\"856.4\" y=\"-14.3\" font-family=\"Times,serif\" font-size=\"14.00\">x10</text>\n",
       "</g>\n",
       "<!-- Coworkers&#45;&gt;x10 -->\n",
       "<g id=\"edge11\" class=\"edge\">\n",
       "<title>Coworkers&#45;&gt;x10</title>\n",
       "<path fill=\"none\" stroke=\"black\" d=\"M983.92,-110.7C974.46,-97.34 962.95,-83.12 950.4,-72 933.24,-56.8 911.02,-44.02 892.49,-34.83\"/>\n",
       "<polygon fill=\"black\" stroke=\"black\" points=\"893.98,-31.66 883.45,-30.48 890.95,-37.97 893.98,-31.66\"/>\n",
       "</g>\n",
       "<!-- x11 -->\n",
       "<g id=\"node17\" class=\"node\">\n",
       "<title>x11</title>\n",
       "<polygon fill=\"none\" stroke=\"black\" points=\"978.4,-36 924.4,-36 924.4,0 978.4,0 978.4,-36\"/>\n",
       "<text text-anchor=\"middle\" x=\"951.4\" y=\"-14.3\" font-family=\"Times,serif\" font-size=\"14.00\">x11</text>\n",
       "</g>\n",
       "<!-- Coworkers&#45;&gt;x11 -->\n",
       "<g id=\"edge13\" class=\"edge\">\n",
       "<title>Coworkers&#45;&gt;x11</title>\n",
       "<path fill=\"none\" stroke=\"black\" d=\"M989.92,-107.5C981.01,-87.03 970.75,-63.45 963.05,-45.78\"/>\n",
       "<polygon fill=\"black\" stroke=\"black\" points=\"966.05,-43.9 958.85,-36.13 959.64,-46.69 966.05,-43.9\"/>\n",
       "</g>\n",
       "<!-- x12 -->\n",
       "<g id=\"node18\" class=\"node\">\n",
       "<title>x12</title>\n",
       "<polygon fill=\"none\" stroke=\"black\" points=\"1056.4,-36 1002.4,-36 1002.4,0 1056.4,0 1056.4,-36\"/>\n",
       "<text text-anchor=\"middle\" x=\"1029.4\" y=\"-14.3\" font-family=\"Times,serif\" font-size=\"14.00\">x12</text>\n",
       "</g>\n",
       "<!-- Coworkers&#45;&gt;x12 -->\n",
       "<g id=\"edge15\" class=\"edge\">\n",
       "<title>Coworkers&#45;&gt;x12</title>\n",
       "<path fill=\"none\" stroke=\"black\" d=\"M1016.62,-104.14C1019.54,-84.69 1022.8,-62.96 1025.3,-46.32\"/>\n",
       "<polygon fill=\"black\" stroke=\"black\" points=\"1028.79,-46.61 1026.82,-36.2 1021.87,-45.57 1028.79,-46.61\"/>\n",
       "</g>\n",
       "<!-- x9 -->\n",
       "<g id=\"node27\" class=\"node\">\n",
       "<title>x9</title>\n",
       "<polygon fill=\"none\" stroke=\"black\" points=\"1167.4,-36 1113.4,-36 1113.4,0 1167.4,0 1167.4,-36\"/>\n",
       "<text text-anchor=\"middle\" x=\"1140.4\" y=\"-14.3\" font-family=\"Times,serif\" font-size=\"14.00\">x9</text>\n",
       "</g>\n",
       "<!-- Coworkers&#45;&gt;x9 -->\n",
       "<g id=\"edge9\" class=\"edge\">\n",
       "<title>Coworkers&#45;&gt;x9</title>\n",
       "<path fill=\"none\" stroke=\"black\" d=\"M1035.98,-111.15C1045.43,-97.96 1056.66,-83.74 1068.4,-72 1079.36,-61.03 1092.74,-50.55 1104.97,-41.84\"/>\n",
       "<polygon fill=\"black\" stroke=\"black\" points=\"1107,-44.7 1113.22,-36.12 1103.01,-38.95 1107,-44.7\"/>\n",
       "</g>\n",
       "<!-- e7 -->\n",
       "<g id=\"node4\" class=\"node\">\n",
       "<title>e7</title>\n",
       "<ellipse fill=\"#cae6df\" stroke=\"black\" cx=\"731.4\" cy=\"-153.24\" rx=\"18.7\" ry=\"18.7\"/>\n",
       "<text text-anchor=\"middle\" x=\"731.4\" y=\"-149.54\" font-family=\"Times,serif\" font-size=\"14.00\">e7</text>\n",
       "</g>\n",
       "<!-- e7&#45;&gt;x7 -->\n",
       "<g id=\"edge6\" class=\"edge\">\n",
       "<title>e7&#45;&gt;x7</title>\n",
       "<path fill=\"none\" stroke=\"black\" d=\"M728.21,-134.67C724.46,-117.48 716.93,-91.16 703.4,-72 695.22,-60.43 683.84,-50.05 672.83,-41.62\"/>\n",
       "<polygon fill=\"black\" stroke=\"black\" points=\"674.68,-38.63 664.54,-35.55 670.55,-44.28 674.68,-38.63\"/>\n",
       "</g>\n",
       "<!-- e15 -->\n",
       "<g id=\"node5\" class=\"node\">\n",
       "<title>e15</title>\n",
       "<ellipse fill=\"#cae6df\" stroke=\"black\" cx=\"308.4\" cy=\"-153.24\" rx=\"23.3\" ry=\"23.3\"/>\n",
       "<text text-anchor=\"middle\" x=\"308.4\" y=\"-149.54\" font-family=\"Times,serif\" font-size=\"14.00\">e15</text>\n",
       "</g>\n",
       "<!-- x15 -->\n",
       "<g id=\"node21\" class=\"node\">\n",
       "<title>x15</title>\n",
       "<polygon fill=\"none\" stroke=\"black\" points=\"249.4,-36 195.4,-36 195.4,0 249.4,0 249.4,-36\"/>\n",
       "<text text-anchor=\"middle\" x=\"222.4\" y=\"-14.3\" font-family=\"Times,serif\" font-size=\"14.00\">x15</text>\n",
       "</g>\n",
       "<!-- e15&#45;&gt;x15 -->\n",
       "<g id=\"edge22\" class=\"edge\">\n",
       "<title>e15&#45;&gt;x15</title>\n",
       "<path fill=\"none\" stroke=\"black\" d=\"M302.36,-130.28C297.11,-113.44 288.44,-90.11 276.4,-72 269.48,-61.6 260.24,-51.61 251.37,-43.16\"/>\n",
       "<polygon fill=\"black\" stroke=\"black\" points=\"253.47,-40.34 243.73,-36.16 248.74,-45.5 253.47,-40.34\"/>\n",
       "</g>\n",
       "<!-- e5 -->\n",
       "<g id=\"node6\" class=\"node\">\n",
       "<title>e5</title>\n",
       "<ellipse fill=\"#cae6df\" stroke=\"black\" cx=\"439.4\" cy=\"-153.24\" rx=\"18.7\" ry=\"18.7\"/>\n",
       "<text text-anchor=\"middle\" x=\"439.4\" y=\"-149.54\" font-family=\"Times,serif\" font-size=\"14.00\">e5</text>\n",
       "</g>\n",
       "<!-- e5&#45;&gt;x5 -->\n",
       "<g id=\"edge2\" class=\"edge\">\n",
       "<title>e5&#45;&gt;x5</title>\n",
       "<path fill=\"none\" stroke=\"black\" d=\"M440.34,-134.27C441.53,-111.67 443.58,-72.65 444.96,-46.34\"/>\n",
       "<polygon fill=\"black\" stroke=\"black\" points=\"448.46,-46.43 445.49,-36.26 441.47,-46.07 448.46,-46.43\"/>\n",
       "</g>\n",
       "<!-- Job_Satisfaction -->\n",
       "<g id=\"node7\" class=\"node\">\n",
       "<title>Job_Satisfaction</title>\n",
       "<ellipse fill=\"#cae6df\" stroke=\"black\" cx=\"198.4\" cy=\"-153.24\" rx=\"68.79\" ry=\"68.79\"/>\n",
       "<text text-anchor=\"middle\" x=\"198.4\" y=\"-149.54\" font-family=\"Times,serif\" font-size=\"14.00\">Job_Satisfaction</text>\n",
       "</g>\n",
       "<!-- x13 -->\n",
       "<g id=\"node19\" class=\"node\">\n",
       "<title>x13</title>\n",
       "<polygon fill=\"none\" stroke=\"black\" points=\"169.4,-36 115.4,-36 115.4,0 169.4,0 169.4,-36\"/>\n",
       "<text text-anchor=\"middle\" x=\"142.4\" y=\"-14.3\" font-family=\"Times,serif\" font-size=\"14.00\">x13</text>\n",
       "</g>\n",
       "<!-- Job_Satisfaction&#45;&gt;x13 -->\n",
       "<g id=\"edge17\" class=\"edge\">\n",
       "<title>Job_Satisfaction&#45;&gt;x13</title>\n",
       "<path fill=\"none\" stroke=\"black\" d=\"M172.04,-89.52C165.55,-74.08 158.94,-58.35 153.61,-45.68\"/>\n",
       "<polygon fill=\"black\" stroke=\"black\" points=\"156.74,-44.1 149.64,-36.24 150.29,-46.81 156.74,-44.1\"/>\n",
       "</g>\n",
       "<!-- Job_Satisfaction&#45;&gt;x14 -->\n",
       "<g id=\"edge19\" class=\"edge\">\n",
       "<title>Job_Satisfaction&#45;&gt;x14</title>\n",
       "<path fill=\"none\" stroke=\"black\" d=\"M151.42,-102.12C141.39,-91.93 130.71,-81.45 120.4,-72 109.34,-61.87 96.66,-51.31 85.45,-42.31\"/>\n",
       "<polygon fill=\"black\" stroke=\"black\" points=\"87.6,-39.54 77.59,-36.06 83.24,-45.02 87.6,-39.54\"/>\n",
       "</g>\n",
       "<!-- Job_Satisfaction&#45;&gt;x15 -->\n",
       "<g id=\"edge21\" class=\"edge\">\n",
       "<title>Job_Satisfaction&#45;&gt;x15</title>\n",
       "<path fill=\"none\" stroke=\"black\" d=\"M210.47,-85.23C212.96,-71.38 215.45,-57.56 217.51,-46.15\"/>\n",
       "<polygon fill=\"black\" stroke=\"black\" points=\"221,-46.49 219.33,-36.02 214.11,-45.25 221,-46.49\"/>\n",
       "</g>\n",
       "<!-- x16 -->\n",
       "<g id=\"node22\" class=\"node\">\n",
       "<title>x16</title>\n",
       "<polygon fill=\"none\" stroke=\"black\" points=\"353.4,-36 299.4,-36 299.4,0 353.4,0 353.4,-36\"/>\n",
       "<text text-anchor=\"middle\" x=\"326.4\" y=\"-14.3\" font-family=\"Times,serif\" font-size=\"14.00\">x16</text>\n",
       "</g>\n",
       "<!-- Job_Satisfaction&#45;&gt;x16 -->\n",
       "<g id=\"edge23\" class=\"edge\">\n",
       "<title>Job_Satisfaction&#45;&gt;x16</title>\n",
       "<path fill=\"none\" stroke=\"black\" d=\"M245.7,-103.01C265.04,-82.88 286.56,-60.47 302.52,-43.86\"/>\n",
       "<polygon fill=\"black\" stroke=\"black\" points=\"305.46,-45.84 309.87,-36.21 300.42,-40.99 305.46,-45.84\"/>\n",
       "</g>\n",
       "<!-- e11 -->\n",
       "<g id=\"node8\" class=\"node\">\n",
       "<title>e11</title>\n",
       "<ellipse fill=\"#cae6df\" stroke=\"black\" cx=\"918.4\" cy=\"-153.24\" rx=\"23.3\" ry=\"23.3\"/>\n",
       "<text text-anchor=\"middle\" x=\"918.4\" y=\"-149.54\" font-family=\"Times,serif\" font-size=\"14.00\">e11</text>\n",
       "</g>\n",
       "<!-- e11&#45;&gt;x11 -->\n",
       "<g id=\"edge14\" class=\"edge\">\n",
       "<title>e11&#45;&gt;x11</title>\n",
       "<path fill=\"none\" stroke=\"black\" d=\"M923.85,-130.24C929.55,-107.22 938.51,-71.03 944.66,-46.22\"/>\n",
       "<polygon fill=\"black\" stroke=\"black\" points=\"948.09,-46.91 947.1,-36.36 941.3,-45.22 948.09,-46.91\"/>\n",
       "</g>\n",
       "<!-- e13 -->\n",
       "<g id=\"node9\" class=\"node\">\n",
       "<title>e13</title>\n",
       "<ellipse fill=\"#cae6df\" stroke=\"black\" cx=\"88.4\" cy=\"-153.24\" rx=\"23.3\" ry=\"23.3\"/>\n",
       "<text text-anchor=\"middle\" x=\"88.4\" y=\"-149.54\" font-family=\"Times,serif\" font-size=\"14.00\">e13</text>\n",
       "</g>\n",
       "<!-- e13&#45;&gt;x13 -->\n",
       "<g id=\"edge18\" class=\"edge\">\n",
       "<title>e13&#45;&gt;x13</title>\n",
       "<path fill=\"none\" stroke=\"black\" d=\"M96.74,-131.09C103.15,-114.89 112.26,-92 120.4,-72 123.91,-63.38 127.78,-53.99 131.3,-45.54\"/>\n",
       "<polygon fill=\"black\" stroke=\"black\" points=\"134.59,-46.74 135.2,-36.16 128.13,-44.05 134.59,-46.74\"/>\n",
       "</g>\n",
       "<!-- e6 -->\n",
       "<g id=\"node10\" class=\"node\">\n",
       "<title>e6</title>\n",
       "<ellipse fill=\"#cae6df\" stroke=\"black\" cx=\"495.4\" cy=\"-153.24\" rx=\"18.7\" ry=\"18.7\"/>\n",
       "<text text-anchor=\"middle\" x=\"495.4\" y=\"-149.54\" font-family=\"Times,serif\" font-size=\"14.00\">e6</text>\n",
       "</g>\n",
       "<!-- e6&#45;&gt;x6 -->\n",
       "<g id=\"edge4\" class=\"edge\">\n",
       "<title>e6&#45;&gt;x6</title>\n",
       "<path fill=\"none\" stroke=\"black\" d=\"M500.64,-135.08C505.83,-118.66 514.3,-93.31 523.4,-72 527.17,-63.17 531.76,-53.76 536.08,-45.36\"/>\n",
       "<polygon fill=\"black\" stroke=\"black\" points=\"539.25,-46.86 540.79,-36.38 533.05,-43.61 539.25,-46.86\"/>\n",
       "</g>\n",
       "<!-- e9 -->\n",
       "<g id=\"node11\" class=\"node\">\n",
       "<title>e9</title>\n",
       "<ellipse fill=\"#cae6df\" stroke=\"black\" cx=\"1160.4\" cy=\"-153.24\" rx=\"18.7\" ry=\"18.7\"/>\n",
       "<text text-anchor=\"middle\" x=\"1160.4\" y=\"-149.54\" font-family=\"Times,serif\" font-size=\"14.00\">e9</text>\n",
       "</g>\n",
       "<!-- e9&#45;&gt;x9 -->\n",
       "<g id=\"edge10\" class=\"edge\">\n",
       "<title>e9&#45;&gt;x9</title>\n",
       "<path fill=\"none\" stroke=\"black\" d=\"M1157.74,-134.55C1154.36,-112.03 1148.48,-72.88 1144.52,-46.46\"/>\n",
       "<polygon fill=\"black\" stroke=\"black\" points=\"1147.95,-45.71 1143,-36.34 1141.02,-46.75 1147.95,-45.71\"/>\n",
       "</g>\n",
       "<!-- e16 -->\n",
       "<g id=\"node12\" class=\"node\">\n",
       "<title>e16</title>\n",
       "<ellipse fill=\"#cae6df\" stroke=\"black\" cx=\"373.4\" cy=\"-153.24\" rx=\"23.3\" ry=\"23.3\"/>\n",
       "<text text-anchor=\"middle\" x=\"373.4\" y=\"-149.54\" font-family=\"Times,serif\" font-size=\"14.00\">e16</text>\n",
       "</g>\n",
       "<!-- e16&#45;&gt;x16 -->\n",
       "<g id=\"edge24\" class=\"edge\">\n",
       "<title>e16&#45;&gt;x16</title>\n",
       "<path fill=\"none\" stroke=\"black\" d=\"M365.85,-130.84C357.68,-107.69 344.65,-70.75 335.82,-45.72\"/>\n",
       "<polygon fill=\"black\" stroke=\"black\" points=\"339.06,-44.38 332.44,-36.12 332.46,-46.71 339.06,-44.38\"/>\n",
       "</g>\n",
       "<!-- e12 -->\n",
       "<g id=\"node13\" class=\"node\">\n",
       "<title>e12</title>\n",
       "<ellipse fill=\"#cae6df\" stroke=\"black\" cx=\"1100.4\" cy=\"-153.24\" rx=\"23.3\" ry=\"23.3\"/>\n",
       "<text text-anchor=\"middle\" x=\"1100.4\" y=\"-149.54\" font-family=\"Times,serif\" font-size=\"14.00\">e12</text>\n",
       "</g>\n",
       "<!-- e12&#45;&gt;x12 -->\n",
       "<g id=\"edge16\" class=\"edge\">\n",
       "<title>e12&#45;&gt;x12</title>\n",
       "<path fill=\"none\" stroke=\"black\" d=\"M1093.14,-130.84C1087.17,-114.31 1077.99,-91.1 1067.4,-72 1062.21,-62.64 1055.68,-52.97 1049.49,-44.49\"/>\n",
       "<polygon fill=\"black\" stroke=\"black\" points=\"1052.28,-42.38 1043.49,-36.47 1046.68,-46.57 1052.28,-42.38\"/>\n",
       "</g>\n",
       "<!-- e8 -->\n",
       "<g id=\"node14\" class=\"node\">\n",
       "<title>e8</title>\n",
       "<ellipse fill=\"#cae6df\" stroke=\"black\" cx=\"787.4\" cy=\"-153.24\" rx=\"18.7\" ry=\"18.7\"/>\n",
       "<text text-anchor=\"middle\" x=\"787.4\" y=\"-149.54\" font-family=\"Times,serif\" font-size=\"14.00\">e8</text>\n",
       "</g>\n",
       "<!-- e8&#45;&gt;x8 -->\n",
       "<g id=\"edge8\" class=\"edge\">\n",
       "<title>e8&#45;&gt;x8</title>\n",
       "<path fill=\"none\" stroke=\"black\" d=\"M781.86,-135.2C776.45,-118.87 767.83,-93.58 759.4,-72 755.99,-63.27 752,-53.85 748.32,-45.41\"/>\n",
       "<polygon fill=\"black\" stroke=\"black\" points=\"751.42,-43.78 744.18,-36.05 745.02,-46.61 751.42,-43.78\"/>\n",
       "</g>\n",
       "<!-- e10 -->\n",
       "<g id=\"node15\" class=\"node\">\n",
       "<title>e10</title>\n",
       "<ellipse fill=\"#cae6df\" stroke=\"black\" cx=\"853.4\" cy=\"-153.24\" rx=\"23.3\" ry=\"23.3\"/>\n",
       "<text text-anchor=\"middle\" x=\"853.4\" y=\"-149.54\" font-family=\"Times,serif\" font-size=\"14.00\">e10</text>\n",
       "</g>\n",
       "<!-- e10&#45;&gt;x10 -->\n",
       "<g id=\"edge12\" class=\"edge\">\n",
       "<title>e10&#45;&gt;x10</title>\n",
       "<path fill=\"none\" stroke=\"black\" d=\"M853.91,-129.64C854.43,-106.62 855.23,-70.89 855.78,-46.3\"/>\n",
       "<polygon fill=\"black\" stroke=\"black\" points=\"859.28,-46.27 856.01,-36.19 852.29,-46.11 859.28,-46.27\"/>\n",
       "</g>\n",
       "</g>\n",
       "</svg>\n"
      ],
      "text/plain": [
       "<graphviz.graphs.Digraph at 0x7f6d2fdf8520>"
      ]
     },
     "execution_count": 2,
     "metadata": {},
     "output_type": "execute_result"
    }
   ],
   "source": [
    "import semopy\n",
    "\n",
    "measure_desc = '''\n",
    "# Measurement\n",
    "Work_Environment =~ x5 + x6 + x7 + x8\n",
    "Coworkers =~ x9 + x10 + x11 + x12\n",
    "Job_Satisfaction =~ x13 + x14 + x15 + x16\n",
    "\n",
    "DEFINE(ordinal) x5\n",
    "\n",
    "e5 =~ x5\n",
    "e6 =~ x6\n",
    "e7 =~ x7\n",
    "e8 =~ x8\n",
    "e9 =~ x9\n",
    "e10 =~ x10\n",
    "e11 =~ x11\n",
    "e12 =~ x12\n",
    "e13 =~ x13\n",
    "e14 =~ x14\n",
    "e15 =~ x15\n",
    "e16 =~ x16\n",
    "'''\n",
    "g = semopy.semplot(measure_desc, \"out.png\")\n",
    "g"
   ]
  },
  {
   "cell_type": "markdown",
   "metadata": {
    "slideshow": {
     "slide_type": "slide"
    }
   },
   "source": [
    "## Diseño de un estudio\n",
    "\n",
    "El **tamaño mínimo de la muestra para un modelo SEM** en particular depende de varios factores, incluida la **complejidad del modelo** y las **comunalidades** (varianza promedio extraída entre elementos) en cada factor:\n",
    "\n",
    "- Los modelos SEM que contienen cinco o menos constructos, cada uno con más de tres ítems (variables observadas), y con altas comunalidades de ítems (.6 o más), se pueden estimar adecuadamente con muestras tan pequeñas como 50. \n",
    "- Cuando el número de factores es superior a seis, algunos de los cuales tienen menos de tres items medidos como indicadores, existen problemas de distribución graves y existen múltiples comunidades bajas, los requisitos de tamaño de la muestra se vuelven mucho mayores.\n",
    "\n",
    ">Recuerda que siempre se requieren más observaciones que el número de variables medidas para que las matemáticas funcionen."
   ]
  },
  {
   "cell_type": "markdown",
   "metadata": {
    "slideshow": {
     "slide_type": "subslide"
    }
   },
   "source": [
    "Contamos con las siguientes guías generales:\n",
    "\n",
    "- N = 100: modelos que contienen cinco o menos constructos, cada uno con más de tres ítems (variables observadas) y con alta comunalidad de ítems (.6 o más).\n",
    "- N = 150: modelos con siete constructos o menos, al menos comunidades modestas (.5) y sin constructos subidentificados.\n",
    "- N = 300: modelos con siete o menos constructos, comunidades más bajas (por debajo de .45) o múltiples constructos subidentificados (menos de tres).\n",
    "- N = 500: modelos con un gran número de constructos, algunos con comunidades más bajas o con menos de tres elementos medidos."
   ]
  },
  {
   "cell_type": "markdown",
   "metadata": {
    "slideshow": {
     "slide_type": "subslide"
    }
   },
   "source": [
    "**El tamaño de la muestra debe ser suficiente para permitir que el modelo se ejecute, pero lo que es más importante, debe representar adecuadamente la población de interés**."
   ]
  },
  {
   "cell_type": "markdown",
   "metadata": {
    "slideshow": {
     "slide_type": "slide"
    }
   },
   "source": [
    "## Validez del modelo de medición\n",
    "\n",
    "La **bondad de ajuste (GOF)** indica qué tan bien el modelo especificado por el usuario reproduce matemáticamente la matriz de covarianza observada entre los elementos del indicador. Es decir, **la similitud de las matrices de covarianza observadas y estimadas**."
   ]
  },
  {
   "cell_type": "markdown",
   "metadata": {
    "slideshow": {
     "slide_type": "subslide"
    }
   },
   "source": [
    "### Índices absolutos\n",
    "\n",
    "#### Chi-cuadrado\n",
    "\n",
    "Chi-cuadrado ($X^{2}$) es la medida estadística fundamental en SEM para cuantificar las diferencias entre la matriz de covarianza observada ($S$) y estimada($\\Sigma_{k}$). El cálculo de este estadístico se define en la siguiente ecuación:\n",
    "\n",
    "$$ X^{2} = f [ (N-1) (S-\\Sigma_{k}) ] $$\n",
    "\n",
    "donde N es el es el tamaño de muestra general.\n",
    "\n",
    "> Nota que el valor de $X^{2}$ aumenta a medida que el valor de N aumenta."
   ]
  },
  {
   "cell_type": "markdown",
   "metadata": {
    "slideshow": {
     "slide_type": "subslide"
    }
   },
   "source": [
    "Los grados de libertad de un modelo SEM se definen:\n",
    "\n",
    "$$ df = \\frac{1}{2}[ (p)(p+1)] - k $$\n",
    "\n",
    "donde $p$ es el número de variables observadas y $k$ es el número de parámetros estimados en el modelo. \n",
    "\n",
    "En particular, los grados de libertad en SEM se basan en el tamaño de la matriz de covarianza, que es una matriz cuadrada con el número de filas (columnas) igual al número de indicadores (variables medidas) en el modelo."
   ]
  },
  {
   "cell_type": "markdown",
   "metadata": {
    "slideshow": {
     "slide_type": "subslide"
    }
   },
   "source": [
    "##### Significancia estadística\n",
    "\n",
    "**La hipótesis nula implícita de SEM es que la muestra observada y las matrices de covarianza estimadas de SEM son iguales**, lo que significa que el modelo se ajusta perfectamente. El valor de $X^{2}$ aumenta a medida que se encuentran diferencias (residuos) al comparar las dos matrices.\n",
    "\n",
    "Con la prueba inferencial $X^{2}$, evaluamos la probabilidad estadística de que las matrices de covarianza de la muestra observada y la estimadas por SEM sean realmente iguales en una población determinada.\n",
    "\n",
    "Por tanto, **en SEM buscamos un valor $X^{2}$ relativamente pequeño (y un valor p grande > .05), lo que indica que no hay diferencia estadísticamente significativa entre las dos matrices**, para apoyar la idea de que una teoría propuesta se ajusta a la realidad."
   ]
  },
  {
   "cell_type": "markdown",
   "metadata": {
    "slideshow": {
     "slide_type": "subslide"
    }
   },
   "source": [
    "Debido a que el estadístico $X^{2}$ es **sensible al aumento del tamaño muestral y al número de variables empleadas en el modelo**, no debe ser usado como la única medida de bondad de ajuste. "
   ]
  },
  {
   "cell_type": "markdown",
   "metadata": {
    "slideshow": {
     "slide_type": "slide"
    }
   },
   "source": [
    "#### GFI\n",
    "\n",
    "El GFI fue un intento temprano de producir una estadística de ajuste que fuera menos sensible al tamaño de la muestra. \n",
    "\n",
    "El GFI se define como:\n",
    "\n",
    "$$ GFI = 1-\\frac{F_{k}}{F_{0}} $$\n",
    "\n",
    "donde $F_{k}$ es la función de ajuste mínimo después de un modelo SEM se ha estimado utilizando k grados de libertad, y $F_{0}$ es la función de ajuste que resultaría si todos los parámetros fueran cero (todo no está relacionado entre sí; no hay relaciones teóricas)."
   ]
  },
  {
   "cell_type": "markdown",
   "metadata": {
    "slideshow": {
     "slide_type": "subslide"
    }
   },
   "source": [
    "El ratio $\\frac{F_{k}}{F_{0}}$ es análogo al ratio $\\frac{SSE}{SST}$ del modelo de regresión múltiple.\n",
    "\n",
    "El rango posible de valores de GFI es de 0 a 1, y los valores más altos indican un mejor ajuste. **Los valores de GFI superiores a .90 o .95 normalmente se consideran buenos**."
   ]
  },
  {
   "cell_type": "markdown",
   "metadata": {
    "slideshow": {
     "slide_type": "slide"
    }
   },
   "source": [
    "#### RMSEA\n",
    "\n",
    "Intenta explícitamente corregir tanto la complejidad del modelo como el tamaño de la muestra al incluir cada uno en su cálculo:\n",
    "\n",
    "$$ RMSEA = \\sqrt{ \\frac{X^{2}-df_{k}}{N-1}   } $$ \n",
    "\n",
    "Aunque investigaciones anteriores a veces habían apuntado a un valor de corte de .05 o .08, investigaciones más recientes apuntan al hecho de que **no es aconsejable trazar un corte absoluto para RMSEA**."
   ]
  },
  {
   "cell_type": "markdown",
   "metadata": {
    "slideshow": {
     "slide_type": "slide"
    }
   },
   "source": [
    "### Índices incrementales\n",
    "\n",
    "Evalúan qué tan bien se ajusta el modelo estimado en relación con algún modelo de línea base alternativo. **El modelo de línea base más común se conoce como modelo nulo, uno que asume que todas las variables observadas no están correlacionadas**."
   ]
  },
  {
   "cell_type": "markdown",
   "metadata": {
    "slideshow": {
     "slide_type": "subslide"
    }
   },
   "source": [
    "#### CFI\n",
    "\n",
    "El CFI se ha convertido en el índice más difundido para complementar el $X^{2}$.\n",
    "\n",
    "$$ CFI = 1 - \\frac{ X^{2}_{k}-df_{k} } { X^{2}_{N}-df_{N}  } $$\n",
    "\n",
    "donde k representa valores asociados con el modelo o la teoría especificada por el investigador, mientras que N denota valores asociados con el modelo estadístico nulo.\n",
    "\n",
    "El CFI está normalizado para que los valores oscilen entre 0 y 1, y los **valores más altos indican un mejor ajuste**."
   ]
  },
  {
   "cell_type": "markdown",
   "metadata": {
    "slideshow": {
     "slide_type": "subslide"
    }
   },
   "source": [
    "#### TLI\n",
    "\n",
    "Se trata de una comparación de los valores de chi-cuadrado normalizados para el modelo nulo y especificado, que hasta cierto punto tiene en cuenta la complejidad del modelo.\n",
    "\n",
    "$$ TLI = \\frac{ \\frac{X^{2}_{N}}{df_{N}}  - \\frac{X^{2}_{k}}{df_{k}}    }{   \\frac{X^{2}_{N}}{df_{N}} - 1 } $$\n",
    "\n",
    "**Los modelos con buen ajuste tienen valores que se acercan a 1**. Un modelo con un valor más alto sugiere un mejor ajuste que un modelo con un valor más bajo."
   ]
  },
  {
   "cell_type": "markdown",
   "metadata": {
    "slideshow": {
     "slide_type": "slide"
    }
   },
   "source": [
    "### Reporte\n",
    "\n",
    "Se deben usar índices de ajuste múltiples para evaluar la bondad de ajuste de un modelo y deben incluir:\n",
    "- El valor $X^{2}$ y el gl asociado.\n",
    "- Un índice de ajuste absoluto (GFI, RMSEA o SRMR).\n",
    "- Un índice de ajuste incremental (CFI o TLI).\n",
    "- Un índice de bondad de ajuste (GFI, CFI, TLI, etc.).\n",
    "- Un índice de mal ajuste (RMSEA, SRMR, etc.).\n",
    "\n",
    "En general, reportar $X^{2}$, CFI y RMSEA puede ser suficiente para evaluar un modelo SEM."
   ]
  },
  {
   "cell_type": "markdown",
   "metadata": {
    "slideshow": {
     "slide_type": "subslide"
    }
   },
   "source": [
    "**Ningún valor “mágico” único para los índices de ajuste separa los modelos buenos de los malos**, y no es práctico aplicar un solo conjunto de reglas de corte a todos los modelos de medición y, en realidad, a todos los modelos SEM de cualquier tipo."
   ]
  },
  {
   "cell_type": "markdown",
   "metadata": {
    "slideshow": {
     "slide_type": "subslide"
    }
   },
   "source": [
    "La **calidad del ajuste** depende en gran medida de las **características del modelo, incluido el tamaño de la muestra y la complejidad del modelo**:\n",
    "- Los modelos simples con muestras pequeñas deben mantenerse con estrictos estándares de ajuste; incluso un valor p pequeño para un modelo simple puede no ser significativo.\n",
    "- Los **modelos más complejos con muestras más grandes no deben someterse a los mismos estándares estrictos**, por lo que cuando las muestras son grandes y el modelo contiene una gran cantidad de variables medidas y estimaciones de parámetros, valores de corte universales de .95 de GOF son poco realistas."
   ]
  },
  {
   "cell_type": "markdown",
   "metadata": {
    "slideshow": {
     "slide_type": "subslide"
    }
   },
   "source": [
    "Podemos ver un resumen de estas nociones en la siguiente tabla:\n",
    "\n",
    "<p align=\"center\">\n",
    "  <img width=\"1200\" src=\"https://github.com/renatoparedes/EstadisticaYPsicologiaMatematica/raw/main/SEM/semgof.png\" alt=\"SEM GOF measures\">\n",
    "</p>"
   ]
  },
  {
   "cell_type": "markdown",
   "metadata": {
    "slideshow": {
     "slide_type": "subslide"
    }
   },
   "source": [
    "Revisemos estos índices en nuestro ejemplo:"
   ]
  },
  {
   "cell_type": "code",
   "execution_count": 3,
   "metadata": {
    "slideshow": {
     "slide_type": "skip"
    }
   },
   "outputs": [],
   "source": [
    "measure_model = semopy.Model(measure_desc)\n",
    "res = measure_model.fit(df)"
   ]
  },
  {
   "cell_type": "code",
   "execution_count": 4,
   "metadata": {
    "hideCode": true,
    "slideshow": {
     "slide_type": "fragment"
    }
   },
   "outputs": [
    {
     "name": "stdout",
     "output_type": "stream",
     "text": [
      "                    Value\n",
      "DoF            -63.000000\n",
      "DoF Baseline    66.000000\n",
      "chi2             0.000127\n",
      "chi2 p-value          NaN\n",
      "chi2 Baseline  642.353231\n",
      "CFI              0.890692\n",
      "GFI              1.000000\n",
      "AGFI             1.000000\n",
      "NFI              1.000000\n",
      "TLI              1.114513\n",
      "RMSEA                 NaN\n",
      "AIC            281.999997\n",
      "BIC            646.480412\n",
      "LogLik           0.000001\n"
     ]
    },
    {
     "name": "stderr",
     "output_type": "stream",
     "text": [
      "/home/renato/.virtualenvs/statspsych/lib/python3.8/site-packages/semopy/stats.py:386: RuntimeWarning: invalid value encountered in sqrt\n",
      "  return np.sqrt((chi2 / dof - 1) / (model.n_samples - 1))\n"
     ]
    }
   ],
   "source": [
    "stats = semopy.calc_stats(measure_model)\n",
    "print(stats.T)"
   ]
  },
  {
   "cell_type": "markdown",
   "metadata": {
    "slideshow": {
     "slide_type": "fragment"
    }
   },
   "source": [
    "Podemos apreciar un muy buen ajuste del modelo a partir de los indicadores $X^{2}$, CFI y RMSEA."
   ]
  },
  {
   "cell_type": "markdown",
   "metadata": {
    "slideshow": {
     "slide_type": "slide"
    }
   },
   "source": [
    "## Especificación el modelo estructural\n",
    "\n",
    "Consiste en **especificar el modelo estructural asignando relaciones de un constructo a otro con base en el modelo teórico propuesto**.\n",
    "\n",
    "En otras palabras, el **investigador identifica las relaciones de dependencia que se supone que existen entre los constructos, y cada hipótesis representa una relación específica que debe especificarse**. Las relaciones muestran cómo un constructo influye en otro y puede ser directo o indirecto. Por tanto, el modelo muestra todas las relaciones de dependencia que existen entre los constructos.\n",
    "\n",
    "Veamos como esto aplica a nuestro ejemplo:\n"
   ]
  },
  {
   "cell_type": "code",
   "execution_count": 5,
   "metadata": {
    "hideCode": true,
    "slideshow": {
     "slide_type": "subslide"
    }
   },
   "outputs": [
    {
     "data": {
      "image/svg+xml": [
       "<?xml version=\"1.0\" encoding=\"UTF-8\" standalone=\"no\"?>\n",
       "<!DOCTYPE svg PUBLIC \"-//W3C//DTD SVG 1.1//EN\"\n",
       " \"http://www.w3.org/Graphics/SVG/1.1/DTD/svg11.dtd\">\n",
       "<!-- Generated by graphviz version 2.43.0 (0)\n",
       " -->\n",
       "<!-- Title: G Pages: 1 -->\n",
       "<svg width=\"630pt\" height=\"551pt\"\n",
       " viewBox=\"0.00 0.00 630.00 551.06\" xmlns=\"http://www.w3.org/2000/svg\" xmlns:xlink=\"http://www.w3.org/1999/xlink\">\n",
       "<g id=\"graph0\" class=\"graph\" transform=\"scale(1 1) rotate(0) translate(4 547.06)\">\n",
       "<title>G</title>\n",
       "<polygon fill=\"white\" stroke=\"transparent\" points=\"-4,4 -4,-547.06 626,-547.06 626,4 -4,4\"/>\n",
       "<!-- Work_Environment -->\n",
       "<g id=\"node1\" class=\"node\">\n",
       "<title>Work_Environment</title>\n",
       "<ellipse fill=\"#cae6df\" stroke=\"black\" cx=\"415\" cy=\"-461.82\" rx=\"81.49\" ry=\"81.49\"/>\n",
       "<text text-anchor=\"middle\" x=\"415\" y=\"-458.12\" font-family=\"Times,serif\" font-size=\"14.00\">Work_Environment</text>\n",
       "</g>\n",
       "<!-- Job_Satisfaction -->\n",
       "<g id=\"node2\" class=\"node\">\n",
       "<title>Job_Satisfaction</title>\n",
       "<ellipse fill=\"#cae6df\" stroke=\"black\" cx=\"135\" cy=\"-140.89\" rx=\"68.79\" ry=\"68.79\"/>\n",
       "<text text-anchor=\"middle\" x=\"135\" y=\"-137.19\" font-family=\"Times,serif\" font-size=\"14.00\">Job_Satisfaction</text>\n",
       "</g>\n",
       "<!-- Work_Environment&#45;&gt;Job_Satisfaction -->\n",
       "<g id=\"edge2\" class=\"edge\">\n",
       "<title>Work_Environment&#45;&gt;Job_Satisfaction</title>\n",
       "<path fill=\"none\" stroke=\"black\" d=\"M340.74,-427.99C302.8,-408.23 258.18,-380.02 227,-344.58 194.67,-307.84 171.82,-257.85 156.97,-216.71\"/>\n",
       "<polygon fill=\"black\" stroke=\"black\" points=\"160.27,-215.54 153.65,-207.27 153.67,-217.86 160.27,-215.54\"/>\n",
       "</g>\n",
       "<!-- Coworkers -->\n",
       "<g id=\"node3\" class=\"node\">\n",
       "<title>Coworkers</title>\n",
       "<ellipse fill=\"#cae6df\" stroke=\"black\" cx=\"285\" cy=\"-295.18\" rx=\"49.29\" ry=\"49.29\"/>\n",
       "<text text-anchor=\"middle\" x=\"285\" y=\"-291.48\" font-family=\"Times,serif\" font-size=\"14.00\">Coworkers</text>\n",
       "</g>\n",
       "<!-- Work_Environment&#45;&gt;Coworkers -->\n",
       "<g id=\"edge15\" class=\"edge\">\n",
       "<title>Work_Environment&#45;&gt;Coworkers</title>\n",
       "<path fill=\"none\" stroke=\"black\" stroke-dasharray=\"5,2\" d=\"M358.77,-389.61C346.19,-373.68 333.17,-357.19 321.63,-342.58\"/>\n",
       "<polygon fill=\"black\" stroke=\"black\" points=\"356.17,-391.96 365.11,-397.64 361.66,-387.62 356.17,-391.96\"/>\n",
       "<polygon fill=\"black\" stroke=\"black\" points=\"324.33,-340.35 315.39,-334.67 318.84,-344.68 324.33,-340.35\"/>\n",
       "</g>\n",
       "<!-- x5 -->\n",
       "<g id=\"node11\" class=\"node\">\n",
       "<title>x5</title>\n",
       "<polygon fill=\"none\" stroke=\"black\" points=\"406,-313.18 352,-313.18 352,-277.18 406,-277.18 406,-313.18\"/>\n",
       "<text text-anchor=\"middle\" x=\"379\" y=\"-291.48\" font-family=\"Times,serif\" font-size=\"14.00\">x5</text>\n",
       "</g>\n",
       "<!-- Work_Environment&#45;&gt;x5 -->\n",
       "<g id=\"edge3\" class=\"edge\">\n",
       "<title>Work_Environment&#45;&gt;x5</title>\n",
       "<path fill=\"none\" stroke=\"black\" d=\"M397.84,-382.36C393.18,-361.03 388.44,-339.35 384.88,-323.07\"/>\n",
       "<polygon fill=\"black\" stroke=\"black\" points=\"388.28,-322.23 382.72,-313.21 381.44,-323.73 388.28,-322.23\"/>\n",
       "</g>\n",
       "<!-- x6 -->\n",
       "<g id=\"node12\" class=\"node\">\n",
       "<title>x6</title>\n",
       "<polygon fill=\"none\" stroke=\"black\" points=\"478,-313.18 424,-313.18 424,-277.18 478,-277.18 478,-313.18\"/>\n",
       "<text text-anchor=\"middle\" x=\"451\" y=\"-291.48\" font-family=\"Times,serif\" font-size=\"14.00\">x6</text>\n",
       "</g>\n",
       "<!-- Work_Environment&#45;&gt;x6 -->\n",
       "<g id=\"edge4\" class=\"edge\">\n",
       "<title>Work_Environment&#45;&gt;x6</title>\n",
       "<path fill=\"none\" stroke=\"black\" d=\"M432.16,-382.36C436.82,-361.03 441.56,-339.35 445.12,-323.07\"/>\n",
       "<polygon fill=\"black\" stroke=\"black\" points=\"448.56,-323.73 447.28,-313.21 441.72,-322.23 448.56,-323.73\"/>\n",
       "</g>\n",
       "<!-- x7 -->\n",
       "<g id=\"node13\" class=\"node\">\n",
       "<title>x7</title>\n",
       "<polygon fill=\"none\" stroke=\"black\" points=\"550,-313.18 496,-313.18 496,-277.18 550,-277.18 550,-313.18\"/>\n",
       "<text text-anchor=\"middle\" x=\"523\" y=\"-291.48\" font-family=\"Times,serif\" font-size=\"14.00\">x7</text>\n",
       "</g>\n",
       "<!-- Work_Environment&#45;&gt;x7 -->\n",
       "<g id=\"edge5\" class=\"edge\">\n",
       "<title>Work_Environment&#45;&gt;x7</title>\n",
       "<path fill=\"none\" stroke=\"black\" d=\"M459.24,-393.38C475.83,-368.08 493.7,-340.85 506.29,-321.66\"/>\n",
       "<polygon fill=\"black\" stroke=\"black\" points=\"509.29,-323.47 511.84,-313.19 503.43,-319.63 509.29,-323.47\"/>\n",
       "</g>\n",
       "<!-- x8 -->\n",
       "<g id=\"node14\" class=\"node\">\n",
       "<title>x8</title>\n",
       "<polygon fill=\"none\" stroke=\"black\" points=\"622,-313.18 568,-313.18 568,-277.18 622,-277.18 622,-313.18\"/>\n",
       "<text text-anchor=\"middle\" x=\"595\" y=\"-291.48\" font-family=\"Times,serif\" font-size=\"14.00\">x8</text>\n",
       "</g>\n",
       "<!-- Work_Environment&#45;&gt;x8 -->\n",
       "<g id=\"edge6\" class=\"edge\">\n",
       "<title>Work_Environment&#45;&gt;x8</title>\n",
       "<path fill=\"none\" stroke=\"black\" d=\"M480.71,-413.43C506.38,-393.51 535.29,-369.25 559,-344.58 565.57,-337.74 572,-329.69 577.56,-322.13\"/>\n",
       "<polygon fill=\"black\" stroke=\"black\" points=\"580.69,-323.76 583.65,-313.59 575,-319.7 580.69,-323.76\"/>\n",
       "</g>\n",
       "<!-- x13 -->\n",
       "<g id=\"node7\" class=\"node\">\n",
       "<title>x13</title>\n",
       "<polygon fill=\"none\" stroke=\"black\" points=\"54,-36 0,-36 0,0 54,0 54,-36\"/>\n",
       "<text text-anchor=\"middle\" x=\"27\" y=\"-14.3\" font-family=\"Times,serif\" font-size=\"14.00\">x13</text>\n",
       "</g>\n",
       "<!-- Job_Satisfaction&#45;&gt;x13 -->\n",
       "<g id=\"edge11\" class=\"edge\">\n",
       "<title>Job_Satisfaction&#45;&gt;x13</title>\n",
       "<path fill=\"none\" stroke=\"black\" d=\"M89.51,-88.97C75.57,-73.37 60.86,-56.9 49.21,-43.86\"/>\n",
       "<polygon fill=\"black\" stroke=\"black\" points=\"51.65,-41.34 42.38,-36.22 46.43,-46.01 51.65,-41.34\"/>\n",
       "</g>\n",
       "<!-- x14 -->\n",
       "<g id=\"node8\" class=\"node\">\n",
       "<title>x14</title>\n",
       "<polygon fill=\"none\" stroke=\"black\" points=\"126,-36 72,-36 72,0 126,0 126,-36\"/>\n",
       "<text text-anchor=\"middle\" x=\"99\" y=\"-14.3\" font-family=\"Times,serif\" font-size=\"14.00\">x14</text>\n",
       "</g>\n",
       "<!-- Job_Satisfaction&#45;&gt;x14 -->\n",
       "<g id=\"edge12\" class=\"edge\">\n",
       "<title>Job_Satisfaction&#45;&gt;x14</title>\n",
       "<path fill=\"none\" stroke=\"black\" d=\"M115.52,-74.49C112.51,-64.37 109.55,-54.43 106.99,-45.82\"/>\n",
       "<polygon fill=\"black\" stroke=\"black\" points=\"110.29,-44.65 104.08,-36.06 103.58,-46.65 110.29,-44.65\"/>\n",
       "</g>\n",
       "<!-- x15 -->\n",
       "<g id=\"node9\" class=\"node\">\n",
       "<title>x15</title>\n",
       "<polygon fill=\"none\" stroke=\"black\" points=\"198,-36 144,-36 144,0 198,0 198,-36\"/>\n",
       "<text text-anchor=\"middle\" x=\"171\" y=\"-14.3\" font-family=\"Times,serif\" font-size=\"14.00\">x15</text>\n",
       "</g>\n",
       "<!-- Job_Satisfaction&#45;&gt;x15 -->\n",
       "<g id=\"edge13\" class=\"edge\">\n",
       "<title>Job_Satisfaction&#45;&gt;x15</title>\n",
       "<path fill=\"none\" stroke=\"black\" d=\"M154.48,-74.49C157.49,-64.37 160.45,-54.43 163.01,-45.82\"/>\n",
       "<polygon fill=\"black\" stroke=\"black\" points=\"166.42,-46.65 165.92,-36.06 159.71,-44.65 166.42,-46.65\"/>\n",
       "</g>\n",
       "<!-- x16 -->\n",
       "<g id=\"node10\" class=\"node\">\n",
       "<title>x16</title>\n",
       "<polygon fill=\"none\" stroke=\"black\" points=\"270,-36 216,-36 216,0 270,0 270,-36\"/>\n",
       "<text text-anchor=\"middle\" x=\"243\" y=\"-14.3\" font-family=\"Times,serif\" font-size=\"14.00\">x16</text>\n",
       "</g>\n",
       "<!-- Job_Satisfaction&#45;&gt;x16 -->\n",
       "<g id=\"edge14\" class=\"edge\">\n",
       "<title>Job_Satisfaction&#45;&gt;x16</title>\n",
       "<path fill=\"none\" stroke=\"black\" d=\"M180.49,-88.97C194.43,-73.37 209.14,-56.9 220.79,-43.86\"/>\n",
       "<polygon fill=\"black\" stroke=\"black\" points=\"223.57,-46.01 227.62,-36.22 218.35,-41.34 223.57,-46.01\"/>\n",
       "</g>\n",
       "<!-- Coworkers&#45;&gt;Job_Satisfaction -->\n",
       "<g id=\"edge1\" class=\"edge\">\n",
       "<title>Coworkers&#45;&gt;Job_Satisfaction</title>\n",
       "<path fill=\"none\" stroke=\"black\" d=\"M250.59,-259.25C232.64,-241.02 210.25,-218.29 189.97,-197.7\"/>\n",
       "<polygon fill=\"black\" stroke=\"black\" points=\"192.4,-195.19 182.89,-190.52 187.42,-200.1 192.4,-195.19\"/>\n",
       "</g>\n",
       "<!-- x10 -->\n",
       "<g id=\"node4\" class=\"node\">\n",
       "<title>x10</title>\n",
       "<polygon fill=\"none\" stroke=\"black\" points=\"276,-158.89 222,-158.89 222,-122.89 276,-122.89 276,-158.89\"/>\n",
       "<text text-anchor=\"middle\" x=\"249\" y=\"-137.19\" font-family=\"Times,serif\" font-size=\"14.00\">x10</text>\n",
       "</g>\n",
       "<!-- Coworkers&#45;&gt;x10 -->\n",
       "<g id=\"edge8\" class=\"edge\">\n",
       "<title>Coworkers&#45;&gt;x10</title>\n",
       "<path fill=\"none\" stroke=\"black\" d=\"M273.81,-246.83C267.74,-221.17 260.46,-190.39 255.37,-168.83\"/>\n",
       "<polygon fill=\"black\" stroke=\"black\" points=\"258.76,-167.97 253.05,-159.04 251.95,-169.58 258.76,-167.97\"/>\n",
       "</g>\n",
       "<!-- x11 -->\n",
       "<g id=\"node5\" class=\"node\">\n",
       "<title>x11</title>\n",
       "<polygon fill=\"none\" stroke=\"black\" points=\"348,-158.89 294,-158.89 294,-122.89 348,-122.89 348,-158.89\"/>\n",
       "<text text-anchor=\"middle\" x=\"321\" y=\"-137.19\" font-family=\"Times,serif\" font-size=\"14.00\">x11</text>\n",
       "</g>\n",
       "<!-- Coworkers&#45;&gt;x11 -->\n",
       "<g id=\"edge9\" class=\"edge\">\n",
       "<title>Coworkers&#45;&gt;x11</title>\n",
       "<path fill=\"none\" stroke=\"black\" d=\"M296.19,-246.83C302.26,-221.17 309.54,-190.39 314.63,-168.83\"/>\n",
       "<polygon fill=\"black\" stroke=\"black\" points=\"318.05,-169.58 316.95,-159.04 311.24,-167.97 318.05,-169.58\"/>\n",
       "</g>\n",
       "<!-- x12 -->\n",
       "<g id=\"node6\" class=\"node\">\n",
       "<title>x12</title>\n",
       "<polygon fill=\"none\" stroke=\"black\" points=\"420,-158.89 366,-158.89 366,-122.89 420,-122.89 420,-158.89\"/>\n",
       "<text text-anchor=\"middle\" x=\"393\" y=\"-137.19\" font-family=\"Times,serif\" font-size=\"14.00\">x12</text>\n",
       "</g>\n",
       "<!-- Coworkers&#45;&gt;x12 -->\n",
       "<g id=\"edge10\" class=\"edge\">\n",
       "<title>Coworkers&#45;&gt;x12</title>\n",
       "<path fill=\"none\" stroke=\"black\" d=\"M318.37,-258.6C331.21,-244.04 345.52,-226.67 357,-209.79 365.9,-196.69 374.29,-181.13 380.73,-168.22\"/>\n",
       "<polygon fill=\"black\" stroke=\"black\" points=\"384.01,-169.47 385.25,-158.94 377.72,-166.4 384.01,-169.47\"/>\n",
       "</g>\n",
       "<!-- x9 -->\n",
       "<g id=\"node15\" class=\"node\">\n",
       "<title>x9</title>\n",
       "<polygon fill=\"none\" stroke=\"black\" points=\"492,-158.89 438,-158.89 438,-122.89 492,-122.89 492,-158.89\"/>\n",
       "<text text-anchor=\"middle\" x=\"465\" y=\"-137.19\" font-family=\"Times,serif\" font-size=\"14.00\">x9</text>\n",
       "</g>\n",
       "<!-- Coworkers&#45;&gt;x9 -->\n",
       "<g id=\"edge7\" class=\"edge\">\n",
       "<title>Coworkers&#45;&gt;x9</title>\n",
       "<path fill=\"none\" stroke=\"black\" d=\"M321.2,-261.21C328.16,-255.68 335.6,-250.28 343,-245.79 378.41,-224.27 398.4,-237.72 429,-209.79 441.21,-198.64 450.04,-182.38 455.89,-168.56\"/>\n",
       "<polygon fill=\"black\" stroke=\"black\" points=\"459.23,-169.63 459.64,-159.04 452.72,-167.07 459.23,-169.63\"/>\n",
       "</g>\n",
       "</g>\n",
       "</svg>\n"
      ],
      "text/plain": [
       "<graphviz.graphs.Digraph at 0x7f6ce3c8e7c0>"
      ]
     },
     "execution_count": 5,
     "metadata": {},
     "output_type": "execute_result"
    }
   ],
   "source": [
    "simp_struct_desc = '''\n",
    "# Measurement\n",
    "Work_Environment =~ x5 + x6 + x7 + x8\n",
    "Coworkers =~ x9 + x10 + x11 + x12\n",
    "Job_Satisfaction =~ x13 + x14 + x15 + x16\n",
    "\n",
    "DEFINE(ordinal) x5\n",
    "\n",
    "# Structure\n",
    "Job_Satisfaction ~ Coworkers + Work_Environment \n",
    "\n",
    "# Covariances\n",
    "Coworkers ~~ Work_Environment \n",
    "\n",
    "'''\n",
    "\n",
    "g = semopy.semplot(simp_struct_desc, \"out.png\", plot_covs=True)\n",
    "g"
   ]
  },
  {
   "cell_type": "markdown",
   "metadata": {
    "slideshow": {
     "slide_type": "fragment"
    }
   },
   "source": [
    "En nuestro ejemplo especificamos que `Job_Satisfaction` depende de `Coworkers` y `Work_Environment`. A su vez, `Coworkers` y `Work_Environment` covarian.  "
   ]
  },
  {
   "cell_type": "markdown",
   "metadata": {
    "slideshow": {
     "slide_type": "slide"
    }
   },
   "source": [
    "Aunque el enfoque en esta etapa está en el modelo estructural, **la estimación del modelo SEM requiere que también se incluyan las especificaciones de medición**. De esta manera, el diagrama de ruta representa tanto la medición como la parte estructural de SEM en un modelo general.\n",
    "\n",
    "El modelo ya está listo para su estimación. Esto se convierte en la prueba de la teoría general, que incluye tanto las relaciones de medición de los indicadores con los constructos, como las relaciones estructurales hipotetizadas entre los constructos."
   ]
  },
  {
   "cell_type": "markdown",
   "metadata": {
    "slideshow": {
     "slide_type": "slide"
    }
   },
   "source": [
    "## Validez del modelo estructural\n",
    "\n",
    "Implica esfuerzos para **probar la validez del modelo estructural teórico propuesto y examinar las relaciones teóricas incrustadas dentro de esa teoría**.\n",
    "\n",
    "Si el modelo de medición no ha sobrevivido a sus pruebas de ajuste y otros aspectos de validez, no se recomienda evaluar un modelo estructural porque los resultados sugieren que la teoría de medición propuesta es defectuosa. De hecho, si uno no logra un ajuste aceptable para el modelo de medición, el ajuste del modelo no mejorará cuando se agreguen restricciones para representar el modelo estructural teórico.\n",
    "\n",
    "**Solo cuando el modelo de medición se valida por primera vez y logra un ajuste de modelo aceptable, podemos dirigir nuestra atención a una prueba de las relaciones estructurales**.\n"
   ]
  },
  {
   "cell_type": "markdown",
   "metadata": {
    "slideshow": {
     "slide_type": "subslide"
    }
   },
   "source": [
    "Surgen dos diferencias clave al probar el ajuste de un modelo estructural en relación con un modelo de medición. \n",
    "\n",
    "En primer lugar, aunque se debe volver a establecer un ajuste general aceptable del modelo, **se fomentan modelos teóricos alternativos o competidores para respaldar la superioridad de un modelo**. \n",
    "\n",
    "En segundo lugar, **las estimaciones de los parámetros para las relaciones estructurales se convierten en un foco si el ajuste es suficiente porque proporcionan evidencia empírica directa relacionada con las relaciones hipotéticas implícitas en el modelo teórico propuesto**."
   ]
  },
  {
   "cell_type": "markdown",
   "metadata": {
    "slideshow": {
     "slide_type": "subslide"
    }
   },
   "source": [
    "El proceso de establecer la validez del modelo estructural sigue las pautas generales descritas para el modelo de medición. Los datos observados todavía están representados por la matriz de covarianza de la muestra observada. Sin embargo, **se calcula una nueva matriz de covarianza estimada de SEM en función de las restricciones agregadas al modelo de medición necesarias para convertirlo en el modelo estructural propuesto**.\n",
    "\n",
    "**El ajuste general se puede evaluar utilizando los mismos criterios que el modelo de medición**: utilizando el valor $ X^{2} $ para el modelo estructural y al menos un índice absoluto y un índice incremental. \n",
    "\n",
    "Estas medidas establecen la validez del modelo estructural, pero las comparaciones entre el ajuste general también deben realizarse con el modelo de medición. Generalmente, **cuanto más se acerca el modelo estructural GOF al modelo de medición, mejor se ajusta al modelo estructural, porque el ajuste del modelo de medición proporciona un límite superior al GOF de un modelo estructural convencional**."
   ]
  },
  {
   "cell_type": "markdown",
   "metadata": {
    "slideshow": {
     "slide_type": "subslide"
    }
   },
   "source": [
    "También debemos **examinar las estimaciones de los parámetros individuales que representan cada vínculo o \"ruta\"**. Las rutas ilimitadas de un modelo teórico se consideran válidas en la medida en que las estimaciones de los parámetros sean:\n",
    "- **Estadísticamente significativo y en la dirección prevista**. Es decir, son mayores que cero para una relación positiva y menores que cero para una relación negativa.\n",
    "- **No trivial**. Se debe verificar la importancia práctica de los tamaños del efecto utilizando estimaciones de carga completamente estandarizadas. Los coeficientes pueden ser estadísticamente significativos pero prácticamente insignificantes, sobre todo a medida que las muestras aumentan de tamaño."
   ]
  },
  {
   "cell_type": "markdown",
   "metadata": {
    "slideshow": {
     "slide_type": "slide"
    }
   },
   "source": [
    "Validemos el modelo estructural de nuestro ejemplo:"
   ]
  },
  {
   "cell_type": "code",
   "execution_count": 6,
   "metadata": {
    "hideCode": false,
    "slideshow": {
     "slide_type": "skip"
    }
   },
   "outputs": [],
   "source": [
    "struct_desc = '''\n",
    "# Measurement\n",
    "Work_Environment =~ x5 + x6 + x7 + x8\n",
    "Coworkers =~ x9 + x10 + x11 + x12\n",
    "Job_Satisfaction =~ x13 + x14 + x15 + x16\n",
    "\n",
    "DEFINE(ordinal) x5\n",
    "\n",
    "e5 =~ x5\n",
    "e6 =~ x6\n",
    "e7 =~ x7\n",
    "e8 =~ x8\n",
    "e9 =~ x9\n",
    "e10 =~ x10\n",
    "e11 =~ x11\n",
    "e12 =~ x12\n",
    "e13 =~ x13\n",
    "e14 =~ x14\n",
    "e15 =~ x15\n",
    "e16 =~ x16\n",
    "\n",
    "# Structure\n",
    "Job_Satisfaction ~ Coworkers + Work_Environment \n",
    "\n",
    "# Covariances\n",
    "Coworkers ~~ Work_Environment \n",
    "\n",
    "'''\n",
    "\n",
    "struct_model = semopy.Model(struct_desc)\n",
    "res = struct_model.fit(df)"
   ]
  },
  {
   "cell_type": "code",
   "execution_count": 7,
   "metadata": {
    "hideCode": true,
    "slideshow": {
     "slide_type": "fragment"
    }
   },
   "outputs": [
    {
     "name": "stdout",
     "output_type": "stream",
     "text": [
      "                    Value\n",
      "DoF            -51.000000\n",
      "DoF Baseline    66.000000\n",
      "chi2             0.000238\n",
      "chi2 p-value          NaN\n",
      "chi2 Baseline  642.353231\n",
      "CFI              0.911512\n",
      "GFI              1.000000\n",
      "AGFI             1.000000\n",
      "NFI              1.000000\n",
      "TLI              1.114514\n",
      "RMSEA                 NaN\n",
      "AIC            257.999995\n",
      "BIC            591.460800\n",
      "LogLik           0.000002\n"
     ]
    },
    {
     "name": "stderr",
     "output_type": "stream",
     "text": [
      "/home/renato/.virtualenvs/statspsych/lib/python3.8/site-packages/semopy/stats.py:386: RuntimeWarning: invalid value encountered in sqrt\n",
      "  return np.sqrt((chi2 / dof - 1) / (model.n_samples - 1))\n"
     ]
    }
   ],
   "source": [
    "stats = semopy.calc_stats(struct_model)\n",
    "print(stats.T)"
   ]
  },
  {
   "cell_type": "markdown",
   "metadata": {
    "slideshow": {
     "slide_type": "fragment"
    }
   },
   "source": [
    "Al igual que en el modelo de medición, el modelo presenta un buen ajuste. Incluso podemos apreciar una mejora en el indicador CFI."
   ]
  },
  {
   "cell_type": "markdown",
   "metadata": {
    "slideshow": {
     "slide_type": "subslide"
    }
   },
   "source": [
    "Procedamos ahora a examinar las estimaciones de los parámetros:"
   ]
  },
  {
   "cell_type": "code",
   "execution_count": 8,
   "metadata": {
    "hideCode": true,
    "slideshow": {
     "slide_type": "fragment"
    }
   },
   "outputs": [
    {
     "name": "stderr",
     "output_type": "stream",
     "text": [
      "WARNING:root:Fisher Information Matrix is not PD.Moore-Penrose inverse will be used instead of Cholesky decomposition. See 10.1109/TSP.2012.2208105.\n"
     ]
    },
    {
     "data": {
      "image/svg+xml": [
       "<?xml version=\"1.0\" encoding=\"UTF-8\" standalone=\"no\"?>\n",
       "<!DOCTYPE svg PUBLIC \"-//W3C//DTD SVG 1.1//EN\"\n",
       " \"http://www.w3.org/Graphics/SVG/1.1/DTD/svg11.dtd\">\n",
       "<!-- Generated by graphviz version 2.43.0 (0)\n",
       " -->\n",
       "<!-- Title: G Pages: 1 -->\n",
       "<svg width=\"1218pt\" height=\"468pt\"\n",
       " viewBox=\"0.00 0.00 1217.80 468.27\" xmlns=\"http://www.w3.org/2000/svg\" xmlns:xlink=\"http://www.w3.org/1999/xlink\">\n",
       "<g id=\"graph0\" class=\"graph\" transform=\"scale(1 1) rotate(0) translate(4 464.27)\">\n",
       "<title>G</title>\n",
       "<polygon fill=\"white\" stroke=\"transparent\" points=\"-4,4 -4,-464.27 1213.8,-464.27 1213.8,4 -4,4\"/>\n",
       "<!-- e14 -->\n",
       "<g id=\"node1\" class=\"node\">\n",
       "<title>e14</title>\n",
       "<ellipse fill=\"#cae6df\" stroke=\"black\" cx=\"106.4\" cy=\"-166.89\" rx=\"23.3\" ry=\"23.3\"/>\n",
       "<text text-anchor=\"middle\" x=\"106.4\" y=\"-163.19\" font-family=\"Times,serif\" font-size=\"14.00\">e14</text>\n",
       "</g>\n",
       "<!-- x14 -->\n",
       "<g id=\"node20\" class=\"node\">\n",
       "<title>x14</title>\n",
       "<polygon fill=\"none\" stroke=\"black\" points=\"170.4,-36 116.4,-36 116.4,0 170.4,0 170.4,-36\"/>\n",
       "<text text-anchor=\"middle\" x=\"143.4\" y=\"-14.3\" font-family=\"Times,serif\" font-size=\"14.00\">x14</text>\n",
       "</g>\n",
       "<!-- e14&#45;&gt;x14 -->\n",
       "<g id=\"edge22\" class=\"edge\">\n",
       "<title>e14&#45;&gt;x14</title>\n",
       "<path fill=\"none\" stroke=\"black\" d=\"M111.94,-143.9C118.52,-117.79 129.49,-74.22 136.58,-46.06\"/>\n",
       "<polygon fill=\"black\" stroke=\"black\" points=\"140.04,-46.65 139.09,-36.09 133.26,-44.94 140.04,-46.65\"/>\n",
       "<text text-anchor=\"middle\" x=\"149.4\" y=\"-63.9\" font-family=\"Times,serif\" font-size=\"12.00\">0.332</text>\n",
       "</g>\n",
       "<!-- Work_Environment -->\n",
       "<g id=\"node2\" class=\"node\">\n",
       "<title>Work_Environment</title>\n",
       "<ellipse fill=\"#cae6df\" stroke=\"black\" cx=\"382.4\" cy=\"-379.03\" rx=\"81.49\" ry=\"81.49\"/>\n",
       "<text text-anchor=\"middle\" x=\"382.4\" y=\"-375.33\" font-family=\"Times,serif\" font-size=\"14.00\">Work_Environment</text>\n",
       "</g>\n",
       "<!-- Job_Satisfaction -->\n",
       "<g id=\"node7\" class=\"node\">\n",
       "<title>Job_Satisfaction</title>\n",
       "<ellipse fill=\"#cae6df\" stroke=\"black\" cx=\"539.4\" cy=\"-166.89\" rx=\"68.79\" ry=\"68.79\"/>\n",
       "<text text-anchor=\"middle\" x=\"539.4\" y=\"-163.19\" font-family=\"Times,serif\" font-size=\"14.00\">Job_Satisfaction</text>\n",
       "</g>\n",
       "<!-- Work_Environment&#45;&gt;Job_Satisfaction -->\n",
       "<g id=\"edge2\" class=\"edge\">\n",
       "<title>Work_Environment&#45;&gt;Job_Satisfaction</title>\n",
       "<path fill=\"none\" stroke=\"black\" d=\"M440.84,-322.51C451.04,-313.82 461.79,-305.26 472.4,-297.79 486.06,-288.17 494.85,-292.74 505.4,-279.79 513.72,-269.56 520.01,-257.32 524.76,-244.75\"/>\n",
       "<polygon fill=\"black\" stroke=\"black\" points=\"528.14,-245.69 528.1,-235.1 521.52,-243.4 528.14,-245.69\"/>\n",
       "<text text-anchor=\"middle\" x=\"546.4\" y=\"-270.19\" font-family=\"Times,serif\" font-size=\"12.00\">0.732</text>\n",
       "<text text-anchor=\"middle\" x=\"546.4\" y=\"-257.19\" font-family=\"Times,serif\" font-size=\"12.00\">p&#45;val: 0.00</text>\n",
       "</g>\n",
       "<!-- x5 -->\n",
       "<g id=\"node23\" class=\"node\">\n",
       "<title>x5</title>\n",
       "<polygon fill=\"none\" stroke=\"black\" points=\"274.4,-184.89 220.4,-184.89 220.4,-148.89 274.4,-148.89 274.4,-184.89\"/>\n",
       "<text text-anchor=\"middle\" x=\"247.4\" y=\"-163.19\" font-family=\"Times,serif\" font-size=\"14.00\">x5</text>\n",
       "</g>\n",
       "<!-- Work_Environment&#45;&gt;x5 -->\n",
       "<g id=\"edge3\" class=\"edge\">\n",
       "<title>Work_Environment&#45;&gt;x5</title>\n",
       "<path fill=\"none\" stroke=\"black\" d=\"M322.76,-323.03C312.79,-314.38 302.43,-305.69 292.4,-297.79 281.35,-289.09 273.94,-291.65 266.4,-279.79 250.25,-254.42 246.61,-219.53 246.29,-195.48\"/>\n",
       "<polygon fill=\"black\" stroke=\"black\" points=\"249.79,-195.29 246.35,-185.27 242.79,-195.25 249.79,-195.29\"/>\n",
       "<text text-anchor=\"middle\" x=\"280.4\" y=\"-263.69\" font-family=\"Times,serif\" font-size=\"12.00\">0.724</text>\n",
       "</g>\n",
       "<!-- x6 -->\n",
       "<g id=\"node24\" class=\"node\">\n",
       "<title>x6</title>\n",
       "<polygon fill=\"none\" stroke=\"black\" points=\"452.4,-184.89 398.4,-184.89 398.4,-148.89 452.4,-148.89 452.4,-184.89\"/>\n",
       "<text text-anchor=\"middle\" x=\"425.4\" y=\"-163.19\" font-family=\"Times,serif\" font-size=\"14.00\">x6</text>\n",
       "</g>\n",
       "<!-- Work_Environment&#45;&gt;x6 -->\n",
       "<g id=\"edge5\" class=\"edge\">\n",
       "<title>Work_Environment&#45;&gt;x6</title>\n",
       "<path fill=\"none\" stroke=\"black\" d=\"M399.31,-299.5C400.7,-292.83 402.08,-286.19 403.4,-279.79 409.34,-250.82 415.84,-217.57 420.22,-194.89\"/>\n",
       "<polygon fill=\"black\" stroke=\"black\" points=\"423.67,-195.45 422.13,-184.97 416.8,-194.13 423.67,-195.45\"/>\n",
       "<text text-anchor=\"middle\" x=\"434.4\" y=\"-270.19\" font-family=\"Times,serif\" font-size=\"12.00\">&#45;1.179</text>\n",
       "<text text-anchor=\"middle\" x=\"434.4\" y=\"-257.19\" font-family=\"Times,serif\" font-size=\"12.00\">p&#45;val: 0.00</text>\n",
       "</g>\n",
       "<!-- x7 -->\n",
       "<g id=\"node25\" class=\"node\">\n",
       "<title>x7</title>\n",
       "<polygon fill=\"none\" stroke=\"black\" points=\"201.4,-184.89 147.4,-184.89 147.4,-148.89 201.4,-148.89 201.4,-184.89\"/>\n",
       "<text text-anchor=\"middle\" x=\"174.4\" y=\"-163.19\" font-family=\"Times,serif\" font-size=\"14.00\">x7</text>\n",
       "</g>\n",
       "<!-- Work_Environment&#45;&gt;x7 -->\n",
       "<g id=\"edge7\" class=\"edge\">\n",
       "<title>Work_Environment&#45;&gt;x7</title>\n",
       "<path fill=\"none\" stroke=\"black\" d=\"M326.22,-319.95C315.67,-311.47 304.22,-303.64 292.4,-297.79 254.67,-279.11 229.59,-309.13 199.4,-279.79 176.91,-257.94 172.63,-220.62 172.67,-195.14\"/>\n",
       "<polygon fill=\"black\" stroke=\"black\" points=\"176.17,-195.1 172.91,-185.02 169.17,-194.94 176.17,-195.1\"/>\n",
       "<text text-anchor=\"middle\" x=\"225.4\" y=\"-270.19\" font-family=\"Times,serif\" font-size=\"12.00\">&#45;0.074</text>\n",
       "<text text-anchor=\"middle\" x=\"225.4\" y=\"-257.19\" font-family=\"Times,serif\" font-size=\"12.00\">p&#45;val: 0.12</text>\n",
       "</g>\n",
       "<!-- x8 -->\n",
       "<g id=\"node26\" class=\"node\">\n",
       "<title>x8</title>\n",
       "<polygon fill=\"none\" stroke=\"black\" points=\"362.4,-184.89 308.4,-184.89 308.4,-148.89 362.4,-148.89 362.4,-184.89\"/>\n",
       "<text text-anchor=\"middle\" x=\"335.4\" y=\"-163.19\" font-family=\"Times,serif\" font-size=\"14.00\">x8</text>\n",
       "</g>\n",
       "<!-- Work_Environment&#45;&gt;x8 -->\n",
       "<g id=\"edge9\" class=\"edge\">\n",
       "<title>Work_Environment&#45;&gt;x8</title>\n",
       "<path fill=\"none\" stroke=\"black\" d=\"M353.63,-302.94C351.27,-295.19 349.13,-287.38 347.4,-279.79 340.9,-251.34 337.9,-218 336.53,-195.16\"/>\n",
       "<polygon fill=\"black\" stroke=\"black\" points=\"340.02,-194.96 335.99,-185.16 333.03,-195.34 340.02,-194.96\"/>\n",
       "<text text-anchor=\"middle\" x=\"373.4\" y=\"-270.19\" font-family=\"Times,serif\" font-size=\"12.00\">&#45;0.742</text>\n",
       "<text text-anchor=\"middle\" x=\"373.4\" y=\"-257.19\" font-family=\"Times,serif\" font-size=\"12.00\">p&#45;val: 0.00</text>\n",
       "</g>\n",
       "<!-- Coworkers -->\n",
       "<g id=\"node3\" class=\"node\">\n",
       "<title>Coworkers</title>\n",
       "<ellipse fill=\"#cae6df\" stroke=\"black\" cx=\"969.4\" cy=\"-379.03\" rx=\"49.29\" ry=\"49.29\"/>\n",
       "<text text-anchor=\"middle\" x=\"969.4\" y=\"-375.33\" font-family=\"Times,serif\" font-size=\"14.00\">Coworkers</text>\n",
       "</g>\n",
       "<!-- Coworkers&#45;&gt;Job_Satisfaction -->\n",
       "<g id=\"edge1\" class=\"edge\">\n",
       "<title>Coworkers&#45;&gt;Job_Satisfaction</title>\n",
       "<path fill=\"none\" stroke=\"black\" d=\"M947.56,-334.63C938.32,-320.62 926.23,-306.48 911.4,-297.79 851.18,-262.51 821.55,-302.03 755.4,-279.79 733.87,-272.55 732.64,-261.82 711.4,-253.79 671.61,-238.75 655.65,-254.39 617.4,-235.79 610.13,-232.25 603.01,-227.86 596.21,-223.03\"/>\n",
       "<polygon fill=\"black\" stroke=\"black\" points=\"597.87,-219.9 587.77,-216.7 593.67,-225.5 597.87,-219.9\"/>\n",
       "<text text-anchor=\"middle\" x=\"781.4\" y=\"-270.19\" font-family=\"Times,serif\" font-size=\"12.00\">&#45;0.259</text>\n",
       "<text text-anchor=\"middle\" x=\"781.4\" y=\"-257.19\" font-family=\"Times,serif\" font-size=\"12.00\">p&#45;val: 0.00</text>\n",
       "</g>\n",
       "<!-- x10 -->\n",
       "<g id=\"node16\" class=\"node\">\n",
       "<title>x10</title>\n",
       "<polygon fill=\"none\" stroke=\"black\" points=\"1068.4,-184.89 1014.4,-184.89 1014.4,-148.89 1068.4,-148.89 1068.4,-184.89\"/>\n",
       "<text text-anchor=\"middle\" x=\"1041.4\" y=\"-163.19\" font-family=\"Times,serif\" font-size=\"14.00\">x10</text>\n",
       "</g>\n",
       "<!-- Coworkers&#45;&gt;x10 -->\n",
       "<g id=\"edge13\" class=\"edge\">\n",
       "<title>Coworkers&#45;&gt;x10</title>\n",
       "<path fill=\"none\" stroke=\"black\" d=\"M975.05,-329.87C978.71,-306.44 984.5,-278.14 993.4,-253.79 1001.16,-232.53 1013.74,-210.28 1024.08,-193.74\"/>\n",
       "<polygon fill=\"black\" stroke=\"black\" points=\"1027.11,-195.5 1029.54,-185.19 1021.21,-191.73 1027.11,-195.5\"/>\n",
       "<text text-anchor=\"middle\" x=\"1019.4\" y=\"-270.19\" font-family=\"Times,serif\" font-size=\"12.00\">0.510</text>\n",
       "<text text-anchor=\"middle\" x=\"1019.4\" y=\"-257.19\" font-family=\"Times,serif\" font-size=\"12.00\">p&#45;val: 0.00</text>\n",
       "</g>\n",
       "<!-- x11 -->\n",
       "<g id=\"node17\" class=\"node\">\n",
       "<title>x11</title>\n",
       "<polygon fill=\"none\" stroke=\"black\" points=\"1156.4,-184.89 1102.4,-184.89 1102.4,-148.89 1156.4,-148.89 1156.4,-184.89\"/>\n",
       "<text text-anchor=\"middle\" x=\"1129.4\" y=\"-163.19\" font-family=\"Times,serif\" font-size=\"14.00\">x11</text>\n",
       "</g>\n",
       "<!-- Coworkers&#45;&gt;x11 -->\n",
       "<g id=\"edge15\" class=\"edge\">\n",
       "<title>Coworkers&#45;&gt;x11</title>\n",
       "<path fill=\"none\" stroke=\"black\" d=\"M993.36,-335.38C1002.78,-321.77 1014.64,-307.69 1028.4,-297.79 1049.62,-282.52 1065.26,-297.6 1084.4,-279.79 1108.4,-257.44 1119.88,-220.55 1125.17,-195.28\"/>\n",
       "<polygon fill=\"black\" stroke=\"black\" points=\"1128.65,-195.72 1127.08,-185.24 1121.77,-194.41 1128.65,-195.72\"/>\n",
       "<text text-anchor=\"middle\" x=\"1129.4\" y=\"-270.19\" font-family=\"Times,serif\" font-size=\"12.00\">0.691</text>\n",
       "<text text-anchor=\"middle\" x=\"1129.4\" y=\"-257.19\" font-family=\"Times,serif\" font-size=\"12.00\">p&#45;val: 0.00</text>\n",
       "</g>\n",
       "<!-- x12 -->\n",
       "<g id=\"node18\" class=\"node\">\n",
       "<title>x12</title>\n",
       "<polygon fill=\"none\" stroke=\"black\" points=\"835.4,-184.89 781.4,-184.89 781.4,-148.89 835.4,-148.89 835.4,-184.89\"/>\n",
       "<text text-anchor=\"middle\" x=\"808.4\" y=\"-163.19\" font-family=\"Times,serif\" font-size=\"14.00\">x12</text>\n",
       "</g>\n",
       "<!-- Coworkers&#45;&gt;x12 -->\n",
       "<g id=\"edge17\" class=\"edge\">\n",
       "<title>Coworkers&#45;&gt;x12</title>\n",
       "<path fill=\"none\" stroke=\"black\" d=\"M946.81,-334.98C937.57,-321.17 925.66,-307.07 911.4,-297.79 879.03,-276.73 853.02,-307.76 826.4,-279.79 805.15,-257.47 803.16,-220.58 804.82,-195.3\"/>\n",
       "<polygon fill=\"black\" stroke=\"black\" points=\"808.32,-195.52 805.71,-185.25 801.34,-194.9 808.32,-195.52\"/>\n",
       "<text text-anchor=\"middle\" x=\"852.4\" y=\"-270.19\" font-family=\"Times,serif\" font-size=\"12.00\">0.196</text>\n",
       "<text text-anchor=\"middle\" x=\"852.4\" y=\"-257.19\" font-family=\"Times,serif\" font-size=\"12.00\">p&#45;val: 0.00</text>\n",
       "</g>\n",
       "<!-- x9 -->\n",
       "<g id=\"node27\" class=\"node\">\n",
       "<title>x9</title>\n",
       "<polygon fill=\"none\" stroke=\"black\" points=\"936.4,-184.89 882.4,-184.89 882.4,-148.89 936.4,-148.89 936.4,-184.89\"/>\n",
       "<text text-anchor=\"middle\" x=\"909.4\" y=\"-163.19\" font-family=\"Times,serif\" font-size=\"14.00\">x9</text>\n",
       "</g>\n",
       "<!-- Coworkers&#45;&gt;x9 -->\n",
       "<g id=\"edge11\" class=\"edge\">\n",
       "<title>Coworkers&#45;&gt;x9</title>\n",
       "<path fill=\"none\" stroke=\"black\" d=\"M952.48,-332.37C946.68,-315.91 940.4,-297.13 935.4,-279.79 927.15,-251.17 919.67,-217.86 914.88,-195.07\"/>\n",
       "<polygon fill=\"black\" stroke=\"black\" points=\"918.27,-194.18 912.81,-185.1 911.41,-195.6 918.27,-194.18\"/>\n",
       "<text text-anchor=\"middle\" x=\"949.4\" y=\"-263.69\" font-family=\"Times,serif\" font-size=\"12.00\">0.566</text>\n",
       "</g>\n",
       "<!-- e7 -->\n",
       "<g id=\"node4\" class=\"node\">\n",
       "<title>e7</title>\n",
       "<ellipse fill=\"#cae6df\" stroke=\"black\" cx=\"66.4\" cy=\"-379.03\" rx=\"18.7\" ry=\"18.7\"/>\n",
       "<text text-anchor=\"middle\" x=\"66.4\" y=\"-375.33\" font-family=\"Times,serif\" font-size=\"14.00\">e7</text>\n",
       "</g>\n",
       "<!-- e7&#45;&gt;x7 -->\n",
       "<g id=\"edge8\" class=\"edge\">\n",
       "<title>e7&#45;&gt;x7</title>\n",
       "<path fill=\"none\" stroke=\"black\" d=\"M61.44,-360.57C55.14,-334.3 47.79,-284.44 72.4,-253.79 91.43,-230.08 114.66,-254.78 138.4,-235.79 151.48,-225.33 160.38,-208.8 166.07,-194.67\"/>\n",
       "<polygon fill=\"black\" stroke=\"black\" points=\"169.48,-195.52 169.65,-184.93 162.91,-193.11 169.48,-195.52\"/>\n",
       "<text text-anchor=\"middle\" x=\"86.4\" y=\"-263.69\" font-family=\"Times,serif\" font-size=\"12.00\">0.605</text>\n",
       "</g>\n",
       "<!-- e15 -->\n",
       "<g id=\"node5\" class=\"node\">\n",
       "<title>e15</title>\n",
       "<ellipse fill=\"#cae6df\" stroke=\"black\" cx=\"740.4\" cy=\"-166.89\" rx=\"23.3\" ry=\"23.3\"/>\n",
       "<text text-anchor=\"middle\" x=\"740.4\" y=\"-163.19\" font-family=\"Times,serif\" font-size=\"14.00\">e15</text>\n",
       "</g>\n",
       "<!-- x15 -->\n",
       "<g id=\"node21\" class=\"node\">\n",
       "<title>x15</title>\n",
       "<polygon fill=\"none\" stroke=\"black\" points=\"729.4,-36 675.4,-36 675.4,0 729.4,0 729.4,-36\"/>\n",
       "<text text-anchor=\"middle\" x=\"702.4\" y=\"-14.3\" font-family=\"Times,serif\" font-size=\"14.00\">x15</text>\n",
       "</g>\n",
       "<!-- e15&#45;&gt;x15 -->\n",
       "<g id=\"edge24\" class=\"edge\">\n",
       "<title>e15&#45;&gt;x15</title>\n",
       "<path fill=\"none\" stroke=\"black\" d=\"M737.59,-143.64C734.35,-120.78 728.17,-84.34 718.4,-54 717.5,-51.2 716.43,-48.32 715.28,-45.48\"/>\n",
       "<polygon fill=\"black\" stroke=\"black\" points=\"718.41,-43.89 711.2,-36.13 711.99,-46.69 718.41,-43.89\"/>\n",
       "<text text-anchor=\"middle\" x=\"739.4\" y=\"-63.9\" font-family=\"Times,serif\" font-size=\"12.00\">0.565</text>\n",
       "</g>\n",
       "<!-- e5 -->\n",
       "<g id=\"node6\" class=\"node\">\n",
       "<title>e5</title>\n",
       "<ellipse fill=\"#cae6df\" stroke=\"black\" cx=\"122.4\" cy=\"-379.03\" rx=\"18.7\" ry=\"18.7\"/>\n",
       "<text text-anchor=\"middle\" x=\"122.4\" y=\"-375.33\" font-family=\"Times,serif\" font-size=\"14.00\">e5</text>\n",
       "</g>\n",
       "<!-- e5&#45;&gt;x5 -->\n",
       "<g id=\"edge4\" class=\"edge\">\n",
       "<title>e5&#45;&gt;x5</title>\n",
       "<path fill=\"none\" stroke=\"black\" d=\"M116.49,-360.93C108.6,-334.68 98.35,-284.3 123.4,-253.79 148.45,-223.27 178.68,-259.3 210.4,-235.79 224.07,-225.66 233.27,-208.91 239.08,-194.59\"/>\n",
       "<polygon fill=\"black\" stroke=\"black\" points=\"242.38,-195.76 242.57,-185.17 235.81,-193.33 242.38,-195.76\"/>\n",
       "<text text-anchor=\"middle\" x=\"137.4\" y=\"-263.69\" font-family=\"Times,serif\" font-size=\"12.00\">0.552</text>\n",
       "</g>\n",
       "<!-- x13 -->\n",
       "<g id=\"node19\" class=\"node\">\n",
       "<title>x13</title>\n",
       "<polygon fill=\"none\" stroke=\"black\" points=\"83.4,-36 29.4,-36 29.4,0 83.4,0 83.4,-36\"/>\n",
       "<text text-anchor=\"middle\" x=\"56.4\" y=\"-14.3\" font-family=\"Times,serif\" font-size=\"14.00\">x13</text>\n",
       "</g>\n",
       "<!-- Job_Satisfaction&#45;&gt;x13 -->\n",
       "<g id=\"edge19\" class=\"edge\">\n",
       "<title>Job_Satisfaction&#45;&gt;x13</title>\n",
       "<path fill=\"none\" stroke=\"black\" d=\"M492.01,-116.19C482.58,-108.88 472.22,-102.36 461.4,-98 386.06,-67.67 166.88,-120.34 96.4,-80 83,-72.33 73.29,-58.13 66.79,-45.36\"/>\n",
       "<polygon fill=\"black\" stroke=\"black\" points=\"69.83,-43.6 62.45,-36 63.49,-46.55 69.83,-43.6\"/>\n",
       "<text text-anchor=\"middle\" x=\"110.4\" y=\"-63.9\" font-family=\"Times,serif\" font-size=\"12.00\">0.840</text>\n",
       "</g>\n",
       "<!-- Job_Satisfaction&#45;&gt;x14 -->\n",
       "<g id=\"edge21\" class=\"edge\">\n",
       "<title>Job_Satisfaction&#45;&gt;x14</title>\n",
       "<path fill=\"none\" stroke=\"black\" d=\"M490.78,-117.56C481.56,-110.2 471.59,-103.3 461.4,-98 367.43,-49.09 241.89,-29.54 180.45,-22.51\"/>\n",
       "<polygon fill=\"black\" stroke=\"black\" points=\"180.77,-19.02 170.44,-21.41 180,-25.98 180.77,-19.02\"/>\n",
       "<text text-anchor=\"middle\" x=\"447.4\" y=\"-70.4\" font-family=\"Times,serif\" font-size=\"12.00\">&#45;0.476</text>\n",
       "<text text-anchor=\"middle\" x=\"447.4\" y=\"-57.4\" font-family=\"Times,serif\" font-size=\"12.00\">p&#45;val: 0.00</text>\n",
       "</g>\n",
       "<!-- Job_Satisfaction&#45;&gt;x15 -->\n",
       "<g id=\"edge23\" class=\"edge\">\n",
       "<title>Job_Satisfaction&#45;&gt;x15</title>\n",
       "<path fill=\"none\" stroke=\"black\" d=\"M590.68,-120.59C599.52,-112.97 608.68,-105.2 617.4,-98 627.41,-89.74 631.05,-89 640.4,-80 651.3,-69.5 651.78,-64.79 662.4,-54 666.03,-50.31 669.98,-46.56 673.95,-42.95\"/>\n",
       "<polygon fill=\"black\" stroke=\"black\" points=\"676.36,-45.49 681.51,-36.24 671.71,-40.26 676.36,-45.49\"/>\n",
       "<text text-anchor=\"middle\" x=\"688.4\" y=\"-70.4\" font-family=\"Times,serif\" font-size=\"12.00\">&#45;0.141</text>\n",
       "<text text-anchor=\"middle\" x=\"688.4\" y=\"-57.4\" font-family=\"Times,serif\" font-size=\"12.00\">p&#45;val: 0.00</text>\n",
       "</g>\n",
       "<!-- x16 -->\n",
       "<g id=\"node22\" class=\"node\">\n",
       "<title>x16</title>\n",
       "<polygon fill=\"none\" stroke=\"black\" points=\"603.4,-36 549.4,-36 549.4,0 603.4,0 603.4,-36\"/>\n",
       "<text text-anchor=\"middle\" x=\"576.4\" y=\"-14.3\" font-family=\"Times,serif\" font-size=\"14.00\">x16</text>\n",
       "</g>\n",
       "<!-- Job_Satisfaction&#45;&gt;x16 -->\n",
       "<g id=\"edge25\" class=\"edge\">\n",
       "<title>Job_Satisfaction&#45;&gt;x16</title>\n",
       "<path fill=\"none\" stroke=\"black\" d=\"M531.56,-98.16C532.11,-83.15 534.55,-67.66 540.4,-54 541.97,-50.32 544.14,-46.83 546.64,-43.59\"/>\n",
       "<polygon fill=\"black\" stroke=\"black\" points=\"549.32,-45.84 553.38,-36.05 544.11,-41.17 549.32,-45.84\"/>\n",
       "<text text-anchor=\"middle\" x=\"566.4\" y=\"-70.4\" font-family=\"Times,serif\" font-size=\"12.00\">&#45;0.284</text>\n",
       "<text text-anchor=\"middle\" x=\"566.4\" y=\"-57.4\" font-family=\"Times,serif\" font-size=\"12.00\">p&#45;val: 0.00</text>\n",
       "</g>\n",
       "<!-- e11 -->\n",
       "<g id=\"node8\" class=\"node\">\n",
       "<title>e11</title>\n",
       "<ellipse fill=\"#cae6df\" stroke=\"black\" cx=\"1186.4\" cy=\"-379.03\" rx=\"23.3\" ry=\"23.3\"/>\n",
       "<text text-anchor=\"middle\" x=\"1186.4\" y=\"-375.33\" font-family=\"Times,serif\" font-size=\"14.00\">e11</text>\n",
       "</g>\n",
       "<!-- e11&#45;&gt;x11 -->\n",
       "<g id=\"edge16\" class=\"edge\">\n",
       "<title>e11&#45;&gt;x11</title>\n",
       "<path fill=\"none\" stroke=\"black\" d=\"M1183.89,-355.71C1180.74,-330.59 1174.49,-288.72 1164.4,-253.79 1158.46,-233.23 1149.25,-210.86 1141.77,-194.11\"/>\n",
       "<polygon fill=\"black\" stroke=\"black\" points=\"1144.93,-192.6 1137.61,-184.95 1138.56,-195.5 1144.93,-192.6\"/>\n",
       "<text text-anchor=\"middle\" x=\"1184.4\" y=\"-263.69\" font-family=\"Times,serif\" font-size=\"12.00\">0.597</text>\n",
       "</g>\n",
       "<!-- e13 -->\n",
       "<g id=\"node9\" class=\"node\">\n",
       "<title>e13</title>\n",
       "<ellipse fill=\"#cae6df\" stroke=\"black\" cx=\"23.4\" cy=\"-166.89\" rx=\"23.3\" ry=\"23.3\"/>\n",
       "<text text-anchor=\"middle\" x=\"23.4\" y=\"-163.19\" font-family=\"Times,serif\" font-size=\"14.00\">e13</text>\n",
       "</g>\n",
       "<!-- e13&#45;&gt;x13 -->\n",
       "<g id=\"edge20\" class=\"edge\">\n",
       "<title>e13&#45;&gt;x13</title>\n",
       "<path fill=\"none\" stroke=\"black\" d=\"M19.04,-143.56C15.54,-120.32 12.88,-83.29 24.4,-54 25.77,-50.5 27.68,-47.13 29.88,-43.97\"/>\n",
       "<polygon fill=\"black\" stroke=\"black\" points=\"32.68,-46.07 36.23,-36.09 27.23,-41.67 32.68,-46.07\"/>\n",
       "<text text-anchor=\"middle\" x=\"38.4\" y=\"-63.9\" font-family=\"Times,serif\" font-size=\"12.00\">0.276</text>\n",
       "</g>\n",
       "<!-- e6 -->\n",
       "<g id=\"node10\" class=\"node\">\n",
       "<title>e6</title>\n",
       "<ellipse fill=\"#cae6df\" stroke=\"black\" cx=\"500.4\" cy=\"-379.03\" rx=\"18.7\" ry=\"18.7\"/>\n",
       "<text text-anchor=\"middle\" x=\"500.4\" y=\"-375.33\" font-family=\"Times,serif\" font-size=\"14.00\">e6</text>\n",
       "</g>\n",
       "<!-- e6&#45;&gt;x6 -->\n",
       "<g id=\"edge6\" class=\"edge\">\n",
       "<title>e6&#45;&gt;x6</title>\n",
       "<path fill=\"none\" stroke=\"black\" d=\"M496.17,-360.49C490.11,-336.19 478.18,-291.07 464.4,-253.79 456.85,-233.37 446.63,-211 438.54,-194.21\"/>\n",
       "<polygon fill=\"black\" stroke=\"black\" points=\"441.59,-192.48 434.06,-185.02 435.3,-195.55 441.59,-192.48\"/>\n",
       "<text text-anchor=\"middle\" x=\"487.4\" y=\"-263.69\" font-family=\"Times,serif\" font-size=\"12.00\">0.342</text>\n",
       "</g>\n",
       "<!-- e9 -->\n",
       "<g id=\"node11\" class=\"node\">\n",
       "<title>e9</title>\n",
       "<ellipse fill=\"#cae6df\" stroke=\"black\" cx=\"883.4\" cy=\"-379.03\" rx=\"18.7\" ry=\"18.7\"/>\n",
       "<text text-anchor=\"middle\" x=\"883.4\" y=\"-375.33\" font-family=\"Times,serif\" font-size=\"14.00\">e9</text>\n",
       "</g>\n",
       "<!-- e9&#45;&gt;x9 -->\n",
       "<g id=\"edge12\" class=\"edge\">\n",
       "<title>e9&#45;&gt;x9</title>\n",
       "<path fill=\"none\" stroke=\"black\" d=\"M882.02,-360.22C880.48,-335.99 878.89,-291.35 884.4,-253.79 887.37,-233.55 893.89,-211.41 899.54,-194.68\"/>\n",
       "<polygon fill=\"black\" stroke=\"black\" points=\"902.91,-195.62 902.89,-185.02 896.3,-193.32 902.91,-195.62\"/>\n",
       "<text text-anchor=\"middle\" x=\"898.4\" y=\"-263.69\" font-family=\"Times,serif\" font-size=\"12.00\">0.688</text>\n",
       "</g>\n",
       "<!-- e16 -->\n",
       "<g id=\"node12\" class=\"node\">\n",
       "<title>e16</title>\n",
       "<ellipse fill=\"#cae6df\" stroke=\"black\" cx=\"649.4\" cy=\"-166.89\" rx=\"23.3\" ry=\"23.3\"/>\n",
       "<text text-anchor=\"middle\" x=\"649.4\" y=\"-163.19\" font-family=\"Times,serif\" font-size=\"14.00\">e16</text>\n",
       "</g>\n",
       "<!-- e16&#45;&gt;x16 -->\n",
       "<g id=\"edge26\" class=\"edge\">\n",
       "<title>e16&#45;&gt;x16</title>\n",
       "<path fill=\"none\" stroke=\"black\" d=\"M639.94,-145.3C633.67,-131.78 625.2,-113.77 617.4,-98 608.6,-80.22 598.32,-60.41 590.25,-45.08\"/>\n",
       "<polygon fill=\"black\" stroke=\"black\" points=\"593.31,-43.37 585.55,-36.16 587.12,-46.64 593.31,-43.37\"/>\n",
       "<text text-anchor=\"middle\" x=\"622.4\" y=\"-63.9\" font-family=\"Times,serif\" font-size=\"12.00\">0.493</text>\n",
       "</g>\n",
       "<!-- e12 -->\n",
       "<g id=\"node13\" class=\"node\">\n",
       "<title>e12</title>\n",
       "<ellipse fill=\"#cae6df\" stroke=\"black\" cx=\"682.4\" cy=\"-379.03\" rx=\"23.3\" ry=\"23.3\"/>\n",
       "<text text-anchor=\"middle\" x=\"682.4\" y=\"-375.33\" font-family=\"Times,serif\" font-size=\"14.00\">e12</text>\n",
       "</g>\n",
       "<!-- e12&#45;&gt;x12 -->\n",
       "<g id=\"edge18\" class=\"edge\">\n",
       "<title>e12&#45;&gt;x12</title>\n",
       "<path fill=\"none\" stroke=\"black\" d=\"M675.16,-356.4C667.55,-329.19 659.65,-282.58 683.4,-253.79 709.08,-222.65 740.06,-259.93 772.4,-235.79 785.82,-225.77 794.73,-209.25 800.33,-195.01\"/>\n",
       "<polygon fill=\"black\" stroke=\"black\" points=\"803.78,-195.77 803.84,-185.18 797.19,-193.42 803.78,-195.77\"/>\n",
       "<text text-anchor=\"middle\" x=\"697.4\" y=\"-263.69\" font-family=\"Times,serif\" font-size=\"12.00\">0.567</text>\n",
       "</g>\n",
       "<!-- e8 -->\n",
       "<g id=\"node14\" class=\"node\">\n",
       "<title>e8</title>\n",
       "<ellipse fill=\"#cae6df\" stroke=\"black\" cx=\"264.4\" cy=\"-379.03\" rx=\"18.7\" ry=\"18.7\"/>\n",
       "<text text-anchor=\"middle\" x=\"264.4\" y=\"-375.33\" font-family=\"Times,serif\" font-size=\"14.00\">e8</text>\n",
       "</g>\n",
       "<!-- e8&#45;&gt;x8 -->\n",
       "<g id=\"edge10\" class=\"edge\">\n",
       "<title>e8&#45;&gt;x8</title>\n",
       "<path fill=\"none\" stroke=\"black\" d=\"M270.21,-360.83C282.56,-324.26 311.53,-238.54 326.33,-194.72\"/>\n",
       "<polygon fill=\"black\" stroke=\"black\" points=\"329.72,-195.63 329.61,-185.03 323.09,-193.39 329.72,-195.63\"/>\n",
       "<text text-anchor=\"middle\" x=\"320.4\" y=\"-263.69\" font-family=\"Times,serif\" font-size=\"12.00\">0.385</text>\n",
       "</g>\n",
       "<!-- e10 -->\n",
       "<g id=\"node15\" class=\"node\">\n",
       "<title>e10</title>\n",
       "<ellipse fill=\"#cae6df\" stroke=\"black\" cx=\"1060.4\" cy=\"-379.03\" rx=\"23.3\" ry=\"23.3\"/>\n",
       "<text text-anchor=\"middle\" x=\"1060.4\" y=\"-375.33\" font-family=\"Times,serif\" font-size=\"14.00\">e10</text>\n",
       "</g>\n",
       "<!-- e10&#45;&gt;x10 -->\n",
       "<g id=\"edge14\" class=\"edge\">\n",
       "<title>e10&#45;&gt;x10</title>\n",
       "<path fill=\"none\" stroke=\"black\" d=\"M1058.36,-355.54C1054.85,-316.68 1047.66,-237.1 1043.86,-195.15\"/>\n",
       "<polygon fill=\"black\" stroke=\"black\" points=\"1047.34,-194.75 1042.95,-185.11 1040.37,-195.38 1047.34,-194.75\"/>\n",
       "<text text-anchor=\"middle\" x=\"1066.4\" y=\"-263.69\" font-family=\"Times,serif\" font-size=\"12.00\">0.510</text>\n",
       "</g>\n",
       "</g>\n",
       "</svg>\n"
      ],
      "text/plain": [
       "<graphviz.graphs.Digraph at 0x7f6d1551dbb0>"
      ]
     },
     "execution_count": 8,
     "metadata": {},
     "output_type": "execute_result"
    }
   ],
   "source": [
    "g = semopy.semplot(struct_model, \"out.png\", std_ests=True)\n",
    "g"
   ]
  },
  {
   "cell_type": "code",
   "execution_count": 9,
   "metadata": {
    "hideCode": true,
    "slideshow": {
     "slide_type": "subslide"
    }
   },
   "outputs": [
    {
     "name": "stderr",
     "output_type": "stream",
     "text": [
      "WARNING:root:Fisher Information Matrix is not PD.Moore-Penrose inverse will be used instead of Cholesky decomposition. See 10.1109/TSP.2012.2208105.\n"
     ]
    },
    {
     "data": {
      "text/html": [
       "<div>\n",
       "<style scoped>\n",
       "    .dataframe tbody tr th:only-of-type {\n",
       "        vertical-align: middle;\n",
       "    }\n",
       "\n",
       "    .dataframe tbody tr th {\n",
       "        vertical-align: top;\n",
       "    }\n",
       "\n",
       "    .dataframe thead th {\n",
       "        text-align: right;\n",
       "    }\n",
       "</style>\n",
       "<table border=\"1\" class=\"dataframe\">\n",
       "  <thead>\n",
       "    <tr style=\"text-align: right;\">\n",
       "      <th></th>\n",
       "      <th>lval</th>\n",
       "      <th>op</th>\n",
       "      <th>rval</th>\n",
       "      <th>Estimate</th>\n",
       "      <th>Est. Std</th>\n",
       "      <th>Std. Err</th>\n",
       "      <th>z-value</th>\n",
       "      <th>p-value</th>\n",
       "    </tr>\n",
       "  </thead>\n",
       "  <tbody>\n",
       "    <tr>\n",
       "      <th>0</th>\n",
       "      <td>Job_Satisfaction</td>\n",
       "      <td>~</td>\n",
       "      <td>Coworkers</td>\n",
       "      <td>-0.384873</td>\n",
       "      <td>-0.259316</td>\n",
       "      <td>0.029772</td>\n",
       "      <td>-12.927371</td>\n",
       "      <td>0.0</td>\n",
       "    </tr>\n",
       "    <tr>\n",
       "      <th>1</th>\n",
       "      <td>Job_Satisfaction</td>\n",
       "      <td>~</td>\n",
       "      <td>Work_Environment</td>\n",
       "      <td>0.849069</td>\n",
       "      <td>0.731907</td>\n",
       "      <td>0.047364</td>\n",
       "      <td>17.926501</td>\n",
       "      <td>0.0</td>\n",
       "    </tr>\n",
       "    <tr>\n",
       "      <th>2</th>\n",
       "      <td>x5</td>\n",
       "      <td>~</td>\n",
       "      <td>Work_Environment</td>\n",
       "      <td>1.000000</td>\n",
       "      <td>0.723877</td>\n",
       "      <td>-</td>\n",
       "      <td>-</td>\n",
       "      <td>-</td>\n",
       "    </tr>\n",
       "    <tr>\n",
       "      <th>3</th>\n",
       "      <td>x5</td>\n",
       "      <td>~</td>\n",
       "      <td>e5</td>\n",
       "      <td>1.000000</td>\n",
       "      <td>0.552107</td>\n",
       "      <td>-</td>\n",
       "      <td>-</td>\n",
       "      <td>-</td>\n",
       "    </tr>\n",
       "    <tr>\n",
       "      <th>4</th>\n",
       "      <td>x6</td>\n",
       "      <td>~</td>\n",
       "      <td>Work_Environment</td>\n",
       "      <td>-1.628959</td>\n",
       "      <td>-1.178892</td>\n",
       "      <td>0.039062</td>\n",
       "      <td>-41.702004</td>\n",
       "      <td>0.0</td>\n",
       "    </tr>\n",
       "    <tr>\n",
       "      <th>...</th>\n",
       "      <td>...</td>\n",
       "      <td>...</td>\n",
       "      <td>...</td>\n",
       "      <td>...</td>\n",
       "      <td>...</td>\n",
       "      <td>...</td>\n",
       "      <td>...</td>\n",
       "      <td>...</td>\n",
       "    </tr>\n",
       "    <tr>\n",
       "      <th>139</th>\n",
       "      <td>x8</td>\n",
       "      <td>~~</td>\n",
       "      <td>x8</td>\n",
       "      <td>0.463519</td>\n",
       "      <td>0.463375</td>\n",
       "      <td>0.048279</td>\n",
       "      <td>9.600877</td>\n",
       "      <td>0.0</td>\n",
       "    </tr>\n",
       "    <tr>\n",
       "      <th>140</th>\n",
       "      <td>x16</td>\n",
       "      <td>~~</td>\n",
       "      <td>x16</td>\n",
       "      <td>0.587426</td>\n",
       "      <td>0.587711</td>\n",
       "      <td>0.059669</td>\n",
       "      <td>9.844759</td>\n",
       "      <td>0.0</td>\n",
       "    </tr>\n",
       "    <tr>\n",
       "      <th>141</th>\n",
       "      <td>x6</td>\n",
       "      <td>~~</td>\n",
       "      <td>x6</td>\n",
       "      <td>0.396678</td>\n",
       "      <td>0.396700</td>\n",
       "      <td>0.030031</td>\n",
       "      <td>13.208765</td>\n",
       "      <td>0.0</td>\n",
       "    </tr>\n",
       "    <tr>\n",
       "      <th>142</th>\n",
       "      <td>x5</td>\n",
       "      <td>~~</td>\n",
       "      <td>x5</td>\n",
       "      <td>0.635078</td>\n",
       "      <td>0.635409</td>\n",
       "      <td>0.037756</td>\n",
       "      <td>16.820687</td>\n",
       "      <td>0.0</td>\n",
       "    </tr>\n",
       "    <tr>\n",
       "      <th>143</th>\n",
       "      <td>x9</td>\n",
       "      <td>~~</td>\n",
       "      <td>x9</td>\n",
       "      <td>0.885548</td>\n",
       "      <td>0.886535</td>\n",
       "      <td>0.028379</td>\n",
       "      <td>31.204294</td>\n",
       "      <td>0.0</td>\n",
       "    </tr>\n",
       "  </tbody>\n",
       "</table>\n",
       "<p>144 rows × 8 columns</p>\n",
       "</div>"
      ],
      "text/plain": [
       "                 lval  op              rval  Estimate  Est. Std  Std. Err  \\\n",
       "0    Job_Satisfaction   ~         Coworkers -0.384873 -0.259316  0.029772   \n",
       "1    Job_Satisfaction   ~  Work_Environment  0.849069  0.731907  0.047364   \n",
       "2                  x5   ~  Work_Environment  1.000000  0.723877         -   \n",
       "3                  x5   ~                e5  1.000000  0.552107         -   \n",
       "4                  x6   ~  Work_Environment -1.628959 -1.178892  0.039062   \n",
       "..                ...  ..               ...       ...       ...       ...   \n",
       "139                x8  ~~                x8  0.463519  0.463375  0.048279   \n",
       "140               x16  ~~               x16  0.587426  0.587711  0.059669   \n",
       "141                x6  ~~                x6  0.396678  0.396700  0.030031   \n",
       "142                x5  ~~                x5  0.635078  0.635409  0.037756   \n",
       "143                x9  ~~                x9  0.885548  0.886535  0.028379   \n",
       "\n",
       "       z-value p-value  \n",
       "0   -12.927371     0.0  \n",
       "1    17.926501     0.0  \n",
       "2            -       -  \n",
       "3            -       -  \n",
       "4   -41.702004     0.0  \n",
       "..         ...     ...  \n",
       "139   9.600877     0.0  \n",
       "140   9.844759     0.0  \n",
       "141  13.208765     0.0  \n",
       "142  16.820687     0.0  \n",
       "143  31.204294     0.0  \n",
       "\n",
       "[144 rows x 8 columns]"
      ]
     },
     "execution_count": 9,
     "metadata": {},
     "output_type": "execute_result"
    }
   ],
   "source": [
    "estimates = struct_model.inspect(std_est=True)\n",
    "estimates"
   ]
  },
  {
   "cell_type": "markdown",
   "metadata": {
    "slideshow": {
     "slide_type": "fragment"
    }
   },
   "source": [
    "Podemos apreciar que tanto `Coworkers` como `Work_Environment` presentan parámetros estadísticamente significativos y relevantes para `Job_Satisfaction`. Destaca que `Coworkers` tiene una relación negativa con `Job_Satisfaction`. "
   ]
  },
  {
   "cell_type": "code",
   "execution_count": 10,
   "metadata": {
    "hideCode": true,
    "slideshow": {
     "slide_type": "subslide"
    }
   },
   "outputs": [
    {
     "data": {
      "text/html": [
       "<div>\n",
       "<style scoped>\n",
       "    .dataframe tbody tr th:only-of-type {\n",
       "        vertical-align: middle;\n",
       "    }\n",
       "\n",
       "    .dataframe tbody tr th {\n",
       "        vertical-align: top;\n",
       "    }\n",
       "\n",
       "    .dataframe thead th {\n",
       "        text-align: right;\n",
       "    }\n",
       "</style>\n",
       "<table border=\"1\" class=\"dataframe\">\n",
       "  <thead>\n",
       "    <tr style=\"text-align: right;\">\n",
       "      <th></th>\n",
       "      <th>lval</th>\n",
       "      <th>op</th>\n",
       "      <th>rval</th>\n",
       "      <th>Estimate</th>\n",
       "      <th>Est. Std</th>\n",
       "      <th>Std. Err</th>\n",
       "      <th>z-value</th>\n",
       "      <th>p-value</th>\n",
       "    </tr>\n",
       "  </thead>\n",
       "  <tbody>\n",
       "    <tr>\n",
       "      <th>26</th>\n",
       "      <td>Coworkers</td>\n",
       "      <td>~~</td>\n",
       "      <td>Work_Environment</td>\n",
       "      <td>-0.250407</td>\n",
       "      <td>-0.611708</td>\n",
       "      <td>0.028957</td>\n",
       "      <td>-8.647542</td>\n",
       "      <td>0.0</td>\n",
       "    </tr>\n",
       "    <tr>\n",
       "      <th>27</th>\n",
       "      <td>Coworkers</td>\n",
       "      <td>~~</td>\n",
       "      <td>Coworkers</td>\n",
       "      <td>0.319963</td>\n",
       "      <td>1.000000</td>\n",
       "      <td>0.030023</td>\n",
       "      <td>10.657241</td>\n",
       "      <td>0.0</td>\n",
       "    </tr>\n",
       "    <tr>\n",
       "      <th>28</th>\n",
       "      <td>Coworkers</td>\n",
       "      <td>~~</td>\n",
       "      <td>e7</td>\n",
       "      <td>0.154908</td>\n",
       "      <td>0.452901</td>\n",
       "      <td>0.059308</td>\n",
       "      <td>2.611921</td>\n",
       "      <td>0.009004</td>\n",
       "    </tr>\n",
       "    <tr>\n",
       "      <th>29</th>\n",
       "      <td>Coworkers</td>\n",
       "      <td>~~</td>\n",
       "      <td>e15</td>\n",
       "      <td>-0.044429</td>\n",
       "      <td>-0.138969</td>\n",
       "      <td>0.052709</td>\n",
       "      <td>-0.842911</td>\n",
       "      <td>0.399278</td>\n",
       "    </tr>\n",
       "    <tr>\n",
       "      <th>30</th>\n",
       "      <td>Coworkers</td>\n",
       "      <td>~~</td>\n",
       "      <td>e5</td>\n",
       "      <td>-0.067217</td>\n",
       "      <td>-0.215288</td>\n",
       "      <td>0.042308</td>\n",
       "      <td>-1.588759</td>\n",
       "      <td>0.112115</td>\n",
       "    </tr>\n",
       "    <tr>\n",
       "      <th>...</th>\n",
       "      <td>...</td>\n",
       "      <td>...</td>\n",
       "      <td>...</td>\n",
       "      <td>...</td>\n",
       "      <td>...</td>\n",
       "      <td>...</td>\n",
       "      <td>...</td>\n",
       "      <td>...</td>\n",
       "    </tr>\n",
       "    <tr>\n",
       "      <th>139</th>\n",
       "      <td>x8</td>\n",
       "      <td>~~</td>\n",
       "      <td>x8</td>\n",
       "      <td>0.463519</td>\n",
       "      <td>0.463375</td>\n",
       "      <td>0.048279</td>\n",
       "      <td>9.600877</td>\n",
       "      <td>0.0</td>\n",
       "    </tr>\n",
       "    <tr>\n",
       "      <th>140</th>\n",
       "      <td>x16</td>\n",
       "      <td>~~</td>\n",
       "      <td>x16</td>\n",
       "      <td>0.587426</td>\n",
       "      <td>0.587711</td>\n",
       "      <td>0.059669</td>\n",
       "      <td>9.844759</td>\n",
       "      <td>0.0</td>\n",
       "    </tr>\n",
       "    <tr>\n",
       "      <th>141</th>\n",
       "      <td>x6</td>\n",
       "      <td>~~</td>\n",
       "      <td>x6</td>\n",
       "      <td>0.396678</td>\n",
       "      <td>0.396700</td>\n",
       "      <td>0.030031</td>\n",
       "      <td>13.208765</td>\n",
       "      <td>0.0</td>\n",
       "    </tr>\n",
       "    <tr>\n",
       "      <th>142</th>\n",
       "      <td>x5</td>\n",
       "      <td>~~</td>\n",
       "      <td>x5</td>\n",
       "      <td>0.635078</td>\n",
       "      <td>0.635409</td>\n",
       "      <td>0.037756</td>\n",
       "      <td>16.820687</td>\n",
       "      <td>0.0</td>\n",
       "    </tr>\n",
       "    <tr>\n",
       "      <th>143</th>\n",
       "      <td>x9</td>\n",
       "      <td>~~</td>\n",
       "      <td>x9</td>\n",
       "      <td>0.885548</td>\n",
       "      <td>0.886535</td>\n",
       "      <td>0.028379</td>\n",
       "      <td>31.204294</td>\n",
       "      <td>0.0</td>\n",
       "    </tr>\n",
       "  </tbody>\n",
       "</table>\n",
       "<p>118 rows × 8 columns</p>\n",
       "</div>"
      ],
      "text/plain": [
       "          lval  op              rval  Estimate  Est. Std  Std. Err    z-value  \\\n",
       "26   Coworkers  ~~  Work_Environment -0.250407 -0.611708  0.028957  -8.647542   \n",
       "27   Coworkers  ~~         Coworkers  0.319963  1.000000  0.030023  10.657241   \n",
       "28   Coworkers  ~~                e7  0.154908  0.452901  0.059308   2.611921   \n",
       "29   Coworkers  ~~               e15 -0.044429 -0.138969  0.052709  -0.842911   \n",
       "30   Coworkers  ~~                e5 -0.067217 -0.215288  0.042308  -1.588759   \n",
       "..         ...  ..               ...       ...       ...       ...        ...   \n",
       "139         x8  ~~                x8  0.463519  0.463375  0.048279   9.600877   \n",
       "140        x16  ~~               x16  0.587426  0.587711  0.059669   9.844759   \n",
       "141         x6  ~~                x6  0.396678  0.396700  0.030031  13.208765   \n",
       "142         x5  ~~                x5  0.635078  0.635409  0.037756  16.820687   \n",
       "143         x9  ~~                x9  0.885548  0.886535  0.028379  31.204294   \n",
       "\n",
       "      p-value  \n",
       "26        0.0  \n",
       "27        0.0  \n",
       "28   0.009004  \n",
       "29   0.399278  \n",
       "30   0.112115  \n",
       "..        ...  \n",
       "139       0.0  \n",
       "140       0.0  \n",
       "141       0.0  \n",
       "142       0.0  \n",
       "143       0.0  \n",
       "\n",
       "[118 rows x 8 columns]"
      ]
     },
     "execution_count": 10,
     "metadata": {},
     "output_type": "execute_result"
    }
   ],
   "source": [
    "estimates[estimates [\"op\"] == \"~~\"]"
   ]
  },
  {
   "cell_type": "markdown",
   "metadata": {
    "slideshow": {
     "slide_type": "fragment"
    }
   },
   "source": [
    "Podemos apreciar también que `Coworkers` y `Work_Environment` covarían negativamente de manera significativa."
   ]
  },
  {
   "cell_type": "markdown",
   "metadata": {
    "slideshow": {
     "slide_type": "skip"
    }
   },
   "source": [
    "Para contar con un reporte más detallado de nuestro modelo estructural podemos examinar el reporte generado por el paquete `semopy`:"
   ]
  },
  {
   "cell_type": "code",
   "execution_count": 11,
   "metadata": {
    "slideshow": {
     "slide_type": "skip"
    }
   },
   "outputs": [
    {
     "name": "stderr",
     "output_type": "stream",
     "text": [
      "WARNING:root:Fisher Information Matrix is not PD.Moore-Penrose inverse will be used instead of Cholesky decomposition. See 10.1109/TSP.2012.2208105.\n",
      "WARNING:root:Fisher Information Matrix is not PD.Moore-Penrose inverse will be used instead of Cholesky decomposition. See 10.1109/TSP.2012.2208105.\n",
      "WARNING:root:Fisher Information Matrix is not PD.Moore-Penrose inverse will be used instead of Cholesky decomposition. See 10.1109/TSP.2012.2208105.\n",
      "WARNING:root:Fisher Information Matrix is not PD.Moore-Penrose inverse will be used instead of Cholesky decomposition. See 10.1109/TSP.2012.2208105.\n",
      "WARNING:root:Fisher Information Matrix is not PD.Moore-Penrose inverse will be used instead of Cholesky decomposition. See 10.1109/TSP.2012.2208105.\n",
      "/home/renato/.virtualenvs/statspsych/lib/python3.8/site-packages/semopy/stats.py:386: RuntimeWarning: invalid value encountered in sqrt\n",
      "  return np.sqrt((chi2 / dof - 1) / (model.n_samples - 1))\n"
     ]
    }
   ],
   "source": [
    "semopy.report(struct_model, \"Job\")"
   ]
  }
 ],
 "metadata": {
  "celltoolbar": "Slideshow",
  "interpreter": {
   "hash": "bc333aaf72f12d36efbbc969b6efbd208f39cf597397e273d228d636dea83428"
  },
  "kernelspec": {
   "display_name": "Python 3 (ipykernel)",
   "language": "python",
   "name": "python3"
  },
  "language_info": {
   "codemirror_mode": {
    "name": "ipython",
    "version": 3
   },
   "file_extension": ".py",
   "mimetype": "text/x-python",
   "name": "python",
   "nbconvert_exporter": "python",
   "pygments_lexer": "ipython3",
   "version": "3.8.10"
  }
 },
 "nbformat": 4,
 "nbformat_minor": 2
}
