{
 "cells": [
  {
   "cell_type": "markdown",
   "metadata": {
    "slideshow": {
     "slide_type": "slide"
    }
   },
   "source": [
    "# Conceptos básicos de análisis multivariante\n",
    "\n",
    ">Este tutorial es una selección y adaptación al español de los libros [Multivariate Data Analysis](https://www.cengage.co.uk/books/9781473756540/) de Joseph F. Hair et al. y [A Matrix Algebra Companion for Statistical Learning](http://www.gastonsanchez.com/matrix4sl/index.html) de Gaston Sanchez. \n",
    "\n",
    "> Requiere cargar el archivo [\"HBAT_MISSING.sav\"](https://github.com/renatoparedes/EstadisticaYPsicologiaMatematica/raw/main/AnalisisDeDatosMultivariantes/HBAT_MISSING.sav) en el repositorio local. "
   ]
  },
  {
   "cell_type": "markdown",
   "metadata": {
    "slideshow": {
     "slide_type": "slide"
    }
   },
   "source": [
    "## El variante\n",
    "\n",
    "El componente básico del análisis multivariante es el variante, una **combinación lineal de variables con ponderaciones determinadas empíricamente**. \n",
    "\n",
    "Las variables son especificadas por el investigador mientras que los pesos los determina la técnica multivariante para cumplir con un objetivo específico. "
   ]
  },
  {
   "cell_type": "markdown",
   "metadata": {
    "slideshow": {
     "slide_type": "subslide"
    }
   },
   "source": [
    "Un variante de n variables ponderadas ($X_{1}$ a $X_{n}$) se puede establecer matemáticamente como:\n",
    "\n",
    "$$ Variante = w_{1} X_{1} + w_{2} X_{2} + w_{3} X_{3} + ... + w_{n} X_{n}  $$\n",
    "\n",
    "donde $X_{n}$ es la variable observada y $w_{n}$ es el peso determinado por la técnica multivariante.\n",
    "\n",
    "El resultado es un **valor único que representa una combinación de todo el conjunto de variables que mejor logra el objetivo del análisis multivariado específico.**"
   ]
  },
  {
   "cell_type": "markdown",
   "metadata": {
    "slideshow": {
     "slide_type": "subslide"
    }
   },
   "source": [
    "Veamos algunos ejemplos:\n",
    "\n",
    "- En la regresión múltiple, el variante se determina de una manera que maximiza la correlación entre las múltiples variables independientes y la única variable dependiente. \n",
    "\n",
    "- En el análisis factorial exploratorio, los variantes se forman para representar mejor la estructura o los patrones subyacentes de las variables representadas por sus intercorrelaciones. En cada caso, el variante captura el carácter multivariado del análisis.\n",
    "\n",
    "Por lo tanto, en nuestra discusión de cada técnica, **el variante es el punto focal del análisis en muchos aspectos**. Debemos comprender no solo su impacto colectivo en el cumplimiento del objetivo de la técnica, sino también la contribución de cada variable separada al efecto de variación general."
   ]
  },
  {
   "cell_type": "markdown",
   "metadata": {
    "slideshow": {
     "slide_type": "slide"
    }
   },
   "source": [
    "## Tipos de variables\n",
    "\n",
    "Para ilustrar algunas de las ideas presentadas en este capítulo, usaré un ejemplo de juguete con datos de los personajes del universo de Star Wars:\n"
   ]
  },
  {
   "cell_type": "code",
   "execution_count": null,
   "metadata": {},
   "outputs": [],
   "source": [
    "#!pip install pandas==1.3.3\n",
    "!pip install pyreadstat\n",
    "!pip install missingno\n",
    "!wget https://github.com/renatoparedes/EstadisticaYPsicologiaMatematica/raw/main/AnalisisDeDatosMultivariantes/HBAT_MISSING.sav"
   ]
  },
  {
   "cell_type": "code",
   "execution_count": 5,
   "metadata": {
    "hideCode": true,
    "hidePrompt": true,
    "slideshow": {
     "slide_type": "subslide"
    }
   },
   "outputs": [
    {
     "data": {
      "text/html": [
       "<div>\n",
       "<style scoped>\n",
       "    .dataframe tbody tr th:only-of-type {\n",
       "        vertical-align: middle;\n",
       "    }\n",
       "\n",
       "    .dataframe tbody tr th {\n",
       "        vertical-align: top;\n",
       "    }\n",
       "\n",
       "    .dataframe thead th {\n",
       "        text-align: right;\n",
       "    }\n",
       "</style>\n",
       "<table border=\"1\" class=\"dataframe\">\n",
       "  <thead>\n",
       "    <tr style=\"text-align: right;\">\n",
       "      <th></th>\n",
       "      <th>name</th>\n",
       "      <th>gender</th>\n",
       "      <th>height</th>\n",
       "      <th>weight</th>\n",
       "      <th>eyecolor</th>\n",
       "      <th>haircolor</th>\n",
       "      <th>skincolor</th>\n",
       "      <th>homeland</th>\n",
       "      <th>born</th>\n",
       "      <th>died</th>\n",
       "      <th>jedi</th>\n",
       "      <th>species</th>\n",
       "      <th>weapon</th>\n",
       "    </tr>\n",
       "  </thead>\n",
       "  <tbody>\n",
       "    <tr>\n",
       "      <th>0</th>\n",
       "      <td>Anakin Skywalker</td>\n",
       "      <td>male</td>\n",
       "      <td>1.88</td>\n",
       "      <td>84.0</td>\n",
       "      <td>blue</td>\n",
       "      <td>blond</td>\n",
       "      <td>fair</td>\n",
       "      <td>Tatooine</td>\n",
       "      <td>41.9BBY</td>\n",
       "      <td>4ABY</td>\n",
       "      <td>yes_jedi</td>\n",
       "      <td>human</td>\n",
       "      <td>lightsaber</td>\n",
       "    </tr>\n",
       "    <tr>\n",
       "      <th>1</th>\n",
       "      <td>Padme Amidala</td>\n",
       "      <td>female</td>\n",
       "      <td>1.65</td>\n",
       "      <td>45.0</td>\n",
       "      <td>brown</td>\n",
       "      <td>brown</td>\n",
       "      <td>light</td>\n",
       "      <td>Naboo</td>\n",
       "      <td>46BBY</td>\n",
       "      <td>19BBY</td>\n",
       "      <td>no_jedi</td>\n",
       "      <td>human</td>\n",
       "      <td>unarmed</td>\n",
       "    </tr>\n",
       "    <tr>\n",
       "      <th>2</th>\n",
       "      <td>Luke Skywalker</td>\n",
       "      <td>male</td>\n",
       "      <td>1.72</td>\n",
       "      <td>77.0</td>\n",
       "      <td>blue</td>\n",
       "      <td>blond</td>\n",
       "      <td>fair</td>\n",
       "      <td>Tatooine</td>\n",
       "      <td>19BBY</td>\n",
       "      <td>unk_died</td>\n",
       "      <td>yes_jedi</td>\n",
       "      <td>human</td>\n",
       "      <td>lightsaber</td>\n",
       "    </tr>\n",
       "    <tr>\n",
       "      <th>3</th>\n",
       "      <td>Leia Organa</td>\n",
       "      <td>female</td>\n",
       "      <td>1.50</td>\n",
       "      <td>49.0</td>\n",
       "      <td>brown</td>\n",
       "      <td>brown</td>\n",
       "      <td>light</td>\n",
       "      <td>Alderaan</td>\n",
       "      <td>19BBY</td>\n",
       "      <td>unk_died</td>\n",
       "      <td>no_jedi</td>\n",
       "      <td>human</td>\n",
       "      <td>blaster</td>\n",
       "    </tr>\n",
       "    <tr>\n",
       "      <th>4</th>\n",
       "      <td>Qui-Gon Jinn</td>\n",
       "      <td>male</td>\n",
       "      <td>1.93</td>\n",
       "      <td>88.5</td>\n",
       "      <td>blue</td>\n",
       "      <td>brown</td>\n",
       "      <td>light</td>\n",
       "      <td>unk_planet</td>\n",
       "      <td>92BBY</td>\n",
       "      <td>32BBY</td>\n",
       "      <td>yes_jedi</td>\n",
       "      <td>human</td>\n",
       "      <td>lightsaber</td>\n",
       "    </tr>\n",
       "    <tr>\n",
       "      <th>5</th>\n",
       "      <td>Obi-Wan Kenobi</td>\n",
       "      <td>male</td>\n",
       "      <td>1.82</td>\n",
       "      <td>77.0</td>\n",
       "      <td>bluegray</td>\n",
       "      <td>auburn</td>\n",
       "      <td>fair</td>\n",
       "      <td>Stewjon</td>\n",
       "      <td>57BBY</td>\n",
       "      <td>0BBY</td>\n",
       "      <td>yes_jedi</td>\n",
       "      <td>human</td>\n",
       "      <td>lightsaber</td>\n",
       "    </tr>\n",
       "    <tr>\n",
       "      <th>6</th>\n",
       "      <td>Han Solo</td>\n",
       "      <td>male</td>\n",
       "      <td>1.80</td>\n",
       "      <td>80.0</td>\n",
       "      <td>brown</td>\n",
       "      <td>brown</td>\n",
       "      <td>light</td>\n",
       "      <td>Corellia</td>\n",
       "      <td>29BBY</td>\n",
       "      <td>unk_died</td>\n",
       "      <td>no_jedi</td>\n",
       "      <td>human</td>\n",
       "      <td>blaster</td>\n",
       "    </tr>\n",
       "    <tr>\n",
       "      <th>7</th>\n",
       "      <td>Sheev Palpatine</td>\n",
       "      <td>male</td>\n",
       "      <td>1.73</td>\n",
       "      <td>75.0</td>\n",
       "      <td>blue</td>\n",
       "      <td>red</td>\n",
       "      <td>pale</td>\n",
       "      <td>Naboo</td>\n",
       "      <td>82BBY</td>\n",
       "      <td>10ABY</td>\n",
       "      <td>no_jedi</td>\n",
       "      <td>human</td>\n",
       "      <td>force-lightning</td>\n",
       "    </tr>\n",
       "    <tr>\n",
       "      <th>8</th>\n",
       "      <td>R2-D2</td>\n",
       "      <td>male</td>\n",
       "      <td>0.96</td>\n",
       "      <td>32.0</td>\n",
       "      <td>NaN</td>\n",
       "      <td>NaN</td>\n",
       "      <td>NaN</td>\n",
       "      <td>Naboo</td>\n",
       "      <td>33BBY</td>\n",
       "      <td>unk_died</td>\n",
       "      <td>no_jedi</td>\n",
       "      <td>droid</td>\n",
       "      <td>unarmed</td>\n",
       "    </tr>\n",
       "    <tr>\n",
       "      <th>9</th>\n",
       "      <td>C-3PO</td>\n",
       "      <td>male</td>\n",
       "      <td>1.67</td>\n",
       "      <td>75.0</td>\n",
       "      <td>NaN</td>\n",
       "      <td>NaN</td>\n",
       "      <td>NaN</td>\n",
       "      <td>Tatooine</td>\n",
       "      <td>112BBY</td>\n",
       "      <td>3ABY</td>\n",
       "      <td>no_jedi</td>\n",
       "      <td>droid</td>\n",
       "      <td>unarmed</td>\n",
       "    </tr>\n",
       "    <tr>\n",
       "      <th>10</th>\n",
       "      <td>Yoda</td>\n",
       "      <td>male</td>\n",
       "      <td>0.66</td>\n",
       "      <td>17.0</td>\n",
       "      <td>brown</td>\n",
       "      <td>brown</td>\n",
       "      <td>green</td>\n",
       "      <td>unk_planet</td>\n",
       "      <td>896BBY</td>\n",
       "      <td>4ABY</td>\n",
       "      <td>yes_jedi</td>\n",
       "      <td>yoda</td>\n",
       "      <td>lightsaber</td>\n",
       "    </tr>\n",
       "    <tr>\n",
       "      <th>11</th>\n",
       "      <td>Darth Maul</td>\n",
       "      <td>male</td>\n",
       "      <td>1.75</td>\n",
       "      <td>80.0</td>\n",
       "      <td>yellow</td>\n",
       "      <td>none</td>\n",
       "      <td>red</td>\n",
       "      <td>Dathomir</td>\n",
       "      <td>54BBY</td>\n",
       "      <td>unk_died</td>\n",
       "      <td>no_jedi</td>\n",
       "      <td>dathomirian</td>\n",
       "      <td>lightsaber</td>\n",
       "    </tr>\n",
       "    <tr>\n",
       "      <th>12</th>\n",
       "      <td>Dooku</td>\n",
       "      <td>male</td>\n",
       "      <td>1.93</td>\n",
       "      <td>86.0</td>\n",
       "      <td>brown</td>\n",
       "      <td>brown</td>\n",
       "      <td>light</td>\n",
       "      <td>Serenno</td>\n",
       "      <td>102BBY</td>\n",
       "      <td>19BBY</td>\n",
       "      <td>yes_jedi</td>\n",
       "      <td>human</td>\n",
       "      <td>lightsaber</td>\n",
       "    </tr>\n",
       "    <tr>\n",
       "      <th>13</th>\n",
       "      <td>Chewbacca</td>\n",
       "      <td>male</td>\n",
       "      <td>2.28</td>\n",
       "      <td>112.0</td>\n",
       "      <td>blue</td>\n",
       "      <td>brown</td>\n",
       "      <td>NaN</td>\n",
       "      <td>Kashyyyk</td>\n",
       "      <td>200BBY</td>\n",
       "      <td>25ABY</td>\n",
       "      <td>no_jedi</td>\n",
       "      <td>wookiee</td>\n",
       "      <td>bowcaster</td>\n",
       "    </tr>\n",
       "    <tr>\n",
       "      <th>14</th>\n",
       "      <td>Jabba</td>\n",
       "      <td>male</td>\n",
       "      <td>3.90</td>\n",
       "      <td>NaN</td>\n",
       "      <td>yellow</td>\n",
       "      <td>none</td>\n",
       "      <td>tan-green</td>\n",
       "      <td>Tatooine</td>\n",
       "      <td>unk_born</td>\n",
       "      <td>4ABY</td>\n",
       "      <td>no_jedi</td>\n",
       "      <td>hutt</td>\n",
       "      <td>unarmed</td>\n",
       "    </tr>\n",
       "    <tr>\n",
       "      <th>15</th>\n",
       "      <td>Lando Calrissian</td>\n",
       "      <td>male</td>\n",
       "      <td>1.78</td>\n",
       "      <td>79.0</td>\n",
       "      <td>brown</td>\n",
       "      <td>blank</td>\n",
       "      <td>dark</td>\n",
       "      <td>Socorro</td>\n",
       "      <td>31BBY</td>\n",
       "      <td>unk_died</td>\n",
       "      <td>no_jedi</td>\n",
       "      <td>human</td>\n",
       "      <td>blaster</td>\n",
       "    </tr>\n",
       "    <tr>\n",
       "      <th>16</th>\n",
       "      <td>Boba Fett</td>\n",
       "      <td>male</td>\n",
       "      <td>1.83</td>\n",
       "      <td>78.0</td>\n",
       "      <td>brown</td>\n",
       "      <td>black</td>\n",
       "      <td>brown</td>\n",
       "      <td>Kamino</td>\n",
       "      <td>31.5BBY</td>\n",
       "      <td>unk_died</td>\n",
       "      <td>no_jedi</td>\n",
       "      <td>human</td>\n",
       "      <td>blaster</td>\n",
       "    </tr>\n",
       "    <tr>\n",
       "      <th>17</th>\n",
       "      <td>Jango Fett</td>\n",
       "      <td>male</td>\n",
       "      <td>1.83</td>\n",
       "      <td>79.0</td>\n",
       "      <td>brown</td>\n",
       "      <td>black</td>\n",
       "      <td>brown</td>\n",
       "      <td>ConcordDawn</td>\n",
       "      <td>66BBY</td>\n",
       "      <td>22BBY</td>\n",
       "      <td>no_jedi</td>\n",
       "      <td>human</td>\n",
       "      <td>blaster</td>\n",
       "    </tr>\n",
       "    <tr>\n",
       "      <th>18</th>\n",
       "      <td>Grievous</td>\n",
       "      <td>male</td>\n",
       "      <td>2.16</td>\n",
       "      <td>159.0</td>\n",
       "      <td>gold</td>\n",
       "      <td>black</td>\n",
       "      <td>orange</td>\n",
       "      <td>Kalee</td>\n",
       "      <td>unk_born</td>\n",
       "      <td>19BBY</td>\n",
       "      <td>no_jedi</td>\n",
       "      <td>kaleesh</td>\n",
       "      <td>slugthrower</td>\n",
       "    </tr>\n",
       "    <tr>\n",
       "      <th>19</th>\n",
       "      <td>Chief Chirpa</td>\n",
       "      <td>male</td>\n",
       "      <td>1.00</td>\n",
       "      <td>50.0</td>\n",
       "      <td>black</td>\n",
       "      <td>gray</td>\n",
       "      <td>brown</td>\n",
       "      <td>Endor</td>\n",
       "      <td>unk_born</td>\n",
       "      <td>4ABY</td>\n",
       "      <td>no_jedi</td>\n",
       "      <td>ewok</td>\n",
       "      <td>spear</td>\n",
       "    </tr>\n",
       "  </tbody>\n",
       "</table>\n",
       "</div>"
      ],
      "text/plain": [
       "                name  gender  height  weight  eyecolor haircolor  skincolor  \\\n",
       "0   Anakin Skywalker    male    1.88    84.0      blue     blond       fair   \n",
       "1      Padme Amidala  female    1.65    45.0     brown     brown      light   \n",
       "2     Luke Skywalker    male    1.72    77.0      blue     blond       fair   \n",
       "3        Leia Organa  female    1.50    49.0     brown     brown      light   \n",
       "4       Qui-Gon Jinn    male    1.93    88.5      blue     brown      light   \n",
       "5     Obi-Wan Kenobi    male    1.82    77.0  bluegray    auburn       fair   \n",
       "6           Han Solo    male    1.80    80.0     brown     brown      light   \n",
       "7    Sheev Palpatine    male    1.73    75.0      blue       red       pale   \n",
       "8              R2-D2    male    0.96    32.0       NaN       NaN        NaN   \n",
       "9              C-3PO    male    1.67    75.0       NaN       NaN        NaN   \n",
       "10              Yoda    male    0.66    17.0     brown     brown      green   \n",
       "11        Darth Maul    male    1.75    80.0    yellow      none        red   \n",
       "12             Dooku    male    1.93    86.0     brown     brown      light   \n",
       "13         Chewbacca    male    2.28   112.0      blue     brown        NaN   \n",
       "14             Jabba    male    3.90     NaN    yellow      none  tan-green   \n",
       "15  Lando Calrissian    male    1.78    79.0     brown     blank       dark   \n",
       "16         Boba Fett    male    1.83    78.0     brown     black      brown   \n",
       "17        Jango Fett    male    1.83    79.0     brown     black      brown   \n",
       "18          Grievous    male    2.16   159.0      gold     black     orange   \n",
       "19      Chief Chirpa    male    1.00    50.0     black      gray      brown   \n",
       "\n",
       "       homeland      born      died      jedi      species           weapon  \n",
       "0      Tatooine   41.9BBY      4ABY  yes_jedi        human       lightsaber  \n",
       "1         Naboo     46BBY     19BBY   no_jedi        human          unarmed  \n",
       "2      Tatooine     19BBY  unk_died  yes_jedi        human       lightsaber  \n",
       "3      Alderaan     19BBY  unk_died   no_jedi        human          blaster  \n",
       "4    unk_planet     92BBY     32BBY  yes_jedi        human       lightsaber  \n",
       "5       Stewjon     57BBY      0BBY  yes_jedi        human       lightsaber  \n",
       "6      Corellia     29BBY  unk_died   no_jedi        human          blaster  \n",
       "7         Naboo     82BBY     10ABY   no_jedi        human  force-lightning  \n",
       "8         Naboo     33BBY  unk_died   no_jedi        droid          unarmed  \n",
       "9      Tatooine    112BBY      3ABY   no_jedi        droid          unarmed  \n",
       "10   unk_planet    896BBY      4ABY  yes_jedi         yoda       lightsaber  \n",
       "11     Dathomir     54BBY  unk_died   no_jedi  dathomirian       lightsaber  \n",
       "12      Serenno    102BBY     19BBY  yes_jedi        human       lightsaber  \n",
       "13     Kashyyyk    200BBY     25ABY   no_jedi      wookiee        bowcaster  \n",
       "14     Tatooine  unk_born      4ABY   no_jedi         hutt          unarmed  \n",
       "15      Socorro     31BBY  unk_died   no_jedi        human          blaster  \n",
       "16       Kamino   31.5BBY  unk_died   no_jedi        human          blaster  \n",
       "17  ConcordDawn     66BBY     22BBY   no_jedi        human          blaster  \n",
       "18        Kalee  unk_born     19BBY   no_jedi      kaleesh      slugthrower  \n",
       "19        Endor  unk_born      4ABY   no_jedi         ewok            spear  "
      ]
     },
     "execution_count": 5,
     "metadata": {},
     "output_type": "execute_result"
    }
   ],
   "source": [
    "import pandas as pd\n",
    "\n",
    "df = pd.read_csv(\n",
    "    \"https://raw.githubusercontent.com/gastonstat/matrix4sl/master/data/starwars.csv\"\n",
    ")\n",
    "df"
   ]
  },
  {
   "cell_type": "markdown",
   "metadata": {
    "slideshow": {
     "slide_type": "subslide"
    }
   },
   "source": [
    "La tabla consta de 20 filas y 7 columnas. Las filas corresponden a individuos y las columnas corresponden a variables. Aunque este conjunto de datos es un ejemplo de juguete, contiene variables de diferentes tipos que se encuentran comúnmente en conjuntos de datos reales."
   ]
  },
  {
   "cell_type": "markdown",
   "metadata": {
    "slideshow": {
     "slide_type": "slide"
    }
   },
   "source": [
    "Podemos clasificar las variables de dos formas diferentes. La forma más básica y habitual de clasificar variables es en dos tipos distintos: variables cuantitativas y variables categóricas (o cualitativas):\n",
    "\n",
    "<p align=\"center\">\n",
    "  <img width=\"750\" src=\"https://github.com/gastonstat/matrix4sl/raw/master/images/variables/variable-types.png\" alt=\"Variable Types\">\n",
    "</p>"
   ]
  },
  {
   "cell_type": "markdown",
   "metadata": {
    "slideshow": {
     "slide_type": "subslide"
    }
   },
   "source": [
    "Las variables `height` y `weight` son ejemplos de **variables cuantitativas** porque sus valores representan cantidades. Es decir, **se pueden medir numéricamente en algún tipo de escala de intervalo**.\n",
    "\n",
    "A su vez, variables `name`, `gender`, `species`, `jedi` y `weapon` son **variables categóricas o cualitativas** porque sus valores representan categorías (o cualidades). Más formalmente, **describen una cualidad de un individuo y le permiten ubicar a un individuo en una categoría o grupo**, como hombre o mujer."
   ]
  },
  {
   "cell_type": "markdown",
   "metadata": {
    "slideshow": {
     "slide_type": "subslide"
    }
   },
   "source": [
    "La división entre variables categóricas y cuantitativas no es la única. A menudo, los científicos de datos clasifican además las variables categóricas como nominales u ordinales. Asimismo, las variables cuantitativas se pueden clasificar en discretas o continuas. \n",
    "\n",
    "Este siguiente nivel de clasificación se basa principalmente en la noción de escalas de medición de las variables:\n",
    "\n",
    "<p align=\"center\">\n",
    "  <img width=\"1000\" src=\"https://github.com/gastonstat/matrix4sl/raw/master/images/variables/variable-qual-quant.png\" alt=\"Variable Types\">\n",
    "</p>"
   ]
  },
  {
   "cell_type": "markdown",
   "metadata": {
    "slideshow": {
     "slide_type": "slide"
    }
   },
   "source": [
    "### Variable nominal\n",
    "\n",
    "Una variable categórica es nominal cuando resulta de nombrar o etiquetar **valores que no tienen un orden natural**. Un ejemplo de una variable nominal es `weapon` que tiene los siguientes valores:"
   ]
  },
  {
   "cell_type": "code",
   "execution_count": 6,
   "metadata": {
    "hideCode": true,
    "hidePrompt": true,
    "slideshow": {
     "slide_type": "fragment"
    }
   },
   "outputs": [
    {
     "name": "stdout",
     "output_type": "stream",
     "text": [
      "['lightsaber' 'unarmed' 'blaster' 'force-lightning' 'bowcaster'\n",
      " 'slugthrower' 'spear']\n"
     ]
    }
   ],
   "source": [
    "print(df[\"weapon\"].unique())"
   ]
  },
  {
   "cell_type": "markdown",
   "metadata": {
    "slideshow": {
     "slide_type": "subslide"
    }
   },
   "source": [
    "¿Puedes ordenar las categorías de forma “natural”? Realmente no. \n",
    "\n",
    "El término nominal según el diccionario significa \"existente sólo de nombre\". Por tanto, los valores nominales son solo eso: **nombres**. \n",
    "\n",
    "No hay ninguna razón por la que el blaster sea mejor o más grande que el sable de luz. Se podría decir que prefiere un bláster a un sable de luz, pero esa es una variable diferente: preferencia personal."
   ]
  },
  {
   "cell_type": "markdown",
   "metadata": {
    "slideshow": {
     "slide_type": "subslide"
    }
   },
   "source": [
    "Otros ejemplos típicos de variables nominales son:\n",
    "\n",
    "- Sexo de un niño recién nacido: mujer u hombre\n",
    "- Etnia de un individuo: nativo americano, afroamericano, asiático, blanco\n",
    "- Sabores de helado: chocolate, vainilla, fresa\n",
    "- Números en las camisetas de los jugadores de un equipo de fútbol: números utilizados como identificadores"
   ]
  },
  {
   "cell_type": "markdown",
   "metadata": {
    "slideshow": {
     "slide_type": "slide"
    }
   },
   "source": [
    "### Variable ordinal\n",
    "\n",
    "Una variable categórica es ordinal cuando resulta de **ordenar valores en una serie de categorías cuando no se dispone de una escala numérica adecuada.** \n",
    "\n",
    "Por ejemplo, considere una variable \"frecuencia de uso\" medida con valores nunca, a veces y siempre. En este caso podemos ordenar las categorías de menos uso a más uso, o viceversa."
   ]
  },
  {
   "cell_type": "markdown",
   "metadata": {
    "slideshow": {
     "slide_type": "subslide"
    }
   },
   "source": [
    "Algunos ejemplos de variables ordinales son:\n",
    "\n",
    "- Tamaño de la ropa: extra-pequeña, pequeña, mediana, grande, extra-grande\n",
    "- Año universitario: cachimbo, estudios generales, estudios en facultad, egresado\n",
    "- Picante: ninguno, leve, moderado, mucho\n",
    "- Rangos jedis: joven, padawan, caballero, maestro y gran maestro"
   ]
  },
  {
   "cell_type": "markdown",
   "metadata": {
    "slideshow": {
     "slide_type": "slide"
    }
   },
   "source": [
    "### Variable discreta\n",
    "\n",
    "Una variable cuantitativa es discreta cuando resulta de **contar**. Para ser más precisos, una variable discreta toma cero o un valor entero positivo. \n",
    "\n",
    "Algunos ejemplos de variables discretas son:\n",
    "\n",
    "- Número de ewooks masculinos en una familia con cuatro hijos (0, 1, 2, 3 o 4).\n",
    "- Número de robots por Destructor Estelar Imperial\n",
    "- Cantidad de lunas que orbitan alrededor de un planeta"
   ]
  },
  {
   "cell_type": "markdown",
   "metadata": {
    "slideshow": {
     "slide_type": "slide"
    }
   },
   "source": [
    "### Variable continua\n",
    "\n",
    "Una variable cuantitativa es continua cuando resulta de una **medición**. Más técnicamente, una variable continua en teoría toma un número infinito de valores posibles, sin embargo, sus valores reportados están sujetos a la precisión o exactitud del dispositivo de medición. \n",
    "\n",
    "Algunos ejemplos de variables continuas son:\n",
    "\n",
    "- Altura de un individuo\n",
    "- Peso de un robot\n",
    "- Velocidad de una nave estelar"
   ]
  },
  {
   "cell_type": "markdown",
   "metadata": {
    "slideshow": {
     "slide_type": "slide"
    }
   },
   "source": [
    "### ¡Advertencia!\n",
    "\n",
    "Ten en cuenta que no todas las variables encajan de forma ordenada e inequívoca en una de las clases anteriores. \n",
    "\n",
    "Veamos un ejemplo con la variable edad:\n",
    "\n",
    "- Podría considerarse como una variable discreta cuando se informa en un número (completo) de años. \n",
    "- Podría considerarse continua cuando se mide en una escala más granular: días, horas o segundos. \n",
    "- Podría informarse en categorías ordenadas como 0 a 5 años, 6 a 10, 11 a 15, etc. Estos valores convertirían la edad en una variable ordinal."
   ]
  },
  {
   "cell_type": "markdown",
   "metadata": {
    "slideshow": {
     "slide_type": "slide"
    }
   },
   "source": [
    "## Familia de modelos multivariados\n",
    "\n",
    "Conocer los tipos de variables es fundamental para determinar qué técnicas multivariadas son las más aplicables a los datos, con consideraciones específicas tanto para las variables independientes como para las dependientes. \n",
    "\n",
    "De hecho, **la naturaleza cuantitativa o categórica de las variables independientes y dependientes son los factores determinantes en la selección del modelo apropiado**.\n",
    "\n",
    "A continuación presentamos una síntesis de los modelos de análisis multivariado que estudiaremos en el curso, según el tipo de variable que utilizan:"
   ]
  },
  {
   "cell_type": "markdown",
   "metadata": {
    "slideshow": {
     "slide_type": "subslide"
    }
   },
   "source": [
    "**Análisis Factorial Exploratorio**\n",
    "\n",
    "$\\mathbf{X} = \\mathbf{\\Lambda} f + \\mathbf{u}$\n",
    "\n",
    "*(cuantitativa) = (cuantitativa)*\n",
    "\n",
    "**Análisis de Varianza (ANOVA)**\n",
    "\n",
    "$ Y_{1} = X_{1} + X_{2} + X_{3} + ... + X_{n} $\n",
    "\n",
    "*(cuantitativa) = (categórica)*\n",
    "\n",
    "**Análisis de Varianza Múltiple (MANOVA)**\n",
    "\n",
    "$ Y_{1} + Y_{2} + Y_{3} + ... + Y_{n} = X_{1} + X_{2} + X_{3} + ... + X_{n} $\n",
    "\n",
    "*(cuantitativa) = (categórica,cuantitativa)*"
   ]
  },
  {
   "cell_type": "markdown",
   "metadata": {
    "slideshow": {
     "slide_type": "subslide"
    }
   },
   "source": [
    "**Análisis de Regresión Logística**\n",
    "\n",
    "$ Y_{1} = X_{1} + X_{2} + X_{3} + ... + X_{n} $\n",
    "\n",
    "*(cuantitativa binaria) = (cuantitativa, categórica)*\n",
    "\n",
    "**Análisis de Regresión Múltiple**\n",
    "\n",
    "$ Y_{1} = X_{1} + X_{2} + X_{3} + ... + X_{n} $\n",
    "\n",
    "*(cuantitativa) = (cuantitativa, categórica)*\n",
    "\n",
    "**Modelo de Ecuaciones Estructurales (SEM)**\n",
    "\n",
    "$ Y_{1} = X_{11} + X_{12} + X_{13} + ... + X_{1n} $\n",
    "\n",
    "$ Y_{2} = X_{21} + X_{22} + X_{23} + ... + X_{2n} $\n",
    "\n",
    "$ Y_{m} = X_{m1} + X_{m2} + X_{m3} + ... + X_{mn} $"
   ]
  },
  {
   "cell_type": "markdown",
   "metadata": {
    "slideshow": {
     "slide_type": "slide"
    }
   },
   "source": [
    "# Preprocesamiento de datos\n",
    "  \n",
    "## Representación de datos multivariados\n",
    "\n",
    "### Matriz de datos\n",
    "  \n",
    "La entrada principal de cualquier modelo multivariado consiste en la matriz de datos, o en algunos casos, matrices. Para hacer las cosas menos abstractas, recordemos nuestro ejemplo de Star Wars:\n",
    "  "
   ]
  },
  {
   "cell_type": "code",
   "execution_count": 7,
   "metadata": {
    "hideCode": true,
    "hidePrompt": true,
    "slideshow": {
     "slide_type": "subslide"
    }
   },
   "outputs": [
    {
     "data": {
      "text/html": [
       "<div>\n",
       "<style scoped>\n",
       "    .dataframe tbody tr th:only-of-type {\n",
       "        vertical-align: middle;\n",
       "    }\n",
       "\n",
       "    .dataframe tbody tr th {\n",
       "        vertical-align: top;\n",
       "    }\n",
       "\n",
       "    .dataframe thead th {\n",
       "        text-align: right;\n",
       "    }\n",
       "</style>\n",
       "<table border=\"1\" class=\"dataframe\">\n",
       "  <thead>\n",
       "    <tr style=\"text-align: right;\">\n",
       "      <th></th>\n",
       "      <th>name</th>\n",
       "      <th>gender</th>\n",
       "      <th>height</th>\n",
       "      <th>weight</th>\n",
       "      <th>eyecolor</th>\n",
       "      <th>haircolor</th>\n",
       "      <th>skincolor</th>\n",
       "      <th>homeland</th>\n",
       "      <th>born</th>\n",
       "      <th>died</th>\n",
       "      <th>jedi</th>\n",
       "      <th>species</th>\n",
       "      <th>weapon</th>\n",
       "    </tr>\n",
       "  </thead>\n",
       "  <tbody>\n",
       "    <tr>\n",
       "      <th>0</th>\n",
       "      <td>Anakin Skywalker</td>\n",
       "      <td>male</td>\n",
       "      <td>1.88</td>\n",
       "      <td>84.0</td>\n",
       "      <td>blue</td>\n",
       "      <td>blond</td>\n",
       "      <td>fair</td>\n",
       "      <td>Tatooine</td>\n",
       "      <td>41.9BBY</td>\n",
       "      <td>4ABY</td>\n",
       "      <td>yes_jedi</td>\n",
       "      <td>human</td>\n",
       "      <td>lightsaber</td>\n",
       "    </tr>\n",
       "    <tr>\n",
       "      <th>1</th>\n",
       "      <td>Padme Amidala</td>\n",
       "      <td>female</td>\n",
       "      <td>1.65</td>\n",
       "      <td>45.0</td>\n",
       "      <td>brown</td>\n",
       "      <td>brown</td>\n",
       "      <td>light</td>\n",
       "      <td>Naboo</td>\n",
       "      <td>46BBY</td>\n",
       "      <td>19BBY</td>\n",
       "      <td>no_jedi</td>\n",
       "      <td>human</td>\n",
       "      <td>unarmed</td>\n",
       "    </tr>\n",
       "    <tr>\n",
       "      <th>2</th>\n",
       "      <td>Luke Skywalker</td>\n",
       "      <td>male</td>\n",
       "      <td>1.72</td>\n",
       "      <td>77.0</td>\n",
       "      <td>blue</td>\n",
       "      <td>blond</td>\n",
       "      <td>fair</td>\n",
       "      <td>Tatooine</td>\n",
       "      <td>19BBY</td>\n",
       "      <td>unk_died</td>\n",
       "      <td>yes_jedi</td>\n",
       "      <td>human</td>\n",
       "      <td>lightsaber</td>\n",
       "    </tr>\n",
       "    <tr>\n",
       "      <th>3</th>\n",
       "      <td>Leia Organa</td>\n",
       "      <td>female</td>\n",
       "      <td>1.50</td>\n",
       "      <td>49.0</td>\n",
       "      <td>brown</td>\n",
       "      <td>brown</td>\n",
       "      <td>light</td>\n",
       "      <td>Alderaan</td>\n",
       "      <td>19BBY</td>\n",
       "      <td>unk_died</td>\n",
       "      <td>no_jedi</td>\n",
       "      <td>human</td>\n",
       "      <td>blaster</td>\n",
       "    </tr>\n",
       "    <tr>\n",
       "      <th>4</th>\n",
       "      <td>Qui-Gon Jinn</td>\n",
       "      <td>male</td>\n",
       "      <td>1.93</td>\n",
       "      <td>88.5</td>\n",
       "      <td>blue</td>\n",
       "      <td>brown</td>\n",
       "      <td>light</td>\n",
       "      <td>unk_planet</td>\n",
       "      <td>92BBY</td>\n",
       "      <td>32BBY</td>\n",
       "      <td>yes_jedi</td>\n",
       "      <td>human</td>\n",
       "      <td>lightsaber</td>\n",
       "    </tr>\n",
       "  </tbody>\n",
       "</table>\n",
       "</div>"
      ],
      "text/plain": [
       "               name  gender  height  weight eyecolor haircolor skincolor  \\\n",
       "0  Anakin Skywalker    male    1.88    84.0     blue     blond      fair   \n",
       "1     Padme Amidala  female    1.65    45.0    brown     brown     light   \n",
       "2    Luke Skywalker    male    1.72    77.0     blue     blond      fair   \n",
       "3       Leia Organa  female    1.50    49.0    brown     brown     light   \n",
       "4      Qui-Gon Jinn    male    1.93    88.5     blue     brown     light   \n",
       "\n",
       "     homeland     born      died      jedi species      weapon  \n",
       "0    Tatooine  41.9BBY      4ABY  yes_jedi   human  lightsaber  \n",
       "1       Naboo    46BBY     19BBY   no_jedi   human     unarmed  \n",
       "2    Tatooine    19BBY  unk_died  yes_jedi   human  lightsaber  \n",
       "3    Alderaan    19BBY  unk_died   no_jedi   human     blaster  \n",
       "4  unk_planet    92BBY     32BBY  yes_jedi   human  lightsaber  "
      ]
     },
     "execution_count": 7,
     "metadata": {},
     "output_type": "execute_result"
    }
   ],
   "source": [
    "df.head()"
   ]
  },
  {
   "cell_type": "markdown",
   "metadata": {
    "slideshow": {
     "slide_type": "slide"
    }
   },
   "source": [
    "La razón para usar matrices es simple: **la estructura típica en la que los datos se pueden manipular matemáticamente desde un punto de vista multivariante es una matriz de datos**. Ningún otro objeto matemático se adapta tan bien a la estructura rectangular de una tabla de datos.\n",
    "\n",
    "Dado que nos estamos adentrando en un territorio matemático más formal, necesitamos definir alguna terminología y notación que usaremos en el resto del curso."
   ]
  },
  {
   "cell_type": "markdown",
   "metadata": {
    "slideshow": {
     "slide_type": "subslide"
    }
   },
   "source": [
    "Vamos a representar matrices con letras mayúsculas en negrita como $\\mathbf{A}$ o $\\mathbf{B}$.\n",
    "\n",
    "En general, una matriz $\\mathbf{X}$ tiene $n$ filas y *p* columnas, y decimos que $\\mathbf{X}$ es una matriz $n × p$. Además, vamos a suponer que todas las matrices son matrices reales, es decir, matrices que contienen elementos en el conjunto de números reales.\n",
    "\n",
    "$$\\underset{n \\times p}{\\mathbf{X}} = \n",
    "\\left[\\begin{array}{ccccc}\n",
    "x_{11} & \\cdots & x_{1j} & \\cdots & x_{1p} \\\\\n",
    "\\vdots &        & \\vdots &        & \\vdots \\\\\n",
    "x_{i1} & \\cdots & x_{ij} & \\cdots & x_{ip} \\\\\n",
    "\\vdots &        & \\vdots &        & \\vdots \\\\\n",
    "x_{n1} & \\cdots & x_{nj} & \\cdots & x_{np} \\\\\n",
    "\\end{array}\\right]$$\n",
    "\n",
    "Un elemento de una matriz $\\mathbf{X}$ se denota por $x_{ij}$, que representa el elemento en la i-ésima fila y la j-ésima columna. Por ejemplo, el elemento $x_{24}$ en nuestra matriz de datos de juguete 6 × 4 tiene el valor 45 y representa el peso de Padme Amidala."
   ]
  },
  {
   "cell_type": "code",
   "execution_count": 8,
   "metadata": {
    "hideCode": true,
    "hidePrompt": true,
    "slideshow": {
     "slide_type": "skip"
    }
   },
   "outputs": [
    {
     "data": {
      "text/plain": [
       "45.0"
      ]
     },
     "execution_count": 8,
     "metadata": {},
     "output_type": "execute_result"
    }
   ],
   "source": [
    "df.iloc[1, 3]"
   ]
  },
  {
   "cell_type": "markdown",
   "metadata": {
    "slideshow": {
     "slide_type": "subslide"
    }
   },
   "source": [
    "Junto con las matrices también tenemos **variables y vectores**. Vamos a representar variables con letras mayúsculas en cursiva como $Y$ y $Z$. Además, las variables en una matriz $\\mathbf{X}$ se pueden representar con subíndices como $X_{j}$ para indicar la posición del índice de la columna. Las primeras tres variables de nuestra matriz $\\mathbf{X}$ se representarían como $X_{1}$ (género), $X_{2}$ (altura) y $X_{3}$ (peso).\n",
    "\n",
    "Los vectores se representarán con letras minúsculas en negrita, como $w$ o $u$. Un vector $w$ con $m$ elementos se puede expresar como $w = (w_{1}, w_{2},…,w_{m})$. \n",
    "\n",
    "Dado que las variables se pueden expresar como vectores, podemos usar la notación vectorial $x$ para representar una variable $X$. Sin embargo, tenga en cuenta que no todos los vectores son variables: un vector bien puede referirse a un objeto o a cualquier fila de una matriz."
   ]
  },
  {
   "cell_type": "markdown",
   "metadata": {
    "slideshow": {
     "slide_type": "slide"
    }
   },
   "source": [
    "#### Representaciones de matrices\n",
    "\n",
    "Descubrirá que las personas representan matrices de múltiples formas, utilizando diversas notaciones, símbolos y diagramas.\n",
    "\n",
    "Podemos representar una matriz de datos $\\mathbf{X}$ simplemente considerando la matriz desde la perspectiva de sus columnas (es decir, variables):\n",
    "\n",
    "$$\\mathbf{X} =\n",
    "\\left[\\begin{array}{c|c|c|c|c|c}\n",
    "  &   &   &   &  & \\\\\n",
    "  \\mathbf{x}_{1} & \\mathbf{x}_{2} & \\cdots & \\mathbf{x}_{j} & \\cdots & \\mathbf{x}_{p} \\\\\n",
    "  &   &   &   &  & \\\\\n",
    "\\end{array}\\right]$$\n",
    "\n",
    "Ten en cuenta que cada variable $X_{j}$ se representa con un vector de columna $x_{j}$. A su vez, las líneas verticales son solo una señal visual que indica la separación entre columnas. "
   ]
  },
  {
   "cell_type": "markdown",
   "metadata": {
    "slideshow": {
     "slide_type": "subslide"
    }
   },
   "source": [
    "Tomando nuestra matriz de datos de datos de juguete, podríamos representarla como:\n",
    "\n",
    "$$ \\mathbf{Data} =\n",
    "\\left[\\begin{array}{c|c|c|c}\n",
    "  &   &   &  \\\\\n",
    "  \\texttt{gender} & \\texttt{height} & \\texttt{weight} & \\texttt{jedi} \\\\\n",
    "  &   &   &  \\\\\n",
    "\\end{array}\\right] $$"
   ]
  },
  {
   "cell_type": "markdown",
   "metadata": {
    "slideshow": {
     "slide_type": "subslide"
    }
   },
   "source": [
    "Al ser más minimalistas, incluso podemos obtener una representación más compacta simplemente expresando una matriz $\\mathbf{X}$ como una lista o secuencia de sus variables:\n",
    "\n",
    "$$\\mathbf{X} = \n",
    "\\left[\\begin{array}{cccccc}\n",
    "\\mathbf{x}_{1} & \\mathbf{x}_{2} & \\cdots & \\mathbf{x}_{j} & \\cdots & \\mathbf{x}_{p} \\\\\n",
    "\\end{array}\\right]$$"
   ]
  },
  {
   "cell_type": "markdown",
   "metadata": {
    "slideshow": {
     "slide_type": "slide"
    }
   },
   "source": [
    "## Visualización de datos multivariados\n",
    "\n",
    "Anteriormente hemos revisado alternativas de visualización para una o pocas variables, tales como gráficos de cajas y de dispersión. \n",
    "\n",
    "Extendamos ahora el ya conocido gráfico de dispersión para examinar potenciales correlaciones entre múltiples variables. "
   ]
  },
  {
   "cell_type": "markdown",
   "metadata": {
    "slideshow": {
     "slide_type": "subslide"
    }
   },
   "source": [
    "Tomemos como ejemplo una base de datos sobre la prevalencia de desórdenes de salud mental en los diferentes países. Para examinar si existen correlaciones entre las prevalencias de las condiciones de salud mental podemos calcular una matriz de correlación y una matriz de gŕaficos de dispersión:"
   ]
  },
  {
   "cell_type": "code",
   "execution_count": 9,
   "metadata": {
    "hideCode": true,
    "hidePrompt": true,
    "slideshow": {
     "slide_type": "fragment"
    }
   },
   "outputs": [
    {
     "data": {
      "text/html": [
       "<div>\n",
       "<style scoped>\n",
       "    .dataframe tbody tr th:only-of-type {\n",
       "        vertical-align: middle;\n",
       "    }\n",
       "\n",
       "    .dataframe tbody tr th {\n",
       "        vertical-align: top;\n",
       "    }\n",
       "\n",
       "    .dataframe thead th {\n",
       "        text-align: right;\n",
       "    }\n",
       "</style>\n",
       "<table border=\"1\" class=\"dataframe\">\n",
       "  <thead>\n",
       "    <tr style=\"text-align: right;\">\n",
       "      <th></th>\n",
       "      <th>schizophrenia</th>\n",
       "      <th>bipolar_disorder</th>\n",
       "      <th>eating_disorders</th>\n",
       "      <th>anxiety_disorders</th>\n",
       "      <th>drug_use_disorders</th>\n",
       "      <th>depression</th>\n",
       "      <th>alcohol_use_disorders</th>\n",
       "    </tr>\n",
       "  </thead>\n",
       "  <tbody>\n",
       "    <tr>\n",
       "      <th>schizophrenia</th>\n",
       "      <td>1.000000</td>\n",
       "      <td>0.173674</td>\n",
       "      <td>0.666105</td>\n",
       "      <td>0.439769</td>\n",
       "      <td>0.451325</td>\n",
       "      <td>0.137445</td>\n",
       "      <td>-0.038541</td>\n",
       "    </tr>\n",
       "    <tr>\n",
       "      <th>bipolar_disorder</th>\n",
       "      <td>0.173674</td>\n",
       "      <td>1.000000</td>\n",
       "      <td>0.708689</td>\n",
       "      <td>0.664272</td>\n",
       "      <td>0.333623</td>\n",
       "      <td>0.119275</td>\n",
       "      <td>0.097854</td>\n",
       "    </tr>\n",
       "    <tr>\n",
       "      <th>eating_disorders</th>\n",
       "      <td>0.666105</td>\n",
       "      <td>0.708689</td>\n",
       "      <td>1.000000</td>\n",
       "      <td>0.696959</td>\n",
       "      <td>0.443773</td>\n",
       "      <td>0.238986</td>\n",
       "      <td>0.051914</td>\n",
       "    </tr>\n",
       "    <tr>\n",
       "      <th>anxiety_disorders</th>\n",
       "      <td>0.439769</td>\n",
       "      <td>0.664272</td>\n",
       "      <td>0.696959</td>\n",
       "      <td>1.000000</td>\n",
       "      <td>0.598606</td>\n",
       "      <td>0.390042</td>\n",
       "      <td>-0.130473</td>\n",
       "    </tr>\n",
       "    <tr>\n",
       "      <th>drug_use_disorders</th>\n",
       "      <td>0.451325</td>\n",
       "      <td>0.333623</td>\n",
       "      <td>0.443773</td>\n",
       "      <td>0.598606</td>\n",
       "      <td>1.000000</td>\n",
       "      <td>0.390894</td>\n",
       "      <td>-0.110121</td>\n",
       "    </tr>\n",
       "    <tr>\n",
       "      <th>depression</th>\n",
       "      <td>0.137445</td>\n",
       "      <td>0.119275</td>\n",
       "      <td>0.238986</td>\n",
       "      <td>0.390042</td>\n",
       "      <td>0.390894</td>\n",
       "      <td>1.000000</td>\n",
       "      <td>-0.014848</td>\n",
       "    </tr>\n",
       "    <tr>\n",
       "      <th>alcohol_use_disorders</th>\n",
       "      <td>-0.038541</td>\n",
       "      <td>0.097854</td>\n",
       "      <td>0.051914</td>\n",
       "      <td>-0.130473</td>\n",
       "      <td>-0.110121</td>\n",
       "      <td>-0.014848</td>\n",
       "      <td>1.000000</td>\n",
       "    </tr>\n",
       "  </tbody>\n",
       "</table>\n",
       "</div>"
      ],
      "text/plain": [
       "                       schizophrenia  bipolar_disorder  eating_disorders  \\\n",
       "schizophrenia               1.000000          0.173674          0.666105   \n",
       "bipolar_disorder            0.173674          1.000000          0.708689   \n",
       "eating_disorders            0.666105          0.708689          1.000000   \n",
       "anxiety_disorders           0.439769          0.664272          0.696959   \n",
       "drug_use_disorders          0.451325          0.333623          0.443773   \n",
       "depression                  0.137445          0.119275          0.238986   \n",
       "alcohol_use_disorders      -0.038541          0.097854          0.051914   \n",
       "\n",
       "                       anxiety_disorders  drug_use_disorders  depression  \\\n",
       "schizophrenia                   0.439769            0.451325    0.137445   \n",
       "bipolar_disorder                0.664272            0.333623    0.119275   \n",
       "eating_disorders                0.696959            0.443773    0.238986   \n",
       "anxiety_disorders               1.000000            0.598606    0.390042   \n",
       "drug_use_disorders              0.598606            1.000000    0.390894   \n",
       "depression                      0.390042            0.390894    1.000000   \n",
       "alcohol_use_disorders          -0.130473           -0.110121   -0.014848   \n",
       "\n",
       "                       alcohol_use_disorders  \n",
       "schizophrenia                      -0.038541  \n",
       "bipolar_disorder                    0.097854  \n",
       "eating_disorders                    0.051914  \n",
       "anxiety_disorders                  -0.130473  \n",
       "drug_use_disorders                 -0.110121  \n",
       "depression                         -0.014848  \n",
       "alcohol_use_disorders               1.000000  "
      ]
     },
     "execution_count": 9,
     "metadata": {},
     "output_type": "execute_result"
    }
   ],
   "source": [
    "df_subsdis = pd.read_csv(\n",
    "    \"https://raw.githubusercontent.com/renatoparedes/IntroPythonInvestigacionPsicologia/master/AnalisisdeDatosCuantitativos/depression-data-subsdis.csv\"\n",
    ")\n",
    "df_subsdis.drop(columns=[\"year\"], inplace=True)\n",
    "df_subsdis.corr()"
   ]
  },
  {
   "cell_type": "code",
   "execution_count": 10,
   "metadata": {
    "hideCode": true,
    "hidePrompt": true,
    "slideshow": {
     "slide_type": "subslide"
    }
   },
   "outputs": [
    {
     "data": {
      "image/png": "[encoded data removed]",
      "text/plain": [
       "<Figure size 432x288 with 2 Axes>"
      ]
     },
     "metadata": {
      "needs_background": "light"
     },
     "output_type": "display_data"
    }
   ],
   "source": [
    "import seaborn as sns\n",
    "import matplotlib.pyplot as plt\n",
    "\n",
    "sns.heatmap(df_subsdis.corr())\n",
    "plt.show()"
   ]
  },
  {
   "cell_type": "code",
   "execution_count": 11,
   "metadata": {
    "hideCode": true,
    "hidePrompt": true,
    "slideshow": {
     "slide_type": "subslide"
    }
   },
   "outputs": [
    {
     "data": {
      "image/png": "[encoded data removed]",
      "text/plain": [
       "<Figure size 1260x1260 with 56 Axes>"
      ]
     },
     "metadata": {},
     "output_type": "display_data"
    }
   ],
   "source": [
    "sns.set_theme(style=\"ticks\")\n",
    "sns.pairplot(df_subsdis, diag_kind=\"kde\")\n",
    "plt.show()"
   ]
  },
  {
   "cell_type": "markdown",
   "metadata": {
    "slideshow": {
     "slide_type": "slide"
    }
   },
   "source": [
    "## Manejo de datos perdidos\n",
    "\n",
    "Al momento de trabajar con una matriz de datos es importante examinar la presencia de datos perdidos. Si no damos un **tratamiento riguroso** a los datos perdidos quedamos expuestos a: \n",
    "\n",
    "- Reducción del tamaño de muestra disponible para el análisis.\n",
    "- Datos sesgados cuando datos perdidos no siguen un patrón aleatorio.\n",
    "\n",
    "Para un adecuado tratamiento de datos perdidos, podemos seguir 4 pasos."
   ]
  },
  {
   "cell_type": "markdown",
   "metadata": {
    "slideshow": {
     "slide_type": "slide"
    }
   },
   "source": [
    "### Paso 1: Determinar el tipo de datos perdidos\n",
    "\n",
    "#### Datos perdidos ignorables \n",
    "\n",
    "Son **inherentes al diseño de investigación y se espera que ocurran.** \n",
    "\n",
    "La justificación para designar los datos faltantes como ignorables es que el proceso de datos faltantes está operando al azar (es decir, los valores observados son una muestra aleatoria del conjunto total de valores, observados y faltantes) o acomodándose explícitamente a la técnica utilizada. "
   ]
  },
  {
   "cell_type": "markdown",
   "metadata": {
    "slideshow": {
     "slide_type": "subslide"
    }
   },
   "source": [
    "Hay tres casos en los que un investigador se encuentra con mayor frecuencia con datos faltantes ignorables:\n",
    "\n",
    "- Una muestra como datos faltantes: cuando la muestra proviene de un muestreo probabilístico.\n",
    "- Parte de la recolección de datos: cuando los participantes omiten respuestas que no aplican para ellos.\n",
    "- Datos censurados: observaciones no completas debido a su etapa en el proceso de datos faltantes."
   ]
  },
  {
   "cell_type": "markdown",
   "metadata": {
    "slideshow": {
     "slide_type": "subslide"
    }
   },
   "source": [
    "#### Datos perdidos no ignorables \n",
    "\n",
    "Provienen de procesos conocidos por el investigador o de procesos desconocidos. En ambos casos **escapan al control del investigador y este no cuenta con un medio explícito para acomodar los datos faltantes en el análisis**. Pueden ser:"
   ]
  },
  {
   "cell_type": "markdown",
   "metadata": {
    "slideshow": {
     "slide_type": "subslide"
    }
   },
   "source": [
    "\n",
    "- **Procesos conocidos:** pueden ser identificados debido a factores de procedimiento, como errores en el ingreso de datos que crean códigos inválidos, restricciones de confidencialidad, no completar el cuestionario completo o incluso morbilidad del encuestado. \n",
    "  \n",
    "- **Procesos desconocidos:** la mayoría de las veces estos casos están relacionados directamente con el encuestado. Un ejemplo es la negativa a responder a determinadas preguntas, que es común en cuestiones de naturaleza delicada (por ejemplo, ingresos o cuestiones controvertidas) o cuando el encuestado no tiene opinión o conocimientos insuficientes para responder a la pregunta.\n",
    "\n",
    "En ambos casos, cuando los datos faltantes ocurren en un patrón aleatorio, puede haber remedios disponibles para mitigar su efecto."
   ]
  },
  {
   "cell_type": "markdown",
   "metadata": {
    "slideshow": {
     "slide_type": "slide"
    }
   },
   "source": [
    "### Paso 2: Determinar la cantidad de datos perdidos\n",
    "\n",
    "Se busca determinar si la cantidad de datos faltantes es lo suficientemente baja como para no afectar los resultados, incluso si estos operan de manera no aleatoria. \n",
    "\n",
    "Si es lo suficientemente baja, entonces se puede aplicar cualquiera de los enfoques para remediar los datos faltantes. Si el nivel de datos faltantes no es lo suficientemente bajo, primero debemos determinar la aleatoriedad del proceso de datos faltantes antes de seleccionar una solución. "
   ]
  },
  {
   "cell_type": "markdown",
   "metadata": {
    "slideshow": {
     "slide_type": "subslide"
    }
   },
   "source": [
    "¿Qué es lo suficientemente bajo?\n",
    "\n",
    "El análisis debe considerarse en **variables individuales, casos individuales o de manera global**. Se cuenta con los siguientes criterios generales:\n",
    "\n",
    "- **10 por ciento o menos:** los casos u observaciones con hasta un 10 por ciento de datos faltantes son generalmente aceptables y susceptibles de cualquier estrategia de imputación.\n",
    "- **Muestra mínima suficiente:** la muestra mínima con datos completos (es decir, sin datos faltantes en todas las variables) es suficiente para la estimación del modelo."
   ]
  },
  {
   "cell_type": "markdown",
   "metadata": {
    "slideshow": {
     "slide_type": "subslide"
    }
   },
   "source": [
    "El investigador debe considerar el **remedio simple de eliminar los casos o variables infractores con niveles excesivos de datos faltantes**. \n",
    "\n",
    "El investigador puede encontrar que los datos faltantes se concentran en un pequeño subconjunto de casos o variables, y su exclusión reduce sustancialmente la extensión de los datos faltantes. En este caso, se sugiere **considerar:**\n",
    "\n",
    "- Los casos en los que faltan datos para las variables dependientes generalmente se eliminan para evitar cualquier aumento artificial en las relaciones con las variables independientes.\n",
    "- Siempre considere realizar el análisis con y sin los casos o variables eliminadas para identificar diferencias marcadas."
   ]
  },
  {
   "cell_type": "markdown",
   "metadata": {
    "slideshow": {
     "slide_type": "slide"
    }
   },
   "source": [
    "### Paso 3: Diagnosticar el tipo de aleatoriedad de los datos perdidos\n",
    "\n",
    "Imagina que se recopila información sobre dos variables (X e Y). A X no le faltan datos, pero a Y le faltan algunos datos. **Un proceso de datos faltantes no aleatorios está presente entre X e Y cuando ocurren diferencias significativas en los valores de X entre los casos que tienen datos válidos para Y versus aquellos casos con datos faltantes en Y**.\n",
    "\n",
    "Dos características distinguen los tipos de datos perdidos: \n",
    "- La aleatoriedad de los valores faltantes entre los valores de Y\n",
    "- El grado de asociación entre la falta de una variable (en nuestro ejemplo Y) y otras variables observadas en el conjunto de datos (en nuestro ejemplo X)."
   ]
  },
  {
   "cell_type": "markdown",
   "metadata": {
    "slideshow": {
     "slide_type": "subslide"
    }
   },
   "source": [
    "Presentamos las tres categorías:\n",
    "\n",
    "- **Missing at random (MAR):** cuando los valores observados de Y se distribuyen aleatoriamente para cada nivel de X, pero los datos observados de Y no representan necesariamente una muestra verdaderamente aleatoria de todos los valores de Y. Ejemplo: género e ingreso.\n",
    " \n",
    "- **Missing completely at random (MCAR):** cuando los valores observados de Y son una verdadera muestra aleatoria de todos los valores posibles en la población.\n",
    "\n",
    "- **Not missing at random (MNAR):** cuando un patrón no aleatorio se encuentra entre los valores de Y, y la ausencia de los valores de Y puede estar o no relacionada con los valores de X."
   ]
  },
  {
   "cell_type": "markdown",
   "metadata": {
    "slideshow": {
     "slide_type": "slide"
    }
   },
   "source": [
    "### Paso 4: Seleccionar el método de imputación\n",
    "\n",
    "Por imputación nos referimos a la **estimación de los valores de casos perdidos en base a valores válidos de otras variables**. \n",
    "\n",
    "La decisión sobre el método a utilizar **se basa principalmente en si los datos faltantes son MAR o MCAR**, pero en ambos casos el investigador tiene varias opciones de imputación."
   ]
  },
  {
   "cell_type": "markdown",
   "metadata": {
    "slideshow": {
     "slide_type": "subslide"
    }
   },
   "source": [
    "#### Imputación de datos MCAR  \n",
    "\n",
    "Se utiliza uno de los dos enfoques básicos: usar solo datos válidos o definir valores de reemplazo para los datos faltantes. A continuación se presentan algunas alternativas:\n",
    "\n",
    "- Enfoque “Caso completo”: Incluir solo aquellas observaciones con datos completos. Poco recomendado. \n",
    "- Sustitución por la media: Reemplaza los valores perdidos de una variable con el valor medio de esa variable calculado a partir de todas las respuestas válidas."
   ]
  },
  {
   "cell_type": "markdown",
   "metadata": {
    "slideshow": {
     "slide_type": "subslide"
    }
   },
   "source": [
    "#### Imputación de datos MAR\n",
    "\n",
    "Si se encuentra un patrón de datos faltantes no aleatorios o MAR, el investigador debe aplicar solo un remedio: el **enfoque de modelado** diseñado específicamente para tratar con esto. \n",
    "\n",
    "La aplicación de cualquier otro método introduce sesgos en los resultados. \n",
    "\n",
    "A continuación, presentamos uno de los métodos más populares:"
   ]
  },
  {
   "cell_type": "markdown",
   "metadata": {
    "slideshow": {
     "slide_type": "subslide"
    }
   },
   "source": [
    "##### MICE: Imputación múltiple por ecuación encadenada. \n",
    "\n",
    "El procedimiento de imputación múltiple es, como su nombre lo indica, un proceso de **generación de múltiples conjuntos de datos con los datos imputados que difieren en cada conjunto de datos**, para proporcionar, en conjunto, estimaciones de parámetros no sesgadas y estimaciones correctas de los errores estándar. \n",
    "\n",
    "En el caso del procedimiento MICE, se utiliza una **regresión lineal de manera iterativa para predecir los valores perdidos a partir de los valores disponibles**."
   ]
  },
  {
   "cell_type": "markdown",
   "metadata": {
    "slideshow": {
     "slide_type": "slide"
    }
   },
   "source": [
    "#### Veamos un ejemplo\n",
    "\n",
    "Exploremos la base de datos que corresponde a un estudio de mercado de la compañía HBAT. \n",
    "\n",
    "La base de datos cuenta con 9 variables cuantitativas (V1 a V9) relacionadas a la percepción del desempeño de la compañía y 5 variables categóricas (V10 a V14) relacionadas a las características de los encuestados."
   ]
  },
  {
   "cell_type": "code",
   "execution_count": 12,
   "metadata": {
    "hideCode": true,
    "hideOutput": false,
    "hidePrompt": true,
    "slideshow": {
     "slide_type": "fragment"
    }
   },
   "outputs": [
    {
     "data": {
      "text/html": [
       "<div>\n",
       "<style scoped>\n",
       "    .dataframe tbody tr th:only-of-type {\n",
       "        vertical-align: middle;\n",
       "    }\n",
       "\n",
       "    .dataframe tbody tr th {\n",
       "        vertical-align: top;\n",
       "    }\n",
       "\n",
       "    .dataframe thead th {\n",
       "        text-align: right;\n",
       "    }\n",
       "</style>\n",
       "<table border=\"1\" class=\"dataframe\">\n",
       "  <thead>\n",
       "    <tr style=\"text-align: right;\">\n",
       "      <th></th>\n",
       "      <th>ID</th>\n",
       "      <th>V1</th>\n",
       "      <th>V2</th>\n",
       "      <th>V3</th>\n",
       "      <th>V4</th>\n",
       "      <th>V5</th>\n",
       "      <th>V6</th>\n",
       "      <th>V7</th>\n",
       "      <th>V8</th>\n",
       "      <th>V9</th>\n",
       "      <th>V10</th>\n",
       "      <th>V11</th>\n",
       "      <th>V12</th>\n",
       "      <th>V13</th>\n",
       "      <th>V14</th>\n",
       "    </tr>\n",
       "  </thead>\n",
       "  <tbody>\n",
       "    <tr>\n",
       "      <th>0</th>\n",
       "      <td>201.0</td>\n",
       "      <td>3.3</td>\n",
       "      <td>0.9</td>\n",
       "      <td>8.6</td>\n",
       "      <td>4.0</td>\n",
       "      <td>2.1</td>\n",
       "      <td>1.8</td>\n",
       "      <td>6.3</td>\n",
       "      <td>41.0</td>\n",
       "      <td>4.5</td>\n",
       "      <td>0.0</td>\n",
       "      <td>1.0</td>\n",
       "      <td>0.0</td>\n",
       "      <td>0.0</td>\n",
       "      <td>2.0</td>\n",
       "    </tr>\n",
       "    <tr>\n",
       "      <th>1</th>\n",
       "      <td>202.0</td>\n",
       "      <td>NaN</td>\n",
       "      <td>0.4</td>\n",
       "      <td>NaN</td>\n",
       "      <td>2.5</td>\n",
       "      <td>1.2</td>\n",
       "      <td>1.7</td>\n",
       "      <td>5.2</td>\n",
       "      <td>35.0</td>\n",
       "      <td>3.3</td>\n",
       "      <td>0.0</td>\n",
       "      <td>1.0</td>\n",
       "      <td>0.0</td>\n",
       "      <td>0.0</td>\n",
       "      <td>1.0</td>\n",
       "    </tr>\n",
       "    <tr>\n",
       "      <th>2</th>\n",
       "      <td>203.0</td>\n",
       "      <td>3.0</td>\n",
       "      <td>NaN</td>\n",
       "      <td>9.1</td>\n",
       "      <td>7.1</td>\n",
       "      <td>3.5</td>\n",
       "      <td>3.4</td>\n",
       "      <td>NaN</td>\n",
       "      <td>55.0</td>\n",
       "      <td>5.2</td>\n",
       "      <td>0.0</td>\n",
       "      <td>1.0</td>\n",
       "      <td>1.0</td>\n",
       "      <td>0.0</td>\n",
       "      <td>3.0</td>\n",
       "    </tr>\n",
       "    <tr>\n",
       "      <th>3</th>\n",
       "      <td>204.0</td>\n",
       "      <td>NaN</td>\n",
       "      <td>1.5</td>\n",
       "      <td>NaN</td>\n",
       "      <td>4.8</td>\n",
       "      <td>1.9</td>\n",
       "      <td>2.5</td>\n",
       "      <td>7.2</td>\n",
       "      <td>36.0</td>\n",
       "      <td>NaN</td>\n",
       "      <td>1.0</td>\n",
       "      <td>0.0</td>\n",
       "      <td>1.0</td>\n",
       "      <td>0.0</td>\n",
       "      <td>1.0</td>\n",
       "    </tr>\n",
       "    <tr>\n",
       "      <th>4</th>\n",
       "      <td>205.0</td>\n",
       "      <td>5.1</td>\n",
       "      <td>1.4</td>\n",
       "      <td>NaN</td>\n",
       "      <td>4.8</td>\n",
       "      <td>3.3</td>\n",
       "      <td>2.6</td>\n",
       "      <td>3.8</td>\n",
       "      <td>49.0</td>\n",
       "      <td>4.9</td>\n",
       "      <td>0.0</td>\n",
       "      <td>1.0</td>\n",
       "      <td>0.0</td>\n",
       "      <td>0.0</td>\n",
       "      <td>2.0</td>\n",
       "    </tr>\n",
       "  </tbody>\n",
       "</table>\n",
       "</div>"
      ],
      "text/plain": [
       "      ID   V1   V2   V3   V4   V5   V6   V7    V8   V9  V10  V11  V12  V13  \\\n",
       "0  201.0  3.3  0.9  8.6  4.0  2.1  1.8  6.3  41.0  4.5  0.0  1.0  0.0  0.0   \n",
       "1  202.0  NaN  0.4  NaN  2.5  1.2  1.7  5.2  35.0  3.3  0.0  1.0  0.0  0.0   \n",
       "2  203.0  3.0  NaN  9.1  7.1  3.5  3.4  NaN  55.0  5.2  0.0  1.0  1.0  0.0   \n",
       "3  204.0  NaN  1.5  NaN  4.8  1.9  2.5  7.2  36.0  NaN  1.0  0.0  1.0  0.0   \n",
       "4  205.0  5.1  1.4  NaN  4.8  3.3  2.6  3.8  49.0  4.9  0.0  1.0  0.0  0.0   \n",
       "\n",
       "   V14  \n",
       "0  2.0  \n",
       "1  1.0  \n",
       "2  3.0  \n",
       "3  1.0  \n",
       "4  2.0  "
      ]
     },
     "execution_count": 12,
     "metadata": {},
     "output_type": "execute_result"
    }
   ],
   "source": [
    "df = pd.read_spss(\"HBAT_MISSING.sav\")\n",
    "df.head()"
   ]
  },
  {
   "cell_type": "markdown",
   "metadata": {
    "slideshow": {
     "slide_type": "subslide"
    }
   },
   "source": [
    "Primero, visualicemos la cantidad de casos perdidos en cada item:"
   ]
  },
  {
   "cell_type": "code",
   "execution_count": 13,
   "metadata": {
    "hideCode": true,
    "hidePrompt": true,
    "slideshow": {
     "slide_type": "fragment"
    }
   },
   "outputs": [
    {
     "data": {
      "image/png": "[encoded data removed]",
      "text/plain": [
       "<Figure size 720x360 with 3 Axes>"
      ]
     },
     "metadata": {},
     "output_type": "display_data"
    }
   ],
   "source": [
    "import missingno as msno\n",
    "\n",
    "msno.bar(df, figsize=(10, 5), fontsize=12)\n",
    "plt.show()"
   ]
  },
  {
   "cell_type": "markdown",
   "metadata": {
    "slideshow": {
     "slide_type": "fragment"
    }
   },
   "source": [
    "El gráfico muestra un recuento de valores presentes por columnas ignorando los valores perdidos. En nuestro caso destaca la cantidad de casos perdidos en las columnas V1 y V3."
   ]
  },
  {
   "cell_type": "markdown",
   "metadata": {
    "slideshow": {
     "slide_type": "subslide"
    }
   },
   "source": [
    "Ahora, exploremos la relación entre los casos perdidos entre los items:"
   ]
  },
  {
   "cell_type": "code",
   "execution_count": 14,
   "metadata": {
    "hideCode": true,
    "hidePrompt": true,
    "slideshow": {
     "slide_type": "fragment"
    }
   },
   "outputs": [
    {
     "data": {
      "image/png": "[encoded data removed]",
      "text/plain": [
       "<Figure size 720x432 with 2 Axes>"
      ]
     },
     "metadata": {},
     "output_type": "display_data"
    }
   ],
   "source": [
    "msno.matrix(df, figsize=(10, 6))\n",
    "plt.show()"
   ]
  },
  {
   "cell_type": "markdown",
   "metadata": {
    "slideshow": {
     "slide_type": "fragment"
    }
   },
   "source": [
    "El gráfico de matriz de nulidad nos permite comprender la distribución de datos dentro del conjunto de datos completo en todas las columnas al mismo tiempo, lo que puede ayudarnos a **comprender mejor la distribución de casos perdidos**. También muestra un minigráfico que resalta las filas con nulidad máxima y mínima en un conjunto de datos. En nuestro ejemplo, el máximo sería la fila 8 y el mínimo la fila 15. "
   ]
  },
  {
   "cell_type": "markdown",
   "metadata": {
    "slideshow": {
     "slide_type": "subslide"
    }
   },
   "source": [
    "Ahora examinemos este otro gráfico:"
   ]
  },
  {
   "cell_type": "code",
   "execution_count": 15,
   "metadata": {
    "hideCode": true,
    "hidePrompt": true,
    "slideshow": {
     "slide_type": "fragment"
    }
   },
   "outputs": [
    {
     "data": {
      "image/png": "[encoded data removed]",
      "text/plain": [
       "<Figure size 720x360 with 2 Axes>"
      ]
     },
     "metadata": {},
     "output_type": "display_data"
    }
   ],
   "source": [
    "msno.heatmap(df, figsize=(10, 5), fontsize=12)\n",
    "plt.show()"
   ]
  },
  {
   "cell_type": "markdown",
   "metadata": {
    "slideshow": {
     "slide_type": "subslide"
    }
   },
   "source": [
    "El gráfico muestra la correlación de nulidad entre las columnas del conjunto de datos. Nos permite **comprender cómo se relaciona el valor perdido de una columna con los valores perdidos en otras columnas**. \n",
    "\n",
    "En nuestro caso, salta a la vista que hay algunas correlaciones grandes entre las variables, lo cual nos hace sospechar que no se trata de datos MCAR. "
   ]
  },
  {
   "cell_type": "markdown",
   "metadata": {
    "slideshow": {
     "slide_type": "subslide"
    }
   },
   "source": [
    "Podemos verificar esta intuición con la prueba de Little: "
   ]
  },
  {
   "cell_type": "code",
   "execution_count": 16,
   "metadata": {
    "slideshow": {
     "slide_type": "skip"
    }
   },
   "outputs": [
    {
     "name": "stdout",
     "output_type": "stream",
     "text": [
      "The rpy2.ipython extension is already loaded. To reload it, use:\n",
      "  %reload_ext rpy2.ipython\n"
     ]
    }
   ],
   "source": [
    "%load_ext rpy2.ipython"
   ]
  },
  {
   "cell_type": "code",
   "execution_count": 17,
   "metadata": {
    "slideshow": {
     "slide_type": "skip"
    }
   },
   "outputs": [
    {
     "name": "stderr",
     "output_type": "stream",
     "text": [
      "R[write to console]: Installing package into ‘/home/renato/R/x86_64-pc-linux-gnu-library/4.2’\n",
      "(as ‘lib’ is unspecified)\n",
      "\n",
      "R[write to console]: trying URL 'https://www.stats.bris.ac.uk/R/src/contrib/naniar_0.6.1.tar.gz'\n",
      "\n",
      "R[write to console]: Content type 'application/x-gzip'\n",
      "R[write to console]:  length 2781177 bytes (2.7 MB)\n",
      "\n",
      "R[write to console]: =\n",
      "R[write to console]: =\n",
      "R[write to console]: =\n",
      "R[write to console]: =\n",
      "R[write to console]: =\n",
      "R[write to console]: =\n",
      "R[write to console]: =\n",
      "R[write to console]: =\n",
      "R[write to console]: =\n",
      "R[write to console]: =\n",
      "R[write to console]: =\n",
      "R[write to console]: =\n",
      "R[write to console]: =\n",
      "R[write to console]: =\n",
      "R[write to console]: =\n",
      "R[write to console]: =\n",
      "R[write to console]: =\n",
      "R[write to console]: =\n",
      "R[write to console]: =\n",
      "R[write to console]: =\n",
      "R[write to console]: =\n",
      "R[write to console]: =\n",
      "R[write to console]: =\n",
      "R[write to console]: =\n",
      "R[write to console]: =\n",
      "R[write to console]: =\n",
      "R[write to console]: =\n",
      "R[write to console]: =\n",
      "R[write to console]: =\n",
      "R[write to console]: =\n",
      "R[write to console]: =\n",
      "R[write to console]: =\n",
      "R[write to console]: =\n",
      "R[write to console]: =\n",
      "R[write to console]: =\n",
      "R[write to console]: =\n",
      "R[write to console]: =\n",
      "R[write to console]: =\n",
      "R[write to console]: =\n",
      "R[write to console]: =\n",
      "R[write to console]: =\n",
      "R[write to console]: =\n",
      "R[write to console]: =\n",
      "R[write to console]: =\n",
      "R[write to console]: =\n",
      "R[write to console]: =\n",
      "R[write to console]: =\n",
      "R[write to console]: =\n",
      "R[write to console]: =\n",
      "R[write to console]: =\n",
      "R[write to console]: \n",
      "\n",
      "R[write to console]: downloaded 2.7 MB\n",
      "\n",
      "\n",
      "* installing *source* package ‘naniar’ ...\n",
      "** package ‘naniar’ successfully unpacked and MD5 sums checked\n",
      "** using staged installation\n",
      "** R\n",
      "** data\n",
      "*** moving datasets to lazyload DB\n",
      "** inst\n",
      "** byte-compile and prepare package for lazy loading\n",
      "** help\n",
      "*** installing help indices\n",
      "*** copying figures\n",
      "** building package indices\n",
      "** installing vignettes\n",
      "** testing if installed package can be loaded from temporary location\n",
      "** testing if installed package can be loaded from final location\n",
      "** testing if installed package keeps a record of temporary installation path\n",
      "* DONE (naniar)\n",
      "R[write to console]: \n",
      "\n",
      "R[write to console]: \n",
      "R[write to console]: The downloaded source packages are in\n",
      "\t‘/tmp/RtmpIGQfod/downloaded_packages’\n",
      "R[write to console]: \n",
      "R[write to console]: \n",
      "\n"
     ]
    }
   ],
   "source": [
    "%%R\n",
    "## Para instalar el paquete \"naniar\" de R\n",
    "install.packages(\"naniar\")"
   ]
  },
  {
   "cell_type": "code",
   "execution_count": 18,
   "metadata": {},
   "outputs": [
    {
     "name": "stdout",
     "output_type": "stream",
     "text": [
      "# A tibble: 1 × 4\n",
      "  statistic    df p.value missing.patterns\n",
      "      <dbl> <dbl>   <dbl>            <int>\n",
      "1      202.   180   0.126               29\n"
     ]
    }
   ],
   "source": [
    "%%R -i df\n",
    "\n",
    "library(foreign)\n",
    "library(naniar)\n",
    "\n",
    "mcar_test(df[c(2:10)])"
   ]
  },
  {
   "cell_type": "markdown",
   "metadata": {
    "slideshow": {
     "slide_type": "fragment"
    }
   },
   "source": [
    "**La hipótesis nula para la prueba MCAR de Little es que los datos faltan completamente al azar (MCAR).** \n",
    "\n",
    "Debido a que el valor de significancia es mayor que 0.05 en nuestro ejemplo, podemos concluir que los datos faltan completamente al azar (al menos para el bloque de variables cuantitativas)."
   ]
  },
  {
   "cell_type": "markdown",
   "metadata": {
    "slideshow": {
     "slide_type": "slide"
    }
   },
   "source": [
    "Llegados a este punto, procedemos a implementar métodos simples de imputación. Partamos por el descarte de todos los valores perdidos."
   ]
  },
  {
   "cell_type": "markdown",
   "metadata": {
    "slideshow": {
     "slide_type": "subslide"
    }
   },
   "source": [
    "\n",
    "Podemos implementarlo por filas:"
   ]
  },
  {
   "cell_type": "code",
   "execution_count": 19,
   "metadata": {
    "hideCode": true,
    "hidePrompt": true,
    "slideshow": {
     "slide_type": "fragment"
    }
   },
   "outputs": [
    {
     "data": {
      "text/html": [
       "<div>\n",
       "<style scoped>\n",
       "    .dataframe tbody tr th:only-of-type {\n",
       "        vertical-align: middle;\n",
       "    }\n",
       "\n",
       "    .dataframe tbody tr th {\n",
       "        vertical-align: top;\n",
       "    }\n",
       "\n",
       "    .dataframe thead th {\n",
       "        text-align: right;\n",
       "    }\n",
       "</style>\n",
       "<table border=\"1\" class=\"dataframe\">\n",
       "  <thead>\n",
       "    <tr style=\"text-align: right;\">\n",
       "      <th></th>\n",
       "      <th>ID</th>\n",
       "      <th>V1</th>\n",
       "      <th>V2</th>\n",
       "      <th>V3</th>\n",
       "      <th>V4</th>\n",
       "      <th>V5</th>\n",
       "      <th>V6</th>\n",
       "      <th>V7</th>\n",
       "      <th>V8</th>\n",
       "      <th>V9</th>\n",
       "      <th>V10</th>\n",
       "      <th>V11</th>\n",
       "      <th>V12</th>\n",
       "      <th>V13</th>\n",
       "      <th>V14</th>\n",
       "    </tr>\n",
       "  </thead>\n",
       "  <tbody>\n",
       "    <tr>\n",
       "      <th>0</th>\n",
       "      <td>201.0</td>\n",
       "      <td>3.3</td>\n",
       "      <td>0.9</td>\n",
       "      <td>8.6</td>\n",
       "      <td>4.0</td>\n",
       "      <td>2.1</td>\n",
       "      <td>1.8</td>\n",
       "      <td>6.3</td>\n",
       "      <td>41.0</td>\n",
       "      <td>4.5</td>\n",
       "      <td>0.0</td>\n",
       "      <td>1.0</td>\n",
       "      <td>0.0</td>\n",
       "      <td>0.0</td>\n",
       "      <td>2.0</td>\n",
       "    </tr>\n",
       "    <tr>\n",
       "      <th>5</th>\n",
       "      <td>206.0</td>\n",
       "      <td>4.6</td>\n",
       "      <td>2.1</td>\n",
       "      <td>7.9</td>\n",
       "      <td>5.8</td>\n",
       "      <td>3.4</td>\n",
       "      <td>2.8</td>\n",
       "      <td>4.7</td>\n",
       "      <td>49.0</td>\n",
       "      <td>5.9</td>\n",
       "      <td>0.0</td>\n",
       "      <td>1.0</td>\n",
       "      <td>0.0</td>\n",
       "      <td>1.0</td>\n",
       "      <td>3.0</td>\n",
       "    </tr>\n",
       "    <tr>\n",
       "      <th>7</th>\n",
       "      <td>208.0</td>\n",
       "      <td>5.2</td>\n",
       "      <td>1.3</td>\n",
       "      <td>9.7</td>\n",
       "      <td>6.1</td>\n",
       "      <td>3.2</td>\n",
       "      <td>3.9</td>\n",
       "      <td>6.7</td>\n",
       "      <td>54.0</td>\n",
       "      <td>5.8</td>\n",
       "      <td>0.0</td>\n",
       "      <td>1.0</td>\n",
       "      <td>0.0</td>\n",
       "      <td>1.0</td>\n",
       "      <td>3.0</td>\n",
       "    </tr>\n",
       "    <tr>\n",
       "      <th>8</th>\n",
       "      <td>209.0</td>\n",
       "      <td>3.5</td>\n",
       "      <td>2.8</td>\n",
       "      <td>9.9</td>\n",
       "      <td>3.5</td>\n",
       "      <td>3.1</td>\n",
       "      <td>1.7</td>\n",
       "      <td>5.4</td>\n",
       "      <td>49.0</td>\n",
       "      <td>5.4</td>\n",
       "      <td>0.0</td>\n",
       "      <td>1.0</td>\n",
       "      <td>0.0</td>\n",
       "      <td>1.0</td>\n",
       "      <td>3.0</td>\n",
       "    </tr>\n",
       "    <tr>\n",
       "      <th>10</th>\n",
       "      <td>211.0</td>\n",
       "      <td>3.0</td>\n",
       "      <td>2.8</td>\n",
       "      <td>7.8</td>\n",
       "      <td>7.1</td>\n",
       "      <td>3.0</td>\n",
       "      <td>3.8</td>\n",
       "      <td>7.9</td>\n",
       "      <td>49.0</td>\n",
       "      <td>4.4</td>\n",
       "      <td>0.0</td>\n",
       "      <td>1.0</td>\n",
       "      <td>1.0</td>\n",
       "      <td>1.0</td>\n",
       "      <td>2.0</td>\n",
       "    </tr>\n",
       "    <tr>\n",
       "      <th>11</th>\n",
       "      <td>212.0</td>\n",
       "      <td>4.8</td>\n",
       "      <td>1.7</td>\n",
       "      <td>7.6</td>\n",
       "      <td>4.2</td>\n",
       "      <td>3.3</td>\n",
       "      <td>1.4</td>\n",
       "      <td>5.8</td>\n",
       "      <td>39.0</td>\n",
       "      <td>5.5</td>\n",
       "      <td>0.0</td>\n",
       "      <td>1.0</td>\n",
       "      <td>0.0</td>\n",
       "      <td>0.0</td>\n",
       "      <td>2.0</td>\n",
       "    </tr>\n",
       "    <tr>\n",
       "      <th>14</th>\n",
       "      <td>215.0</td>\n",
       "      <td>4.0</td>\n",
       "      <td>0.5</td>\n",
       "      <td>6.7</td>\n",
       "      <td>4.5</td>\n",
       "      <td>2.2</td>\n",
       "      <td>2.1</td>\n",
       "      <td>5.0</td>\n",
       "      <td>31.0</td>\n",
       "      <td>4.0</td>\n",
       "      <td>0.0</td>\n",
       "      <td>1.0</td>\n",
       "      <td>0.0</td>\n",
       "      <td>1.0</td>\n",
       "      <td>1.0</td>\n",
       "    </tr>\n",
       "    <tr>\n",
       "      <th>16</th>\n",
       "      <td>217.0</td>\n",
       "      <td>6.1</td>\n",
       "      <td>0.5</td>\n",
       "      <td>9.2</td>\n",
       "      <td>4.8</td>\n",
       "      <td>3.3</td>\n",
       "      <td>2.8</td>\n",
       "      <td>7.1</td>\n",
       "      <td>60.0</td>\n",
       "      <td>5.2</td>\n",
       "      <td>0.0</td>\n",
       "      <td>1.0</td>\n",
       "      <td>0.0</td>\n",
       "      <td>1.0</td>\n",
       "      <td>3.0</td>\n",
       "    </tr>\n",
       "    <tr>\n",
       "      <th>22</th>\n",
       "      <td>223.0</td>\n",
       "      <td>2.8</td>\n",
       "      <td>1.4</td>\n",
       "      <td>8.1</td>\n",
       "      <td>3.8</td>\n",
       "      <td>2.1</td>\n",
       "      <td>1.4</td>\n",
       "      <td>6.6</td>\n",
       "      <td>39.0</td>\n",
       "      <td>4.4</td>\n",
       "      <td>1.0</td>\n",
       "      <td>0.0</td>\n",
       "      <td>1.0</td>\n",
       "      <td>0.0</td>\n",
       "      <td>1.0</td>\n",
       "    </tr>\n",
       "    <tr>\n",
       "      <th>25</th>\n",
       "      <td>226.0</td>\n",
       "      <td>3.4</td>\n",
       "      <td>2.0</td>\n",
       "      <td>9.7</td>\n",
       "      <td>4.7</td>\n",
       "      <td>2.7</td>\n",
       "      <td>1.7</td>\n",
       "      <td>4.8</td>\n",
       "      <td>49.0</td>\n",
       "      <td>4.7</td>\n",
       "      <td>0.0</td>\n",
       "      <td>1.0</td>\n",
       "      <td>0.0</td>\n",
       "      <td>0.0</td>\n",
       "      <td>3.0</td>\n",
       "    </tr>\n",
       "    <tr>\n",
       "      <th>29</th>\n",
       "      <td>230.0</td>\n",
       "      <td>4.7</td>\n",
       "      <td>1.3</td>\n",
       "      <td>9.9</td>\n",
       "      <td>6.7</td>\n",
       "      <td>3.0</td>\n",
       "      <td>2.6</td>\n",
       "      <td>6.8</td>\n",
       "      <td>55.0</td>\n",
       "      <td>6.0</td>\n",
       "      <td>0.0</td>\n",
       "      <td>1.0</td>\n",
       "      <td>0.0</td>\n",
       "      <td>0.0</td>\n",
       "      <td>3.0</td>\n",
       "    </tr>\n",
       "    <tr>\n",
       "      <th>33</th>\n",
       "      <td>234.0</td>\n",
       "      <td>2.8</td>\n",
       "      <td>2.4</td>\n",
       "      <td>6.7</td>\n",
       "      <td>4.9</td>\n",
       "      <td>2.5</td>\n",
       "      <td>2.6</td>\n",
       "      <td>9.2</td>\n",
       "      <td>32.0</td>\n",
       "      <td>3.7</td>\n",
       "      <td>1.0</td>\n",
       "      <td>0.0</td>\n",
       "      <td>1.0</td>\n",
       "      <td>1.0</td>\n",
       "      <td>1.0</td>\n",
       "    </tr>\n",
       "    <tr>\n",
       "      <th>35</th>\n",
       "      <td>236.0</td>\n",
       "      <td>2.9</td>\n",
       "      <td>2.6</td>\n",
       "      <td>7.7</td>\n",
       "      <td>7.0</td>\n",
       "      <td>2.8</td>\n",
       "      <td>3.6</td>\n",
       "      <td>7.7</td>\n",
       "      <td>47.0</td>\n",
       "      <td>4.2</td>\n",
       "      <td>0.0</td>\n",
       "      <td>1.0</td>\n",
       "      <td>1.0</td>\n",
       "      <td>1.0</td>\n",
       "      <td>2.0</td>\n",
       "    </tr>\n",
       "    <tr>\n",
       "      <th>38</th>\n",
       "      <td>239.0</td>\n",
       "      <td>4.3</td>\n",
       "      <td>1.8</td>\n",
       "      <td>7.6</td>\n",
       "      <td>5.4</td>\n",
       "      <td>3.1</td>\n",
       "      <td>2.5</td>\n",
       "      <td>4.4</td>\n",
       "      <td>46.0</td>\n",
       "      <td>5.6</td>\n",
       "      <td>0.0</td>\n",
       "      <td>1.0</td>\n",
       "      <td>0.0</td>\n",
       "      <td>1.0</td>\n",
       "      <td>3.0</td>\n",
       "    </tr>\n",
       "    <tr>\n",
       "      <th>41</th>\n",
       "      <td>242.0</td>\n",
       "      <td>5.1</td>\n",
       "      <td>1.9</td>\n",
       "      <td>9.2</td>\n",
       "      <td>5.8</td>\n",
       "      <td>3.6</td>\n",
       "      <td>2.3</td>\n",
       "      <td>4.5</td>\n",
       "      <td>60.0</td>\n",
       "      <td>6.1</td>\n",
       "      <td>0.0</td>\n",
       "      <td>1.0</td>\n",
       "      <td>0.0</td>\n",
       "      <td>0.0</td>\n",
       "      <td>3.0</td>\n",
       "    </tr>\n",
       "    <tr>\n",
       "      <th>42</th>\n",
       "      <td>243.0</td>\n",
       "      <td>4.1</td>\n",
       "      <td>1.1</td>\n",
       "      <td>9.3</td>\n",
       "      <td>5.5</td>\n",
       "      <td>2.5</td>\n",
       "      <td>2.7</td>\n",
       "      <td>7.4</td>\n",
       "      <td>47.0</td>\n",
       "      <td>5.3</td>\n",
       "      <td>0.0</td>\n",
       "      <td>1.0</td>\n",
       "      <td>0.0</td>\n",
       "      <td>1.0</td>\n",
       "      <td>3.0</td>\n",
       "    </tr>\n",
       "    <tr>\n",
       "      <th>46</th>\n",
       "      <td>247.0</td>\n",
       "      <td>4.2</td>\n",
       "      <td>2.5</td>\n",
       "      <td>9.2</td>\n",
       "      <td>6.2</td>\n",
       "      <td>3.3</td>\n",
       "      <td>3.9</td>\n",
       "      <td>7.3</td>\n",
       "      <td>59.0</td>\n",
       "      <td>6.0</td>\n",
       "      <td>0.0</td>\n",
       "      <td>1.0</td>\n",
       "      <td>0.0</td>\n",
       "      <td>0.0</td>\n",
       "      <td>3.0</td>\n",
       "    </tr>\n",
       "    <tr>\n",
       "      <th>50</th>\n",
       "      <td>251.0</td>\n",
       "      <td>3.0</td>\n",
       "      <td>3.2</td>\n",
       "      <td>6.0</td>\n",
       "      <td>5.3</td>\n",
       "      <td>3.1</td>\n",
       "      <td>3.0</td>\n",
       "      <td>8.0</td>\n",
       "      <td>43.0</td>\n",
       "      <td>3.3</td>\n",
       "      <td>1.0</td>\n",
       "      <td>0.0</td>\n",
       "      <td>1.0</td>\n",
       "      <td>0.0</td>\n",
       "      <td>1.0</td>\n",
       "    </tr>\n",
       "    <tr>\n",
       "      <th>51</th>\n",
       "      <td>252.0</td>\n",
       "      <td>2.8</td>\n",
       "      <td>3.8</td>\n",
       "      <td>8.9</td>\n",
       "      <td>6.9</td>\n",
       "      <td>3.3</td>\n",
       "      <td>3.2</td>\n",
       "      <td>8.2</td>\n",
       "      <td>53.0</td>\n",
       "      <td>5.0</td>\n",
       "      <td>0.0</td>\n",
       "      <td>1.0</td>\n",
       "      <td>1.0</td>\n",
       "      <td>0.0</td>\n",
       "      <td>3.0</td>\n",
       "    </tr>\n",
       "    <tr>\n",
       "      <th>53</th>\n",
       "      <td>254.0</td>\n",
       "      <td>3.4</td>\n",
       "      <td>3.7</td>\n",
       "      <td>6.4</td>\n",
       "      <td>5.7</td>\n",
       "      <td>3.5</td>\n",
       "      <td>3.4</td>\n",
       "      <td>8.4</td>\n",
       "      <td>47.0</td>\n",
       "      <td>3.8</td>\n",
       "      <td>1.0</td>\n",
       "      <td>0.0</td>\n",
       "      <td>1.0</td>\n",
       "      <td>0.0</td>\n",
       "      <td>1.0</td>\n",
       "    </tr>\n",
       "    <tr>\n",
       "      <th>57</th>\n",
       "      <td>258.0</td>\n",
       "      <td>4.0</td>\n",
       "      <td>0.9</td>\n",
       "      <td>9.1</td>\n",
       "      <td>5.4</td>\n",
       "      <td>2.4</td>\n",
       "      <td>2.6</td>\n",
       "      <td>7.3</td>\n",
       "      <td>46.0</td>\n",
       "      <td>5.1</td>\n",
       "      <td>0.0</td>\n",
       "      <td>1.0</td>\n",
       "      <td>0.0</td>\n",
       "      <td>1.0</td>\n",
       "      <td>3.0</td>\n",
       "    </tr>\n",
       "    <tr>\n",
       "      <th>61</th>\n",
       "      <td>262.0</td>\n",
       "      <td>5.6</td>\n",
       "      <td>2.2</td>\n",
       "      <td>8.2</td>\n",
       "      <td>3.1</td>\n",
       "      <td>4.0</td>\n",
       "      <td>1.6</td>\n",
       "      <td>5.3</td>\n",
       "      <td>55.0</td>\n",
       "      <td>3.9</td>\n",
       "      <td>0.0</td>\n",
       "      <td>1.0</td>\n",
       "      <td>0.0</td>\n",
       "      <td>1.0</td>\n",
       "      <td>3.0</td>\n",
       "    </tr>\n",
       "    <tr>\n",
       "      <th>63</th>\n",
       "      <td>264.0</td>\n",
       "      <td>5.2</td>\n",
       "      <td>1.3</td>\n",
       "      <td>9.1</td>\n",
       "      <td>4.5</td>\n",
       "      <td>3.3</td>\n",
       "      <td>2.7</td>\n",
       "      <td>7.3</td>\n",
       "      <td>60.0</td>\n",
       "      <td>5.1</td>\n",
       "      <td>0.0</td>\n",
       "      <td>1.0</td>\n",
       "      <td>0.0</td>\n",
       "      <td>1.0</td>\n",
       "      <td>3.0</td>\n",
       "    </tr>\n",
       "    <tr>\n",
       "      <th>64</th>\n",
       "      <td>265.0</td>\n",
       "      <td>3.0</td>\n",
       "      <td>2.0</td>\n",
       "      <td>6.6</td>\n",
       "      <td>6.6</td>\n",
       "      <td>2.4</td>\n",
       "      <td>2.7</td>\n",
       "      <td>8.2</td>\n",
       "      <td>41.0</td>\n",
       "      <td>4.1</td>\n",
       "      <td>1.0</td>\n",
       "      <td>0.0</td>\n",
       "      <td>1.0</td>\n",
       "      <td>0.0</td>\n",
       "      <td>1.0</td>\n",
       "    </tr>\n",
       "    <tr>\n",
       "      <th>65</th>\n",
       "      <td>266.0</td>\n",
       "      <td>4.2</td>\n",
       "      <td>2.4</td>\n",
       "      <td>9.4</td>\n",
       "      <td>4.9</td>\n",
       "      <td>3.2</td>\n",
       "      <td>2.7</td>\n",
       "      <td>8.5</td>\n",
       "      <td>49.0</td>\n",
       "      <td>5.2</td>\n",
       "      <td>0.0</td>\n",
       "      <td>1.0</td>\n",
       "      <td>0.0</td>\n",
       "      <td>1.0</td>\n",
       "      <td>2.0</td>\n",
       "    </tr>\n",
       "    <tr>\n",
       "      <th>69</th>\n",
       "      <td>270.0</td>\n",
       "      <td>4.5</td>\n",
       "      <td>1.6</td>\n",
       "      <td>8.7</td>\n",
       "      <td>4.6</td>\n",
       "      <td>3.1</td>\n",
       "      <td>2.1</td>\n",
       "      <td>6.8</td>\n",
       "      <td>56.0</td>\n",
       "      <td>5.1</td>\n",
       "      <td>0.0</td>\n",
       "      <td>1.0</td>\n",
       "      <td>0.0</td>\n",
       "      <td>0.0</td>\n",
       "      <td>3.0</td>\n",
       "    </tr>\n",
       "  </tbody>\n",
       "</table>\n",
       "</div>"
      ],
      "text/plain": [
       "       ID   V1   V2   V3   V4   V5   V6   V7    V8   V9  V10  V11  V12  V13  \\\n",
       "0   201.0  3.3  0.9  8.6  4.0  2.1  1.8  6.3  41.0  4.5  0.0  1.0  0.0  0.0   \n",
       "5   206.0  4.6  2.1  7.9  5.8  3.4  2.8  4.7  49.0  5.9  0.0  1.0  0.0  1.0   \n",
       "7   208.0  5.2  1.3  9.7  6.1  3.2  3.9  6.7  54.0  5.8  0.0  1.0  0.0  1.0   \n",
       "8   209.0  3.5  2.8  9.9  3.5  3.1  1.7  5.4  49.0  5.4  0.0  1.0  0.0  1.0   \n",
       "10  211.0  3.0  2.8  7.8  7.1  3.0  3.8  7.9  49.0  4.4  0.0  1.0  1.0  1.0   \n",
       "11  212.0  4.8  1.7  7.6  4.2  3.3  1.4  5.8  39.0  5.5  0.0  1.0  0.0  0.0   \n",
       "14  215.0  4.0  0.5  6.7  4.5  2.2  2.1  5.0  31.0  4.0  0.0  1.0  0.0  1.0   \n",
       "16  217.0  6.1  0.5  9.2  4.8  3.3  2.8  7.1  60.0  5.2  0.0  1.0  0.0  1.0   \n",
       "22  223.0  2.8  1.4  8.1  3.8  2.1  1.4  6.6  39.0  4.4  1.0  0.0  1.0  0.0   \n",
       "25  226.0  3.4  2.0  9.7  4.7  2.7  1.7  4.8  49.0  4.7  0.0  1.0  0.0  0.0   \n",
       "29  230.0  4.7  1.3  9.9  6.7  3.0  2.6  6.8  55.0  6.0  0.0  1.0  0.0  0.0   \n",
       "33  234.0  2.8  2.4  6.7  4.9  2.5  2.6  9.2  32.0  3.7  1.0  0.0  1.0  1.0   \n",
       "35  236.0  2.9  2.6  7.7  7.0  2.8  3.6  7.7  47.0  4.2  0.0  1.0  1.0  1.0   \n",
       "38  239.0  4.3  1.8  7.6  5.4  3.1  2.5  4.4  46.0  5.6  0.0  1.0  0.0  1.0   \n",
       "41  242.0  5.1  1.9  9.2  5.8  3.6  2.3  4.5  60.0  6.1  0.0  1.0  0.0  0.0   \n",
       "42  243.0  4.1  1.1  9.3  5.5  2.5  2.7  7.4  47.0  5.3  0.0  1.0  0.0  1.0   \n",
       "46  247.0  4.2  2.5  9.2  6.2  3.3  3.9  7.3  59.0  6.0  0.0  1.0  0.0  0.0   \n",
       "50  251.0  3.0  3.2  6.0  5.3  3.1  3.0  8.0  43.0  3.3  1.0  0.0  1.0  0.0   \n",
       "51  252.0  2.8  3.8  8.9  6.9  3.3  3.2  8.2  53.0  5.0  0.0  1.0  1.0  0.0   \n",
       "53  254.0  3.4  3.7  6.4  5.7  3.5  3.4  8.4  47.0  3.8  1.0  0.0  1.0  0.0   \n",
       "57  258.0  4.0  0.9  9.1  5.4  2.4  2.6  7.3  46.0  5.1  0.0  1.0  0.0  1.0   \n",
       "61  262.0  5.6  2.2  8.2  3.1  4.0  1.6  5.3  55.0  3.9  0.0  1.0  0.0  1.0   \n",
       "63  264.0  5.2  1.3  9.1  4.5  3.3  2.7  7.3  60.0  5.1  0.0  1.0  0.0  1.0   \n",
       "64  265.0  3.0  2.0  6.6  6.6  2.4  2.7  8.2  41.0  4.1  1.0  0.0  1.0  0.0   \n",
       "65  266.0  4.2  2.4  9.4  4.9  3.2  2.7  8.5  49.0  5.2  0.0  1.0  0.0  1.0   \n",
       "69  270.0  4.5  1.6  8.7  4.6  3.1  2.1  6.8  56.0  5.1  0.0  1.0  0.0  0.0   \n",
       "\n",
       "    V14  \n",
       "0   2.0  \n",
       "5   3.0  \n",
       "7   3.0  \n",
       "8   3.0  \n",
       "10  2.0  \n",
       "11  2.0  \n",
       "14  1.0  \n",
       "16  3.0  \n",
       "22  1.0  \n",
       "25  3.0  \n",
       "29  3.0  \n",
       "33  1.0  \n",
       "35  2.0  \n",
       "38  3.0  \n",
       "41  3.0  \n",
       "42  3.0  \n",
       "46  3.0  \n",
       "50  1.0  \n",
       "51  3.0  \n",
       "53  1.0  \n",
       "57  3.0  \n",
       "61  3.0  \n",
       "63  3.0  \n",
       "64  1.0  \n",
       "65  2.0  \n",
       "69  3.0  "
      ]
     },
     "execution_count": 19,
     "metadata": {},
     "output_type": "execute_result"
    }
   ],
   "source": [
    "df.dropna(axis=0)"
   ]
  },
  {
   "cell_type": "markdown",
   "metadata": {
    "slideshow": {
     "slide_type": "subslide"
    }
   },
   "source": [
    "O por columnas:"
   ]
  },
  {
   "cell_type": "code",
   "execution_count": 20,
   "metadata": {
    "hideCode": true,
    "hidePrompt": true,
    "slideshow": {
     "slide_type": "fragment"
    }
   },
   "outputs": [
    {
     "data": {
      "text/html": [
       "<div>\n",
       "<style scoped>\n",
       "    .dataframe tbody tr th:only-of-type {\n",
       "        vertical-align: middle;\n",
       "    }\n",
       "\n",
       "    .dataframe tbody tr th {\n",
       "        vertical-align: top;\n",
       "    }\n",
       "\n",
       "    .dataframe thead th {\n",
       "        text-align: right;\n",
       "    }\n",
       "</style>\n",
       "<table border=\"1\" class=\"dataframe\">\n",
       "  <thead>\n",
       "    <tr style=\"text-align: right;\">\n",
       "      <th></th>\n",
       "      <th>ID</th>\n",
       "    </tr>\n",
       "  </thead>\n",
       "  <tbody>\n",
       "    <tr>\n",
       "      <th>0</th>\n",
       "      <td>201.0</td>\n",
       "    </tr>\n",
       "    <tr>\n",
       "      <th>1</th>\n",
       "      <td>202.0</td>\n",
       "    </tr>\n",
       "    <tr>\n",
       "      <th>2</th>\n",
       "      <td>203.0</td>\n",
       "    </tr>\n",
       "    <tr>\n",
       "      <th>3</th>\n",
       "      <td>204.0</td>\n",
       "    </tr>\n",
       "    <tr>\n",
       "      <th>4</th>\n",
       "      <td>205.0</td>\n",
       "    </tr>\n",
       "    <tr>\n",
       "      <th>...</th>\n",
       "      <td>...</td>\n",
       "    </tr>\n",
       "    <tr>\n",
       "      <th>65</th>\n",
       "      <td>266.0</td>\n",
       "    </tr>\n",
       "    <tr>\n",
       "      <th>66</th>\n",
       "      <td>267.0</td>\n",
       "    </tr>\n",
       "    <tr>\n",
       "      <th>67</th>\n",
       "      <td>268.0</td>\n",
       "    </tr>\n",
       "    <tr>\n",
       "      <th>68</th>\n",
       "      <td>269.0</td>\n",
       "    </tr>\n",
       "    <tr>\n",
       "      <th>69</th>\n",
       "      <td>270.0</td>\n",
       "    </tr>\n",
       "  </tbody>\n",
       "</table>\n",
       "<p>70 rows × 1 columns</p>\n",
       "</div>"
      ],
      "text/plain": [
       "       ID\n",
       "0   201.0\n",
       "1   202.0\n",
       "2   203.0\n",
       "3   204.0\n",
       "4   205.0\n",
       "..    ...\n",
       "65  266.0\n",
       "66  267.0\n",
       "67  268.0\n",
       "68  269.0\n",
       "69  270.0\n",
       "\n",
       "[70 rows x 1 columns]"
      ]
     },
     "execution_count": 20,
     "metadata": {},
     "output_type": "execute_result"
    }
   ],
   "source": [
    "df.dropna(axis=1)"
   ]
  },
  {
   "cell_type": "markdown",
   "metadata": {
    "slideshow": {
     "slide_type": "subslide"
    }
   },
   "source": [
    "Como podemos apreciar, no se recomienda descartar de plano los casos o variables donde hay datos perdidos presentes dado que se pierden datos que podrían ser utilizados en nuestros análisis. "
   ]
  },
  {
   "cell_type": "markdown",
   "metadata": {
    "slideshow": {
     "slide_type": "subslide"
    }
   },
   "source": [
    "Otra alternativa sencilla es reemplazar los valores perdidos por el promedio de cada columna:"
   ]
  },
  {
   "cell_type": "code",
   "execution_count": 21,
   "metadata": {
    "hideCode": true,
    "hidePrompt": true,
    "slideshow": {
     "slide_type": "fragment"
    }
   },
   "outputs": [
    {
     "data": {
      "text/html": [
       "<div>\n",
       "<style scoped>\n",
       "    .dataframe tbody tr th:only-of-type {\n",
       "        vertical-align: middle;\n",
       "    }\n",
       "\n",
       "    .dataframe tbody tr th {\n",
       "        vertical-align: top;\n",
       "    }\n",
       "\n",
       "    .dataframe thead th {\n",
       "        text-align: right;\n",
       "    }\n",
       "</style>\n",
       "<table border=\"1\" class=\"dataframe\">\n",
       "  <thead>\n",
       "    <tr style=\"text-align: right;\">\n",
       "      <th></th>\n",
       "      <th>ID</th>\n",
       "      <th>V1</th>\n",
       "      <th>V2</th>\n",
       "      <th>V3</th>\n",
       "      <th>V4</th>\n",
       "      <th>V5</th>\n",
       "      <th>V6</th>\n",
       "      <th>V7</th>\n",
       "      <th>V8</th>\n",
       "      <th>V9</th>\n",
       "    </tr>\n",
       "  </thead>\n",
       "  <tbody>\n",
       "    <tr>\n",
       "      <th>0</th>\n",
       "      <td>201.0</td>\n",
       "      <td>3.300000</td>\n",
       "      <td>0.90000</td>\n",
       "      <td>8.600000</td>\n",
       "      <td>4.000000</td>\n",
       "      <td>2.1</td>\n",
       "      <td>1.8</td>\n",
       "      <td>6.300000</td>\n",
       "      <td>41.0</td>\n",
       "      <td>4.50000</td>\n",
       "    </tr>\n",
       "    <tr>\n",
       "      <th>1</th>\n",
       "      <td>202.0</td>\n",
       "      <td>4.008163</td>\n",
       "      <td>0.40000</td>\n",
       "      <td>8.062264</td>\n",
       "      <td>2.500000</td>\n",
       "      <td>1.2</td>\n",
       "      <td>1.7</td>\n",
       "      <td>5.200000</td>\n",
       "      <td>35.0</td>\n",
       "      <td>3.30000</td>\n",
       "    </tr>\n",
       "    <tr>\n",
       "      <th>2</th>\n",
       "      <td>203.0</td>\n",
       "      <td>3.000000</td>\n",
       "      <td>1.94386</td>\n",
       "      <td>9.100000</td>\n",
       "      <td>7.100000</td>\n",
       "      <td>3.5</td>\n",
       "      <td>3.4</td>\n",
       "      <td>6.822951</td>\n",
       "      <td>55.0</td>\n",
       "      <td>5.20000</td>\n",
       "    </tr>\n",
       "    <tr>\n",
       "      <th>3</th>\n",
       "      <td>204.0</td>\n",
       "      <td>4.008163</td>\n",
       "      <td>1.50000</td>\n",
       "      <td>8.062264</td>\n",
       "      <td>4.800000</td>\n",
       "      <td>1.9</td>\n",
       "      <td>2.5</td>\n",
       "      <td>7.200000</td>\n",
       "      <td>36.0</td>\n",
       "      <td>4.75873</td>\n",
       "    </tr>\n",
       "    <tr>\n",
       "      <th>4</th>\n",
       "      <td>205.0</td>\n",
       "      <td>5.100000</td>\n",
       "      <td>1.40000</td>\n",
       "      <td>8.062264</td>\n",
       "      <td>4.800000</td>\n",
       "      <td>3.3</td>\n",
       "      <td>2.6</td>\n",
       "      <td>3.800000</td>\n",
       "      <td>49.0</td>\n",
       "      <td>4.90000</td>\n",
       "    </tr>\n",
       "    <tr>\n",
       "      <th>...</th>\n",
       "      <td>...</td>\n",
       "      <td>...</td>\n",
       "      <td>...</td>\n",
       "      <td>...</td>\n",
       "      <td>...</td>\n",
       "      <td>...</td>\n",
       "      <td>...</td>\n",
       "      <td>...</td>\n",
       "      <td>...</td>\n",
       "      <td>...</td>\n",
       "    </tr>\n",
       "    <tr>\n",
       "      <th>65</th>\n",
       "      <td>266.0</td>\n",
       "      <td>4.200000</td>\n",
       "      <td>2.40000</td>\n",
       "      <td>9.400000</td>\n",
       "      <td>4.900000</td>\n",
       "      <td>3.2</td>\n",
       "      <td>2.7</td>\n",
       "      <td>8.500000</td>\n",
       "      <td>49.0</td>\n",
       "      <td>5.20000</td>\n",
       "    </tr>\n",
       "    <tr>\n",
       "      <th>66</th>\n",
       "      <td>267.0</td>\n",
       "      <td>3.800000</td>\n",
       "      <td>0.80000</td>\n",
       "      <td>8.062264</td>\n",
       "      <td>5.168254</td>\n",
       "      <td>2.2</td>\n",
       "      <td>2.6</td>\n",
       "      <td>5.300000</td>\n",
       "      <td>42.0</td>\n",
       "      <td>5.10000</td>\n",
       "    </tr>\n",
       "    <tr>\n",
       "      <th>67</th>\n",
       "      <td>268.0</td>\n",
       "      <td>3.300000</td>\n",
       "      <td>2.60000</td>\n",
       "      <td>9.700000</td>\n",
       "      <td>3.300000</td>\n",
       "      <td>2.9</td>\n",
       "      <td>1.5</td>\n",
       "      <td>5.200000</td>\n",
       "      <td>47.0</td>\n",
       "      <td>4.75873</td>\n",
       "    </tr>\n",
       "    <tr>\n",
       "      <th>68</th>\n",
       "      <td>269.0</td>\n",
       "      <td>4.008163</td>\n",
       "      <td>1.90000</td>\n",
       "      <td>8.062264</td>\n",
       "      <td>4.500000</td>\n",
       "      <td>1.5</td>\n",
       "      <td>3.1</td>\n",
       "      <td>9.900000</td>\n",
       "      <td>39.0</td>\n",
       "      <td>3.30000</td>\n",
       "    </tr>\n",
       "    <tr>\n",
       "      <th>69</th>\n",
       "      <td>270.0</td>\n",
       "      <td>4.500000</td>\n",
       "      <td>1.60000</td>\n",
       "      <td>8.700000</td>\n",
       "      <td>4.600000</td>\n",
       "      <td>3.1</td>\n",
       "      <td>2.1</td>\n",
       "      <td>6.800000</td>\n",
       "      <td>56.0</td>\n",
       "      <td>5.10000</td>\n",
       "    </tr>\n",
       "  </tbody>\n",
       "</table>\n",
       "<p>70 rows × 10 columns</p>\n",
       "</div>"
      ],
      "text/plain": [
       "       ID        V1       V2        V3        V4   V5   V6        V7    V8  \\\n",
       "0   201.0  3.300000  0.90000  8.600000  4.000000  2.1  1.8  6.300000  41.0   \n",
       "1   202.0  4.008163  0.40000  8.062264  2.500000  1.2  1.7  5.200000  35.0   \n",
       "2   203.0  3.000000  1.94386  9.100000  7.100000  3.5  3.4  6.822951  55.0   \n",
       "3   204.0  4.008163  1.50000  8.062264  4.800000  1.9  2.5  7.200000  36.0   \n",
       "4   205.0  5.100000  1.40000  8.062264  4.800000  3.3  2.6  3.800000  49.0   \n",
       "..    ...       ...      ...       ...       ...  ...  ...       ...   ...   \n",
       "65  266.0  4.200000  2.40000  9.400000  4.900000  3.2  2.7  8.500000  49.0   \n",
       "66  267.0  3.800000  0.80000  8.062264  5.168254  2.2  2.6  5.300000  42.0   \n",
       "67  268.0  3.300000  2.60000  9.700000  3.300000  2.9  1.5  5.200000  47.0   \n",
       "68  269.0  4.008163  1.90000  8.062264  4.500000  1.5  3.1  9.900000  39.0   \n",
       "69  270.0  4.500000  1.60000  8.700000  4.600000  3.1  2.1  6.800000  56.0   \n",
       "\n",
       "         V9  \n",
       "0   4.50000  \n",
       "1   3.30000  \n",
       "2   5.20000  \n",
       "3   4.75873  \n",
       "4   4.90000  \n",
       "..      ...  \n",
       "65  5.20000  \n",
       "66  5.10000  \n",
       "67  4.75873  \n",
       "68  3.30000  \n",
       "69  5.10000  \n",
       "\n",
       "[70 rows x 10 columns]"
      ]
     },
     "execution_count": 21,
     "metadata": {},
     "output_type": "execute_result"
    }
   ],
   "source": [
    "df.iloc[:, 0:10].transform(lambda x: x.fillna(x.mean(numeric_only=True)))"
   ]
  },
  {
   "cell_type": "markdown",
   "metadata": {
    "slideshow": {
     "slide_type": "slide"
    }
   },
   "source": [
    "Ahora bien, incluso cuando los datos son MCAR se prefiere utilizar métodos más robustos para imputar."
   ]
  },
  {
   "cell_type": "markdown",
   "metadata": {
    "slideshow": {
     "slide_type": "subslide"
    }
   },
   "source": [
    "Implementemos el procedimiento MICE:"
   ]
  },
  {
   "cell_type": "code",
   "execution_count": 22,
   "metadata": {
    "hideCode": true,
    "hideOutput": true,
    "hidePrompt": true,
    "slideshow": {
     "slide_type": "skip"
    }
   },
   "outputs": [
    {
     "name": "stdout",
     "output_type": "stream",
     "text": [
      "[IterativeImputer] Completing matrix with shape (70, 9)\n",
      "[IterativeImputer] Ending imputation round 1/100, elapsed time 0.00\n",
      "[IterativeImputer] Change: 16.957483393045003, scaled tolerance: 0.065 \n",
      "[IterativeImputer] Ending imputation round 2/100, elapsed time 0.01\n",
      "[IterativeImputer] Change: 3.4060935610936087, scaled tolerance: 0.065 \n",
      "[IterativeImputer] Ending imputation round 3/100, elapsed time 0.01\n",
      "[IterativeImputer] Change: 1.908630016043161, scaled tolerance: 0.065 \n",
      "[IterativeImputer] Ending imputation round 4/100, elapsed time 0.01\n",
      "[IterativeImputer] Change: 1.3965034580783584, scaled tolerance: 0.065 \n",
      "[IterativeImputer] Ending imputation round 5/100, elapsed time 0.02\n",
      "[IterativeImputer] Change: 1.3196134377599567, scaled tolerance: 0.065 \n",
      "[IterativeImputer] Ending imputation round 6/100, elapsed time 0.02\n",
      "[IterativeImputer] Change: 1.1879090946248532, scaled tolerance: 0.065 \n",
      "[IterativeImputer] Ending imputation round 7/100, elapsed time 0.02\n",
      "[IterativeImputer] Change: 0.8688377046815798, scaled tolerance: 0.065 \n",
      "[IterativeImputer] Ending imputation round 8/100, elapsed time 0.03\n",
      "[IterativeImputer] Change: 0.5608013931281963, scaled tolerance: 0.065 \n",
      "[IterativeImputer] Ending imputation round 9/100, elapsed time 0.03\n",
      "[IterativeImputer] Change: 0.40639959730702824, scaled tolerance: 0.065 \n",
      "[IterativeImputer] Ending imputation round 10/100, elapsed time 0.03\n",
      "[IterativeImputer] Change: 0.3270601364522907, scaled tolerance: 0.065 \n",
      "[IterativeImputer] Ending imputation round 11/100, elapsed time 0.04\n",
      "[IterativeImputer] Change: 0.2861502088950907, scaled tolerance: 0.065 \n",
      "[IterativeImputer] Ending imputation round 12/100, elapsed time 0.04\n",
      "[IterativeImputer] Change: 0.24882993730890757, scaled tolerance: 0.065 \n",
      "[IterativeImputer] Ending imputation round 13/100, elapsed time 0.04\n",
      "[IterativeImputer] Change: 0.21474278934419466, scaled tolerance: 0.065 \n",
      "[IterativeImputer] Ending imputation round 14/100, elapsed time 0.05\n",
      "[IterativeImputer] Change: 0.18374945783198982, scaled tolerance: 0.065 \n",
      "[IterativeImputer] Ending imputation round 15/100, elapsed time 0.05\n",
      "[IterativeImputer] Change: 0.1558122432587945, scaled tolerance: 0.065 \n",
      "[IterativeImputer] Ending imputation round 16/100, elapsed time 0.05\n",
      "[IterativeImputer] Change: 0.13090248925802683, scaled tolerance: 0.065 \n",
      "[IterativeImputer] Ending imputation round 17/100, elapsed time 0.06\n",
      "[IterativeImputer] Change: 0.10937467715579885, scaled tolerance: 0.065 \n",
      "[IterativeImputer] Ending imputation round 18/100, elapsed time 0.06\n",
      "[IterativeImputer] Change: 0.09154257782812714, scaled tolerance: 0.065 \n",
      "[IterativeImputer] Ending imputation round 19/100, elapsed time 0.06\n",
      "[IterativeImputer] Change: 0.07588674219230018, scaled tolerance: 0.065 \n",
      "[IterativeImputer] Ending imputation round 20/100, elapsed time 0.07\n",
      "[IterativeImputer] Change: 0.062315720376928674, scaled tolerance: 0.065 \n",
      "[IterativeImputer] Early stopping criterion reached.\n"
     ]
    }
   ],
   "source": [
    "import numpy as np\n",
    "from sklearn.experimental import enable_iterative_imputer\n",
    "from sklearn.impute import IterativeImputer\n",
    "from sklearn.linear_model import LinearRegression\n",
    "\n",
    "lr = LinearRegression()\n",
    "imp = IterativeImputer(\n",
    "    estimator=lr,\n",
    "    missing_values=np.nan,\n",
    "    max_iter=100,\n",
    "    verbose=2,\n",
    "    imputation_order=\"roman\",\n",
    "    random_state=0,\n",
    ")\n",
    "X = imp.fit_transform(df.iloc[:, 1:10])"
   ]
  },
  {
   "cell_type": "code",
   "execution_count": 23,
   "metadata": {
    "hideCode": true,
    "hidePrompt": true,
    "slideshow": {
     "slide_type": "fragment"
    }
   },
   "outputs": [
    {
     "data": {
      "text/html": [
       "<div>\n",
       "<style scoped>\n",
       "    .dataframe tbody tr th:only-of-type {\n",
       "        vertical-align: middle;\n",
       "    }\n",
       "\n",
       "    .dataframe tbody tr th {\n",
       "        vertical-align: top;\n",
       "    }\n",
       "\n",
       "    .dataframe thead th {\n",
       "        text-align: right;\n",
       "    }\n",
       "</style>\n",
       "<table border=\"1\" class=\"dataframe\">\n",
       "  <thead>\n",
       "    <tr style=\"text-align: right;\">\n",
       "      <th></th>\n",
       "      <th>V1</th>\n",
       "      <th>V2</th>\n",
       "      <th>V3</th>\n",
       "      <th>V4</th>\n",
       "      <th>V5</th>\n",
       "      <th>V6</th>\n",
       "      <th>V7</th>\n",
       "      <th>V8</th>\n",
       "      <th>V9</th>\n",
       "    </tr>\n",
       "  </thead>\n",
       "  <tbody>\n",
       "    <tr>\n",
       "      <th>0</th>\n",
       "      <td>3.300000</td>\n",
       "      <td>0.90000</td>\n",
       "      <td>8.600000</td>\n",
       "      <td>4.00000</td>\n",
       "      <td>2.1</td>\n",
       "      <td>1.8</td>\n",
       "      <td>6.300000</td>\n",
       "      <td>41.0</td>\n",
       "      <td>4.500000</td>\n",
       "    </tr>\n",
       "    <tr>\n",
       "      <th>1</th>\n",
       "      <td>2.562072</td>\n",
       "      <td>0.40000</td>\n",
       "      <td>8.276783</td>\n",
       "      <td>2.50000</td>\n",
       "      <td>1.2</td>\n",
       "      <td>1.7</td>\n",
       "      <td>5.200000</td>\n",
       "      <td>35.0</td>\n",
       "      <td>3.300000</td>\n",
       "    </tr>\n",
       "    <tr>\n",
       "      <th>2</th>\n",
       "      <td>3.000000</td>\n",
       "      <td>3.87854</td>\n",
       "      <td>9.100000</td>\n",
       "      <td>7.10000</td>\n",
       "      <td>3.5</td>\n",
       "      <td>3.4</td>\n",
       "      <td>8.947839</td>\n",
       "      <td>55.0</td>\n",
       "      <td>5.200000</td>\n",
       "    </tr>\n",
       "    <tr>\n",
       "      <th>3</th>\n",
       "      <td>2.640896</td>\n",
       "      <td>1.50000</td>\n",
       "      <td>7.751222</td>\n",
       "      <td>4.80000</td>\n",
       "      <td>1.9</td>\n",
       "      <td>2.5</td>\n",
       "      <td>7.200000</td>\n",
       "      <td>36.0</td>\n",
       "      <td>4.090088</td>\n",
       "    </tr>\n",
       "    <tr>\n",
       "      <th>4</th>\n",
       "      <td>5.100000</td>\n",
       "      <td>1.40000</td>\n",
       "      <td>7.896641</td>\n",
       "      <td>4.80000</td>\n",
       "      <td>3.3</td>\n",
       "      <td>2.6</td>\n",
       "      <td>3.800000</td>\n",
       "      <td>49.0</td>\n",
       "      <td>4.900000</td>\n",
       "    </tr>\n",
       "    <tr>\n",
       "      <th>...</th>\n",
       "      <td>...</td>\n",
       "      <td>...</td>\n",
       "      <td>...</td>\n",
       "      <td>...</td>\n",
       "      <td>...</td>\n",
       "      <td>...</td>\n",
       "      <td>...</td>\n",
       "      <td>...</td>\n",
       "      <td>...</td>\n",
       "    </tr>\n",
       "    <tr>\n",
       "      <th>65</th>\n",
       "      <td>4.200000</td>\n",
       "      <td>2.40000</td>\n",
       "      <td>9.400000</td>\n",
       "      <td>4.90000</td>\n",
       "      <td>3.2</td>\n",
       "      <td>2.7</td>\n",
       "      <td>8.500000</td>\n",
       "      <td>49.0</td>\n",
       "      <td>5.200000</td>\n",
       "    </tr>\n",
       "    <tr>\n",
       "      <th>66</th>\n",
       "      <td>3.800000</td>\n",
       "      <td>0.80000</td>\n",
       "      <td>8.754562</td>\n",
       "      <td>5.22809</td>\n",
       "      <td>2.2</td>\n",
       "      <td>2.6</td>\n",
       "      <td>5.300000</td>\n",
       "      <td>42.0</td>\n",
       "      <td>5.100000</td>\n",
       "    </tr>\n",
       "    <tr>\n",
       "      <th>67</th>\n",
       "      <td>3.300000</td>\n",
       "      <td>2.60000</td>\n",
       "      <td>9.700000</td>\n",
       "      <td>3.30000</td>\n",
       "      <td>2.9</td>\n",
       "      <td>1.5</td>\n",
       "      <td>5.200000</td>\n",
       "      <td>47.0</td>\n",
       "      <td>5.007311</td>\n",
       "    </tr>\n",
       "    <tr>\n",
       "      <th>68</th>\n",
       "      <td>1.719711</td>\n",
       "      <td>1.90000</td>\n",
       "      <td>7.959736</td>\n",
       "      <td>4.50000</td>\n",
       "      <td>1.5</td>\n",
       "      <td>3.1</td>\n",
       "      <td>9.900000</td>\n",
       "      <td>39.0</td>\n",
       "      <td>3.300000</td>\n",
       "    </tr>\n",
       "    <tr>\n",
       "      <th>69</th>\n",
       "      <td>4.500000</td>\n",
       "      <td>1.60000</td>\n",
       "      <td>8.700000</td>\n",
       "      <td>4.60000</td>\n",
       "      <td>3.1</td>\n",
       "      <td>2.1</td>\n",
       "      <td>6.800000</td>\n",
       "      <td>56.0</td>\n",
       "      <td>5.100000</td>\n",
       "    </tr>\n",
       "  </tbody>\n",
       "</table>\n",
       "<p>70 rows × 9 columns</p>\n",
       "</div>"
      ],
      "text/plain": [
       "          V1       V2        V3       V4   V5   V6        V7    V8        V9\n",
       "0   3.300000  0.90000  8.600000  4.00000  2.1  1.8  6.300000  41.0  4.500000\n",
       "1   2.562072  0.40000  8.276783  2.50000  1.2  1.7  5.200000  35.0  3.300000\n",
       "2   3.000000  3.87854  9.100000  7.10000  3.5  3.4  8.947839  55.0  5.200000\n",
       "3   2.640896  1.50000  7.751222  4.80000  1.9  2.5  7.200000  36.0  4.090088\n",
       "4   5.100000  1.40000  7.896641  4.80000  3.3  2.6  3.800000  49.0  4.900000\n",
       "..       ...      ...       ...      ...  ...  ...       ...   ...       ...\n",
       "65  4.200000  2.40000  9.400000  4.90000  3.2  2.7  8.500000  49.0  5.200000\n",
       "66  3.800000  0.80000  8.754562  5.22809  2.2  2.6  5.300000  42.0  5.100000\n",
       "67  3.300000  2.60000  9.700000  3.30000  2.9  1.5  5.200000  47.0  5.007311\n",
       "68  1.719711  1.90000  7.959736  4.50000  1.5  3.1  9.900000  39.0  3.300000\n",
       "69  4.500000  1.60000  8.700000  4.60000  3.1  2.1  6.800000  56.0  5.100000\n",
       "\n",
       "[70 rows x 9 columns]"
      ]
     },
     "execution_count": 23,
     "metadata": {},
     "output_type": "execute_result"
    }
   ],
   "source": [
    "pd.DataFrame(X, columns=df.iloc[:, 1:10].columns.values.tolist())"
   ]
  },
  {
   "cell_type": "markdown",
   "metadata": {
    "slideshow": {
     "slide_type": "subslide"
    }
   },
   "source": [
    "Otra alternativa robusta es el imputador basado en el algoritmo k-NN:"
   ]
  },
  {
   "cell_type": "code",
   "execution_count": 24,
   "metadata": {
    "hideCode": true,
    "hidePrompt": true,
    "slideshow": {
     "slide_type": "fragment"
    }
   },
   "outputs": [
    {
     "data": {
      "text/html": [
       "<div>\n",
       "<style scoped>\n",
       "    .dataframe tbody tr th:only-of-type {\n",
       "        vertical-align: middle;\n",
       "    }\n",
       "\n",
       "    .dataframe tbody tr th {\n",
       "        vertical-align: top;\n",
       "    }\n",
       "\n",
       "    .dataframe thead th {\n",
       "        text-align: right;\n",
       "    }\n",
       "</style>\n",
       "<table border=\"1\" class=\"dataframe\">\n",
       "  <thead>\n",
       "    <tr style=\"text-align: right;\">\n",
       "      <th></th>\n",
       "      <th>V1</th>\n",
       "      <th>V2</th>\n",
       "      <th>V3</th>\n",
       "      <th>V4</th>\n",
       "      <th>V5</th>\n",
       "      <th>V6</th>\n",
       "      <th>V7</th>\n",
       "      <th>V8</th>\n",
       "      <th>V9</th>\n",
       "    </tr>\n",
       "  </thead>\n",
       "  <tbody>\n",
       "    <tr>\n",
       "      <th>0</th>\n",
       "      <td>3.300000</td>\n",
       "      <td>0.900000</td>\n",
       "      <td>8.600000</td>\n",
       "      <td>4.00000</td>\n",
       "      <td>2.1</td>\n",
       "      <td>1.8</td>\n",
       "      <td>6.300000</td>\n",
       "      <td>41.0</td>\n",
       "      <td>4.500000</td>\n",
       "    </tr>\n",
       "    <tr>\n",
       "      <th>1</th>\n",
       "      <td>3.484537</td>\n",
       "      <td>0.400000</td>\n",
       "      <td>7.052789</td>\n",
       "      <td>2.50000</td>\n",
       "      <td>1.2</td>\n",
       "      <td>1.7</td>\n",
       "      <td>5.200000</td>\n",
       "      <td>35.0</td>\n",
       "      <td>3.300000</td>\n",
       "    </tr>\n",
       "    <tr>\n",
       "      <th>2</th>\n",
       "      <td>3.000000</td>\n",
       "      <td>2.064445</td>\n",
       "      <td>9.100000</td>\n",
       "      <td>7.10000</td>\n",
       "      <td>3.5</td>\n",
       "      <td>3.4</td>\n",
       "      <td>7.078617</td>\n",
       "      <td>55.0</td>\n",
       "      <td>5.200000</td>\n",
       "    </tr>\n",
       "    <tr>\n",
       "      <th>3</th>\n",
       "      <td>3.326760</td>\n",
       "      <td>1.500000</td>\n",
       "      <td>6.291283</td>\n",
       "      <td>4.80000</td>\n",
       "      <td>1.9</td>\n",
       "      <td>2.5</td>\n",
       "      <td>7.200000</td>\n",
       "      <td>36.0</td>\n",
       "      <td>3.994038</td>\n",
       "    </tr>\n",
       "    <tr>\n",
       "      <th>4</th>\n",
       "      <td>5.100000</td>\n",
       "      <td>1.400000</td>\n",
       "      <td>8.939721</td>\n",
       "      <td>4.80000</td>\n",
       "      <td>3.3</td>\n",
       "      <td>2.6</td>\n",
       "      <td>3.800000</td>\n",
       "      <td>49.0</td>\n",
       "      <td>4.900000</td>\n",
       "    </tr>\n",
       "    <tr>\n",
       "      <th>...</th>\n",
       "      <td>...</td>\n",
       "      <td>...</td>\n",
       "      <td>...</td>\n",
       "      <td>...</td>\n",
       "      <td>...</td>\n",
       "      <td>...</td>\n",
       "      <td>...</td>\n",
       "      <td>...</td>\n",
       "      <td>...</td>\n",
       "    </tr>\n",
       "    <tr>\n",
       "      <th>65</th>\n",
       "      <td>4.200000</td>\n",
       "      <td>2.400000</td>\n",
       "      <td>9.400000</td>\n",
       "      <td>4.90000</td>\n",
       "      <td>3.2</td>\n",
       "      <td>2.7</td>\n",
       "      <td>8.500000</td>\n",
       "      <td>49.0</td>\n",
       "      <td>5.200000</td>\n",
       "    </tr>\n",
       "    <tr>\n",
       "      <th>66</th>\n",
       "      <td>3.800000</td>\n",
       "      <td>0.800000</td>\n",
       "      <td>8.586874</td>\n",
       "      <td>5.54684</td>\n",
       "      <td>2.2</td>\n",
       "      <td>2.6</td>\n",
       "      <td>5.300000</td>\n",
       "      <td>42.0</td>\n",
       "      <td>5.100000</td>\n",
       "    </tr>\n",
       "    <tr>\n",
       "      <th>67</th>\n",
       "      <td>3.300000</td>\n",
       "      <td>2.600000</td>\n",
       "      <td>9.700000</td>\n",
       "      <td>3.30000</td>\n",
       "      <td>2.9</td>\n",
       "      <td>1.5</td>\n",
       "      <td>5.200000</td>\n",
       "      <td>47.0</td>\n",
       "      <td>5.025553</td>\n",
       "    </tr>\n",
       "    <tr>\n",
       "      <th>68</th>\n",
       "      <td>3.234377</td>\n",
       "      <td>1.900000</td>\n",
       "      <td>5.973752</td>\n",
       "      <td>4.50000</td>\n",
       "      <td>1.5</td>\n",
       "      <td>3.1</td>\n",
       "      <td>9.900000</td>\n",
       "      <td>39.0</td>\n",
       "      <td>3.300000</td>\n",
       "    </tr>\n",
       "    <tr>\n",
       "      <th>69</th>\n",
       "      <td>4.500000</td>\n",
       "      <td>1.600000</td>\n",
       "      <td>8.700000</td>\n",
       "      <td>4.60000</td>\n",
       "      <td>3.1</td>\n",
       "      <td>2.1</td>\n",
       "      <td>6.800000</td>\n",
       "      <td>56.0</td>\n",
       "      <td>5.100000</td>\n",
       "    </tr>\n",
       "  </tbody>\n",
       "</table>\n",
       "<p>70 rows × 9 columns</p>\n",
       "</div>"
      ],
      "text/plain": [
       "          V1        V2        V3       V4   V5   V6        V7    V8        V9\n",
       "0   3.300000  0.900000  8.600000  4.00000  2.1  1.8  6.300000  41.0  4.500000\n",
       "1   3.484537  0.400000  7.052789  2.50000  1.2  1.7  5.200000  35.0  3.300000\n",
       "2   3.000000  2.064445  9.100000  7.10000  3.5  3.4  7.078617  55.0  5.200000\n",
       "3   3.326760  1.500000  6.291283  4.80000  1.9  2.5  7.200000  36.0  3.994038\n",
       "4   5.100000  1.400000  8.939721  4.80000  3.3  2.6  3.800000  49.0  4.900000\n",
       "..       ...       ...       ...      ...  ...  ...       ...   ...       ...\n",
       "65  4.200000  2.400000  9.400000  4.90000  3.2  2.7  8.500000  49.0  5.200000\n",
       "66  3.800000  0.800000  8.586874  5.54684  2.2  2.6  5.300000  42.0  5.100000\n",
       "67  3.300000  2.600000  9.700000  3.30000  2.9  1.5  5.200000  47.0  5.025553\n",
       "68  3.234377  1.900000  5.973752  4.50000  1.5  3.1  9.900000  39.0  3.300000\n",
       "69  4.500000  1.600000  8.700000  4.60000  3.1  2.1  6.800000  56.0  5.100000\n",
       "\n",
       "[70 rows x 9 columns]"
      ]
     },
     "execution_count": 24,
     "metadata": {},
     "output_type": "execute_result"
    }
   ],
   "source": [
    "from sklearn.impute import KNNImputer\n",
    "\n",
    "knn = KNNImputer(\n",
    "    n_neighbors=5, add_indicator=False, weights=\"distance\"\n",
    ")  # Se sugiere configurar el parámetro n_neighbors entre 5 y 10.\n",
    "X = knn.fit_transform(df.iloc[:, 1:10])\n",
    "df_complete = pd.DataFrame(X, columns=df.iloc[:, 1:10].columns.values.tolist())\n",
    "df_complete"
   ]
  },
  {
   "cell_type": "markdown",
   "metadata": {
    "slideshow": {
     "slide_type": "slide"
    }
   },
   "source": [
    "## Outliers\n",
    "\n",
    "Los valores atípicos, o anomalías en el lenguaje de la minería de datos, son **observaciones con una combinación única de características identificables como claramente diferentes de lo que es \"normal\" en un conjunto de datos.** \n",
    "\n",
    "Todos los análisis centrados en la detección de valores atípicos se basan en establecer las normas de comparación para que las observaciones individuales puedan evaluarse y la detección de valores atípicos pueda ser objetiva y rutinaria."
   ]
  },
  {
   "cell_type": "markdown",
   "metadata": {},
   "source": [
    "### Clasificación\n",
    "\n",
    "Una manera de clasificarlos se enfoca en la **naturaleza/carácter básico de las observaciones y lo que las hace diferentes de \"normales\"**. Al comprender la fuente de su singularidad, este enfoque se centra en las características fundamentales de las observaciones y en cómo, individualmente o quizás en combinación, crean esa singularidad para la observación. "
   ]
  },
  {
   "cell_type": "markdown",
   "metadata": {
    "slideshow": {
     "slide_type": "subslide"
    }
   },
   "source": [
    "Las cuatro clases son:\n",
    "\n",
    "- **Por error procedimental:** Errores en el registro de datos o en la codificación. Deben ser eliminados o marcados como datos faltantes. \n",
    "- **Por evento extraordinario:** Eventos inesperados y transitorios que afectan la medición (p.e. desastres naturales). El investigador debe decidir si el evento extraordinario se ajusta a los objetivos de la investigacion. \n",
    "- **Por observaciones extraordinarias:** Observaciones para los que no se cuenta con una explicación. Su retención queda a juicio del investigador. \n",
    "- **Por ser combinaciones únicas:** Combinaciones de valores inusuales registrados en todas las variables. Se sugiere retenerlos. "
   ]
  },
  {
   "cell_type": "markdown",
   "metadata": {
    "slideshow": {
     "slide_type": "subslide"
    }
   },
   "source": [
    "En general, **los valores atípicos deben conservarse a menos que una prueba demostrable indique que son verdaderamente aberrantes y no representativos de ninguna observación en la población**. \n",
    "\n",
    "Si representan un elemento o segmento representativo de la población, deben conservarse para garantizar la generalización a toda la población. "
   ]
  },
  {
   "cell_type": "markdown",
   "metadata": {
    "slideshow": {
     "slide_type": "slide"
    }
   },
   "source": [
    "### Métodos de detección\n",
    "\n",
    "A continuación presentamos los métodos utilizados para detectar valores atípicos en situaciones univariadas y multivariadas. \n",
    "\n",
    "Una vez identificados, pueden examinarse para ayudar a ubicarlos en una de las cuatro clases que se acaban de describir. \n",
    "\n",
    "Finalmente, el investigador debe decidir sobre la retención o exclusión de cada valor atípico, a juzgar no solo por las características del valor atípico sino también por los objetivos del análisis."
   ]
  },
  {
   "cell_type": "markdown",
   "metadata": {
    "slideshow": {
     "slide_type": "subslide"
    }
   },
   "source": [
    "#### Detección de valores extremos univariados\n",
    "\n",
    "- Para muestras pequeñas (80 o menos observaciones), los valores atípicos generalmente se definen como casos con puntajes fuera del rango de 2.5 desviaciones estándar alrededor de la media.\n",
    "- Para muestras más grandes se extiende el rango a 4 desviaciones estándar alrededor de la media.\n",
    "\n",
    "> No se recomienda utilizar únicamente este método para descartar valores extremos. "
   ]
  },
  {
   "cell_type": "markdown",
   "metadata": {
    "slideshow": {
     "slide_type": "slide"
    }
   },
   "source": [
    "Identiquemos los outliers de la variable V1 de acuerdo a este criterio:"
   ]
  },
  {
   "cell_type": "code",
   "execution_count": 25,
   "metadata": {
    "hideCode": true,
    "hidePrompt": true,
    "slideshow": {
     "slide_type": "fragment"
    }
   },
   "outputs": [
    {
     "data": {
      "text/html": [
       "<div>\n",
       "<style scoped>\n",
       "    .dataframe tbody tr th:only-of-type {\n",
       "        vertical-align: middle;\n",
       "    }\n",
       "\n",
       "    .dataframe tbody tr th {\n",
       "        vertical-align: top;\n",
       "    }\n",
       "\n",
       "    .dataframe thead th {\n",
       "        text-align: right;\n",
       "    }\n",
       "</style>\n",
       "<table border=\"1\" class=\"dataframe\">\n",
       "  <thead>\n",
       "    <tr style=\"text-align: right;\">\n",
       "      <th></th>\n",
       "      <th>V1</th>\n",
       "      <th>V2</th>\n",
       "      <th>V3</th>\n",
       "      <th>V4</th>\n",
       "      <th>V5</th>\n",
       "      <th>V6</th>\n",
       "      <th>V7</th>\n",
       "      <th>V8</th>\n",
       "      <th>V9</th>\n",
       "    </tr>\n",
       "  </thead>\n",
       "  <tbody>\n",
       "    <tr>\n",
       "      <th>16</th>\n",
       "      <td>6.1</td>\n",
       "      <td>0.500000</td>\n",
       "      <td>9.2</td>\n",
       "      <td>4.8</td>\n",
       "      <td>3.3</td>\n",
       "      <td>2.8</td>\n",
       "      <td>7.1</td>\n",
       "      <td>60.0</td>\n",
       "      <td>5.2</td>\n",
       "    </tr>\n",
       "    <tr>\n",
       "      <th>19</th>\n",
       "      <td>6.5</td>\n",
       "      <td>1.755478</td>\n",
       "      <td>9.0</td>\n",
       "      <td>7.0</td>\n",
       "      <td>3.2</td>\n",
       "      <td>3.7</td>\n",
       "      <td>8.0</td>\n",
       "      <td>33.0</td>\n",
       "      <td>5.4</td>\n",
       "    </tr>\n",
       "  </tbody>\n",
       "</table>\n",
       "</div>"
      ],
      "text/plain": [
       "     V1        V2   V3   V4   V5   V6   V7    V8   V9\n",
       "16  6.1  0.500000  9.2  4.8  3.3  2.8  7.1  60.0  5.2\n",
       "19  6.5  1.755478  9.0  7.0  3.2  3.7  8.0  33.0  5.4"
      ]
     },
     "execution_count": 25,
     "metadata": {},
     "output_type": "execute_result"
    }
   ],
   "source": [
    "# Los datos con los que trabajamos\n",
    "data = df_complete\n",
    "\n",
    "# Visualizamos los outliers\n",
    "u = 2.5  # desviaciones estándar\n",
    "v = \"V1\"  # nombre de la variable\n",
    "data[np.abs(data[v] - data[v].mean()) > (u * data[v].std())]"
   ]
  },
  {
   "cell_type": "markdown",
   "metadata": {
    "slideshow": {
     "slide_type": "subslide"
    }
   },
   "source": [
    "Ahora removamos los outliers de nuestros datos:"
   ]
  },
  {
   "cell_type": "code",
   "execution_count": 26,
   "metadata": {
    "hideCode": true,
    "hidePrompt": true,
    "slideshow": {
     "slide_type": "fragment"
    }
   },
   "outputs": [
    {
     "data": {
      "text/html": [
       "<div>\n",
       "<style scoped>\n",
       "    .dataframe tbody tr th:only-of-type {\n",
       "        vertical-align: middle;\n",
       "    }\n",
       "\n",
       "    .dataframe tbody tr th {\n",
       "        vertical-align: top;\n",
       "    }\n",
       "\n",
       "    .dataframe thead th {\n",
       "        text-align: right;\n",
       "    }\n",
       "</style>\n",
       "<table border=\"1\" class=\"dataframe\">\n",
       "  <thead>\n",
       "    <tr style=\"text-align: right;\">\n",
       "      <th></th>\n",
       "      <th>V1</th>\n",
       "      <th>V2</th>\n",
       "      <th>V3</th>\n",
       "      <th>V4</th>\n",
       "      <th>V5</th>\n",
       "      <th>V6</th>\n",
       "      <th>V7</th>\n",
       "      <th>V8</th>\n",
       "      <th>V9</th>\n",
       "    </tr>\n",
       "  </thead>\n",
       "  <tbody>\n",
       "    <tr>\n",
       "      <th>0</th>\n",
       "      <td>3.300000</td>\n",
       "      <td>0.900000</td>\n",
       "      <td>8.600000</td>\n",
       "      <td>4.00000</td>\n",
       "      <td>2.1</td>\n",
       "      <td>1.8</td>\n",
       "      <td>6.300000</td>\n",
       "      <td>41.0</td>\n",
       "      <td>4.500000</td>\n",
       "    </tr>\n",
       "    <tr>\n",
       "      <th>1</th>\n",
       "      <td>3.484537</td>\n",
       "      <td>0.400000</td>\n",
       "      <td>7.052789</td>\n",
       "      <td>2.50000</td>\n",
       "      <td>1.2</td>\n",
       "      <td>1.7</td>\n",
       "      <td>5.200000</td>\n",
       "      <td>35.0</td>\n",
       "      <td>3.300000</td>\n",
       "    </tr>\n",
       "    <tr>\n",
       "      <th>2</th>\n",
       "      <td>3.000000</td>\n",
       "      <td>2.064445</td>\n",
       "      <td>9.100000</td>\n",
       "      <td>7.10000</td>\n",
       "      <td>3.5</td>\n",
       "      <td>3.4</td>\n",
       "      <td>7.078617</td>\n",
       "      <td>55.0</td>\n",
       "      <td>5.200000</td>\n",
       "    </tr>\n",
       "    <tr>\n",
       "      <th>3</th>\n",
       "      <td>3.326760</td>\n",
       "      <td>1.500000</td>\n",
       "      <td>6.291283</td>\n",
       "      <td>4.80000</td>\n",
       "      <td>1.9</td>\n",
       "      <td>2.5</td>\n",
       "      <td>7.200000</td>\n",
       "      <td>36.0</td>\n",
       "      <td>3.994038</td>\n",
       "    </tr>\n",
       "    <tr>\n",
       "      <th>4</th>\n",
       "      <td>5.100000</td>\n",
       "      <td>1.400000</td>\n",
       "      <td>8.939721</td>\n",
       "      <td>4.80000</td>\n",
       "      <td>3.3</td>\n",
       "      <td>2.6</td>\n",
       "      <td>3.800000</td>\n",
       "      <td>49.0</td>\n",
       "      <td>4.900000</td>\n",
       "    </tr>\n",
       "    <tr>\n",
       "      <th>...</th>\n",
       "      <td>...</td>\n",
       "      <td>...</td>\n",
       "      <td>...</td>\n",
       "      <td>...</td>\n",
       "      <td>...</td>\n",
       "      <td>...</td>\n",
       "      <td>...</td>\n",
       "      <td>...</td>\n",
       "      <td>...</td>\n",
       "    </tr>\n",
       "    <tr>\n",
       "      <th>65</th>\n",
       "      <td>4.200000</td>\n",
       "      <td>2.400000</td>\n",
       "      <td>9.400000</td>\n",
       "      <td>4.90000</td>\n",
       "      <td>3.2</td>\n",
       "      <td>2.7</td>\n",
       "      <td>8.500000</td>\n",
       "      <td>49.0</td>\n",
       "      <td>5.200000</td>\n",
       "    </tr>\n",
       "    <tr>\n",
       "      <th>66</th>\n",
       "      <td>3.800000</td>\n",
       "      <td>0.800000</td>\n",
       "      <td>8.586874</td>\n",
       "      <td>5.54684</td>\n",
       "      <td>2.2</td>\n",
       "      <td>2.6</td>\n",
       "      <td>5.300000</td>\n",
       "      <td>42.0</td>\n",
       "      <td>5.100000</td>\n",
       "    </tr>\n",
       "    <tr>\n",
       "      <th>67</th>\n",
       "      <td>3.300000</td>\n",
       "      <td>2.600000</td>\n",
       "      <td>9.700000</td>\n",
       "      <td>3.30000</td>\n",
       "      <td>2.9</td>\n",
       "      <td>1.5</td>\n",
       "      <td>5.200000</td>\n",
       "      <td>47.0</td>\n",
       "      <td>5.025553</td>\n",
       "    </tr>\n",
       "    <tr>\n",
       "      <th>68</th>\n",
       "      <td>3.234377</td>\n",
       "      <td>1.900000</td>\n",
       "      <td>5.973752</td>\n",
       "      <td>4.50000</td>\n",
       "      <td>1.5</td>\n",
       "      <td>3.1</td>\n",
       "      <td>9.900000</td>\n",
       "      <td>39.0</td>\n",
       "      <td>3.300000</td>\n",
       "    </tr>\n",
       "    <tr>\n",
       "      <th>69</th>\n",
       "      <td>4.500000</td>\n",
       "      <td>1.600000</td>\n",
       "      <td>8.700000</td>\n",
       "      <td>4.60000</td>\n",
       "      <td>3.1</td>\n",
       "      <td>2.1</td>\n",
       "      <td>6.800000</td>\n",
       "      <td>56.0</td>\n",
       "      <td>5.100000</td>\n",
       "    </tr>\n",
       "  </tbody>\n",
       "</table>\n",
       "<p>68 rows × 9 columns</p>\n",
       "</div>"
      ],
      "text/plain": [
       "          V1        V2        V3       V4   V5   V6        V7    V8        V9\n",
       "0   3.300000  0.900000  8.600000  4.00000  2.1  1.8  6.300000  41.0  4.500000\n",
       "1   3.484537  0.400000  7.052789  2.50000  1.2  1.7  5.200000  35.0  3.300000\n",
       "2   3.000000  2.064445  9.100000  7.10000  3.5  3.4  7.078617  55.0  5.200000\n",
       "3   3.326760  1.500000  6.291283  4.80000  1.9  2.5  7.200000  36.0  3.994038\n",
       "4   5.100000  1.400000  8.939721  4.80000  3.3  2.6  3.800000  49.0  4.900000\n",
       "..       ...       ...       ...      ...  ...  ...       ...   ...       ...\n",
       "65  4.200000  2.400000  9.400000  4.90000  3.2  2.7  8.500000  49.0  5.200000\n",
       "66  3.800000  0.800000  8.586874  5.54684  2.2  2.6  5.300000  42.0  5.100000\n",
       "67  3.300000  2.600000  9.700000  3.30000  2.9  1.5  5.200000  47.0  5.025553\n",
       "68  3.234377  1.900000  5.973752  4.50000  1.5  3.1  9.900000  39.0  3.300000\n",
       "69  4.500000  1.600000  8.700000  4.60000  3.1  2.1  6.800000  56.0  5.100000\n",
       "\n",
       "[68 rows x 9 columns]"
      ]
     },
     "execution_count": 26,
     "metadata": {},
     "output_type": "execute_result"
    }
   ],
   "source": [
    "# Removemos outliers\n",
    "u = 2.5  # desviaciones estándar\n",
    "v = \"V1\"  # nombre de la variable\n",
    "data[np.abs(data[v] - data[v].mean()) <= (u * data[v].std())]"
   ]
  },
  {
   "cell_type": "markdown",
   "metadata": {
    "slideshow": {
     "slide_type": "slide"
    }
   },
   "source": [
    "#### Detección de valores extremos multivariados \n",
    "\n",
    "Más adecuado para examinar un variante completo, como las variables independientes en la regresión o las variables en el análisis factorial exploratorio.\n",
    "\n",
    "**Cuando se consideran más de dos variables, el investigador necesita un medio para medir objetivamente la posición multidimensional de cada observación en relación con algún punto común.** \n",
    "\n",
    "Este problema se aborda con la distancia de Mahalanobis $D^{2}$, una evaluación multivariante de cada observación a través de un conjunto de variables. Los valores más altos de $D^{2}$ representan observaciones más alejadas de la distribución general de observaciones en este espacio multidimensional."
   ]
  },
  {
   "cell_type": "markdown",
   "metadata": {
    "slideshow": {
     "slide_type": "subslide"
    }
   },
   "source": [
    "La medida $D^{2}$ dividida por el número de variables involucradas $D^{2}/df$ se distribuye aproximadamente como un valor t.\n",
    "\n",
    "Dada la naturaleza de las pruebas estadísticas, se sugiere que se utilicen niveles conservadores de significancia (p.e. .005 o .001) como valor umbral para la designación como un valor atípico. \n",
    "\n",
    "Por lo tanto, **las observaciones que tengan un valor $D^{2}/df$ superior a 2,5 en muestras pequeñas y 3 o 4 en muestras grandes se pueden designar como posibles valores atípicos**."
   ]
  },
  {
   "cell_type": "markdown",
   "metadata": {
    "slideshow": {
     "slide_type": "subslide"
    }
   },
   "source": [
    "Apliquemos este método a nuestro ejemplo:"
   ]
  },
  {
   "cell_type": "code",
   "execution_count": 27,
   "metadata": {
    "hideCode": true,
    "hidePrompt": true,
    "slideshow": {
     "slide_type": "fragment"
    }
   },
   "outputs": [
    {
     "name": "stdout",
     "output_type": "stream",
     "text": [
      "[ 0.81499482  5.14637016  3.86987261  0.34242044  7.76833877  0.92567133\n",
      "  0.34242044  1.15808733  4.77157957  4.34038406  1.0065373   1.97504878\n",
      "  3.74162108  0.79241138  4.83796722  6.48830598  7.89297758  0.67707038\n",
      "  0.89166725 20.05696894  1.07846255  0.86747814  1.10189216  1.01448842\n",
      "  0.57319101  6.29768369  3.23011142  3.89690651  1.09996765  1.01159778\n",
      "  0.67727074 10.15881995  1.48981282  0.88134973  1.70082325  1.09891262\n",
      " 28.91209777 11.48224597  0.81463331 22.82852256  7.65304183  1.15768755\n",
      "  0.34480946  1.53491366  0.64546106  0.33025762  3.77009657  0.77838647\n",
      " 11.87433687  4.34038406  1.43423841  4.97134193  0.86601971  0.90037405\n",
      "  1.03580101  7.18673959  1.72139905  0.36917332  9.20197654  1.91570771\n",
      "  3.9209827  18.32282554  7.42142366  4.06380371  0.89870308  0.95520271\n",
      "  0.68753457  4.80634137  1.44942288  1.63869805]\n"
     ]
    }
   ],
   "source": [
    "from sklearn.covariance import MinCovDet\n",
    "\n",
    "# Los datos con los que trabajamos\n",
    "data = df_complete\n",
    "\n",
    "# Calculamos la distancia de Mahalanobis\n",
    "robust_cov = MinCovDet().fit(data)\n",
    "D2 = robust_cov.mahalanobis(data)\n",
    "\n",
    "# Calculamos la métrica D^2/df\n",
    "D2_df = D2 / data.shape[1]\n",
    "print(D2_df)"
   ]
  },
  {
   "cell_type": "markdown",
   "metadata": {
    "slideshow": {
     "slide_type": "fragment"
    }
   },
   "source": [
    "Reportamos los índices de los casos con un valor $D^{2}/df$ superior a 2.5 (recuerda que Python cuenta desde el 0):"
   ]
  },
  {
   "cell_type": "code",
   "execution_count": 28,
   "metadata": {
    "hideCode": true,
    "hidePrompt": true,
    "slideshow": {
     "slide_type": "fragment"
    }
   },
   "outputs": [
    {
     "name": "stdout",
     "output_type": "stream",
     "text": [
      "(array([ 1,  2,  4,  8,  9, 12, 14, 15, 16, 19, 25, 26, 27, 31, 36, 37, 39,\n",
      "       40, 46, 48, 49, 51, 55, 58, 60, 61, 62, 63, 67]),)\n"
     ]
    }
   ],
   "source": [
    "print(np.where(D2_df > 2.5))"
   ]
  }
 ],
 "metadata": {
  "celltoolbar": "Hide code",
  "kernelspec": {
   "display_name": "Python 3.7.13 ('stats')",
   "language": "python",
   "name": "python3"
  },
  "language_info": {
   "codemirror_mode": {
    "name": "ipython",
    "version": 3
   },
   "file_extension": ".py",
   "mimetype": "text/x-python",
   "name": "python",
   "nbconvert_exporter": "python",
   "pygments_lexer": "ipython3",
   "version": "3.7.14"
  },
  "vscode": {
   "interpreter": {
    "hash": "8df12303a5084d795bcef355ea103bbaab8787933417cf27c2f95a588cdf8ee7"
   }
  }
 },
 "nbformat": 4,
 "nbformat_minor": 2
}
